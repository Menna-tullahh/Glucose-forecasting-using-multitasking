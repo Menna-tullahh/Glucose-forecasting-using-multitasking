{
 "cells": [
  {
   "cell_type": "code",
   "execution_count": 1,
   "metadata": {},
   "outputs": [],
   "source": [
    "from src.time_series_prep import *\n",
    "import pandas as pd\n",
    "from models.generalized_model import *\n",
    "from models.helper_functions import *\n",
    "from torchviz import make_dot\n",
    "from torchsummary import summary\n",
    "from src.data_preprocessing import *\n",
    "from src.visualizations import *\n",
    "from src.global_configs import *\n",
    "from src.time_series_prep import *\n",
    "import logging\n",
    "from src.post_processing import *\n",
    "from collections import defaultdict\n",
    "\n",
    "# Initialize logger\n",
    "logging.basicConfig(\n",
    "    filename='training.log',  # File where logs will be saved\n",
    "    level=logging.INFO,  # Set logging level to INFO\n",
    "    format='%(asctime)s - %(levelname)s - %(message)s',  # Log format\n",
    "    # filemode='w'  # Overwrite log file on each run\n",
    ")\n",
    "logger = logging.getLogger()\n"
   ]
  },
  {
   "cell_type": "code",
   "execution_count": 2,
   "metadata": {},
   "outputs": [],
   "source": [
    "model_type = 'generalized'\n",
    "\n",
    "scaler = process_all_csv_files(input_folder, output_folder_train, timestamp_col='ts', freq='5min', agg_func='mean')"
   ]
  },
  {
   "cell_type": "code",
   "execution_count": 3,
   "metadata": {},
   "outputs": [],
   "source": [
    "histories_withval_PHs =  {key: [] for key in prediction_horizons}\n",
    "histories_noval_PHs = {key: [] for key in prediction_horizons}\n",
    "abs_patients_errors_PHs =  {key: [] for key in prediction_horizons}\n",
    "squared_patients_errors_PHs =  {key: [] for key in prediction_horizons}\n",
    "\n",
    "MAE_Patients_PHs =  {key: [] for key in prediction_horizons}\n",
    "RMSE_Patients_PHs =  {key: [] for key in prediction_horizons}\n"
   ]
  },
  {
   "cell_type": "code",
   "execution_count": 4,
   "metadata": {},
   "outputs": [
    {
     "name": "stderr",
     "output_type": "stream",
     "text": [
      "Epoch 1/150: 100%|██████████| 213/213 [00:09<00:00, 22.88batch/s, mae_loss=0.694]\n"
     ]
    },
    {
     "name": "stdout",
     "output_type": "stream",
     "text": [
      "Epoch [1/150], Training MAE: 0.6946, Training RMSE: 0.9209\n",
      "Epoch [1/150], Validation MAE: 0.5667, Validation RMSE: 0.8246\n"
     ]
    },
    {
     "name": "stderr",
     "output_type": "stream",
     "text": [
      "Epoch 2/150: 100%|██████████| 213/213 [00:07<00:00, 26.75batch/s, mae_loss=0.667]\n"
     ]
    },
    {
     "name": "stdout",
     "output_type": "stream",
     "text": [
      "Epoch [2/150], Training MAE: 0.6872, Training RMSE: 0.9143\n",
      "Epoch [2/150], Validation MAE: 0.5629, Validation RMSE: 0.8211\n"
     ]
    },
    {
     "name": "stderr",
     "output_type": "stream",
     "text": [
      "Epoch 3/150: 100%|██████████| 213/213 [00:06<00:00, 31.23batch/s, mae_loss=0.634]\n"
     ]
    },
    {
     "name": "stdout",
     "output_type": "stream",
     "text": [
      "Epoch [3/150], Training MAE: 0.6840, Training RMSE: 0.9095\n",
      "Epoch [3/150], Validation MAE: 0.5606, Validation RMSE: 0.8169\n"
     ]
    },
    {
     "name": "stderr",
     "output_type": "stream",
     "text": [
      "Epoch 4/150: 100%|██████████| 213/213 [00:08<00:00, 24.87batch/s, mae_loss=0.669]\n"
     ]
    },
    {
     "name": "stdout",
     "output_type": "stream",
     "text": [
      "Epoch [4/150], Training MAE: 0.6815, Training RMSE: 0.9055\n",
      "Epoch [4/150], Validation MAE: 0.5583, Validation RMSE: 0.8131\n"
     ]
    },
    {
     "name": "stderr",
     "output_type": "stream",
     "text": [
      "Epoch 5/150: 100%|██████████| 213/213 [00:08<00:00, 25.50batch/s, mae_loss=0.666]\n"
     ]
    },
    {
     "name": "stdout",
     "output_type": "stream",
     "text": [
      "Epoch [5/150], Training MAE: 0.6792, Training RMSE: 0.9015\n",
      "Epoch [5/150], Validation MAE: 0.5569, Validation RMSE: 0.8103\n"
     ]
    },
    {
     "name": "stderr",
     "output_type": "stream",
     "text": [
      "Epoch 6/150: 100%|██████████| 213/213 [00:07<00:00, 29.72batch/s, mae_loss=0.645]\n"
     ]
    },
    {
     "name": "stdout",
     "output_type": "stream",
     "text": [
      "Epoch [6/150], Training MAE: 0.6771, Training RMSE: 0.8981\n",
      "Epoch [6/150], Validation MAE: 0.5553, Validation RMSE: 0.8079\n"
     ]
    },
    {
     "name": "stderr",
     "output_type": "stream",
     "text": [
      "Epoch 7/150: 100%|██████████| 213/213 [00:10<00:00, 20.41batch/s, mae_loss=0.601]\n"
     ]
    },
    {
     "name": "stdout",
     "output_type": "stream",
     "text": [
      "Epoch [7/150], Training MAE: 0.6751, Training RMSE: 0.8948\n",
      "Epoch [7/150], Validation MAE: 0.5533, Validation RMSE: 0.8045\n"
     ]
    },
    {
     "name": "stderr",
     "output_type": "stream",
     "text": [
      "Epoch 8/150: 100%|██████████| 213/213 [00:06<00:00, 32.66batch/s, mae_loss=0.695]\n"
     ]
    },
    {
     "name": "stdout",
     "output_type": "stream",
     "text": [
      "Epoch [8/150], Training MAE: 0.6728, Training RMSE: 0.8915\n",
      "Epoch [8/150], Validation MAE: 0.5513, Validation RMSE: 0.8011\n"
     ]
    },
    {
     "name": "stderr",
     "output_type": "stream",
     "text": [
      "Epoch 9/150: 100%|██████████| 213/213 [00:06<00:00, 31.58batch/s, mae_loss=0.672]\n"
     ]
    },
    {
     "name": "stdout",
     "output_type": "stream",
     "text": [
      "Epoch [9/150], Training MAE: 0.6696, Training RMSE: 0.8870\n",
      "Epoch [9/150], Validation MAE: 0.5485, Validation RMSE: 0.7968\n"
     ]
    },
    {
     "name": "stderr",
     "output_type": "stream",
     "text": [
      "Epoch 10/150: 100%|██████████| 213/213 [00:07<00:00, 27.35batch/s, mae_loss=0.62] \n"
     ]
    },
    {
     "name": "stdout",
     "output_type": "stream",
     "text": [
      "Epoch [10/150], Training MAE: 0.6651, Training RMSE: 0.8813\n",
      "Epoch [10/150], Validation MAE: 0.5444, Validation RMSE: 0.7911\n"
     ]
    },
    {
     "name": "stderr",
     "output_type": "stream",
     "text": [
      "Epoch 11/150: 100%|██████████| 213/213 [00:06<00:00, 33.47batch/s, mae_loss=0.688]\n"
     ]
    },
    {
     "name": "stdout",
     "output_type": "stream",
     "text": [
      "Epoch [11/150], Training MAE: 0.6608, Training RMSE: 0.8760\n",
      "Epoch [11/150], Validation MAE: 0.5402, Validation RMSE: 0.7853\n"
     ]
    },
    {
     "name": "stderr",
     "output_type": "stream",
     "text": [
      "Epoch 12/150: 100%|██████████| 213/213 [00:06<00:00, 32.10batch/s, mae_loss=0.618]\n"
     ]
    },
    {
     "name": "stdout",
     "output_type": "stream",
     "text": [
      "Epoch [12/150], Training MAE: 0.6556, Training RMSE: 0.8694\n",
      "Epoch [12/150], Validation MAE: 0.5363, Validation RMSE: 0.7802\n"
     ]
    },
    {
     "name": "stderr",
     "output_type": "stream",
     "text": [
      "Epoch 13/150: 100%|██████████| 213/213 [00:06<00:00, 33.15batch/s, mae_loss=0.66] \n"
     ]
    },
    {
     "name": "stdout",
     "output_type": "stream",
     "text": [
      "Epoch [13/150], Training MAE: 0.6505, Training RMSE: 0.8640\n",
      "Epoch [13/150], Validation MAE: 0.5303, Validation RMSE: 0.7735\n"
     ]
    },
    {
     "name": "stderr",
     "output_type": "stream",
     "text": [
      "Epoch 14/150: 100%|██████████| 213/213 [00:06<00:00, 32.50batch/s, mae_loss=0.616]\n"
     ]
    },
    {
     "name": "stdout",
     "output_type": "stream",
     "text": [
      "Epoch [14/150], Training MAE: 0.6444, Training RMSE: 0.8571\n",
      "Epoch [14/150], Validation MAE: 0.5256, Validation RMSE: 0.7666\n"
     ]
    },
    {
     "name": "stderr",
     "output_type": "stream",
     "text": [
      "Epoch 15/150: 100%|██████████| 213/213 [00:07<00:00, 29.08batch/s, mae_loss=0.649]\n"
     ]
    },
    {
     "name": "stdout",
     "output_type": "stream",
     "text": [
      "Epoch [15/150], Training MAE: 0.6383, Training RMSE: 0.8497\n",
      "Epoch [15/150], Validation MAE: 0.5195, Validation RMSE: 0.7593\n"
     ]
    },
    {
     "name": "stderr",
     "output_type": "stream",
     "text": [
      "Epoch 16/150: 100%|██████████| 213/213 [00:06<00:00, 33.80batch/s, mae_loss=0.575]\n"
     ]
    },
    {
     "name": "stdout",
     "output_type": "stream",
     "text": [
      "Epoch [16/150], Training MAE: 0.6316, Training RMSE: 0.8420\n",
      "Epoch [16/150], Validation MAE: 0.5133, Validation RMSE: 0.7518\n"
     ]
    },
    {
     "name": "stderr",
     "output_type": "stream",
     "text": [
      "Epoch 17/150: 100%|██████████| 213/213 [00:06<00:00, 33.68batch/s, mae_loss=0.609]\n"
     ]
    },
    {
     "name": "stdout",
     "output_type": "stream",
     "text": [
      "Epoch [17/150], Training MAE: 0.6263, Training RMSE: 0.8357\n",
      "Epoch [17/150], Validation MAE: 0.5077, Validation RMSE: 0.7442\n"
     ]
    },
    {
     "name": "stderr",
     "output_type": "stream",
     "text": [
      "Epoch 18/150: 100%|██████████| 213/213 [00:06<00:00, 33.67batch/s, mae_loss=0.576]\n"
     ]
    },
    {
     "name": "stdout",
     "output_type": "stream",
     "text": [
      "Epoch [18/150], Training MAE: 0.6204, Training RMSE: 0.8284\n",
      "Epoch [18/150], Validation MAE: 0.5011, Validation RMSE: 0.7363\n"
     ]
    },
    {
     "name": "stderr",
     "output_type": "stream",
     "text": [
      "Epoch 19/150: 100%|██████████| 213/213 [00:08<00:00, 23.94batch/s, mae_loss=0.588]\n"
     ]
    },
    {
     "name": "stdout",
     "output_type": "stream",
     "text": [
      "Epoch [19/150], Training MAE: 0.6155, Training RMSE: 0.8226\n",
      "Epoch [19/150], Validation MAE: 0.4958, Validation RMSE: 0.7289\n"
     ]
    },
    {
     "name": "stderr",
     "output_type": "stream",
     "text": [
      "Epoch 20/150: 100%|██████████| 213/213 [00:09<00:00, 23.12batch/s, mae_loss=0.583]\n"
     ]
    },
    {
     "name": "stdout",
     "output_type": "stream",
     "text": [
      "Epoch [20/150], Training MAE: 0.6105, Training RMSE: 0.8163\n",
      "Epoch [20/150], Validation MAE: 0.4906, Validation RMSE: 0.7215\n"
     ]
    },
    {
     "name": "stderr",
     "output_type": "stream",
     "text": [
      "Epoch 21/150: 100%|██████████| 213/213 [00:07<00:00, 28.21batch/s, mae_loss=0.631]\n"
     ]
    },
    {
     "name": "stdout",
     "output_type": "stream",
     "text": [
      "Epoch [21/150], Training MAE: 0.6052, Training RMSE: 0.8103\n",
      "Epoch [21/150], Validation MAE: 0.4863, Validation RMSE: 0.7153\n"
     ]
    },
    {
     "name": "stderr",
     "output_type": "stream",
     "text": [
      "Epoch 22/150: 100%|██████████| 213/213 [00:08<00:00, 25.70batch/s, mae_loss=0.585]\n"
     ]
    },
    {
     "name": "stdout",
     "output_type": "stream",
     "text": [
      "Epoch [22/150], Training MAE: 0.6018, Training RMSE: 0.8051\n",
      "Epoch [22/150], Validation MAE: 0.4826, Validation RMSE: 0.7098\n"
     ]
    },
    {
     "name": "stderr",
     "output_type": "stream",
     "text": [
      "Epoch 23/150: 100%|██████████| 213/213 [00:08<00:00, 24.71batch/s, mae_loss=0.615]\n"
     ]
    },
    {
     "name": "stdout",
     "output_type": "stream",
     "text": [
      "Epoch [23/150], Training MAE: 0.5963, Training RMSE: 0.7990\n",
      "Epoch [23/150], Validation MAE: 0.4778, Validation RMSE: 0.7029\n"
     ]
    },
    {
     "name": "stderr",
     "output_type": "stream",
     "text": [
      "Epoch 24/150: 100%|██████████| 213/213 [00:08<00:00, 26.31batch/s, mae_loss=0.616]\n"
     ]
    },
    {
     "name": "stdout",
     "output_type": "stream",
     "text": [
      "Epoch [24/150], Training MAE: 0.5933, Training RMSE: 0.7944\n",
      "Epoch [24/150], Validation MAE: 0.4730, Validation RMSE: 0.6969\n"
     ]
    },
    {
     "name": "stderr",
     "output_type": "stream",
     "text": [
      "Epoch 25/150: 100%|██████████| 213/213 [00:09<00:00, 22.37batch/s, mae_loss=0.625]\n"
     ]
    },
    {
     "name": "stdout",
     "output_type": "stream",
     "text": [
      "Epoch [25/150], Training MAE: 0.5890, Training RMSE: 0.7894\n",
      "Epoch [25/150], Validation MAE: 0.4694, Validation RMSE: 0.6916\n"
     ]
    },
    {
     "name": "stderr",
     "output_type": "stream",
     "text": [
      "Epoch 26/150: 100%|██████████| 213/213 [00:08<00:00, 25.74batch/s, mae_loss=0.554]\n"
     ]
    },
    {
     "name": "stdout",
     "output_type": "stream",
     "text": [
      "Epoch [26/150], Training MAE: 0.5846, Training RMSE: 0.7833\n",
      "Epoch [26/150], Validation MAE: 0.4651, Validation RMSE: 0.6855\n"
     ]
    },
    {
     "name": "stderr",
     "output_type": "stream",
     "text": [
      "Epoch 27/150: 100%|██████████| 213/213 [00:08<00:00, 23.89batch/s, mae_loss=0.577]\n"
     ]
    },
    {
     "name": "stdout",
     "output_type": "stream",
     "text": [
      "Epoch [27/150], Training MAE: 0.5809, Training RMSE: 0.7782\n",
      "Epoch [27/150], Validation MAE: 0.4617, Validation RMSE: 0.6810\n"
     ]
    },
    {
     "name": "stderr",
     "output_type": "stream",
     "text": [
      "Epoch 28/150: 100%|██████████| 213/213 [00:08<00:00, 26.04batch/s, mae_loss=0.583]\n"
     ]
    },
    {
     "name": "stdout",
     "output_type": "stream",
     "text": [
      "Epoch [28/150], Training MAE: 0.5759, Training RMSE: 0.7721\n",
      "Epoch [28/150], Validation MAE: 0.4579, Validation RMSE: 0.6749\n"
     ]
    },
    {
     "name": "stderr",
     "output_type": "stream",
     "text": [
      "Epoch 29/150: 100%|██████████| 213/213 [00:06<00:00, 32.34batch/s, mae_loss=0.586]\n"
     ]
    },
    {
     "name": "stdout",
     "output_type": "stream",
     "text": [
      "Epoch [29/150], Training MAE: 0.5731, Training RMSE: 0.7679\n",
      "Epoch [29/150], Validation MAE: 0.4552, Validation RMSE: 0.6708\n"
     ]
    },
    {
     "name": "stderr",
     "output_type": "stream",
     "text": [
      "Epoch 30/150: 100%|██████████| 213/213 [00:08<00:00, 24.13batch/s, mae_loss=0.632]\n"
     ]
    },
    {
     "name": "stdout",
     "output_type": "stream",
     "text": [
      "Epoch [30/150], Training MAE: 0.5678, Training RMSE: 0.7619\n",
      "Epoch [30/150], Validation MAE: 0.4511, Validation RMSE: 0.6656\n"
     ]
    },
    {
     "name": "stderr",
     "output_type": "stream",
     "text": [
      "Epoch 31/150: 100%|██████████| 213/213 [00:09<00:00, 23.16batch/s, mae_loss=0.602]\n"
     ]
    },
    {
     "name": "stdout",
     "output_type": "stream",
     "text": [
      "Epoch [31/150], Training MAE: 0.5645, Training RMSE: 0.7569\n",
      "Epoch [31/150], Validation MAE: 0.4473, Validation RMSE: 0.6605\n"
     ]
    },
    {
     "name": "stderr",
     "output_type": "stream",
     "text": [
      "Epoch 32/150: 100%|██████████| 213/213 [00:08<00:00, 26.53batch/s, mae_loss=0.554]\n"
     ]
    },
    {
     "name": "stdout",
     "output_type": "stream",
     "text": [
      "Epoch [32/150], Training MAE: 0.5610, Training RMSE: 0.7526\n",
      "Epoch [32/150], Validation MAE: 0.4447, Validation RMSE: 0.6565\n"
     ]
    },
    {
     "name": "stderr",
     "output_type": "stream",
     "text": [
      "Epoch 33/150: 100%|██████████| 213/213 [00:08<00:00, 25.54batch/s, mae_loss=0.565]\n"
     ]
    },
    {
     "name": "stdout",
     "output_type": "stream",
     "text": [
      "Epoch [33/150], Training MAE: 0.5573, Training RMSE: 0.7479\n",
      "Epoch [33/150], Validation MAE: 0.4419, Validation RMSE: 0.6518\n"
     ]
    },
    {
     "name": "stderr",
     "output_type": "stream",
     "text": [
      "Epoch 34/150: 100%|██████████| 213/213 [00:09<00:00, 23.04batch/s, mae_loss=0.539]\n"
     ]
    },
    {
     "name": "stdout",
     "output_type": "stream",
     "text": [
      "Epoch [34/150], Training MAE: 0.5528, Training RMSE: 0.7415\n",
      "Epoch [34/150], Validation MAE: 0.4386, Validation RMSE: 0.6466\n"
     ]
    },
    {
     "name": "stderr",
     "output_type": "stream",
     "text": [
      "Epoch 35/150: 100%|██████████| 213/213 [00:08<00:00, 23.80batch/s, mae_loss=0.53] \n"
     ]
    },
    {
     "name": "stdout",
     "output_type": "stream",
     "text": [
      "Epoch [35/150], Training MAE: 0.5503, Training RMSE: 0.7388\n",
      "Epoch [35/150], Validation MAE: 0.4357, Validation RMSE: 0.6425\n"
     ]
    },
    {
     "name": "stderr",
     "output_type": "stream",
     "text": [
      "Epoch 36/150: 100%|██████████| 213/213 [00:07<00:00, 26.90batch/s, mae_loss=0.488]\n"
     ]
    },
    {
     "name": "stdout",
     "output_type": "stream",
     "text": [
      "Epoch [36/150], Training MAE: 0.5469, Training RMSE: 0.7342\n",
      "Epoch [36/150], Validation MAE: 0.4322, Validation RMSE: 0.6382\n"
     ]
    },
    {
     "name": "stderr",
     "output_type": "stream",
     "text": [
      "Epoch 37/150: 100%|██████████| 213/213 [00:09<00:00, 22.78batch/s, mae_loss=0.566]\n"
     ]
    },
    {
     "name": "stdout",
     "output_type": "stream",
     "text": [
      "Epoch [37/150], Training MAE: 0.5422, Training RMSE: 0.7285\n",
      "Epoch [37/150], Validation MAE: 0.4301, Validation RMSE: 0.6341\n"
     ]
    },
    {
     "name": "stderr",
     "output_type": "stream",
     "text": [
      "Epoch 38/150: 100%|██████████| 213/213 [00:07<00:00, 28.96batch/s, mae_loss=0.516]\n"
     ]
    },
    {
     "name": "stdout",
     "output_type": "stream",
     "text": [
      "Epoch [38/150], Training MAE: 0.5398, Training RMSE: 0.7249\n",
      "Epoch [38/150], Validation MAE: 0.4266, Validation RMSE: 0.6295\n"
     ]
    },
    {
     "name": "stderr",
     "output_type": "stream",
     "text": [
      "Epoch 39/150: 100%|██████████| 213/213 [00:07<00:00, 26.73batch/s, mae_loss=0.51] \n"
     ]
    },
    {
     "name": "stdout",
     "output_type": "stream",
     "text": [
      "Epoch [39/150], Training MAE: 0.5370, Training RMSE: 0.7214\n",
      "Epoch [39/150], Validation MAE: 0.4240, Validation RMSE: 0.6253\n"
     ]
    },
    {
     "name": "stderr",
     "output_type": "stream",
     "text": [
      "Epoch 40/150: 100%|██████████| 213/213 [00:07<00:00, 27.58batch/s, mae_loss=0.558]\n"
     ]
    },
    {
     "name": "stdout",
     "output_type": "stream",
     "text": [
      "Epoch [40/150], Training MAE: 0.5339, Training RMSE: 0.7176\n",
      "Epoch [40/150], Validation MAE: 0.4215, Validation RMSE: 0.6215\n"
     ]
    },
    {
     "name": "stderr",
     "output_type": "stream",
     "text": [
      "Epoch 41/150: 100%|██████████| 213/213 [00:08<00:00, 26.62batch/s, mae_loss=0.558]\n"
     ]
    },
    {
     "name": "stdout",
     "output_type": "stream",
     "text": [
      "Epoch [41/150], Training MAE: 0.5303, Training RMSE: 0.7138\n",
      "Epoch [41/150], Validation MAE: 0.4183, Validation RMSE: 0.6171\n"
     ]
    },
    {
     "name": "stderr",
     "output_type": "stream",
     "text": [
      "Epoch 42/150: 100%|██████████| 213/213 [00:08<00:00, 25.29batch/s, mae_loss=0.54] \n"
     ]
    },
    {
     "name": "stdout",
     "output_type": "stream",
     "text": [
      "Epoch [42/150], Training MAE: 0.5276, Training RMSE: 0.7100\n",
      "Epoch [42/150], Validation MAE: 0.4167, Validation RMSE: 0.6140\n"
     ]
    },
    {
     "name": "stderr",
     "output_type": "stream",
     "text": [
      "Epoch 43/150: 100%|██████████| 213/213 [00:08<00:00, 24.74batch/s, mae_loss=0.563]\n"
     ]
    },
    {
     "name": "stdout",
     "output_type": "stream",
     "text": [
      "Epoch [43/150], Training MAE: 0.5246, Training RMSE: 0.7059\n",
      "Epoch [43/150], Validation MAE: 0.4130, Validation RMSE: 0.6108\n"
     ]
    },
    {
     "name": "stderr",
     "output_type": "stream",
     "text": [
      "Epoch 44/150: 100%|██████████| 213/213 [00:08<00:00, 25.49batch/s, mae_loss=0.507]\n"
     ]
    },
    {
     "name": "stdout",
     "output_type": "stream",
     "text": [
      "Epoch [44/150], Training MAE: 0.5224, Training RMSE: 0.7038\n",
      "Epoch [44/150], Validation MAE: 0.4109, Validation RMSE: 0.6072\n"
     ]
    },
    {
     "name": "stderr",
     "output_type": "stream",
     "text": [
      "Epoch 45/150: 100%|██████████| 213/213 [00:07<00:00, 30.11batch/s, mae_loss=0.53] \n"
     ]
    },
    {
     "name": "stdout",
     "output_type": "stream",
     "text": [
      "Epoch [45/150], Training MAE: 0.5195, Training RMSE: 0.6997\n",
      "Epoch [45/150], Validation MAE: 0.4088, Validation RMSE: 0.6042\n"
     ]
    },
    {
     "name": "stderr",
     "output_type": "stream",
     "text": [
      "Epoch 46/150: 100%|██████████| 213/213 [00:08<00:00, 25.79batch/s, mae_loss=0.569]\n"
     ]
    },
    {
     "name": "stdout",
     "output_type": "stream",
     "text": [
      "Epoch [46/150], Training MAE: 0.5167, Training RMSE: 0.6969\n",
      "Epoch [46/150], Validation MAE: 0.4067, Validation RMSE: 0.6016\n"
     ]
    },
    {
     "name": "stderr",
     "output_type": "stream",
     "text": [
      "Epoch 47/150: 100%|██████████| 213/213 [00:08<00:00, 26.23batch/s, mae_loss=0.505]\n"
     ]
    },
    {
     "name": "stdout",
     "output_type": "stream",
     "text": [
      "Epoch [47/150], Training MAE: 0.5145, Training RMSE: 0.6937\n",
      "Epoch [47/150], Validation MAE: 0.4040, Validation RMSE: 0.5979\n"
     ]
    },
    {
     "name": "stderr",
     "output_type": "stream",
     "text": [
      "Epoch 48/150: 100%|██████████| 213/213 [00:07<00:00, 30.10batch/s, mae_loss=0.522]\n"
     ]
    },
    {
     "name": "stdout",
     "output_type": "stream",
     "text": [
      "Epoch [48/150], Training MAE: 0.5128, Training RMSE: 0.6910\n",
      "Epoch [48/150], Validation MAE: 0.4019, Validation RMSE: 0.5957\n"
     ]
    },
    {
     "name": "stderr",
     "output_type": "stream",
     "text": [
      "Epoch 49/150: 100%|██████████| 213/213 [00:08<00:00, 24.64batch/s, mae_loss=0.503]\n"
     ]
    },
    {
     "name": "stdout",
     "output_type": "stream",
     "text": [
      "Epoch [49/150], Training MAE: 0.5105, Training RMSE: 0.6883\n",
      "Epoch [49/150], Validation MAE: 0.4000, Validation RMSE: 0.5939\n"
     ]
    },
    {
     "name": "stderr",
     "output_type": "stream",
     "text": [
      "Epoch 50/150: 100%|██████████| 213/213 [00:07<00:00, 26.68batch/s, mae_loss=0.483]\n"
     ]
    },
    {
     "name": "stdout",
     "output_type": "stream",
     "text": [
      "Epoch [50/150], Training MAE: 0.5088, Training RMSE: 0.6863\n",
      "Epoch [50/150], Validation MAE: 0.3985, Validation RMSE: 0.5912\n"
     ]
    },
    {
     "name": "stderr",
     "output_type": "stream",
     "text": [
      "Epoch 51/150: 100%|██████████| 213/213 [00:07<00:00, 26.75batch/s, mae_loss=0.506]\n"
     ]
    },
    {
     "name": "stdout",
     "output_type": "stream",
     "text": [
      "Epoch [51/150], Training MAE: 0.5065, Training RMSE: 0.6840\n",
      "Epoch [51/150], Validation MAE: 0.3965, Validation RMSE: 0.5887\n"
     ]
    },
    {
     "name": "stderr",
     "output_type": "stream",
     "text": [
      "Epoch 52/150: 100%|██████████| 213/213 [00:06<00:00, 32.71batch/s, mae_loss=0.502]\n"
     ]
    },
    {
     "name": "stdout",
     "output_type": "stream",
     "text": [
      "Epoch [52/150], Training MAE: 0.5044, Training RMSE: 0.6809\n",
      "Epoch [52/150], Validation MAE: 0.3946, Validation RMSE: 0.5857\n"
     ]
    },
    {
     "name": "stderr",
     "output_type": "stream",
     "text": [
      "Epoch 53/150: 100%|██████████| 213/213 [00:06<00:00, 31.54batch/s, mae_loss=0.52] \n"
     ]
    },
    {
     "name": "stdout",
     "output_type": "stream",
     "text": [
      "Epoch [53/150], Training MAE: 0.5018, Training RMSE: 0.6779\n",
      "Epoch [53/150], Validation MAE: 0.3934, Validation RMSE: 0.5842\n"
     ]
    },
    {
     "name": "stderr",
     "output_type": "stream",
     "text": [
      "Epoch 54/150: 100%|██████████| 213/213 [00:06<00:00, 31.78batch/s, mae_loss=0.497]\n"
     ]
    },
    {
     "name": "stdout",
     "output_type": "stream",
     "text": [
      "Epoch [54/150], Training MAE: 0.5016, Training RMSE: 0.6774\n",
      "Epoch [54/150], Validation MAE: 0.3920, Validation RMSE: 0.5816\n"
     ]
    },
    {
     "name": "stderr",
     "output_type": "stream",
     "text": [
      "Epoch 55/150: 100%|██████████| 213/213 [00:06<00:00, 31.00batch/s, mae_loss=0.515]\n"
     ]
    },
    {
     "name": "stdout",
     "output_type": "stream",
     "text": [
      "Epoch [55/150], Training MAE: 0.4983, Training RMSE: 0.6736\n",
      "Epoch [55/150], Validation MAE: 0.3898, Validation RMSE: 0.5794\n"
     ]
    },
    {
     "name": "stderr",
     "output_type": "stream",
     "text": [
      "Epoch 56/150: 100%|██████████| 213/213 [00:06<00:00, 31.07batch/s, mae_loss=0.507]\n"
     ]
    },
    {
     "name": "stdout",
     "output_type": "stream",
     "text": [
      "Epoch [56/150], Training MAE: 0.4965, Training RMSE: 0.6713\n",
      "Epoch [56/150], Validation MAE: 0.3881, Validation RMSE: 0.5774\n"
     ]
    },
    {
     "name": "stderr",
     "output_type": "stream",
     "text": [
      "Epoch 57/150: 100%|██████████| 213/213 [00:08<00:00, 24.98batch/s, mae_loss=0.498]\n"
     ]
    },
    {
     "name": "stdout",
     "output_type": "stream",
     "text": [
      "Epoch [57/150], Training MAE: 0.4941, Training RMSE: 0.6691\n",
      "Epoch [57/150], Validation MAE: 0.3865, Validation RMSE: 0.5749\n"
     ]
    },
    {
     "name": "stderr",
     "output_type": "stream",
     "text": [
      "Epoch 58/150: 100%|██████████| 213/213 [00:08<00:00, 26.43batch/s, mae_loss=0.493]\n"
     ]
    },
    {
     "name": "stdout",
     "output_type": "stream",
     "text": [
      "Epoch [58/150], Training MAE: 0.4922, Training RMSE: 0.6666\n",
      "Epoch [58/150], Validation MAE: 0.3843, Validation RMSE: 0.5718\n"
     ]
    },
    {
     "name": "stderr",
     "output_type": "stream",
     "text": [
      "Epoch 59/150: 100%|██████████| 213/213 [00:07<00:00, 29.34batch/s, mae_loss=0.397]\n"
     ]
    },
    {
     "name": "stdout",
     "output_type": "stream",
     "text": [
      "Epoch [59/150], Training MAE: 0.4911, Training RMSE: 0.6652\n",
      "Epoch [59/150], Validation MAE: 0.3829, Validation RMSE: 0.5701\n"
     ]
    },
    {
     "name": "stderr",
     "output_type": "stream",
     "text": [
      "Epoch 60/150: 100%|██████████| 213/213 [00:08<00:00, 24.93batch/s, mae_loss=0.465]\n"
     ]
    },
    {
     "name": "stdout",
     "output_type": "stream",
     "text": [
      "Epoch [60/150], Training MAE: 0.4891, Training RMSE: 0.6620\n",
      "Epoch [60/150], Validation MAE: 0.3815, Validation RMSE: 0.5677\n"
     ]
    },
    {
     "name": "stderr",
     "output_type": "stream",
     "text": [
      "Epoch 61/150: 100%|██████████| 213/213 [00:07<00:00, 27.48batch/s, mae_loss=0.487]\n"
     ]
    },
    {
     "name": "stdout",
     "output_type": "stream",
     "text": [
      "Epoch [61/150], Training MAE: 0.4878, Training RMSE: 0.6606\n",
      "Epoch [61/150], Validation MAE: 0.3794, Validation RMSE: 0.5658\n"
     ]
    },
    {
     "name": "stderr",
     "output_type": "stream",
     "text": [
      "Epoch 62/150: 100%|██████████| 213/213 [00:08<00:00, 26.37batch/s, mae_loss=0.471]\n"
     ]
    },
    {
     "name": "stdout",
     "output_type": "stream",
     "text": [
      "Epoch [62/150], Training MAE: 0.4855, Training RMSE: 0.6581\n",
      "Epoch [62/150], Validation MAE: 0.3780, Validation RMSE: 0.5629\n"
     ]
    },
    {
     "name": "stderr",
     "output_type": "stream",
     "text": [
      "Epoch 63/150: 100%|██████████| 213/213 [00:07<00:00, 30.36batch/s, mae_loss=0.462]\n"
     ]
    },
    {
     "name": "stdout",
     "output_type": "stream",
     "text": [
      "Epoch [63/150], Training MAE: 0.4838, Training RMSE: 0.6555\n",
      "Epoch [63/150], Validation MAE: 0.3759, Validation RMSE: 0.5606\n"
     ]
    },
    {
     "name": "stderr",
     "output_type": "stream",
     "text": [
      "Epoch 64/150: 100%|██████████| 213/213 [00:06<00:00, 32.92batch/s, mae_loss=0.512]\n"
     ]
    },
    {
     "name": "stdout",
     "output_type": "stream",
     "text": [
      "Epoch [64/150], Training MAE: 0.4817, Training RMSE: 0.6535\n",
      "Epoch [64/150], Validation MAE: 0.3743, Validation RMSE: 0.5585\n"
     ]
    },
    {
     "name": "stderr",
     "output_type": "stream",
     "text": [
      "Epoch 65/150: 100%|██████████| 213/213 [00:06<00:00, 33.46batch/s, mae_loss=0.494]\n"
     ]
    },
    {
     "name": "stdout",
     "output_type": "stream",
     "text": [
      "Epoch [65/150], Training MAE: 0.4801, Training RMSE: 0.6513\n",
      "Epoch [65/150], Validation MAE: 0.3727, Validation RMSE: 0.5557\n"
     ]
    },
    {
     "name": "stderr",
     "output_type": "stream",
     "text": [
      "Epoch 66/150: 100%|██████████| 213/213 [00:06<00:00, 33.57batch/s, mae_loss=0.496]\n"
     ]
    },
    {
     "name": "stdout",
     "output_type": "stream",
     "text": [
      "Epoch [66/150], Training MAE: 0.4779, Training RMSE: 0.6483\n",
      "Epoch [66/150], Validation MAE: 0.3716, Validation RMSE: 0.5535\n"
     ]
    },
    {
     "name": "stderr",
     "output_type": "stream",
     "text": [
      "Epoch 67/150: 100%|██████████| 213/213 [00:07<00:00, 29.78batch/s, mae_loss=0.44] \n"
     ]
    },
    {
     "name": "stdout",
     "output_type": "stream",
     "text": [
      "Epoch [67/150], Training MAE: 0.4760, Training RMSE: 0.6462\n",
      "Epoch [67/150], Validation MAE: 0.3696, Validation RMSE: 0.5507\n"
     ]
    },
    {
     "name": "stderr",
     "output_type": "stream",
     "text": [
      "Epoch 68/150: 100%|██████████| 213/213 [00:06<00:00, 33.99batch/s, mae_loss=0.484]\n"
     ]
    },
    {
     "name": "stdout",
     "output_type": "stream",
     "text": [
      "Epoch [68/150], Training MAE: 0.4746, Training RMSE: 0.6436\n",
      "Epoch [68/150], Validation MAE: 0.3682, Validation RMSE: 0.5485\n"
     ]
    },
    {
     "name": "stderr",
     "output_type": "stream",
     "text": [
      "Epoch 69/150: 100%|██████████| 213/213 [00:07<00:00, 29.91batch/s, mae_loss=0.442]\n"
     ]
    },
    {
     "name": "stdout",
     "output_type": "stream",
     "text": [
      "Epoch [69/150], Training MAE: 0.4716, Training RMSE: 0.6404\n",
      "Epoch [69/150], Validation MAE: 0.3654, Validation RMSE: 0.5452\n"
     ]
    },
    {
     "name": "stderr",
     "output_type": "stream",
     "text": [
      "Epoch 70/150: 100%|██████████| 213/213 [00:09<00:00, 23.27batch/s, mae_loss=0.514]\n"
     ]
    },
    {
     "name": "stdout",
     "output_type": "stream",
     "text": [
      "Epoch [70/150], Training MAE: 0.4701, Training RMSE: 0.6379\n",
      "Epoch [70/150], Validation MAE: 0.3641, Validation RMSE: 0.5423\n"
     ]
    },
    {
     "name": "stderr",
     "output_type": "stream",
     "text": [
      "Epoch 71/150: 100%|██████████| 213/213 [00:08<00:00, 26.59batch/s, mae_loss=0.453]\n"
     ]
    },
    {
     "name": "stdout",
     "output_type": "stream",
     "text": [
      "Epoch [71/150], Training MAE: 0.4688, Training RMSE: 0.6366\n",
      "Epoch [71/150], Validation MAE: 0.3621, Validation RMSE: 0.5395\n"
     ]
    },
    {
     "name": "stderr",
     "output_type": "stream",
     "text": [
      "Epoch 72/150: 100%|██████████| 213/213 [00:07<00:00, 26.93batch/s, mae_loss=0.434]\n"
     ]
    },
    {
     "name": "stdout",
     "output_type": "stream",
     "text": [
      "Epoch [72/150], Training MAE: 0.4666, Training RMSE: 0.6332\n",
      "Epoch [72/150], Validation MAE: 0.3609, Validation RMSE: 0.5370\n"
     ]
    },
    {
     "name": "stderr",
     "output_type": "stream",
     "text": [
      "Epoch 73/150: 100%|██████████| 213/213 [00:07<00:00, 29.16batch/s, mae_loss=0.498]\n"
     ]
    },
    {
     "name": "stdout",
     "output_type": "stream",
     "text": [
      "Epoch [73/150], Training MAE: 0.4651, Training RMSE: 0.6311\n",
      "Epoch [73/150], Validation MAE: 0.3587, Validation RMSE: 0.5343\n"
     ]
    },
    {
     "name": "stderr",
     "output_type": "stream",
     "text": [
      "Epoch 74/150: 100%|██████████| 213/213 [00:07<00:00, 29.81batch/s, mae_loss=0.431]\n"
     ]
    },
    {
     "name": "stdout",
     "output_type": "stream",
     "text": [
      "Epoch [74/150], Training MAE: 0.4627, Training RMSE: 0.6284\n",
      "Epoch [74/150], Validation MAE: 0.3572, Validation RMSE: 0.5321\n"
     ]
    },
    {
     "name": "stderr",
     "output_type": "stream",
     "text": [
      "Epoch 75/150: 100%|██████████| 213/213 [00:07<00:00, 27.18batch/s, mae_loss=0.46] \n"
     ]
    },
    {
     "name": "stdout",
     "output_type": "stream",
     "text": [
      "Epoch [75/150], Training MAE: 0.4621, Training RMSE: 0.6269\n",
      "Epoch [75/150], Validation MAE: 0.3552, Validation RMSE: 0.5289\n"
     ]
    },
    {
     "name": "stderr",
     "output_type": "stream",
     "text": [
      "Epoch 76/150: 100%|██████████| 213/213 [00:07<00:00, 26.69batch/s, mae_loss=0.452]\n"
     ]
    },
    {
     "name": "stdout",
     "output_type": "stream",
     "text": [
      "Epoch [76/150], Training MAE: 0.4606, Training RMSE: 0.6250\n",
      "Epoch [76/150], Validation MAE: 0.3535, Validation RMSE: 0.5263\n"
     ]
    },
    {
     "name": "stderr",
     "output_type": "stream",
     "text": [
      "Epoch 77/150: 100%|██████████| 213/213 [00:06<00:00, 30.49batch/s, mae_loss=0.464]\n"
     ]
    },
    {
     "name": "stdout",
     "output_type": "stream",
     "text": [
      "Epoch [77/150], Training MAE: 0.4591, Training RMSE: 0.6231\n",
      "Epoch [77/150], Validation MAE: 0.3517, Validation RMSE: 0.5236\n"
     ]
    },
    {
     "name": "stderr",
     "output_type": "stream",
     "text": [
      "Epoch 78/150: 100%|██████████| 213/213 [00:09<00:00, 23.58batch/s, mae_loss=0.472]\n"
     ]
    },
    {
     "name": "stdout",
     "output_type": "stream",
     "text": [
      "Epoch [78/150], Training MAE: 0.4559, Training RMSE: 0.6188\n",
      "Epoch [78/150], Validation MAE: 0.3497, Validation RMSE: 0.5201\n"
     ]
    },
    {
     "name": "stderr",
     "output_type": "stream",
     "text": [
      "Epoch 79/150: 100%|██████████| 213/213 [00:08<00:00, 24.84batch/s, mae_loss=0.475]\n"
     ]
    },
    {
     "name": "stdout",
     "output_type": "stream",
     "text": [
      "Epoch [79/150], Training MAE: 0.4543, Training RMSE: 0.6167\n",
      "Epoch [79/150], Validation MAE: 0.3479, Validation RMSE: 0.5173\n"
     ]
    },
    {
     "name": "stderr",
     "output_type": "stream",
     "text": [
      "Epoch 80/150: 100%|██████████| 213/213 [00:06<00:00, 30.57batch/s, mae_loss=0.429]\n"
     ]
    },
    {
     "name": "stdout",
     "output_type": "stream",
     "text": [
      "Epoch [80/150], Training MAE: 0.4539, Training RMSE: 0.6157\n",
      "Epoch [80/150], Validation MAE: 0.3466, Validation RMSE: 0.5152\n"
     ]
    },
    {
     "name": "stderr",
     "output_type": "stream",
     "text": [
      "Epoch 81/150: 100%|██████████| 213/213 [00:08<00:00, 26.37batch/s, mae_loss=0.493]\n"
     ]
    },
    {
     "name": "stdout",
     "output_type": "stream",
     "text": [
      "Epoch [81/150], Training MAE: 0.4521, Training RMSE: 0.6130\n",
      "Epoch [81/150], Validation MAE: 0.3445, Validation RMSE: 0.5124\n"
     ]
    },
    {
     "name": "stderr",
     "output_type": "stream",
     "text": [
      "Epoch 82/150: 100%|██████████| 213/213 [00:07<00:00, 26.84batch/s, mae_loss=0.461]\n"
     ]
    },
    {
     "name": "stdout",
     "output_type": "stream",
     "text": [
      "Epoch [82/150], Training MAE: 0.4504, Training RMSE: 0.6111\n",
      "Epoch [82/150], Validation MAE: 0.3433, Validation RMSE: 0.5099\n"
     ]
    },
    {
     "name": "stderr",
     "output_type": "stream",
     "text": [
      "Epoch 83/150: 100%|██████████| 213/213 [00:08<00:00, 25.93batch/s, mae_loss=0.435]\n"
     ]
    },
    {
     "name": "stdout",
     "output_type": "stream",
     "text": [
      "Epoch [83/150], Training MAE: 0.4490, Training RMSE: 0.6092\n",
      "Epoch [83/150], Validation MAE: 0.3420, Validation RMSE: 0.5080\n"
     ]
    },
    {
     "name": "stderr",
     "output_type": "stream",
     "text": [
      "Epoch 84/150: 100%|██████████| 213/213 [00:07<00:00, 28.82batch/s, mae_loss=0.444]\n"
     ]
    },
    {
     "name": "stdout",
     "output_type": "stream",
     "text": [
      "Epoch [84/150], Training MAE: 0.4465, Training RMSE: 0.6059\n",
      "Epoch [84/150], Validation MAE: 0.3402, Validation RMSE: 0.5054\n"
     ]
    },
    {
     "name": "stderr",
     "output_type": "stream",
     "text": [
      "Epoch 85/150: 100%|██████████| 213/213 [00:07<00:00, 28.00batch/s, mae_loss=0.426]\n"
     ]
    },
    {
     "name": "stdout",
     "output_type": "stream",
     "text": [
      "Epoch [85/150], Training MAE: 0.4446, Training RMSE: 0.6034\n",
      "Epoch [85/150], Validation MAE: 0.3391, Validation RMSE: 0.5039\n"
     ]
    },
    {
     "name": "stderr",
     "output_type": "stream",
     "text": [
      "Epoch 86/150: 100%|██████████| 213/213 [00:07<00:00, 27.44batch/s, mae_loss=0.44] \n"
     ]
    },
    {
     "name": "stdout",
     "output_type": "stream",
     "text": [
      "Epoch [86/150], Training MAE: 0.4434, Training RMSE: 0.6009\n",
      "Epoch [86/150], Validation MAE: 0.3363, Validation RMSE: 0.5004\n"
     ]
    },
    {
     "name": "stderr",
     "output_type": "stream",
     "text": [
      "Epoch 87/150: 100%|██████████| 213/213 [00:07<00:00, 27.38batch/s, mae_loss=0.462]\n"
     ]
    },
    {
     "name": "stdout",
     "output_type": "stream",
     "text": [
      "Epoch [87/150], Training MAE: 0.4430, Training RMSE: 0.6010\n",
      "Epoch [87/150], Validation MAE: 0.3356, Validation RMSE: 0.4991\n"
     ]
    },
    {
     "name": "stderr",
     "output_type": "stream",
     "text": [
      "Epoch 88/150: 100%|██████████| 213/213 [00:08<00:00, 25.02batch/s, mae_loss=0.46] \n"
     ]
    },
    {
     "name": "stdout",
     "output_type": "stream",
     "text": [
      "Epoch [88/150], Training MAE: 0.4418, Training RMSE: 0.5989\n",
      "Epoch [88/150], Validation MAE: 0.3341, Validation RMSE: 0.4965\n"
     ]
    },
    {
     "name": "stderr",
     "output_type": "stream",
     "text": [
      "Epoch 89/150: 100%|██████████| 213/213 [00:08<00:00, 23.77batch/s, mae_loss=0.422]\n"
     ]
    },
    {
     "name": "stdout",
     "output_type": "stream",
     "text": [
      "Epoch [89/150], Training MAE: 0.4396, Training RMSE: 0.5962\n",
      "Epoch [89/150], Validation MAE: 0.3324, Validation RMSE: 0.4946\n"
     ]
    },
    {
     "name": "stderr",
     "output_type": "stream",
     "text": [
      "Epoch 90/150: 100%|██████████| 213/213 [00:07<00:00, 29.15batch/s, mae_loss=0.407]\n"
     ]
    },
    {
     "name": "stdout",
     "output_type": "stream",
     "text": [
      "Epoch [90/150], Training MAE: 0.4381, Training RMSE: 0.5937\n",
      "Epoch [90/150], Validation MAE: 0.3302, Validation RMSE: 0.4921\n"
     ]
    },
    {
     "name": "stderr",
     "output_type": "stream",
     "text": [
      "Epoch 91/150: 100%|██████████| 213/213 [00:06<00:00, 31.75batch/s, mae_loss=0.422]\n"
     ]
    },
    {
     "name": "stdout",
     "output_type": "stream",
     "text": [
      "Epoch [91/150], Training MAE: 0.4363, Training RMSE: 0.5913\n",
      "Epoch [91/150], Validation MAE: 0.3297, Validation RMSE: 0.4903\n"
     ]
    },
    {
     "name": "stderr",
     "output_type": "stream",
     "text": [
      "Epoch 92/150: 100%|██████████| 213/213 [00:06<00:00, 32.70batch/s, mae_loss=0.436]\n"
     ]
    },
    {
     "name": "stdout",
     "output_type": "stream",
     "text": [
      "Epoch [92/150], Training MAE: 0.4356, Training RMSE: 0.5903\n",
      "Epoch [92/150], Validation MAE: 0.3276, Validation RMSE: 0.4883\n"
     ]
    },
    {
     "name": "stderr",
     "output_type": "stream",
     "text": [
      "Epoch 93/150: 100%|██████████| 213/213 [00:07<00:00, 29.64batch/s, mae_loss=0.449]\n"
     ]
    },
    {
     "name": "stdout",
     "output_type": "stream",
     "text": [
      "Epoch [93/150], Training MAE: 0.4345, Training RMSE: 0.5892\n",
      "Epoch [93/150], Validation MAE: 0.3270, Validation RMSE: 0.4867\n"
     ]
    },
    {
     "name": "stderr",
     "output_type": "stream",
     "text": [
      "Epoch 94/150: 100%|██████████| 213/213 [00:07<00:00, 26.73batch/s, mae_loss=0.429]\n"
     ]
    },
    {
     "name": "stdout",
     "output_type": "stream",
     "text": [
      "Epoch [94/150], Training MAE: 0.4340, Training RMSE: 0.5875\n",
      "Epoch [94/150], Validation MAE: 0.3254, Validation RMSE: 0.4846\n"
     ]
    },
    {
     "name": "stderr",
     "output_type": "stream",
     "text": [
      "Epoch 95/150: 100%|██████████| 213/213 [00:06<00:00, 33.34batch/s, mae_loss=0.436]\n"
     ]
    },
    {
     "name": "stdout",
     "output_type": "stream",
     "text": [
      "Epoch [95/150], Training MAE: 0.4332, Training RMSE: 0.5871\n",
      "Epoch [95/150], Validation MAE: 0.3242, Validation RMSE: 0.4834\n"
     ]
    },
    {
     "name": "stderr",
     "output_type": "stream",
     "text": [
      "Epoch 96/150: 100%|██████████| 213/213 [00:08<00:00, 26.55batch/s, mae_loss=0.446]\n"
     ]
    },
    {
     "name": "stdout",
     "output_type": "stream",
     "text": [
      "Epoch [96/150], Training MAE: 0.4319, Training RMSE: 0.5848\n",
      "Epoch [96/150], Validation MAE: 0.3228, Validation RMSE: 0.4804\n"
     ]
    },
    {
     "name": "stderr",
     "output_type": "stream",
     "text": [
      "Epoch 97/150: 100%|██████████| 213/213 [00:06<00:00, 33.05batch/s, mae_loss=0.434]\n"
     ]
    },
    {
     "name": "stdout",
     "output_type": "stream",
     "text": [
      "Epoch [97/150], Training MAE: 0.4284, Training RMSE: 0.5813\n",
      "Epoch [97/150], Validation MAE: 0.3215, Validation RMSE: 0.4789\n"
     ]
    },
    {
     "name": "stderr",
     "output_type": "stream",
     "text": [
      "Epoch 98/150: 100%|██████████| 213/213 [00:06<00:00, 32.81batch/s, mae_loss=0.424]\n"
     ]
    },
    {
     "name": "stdout",
     "output_type": "stream",
     "text": [
      "Epoch [98/150], Training MAE: 0.4287, Training RMSE: 0.5810\n",
      "Epoch [98/150], Validation MAE: 0.3202, Validation RMSE: 0.4770\n"
     ]
    },
    {
     "name": "stderr",
     "output_type": "stream",
     "text": [
      "Epoch 99/150: 100%|██████████| 213/213 [00:06<00:00, 32.05batch/s, mae_loss=0.442]\n"
     ]
    },
    {
     "name": "stdout",
     "output_type": "stream",
     "text": [
      "Epoch [99/150], Training MAE: 0.4270, Training RMSE: 0.5783\n",
      "Epoch [99/150], Validation MAE: 0.3192, Validation RMSE: 0.4752\n"
     ]
    },
    {
     "name": "stderr",
     "output_type": "stream",
     "text": [
      "Epoch 100/150: 100%|██████████| 213/213 [00:09<00:00, 21.86batch/s, mae_loss=0.396]\n"
     ]
    },
    {
     "name": "stdout",
     "output_type": "stream",
     "text": [
      "Epoch [100/150], Training MAE: 0.4261, Training RMSE: 0.5769\n",
      "Epoch [100/150], Validation MAE: 0.3174, Validation RMSE: 0.4732\n"
     ]
    },
    {
     "name": "stderr",
     "output_type": "stream",
     "text": [
      "Epoch 101/150: 100%|██████████| 213/213 [00:08<00:00, 24.92batch/s, mae_loss=0.403]\n"
     ]
    },
    {
     "name": "stdout",
     "output_type": "stream",
     "text": [
      "Epoch [101/150], Training MAE: 0.4250, Training RMSE: 0.5753\n",
      "Epoch [101/150], Validation MAE: 0.3156, Validation RMSE: 0.4709\n"
     ]
    },
    {
     "name": "stderr",
     "output_type": "stream",
     "text": [
      "Epoch 102/150: 100%|██████████| 213/213 [00:07<00:00, 30.02batch/s, mae_loss=0.4]  \n"
     ]
    },
    {
     "name": "stdout",
     "output_type": "stream",
     "text": [
      "Epoch [102/150], Training MAE: 0.4233, Training RMSE: 0.5729\n",
      "Epoch [102/150], Validation MAE: 0.3154, Validation RMSE: 0.4703\n"
     ]
    },
    {
     "name": "stderr",
     "output_type": "stream",
     "text": [
      "Epoch 103/150: 100%|██████████| 213/213 [00:07<00:00, 27.79batch/s, mae_loss=0.427]\n"
     ]
    },
    {
     "name": "stdout",
     "output_type": "stream",
     "text": [
      "Epoch [103/150], Training MAE: 0.4227, Training RMSE: 0.5721\n",
      "Epoch [103/150], Validation MAE: 0.3137, Validation RMSE: 0.4673\n"
     ]
    },
    {
     "name": "stderr",
     "output_type": "stream",
     "text": [
      "Epoch 104/150: 100%|██████████| 213/213 [00:07<00:00, 28.13batch/s, mae_loss=0.405]\n"
     ]
    },
    {
     "name": "stdout",
     "output_type": "stream",
     "text": [
      "Epoch [104/150], Training MAE: 0.4214, Training RMSE: 0.5706\n",
      "Epoch [104/150], Validation MAE: 0.3126, Validation RMSE: 0.4654\n"
     ]
    },
    {
     "name": "stderr",
     "output_type": "stream",
     "text": [
      "Epoch 105/150: 100%|██████████| 213/213 [00:07<00:00, 27.02batch/s, mae_loss=0.445]\n"
     ]
    },
    {
     "name": "stdout",
     "output_type": "stream",
     "text": [
      "Epoch [105/150], Training MAE: 0.4201, Training RMSE: 0.5690\n",
      "Epoch [105/150], Validation MAE: 0.3112, Validation RMSE: 0.4639\n"
     ]
    },
    {
     "name": "stderr",
     "output_type": "stream",
     "text": [
      "Epoch 106/150: 100%|██████████| 213/213 [00:07<00:00, 28.09batch/s, mae_loss=0.395]\n"
     ]
    },
    {
     "name": "stdout",
     "output_type": "stream",
     "text": [
      "Epoch [106/150], Training MAE: 0.4196, Training RMSE: 0.5681\n",
      "Epoch [106/150], Validation MAE: 0.3099, Validation RMSE: 0.4618\n"
     ]
    },
    {
     "name": "stderr",
     "output_type": "stream",
     "text": [
      "Epoch 107/150: 100%|██████████| 213/213 [00:07<00:00, 27.10batch/s, mae_loss=0.437]\n"
     ]
    },
    {
     "name": "stdout",
     "output_type": "stream",
     "text": [
      "Epoch [107/150], Training MAE: 0.4191, Training RMSE: 0.5668\n",
      "Epoch [107/150], Validation MAE: 0.3088, Validation RMSE: 0.4602\n"
     ]
    },
    {
     "name": "stderr",
     "output_type": "stream",
     "text": [
      "Epoch 108/150: 100%|██████████| 213/213 [00:07<00:00, 27.91batch/s, mae_loss=0.376]\n"
     ]
    },
    {
     "name": "stdout",
     "output_type": "stream",
     "text": [
      "Epoch [108/150], Training MAE: 0.4168, Training RMSE: 0.5638\n",
      "Epoch [108/150], Validation MAE: 0.3080, Validation RMSE: 0.4585\n"
     ]
    },
    {
     "name": "stderr",
     "output_type": "stream",
     "text": [
      "Epoch 109/150: 100%|██████████| 213/213 [00:06<00:00, 32.49batch/s, mae_loss=0.412]\n"
     ]
    },
    {
     "name": "stdout",
     "output_type": "stream",
     "text": [
      "Epoch [109/150], Training MAE: 0.4145, Training RMSE: 0.5612\n",
      "Epoch [109/150], Validation MAE: 0.3062, Validation RMSE: 0.4562\n"
     ]
    },
    {
     "name": "stderr",
     "output_type": "stream",
     "text": [
      "Epoch 110/150: 100%|██████████| 213/213 [00:08<00:00, 24.97batch/s, mae_loss=0.408]\n"
     ]
    },
    {
     "name": "stdout",
     "output_type": "stream",
     "text": [
      "Epoch [110/150], Training MAE: 0.4153, Training RMSE: 0.5619\n",
      "Epoch [110/150], Validation MAE: 0.3043, Validation RMSE: 0.4536\n"
     ]
    },
    {
     "name": "stderr",
     "output_type": "stream",
     "text": [
      "Epoch 111/150: 100%|██████████| 213/213 [00:08<00:00, 24.36batch/s, mae_loss=0.464]\n"
     ]
    },
    {
     "name": "stdout",
     "output_type": "stream",
     "text": [
      "Epoch [111/150], Training MAE: 0.4136, Training RMSE: 0.5589\n",
      "Epoch [111/150], Validation MAE: 0.3031, Validation RMSE: 0.4512\n"
     ]
    },
    {
     "name": "stderr",
     "output_type": "stream",
     "text": [
      "Epoch 112/150: 100%|██████████| 213/213 [00:07<00:00, 27.09batch/s, mae_loss=0.408]\n"
     ]
    },
    {
     "name": "stdout",
     "output_type": "stream",
     "text": [
      "Epoch [112/150], Training MAE: 0.4130, Training RMSE: 0.5584\n",
      "Epoch [112/150], Validation MAE: 0.3027, Validation RMSE: 0.4504\n"
     ]
    },
    {
     "name": "stderr",
     "output_type": "stream",
     "text": [
      "Epoch 113/150: 100%|██████████| 213/213 [00:06<00:00, 31.60batch/s, mae_loss=0.416]\n"
     ]
    },
    {
     "name": "stdout",
     "output_type": "stream",
     "text": [
      "Epoch [113/150], Training MAE: 0.4115, Training RMSE: 0.5565\n",
      "Epoch [113/150], Validation MAE: 0.3013, Validation RMSE: 0.4484\n"
     ]
    },
    {
     "name": "stderr",
     "output_type": "stream",
     "text": [
      "Epoch 114/150: 100%|██████████| 213/213 [00:06<00:00, 32.40batch/s, mae_loss=0.442]\n"
     ]
    },
    {
     "name": "stdout",
     "output_type": "stream",
     "text": [
      "Epoch [114/150], Training MAE: 0.4101, Training RMSE: 0.5545\n",
      "Epoch [114/150], Validation MAE: 0.2996, Validation RMSE: 0.4463\n"
     ]
    },
    {
     "name": "stderr",
     "output_type": "stream",
     "text": [
      "Epoch 115/150: 100%|██████████| 213/213 [00:06<00:00, 30.57batch/s, mae_loss=0.415]\n"
     ]
    },
    {
     "name": "stdout",
     "output_type": "stream",
     "text": [
      "Epoch [115/150], Training MAE: 0.4090, Training RMSE: 0.5527\n",
      "Epoch [115/150], Validation MAE: 0.2987, Validation RMSE: 0.4443\n"
     ]
    },
    {
     "name": "stderr",
     "output_type": "stream",
     "text": [
      "Epoch 116/150: 100%|██████████| 213/213 [00:06<00:00, 33.25batch/s, mae_loss=0.388]\n"
     ]
    },
    {
     "name": "stdout",
     "output_type": "stream",
     "text": [
      "Epoch [116/150], Training MAE: 0.4072, Training RMSE: 0.5510\n",
      "Epoch [116/150], Validation MAE: 0.2974, Validation RMSE: 0.4426\n"
     ]
    },
    {
     "name": "stderr",
     "output_type": "stream",
     "text": [
      "Epoch 117/150: 100%|██████████| 213/213 [00:06<00:00, 31.71batch/s, mae_loss=0.39] \n"
     ]
    },
    {
     "name": "stdout",
     "output_type": "stream",
     "text": [
      "Epoch [117/150], Training MAE: 0.4077, Training RMSE: 0.5517\n",
      "Epoch [117/150], Validation MAE: 0.2962, Validation RMSE: 0.4407\n"
     ]
    },
    {
     "name": "stderr",
     "output_type": "stream",
     "text": [
      "Epoch 118/150: 100%|██████████| 213/213 [00:06<00:00, 32.75batch/s, mae_loss=0.404]\n"
     ]
    },
    {
     "name": "stdout",
     "output_type": "stream",
     "text": [
      "Epoch [118/150], Training MAE: 0.4058, Training RMSE: 0.5489\n",
      "Epoch [118/150], Validation MAE: 0.2955, Validation RMSE: 0.4397\n"
     ]
    },
    {
     "name": "stderr",
     "output_type": "stream",
     "text": [
      "Epoch 119/150: 100%|██████████| 213/213 [00:06<00:00, 32.31batch/s, mae_loss=0.399]\n"
     ]
    },
    {
     "name": "stdout",
     "output_type": "stream",
     "text": [
      "Epoch [119/150], Training MAE: 0.4048, Training RMSE: 0.5476\n",
      "Epoch [119/150], Validation MAE: 0.2943, Validation RMSE: 0.4381\n"
     ]
    },
    {
     "name": "stderr",
     "output_type": "stream",
     "text": [
      "Epoch 120/150: 100%|██████████| 213/213 [00:06<00:00, 31.88batch/s, mae_loss=0.431]\n"
     ]
    },
    {
     "name": "stdout",
     "output_type": "stream",
     "text": [
      "Epoch [120/150], Training MAE: 0.4050, Training RMSE: 0.5467\n",
      "Epoch [120/150], Validation MAE: 0.2933, Validation RMSE: 0.4365\n"
     ]
    },
    {
     "name": "stderr",
     "output_type": "stream",
     "text": [
      "Epoch 121/150: 100%|██████████| 213/213 [00:06<00:00, 32.11batch/s, mae_loss=0.395]\n"
     ]
    },
    {
     "name": "stdout",
     "output_type": "stream",
     "text": [
      "Epoch [121/150], Training MAE: 0.4021, Training RMSE: 0.5440\n",
      "Epoch [121/150], Validation MAE: 0.2927, Validation RMSE: 0.4353\n"
     ]
    },
    {
     "name": "stderr",
     "output_type": "stream",
     "text": [
      "Epoch 122/150: 100%|██████████| 213/213 [00:06<00:00, 33.26batch/s, mae_loss=0.387]\n"
     ]
    },
    {
     "name": "stdout",
     "output_type": "stream",
     "text": [
      "Epoch [122/150], Training MAE: 0.4019, Training RMSE: 0.5429\n",
      "Epoch [122/150], Validation MAE: 0.2907, Validation RMSE: 0.4328\n"
     ]
    },
    {
     "name": "stderr",
     "output_type": "stream",
     "text": [
      "Epoch 123/150: 100%|██████████| 213/213 [00:06<00:00, 33.50batch/s, mae_loss=0.402]\n"
     ]
    },
    {
     "name": "stdout",
     "output_type": "stream",
     "text": [
      "Epoch [123/150], Training MAE: 0.4009, Training RMSE: 0.5422\n",
      "Epoch [123/150], Validation MAE: 0.2905, Validation RMSE: 0.4328\n"
     ]
    },
    {
     "name": "stderr",
     "output_type": "stream",
     "text": [
      "Epoch 124/150: 100%|██████████| 213/213 [00:06<00:00, 31.71batch/s, mae_loss=0.404]\n"
     ]
    },
    {
     "name": "stdout",
     "output_type": "stream",
     "text": [
      "Epoch [124/150], Training MAE: 0.3993, Training RMSE: 0.5406\n",
      "Epoch [124/150], Validation MAE: 0.2888, Validation RMSE: 0.4301\n"
     ]
    },
    {
     "name": "stderr",
     "output_type": "stream",
     "text": [
      "Epoch 125/150: 100%|██████████| 213/213 [00:06<00:00, 31.69batch/s, mae_loss=0.396]\n"
     ]
    },
    {
     "name": "stdout",
     "output_type": "stream",
     "text": [
      "Epoch [125/150], Training MAE: 0.3990, Training RMSE: 0.5398\n",
      "Epoch [125/150], Validation MAE: 0.2887, Validation RMSE: 0.4293\n"
     ]
    },
    {
     "name": "stderr",
     "output_type": "stream",
     "text": [
      "Epoch 126/150: 100%|██████████| 213/213 [00:07<00:00, 29.10batch/s, mae_loss=0.392]\n"
     ]
    },
    {
     "name": "stdout",
     "output_type": "stream",
     "text": [
      "Epoch [126/150], Training MAE: 0.3986, Training RMSE: 0.5393\n",
      "Epoch [126/150], Validation MAE: 0.2877, Validation RMSE: 0.4285\n"
     ]
    },
    {
     "name": "stderr",
     "output_type": "stream",
     "text": [
      "Epoch 127/150: 100%|██████████| 213/213 [00:08<00:00, 25.89batch/s, mae_loss=0.403]\n"
     ]
    },
    {
     "name": "stdout",
     "output_type": "stream",
     "text": [
      "Epoch [127/150], Training MAE: 0.3987, Training RMSE: 0.5395\n",
      "Epoch [127/150], Validation MAE: 0.2868, Validation RMSE: 0.4267\n"
     ]
    },
    {
     "name": "stderr",
     "output_type": "stream",
     "text": [
      "Epoch 128/150: 100%|██████████| 213/213 [00:08<00:00, 26.24batch/s, mae_loss=0.416]\n"
     ]
    },
    {
     "name": "stdout",
     "output_type": "stream",
     "text": [
      "Epoch [128/150], Training MAE: 0.3980, Training RMSE: 0.5381\n",
      "Epoch [128/150], Validation MAE: 0.2863, Validation RMSE: 0.4258\n"
     ]
    },
    {
     "name": "stderr",
     "output_type": "stream",
     "text": [
      "Epoch 129/150: 100%|██████████| 213/213 [00:07<00:00, 28.98batch/s, mae_loss=0.4]  \n"
     ]
    },
    {
     "name": "stdout",
     "output_type": "stream",
     "text": [
      "Epoch [129/150], Training MAE: 0.3962, Training RMSE: 0.5357\n",
      "Epoch [129/150], Validation MAE: 0.2860, Validation RMSE: 0.4253\n"
     ]
    },
    {
     "name": "stderr",
     "output_type": "stream",
     "text": [
      "Epoch 130/150: 100%|██████████| 213/213 [00:09<00:00, 22.45batch/s, mae_loss=0.423]\n"
     ]
    },
    {
     "name": "stdout",
     "output_type": "stream",
     "text": [
      "Epoch [130/150], Training MAE: 0.3958, Training RMSE: 0.5352\n",
      "Epoch [130/150], Validation MAE: 0.2856, Validation RMSE: 0.4247\n"
     ]
    },
    {
     "name": "stderr",
     "output_type": "stream",
     "text": [
      "Epoch 131/150: 100%|██████████| 213/213 [00:08<00:00, 24.13batch/s, mae_loss=0.392]\n"
     ]
    },
    {
     "name": "stdout",
     "output_type": "stream",
     "text": [
      "Epoch [131/150], Training MAE: 0.3955, Training RMSE: 0.5359\n",
      "Epoch [131/150], Validation MAE: 0.2847, Validation RMSE: 0.4234\n"
     ]
    },
    {
     "name": "stderr",
     "output_type": "stream",
     "text": [
      "Epoch 132/150: 100%|██████████| 213/213 [00:07<00:00, 27.63batch/s, mae_loss=0.418]\n"
     ]
    },
    {
     "name": "stdout",
     "output_type": "stream",
     "text": [
      "Epoch [132/150], Training MAE: 0.3941, Training RMSE: 0.5337\n",
      "Epoch [132/150], Validation MAE: 0.2842, Validation RMSE: 0.4227\n"
     ]
    },
    {
     "name": "stderr",
     "output_type": "stream",
     "text": [
      "Epoch 133/150: 100%|██████████| 213/213 [00:08<00:00, 25.91batch/s, mae_loss=0.392]\n"
     ]
    },
    {
     "name": "stdout",
     "output_type": "stream",
     "text": [
      "Epoch [133/150], Training MAE: 0.3943, Training RMSE: 0.5338\n",
      "Epoch [133/150], Validation MAE: 0.2839, Validation RMSE: 0.4223\n"
     ]
    },
    {
     "name": "stderr",
     "output_type": "stream",
     "text": [
      "Epoch 134/150: 100%|██████████| 213/213 [00:07<00:00, 29.34batch/s, mae_loss=0.422]\n"
     ]
    },
    {
     "name": "stdout",
     "output_type": "stream",
     "text": [
      "Epoch [134/150], Training MAE: 0.3943, Training RMSE: 0.5330\n",
      "Epoch [134/150], Validation MAE: 0.2833, Validation RMSE: 0.4218\n"
     ]
    },
    {
     "name": "stderr",
     "output_type": "stream",
     "text": [
      "Epoch 135/150: 100%|██████████| 213/213 [00:07<00:00, 27.85batch/s, mae_loss=0.376]\n"
     ]
    },
    {
     "name": "stdout",
     "output_type": "stream",
     "text": [
      "Epoch [135/150], Training MAE: 0.3935, Training RMSE: 0.5327\n",
      "Epoch [135/150], Validation MAE: 0.2824, Validation RMSE: 0.4205\n"
     ]
    },
    {
     "name": "stderr",
     "output_type": "stream",
     "text": [
      "Epoch 136/150: 100%|██████████| 213/213 [00:07<00:00, 27.72batch/s, mae_loss=0.381]\n"
     ]
    },
    {
     "name": "stdout",
     "output_type": "stream",
     "text": [
      "Epoch [136/150], Training MAE: 0.3923, Training RMSE: 0.5310\n",
      "Epoch [136/150], Validation MAE: 0.2823, Validation RMSE: 0.4204\n"
     ]
    },
    {
     "name": "stderr",
     "output_type": "stream",
     "text": [
      "Epoch 137/150: 100%|██████████| 213/213 [00:07<00:00, 27.28batch/s, mae_loss=0.392]\n"
     ]
    },
    {
     "name": "stdout",
     "output_type": "stream",
     "text": [
      "Epoch [137/150], Training MAE: 0.3920, Training RMSE: 0.5310\n",
      "Epoch [137/150], Validation MAE: 0.2812, Validation RMSE: 0.4186\n"
     ]
    },
    {
     "name": "stderr",
     "output_type": "stream",
     "text": [
      "Epoch 138/150: 100%|██████████| 213/213 [00:07<00:00, 28.91batch/s, mae_loss=0.401]\n"
     ]
    },
    {
     "name": "stdout",
     "output_type": "stream",
     "text": [
      "Epoch [138/150], Training MAE: 0.3903, Training RMSE: 0.5283\n",
      "Epoch [138/150], Validation MAE: 0.2814, Validation RMSE: 0.4189\n"
     ]
    },
    {
     "name": "stderr",
     "output_type": "stream",
     "text": [
      "Epoch 139/150: 100%|██████████| 213/213 [00:07<00:00, 30.39batch/s, mae_loss=0.349]\n"
     ]
    },
    {
     "name": "stdout",
     "output_type": "stream",
     "text": [
      "Epoch [139/150], Training MAE: 0.3901, Training RMSE: 0.5286\n",
      "Epoch [139/150], Validation MAE: 0.2812, Validation RMSE: 0.4189\n"
     ]
    },
    {
     "name": "stderr",
     "output_type": "stream",
     "text": [
      "Epoch 140/150: 100%|██████████| 213/213 [00:08<00:00, 26.55batch/s, mae_loss=0.376]\n"
     ]
    },
    {
     "name": "stdout",
     "output_type": "stream",
     "text": [
      "Epoch [140/150], Training MAE: 0.3901, Training RMSE: 0.5280\n",
      "Epoch [140/150], Validation MAE: 0.2797, Validation RMSE: 0.4175\n"
     ]
    },
    {
     "name": "stderr",
     "output_type": "stream",
     "text": [
      "Epoch 141/150: 100%|██████████| 213/213 [00:07<00:00, 26.69batch/s, mae_loss=0.425]\n"
     ]
    },
    {
     "name": "stdout",
     "output_type": "stream",
     "text": [
      "Epoch [141/150], Training MAE: 0.3884, Training RMSE: 0.5263\n",
      "Epoch [141/150], Validation MAE: 0.2793, Validation RMSE: 0.4166\n"
     ]
    },
    {
     "name": "stderr",
     "output_type": "stream",
     "text": [
      "Epoch 142/150: 100%|██████████| 213/213 [00:08<00:00, 25.01batch/s, mae_loss=0.399]\n"
     ]
    },
    {
     "name": "stdout",
     "output_type": "stream",
     "text": [
      "Epoch [142/150], Training MAE: 0.3886, Training RMSE: 0.5273\n",
      "Epoch [142/150], Validation MAE: 0.2790, Validation RMSE: 0.4162\n"
     ]
    },
    {
     "name": "stderr",
     "output_type": "stream",
     "text": [
      "Epoch 143/150: 100%|██████████| 213/213 [00:06<00:00, 33.54batch/s, mae_loss=0.406]\n"
     ]
    },
    {
     "name": "stdout",
     "output_type": "stream",
     "text": [
      "Epoch [143/150], Training MAE: 0.3885, Training RMSE: 0.5266\n",
      "Epoch [143/150], Validation MAE: 0.2790, Validation RMSE: 0.4159\n"
     ]
    },
    {
     "name": "stderr",
     "output_type": "stream",
     "text": [
      "Epoch 144/150: 100%|██████████| 213/213 [00:06<00:00, 31.73batch/s, mae_loss=0.382]\n"
     ]
    },
    {
     "name": "stdout",
     "output_type": "stream",
     "text": [
      "Epoch [144/150], Training MAE: 0.3878, Training RMSE: 0.5246\n",
      "Epoch [144/150], Validation MAE: 0.2782, Validation RMSE: 0.4146\n"
     ]
    },
    {
     "name": "stderr",
     "output_type": "stream",
     "text": [
      "Epoch 145/150: 100%|██████████| 213/213 [00:06<00:00, 32.17batch/s, mae_loss=0.398]\n"
     ]
    },
    {
     "name": "stdout",
     "output_type": "stream",
     "text": [
      "Epoch [145/150], Training MAE: 0.3871, Training RMSE: 0.5248\n",
      "Epoch [145/150], Validation MAE: 0.2783, Validation RMSE: 0.4152\n"
     ]
    },
    {
     "name": "stderr",
     "output_type": "stream",
     "text": [
      "Epoch 146/150: 100%|██████████| 213/213 [00:08<00:00, 25.32batch/s, mae_loss=0.399]\n"
     ]
    },
    {
     "name": "stdout",
     "output_type": "stream",
     "text": [
      "Epoch [146/150], Training MAE: 0.3857, Training RMSE: 0.5236\n",
      "Epoch [146/150], Validation MAE: 0.2774, Validation RMSE: 0.4136\n"
     ]
    },
    {
     "name": "stderr",
     "output_type": "stream",
     "text": [
      "Epoch 147/150: 100%|██████████| 213/213 [00:08<00:00, 25.82batch/s, mae_loss=0.431]\n"
     ]
    },
    {
     "name": "stdout",
     "output_type": "stream",
     "text": [
      "Epoch [147/150], Training MAE: 0.3850, Training RMSE: 0.5221\n",
      "Epoch [147/150], Validation MAE: 0.2779, Validation RMSE: 0.4139\n"
     ]
    },
    {
     "name": "stderr",
     "output_type": "stream",
     "text": [
      "Epoch 148/150: 100%|██████████| 213/213 [00:06<00:00, 33.01batch/s, mae_loss=0.37] \n"
     ]
    },
    {
     "name": "stdout",
     "output_type": "stream",
     "text": [
      "Epoch [148/150], Training MAE: 0.3847, Training RMSE: 0.5217\n",
      "Epoch [148/150], Validation MAE: 0.2765, Validation RMSE: 0.4123\n"
     ]
    },
    {
     "name": "stderr",
     "output_type": "stream",
     "text": [
      "Epoch 149/150: 100%|██████████| 213/213 [00:07<00:00, 29.11batch/s, mae_loss=0.406]\n"
     ]
    },
    {
     "name": "stdout",
     "output_type": "stream",
     "text": [
      "Epoch [149/150], Training MAE: 0.3847, Training RMSE: 0.5214\n",
      "Epoch [149/150], Validation MAE: 0.2763, Validation RMSE: 0.4121\n"
     ]
    },
    {
     "name": "stderr",
     "output_type": "stream",
     "text": [
      "Epoch 150/150: 100%|██████████| 213/213 [00:07<00:00, 30.15batch/s, mae_loss=0.421]\n"
     ]
    },
    {
     "name": "stdout",
     "output_type": "stream",
     "text": [
      "Epoch [150/150], Training MAE: 0.3844, Training RMSE: 0.5218\n",
      "Epoch [150/150], Validation MAE: 0.2761, Validation RMSE: 0.4118\n"
     ]
    }
   ],
   "source": [
    "prediction_horizon = 6\n",
    "train_loader, validation_loader, all_train_loader, test_loader, input_shape, input_shape_test, output_shape, output_shape_test =  prepare_data_loader(\n",
    "                                                                                window_size,BATCH_SIZE, prediction_horizon,\n",
    "                                                                                model_type, split_ratio = 0.7, df = None, df_test = None, output_folder_train=output_folder_train, shuffle = True)\n",
    "\n",
    "\n",
    "model_all_train = GeneralizedModelWithAttention(input_shape=input_shape , output_shape=output_shape) \n",
    "model_all_train = model_all_train.to(device)\n",
    "model_all_train, history2 = train_model(model_all_train, all_train_loader, val_loader = test_loader, epochs=150, learning_rate=0.00001, model_type = model_type)\n",
    "histories_noval_PHs[prediction_horizon] = history2"
   ]
  },
  {
   "cell_type": "code",
   "execution_count": 5,
   "metadata": {},
   "outputs": [],
   "source": [
    "pd.DataFrame(histories_noval_PHs[6]).to_csv(\"saved_models\\\\loss_ph6_generalized.csv\")"
   ]
  },
  {
   "cell_type": "code",
   "execution_count": 7,
   "metadata": {},
   "outputs": [
    {
     "name": "stdout",
     "output_type": "stream",
     "text": [
      "Start Prediction Horizon 24 of generalized model\n"
     ]
    },
    {
     "name": "stderr",
     "output_type": "stream",
     "text": [
      "Epoch 1/150: 100%|██████████| 213/213 [00:07<00:00, 28.59batch/s, mae_loss=0.587]\n"
     ]
    },
    {
     "name": "stdout",
     "output_type": "stream",
     "text": [
      "Epoch [1/150], Training MAE: 0.6944, Training RMSE: 0.9241\n"
     ]
    },
    {
     "name": "stderr",
     "output_type": "stream",
     "text": [
      "Epoch 2/150: 100%|██████████| 213/213 [00:07<00:00, 29.66batch/s, mae_loss=0.631]\n"
     ]
    },
    {
     "name": "stdout",
     "output_type": "stream",
     "text": [
      "Epoch [2/150], Training MAE: 0.6911, Training RMSE: 0.9216\n"
     ]
    },
    {
     "name": "stderr",
     "output_type": "stream",
     "text": [
      "Epoch 3/150: 100%|██████████| 213/213 [00:09<00:00, 22.16batch/s, mae_loss=0.633]\n"
     ]
    },
    {
     "name": "stdout",
     "output_type": "stream",
     "text": [
      "Epoch [3/150], Training MAE: 0.6896, Training RMSE: 0.9204\n"
     ]
    },
    {
     "name": "stderr",
     "output_type": "stream",
     "text": [
      "Epoch 4/150: 100%|██████████| 213/213 [00:07<00:00, 27.53batch/s, mae_loss=0.7]  \n"
     ]
    },
    {
     "name": "stdout",
     "output_type": "stream",
     "text": [
      "Epoch [4/150], Training MAE: 0.6887, Training RMSE: 0.9199\n"
     ]
    },
    {
     "name": "stderr",
     "output_type": "stream",
     "text": [
      "Epoch 5/150: 100%|██████████| 213/213 [00:10<00:00, 19.90batch/s, mae_loss=0.682]\n"
     ]
    },
    {
     "name": "stdout",
     "output_type": "stream",
     "text": [
      "Epoch [5/150], Training MAE: 0.6878, Training RMSE: 0.9192\n"
     ]
    },
    {
     "name": "stderr",
     "output_type": "stream",
     "text": [
      "Epoch 6/150: 100%|██████████| 213/213 [00:09<00:00, 22.91batch/s, mae_loss=0.784]\n"
     ]
    },
    {
     "name": "stdout",
     "output_type": "stream",
     "text": [
      "Epoch [6/150], Training MAE: 0.6874, Training RMSE: 0.9188\n"
     ]
    },
    {
     "name": "stderr",
     "output_type": "stream",
     "text": [
      "Epoch 7/150: 100%|██████████| 213/213 [00:09<00:00, 22.99batch/s, mae_loss=0.691]\n"
     ]
    },
    {
     "name": "stdout",
     "output_type": "stream",
     "text": [
      "Epoch [7/150], Training MAE: 0.6866, Training RMSE: 0.9179\n"
     ]
    },
    {
     "name": "stderr",
     "output_type": "stream",
     "text": [
      "Epoch 8/150: 100%|██████████| 213/213 [00:09<00:00, 23.25batch/s, mae_loss=0.729]\n"
     ]
    },
    {
     "name": "stdout",
     "output_type": "stream",
     "text": [
      "Epoch [8/150], Training MAE: 0.6863, Training RMSE: 0.9176\n"
     ]
    },
    {
     "name": "stderr",
     "output_type": "stream",
     "text": [
      "Epoch 9/150: 100%|██████████| 213/213 [00:08<00:00, 25.07batch/s, mae_loss=0.695]\n"
     ]
    },
    {
     "name": "stdout",
     "output_type": "stream",
     "text": [
      "Epoch [9/150], Training MAE: 0.6857, Training RMSE: 0.9170\n"
     ]
    },
    {
     "name": "stderr",
     "output_type": "stream",
     "text": [
      "Epoch 10/150: 100%|██████████| 213/213 [00:07<00:00, 27.72batch/s, mae_loss=0.71] \n"
     ]
    },
    {
     "name": "stdout",
     "output_type": "stream",
     "text": [
      "Epoch [10/150], Training MAE: 0.6851, Training RMSE: 0.9162\n"
     ]
    },
    {
     "name": "stderr",
     "output_type": "stream",
     "text": [
      "Epoch 11/150: 100%|██████████| 213/213 [00:06<00:00, 30.67batch/s, mae_loss=0.691]\n"
     ]
    },
    {
     "name": "stdout",
     "output_type": "stream",
     "text": [
      "Epoch [11/150], Training MAE: 0.6848, Training RMSE: 0.9159\n"
     ]
    },
    {
     "name": "stderr",
     "output_type": "stream",
     "text": [
      "Epoch 12/150: 100%|██████████| 213/213 [00:07<00:00, 29.03batch/s, mae_loss=0.654]\n"
     ]
    },
    {
     "name": "stdout",
     "output_type": "stream",
     "text": [
      "Epoch [12/150], Training MAE: 0.6840, Training RMSE: 0.9151\n"
     ]
    },
    {
     "name": "stderr",
     "output_type": "stream",
     "text": [
      "Epoch 13/150: 100%|██████████| 213/213 [00:07<00:00, 28.56batch/s, mae_loss=0.668]\n"
     ]
    },
    {
     "name": "stdout",
     "output_type": "stream",
     "text": [
      "Epoch [13/150], Training MAE: 0.6838, Training RMSE: 0.9148\n"
     ]
    },
    {
     "name": "stderr",
     "output_type": "stream",
     "text": [
      "Epoch 14/150: 100%|██████████| 213/213 [00:09<00:00, 21.64batch/s, mae_loss=0.695]\n"
     ]
    },
    {
     "name": "stdout",
     "output_type": "stream",
     "text": [
      "Epoch [14/150], Training MAE: 0.6834, Training RMSE: 0.9141\n"
     ]
    },
    {
     "name": "stderr",
     "output_type": "stream",
     "text": [
      "Epoch 15/150: 100%|██████████| 213/213 [00:07<00:00, 27.97batch/s, mae_loss=0.719]\n"
     ]
    },
    {
     "name": "stdout",
     "output_type": "stream",
     "text": [
      "Epoch [15/150], Training MAE: 0.6828, Training RMSE: 0.9136\n"
     ]
    },
    {
     "name": "stderr",
     "output_type": "stream",
     "text": [
      "Epoch 16/150: 100%|██████████| 213/213 [00:06<00:00, 31.08batch/s, mae_loss=0.713]\n"
     ]
    },
    {
     "name": "stdout",
     "output_type": "stream",
     "text": [
      "Epoch [16/150], Training MAE: 0.6820, Training RMSE: 0.9125\n"
     ]
    },
    {
     "name": "stderr",
     "output_type": "stream",
     "text": [
      "Epoch 17/150: 100%|██████████| 213/213 [00:09<00:00, 22.39batch/s, mae_loss=0.657]\n"
     ]
    },
    {
     "name": "stdout",
     "output_type": "stream",
     "text": [
      "Epoch [17/150], Training MAE: 0.6815, Training RMSE: 0.9115\n"
     ]
    },
    {
     "name": "stderr",
     "output_type": "stream",
     "text": [
      "Epoch 18/150: 100%|██████████| 213/213 [00:07<00:00, 27.10batch/s, mae_loss=0.712]\n"
     ]
    },
    {
     "name": "stdout",
     "output_type": "stream",
     "text": [
      "Epoch [18/150], Training MAE: 0.6811, Training RMSE: 0.9110\n"
     ]
    },
    {
     "name": "stderr",
     "output_type": "stream",
     "text": [
      "Epoch 19/150: 100%|██████████| 213/213 [00:09<00:00, 21.51batch/s, mae_loss=0.699]\n"
     ]
    },
    {
     "name": "stdout",
     "output_type": "stream",
     "text": [
      "Epoch [19/150], Training MAE: 0.6802, Training RMSE: 0.9100\n"
     ]
    },
    {
     "name": "stderr",
     "output_type": "stream",
     "text": [
      "Epoch 20/150: 100%|██████████| 213/213 [00:08<00:00, 25.41batch/s, mae_loss=0.655]\n"
     ]
    },
    {
     "name": "stdout",
     "output_type": "stream",
     "text": [
      "Epoch [20/150], Training MAE: 0.6792, Training RMSE: 0.9084\n"
     ]
    },
    {
     "name": "stderr",
     "output_type": "stream",
     "text": [
      "Epoch 21/150: 100%|██████████| 213/213 [00:07<00:00, 27.66batch/s, mae_loss=0.676]\n"
     ]
    },
    {
     "name": "stdout",
     "output_type": "stream",
     "text": [
      "Epoch [21/150], Training MAE: 0.6783, Training RMSE: 0.9075\n"
     ]
    },
    {
     "name": "stderr",
     "output_type": "stream",
     "text": [
      "Epoch 22/150: 100%|██████████| 213/213 [00:07<00:00, 27.88batch/s, mae_loss=0.672]\n"
     ]
    },
    {
     "name": "stdout",
     "output_type": "stream",
     "text": [
      "Epoch [22/150], Training MAE: 0.6777, Training RMSE: 0.9064\n"
     ]
    },
    {
     "name": "stderr",
     "output_type": "stream",
     "text": [
      "Epoch 23/150: 100%|██████████| 213/213 [00:08<00:00, 24.25batch/s, mae_loss=0.687]\n"
     ]
    },
    {
     "name": "stdout",
     "output_type": "stream",
     "text": [
      "Epoch [23/150], Training MAE: 0.6765, Training RMSE: 0.9050\n"
     ]
    },
    {
     "name": "stderr",
     "output_type": "stream",
     "text": [
      "Epoch 24/150: 100%|██████████| 213/213 [00:12<00:00, 17.54batch/s, mae_loss=0.708]\n"
     ]
    },
    {
     "name": "stdout",
     "output_type": "stream",
     "text": [
      "Epoch [24/150], Training MAE: 0.6762, Training RMSE: 0.9041\n"
     ]
    },
    {
     "name": "stderr",
     "output_type": "stream",
     "text": [
      "Epoch 25/150: 100%|██████████| 213/213 [00:08<00:00, 25.38batch/s, mae_loss=0.641]\n"
     ]
    },
    {
     "name": "stdout",
     "output_type": "stream",
     "text": [
      "Epoch [25/150], Training MAE: 0.6750, Training RMSE: 0.9031\n"
     ]
    },
    {
     "name": "stderr",
     "output_type": "stream",
     "text": [
      "Epoch 26/150: 100%|██████████| 213/213 [00:07<00:00, 28.47batch/s, mae_loss=0.664]\n"
     ]
    },
    {
     "name": "stdout",
     "output_type": "stream",
     "text": [
      "Epoch [26/150], Training MAE: 0.6742, Training RMSE: 0.9020\n"
     ]
    },
    {
     "name": "stderr",
     "output_type": "stream",
     "text": [
      "Epoch 27/150: 100%|██████████| 213/213 [00:08<00:00, 25.22batch/s, mae_loss=0.66] \n"
     ]
    },
    {
     "name": "stdout",
     "output_type": "stream",
     "text": [
      "Epoch [27/150], Training MAE: 0.6735, Training RMSE: 0.9011\n"
     ]
    },
    {
     "name": "stderr",
     "output_type": "stream",
     "text": [
      "Epoch 28/150: 100%|██████████| 213/213 [00:08<00:00, 24.66batch/s, mae_loss=0.611]\n"
     ]
    },
    {
     "name": "stdout",
     "output_type": "stream",
     "text": [
      "Epoch [28/150], Training MAE: 0.6723, Training RMSE: 0.8998\n"
     ]
    },
    {
     "name": "stderr",
     "output_type": "stream",
     "text": [
      "Epoch 29/150: 100%|██████████| 213/213 [00:11<00:00, 17.79batch/s, mae_loss=0.681]\n"
     ]
    },
    {
     "name": "stdout",
     "output_type": "stream",
     "text": [
      "Epoch [29/150], Training MAE: 0.6716, Training RMSE: 0.8987\n"
     ]
    },
    {
     "name": "stderr",
     "output_type": "stream",
     "text": [
      "Epoch 30/150: 100%|██████████| 213/213 [00:08<00:00, 25.81batch/s, mae_loss=0.665]\n"
     ]
    },
    {
     "name": "stdout",
     "output_type": "stream",
     "text": [
      "Epoch [30/150], Training MAE: 0.6707, Training RMSE: 0.8978\n"
     ]
    },
    {
     "name": "stderr",
     "output_type": "stream",
     "text": [
      "Epoch 31/150: 100%|██████████| 213/213 [00:08<00:00, 24.50batch/s, mae_loss=0.671]\n"
     ]
    },
    {
     "name": "stdout",
     "output_type": "stream",
     "text": [
      "Epoch [31/150], Training MAE: 0.6701, Training RMSE: 0.8970\n"
     ]
    },
    {
     "name": "stderr",
     "output_type": "stream",
     "text": [
      "Epoch 32/150: 100%|██████████| 213/213 [00:07<00:00, 26.76batch/s, mae_loss=0.609]\n"
     ]
    },
    {
     "name": "stdout",
     "output_type": "stream",
     "text": [
      "Epoch [32/150], Training MAE: 0.6689, Training RMSE: 0.8958\n"
     ]
    },
    {
     "name": "stderr",
     "output_type": "stream",
     "text": [
      "Epoch 33/150: 100%|██████████| 213/213 [00:07<00:00, 27.43batch/s, mae_loss=0.734]\n"
     ]
    },
    {
     "name": "stdout",
     "output_type": "stream",
     "text": [
      "Epoch [33/150], Training MAE: 0.6682, Training RMSE: 0.8948\n"
     ]
    },
    {
     "name": "stderr",
     "output_type": "stream",
     "text": [
      "Epoch 34/150: 100%|██████████| 213/213 [00:07<00:00, 26.80batch/s, mae_loss=0.688]\n"
     ]
    },
    {
     "name": "stdout",
     "output_type": "stream",
     "text": [
      "Epoch [34/150], Training MAE: 0.6671, Training RMSE: 0.8935\n"
     ]
    },
    {
     "name": "stderr",
     "output_type": "stream",
     "text": [
      "Epoch 35/150: 100%|██████████| 213/213 [00:08<00:00, 26.47batch/s, mae_loss=0.678]\n"
     ]
    },
    {
     "name": "stdout",
     "output_type": "stream",
     "text": [
      "Epoch [35/150], Training MAE: 0.6666, Training RMSE: 0.8928\n"
     ]
    },
    {
     "name": "stderr",
     "output_type": "stream",
     "text": [
      "Epoch 36/150: 100%|██████████| 213/213 [00:07<00:00, 27.93batch/s, mae_loss=0.67] \n"
     ]
    },
    {
     "name": "stdout",
     "output_type": "stream",
     "text": [
      "Epoch [36/150], Training MAE: 0.6653, Training RMSE: 0.8913\n"
     ]
    },
    {
     "name": "stderr",
     "output_type": "stream",
     "text": [
      "Epoch 37/150: 100%|██████████| 213/213 [00:07<00:00, 27.81batch/s, mae_loss=0.662]\n"
     ]
    },
    {
     "name": "stdout",
     "output_type": "stream",
     "text": [
      "Epoch [37/150], Training MAE: 0.6650, Training RMSE: 0.8908\n"
     ]
    },
    {
     "name": "stderr",
     "output_type": "stream",
     "text": [
      "Epoch 38/150: 100%|██████████| 213/213 [00:08<00:00, 26.08batch/s, mae_loss=0.655]\n"
     ]
    },
    {
     "name": "stdout",
     "output_type": "stream",
     "text": [
      "Epoch [38/150], Training MAE: 0.6640, Training RMSE: 0.8899\n"
     ]
    },
    {
     "name": "stderr",
     "output_type": "stream",
     "text": [
      "Epoch 39/150: 100%|██████████| 213/213 [00:07<00:00, 28.96batch/s, mae_loss=0.745]\n"
     ]
    },
    {
     "name": "stdout",
     "output_type": "stream",
     "text": [
      "Epoch [39/150], Training MAE: 0.6635, Training RMSE: 0.8891\n"
     ]
    },
    {
     "name": "stderr",
     "output_type": "stream",
     "text": [
      "Epoch 40/150: 100%|██████████| 213/213 [00:08<00:00, 26.54batch/s, mae_loss=0.638]\n"
     ]
    },
    {
     "name": "stdout",
     "output_type": "stream",
     "text": [
      "Epoch [40/150], Training MAE: 0.6623, Training RMSE: 0.8881\n"
     ]
    },
    {
     "name": "stderr",
     "output_type": "stream",
     "text": [
      "Epoch 41/150: 100%|██████████| 213/213 [00:08<00:00, 25.74batch/s, mae_loss=0.63] \n"
     ]
    },
    {
     "name": "stdout",
     "output_type": "stream",
     "text": [
      "Epoch [41/150], Training MAE: 0.6607, Training RMSE: 0.8864\n"
     ]
    },
    {
     "name": "stderr",
     "output_type": "stream",
     "text": [
      "Epoch 42/150: 100%|██████████| 213/213 [00:07<00:00, 27.63batch/s, mae_loss=0.672]\n"
     ]
    },
    {
     "name": "stdout",
     "output_type": "stream",
     "text": [
      "Epoch [42/150], Training MAE: 0.6604, Training RMSE: 0.8857\n"
     ]
    },
    {
     "name": "stderr",
     "output_type": "stream",
     "text": [
      "Epoch 43/150: 100%|██████████| 213/213 [00:08<00:00, 26.13batch/s, mae_loss=0.674]\n"
     ]
    },
    {
     "name": "stdout",
     "output_type": "stream",
     "text": [
      "Epoch [43/150], Training MAE: 0.6598, Training RMSE: 0.8849\n"
     ]
    },
    {
     "name": "stderr",
     "output_type": "stream",
     "text": [
      "Epoch 44/150: 100%|██████████| 213/213 [00:07<00:00, 28.54batch/s, mae_loss=0.607]\n"
     ]
    },
    {
     "name": "stdout",
     "output_type": "stream",
     "text": [
      "Epoch [44/150], Training MAE: 0.6589, Training RMSE: 0.8837\n"
     ]
    },
    {
     "name": "stderr",
     "output_type": "stream",
     "text": [
      "Epoch 45/150: 100%|██████████| 213/213 [00:07<00:00, 27.51batch/s, mae_loss=0.644]\n"
     ]
    },
    {
     "name": "stdout",
     "output_type": "stream",
     "text": [
      "Epoch [45/150], Training MAE: 0.6580, Training RMSE: 0.8830\n"
     ]
    },
    {
     "name": "stderr",
     "output_type": "stream",
     "text": [
      "Epoch 46/150: 100%|██████████| 213/213 [00:07<00:00, 28.22batch/s, mae_loss=0.643]\n"
     ]
    },
    {
     "name": "stdout",
     "output_type": "stream",
     "text": [
      "Epoch [46/150], Training MAE: 0.6572, Training RMSE: 0.8821\n"
     ]
    },
    {
     "name": "stderr",
     "output_type": "stream",
     "text": [
      "Epoch 47/150: 100%|██████████| 213/213 [00:08<00:00, 25.80batch/s, mae_loss=0.691]\n"
     ]
    },
    {
     "name": "stdout",
     "output_type": "stream",
     "text": [
      "Epoch [47/150], Training MAE: 0.6562, Training RMSE: 0.8812\n"
     ]
    },
    {
     "name": "stderr",
     "output_type": "stream",
     "text": [
      "Epoch 48/150: 100%|██████████| 213/213 [00:08<00:00, 25.93batch/s, mae_loss=0.598]\n"
     ]
    },
    {
     "name": "stdout",
     "output_type": "stream",
     "text": [
      "Epoch [48/150], Training MAE: 0.6553, Training RMSE: 0.8800\n"
     ]
    },
    {
     "name": "stderr",
     "output_type": "stream",
     "text": [
      "Epoch 49/150: 100%|██████████| 213/213 [00:08<00:00, 26.54batch/s, mae_loss=0.664]\n"
     ]
    },
    {
     "name": "stdout",
     "output_type": "stream",
     "text": [
      "Epoch [49/150], Training MAE: 0.6545, Training RMSE: 0.8789\n"
     ]
    },
    {
     "name": "stderr",
     "output_type": "stream",
     "text": [
      "Epoch 50/150: 100%|██████████| 213/213 [00:07<00:00, 26.85batch/s, mae_loss=0.657]\n"
     ]
    },
    {
     "name": "stdout",
     "output_type": "stream",
     "text": [
      "Epoch [50/150], Training MAE: 0.6539, Training RMSE: 0.8782\n"
     ]
    },
    {
     "name": "stderr",
     "output_type": "stream",
     "text": [
      "Epoch 51/150: 100%|██████████| 213/213 [00:08<00:00, 24.74batch/s, mae_loss=0.656]\n"
     ]
    },
    {
     "name": "stdout",
     "output_type": "stream",
     "text": [
      "Epoch [51/150], Training MAE: 0.6537, Training RMSE: 0.8777\n"
     ]
    },
    {
     "name": "stderr",
     "output_type": "stream",
     "text": [
      "Epoch 52/150: 100%|██████████| 213/213 [00:07<00:00, 28.47batch/s, mae_loss=0.725]\n"
     ]
    },
    {
     "name": "stdout",
     "output_type": "stream",
     "text": [
      "Epoch [52/150], Training MAE: 0.6526, Training RMSE: 0.8768\n"
     ]
    },
    {
     "name": "stderr",
     "output_type": "stream",
     "text": [
      "Epoch 53/150: 100%|██████████| 213/213 [00:08<00:00, 26.15batch/s, mae_loss=0.626]\n"
     ]
    },
    {
     "name": "stdout",
     "output_type": "stream",
     "text": [
      "Epoch [53/150], Training MAE: 0.6516, Training RMSE: 0.8756\n"
     ]
    },
    {
     "name": "stderr",
     "output_type": "stream",
     "text": [
      "Epoch 54/150: 100%|██████████| 213/213 [00:07<00:00, 27.22batch/s, mae_loss=0.686]\n"
     ]
    },
    {
     "name": "stdout",
     "output_type": "stream",
     "text": [
      "Epoch [54/150], Training MAE: 0.6512, Training RMSE: 0.8754\n"
     ]
    },
    {
     "name": "stderr",
     "output_type": "stream",
     "text": [
      "Epoch 55/150: 100%|██████████| 213/213 [00:08<00:00, 26.56batch/s, mae_loss=0.667]\n"
     ]
    },
    {
     "name": "stdout",
     "output_type": "stream",
     "text": [
      "Epoch [55/150], Training MAE: 0.6504, Training RMSE: 0.8744\n"
     ]
    },
    {
     "name": "stderr",
     "output_type": "stream",
     "text": [
      "Epoch 56/150: 100%|██████████| 213/213 [00:07<00:00, 28.03batch/s, mae_loss=0.627]\n"
     ]
    },
    {
     "name": "stdout",
     "output_type": "stream",
     "text": [
      "Epoch [56/150], Training MAE: 0.6490, Training RMSE: 0.8727\n"
     ]
    },
    {
     "name": "stderr",
     "output_type": "stream",
     "text": [
      "Epoch 57/150: 100%|██████████| 213/213 [00:08<00:00, 26.05batch/s, mae_loss=0.686]\n"
     ]
    },
    {
     "name": "stdout",
     "output_type": "stream",
     "text": [
      "Epoch [57/150], Training MAE: 0.6490, Training RMSE: 0.8727\n"
     ]
    },
    {
     "name": "stderr",
     "output_type": "stream",
     "text": [
      "Epoch 58/150: 100%|██████████| 213/213 [00:08<00:00, 26.33batch/s, mae_loss=0.628]\n"
     ]
    },
    {
     "name": "stdout",
     "output_type": "stream",
     "text": [
      "Epoch [58/150], Training MAE: 0.6485, Training RMSE: 0.8723\n"
     ]
    },
    {
     "name": "stderr",
     "output_type": "stream",
     "text": [
      "Epoch 59/150: 100%|██████████| 213/213 [00:08<00:00, 25.72batch/s, mae_loss=0.649]\n"
     ]
    },
    {
     "name": "stdout",
     "output_type": "stream",
     "text": [
      "Epoch [59/150], Training MAE: 0.6478, Training RMSE: 0.8713\n"
     ]
    },
    {
     "name": "stderr",
     "output_type": "stream",
     "text": [
      "Epoch 60/150: 100%|██████████| 213/213 [00:08<00:00, 26.56batch/s, mae_loss=0.65] \n"
     ]
    },
    {
     "name": "stdout",
     "output_type": "stream",
     "text": [
      "Epoch [60/150], Training MAE: 0.6476, Training RMSE: 0.8711\n"
     ]
    },
    {
     "name": "stderr",
     "output_type": "stream",
     "text": [
      "Epoch 61/150: 100%|██████████| 213/213 [00:07<00:00, 27.70batch/s, mae_loss=0.673]\n"
     ]
    },
    {
     "name": "stdout",
     "output_type": "stream",
     "text": [
      "Epoch [61/150], Training MAE: 0.6465, Training RMSE: 0.8697\n"
     ]
    },
    {
     "name": "stderr",
     "output_type": "stream",
     "text": [
      "Epoch 62/150: 100%|██████████| 213/213 [00:08<00:00, 25.92batch/s, mae_loss=0.657]\n"
     ]
    },
    {
     "name": "stdout",
     "output_type": "stream",
     "text": [
      "Epoch [62/150], Training MAE: 0.6459, Training RMSE: 0.8688\n"
     ]
    },
    {
     "name": "stderr",
     "output_type": "stream",
     "text": [
      "Epoch 63/150: 100%|██████████| 213/213 [00:07<00:00, 27.65batch/s, mae_loss=0.672]\n"
     ]
    },
    {
     "name": "stdout",
     "output_type": "stream",
     "text": [
      "Epoch [63/150], Training MAE: 0.6453, Training RMSE: 0.8683\n"
     ]
    },
    {
     "name": "stderr",
     "output_type": "stream",
     "text": [
      "Epoch 64/150: 100%|██████████| 213/213 [00:08<00:00, 25.55batch/s, mae_loss=0.656]\n"
     ]
    },
    {
     "name": "stdout",
     "output_type": "stream",
     "text": [
      "Epoch [64/150], Training MAE: 0.6448, Training RMSE: 0.8680\n"
     ]
    },
    {
     "name": "stderr",
     "output_type": "stream",
     "text": [
      "Epoch 65/150: 100%|██████████| 213/213 [00:08<00:00, 24.28batch/s, mae_loss=0.593]\n"
     ]
    },
    {
     "name": "stdout",
     "output_type": "stream",
     "text": [
      "Epoch [65/150], Training MAE: 0.6442, Training RMSE: 0.8671\n"
     ]
    },
    {
     "name": "stderr",
     "output_type": "stream",
     "text": [
      "Epoch 66/150: 100%|██████████| 213/213 [00:07<00:00, 26.94batch/s, mae_loss=0.737]\n"
     ]
    },
    {
     "name": "stdout",
     "output_type": "stream",
     "text": [
      "Epoch [66/150], Training MAE: 0.6431, Training RMSE: 0.8664\n"
     ]
    },
    {
     "name": "stderr",
     "output_type": "stream",
     "text": [
      "Epoch 67/150: 100%|██████████| 213/213 [00:08<00:00, 25.68batch/s, mae_loss=0.626]\n"
     ]
    },
    {
     "name": "stdout",
     "output_type": "stream",
     "text": [
      "Epoch [67/150], Training MAE: 0.6428, Training RMSE: 0.8654\n"
     ]
    },
    {
     "name": "stderr",
     "output_type": "stream",
     "text": [
      "Epoch 68/150: 100%|██████████| 213/213 [00:08<00:00, 24.25batch/s, mae_loss=0.627]\n"
     ]
    },
    {
     "name": "stdout",
     "output_type": "stream",
     "text": [
      "Epoch [68/150], Training MAE: 0.6421, Training RMSE: 0.8649\n"
     ]
    },
    {
     "name": "stderr",
     "output_type": "stream",
     "text": [
      "Epoch 69/150: 100%|██████████| 213/213 [00:08<00:00, 26.34batch/s, mae_loss=0.669]\n"
     ]
    },
    {
     "name": "stdout",
     "output_type": "stream",
     "text": [
      "Epoch [69/150], Training MAE: 0.6416, Training RMSE: 0.8644\n"
     ]
    },
    {
     "name": "stderr",
     "output_type": "stream",
     "text": [
      "Epoch 70/150: 100%|██████████| 213/213 [00:09<00:00, 21.90batch/s, mae_loss=0.614]\n"
     ]
    },
    {
     "name": "stdout",
     "output_type": "stream",
     "text": [
      "Epoch [70/150], Training MAE: 0.6416, Training RMSE: 0.8642\n"
     ]
    },
    {
     "name": "stderr",
     "output_type": "stream",
     "text": [
      "Epoch 71/150: 100%|██████████| 213/213 [00:08<00:00, 26.26batch/s, mae_loss=0.628]\n"
     ]
    },
    {
     "name": "stdout",
     "output_type": "stream",
     "text": [
      "Epoch [71/150], Training MAE: 0.6407, Training RMSE: 0.8633\n"
     ]
    },
    {
     "name": "stderr",
     "output_type": "stream",
     "text": [
      "Epoch 72/150: 100%|██████████| 213/213 [00:07<00:00, 26.98batch/s, mae_loss=0.572]\n"
     ]
    },
    {
     "name": "stdout",
     "output_type": "stream",
     "text": [
      "Epoch [72/150], Training MAE: 0.6400, Training RMSE: 0.8623\n"
     ]
    },
    {
     "name": "stderr",
     "output_type": "stream",
     "text": [
      "Epoch 73/150: 100%|██████████| 213/213 [00:08<00:00, 24.38batch/s, mae_loss=0.571]\n"
     ]
    },
    {
     "name": "stdout",
     "output_type": "stream",
     "text": [
      "Epoch [73/150], Training MAE: 0.6385, Training RMSE: 0.8611\n"
     ]
    },
    {
     "name": "stderr",
     "output_type": "stream",
     "text": [
      "Epoch 74/150: 100%|██████████| 213/213 [00:07<00:00, 26.70batch/s, mae_loss=0.614]\n"
     ]
    },
    {
     "name": "stdout",
     "output_type": "stream",
     "text": [
      "Epoch [74/150], Training MAE: 0.6388, Training RMSE: 0.8610\n"
     ]
    },
    {
     "name": "stderr",
     "output_type": "stream",
     "text": [
      "Epoch 75/150: 100%|██████████| 213/213 [00:08<00:00, 25.14batch/s, mae_loss=0.61] \n"
     ]
    },
    {
     "name": "stdout",
     "output_type": "stream",
     "text": [
      "Epoch [75/150], Training MAE: 0.6380, Training RMSE: 0.8600\n"
     ]
    },
    {
     "name": "stderr",
     "output_type": "stream",
     "text": [
      "Epoch 76/150: 100%|██████████| 213/213 [00:07<00:00, 28.05batch/s, mae_loss=0.601]\n"
     ]
    },
    {
     "name": "stdout",
     "output_type": "stream",
     "text": [
      "Epoch [76/150], Training MAE: 0.6379, Training RMSE: 0.8602\n"
     ]
    },
    {
     "name": "stderr",
     "output_type": "stream",
     "text": [
      "Epoch 77/150: 100%|██████████| 213/213 [00:08<00:00, 26.50batch/s, mae_loss=0.626]\n"
     ]
    },
    {
     "name": "stdout",
     "output_type": "stream",
     "text": [
      "Epoch [77/150], Training MAE: 0.6372, Training RMSE: 0.8590\n"
     ]
    },
    {
     "name": "stderr",
     "output_type": "stream",
     "text": [
      "Epoch 78/150: 100%|██████████| 213/213 [00:08<00:00, 24.73batch/s, mae_loss=0.615]\n"
     ]
    },
    {
     "name": "stdout",
     "output_type": "stream",
     "text": [
      "Epoch [78/150], Training MAE: 0.6371, Training RMSE: 0.8593\n"
     ]
    },
    {
     "name": "stderr",
     "output_type": "stream",
     "text": [
      "Epoch 79/150: 100%|██████████| 213/213 [00:07<00:00, 27.43batch/s, mae_loss=0.616]\n"
     ]
    },
    {
     "name": "stdout",
     "output_type": "stream",
     "text": [
      "Epoch [79/150], Training MAE: 0.6363, Training RMSE: 0.8581\n"
     ]
    },
    {
     "name": "stderr",
     "output_type": "stream",
     "text": [
      "Epoch 80/150: 100%|██████████| 213/213 [00:08<00:00, 26.24batch/s, mae_loss=0.672]\n"
     ]
    },
    {
     "name": "stdout",
     "output_type": "stream",
     "text": [
      "Epoch [80/150], Training MAE: 0.6360, Training RMSE: 0.8579\n"
     ]
    },
    {
     "name": "stderr",
     "output_type": "stream",
     "text": [
      "Epoch 81/150: 100%|██████████| 213/213 [00:07<00:00, 28.99batch/s, mae_loss=0.668]\n"
     ]
    },
    {
     "name": "stdout",
     "output_type": "stream",
     "text": [
      "Epoch [81/150], Training MAE: 0.6355, Training RMSE: 0.8574\n"
     ]
    },
    {
     "name": "stderr",
     "output_type": "stream",
     "text": [
      "Epoch 82/150: 100%|██████████| 213/213 [00:08<00:00, 25.72batch/s, mae_loss=0.668]\n"
     ]
    },
    {
     "name": "stdout",
     "output_type": "stream",
     "text": [
      "Epoch [82/150], Training MAE: 0.6351, Training RMSE: 0.8570\n"
     ]
    },
    {
     "name": "stderr",
     "output_type": "stream",
     "text": [
      "Epoch 83/150: 100%|██████████| 213/213 [00:09<00:00, 23.38batch/s, mae_loss=0.626]\n"
     ]
    },
    {
     "name": "stdout",
     "output_type": "stream",
     "text": [
      "Epoch [83/150], Training MAE: 0.6344, Training RMSE: 0.8559\n"
     ]
    },
    {
     "name": "stderr",
     "output_type": "stream",
     "text": [
      "Epoch 84/150: 100%|██████████| 213/213 [00:09<00:00, 21.97batch/s, mae_loss=0.622]\n"
     ]
    },
    {
     "name": "stdout",
     "output_type": "stream",
     "text": [
      "Epoch [84/150], Training MAE: 0.6337, Training RMSE: 0.8553\n"
     ]
    },
    {
     "name": "stderr",
     "output_type": "stream",
     "text": [
      "Epoch 85/150: 100%|██████████| 213/213 [00:08<00:00, 25.66batch/s, mae_loss=0.572]\n"
     ]
    },
    {
     "name": "stdout",
     "output_type": "stream",
     "text": [
      "Epoch [85/150], Training MAE: 0.6335, Training RMSE: 0.8548\n"
     ]
    },
    {
     "name": "stderr",
     "output_type": "stream",
     "text": [
      "Epoch 86/150: 100%|██████████| 213/213 [00:07<00:00, 26.85batch/s, mae_loss=0.655]\n"
     ]
    },
    {
     "name": "stdout",
     "output_type": "stream",
     "text": [
      "Epoch [86/150], Training MAE: 0.6322, Training RMSE: 0.8537\n"
     ]
    },
    {
     "name": "stderr",
     "output_type": "stream",
     "text": [
      "Epoch 87/150: 100%|██████████| 213/213 [00:08<00:00, 25.81batch/s, mae_loss=0.641]\n"
     ]
    },
    {
     "name": "stdout",
     "output_type": "stream",
     "text": [
      "Epoch [87/150], Training MAE: 0.6332, Training RMSE: 0.8541\n"
     ]
    },
    {
     "name": "stderr",
     "output_type": "stream",
     "text": [
      "Epoch 88/150: 100%|██████████| 213/213 [00:08<00:00, 24.66batch/s, mae_loss=0.614]\n"
     ]
    },
    {
     "name": "stdout",
     "output_type": "stream",
     "text": [
      "Epoch [88/150], Training MAE: 0.6311, Training RMSE: 0.8521\n"
     ]
    },
    {
     "name": "stderr",
     "output_type": "stream",
     "text": [
      "Epoch 89/150: 100%|██████████| 213/213 [00:08<00:00, 25.50batch/s, mae_loss=0.642]\n"
     ]
    },
    {
     "name": "stdout",
     "output_type": "stream",
     "text": [
      "Epoch [89/150], Training MAE: 0.6311, Training RMSE: 0.8527\n"
     ]
    },
    {
     "name": "stderr",
     "output_type": "stream",
     "text": [
      "Epoch 90/150: 100%|██████████| 213/213 [00:07<00:00, 26.72batch/s, mae_loss=0.639]\n"
     ]
    },
    {
     "name": "stdout",
     "output_type": "stream",
     "text": [
      "Epoch [90/150], Training MAE: 0.6308, Training RMSE: 0.8516\n"
     ]
    },
    {
     "name": "stderr",
     "output_type": "stream",
     "text": [
      "Epoch 91/150: 100%|██████████| 213/213 [00:08<00:00, 25.22batch/s, mae_loss=0.613]\n"
     ]
    },
    {
     "name": "stdout",
     "output_type": "stream",
     "text": [
      "Epoch [91/150], Training MAE: 0.6303, Training RMSE: 0.8515\n"
     ]
    },
    {
     "name": "stderr",
     "output_type": "stream",
     "text": [
      "Epoch 92/150: 100%|██████████| 213/213 [00:07<00:00, 26.73batch/s, mae_loss=0.588]\n"
     ]
    },
    {
     "name": "stdout",
     "output_type": "stream",
     "text": [
      "Epoch [92/150], Training MAE: 0.6299, Training RMSE: 0.8505\n"
     ]
    },
    {
     "name": "stderr",
     "output_type": "stream",
     "text": [
      "Epoch 93/150: 100%|██████████| 213/213 [00:07<00:00, 29.96batch/s, mae_loss=0.611]\n"
     ]
    },
    {
     "name": "stdout",
     "output_type": "stream",
     "text": [
      "Epoch [93/150], Training MAE: 0.6293, Training RMSE: 0.8503\n"
     ]
    },
    {
     "name": "stderr",
     "output_type": "stream",
     "text": [
      "Epoch 94/150: 100%|██████████| 213/213 [00:07<00:00, 29.84batch/s, mae_loss=0.691]\n"
     ]
    },
    {
     "name": "stdout",
     "output_type": "stream",
     "text": [
      "Epoch [94/150], Training MAE: 0.6290, Training RMSE: 0.8497\n"
     ]
    },
    {
     "name": "stderr",
     "output_type": "stream",
     "text": [
      "Epoch 95/150: 100%|██████████| 213/213 [00:06<00:00, 32.09batch/s, mae_loss=0.588]\n"
     ]
    },
    {
     "name": "stdout",
     "output_type": "stream",
     "text": [
      "Epoch [95/150], Training MAE: 0.6276, Training RMSE: 0.8483\n"
     ]
    },
    {
     "name": "stderr",
     "output_type": "stream",
     "text": [
      "Epoch 96/150: 100%|██████████| 213/213 [00:06<00:00, 31.04batch/s, mae_loss=0.648]\n"
     ]
    },
    {
     "name": "stdout",
     "output_type": "stream",
     "text": [
      "Epoch [96/150], Training MAE: 0.6279, Training RMSE: 0.8484\n"
     ]
    },
    {
     "name": "stderr",
     "output_type": "stream",
     "text": [
      "Epoch 97/150: 100%|██████████| 213/213 [00:07<00:00, 30.39batch/s, mae_loss=0.602]\n"
     ]
    },
    {
     "name": "stdout",
     "output_type": "stream",
     "text": [
      "Epoch [97/150], Training MAE: 0.6270, Training RMSE: 0.8475\n"
     ]
    },
    {
     "name": "stderr",
     "output_type": "stream",
     "text": [
      "Epoch 98/150: 100%|██████████| 213/213 [00:08<00:00, 26.42batch/s, mae_loss=0.539]\n"
     ]
    },
    {
     "name": "stdout",
     "output_type": "stream",
     "text": [
      "Epoch [98/150], Training MAE: 0.6266, Training RMSE: 0.8474\n"
     ]
    },
    {
     "name": "stderr",
     "output_type": "stream",
     "text": [
      "Epoch 99/150: 100%|██████████| 213/213 [00:07<00:00, 28.73batch/s, mae_loss=0.651]\n"
     ]
    },
    {
     "name": "stdout",
     "output_type": "stream",
     "text": [
      "Epoch [99/150], Training MAE: 0.6267, Training RMSE: 0.8468\n"
     ]
    },
    {
     "name": "stderr",
     "output_type": "stream",
     "text": [
      "Epoch 100/150: 100%|██████████| 213/213 [00:07<00:00, 27.25batch/s, mae_loss=0.633]\n"
     ]
    },
    {
     "name": "stdout",
     "output_type": "stream",
     "text": [
      "Epoch [100/150], Training MAE: 0.6259, Training RMSE: 0.8462\n"
     ]
    },
    {
     "name": "stderr",
     "output_type": "stream",
     "text": [
      "Epoch 101/150: 100%|██████████| 213/213 [00:07<00:00, 28.77batch/s, mae_loss=0.668]\n"
     ]
    },
    {
     "name": "stdout",
     "output_type": "stream",
     "text": [
      "Epoch [101/150], Training MAE: 0.6259, Training RMSE: 0.8459\n"
     ]
    },
    {
     "name": "stderr",
     "output_type": "stream",
     "text": [
      "Epoch 102/150: 100%|██████████| 213/213 [00:10<00:00, 20.00batch/s, mae_loss=0.601]\n"
     ]
    },
    {
     "name": "stdout",
     "output_type": "stream",
     "text": [
      "Epoch [102/150], Training MAE: 0.6257, Training RMSE: 0.8456\n"
     ]
    },
    {
     "name": "stderr",
     "output_type": "stream",
     "text": [
      "Epoch 103/150: 100%|██████████| 213/213 [00:07<00:00, 27.48batch/s, mae_loss=0.637]\n"
     ]
    },
    {
     "name": "stdout",
     "output_type": "stream",
     "text": [
      "Epoch [103/150], Training MAE: 0.6248, Training RMSE: 0.8446\n"
     ]
    },
    {
     "name": "stderr",
     "output_type": "stream",
     "text": [
      "Epoch 104/150: 100%|██████████| 213/213 [00:08<00:00, 24.34batch/s, mae_loss=0.659]\n"
     ]
    },
    {
     "name": "stdout",
     "output_type": "stream",
     "text": [
      "Epoch [104/150], Training MAE: 0.6251, Training RMSE: 0.8449\n"
     ]
    },
    {
     "name": "stderr",
     "output_type": "stream",
     "text": [
      "Epoch 105/150: 100%|██████████| 213/213 [00:07<00:00, 26.80batch/s, mae_loss=0.623]\n"
     ]
    },
    {
     "name": "stdout",
     "output_type": "stream",
     "text": [
      "Epoch [105/150], Training MAE: 0.6238, Training RMSE: 0.8439\n"
     ]
    },
    {
     "name": "stderr",
     "output_type": "stream",
     "text": [
      "Epoch 106/150: 100%|██████████| 213/213 [00:07<00:00, 27.40batch/s, mae_loss=0.615]\n"
     ]
    },
    {
     "name": "stdout",
     "output_type": "stream",
     "text": [
      "Epoch [106/150], Training MAE: 0.6236, Training RMSE: 0.8434\n"
     ]
    },
    {
     "name": "stderr",
     "output_type": "stream",
     "text": [
      "Epoch 107/150: 100%|██████████| 213/213 [00:07<00:00, 29.59batch/s, mae_loss=0.561]\n"
     ]
    },
    {
     "name": "stdout",
     "output_type": "stream",
     "text": [
      "Epoch [107/150], Training MAE: 0.6234, Training RMSE: 0.8430\n"
     ]
    },
    {
     "name": "stderr",
     "output_type": "stream",
     "text": [
      "Epoch 108/150: 100%|██████████| 213/213 [00:07<00:00, 28.90batch/s, mae_loss=0.639]\n"
     ]
    },
    {
     "name": "stdout",
     "output_type": "stream",
     "text": [
      "Epoch [108/150], Training MAE: 0.6227, Training RMSE: 0.8424\n"
     ]
    },
    {
     "name": "stderr",
     "output_type": "stream",
     "text": [
      "Epoch 109/150: 100%|██████████| 213/213 [00:07<00:00, 28.82batch/s, mae_loss=0.621]\n"
     ]
    },
    {
     "name": "stdout",
     "output_type": "stream",
     "text": [
      "Epoch [109/150], Training MAE: 0.6219, Training RMSE: 0.8416\n"
     ]
    },
    {
     "name": "stderr",
     "output_type": "stream",
     "text": [
      "Epoch 110/150: 100%|██████████| 213/213 [00:06<00:00, 30.92batch/s, mae_loss=0.544]\n"
     ]
    },
    {
     "name": "stdout",
     "output_type": "stream",
     "text": [
      "Epoch [110/150], Training MAE: 0.6218, Training RMSE: 0.8414\n"
     ]
    },
    {
     "name": "stderr",
     "output_type": "stream",
     "text": [
      "Epoch 111/150: 100%|██████████| 213/213 [00:07<00:00, 28.91batch/s, mae_loss=0.637]\n"
     ]
    },
    {
     "name": "stdout",
     "output_type": "stream",
     "text": [
      "Epoch [111/150], Training MAE: 0.6211, Training RMSE: 0.8404\n"
     ]
    },
    {
     "name": "stderr",
     "output_type": "stream",
     "text": [
      "Epoch 112/150: 100%|██████████| 213/213 [00:07<00:00, 28.35batch/s, mae_loss=0.647]\n"
     ]
    },
    {
     "name": "stdout",
     "output_type": "stream",
     "text": [
      "Epoch [112/150], Training MAE: 0.6209, Training RMSE: 0.8404\n"
     ]
    },
    {
     "name": "stderr",
     "output_type": "stream",
     "text": [
      "Epoch 113/150: 100%|██████████| 213/213 [00:06<00:00, 30.78batch/s, mae_loss=0.599]\n"
     ]
    },
    {
     "name": "stdout",
     "output_type": "stream",
     "text": [
      "Epoch [113/150], Training MAE: 0.6202, Training RMSE: 0.8394\n"
     ]
    },
    {
     "name": "stderr",
     "output_type": "stream",
     "text": [
      "Epoch 114/150: 100%|██████████| 213/213 [00:07<00:00, 28.61batch/s, mae_loss=0.546]\n"
     ]
    },
    {
     "name": "stdout",
     "output_type": "stream",
     "text": [
      "Epoch [114/150], Training MAE: 0.6200, Training RMSE: 0.8394\n"
     ]
    },
    {
     "name": "stderr",
     "output_type": "stream",
     "text": [
      "Epoch 115/150: 100%|██████████| 213/213 [00:07<00:00, 26.64batch/s, mae_loss=0.595]\n"
     ]
    },
    {
     "name": "stdout",
     "output_type": "stream",
     "text": [
      "Epoch [115/150], Training MAE: 0.6191, Training RMSE: 0.8380\n"
     ]
    },
    {
     "name": "stderr",
     "output_type": "stream",
     "text": [
      "Epoch 116/150: 100%|██████████| 213/213 [00:07<00:00, 29.48batch/s, mae_loss=0.498]\n"
     ]
    },
    {
     "name": "stdout",
     "output_type": "stream",
     "text": [
      "Epoch [116/150], Training MAE: 0.6191, Training RMSE: 0.8382\n"
     ]
    },
    {
     "name": "stderr",
     "output_type": "stream",
     "text": [
      "Epoch 117/150: 100%|██████████| 213/213 [00:09<00:00, 23.43batch/s, mae_loss=0.587]\n"
     ]
    },
    {
     "name": "stdout",
     "output_type": "stream",
     "text": [
      "Epoch [117/150], Training MAE: 0.6186, Training RMSE: 0.8373\n"
     ]
    },
    {
     "name": "stderr",
     "output_type": "stream",
     "text": [
      "Epoch 118/150: 100%|██████████| 213/213 [00:08<00:00, 26.22batch/s, mae_loss=0.567]\n"
     ]
    },
    {
     "name": "stdout",
     "output_type": "stream",
     "text": [
      "Epoch [118/150], Training MAE: 0.6181, Training RMSE: 0.8370\n"
     ]
    },
    {
     "name": "stderr",
     "output_type": "stream",
     "text": [
      "Epoch 119/150: 100%|██████████| 213/213 [00:08<00:00, 24.50batch/s, mae_loss=0.544]\n"
     ]
    },
    {
     "name": "stdout",
     "output_type": "stream",
     "text": [
      "Epoch [119/150], Training MAE: 0.6175, Training RMSE: 0.8365\n"
     ]
    },
    {
     "name": "stderr",
     "output_type": "stream",
     "text": [
      "Epoch 120/150: 100%|██████████| 213/213 [00:08<00:00, 24.10batch/s, mae_loss=0.549]\n"
     ]
    },
    {
     "name": "stdout",
     "output_type": "stream",
     "text": [
      "Epoch [120/150], Training MAE: 0.6175, Training RMSE: 0.8365\n"
     ]
    },
    {
     "name": "stderr",
     "output_type": "stream",
     "text": [
      "Epoch 121/150: 100%|██████████| 213/213 [00:08<00:00, 25.73batch/s, mae_loss=0.632]\n"
     ]
    },
    {
     "name": "stdout",
     "output_type": "stream",
     "text": [
      "Epoch [121/150], Training MAE: 0.6171, Training RMSE: 0.8358\n"
     ]
    },
    {
     "name": "stderr",
     "output_type": "stream",
     "text": [
      "Epoch 122/150: 100%|██████████| 213/213 [00:07<00:00, 27.86batch/s, mae_loss=0.662]\n"
     ]
    },
    {
     "name": "stdout",
     "output_type": "stream",
     "text": [
      "Epoch [122/150], Training MAE: 0.6164, Training RMSE: 0.8350\n"
     ]
    },
    {
     "name": "stderr",
     "output_type": "stream",
     "text": [
      "Epoch 123/150: 100%|██████████| 213/213 [00:07<00:00, 26.63batch/s, mae_loss=0.636]\n"
     ]
    },
    {
     "name": "stdout",
     "output_type": "stream",
     "text": [
      "Epoch [123/150], Training MAE: 0.6164, Training RMSE: 0.8350\n"
     ]
    },
    {
     "name": "stderr",
     "output_type": "stream",
     "text": [
      "Epoch 124/150: 100%|██████████| 213/213 [00:07<00:00, 27.06batch/s, mae_loss=0.622]\n"
     ]
    },
    {
     "name": "stdout",
     "output_type": "stream",
     "text": [
      "Epoch [124/150], Training MAE: 0.6152, Training RMSE: 0.8334\n"
     ]
    },
    {
     "name": "stderr",
     "output_type": "stream",
     "text": [
      "Epoch 125/150: 100%|██████████| 213/213 [00:08<00:00, 24.34batch/s, mae_loss=0.681]\n"
     ]
    },
    {
     "name": "stdout",
     "output_type": "stream",
     "text": [
      "Epoch [125/150], Training MAE: 0.6153, Training RMSE: 0.8340\n"
     ]
    },
    {
     "name": "stderr",
     "output_type": "stream",
     "text": [
      "Epoch 126/150: 100%|██████████| 213/213 [00:08<00:00, 26.52batch/s, mae_loss=0.589]\n"
     ]
    },
    {
     "name": "stdout",
     "output_type": "stream",
     "text": [
      "Epoch [126/150], Training MAE: 0.6141, Training RMSE: 0.8325\n"
     ]
    },
    {
     "name": "stderr",
     "output_type": "stream",
     "text": [
      "Epoch 127/150: 100%|██████████| 213/213 [00:07<00:00, 27.51batch/s, mae_loss=0.663]\n"
     ]
    },
    {
     "name": "stdout",
     "output_type": "stream",
     "text": [
      "Epoch [127/150], Training MAE: 0.6148, Training RMSE: 0.8334\n"
     ]
    },
    {
     "name": "stderr",
     "output_type": "stream",
     "text": [
      "Epoch 128/150: 100%|██████████| 213/213 [00:08<00:00, 25.24batch/s, mae_loss=0.609]\n"
     ]
    },
    {
     "name": "stdout",
     "output_type": "stream",
     "text": [
      "Epoch [128/150], Training MAE: 0.6141, Training RMSE: 0.8321\n"
     ]
    },
    {
     "name": "stderr",
     "output_type": "stream",
     "text": [
      "Epoch 129/150: 100%|██████████| 213/213 [00:07<00:00, 29.54batch/s, mae_loss=0.624]\n"
     ]
    },
    {
     "name": "stdout",
     "output_type": "stream",
     "text": [
      "Epoch [129/150], Training MAE: 0.6130, Training RMSE: 0.8315\n"
     ]
    },
    {
     "name": "stderr",
     "output_type": "stream",
     "text": [
      "Epoch 130/150: 100%|██████████| 213/213 [00:07<00:00, 26.68batch/s, mae_loss=0.676]\n"
     ]
    },
    {
     "name": "stdout",
     "output_type": "stream",
     "text": [
      "Epoch [130/150], Training MAE: 0.6136, Training RMSE: 0.8321\n"
     ]
    },
    {
     "name": "stderr",
     "output_type": "stream",
     "text": [
      "Epoch 131/150: 100%|██████████| 213/213 [00:08<00:00, 25.75batch/s, mae_loss=0.682]\n"
     ]
    },
    {
     "name": "stdout",
     "output_type": "stream",
     "text": [
      "Epoch [131/150], Training MAE: 0.6126, Training RMSE: 0.8312\n"
     ]
    },
    {
     "name": "stderr",
     "output_type": "stream",
     "text": [
      "Epoch 132/150: 100%|██████████| 213/213 [00:07<00:00, 27.83batch/s, mae_loss=0.647]\n"
     ]
    },
    {
     "name": "stdout",
     "output_type": "stream",
     "text": [
      "Epoch [132/150], Training MAE: 0.6128, Training RMSE: 0.8308\n"
     ]
    },
    {
     "name": "stderr",
     "output_type": "stream",
     "text": [
      "Epoch 133/150: 100%|██████████| 213/213 [00:09<00:00, 23.03batch/s, mae_loss=0.621]\n"
     ]
    },
    {
     "name": "stdout",
     "output_type": "stream",
     "text": [
      "Epoch [133/150], Training MAE: 0.6120, Training RMSE: 0.8302\n"
     ]
    },
    {
     "name": "stderr",
     "output_type": "stream",
     "text": [
      "Epoch 134/150: 100%|██████████| 213/213 [00:10<00:00, 21.09batch/s, mae_loss=0.559]\n"
     ]
    },
    {
     "name": "stdout",
     "output_type": "stream",
     "text": [
      "Epoch [134/150], Training MAE: 0.6115, Training RMSE: 0.8298\n"
     ]
    },
    {
     "name": "stderr",
     "output_type": "stream",
     "text": [
      "Epoch 135/150: 100%|██████████| 213/213 [00:07<00:00, 28.32batch/s, mae_loss=0.658]\n"
     ]
    },
    {
     "name": "stdout",
     "output_type": "stream",
     "text": [
      "Epoch [135/150], Training MAE: 0.6115, Training RMSE: 0.8291\n"
     ]
    },
    {
     "name": "stderr",
     "output_type": "stream",
     "text": [
      "Epoch 136/150: 100%|██████████| 213/213 [00:06<00:00, 31.06batch/s, mae_loss=0.622]\n"
     ]
    },
    {
     "name": "stdout",
     "output_type": "stream",
     "text": [
      "Epoch [136/150], Training MAE: 0.6111, Training RMSE: 0.8290\n"
     ]
    },
    {
     "name": "stderr",
     "output_type": "stream",
     "text": [
      "Epoch 137/150: 100%|██████████| 213/213 [00:07<00:00, 30.37batch/s, mae_loss=0.624]\n"
     ]
    },
    {
     "name": "stdout",
     "output_type": "stream",
     "text": [
      "Epoch [137/150], Training MAE: 0.6103, Training RMSE: 0.8277\n"
     ]
    },
    {
     "name": "stderr",
     "output_type": "stream",
     "text": [
      "Epoch 138/150: 100%|██████████| 213/213 [00:08<00:00, 24.78batch/s, mae_loss=0.639]\n"
     ]
    },
    {
     "name": "stdout",
     "output_type": "stream",
     "text": [
      "Epoch [138/150], Training MAE: 0.6097, Training RMSE: 0.8274\n"
     ]
    },
    {
     "name": "stderr",
     "output_type": "stream",
     "text": [
      "Epoch 139/150: 100%|██████████| 213/213 [00:06<00:00, 30.87batch/s, mae_loss=0.617]\n"
     ]
    },
    {
     "name": "stdout",
     "output_type": "stream",
     "text": [
      "Epoch [139/150], Training MAE: 0.6098, Training RMSE: 0.8284\n"
     ]
    },
    {
     "name": "stderr",
     "output_type": "stream",
     "text": [
      "Epoch 140/150: 100%|██████████| 213/213 [00:07<00:00, 28.37batch/s, mae_loss=0.614]\n"
     ]
    },
    {
     "name": "stdout",
     "output_type": "stream",
     "text": [
      "Epoch [140/150], Training MAE: 0.6090, Training RMSE: 0.8269\n"
     ]
    },
    {
     "name": "stderr",
     "output_type": "stream",
     "text": [
      "Epoch 141/150: 100%|██████████| 213/213 [00:07<00:00, 26.80batch/s, mae_loss=0.578]\n"
     ]
    },
    {
     "name": "stdout",
     "output_type": "stream",
     "text": [
      "Epoch [141/150], Training MAE: 0.6088, Training RMSE: 0.8267\n"
     ]
    },
    {
     "name": "stderr",
     "output_type": "stream",
     "text": [
      "Epoch 142/150: 100%|██████████| 213/213 [00:07<00:00, 29.45batch/s, mae_loss=0.595]\n"
     ]
    },
    {
     "name": "stdout",
     "output_type": "stream",
     "text": [
      "Epoch [142/150], Training MAE: 0.6075, Training RMSE: 0.8251\n"
     ]
    },
    {
     "name": "stderr",
     "output_type": "stream",
     "text": [
      "Epoch 143/150: 100%|██████████| 213/213 [00:07<00:00, 28.69batch/s, mae_loss=0.637]\n"
     ]
    },
    {
     "name": "stdout",
     "output_type": "stream",
     "text": [
      "Epoch [143/150], Training MAE: 0.6075, Training RMSE: 0.8251\n"
     ]
    },
    {
     "name": "stderr",
     "output_type": "stream",
     "text": [
      "Epoch 144/150: 100%|██████████| 213/213 [00:07<00:00, 30.20batch/s, mae_loss=0.567]\n"
     ]
    },
    {
     "name": "stdout",
     "output_type": "stream",
     "text": [
      "Epoch [144/150], Training MAE: 0.6079, Training RMSE: 0.8252\n"
     ]
    },
    {
     "name": "stderr",
     "output_type": "stream",
     "text": [
      "Epoch 145/150: 100%|██████████| 213/213 [00:08<00:00, 26.61batch/s, mae_loss=0.653]\n"
     ]
    },
    {
     "name": "stdout",
     "output_type": "stream",
     "text": [
      "Epoch [145/150], Training MAE: 0.6065, Training RMSE: 0.8242\n"
     ]
    },
    {
     "name": "stderr",
     "output_type": "stream",
     "text": [
      "Epoch 146/150: 100%|██████████| 213/213 [00:07<00:00, 29.79batch/s, mae_loss=0.545]\n"
     ]
    },
    {
     "name": "stdout",
     "output_type": "stream",
     "text": [
      "Epoch [146/150], Training MAE: 0.6070, Training RMSE: 0.8247\n"
     ]
    },
    {
     "name": "stderr",
     "output_type": "stream",
     "text": [
      "Epoch 147/150: 100%|██████████| 213/213 [00:08<00:00, 26.20batch/s, mae_loss=0.632]\n"
     ]
    },
    {
     "name": "stdout",
     "output_type": "stream",
     "text": [
      "Epoch [147/150], Training MAE: 0.6059, Training RMSE: 0.8232\n"
     ]
    },
    {
     "name": "stderr",
     "output_type": "stream",
     "text": [
      "Epoch 148/150: 100%|██████████| 213/213 [00:07<00:00, 27.46batch/s, mae_loss=0.587]\n"
     ]
    },
    {
     "name": "stdout",
     "output_type": "stream",
     "text": [
      "Epoch [148/150], Training MAE: 0.6064, Training RMSE: 0.8239\n"
     ]
    },
    {
     "name": "stderr",
     "output_type": "stream",
     "text": [
      "Epoch 149/150: 100%|██████████| 213/213 [00:07<00:00, 27.57batch/s, mae_loss=0.649]\n"
     ]
    },
    {
     "name": "stdout",
     "output_type": "stream",
     "text": [
      "Epoch [149/150], Training MAE: 0.6059, Training RMSE: 0.8233\n"
     ]
    },
    {
     "name": "stderr",
     "output_type": "stream",
     "text": [
      "Epoch 150/150: 100%|██████████| 213/213 [00:07<00:00, 26.74batch/s, mae_loss=0.568]\n"
     ]
    },
    {
     "name": "stdout",
     "output_type": "stream",
     "text": [
      "Epoch [150/150], Training MAE: 0.6039, Training RMSE: 0.8213\n",
      "End Prediction Horizon of 24 of generalized Model\n",
      "model_generalized_attention_24_0 saved\n",
      "Start Prediction Horizon 24 of generalized model\n"
     ]
    },
    {
     "name": "stderr",
     "output_type": "stream",
     "text": [
      "Epoch 1/150: 100%|██████████| 213/213 [00:08<00:00, 25.15batch/s, mae_loss=0.662]\n"
     ]
    },
    {
     "name": "stdout",
     "output_type": "stream",
     "text": [
      "Epoch [1/150], Training MAE: 0.6959, Training RMSE: 0.9239\n"
     ]
    },
    {
     "name": "stderr",
     "output_type": "stream",
     "text": [
      "Epoch 2/150: 100%|██████████| 213/213 [00:07<00:00, 28.66batch/s, mae_loss=0.643]\n"
     ]
    },
    {
     "name": "stdout",
     "output_type": "stream",
     "text": [
      "Epoch [2/150], Training MAE: 0.6911, Training RMSE: 0.9213\n"
     ]
    },
    {
     "name": "stderr",
     "output_type": "stream",
     "text": [
      "Epoch 3/150: 100%|██████████| 213/213 [00:07<00:00, 30.22batch/s, mae_loss=0.73] \n"
     ]
    },
    {
     "name": "stdout",
     "output_type": "stream",
     "text": [
      "Epoch [3/150], Training MAE: 0.6901, Training RMSE: 0.9212\n"
     ]
    },
    {
     "name": "stderr",
     "output_type": "stream",
     "text": [
      "Epoch 4/150: 100%|██████████| 213/213 [00:07<00:00, 30.32batch/s, mae_loss=0.655]\n"
     ]
    },
    {
     "name": "stdout",
     "output_type": "stream",
     "text": [
      "Epoch [4/150], Training MAE: 0.6894, Training RMSE: 0.9207\n"
     ]
    },
    {
     "name": "stderr",
     "output_type": "stream",
     "text": [
      "Epoch 5/150: 100%|██████████| 213/213 [00:07<00:00, 30.30batch/s, mae_loss=0.691]\n"
     ]
    },
    {
     "name": "stdout",
     "output_type": "stream",
     "text": [
      "Epoch [5/150], Training MAE: 0.6885, Training RMSE: 0.9200\n"
     ]
    },
    {
     "name": "stderr",
     "output_type": "stream",
     "text": [
      "Epoch 6/150: 100%|██████████| 213/213 [00:07<00:00, 26.99batch/s, mae_loss=0.727]\n"
     ]
    },
    {
     "name": "stdout",
     "output_type": "stream",
     "text": [
      "Epoch [6/150], Training MAE: 0.6876, Training RMSE: 0.9194\n"
     ]
    },
    {
     "name": "stderr",
     "output_type": "stream",
     "text": [
      "Epoch 7/150: 100%|██████████| 213/213 [00:07<00:00, 26.88batch/s, mae_loss=0.712]\n"
     ]
    },
    {
     "name": "stdout",
     "output_type": "stream",
     "text": [
      "Epoch [7/150], Training MAE: 0.6870, Training RMSE: 0.9189\n"
     ]
    },
    {
     "name": "stderr",
     "output_type": "stream",
     "text": [
      "Epoch 8/150: 100%|██████████| 213/213 [00:07<00:00, 26.92batch/s, mae_loss=0.688]\n"
     ]
    },
    {
     "name": "stdout",
     "output_type": "stream",
     "text": [
      "Epoch [8/150], Training MAE: 0.6862, Training RMSE: 0.9181\n"
     ]
    },
    {
     "name": "stderr",
     "output_type": "stream",
     "text": [
      "Epoch 9/150: 100%|██████████| 213/213 [00:08<00:00, 25.49batch/s, mae_loss=0.706]\n"
     ]
    },
    {
     "name": "stdout",
     "output_type": "stream",
     "text": [
      "Epoch [9/150], Training MAE: 0.6858, Training RMSE: 0.9177\n"
     ]
    },
    {
     "name": "stderr",
     "output_type": "stream",
     "text": [
      "Epoch 10/150: 100%|██████████| 213/213 [00:07<00:00, 27.14batch/s, mae_loss=0.692]\n"
     ]
    },
    {
     "name": "stdout",
     "output_type": "stream",
     "text": [
      "Epoch [10/150], Training MAE: 0.6851, Training RMSE: 0.9169\n"
     ]
    },
    {
     "name": "stderr",
     "output_type": "stream",
     "text": [
      "Epoch 11/150: 100%|██████████| 213/213 [00:09<00:00, 23.63batch/s, mae_loss=0.715]\n"
     ]
    },
    {
     "name": "stdout",
     "output_type": "stream",
     "text": [
      "Epoch [11/150], Training MAE: 0.6847, Training RMSE: 0.9165\n"
     ]
    },
    {
     "name": "stderr",
     "output_type": "stream",
     "text": [
      "Epoch 12/150: 100%|██████████| 213/213 [00:09<00:00, 22.07batch/s, mae_loss=0.638]\n"
     ]
    },
    {
     "name": "stdout",
     "output_type": "stream",
     "text": [
      "Epoch [12/150], Training MAE: 0.6840, Training RMSE: 0.9156\n"
     ]
    },
    {
     "name": "stderr",
     "output_type": "stream",
     "text": [
      "Epoch 13/150: 100%|██████████| 213/213 [00:08<00:00, 25.22batch/s, mae_loss=0.665]\n"
     ]
    },
    {
     "name": "stdout",
     "output_type": "stream",
     "text": [
      "Epoch [13/150], Training MAE: 0.6837, Training RMSE: 0.9150\n"
     ]
    },
    {
     "name": "stderr",
     "output_type": "stream",
     "text": [
      "Epoch 14/150: 100%|██████████| 213/213 [00:10<00:00, 19.74batch/s, mae_loss=0.62] \n"
     ]
    },
    {
     "name": "stdout",
     "output_type": "stream",
     "text": [
      "Epoch [14/150], Training MAE: 0.6830, Training RMSE: 0.9144\n"
     ]
    },
    {
     "name": "stderr",
     "output_type": "stream",
     "text": [
      "Epoch 15/150: 100%|██████████| 213/213 [00:07<00:00, 28.50batch/s, mae_loss=0.658]\n"
     ]
    },
    {
     "name": "stdout",
     "output_type": "stream",
     "text": [
      "Epoch [15/150], Training MAE: 0.6827, Training RMSE: 0.9139\n"
     ]
    },
    {
     "name": "stderr",
     "output_type": "stream",
     "text": [
      "Epoch 16/150: 100%|██████████| 213/213 [00:07<00:00, 27.35batch/s, mae_loss=0.692]\n"
     ]
    },
    {
     "name": "stdout",
     "output_type": "stream",
     "text": [
      "Epoch [16/150], Training MAE: 0.6822, Training RMSE: 0.9131\n"
     ]
    },
    {
     "name": "stderr",
     "output_type": "stream",
     "text": [
      "Epoch 17/150: 100%|██████████| 213/213 [00:07<00:00, 27.33batch/s, mae_loss=0.774]\n"
     ]
    },
    {
     "name": "stdout",
     "output_type": "stream",
     "text": [
      "Epoch [17/150], Training MAE: 0.6816, Training RMSE: 0.9122\n"
     ]
    },
    {
     "name": "stderr",
     "output_type": "stream",
     "text": [
      "Epoch 18/150: 100%|██████████| 213/213 [00:07<00:00, 27.78batch/s, mae_loss=0.661]\n"
     ]
    },
    {
     "name": "stdout",
     "output_type": "stream",
     "text": [
      "Epoch [18/150], Training MAE: 0.6803, Training RMSE: 0.9107\n"
     ]
    },
    {
     "name": "stderr",
     "output_type": "stream",
     "text": [
      "Epoch 19/150: 100%|██████████| 213/213 [00:07<00:00, 27.16batch/s, mae_loss=0.745]\n"
     ]
    },
    {
     "name": "stdout",
     "output_type": "stream",
     "text": [
      "Epoch [19/150], Training MAE: 0.6796, Training RMSE: 0.9096\n"
     ]
    },
    {
     "name": "stderr",
     "output_type": "stream",
     "text": [
      "Epoch 20/150: 100%|██████████| 213/213 [00:09<00:00, 22.99batch/s, mae_loss=0.644]\n"
     ]
    },
    {
     "name": "stdout",
     "output_type": "stream",
     "text": [
      "Epoch [20/150], Training MAE: 0.6783, Training RMSE: 0.9081\n"
     ]
    },
    {
     "name": "stderr",
     "output_type": "stream",
     "text": [
      "Epoch 21/150: 100%|██████████| 213/213 [00:08<00:00, 23.84batch/s, mae_loss=0.677]\n"
     ]
    },
    {
     "name": "stdout",
     "output_type": "stream",
     "text": [
      "Epoch [21/150], Training MAE: 0.6774, Training RMSE: 0.9067\n"
     ]
    },
    {
     "name": "stderr",
     "output_type": "stream",
     "text": [
      "Epoch 22/150: 100%|██████████| 213/213 [00:07<00:00, 28.14batch/s, mae_loss=0.734]\n"
     ]
    },
    {
     "name": "stdout",
     "output_type": "stream",
     "text": [
      "Epoch [22/150], Training MAE: 0.6767, Training RMSE: 0.9056\n"
     ]
    },
    {
     "name": "stderr",
     "output_type": "stream",
     "text": [
      "Epoch 23/150: 100%|██████████| 213/213 [00:08<00:00, 25.92batch/s, mae_loss=0.671]\n"
     ]
    },
    {
     "name": "stdout",
     "output_type": "stream",
     "text": [
      "Epoch [23/150], Training MAE: 0.6755, Training RMSE: 0.9044\n"
     ]
    },
    {
     "name": "stderr",
     "output_type": "stream",
     "text": [
      "Epoch 24/150: 100%|██████████| 213/213 [00:09<00:00, 21.91batch/s, mae_loss=0.709]\n"
     ]
    },
    {
     "name": "stdout",
     "output_type": "stream",
     "text": [
      "Epoch [24/150], Training MAE: 0.6738, Training RMSE: 0.9025\n"
     ]
    },
    {
     "name": "stderr",
     "output_type": "stream",
     "text": [
      "Epoch 25/150: 100%|██████████| 213/213 [00:09<00:00, 23.20batch/s, mae_loss=0.685]\n"
     ]
    },
    {
     "name": "stdout",
     "output_type": "stream",
     "text": [
      "Epoch [25/150], Training MAE: 0.6731, Training RMSE: 0.9013\n"
     ]
    },
    {
     "name": "stderr",
     "output_type": "stream",
     "text": [
      "Epoch 26/150: 100%|██████████| 213/213 [00:08<00:00, 24.88batch/s, mae_loss=0.691]\n"
     ]
    },
    {
     "name": "stdout",
     "output_type": "stream",
     "text": [
      "Epoch [26/150], Training MAE: 0.6717, Training RMSE: 0.8998\n"
     ]
    },
    {
     "name": "stderr",
     "output_type": "stream",
     "text": [
      "Epoch 27/150: 100%|██████████| 213/213 [00:07<00:00, 27.82batch/s, mae_loss=0.753]\n"
     ]
    },
    {
     "name": "stdout",
     "output_type": "stream",
     "text": [
      "Epoch [27/150], Training MAE: 0.6712, Training RMSE: 0.8991\n"
     ]
    },
    {
     "name": "stderr",
     "output_type": "stream",
     "text": [
      "Epoch 28/150: 100%|██████████| 213/213 [00:07<00:00, 28.43batch/s, mae_loss=0.713]\n"
     ]
    },
    {
     "name": "stdout",
     "output_type": "stream",
     "text": [
      "Epoch [28/150], Training MAE: 0.6697, Training RMSE: 0.8975\n"
     ]
    },
    {
     "name": "stderr",
     "output_type": "stream",
     "text": [
      "Epoch 29/150: 100%|██████████| 213/213 [00:07<00:00, 28.79batch/s, mae_loss=0.645]\n"
     ]
    },
    {
     "name": "stdout",
     "output_type": "stream",
     "text": [
      "Epoch [29/150], Training MAE: 0.6690, Training RMSE: 0.8964\n"
     ]
    },
    {
     "name": "stderr",
     "output_type": "stream",
     "text": [
      "Epoch 30/150: 100%|██████████| 213/213 [00:07<00:00, 28.90batch/s, mae_loss=0.558]\n"
     ]
    },
    {
     "name": "stdout",
     "output_type": "stream",
     "text": [
      "Epoch [30/150], Training MAE: 0.6676, Training RMSE: 0.8949\n"
     ]
    },
    {
     "name": "stderr",
     "output_type": "stream",
     "text": [
      "Epoch 31/150: 100%|██████████| 213/213 [00:07<00:00, 29.37batch/s, mae_loss=0.692]\n"
     ]
    },
    {
     "name": "stdout",
     "output_type": "stream",
     "text": [
      "Epoch [31/150], Training MAE: 0.6674, Training RMSE: 0.8946\n"
     ]
    },
    {
     "name": "stderr",
     "output_type": "stream",
     "text": [
      "Epoch 32/150: 100%|██████████| 213/213 [00:07<00:00, 27.69batch/s, mae_loss=0.633]\n"
     ]
    },
    {
     "name": "stdout",
     "output_type": "stream",
     "text": [
      "Epoch [32/150], Training MAE: 0.6660, Training RMSE: 0.8932\n"
     ]
    },
    {
     "name": "stderr",
     "output_type": "stream",
     "text": [
      "Epoch 33/150: 100%|██████████| 213/213 [00:07<00:00, 27.96batch/s, mae_loss=0.655]\n"
     ]
    },
    {
     "name": "stdout",
     "output_type": "stream",
     "text": [
      "Epoch [33/150], Training MAE: 0.6649, Training RMSE: 0.8914\n"
     ]
    },
    {
     "name": "stderr",
     "output_type": "stream",
     "text": [
      "Epoch 34/150: 100%|██████████| 213/213 [00:07<00:00, 29.12batch/s, mae_loss=0.635]\n"
     ]
    },
    {
     "name": "stdout",
     "output_type": "stream",
     "text": [
      "Epoch [34/150], Training MAE: 0.6643, Training RMSE: 0.8910\n"
     ]
    },
    {
     "name": "stderr",
     "output_type": "stream",
     "text": [
      "Epoch 35/150: 100%|██████████| 213/213 [00:06<00:00, 30.99batch/s, mae_loss=0.619]\n"
     ]
    },
    {
     "name": "stdout",
     "output_type": "stream",
     "text": [
      "Epoch [35/150], Training MAE: 0.6635, Training RMSE: 0.8903\n"
     ]
    },
    {
     "name": "stderr",
     "output_type": "stream",
     "text": [
      "Epoch 36/150: 100%|██████████| 213/213 [00:07<00:00, 28.01batch/s, mae_loss=0.712]\n"
     ]
    },
    {
     "name": "stdout",
     "output_type": "stream",
     "text": [
      "Epoch [36/150], Training MAE: 0.6629, Training RMSE: 0.8895\n"
     ]
    },
    {
     "name": "stderr",
     "output_type": "stream",
     "text": [
      "Epoch 37/150: 100%|██████████| 213/213 [00:07<00:00, 29.11batch/s, mae_loss=0.67] \n"
     ]
    },
    {
     "name": "stdout",
     "output_type": "stream",
     "text": [
      "Epoch [37/150], Training MAE: 0.6619, Training RMSE: 0.8883\n"
     ]
    },
    {
     "name": "stderr",
     "output_type": "stream",
     "text": [
      "Epoch 38/150: 100%|██████████| 213/213 [00:07<00:00, 28.70batch/s, mae_loss=0.684]\n"
     ]
    },
    {
     "name": "stdout",
     "output_type": "stream",
     "text": [
      "Epoch [38/150], Training MAE: 0.6616, Training RMSE: 0.8879\n"
     ]
    },
    {
     "name": "stderr",
     "output_type": "stream",
     "text": [
      "Epoch 39/150: 100%|██████████| 213/213 [00:08<00:00, 25.65batch/s, mae_loss=0.666]\n"
     ]
    },
    {
     "name": "stdout",
     "output_type": "stream",
     "text": [
      "Epoch [39/150], Training MAE: 0.6602, Training RMSE: 0.8867\n"
     ]
    },
    {
     "name": "stderr",
     "output_type": "stream",
     "text": [
      "Epoch 40/150: 100%|██████████| 213/213 [00:07<00:00, 27.92batch/s, mae_loss=0.668]\n"
     ]
    },
    {
     "name": "stdout",
     "output_type": "stream",
     "text": [
      "Epoch [40/150], Training MAE: 0.6597, Training RMSE: 0.8863\n"
     ]
    },
    {
     "name": "stderr",
     "output_type": "stream",
     "text": [
      "Epoch 41/150: 100%|██████████| 213/213 [00:07<00:00, 28.02batch/s, mae_loss=0.668]\n"
     ]
    },
    {
     "name": "stdout",
     "output_type": "stream",
     "text": [
      "Epoch [41/150], Training MAE: 0.6587, Training RMSE: 0.8850\n"
     ]
    },
    {
     "name": "stderr",
     "output_type": "stream",
     "text": [
      "Epoch 42/150: 100%|██████████| 213/213 [00:07<00:00, 29.48batch/s, mae_loss=0.693]\n"
     ]
    },
    {
     "name": "stdout",
     "output_type": "stream",
     "text": [
      "Epoch [42/150], Training MAE: 0.6582, Training RMSE: 0.8846\n"
     ]
    },
    {
     "name": "stderr",
     "output_type": "stream",
     "text": [
      "Epoch 43/150: 100%|██████████| 213/213 [00:06<00:00, 31.84batch/s, mae_loss=0.676]\n"
     ]
    },
    {
     "name": "stdout",
     "output_type": "stream",
     "text": [
      "Epoch [43/150], Training MAE: 0.6580, Training RMSE: 0.8838\n"
     ]
    },
    {
     "name": "stderr",
     "output_type": "stream",
     "text": [
      "Epoch 44/150: 100%|██████████| 213/213 [00:08<00:00, 23.85batch/s, mae_loss=0.579]\n"
     ]
    },
    {
     "name": "stdout",
     "output_type": "stream",
     "text": [
      "Epoch [44/150], Training MAE: 0.6565, Training RMSE: 0.8825\n"
     ]
    },
    {
     "name": "stderr",
     "output_type": "stream",
     "text": [
      "Epoch 45/150: 100%|██████████| 213/213 [00:07<00:00, 26.88batch/s, mae_loss=0.621]\n"
     ]
    },
    {
     "name": "stdout",
     "output_type": "stream",
     "text": [
      "Epoch [45/150], Training MAE: 0.6565, Training RMSE: 0.8823\n"
     ]
    },
    {
     "name": "stderr",
     "output_type": "stream",
     "text": [
      "Epoch 46/150: 100%|██████████| 213/213 [00:06<00:00, 32.36batch/s, mae_loss=0.637]\n"
     ]
    },
    {
     "name": "stdout",
     "output_type": "stream",
     "text": [
      "Epoch [46/150], Training MAE: 0.6555, Training RMSE: 0.8814\n"
     ]
    },
    {
     "name": "stderr",
     "output_type": "stream",
     "text": [
      "Epoch 47/150: 100%|██████████| 213/213 [00:06<00:00, 30.75batch/s, mae_loss=0.688]\n"
     ]
    },
    {
     "name": "stdout",
     "output_type": "stream",
     "text": [
      "Epoch [47/150], Training MAE: 0.6548, Training RMSE: 0.8808\n"
     ]
    },
    {
     "name": "stderr",
     "output_type": "stream",
     "text": [
      "Epoch 48/150: 100%|██████████| 213/213 [00:06<00:00, 31.19batch/s, mae_loss=0.62] \n"
     ]
    },
    {
     "name": "stdout",
     "output_type": "stream",
     "text": [
      "Epoch [48/150], Training MAE: 0.6540, Training RMSE: 0.8796\n"
     ]
    },
    {
     "name": "stderr",
     "output_type": "stream",
     "text": [
      "Epoch 49/150: 100%|██████████| 213/213 [00:06<00:00, 31.00batch/s, mae_loss=0.612]\n"
     ]
    },
    {
     "name": "stdout",
     "output_type": "stream",
     "text": [
      "Epoch [49/150], Training MAE: 0.6536, Training RMSE: 0.8794\n"
     ]
    },
    {
     "name": "stderr",
     "output_type": "stream",
     "text": [
      "Epoch 50/150: 100%|██████████| 213/213 [00:07<00:00, 28.03batch/s, mae_loss=0.667]\n"
     ]
    },
    {
     "name": "stdout",
     "output_type": "stream",
     "text": [
      "Epoch [50/150], Training MAE: 0.6531, Training RMSE: 0.8783\n"
     ]
    },
    {
     "name": "stderr",
     "output_type": "stream",
     "text": [
      "Epoch 51/150: 100%|██████████| 213/213 [00:07<00:00, 29.29batch/s, mae_loss=0.597]\n"
     ]
    },
    {
     "name": "stdout",
     "output_type": "stream",
     "text": [
      "Epoch [51/150], Training MAE: 0.6519, Training RMSE: 0.8772\n"
     ]
    },
    {
     "name": "stderr",
     "output_type": "stream",
     "text": [
      "Epoch 52/150: 100%|██████████| 213/213 [00:07<00:00, 26.64batch/s, mae_loss=0.64] \n"
     ]
    },
    {
     "name": "stdout",
     "output_type": "stream",
     "text": [
      "Epoch [52/150], Training MAE: 0.6516, Training RMSE: 0.8768\n"
     ]
    },
    {
     "name": "stderr",
     "output_type": "stream",
     "text": [
      "Epoch 53/150: 100%|██████████| 213/213 [00:07<00:00, 26.64batch/s, mae_loss=0.639]\n"
     ]
    },
    {
     "name": "stdout",
     "output_type": "stream",
     "text": [
      "Epoch [53/150], Training MAE: 0.6508, Training RMSE: 0.8762\n"
     ]
    },
    {
     "name": "stderr",
     "output_type": "stream",
     "text": [
      "Epoch 54/150: 100%|██████████| 213/213 [00:07<00:00, 28.24batch/s, mae_loss=0.673]\n"
     ]
    },
    {
     "name": "stdout",
     "output_type": "stream",
     "text": [
      "Epoch [54/150], Training MAE: 0.6503, Training RMSE: 0.8754\n"
     ]
    },
    {
     "name": "stderr",
     "output_type": "stream",
     "text": [
      "Epoch 55/150: 100%|██████████| 213/213 [00:07<00:00, 28.18batch/s, mae_loss=0.658]\n"
     ]
    },
    {
     "name": "stdout",
     "output_type": "stream",
     "text": [
      "Epoch [55/150], Training MAE: 0.6496, Training RMSE: 0.8750\n"
     ]
    },
    {
     "name": "stderr",
     "output_type": "stream",
     "text": [
      "Epoch 56/150: 100%|██████████| 213/213 [00:06<00:00, 32.95batch/s, mae_loss=0.771]\n"
     ]
    },
    {
     "name": "stdout",
     "output_type": "stream",
     "text": [
      "Epoch [56/150], Training MAE: 0.6493, Training RMSE: 0.8747\n"
     ]
    },
    {
     "name": "stderr",
     "output_type": "stream",
     "text": [
      "Epoch 57/150: 100%|██████████| 213/213 [00:06<00:00, 32.05batch/s, mae_loss=0.618]\n"
     ]
    },
    {
     "name": "stdout",
     "output_type": "stream",
     "text": [
      "Epoch [57/150], Training MAE: 0.6485, Training RMSE: 0.8736\n"
     ]
    },
    {
     "name": "stderr",
     "output_type": "stream",
     "text": [
      "Epoch 58/150: 100%|██████████| 213/213 [00:07<00:00, 26.97batch/s, mae_loss=0.628]\n"
     ]
    },
    {
     "name": "stdout",
     "output_type": "stream",
     "text": [
      "Epoch [58/150], Training MAE: 0.6485, Training RMSE: 0.8731\n"
     ]
    },
    {
     "name": "stderr",
     "output_type": "stream",
     "text": [
      "Epoch 59/150: 100%|██████████| 213/213 [00:08<00:00, 24.91batch/s, mae_loss=0.555]\n"
     ]
    },
    {
     "name": "stdout",
     "output_type": "stream",
     "text": [
      "Epoch [59/150], Training MAE: 0.6477, Training RMSE: 0.8723\n"
     ]
    },
    {
     "name": "stderr",
     "output_type": "stream",
     "text": [
      "Epoch 60/150: 100%|██████████| 213/213 [00:08<00:00, 24.37batch/s, mae_loss=0.69] \n"
     ]
    },
    {
     "name": "stdout",
     "output_type": "stream",
     "text": [
      "Epoch [60/150], Training MAE: 0.6465, Training RMSE: 0.8713\n"
     ]
    },
    {
     "name": "stderr",
     "output_type": "stream",
     "text": [
      "Epoch 61/150: 100%|██████████| 213/213 [00:07<00:00, 29.06batch/s, mae_loss=0.639]\n"
     ]
    },
    {
     "name": "stdout",
     "output_type": "stream",
     "text": [
      "Epoch [61/150], Training MAE: 0.6465, Training RMSE: 0.8711\n"
     ]
    },
    {
     "name": "stderr",
     "output_type": "stream",
     "text": [
      "Epoch 62/150: 100%|██████████| 213/213 [00:07<00:00, 29.50batch/s, mae_loss=0.632]\n"
     ]
    },
    {
     "name": "stdout",
     "output_type": "stream",
     "text": [
      "Epoch [62/150], Training MAE: 0.6459, Training RMSE: 0.8705\n"
     ]
    },
    {
     "name": "stderr",
     "output_type": "stream",
     "text": [
      "Epoch 63/150: 100%|██████████| 213/213 [00:07<00:00, 27.66batch/s, mae_loss=0.642]\n"
     ]
    },
    {
     "name": "stdout",
     "output_type": "stream",
     "text": [
      "Epoch [63/150], Training MAE: 0.6456, Training RMSE: 0.8700\n"
     ]
    },
    {
     "name": "stderr",
     "output_type": "stream",
     "text": [
      "Epoch 64/150: 100%|██████████| 213/213 [00:06<00:00, 30.71batch/s, mae_loss=0.661]\n"
     ]
    },
    {
     "name": "stdout",
     "output_type": "stream",
     "text": [
      "Epoch [64/150], Training MAE: 0.6448, Training RMSE: 0.8693\n"
     ]
    },
    {
     "name": "stderr",
     "output_type": "stream",
     "text": [
      "Epoch 65/150: 100%|██████████| 213/213 [00:07<00:00, 27.81batch/s, mae_loss=0.69] \n"
     ]
    },
    {
     "name": "stdout",
     "output_type": "stream",
     "text": [
      "Epoch [65/150], Training MAE: 0.6446, Training RMSE: 0.8688\n"
     ]
    },
    {
     "name": "stderr",
     "output_type": "stream",
     "text": [
      "Epoch 66/150: 100%|██████████| 213/213 [00:07<00:00, 27.94batch/s, mae_loss=0.709]\n"
     ]
    },
    {
     "name": "stdout",
     "output_type": "stream",
     "text": [
      "Epoch [66/150], Training MAE: 0.6438, Training RMSE: 0.8680\n"
     ]
    },
    {
     "name": "stderr",
     "output_type": "stream",
     "text": [
      "Epoch 67/150: 100%|██████████| 213/213 [00:07<00:00, 27.40batch/s, mae_loss=0.683]\n"
     ]
    },
    {
     "name": "stdout",
     "output_type": "stream",
     "text": [
      "Epoch [67/150], Training MAE: 0.6431, Training RMSE: 0.8671\n"
     ]
    },
    {
     "name": "stderr",
     "output_type": "stream",
     "text": [
      "Epoch 68/150: 100%|██████████| 213/213 [00:07<00:00, 27.19batch/s, mae_loss=0.631]\n"
     ]
    },
    {
     "name": "stdout",
     "output_type": "stream",
     "text": [
      "Epoch [68/150], Training MAE: 0.6433, Training RMSE: 0.8676\n"
     ]
    },
    {
     "name": "stderr",
     "output_type": "stream",
     "text": [
      "Epoch 69/150: 100%|██████████| 213/213 [00:07<00:00, 30.29batch/s, mae_loss=0.732]\n"
     ]
    },
    {
     "name": "stdout",
     "output_type": "stream",
     "text": [
      "Epoch [69/150], Training MAE: 0.6420, Training RMSE: 0.8664\n"
     ]
    },
    {
     "name": "stderr",
     "output_type": "stream",
     "text": [
      "Epoch 70/150: 100%|██████████| 213/213 [00:08<00:00, 23.85batch/s, mae_loss=0.712]\n"
     ]
    },
    {
     "name": "stdout",
     "output_type": "stream",
     "text": [
      "Epoch [70/150], Training MAE: 0.6420, Training RMSE: 0.8658\n"
     ]
    },
    {
     "name": "stderr",
     "output_type": "stream",
     "text": [
      "Epoch 71/150: 100%|██████████| 213/213 [00:10<00:00, 21.14batch/s, mae_loss=0.592]\n"
     ]
    },
    {
     "name": "stdout",
     "output_type": "stream",
     "text": [
      "Epoch [71/150], Training MAE: 0.6413, Training RMSE: 0.8648\n"
     ]
    },
    {
     "name": "stderr",
     "output_type": "stream",
     "text": [
      "Epoch 72/150: 100%|██████████| 213/213 [00:08<00:00, 24.83batch/s, mae_loss=0.691]\n"
     ]
    },
    {
     "name": "stdout",
     "output_type": "stream",
     "text": [
      "Epoch [72/150], Training MAE: 0.6410, Training RMSE: 0.8646\n"
     ]
    },
    {
     "name": "stderr",
     "output_type": "stream",
     "text": [
      "Epoch 73/150: 100%|██████████| 213/213 [00:07<00:00, 27.65batch/s, mae_loss=0.612]\n"
     ]
    },
    {
     "name": "stdout",
     "output_type": "stream",
     "text": [
      "Epoch [73/150], Training MAE: 0.6400, Training RMSE: 0.8631\n"
     ]
    },
    {
     "name": "stderr",
     "output_type": "stream",
     "text": [
      "Epoch 74/150: 100%|██████████| 213/213 [00:07<00:00, 29.03batch/s, mae_loss=0.572]\n"
     ]
    },
    {
     "name": "stdout",
     "output_type": "stream",
     "text": [
      "Epoch [74/150], Training MAE: 0.6396, Training RMSE: 0.8630\n"
     ]
    },
    {
     "name": "stderr",
     "output_type": "stream",
     "text": [
      "Epoch 75/150: 100%|██████████| 213/213 [00:07<00:00, 29.25batch/s, mae_loss=0.659]\n"
     ]
    },
    {
     "name": "stdout",
     "output_type": "stream",
     "text": [
      "Epoch [75/150], Training MAE: 0.6394, Training RMSE: 0.8628\n"
     ]
    },
    {
     "name": "stderr",
     "output_type": "stream",
     "text": [
      "Epoch 76/150: 100%|██████████| 213/213 [00:07<00:00, 29.25batch/s, mae_loss=0.653]\n"
     ]
    },
    {
     "name": "stdout",
     "output_type": "stream",
     "text": [
      "Epoch [76/150], Training MAE: 0.6384, Training RMSE: 0.8618\n"
     ]
    },
    {
     "name": "stderr",
     "output_type": "stream",
     "text": [
      "Epoch 77/150: 100%|██████████| 213/213 [00:06<00:00, 32.41batch/s, mae_loss=0.62] \n"
     ]
    },
    {
     "name": "stdout",
     "output_type": "stream",
     "text": [
      "Epoch [77/150], Training MAE: 0.6379, Training RMSE: 0.8611\n"
     ]
    },
    {
     "name": "stderr",
     "output_type": "stream",
     "text": [
      "Epoch 78/150: 100%|██████████| 213/213 [00:07<00:00, 28.16batch/s, mae_loss=0.582]\n"
     ]
    },
    {
     "name": "stdout",
     "output_type": "stream",
     "text": [
      "Epoch [78/150], Training MAE: 0.6376, Training RMSE: 0.8608\n"
     ]
    },
    {
     "name": "stderr",
     "output_type": "stream",
     "text": [
      "Epoch 79/150: 100%|██████████| 213/213 [00:06<00:00, 32.64batch/s, mae_loss=0.667]\n"
     ]
    },
    {
     "name": "stdout",
     "output_type": "stream",
     "text": [
      "Epoch [79/150], Training MAE: 0.6363, Training RMSE: 0.8592\n"
     ]
    },
    {
     "name": "stderr",
     "output_type": "stream",
     "text": [
      "Epoch 80/150: 100%|██████████| 213/213 [00:06<00:00, 32.80batch/s, mae_loss=0.669]\n"
     ]
    },
    {
     "name": "stdout",
     "output_type": "stream",
     "text": [
      "Epoch [80/150], Training MAE: 0.6364, Training RMSE: 0.8593\n"
     ]
    },
    {
     "name": "stderr",
     "output_type": "stream",
     "text": [
      "Epoch 81/150: 100%|██████████| 213/213 [00:06<00:00, 31.53batch/s, mae_loss=0.653]\n"
     ]
    },
    {
     "name": "stdout",
     "output_type": "stream",
     "text": [
      "Epoch [81/150], Training MAE: 0.6356, Training RMSE: 0.8586\n"
     ]
    },
    {
     "name": "stderr",
     "output_type": "stream",
     "text": [
      "Epoch 82/150: 100%|██████████| 213/213 [00:07<00:00, 29.61batch/s, mae_loss=0.615]\n"
     ]
    },
    {
     "name": "stdout",
     "output_type": "stream",
     "text": [
      "Epoch [82/150], Training MAE: 0.6356, Training RMSE: 0.8581\n"
     ]
    },
    {
     "name": "stderr",
     "output_type": "stream",
     "text": [
      "Epoch 83/150: 100%|██████████| 213/213 [00:07<00:00, 28.23batch/s, mae_loss=0.557]\n"
     ]
    },
    {
     "name": "stdout",
     "output_type": "stream",
     "text": [
      "Epoch [83/150], Training MAE: 0.6347, Training RMSE: 0.8579\n"
     ]
    },
    {
     "name": "stderr",
     "output_type": "stream",
     "text": [
      "Epoch 84/150: 100%|██████████| 213/213 [00:08<00:00, 25.57batch/s, mae_loss=0.601]\n"
     ]
    },
    {
     "name": "stdout",
     "output_type": "stream",
     "text": [
      "Epoch [84/150], Training MAE: 0.6349, Training RMSE: 0.8573\n"
     ]
    },
    {
     "name": "stderr",
     "output_type": "stream",
     "text": [
      "Epoch 85/150: 100%|██████████| 213/213 [00:09<00:00, 23.45batch/s, mae_loss=0.673]\n"
     ]
    },
    {
     "name": "stdout",
     "output_type": "stream",
     "text": [
      "Epoch [85/150], Training MAE: 0.6345, Training RMSE: 0.8568\n"
     ]
    },
    {
     "name": "stderr",
     "output_type": "stream",
     "text": [
      "Epoch 86/150: 100%|██████████| 213/213 [00:07<00:00, 28.15batch/s, mae_loss=0.666]\n"
     ]
    },
    {
     "name": "stdout",
     "output_type": "stream",
     "text": [
      "Epoch [86/150], Training MAE: 0.6339, Training RMSE: 0.8565\n"
     ]
    },
    {
     "name": "stderr",
     "output_type": "stream",
     "text": [
      "Epoch 87/150: 100%|██████████| 213/213 [00:08<00:00, 26.34batch/s, mae_loss=0.653]\n"
     ]
    },
    {
     "name": "stdout",
     "output_type": "stream",
     "text": [
      "Epoch [87/150], Training MAE: 0.6326, Training RMSE: 0.8554\n"
     ]
    },
    {
     "name": "stderr",
     "output_type": "stream",
     "text": [
      "Epoch 88/150: 100%|██████████| 213/213 [00:06<00:00, 31.56batch/s, mae_loss=0.556]\n"
     ]
    },
    {
     "name": "stdout",
     "output_type": "stream",
     "text": [
      "Epoch [88/150], Training MAE: 0.6328, Training RMSE: 0.8552\n"
     ]
    },
    {
     "name": "stderr",
     "output_type": "stream",
     "text": [
      "Epoch 89/150: 100%|██████████| 213/213 [00:06<00:00, 32.05batch/s, mae_loss=0.631]\n"
     ]
    },
    {
     "name": "stdout",
     "output_type": "stream",
     "text": [
      "Epoch [89/150], Training MAE: 0.6313, Training RMSE: 0.8532\n"
     ]
    },
    {
     "name": "stderr",
     "output_type": "stream",
     "text": [
      "Epoch 90/150: 100%|██████████| 213/213 [00:06<00:00, 30.50batch/s, mae_loss=0.567]\n"
     ]
    },
    {
     "name": "stdout",
     "output_type": "stream",
     "text": [
      "Epoch [90/150], Training MAE: 0.6319, Training RMSE: 0.8542\n"
     ]
    },
    {
     "name": "stderr",
     "output_type": "stream",
     "text": [
      "Epoch 91/150: 100%|██████████| 213/213 [00:07<00:00, 29.67batch/s, mae_loss=0.653]\n"
     ]
    },
    {
     "name": "stdout",
     "output_type": "stream",
     "text": [
      "Epoch [91/150], Training MAE: 0.6313, Training RMSE: 0.8533\n"
     ]
    },
    {
     "name": "stderr",
     "output_type": "stream",
     "text": [
      "Epoch 92/150: 100%|██████████| 213/213 [00:06<00:00, 32.52batch/s, mae_loss=0.587]\n"
     ]
    },
    {
     "name": "stdout",
     "output_type": "stream",
     "text": [
      "Epoch [92/150], Training MAE: 0.6309, Training RMSE: 0.8527\n"
     ]
    },
    {
     "name": "stderr",
     "output_type": "stream",
     "text": [
      "Epoch 93/150: 100%|██████████| 213/213 [00:06<00:00, 31.98batch/s, mae_loss=0.669]\n"
     ]
    },
    {
     "name": "stdout",
     "output_type": "stream",
     "text": [
      "Epoch [93/150], Training MAE: 0.6300, Training RMSE: 0.8526\n"
     ]
    },
    {
     "name": "stderr",
     "output_type": "stream",
     "text": [
      "Epoch 94/150: 100%|██████████| 213/213 [00:07<00:00, 28.28batch/s, mae_loss=0.616]\n"
     ]
    },
    {
     "name": "stdout",
     "output_type": "stream",
     "text": [
      "Epoch [94/150], Training MAE: 0.6294, Training RMSE: 0.8515\n"
     ]
    },
    {
     "name": "stderr",
     "output_type": "stream",
     "text": [
      "Epoch 95/150: 100%|██████████| 213/213 [00:08<00:00, 24.30batch/s, mae_loss=0.635]\n"
     ]
    },
    {
     "name": "stdout",
     "output_type": "stream",
     "text": [
      "Epoch [95/150], Training MAE: 0.6293, Training RMSE: 0.8512\n"
     ]
    },
    {
     "name": "stderr",
     "output_type": "stream",
     "text": [
      "Epoch 96/150: 100%|██████████| 213/213 [00:10<00:00, 21.28batch/s, mae_loss=0.636]\n"
     ]
    },
    {
     "name": "stdout",
     "output_type": "stream",
     "text": [
      "Epoch [96/150], Training MAE: 0.6286, Training RMSE: 0.8501\n"
     ]
    },
    {
     "name": "stderr",
     "output_type": "stream",
     "text": [
      "Epoch 97/150: 100%|██████████| 213/213 [00:07<00:00, 27.51batch/s, mae_loss=0.589]\n"
     ]
    },
    {
     "name": "stdout",
     "output_type": "stream",
     "text": [
      "Epoch [97/150], Training MAE: 0.6277, Training RMSE: 0.8494\n"
     ]
    },
    {
     "name": "stderr",
     "output_type": "stream",
     "text": [
      "Epoch 98/150: 100%|██████████| 213/213 [00:08<00:00, 26.39batch/s, mae_loss=0.669]\n"
     ]
    },
    {
     "name": "stdout",
     "output_type": "stream",
     "text": [
      "Epoch [98/150], Training MAE: 0.6280, Training RMSE: 0.8495\n"
     ]
    },
    {
     "name": "stderr",
     "output_type": "stream",
     "text": [
      "Epoch 99/150: 100%|██████████| 213/213 [00:08<00:00, 25.40batch/s, mae_loss=0.561]\n"
     ]
    },
    {
     "name": "stdout",
     "output_type": "stream",
     "text": [
      "Epoch [99/150], Training MAE: 0.6268, Training RMSE: 0.8485\n"
     ]
    },
    {
     "name": "stderr",
     "output_type": "stream",
     "text": [
      "Epoch 100/150: 100%|██████████| 213/213 [00:06<00:00, 31.45batch/s, mae_loss=0.613]\n"
     ]
    },
    {
     "name": "stdout",
     "output_type": "stream",
     "text": [
      "Epoch [100/150], Training MAE: 0.6267, Training RMSE: 0.8479\n"
     ]
    },
    {
     "name": "stderr",
     "output_type": "stream",
     "text": [
      "Epoch 101/150: 100%|██████████| 213/213 [00:06<00:00, 31.23batch/s, mae_loss=0.736]\n"
     ]
    },
    {
     "name": "stdout",
     "output_type": "stream",
     "text": [
      "Epoch [101/150], Training MAE: 0.6272, Training RMSE: 0.8487\n"
     ]
    },
    {
     "name": "stderr",
     "output_type": "stream",
     "text": [
      "Epoch 102/150: 100%|██████████| 213/213 [00:06<00:00, 31.26batch/s, mae_loss=0.635]\n"
     ]
    },
    {
     "name": "stdout",
     "output_type": "stream",
     "text": [
      "Epoch [102/150], Training MAE: 0.6259, Training RMSE: 0.8467\n"
     ]
    },
    {
     "name": "stderr",
     "output_type": "stream",
     "text": [
      "Epoch 103/150: 100%|██████████| 213/213 [00:07<00:00, 28.39batch/s, mae_loss=0.616]\n"
     ]
    },
    {
     "name": "stdout",
     "output_type": "stream",
     "text": [
      "Epoch [103/150], Training MAE: 0.6254, Training RMSE: 0.8466\n"
     ]
    },
    {
     "name": "stderr",
     "output_type": "stream",
     "text": [
      "Epoch 104/150: 100%|██████████| 213/213 [00:06<00:00, 31.68batch/s, mae_loss=0.664]\n"
     ]
    },
    {
     "name": "stdout",
     "output_type": "stream",
     "text": [
      "Epoch [104/150], Training MAE: 0.6247, Training RMSE: 0.8455\n"
     ]
    },
    {
     "name": "stderr",
     "output_type": "stream",
     "text": [
      "Epoch 105/150: 100%|██████████| 213/213 [00:06<00:00, 33.85batch/s, mae_loss=0.678]\n"
     ]
    },
    {
     "name": "stdout",
     "output_type": "stream",
     "text": [
      "Epoch [105/150], Training MAE: 0.6247, Training RMSE: 0.8456\n"
     ]
    },
    {
     "name": "stderr",
     "output_type": "stream",
     "text": [
      "Epoch 106/150: 100%|██████████| 213/213 [00:06<00:00, 34.05batch/s, mae_loss=0.571]\n"
     ]
    },
    {
     "name": "stdout",
     "output_type": "stream",
     "text": [
      "Epoch [106/150], Training MAE: 0.6238, Training RMSE: 0.8451\n"
     ]
    },
    {
     "name": "stderr",
     "output_type": "stream",
     "text": [
      "Epoch 107/150: 100%|██████████| 213/213 [00:06<00:00, 32.53batch/s, mae_loss=0.568]\n"
     ]
    },
    {
     "name": "stdout",
     "output_type": "stream",
     "text": [
      "Epoch [107/150], Training MAE: 0.6240, Training RMSE: 0.8449\n"
     ]
    },
    {
     "name": "stderr",
     "output_type": "stream",
     "text": [
      "Epoch 108/150: 100%|██████████| 213/213 [00:06<00:00, 33.51batch/s, mae_loss=0.598]\n"
     ]
    },
    {
     "name": "stdout",
     "output_type": "stream",
     "text": [
      "Epoch [108/150], Training MAE: 0.6228, Training RMSE: 0.8435\n"
     ]
    },
    {
     "name": "stderr",
     "output_type": "stream",
     "text": [
      "Epoch 109/150: 100%|██████████| 213/213 [00:06<00:00, 34.05batch/s, mae_loss=0.642]\n"
     ]
    },
    {
     "name": "stdout",
     "output_type": "stream",
     "text": [
      "Epoch [109/150], Training MAE: 0.6226, Training RMSE: 0.8431\n"
     ]
    },
    {
     "name": "stderr",
     "output_type": "stream",
     "text": [
      "Epoch 110/150: 100%|██████████| 213/213 [00:06<00:00, 32.55batch/s, mae_loss=0.684]\n"
     ]
    },
    {
     "name": "stdout",
     "output_type": "stream",
     "text": [
      "Epoch [110/150], Training MAE: 0.6228, Training RMSE: 0.8438\n"
     ]
    },
    {
     "name": "stderr",
     "output_type": "stream",
     "text": [
      "Epoch 111/150: 100%|██████████| 213/213 [00:06<00:00, 33.30batch/s, mae_loss=0.58] \n"
     ]
    },
    {
     "name": "stdout",
     "output_type": "stream",
     "text": [
      "Epoch [111/150], Training MAE: 0.6219, Training RMSE: 0.8428\n"
     ]
    },
    {
     "name": "stderr",
     "output_type": "stream",
     "text": [
      "Epoch 112/150: 100%|██████████| 213/213 [00:07<00:00, 29.01batch/s, mae_loss=0.639]\n"
     ]
    },
    {
     "name": "stdout",
     "output_type": "stream",
     "text": [
      "Epoch [112/150], Training MAE: 0.6217, Training RMSE: 0.8420\n"
     ]
    },
    {
     "name": "stderr",
     "output_type": "stream",
     "text": [
      "Epoch 113/150: 100%|██████████| 213/213 [00:06<00:00, 33.09batch/s, mae_loss=0.656]\n"
     ]
    },
    {
     "name": "stdout",
     "output_type": "stream",
     "text": [
      "Epoch [113/150], Training MAE: 0.6215, Training RMSE: 0.8418\n"
     ]
    },
    {
     "name": "stderr",
     "output_type": "stream",
     "text": [
      "Epoch 114/150: 100%|██████████| 213/213 [00:06<00:00, 33.77batch/s, mae_loss=0.604]\n"
     ]
    },
    {
     "name": "stdout",
     "output_type": "stream",
     "text": [
      "Epoch [114/150], Training MAE: 0.6205, Training RMSE: 0.8406\n"
     ]
    },
    {
     "name": "stderr",
     "output_type": "stream",
     "text": [
      "Epoch 115/150: 100%|██████████| 213/213 [00:06<00:00, 32.56batch/s, mae_loss=0.596]\n"
     ]
    },
    {
     "name": "stdout",
     "output_type": "stream",
     "text": [
      "Epoch [115/150], Training MAE: 0.6198, Training RMSE: 0.8403\n"
     ]
    },
    {
     "name": "stderr",
     "output_type": "stream",
     "text": [
      "Epoch 116/150: 100%|██████████| 213/213 [00:06<00:00, 34.22batch/s, mae_loss=0.696]\n"
     ]
    },
    {
     "name": "stdout",
     "output_type": "stream",
     "text": [
      "Epoch [116/150], Training MAE: 0.6196, Training RMSE: 0.8395\n"
     ]
    },
    {
     "name": "stderr",
     "output_type": "stream",
     "text": [
      "Epoch 117/150: 100%|██████████| 213/213 [00:06<00:00, 32.91batch/s, mae_loss=0.543]\n"
     ]
    },
    {
     "name": "stdout",
     "output_type": "stream",
     "text": [
      "Epoch [117/150], Training MAE: 0.6188, Training RMSE: 0.8391\n"
     ]
    },
    {
     "name": "stderr",
     "output_type": "stream",
     "text": [
      "Epoch 118/150: 100%|██████████| 213/213 [00:06<00:00, 31.74batch/s, mae_loss=0.638]\n"
     ]
    },
    {
     "name": "stdout",
     "output_type": "stream",
     "text": [
      "Epoch [118/150], Training MAE: 0.6189, Training RMSE: 0.8394\n"
     ]
    },
    {
     "name": "stderr",
     "output_type": "stream",
     "text": [
      "Epoch 119/150: 100%|██████████| 213/213 [00:06<00:00, 33.28batch/s, mae_loss=0.551]\n"
     ]
    },
    {
     "name": "stdout",
     "output_type": "stream",
     "text": [
      "Epoch [119/150], Training MAE: 0.6180, Training RMSE: 0.8380\n"
     ]
    },
    {
     "name": "stderr",
     "output_type": "stream",
     "text": [
      "Epoch 120/150: 100%|██████████| 213/213 [00:06<00:00, 32.11batch/s, mae_loss=0.633]\n"
     ]
    },
    {
     "name": "stdout",
     "output_type": "stream",
     "text": [
      "Epoch [120/150], Training MAE: 0.6178, Training RMSE: 0.8376\n"
     ]
    },
    {
     "name": "stderr",
     "output_type": "stream",
     "text": [
      "Epoch 121/150: 100%|██████████| 213/213 [00:06<00:00, 33.87batch/s, mae_loss=0.595]\n"
     ]
    },
    {
     "name": "stdout",
     "output_type": "stream",
     "text": [
      "Epoch [121/150], Training MAE: 0.6173, Training RMSE: 0.8372\n"
     ]
    },
    {
     "name": "stderr",
     "output_type": "stream",
     "text": [
      "Epoch 122/150: 100%|██████████| 213/213 [00:06<00:00, 32.76batch/s, mae_loss=0.619]\n"
     ]
    },
    {
     "name": "stdout",
     "output_type": "stream",
     "text": [
      "Epoch [122/150], Training MAE: 0.6173, Training RMSE: 0.8372\n"
     ]
    },
    {
     "name": "stderr",
     "output_type": "stream",
     "text": [
      "Epoch 123/150: 100%|██████████| 213/213 [00:06<00:00, 32.55batch/s, mae_loss=0.621]\n"
     ]
    },
    {
     "name": "stdout",
     "output_type": "stream",
     "text": [
      "Epoch [123/150], Training MAE: 0.6167, Training RMSE: 0.8368\n"
     ]
    },
    {
     "name": "stderr",
     "output_type": "stream",
     "text": [
      "Epoch 124/150: 100%|██████████| 213/213 [00:06<00:00, 34.20batch/s, mae_loss=0.715]\n"
     ]
    },
    {
     "name": "stdout",
     "output_type": "stream",
     "text": [
      "Epoch [124/150], Training MAE: 0.6169, Training RMSE: 0.8365\n"
     ]
    },
    {
     "name": "stderr",
     "output_type": "stream",
     "text": [
      "Epoch 125/150: 100%|██████████| 213/213 [00:06<00:00, 32.62batch/s, mae_loss=0.687]\n"
     ]
    },
    {
     "name": "stdout",
     "output_type": "stream",
     "text": [
      "Epoch [125/150], Training MAE: 0.6159, Training RMSE: 0.8357\n"
     ]
    },
    {
     "name": "stderr",
     "output_type": "stream",
     "text": [
      "Epoch 126/150: 100%|██████████| 213/213 [00:06<00:00, 34.23batch/s, mae_loss=0.6]  \n"
     ]
    },
    {
     "name": "stdout",
     "output_type": "stream",
     "text": [
      "Epoch [126/150], Training MAE: 0.6159, Training RMSE: 0.8354\n"
     ]
    },
    {
     "name": "stderr",
     "output_type": "stream",
     "text": [
      "Epoch 127/150: 100%|██████████| 213/213 [00:06<00:00, 33.00batch/s, mae_loss=0.634]\n"
     ]
    },
    {
     "name": "stdout",
     "output_type": "stream",
     "text": [
      "Epoch [127/150], Training MAE: 0.6150, Training RMSE: 0.8340\n"
     ]
    },
    {
     "name": "stderr",
     "output_type": "stream",
     "text": [
      "Epoch 128/150: 100%|██████████| 213/213 [00:06<00:00, 31.92batch/s, mae_loss=0.644]\n"
     ]
    },
    {
     "name": "stdout",
     "output_type": "stream",
     "text": [
      "Epoch [128/150], Training MAE: 0.6145, Training RMSE: 0.8338\n"
     ]
    },
    {
     "name": "stderr",
     "output_type": "stream",
     "text": [
      "Epoch 129/150: 100%|██████████| 213/213 [00:06<00:00, 34.16batch/s, mae_loss=0.646]\n"
     ]
    },
    {
     "name": "stdout",
     "output_type": "stream",
     "text": [
      "Epoch [129/150], Training MAE: 0.6146, Training RMSE: 0.8341\n"
     ]
    },
    {
     "name": "stderr",
     "output_type": "stream",
     "text": [
      "Epoch 130/150: 100%|██████████| 213/213 [00:06<00:00, 32.61batch/s, mae_loss=0.643]\n"
     ]
    },
    {
     "name": "stdout",
     "output_type": "stream",
     "text": [
      "Epoch [130/150], Training MAE: 0.6131, Training RMSE: 0.8327\n"
     ]
    },
    {
     "name": "stderr",
     "output_type": "stream",
     "text": [
      "Epoch 131/150: 100%|██████████| 213/213 [00:06<00:00, 33.26batch/s, mae_loss=0.635]\n"
     ]
    },
    {
     "name": "stdout",
     "output_type": "stream",
     "text": [
      "Epoch [131/150], Training MAE: 0.6135, Training RMSE: 0.8328\n"
     ]
    },
    {
     "name": "stderr",
     "output_type": "stream",
     "text": [
      "Epoch 132/150: 100%|██████████| 213/213 [00:06<00:00, 33.69batch/s, mae_loss=0.621]\n"
     ]
    },
    {
     "name": "stdout",
     "output_type": "stream",
     "text": [
      "Epoch [132/150], Training MAE: 0.6123, Training RMSE: 0.8317\n"
     ]
    },
    {
     "name": "stderr",
     "output_type": "stream",
     "text": [
      "Epoch 133/150: 100%|██████████| 213/213 [00:06<00:00, 30.87batch/s, mae_loss=0.585]\n"
     ]
    },
    {
     "name": "stdout",
     "output_type": "stream",
     "text": [
      "Epoch [133/150], Training MAE: 0.6124, Training RMSE: 0.8311\n"
     ]
    },
    {
     "name": "stderr",
     "output_type": "stream",
     "text": [
      "Epoch 134/150: 100%|██████████| 213/213 [00:06<00:00, 33.70batch/s, mae_loss=0.62] \n"
     ]
    },
    {
     "name": "stdout",
     "output_type": "stream",
     "text": [
      "Epoch [134/150], Training MAE: 0.6116, Training RMSE: 0.8301\n"
     ]
    },
    {
     "name": "stderr",
     "output_type": "stream",
     "text": [
      "Epoch 135/150: 100%|██████████| 213/213 [00:07<00:00, 29.71batch/s, mae_loss=0.574]\n"
     ]
    },
    {
     "name": "stdout",
     "output_type": "stream",
     "text": [
      "Epoch [135/150], Training MAE: 0.6116, Training RMSE: 0.8304\n"
     ]
    },
    {
     "name": "stderr",
     "output_type": "stream",
     "text": [
      "Epoch 136/150: 100%|██████████| 213/213 [00:06<00:00, 33.68batch/s, mae_loss=0.639]\n"
     ]
    },
    {
     "name": "stdout",
     "output_type": "stream",
     "text": [
      "Epoch [136/150], Training MAE: 0.6107, Training RMSE: 0.8297\n"
     ]
    },
    {
     "name": "stderr",
     "output_type": "stream",
     "text": [
      "Epoch 137/150: 100%|██████████| 213/213 [00:06<00:00, 32.66batch/s, mae_loss=0.556]\n"
     ]
    },
    {
     "name": "stdout",
     "output_type": "stream",
     "text": [
      "Epoch [137/150], Training MAE: 0.6108, Training RMSE: 0.8295\n"
     ]
    },
    {
     "name": "stderr",
     "output_type": "stream",
     "text": [
      "Epoch 138/150: 100%|██████████| 213/213 [00:06<00:00, 31.07batch/s, mae_loss=0.605]\n"
     ]
    },
    {
     "name": "stdout",
     "output_type": "stream",
     "text": [
      "Epoch [138/150], Training MAE: 0.6109, Training RMSE: 0.8298\n"
     ]
    },
    {
     "name": "stderr",
     "output_type": "stream",
     "text": [
      "Epoch 139/150: 100%|██████████| 213/213 [00:06<00:00, 31.96batch/s, mae_loss=0.589]\n"
     ]
    },
    {
     "name": "stdout",
     "output_type": "stream",
     "text": [
      "Epoch [139/150], Training MAE: 0.6100, Training RMSE: 0.8286\n"
     ]
    },
    {
     "name": "stderr",
     "output_type": "stream",
     "text": [
      "Epoch 140/150: 100%|██████████| 213/213 [00:06<00:00, 32.56batch/s, mae_loss=0.571]\n"
     ]
    },
    {
     "name": "stdout",
     "output_type": "stream",
     "text": [
      "Epoch [140/150], Training MAE: 0.6090, Training RMSE: 0.8276\n"
     ]
    },
    {
     "name": "stderr",
     "output_type": "stream",
     "text": [
      "Epoch 141/150: 100%|██████████| 213/213 [00:06<00:00, 32.25batch/s, mae_loss=0.61] \n"
     ]
    },
    {
     "name": "stdout",
     "output_type": "stream",
     "text": [
      "Epoch [141/150], Training MAE: 0.6086, Training RMSE: 0.8275\n"
     ]
    },
    {
     "name": "stderr",
     "output_type": "stream",
     "text": [
      "Epoch 142/150: 100%|██████████| 213/213 [00:06<00:00, 32.96batch/s, mae_loss=0.632]\n"
     ]
    },
    {
     "name": "stdout",
     "output_type": "stream",
     "text": [
      "Epoch [142/150], Training MAE: 0.6088, Training RMSE: 0.8280\n"
     ]
    },
    {
     "name": "stderr",
     "output_type": "stream",
     "text": [
      "Epoch 143/150: 100%|██████████| 213/213 [00:07<00:00, 27.54batch/s, mae_loss=0.621]\n"
     ]
    },
    {
     "name": "stdout",
     "output_type": "stream",
     "text": [
      "Epoch [143/150], Training MAE: 0.6089, Training RMSE: 0.8279\n"
     ]
    },
    {
     "name": "stderr",
     "output_type": "stream",
     "text": [
      "Epoch 144/150: 100%|██████████| 213/213 [00:06<00:00, 30.62batch/s, mae_loss=0.564]\n"
     ]
    },
    {
     "name": "stdout",
     "output_type": "stream",
     "text": [
      "Epoch [144/150], Training MAE: 0.6085, Training RMSE: 0.8266\n"
     ]
    },
    {
     "name": "stderr",
     "output_type": "stream",
     "text": [
      "Epoch 145/150: 100%|██████████| 213/213 [00:07<00:00, 28.26batch/s, mae_loss=0.697]\n"
     ]
    },
    {
     "name": "stdout",
     "output_type": "stream",
     "text": [
      "Epoch [145/150], Training MAE: 0.6083, Training RMSE: 0.8269\n"
     ]
    },
    {
     "name": "stderr",
     "output_type": "stream",
     "text": [
      "Epoch 146/150: 100%|██████████| 213/213 [00:07<00:00, 28.37batch/s, mae_loss=0.63] \n"
     ]
    },
    {
     "name": "stdout",
     "output_type": "stream",
     "text": [
      "Epoch [146/150], Training MAE: 0.6077, Training RMSE: 0.8263\n"
     ]
    },
    {
     "name": "stderr",
     "output_type": "stream",
     "text": [
      "Epoch 147/150: 100%|██████████| 213/213 [00:06<00:00, 32.94batch/s, mae_loss=0.605]\n"
     ]
    },
    {
     "name": "stdout",
     "output_type": "stream",
     "text": [
      "Epoch [147/150], Training MAE: 0.6063, Training RMSE: 0.8241\n"
     ]
    },
    {
     "name": "stderr",
     "output_type": "stream",
     "text": [
      "Epoch 148/150: 100%|██████████| 213/213 [00:07<00:00, 30.04batch/s, mae_loss=0.628]\n"
     ]
    },
    {
     "name": "stdout",
     "output_type": "stream",
     "text": [
      "Epoch [148/150], Training MAE: 0.6069, Training RMSE: 0.8249\n"
     ]
    },
    {
     "name": "stderr",
     "output_type": "stream",
     "text": [
      "Epoch 149/150: 100%|██████████| 213/213 [00:06<00:00, 32.41batch/s, mae_loss=0.55] \n"
     ]
    },
    {
     "name": "stdout",
     "output_type": "stream",
     "text": [
      "Epoch [149/150], Training MAE: 0.6058, Training RMSE: 0.8243\n"
     ]
    },
    {
     "name": "stderr",
     "output_type": "stream",
     "text": [
      "Epoch 150/150: 100%|██████████| 213/213 [00:07<00:00, 28.80batch/s, mae_loss=0.585]\n"
     ]
    },
    {
     "name": "stdout",
     "output_type": "stream",
     "text": [
      "Epoch [150/150], Training MAE: 0.6054, Training RMSE: 0.8231\n",
      "End Prediction Horizon of 24 of generalized Model\n",
      "model_generalized_attention_24_1 saved\n",
      "Start Prediction Horizon 24 of generalized model\n"
     ]
    },
    {
     "name": "stderr",
     "output_type": "stream",
     "text": [
      "Epoch 1/150: 100%|██████████| 213/213 [00:06<00:00, 31.86batch/s, mae_loss=0.714]\n"
     ]
    },
    {
     "name": "stdout",
     "output_type": "stream",
     "text": [
      "Epoch [1/150], Training MAE: 0.6947, Training RMSE: 0.9238\n"
     ]
    },
    {
     "name": "stderr",
     "output_type": "stream",
     "text": [
      "Epoch 2/150: 100%|██████████| 213/213 [00:06<00:00, 30.80batch/s, mae_loss=0.67] \n"
     ]
    },
    {
     "name": "stdout",
     "output_type": "stream",
     "text": [
      "Epoch [2/150], Training MAE: 0.6908, Training RMSE: 0.9216\n"
     ]
    },
    {
     "name": "stderr",
     "output_type": "stream",
     "text": [
      "Epoch 3/150: 100%|██████████| 213/213 [00:06<00:00, 33.30batch/s, mae_loss=0.68] \n"
     ]
    },
    {
     "name": "stdout",
     "output_type": "stream",
     "text": [
      "Epoch [3/150], Training MAE: 0.6896, Training RMSE: 0.9208\n"
     ]
    },
    {
     "name": "stderr",
     "output_type": "stream",
     "text": [
      "Epoch 4/150: 100%|██████████| 213/213 [00:06<00:00, 31.11batch/s, mae_loss=0.63] \n"
     ]
    },
    {
     "name": "stdout",
     "output_type": "stream",
     "text": [
      "Epoch [4/150], Training MAE: 0.6884, Training RMSE: 0.9199\n"
     ]
    },
    {
     "name": "stderr",
     "output_type": "stream",
     "text": [
      "Epoch 5/150: 100%|██████████| 213/213 [00:06<00:00, 33.16batch/s, mae_loss=0.708]\n"
     ]
    },
    {
     "name": "stdout",
     "output_type": "stream",
     "text": [
      "Epoch [5/150], Training MAE: 0.6880, Training RMSE: 0.9196\n"
     ]
    },
    {
     "name": "stderr",
     "output_type": "stream",
     "text": [
      "Epoch 6/150: 100%|██████████| 213/213 [00:06<00:00, 32.81batch/s, mae_loss=0.594]\n"
     ]
    },
    {
     "name": "stdout",
     "output_type": "stream",
     "text": [
      "Epoch [6/150], Training MAE: 0.6872, Training RMSE: 0.9188\n"
     ]
    },
    {
     "name": "stderr",
     "output_type": "stream",
     "text": [
      "Epoch 7/150: 100%|██████████| 213/213 [00:06<00:00, 33.45batch/s, mae_loss=0.71] \n"
     ]
    },
    {
     "name": "stdout",
     "output_type": "stream",
     "text": [
      "Epoch [7/150], Training MAE: 0.6869, Training RMSE: 0.9186\n"
     ]
    },
    {
     "name": "stderr",
     "output_type": "stream",
     "text": [
      "Epoch 8/150: 100%|██████████| 213/213 [00:07<00:00, 28.18batch/s, mae_loss=0.691]\n"
     ]
    },
    {
     "name": "stdout",
     "output_type": "stream",
     "text": [
      "Epoch [8/150], Training MAE: 0.6865, Training RMSE: 0.9181\n"
     ]
    },
    {
     "name": "stderr",
     "output_type": "stream",
     "text": [
      "Epoch 9/150: 100%|██████████| 213/213 [00:06<00:00, 30.54batch/s, mae_loss=0.72] \n"
     ]
    },
    {
     "name": "stdout",
     "output_type": "stream",
     "text": [
      "Epoch [9/150], Training MAE: 0.6862, Training RMSE: 0.9178\n"
     ]
    },
    {
     "name": "stderr",
     "output_type": "stream",
     "text": [
      "Epoch 10/150: 100%|██████████| 213/213 [00:06<00:00, 32.94batch/s, mae_loss=0.694]\n"
     ]
    },
    {
     "name": "stdout",
     "output_type": "stream",
     "text": [
      "Epoch [10/150], Training MAE: 0.6856, Training RMSE: 0.9170\n"
     ]
    },
    {
     "name": "stderr",
     "output_type": "stream",
     "text": [
      "Epoch 11/150: 100%|██████████| 213/213 [00:06<00:00, 32.83batch/s, mae_loss=0.645]\n"
     ]
    },
    {
     "name": "stdout",
     "output_type": "stream",
     "text": [
      "Epoch [11/150], Training MAE: 0.6850, Training RMSE: 0.9163\n"
     ]
    },
    {
     "name": "stderr",
     "output_type": "stream",
     "text": [
      "Epoch 12/150: 100%|██████████| 213/213 [00:06<00:00, 31.95batch/s, mae_loss=0.657]\n"
     ]
    },
    {
     "name": "stdout",
     "output_type": "stream",
     "text": [
      "Epoch [12/150], Training MAE: 0.6849, Training RMSE: 0.9161\n"
     ]
    },
    {
     "name": "stderr",
     "output_type": "stream",
     "text": [
      "Epoch 13/150: 100%|██████████| 213/213 [00:06<00:00, 33.10batch/s, mae_loss=0.713]\n"
     ]
    },
    {
     "name": "stdout",
     "output_type": "stream",
     "text": [
      "Epoch [13/150], Training MAE: 0.6845, Training RMSE: 0.9157\n"
     ]
    },
    {
     "name": "stderr",
     "output_type": "stream",
     "text": [
      "Epoch 14/150: 100%|██████████| 213/213 [00:06<00:00, 31.78batch/s, mae_loss=0.695]\n"
     ]
    },
    {
     "name": "stdout",
     "output_type": "stream",
     "text": [
      "Epoch [14/150], Training MAE: 0.6840, Training RMSE: 0.9151\n"
     ]
    },
    {
     "name": "stderr",
     "output_type": "stream",
     "text": [
      "Epoch 15/150: 100%|██████████| 213/213 [00:06<00:00, 30.66batch/s, mae_loss=0.765]\n"
     ]
    },
    {
     "name": "stdout",
     "output_type": "stream",
     "text": [
      "Epoch [15/150], Training MAE: 0.6839, Training RMSE: 0.9146\n"
     ]
    },
    {
     "name": "stderr",
     "output_type": "stream",
     "text": [
      "Epoch 16/150: 100%|██████████| 213/213 [00:07<00:00, 27.42batch/s, mae_loss=0.637]\n"
     ]
    },
    {
     "name": "stdout",
     "output_type": "stream",
     "text": [
      "Epoch [16/150], Training MAE: 0.6828, Training RMSE: 0.9135\n"
     ]
    },
    {
     "name": "stderr",
     "output_type": "stream",
     "text": [
      "Epoch 17/150: 100%|██████████| 213/213 [00:07<00:00, 30.29batch/s, mae_loss=0.656]\n"
     ]
    },
    {
     "name": "stdout",
     "output_type": "stream",
     "text": [
      "Epoch [17/150], Training MAE: 0.6826, Training RMSE: 0.9129\n"
     ]
    },
    {
     "name": "stderr",
     "output_type": "stream",
     "text": [
      "Epoch 18/150: 100%|██████████| 213/213 [00:06<00:00, 33.55batch/s, mae_loss=0.589]\n"
     ]
    },
    {
     "name": "stdout",
     "output_type": "stream",
     "text": [
      "Epoch [18/150], Training MAE: 0.6817, Training RMSE: 0.9120\n"
     ]
    },
    {
     "name": "stderr",
     "output_type": "stream",
     "text": [
      "Epoch 19/150: 100%|██████████| 213/213 [00:06<00:00, 32.11batch/s, mae_loss=0.722]\n"
     ]
    },
    {
     "name": "stdout",
     "output_type": "stream",
     "text": [
      "Epoch [19/150], Training MAE: 0.6814, Training RMSE: 0.9113\n"
     ]
    },
    {
     "name": "stderr",
     "output_type": "stream",
     "text": [
      "Epoch 20/150: 100%|██████████| 213/213 [00:06<00:00, 32.60batch/s, mae_loss=0.719]\n"
     ]
    },
    {
     "name": "stdout",
     "output_type": "stream",
     "text": [
      "Epoch [20/150], Training MAE: 0.6807, Training RMSE: 0.9101\n"
     ]
    },
    {
     "name": "stderr",
     "output_type": "stream",
     "text": [
      "Epoch 21/150: 100%|██████████| 213/213 [00:06<00:00, 32.42batch/s, mae_loss=0.666]\n"
     ]
    },
    {
     "name": "stdout",
     "output_type": "stream",
     "text": [
      "Epoch [21/150], Training MAE: 0.6797, Training RMSE: 0.9088\n"
     ]
    },
    {
     "name": "stderr",
     "output_type": "stream",
     "text": [
      "Epoch 22/150: 100%|██████████| 213/213 [00:07<00:00, 29.87batch/s, mae_loss=0.654]\n"
     ]
    },
    {
     "name": "stdout",
     "output_type": "stream",
     "text": [
      "Epoch [22/150], Training MAE: 0.6787, Training RMSE: 0.9076\n"
     ]
    },
    {
     "name": "stderr",
     "output_type": "stream",
     "text": [
      "Epoch 23/150: 100%|██████████| 213/213 [00:07<00:00, 27.94batch/s, mae_loss=0.701]\n"
     ]
    },
    {
     "name": "stdout",
     "output_type": "stream",
     "text": [
      "Epoch [23/150], Training MAE: 0.6774, Training RMSE: 0.9055\n"
     ]
    },
    {
     "name": "stderr",
     "output_type": "stream",
     "text": [
      "Epoch 24/150: 100%|██████████| 213/213 [00:08<00:00, 26.57batch/s, mae_loss=0.705]\n"
     ]
    },
    {
     "name": "stdout",
     "output_type": "stream",
     "text": [
      "Epoch [24/150], Training MAE: 0.6762, Training RMSE: 0.9040\n"
     ]
    },
    {
     "name": "stderr",
     "output_type": "stream",
     "text": [
      "Epoch 25/150: 100%|██████████| 213/213 [00:06<00:00, 33.70batch/s, mae_loss=0.676]\n"
     ]
    },
    {
     "name": "stdout",
     "output_type": "stream",
     "text": [
      "Epoch [25/150], Training MAE: 0.6748, Training RMSE: 0.9023\n"
     ]
    },
    {
     "name": "stderr",
     "output_type": "stream",
     "text": [
      "Epoch 26/150: 100%|██████████| 213/213 [00:06<00:00, 33.20batch/s, mae_loss=0.67] \n"
     ]
    },
    {
     "name": "stdout",
     "output_type": "stream",
     "text": [
      "Epoch [26/150], Training MAE: 0.6736, Training RMSE: 0.9005\n"
     ]
    },
    {
     "name": "stderr",
     "output_type": "stream",
     "text": [
      "Epoch 27/150: 100%|██████████| 213/213 [00:06<00:00, 30.96batch/s, mae_loss=0.677]\n"
     ]
    },
    {
     "name": "stdout",
     "output_type": "stream",
     "text": [
      "Epoch [27/150], Training MAE: 0.6722, Training RMSE: 0.8988\n"
     ]
    },
    {
     "name": "stderr",
     "output_type": "stream",
     "text": [
      "Epoch 28/150: 100%|██████████| 213/213 [00:06<00:00, 32.31batch/s, mae_loss=0.671]\n"
     ]
    },
    {
     "name": "stdout",
     "output_type": "stream",
     "text": [
      "Epoch [28/150], Training MAE: 0.6713, Training RMSE: 0.8975\n"
     ]
    },
    {
     "name": "stderr",
     "output_type": "stream",
     "text": [
      "Epoch 29/150: 100%|██████████| 213/213 [00:06<00:00, 33.82batch/s, mae_loss=0.674]\n"
     ]
    },
    {
     "name": "stdout",
     "output_type": "stream",
     "text": [
      "Epoch [29/150], Training MAE: 0.6700, Training RMSE: 0.8963\n"
     ]
    },
    {
     "name": "stderr",
     "output_type": "stream",
     "text": [
      "Epoch 30/150: 100%|██████████| 213/213 [00:06<00:00, 32.27batch/s, mae_loss=0.678]\n"
     ]
    },
    {
     "name": "stdout",
     "output_type": "stream",
     "text": [
      "Epoch [30/150], Training MAE: 0.6689, Training RMSE: 0.8952\n"
     ]
    },
    {
     "name": "stderr",
     "output_type": "stream",
     "text": [
      "Epoch 31/150: 100%|██████████| 213/213 [00:06<00:00, 32.95batch/s, mae_loss=0.667]\n"
     ]
    },
    {
     "name": "stdout",
     "output_type": "stream",
     "text": [
      "Epoch [31/150], Training MAE: 0.6674, Training RMSE: 0.8931\n"
     ]
    },
    {
     "name": "stderr",
     "output_type": "stream",
     "text": [
      "Epoch 32/150: 100%|██████████| 213/213 [00:06<00:00, 32.68batch/s, mae_loss=0.666]\n"
     ]
    },
    {
     "name": "stdout",
     "output_type": "stream",
     "text": [
      "Epoch [32/150], Training MAE: 0.6666, Training RMSE: 0.8925\n"
     ]
    },
    {
     "name": "stderr",
     "output_type": "stream",
     "text": [
      "Epoch 33/150: 100%|██████████| 213/213 [00:06<00:00, 33.47batch/s, mae_loss=0.638]\n"
     ]
    },
    {
     "name": "stdout",
     "output_type": "stream",
     "text": [
      "Epoch [33/150], Training MAE: 0.6658, Training RMSE: 0.8917\n"
     ]
    },
    {
     "name": "stderr",
     "output_type": "stream",
     "text": [
      "Epoch 34/150: 100%|██████████| 213/213 [00:06<00:00, 34.30batch/s, mae_loss=0.653]\n"
     ]
    },
    {
     "name": "stdout",
     "output_type": "stream",
     "text": [
      "Epoch [34/150], Training MAE: 0.6648, Training RMSE: 0.8902\n"
     ]
    },
    {
     "name": "stderr",
     "output_type": "stream",
     "text": [
      "Epoch 35/150: 100%|██████████| 213/213 [00:06<00:00, 33.04batch/s, mae_loss=0.61] \n"
     ]
    },
    {
     "name": "stdout",
     "output_type": "stream",
     "text": [
      "Epoch [35/150], Training MAE: 0.6632, Training RMSE: 0.8885\n"
     ]
    },
    {
     "name": "stderr",
     "output_type": "stream",
     "text": [
      "Epoch 36/150: 100%|██████████| 213/213 [00:06<00:00, 34.51batch/s, mae_loss=0.722]\n"
     ]
    },
    {
     "name": "stdout",
     "output_type": "stream",
     "text": [
      "Epoch [36/150], Training MAE: 0.6628, Training RMSE: 0.8878\n"
     ]
    },
    {
     "name": "stderr",
     "output_type": "stream",
     "text": [
      "Epoch 37/150: 100%|██████████| 213/213 [00:06<00:00, 32.03batch/s, mae_loss=0.675]\n"
     ]
    },
    {
     "name": "stdout",
     "output_type": "stream",
     "text": [
      "Epoch [37/150], Training MAE: 0.6619, Training RMSE: 0.8866\n"
     ]
    },
    {
     "name": "stderr",
     "output_type": "stream",
     "text": [
      "Epoch 38/150: 100%|██████████| 213/213 [00:06<00:00, 34.61batch/s, mae_loss=0.706]\n"
     ]
    },
    {
     "name": "stdout",
     "output_type": "stream",
     "text": [
      "Epoch [38/150], Training MAE: 0.6609, Training RMSE: 0.8857\n"
     ]
    },
    {
     "name": "stderr",
     "output_type": "stream",
     "text": [
      "Epoch 39/150: 100%|██████████| 213/213 [00:06<00:00, 34.53batch/s, mae_loss=0.723]\n"
     ]
    },
    {
     "name": "stdout",
     "output_type": "stream",
     "text": [
      "Epoch [39/150], Training MAE: 0.6605, Training RMSE: 0.8850\n"
     ]
    },
    {
     "name": "stderr",
     "output_type": "stream",
     "text": [
      "Epoch 40/150: 100%|██████████| 213/213 [00:06<00:00, 32.72batch/s, mae_loss=0.715]\n"
     ]
    },
    {
     "name": "stdout",
     "output_type": "stream",
     "text": [
      "Epoch [40/150], Training MAE: 0.6597, Training RMSE: 0.8840\n"
     ]
    },
    {
     "name": "stderr",
     "output_type": "stream",
     "text": [
      "Epoch 41/150: 100%|██████████| 213/213 [00:06<00:00, 33.19batch/s, mae_loss=0.71] \n"
     ]
    },
    {
     "name": "stdout",
     "output_type": "stream",
     "text": [
      "Epoch [41/150], Training MAE: 0.6585, Training RMSE: 0.8826\n"
     ]
    },
    {
     "name": "stderr",
     "output_type": "stream",
     "text": [
      "Epoch 42/150: 100%|██████████| 213/213 [00:06<00:00, 32.12batch/s, mae_loss=0.647]\n"
     ]
    },
    {
     "name": "stdout",
     "output_type": "stream",
     "text": [
      "Epoch [42/150], Training MAE: 0.6578, Training RMSE: 0.8818\n"
     ]
    },
    {
     "name": "stderr",
     "output_type": "stream",
     "text": [
      "Epoch 43/150: 100%|██████████| 213/213 [00:06<00:00, 32.39batch/s, mae_loss=0.681]\n"
     ]
    },
    {
     "name": "stdout",
     "output_type": "stream",
     "text": [
      "Epoch [43/150], Training MAE: 0.6566, Training RMSE: 0.8808\n"
     ]
    },
    {
     "name": "stderr",
     "output_type": "stream",
     "text": [
      "Epoch 44/150: 100%|██████████| 213/213 [00:06<00:00, 33.15batch/s, mae_loss=0.646]\n"
     ]
    },
    {
     "name": "stdout",
     "output_type": "stream",
     "text": [
      "Epoch [44/150], Training MAE: 0.6558, Training RMSE: 0.8796\n"
     ]
    },
    {
     "name": "stderr",
     "output_type": "stream",
     "text": [
      "Epoch 45/150: 100%|██████████| 213/213 [00:06<00:00, 31.54batch/s, mae_loss=0.665]\n"
     ]
    },
    {
     "name": "stdout",
     "output_type": "stream",
     "text": [
      "Epoch [45/150], Training MAE: 0.6554, Training RMSE: 0.8791\n"
     ]
    },
    {
     "name": "stderr",
     "output_type": "stream",
     "text": [
      "Epoch 46/150: 100%|██████████| 213/213 [00:06<00:00, 32.81batch/s, mae_loss=0.649]\n"
     ]
    },
    {
     "name": "stdout",
     "output_type": "stream",
     "text": [
      "Epoch [46/150], Training MAE: 0.6549, Training RMSE: 0.8787\n"
     ]
    },
    {
     "name": "stderr",
     "output_type": "stream",
     "text": [
      "Epoch 47/150: 100%|██████████| 213/213 [00:06<00:00, 33.34batch/s, mae_loss=0.618]\n"
     ]
    },
    {
     "name": "stdout",
     "output_type": "stream",
     "text": [
      "Epoch [47/150], Training MAE: 0.6535, Training RMSE: 0.8768\n"
     ]
    },
    {
     "name": "stderr",
     "output_type": "stream",
     "text": [
      "Epoch 48/150: 100%|██████████| 213/213 [00:06<00:00, 31.91batch/s, mae_loss=0.611]\n"
     ]
    },
    {
     "name": "stdout",
     "output_type": "stream",
     "text": [
      "Epoch [48/150], Training MAE: 0.6525, Training RMSE: 0.8759\n"
     ]
    },
    {
     "name": "stderr",
     "output_type": "stream",
     "text": [
      "Epoch 49/150: 100%|██████████| 213/213 [00:06<00:00, 32.18batch/s, mae_loss=0.686]\n"
     ]
    },
    {
     "name": "stdout",
     "output_type": "stream",
     "text": [
      "Epoch [49/150], Training MAE: 0.6521, Training RMSE: 0.8755\n"
     ]
    },
    {
     "name": "stderr",
     "output_type": "stream",
     "text": [
      "Epoch 50/150: 100%|██████████| 213/213 [00:06<00:00, 32.95batch/s, mae_loss=0.667]\n"
     ]
    },
    {
     "name": "stdout",
     "output_type": "stream",
     "text": [
      "Epoch [50/150], Training MAE: 0.6517, Training RMSE: 0.8748\n"
     ]
    },
    {
     "name": "stderr",
     "output_type": "stream",
     "text": [
      "Epoch 51/150: 100%|██████████| 213/213 [00:06<00:00, 33.54batch/s, mae_loss=0.668]\n"
     ]
    },
    {
     "name": "stdout",
     "output_type": "stream",
     "text": [
      "Epoch [51/150], Training MAE: 0.6505, Training RMSE: 0.8733\n"
     ]
    },
    {
     "name": "stderr",
     "output_type": "stream",
     "text": [
      "Epoch 52/150: 100%|██████████| 213/213 [00:07<00:00, 29.55batch/s, mae_loss=0.632]\n"
     ]
    },
    {
     "name": "stdout",
     "output_type": "stream",
     "text": [
      "Epoch [52/150], Training MAE: 0.6498, Training RMSE: 0.8726\n"
     ]
    },
    {
     "name": "stderr",
     "output_type": "stream",
     "text": [
      "Epoch 53/150: 100%|██████████| 213/213 [00:07<00:00, 29.07batch/s, mae_loss=0.675]\n"
     ]
    },
    {
     "name": "stdout",
     "output_type": "stream",
     "text": [
      "Epoch [53/150], Training MAE: 0.6494, Training RMSE: 0.8720\n"
     ]
    },
    {
     "name": "stderr",
     "output_type": "stream",
     "text": [
      "Epoch 54/150: 100%|██████████| 213/213 [00:06<00:00, 33.79batch/s, mae_loss=0.663]\n"
     ]
    },
    {
     "name": "stdout",
     "output_type": "stream",
     "text": [
      "Epoch [54/150], Training MAE: 0.6485, Training RMSE: 0.8710\n"
     ]
    },
    {
     "name": "stderr",
     "output_type": "stream",
     "text": [
      "Epoch 55/150: 100%|██████████| 213/213 [00:06<00:00, 31.94batch/s, mae_loss=0.579]\n"
     ]
    },
    {
     "name": "stdout",
     "output_type": "stream",
     "text": [
      "Epoch [55/150], Training MAE: 0.6472, Training RMSE: 0.8698\n"
     ]
    },
    {
     "name": "stderr",
     "output_type": "stream",
     "text": [
      "Epoch 56/150: 100%|██████████| 213/213 [00:06<00:00, 34.17batch/s, mae_loss=0.635]\n"
     ]
    },
    {
     "name": "stdout",
     "output_type": "stream",
     "text": [
      "Epoch [56/150], Training MAE: 0.6468, Training RMSE: 0.8693\n"
     ]
    },
    {
     "name": "stderr",
     "output_type": "stream",
     "text": [
      "Epoch 57/150: 100%|██████████| 213/213 [00:06<00:00, 33.89batch/s, mae_loss=0.651]\n"
     ]
    },
    {
     "name": "stdout",
     "output_type": "stream",
     "text": [
      "Epoch [57/150], Training MAE: 0.6467, Training RMSE: 0.8688\n"
     ]
    },
    {
     "name": "stderr",
     "output_type": "stream",
     "text": [
      "Epoch 58/150: 100%|██████████| 213/213 [00:06<00:00, 32.39batch/s, mae_loss=0.583]\n"
     ]
    },
    {
     "name": "stdout",
     "output_type": "stream",
     "text": [
      "Epoch [58/150], Training MAE: 0.6456, Training RMSE: 0.8679\n"
     ]
    },
    {
     "name": "stderr",
     "output_type": "stream",
     "text": [
      "Epoch 59/150: 100%|██████████| 213/213 [00:06<00:00, 33.88batch/s, mae_loss=0.664]\n"
     ]
    },
    {
     "name": "stdout",
     "output_type": "stream",
     "text": [
      "Epoch [59/150], Training MAE: 0.6454, Training RMSE: 0.8676\n"
     ]
    },
    {
     "name": "stderr",
     "output_type": "stream",
     "text": [
      "Epoch 60/150: 100%|██████████| 213/213 [00:06<00:00, 31.35batch/s, mae_loss=0.668]\n"
     ]
    },
    {
     "name": "stdout",
     "output_type": "stream",
     "text": [
      "Epoch [60/150], Training MAE: 0.6443, Training RMSE: 0.8665\n"
     ]
    },
    {
     "name": "stderr",
     "output_type": "stream",
     "text": [
      "Epoch 61/150: 100%|██████████| 213/213 [00:06<00:00, 31.01batch/s, mae_loss=0.599]\n"
     ]
    },
    {
     "name": "stdout",
     "output_type": "stream",
     "text": [
      "Epoch [61/150], Training MAE: 0.6439, Training RMSE: 0.8659\n"
     ]
    },
    {
     "name": "stderr",
     "output_type": "stream",
     "text": [
      "Epoch 62/150: 100%|██████████| 213/213 [00:06<00:00, 30.97batch/s, mae_loss=0.728]\n"
     ]
    },
    {
     "name": "stdout",
     "output_type": "stream",
     "text": [
      "Epoch [62/150], Training MAE: 0.6433, Training RMSE: 0.8655\n"
     ]
    },
    {
     "name": "stderr",
     "output_type": "stream",
     "text": [
      "Epoch 63/150: 100%|██████████| 213/213 [00:06<00:00, 32.12batch/s, mae_loss=0.63] \n"
     ]
    },
    {
     "name": "stdout",
     "output_type": "stream",
     "text": [
      "Epoch [63/150], Training MAE: 0.6426, Training RMSE: 0.8648\n"
     ]
    },
    {
     "name": "stderr",
     "output_type": "stream",
     "text": [
      "Epoch 64/150: 100%|██████████| 213/213 [00:06<00:00, 34.21batch/s, mae_loss=0.635]\n"
     ]
    },
    {
     "name": "stdout",
     "output_type": "stream",
     "text": [
      "Epoch [64/150], Training MAE: 0.6414, Training RMSE: 0.8631\n"
     ]
    },
    {
     "name": "stderr",
     "output_type": "stream",
     "text": [
      "Epoch 65/150: 100%|██████████| 213/213 [00:06<00:00, 33.17batch/s, mae_loss=0.632]\n"
     ]
    },
    {
     "name": "stdout",
     "output_type": "stream",
     "text": [
      "Epoch [65/150], Training MAE: 0.6407, Training RMSE: 0.8623\n"
     ]
    },
    {
     "name": "stderr",
     "output_type": "stream",
     "text": [
      "Epoch 66/150: 100%|██████████| 213/213 [00:06<00:00, 32.14batch/s, mae_loss=0.645]\n"
     ]
    },
    {
     "name": "stdout",
     "output_type": "stream",
     "text": [
      "Epoch [66/150], Training MAE: 0.6398, Training RMSE: 0.8611\n"
     ]
    },
    {
     "name": "stderr",
     "output_type": "stream",
     "text": [
      "Epoch 67/150: 100%|██████████| 213/213 [00:06<00:00, 32.40batch/s, mae_loss=0.663]\n"
     ]
    },
    {
     "name": "stdout",
     "output_type": "stream",
     "text": [
      "Epoch [67/150], Training MAE: 0.6391, Training RMSE: 0.8607\n"
     ]
    },
    {
     "name": "stderr",
     "output_type": "stream",
     "text": [
      "Epoch 68/150: 100%|██████████| 213/213 [00:07<00:00, 29.29batch/s, mae_loss=0.687]\n"
     ]
    },
    {
     "name": "stdout",
     "output_type": "stream",
     "text": [
      "Epoch [68/150], Training MAE: 0.6389, Training RMSE: 0.8603\n"
     ]
    },
    {
     "name": "stderr",
     "output_type": "stream",
     "text": [
      "Epoch 69/150: 100%|██████████| 213/213 [00:06<00:00, 34.00batch/s, mae_loss=0.593]\n"
     ]
    },
    {
     "name": "stdout",
     "output_type": "stream",
     "text": [
      "Epoch [69/150], Training MAE: 0.6379, Training RMSE: 0.8590\n"
     ]
    },
    {
     "name": "stderr",
     "output_type": "stream",
     "text": [
      "Epoch 70/150: 100%|██████████| 213/213 [00:06<00:00, 33.32batch/s, mae_loss=0.628]\n"
     ]
    },
    {
     "name": "stdout",
     "output_type": "stream",
     "text": [
      "Epoch [70/150], Training MAE: 0.6374, Training RMSE: 0.8585\n"
     ]
    },
    {
     "name": "stderr",
     "output_type": "stream",
     "text": [
      "Epoch 71/150: 100%|██████████| 213/213 [00:06<00:00, 30.80batch/s, mae_loss=0.678]\n"
     ]
    },
    {
     "name": "stdout",
     "output_type": "stream",
     "text": [
      "Epoch [71/150], Training MAE: 0.6373, Training RMSE: 0.8582\n"
     ]
    },
    {
     "name": "stderr",
     "output_type": "stream",
     "text": [
      "Epoch 72/150: 100%|██████████| 213/213 [00:06<00:00, 31.58batch/s, mae_loss=0.63] \n"
     ]
    },
    {
     "name": "stdout",
     "output_type": "stream",
     "text": [
      "Epoch [72/150], Training MAE: 0.6363, Training RMSE: 0.8576\n"
     ]
    },
    {
     "name": "stderr",
     "output_type": "stream",
     "text": [
      "Epoch 73/150: 100%|██████████| 213/213 [00:06<00:00, 33.30batch/s, mae_loss=0.594]\n"
     ]
    },
    {
     "name": "stdout",
     "output_type": "stream",
     "text": [
      "Epoch [73/150], Training MAE: 0.6358, Training RMSE: 0.8572\n"
     ]
    },
    {
     "name": "stderr",
     "output_type": "stream",
     "text": [
      "Epoch 74/150: 100%|██████████| 213/213 [00:06<00:00, 31.96batch/s, mae_loss=0.647]\n"
     ]
    },
    {
     "name": "stdout",
     "output_type": "stream",
     "text": [
      "Epoch [74/150], Training MAE: 0.6347, Training RMSE: 0.8559\n"
     ]
    },
    {
     "name": "stderr",
     "output_type": "stream",
     "text": [
      "Epoch 75/150: 100%|██████████| 213/213 [00:06<00:00, 31.65batch/s, mae_loss=0.601]\n"
     ]
    },
    {
     "name": "stdout",
     "output_type": "stream",
     "text": [
      "Epoch [75/150], Training MAE: 0.6348, Training RMSE: 0.8557\n"
     ]
    },
    {
     "name": "stderr",
     "output_type": "stream",
     "text": [
      "Epoch 76/150: 100%|██████████| 213/213 [00:07<00:00, 27.58batch/s, mae_loss=0.638]\n"
     ]
    },
    {
     "name": "stdout",
     "output_type": "stream",
     "text": [
      "Epoch [76/150], Training MAE: 0.6345, Training RMSE: 0.8553\n"
     ]
    },
    {
     "name": "stderr",
     "output_type": "stream",
     "text": [
      "Epoch 77/150: 100%|██████████| 213/213 [00:06<00:00, 33.38batch/s, mae_loss=0.6]  \n"
     ]
    },
    {
     "name": "stdout",
     "output_type": "stream",
     "text": [
      "Epoch [77/150], Training MAE: 0.6334, Training RMSE: 0.8544\n"
     ]
    },
    {
     "name": "stderr",
     "output_type": "stream",
     "text": [
      "Epoch 78/150: 100%|██████████| 213/213 [00:06<00:00, 33.55batch/s, mae_loss=0.591]\n"
     ]
    },
    {
     "name": "stdout",
     "output_type": "stream",
     "text": [
      "Epoch [78/150], Training MAE: 0.6327, Training RMSE: 0.8539\n"
     ]
    },
    {
     "name": "stderr",
     "output_type": "stream",
     "text": [
      "Epoch 79/150: 100%|██████████| 213/213 [00:06<00:00, 31.58batch/s, mae_loss=0.628]\n"
     ]
    },
    {
     "name": "stdout",
     "output_type": "stream",
     "text": [
      "Epoch [79/150], Training MAE: 0.6329, Training RMSE: 0.8534\n"
     ]
    },
    {
     "name": "stderr",
     "output_type": "stream",
     "text": [
      "Epoch 80/150: 100%|██████████| 213/213 [00:06<00:00, 33.75batch/s, mae_loss=0.619]\n"
     ]
    },
    {
     "name": "stdout",
     "output_type": "stream",
     "text": [
      "Epoch [80/150], Training MAE: 0.6311, Training RMSE: 0.8518\n"
     ]
    },
    {
     "name": "stderr",
     "output_type": "stream",
     "text": [
      "Epoch 81/150: 100%|██████████| 213/213 [00:06<00:00, 31.75batch/s, mae_loss=0.597]\n"
     ]
    },
    {
     "name": "stdout",
     "output_type": "stream",
     "text": [
      "Epoch [81/150], Training MAE: 0.6309, Training RMSE: 0.8516\n"
     ]
    },
    {
     "name": "stderr",
     "output_type": "stream",
     "text": [
      "Epoch 82/150: 100%|██████████| 213/213 [00:06<00:00, 33.49batch/s, mae_loss=0.621]\n"
     ]
    },
    {
     "name": "stdout",
     "output_type": "stream",
     "text": [
      "Epoch [82/150], Training MAE: 0.6307, Training RMSE: 0.8513\n"
     ]
    },
    {
     "name": "stderr",
     "output_type": "stream",
     "text": [
      "Epoch 83/150: 100%|██████████| 213/213 [00:06<00:00, 31.15batch/s, mae_loss=0.653]\n"
     ]
    },
    {
     "name": "stdout",
     "output_type": "stream",
     "text": [
      "Epoch [83/150], Training MAE: 0.6303, Training RMSE: 0.8507\n"
     ]
    },
    {
     "name": "stderr",
     "output_type": "stream",
     "text": [
      "Epoch 84/150: 100%|██████████| 213/213 [00:06<00:00, 31.50batch/s, mae_loss=0.619]\n"
     ]
    },
    {
     "name": "stdout",
     "output_type": "stream",
     "text": [
      "Epoch [84/150], Training MAE: 0.6290, Training RMSE: 0.8497\n"
     ]
    },
    {
     "name": "stderr",
     "output_type": "stream",
     "text": [
      "Epoch 85/150: 100%|██████████| 213/213 [00:06<00:00, 34.58batch/s, mae_loss=0.577]\n"
     ]
    },
    {
     "name": "stdout",
     "output_type": "stream",
     "text": [
      "Epoch [85/150], Training MAE: 0.6289, Training RMSE: 0.8494\n"
     ]
    },
    {
     "name": "stderr",
     "output_type": "stream",
     "text": [
      "Epoch 86/150: 100%|██████████| 213/213 [00:06<00:00, 34.49batch/s, mae_loss=0.624]\n"
     ]
    },
    {
     "name": "stdout",
     "output_type": "stream",
     "text": [
      "Epoch [86/150], Training MAE: 0.6282, Training RMSE: 0.8480\n"
     ]
    },
    {
     "name": "stderr",
     "output_type": "stream",
     "text": [
      "Epoch 87/150: 100%|██████████| 213/213 [00:06<00:00, 33.02batch/s, mae_loss=0.675]\n"
     ]
    },
    {
     "name": "stdout",
     "output_type": "stream",
     "text": [
      "Epoch [87/150], Training MAE: 0.6282, Training RMSE: 0.8490\n"
     ]
    },
    {
     "name": "stderr",
     "output_type": "stream",
     "text": [
      "Epoch 88/150: 100%|██████████| 213/213 [00:06<00:00, 33.93batch/s, mae_loss=0.57] \n"
     ]
    },
    {
     "name": "stdout",
     "output_type": "stream",
     "text": [
      "Epoch [88/150], Training MAE: 0.6276, Training RMSE: 0.8472\n"
     ]
    },
    {
     "name": "stderr",
     "output_type": "stream",
     "text": [
      "Epoch 89/150: 100%|██████████| 213/213 [00:06<00:00, 33.47batch/s, mae_loss=0.656]\n"
     ]
    },
    {
     "name": "stdout",
     "output_type": "stream",
     "text": [
      "Epoch [89/150], Training MAE: 0.6268, Training RMSE: 0.8470\n"
     ]
    },
    {
     "name": "stderr",
     "output_type": "stream",
     "text": [
      "Epoch 90/150: 100%|██████████| 213/213 [00:06<00:00, 33.85batch/s, mae_loss=0.659]\n"
     ]
    },
    {
     "name": "stdout",
     "output_type": "stream",
     "text": [
      "Epoch [90/150], Training MAE: 0.6262, Training RMSE: 0.8462\n"
     ]
    },
    {
     "name": "stderr",
     "output_type": "stream",
     "text": [
      "Epoch 91/150: 100%|██████████| 213/213 [00:07<00:00, 29.23batch/s, mae_loss=0.656]\n"
     ]
    },
    {
     "name": "stdout",
     "output_type": "stream",
     "text": [
      "Epoch [91/150], Training MAE: 0.6256, Training RMSE: 0.8457\n"
     ]
    },
    {
     "name": "stderr",
     "output_type": "stream",
     "text": [
      "Epoch 92/150: 100%|██████████| 213/213 [00:07<00:00, 28.80batch/s, mae_loss=0.608]\n"
     ]
    },
    {
     "name": "stdout",
     "output_type": "stream",
     "text": [
      "Epoch [92/150], Training MAE: 0.6245, Training RMSE: 0.8445\n"
     ]
    },
    {
     "name": "stderr",
     "output_type": "stream",
     "text": [
      "Epoch 93/150: 100%|██████████| 213/213 [00:06<00:00, 31.91batch/s, mae_loss=0.649]\n"
     ]
    },
    {
     "name": "stdout",
     "output_type": "stream",
     "text": [
      "Epoch [93/150], Training MAE: 0.6251, Training RMSE: 0.8449\n"
     ]
    },
    {
     "name": "stderr",
     "output_type": "stream",
     "text": [
      "Epoch 94/150: 100%|██████████| 213/213 [00:06<00:00, 30.79batch/s, mae_loss=0.626]\n"
     ]
    },
    {
     "name": "stdout",
     "output_type": "stream",
     "text": [
      "Epoch [94/150], Training MAE: 0.6246, Training RMSE: 0.8444\n"
     ]
    },
    {
     "name": "stderr",
     "output_type": "stream",
     "text": [
      "Epoch 95/150: 100%|██████████| 213/213 [00:06<00:00, 32.04batch/s, mae_loss=0.737]\n"
     ]
    },
    {
     "name": "stdout",
     "output_type": "stream",
     "text": [
      "Epoch [95/150], Training MAE: 0.6231, Training RMSE: 0.8428\n"
     ]
    },
    {
     "name": "stderr",
     "output_type": "stream",
     "text": [
      "Epoch 96/150: 100%|██████████| 213/213 [00:06<00:00, 31.38batch/s, mae_loss=0.643]\n"
     ]
    },
    {
     "name": "stdout",
     "output_type": "stream",
     "text": [
      "Epoch [96/150], Training MAE: 0.6228, Training RMSE: 0.8422\n"
     ]
    },
    {
     "name": "stderr",
     "output_type": "stream",
     "text": [
      "Epoch 97/150: 100%|██████████| 213/213 [00:07<00:00, 29.35batch/s, mae_loss=0.563]\n"
     ]
    },
    {
     "name": "stdout",
     "output_type": "stream",
     "text": [
      "Epoch [97/150], Training MAE: 0.6223, Training RMSE: 0.8417\n"
     ]
    },
    {
     "name": "stderr",
     "output_type": "stream",
     "text": [
      "Epoch 98/150: 100%|██████████| 213/213 [00:07<00:00, 30.39batch/s, mae_loss=0.636]\n"
     ]
    },
    {
     "name": "stdout",
     "output_type": "stream",
     "text": [
      "Epoch [98/150], Training MAE: 0.6218, Training RMSE: 0.8417\n"
     ]
    },
    {
     "name": "stderr",
     "output_type": "stream",
     "text": [
      "Epoch 99/150: 100%|██████████| 213/213 [00:07<00:00, 27.73batch/s, mae_loss=0.606]\n"
     ]
    },
    {
     "name": "stdout",
     "output_type": "stream",
     "text": [
      "Epoch [99/150], Training MAE: 0.6212, Training RMSE: 0.8402\n"
     ]
    },
    {
     "name": "stderr",
     "output_type": "stream",
     "text": [
      "Epoch 100/150: 100%|██████████| 213/213 [00:07<00:00, 30.35batch/s, mae_loss=0.595]\n"
     ]
    },
    {
     "name": "stdout",
     "output_type": "stream",
     "text": [
      "Epoch [100/150], Training MAE: 0.6209, Training RMSE: 0.8400\n"
     ]
    },
    {
     "name": "stderr",
     "output_type": "stream",
     "text": [
      "Epoch 101/150: 100%|██████████| 213/213 [00:07<00:00, 29.08batch/s, mae_loss=0.58] \n"
     ]
    },
    {
     "name": "stdout",
     "output_type": "stream",
     "text": [
      "Epoch [101/150], Training MAE: 0.6205, Training RMSE: 0.8397\n"
     ]
    },
    {
     "name": "stderr",
     "output_type": "stream",
     "text": [
      "Epoch 102/150: 100%|██████████| 213/213 [00:07<00:00, 30.37batch/s, mae_loss=0.641]\n"
     ]
    },
    {
     "name": "stdout",
     "output_type": "stream",
     "text": [
      "Epoch [102/150], Training MAE: 0.6195, Training RMSE: 0.8389\n"
     ]
    },
    {
     "name": "stderr",
     "output_type": "stream",
     "text": [
      "Epoch 103/150: 100%|██████████| 213/213 [00:06<00:00, 31.83batch/s, mae_loss=0.577]\n"
     ]
    },
    {
     "name": "stdout",
     "output_type": "stream",
     "text": [
      "Epoch [103/150], Training MAE: 0.6190, Training RMSE: 0.8380\n"
     ]
    },
    {
     "name": "stderr",
     "output_type": "stream",
     "text": [
      "Epoch 104/150: 100%|██████████| 213/213 [00:06<00:00, 31.61batch/s, mae_loss=0.67] \n"
     ]
    },
    {
     "name": "stdout",
     "output_type": "stream",
     "text": [
      "Epoch [104/150], Training MAE: 0.6193, Training RMSE: 0.8385\n"
     ]
    },
    {
     "name": "stderr",
     "output_type": "stream",
     "text": [
      "Epoch 105/150: 100%|██████████| 213/213 [00:06<00:00, 30.64batch/s, mae_loss=0.596]\n"
     ]
    },
    {
     "name": "stdout",
     "output_type": "stream",
     "text": [
      "Epoch [105/150], Training MAE: 0.6191, Training RMSE: 0.8378\n"
     ]
    },
    {
     "name": "stderr",
     "output_type": "stream",
     "text": [
      "Epoch 106/150: 100%|██████████| 213/213 [00:07<00:00, 29.28batch/s, mae_loss=0.667]\n"
     ]
    },
    {
     "name": "stdout",
     "output_type": "stream",
     "text": [
      "Epoch [106/150], Training MAE: 0.6188, Training RMSE: 0.8377\n"
     ]
    },
    {
     "name": "stderr",
     "output_type": "stream",
     "text": [
      "Epoch 107/150: 100%|██████████| 213/213 [00:08<00:00, 25.47batch/s, mae_loss=0.645]\n"
     ]
    },
    {
     "name": "stdout",
     "output_type": "stream",
     "text": [
      "Epoch [107/150], Training MAE: 0.6178, Training RMSE: 0.8361\n"
     ]
    },
    {
     "name": "stderr",
     "output_type": "stream",
     "text": [
      "Epoch 108/150: 100%|██████████| 213/213 [00:06<00:00, 34.01batch/s, mae_loss=0.599]\n"
     ]
    },
    {
     "name": "stdout",
     "output_type": "stream",
     "text": [
      "Epoch [108/150], Training MAE: 0.6171, Training RMSE: 0.8358\n"
     ]
    },
    {
     "name": "stderr",
     "output_type": "stream",
     "text": [
      "Epoch 109/150: 100%|██████████| 213/213 [00:06<00:00, 32.64batch/s, mae_loss=0.628]\n"
     ]
    },
    {
     "name": "stdout",
     "output_type": "stream",
     "text": [
      "Epoch [109/150], Training MAE: 0.6167, Training RMSE: 0.8353\n"
     ]
    },
    {
     "name": "stderr",
     "output_type": "stream",
     "text": [
      "Epoch 110/150: 100%|██████████| 213/213 [00:07<00:00, 30.42batch/s, mae_loss=0.654]\n"
     ]
    },
    {
     "name": "stdout",
     "output_type": "stream",
     "text": [
      "Epoch [110/150], Training MAE: 0.6161, Training RMSE: 0.8346\n"
     ]
    },
    {
     "name": "stderr",
     "output_type": "stream",
     "text": [
      "Epoch 111/150: 100%|██████████| 213/213 [00:06<00:00, 32.36batch/s, mae_loss=0.594]\n"
     ]
    },
    {
     "name": "stdout",
     "output_type": "stream",
     "text": [
      "Epoch [111/150], Training MAE: 0.6152, Training RMSE: 0.8335\n"
     ]
    },
    {
     "name": "stderr",
     "output_type": "stream",
     "text": [
      "Epoch 112/150: 100%|██████████| 213/213 [00:07<00:00, 29.53batch/s, mae_loss=0.616]\n"
     ]
    },
    {
     "name": "stdout",
     "output_type": "stream",
     "text": [
      "Epoch [112/150], Training MAE: 0.6137, Training RMSE: 0.8322\n"
     ]
    },
    {
     "name": "stderr",
     "output_type": "stream",
     "text": [
      "Epoch 113/150: 100%|██████████| 213/213 [00:07<00:00, 27.65batch/s, mae_loss=0.652]\n"
     ]
    },
    {
     "name": "stdout",
     "output_type": "stream",
     "text": [
      "Epoch [113/150], Training MAE: 0.6152, Training RMSE: 0.8335\n"
     ]
    },
    {
     "name": "stderr",
     "output_type": "stream",
     "text": [
      "Epoch 114/150: 100%|██████████| 213/213 [00:07<00:00, 30.09batch/s, mae_loss=0.596]\n"
     ]
    },
    {
     "name": "stdout",
     "output_type": "stream",
     "text": [
      "Epoch [114/150], Training MAE: 0.6142, Training RMSE: 0.8326\n"
     ]
    },
    {
     "name": "stderr",
     "output_type": "stream",
     "text": [
      "Epoch 115/150: 100%|██████████| 213/213 [00:07<00:00, 30.32batch/s, mae_loss=0.635]\n"
     ]
    },
    {
     "name": "stdout",
     "output_type": "stream",
     "text": [
      "Epoch [115/150], Training MAE: 0.6138, Training RMSE: 0.8324\n"
     ]
    },
    {
     "name": "stderr",
     "output_type": "stream",
     "text": [
      "Epoch 116/150: 100%|██████████| 213/213 [00:06<00:00, 30.44batch/s, mae_loss=0.601]\n"
     ]
    },
    {
     "name": "stdout",
     "output_type": "stream",
     "text": [
      "Epoch [116/150], Training MAE: 0.6139, Training RMSE: 0.8320\n"
     ]
    },
    {
     "name": "stderr",
     "output_type": "stream",
     "text": [
      "Epoch 117/150: 100%|██████████| 213/213 [00:06<00:00, 33.04batch/s, mae_loss=0.646]\n"
     ]
    },
    {
     "name": "stdout",
     "output_type": "stream",
     "text": [
      "Epoch [117/150], Training MAE: 0.6127, Training RMSE: 0.8306\n"
     ]
    },
    {
     "name": "stderr",
     "output_type": "stream",
     "text": [
      "Epoch 118/150: 100%|██████████| 213/213 [00:06<00:00, 32.28batch/s, mae_loss=0.665]\n"
     ]
    },
    {
     "name": "stdout",
     "output_type": "stream",
     "text": [
      "Epoch [118/150], Training MAE: 0.6118, Training RMSE: 0.8294\n"
     ]
    },
    {
     "name": "stderr",
     "output_type": "stream",
     "text": [
      "Epoch 119/150: 100%|██████████| 213/213 [00:06<00:00, 33.14batch/s, mae_loss=0.624]\n"
     ]
    },
    {
     "name": "stdout",
     "output_type": "stream",
     "text": [
      "Epoch [119/150], Training MAE: 0.6118, Training RMSE: 0.8297\n"
     ]
    },
    {
     "name": "stderr",
     "output_type": "stream",
     "text": [
      "Epoch 120/150: 100%|██████████| 213/213 [00:07<00:00, 27.52batch/s, mae_loss=0.623]\n"
     ]
    },
    {
     "name": "stdout",
     "output_type": "stream",
     "text": [
      "Epoch [120/150], Training MAE: 0.6110, Training RMSE: 0.8294\n"
     ]
    },
    {
     "name": "stderr",
     "output_type": "stream",
     "text": [
      "Epoch 121/150: 100%|██████████| 213/213 [00:06<00:00, 32.94batch/s, mae_loss=0.591]\n"
     ]
    },
    {
     "name": "stdout",
     "output_type": "stream",
     "text": [
      "Epoch [121/150], Training MAE: 0.6105, Training RMSE: 0.8282\n"
     ]
    },
    {
     "name": "stderr",
     "output_type": "stream",
     "text": [
      "Epoch 122/150: 100%|██████████| 213/213 [00:06<00:00, 33.68batch/s, mae_loss=0.579]\n"
     ]
    },
    {
     "name": "stdout",
     "output_type": "stream",
     "text": [
      "Epoch [122/150], Training MAE: 0.6109, Training RMSE: 0.8284\n"
     ]
    },
    {
     "name": "stderr",
     "output_type": "stream",
     "text": [
      "Epoch 123/150: 100%|██████████| 213/213 [00:06<00:00, 32.74batch/s, mae_loss=0.571]\n"
     ]
    },
    {
     "name": "stdout",
     "output_type": "stream",
     "text": [
      "Epoch [123/150], Training MAE: 0.6105, Training RMSE: 0.8276\n"
     ]
    },
    {
     "name": "stderr",
     "output_type": "stream",
     "text": [
      "Epoch 124/150: 100%|██████████| 213/213 [00:06<00:00, 33.77batch/s, mae_loss=0.567]\n"
     ]
    },
    {
     "name": "stdout",
     "output_type": "stream",
     "text": [
      "Epoch [124/150], Training MAE: 0.6097, Training RMSE: 0.8275\n"
     ]
    },
    {
     "name": "stderr",
     "output_type": "stream",
     "text": [
      "Epoch 125/150: 100%|██████████| 213/213 [00:06<00:00, 32.62batch/s, mae_loss=0.573]\n"
     ]
    },
    {
     "name": "stdout",
     "output_type": "stream",
     "text": [
      "Epoch [125/150], Training MAE: 0.6093, Training RMSE: 0.8267\n"
     ]
    },
    {
     "name": "stderr",
     "output_type": "stream",
     "text": [
      "Epoch 126/150: 100%|██████████| 213/213 [00:07<00:00, 29.42batch/s, mae_loss=0.61] \n"
     ]
    },
    {
     "name": "stdout",
     "output_type": "stream",
     "text": [
      "Epoch [126/150], Training MAE: 0.6087, Training RMSE: 0.8264\n"
     ]
    },
    {
     "name": "stderr",
     "output_type": "stream",
     "text": [
      "Epoch 127/150: 100%|██████████| 213/213 [00:07<00:00, 28.56batch/s, mae_loss=0.64] \n"
     ]
    },
    {
     "name": "stdout",
     "output_type": "stream",
     "text": [
      "Epoch [127/150], Training MAE: 0.6084, Training RMSE: 0.8254\n"
     ]
    },
    {
     "name": "stderr",
     "output_type": "stream",
     "text": [
      "Epoch 128/150: 100%|██████████| 213/213 [00:08<00:00, 26.16batch/s, mae_loss=0.605]\n"
     ]
    },
    {
     "name": "stdout",
     "output_type": "stream",
     "text": [
      "Epoch [128/150], Training MAE: 0.6079, Training RMSE: 0.8252\n"
     ]
    },
    {
     "name": "stderr",
     "output_type": "stream",
     "text": [
      "Epoch 129/150: 100%|██████████| 213/213 [00:07<00:00, 30.28batch/s, mae_loss=0.515]\n"
     ]
    },
    {
     "name": "stdout",
     "output_type": "stream",
     "text": [
      "Epoch [129/150], Training MAE: 0.6081, Training RMSE: 0.8254\n"
     ]
    },
    {
     "name": "stderr",
     "output_type": "stream",
     "text": [
      "Epoch 130/150: 100%|██████████| 213/213 [00:07<00:00, 30.09batch/s, mae_loss=0.539]\n"
     ]
    },
    {
     "name": "stdout",
     "output_type": "stream",
     "text": [
      "Epoch [130/150], Training MAE: 0.6077, Training RMSE: 0.8243\n"
     ]
    },
    {
     "name": "stderr",
     "output_type": "stream",
     "text": [
      "Epoch 131/150: 100%|██████████| 213/213 [00:06<00:00, 31.06batch/s, mae_loss=0.602]\n"
     ]
    },
    {
     "name": "stdout",
     "output_type": "stream",
     "text": [
      "Epoch [131/150], Training MAE: 0.6066, Training RMSE: 0.8238\n"
     ]
    },
    {
     "name": "stderr",
     "output_type": "stream",
     "text": [
      "Epoch 132/150: 100%|██████████| 213/213 [00:06<00:00, 30.88batch/s, mae_loss=0.68] \n"
     ]
    },
    {
     "name": "stdout",
     "output_type": "stream",
     "text": [
      "Epoch [132/150], Training MAE: 0.6064, Training RMSE: 0.8233\n"
     ]
    },
    {
     "name": "stderr",
     "output_type": "stream",
     "text": [
      "Epoch 133/150: 100%|██████████| 213/213 [00:07<00:00, 29.90batch/s, mae_loss=0.609]\n"
     ]
    },
    {
     "name": "stdout",
     "output_type": "stream",
     "text": [
      "Epoch [133/150], Training MAE: 0.6060, Training RMSE: 0.8230\n"
     ]
    },
    {
     "name": "stderr",
     "output_type": "stream",
     "text": [
      "Epoch 134/150: 100%|██████████| 213/213 [00:07<00:00, 27.74batch/s, mae_loss=0.631]\n"
     ]
    },
    {
     "name": "stdout",
     "output_type": "stream",
     "text": [
      "Epoch [134/150], Training MAE: 0.6058, Training RMSE: 0.8229\n"
     ]
    },
    {
     "name": "stderr",
     "output_type": "stream",
     "text": [
      "Epoch 135/150: 100%|██████████| 213/213 [00:07<00:00, 29.45batch/s, mae_loss=0.57] \n"
     ]
    },
    {
     "name": "stdout",
     "output_type": "stream",
     "text": [
      "Epoch [135/150], Training MAE: 0.6048, Training RMSE: 0.8219\n"
     ]
    },
    {
     "name": "stderr",
     "output_type": "stream",
     "text": [
      "Epoch 136/150: 100%|██████████| 213/213 [00:07<00:00, 29.08batch/s, mae_loss=0.602]\n"
     ]
    },
    {
     "name": "stdout",
     "output_type": "stream",
     "text": [
      "Epoch [136/150], Training MAE: 0.6047, Training RMSE: 0.8217\n"
     ]
    },
    {
     "name": "stderr",
     "output_type": "stream",
     "text": [
      "Epoch 137/150: 100%|██████████| 213/213 [00:06<00:00, 30.93batch/s, mae_loss=0.676]\n"
     ]
    },
    {
     "name": "stdout",
     "output_type": "stream",
     "text": [
      "Epoch [137/150], Training MAE: 0.6046, Training RMSE: 0.8209\n"
     ]
    },
    {
     "name": "stderr",
     "output_type": "stream",
     "text": [
      "Epoch 138/150: 100%|██████████| 213/213 [00:07<00:00, 29.64batch/s, mae_loss=0.608]\n"
     ]
    },
    {
     "name": "stdout",
     "output_type": "stream",
     "text": [
      "Epoch [138/150], Training MAE: 0.6039, Training RMSE: 0.8209\n"
     ]
    },
    {
     "name": "stderr",
     "output_type": "stream",
     "text": [
      "Epoch 139/150: 100%|██████████| 213/213 [00:07<00:00, 28.65batch/s, mae_loss=0.562]\n"
     ]
    },
    {
     "name": "stdout",
     "output_type": "stream",
     "text": [
      "Epoch [139/150], Training MAE: 0.6038, Training RMSE: 0.8202\n"
     ]
    },
    {
     "name": "stderr",
     "output_type": "stream",
     "text": [
      "Epoch 140/150: 100%|██████████| 213/213 [00:06<00:00, 32.06batch/s, mae_loss=0.643]\n"
     ]
    },
    {
     "name": "stdout",
     "output_type": "stream",
     "text": [
      "Epoch [140/150], Training MAE: 0.6035, Training RMSE: 0.8205\n"
     ]
    },
    {
     "name": "stderr",
     "output_type": "stream",
     "text": [
      "Epoch 141/150: 100%|██████████| 213/213 [00:07<00:00, 28.91batch/s, mae_loss=0.563]\n"
     ]
    },
    {
     "name": "stdout",
     "output_type": "stream",
     "text": [
      "Epoch [141/150], Training MAE: 0.6028, Training RMSE: 0.8190\n"
     ]
    },
    {
     "name": "stderr",
     "output_type": "stream",
     "text": [
      "Epoch 142/150: 100%|██████████| 213/213 [00:06<00:00, 33.01batch/s, mae_loss=0.61] \n"
     ]
    },
    {
     "name": "stdout",
     "output_type": "stream",
     "text": [
      "Epoch [142/150], Training MAE: 0.6021, Training RMSE: 0.8183\n"
     ]
    },
    {
     "name": "stderr",
     "output_type": "stream",
     "text": [
      "Epoch 143/150: 100%|██████████| 213/213 [00:06<00:00, 31.60batch/s, mae_loss=0.543]\n"
     ]
    },
    {
     "name": "stdout",
     "output_type": "stream",
     "text": [
      "Epoch [143/150], Training MAE: 0.6019, Training RMSE: 0.8185\n"
     ]
    },
    {
     "name": "stderr",
     "output_type": "stream",
     "text": [
      "Epoch 144/150: 100%|██████████| 213/213 [00:08<00:00, 24.85batch/s, mae_loss=0.607]\n"
     ]
    },
    {
     "name": "stdout",
     "output_type": "stream",
     "text": [
      "Epoch [144/150], Training MAE: 0.6013, Training RMSE: 0.8174\n"
     ]
    },
    {
     "name": "stderr",
     "output_type": "stream",
     "text": [
      "Epoch 145/150: 100%|██████████| 213/213 [00:14<00:00, 14.53batch/s, mae_loss=0.601]\n"
     ]
    },
    {
     "name": "stdout",
     "output_type": "stream",
     "text": [
      "Epoch [145/150], Training MAE: 0.6018, Training RMSE: 0.8181\n"
     ]
    },
    {
     "name": "stderr",
     "output_type": "stream",
     "text": [
      "Epoch 146/150: 100%|██████████| 213/213 [00:09<00:00, 21.57batch/s, mae_loss=0.587]\n"
     ]
    },
    {
     "name": "stdout",
     "output_type": "stream",
     "text": [
      "Epoch [146/150], Training MAE: 0.6008, Training RMSE: 0.8169\n"
     ]
    },
    {
     "name": "stderr",
     "output_type": "stream",
     "text": [
      "Epoch 147/150: 100%|██████████| 213/213 [00:06<00:00, 33.40batch/s, mae_loss=0.639]\n"
     ]
    },
    {
     "name": "stdout",
     "output_type": "stream",
     "text": [
      "Epoch [147/150], Training MAE: 0.5998, Training RMSE: 0.8159\n"
     ]
    },
    {
     "name": "stderr",
     "output_type": "stream",
     "text": [
      "Epoch 148/150: 100%|██████████| 213/213 [00:07<00:00, 28.79batch/s, mae_loss=0.659]\n"
     ]
    },
    {
     "name": "stdout",
     "output_type": "stream",
     "text": [
      "Epoch [148/150], Training MAE: 0.6006, Training RMSE: 0.8168\n"
     ]
    },
    {
     "name": "stderr",
     "output_type": "stream",
     "text": [
      "Epoch 149/150: 100%|██████████| 213/213 [00:07<00:00, 30.21batch/s, mae_loss=0.595]\n"
     ]
    },
    {
     "name": "stdout",
     "output_type": "stream",
     "text": [
      "Epoch [149/150], Training MAE: 0.5992, Training RMSE: 0.8152\n"
     ]
    },
    {
     "name": "stderr",
     "output_type": "stream",
     "text": [
      "Epoch 150/150: 100%|██████████| 213/213 [00:08<00:00, 24.21batch/s, mae_loss=0.594]\n"
     ]
    },
    {
     "name": "stdout",
     "output_type": "stream",
     "text": [
      "Epoch [150/150], Training MAE: 0.5985, Training RMSE: 0.8144\n",
      "End Prediction Horizon of 24 of generalized Model\n",
      "model_generalized_attention_24_2 saved\n",
      "Start Prediction Horizon 24 of generalized model\n"
     ]
    },
    {
     "name": "stderr",
     "output_type": "stream",
     "text": [
      "Epoch 1/150: 100%|██████████| 213/213 [00:09<00:00, 23.43batch/s, mae_loss=0.653]\n"
     ]
    },
    {
     "name": "stdout",
     "output_type": "stream",
     "text": [
      "Epoch [1/150], Training MAE: 0.6962, Training RMSE: 0.9250\n"
     ]
    },
    {
     "name": "stderr",
     "output_type": "stream",
     "text": [
      "Epoch 2/150: 100%|██████████| 213/213 [00:08<00:00, 26.62batch/s, mae_loss=0.669]\n"
     ]
    },
    {
     "name": "stdout",
     "output_type": "stream",
     "text": [
      "Epoch [2/150], Training MAE: 0.6900, Training RMSE: 0.9218\n"
     ]
    },
    {
     "name": "stderr",
     "output_type": "stream",
     "text": [
      "Epoch 3/150: 100%|██████████| 213/213 [00:07<00:00, 26.88batch/s, mae_loss=0.715]\n"
     ]
    },
    {
     "name": "stdout",
     "output_type": "stream",
     "text": [
      "Epoch [3/150], Training MAE: 0.6884, Training RMSE: 0.9208\n"
     ]
    },
    {
     "name": "stderr",
     "output_type": "stream",
     "text": [
      "Epoch 4/150: 100%|██████████| 213/213 [00:09<00:00, 21.46batch/s, mae_loss=0.758]\n"
     ]
    },
    {
     "name": "stdout",
     "output_type": "stream",
     "text": [
      "Epoch [4/150], Training MAE: 0.6876, Training RMSE: 0.9205\n"
     ]
    },
    {
     "name": "stderr",
     "output_type": "stream",
     "text": [
      "Epoch 5/150: 100%|██████████| 213/213 [00:07<00:00, 27.25batch/s, mae_loss=0.671]\n"
     ]
    },
    {
     "name": "stdout",
     "output_type": "stream",
     "text": [
      "Epoch [5/150], Training MAE: 0.6867, Training RMSE: 0.9195\n"
     ]
    },
    {
     "name": "stderr",
     "output_type": "stream",
     "text": [
      "Epoch 6/150: 100%|██████████| 213/213 [00:06<00:00, 30.99batch/s, mae_loss=0.674]\n"
     ]
    },
    {
     "name": "stdout",
     "output_type": "stream",
     "text": [
      "Epoch [6/150], Training MAE: 0.6861, Training RMSE: 0.9191\n"
     ]
    },
    {
     "name": "stderr",
     "output_type": "stream",
     "text": [
      "Epoch 7/150: 100%|██████████| 213/213 [00:06<00:00, 30.53batch/s, mae_loss=0.73] \n"
     ]
    },
    {
     "name": "stdout",
     "output_type": "stream",
     "text": [
      "Epoch [7/150], Training MAE: 0.6858, Training RMSE: 0.9187\n"
     ]
    },
    {
     "name": "stderr",
     "output_type": "stream",
     "text": [
      "Epoch 8/150: 100%|██████████| 213/213 [00:06<00:00, 31.35batch/s, mae_loss=0.689]\n"
     ]
    },
    {
     "name": "stdout",
     "output_type": "stream",
     "text": [
      "Epoch [8/150], Training MAE: 0.6853, Training RMSE: 0.9180\n"
     ]
    },
    {
     "name": "stderr",
     "output_type": "stream",
     "text": [
      "Epoch 9/150: 100%|██████████| 213/213 [00:07<00:00, 27.40batch/s, mae_loss=0.685]\n"
     ]
    },
    {
     "name": "stdout",
     "output_type": "stream",
     "text": [
      "Epoch [9/150], Training MAE: 0.6848, Training RMSE: 0.9174\n"
     ]
    },
    {
     "name": "stderr",
     "output_type": "stream",
     "text": [
      "Epoch 10/150: 100%|██████████| 213/213 [00:08<00:00, 24.96batch/s, mae_loss=0.713]\n"
     ]
    },
    {
     "name": "stdout",
     "output_type": "stream",
     "text": [
      "Epoch [10/150], Training MAE: 0.6844, Training RMSE: 0.9169\n"
     ]
    },
    {
     "name": "stderr",
     "output_type": "stream",
     "text": [
      "Epoch 11/150: 100%|██████████| 213/213 [00:09<00:00, 23.34batch/s, mae_loss=0.678]\n"
     ]
    },
    {
     "name": "stdout",
     "output_type": "stream",
     "text": [
      "Epoch [11/150], Training MAE: 0.6837, Training RMSE: 0.9159\n"
     ]
    },
    {
     "name": "stderr",
     "output_type": "stream",
     "text": [
      "Epoch 12/150: 100%|██████████| 213/213 [00:07<00:00, 29.52batch/s, mae_loss=0.742]\n"
     ]
    },
    {
     "name": "stdout",
     "output_type": "stream",
     "text": [
      "Epoch [12/150], Training MAE: 0.6829, Training RMSE: 0.9151\n"
     ]
    },
    {
     "name": "stderr",
     "output_type": "stream",
     "text": [
      "Epoch 13/150: 100%|██████████| 213/213 [00:09<00:00, 23.57batch/s, mae_loss=0.728]\n"
     ]
    },
    {
     "name": "stdout",
     "output_type": "stream",
     "text": [
      "Epoch [13/150], Training MAE: 0.6821, Training RMSE: 0.9138\n"
     ]
    },
    {
     "name": "stderr",
     "output_type": "stream",
     "text": [
      "Epoch 14/150: 100%|██████████| 213/213 [00:07<00:00, 26.78batch/s, mae_loss=0.699]\n"
     ]
    },
    {
     "name": "stdout",
     "output_type": "stream",
     "text": [
      "Epoch [14/150], Training MAE: 0.6811, Training RMSE: 0.9125\n"
     ]
    },
    {
     "name": "stderr",
     "output_type": "stream",
     "text": [
      "Epoch 15/150: 100%|██████████| 213/213 [00:06<00:00, 30.71batch/s, mae_loss=0.73] \n"
     ]
    },
    {
     "name": "stdout",
     "output_type": "stream",
     "text": [
      "Epoch [15/150], Training MAE: 0.6802, Training RMSE: 0.9110\n"
     ]
    },
    {
     "name": "stderr",
     "output_type": "stream",
     "text": [
      "Epoch 16/150: 100%|██████████| 213/213 [00:08<00:00, 25.74batch/s, mae_loss=0.671]\n"
     ]
    },
    {
     "name": "stdout",
     "output_type": "stream",
     "text": [
      "Epoch [16/150], Training MAE: 0.6790, Training RMSE: 0.9097\n"
     ]
    },
    {
     "name": "stderr",
     "output_type": "stream",
     "text": [
      "Epoch 17/150: 100%|██████████| 213/213 [00:08<00:00, 25.09batch/s, mae_loss=0.682]\n"
     ]
    },
    {
     "name": "stdout",
     "output_type": "stream",
     "text": [
      "Epoch [17/150], Training MAE: 0.6782, Training RMSE: 0.9083\n"
     ]
    },
    {
     "name": "stderr",
     "output_type": "stream",
     "text": [
      "Epoch 18/150: 100%|██████████| 213/213 [00:07<00:00, 27.20batch/s, mae_loss=0.68] \n"
     ]
    },
    {
     "name": "stdout",
     "output_type": "stream",
     "text": [
      "Epoch [18/150], Training MAE: 0.6771, Training RMSE: 0.9069\n"
     ]
    },
    {
     "name": "stderr",
     "output_type": "stream",
     "text": [
      "Epoch 19/150: 100%|██████████| 213/213 [00:07<00:00, 30.26batch/s, mae_loss=0.629]\n"
     ]
    },
    {
     "name": "stdout",
     "output_type": "stream",
     "text": [
      "Epoch [19/150], Training MAE: 0.6759, Training RMSE: 0.9056\n"
     ]
    },
    {
     "name": "stderr",
     "output_type": "stream",
     "text": [
      "Epoch 20/150: 100%|██████████| 213/213 [00:06<00:00, 31.75batch/s, mae_loss=0.669]\n"
     ]
    },
    {
     "name": "stdout",
     "output_type": "stream",
     "text": [
      "Epoch [20/150], Training MAE: 0.6753, Training RMSE: 0.9043\n"
     ]
    },
    {
     "name": "stderr",
     "output_type": "stream",
     "text": [
      "Epoch 21/150: 100%|██████████| 213/213 [00:08<00:00, 25.29batch/s, mae_loss=0.675]\n"
     ]
    },
    {
     "name": "stdout",
     "output_type": "stream",
     "text": [
      "Epoch [21/150], Training MAE: 0.6744, Training RMSE: 0.9033\n"
     ]
    },
    {
     "name": "stderr",
     "output_type": "stream",
     "text": [
      "Epoch 22/150: 100%|██████████| 213/213 [00:07<00:00, 29.71batch/s, mae_loss=0.752]\n"
     ]
    },
    {
     "name": "stdout",
     "output_type": "stream",
     "text": [
      "Epoch [22/150], Training MAE: 0.6740, Training RMSE: 0.9026\n"
     ]
    },
    {
     "name": "stderr",
     "output_type": "stream",
     "text": [
      "Epoch 23/150: 100%|██████████| 213/213 [00:06<00:00, 31.08batch/s, mae_loss=0.621]\n"
     ]
    },
    {
     "name": "stdout",
     "output_type": "stream",
     "text": [
      "Epoch [23/150], Training MAE: 0.6726, Training RMSE: 0.9008\n"
     ]
    },
    {
     "name": "stderr",
     "output_type": "stream",
     "text": [
      "Epoch 24/150: 100%|██████████| 213/213 [00:07<00:00, 28.06batch/s, mae_loss=0.678]\n"
     ]
    },
    {
     "name": "stdout",
     "output_type": "stream",
     "text": [
      "Epoch [24/150], Training MAE: 0.6722, Training RMSE: 0.9005\n"
     ]
    },
    {
     "name": "stderr",
     "output_type": "stream",
     "text": [
      "Epoch 25/150: 100%|██████████| 213/213 [00:08<00:00, 25.25batch/s, mae_loss=0.674]\n"
     ]
    },
    {
     "name": "stdout",
     "output_type": "stream",
     "text": [
      "Epoch [25/150], Training MAE: 0.6712, Training RMSE: 0.8993\n"
     ]
    },
    {
     "name": "stderr",
     "output_type": "stream",
     "text": [
      "Epoch 26/150: 100%|██████████| 213/213 [00:08<00:00, 25.06batch/s, mae_loss=0.668]\n"
     ]
    },
    {
     "name": "stdout",
     "output_type": "stream",
     "text": [
      "Epoch [26/150], Training MAE: 0.6702, Training RMSE: 0.8982\n"
     ]
    },
    {
     "name": "stderr",
     "output_type": "stream",
     "text": [
      "Epoch 27/150: 100%|██████████| 213/213 [00:07<00:00, 30.20batch/s, mae_loss=0.679]\n"
     ]
    },
    {
     "name": "stdout",
     "output_type": "stream",
     "text": [
      "Epoch [27/150], Training MAE: 0.6700, Training RMSE: 0.8974\n"
     ]
    },
    {
     "name": "stderr",
     "output_type": "stream",
     "text": [
      "Epoch 28/150: 100%|██████████| 213/213 [00:07<00:00, 29.72batch/s, mae_loss=0.664]\n"
     ]
    },
    {
     "name": "stdout",
     "output_type": "stream",
     "text": [
      "Epoch [28/150], Training MAE: 0.6687, Training RMSE: 0.8961\n"
     ]
    },
    {
     "name": "stderr",
     "output_type": "stream",
     "text": [
      "Epoch 29/150: 100%|██████████| 213/213 [00:07<00:00, 28.14batch/s, mae_loss=0.667]\n"
     ]
    },
    {
     "name": "stdout",
     "output_type": "stream",
     "text": [
      "Epoch [29/150], Training MAE: 0.6676, Training RMSE: 0.8950\n"
     ]
    },
    {
     "name": "stderr",
     "output_type": "stream",
     "text": [
      "Epoch 30/150: 100%|██████████| 213/213 [00:08<00:00, 23.93batch/s, mae_loss=0.628]\n"
     ]
    },
    {
     "name": "stdout",
     "output_type": "stream",
     "text": [
      "Epoch [30/150], Training MAE: 0.6669, Training RMSE: 0.8942\n"
     ]
    },
    {
     "name": "stderr",
     "output_type": "stream",
     "text": [
      "Epoch 31/150: 100%|██████████| 213/213 [00:07<00:00, 29.54batch/s, mae_loss=0.723]\n"
     ]
    },
    {
     "name": "stdout",
     "output_type": "stream",
     "text": [
      "Epoch [31/150], Training MAE: 0.6664, Training RMSE: 0.8933\n"
     ]
    },
    {
     "name": "stderr",
     "output_type": "stream",
     "text": [
      "Epoch 32/150: 100%|██████████| 213/213 [00:07<00:00, 30.29batch/s, mae_loss=0.593]\n"
     ]
    },
    {
     "name": "stdout",
     "output_type": "stream",
     "text": [
      "Epoch [32/150], Training MAE: 0.6647, Training RMSE: 0.8914\n"
     ]
    },
    {
     "name": "stderr",
     "output_type": "stream",
     "text": [
      "Epoch 33/150: 100%|██████████| 213/213 [00:07<00:00, 29.02batch/s, mae_loss=0.669]\n"
     ]
    },
    {
     "name": "stdout",
     "output_type": "stream",
     "text": [
      "Epoch [33/150], Training MAE: 0.6648, Training RMSE: 0.8917\n"
     ]
    },
    {
     "name": "stderr",
     "output_type": "stream",
     "text": [
      "Epoch 34/150: 100%|██████████| 213/213 [00:07<00:00, 29.23batch/s, mae_loss=0.605]\n"
     ]
    },
    {
     "name": "stdout",
     "output_type": "stream",
     "text": [
      "Epoch [34/150], Training MAE: 0.6635, Training RMSE: 0.8902\n"
     ]
    },
    {
     "name": "stderr",
     "output_type": "stream",
     "text": [
      "Epoch 35/150: 100%|██████████| 213/213 [00:07<00:00, 27.86batch/s, mae_loss=0.645]\n"
     ]
    },
    {
     "name": "stdout",
     "output_type": "stream",
     "text": [
      "Epoch [35/150], Training MAE: 0.6632, Training RMSE: 0.8895\n"
     ]
    },
    {
     "name": "stderr",
     "output_type": "stream",
     "text": [
      "Epoch 36/150: 100%|██████████| 213/213 [00:08<00:00, 26.27batch/s, mae_loss=0.676]\n"
     ]
    },
    {
     "name": "stdout",
     "output_type": "stream",
     "text": [
      "Epoch [36/150], Training MAE: 0.6619, Training RMSE: 0.8879\n"
     ]
    },
    {
     "name": "stderr",
     "output_type": "stream",
     "text": [
      "Epoch 37/150: 100%|██████████| 213/213 [00:06<00:00, 33.85batch/s, mae_loss=0.736]\n"
     ]
    },
    {
     "name": "stdout",
     "output_type": "stream",
     "text": [
      "Epoch [37/150], Training MAE: 0.6621, Training RMSE: 0.8880\n"
     ]
    },
    {
     "name": "stderr",
     "output_type": "stream",
     "text": [
      "Epoch 38/150: 100%|██████████| 213/213 [00:07<00:00, 30.02batch/s, mae_loss=0.7]  \n"
     ]
    },
    {
     "name": "stdout",
     "output_type": "stream",
     "text": [
      "Epoch [38/150], Training MAE: 0.6607, Training RMSE: 0.8865\n"
     ]
    },
    {
     "name": "stderr",
     "output_type": "stream",
     "text": [
      "Epoch 39/150: 100%|██████████| 213/213 [00:08<00:00, 24.71batch/s, mae_loss=0.583]\n"
     ]
    },
    {
     "name": "stdout",
     "output_type": "stream",
     "text": [
      "Epoch [39/150], Training MAE: 0.6602, Training RMSE: 0.8857\n"
     ]
    },
    {
     "name": "stderr",
     "output_type": "stream",
     "text": [
      "Epoch 40/150: 100%|██████████| 213/213 [00:07<00:00, 27.06batch/s, mae_loss=0.692]\n"
     ]
    },
    {
     "name": "stdout",
     "output_type": "stream",
     "text": [
      "Epoch [40/150], Training MAE: 0.6591, Training RMSE: 0.8846\n"
     ]
    },
    {
     "name": "stderr",
     "output_type": "stream",
     "text": [
      "Epoch 41/150: 100%|██████████| 213/213 [00:07<00:00, 26.96batch/s, mae_loss=0.672]\n"
     ]
    },
    {
     "name": "stdout",
     "output_type": "stream",
     "text": [
      "Epoch [41/150], Training MAE: 0.6586, Training RMSE: 0.8839\n"
     ]
    },
    {
     "name": "stderr",
     "output_type": "stream",
     "text": [
      "Epoch 42/150: 100%|██████████| 213/213 [00:06<00:00, 32.43batch/s, mae_loss=0.747]\n"
     ]
    },
    {
     "name": "stdout",
     "output_type": "stream",
     "text": [
      "Epoch [42/150], Training MAE: 0.6576, Training RMSE: 0.8829\n"
     ]
    },
    {
     "name": "stderr",
     "output_type": "stream",
     "text": [
      "Epoch 43/150: 100%|██████████| 213/213 [00:06<00:00, 31.97batch/s, mae_loss=0.658]\n"
     ]
    },
    {
     "name": "stdout",
     "output_type": "stream",
     "text": [
      "Epoch [43/150], Training MAE: 0.6573, Training RMSE: 0.8822\n"
     ]
    },
    {
     "name": "stderr",
     "output_type": "stream",
     "text": [
      "Epoch 44/150: 100%|██████████| 213/213 [00:06<00:00, 32.75batch/s, mae_loss=0.683]\n"
     ]
    },
    {
     "name": "stdout",
     "output_type": "stream",
     "text": [
      "Epoch [44/150], Training MAE: 0.6563, Training RMSE: 0.8812\n"
     ]
    },
    {
     "name": "stderr",
     "output_type": "stream",
     "text": [
      "Epoch 45/150: 100%|██████████| 213/213 [00:06<00:00, 32.24batch/s, mae_loss=0.599]\n"
     ]
    },
    {
     "name": "stdout",
     "output_type": "stream",
     "text": [
      "Epoch [45/150], Training MAE: 0.6556, Training RMSE: 0.8806\n"
     ]
    },
    {
     "name": "stderr",
     "output_type": "stream",
     "text": [
      "Epoch 46/150: 100%|██████████| 213/213 [00:06<00:00, 33.37batch/s, mae_loss=0.688]\n"
     ]
    },
    {
     "name": "stdout",
     "output_type": "stream",
     "text": [
      "Epoch [46/150], Training MAE: 0.6547, Training RMSE: 0.8796\n"
     ]
    },
    {
     "name": "stderr",
     "output_type": "stream",
     "text": [
      "Epoch 47/150: 100%|██████████| 213/213 [00:06<00:00, 31.93batch/s, mae_loss=0.631]\n"
     ]
    },
    {
     "name": "stdout",
     "output_type": "stream",
     "text": [
      "Epoch [47/150], Training MAE: 0.6542, Training RMSE: 0.8791\n"
     ]
    },
    {
     "name": "stderr",
     "output_type": "stream",
     "text": [
      "Epoch 48/150: 100%|██████████| 213/213 [00:07<00:00, 28.64batch/s, mae_loss=0.683]\n"
     ]
    },
    {
     "name": "stdout",
     "output_type": "stream",
     "text": [
      "Epoch [48/150], Training MAE: 0.6536, Training RMSE: 0.8781\n"
     ]
    },
    {
     "name": "stderr",
     "output_type": "stream",
     "text": [
      "Epoch 49/150: 100%|██████████| 213/213 [00:07<00:00, 27.92batch/s, mae_loss=0.629]\n"
     ]
    },
    {
     "name": "stdout",
     "output_type": "stream",
     "text": [
      "Epoch [49/150], Training MAE: 0.6529, Training RMSE: 0.8776\n"
     ]
    },
    {
     "name": "stderr",
     "output_type": "stream",
     "text": [
      "Epoch 50/150: 100%|██████████| 213/213 [00:07<00:00, 30.30batch/s, mae_loss=0.689]\n"
     ]
    },
    {
     "name": "stdout",
     "output_type": "stream",
     "text": [
      "Epoch [50/150], Training MAE: 0.6524, Training RMSE: 0.8769\n"
     ]
    },
    {
     "name": "stderr",
     "output_type": "stream",
     "text": [
      "Epoch 51/150: 100%|██████████| 213/213 [00:07<00:00, 28.64batch/s, mae_loss=0.668]\n"
     ]
    },
    {
     "name": "stdout",
     "output_type": "stream",
     "text": [
      "Epoch [51/150], Training MAE: 0.6518, Training RMSE: 0.8760\n"
     ]
    },
    {
     "name": "stderr",
     "output_type": "stream",
     "text": [
      "Epoch 52/150: 100%|██████████| 213/213 [00:06<00:00, 32.31batch/s, mae_loss=0.639]\n"
     ]
    },
    {
     "name": "stdout",
     "output_type": "stream",
     "text": [
      "Epoch [52/150], Training MAE: 0.6509, Training RMSE: 0.8753\n"
     ]
    },
    {
     "name": "stderr",
     "output_type": "stream",
     "text": [
      "Epoch 53/150: 100%|██████████| 213/213 [00:06<00:00, 31.10batch/s, mae_loss=0.725]\n"
     ]
    },
    {
     "name": "stdout",
     "output_type": "stream",
     "text": [
      "Epoch [53/150], Training MAE: 0.6502, Training RMSE: 0.8741\n"
     ]
    },
    {
     "name": "stderr",
     "output_type": "stream",
     "text": [
      "Epoch 54/150: 100%|██████████| 213/213 [00:06<00:00, 31.86batch/s, mae_loss=0.63] \n"
     ]
    },
    {
     "name": "stdout",
     "output_type": "stream",
     "text": [
      "Epoch [54/150], Training MAE: 0.6490, Training RMSE: 0.8732\n"
     ]
    },
    {
     "name": "stderr",
     "output_type": "stream",
     "text": [
      "Epoch 55/150: 100%|██████████| 213/213 [00:07<00:00, 29.21batch/s, mae_loss=0.621]\n"
     ]
    },
    {
     "name": "stdout",
     "output_type": "stream",
     "text": [
      "Epoch [55/150], Training MAE: 0.6490, Training RMSE: 0.8729\n"
     ]
    },
    {
     "name": "stderr",
     "output_type": "stream",
     "text": [
      "Epoch 56/150: 100%|██████████| 213/213 [00:08<00:00, 26.39batch/s, mae_loss=0.662]\n"
     ]
    },
    {
     "name": "stdout",
     "output_type": "stream",
     "text": [
      "Epoch [56/150], Training MAE: 0.6484, Training RMSE: 0.8723\n"
     ]
    },
    {
     "name": "stderr",
     "output_type": "stream",
     "text": [
      "Epoch 57/150: 100%|██████████| 213/213 [00:06<00:00, 31.48batch/s, mae_loss=0.641]\n"
     ]
    },
    {
     "name": "stdout",
     "output_type": "stream",
     "text": [
      "Epoch [57/150], Training MAE: 0.6482, Training RMSE: 0.8719\n"
     ]
    },
    {
     "name": "stderr",
     "output_type": "stream",
     "text": [
      "Epoch 58/150: 100%|██████████| 213/213 [00:07<00:00, 28.42batch/s, mae_loss=0.698]\n"
     ]
    },
    {
     "name": "stdout",
     "output_type": "stream",
     "text": [
      "Epoch [58/150], Training MAE: 0.6472, Training RMSE: 0.8711\n"
     ]
    },
    {
     "name": "stderr",
     "output_type": "stream",
     "text": [
      "Epoch 59/150: 100%|██████████| 213/213 [00:06<00:00, 31.02batch/s, mae_loss=0.715]\n"
     ]
    },
    {
     "name": "stdout",
     "output_type": "stream",
     "text": [
      "Epoch [59/150], Training MAE: 0.6469, Training RMSE: 0.8706\n"
     ]
    },
    {
     "name": "stderr",
     "output_type": "stream",
     "text": [
      "Epoch 60/150: 100%|██████████| 213/213 [00:06<00:00, 32.12batch/s, mae_loss=0.678]\n"
     ]
    },
    {
     "name": "stdout",
     "output_type": "stream",
     "text": [
      "Epoch [60/150], Training MAE: 0.6455, Training RMSE: 0.8689\n"
     ]
    },
    {
     "name": "stderr",
     "output_type": "stream",
     "text": [
      "Epoch 61/150: 100%|██████████| 213/213 [00:07<00:00, 29.69batch/s, mae_loss=0.676]\n"
     ]
    },
    {
     "name": "stdout",
     "output_type": "stream",
     "text": [
      "Epoch [61/150], Training MAE: 0.6455, Training RMSE: 0.8689\n"
     ]
    },
    {
     "name": "stderr",
     "output_type": "stream",
     "text": [
      "Epoch 62/150: 100%|██████████| 213/213 [00:07<00:00, 27.64batch/s, mae_loss=0.624]\n"
     ]
    },
    {
     "name": "stdout",
     "output_type": "stream",
     "text": [
      "Epoch [62/150], Training MAE: 0.6443, Training RMSE: 0.8681\n"
     ]
    },
    {
     "name": "stderr",
     "output_type": "stream",
     "text": [
      "Epoch 63/150: 100%|██████████| 213/213 [00:08<00:00, 24.82batch/s, mae_loss=0.677]\n"
     ]
    },
    {
     "name": "stdout",
     "output_type": "stream",
     "text": [
      "Epoch [63/150], Training MAE: 0.6440, Training RMSE: 0.8672\n"
     ]
    },
    {
     "name": "stderr",
     "output_type": "stream",
     "text": [
      "Epoch 64/150: 100%|██████████| 213/213 [00:08<00:00, 24.93batch/s, mae_loss=0.641]\n"
     ]
    },
    {
     "name": "stdout",
     "output_type": "stream",
     "text": [
      "Epoch [64/150], Training MAE: 0.6428, Training RMSE: 0.8663\n"
     ]
    },
    {
     "name": "stderr",
     "output_type": "stream",
     "text": [
      "Epoch 65/150: 100%|██████████| 213/213 [00:07<00:00, 28.21batch/s, mae_loss=0.672]\n"
     ]
    },
    {
     "name": "stdout",
     "output_type": "stream",
     "text": [
      "Epoch [65/150], Training MAE: 0.6437, Training RMSE: 0.8669\n"
     ]
    },
    {
     "name": "stderr",
     "output_type": "stream",
     "text": [
      "Epoch 66/150: 100%|██████████| 213/213 [00:07<00:00, 28.64batch/s, mae_loss=0.679]\n"
     ]
    },
    {
     "name": "stdout",
     "output_type": "stream",
     "text": [
      "Epoch [66/150], Training MAE: 0.6424, Training RMSE: 0.8653\n"
     ]
    },
    {
     "name": "stderr",
     "output_type": "stream",
     "text": [
      "Epoch 67/150: 100%|██████████| 213/213 [00:07<00:00, 29.39batch/s, mae_loss=0.662]\n"
     ]
    },
    {
     "name": "stdout",
     "output_type": "stream",
     "text": [
      "Epoch [67/150], Training MAE: 0.6420, Training RMSE: 0.8651\n"
     ]
    },
    {
     "name": "stderr",
     "output_type": "stream",
     "text": [
      "Epoch 68/150: 100%|██████████| 213/213 [00:07<00:00, 29.27batch/s, mae_loss=0.655]\n"
     ]
    },
    {
     "name": "stdout",
     "output_type": "stream",
     "text": [
      "Epoch [68/150], Training MAE: 0.6407, Training RMSE: 0.8636\n"
     ]
    },
    {
     "name": "stderr",
     "output_type": "stream",
     "text": [
      "Epoch 69/150: 100%|██████████| 213/213 [00:06<00:00, 31.68batch/s, mae_loss=0.55] \n"
     ]
    },
    {
     "name": "stdout",
     "output_type": "stream",
     "text": [
      "Epoch [69/150], Training MAE: 0.6401, Training RMSE: 0.8629\n"
     ]
    },
    {
     "name": "stderr",
     "output_type": "stream",
     "text": [
      "Epoch 70/150: 100%|██████████| 213/213 [00:06<00:00, 34.44batch/s, mae_loss=0.695]\n"
     ]
    },
    {
     "name": "stdout",
     "output_type": "stream",
     "text": [
      "Epoch [70/150], Training MAE: 0.6399, Training RMSE: 0.8626\n"
     ]
    },
    {
     "name": "stderr",
     "output_type": "stream",
     "text": [
      "Epoch 71/150: 100%|██████████| 213/213 [00:06<00:00, 33.03batch/s, mae_loss=0.619]\n"
     ]
    },
    {
     "name": "stdout",
     "output_type": "stream",
     "text": [
      "Epoch [71/150], Training MAE: 0.6391, Training RMSE: 0.8619\n"
     ]
    },
    {
     "name": "stderr",
     "output_type": "stream",
     "text": [
      "Epoch 72/150: 100%|██████████| 213/213 [00:07<00:00, 29.45batch/s, mae_loss=0.654]\n"
     ]
    },
    {
     "name": "stdout",
     "output_type": "stream",
     "text": [
      "Epoch [72/150], Training MAE: 0.6389, Training RMSE: 0.8615\n"
     ]
    },
    {
     "name": "stderr",
     "output_type": "stream",
     "text": [
      "Epoch 73/150: 100%|██████████| 213/213 [00:06<00:00, 33.24batch/s, mae_loss=0.612]\n"
     ]
    },
    {
     "name": "stdout",
     "output_type": "stream",
     "text": [
      "Epoch [73/150], Training MAE: 0.6381, Training RMSE: 0.8607\n"
     ]
    },
    {
     "name": "stderr",
     "output_type": "stream",
     "text": [
      "Epoch 74/150: 100%|██████████| 213/213 [00:07<00:00, 27.84batch/s, mae_loss=0.602]\n"
     ]
    },
    {
     "name": "stdout",
     "output_type": "stream",
     "text": [
      "Epoch [74/150], Training MAE: 0.6373, Training RMSE: 0.8597\n"
     ]
    },
    {
     "name": "stderr",
     "output_type": "stream",
     "text": [
      "Epoch 75/150: 100%|██████████| 213/213 [00:07<00:00, 26.96batch/s, mae_loss=0.571]\n"
     ]
    },
    {
     "name": "stdout",
     "output_type": "stream",
     "text": [
      "Epoch [75/150], Training MAE: 0.6368, Training RMSE: 0.8595\n"
     ]
    },
    {
     "name": "stderr",
     "output_type": "stream",
     "text": [
      "Epoch 76/150: 100%|██████████| 213/213 [00:07<00:00, 28.08batch/s, mae_loss=0.661]\n"
     ]
    },
    {
     "name": "stdout",
     "output_type": "stream",
     "text": [
      "Epoch [76/150], Training MAE: 0.6365, Training RMSE: 0.8587\n"
     ]
    },
    {
     "name": "stderr",
     "output_type": "stream",
     "text": [
      "Epoch 77/150: 100%|██████████| 213/213 [00:07<00:00, 28.51batch/s, mae_loss=0.709]\n"
     ]
    },
    {
     "name": "stdout",
     "output_type": "stream",
     "text": [
      "Epoch [77/150], Training MAE: 0.6361, Training RMSE: 0.8579\n"
     ]
    },
    {
     "name": "stderr",
     "output_type": "stream",
     "text": [
      "Epoch 78/150: 100%|██████████| 213/213 [00:07<00:00, 30.17batch/s, mae_loss=0.64] \n"
     ]
    },
    {
     "name": "stdout",
     "output_type": "stream",
     "text": [
      "Epoch [78/150], Training MAE: 0.6350, Training RMSE: 0.8572\n"
     ]
    },
    {
     "name": "stderr",
     "output_type": "stream",
     "text": [
      "Epoch 79/150: 100%|██████████| 213/213 [00:06<00:00, 32.05batch/s, mae_loss=0.614]\n"
     ]
    },
    {
     "name": "stdout",
     "output_type": "stream",
     "text": [
      "Epoch [79/150], Training MAE: 0.6350, Training RMSE: 0.8572\n"
     ]
    },
    {
     "name": "stderr",
     "output_type": "stream",
     "text": [
      "Epoch 80/150: 100%|██████████| 213/213 [00:07<00:00, 28.89batch/s, mae_loss=0.64] \n"
     ]
    },
    {
     "name": "stdout",
     "output_type": "stream",
     "text": [
      "Epoch [80/150], Training MAE: 0.6346, Training RMSE: 0.8568\n"
     ]
    },
    {
     "name": "stderr",
     "output_type": "stream",
     "text": [
      "Epoch 81/150: 100%|██████████| 213/213 [00:06<00:00, 33.30batch/s, mae_loss=0.603]\n"
     ]
    },
    {
     "name": "stdout",
     "output_type": "stream",
     "text": [
      "Epoch [81/150], Training MAE: 0.6339, Training RMSE: 0.8555\n"
     ]
    },
    {
     "name": "stderr",
     "output_type": "stream",
     "text": [
      "Epoch 82/150: 100%|██████████| 213/213 [00:06<00:00, 31.99batch/s, mae_loss=0.689]\n"
     ]
    },
    {
     "name": "stdout",
     "output_type": "stream",
     "text": [
      "Epoch [82/150], Training MAE: 0.6336, Training RMSE: 0.8556\n"
     ]
    },
    {
     "name": "stderr",
     "output_type": "stream",
     "text": [
      "Epoch 83/150: 100%|██████████| 213/213 [00:06<00:00, 30.79batch/s, mae_loss=0.671]\n"
     ]
    },
    {
     "name": "stdout",
     "output_type": "stream",
     "text": [
      "Epoch [83/150], Training MAE: 0.6330, Training RMSE: 0.8547\n"
     ]
    },
    {
     "name": "stderr",
     "output_type": "stream",
     "text": [
      "Epoch 84/150: 100%|██████████| 213/213 [00:07<00:00, 27.52batch/s, mae_loss=0.613]\n"
     ]
    },
    {
     "name": "stdout",
     "output_type": "stream",
     "text": [
      "Epoch [84/150], Training MAE: 0.6324, Training RMSE: 0.8545\n"
     ]
    },
    {
     "name": "stderr",
     "output_type": "stream",
     "text": [
      "Epoch 85/150: 100%|██████████| 213/213 [00:07<00:00, 29.52batch/s, mae_loss=0.621]\n"
     ]
    },
    {
     "name": "stdout",
     "output_type": "stream",
     "text": [
      "Epoch [85/150], Training MAE: 0.6317, Training RMSE: 0.8537\n"
     ]
    },
    {
     "name": "stderr",
     "output_type": "stream",
     "text": [
      "Epoch 86/150: 100%|██████████| 213/213 [00:06<00:00, 33.10batch/s, mae_loss=0.609]\n"
     ]
    },
    {
     "name": "stdout",
     "output_type": "stream",
     "text": [
      "Epoch [86/150], Training MAE: 0.6312, Training RMSE: 0.8528\n"
     ]
    },
    {
     "name": "stderr",
     "output_type": "stream",
     "text": [
      "Epoch 87/150: 100%|██████████| 213/213 [00:06<00:00, 31.73batch/s, mae_loss=0.596]\n"
     ]
    },
    {
     "name": "stdout",
     "output_type": "stream",
     "text": [
      "Epoch [87/150], Training MAE: 0.6299, Training RMSE: 0.8520\n"
     ]
    },
    {
     "name": "stderr",
     "output_type": "stream",
     "text": [
      "Epoch 88/150: 100%|██████████| 213/213 [00:06<00:00, 32.13batch/s, mae_loss=0.691]\n"
     ]
    },
    {
     "name": "stdout",
     "output_type": "stream",
     "text": [
      "Epoch [88/150], Training MAE: 0.6297, Training RMSE: 0.8517\n"
     ]
    },
    {
     "name": "stderr",
     "output_type": "stream",
     "text": [
      "Epoch 89/150: 100%|██████████| 213/213 [00:06<00:00, 31.55batch/s, mae_loss=0.643]\n"
     ]
    },
    {
     "name": "stdout",
     "output_type": "stream",
     "text": [
      "Epoch [89/150], Training MAE: 0.6294, Training RMSE: 0.8512\n"
     ]
    },
    {
     "name": "stderr",
     "output_type": "stream",
     "text": [
      "Epoch 90/150: 100%|██████████| 213/213 [00:07<00:00, 27.98batch/s, mae_loss=0.581]\n"
     ]
    },
    {
     "name": "stdout",
     "output_type": "stream",
     "text": [
      "Epoch [90/150], Training MAE: 0.6284, Training RMSE: 0.8501\n"
     ]
    },
    {
     "name": "stderr",
     "output_type": "stream",
     "text": [
      "Epoch 91/150: 100%|██████████| 213/213 [00:07<00:00, 28.65batch/s, mae_loss=0.639]\n"
     ]
    },
    {
     "name": "stdout",
     "output_type": "stream",
     "text": [
      "Epoch [91/150], Training MAE: 0.6277, Training RMSE: 0.8501\n"
     ]
    },
    {
     "name": "stderr",
     "output_type": "stream",
     "text": [
      "Epoch 92/150: 100%|██████████| 213/213 [00:07<00:00, 26.71batch/s, mae_loss=0.684]\n"
     ]
    },
    {
     "name": "stdout",
     "output_type": "stream",
     "text": [
      "Epoch [92/150], Training MAE: 0.6286, Training RMSE: 0.8501\n"
     ]
    },
    {
     "name": "stderr",
     "output_type": "stream",
     "text": [
      "Epoch 93/150: 100%|██████████| 213/213 [00:06<00:00, 32.19batch/s, mae_loss=0.728]\n"
     ]
    },
    {
     "name": "stdout",
     "output_type": "stream",
     "text": [
      "Epoch [93/150], Training MAE: 0.6277, Training RMSE: 0.8495\n"
     ]
    },
    {
     "name": "stderr",
     "output_type": "stream",
     "text": [
      "Epoch 94/150: 100%|██████████| 213/213 [00:06<00:00, 31.58batch/s, mae_loss=0.628]\n"
     ]
    },
    {
     "name": "stdout",
     "output_type": "stream",
     "text": [
      "Epoch [94/150], Training MAE: 0.6269, Training RMSE: 0.8484\n"
     ]
    },
    {
     "name": "stderr",
     "output_type": "stream",
     "text": [
      "Epoch 95/150: 100%|██████████| 213/213 [00:07<00:00, 28.11batch/s, mae_loss=0.644]\n"
     ]
    },
    {
     "name": "stdout",
     "output_type": "stream",
     "text": [
      "Epoch [95/150], Training MAE: 0.6260, Training RMSE: 0.8473\n"
     ]
    },
    {
     "name": "stderr",
     "output_type": "stream",
     "text": [
      "Epoch 96/150: 100%|██████████| 213/213 [00:06<00:00, 34.53batch/s, mae_loss=0.683]\n"
     ]
    },
    {
     "name": "stdout",
     "output_type": "stream",
     "text": [
      "Epoch [96/150], Training MAE: 0.6259, Training RMSE: 0.8469\n"
     ]
    },
    {
     "name": "stderr",
     "output_type": "stream",
     "text": [
      "Epoch 97/150: 100%|██████████| 213/213 [00:06<00:00, 34.06batch/s, mae_loss=0.668]\n"
     ]
    },
    {
     "name": "stdout",
     "output_type": "stream",
     "text": [
      "Epoch [97/150], Training MAE: 0.6248, Training RMSE: 0.8459\n"
     ]
    },
    {
     "name": "stderr",
     "output_type": "stream",
     "text": [
      "Epoch 98/150: 100%|██████████| 213/213 [00:06<00:00, 32.57batch/s, mae_loss=0.616]\n"
     ]
    },
    {
     "name": "stdout",
     "output_type": "stream",
     "text": [
      "Epoch [98/150], Training MAE: 0.6250, Training RMSE: 0.8458\n"
     ]
    },
    {
     "name": "stderr",
     "output_type": "stream",
     "text": [
      "Epoch 99/150: 100%|██████████| 213/213 [00:06<00:00, 34.51batch/s, mae_loss=0.651]\n"
     ]
    },
    {
     "name": "stdout",
     "output_type": "stream",
     "text": [
      "Epoch [99/150], Training MAE: 0.6242, Training RMSE: 0.8457\n"
     ]
    },
    {
     "name": "stderr",
     "output_type": "stream",
     "text": [
      "Epoch 100/150: 100%|██████████| 213/213 [00:06<00:00, 32.91batch/s, mae_loss=0.621]\n"
     ]
    },
    {
     "name": "stdout",
     "output_type": "stream",
     "text": [
      "Epoch [100/150], Training MAE: 0.6238, Training RMSE: 0.8449\n"
     ]
    },
    {
     "name": "stderr",
     "output_type": "stream",
     "text": [
      "Epoch 101/150: 100%|██████████| 213/213 [00:06<00:00, 31.18batch/s, mae_loss=0.651]\n"
     ]
    },
    {
     "name": "stdout",
     "output_type": "stream",
     "text": [
      "Epoch [101/150], Training MAE: 0.6230, Training RMSE: 0.8438\n"
     ]
    },
    {
     "name": "stderr",
     "output_type": "stream",
     "text": [
      "Epoch 102/150: 100%|██████████| 213/213 [00:06<00:00, 32.44batch/s, mae_loss=0.656]\n"
     ]
    },
    {
     "name": "stdout",
     "output_type": "stream",
     "text": [
      "Epoch [102/150], Training MAE: 0.6230, Training RMSE: 0.8437\n"
     ]
    },
    {
     "name": "stderr",
     "output_type": "stream",
     "text": [
      "Epoch 103/150: 100%|██████████| 213/213 [00:06<00:00, 32.78batch/s, mae_loss=0.651]\n"
     ]
    },
    {
     "name": "stdout",
     "output_type": "stream",
     "text": [
      "Epoch [103/150], Training MAE: 0.6230, Training RMSE: 0.8437\n"
     ]
    },
    {
     "name": "stderr",
     "output_type": "stream",
     "text": [
      "Epoch 104/150: 100%|██████████| 213/213 [00:07<00:00, 29.72batch/s, mae_loss=0.637]\n"
     ]
    },
    {
     "name": "stdout",
     "output_type": "stream",
     "text": [
      "Epoch [104/150], Training MAE: 0.6223, Training RMSE: 0.8431\n"
     ]
    },
    {
     "name": "stderr",
     "output_type": "stream",
     "text": [
      "Epoch 105/150: 100%|██████████| 213/213 [00:07<00:00, 29.49batch/s, mae_loss=0.61] \n"
     ]
    },
    {
     "name": "stdout",
     "output_type": "stream",
     "text": [
      "Epoch [105/150], Training MAE: 0.6211, Training RMSE: 0.8419\n"
     ]
    },
    {
     "name": "stderr",
     "output_type": "stream",
     "text": [
      "Epoch 106/150: 100%|██████████| 213/213 [00:06<00:00, 33.26batch/s, mae_loss=0.67] \n"
     ]
    },
    {
     "name": "stdout",
     "output_type": "stream",
     "text": [
      "Epoch [106/150], Training MAE: 0.6213, Training RMSE: 0.8422\n"
     ]
    },
    {
     "name": "stderr",
     "output_type": "stream",
     "text": [
      "Epoch 107/150: 100%|██████████| 213/213 [00:06<00:00, 34.42batch/s, mae_loss=0.533]\n"
     ]
    },
    {
     "name": "stdout",
     "output_type": "stream",
     "text": [
      "Epoch [107/150], Training MAE: 0.6203, Training RMSE: 0.8409\n"
     ]
    },
    {
     "name": "stderr",
     "output_type": "stream",
     "text": [
      "Epoch 108/150: 100%|██████████| 213/213 [00:06<00:00, 33.09batch/s, mae_loss=0.571]\n"
     ]
    },
    {
     "name": "stdout",
     "output_type": "stream",
     "text": [
      "Epoch [108/150], Training MAE: 0.6198, Training RMSE: 0.8405\n"
     ]
    },
    {
     "name": "stderr",
     "output_type": "stream",
     "text": [
      "Epoch 109/150: 100%|██████████| 213/213 [00:06<00:00, 34.57batch/s, mae_loss=0.616]\n"
     ]
    },
    {
     "name": "stdout",
     "output_type": "stream",
     "text": [
      "Epoch [109/150], Training MAE: 0.6193, Training RMSE: 0.8399\n"
     ]
    },
    {
     "name": "stderr",
     "output_type": "stream",
     "text": [
      "Epoch 110/150: 100%|██████████| 213/213 [00:06<00:00, 33.91batch/s, mae_loss=0.694]\n"
     ]
    },
    {
     "name": "stdout",
     "output_type": "stream",
     "text": [
      "Epoch [110/150], Training MAE: 0.6192, Training RMSE: 0.8397\n"
     ]
    },
    {
     "name": "stderr",
     "output_type": "stream",
     "text": [
      "Epoch 111/150: 100%|██████████| 213/213 [00:06<00:00, 32.65batch/s, mae_loss=0.665]\n"
     ]
    },
    {
     "name": "stdout",
     "output_type": "stream",
     "text": [
      "Epoch [111/150], Training MAE: 0.6188, Training RMSE: 0.8396\n"
     ]
    },
    {
     "name": "stderr",
     "output_type": "stream",
     "text": [
      "Epoch 112/150: 100%|██████████| 213/213 [00:06<00:00, 34.63batch/s, mae_loss=0.603]\n"
     ]
    },
    {
     "name": "stdout",
     "output_type": "stream",
     "text": [
      "Epoch [112/150], Training MAE: 0.6183, Training RMSE: 0.8388\n"
     ]
    },
    {
     "name": "stderr",
     "output_type": "stream",
     "text": [
      "Epoch 113/150: 100%|██████████| 213/213 [00:06<00:00, 31.75batch/s, mae_loss=0.605]\n"
     ]
    },
    {
     "name": "stdout",
     "output_type": "stream",
     "text": [
      "Epoch [113/150], Training MAE: 0.6172, Training RMSE: 0.8375\n"
     ]
    },
    {
     "name": "stderr",
     "output_type": "stream",
     "text": [
      "Epoch 114/150: 100%|██████████| 213/213 [00:06<00:00, 31.99batch/s, mae_loss=0.553]\n"
     ]
    },
    {
     "name": "stdout",
     "output_type": "stream",
     "text": [
      "Epoch [114/150], Training MAE: 0.6176, Training RMSE: 0.8378\n"
     ]
    },
    {
     "name": "stderr",
     "output_type": "stream",
     "text": [
      "Epoch 115/150: 100%|██████████| 213/213 [00:06<00:00, 34.45batch/s, mae_loss=0.602]\n"
     ]
    },
    {
     "name": "stdout",
     "output_type": "stream",
     "text": [
      "Epoch [115/150], Training MAE: 0.6168, Training RMSE: 0.8372\n"
     ]
    },
    {
     "name": "stderr",
     "output_type": "stream",
     "text": [
      "Epoch 116/150: 100%|██████████| 213/213 [00:06<00:00, 33.48batch/s, mae_loss=0.66] \n"
     ]
    },
    {
     "name": "stdout",
     "output_type": "stream",
     "text": [
      "Epoch [116/150], Training MAE: 0.6160, Training RMSE: 0.8362\n"
     ]
    },
    {
     "name": "stderr",
     "output_type": "stream",
     "text": [
      "Epoch 117/150: 100%|██████████| 213/213 [00:07<00:00, 28.81batch/s, mae_loss=0.662]\n"
     ]
    },
    {
     "name": "stdout",
     "output_type": "stream",
     "text": [
      "Epoch [117/150], Training MAE: 0.6152, Training RMSE: 0.8348\n"
     ]
    },
    {
     "name": "stderr",
     "output_type": "stream",
     "text": [
      "Epoch 118/150: 100%|██████████| 213/213 [00:09<00:00, 21.48batch/s, mae_loss=0.592]\n"
     ]
    },
    {
     "name": "stdout",
     "output_type": "stream",
     "text": [
      "Epoch [118/150], Training MAE: 0.6148, Training RMSE: 0.8349\n"
     ]
    },
    {
     "name": "stderr",
     "output_type": "stream",
     "text": [
      "Epoch 119/150: 100%|██████████| 213/213 [00:06<00:00, 32.02batch/s, mae_loss=0.592]\n"
     ]
    },
    {
     "name": "stdout",
     "output_type": "stream",
     "text": [
      "Epoch [119/150], Training MAE: 0.6151, Training RMSE: 0.8351\n"
     ]
    },
    {
     "name": "stderr",
     "output_type": "stream",
     "text": [
      "Epoch 120/150: 100%|██████████| 213/213 [00:07<00:00, 27.58batch/s, mae_loss=0.618]\n"
     ]
    },
    {
     "name": "stdout",
     "output_type": "stream",
     "text": [
      "Epoch [120/150], Training MAE: 0.6149, Training RMSE: 0.8346\n"
     ]
    },
    {
     "name": "stderr",
     "output_type": "stream",
     "text": [
      "Epoch 121/150: 100%|██████████| 213/213 [00:09<00:00, 22.76batch/s, mae_loss=0.585]\n"
     ]
    },
    {
     "name": "stdout",
     "output_type": "stream",
     "text": [
      "Epoch [121/150], Training MAE: 0.6139, Training RMSE: 0.8339\n"
     ]
    },
    {
     "name": "stderr",
     "output_type": "stream",
     "text": [
      "Epoch 122/150: 100%|██████████| 213/213 [00:06<00:00, 32.08batch/s, mae_loss=0.668]\n"
     ]
    },
    {
     "name": "stdout",
     "output_type": "stream",
     "text": [
      "Epoch [122/150], Training MAE: 0.6138, Training RMSE: 0.8334\n"
     ]
    },
    {
     "name": "stderr",
     "output_type": "stream",
     "text": [
      "Epoch 123/150: 100%|██████████| 213/213 [00:06<00:00, 31.40batch/s, mae_loss=0.623]\n"
     ]
    },
    {
     "name": "stdout",
     "output_type": "stream",
     "text": [
      "Epoch [123/150], Training MAE: 0.6137, Training RMSE: 0.8337\n"
     ]
    },
    {
     "name": "stderr",
     "output_type": "stream",
     "text": [
      "Epoch 124/150: 100%|██████████| 213/213 [00:06<00:00, 32.82batch/s, mae_loss=0.579]\n"
     ]
    },
    {
     "name": "stdout",
     "output_type": "stream",
     "text": [
      "Epoch [124/150], Training MAE: 0.6116, Training RMSE: 0.8309\n"
     ]
    },
    {
     "name": "stderr",
     "output_type": "stream",
     "text": [
      "Epoch 125/150: 100%|██████████| 213/213 [00:06<00:00, 34.40batch/s, mae_loss=0.562]\n"
     ]
    },
    {
     "name": "stdout",
     "output_type": "stream",
     "text": [
      "Epoch [125/150], Training MAE: 0.6120, Training RMSE: 0.8314\n"
     ]
    },
    {
     "name": "stderr",
     "output_type": "stream",
     "text": [
      "Epoch 126/150: 100%|██████████| 213/213 [00:06<00:00, 31.95batch/s, mae_loss=0.635]\n"
     ]
    },
    {
     "name": "stdout",
     "output_type": "stream",
     "text": [
      "Epoch [126/150], Training MAE: 0.6114, Training RMSE: 0.8309\n"
     ]
    },
    {
     "name": "stderr",
     "output_type": "stream",
     "text": [
      "Epoch 127/150: 100%|██████████| 213/213 [00:06<00:00, 31.89batch/s, mae_loss=0.643]\n"
     ]
    },
    {
     "name": "stdout",
     "output_type": "stream",
     "text": [
      "Epoch [127/150], Training MAE: 0.6119, Training RMSE: 0.8311\n"
     ]
    },
    {
     "name": "stderr",
     "output_type": "stream",
     "text": [
      "Epoch 128/150: 100%|██████████| 213/213 [00:07<00:00, 30.00batch/s, mae_loss=0.653]\n"
     ]
    },
    {
     "name": "stdout",
     "output_type": "stream",
     "text": [
      "Epoch [128/150], Training MAE: 0.6109, Training RMSE: 0.8297\n"
     ]
    },
    {
     "name": "stderr",
     "output_type": "stream",
     "text": [
      "Epoch 129/150: 100%|██████████| 213/213 [00:06<00:00, 31.40batch/s, mae_loss=0.59] \n"
     ]
    },
    {
     "name": "stdout",
     "output_type": "stream",
     "text": [
      "Epoch [129/150], Training MAE: 0.6107, Training RMSE: 0.8299\n"
     ]
    },
    {
     "name": "stderr",
     "output_type": "stream",
     "text": [
      "Epoch 130/150: 100%|██████████| 213/213 [00:06<00:00, 33.99batch/s, mae_loss=0.583]\n"
     ]
    },
    {
     "name": "stdout",
     "output_type": "stream",
     "text": [
      "Epoch [130/150], Training MAE: 0.6100, Training RMSE: 0.8290\n"
     ]
    },
    {
     "name": "stderr",
     "output_type": "stream",
     "text": [
      "Epoch 131/150: 100%|██████████| 213/213 [00:06<00:00, 33.23batch/s, mae_loss=0.576]\n"
     ]
    },
    {
     "name": "stdout",
     "output_type": "stream",
     "text": [
      "Epoch [131/150], Training MAE: 0.6096, Training RMSE: 0.8286\n"
     ]
    },
    {
     "name": "stderr",
     "output_type": "stream",
     "text": [
      "Epoch 132/150: 100%|██████████| 213/213 [00:06<00:00, 33.97batch/s, mae_loss=0.551]\n"
     ]
    },
    {
     "name": "stdout",
     "output_type": "stream",
     "text": [
      "Epoch [132/150], Training MAE: 0.6090, Training RMSE: 0.8279\n"
     ]
    },
    {
     "name": "stderr",
     "output_type": "stream",
     "text": [
      "Epoch 133/150: 100%|██████████| 213/213 [00:06<00:00, 31.28batch/s, mae_loss=0.6]  \n"
     ]
    },
    {
     "name": "stdout",
     "output_type": "stream",
     "text": [
      "Epoch [133/150], Training MAE: 0.6092, Training RMSE: 0.8280\n"
     ]
    },
    {
     "name": "stderr",
     "output_type": "stream",
     "text": [
      "Epoch 134/150: 100%|██████████| 213/213 [00:06<00:00, 32.88batch/s, mae_loss=0.655]\n"
     ]
    },
    {
     "name": "stdout",
     "output_type": "stream",
     "text": [
      "Epoch [134/150], Training MAE: 0.6086, Training RMSE: 0.8273\n"
     ]
    },
    {
     "name": "stderr",
     "output_type": "stream",
     "text": [
      "Epoch 135/150: 100%|██████████| 213/213 [00:07<00:00, 29.09batch/s, mae_loss=0.55] \n"
     ]
    },
    {
     "name": "stdout",
     "output_type": "stream",
     "text": [
      "Epoch [135/150], Training MAE: 0.6083, Training RMSE: 0.8271\n"
     ]
    },
    {
     "name": "stderr",
     "output_type": "stream",
     "text": [
      "Epoch 136/150: 100%|██████████| 213/213 [00:08<00:00, 25.28batch/s, mae_loss=0.649]\n"
     ]
    },
    {
     "name": "stdout",
     "output_type": "stream",
     "text": [
      "Epoch [136/150], Training MAE: 0.6082, Training RMSE: 0.8272\n"
     ]
    },
    {
     "name": "stderr",
     "output_type": "stream",
     "text": [
      "Epoch 137/150: 100%|██████████| 213/213 [00:07<00:00, 28.13batch/s, mae_loss=0.625]\n"
     ]
    },
    {
     "name": "stdout",
     "output_type": "stream",
     "text": [
      "Epoch [137/150], Training MAE: 0.6076, Training RMSE: 0.8268\n"
     ]
    },
    {
     "name": "stderr",
     "output_type": "stream",
     "text": [
      "Epoch 138/150: 100%|██████████| 213/213 [00:06<00:00, 30.94batch/s, mae_loss=0.628]\n"
     ]
    },
    {
     "name": "stdout",
     "output_type": "stream",
     "text": [
      "Epoch [138/150], Training MAE: 0.6068, Training RMSE: 0.8256\n"
     ]
    },
    {
     "name": "stderr",
     "output_type": "stream",
     "text": [
      "Epoch 139/150: 100%|██████████| 213/213 [00:06<00:00, 30.46batch/s, mae_loss=0.552]\n"
     ]
    },
    {
     "name": "stdout",
     "output_type": "stream",
     "text": [
      "Epoch [139/150], Training MAE: 0.6061, Training RMSE: 0.8248\n"
     ]
    },
    {
     "name": "stderr",
     "output_type": "stream",
     "text": [
      "Epoch 140/150: 100%|██████████| 213/213 [00:07<00:00, 28.33batch/s, mae_loss=0.645]\n"
     ]
    },
    {
     "name": "stdout",
     "output_type": "stream",
     "text": [
      "Epoch [140/150], Training MAE: 0.6066, Training RMSE: 0.8251\n"
     ]
    },
    {
     "name": "stderr",
     "output_type": "stream",
     "text": [
      "Epoch 141/150: 100%|██████████| 213/213 [00:08<00:00, 25.27batch/s, mae_loss=0.584]\n"
     ]
    },
    {
     "name": "stdout",
     "output_type": "stream",
     "text": [
      "Epoch [141/150], Training MAE: 0.6058, Training RMSE: 0.8249\n"
     ]
    },
    {
     "name": "stderr",
     "output_type": "stream",
     "text": [
      "Epoch 142/150: 100%|██████████| 213/213 [00:07<00:00, 29.29batch/s, mae_loss=0.583]\n"
     ]
    },
    {
     "name": "stdout",
     "output_type": "stream",
     "text": [
      "Epoch [142/150], Training MAE: 0.6051, Training RMSE: 0.8235\n"
     ]
    },
    {
     "name": "stderr",
     "output_type": "stream",
     "text": [
      "Epoch 143/150: 100%|██████████| 213/213 [00:06<00:00, 34.21batch/s, mae_loss=0.592]\n"
     ]
    },
    {
     "name": "stdout",
     "output_type": "stream",
     "text": [
      "Epoch [143/150], Training MAE: 0.6046, Training RMSE: 0.8231\n"
     ]
    },
    {
     "name": "stderr",
     "output_type": "stream",
     "text": [
      "Epoch 144/150: 100%|██████████| 213/213 [00:06<00:00, 34.08batch/s, mae_loss=0.651]\n"
     ]
    },
    {
     "name": "stdout",
     "output_type": "stream",
     "text": [
      "Epoch [144/150], Training MAE: 0.6046, Training RMSE: 0.8235\n"
     ]
    },
    {
     "name": "stderr",
     "output_type": "stream",
     "text": [
      "Epoch 145/150: 100%|██████████| 213/213 [00:06<00:00, 32.85batch/s, mae_loss=0.623]\n"
     ]
    },
    {
     "name": "stdout",
     "output_type": "stream",
     "text": [
      "Epoch [145/150], Training MAE: 0.6038, Training RMSE: 0.8227\n"
     ]
    },
    {
     "name": "stderr",
     "output_type": "stream",
     "text": [
      "Epoch 146/150: 100%|██████████| 213/213 [00:06<00:00, 34.04batch/s, mae_loss=0.587]\n"
     ]
    },
    {
     "name": "stdout",
     "output_type": "stream",
     "text": [
      "Epoch [146/150], Training MAE: 0.6038, Training RMSE: 0.8221\n"
     ]
    },
    {
     "name": "stderr",
     "output_type": "stream",
     "text": [
      "Epoch 147/150: 100%|██████████| 213/213 [00:06<00:00, 32.95batch/s, mae_loss=0.575]\n"
     ]
    },
    {
     "name": "stdout",
     "output_type": "stream",
     "text": [
      "Epoch [147/150], Training MAE: 0.6031, Training RMSE: 0.8220\n"
     ]
    },
    {
     "name": "stderr",
     "output_type": "stream",
     "text": [
      "Epoch 148/150: 100%|██████████| 213/213 [00:06<00:00, 34.56batch/s, mae_loss=0.591]\n"
     ]
    },
    {
     "name": "stdout",
     "output_type": "stream",
     "text": [
      "Epoch [148/150], Training MAE: 0.6030, Training RMSE: 0.8215\n"
     ]
    },
    {
     "name": "stderr",
     "output_type": "stream",
     "text": [
      "Epoch 149/150: 100%|██████████| 213/213 [00:06<00:00, 31.43batch/s, mae_loss=0.605]\n"
     ]
    },
    {
     "name": "stdout",
     "output_type": "stream",
     "text": [
      "Epoch [149/150], Training MAE: 0.6026, Training RMSE: 0.8211\n"
     ]
    },
    {
     "name": "stderr",
     "output_type": "stream",
     "text": [
      "Epoch 150/150: 100%|██████████| 213/213 [00:06<00:00, 31.54batch/s, mae_loss=0.628]\n"
     ]
    },
    {
     "name": "stdout",
     "output_type": "stream",
     "text": [
      "Epoch [150/150], Training MAE: 0.6017, Training RMSE: 0.8196\n",
      "End Prediction Horizon of 24 of generalized Model\n",
      "model_generalized_attention_24_3 saved\n",
      "Start Prediction Horizon 24 of generalized model\n"
     ]
    },
    {
     "name": "stderr",
     "output_type": "stream",
     "text": [
      "Epoch 1/150: 100%|██████████| 213/213 [00:06<00:00, 33.59batch/s, mae_loss=0.634]\n"
     ]
    },
    {
     "name": "stdout",
     "output_type": "stream",
     "text": [
      "Epoch [1/150], Training MAE: 0.6962, Training RMSE: 0.9238\n"
     ]
    },
    {
     "name": "stderr",
     "output_type": "stream",
     "text": [
      "Epoch 2/150: 100%|██████████| 213/213 [00:06<00:00, 31.39batch/s, mae_loss=0.717]\n"
     ]
    },
    {
     "name": "stdout",
     "output_type": "stream",
     "text": [
      "Epoch [2/150], Training MAE: 0.6902, Training RMSE: 0.9210\n"
     ]
    },
    {
     "name": "stderr",
     "output_type": "stream",
     "text": [
      "Epoch 3/150: 100%|██████████| 213/213 [00:06<00:00, 33.46batch/s, mae_loss=0.751]\n"
     ]
    },
    {
     "name": "stdout",
     "output_type": "stream",
     "text": [
      "Epoch [3/150], Training MAE: 0.6888, Training RMSE: 0.9202\n"
     ]
    },
    {
     "name": "stderr",
     "output_type": "stream",
     "text": [
      "Epoch 4/150: 100%|██████████| 213/213 [00:06<00:00, 34.27batch/s, mae_loss=0.75] \n"
     ]
    },
    {
     "name": "stdout",
     "output_type": "stream",
     "text": [
      "Epoch [4/150], Training MAE: 0.6878, Training RMSE: 0.9196\n"
     ]
    },
    {
     "name": "stderr",
     "output_type": "stream",
     "text": [
      "Epoch 5/150: 100%|██████████| 213/213 [00:06<00:00, 33.33batch/s, mae_loss=0.661]\n"
     ]
    },
    {
     "name": "stdout",
     "output_type": "stream",
     "text": [
      "Epoch [5/150], Training MAE: 0.6868, Training RMSE: 0.9186\n"
     ]
    },
    {
     "name": "stderr",
     "output_type": "stream",
     "text": [
      "Epoch 6/150: 100%|██████████| 213/213 [00:06<00:00, 34.45batch/s, mae_loss=0.647]\n"
     ]
    },
    {
     "name": "stdout",
     "output_type": "stream",
     "text": [
      "Epoch [6/150], Training MAE: 0.6861, Training RMSE: 0.9176\n"
     ]
    },
    {
     "name": "stderr",
     "output_type": "stream",
     "text": [
      "Epoch 7/150: 100%|██████████| 213/213 [00:07<00:00, 30.34batch/s, mae_loss=0.634]\n"
     ]
    },
    {
     "name": "stdout",
     "output_type": "stream",
     "text": [
      "Epoch [7/150], Training MAE: 0.6856, Training RMSE: 0.9170\n"
     ]
    },
    {
     "name": "stderr",
     "output_type": "stream",
     "text": [
      "Epoch 8/150: 100%|██████████| 213/213 [00:06<00:00, 34.29batch/s, mae_loss=0.673]\n"
     ]
    },
    {
     "name": "stdout",
     "output_type": "stream",
     "text": [
      "Epoch [8/150], Training MAE: 0.6851, Training RMSE: 0.9167\n"
     ]
    },
    {
     "name": "stderr",
     "output_type": "stream",
     "text": [
      "Epoch 9/150: 100%|██████████| 213/213 [00:06<00:00, 33.12batch/s, mae_loss=0.615]\n"
     ]
    },
    {
     "name": "stdout",
     "output_type": "stream",
     "text": [
      "Epoch [9/150], Training MAE: 0.6847, Training RMSE: 0.9161\n"
     ]
    },
    {
     "name": "stderr",
     "output_type": "stream",
     "text": [
      "Epoch 10/150: 100%|██████████| 213/213 [00:06<00:00, 33.53batch/s, mae_loss=0.732]\n"
     ]
    },
    {
     "name": "stdout",
     "output_type": "stream",
     "text": [
      "Epoch [10/150], Training MAE: 0.6844, Training RMSE: 0.9157\n"
     ]
    },
    {
     "name": "stderr",
     "output_type": "stream",
     "text": [
      "Epoch 11/150: 100%|██████████| 213/213 [00:06<00:00, 34.00batch/s, mae_loss=0.701]\n"
     ]
    },
    {
     "name": "stdout",
     "output_type": "stream",
     "text": [
      "Epoch [11/150], Training MAE: 0.6838, Training RMSE: 0.9149\n"
     ]
    },
    {
     "name": "stderr",
     "output_type": "stream",
     "text": [
      "Epoch 12/150: 100%|██████████| 213/213 [00:06<00:00, 31.60batch/s, mae_loss=0.695]\n"
     ]
    },
    {
     "name": "stdout",
     "output_type": "stream",
     "text": [
      "Epoch [12/150], Training MAE: 0.6830, Training RMSE: 0.9138\n"
     ]
    },
    {
     "name": "stderr",
     "output_type": "stream",
     "text": [
      "Epoch 13/150: 100%|██████████| 213/213 [00:06<00:00, 33.20batch/s, mae_loss=0.673]\n"
     ]
    },
    {
     "name": "stdout",
     "output_type": "stream",
     "text": [
      "Epoch [13/150], Training MAE: 0.6824, Training RMSE: 0.9128\n"
     ]
    },
    {
     "name": "stderr",
     "output_type": "stream",
     "text": [
      "Epoch 14/150: 100%|██████████| 213/213 [00:06<00:00, 34.18batch/s, mae_loss=0.677]\n"
     ]
    },
    {
     "name": "stdout",
     "output_type": "stream",
     "text": [
      "Epoch [14/150], Training MAE: 0.6815, Training RMSE: 0.9116\n"
     ]
    },
    {
     "name": "stderr",
     "output_type": "stream",
     "text": [
      "Epoch 15/150: 100%|██████████| 213/213 [00:06<00:00, 31.66batch/s, mae_loss=0.662]\n"
     ]
    },
    {
     "name": "stdout",
     "output_type": "stream",
     "text": [
      "Epoch [15/150], Training MAE: 0.6808, Training RMSE: 0.9108\n"
     ]
    },
    {
     "name": "stderr",
     "output_type": "stream",
     "text": [
      "Epoch 16/150: 100%|██████████| 213/213 [00:06<00:00, 34.65batch/s, mae_loss=0.725]\n"
     ]
    },
    {
     "name": "stdout",
     "output_type": "stream",
     "text": [
      "Epoch [16/150], Training MAE: 0.6802, Training RMSE: 0.9095\n"
     ]
    },
    {
     "name": "stderr",
     "output_type": "stream",
     "text": [
      "Epoch 17/150: 100%|██████████| 213/213 [00:06<00:00, 34.60batch/s, mae_loss=0.624]\n"
     ]
    },
    {
     "name": "stdout",
     "output_type": "stream",
     "text": [
      "Epoch [17/150], Training MAE: 0.6790, Training RMSE: 0.9080\n"
     ]
    },
    {
     "name": "stderr",
     "output_type": "stream",
     "text": [
      "Epoch 18/150: 100%|██████████| 213/213 [00:06<00:00, 33.32batch/s, mae_loss=0.71] \n"
     ]
    },
    {
     "name": "stdout",
     "output_type": "stream",
     "text": [
      "Epoch [18/150], Training MAE: 0.6783, Training RMSE: 0.9069\n"
     ]
    },
    {
     "name": "stderr",
     "output_type": "stream",
     "text": [
      "Epoch 19/150: 100%|██████████| 213/213 [00:06<00:00, 34.02batch/s, mae_loss=0.683]\n"
     ]
    },
    {
     "name": "stdout",
     "output_type": "stream",
     "text": [
      "Epoch [19/150], Training MAE: 0.6772, Training RMSE: 0.9054\n"
     ]
    },
    {
     "name": "stderr",
     "output_type": "stream",
     "text": [
      "Epoch 20/150: 100%|██████████| 213/213 [00:06<00:00, 33.45batch/s, mae_loss=0.661]\n"
     ]
    },
    {
     "name": "stdout",
     "output_type": "stream",
     "text": [
      "Epoch [20/150], Training MAE: 0.6763, Training RMSE: 0.9042\n"
     ]
    },
    {
     "name": "stderr",
     "output_type": "stream",
     "text": [
      "Epoch 21/150: 100%|██████████| 213/213 [00:06<00:00, 34.30batch/s, mae_loss=0.651]\n"
     ]
    },
    {
     "name": "stdout",
     "output_type": "stream",
     "text": [
      "Epoch [21/150], Training MAE: 0.6748, Training RMSE: 0.9023\n"
     ]
    },
    {
     "name": "stderr",
     "output_type": "stream",
     "text": [
      "Epoch 22/150: 100%|██████████| 213/213 [00:06<00:00, 32.18batch/s, mae_loss=0.665]\n"
     ]
    },
    {
     "name": "stdout",
     "output_type": "stream",
     "text": [
      "Epoch [22/150], Training MAE: 0.6738, Training RMSE: 0.9012\n"
     ]
    },
    {
     "name": "stderr",
     "output_type": "stream",
     "text": [
      "Epoch 23/150: 100%|██████████| 213/213 [00:07<00:00, 29.78batch/s, mae_loss=0.654]\n"
     ]
    },
    {
     "name": "stdout",
     "output_type": "stream",
     "text": [
      "Epoch [23/150], Training MAE: 0.6725, Training RMSE: 0.8998\n"
     ]
    },
    {
     "name": "stderr",
     "output_type": "stream",
     "text": [
      "Epoch 24/150: 100%|██████████| 213/213 [00:06<00:00, 34.35batch/s, mae_loss=0.62] \n"
     ]
    },
    {
     "name": "stdout",
     "output_type": "stream",
     "text": [
      "Epoch [24/150], Training MAE: 0.6711, Training RMSE: 0.8981\n"
     ]
    },
    {
     "name": "stderr",
     "output_type": "stream",
     "text": [
      "Epoch 25/150: 100%|██████████| 213/213 [00:06<00:00, 34.62batch/s, mae_loss=0.619]\n"
     ]
    },
    {
     "name": "stdout",
     "output_type": "stream",
     "text": [
      "Epoch [25/150], Training MAE: 0.6700, Training RMSE: 0.8969\n"
     ]
    },
    {
     "name": "stderr",
     "output_type": "stream",
     "text": [
      "Epoch 26/150: 100%|██████████| 213/213 [00:06<00:00, 33.47batch/s, mae_loss=0.704]\n"
     ]
    },
    {
     "name": "stdout",
     "output_type": "stream",
     "text": [
      "Epoch [26/150], Training MAE: 0.6691, Training RMSE: 0.8954\n"
     ]
    },
    {
     "name": "stderr",
     "output_type": "stream",
     "text": [
      "Epoch 27/150: 100%|██████████| 213/213 [00:06<00:00, 33.83batch/s, mae_loss=0.695]\n"
     ]
    },
    {
     "name": "stdout",
     "output_type": "stream",
     "text": [
      "Epoch [27/150], Training MAE: 0.6680, Training RMSE: 0.8942\n"
     ]
    },
    {
     "name": "stderr",
     "output_type": "stream",
     "text": [
      "Epoch 28/150: 100%|██████████| 213/213 [00:06<00:00, 30.72batch/s, mae_loss=0.627]\n"
     ]
    },
    {
     "name": "stdout",
     "output_type": "stream",
     "text": [
      "Epoch [28/150], Training MAE: 0.6666, Training RMSE: 0.8925\n"
     ]
    },
    {
     "name": "stderr",
     "output_type": "stream",
     "text": [
      "Epoch 29/150: 100%|██████████| 213/213 [00:06<00:00, 31.31batch/s, mae_loss=0.757]\n"
     ]
    },
    {
     "name": "stdout",
     "output_type": "stream",
     "text": [
      "Epoch [29/150], Training MAE: 0.6657, Training RMSE: 0.8914\n"
     ]
    },
    {
     "name": "stderr",
     "output_type": "stream",
     "text": [
      "Epoch 30/150: 100%|██████████| 213/213 [00:06<00:00, 32.91batch/s, mae_loss=0.709]\n"
     ]
    },
    {
     "name": "stdout",
     "output_type": "stream",
     "text": [
      "Epoch [30/150], Training MAE: 0.6644, Training RMSE: 0.8899\n"
     ]
    },
    {
     "name": "stderr",
     "output_type": "stream",
     "text": [
      "Epoch 31/150: 100%|██████████| 213/213 [00:06<00:00, 31.47batch/s, mae_loss=0.666]\n"
     ]
    },
    {
     "name": "stdout",
     "output_type": "stream",
     "text": [
      "Epoch [31/150], Training MAE: 0.6637, Training RMSE: 0.8889\n"
     ]
    },
    {
     "name": "stderr",
     "output_type": "stream",
     "text": [
      "Epoch 32/150: 100%|██████████| 213/213 [00:06<00:00, 30.53batch/s, mae_loss=0.673]\n"
     ]
    },
    {
     "name": "stdout",
     "output_type": "stream",
     "text": [
      "Epoch [32/150], Training MAE: 0.6628, Training RMSE: 0.8879\n"
     ]
    },
    {
     "name": "stderr",
     "output_type": "stream",
     "text": [
      "Epoch 33/150: 100%|██████████| 213/213 [00:07<00:00, 29.58batch/s, mae_loss=0.676]\n"
     ]
    },
    {
     "name": "stdout",
     "output_type": "stream",
     "text": [
      "Epoch [33/150], Training MAE: 0.6620, Training RMSE: 0.8871\n"
     ]
    },
    {
     "name": "stderr",
     "output_type": "stream",
     "text": [
      "Epoch 34/150: 100%|██████████| 213/213 [00:07<00:00, 28.58batch/s, mae_loss=0.628]\n"
     ]
    },
    {
     "name": "stdout",
     "output_type": "stream",
     "text": [
      "Epoch [34/150], Training MAE: 0.6610, Training RMSE: 0.8863\n"
     ]
    },
    {
     "name": "stderr",
     "output_type": "stream",
     "text": [
      "Epoch 35/150: 100%|██████████| 213/213 [00:07<00:00, 27.68batch/s, mae_loss=0.674]\n"
     ]
    },
    {
     "name": "stdout",
     "output_type": "stream",
     "text": [
      "Epoch [35/150], Training MAE: 0.6601, Training RMSE: 0.8850\n"
     ]
    },
    {
     "name": "stderr",
     "output_type": "stream",
     "text": [
      "Epoch 36/150: 100%|██████████| 213/213 [00:08<00:00, 25.84batch/s, mae_loss=0.622]\n"
     ]
    },
    {
     "name": "stdout",
     "output_type": "stream",
     "text": [
      "Epoch [36/150], Training MAE: 0.6594, Training RMSE: 0.8841\n"
     ]
    },
    {
     "name": "stderr",
     "output_type": "stream",
     "text": [
      "Epoch 37/150: 100%|██████████| 213/213 [00:08<00:00, 26.49batch/s, mae_loss=0.692]\n"
     ]
    },
    {
     "name": "stdout",
     "output_type": "stream",
     "text": [
      "Epoch [37/150], Training MAE: 0.6590, Training RMSE: 0.8836\n"
     ]
    },
    {
     "name": "stderr",
     "output_type": "stream",
     "text": [
      "Epoch 38/150: 100%|██████████| 213/213 [00:09<00:00, 23.27batch/s, mae_loss=0.684]\n"
     ]
    },
    {
     "name": "stdout",
     "output_type": "stream",
     "text": [
      "Epoch [38/150], Training MAE: 0.6579, Training RMSE: 0.8820\n"
     ]
    },
    {
     "name": "stderr",
     "output_type": "stream",
     "text": [
      "Epoch 39/150: 100%|██████████| 213/213 [00:08<00:00, 25.50batch/s, mae_loss=0.644]\n"
     ]
    },
    {
     "name": "stdout",
     "output_type": "stream",
     "text": [
      "Epoch [39/150], Training MAE: 0.6570, Training RMSE: 0.8809\n"
     ]
    },
    {
     "name": "stderr",
     "output_type": "stream",
     "text": [
      "Epoch 40/150: 100%|██████████| 213/213 [00:08<00:00, 26.60batch/s, mae_loss=0.635]\n"
     ]
    },
    {
     "name": "stdout",
     "output_type": "stream",
     "text": [
      "Epoch [40/150], Training MAE: 0.6562, Training RMSE: 0.8802\n"
     ]
    },
    {
     "name": "stderr",
     "output_type": "stream",
     "text": [
      "Epoch 41/150: 100%|██████████| 213/213 [00:08<00:00, 25.40batch/s, mae_loss=0.71] \n"
     ]
    },
    {
     "name": "stdout",
     "output_type": "stream",
     "text": [
      "Epoch [41/150], Training MAE: 0.6556, Training RMSE: 0.8792\n"
     ]
    },
    {
     "name": "stderr",
     "output_type": "stream",
     "text": [
      "Epoch 42/150: 100%|██████████| 213/213 [00:07<00:00, 26.67batch/s, mae_loss=0.681]\n"
     ]
    },
    {
     "name": "stdout",
     "output_type": "stream",
     "text": [
      "Epoch [42/150], Training MAE: 0.6548, Training RMSE: 0.8784\n"
     ]
    },
    {
     "name": "stderr",
     "output_type": "stream",
     "text": [
      "Epoch 43/150: 100%|██████████| 213/213 [00:11<00:00, 18.18batch/s, mae_loss=0.637]\n"
     ]
    },
    {
     "name": "stdout",
     "output_type": "stream",
     "text": [
      "Epoch [43/150], Training MAE: 0.6536, Training RMSE: 0.8772\n"
     ]
    },
    {
     "name": "stderr",
     "output_type": "stream",
     "text": [
      "Epoch 44/150: 100%|██████████| 213/213 [00:10<00:00, 20.32batch/s, mae_loss=0.683]\n"
     ]
    },
    {
     "name": "stdout",
     "output_type": "stream",
     "text": [
      "Epoch [44/150], Training MAE: 0.6535, Training RMSE: 0.8770\n"
     ]
    },
    {
     "name": "stderr",
     "output_type": "stream",
     "text": [
      "Epoch 45/150: 100%|██████████| 213/213 [00:07<00:00, 27.63batch/s, mae_loss=0.691]\n"
     ]
    },
    {
     "name": "stdout",
     "output_type": "stream",
     "text": [
      "Epoch [45/150], Training MAE: 0.6526, Training RMSE: 0.8757\n"
     ]
    },
    {
     "name": "stderr",
     "output_type": "stream",
     "text": [
      "Epoch 46/150: 100%|██████████| 213/213 [00:07<00:00, 29.62batch/s, mae_loss=0.697]\n"
     ]
    },
    {
     "name": "stdout",
     "output_type": "stream",
     "text": [
      "Epoch [46/150], Training MAE: 0.6515, Training RMSE: 0.8751\n"
     ]
    },
    {
     "name": "stderr",
     "output_type": "stream",
     "text": [
      "Epoch 47/150: 100%|██████████| 213/213 [00:07<00:00, 30.17batch/s, mae_loss=0.643]\n"
     ]
    },
    {
     "name": "stdout",
     "output_type": "stream",
     "text": [
      "Epoch [47/150], Training MAE: 0.6509, Training RMSE: 0.8741\n"
     ]
    },
    {
     "name": "stderr",
     "output_type": "stream",
     "text": [
      "Epoch 48/150: 100%|██████████| 213/213 [00:07<00:00, 26.82batch/s, mae_loss=0.734]\n"
     ]
    },
    {
     "name": "stdout",
     "output_type": "stream",
     "text": [
      "Epoch [48/150], Training MAE: 0.6505, Training RMSE: 0.8732\n"
     ]
    },
    {
     "name": "stderr",
     "output_type": "stream",
     "text": [
      "Epoch 49/150: 100%|██████████| 213/213 [00:07<00:00, 27.48batch/s, mae_loss=0.568]\n"
     ]
    },
    {
     "name": "stdout",
     "output_type": "stream",
     "text": [
      "Epoch [49/150], Training MAE: 0.6495, Training RMSE: 0.8724\n"
     ]
    },
    {
     "name": "stderr",
     "output_type": "stream",
     "text": [
      "Epoch 50/150: 100%|██████████| 213/213 [00:07<00:00, 29.34batch/s, mae_loss=0.627]\n"
     ]
    },
    {
     "name": "stdout",
     "output_type": "stream",
     "text": [
      "Epoch [50/150], Training MAE: 0.6492, Training RMSE: 0.8716\n"
     ]
    },
    {
     "name": "stderr",
     "output_type": "stream",
     "text": [
      "Epoch 51/150: 100%|██████████| 213/213 [00:07<00:00, 29.62batch/s, mae_loss=0.675]\n"
     ]
    },
    {
     "name": "stdout",
     "output_type": "stream",
     "text": [
      "Epoch [51/150], Training MAE: 0.6486, Training RMSE: 0.8710\n"
     ]
    },
    {
     "name": "stderr",
     "output_type": "stream",
     "text": [
      "Epoch 52/150: 100%|██████████| 213/213 [00:06<00:00, 30.85batch/s, mae_loss=0.702]\n"
     ]
    },
    {
     "name": "stdout",
     "output_type": "stream",
     "text": [
      "Epoch [52/150], Training MAE: 0.6474, Training RMSE: 0.8693\n"
     ]
    },
    {
     "name": "stderr",
     "output_type": "stream",
     "text": [
      "Epoch 53/150: 100%|██████████| 213/213 [00:06<00:00, 31.43batch/s, mae_loss=0.646]\n"
     ]
    },
    {
     "name": "stdout",
     "output_type": "stream",
     "text": [
      "Epoch [53/150], Training MAE: 0.6464, Training RMSE: 0.8687\n"
     ]
    },
    {
     "name": "stderr",
     "output_type": "stream",
     "text": [
      "Epoch 54/150: 100%|██████████| 213/213 [00:08<00:00, 25.13batch/s, mae_loss=0.672]\n"
     ]
    },
    {
     "name": "stdout",
     "output_type": "stream",
     "text": [
      "Epoch [54/150], Training MAE: 0.6460, Training RMSE: 0.8683\n"
     ]
    },
    {
     "name": "stderr",
     "output_type": "stream",
     "text": [
      "Epoch 55/150: 100%|██████████| 213/213 [00:06<00:00, 33.09batch/s, mae_loss=0.709]\n"
     ]
    },
    {
     "name": "stdout",
     "output_type": "stream",
     "text": [
      "Epoch [55/150], Training MAE: 0.6451, Training RMSE: 0.8668\n"
     ]
    },
    {
     "name": "stderr",
     "output_type": "stream",
     "text": [
      "Epoch 56/150: 100%|██████████| 213/213 [00:07<00:00, 28.13batch/s, mae_loss=0.643]\n"
     ]
    },
    {
     "name": "stdout",
     "output_type": "stream",
     "text": [
      "Epoch [56/150], Training MAE: 0.6444, Training RMSE: 0.8664\n"
     ]
    },
    {
     "name": "stderr",
     "output_type": "stream",
     "text": [
      "Epoch 57/150: 100%|██████████| 213/213 [00:07<00:00, 26.91batch/s, mae_loss=0.627]\n"
     ]
    },
    {
     "name": "stdout",
     "output_type": "stream",
     "text": [
      "Epoch [57/150], Training MAE: 0.6445, Training RMSE: 0.8664\n"
     ]
    },
    {
     "name": "stderr",
     "output_type": "stream",
     "text": [
      "Epoch 58/150: 100%|██████████| 213/213 [00:07<00:00, 29.46batch/s, mae_loss=0.645]\n"
     ]
    },
    {
     "name": "stdout",
     "output_type": "stream",
     "text": [
      "Epoch [58/150], Training MAE: 0.6433, Training RMSE: 0.8646\n"
     ]
    },
    {
     "name": "stderr",
     "output_type": "stream",
     "text": [
      "Epoch 59/150: 100%|██████████| 213/213 [00:06<00:00, 30.87batch/s, mae_loss=0.653]\n"
     ]
    },
    {
     "name": "stdout",
     "output_type": "stream",
     "text": [
      "Epoch [59/150], Training MAE: 0.6431, Training RMSE: 0.8639\n"
     ]
    },
    {
     "name": "stderr",
     "output_type": "stream",
     "text": [
      "Epoch 60/150: 100%|██████████| 213/213 [00:08<00:00, 26.57batch/s, mae_loss=0.572]\n"
     ]
    },
    {
     "name": "stdout",
     "output_type": "stream",
     "text": [
      "Epoch [60/150], Training MAE: 0.6418, Training RMSE: 0.8627\n"
     ]
    },
    {
     "name": "stderr",
     "output_type": "stream",
     "text": [
      "Epoch 61/150: 100%|██████████| 213/213 [00:07<00:00, 27.42batch/s, mae_loss=0.604]\n"
     ]
    },
    {
     "name": "stdout",
     "output_type": "stream",
     "text": [
      "Epoch [61/150], Training MAE: 0.6406, Training RMSE: 0.8617\n"
     ]
    },
    {
     "name": "stderr",
     "output_type": "stream",
     "text": [
      "Epoch 62/150: 100%|██████████| 213/213 [00:08<00:00, 25.66batch/s, mae_loss=0.605]\n"
     ]
    },
    {
     "name": "stdout",
     "output_type": "stream",
     "text": [
      "Epoch [62/150], Training MAE: 0.6404, Training RMSE: 0.8613\n"
     ]
    },
    {
     "name": "stderr",
     "output_type": "stream",
     "text": [
      "Epoch 63/150: 100%|██████████| 213/213 [00:06<00:00, 30.91batch/s, mae_loss=0.711]\n"
     ]
    },
    {
     "name": "stdout",
     "output_type": "stream",
     "text": [
      "Epoch [63/150], Training MAE: 0.6398, Training RMSE: 0.8608\n"
     ]
    },
    {
     "name": "stderr",
     "output_type": "stream",
     "text": [
      "Epoch 64/150: 100%|██████████| 213/213 [00:06<00:00, 31.96batch/s, mae_loss=0.617]\n"
     ]
    },
    {
     "name": "stdout",
     "output_type": "stream",
     "text": [
      "Epoch [64/150], Training MAE: 0.6383, Training RMSE: 0.8588\n"
     ]
    },
    {
     "name": "stderr",
     "output_type": "stream",
     "text": [
      "Epoch 65/150: 100%|██████████| 213/213 [00:06<00:00, 32.79batch/s, mae_loss=0.659]\n"
     ]
    },
    {
     "name": "stdout",
     "output_type": "stream",
     "text": [
      "Epoch [65/150], Training MAE: 0.6384, Training RMSE: 0.8592\n"
     ]
    },
    {
     "name": "stderr",
     "output_type": "stream",
     "text": [
      "Epoch 66/150: 100%|██████████| 213/213 [00:06<00:00, 31.23batch/s, mae_loss=0.64] \n"
     ]
    },
    {
     "name": "stdout",
     "output_type": "stream",
     "text": [
      "Epoch [66/150], Training MAE: 0.6384, Training RMSE: 0.8595\n"
     ]
    },
    {
     "name": "stderr",
     "output_type": "stream",
     "text": [
      "Epoch 67/150: 100%|██████████| 213/213 [00:06<00:00, 33.02batch/s, mae_loss=0.666]\n"
     ]
    },
    {
     "name": "stdout",
     "output_type": "stream",
     "text": [
      "Epoch [67/150], Training MAE: 0.6370, Training RMSE: 0.8567\n"
     ]
    },
    {
     "name": "stderr",
     "output_type": "stream",
     "text": [
      "Epoch 68/150: 100%|██████████| 213/213 [00:06<00:00, 32.85batch/s, mae_loss=0.63] \n"
     ]
    },
    {
     "name": "stdout",
     "output_type": "stream",
     "text": [
      "Epoch [68/150], Training MAE: 0.6368, Training RMSE: 0.8568\n"
     ]
    },
    {
     "name": "stderr",
     "output_type": "stream",
     "text": [
      "Epoch 69/150: 100%|██████████| 213/213 [00:06<00:00, 30.97batch/s, mae_loss=0.595]\n"
     ]
    },
    {
     "name": "stdout",
     "output_type": "stream",
     "text": [
      "Epoch [69/150], Training MAE: 0.6354, Training RMSE: 0.8553\n"
     ]
    },
    {
     "name": "stderr",
     "output_type": "stream",
     "text": [
      "Epoch 70/150: 100%|██████████| 213/213 [00:07<00:00, 29.24batch/s, mae_loss=0.535]\n"
     ]
    },
    {
     "name": "stdout",
     "output_type": "stream",
     "text": [
      "Epoch [70/150], Training MAE: 0.6345, Training RMSE: 0.8545\n"
     ]
    },
    {
     "name": "stderr",
     "output_type": "stream",
     "text": [
      "Epoch 71/150: 100%|██████████| 213/213 [00:06<00:00, 31.62batch/s, mae_loss=0.591]\n"
     ]
    },
    {
     "name": "stdout",
     "output_type": "stream",
     "text": [
      "Epoch [71/150], Training MAE: 0.6346, Training RMSE: 0.8546\n"
     ]
    },
    {
     "name": "stderr",
     "output_type": "stream",
     "text": [
      "Epoch 72/150: 100%|██████████| 213/213 [00:06<00:00, 31.62batch/s, mae_loss=0.633]\n"
     ]
    },
    {
     "name": "stdout",
     "output_type": "stream",
     "text": [
      "Epoch [72/150], Training MAE: 0.6342, Training RMSE: 0.8538\n"
     ]
    },
    {
     "name": "stderr",
     "output_type": "stream",
     "text": [
      "Epoch 73/150: 100%|██████████| 213/213 [00:07<00:00, 29.81batch/s, mae_loss=0.682]\n"
     ]
    },
    {
     "name": "stdout",
     "output_type": "stream",
     "text": [
      "Epoch [73/150], Training MAE: 0.6337, Training RMSE: 0.8531\n"
     ]
    },
    {
     "name": "stderr",
     "output_type": "stream",
     "text": [
      "Epoch 74/150: 100%|██████████| 213/213 [00:06<00:00, 31.99batch/s, mae_loss=0.649]\n"
     ]
    },
    {
     "name": "stdout",
     "output_type": "stream",
     "text": [
      "Epoch [74/150], Training MAE: 0.6320, Training RMSE: 0.8516\n"
     ]
    },
    {
     "name": "stderr",
     "output_type": "stream",
     "text": [
      "Epoch 75/150: 100%|██████████| 213/213 [00:06<00:00, 32.24batch/s, mae_loss=0.684]\n"
     ]
    },
    {
     "name": "stdout",
     "output_type": "stream",
     "text": [
      "Epoch [75/150], Training MAE: 0.6326, Training RMSE: 0.8522\n"
     ]
    },
    {
     "name": "stderr",
     "output_type": "stream",
     "text": [
      "Epoch 76/150: 100%|██████████| 213/213 [00:06<00:00, 31.63batch/s, mae_loss=0.582]\n"
     ]
    },
    {
     "name": "stdout",
     "output_type": "stream",
     "text": [
      "Epoch [76/150], Training MAE: 0.6311, Training RMSE: 0.8504\n"
     ]
    },
    {
     "name": "stderr",
     "output_type": "stream",
     "text": [
      "Epoch 77/150: 100%|██████████| 213/213 [00:07<00:00, 28.82batch/s, mae_loss=0.605]\n"
     ]
    },
    {
     "name": "stdout",
     "output_type": "stream",
     "text": [
      "Epoch [77/150], Training MAE: 0.6301, Training RMSE: 0.8493\n"
     ]
    },
    {
     "name": "stderr",
     "output_type": "stream",
     "text": [
      "Epoch 78/150: 100%|██████████| 213/213 [00:07<00:00, 29.82batch/s, mae_loss=0.652]\n"
     ]
    },
    {
     "name": "stdout",
     "output_type": "stream",
     "text": [
      "Epoch [78/150], Training MAE: 0.6309, Training RMSE: 0.8498\n"
     ]
    },
    {
     "name": "stderr",
     "output_type": "stream",
     "text": [
      "Epoch 79/150: 100%|██████████| 213/213 [00:06<00:00, 31.85batch/s, mae_loss=0.653]\n"
     ]
    },
    {
     "name": "stdout",
     "output_type": "stream",
     "text": [
      "Epoch [79/150], Training MAE: 0.6293, Training RMSE: 0.8483\n"
     ]
    },
    {
     "name": "stderr",
     "output_type": "stream",
     "text": [
      "Epoch 80/150: 100%|██████████| 213/213 [00:06<00:00, 31.67batch/s, mae_loss=0.614]\n"
     ]
    },
    {
     "name": "stdout",
     "output_type": "stream",
     "text": [
      "Epoch [80/150], Training MAE: 0.6283, Training RMSE: 0.8475\n"
     ]
    },
    {
     "name": "stderr",
     "output_type": "stream",
     "text": [
      "Epoch 81/150: 100%|██████████| 213/213 [00:06<00:00, 33.02batch/s, mae_loss=0.612]\n"
     ]
    },
    {
     "name": "stdout",
     "output_type": "stream",
     "text": [
      "Epoch [81/150], Training MAE: 0.6282, Training RMSE: 0.8471\n"
     ]
    },
    {
     "name": "stderr",
     "output_type": "stream",
     "text": [
      "Epoch 82/150: 100%|██████████| 213/213 [00:06<00:00, 30.81batch/s, mae_loss=0.606]\n"
     ]
    },
    {
     "name": "stdout",
     "output_type": "stream",
     "text": [
      "Epoch [82/150], Training MAE: 0.6272, Training RMSE: 0.8459\n"
     ]
    },
    {
     "name": "stderr",
     "output_type": "stream",
     "text": [
      "Epoch 83/150: 100%|██████████| 213/213 [00:06<00:00, 30.47batch/s, mae_loss=0.621]\n"
     ]
    },
    {
     "name": "stdout",
     "output_type": "stream",
     "text": [
      "Epoch [83/150], Training MAE: 0.6271, Training RMSE: 0.8462\n"
     ]
    },
    {
     "name": "stderr",
     "output_type": "stream",
     "text": [
      "Epoch 84/150: 100%|██████████| 213/213 [00:07<00:00, 30.16batch/s, mae_loss=0.633]\n"
     ]
    },
    {
     "name": "stdout",
     "output_type": "stream",
     "text": [
      "Epoch [84/150], Training MAE: 0.6264, Training RMSE: 0.8449\n"
     ]
    },
    {
     "name": "stderr",
     "output_type": "stream",
     "text": [
      "Epoch 85/150: 100%|██████████| 213/213 [00:08<00:00, 26.11batch/s, mae_loss=0.617]\n"
     ]
    },
    {
     "name": "stdout",
     "output_type": "stream",
     "text": [
      "Epoch [85/150], Training MAE: 0.6258, Training RMSE: 0.8448\n"
     ]
    },
    {
     "name": "stderr",
     "output_type": "stream",
     "text": [
      "Epoch 86/150: 100%|██████████| 213/213 [00:07<00:00, 29.56batch/s, mae_loss=0.632]\n"
     ]
    },
    {
     "name": "stdout",
     "output_type": "stream",
     "text": [
      "Epoch [86/150], Training MAE: 0.6254, Training RMSE: 0.8440\n"
     ]
    },
    {
     "name": "stderr",
     "output_type": "stream",
     "text": [
      "Epoch 87/150: 100%|██████████| 213/213 [00:07<00:00, 29.87batch/s, mae_loss=0.653]\n"
     ]
    },
    {
     "name": "stdout",
     "output_type": "stream",
     "text": [
      "Epoch [87/150], Training MAE: 0.6250, Training RMSE: 0.8435\n"
     ]
    },
    {
     "name": "stderr",
     "output_type": "stream",
     "text": [
      "Epoch 88/150: 100%|██████████| 213/213 [00:07<00:00, 29.48batch/s, mae_loss=0.681]\n"
     ]
    },
    {
     "name": "stdout",
     "output_type": "stream",
     "text": [
      "Epoch [88/150], Training MAE: 0.6244, Training RMSE: 0.8430\n"
     ]
    },
    {
     "name": "stderr",
     "output_type": "stream",
     "text": [
      "Epoch 89/150: 100%|██████████| 213/213 [00:06<00:00, 31.91batch/s, mae_loss=0.648]\n"
     ]
    },
    {
     "name": "stdout",
     "output_type": "stream",
     "text": [
      "Epoch [89/150], Training MAE: 0.6241, Training RMSE: 0.8424\n"
     ]
    },
    {
     "name": "stderr",
     "output_type": "stream",
     "text": [
      "Epoch 90/150: 100%|██████████| 213/213 [00:06<00:00, 30.53batch/s, mae_loss=0.662]\n"
     ]
    },
    {
     "name": "stdout",
     "output_type": "stream",
     "text": [
      "Epoch [90/150], Training MAE: 0.6242, Training RMSE: 0.8425\n"
     ]
    },
    {
     "name": "stderr",
     "output_type": "stream",
     "text": [
      "Epoch 91/150: 100%|██████████| 213/213 [00:06<00:00, 30.87batch/s, mae_loss=0.645]\n"
     ]
    },
    {
     "name": "stdout",
     "output_type": "stream",
     "text": [
      "Epoch [91/150], Training MAE: 0.6230, Training RMSE: 0.8414\n"
     ]
    },
    {
     "name": "stderr",
     "output_type": "stream",
     "text": [
      "Epoch 92/150: 100%|██████████| 213/213 [00:07<00:00, 30.04batch/s, mae_loss=0.655]\n"
     ]
    },
    {
     "name": "stdout",
     "output_type": "stream",
     "text": [
      "Epoch [92/150], Training MAE: 0.6230, Training RMSE: 0.8412\n"
     ]
    },
    {
     "name": "stderr",
     "output_type": "stream",
     "text": [
      "Epoch 93/150: 100%|██████████| 213/213 [00:07<00:00, 27.21batch/s, mae_loss=0.579]\n"
     ]
    },
    {
     "name": "stdout",
     "output_type": "stream",
     "text": [
      "Epoch [93/150], Training MAE: 0.6211, Training RMSE: 0.8399\n"
     ]
    },
    {
     "name": "stderr",
     "output_type": "stream",
     "text": [
      "Epoch 94/150: 100%|██████████| 213/213 [00:06<00:00, 32.52batch/s, mae_loss=0.589]\n"
     ]
    },
    {
     "name": "stdout",
     "output_type": "stream",
     "text": [
      "Epoch [94/150], Training MAE: 0.6209, Training RMSE: 0.8392\n"
     ]
    },
    {
     "name": "stderr",
     "output_type": "stream",
     "text": [
      "Epoch 95/150: 100%|██████████| 213/213 [00:06<00:00, 32.94batch/s, mae_loss=0.598]\n"
     ]
    },
    {
     "name": "stdout",
     "output_type": "stream",
     "text": [
      "Epoch [95/150], Training MAE: 0.6204, Training RMSE: 0.8384\n"
     ]
    },
    {
     "name": "stderr",
     "output_type": "stream",
     "text": [
      "Epoch 96/150: 100%|██████████| 213/213 [00:06<00:00, 31.28batch/s, mae_loss=0.641]\n"
     ]
    },
    {
     "name": "stdout",
     "output_type": "stream",
     "text": [
      "Epoch [96/150], Training MAE: 0.6201, Training RMSE: 0.8383\n"
     ]
    },
    {
     "name": "stderr",
     "output_type": "stream",
     "text": [
      "Epoch 97/150: 100%|██████████| 213/213 [00:06<00:00, 33.07batch/s, mae_loss=0.579]\n"
     ]
    },
    {
     "name": "stdout",
     "output_type": "stream",
     "text": [
      "Epoch [97/150], Training MAE: 0.6194, Training RMSE: 0.8378\n"
     ]
    },
    {
     "name": "stderr",
     "output_type": "stream",
     "text": [
      "Epoch 98/150: 100%|██████████| 213/213 [00:06<00:00, 32.46batch/s, mae_loss=0.627]\n"
     ]
    },
    {
     "name": "stdout",
     "output_type": "stream",
     "text": [
      "Epoch [98/150], Training MAE: 0.6194, Training RMSE: 0.8378\n"
     ]
    },
    {
     "name": "stderr",
     "output_type": "stream",
     "text": [
      "Epoch 99/150: 100%|██████████| 213/213 [00:07<00:00, 29.48batch/s, mae_loss=0.606]\n"
     ]
    },
    {
     "name": "stdout",
     "output_type": "stream",
     "text": [
      "Epoch [99/150], Training MAE: 0.6192, Training RMSE: 0.8371\n"
     ]
    },
    {
     "name": "stderr",
     "output_type": "stream",
     "text": [
      "Epoch 100/150: 100%|██████████| 213/213 [00:07<00:00, 28.26batch/s, mae_loss=0.626]\n"
     ]
    },
    {
     "name": "stdout",
     "output_type": "stream",
     "text": [
      "Epoch [100/150], Training MAE: 0.6177, Training RMSE: 0.8356\n"
     ]
    },
    {
     "name": "stderr",
     "output_type": "stream",
     "text": [
      "Epoch 101/150: 100%|██████████| 213/213 [00:07<00:00, 29.85batch/s, mae_loss=0.711]\n"
     ]
    },
    {
     "name": "stdout",
     "output_type": "stream",
     "text": [
      "Epoch [101/150], Training MAE: 0.6170, Training RMSE: 0.8352\n"
     ]
    },
    {
     "name": "stderr",
     "output_type": "stream",
     "text": [
      "Epoch 102/150: 100%|██████████| 213/213 [00:06<00:00, 31.84batch/s, mae_loss=0.591]\n"
     ]
    },
    {
     "name": "stdout",
     "output_type": "stream",
     "text": [
      "Epoch [102/150], Training MAE: 0.6172, Training RMSE: 0.8352\n"
     ]
    },
    {
     "name": "stderr",
     "output_type": "stream",
     "text": [
      "Epoch 103/150: 100%|██████████| 213/213 [00:07<00:00, 30.21batch/s, mae_loss=0.661]\n"
     ]
    },
    {
     "name": "stdout",
     "output_type": "stream",
     "text": [
      "Epoch [103/150], Training MAE: 0.6173, Training RMSE: 0.8353\n"
     ]
    },
    {
     "name": "stderr",
     "output_type": "stream",
     "text": [
      "Epoch 104/150: 100%|██████████| 213/213 [00:07<00:00, 27.07batch/s, mae_loss=0.728]\n"
     ]
    },
    {
     "name": "stdout",
     "output_type": "stream",
     "text": [
      "Epoch [104/150], Training MAE: 0.6162, Training RMSE: 0.8340\n"
     ]
    },
    {
     "name": "stderr",
     "output_type": "stream",
     "text": [
      "Epoch 105/150: 100%|██████████| 213/213 [00:06<00:00, 31.79batch/s, mae_loss=0.631]\n"
     ]
    },
    {
     "name": "stdout",
     "output_type": "stream",
     "text": [
      "Epoch [105/150], Training MAE: 0.6161, Training RMSE: 0.8342\n"
     ]
    },
    {
     "name": "stderr",
     "output_type": "stream",
     "text": [
      "Epoch 106/150: 100%|██████████| 213/213 [00:07<00:00, 27.65batch/s, mae_loss=0.604]\n"
     ]
    },
    {
     "name": "stdout",
     "output_type": "stream",
     "text": [
      "Epoch [106/150], Training MAE: 0.6148, Training RMSE: 0.8325\n"
     ]
    },
    {
     "name": "stderr",
     "output_type": "stream",
     "text": [
      "Epoch 107/150: 100%|██████████| 213/213 [00:06<00:00, 32.74batch/s, mae_loss=0.643]\n"
     ]
    },
    {
     "name": "stdout",
     "output_type": "stream",
     "text": [
      "Epoch [107/150], Training MAE: 0.6146, Training RMSE: 0.8323\n"
     ]
    },
    {
     "name": "stderr",
     "output_type": "stream",
     "text": [
      "Epoch 108/150: 100%|██████████| 213/213 [00:06<00:00, 33.88batch/s, mae_loss=0.647]\n"
     ]
    },
    {
     "name": "stdout",
     "output_type": "stream",
     "text": [
      "Epoch [108/150], Training MAE: 0.6145, Training RMSE: 0.8322\n"
     ]
    },
    {
     "name": "stderr",
     "output_type": "stream",
     "text": [
      "Epoch 109/150: 100%|██████████| 213/213 [00:06<00:00, 31.40batch/s, mae_loss=0.599]\n"
     ]
    },
    {
     "name": "stdout",
     "output_type": "stream",
     "text": [
      "Epoch [109/150], Training MAE: 0.6142, Training RMSE: 0.8315\n"
     ]
    },
    {
     "name": "stderr",
     "output_type": "stream",
     "text": [
      "Epoch 110/150: 100%|██████████| 213/213 [00:07<00:00, 27.62batch/s, mae_loss=0.594]\n"
     ]
    },
    {
     "name": "stdout",
     "output_type": "stream",
     "text": [
      "Epoch [110/150], Training MAE: 0.6131, Training RMSE: 0.8303\n"
     ]
    },
    {
     "name": "stderr",
     "output_type": "stream",
     "text": [
      "Epoch 111/150: 100%|██████████| 213/213 [00:06<00:00, 32.29batch/s, mae_loss=0.626]\n"
     ]
    },
    {
     "name": "stdout",
     "output_type": "stream",
     "text": [
      "Epoch [111/150], Training MAE: 0.6129, Training RMSE: 0.8302\n"
     ]
    },
    {
     "name": "stderr",
     "output_type": "stream",
     "text": [
      "Epoch 112/150: 100%|██████████| 213/213 [00:06<00:00, 31.18batch/s, mae_loss=0.571]\n"
     ]
    },
    {
     "name": "stdout",
     "output_type": "stream",
     "text": [
      "Epoch [112/150], Training MAE: 0.6127, Training RMSE: 0.8296\n"
     ]
    },
    {
     "name": "stderr",
     "output_type": "stream",
     "text": [
      "Epoch 113/150: 100%|██████████| 213/213 [00:07<00:00, 28.60batch/s, mae_loss=0.637]\n"
     ]
    },
    {
     "name": "stdout",
     "output_type": "stream",
     "text": [
      "Epoch [113/150], Training MAE: 0.6124, Training RMSE: 0.8295\n"
     ]
    },
    {
     "name": "stderr",
     "output_type": "stream",
     "text": [
      "Epoch 114/150: 100%|██████████| 213/213 [00:08<00:00, 24.08batch/s, mae_loss=0.682]\n"
     ]
    },
    {
     "name": "stdout",
     "output_type": "stream",
     "text": [
      "Epoch [114/150], Training MAE: 0.6122, Training RMSE: 0.8296\n"
     ]
    },
    {
     "name": "stderr",
     "output_type": "stream",
     "text": [
      "Epoch 115/150: 100%|██████████| 213/213 [00:07<00:00, 27.78batch/s, mae_loss=0.61] \n"
     ]
    },
    {
     "name": "stdout",
     "output_type": "stream",
     "text": [
      "Epoch [115/150], Training MAE: 0.6113, Training RMSE: 0.8285\n"
     ]
    },
    {
     "name": "stderr",
     "output_type": "stream",
     "text": [
      "Epoch 116/150: 100%|██████████| 213/213 [00:07<00:00, 28.51batch/s, mae_loss=0.622]\n"
     ]
    },
    {
     "name": "stdout",
     "output_type": "stream",
     "text": [
      "Epoch [116/150], Training MAE: 0.6112, Training RMSE: 0.8288\n"
     ]
    },
    {
     "name": "stderr",
     "output_type": "stream",
     "text": [
      "Epoch 117/150: 100%|██████████| 213/213 [00:07<00:00, 28.29batch/s, mae_loss=0.583]\n"
     ]
    },
    {
     "name": "stdout",
     "output_type": "stream",
     "text": [
      "Epoch [117/150], Training MAE: 0.6112, Training RMSE: 0.8285\n"
     ]
    },
    {
     "name": "stderr",
     "output_type": "stream",
     "text": [
      "Epoch 118/150: 100%|██████████| 213/213 [00:08<00:00, 26.57batch/s, mae_loss=0.597]\n"
     ]
    },
    {
     "name": "stdout",
     "output_type": "stream",
     "text": [
      "Epoch [118/150], Training MAE: 0.6097, Training RMSE: 0.8273\n"
     ]
    },
    {
     "name": "stderr",
     "output_type": "stream",
     "text": [
      "Epoch 119/150: 100%|██████████| 213/213 [00:07<00:00, 27.64batch/s, mae_loss=0.582]\n"
     ]
    },
    {
     "name": "stdout",
     "output_type": "stream",
     "text": [
      "Epoch [119/150], Training MAE: 0.6085, Training RMSE: 0.8254\n"
     ]
    },
    {
     "name": "stderr",
     "output_type": "stream",
     "text": [
      "Epoch 120/150: 100%|██████████| 213/213 [00:07<00:00, 27.17batch/s, mae_loss=0.584]\n"
     ]
    },
    {
     "name": "stdout",
     "output_type": "stream",
     "text": [
      "Epoch [120/150], Training MAE: 0.6091, Training RMSE: 0.8262\n"
     ]
    },
    {
     "name": "stderr",
     "output_type": "stream",
     "text": [
      "Epoch 121/150: 100%|██████████| 213/213 [00:08<00:00, 24.96batch/s, mae_loss=0.604]\n"
     ]
    },
    {
     "name": "stdout",
     "output_type": "stream",
     "text": [
      "Epoch [121/150], Training MAE: 0.6089, Training RMSE: 0.8263\n"
     ]
    },
    {
     "name": "stderr",
     "output_type": "stream",
     "text": [
      "Epoch 122/150: 100%|██████████| 213/213 [00:07<00:00, 27.12batch/s, mae_loss=0.613]\n"
     ]
    },
    {
     "name": "stdout",
     "output_type": "stream",
     "text": [
      "Epoch [122/150], Training MAE: 0.6084, Training RMSE: 0.8255\n"
     ]
    },
    {
     "name": "stderr",
     "output_type": "stream",
     "text": [
      "Epoch 123/150: 100%|██████████| 213/213 [00:07<00:00, 28.49batch/s, mae_loss=0.62] \n"
     ]
    },
    {
     "name": "stdout",
     "output_type": "stream",
     "text": [
      "Epoch [123/150], Training MAE: 0.6075, Training RMSE: 0.8246\n"
     ]
    },
    {
     "name": "stderr",
     "output_type": "stream",
     "text": [
      "Epoch 124/150: 100%|██████████| 213/213 [00:06<00:00, 30.94batch/s, mae_loss=0.608]\n"
     ]
    },
    {
     "name": "stdout",
     "output_type": "stream",
     "text": [
      "Epoch [124/150], Training MAE: 0.6070, Training RMSE: 0.8245\n"
     ]
    },
    {
     "name": "stderr",
     "output_type": "stream",
     "text": [
      "Epoch 125/150: 100%|██████████| 213/213 [00:07<00:00, 30.06batch/s, mae_loss=0.603]\n"
     ]
    },
    {
     "name": "stdout",
     "output_type": "stream",
     "text": [
      "Epoch [125/150], Training MAE: 0.6068, Training RMSE: 0.8240\n"
     ]
    },
    {
     "name": "stderr",
     "output_type": "stream",
     "text": [
      "Epoch 126/150: 100%|██████████| 213/213 [00:07<00:00, 30.05batch/s, mae_loss=0.586]\n"
     ]
    },
    {
     "name": "stdout",
     "output_type": "stream",
     "text": [
      "Epoch [126/150], Training MAE: 0.6068, Training RMSE: 0.8235\n"
     ]
    },
    {
     "name": "stderr",
     "output_type": "stream",
     "text": [
      "Epoch 127/150: 100%|██████████| 213/213 [00:07<00:00, 30.04batch/s, mae_loss=0.579]\n"
     ]
    },
    {
     "name": "stdout",
     "output_type": "stream",
     "text": [
      "Epoch [127/150], Training MAE: 0.6061, Training RMSE: 0.8230\n"
     ]
    },
    {
     "name": "stderr",
     "output_type": "stream",
     "text": [
      "Epoch 128/150: 100%|██████████| 213/213 [00:06<00:00, 32.76batch/s, mae_loss=0.591]\n"
     ]
    },
    {
     "name": "stdout",
     "output_type": "stream",
     "text": [
      "Epoch [128/150], Training MAE: 0.6056, Training RMSE: 0.8225\n"
     ]
    },
    {
     "name": "stderr",
     "output_type": "stream",
     "text": [
      "Epoch 129/150: 100%|██████████| 213/213 [00:06<00:00, 33.04batch/s, mae_loss=0.552]\n"
     ]
    },
    {
     "name": "stdout",
     "output_type": "stream",
     "text": [
      "Epoch [129/150], Training MAE: 0.6045, Training RMSE: 0.8212\n"
     ]
    },
    {
     "name": "stderr",
     "output_type": "stream",
     "text": [
      "Epoch 130/150: 100%|██████████| 213/213 [00:06<00:00, 30.60batch/s, mae_loss=0.568]\n"
     ]
    },
    {
     "name": "stdout",
     "output_type": "stream",
     "text": [
      "Epoch [130/150], Training MAE: 0.6052, Training RMSE: 0.8222\n"
     ]
    },
    {
     "name": "stderr",
     "output_type": "stream",
     "text": [
      "Epoch 131/150: 100%|██████████| 213/213 [00:06<00:00, 30.51batch/s, mae_loss=0.665]\n"
     ]
    },
    {
     "name": "stdout",
     "output_type": "stream",
     "text": [
      "Epoch [131/150], Training MAE: 0.6049, Training RMSE: 0.8220\n"
     ]
    },
    {
     "name": "stderr",
     "output_type": "stream",
     "text": [
      "Epoch 132/150: 100%|██████████| 213/213 [00:07<00:00, 30.38batch/s, mae_loss=0.649]\n"
     ]
    },
    {
     "name": "stdout",
     "output_type": "stream",
     "text": [
      "Epoch [132/150], Training MAE: 0.6035, Training RMSE: 0.8203\n"
     ]
    },
    {
     "name": "stderr",
     "output_type": "stream",
     "text": [
      "Epoch 133/150: 100%|██████████| 213/213 [00:06<00:00, 31.77batch/s, mae_loss=0.568]\n"
     ]
    },
    {
     "name": "stdout",
     "output_type": "stream",
     "text": [
      "Epoch [133/150], Training MAE: 0.6033, Training RMSE: 0.8199\n"
     ]
    },
    {
     "name": "stderr",
     "output_type": "stream",
     "text": [
      "Epoch 134/150: 100%|██████████| 213/213 [00:06<00:00, 31.85batch/s, mae_loss=0.601]\n"
     ]
    },
    {
     "name": "stdout",
     "output_type": "stream",
     "text": [
      "Epoch [134/150], Training MAE: 0.6034, Training RMSE: 0.8201\n"
     ]
    },
    {
     "name": "stderr",
     "output_type": "stream",
     "text": [
      "Epoch 135/150: 100%|██████████| 213/213 [00:06<00:00, 30.67batch/s, mae_loss=0.627]\n"
     ]
    },
    {
     "name": "stdout",
     "output_type": "stream",
     "text": [
      "Epoch [135/150], Training MAE: 0.6019, Training RMSE: 0.8182\n"
     ]
    },
    {
     "name": "stderr",
     "output_type": "stream",
     "text": [
      "Epoch 136/150: 100%|██████████| 213/213 [00:06<00:00, 32.33batch/s, mae_loss=0.637]\n"
     ]
    },
    {
     "name": "stdout",
     "output_type": "stream",
     "text": [
      "Epoch [136/150], Training MAE: 0.6029, Training RMSE: 0.8195\n"
     ]
    },
    {
     "name": "stderr",
     "output_type": "stream",
     "text": [
      "Epoch 137/150: 100%|██████████| 213/213 [00:06<00:00, 32.40batch/s, mae_loss=0.623]\n"
     ]
    },
    {
     "name": "stdout",
     "output_type": "stream",
     "text": [
      "Epoch [137/150], Training MAE: 0.6026, Training RMSE: 0.8191\n"
     ]
    },
    {
     "name": "stderr",
     "output_type": "stream",
     "text": [
      "Epoch 138/150: 100%|██████████| 213/213 [00:06<00:00, 32.01batch/s, mae_loss=0.618]\n"
     ]
    },
    {
     "name": "stdout",
     "output_type": "stream",
     "text": [
      "Epoch [138/150], Training MAE: 0.6023, Training RMSE: 0.8188\n"
     ]
    },
    {
     "name": "stderr",
     "output_type": "stream",
     "text": [
      "Epoch 139/150: 100%|██████████| 213/213 [00:06<00:00, 30.92batch/s, mae_loss=0.639]\n"
     ]
    },
    {
     "name": "stdout",
     "output_type": "stream",
     "text": [
      "Epoch [139/150], Training MAE: 0.6012, Training RMSE: 0.8179\n"
     ]
    },
    {
     "name": "stderr",
     "output_type": "stream",
     "text": [
      "Epoch 140/150: 100%|██████████| 213/213 [00:07<00:00, 29.01batch/s, mae_loss=0.555]\n"
     ]
    },
    {
     "name": "stdout",
     "output_type": "stream",
     "text": [
      "Epoch [140/150], Training MAE: 0.6006, Training RMSE: 0.8170\n"
     ]
    },
    {
     "name": "stderr",
     "output_type": "stream",
     "text": [
      "Epoch 141/150: 100%|██████████| 213/213 [00:07<00:00, 30.23batch/s, mae_loss=0.655]\n"
     ]
    },
    {
     "name": "stdout",
     "output_type": "stream",
     "text": [
      "Epoch [141/150], Training MAE: 0.6007, Training RMSE: 0.8169\n"
     ]
    },
    {
     "name": "stderr",
     "output_type": "stream",
     "text": [
      "Epoch 142/150: 100%|██████████| 213/213 [00:07<00:00, 28.20batch/s, mae_loss=0.575]\n"
     ]
    },
    {
     "name": "stdout",
     "output_type": "stream",
     "text": [
      "Epoch [142/150], Training MAE: 0.5999, Training RMSE: 0.8162\n"
     ]
    },
    {
     "name": "stderr",
     "output_type": "stream",
     "text": [
      "Epoch 143/150: 100%|██████████| 213/213 [00:07<00:00, 27.69batch/s, mae_loss=0.589]\n"
     ]
    },
    {
     "name": "stdout",
     "output_type": "stream",
     "text": [
      "Epoch [143/150], Training MAE: 0.5993, Training RMSE: 0.8157\n"
     ]
    },
    {
     "name": "stderr",
     "output_type": "stream",
     "text": [
      "Epoch 144/150: 100%|██████████| 213/213 [00:07<00:00, 29.47batch/s, mae_loss=0.546]\n"
     ]
    },
    {
     "name": "stdout",
     "output_type": "stream",
     "text": [
      "Epoch [144/150], Training MAE: 0.5995, Training RMSE: 0.8156\n"
     ]
    },
    {
     "name": "stderr",
     "output_type": "stream",
     "text": [
      "Epoch 145/150: 100%|██████████| 213/213 [00:07<00:00, 27.38batch/s, mae_loss=0.617]\n"
     ]
    },
    {
     "name": "stdout",
     "output_type": "stream",
     "text": [
      "Epoch [145/150], Training MAE: 0.5988, Training RMSE: 0.8153\n"
     ]
    },
    {
     "name": "stderr",
     "output_type": "stream",
     "text": [
      "Epoch 146/150: 100%|██████████| 213/213 [00:07<00:00, 30.26batch/s, mae_loss=0.536]\n"
     ]
    },
    {
     "name": "stdout",
     "output_type": "stream",
     "text": [
      "Epoch [146/150], Training MAE: 0.5987, Training RMSE: 0.8148\n"
     ]
    },
    {
     "name": "stderr",
     "output_type": "stream",
     "text": [
      "Epoch 147/150: 100%|██████████| 213/213 [00:07<00:00, 29.38batch/s, mae_loss=0.608]\n"
     ]
    },
    {
     "name": "stdout",
     "output_type": "stream",
     "text": [
      "Epoch [147/150], Training MAE: 0.5980, Training RMSE: 0.8145\n"
     ]
    },
    {
     "name": "stderr",
     "output_type": "stream",
     "text": [
      "Epoch 148/150: 100%|██████████| 213/213 [00:07<00:00, 27.95batch/s, mae_loss=0.564]\n"
     ]
    },
    {
     "name": "stdout",
     "output_type": "stream",
     "text": [
      "Epoch [148/150], Training MAE: 0.5972, Training RMSE: 0.8134\n"
     ]
    },
    {
     "name": "stderr",
     "output_type": "stream",
     "text": [
      "Epoch 149/150: 100%|██████████| 213/213 [00:07<00:00, 26.81batch/s, mae_loss=0.55] \n"
     ]
    },
    {
     "name": "stdout",
     "output_type": "stream",
     "text": [
      "Epoch [149/150], Training MAE: 0.5976, Training RMSE: 0.8138\n"
     ]
    },
    {
     "name": "stderr",
     "output_type": "stream",
     "text": [
      "Epoch 150/150: 100%|██████████| 213/213 [00:08<00:00, 24.84batch/s, mae_loss=0.583]"
     ]
    },
    {
     "name": "stdout",
     "output_type": "stream",
     "text": [
      "Epoch [150/150], Training MAE: 0.5966, Training RMSE: 0.8124\n",
      "End Prediction Horizon of 24 of generalized Model\n",
      "model_generalized_attention_24_4 saved\n"
     ]
    },
    {
     "name": "stderr",
     "output_type": "stream",
     "text": [
      "\n"
     ]
    }
   ],
   "source": [
    "for prediction_horizon in prediction_horizons:\n",
    "    multiple_runs_each_patient_mae = []\n",
    "    multiple_runs_each_patient_rmse = []\n",
    "    for i in range(5): # indicating 5 runs \n",
    "\n",
    "        logger.info(f\"Start Prediction Horizon {prediction_horizon} of {model_type} model\")\n",
    "        print(f\"Start Prediction Horizon {prediction_horizon} of {model_type} model\")\n",
    "\n",
    "        train_loader, validation_loader, all_train_loader, test_loader, input_shape, input_shape_test, output_shape, output_shape_test =  prepare_data_loader(\n",
    "                                                                                        window_size,BATCH_SIZE, prediction_horizon,\n",
    "                                                                                        model_type, split_ratio = 0.7, df = None, df_test = None, output_folder_train=output_folder_train, shuffle = True)\n",
    "        \n",
    "\n",
    "        model_all_train = GeneralizedModelWithAttention(input_shape=input_shape , output_shape=output_shape) \n",
    "        model_all_train = model_all_train.to(device)\n",
    "        model_all_train, history2 = train_model(model_all_train, all_train_loader, val_loader = None, epochs=150, learning_rate=0.00001, model_type = model_type)\n",
    "        histories_noval_PHs[prediction_horizon] = history2\n",
    "\n",
    "\n",
    "        logger.info(f\"End Prediction Horizon of {prediction_horizon} of {model_type} Model\")\n",
    "        print(f\"End Prediction Horizon of {prediction_horizon} of {model_type} Model\")\n",
    "        torch.save(model_all_train.state_dict(), f'saved_models//model_{model_type}_attention_{str(prediction_horizon)}_{str(i)}.pth')\n",
    "        print(f\"model_{model_type}_attention_{str(prediction_horizon)}_{str(i)} saved\")\n",
    "        logger.info(f\"model_{model_type}_attention_{str(prediction_horizon)}_{str(i)} saved\")"
   ]
  },
  {
   "cell_type": "code",
   "execution_count": 14,
   "metadata": {},
   "outputs": [],
   "source": [
    "for prediction_horizon in prediction_horizons:\n",
    "    train_loader, validation_loader, all_train_loader, test_loader, input_shape, input_shape_test, output_shape, output_shape_test =  prepare_data_loader(\n",
    "                                                                                            window_size,BATCH_SIZE, prediction_horizon,\n",
    "                                                                                            model_type, split_ratio = 0.7, df = None, df_test = None, output_folder_train=output_folder_train, shuffle = False)\n",
    "            \n",
    "    multiple_runs_each_patient_mae = []\n",
    "    multiple_runs_each_patient_rmse = []\n",
    "    for i in range(5):\n",
    "       \n",
    "        model_all_train_read =  GeneralizedModelWithAttention(input_shape =input_shape , output_shape=output_shape)\n",
    "        model_all_train_read.load_state_dict(torch.load(f'saved_models//model_{model_type}_attention_{str(prediction_horizon)}_{i}.pth',weights_only=False))\n",
    "        model_all_train_read.to(device)\n",
    "        model_all_train_read.eval()\n",
    "        each_patient_mae, each_patient_rmse= evaluate_test(model_all_train_read,test_loader, device ,scaler, mask_value, model_type = model_type)\n",
    "\n",
    "        multiple_runs_each_patient_mae.append(each_patient_mae)\n",
    "        multiple_runs_each_patient_rmse.append(each_patient_rmse)\n",
    "\n",
    "    abs_patients_errors_PHs[prediction_horizon] = multiple_runs_each_patient_mae\n",
    "    squared_patients_errors_PHs[prediction_horizon] = multiple_runs_each_patient_rmse"
   ]
  },
  {
   "cell_type": "code",
   "execution_count": 12,
   "metadata": {},
   "outputs": [
    {
     "data": {
      "text/html": [
       "<div>\n",
       "<style scoped>\n",
       "    .dataframe tbody tr th:only-of-type {\n",
       "        vertical-align: middle;\n",
       "    }\n",
       "\n",
       "    .dataframe tbody tr th {\n",
       "        vertical-align: top;\n",
       "    }\n",
       "\n",
       "    .dataframe thead th {\n",
       "        text-align: right;\n",
       "    }\n",
       "</style>\n",
       "<table border=\"1\" class=\"dataframe\">\n",
       "  <thead>\n",
       "    <tr style=\"text-align: right;\">\n",
       "      <th></th>\n",
       "      <th>3</th>\n",
       "      <th>6</th>\n",
       "      <th>9</th>\n",
       "      <th>12</th>\n",
       "      <th>15</th>\n",
       "      <th>18</th>\n",
       "      <th>24</th>\n",
       "    </tr>\n",
       "  </thead>\n",
       "  <tbody>\n",
       "    <tr>\n",
       "      <th>559</th>\n",
       "      <td>9.32 ± 0.57</td>\n",
       "      <td>13.88 ± 0.14</td>\n",
       "      <td>18.21 ± 0.68</td>\n",
       "      <td>21.49 ± 0.27</td>\n",
       "      <td>24.56 ± 0.54</td>\n",
       "      <td>27.42 ± 0.66</td>\n",
       "      <td>31.46 ± 0.36</td>\n",
       "    </tr>\n",
       "    <tr>\n",
       "      <th>563</th>\n",
       "      <td>11.08 ± 0.60</td>\n",
       "      <td>16.17 ± 0.92</td>\n",
       "      <td>20.69 ± 0.54</td>\n",
       "      <td>24.83 ± 0.74</td>\n",
       "      <td>28.47 ± 1.01</td>\n",
       "      <td>32.02 ± 0.69</td>\n",
       "      <td>37.11 ± 0.91</td>\n",
       "    </tr>\n",
       "    <tr>\n",
       "      <th>570</th>\n",
       "      <td>8.46 ± 0.63</td>\n",
       "      <td>11.51 ± 0.30</td>\n",
       "      <td>14.72 ± 0.27</td>\n",
       "      <td>17.74 ± 0.66</td>\n",
       "      <td>19.84 ± 0.27</td>\n",
       "      <td>23.91 ± 0.63</td>\n",
       "      <td>27.74 ± 0.76</td>\n",
       "    </tr>\n",
       "    <tr>\n",
       "      <th>575</th>\n",
       "      <td>12.01 ± 1.11</td>\n",
       "      <td>17.17 ± 0.99</td>\n",
       "      <td>21.81 ± 0.78</td>\n",
       "      <td>25.13 ± 1.14</td>\n",
       "      <td>28.76 ± 1.33</td>\n",
       "      <td>32.69 ± 0.49</td>\n",
       "      <td>36.53 ± 0.80</td>\n",
       "    </tr>\n",
       "    <tr>\n",
       "      <th>588</th>\n",
       "      <td>13.00 ± 0.74</td>\n",
       "      <td>18.49 ± 0.54</td>\n",
       "      <td>23.07 ± 0.56</td>\n",
       "      <td>26.64 ± 0.56</td>\n",
       "      <td>30.72 ± 0.81</td>\n",
       "      <td>34.71 ± 0.59</td>\n",
       "      <td>37.97 ± 0.95</td>\n",
       "    </tr>\n",
       "    <tr>\n",
       "      <th>591</th>\n",
       "      <td>14.86 ± 2.48</td>\n",
       "      <td>21.16 ± 1.67</td>\n",
       "      <td>26.08 ± 1.30</td>\n",
       "      <td>30.44 ± 3.31</td>\n",
       "      <td>34.20 ± 2.04</td>\n",
       "      <td>37.47 ± 0.93</td>\n",
       "      <td>39.98 ± 0.76</td>\n",
       "    </tr>\n",
       "    <tr>\n",
       "      <th>540</th>\n",
       "      <td>13.94 ± 1.48</td>\n",
       "      <td>20.52 ± 0.60</td>\n",
       "      <td>26.13 ± 1.75</td>\n",
       "      <td>32.29 ± 1.86</td>\n",
       "      <td>35.10 ± 0.87</td>\n",
       "      <td>37.60 ± 1.43</td>\n",
       "      <td>39.88 ± 0.83</td>\n",
       "    </tr>\n",
       "    <tr>\n",
       "      <th>544</th>\n",
       "      <td>11.69 ± 0.52</td>\n",
       "      <td>16.73 ± 0.82</td>\n",
       "      <td>21.62 ± 1.23</td>\n",
       "      <td>26.34 ± 1.20</td>\n",
       "      <td>29.84 ± 0.34</td>\n",
       "      <td>35.55 ± 1.40</td>\n",
       "      <td>37.17 ± 0.80</td>\n",
       "    </tr>\n",
       "    <tr>\n",
       "      <th>552</th>\n",
       "      <td>16.28 ± 0.97</td>\n",
       "      <td>21.61 ± 1.68</td>\n",
       "      <td>29.94 ± 5.24</td>\n",
       "      <td>34.39 ± 2.43</td>\n",
       "      <td>36.91 ± 0.48</td>\n",
       "      <td>38.78 ± 0.79</td>\n",
       "      <td>39.63 ± 0.39</td>\n",
       "    </tr>\n",
       "    <tr>\n",
       "      <th>567</th>\n",
       "      <td>11.53 ± 0.61</td>\n",
       "      <td>18.09 ± 0.58</td>\n",
       "      <td>23.58 ± 0.44</td>\n",
       "      <td>28.14 ± 0.59</td>\n",
       "      <td>31.19 ± 0.49</td>\n",
       "      <td>35.49 ± 0.38</td>\n",
       "      <td>37.51 ± 0.54</td>\n",
       "    </tr>\n",
       "    <tr>\n",
       "      <th>584</th>\n",
       "      <td>11.91 ± 0.60</td>\n",
       "      <td>17.45 ± 0.59</td>\n",
       "      <td>21.85 ± 0.80</td>\n",
       "      <td>26.66 ± 0.74</td>\n",
       "      <td>29.96 ± 0.64</td>\n",
       "      <td>32.54 ± 0.61</td>\n",
       "      <td>36.14 ± 0.38</td>\n",
       "    </tr>\n",
       "    <tr>\n",
       "      <th>596</th>\n",
       "      <td>10.96 ± 0.49</td>\n",
       "      <td>15.49 ± 0.66</td>\n",
       "      <td>20.53 ± 0.61</td>\n",
       "      <td>24.63 ± 0.75</td>\n",
       "      <td>28.25 ± 0.88</td>\n",
       "      <td>32.35 ± 0.75</td>\n",
       "      <td>36.92 ± 1.09</td>\n",
       "    </tr>\n",
       "    <tr>\n",
       "      <th>Mean</th>\n",
       "      <td>36.50 ± 0.32</td>\n",
       "      <td>12.09 ± 0.55</td>\n",
       "      <td>17.36 ± 0.51</td>\n",
       "      <td>22.35 ± 0.48</td>\n",
       "      <td>26.56 ± 0.44</td>\n",
       "      <td>29.82 ± 0.46</td>\n",
       "      <td>33.38 ± 0.34</td>\n",
       "    </tr>\n",
       "  </tbody>\n",
       "</table>\n",
       "</div>"
      ],
      "text/plain": [
       "                3             6             9             12            15  \\\n",
       "559    9.32 ± 0.57  13.88 ± 0.14  18.21 ± 0.68  21.49 ± 0.27  24.56 ± 0.54   \n",
       "563   11.08 ± 0.60  16.17 ± 0.92  20.69 ± 0.54  24.83 ± 0.74  28.47 ± 1.01   \n",
       "570    8.46 ± 0.63  11.51 ± 0.30  14.72 ± 0.27  17.74 ± 0.66  19.84 ± 0.27   \n",
       "575   12.01 ± 1.11  17.17 ± 0.99  21.81 ± 0.78  25.13 ± 1.14  28.76 ± 1.33   \n",
       "588   13.00 ± 0.74  18.49 ± 0.54  23.07 ± 0.56  26.64 ± 0.56  30.72 ± 0.81   \n",
       "591   14.86 ± 2.48  21.16 ± 1.67  26.08 ± 1.30  30.44 ± 3.31  34.20 ± 2.04   \n",
       "540   13.94 ± 1.48  20.52 ± 0.60  26.13 ± 1.75  32.29 ± 1.86  35.10 ± 0.87   \n",
       "544   11.69 ± 0.52  16.73 ± 0.82  21.62 ± 1.23  26.34 ± 1.20  29.84 ± 0.34   \n",
       "552   16.28 ± 0.97  21.61 ± 1.68  29.94 ± 5.24  34.39 ± 2.43  36.91 ± 0.48   \n",
       "567   11.53 ± 0.61  18.09 ± 0.58  23.58 ± 0.44  28.14 ± 0.59  31.19 ± 0.49   \n",
       "584   11.91 ± 0.60  17.45 ± 0.59  21.85 ± 0.80  26.66 ± 0.74  29.96 ± 0.64   \n",
       "596   10.96 ± 0.49  15.49 ± 0.66  20.53 ± 0.61  24.63 ± 0.75  28.25 ± 0.88   \n",
       "Mean  36.50 ± 0.32  12.09 ± 0.55  17.36 ± 0.51  22.35 ± 0.48  26.56 ± 0.44   \n",
       "\n",
       "                18            24  \n",
       "559   27.42 ± 0.66  31.46 ± 0.36  \n",
       "563   32.02 ± 0.69  37.11 ± 0.91  \n",
       "570   23.91 ± 0.63  27.74 ± 0.76  \n",
       "575   32.69 ± 0.49  36.53 ± 0.80  \n",
       "588   34.71 ± 0.59  37.97 ± 0.95  \n",
       "591   37.47 ± 0.93  39.98 ± 0.76  \n",
       "540   37.60 ± 1.43  39.88 ± 0.83  \n",
       "544   35.55 ± 1.40  37.17 ± 0.80  \n",
       "552   38.78 ± 0.79  39.63 ± 0.39  \n",
       "567   35.49 ± 0.38  37.51 ± 0.54  \n",
       "584   32.54 ± 0.61  36.14 ± 0.38  \n",
       "596   32.35 ± 0.75  36.92 ± 1.09  \n",
       "Mean  29.82 ± 0.46  33.38 ± 0.34  "
      ]
     },
     "execution_count": 12,
     "metadata": {},
     "output_type": "execute_result"
    }
   ],
   "source": [
    "abs_patients_errors_PHs_df = pd.DataFrame()\n",
    "mean_ph = []\n",
    "for i, patient_mae in enumerate(abs_patients_errors_PHs.values()):\n",
    "\n",
    "    grouped_values = defaultdict(list)\n",
    "\n",
    "    # Group values by keys\n",
    "    for d in abs_patients_errors_PHs[prediction_horizons[i]]:\n",
    "        for key, value in d.items():\n",
    "            grouped_values[key].append(value)\n",
    "\n",
    "    mean_values = {key: np.mean(values) for key, values in grouped_values.items()}\n",
    "    std_values = {key: np.std(values, ddof=1) for key, values in grouped_values.items()}\n",
    "\n",
    "\n",
    "    mean_std = [f\"{mean_values[i]:.2f} ± {std_values[i]:.2f}\" for i in range(len(mean_values))]\n",
    "    abs_patients_errors_PHs_df[prediction_horizons[i]] = mean_std\n",
    "    \n",
    "    mean_all_patients = np.mean(list(mean_values.values()))\n",
    "    mean_all_patients = [f\"{mean_values[i]:.2f} ± {std_values[i]:.2f}\"for i in range(len(mean_values))]\n",
    "    \n",
    "    mean_values = {key: np.mean(values) for key, values in grouped_values.items()}\n",
    "\n",
    "    mean_all = [np.mean(list(patient_mae[i].values())) for i in range(5)]\n",
    "    mean_std_all = [f\"{np.mean(mean_all) :.2f} ± {np.std(mean_all):.2f}\" for i in range(5)]\n",
    "\n",
    "    mean_ph.append(mean_std_all[0])\n",
    "\n",
    "\n",
    "abs_patients_errors_PHs_df.loc[len(abs_patients_errors_PHs_df.index)] = mean_ph\n",
    "abs_patients_errors_PHs_df.index = patients_list+[\"Mean\"]\n",
    "\n",
    "abs_patients_errors_PHs_df"
   ]
  },
  {
   "cell_type": "code",
   "execution_count": 11,
   "metadata": {},
   "outputs": [
    {
     "data": {
      "text/html": [
       "<div>\n",
       "<style scoped>\n",
       "    .dataframe tbody tr th:only-of-type {\n",
       "        vertical-align: middle;\n",
       "    }\n",
       "\n",
       "    .dataframe tbody tr th {\n",
       "        vertical-align: top;\n",
       "    }\n",
       "\n",
       "    .dataframe thead th {\n",
       "        text-align: right;\n",
       "    }\n",
       "</style>\n",
       "<table border=\"1\" class=\"dataframe\">\n",
       "  <thead>\n",
       "    <tr style=\"text-align: right;\">\n",
       "      <th></th>\n",
       "      <th>3</th>\n",
       "      <th>6</th>\n",
       "      <th>9</th>\n",
       "      <th>12</th>\n",
       "      <th>15</th>\n",
       "      <th>18</th>\n",
       "      <th>24</th>\n",
       "    </tr>\n",
       "  </thead>\n",
       "  <tbody>\n",
       "    <tr>\n",
       "      <th>559</th>\n",
       "      <td>13.06 ± 0.68</td>\n",
       "      <td>18.86 ± 0.24</td>\n",
       "      <td>24.13 ± 0.95</td>\n",
       "      <td>28.48 ± 0.51</td>\n",
       "      <td>32.03 ± 0.61</td>\n",
       "      <td>35.31 ± 0.87</td>\n",
       "      <td>40.96 ± 0.52</td>\n",
       "    </tr>\n",
       "    <tr>\n",
       "      <th>563</th>\n",
       "      <td>15.70 ± 0.63</td>\n",
       "      <td>21.96 ± 1.04</td>\n",
       "      <td>27.79 ± 0.60</td>\n",
       "      <td>33.14 ± 0.84</td>\n",
       "      <td>37.54 ± 1.27</td>\n",
       "      <td>41.54 ± 0.81</td>\n",
       "      <td>46.97 ± 1.21</td>\n",
       "    </tr>\n",
       "    <tr>\n",
       "      <th>570</th>\n",
       "      <td>11.38 ± 0.58</td>\n",
       "      <td>15.37 ± 0.38</td>\n",
       "      <td>19.48 ± 0.30</td>\n",
       "      <td>22.94 ± 0.74</td>\n",
       "      <td>25.23 ± 0.28</td>\n",
       "      <td>29.44 ± 0.67</td>\n",
       "      <td>34.17 ± 0.82</td>\n",
       "    </tr>\n",
       "    <tr>\n",
       "      <th>575</th>\n",
       "      <td>17.10 ± 1.29</td>\n",
       "      <td>23.50 ± 1.31</td>\n",
       "      <td>28.93 ± 0.93</td>\n",
       "      <td>32.38 ± 1.27</td>\n",
       "      <td>36.80 ± 1.41</td>\n",
       "      <td>41.06 ± 0.92</td>\n",
       "      <td>45.40 ± 0.85</td>\n",
       "    </tr>\n",
       "    <tr>\n",
       "      <th>588</th>\n",
       "      <td>17.42 ± 0.88</td>\n",
       "      <td>24.59 ± 0.71</td>\n",
       "      <td>30.79 ± 0.64</td>\n",
       "      <td>35.74 ± 0.72</td>\n",
       "      <td>40.84 ± 0.62</td>\n",
       "      <td>45.29 ± 0.79</td>\n",
       "      <td>49.51 ± 0.58</td>\n",
       "    </tr>\n",
       "    <tr>\n",
       "      <th>591</th>\n",
       "      <td>19.13 ± 2.69</td>\n",
       "      <td>26.56 ± 1.84</td>\n",
       "      <td>32.14 ± 1.16</td>\n",
       "      <td>37.13 ± 3.60</td>\n",
       "      <td>41.35 ± 2.13</td>\n",
       "      <td>44.61 ± 1.08</td>\n",
       "      <td>47.53 ± 0.94</td>\n",
       "    </tr>\n",
       "    <tr>\n",
       "      <th>540</th>\n",
       "      <td>18.14 ± 1.58</td>\n",
       "      <td>26.25 ± 0.78</td>\n",
       "      <td>33.30 ± 2.12</td>\n",
       "      <td>40.60 ± 2.13</td>\n",
       "      <td>44.29 ± 1.03</td>\n",
       "      <td>47.46 ± 1.72</td>\n",
       "      <td>50.46 ± 0.91</td>\n",
       "    </tr>\n",
       "    <tr>\n",
       "      <th>544</th>\n",
       "      <td>16.21 ± 0.81</td>\n",
       "      <td>22.64 ± 1.07</td>\n",
       "      <td>28.82 ± 1.32</td>\n",
       "      <td>34.68 ± 1.34</td>\n",
       "      <td>39.17 ± 0.66</td>\n",
       "      <td>45.30 ± 1.33</td>\n",
       "      <td>47.34 ± 0.72</td>\n",
       "    </tr>\n",
       "    <tr>\n",
       "      <th>552</th>\n",
       "      <td>22.69 ± 2.25</td>\n",
       "      <td>28.35 ± 2.02</td>\n",
       "      <td>39.01 ± 6.41</td>\n",
       "      <td>44.21 ± 3.10</td>\n",
       "      <td>47.36 ± 0.89</td>\n",
       "      <td>49.85 ± 1.06</td>\n",
       "      <td>51.02 ± 0.45</td>\n",
       "    </tr>\n",
       "    <tr>\n",
       "      <th>567</th>\n",
       "      <td>16.34 ± 0.69</td>\n",
       "      <td>25.06 ± 0.64</td>\n",
       "      <td>31.93 ± 0.54</td>\n",
       "      <td>37.21 ± 0.45</td>\n",
       "      <td>40.78 ± 0.51</td>\n",
       "      <td>45.64 ± 0.42</td>\n",
       "      <td>47.87 ± 0.58</td>\n",
       "    </tr>\n",
       "    <tr>\n",
       "      <th>584</th>\n",
       "      <td>16.32 ± 0.68</td>\n",
       "      <td>23.54 ± 0.62</td>\n",
       "      <td>28.83 ± 0.81</td>\n",
       "      <td>34.82 ± 1.31</td>\n",
       "      <td>38.57 ± 0.64</td>\n",
       "      <td>41.87 ± 0.48</td>\n",
       "      <td>46.01 ± 0.45</td>\n",
       "    </tr>\n",
       "    <tr>\n",
       "      <th>596</th>\n",
       "      <td>15.17 ± 0.58</td>\n",
       "      <td>20.94 ± 0.75</td>\n",
       "      <td>27.52 ± 0.70</td>\n",
       "      <td>32.78 ± 1.20</td>\n",
       "      <td>37.20 ± 0.89</td>\n",
       "      <td>41.74 ± 0.81</td>\n",
       "      <td>47.68 ± 1.35</td>\n",
       "    </tr>\n",
       "    <tr>\n",
       "      <th>Mean</th>\n",
       "      <td>46.24 ± 0.32</td>\n",
       "      <td>16.56 ± 0.55</td>\n",
       "      <td>23.13 ± 0.58</td>\n",
       "      <td>29.39 ± 0.57</td>\n",
       "      <td>34.51 ± 0.55</td>\n",
       "      <td>38.43 ± 0.48</td>\n",
       "      <td>42.42 ± 0.42</td>\n",
       "    </tr>\n",
       "  </tbody>\n",
       "</table>\n",
       "</div>"
      ],
      "text/plain": [
       "                3             6             9             12            15  \\\n",
       "559   13.06 ± 0.68  18.86 ± 0.24  24.13 ± 0.95  28.48 ± 0.51  32.03 ± 0.61   \n",
       "563   15.70 ± 0.63  21.96 ± 1.04  27.79 ± 0.60  33.14 ± 0.84  37.54 ± 1.27   \n",
       "570   11.38 ± 0.58  15.37 ± 0.38  19.48 ± 0.30  22.94 ± 0.74  25.23 ± 0.28   \n",
       "575   17.10 ± 1.29  23.50 ± 1.31  28.93 ± 0.93  32.38 ± 1.27  36.80 ± 1.41   \n",
       "588   17.42 ± 0.88  24.59 ± 0.71  30.79 ± 0.64  35.74 ± 0.72  40.84 ± 0.62   \n",
       "591   19.13 ± 2.69  26.56 ± 1.84  32.14 ± 1.16  37.13 ± 3.60  41.35 ± 2.13   \n",
       "540   18.14 ± 1.58  26.25 ± 0.78  33.30 ± 2.12  40.60 ± 2.13  44.29 ± 1.03   \n",
       "544   16.21 ± 0.81  22.64 ± 1.07  28.82 ± 1.32  34.68 ± 1.34  39.17 ± 0.66   \n",
       "552   22.69 ± 2.25  28.35 ± 2.02  39.01 ± 6.41  44.21 ± 3.10  47.36 ± 0.89   \n",
       "567   16.34 ± 0.69  25.06 ± 0.64  31.93 ± 0.54  37.21 ± 0.45  40.78 ± 0.51   \n",
       "584   16.32 ± 0.68  23.54 ± 0.62  28.83 ± 0.81  34.82 ± 1.31  38.57 ± 0.64   \n",
       "596   15.17 ± 0.58  20.94 ± 0.75  27.52 ± 0.70  32.78 ± 1.20  37.20 ± 0.89   \n",
       "Mean  46.24 ± 0.32  16.56 ± 0.55  23.13 ± 0.58  29.39 ± 0.57  34.51 ± 0.55   \n",
       "\n",
       "                18            24  \n",
       "559   35.31 ± 0.87  40.96 ± 0.52  \n",
       "563   41.54 ± 0.81  46.97 ± 1.21  \n",
       "570   29.44 ± 0.67  34.17 ± 0.82  \n",
       "575   41.06 ± 0.92  45.40 ± 0.85  \n",
       "588   45.29 ± 0.79  49.51 ± 0.58  \n",
       "591   44.61 ± 1.08  47.53 ± 0.94  \n",
       "540   47.46 ± 1.72  50.46 ± 0.91  \n",
       "544   45.30 ± 1.33  47.34 ± 0.72  \n",
       "552   49.85 ± 1.06  51.02 ± 0.45  \n",
       "567   45.64 ± 0.42  47.87 ± 0.58  \n",
       "584   41.87 ± 0.48  46.01 ± 0.45  \n",
       "596   41.74 ± 0.81  47.68 ± 1.35  \n",
       "Mean  38.43 ± 0.48  42.42 ± 0.42  "
      ]
     },
     "execution_count": 11,
     "metadata": {},
     "output_type": "execute_result"
    }
   ],
   "source": [
    "squared_patients_errors_PHs_df = pd.DataFrame()\n",
    "mean_ph = []\n",
    "for i, patient_mae in enumerate(squared_patients_errors_PHs.values()):\n",
    "\n",
    "    grouped_values = defaultdict(list)\n",
    "\n",
    "    # Group values by keys\n",
    "    for d in squared_patients_errors_PHs[prediction_horizons[i]]:\n",
    "        for key, value in d.items():\n",
    "            grouped_values[key].append(value)\n",
    "\n",
    "    mean_values = {key: np.mean(values) for key, values in grouped_values.items()}\n",
    "    std_values = {key: np.std(values, ddof=1) for key, values in grouped_values.items()}\n",
    "\n",
    "\n",
    "    mean_std = [f\"{mean_values[i]:.2f} ± {std_values[i]:.2f}\" for i in range(len(mean_values))]\n",
    "    squared_patients_errors_PHs_df[prediction_horizons[i]] = mean_std\n",
    "    \n",
    "    mean_all_patients = np.mean(list(mean_values.values()))\n",
    "    mean_all_patients = [f\"{mean_values[i]:.2f} ± {std_values[i]:.2f}\"for i in range(len(mean_values))]\n",
    "    \n",
    "    mean_values = {key: np.mean(values) for key, values in grouped_values.items()}\n",
    "\n",
    "    mean_all = [np.mean(list(patient_mae[i].values())) for i in range(5)]\n",
    "    mean_std_all = [f\"{np.mean(mean_all) :.2f} ± {np.std(mean_all):.2f}\" for i in range(5)]\n",
    "\n",
    "    mean_ph.append(mean_std_all[0])\n",
    "\n",
    "\n",
    "\n",
    "squared_patients_errors_PHs_df.loc[len(squared_patients_errors_PHs_df.index)] = mean_ph\n",
    "squared_patients_errors_PHs_df.index = patients_list+[\"Mean\"]\n",
    "\n",
    "squared_patients_errors_PHs_df"
   ]
  },
  {
   "cell_type": "code",
   "execution_count": null,
   "metadata": {},
   "outputs": [
    {
     "name": "stdout",
     "output_type": "stream",
     "text": [
      "Total parameters in the model with 12 tasks: 173708\n"
     ]
    }
   ],
   "source": [
    "\n",
    "\n",
    "# Instantiate the model for 12 tasks\n",
    "input_shape = (64, 12, 12)  # Example input shape: batch_size, sequence_length, input_channels\n",
    "output_tasks = 12           # Number of tasks\n",
    "\n",
    "# Instantiate the model\n",
    "model = GeneralizedModelWithAttention(input_shape=input_shape, output_shape=(output_tasks,))\n",
    "model.to(device)\n",
    "# Count the parameters\n",
    "total_params = count_parameters(model)\n",
    "print(f\"Total parameters in the model with {output_tasks} tasks: {total_params}\")\n",
    "# 173,708"
   ]
  },
  {
   "cell_type": "code",
   "execution_count": 13,
   "metadata": {},
   "outputs": [
    {
     "name": "stdout",
     "output_type": "stream",
     "text": [
      "Prediction horizon 3\n"
     ]
    },
    {
     "data": {
      "image/png": "[encoded data removed]",
      "text/plain": [
       "<Figure size 1200x600 with 2 Axes>"
      ]
     },
     "metadata": {},
     "output_type": "display_data"
    }
   ],
   "source": [
    "for i in histories_noval_PHs.items():\n",
    "    print(f\"Prediction horizon {i[0]}\")\n",
    "    plot_loss_curves(i[1])\n",
    "    break"
   ]
  }
 ],
 "metadata": {
  "kernelspec": {
   "display_name": "biomedical-env",
   "language": "python",
   "name": "python3"
  },
  "language_info": {
   "codemirror_mode": {
    "name": "ipython",
    "version": 3
   },
   "file_extension": ".py",
   "mimetype": "text/x-python",
   "name": "python",
   "nbconvert_exporter": "python",
   "pygments_lexer": "ipython3",
   "version": "3.11.7"
  }
 },
 "nbformat": 4,
 "nbformat_minor": 2
}
