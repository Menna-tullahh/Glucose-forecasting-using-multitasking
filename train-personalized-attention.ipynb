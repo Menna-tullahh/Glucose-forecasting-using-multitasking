{
 "cells": [
  {
   "cell_type": "code",
   "execution_count": 1,
   "metadata": {},
   "outputs": [],
   "source": [
    "from src.time_series_prep import *\n",
    "import pandas as pd\n",
    "from models.personalized_model import *\n",
    "from models.helper_functions import *\n",
    "from torchviz import make_dot\n",
    "from torchsummary import summary\n",
    "\n",
    "from src.data_preprocessing import *\n",
    "from src.visualizations import *\n",
    "from src.global_configs import *\n",
    "from src.time_series_prep import *\n",
    "import logging\n",
    "from src.post_processing import *\n",
    "from collections import defaultdict\n",
    "# Initialize logger\n",
    "logging.basicConfig(\n",
    "    filename='training.log',  # File where logs will be saved\n",
    "    level=logging.INFO,  # Set logging level to INFO\n",
    "    format='%(asctime)s - %(levelname)s - %(message)s',  # Log format\n",
    "    # filemode='w'  # Overwrite log file on each run\n",
    ")\n",
    "logger = logging.getLogger()"
   ]
  },
  {
   "cell_type": "code",
   "execution_count": 2,
   "metadata": {},
   "outputs": [],
   "source": [
    "model_type = 'personalized'\n",
    "\n",
    "scaler, train_patients, test_patients = process_all_csv_files_personalized(input_folder, output_folder)"
   ]
  },
  {
   "cell_type": "code",
   "execution_count": 3,
   "metadata": {},
   "outputs": [],
   "source": [
    "\n",
    "histories_withval_PHs =  {key: [] for key in prediction_horizons}\n",
    "histories_noval_PHs = {key: [] for key in prediction_horizons}\n",
    "\n",
    "\n",
    "MAE_Patients_PHs =  {key: [] for key in prediction_horizons}\n",
    "RMSE_Patients_PHs =  {key: [] for key in prediction_horizons}\n"
   ]
  },
  {
   "cell_type": "code",
   "execution_count": 5,
   "metadata": {},
   "outputs": [
    {
     "name": "stdout",
     "output_type": "stream",
     "text": [
      "Patient 559\n"
     ]
    },
    {
     "name": "stderr",
     "output_type": "stream",
     "text": [
      "Epoch 1/150:   1%|          | 1/189 [00:00<00:11, 16.95batch/s, mae_loss=0.893]"
     ]
    },
    {
     "name": "stderr",
     "output_type": "stream",
     "text": [
      "Epoch 1/150: 100%|██████████| 189/189 [00:04<00:00, 38.40batch/s, mae_loss=0.578]\n"
     ]
    },
    {
     "name": "stdout",
     "output_type": "stream",
     "text": [
      "Epoch [1/150], Training MAE: 0.6301, Training RMSE: 0.7987\n",
      "Epoch [1/150], Validation MAE: 0.4231, Validation RMSE: 0.5739\n"
     ]
    },
    {
     "name": "stderr",
     "output_type": "stream",
     "text": [
      "Epoch 2/150: 100%|██████████| 189/189 [00:04<00:00, 38.21batch/s, mae_loss=0.372]\n"
     ]
    },
    {
     "name": "stdout",
     "output_type": "stream",
     "text": [
      "Epoch [2/150], Training MAE: 0.4692, Training RMSE: 0.6329\n",
      "Epoch [2/150], Validation MAE: 0.3668, Validation RMSE: 0.5080\n"
     ]
    },
    {
     "name": "stderr",
     "output_type": "stream",
     "text": [
      "Epoch 3/150: 100%|██████████| 189/189 [00:05<00:00, 36.04batch/s, mae_loss=0.351]\n"
     ]
    },
    {
     "name": "stdout",
     "output_type": "stream",
     "text": [
      "Epoch [3/150], Training MAE: 0.4405, Training RMSE: 0.5982\n",
      "Epoch [3/150], Validation MAE: 0.3370, Validation RMSE: 0.4748\n"
     ]
    },
    {
     "name": "stderr",
     "output_type": "stream",
     "text": [
      "Epoch 4/150: 100%|██████████| 189/189 [00:04<00:00, 38.72batch/s, mae_loss=0.417]\n"
     ]
    },
    {
     "name": "stdout",
     "output_type": "stream",
     "text": [
      "Epoch [4/150], Training MAE: 0.4072, Training RMSE: 0.5559\n",
      "Epoch [4/150], Validation MAE: 0.3085, Validation RMSE: 0.4400\n"
     ]
    },
    {
     "name": "stderr",
     "output_type": "stream",
     "text": [
      "Epoch 5/150: 100%|██████████| 189/189 [00:04<00:00, 46.98batch/s, mae_loss=0.426]\n"
     ]
    },
    {
     "name": "stdout",
     "output_type": "stream",
     "text": [
      "Epoch [5/150], Training MAE: 0.3811, Training RMSE: 0.5230\n",
      "Epoch [5/150], Validation MAE: 0.2861, Validation RMSE: 0.4122\n"
     ]
    },
    {
     "name": "stderr",
     "output_type": "stream",
     "text": [
      "Epoch 6/150: 100%|██████████| 189/189 [00:04<00:00, 45.54batch/s, mae_loss=0.333]\n"
     ]
    },
    {
     "name": "stdout",
     "output_type": "stream",
     "text": [
      "Epoch [6/150], Training MAE: 0.3643, Training RMSE: 0.5044\n",
      "Epoch [6/150], Validation MAE: 0.2760, Validation RMSE: 0.3986\n"
     ]
    },
    {
     "name": "stderr",
     "output_type": "stream",
     "text": [
      "Epoch 7/150: 100%|██████████| 189/189 [00:04<00:00, 40.13batch/s, mae_loss=0.369]\n"
     ]
    },
    {
     "name": "stdout",
     "output_type": "stream",
     "text": [
      "Epoch [7/150], Training MAE: 0.3547, Training RMSE: 0.4920\n",
      "Epoch [7/150], Validation MAE: 0.2708, Validation RMSE: 0.3909\n"
     ]
    },
    {
     "name": "stderr",
     "output_type": "stream",
     "text": [
      "Epoch 8/150: 100%|██████████| 189/189 [00:04<00:00, 38.29batch/s, mae_loss=0.341]\n"
     ]
    },
    {
     "name": "stdout",
     "output_type": "stream",
     "text": [
      "Epoch [8/150], Training MAE: 0.3449, Training RMSE: 0.4811\n",
      "Epoch [8/150], Validation MAE: 0.2620, Validation RMSE: 0.3800\n"
     ]
    },
    {
     "name": "stderr",
     "output_type": "stream",
     "text": [
      "Epoch 9/150: 100%|██████████| 189/189 [00:04<00:00, 39.29batch/s, mae_loss=0.285]\n"
     ]
    },
    {
     "name": "stdout",
     "output_type": "stream",
     "text": [
      "Epoch [9/150], Training MAE: 0.3403, Training RMSE: 0.4770\n",
      "Epoch [9/150], Validation MAE: 0.2571, Validation RMSE: 0.3745\n"
     ]
    },
    {
     "name": "stderr",
     "output_type": "stream",
     "text": [
      "Epoch 10/150: 100%|██████████| 189/189 [00:04<00:00, 41.57batch/s, mae_loss=0.309]\n"
     ]
    },
    {
     "name": "stdout",
     "output_type": "stream",
     "text": [
      "Epoch [10/150], Training MAE: 0.3356, Training RMSE: 0.4699\n",
      "Epoch [10/150], Validation MAE: 0.2567, Validation RMSE: 0.3748\n"
     ]
    },
    {
     "name": "stderr",
     "output_type": "stream",
     "text": [
      "Epoch 11/150: 100%|██████████| 189/189 [00:04<00:00, 38.68batch/s, mae_loss=0.357]\n"
     ]
    },
    {
     "name": "stdout",
     "output_type": "stream",
     "text": [
      "Epoch [11/150], Training MAE: 0.3317, Training RMSE: 0.4654\n",
      "Epoch [11/150], Validation MAE: 0.2541, Validation RMSE: 0.3716\n"
     ]
    },
    {
     "name": "stderr",
     "output_type": "stream",
     "text": [
      "Epoch 12/150: 100%|██████████| 189/189 [00:04<00:00, 42.48batch/s, mae_loss=0.298]\n"
     ]
    },
    {
     "name": "stdout",
     "output_type": "stream",
     "text": [
      "Epoch [12/150], Training MAE: 0.3293, Training RMSE: 0.4647\n",
      "Epoch [12/150], Validation MAE: 0.2546, Validation RMSE: 0.3715\n"
     ]
    },
    {
     "name": "stderr",
     "output_type": "stream",
     "text": [
      "Epoch 13/150: 100%|██████████| 189/189 [00:04<00:00, 43.40batch/s, mae_loss=0.331]\n"
     ]
    },
    {
     "name": "stdout",
     "output_type": "stream",
     "text": [
      "Epoch [13/150], Training MAE: 0.3276, Training RMSE: 0.4622\n",
      "Epoch [13/150], Validation MAE: 0.2493, Validation RMSE: 0.3662\n"
     ]
    },
    {
     "name": "stderr",
     "output_type": "stream",
     "text": [
      "Epoch 14/150: 100%|██████████| 189/189 [00:04<00:00, 43.44batch/s, mae_loss=0.286]\n"
     ]
    },
    {
     "name": "stdout",
     "output_type": "stream",
     "text": [
      "Epoch [14/150], Training MAE: 0.3234, Training RMSE: 0.4566\n",
      "Epoch [14/150], Validation MAE: 0.2458, Validation RMSE: 0.3626\n"
     ]
    },
    {
     "name": "stderr",
     "output_type": "stream",
     "text": [
      "Epoch 15/150: 100%|██████████| 189/189 [00:06<00:00, 30.46batch/s, mae_loss=0.334]\n"
     ]
    },
    {
     "name": "stdout",
     "output_type": "stream",
     "text": [
      "Epoch [15/150], Training MAE: 0.3218, Training RMSE: 0.4521\n",
      "Epoch [15/150], Validation MAE: 0.2462, Validation RMSE: 0.3634\n"
     ]
    },
    {
     "name": "stderr",
     "output_type": "stream",
     "text": [
      "Epoch 16/150: 100%|██████████| 189/189 [00:04<00:00, 40.39batch/s, mae_loss=0.311]\n"
     ]
    },
    {
     "name": "stdout",
     "output_type": "stream",
     "text": [
      "Epoch [16/150], Training MAE: 0.3231, Training RMSE: 0.4541\n",
      "Epoch [16/150], Validation MAE: 0.2453, Validation RMSE: 0.3621\n"
     ]
    },
    {
     "name": "stderr",
     "output_type": "stream",
     "text": [
      "Epoch 17/150: 100%|██████████| 189/189 [00:04<00:00, 45.78batch/s, mae_loss=0.352]\n"
     ]
    },
    {
     "name": "stdout",
     "output_type": "stream",
     "text": [
      "Epoch [17/150], Training MAE: 0.3177, Training RMSE: 0.4492\n",
      "Epoch [17/150], Validation MAE: 0.2441, Validation RMSE: 0.3611\n"
     ]
    },
    {
     "name": "stderr",
     "output_type": "stream",
     "text": [
      "Epoch 18/150: 100%|██████████| 189/189 [00:04<00:00, 45.00batch/s, mae_loss=0.31] \n"
     ]
    },
    {
     "name": "stdout",
     "output_type": "stream",
     "text": [
      "Epoch [18/150], Training MAE: 0.3178, Training RMSE: 0.4489\n",
      "Epoch [18/150], Validation MAE: 0.2424, Validation RMSE: 0.3595\n"
     ]
    },
    {
     "name": "stderr",
     "output_type": "stream",
     "text": [
      "Epoch 19/150: 100%|██████████| 189/189 [00:05<00:00, 34.45batch/s, mae_loss=0.334]\n"
     ]
    },
    {
     "name": "stdout",
     "output_type": "stream",
     "text": [
      "Epoch [19/150], Training MAE: 0.3143, Training RMSE: 0.4464\n",
      "Epoch [19/150], Validation MAE: 0.2427, Validation RMSE: 0.3594\n"
     ]
    },
    {
     "name": "stderr",
     "output_type": "stream",
     "text": [
      "Epoch 20/150: 100%|██████████| 189/189 [00:05<00:00, 34.51batch/s, mae_loss=0.306]\n"
     ]
    },
    {
     "name": "stdout",
     "output_type": "stream",
     "text": [
      "Epoch [20/150], Training MAE: 0.3136, Training RMSE: 0.4442\n",
      "Epoch [20/150], Validation MAE: 0.2401, Validation RMSE: 0.3564\n"
     ]
    },
    {
     "name": "stderr",
     "output_type": "stream",
     "text": [
      "Epoch 21/150: 100%|██████████| 189/189 [00:05<00:00, 35.88batch/s, mae_loss=0.386]\n"
     ]
    },
    {
     "name": "stdout",
     "output_type": "stream",
     "text": [
      "Epoch [21/150], Training MAE: 0.3130, Training RMSE: 0.4442\n",
      "Epoch [21/150], Validation MAE: 0.2417, Validation RMSE: 0.3578\n"
     ]
    },
    {
     "name": "stderr",
     "output_type": "stream",
     "text": [
      "Epoch 22/150: 100%|██████████| 189/189 [00:04<00:00, 42.46batch/s, mae_loss=0.407]\n"
     ]
    },
    {
     "name": "stdout",
     "output_type": "stream",
     "text": [
      "Epoch [22/150], Training MAE: 0.3119, Training RMSE: 0.4436\n",
      "Epoch [22/150], Validation MAE: 0.2397, Validation RMSE: 0.3553\n"
     ]
    },
    {
     "name": "stderr",
     "output_type": "stream",
     "text": [
      "Epoch 23/150: 100%|██████████| 189/189 [00:04<00:00, 40.75batch/s, mae_loss=0.264]\n"
     ]
    },
    {
     "name": "stdout",
     "output_type": "stream",
     "text": [
      "Epoch [23/150], Training MAE: 0.3104, Training RMSE: 0.4408\n",
      "Epoch [23/150], Validation MAE: 0.2373, Validation RMSE: 0.3532\n"
     ]
    },
    {
     "name": "stderr",
     "output_type": "stream",
     "text": [
      "Epoch 24/150: 100%|██████████| 189/189 [00:04<00:00, 37.93batch/s, mae_loss=0.272]\n"
     ]
    },
    {
     "name": "stdout",
     "output_type": "stream",
     "text": [
      "Epoch [24/150], Training MAE: 0.3073, Training RMSE: 0.4379\n",
      "Epoch [24/150], Validation MAE: 0.2395, Validation RMSE: 0.3564\n"
     ]
    },
    {
     "name": "stderr",
     "output_type": "stream",
     "text": [
      "Epoch 25/150: 100%|██████████| 189/189 [00:04<00:00, 38.34batch/s, mae_loss=0.236]\n"
     ]
    },
    {
     "name": "stdout",
     "output_type": "stream",
     "text": [
      "Epoch [25/150], Training MAE: 0.3076, Training RMSE: 0.4368\n",
      "Epoch [25/150], Validation MAE: 0.2338, Validation RMSE: 0.3501\n"
     ]
    },
    {
     "name": "stderr",
     "output_type": "stream",
     "text": [
      "Epoch 26/150: 100%|██████████| 189/189 [00:04<00:00, 38.38batch/s, mae_loss=0.351]\n"
     ]
    },
    {
     "name": "stdout",
     "output_type": "stream",
     "text": [
      "Epoch [26/150], Training MAE: 0.3070, Training RMSE: 0.4382\n",
      "Epoch [26/150], Validation MAE: 0.2342, Validation RMSE: 0.3505\n"
     ]
    },
    {
     "name": "stderr",
     "output_type": "stream",
     "text": [
      "Epoch 27/150: 100%|██████████| 189/189 [00:04<00:00, 41.95batch/s, mae_loss=0.293]\n"
     ]
    },
    {
     "name": "stdout",
     "output_type": "stream",
     "text": [
      "Epoch [27/150], Training MAE: 0.3072, Training RMSE: 0.4361\n",
      "Epoch [27/150], Validation MAE: 0.2341, Validation RMSE: 0.3496\n"
     ]
    },
    {
     "name": "stderr",
     "output_type": "stream",
     "text": [
      "Epoch 28/150: 100%|██████████| 189/189 [00:04<00:00, 41.88batch/s, mae_loss=0.333]\n"
     ]
    },
    {
     "name": "stdout",
     "output_type": "stream",
     "text": [
      "Epoch [28/150], Training MAE: 0.3049, Training RMSE: 0.4347\n",
      "Epoch [28/150], Validation MAE: 0.2348, Validation RMSE: 0.3496\n"
     ]
    },
    {
     "name": "stderr",
     "output_type": "stream",
     "text": [
      "Epoch 29/150: 100%|██████████| 189/189 [00:04<00:00, 39.15batch/s, mae_loss=0.261]\n"
     ]
    },
    {
     "name": "stdout",
     "output_type": "stream",
     "text": [
      "Epoch [29/150], Training MAE: 0.3033, Training RMSE: 0.4333\n",
      "Epoch [29/150], Validation MAE: 0.2309, Validation RMSE: 0.3467\n"
     ]
    },
    {
     "name": "stderr",
     "output_type": "stream",
     "text": [
      "Epoch 30/150: 100%|██████████| 189/189 [00:05<00:00, 37.34batch/s, mae_loss=0.372]\n"
     ]
    },
    {
     "name": "stdout",
     "output_type": "stream",
     "text": [
      "Epoch [30/150], Training MAE: 0.3051, Training RMSE: 0.4338\n",
      "Epoch [30/150], Validation MAE: 0.2301, Validation RMSE: 0.3461\n"
     ]
    },
    {
     "name": "stderr",
     "output_type": "stream",
     "text": [
      "Epoch 31/150: 100%|██████████| 189/189 [00:04<00:00, 42.97batch/s, mae_loss=0.215]\n"
     ]
    },
    {
     "name": "stdout",
     "output_type": "stream",
     "text": [
      "Epoch [31/150], Training MAE: 0.3040, Training RMSE: 0.4333\n",
      "Epoch [31/150], Validation MAE: 0.2312, Validation RMSE: 0.3458\n"
     ]
    },
    {
     "name": "stderr",
     "output_type": "stream",
     "text": [
      "Epoch 32/150: 100%|██████████| 189/189 [00:04<00:00, 43.29batch/s, mae_loss=0.254]\n"
     ]
    },
    {
     "name": "stdout",
     "output_type": "stream",
     "text": [
      "Epoch [32/150], Training MAE: 0.3023, Training RMSE: 0.4323\n",
      "Epoch [32/150], Validation MAE: 0.2309, Validation RMSE: 0.3467\n"
     ]
    },
    {
     "name": "stderr",
     "output_type": "stream",
     "text": [
      "Epoch 33/150: 100%|██████████| 189/189 [00:04<00:00, 39.25batch/s, mae_loss=0.295]\n"
     ]
    },
    {
     "name": "stdout",
     "output_type": "stream",
     "text": [
      "Epoch [33/150], Training MAE: 0.3011, Training RMSE: 0.4304\n",
      "Epoch [33/150], Validation MAE: 0.2294, Validation RMSE: 0.3443\n"
     ]
    },
    {
     "name": "stderr",
     "output_type": "stream",
     "text": [
      "Epoch 34/150: 100%|██████████| 189/189 [00:04<00:00, 45.85batch/s, mae_loss=0.271]\n"
     ]
    },
    {
     "name": "stdout",
     "output_type": "stream",
     "text": [
      "Epoch [34/150], Training MAE: 0.3001, Training RMSE: 0.4294\n",
      "Epoch [34/150], Validation MAE: 0.2274, Validation RMSE: 0.3428\n"
     ]
    },
    {
     "name": "stderr",
     "output_type": "stream",
     "text": [
      "Epoch 35/150: 100%|██████████| 189/189 [00:04<00:00, 44.43batch/s, mae_loss=0.329]\n"
     ]
    },
    {
     "name": "stdout",
     "output_type": "stream",
     "text": [
      "Epoch [35/150], Training MAE: 0.2994, Training RMSE: 0.4285\n",
      "Epoch [35/150], Validation MAE: 0.2271, Validation RMSE: 0.3425\n"
     ]
    },
    {
     "name": "stderr",
     "output_type": "stream",
     "text": [
      "Epoch 36/150: 100%|██████████| 189/189 [00:05<00:00, 37.45batch/s, mae_loss=0.297]\n"
     ]
    },
    {
     "name": "stdout",
     "output_type": "stream",
     "text": [
      "Epoch [36/150], Training MAE: 0.2993, Training RMSE: 0.4280\n",
      "Epoch [36/150], Validation MAE: 0.2251, Validation RMSE: 0.3408\n"
     ]
    },
    {
     "name": "stderr",
     "output_type": "stream",
     "text": [
      "Epoch 37/150: 100%|██████████| 189/189 [00:04<00:00, 39.85batch/s, mae_loss=0.292]\n"
     ]
    },
    {
     "name": "stdout",
     "output_type": "stream",
     "text": [
      "Epoch [37/150], Training MAE: 0.2976, Training RMSE: 0.4264\n",
      "Epoch [37/150], Validation MAE: 0.2264, Validation RMSE: 0.3420\n"
     ]
    },
    {
     "name": "stderr",
     "output_type": "stream",
     "text": [
      "Epoch 38/150: 100%|██████████| 189/189 [00:04<00:00, 38.17batch/s, mae_loss=0.267]\n"
     ]
    },
    {
     "name": "stdout",
     "output_type": "stream",
     "text": [
      "Epoch [38/150], Training MAE: 0.2970, Training RMSE: 0.4265\n",
      "Epoch [38/150], Validation MAE: 0.2250, Validation RMSE: 0.3411\n"
     ]
    },
    {
     "name": "stderr",
     "output_type": "stream",
     "text": [
      "Epoch 39/150: 100%|██████████| 189/189 [00:05<00:00, 37.06batch/s, mae_loss=0.303]\n"
     ]
    },
    {
     "name": "stdout",
     "output_type": "stream",
     "text": [
      "Epoch [39/150], Training MAE: 0.2988, Training RMSE: 0.4280\n",
      "Epoch [39/150], Validation MAE: 0.2241, Validation RMSE: 0.3398\n"
     ]
    },
    {
     "name": "stderr",
     "output_type": "stream",
     "text": [
      "Epoch 40/150: 100%|██████████| 189/189 [00:04<00:00, 39.78batch/s, mae_loss=0.277]\n"
     ]
    },
    {
     "name": "stdout",
     "output_type": "stream",
     "text": [
      "Epoch [40/150], Training MAE: 0.2982, Training RMSE: 0.4271\n",
      "Epoch [40/150], Validation MAE: 0.2259, Validation RMSE: 0.3410\n"
     ]
    },
    {
     "name": "stderr",
     "output_type": "stream",
     "text": [
      "Epoch 41/150: 100%|██████████| 189/189 [00:05<00:00, 37.33batch/s, mae_loss=0.185]\n"
     ]
    },
    {
     "name": "stdout",
     "output_type": "stream",
     "text": [
      "Epoch [41/150], Training MAE: 0.2965, Training RMSE: 0.4232\n",
      "Epoch [41/150], Validation MAE: 0.2243, Validation RMSE: 0.3390\n"
     ]
    },
    {
     "name": "stderr",
     "output_type": "stream",
     "text": [
      "Epoch 42/150: 100%|██████████| 189/189 [00:04<00:00, 40.94batch/s, mae_loss=0.394]\n"
     ]
    },
    {
     "name": "stdout",
     "output_type": "stream",
     "text": [
      "Epoch [42/150], Training MAE: 0.2964, Training RMSE: 0.4243\n",
      "Epoch [42/150], Validation MAE: 0.2262, Validation RMSE: 0.3398\n"
     ]
    },
    {
     "name": "stderr",
     "output_type": "stream",
     "text": [
      "Epoch 43/150: 100%|██████████| 189/189 [00:04<00:00, 37.92batch/s, mae_loss=0.292]\n"
     ]
    },
    {
     "name": "stdout",
     "output_type": "stream",
     "text": [
      "Epoch [43/150], Training MAE: 0.2942, Training RMSE: 0.4215\n",
      "Epoch [43/150], Validation MAE: 0.2231, Validation RMSE: 0.3366\n"
     ]
    },
    {
     "name": "stderr",
     "output_type": "stream",
     "text": [
      "Epoch 44/150: 100%|██████████| 189/189 [00:04<00:00, 38.26batch/s, mae_loss=0.225]\n"
     ]
    },
    {
     "name": "stdout",
     "output_type": "stream",
     "text": [
      "Epoch [44/150], Training MAE: 0.2936, Training RMSE: 0.4209\n",
      "Epoch [44/150], Validation MAE: 0.2225, Validation RMSE: 0.3368\n"
     ]
    },
    {
     "name": "stderr",
     "output_type": "stream",
     "text": [
      "Epoch 45/150: 100%|██████████| 189/189 [00:04<00:00, 43.50batch/s, mae_loss=0.279]\n"
     ]
    },
    {
     "name": "stdout",
     "output_type": "stream",
     "text": [
      "Epoch [45/150], Training MAE: 0.2928, Training RMSE: 0.4214\n",
      "Epoch [45/150], Validation MAE: 0.2213, Validation RMSE: 0.3359\n"
     ]
    },
    {
     "name": "stderr",
     "output_type": "stream",
     "text": [
      "Epoch 46/150: 100%|██████████| 189/189 [00:04<00:00, 42.17batch/s, mae_loss=0.302]\n"
     ]
    },
    {
     "name": "stdout",
     "output_type": "stream",
     "text": [
      "Epoch [46/150], Training MAE: 0.2946, Training RMSE: 0.4223\n",
      "Epoch [46/150], Validation MAE: 0.2213, Validation RMSE: 0.3362\n"
     ]
    },
    {
     "name": "stderr",
     "output_type": "stream",
     "text": [
      "Epoch 47/150: 100%|██████████| 189/189 [00:05<00:00, 36.05batch/s, mae_loss=0.254]\n"
     ]
    },
    {
     "name": "stdout",
     "output_type": "stream",
     "text": [
      "Epoch [47/150], Training MAE: 0.2926, Training RMSE: 0.4205\n",
      "Epoch [47/150], Validation MAE: 0.2238, Validation RMSE: 0.3380\n"
     ]
    },
    {
     "name": "stderr",
     "output_type": "stream",
     "text": [
      "Epoch 48/150: 100%|██████████| 189/189 [00:04<00:00, 41.70batch/s, mae_loss=0.323]\n"
     ]
    },
    {
     "name": "stdout",
     "output_type": "stream",
     "text": [
      "Epoch [48/150], Training MAE: 0.2917, Training RMSE: 0.4184\n",
      "Epoch [48/150], Validation MAE: 0.2195, Validation RMSE: 0.3352\n"
     ]
    },
    {
     "name": "stderr",
     "output_type": "stream",
     "text": [
      "Epoch 49/150: 100%|██████████| 189/189 [00:04<00:00, 40.28batch/s, mae_loss=0.178]\n"
     ]
    },
    {
     "name": "stdout",
     "output_type": "stream",
     "text": [
      "Epoch [49/150], Training MAE: 0.2915, Training RMSE: 0.4185\n",
      "Epoch [49/150], Validation MAE: 0.2191, Validation RMSE: 0.3344\n"
     ]
    },
    {
     "name": "stderr",
     "output_type": "stream",
     "text": [
      "Epoch 50/150: 100%|██████████| 189/189 [00:04<00:00, 42.77batch/s, mae_loss=0.313]\n"
     ]
    },
    {
     "name": "stdout",
     "output_type": "stream",
     "text": [
      "Epoch [50/150], Training MAE: 0.2911, Training RMSE: 0.4183\n",
      "Epoch [50/150], Validation MAE: 0.2197, Validation RMSE: 0.3342\n"
     ]
    },
    {
     "name": "stderr",
     "output_type": "stream",
     "text": [
      "Epoch 51/150: 100%|██████████| 189/189 [00:04<00:00, 46.03batch/s, mae_loss=0.264]\n"
     ]
    },
    {
     "name": "stdout",
     "output_type": "stream",
     "text": [
      "Epoch [51/150], Training MAE: 0.2916, Training RMSE: 0.4193\n",
      "Epoch [51/150], Validation MAE: 0.2220, Validation RMSE: 0.3355\n"
     ]
    },
    {
     "name": "stderr",
     "output_type": "stream",
     "text": [
      "Epoch 52/150: 100%|██████████| 189/189 [00:04<00:00, 46.30batch/s, mae_loss=0.337]\n"
     ]
    },
    {
     "name": "stdout",
     "output_type": "stream",
     "text": [
      "Epoch [52/150], Training MAE: 0.2900, Training RMSE: 0.4185\n",
      "Epoch [52/150], Validation MAE: 0.2179, Validation RMSE: 0.3333\n"
     ]
    },
    {
     "name": "stderr",
     "output_type": "stream",
     "text": [
      "Epoch 53/150: 100%|██████████| 189/189 [00:04<00:00, 42.78batch/s, mae_loss=0.218]\n"
     ]
    },
    {
     "name": "stdout",
     "output_type": "stream",
     "text": [
      "Epoch [53/150], Training MAE: 0.2900, Training RMSE: 0.4170\n",
      "Epoch [53/150], Validation MAE: 0.2215, Validation RMSE: 0.3343\n"
     ]
    },
    {
     "name": "stderr",
     "output_type": "stream",
     "text": [
      "Epoch 54/150: 100%|██████████| 189/189 [00:04<00:00, 43.34batch/s, mae_loss=0.247]\n"
     ]
    },
    {
     "name": "stdout",
     "output_type": "stream",
     "text": [
      "Epoch [54/150], Training MAE: 0.2899, Training RMSE: 0.4193\n",
      "Epoch [54/150], Validation MAE: 0.2190, Validation RMSE: 0.3338\n"
     ]
    },
    {
     "name": "stderr",
     "output_type": "stream",
     "text": [
      "Epoch 55/150: 100%|██████████| 189/189 [00:04<00:00, 43.61batch/s, mae_loss=0.32] \n"
     ]
    },
    {
     "name": "stdout",
     "output_type": "stream",
     "text": [
      "Epoch [55/150], Training MAE: 0.2885, Training RMSE: 0.4154\n",
      "Epoch [55/150], Validation MAE: 0.2188, Validation RMSE: 0.3328\n"
     ]
    },
    {
     "name": "stderr",
     "output_type": "stream",
     "text": [
      "Epoch 56/150: 100%|██████████| 189/189 [00:04<00:00, 45.95batch/s, mae_loss=0.338]\n"
     ]
    },
    {
     "name": "stdout",
     "output_type": "stream",
     "text": [
      "Epoch [56/150], Training MAE: 0.2880, Training RMSE: 0.4153\n",
      "Epoch [56/150], Validation MAE: 0.2202, Validation RMSE: 0.3334\n"
     ]
    },
    {
     "name": "stderr",
     "output_type": "stream",
     "text": [
      "Epoch 57/150: 100%|██████████| 189/189 [00:04<00:00, 46.19batch/s, mae_loss=0.255]\n"
     ]
    },
    {
     "name": "stdout",
     "output_type": "stream",
     "text": [
      "Epoch [57/150], Training MAE: 0.2860, Training RMSE: 0.4130\n",
      "Epoch [57/150], Validation MAE: 0.2168, Validation RMSE: 0.3317\n"
     ]
    },
    {
     "name": "stderr",
     "output_type": "stream",
     "text": [
      "Epoch 58/150: 100%|██████████| 189/189 [00:04<00:00, 46.74batch/s, mae_loss=0.236]\n"
     ]
    },
    {
     "name": "stdout",
     "output_type": "stream",
     "text": [
      "Epoch [58/150], Training MAE: 0.2868, Training RMSE: 0.4136\n",
      "Epoch [58/150], Validation MAE: 0.2182, Validation RMSE: 0.3322\n"
     ]
    },
    {
     "name": "stderr",
     "output_type": "stream",
     "text": [
      "Epoch 59/150: 100%|██████████| 189/189 [00:04<00:00, 45.91batch/s, mae_loss=0.34] \n"
     ]
    },
    {
     "name": "stdout",
     "output_type": "stream",
     "text": [
      "Epoch [59/150], Training MAE: 0.2877, Training RMSE: 0.4150\n",
      "Epoch [59/150], Validation MAE: 0.2180, Validation RMSE: 0.3329\n"
     ]
    },
    {
     "name": "stderr",
     "output_type": "stream",
     "text": [
      "Epoch 60/150: 100%|██████████| 189/189 [00:04<00:00, 44.74batch/s, mae_loss=0.295]\n"
     ]
    },
    {
     "name": "stdout",
     "output_type": "stream",
     "text": [
      "Epoch [60/150], Training MAE: 0.2864, Training RMSE: 0.4152\n",
      "Epoch [60/150], Validation MAE: 0.2168, Validation RMSE: 0.3317\n"
     ]
    },
    {
     "name": "stderr",
     "output_type": "stream",
     "text": [
      "Epoch 61/150: 100%|██████████| 189/189 [00:04<00:00, 46.00batch/s, mae_loss=0.359]\n"
     ]
    },
    {
     "name": "stdout",
     "output_type": "stream",
     "text": [
      "Epoch [61/150], Training MAE: 0.2866, Training RMSE: 0.4141\n",
      "Epoch [61/150], Validation MAE: 0.2188, Validation RMSE: 0.3318\n"
     ]
    },
    {
     "name": "stderr",
     "output_type": "stream",
     "text": [
      "Epoch 62/150: 100%|██████████| 189/189 [00:04<00:00, 45.36batch/s, mae_loss=0.259]\n"
     ]
    },
    {
     "name": "stdout",
     "output_type": "stream",
     "text": [
      "Epoch [62/150], Training MAE: 0.2860, Training RMSE: 0.4124\n",
      "Epoch [62/150], Validation MAE: 0.2154, Validation RMSE: 0.3297\n"
     ]
    },
    {
     "name": "stderr",
     "output_type": "stream",
     "text": [
      "Epoch 63/150: 100%|██████████| 189/189 [00:04<00:00, 42.41batch/s, mae_loss=0.204]\n"
     ]
    },
    {
     "name": "stdout",
     "output_type": "stream",
     "text": [
      "Epoch [63/150], Training MAE: 0.2855, Training RMSE: 0.4117\n",
      "Epoch [63/150], Validation MAE: 0.2172, Validation RMSE: 0.3303\n"
     ]
    },
    {
     "name": "stderr",
     "output_type": "stream",
     "text": [
      "Epoch 64/150: 100%|██████████| 189/189 [00:05<00:00, 36.09batch/s, mae_loss=0.354]\n"
     ]
    },
    {
     "name": "stdout",
     "output_type": "stream",
     "text": [
      "Epoch [64/150], Training MAE: 0.2867, Training RMSE: 0.4139\n",
      "Epoch [64/150], Validation MAE: 0.2168, Validation RMSE: 0.3312\n"
     ]
    },
    {
     "name": "stderr",
     "output_type": "stream",
     "text": [
      "Epoch 65/150: 100%|██████████| 189/189 [00:04<00:00, 44.69batch/s, mae_loss=0.267]\n"
     ]
    },
    {
     "name": "stdout",
     "output_type": "stream",
     "text": [
      "Epoch [65/150], Training MAE: 0.2853, Training RMSE: 0.4114\n",
      "Epoch [65/150], Validation MAE: 0.2153, Validation RMSE: 0.3299\n"
     ]
    },
    {
     "name": "stderr",
     "output_type": "stream",
     "text": [
      "Epoch 66/150: 100%|██████████| 189/189 [00:04<00:00, 46.02batch/s, mae_loss=0.325]\n"
     ]
    },
    {
     "name": "stdout",
     "output_type": "stream",
     "text": [
      "Epoch [66/150], Training MAE: 0.2837, Training RMSE: 0.4094\n",
      "Epoch [66/150], Validation MAE: 0.2157, Validation RMSE: 0.3302\n"
     ]
    },
    {
     "name": "stderr",
     "output_type": "stream",
     "text": [
      "Epoch 67/150: 100%|██████████| 189/189 [00:04<00:00, 46.77batch/s, mae_loss=0.199]\n"
     ]
    },
    {
     "name": "stdout",
     "output_type": "stream",
     "text": [
      "Epoch [67/150], Training MAE: 0.2838, Training RMSE: 0.4092\n",
      "Epoch [67/150], Validation MAE: 0.2151, Validation RMSE: 0.3291\n"
     ]
    },
    {
     "name": "stderr",
     "output_type": "stream",
     "text": [
      "Epoch 68/150: 100%|██████████| 189/189 [00:04<00:00, 39.44batch/s, mae_loss=0.343]\n"
     ]
    },
    {
     "name": "stdout",
     "output_type": "stream",
     "text": [
      "Epoch [68/150], Training MAE: 0.2854, Training RMSE: 0.4112\n",
      "Epoch [68/150], Validation MAE: 0.2147, Validation RMSE: 0.3289\n"
     ]
    },
    {
     "name": "stderr",
     "output_type": "stream",
     "text": [
      "Epoch 69/150: 100%|██████████| 189/189 [00:04<00:00, 45.37batch/s, mae_loss=0.401]\n"
     ]
    },
    {
     "name": "stdout",
     "output_type": "stream",
     "text": [
      "Epoch [69/150], Training MAE: 0.2834, Training RMSE: 0.4115\n",
      "Epoch [69/150], Validation MAE: 0.2145, Validation RMSE: 0.3289\n"
     ]
    },
    {
     "name": "stderr",
     "output_type": "stream",
     "text": [
      "Epoch 70/150: 100%|██████████| 189/189 [00:04<00:00, 46.02batch/s, mae_loss=0.227]\n"
     ]
    },
    {
     "name": "stdout",
     "output_type": "stream",
     "text": [
      "Epoch [70/150], Training MAE: 0.2833, Training RMSE: 0.4104\n",
      "Epoch [70/150], Validation MAE: 0.2134, Validation RMSE: 0.3281\n"
     ]
    },
    {
     "name": "stderr",
     "output_type": "stream",
     "text": [
      "Epoch 71/150: 100%|██████████| 189/189 [00:04<00:00, 46.13batch/s, mae_loss=0.318]\n"
     ]
    },
    {
     "name": "stdout",
     "output_type": "stream",
     "text": [
      "Epoch [71/150], Training MAE: 0.2835, Training RMSE: 0.4120\n",
      "Epoch [71/150], Validation MAE: 0.2150, Validation RMSE: 0.3286\n"
     ]
    },
    {
     "name": "stderr",
     "output_type": "stream",
     "text": [
      "Epoch 72/150: 100%|██████████| 189/189 [00:04<00:00, 44.77batch/s, mae_loss=0.359]\n"
     ]
    },
    {
     "name": "stdout",
     "output_type": "stream",
     "text": [
      "Epoch [72/150], Training MAE: 0.2838, Training RMSE: 0.4106\n",
      "Epoch [72/150], Validation MAE: 0.2140, Validation RMSE: 0.3278\n"
     ]
    },
    {
     "name": "stderr",
     "output_type": "stream",
     "text": [
      "Epoch 73/150: 100%|██████████| 189/189 [00:04<00:00, 44.93batch/s, mae_loss=0.255]\n"
     ]
    },
    {
     "name": "stdout",
     "output_type": "stream",
     "text": [
      "Epoch [73/150], Training MAE: 0.2809, Training RMSE: 0.4075\n",
      "Epoch [73/150], Validation MAE: 0.2128, Validation RMSE: 0.3264\n"
     ]
    },
    {
     "name": "stderr",
     "output_type": "stream",
     "text": [
      "Epoch 74/150: 100%|██████████| 189/189 [00:04<00:00, 45.60batch/s, mae_loss=0.252]\n"
     ]
    },
    {
     "name": "stdout",
     "output_type": "stream",
     "text": [
      "Epoch [74/150], Training MAE: 0.2828, Training RMSE: 0.4079\n",
      "Epoch [74/150], Validation MAE: 0.2142, Validation RMSE: 0.3281\n"
     ]
    },
    {
     "name": "stderr",
     "output_type": "stream",
     "text": [
      "Epoch 75/150: 100%|██████████| 189/189 [00:04<00:00, 46.39batch/s, mae_loss=0.231]\n"
     ]
    },
    {
     "name": "stdout",
     "output_type": "stream",
     "text": [
      "Epoch [75/150], Training MAE: 0.2838, Training RMSE: 0.4102\n",
      "Epoch [75/150], Validation MAE: 0.2160, Validation RMSE: 0.3285\n"
     ]
    },
    {
     "name": "stderr",
     "output_type": "stream",
     "text": [
      "Epoch 76/150: 100%|██████████| 189/189 [00:04<00:00, 46.31batch/s, mae_loss=0.261]\n"
     ]
    },
    {
     "name": "stdout",
     "output_type": "stream",
     "text": [
      "Epoch [76/150], Training MAE: 0.2805, Training RMSE: 0.4078\n",
      "Epoch [76/150], Validation MAE: 0.2149, Validation RMSE: 0.3283\n"
     ]
    },
    {
     "name": "stderr",
     "output_type": "stream",
     "text": [
      "Epoch 77/150: 100%|██████████| 189/189 [00:04<00:00, 44.86batch/s, mae_loss=0.306]\n"
     ]
    },
    {
     "name": "stdout",
     "output_type": "stream",
     "text": [
      "Epoch [77/150], Training MAE: 0.2810, Training RMSE: 0.4076\n",
      "Epoch [77/150], Validation MAE: 0.2140, Validation RMSE: 0.3280\n"
     ]
    },
    {
     "name": "stderr",
     "output_type": "stream",
     "text": [
      "Epoch 78/150: 100%|██████████| 189/189 [00:04<00:00, 46.14batch/s, mae_loss=0.268]\n"
     ]
    },
    {
     "name": "stdout",
     "output_type": "stream",
     "text": [
      "Epoch [78/150], Training MAE: 0.2829, Training RMSE: 0.4096\n",
      "Epoch [78/150], Validation MAE: 0.2142, Validation RMSE: 0.3271\n"
     ]
    },
    {
     "name": "stderr",
     "output_type": "stream",
     "text": [
      "Epoch 79/150: 100%|██████████| 189/189 [00:04<00:00, 45.75batch/s, mae_loss=0.307]\n"
     ]
    },
    {
     "name": "stdout",
     "output_type": "stream",
     "text": [
      "Epoch [79/150], Training MAE: 0.2813, Training RMSE: 0.4072\n",
      "Epoch [79/150], Validation MAE: 0.2127, Validation RMSE: 0.3268\n"
     ]
    },
    {
     "name": "stderr",
     "output_type": "stream",
     "text": [
      "Epoch 80/150: 100%|██████████| 189/189 [00:04<00:00, 44.10batch/s, mae_loss=0.248]\n"
     ]
    },
    {
     "name": "stdout",
     "output_type": "stream",
     "text": [
      "Epoch [80/150], Training MAE: 0.2818, Training RMSE: 0.4079\n",
      "Epoch [80/150], Validation MAE: 0.2131, Validation RMSE: 0.3277\n"
     ]
    },
    {
     "name": "stderr",
     "output_type": "stream",
     "text": [
      "Epoch 81/150: 100%|██████████| 189/189 [00:04<00:00, 45.75batch/s, mae_loss=0.258]\n"
     ]
    },
    {
     "name": "stdout",
     "output_type": "stream",
     "text": [
      "Epoch [81/150], Training MAE: 0.2816, Training RMSE: 0.4072\n",
      "Epoch [81/150], Validation MAE: 0.2131, Validation RMSE: 0.3265\n"
     ]
    },
    {
     "name": "stderr",
     "output_type": "stream",
     "text": [
      "Epoch 82/150: 100%|██████████| 189/189 [00:04<00:00, 42.96batch/s, mae_loss=0.309]\n"
     ]
    },
    {
     "name": "stdout",
     "output_type": "stream",
     "text": [
      "Epoch [82/150], Training MAE: 0.2802, Training RMSE: 0.4053\n",
      "Epoch [82/150], Validation MAE: 0.2133, Validation RMSE: 0.3269\n"
     ]
    },
    {
     "name": "stderr",
     "output_type": "stream",
     "text": [
      "Epoch 83/150: 100%|██████████| 189/189 [00:04<00:00, 43.99batch/s, mae_loss=0.308]\n"
     ]
    },
    {
     "name": "stdout",
     "output_type": "stream",
     "text": [
      "Epoch [83/150], Training MAE: 0.2825, Training RMSE: 0.4087\n",
      "Epoch [83/150], Validation MAE: 0.2130, Validation RMSE: 0.3268\n"
     ]
    },
    {
     "name": "stderr",
     "output_type": "stream",
     "text": [
      "Epoch 84/150: 100%|██████████| 189/189 [00:03<00:00, 47.70batch/s, mae_loss=0.326]\n"
     ]
    },
    {
     "name": "stdout",
     "output_type": "stream",
     "text": [
      "Epoch [84/150], Training MAE: 0.2800, Training RMSE: 0.4061\n",
      "Epoch [84/150], Validation MAE: 0.2128, Validation RMSE: 0.3268\n"
     ]
    },
    {
     "name": "stderr",
     "output_type": "stream",
     "text": [
      "Epoch 85/150: 100%|██████████| 189/189 [00:04<00:00, 45.66batch/s, mae_loss=0.298]\n"
     ]
    },
    {
     "name": "stdout",
     "output_type": "stream",
     "text": [
      "Epoch [85/150], Training MAE: 0.2801, Training RMSE: 0.4048\n",
      "Epoch [85/150], Validation MAE: 0.2128, Validation RMSE: 0.3260\n"
     ]
    },
    {
     "name": "stderr",
     "output_type": "stream",
     "text": [
      "Epoch 86/150: 100%|██████████| 189/189 [00:04<00:00, 44.56batch/s, mae_loss=0.183]\n"
     ]
    },
    {
     "name": "stdout",
     "output_type": "stream",
     "text": [
      "Epoch [86/150], Training MAE: 0.2791, Training RMSE: 0.4052\n",
      "Epoch [86/150], Validation MAE: 0.2125, Validation RMSE: 0.3271\n"
     ]
    },
    {
     "name": "stderr",
     "output_type": "stream",
     "text": [
      "Epoch 87/150: 100%|██████████| 189/189 [00:04<00:00, 43.30batch/s, mae_loss=0.232]\n"
     ]
    },
    {
     "name": "stdout",
     "output_type": "stream",
     "text": [
      "Epoch [87/150], Training MAE: 0.2804, Training RMSE: 0.4062\n",
      "Epoch [87/150], Validation MAE: 0.2115, Validation RMSE: 0.3254\n"
     ]
    },
    {
     "name": "stderr",
     "output_type": "stream",
     "text": [
      "Epoch 88/150: 100%|██████████| 189/189 [00:04<00:00, 45.45batch/s, mae_loss=0.314]\n"
     ]
    },
    {
     "name": "stdout",
     "output_type": "stream",
     "text": [
      "Epoch [88/150], Training MAE: 0.2775, Training RMSE: 0.4045\n",
      "Epoch [88/150], Validation MAE: 0.2117, Validation RMSE: 0.3255\n"
     ]
    },
    {
     "name": "stderr",
     "output_type": "stream",
     "text": [
      "Epoch 89/150: 100%|██████████| 189/189 [00:04<00:00, 44.98batch/s, mae_loss=0.302]\n"
     ]
    },
    {
     "name": "stdout",
     "output_type": "stream",
     "text": [
      "Epoch [89/150], Training MAE: 0.2797, Training RMSE: 0.4057\n",
      "Epoch [89/150], Validation MAE: 0.2133, Validation RMSE: 0.3266\n"
     ]
    },
    {
     "name": "stderr",
     "output_type": "stream",
     "text": [
      "Epoch 90/150: 100%|██████████| 189/189 [00:04<00:00, 46.00batch/s, mae_loss=0.255]\n"
     ]
    },
    {
     "name": "stdout",
     "output_type": "stream",
     "text": [
      "Epoch [90/150], Training MAE: 0.2783, Training RMSE: 0.4044\n",
      "Epoch [90/150], Validation MAE: 0.2117, Validation RMSE: 0.3249\n"
     ]
    },
    {
     "name": "stderr",
     "output_type": "stream",
     "text": [
      "Epoch 91/150: 100%|██████████| 189/189 [00:04<00:00, 45.95batch/s, mae_loss=0.291]\n"
     ]
    },
    {
     "name": "stdout",
     "output_type": "stream",
     "text": [
      "Epoch [91/150], Training MAE: 0.2780, Training RMSE: 0.4034\n",
      "Epoch [91/150], Validation MAE: 0.2111, Validation RMSE: 0.3245\n"
     ]
    },
    {
     "name": "stderr",
     "output_type": "stream",
     "text": [
      "Epoch 92/150: 100%|██████████| 189/189 [00:04<00:00, 44.72batch/s, mae_loss=0.195]\n"
     ]
    },
    {
     "name": "stdout",
     "output_type": "stream",
     "text": [
      "Epoch [92/150], Training MAE: 0.2790, Training RMSE: 0.4042\n",
      "Epoch [92/150], Validation MAE: 0.2149, Validation RMSE: 0.3256\n"
     ]
    },
    {
     "name": "stderr",
     "output_type": "stream",
     "text": [
      "Epoch 93/150: 100%|██████████| 189/189 [00:04<00:00, 42.57batch/s, mae_loss=0.292]\n"
     ]
    },
    {
     "name": "stdout",
     "output_type": "stream",
     "text": [
      "Epoch [93/150], Training MAE: 0.2797, Training RMSE: 0.4049\n",
      "Epoch [93/150], Validation MAE: 0.2109, Validation RMSE: 0.3244\n"
     ]
    },
    {
     "name": "stderr",
     "output_type": "stream",
     "text": [
      "Epoch 94/150: 100%|██████████| 189/189 [00:04<00:00, 45.10batch/s, mae_loss=0.153]\n"
     ]
    },
    {
     "name": "stdout",
     "output_type": "stream",
     "text": [
      "Epoch [94/150], Training MAE: 0.2777, Training RMSE: 0.4042\n",
      "Epoch [94/150], Validation MAE: 0.2124, Validation RMSE: 0.3254\n"
     ]
    },
    {
     "name": "stderr",
     "output_type": "stream",
     "text": [
      "Epoch 95/150: 100%|██████████| 189/189 [00:04<00:00, 40.15batch/s, mae_loss=0.2]  \n"
     ]
    },
    {
     "name": "stdout",
     "output_type": "stream",
     "text": [
      "Epoch [95/150], Training MAE: 0.2790, Training RMSE: 0.4044\n",
      "Epoch [95/150], Validation MAE: 0.2116, Validation RMSE: 0.3249\n"
     ]
    },
    {
     "name": "stderr",
     "output_type": "stream",
     "text": [
      "Epoch 96/150: 100%|██████████| 189/189 [00:05<00:00, 35.55batch/s, mae_loss=0.358]\n"
     ]
    },
    {
     "name": "stdout",
     "output_type": "stream",
     "text": [
      "Epoch [96/150], Training MAE: 0.2794, Training RMSE: 0.4037\n",
      "Epoch [96/150], Validation MAE: 0.2107, Validation RMSE: 0.3247\n"
     ]
    },
    {
     "name": "stderr",
     "output_type": "stream",
     "text": [
      "Epoch 97/150: 100%|██████████| 189/189 [00:04<00:00, 44.67batch/s, mae_loss=0.298]\n"
     ]
    },
    {
     "name": "stdout",
     "output_type": "stream",
     "text": [
      "Epoch [97/150], Training MAE: 0.2774, Training RMSE: 0.4022\n",
      "Epoch [97/150], Validation MAE: 0.2104, Validation RMSE: 0.3244\n"
     ]
    },
    {
     "name": "stderr",
     "output_type": "stream",
     "text": [
      "Epoch 98/150: 100%|██████████| 189/189 [00:04<00:00, 38.98batch/s, mae_loss=0.296]\n"
     ]
    },
    {
     "name": "stdout",
     "output_type": "stream",
     "text": [
      "Epoch [98/150], Training MAE: 0.2769, Training RMSE: 0.4026\n",
      "Epoch [98/150], Validation MAE: 0.2093, Validation RMSE: 0.3232\n"
     ]
    },
    {
     "name": "stderr",
     "output_type": "stream",
     "text": [
      "Epoch 99/150: 100%|██████████| 189/189 [00:04<00:00, 38.24batch/s, mae_loss=0.289]\n"
     ]
    },
    {
     "name": "stdout",
     "output_type": "stream",
     "text": [
      "Epoch [99/150], Training MAE: 0.2782, Training RMSE: 0.4029\n",
      "Epoch [99/150], Validation MAE: 0.2126, Validation RMSE: 0.3252\n"
     ]
    },
    {
     "name": "stderr",
     "output_type": "stream",
     "text": [
      "Epoch 100/150: 100%|██████████| 189/189 [00:06<00:00, 30.86batch/s, mae_loss=0.292]\n"
     ]
    },
    {
     "name": "stdout",
     "output_type": "stream",
     "text": [
      "Epoch [100/150], Training MAE: 0.2777, Training RMSE: 0.4032\n",
      "Epoch [100/150], Validation MAE: 0.2115, Validation RMSE: 0.3235\n"
     ]
    },
    {
     "name": "stderr",
     "output_type": "stream",
     "text": [
      "Epoch 101/150: 100%|██████████| 189/189 [00:05<00:00, 37.04batch/s, mae_loss=0.225]\n"
     ]
    },
    {
     "name": "stdout",
     "output_type": "stream",
     "text": [
      "Epoch [101/150], Training MAE: 0.2775, Training RMSE: 0.4031\n",
      "Epoch [101/150], Validation MAE: 0.2139, Validation RMSE: 0.3250\n"
     ]
    },
    {
     "name": "stderr",
     "output_type": "stream",
     "text": [
      "Epoch 102/150: 100%|██████████| 189/189 [00:05<00:00, 37.70batch/s, mae_loss=0.285]\n"
     ]
    },
    {
     "name": "stdout",
     "output_type": "stream",
     "text": [
      "Epoch [102/150], Training MAE: 0.2764, Training RMSE: 0.4023\n",
      "Epoch [102/150], Validation MAE: 0.2098, Validation RMSE: 0.3232\n"
     ]
    },
    {
     "name": "stderr",
     "output_type": "stream",
     "text": [
      "Epoch 103/150: 100%|██████████| 189/189 [00:05<00:00, 37.69batch/s, mae_loss=0.326]\n"
     ]
    },
    {
     "name": "stdout",
     "output_type": "stream",
     "text": [
      "Epoch [103/150], Training MAE: 0.2777, Training RMSE: 0.4031\n",
      "Epoch [103/150], Validation MAE: 0.2110, Validation RMSE: 0.3242\n"
     ]
    },
    {
     "name": "stderr",
     "output_type": "stream",
     "text": [
      "Epoch 104/150: 100%|██████████| 189/189 [00:04<00:00, 40.79batch/s, mae_loss=0.277]\n"
     ]
    },
    {
     "name": "stdout",
     "output_type": "stream",
     "text": [
      "Epoch [104/150], Training MAE: 0.2744, Training RMSE: 0.3997\n",
      "Epoch [104/150], Validation MAE: 0.2105, Validation RMSE: 0.3227\n"
     ]
    },
    {
     "name": "stderr",
     "output_type": "stream",
     "text": [
      "Epoch 105/150: 100%|██████████| 189/189 [00:04<00:00, 41.11batch/s, mae_loss=0.246]\n"
     ]
    },
    {
     "name": "stdout",
     "output_type": "stream",
     "text": [
      "Epoch [105/150], Training MAE: 0.2767, Training RMSE: 0.4030\n",
      "Epoch [105/150], Validation MAE: 0.2092, Validation RMSE: 0.3227\n"
     ]
    },
    {
     "name": "stderr",
     "output_type": "stream",
     "text": [
      "Epoch 106/150: 100%|██████████| 189/189 [00:04<00:00, 40.19batch/s, mae_loss=0.258]\n"
     ]
    },
    {
     "name": "stdout",
     "output_type": "stream",
     "text": [
      "Epoch [106/150], Training MAE: 0.2758, Training RMSE: 0.3999\n",
      "Epoch [106/150], Validation MAE: 0.2098, Validation RMSE: 0.3235\n"
     ]
    },
    {
     "name": "stderr",
     "output_type": "stream",
     "text": [
      "Epoch 107/150: 100%|██████████| 189/189 [00:04<00:00, 41.72batch/s, mae_loss=0.264]\n"
     ]
    },
    {
     "name": "stdout",
     "output_type": "stream",
     "text": [
      "Epoch [107/150], Training MAE: 0.2747, Training RMSE: 0.3992\n",
      "Epoch [107/150], Validation MAE: 0.2083, Validation RMSE: 0.3223\n"
     ]
    },
    {
     "name": "stderr",
     "output_type": "stream",
     "text": [
      "Epoch 108/150: 100%|██████████| 189/189 [00:05<00:00, 36.82batch/s, mae_loss=0.287]\n"
     ]
    },
    {
     "name": "stdout",
     "output_type": "stream",
     "text": [
      "Epoch [108/150], Training MAE: 0.2765, Training RMSE: 0.4021\n",
      "Epoch [108/150], Validation MAE: 0.2091, Validation RMSE: 0.3231\n"
     ]
    },
    {
     "name": "stderr",
     "output_type": "stream",
     "text": [
      "Epoch 109/150: 100%|██████████| 189/189 [00:04<00:00, 41.16batch/s, mae_loss=0.219]\n"
     ]
    },
    {
     "name": "stdout",
     "output_type": "stream",
     "text": [
      "Epoch [109/150], Training MAE: 0.2761, Training RMSE: 0.4008\n",
      "Epoch [109/150], Validation MAE: 0.2095, Validation RMSE: 0.3223\n"
     ]
    },
    {
     "name": "stderr",
     "output_type": "stream",
     "text": [
      "Epoch 110/150: 100%|██████████| 189/189 [00:04<00:00, 38.53batch/s, mae_loss=0.301]\n"
     ]
    },
    {
     "name": "stdout",
     "output_type": "stream",
     "text": [
      "Epoch [110/150], Training MAE: 0.2751, Training RMSE: 0.4010\n",
      "Epoch [110/150], Validation MAE: 0.2086, Validation RMSE: 0.3230\n"
     ]
    },
    {
     "name": "stderr",
     "output_type": "stream",
     "text": [
      "Epoch 111/150: 100%|██████████| 189/189 [00:04<00:00, 38.38batch/s, mae_loss=0.333]\n"
     ]
    },
    {
     "name": "stdout",
     "output_type": "stream",
     "text": [
      "Epoch [111/150], Training MAE: 0.2743, Training RMSE: 0.4000\n",
      "Epoch [111/150], Validation MAE: 0.2101, Validation RMSE: 0.3228\n"
     ]
    },
    {
     "name": "stderr",
     "output_type": "stream",
     "text": [
      "Epoch 112/150: 100%|██████████| 189/189 [00:04<00:00, 38.17batch/s, mae_loss=0.27] \n"
     ]
    },
    {
     "name": "stdout",
     "output_type": "stream",
     "text": [
      "Epoch [112/150], Training MAE: 0.2745, Training RMSE: 0.3992\n",
      "Epoch [112/150], Validation MAE: 0.2085, Validation RMSE: 0.3229\n"
     ]
    },
    {
     "name": "stderr",
     "output_type": "stream",
     "text": [
      "Epoch 113/150: 100%|██████████| 189/189 [00:04<00:00, 39.42batch/s, mae_loss=0.306]\n"
     ]
    },
    {
     "name": "stdout",
     "output_type": "stream",
     "text": [
      "Epoch [113/150], Training MAE: 0.2761, Training RMSE: 0.4026\n",
      "Epoch [113/150], Validation MAE: 0.2083, Validation RMSE: 0.3229\n"
     ]
    },
    {
     "name": "stderr",
     "output_type": "stream",
     "text": [
      "Epoch 114/150: 100%|██████████| 189/189 [00:04<00:00, 38.14batch/s, mae_loss=0.227]\n"
     ]
    },
    {
     "name": "stdout",
     "output_type": "stream",
     "text": [
      "Epoch [114/150], Training MAE: 0.2749, Training RMSE: 0.3989\n",
      "Epoch [114/150], Validation MAE: 0.2093, Validation RMSE: 0.3236\n"
     ]
    },
    {
     "name": "stderr",
     "output_type": "stream",
     "text": [
      "Epoch 115/150: 100%|██████████| 189/189 [00:04<00:00, 39.13batch/s, mae_loss=0.256]\n"
     ]
    },
    {
     "name": "stdout",
     "output_type": "stream",
     "text": [
      "Epoch [115/150], Training MAE: 0.2733, Training RMSE: 0.3978\n",
      "Epoch [115/150], Validation MAE: 0.2093, Validation RMSE: 0.3216\n"
     ]
    },
    {
     "name": "stderr",
     "output_type": "stream",
     "text": [
      "Epoch 116/150: 100%|██████████| 189/189 [00:04<00:00, 42.61batch/s, mae_loss=0.221]\n"
     ]
    },
    {
     "name": "stdout",
     "output_type": "stream",
     "text": [
      "Epoch [116/150], Training MAE: 0.2747, Training RMSE: 0.3996\n",
      "Epoch [116/150], Validation MAE: 0.2095, Validation RMSE: 0.3225\n"
     ]
    },
    {
     "name": "stderr",
     "output_type": "stream",
     "text": [
      "Epoch 117/150: 100%|██████████| 189/189 [00:04<00:00, 44.93batch/s, mae_loss=0.244]\n"
     ]
    },
    {
     "name": "stdout",
     "output_type": "stream",
     "text": [
      "Epoch [117/150], Training MAE: 0.2740, Training RMSE: 0.3992\n",
      "Epoch [117/150], Validation MAE: 0.2095, Validation RMSE: 0.3220\n"
     ]
    },
    {
     "name": "stderr",
     "output_type": "stream",
     "text": [
      "Epoch 118/150: 100%|██████████| 189/189 [00:04<00:00, 44.96batch/s, mae_loss=0.194]\n"
     ]
    },
    {
     "name": "stdout",
     "output_type": "stream",
     "text": [
      "Epoch [118/150], Training MAE: 0.2720, Training RMSE: 0.3959\n",
      "Epoch [118/150], Validation MAE: 0.2119, Validation RMSE: 0.3244\n"
     ]
    },
    {
     "name": "stderr",
     "output_type": "stream",
     "text": [
      "Epoch 119/150: 100%|██████████| 189/189 [00:04<00:00, 46.66batch/s, mae_loss=0.253]\n"
     ]
    },
    {
     "name": "stdout",
     "output_type": "stream",
     "text": [
      "Epoch [119/150], Training MAE: 0.2755, Training RMSE: 0.4019\n",
      "Epoch [119/150], Validation MAE: 0.2091, Validation RMSE: 0.3236\n"
     ]
    },
    {
     "name": "stderr",
     "output_type": "stream",
     "text": [
      "Epoch 120/150: 100%|██████████| 189/189 [00:04<00:00, 44.18batch/s, mae_loss=0.328]\n"
     ]
    },
    {
     "name": "stdout",
     "output_type": "stream",
     "text": [
      "Epoch [120/150], Training MAE: 0.2739, Training RMSE: 0.3985\n",
      "Epoch [120/150], Validation MAE: 0.2101, Validation RMSE: 0.3223\n"
     ]
    },
    {
     "name": "stderr",
     "output_type": "stream",
     "text": [
      "Epoch 121/150: 100%|██████████| 189/189 [00:04<00:00, 44.44batch/s, mae_loss=0.251]\n"
     ]
    },
    {
     "name": "stdout",
     "output_type": "stream",
     "text": [
      "Epoch [121/150], Training MAE: 0.2747, Training RMSE: 0.3996\n",
      "Epoch [121/150], Validation MAE: 0.2106, Validation RMSE: 0.3233\n"
     ]
    },
    {
     "name": "stderr",
     "output_type": "stream",
     "text": [
      "Epoch 122/150: 100%|██████████| 189/189 [00:04<00:00, 46.77batch/s, mae_loss=0.403]\n"
     ]
    },
    {
     "name": "stdout",
     "output_type": "stream",
     "text": [
      "Epoch [122/150], Training MAE: 0.2747, Training RMSE: 0.3991\n",
      "Epoch [122/150], Validation MAE: 0.2085, Validation RMSE: 0.3222\n"
     ]
    },
    {
     "name": "stderr",
     "output_type": "stream",
     "text": [
      "Epoch 123/150: 100%|██████████| 189/189 [00:04<00:00, 46.17batch/s, mae_loss=0.25] \n"
     ]
    },
    {
     "name": "stdout",
     "output_type": "stream",
     "text": [
      "Epoch [123/150], Training MAE: 0.2744, Training RMSE: 0.4002\n",
      "Epoch [123/150], Validation MAE: 0.2088, Validation RMSE: 0.3223\n"
     ]
    },
    {
     "name": "stderr",
     "output_type": "stream",
     "text": [
      "Epoch 124/150: 100%|██████████| 189/189 [00:03<00:00, 53.24batch/s, mae_loss=0.375]\n"
     ]
    },
    {
     "name": "stdout",
     "output_type": "stream",
     "text": [
      "Epoch [124/150], Training MAE: 0.2737, Training RMSE: 0.4004\n",
      "Epoch [124/150], Validation MAE: 0.2086, Validation RMSE: 0.3217\n"
     ]
    },
    {
     "name": "stderr",
     "output_type": "stream",
     "text": [
      "Epoch 125/150: 100%|██████████| 189/189 [00:03<00:00, 53.66batch/s, mae_loss=0.358]\n"
     ]
    },
    {
     "name": "stdout",
     "output_type": "stream",
     "text": [
      "Epoch [125/150], Training MAE: 0.2736, Training RMSE: 0.3978\n",
      "Epoch [125/150], Validation MAE: 0.2125, Validation RMSE: 0.3247\n"
     ]
    },
    {
     "name": "stderr",
     "output_type": "stream",
     "text": [
      "Epoch 126/150: 100%|██████████| 189/189 [00:04<00:00, 42.01batch/s, mae_loss=0.23] \n"
     ]
    },
    {
     "name": "stdout",
     "output_type": "stream",
     "text": [
      "Epoch [126/150], Training MAE: 0.2738, Training RMSE: 0.3983\n",
      "Epoch [126/150], Validation MAE: 0.2092, Validation RMSE: 0.3216\n"
     ]
    },
    {
     "name": "stderr",
     "output_type": "stream",
     "text": [
      "Epoch 127/150: 100%|██████████| 189/189 [00:03<00:00, 50.11batch/s, mae_loss=0.279]\n"
     ]
    },
    {
     "name": "stdout",
     "output_type": "stream",
     "text": [
      "Epoch [127/150], Training MAE: 0.2733, Training RMSE: 0.3983\n",
      "Epoch [127/150], Validation MAE: 0.2084, Validation RMSE: 0.3217\n"
     ]
    },
    {
     "name": "stderr",
     "output_type": "stream",
     "text": [
      "Epoch 128/150: 100%|██████████| 189/189 [00:03<00:00, 47.69batch/s, mae_loss=0.255]\n"
     ]
    },
    {
     "name": "stdout",
     "output_type": "stream",
     "text": [
      "Epoch [128/150], Training MAE: 0.2729, Training RMSE: 0.3984\n",
      "Epoch [128/150], Validation MAE: 0.2096, Validation RMSE: 0.3231\n"
     ]
    },
    {
     "name": "stderr",
     "output_type": "stream",
     "text": [
      "Epoch 129/150: 100%|██████████| 189/189 [00:03<00:00, 47.46batch/s, mae_loss=0.255]\n"
     ]
    },
    {
     "name": "stdout",
     "output_type": "stream",
     "text": [
      "Epoch [129/150], Training MAE: 0.2729, Training RMSE: 0.3969\n",
      "Epoch [129/150], Validation MAE: 0.2068, Validation RMSE: 0.3215\n"
     ]
    },
    {
     "name": "stderr",
     "output_type": "stream",
     "text": [
      "Epoch 130/150: 100%|██████████| 189/189 [00:03<00:00, 47.85batch/s, mae_loss=0.225]\n"
     ]
    },
    {
     "name": "stdout",
     "output_type": "stream",
     "text": [
      "Epoch [130/150], Training MAE: 0.2730, Training RMSE: 0.3980\n",
      "Epoch [130/150], Validation MAE: 0.2102, Validation RMSE: 0.3228\n"
     ]
    },
    {
     "name": "stderr",
     "output_type": "stream",
     "text": [
      "Epoch 131/150: 100%|██████████| 189/189 [00:03<00:00, 48.28batch/s, mae_loss=0.198]\n"
     ]
    },
    {
     "name": "stdout",
     "output_type": "stream",
     "text": [
      "Epoch [131/150], Training MAE: 0.2722, Training RMSE: 0.3972\n",
      "Epoch [131/150], Validation MAE: 0.2089, Validation RMSE: 0.3227\n"
     ]
    },
    {
     "name": "stderr",
     "output_type": "stream",
     "text": [
      "Epoch 132/150: 100%|██████████| 189/189 [00:03<00:00, 47.37batch/s, mae_loss=0.275]\n"
     ]
    },
    {
     "name": "stdout",
     "output_type": "stream",
     "text": [
      "Epoch [132/150], Training MAE: 0.2716, Training RMSE: 0.3978\n",
      "Epoch [132/150], Validation MAE: 0.2076, Validation RMSE: 0.3220\n"
     ]
    },
    {
     "name": "stderr",
     "output_type": "stream",
     "text": [
      "Epoch 133/150: 100%|██████████| 189/189 [00:04<00:00, 46.74batch/s, mae_loss=0.287]\n"
     ]
    },
    {
     "name": "stdout",
     "output_type": "stream",
     "text": [
      "Epoch [133/150], Training MAE: 0.2741, Training RMSE: 0.3987\n",
      "Epoch [133/150], Validation MAE: 0.2081, Validation RMSE: 0.3209\n"
     ]
    },
    {
     "name": "stderr",
     "output_type": "stream",
     "text": [
      "Epoch 134/150: 100%|██████████| 189/189 [00:04<00:00, 47.10batch/s, mae_loss=0.285]\n"
     ]
    },
    {
     "name": "stdout",
     "output_type": "stream",
     "text": [
      "Epoch [134/150], Training MAE: 0.2726, Training RMSE: 0.3970\n",
      "Epoch [134/150], Validation MAE: 0.2083, Validation RMSE: 0.3203\n"
     ]
    },
    {
     "name": "stderr",
     "output_type": "stream",
     "text": [
      "Epoch 135/150: 100%|██████████| 189/189 [00:04<00:00, 47.11batch/s, mae_loss=0.304]\n"
     ]
    },
    {
     "name": "stdout",
     "output_type": "stream",
     "text": [
      "Epoch [135/150], Training MAE: 0.2718, Training RMSE: 0.3957\n",
      "Epoch [135/150], Validation MAE: 0.2093, Validation RMSE: 0.3220\n"
     ]
    },
    {
     "name": "stderr",
     "output_type": "stream",
     "text": [
      "Epoch 136/150: 100%|██████████| 189/189 [00:04<00:00, 44.21batch/s, mae_loss=0.251]\n"
     ]
    },
    {
     "name": "stdout",
     "output_type": "stream",
     "text": [
      "Epoch [136/150], Training MAE: 0.2717, Training RMSE: 0.3969\n",
      "Epoch [136/150], Validation MAE: 0.2068, Validation RMSE: 0.3209\n"
     ]
    },
    {
     "name": "stderr",
     "output_type": "stream",
     "text": [
      "Epoch 137/150: 100%|██████████| 189/189 [00:03<00:00, 51.98batch/s, mae_loss=0.278]\n"
     ]
    },
    {
     "name": "stdout",
     "output_type": "stream",
     "text": [
      "Epoch [137/150], Training MAE: 0.2719, Training RMSE: 0.3983\n",
      "Epoch [137/150], Validation MAE: 0.2076, Validation RMSE: 0.3206\n"
     ]
    },
    {
     "name": "stderr",
     "output_type": "stream",
     "text": [
      "Epoch 138/150: 100%|██████████| 189/189 [00:03<00:00, 53.19batch/s, mae_loss=0.281]\n"
     ]
    },
    {
     "name": "stdout",
     "output_type": "stream",
     "text": [
      "Epoch [138/150], Training MAE: 0.2718, Training RMSE: 0.3957\n",
      "Epoch [138/150], Validation MAE: 0.2089, Validation RMSE: 0.3212\n"
     ]
    },
    {
     "name": "stderr",
     "output_type": "stream",
     "text": [
      "Epoch 139/150: 100%|██████████| 189/189 [00:04<00:00, 44.81batch/s, mae_loss=0.257]\n"
     ]
    },
    {
     "name": "stdout",
     "output_type": "stream",
     "text": [
      "Epoch [139/150], Training MAE: 0.2710, Training RMSE: 0.3960\n",
      "Epoch [139/150], Validation MAE: 0.2081, Validation RMSE: 0.3220\n"
     ]
    },
    {
     "name": "stderr",
     "output_type": "stream",
     "text": [
      "Epoch 140/150: 100%|██████████| 189/189 [00:04<00:00, 44.90batch/s, mae_loss=0.284]\n"
     ]
    },
    {
     "name": "stdout",
     "output_type": "stream",
     "text": [
      "Epoch [140/150], Training MAE: 0.2724, Training RMSE: 0.3978\n",
      "Epoch [140/150], Validation MAE: 0.2083, Validation RMSE: 0.3211\n"
     ]
    },
    {
     "name": "stderr",
     "output_type": "stream",
     "text": [
      "Epoch 141/150: 100%|██████████| 189/189 [00:04<00:00, 44.12batch/s, mae_loss=0.354]\n"
     ]
    },
    {
     "name": "stdout",
     "output_type": "stream",
     "text": [
      "Epoch [141/150], Training MAE: 0.2722, Training RMSE: 0.3971\n",
      "Epoch [141/150], Validation MAE: 0.2077, Validation RMSE: 0.3208\n"
     ]
    },
    {
     "name": "stderr",
     "output_type": "stream",
     "text": [
      "Epoch 142/150: 100%|██████████| 189/189 [00:04<00:00, 44.68batch/s, mae_loss=0.228]\n"
     ]
    },
    {
     "name": "stdout",
     "output_type": "stream",
     "text": [
      "Epoch [142/150], Training MAE: 0.2728, Training RMSE: 0.3986\n",
      "Epoch [142/150], Validation MAE: 0.2082, Validation RMSE: 0.3205\n"
     ]
    },
    {
     "name": "stderr",
     "output_type": "stream",
     "text": [
      "Epoch 143/150: 100%|██████████| 189/189 [00:04<00:00, 46.62batch/s, mae_loss=0.218]\n"
     ]
    },
    {
     "name": "stdout",
     "output_type": "stream",
     "text": [
      "Epoch [143/150], Training MAE: 0.2709, Training RMSE: 0.3945\n",
      "Epoch [143/150], Validation MAE: 0.2095, Validation RMSE: 0.3209\n"
     ]
    },
    {
     "name": "stderr",
     "output_type": "stream",
     "text": [
      "Epoch 144/150: 100%|██████████| 189/189 [00:03<00:00, 48.96batch/s, mae_loss=0.262]\n"
     ]
    },
    {
     "name": "stdout",
     "output_type": "stream",
     "text": [
      "Epoch [144/150], Training MAE: 0.2701, Training RMSE: 0.3943\n",
      "Epoch [144/150], Validation MAE: 0.2081, Validation RMSE: 0.3208\n"
     ]
    },
    {
     "name": "stderr",
     "output_type": "stream",
     "text": [
      "Epoch 145/150: 100%|██████████| 189/189 [00:04<00:00, 43.88batch/s, mae_loss=0.248]\n"
     ]
    },
    {
     "name": "stdout",
     "output_type": "stream",
     "text": [
      "Epoch [145/150], Training MAE: 0.2721, Training RMSE: 0.3977\n",
      "Epoch [145/150], Validation MAE: 0.2077, Validation RMSE: 0.3216\n"
     ]
    },
    {
     "name": "stderr",
     "output_type": "stream",
     "text": [
      "Epoch 146/150: 100%|██████████| 189/189 [00:04<00:00, 47.06batch/s, mae_loss=0.244]\n"
     ]
    },
    {
     "name": "stdout",
     "output_type": "stream",
     "text": [
      "Epoch [146/150], Training MAE: 0.2711, Training RMSE: 0.3949\n",
      "Epoch [146/150], Validation MAE: 0.2061, Validation RMSE: 0.3197\n"
     ]
    },
    {
     "name": "stderr",
     "output_type": "stream",
     "text": [
      "Epoch 147/150: 100%|██████████| 189/189 [00:04<00:00, 46.67batch/s, mae_loss=0.207]\n"
     ]
    },
    {
     "name": "stdout",
     "output_type": "stream",
     "text": [
      "Epoch [147/150], Training MAE: 0.2698, Training RMSE: 0.3956\n",
      "Epoch [147/150], Validation MAE: 0.2069, Validation RMSE: 0.3208\n"
     ]
    },
    {
     "name": "stderr",
     "output_type": "stream",
     "text": [
      "Epoch 148/150: 100%|██████████| 189/189 [00:04<00:00, 45.69batch/s, mae_loss=0.309]\n"
     ]
    },
    {
     "name": "stdout",
     "output_type": "stream",
     "text": [
      "Epoch [148/150], Training MAE: 0.2719, Training RMSE: 0.3954\n",
      "Epoch [148/150], Validation MAE: 0.2071, Validation RMSE: 0.3211\n"
     ]
    },
    {
     "name": "stderr",
     "output_type": "stream",
     "text": [
      "Epoch 149/150: 100%|██████████| 189/189 [00:03<00:00, 48.05batch/s, mae_loss=0.356]\n"
     ]
    },
    {
     "name": "stdout",
     "output_type": "stream",
     "text": [
      "Epoch [149/150], Training MAE: 0.2707, Training RMSE: 0.3962\n",
      "Epoch [149/150], Validation MAE: 0.2064, Validation RMSE: 0.3201\n"
     ]
    },
    {
     "name": "stderr",
     "output_type": "stream",
     "text": [
      "Epoch 150/150: 100%|██████████| 189/189 [00:04<00:00, 47.16batch/s, mae_loss=0.238]\n"
     ]
    },
    {
     "name": "stdout",
     "output_type": "stream",
     "text": [
      "Epoch [150/150], Training MAE: 0.2700, Training RMSE: 0.3950\n",
      "Epoch [150/150], Validation MAE: 0.2079, Validation RMSE: 0.3201\n"
     ]
    }
   ],
   "source": [
    "prediction_horizon = 6\n",
    "\n",
    "\n",
    "for i, patient in enumerate(train_patients.items()):\n",
    "    patient_code = patient[0]\n",
    "    df = patient[1]\n",
    "\n",
    "    print(f\"Patient {patient_code}\")\n",
    "    # print(df)\n",
    "\n",
    "    df_test = list(test_patients.values())[i]\n",
    "\n",
    "\n",
    "    train_loader, validation_loader, all_train_loader, test_loader, input_shape, input_shape_test, output_shape, output_shape_test =  prepare_data_loader(\n",
    "                                                                                        window_size,BATCH_SIZE, prediction_horizon,\n",
    "                                                                                        model_type , split_ratio=0.8, df = df, df_test = df_test, output_folder_train = None, shuffle = True)\n",
    "    model_all_train = PersonalizedModelWithAttention(input_shape =input_shape , output_shape=output_shape) \n",
    "    model_all_train = model_all_train.to(device)\n",
    "    model_all_train, history2 = train_model(model_all_train, all_train_loader, val_loader = test_loader, epochs=150, learning_rate=0.00001, model_type = model_type)\n",
    "\n",
    "    histories_noval_PHs[prediction_horizon] = history2\n",
    "    break"
   ]
  },
  {
   "cell_type": "code",
   "execution_count": 6,
   "metadata": {},
   "outputs": [],
   "source": [
    "pd.DataFrame(histories_noval_PHs[6]).to_csv(\"saved_models\\\\loss_ph6_personalized.csv\")"
   ]
  },
  {
   "cell_type": "code",
   "execution_count": null,
   "metadata": {},
   "outputs": [],
   "source": [
    "for prediction_horizon in prediction_horizons:\n",
    "  logger.info(f\"Start Prediction Horizon {prediction_horizon} of {model_type} model\")\n",
    "  print(f\"Start Prediction Horizon {prediction_horizon} of {model_type} model\")\n",
    "\n",
    "\n",
    "  for i, patient in enumerate(train_patients.items()):\n",
    "    patient_code = patient[0]\n",
    "    df = patient[1]\n",
    "    logger.info(f\"Patient {patient_code}\")\n",
    "    print(f\"Patient {patient_code}\")\n",
    "\n",
    "    df_test = list(test_patients.values())[i]\n",
    "    \n",
    "\n",
    "    train_loader, validation_loader, all_train_loader, test_loader, input_shape, input_shape_test, output_shape, output_shape_test =  prepare_data_loader(\n",
    "                                                                                        window_size,BATCH_SIZE, prediction_horizon,\n",
    "                                                                                        model_type , split_ratio=0.8, df = df, df_test = df_test, output_folder_train = None, shuffle = True)\n",
    "    for r in range(5):\n",
    "        model_all_train = PersonalizedModelWithAttention(input_shape =input_shape , output_shape=output_shape) \n",
    "        model_all_train = model_all_train.to(device)\n",
    "        model_all_train, history2 = train_model(model_all_train, all_train_loader, val_loader = test_loader, epochs=100, learning_rate=0.00001, model_type = model_type)\n",
    "\n",
    "        model_all_train.eval()\n",
    "\n",
    "        torch.save(model_all_train.state_dict(), f'saved_models//model_{model_type}_{str(prediction_horizon)}_{str(patient_code)}_{r}.pth')\n",
    "        \n",
    "        print(f\"model_{model_type}_{str(prediction_horizon)}_{str(patient_code)}_{r} saved\")\n",
    "        logger.info(f\"model_{model_type}_{str(prediction_horizon)}_{str(patient_code)}_{r} saved\")\n",
    "\n",
    "  logger.info(f\"End Prediction Horizon of {prediction_horizon} of {model_type} Model\")\n",
    "  print(f\"End Prediction Horizon of {prediction_horizon} of {model_type} Model\")\n",
    "\n"
   ]
  },
  {
   "cell_type": "code",
   "execution_count": 4,
   "metadata": {},
   "outputs": [],
   "source": [
    "abs_patients_errors_PHs =  {key: [] for key in prediction_horizons}\n",
    "squared_patients_errors_PHs =  {key: [] for key in prediction_horizons}\n",
    "\n",
    "for prediction_horizon in prediction_horizons:\n",
    "    all_test_mae =  {key: [] for key in train_patients.keys()}\n",
    "    all_test_rmse =  {key: [] for key in train_patients.keys()}\n",
    "    patient_mae = []\n",
    "    patient_rmse = []\n",
    "\n",
    "    for i, patient in enumerate(train_patients.items()):\n",
    "        patient_code = patient[0]\n",
    "        df = patient[1]\n",
    "        df_test = list(test_patients.values())[i]\n",
    "        \n",
    "\n",
    "        train_loader, validation_loader, all_train_loader, test_loader, input_shape, input_shape_test, output_shape, output_shape_test =  prepare_data_loader(\n",
    "                                                                                            window_size,BATCH_SIZE, prediction_horizon,\n",
    "                                                                                            model_type , split_ratio=0.8, df = df, df_test = df_test, output_folder_train = None, shuffle = False)\n",
    "        multiple_runs_each_patient_mae = []\n",
    "        multiple_runs_each_patient_rmse = []\n",
    "        for r in range(5):\n",
    "            model_all_train_read =  PersonalizedModelWithAttention(input_shape =input_shape , output_shape=output_shape)\n",
    "            model_all_train_read.load_state_dict(torch.load(f'saved_models//model_{model_type}_{str(prediction_horizon)}_{str(patient_code)}_{r}.pth',weights_only=False))\n",
    "            model_all_train_read.to(device)\n",
    "            model_all_train_read.eval()\n",
    "            each_patient_mae, each_patient_rmse= evaluate_test(model_all_train_read,test_loader, device ,scaler, mask_value, model_type = model_type)\n",
    "            \n",
    "            multiple_runs_each_patient_mae.append(each_patient_mae)\n",
    "            multiple_runs_each_patient_rmse.append(each_patient_rmse)\n",
    "        patient_mae.append(multiple_runs_each_patient_mae)\n",
    "        patient_rmse.append(multiple_runs_each_patient_rmse)\n",
    "        all_test_mae[patient_code] = multiple_runs_each_patient_mae\n",
    "        all_test_rmse[patient_code] = multiple_runs_each_patient_rmse\n",
    "\n",
    "    abs_patients_errors_PHs[prediction_horizon] = all_test_mae\n",
    "    squared_patients_errors_PHs[prediction_horizon] = all_test_rmse\n"
   ]
  },
  {
   "cell_type": "code",
   "execution_count": null,
   "metadata": {},
   "outputs": [],
   "source": [
    "abs_patients_errors_PHs_df = pd.DataFrame()\n",
    "mean_ph = []\n",
    "for i, patient_mae in enumerate(abs_patients_errors_PHs.values()):\n",
    "\n",
    "    grouped_values = defaultdict(list)\n",
    "\n",
    "    # Group values by keys\n",
    "    for d in abs_patients_errors_PHs[prediction_horizons[i]].items():\n",
    "        grouped_values[d[0]].append(d[1])\n",
    "\n",
    "    test_list = [values[0] for values in grouped_values.values()]\n",
    "    \n",
    "\n",
    "    mean_values = {key: np.mean(values) for key, values in grouped_values.items()}\n",
    "    std_values = {key: np.std(values, ddof=1) for key, values in grouped_values.items()}\n",
    "\n",
    "\n",
    "    mean_std = [f\"{mean_values[i]:.2f} ± {std_values[i]:.2f}\" for i in patients_list]\n",
    "    abs_patients_errors_PHs_df[prediction_horizons[i]] = mean_std\n",
    "\n",
    "    mean_all_patients = np.mean(list(mean_values.values()))\n",
    "    mean_all_patients = [f\"{mean_values[i]:.2f} ± {std_values[i]:.2f}\"for i in patients_list]\n",
    "    \n",
    "    mean_values = {key: np.mean(values) for key, values in grouped_values.items()}\n",
    "\n",
    "\n",
    "    mean_all = [np.mean(patient_mae[i]) for i in patients_list]\n",
    "\n",
    "\n",
    "    std_each_run = np.std([np.mean([one[i] for one in test_list]) for i in range(5)])\n",
    "    mean_std_all = [f\"{np.mean(mean_all) :.2f} ± {std_each_run:.2f}\" for i in range(5)]\n",
    "\n",
    "    mean_ph.append(mean_std_all[0])\n",
    "\n",
    "abs_patients_errors_PHs_df.loc[len(abs_patients_errors_PHs_df.index)] = mean_ph\n",
    "abs_patients_errors_PHs_df.index = patients_list+[\"Mean\"]\n",
    "\n",
    "abs_patients_errors_PHs_df"
   ]
  },
  {
   "cell_type": "code",
   "execution_count": null,
   "metadata": {},
   "outputs": [],
   "source": [
    "squared_patients_errors_PHs_df = pd.DataFrame()\n",
    "mean_ph = []\n",
    "for i, patient_mae in enumerate(squared_patients_errors_PHs.values()):\n",
    "\n",
    "    grouped_values = defaultdict(list)\n",
    "\n",
    "    # Group values by keys\n",
    "    for d in squared_patients_errors_PHs[prediction_horizons[i]].items():\n",
    "        grouped_values[d[0]].append(d[1])\n",
    "\n",
    "    test_list = [values[0] for values in grouped_values.values()]\n",
    "    \n",
    "\n",
    "\n",
    "    mean_values = {key: np.mean(values) for key, values in grouped_values.items()}\n",
    "    std_values = {key: np.std(values, ddof=1) for key, values in grouped_values.items()}\n",
    "\n",
    "\n",
    "    mean_std = [f\"{mean_values[i]:.2f} ± {std_values[i]:.2f}\" for i in patients_list]\n",
    "    squared_patients_errors_PHs_df[prediction_horizons[i]] = mean_std\n",
    "\n",
    "    mean_all_patients = np.mean(list(mean_values.values()))\n",
    "    mean_all_patients = [f\"{mean_values[i]:.2f} ± {std_values[i]:.2f}\"for i in patients_list]\n",
    "    \n",
    "    mean_values = {key: np.mean(values) for key, values in grouped_values.items()}\n",
    "\n",
    "\n",
    "    mean_all = [np.mean(patient_mae[i]) for i in patients_list]\n",
    "\n",
    " \n",
    "    std_each_run = np.std([np.mean([one[i] for one in test_list]) for i in range(5)])\n",
    "    mean_std_all = [f\"{np.mean(mean_all) :.2f} ± {std_each_run:.2f}\" for i in range(5)]\n",
    "\n",
    "    mean_ph.append(mean_std_all[0])\n",
    "\n",
    "\n",
    "squared_patients_errors_PHs_df.loc[len(squared_patients_errors_PHs_df.index)] = mean_ph\n",
    "squared_patients_errors_PHs_df.index = patients_list+[\"Mean\"]\n",
    "\n",
    "squared_patients_errors_PHs_df"
   ]
  },
  {
   "cell_type": "code",
   "execution_count": null,
   "metadata": {},
   "outputs": [],
   "source": [
    "\n",
    "\n",
    "# Instantiate the model for 12 tasks\n",
    "input_shape = (64, 12, 1)  # Example input shape: batch_size, sequence_length, input_channels\n",
    "output_tasks = 1           # Number of tasks\n",
    "\n",
    "# Instantiate the model\n",
    "model = PersonalizedModelWithAttention(input_shape=input_shape, output_shape=(output_tasks,))\n",
    "model.to(device)\n",
    "# Count the parameters\n",
    "total_params = count_parameters(model)\n",
    "print(f\"Total parameters in the model with {output_tasks} tasks: {total_params}\")\n"
   ]
  },
  {
   "cell_type": "code",
   "execution_count": null,
   "metadata": {},
   "outputs": [],
   "source": [
    "# 170177 * 12 \n",
    "# 2,042,124"
   ]
  },
  {
   "cell_type": "code",
   "execution_count": null,
   "metadata": {},
   "outputs": [],
   "source": [
    "for i in histories_noval_PHs.items():\n",
    "    print(f\"Prediction horizon {i[0]}\")\n",
    "    plot_loss_curves(i[1])\n",
    "    break"
   ]
  }
 ],
 "metadata": {
  "kernelspec": {
   "display_name": "biomedical-env",
   "language": "python",
   "name": "python3"
  },
  "language_info": {
   "codemirror_mode": {
    "name": "ipython",
    "version": 3
   },
   "file_extension": ".py",
   "mimetype": "text/x-python",
   "name": "python",
   "nbconvert_exporter": "python",
   "pygments_lexer": "ipython3",
   "version": "3.11.7"
  }
 },
 "nbformat": 4,
 "nbformat_minor": 2
}
