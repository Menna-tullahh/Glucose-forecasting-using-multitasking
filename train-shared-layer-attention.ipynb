{
 "cells": [
  {
   "cell_type": "code",
   "execution_count": 2,
   "metadata": {},
   "outputs": [],
   "source": [
    "from src.time_series_prep import *\n",
    "import pandas as pd\n",
    "from models.shared_layer import *\n",
    "from models.helper_functions import *\n",
    "from torchviz import make_dot\n",
    "from torchsummary import summary\n",
    "from src.data_preprocessing import *\n",
    "from src.visualizations import *\n",
    "from src.global_configs import *\n",
    "from src.time_series_prep import *\n",
    "import logging\n",
    "from src.post_processing import *\n",
    "from collections import defaultdict\n",
    "# Initialize logger\n",
    "logging.basicConfig(\n",
    "    filename='training.log',  # File where logs will be saved\n",
    "    level=logging.INFO,  # Set logging level to INFO\n",
    "    format='%(asctime)s - %(levelname)s - %(message)s',  # Log format\n",
    "    # filemode='w'  # Overwrite log file on each run\n",
    ")\n",
    "logger = logging.getLogger()\n"
   ]
  },
  {
   "cell_type": "code",
   "execution_count": 3,
   "metadata": {},
   "outputs": [],
   "source": [
    "model_type = 'shared-layer'\n",
    "\n",
    "scaler = process_all_csv_files(input_folder, output_folder_train, timestamp_col='ts', freq='5min', agg_func='mean')"
   ]
  },
  {
   "cell_type": "code",
   "execution_count": 4,
   "metadata": {},
   "outputs": [],
   "source": [
    "histories_withval_PHs =  {key: [] for key in prediction_horizons}\n",
    "histories_noval_PHs = {key: [] for key in prediction_horizons}\n",
    "abs_patients_errors_PHs =  {key: [] for key in prediction_horizons}\n",
    "squared_patients_errors_PHs =  {key: [] for key in prediction_horizons}\n",
    "\n",
    "MAE_Patients_PHs =  {key: [] for key in prediction_horizons}\n",
    "RMSE_Patients_PHs =  {key: [] for key in prediction_horizons}\n"
   ]
  },
  {
   "cell_type": "code",
   "execution_count": 5,
   "metadata": {},
   "outputs": [
    {
     "name": "stderr",
     "output_type": "stream",
     "text": [
      "Epoch 1/150: 100%|██████████| 213/213 [00:23<00:00,  8.90batch/s, mae_loss=0.69] \n"
     ]
    },
    {
     "name": "stdout",
     "output_type": "stream",
     "text": [
      "Epoch [1/150], Training MAE: 0.6670, Training RMSE: 0.8876\n",
      "Epoch [1/150], Validation MAE: 0.5172, Validation RMSE: 0.7531\n"
     ]
    },
    {
     "name": "stderr",
     "output_type": "stream",
     "text": [
      "Epoch 2/150: 100%|██████████| 213/213 [00:23<00:00,  9.04batch/s, mae_loss=0.522]\n"
     ]
    },
    {
     "name": "stdout",
     "output_type": "stream",
     "text": [
      "Epoch [2/150], Training MAE: 0.5631, Training RMSE: 0.7565\n",
      "Epoch [2/150], Validation MAE: 0.4179, Validation RMSE: 0.6069\n"
     ]
    },
    {
     "name": "stderr",
     "output_type": "stream",
     "text": [
      "Epoch 3/150: 100%|██████████| 213/213 [00:23<00:00,  9.18batch/s, mae_loss=0.446]\n"
     ]
    },
    {
     "name": "stdout",
     "output_type": "stream",
     "text": [
      "Epoch [3/150], Training MAE: 0.4616, Training RMSE: 0.6332\n",
      "Epoch [3/150], Validation MAE: 0.3498, Validation RMSE: 0.5217\n"
     ]
    },
    {
     "name": "stderr",
     "output_type": "stream",
     "text": [
      "Epoch 4/150: 100%|██████████| 213/213 [00:23<00:00,  9.14batch/s, mae_loss=0.397]\n"
     ]
    },
    {
     "name": "stdout",
     "output_type": "stream",
     "text": [
      "Epoch [4/150], Training MAE: 0.4226, Training RMSE: 0.5899\n",
      "Epoch [4/150], Validation MAE: 0.3239, Validation RMSE: 0.4914\n"
     ]
    },
    {
     "name": "stderr",
     "output_type": "stream",
     "text": [
      "Epoch 5/150: 100%|██████████| 213/213 [00:23<00:00,  9.11batch/s, mae_loss=0.395]\n"
     ]
    },
    {
     "name": "stdout",
     "output_type": "stream",
     "text": [
      "Epoch [5/150], Training MAE: 0.4024, Training RMSE: 0.5668\n",
      "Epoch [5/150], Validation MAE: 0.3066, Validation RMSE: 0.4692\n"
     ]
    },
    {
     "name": "stderr",
     "output_type": "stream",
     "text": [
      "Epoch 6/150: 100%|██████████| 213/213 [00:23<00:00,  9.18batch/s, mae_loss=0.387]\n"
     ]
    },
    {
     "name": "stdout",
     "output_type": "stream",
     "text": [
      "Epoch [6/150], Training MAE: 0.3850, Training RMSE: 0.5468\n",
      "Epoch [6/150], Validation MAE: 0.2914, Validation RMSE: 0.4495\n"
     ]
    },
    {
     "name": "stderr",
     "output_type": "stream",
     "text": [
      "Epoch 7/150: 100%|██████████| 213/213 [00:23<00:00,  9.06batch/s, mae_loss=0.356]\n"
     ]
    },
    {
     "name": "stdout",
     "output_type": "stream",
     "text": [
      "Epoch [7/150], Training MAE: 0.3700, Training RMSE: 0.5284\n",
      "Epoch [7/150], Validation MAE: 0.2785, Validation RMSE: 0.4308\n"
     ]
    },
    {
     "name": "stderr",
     "output_type": "stream",
     "text": [
      "Epoch 8/150: 100%|██████████| 213/213 [00:23<00:00,  9.14batch/s, mae_loss=0.315]\n"
     ]
    },
    {
     "name": "stdout",
     "output_type": "stream",
     "text": [
      "Epoch [8/150], Training MAE: 0.3552, Training RMSE: 0.5102\n",
      "Epoch [8/150], Validation MAE: 0.2664, Validation RMSE: 0.4134\n"
     ]
    },
    {
     "name": "stderr",
     "output_type": "stream",
     "text": [
      "Epoch 9/150: 100%|██████████| 213/213 [00:23<00:00,  9.19batch/s, mae_loss=0.302]\n"
     ]
    },
    {
     "name": "stdout",
     "output_type": "stream",
     "text": [
      "Epoch [9/150], Training MAE: 0.3423, Training RMSE: 0.4935\n",
      "Epoch [9/150], Validation MAE: 0.2549, Validation RMSE: 0.3974\n"
     ]
    },
    {
     "name": "stderr",
     "output_type": "stream",
     "text": [
      "Epoch 10/150: 100%|██████████| 213/213 [00:22<00:00,  9.27batch/s, mae_loss=0.311]\n"
     ]
    },
    {
     "name": "stdout",
     "output_type": "stream",
     "text": [
      "Epoch [10/150], Training MAE: 0.3309, Training RMSE: 0.4792\n",
      "Epoch [10/150], Validation MAE: 0.2451, Validation RMSE: 0.3843\n"
     ]
    },
    {
     "name": "stderr",
     "output_type": "stream",
     "text": [
      "Epoch 11/150: 100%|██████████| 213/213 [00:23<00:00,  9.21batch/s, mae_loss=0.3]  \n"
     ]
    },
    {
     "name": "stdout",
     "output_type": "stream",
     "text": [
      "Epoch [11/150], Training MAE: 0.3213, Training RMSE: 0.4662\n",
      "Epoch [11/150], Validation MAE: 0.2379, Validation RMSE: 0.3747\n"
     ]
    },
    {
     "name": "stderr",
     "output_type": "stream",
     "text": [
      "Epoch 12/150: 100%|██████████| 213/213 [00:24<00:00,  8.82batch/s, mae_loss=0.324]\n"
     ]
    },
    {
     "name": "stdout",
     "output_type": "stream",
     "text": [
      "Epoch [12/150], Training MAE: 0.3135, Training RMSE: 0.4559\n",
      "Epoch [12/150], Validation MAE: 0.2328, Validation RMSE: 0.3677\n"
     ]
    },
    {
     "name": "stderr",
     "output_type": "stream",
     "text": [
      "Epoch 13/150: 100%|██████████| 213/213 [00:22<00:00,  9.28batch/s, mae_loss=0.313]\n"
     ]
    },
    {
     "name": "stdout",
     "output_type": "stream",
     "text": [
      "Epoch [13/150], Training MAE: 0.3079, Training RMSE: 0.4490\n",
      "Epoch [13/150], Validation MAE: 0.2281, Validation RMSE: 0.3621\n"
     ]
    },
    {
     "name": "stderr",
     "output_type": "stream",
     "text": [
      "Epoch 14/150: 100%|██████████| 213/213 [00:23<00:00,  8.99batch/s, mae_loss=0.299]\n"
     ]
    },
    {
     "name": "stdout",
     "output_type": "stream",
     "text": [
      "Epoch [14/150], Training MAE: 0.3024, Training RMSE: 0.4419\n",
      "Epoch [14/150], Validation MAE: 0.2254, Validation RMSE: 0.3579\n"
     ]
    },
    {
     "name": "stderr",
     "output_type": "stream",
     "text": [
      "Epoch 15/150: 100%|██████████| 213/213 [00:22<00:00,  9.31batch/s, mae_loss=0.293]\n"
     ]
    },
    {
     "name": "stdout",
     "output_type": "stream",
     "text": [
      "Epoch [15/150], Training MAE: 0.2993, Training RMSE: 0.4386\n",
      "Epoch [15/150], Validation MAE: 0.2214, Validation RMSE: 0.3541\n"
     ]
    },
    {
     "name": "stderr",
     "output_type": "stream",
     "text": [
      "Epoch 16/150: 100%|██████████| 213/213 [00:23<00:00,  9.17batch/s, mae_loss=0.287]\n"
     ]
    },
    {
     "name": "stdout",
     "output_type": "stream",
     "text": [
      "Epoch [16/150], Training MAE: 0.2957, Training RMSE: 0.4343\n",
      "Epoch [16/150], Validation MAE: 0.2197, Validation RMSE: 0.3522\n"
     ]
    },
    {
     "name": "stderr",
     "output_type": "stream",
     "text": [
      "Epoch 17/150: 100%|██████████| 213/213 [00:23<00:00,  9.07batch/s, mae_loss=0.292]\n"
     ]
    },
    {
     "name": "stdout",
     "output_type": "stream",
     "text": [
      "Epoch [17/150], Training MAE: 0.2933, Training RMSE: 0.4318\n",
      "Epoch [17/150], Validation MAE: 0.2183, Validation RMSE: 0.3498\n"
     ]
    },
    {
     "name": "stderr",
     "output_type": "stream",
     "text": [
      "Epoch 18/150: 100%|██████████| 213/213 [00:23<00:00,  9.20batch/s, mae_loss=0.29] \n"
     ]
    },
    {
     "name": "stdout",
     "output_type": "stream",
     "text": [
      "Epoch [18/150], Training MAE: 0.2905, Training RMSE: 0.4285\n",
      "Epoch [18/150], Validation MAE: 0.2164, Validation RMSE: 0.3482\n"
     ]
    },
    {
     "name": "stderr",
     "output_type": "stream",
     "text": [
      "Epoch 19/150: 100%|██████████| 213/213 [00:23<00:00,  9.12batch/s, mae_loss=0.263]\n"
     ]
    },
    {
     "name": "stdout",
     "output_type": "stream",
     "text": [
      "Epoch [19/150], Training MAE: 0.2880, Training RMSE: 0.4257\n",
      "Epoch [19/150], Validation MAE: 0.2167, Validation RMSE: 0.3478\n"
     ]
    },
    {
     "name": "stderr",
     "output_type": "stream",
     "text": [
      "Epoch 20/150: 100%|██████████| 213/213 [00:22<00:00,  9.31batch/s, mae_loss=0.276]\n"
     ]
    },
    {
     "name": "stdout",
     "output_type": "stream",
     "text": [
      "Epoch [20/150], Training MAE: 0.2861, Training RMSE: 0.4236\n",
      "Epoch [20/150], Validation MAE: 0.2142, Validation RMSE: 0.3454\n"
     ]
    },
    {
     "name": "stderr",
     "output_type": "stream",
     "text": [
      "Epoch 21/150: 100%|██████████| 213/213 [00:23<00:00,  9.24batch/s, mae_loss=0.284]\n"
     ]
    },
    {
     "name": "stdout",
     "output_type": "stream",
     "text": [
      "Epoch [21/150], Training MAE: 0.2842, Training RMSE: 0.4215\n",
      "Epoch [21/150], Validation MAE: 0.2125, Validation RMSE: 0.3441\n"
     ]
    },
    {
     "name": "stderr",
     "output_type": "stream",
     "text": [
      "Epoch 22/150: 100%|██████████| 213/213 [00:23<00:00,  9.11batch/s, mae_loss=0.29] \n"
     ]
    },
    {
     "name": "stdout",
     "output_type": "stream",
     "text": [
      "Epoch [22/150], Training MAE: 0.2828, Training RMSE: 0.4201\n",
      "Epoch [22/150], Validation MAE: 0.2122, Validation RMSE: 0.3425\n"
     ]
    },
    {
     "name": "stderr",
     "output_type": "stream",
     "text": [
      "Epoch 23/150: 100%|██████████| 213/213 [00:23<00:00,  9.17batch/s, mae_loss=0.289]\n"
     ]
    },
    {
     "name": "stdout",
     "output_type": "stream",
     "text": [
      "Epoch [23/150], Training MAE: 0.2807, Training RMSE: 0.4179\n",
      "Epoch [23/150], Validation MAE: 0.2117, Validation RMSE: 0.3426\n"
     ]
    },
    {
     "name": "stderr",
     "output_type": "stream",
     "text": [
      "Epoch 24/150: 100%|██████████| 213/213 [00:23<00:00,  9.05batch/s, mae_loss=0.267]\n"
     ]
    },
    {
     "name": "stdout",
     "output_type": "stream",
     "text": [
      "Epoch [24/150], Training MAE: 0.2801, Training RMSE: 0.4171\n",
      "Epoch [24/150], Validation MAE: 0.2089, Validation RMSE: 0.3405\n"
     ]
    },
    {
     "name": "stderr",
     "output_type": "stream",
     "text": [
      "Epoch 25/150: 100%|██████████| 213/213 [00:23<00:00,  9.12batch/s, mae_loss=0.293]\n"
     ]
    },
    {
     "name": "stdout",
     "output_type": "stream",
     "text": [
      "Epoch [25/150], Training MAE: 0.2782, Training RMSE: 0.4151\n",
      "Epoch [25/150], Validation MAE: 0.2088, Validation RMSE: 0.3397\n"
     ]
    },
    {
     "name": "stderr",
     "output_type": "stream",
     "text": [
      "Epoch 26/150: 100%|██████████| 213/213 [00:23<00:00,  9.24batch/s, mae_loss=0.307]\n"
     ]
    },
    {
     "name": "stdout",
     "output_type": "stream",
     "text": [
      "Epoch [26/150], Training MAE: 0.2770, Training RMSE: 0.4134\n",
      "Epoch [26/150], Validation MAE: 0.2078, Validation RMSE: 0.3387\n"
     ]
    },
    {
     "name": "stderr",
     "output_type": "stream",
     "text": [
      "Epoch 27/150: 100%|██████████| 213/213 [00:24<00:00,  8.83batch/s, mae_loss=0.29] \n"
     ]
    },
    {
     "name": "stdout",
     "output_type": "stream",
     "text": [
      "Epoch [27/150], Training MAE: 0.2753, Training RMSE: 0.4114\n",
      "Epoch [27/150], Validation MAE: 0.2072, Validation RMSE: 0.3380\n"
     ]
    },
    {
     "name": "stderr",
     "output_type": "stream",
     "text": [
      "Epoch 28/150: 100%|██████████| 213/213 [00:23<00:00,  9.15batch/s, mae_loss=0.254]\n"
     ]
    },
    {
     "name": "stdout",
     "output_type": "stream",
     "text": [
      "Epoch [28/150], Training MAE: 0.2751, Training RMSE: 0.4112\n",
      "Epoch [28/150], Validation MAE: 0.2063, Validation RMSE: 0.3374\n"
     ]
    },
    {
     "name": "stderr",
     "output_type": "stream",
     "text": [
      "Epoch 29/150: 100%|██████████| 213/213 [00:23<00:00,  8.96batch/s, mae_loss=0.256]\n"
     ]
    },
    {
     "name": "stdout",
     "output_type": "stream",
     "text": [
      "Epoch [29/150], Training MAE: 0.2735, Training RMSE: 0.4101\n",
      "Epoch [29/150], Validation MAE: 0.2060, Validation RMSE: 0.3371\n"
     ]
    },
    {
     "name": "stderr",
     "output_type": "stream",
     "text": [
      "Epoch 30/150: 100%|██████████| 213/213 [00:23<00:00,  9.22batch/s, mae_loss=0.256]\n"
     ]
    },
    {
     "name": "stdout",
     "output_type": "stream",
     "text": [
      "Epoch [30/150], Training MAE: 0.2722, Training RMSE: 0.4084\n",
      "Epoch [30/150], Validation MAE: 0.2050, Validation RMSE: 0.3367\n"
     ]
    },
    {
     "name": "stderr",
     "output_type": "stream",
     "text": [
      "Epoch 31/150: 100%|██████████| 213/213 [00:23<00:00,  9.17batch/s, mae_loss=0.257]\n"
     ]
    },
    {
     "name": "stdout",
     "output_type": "stream",
     "text": [
      "Epoch [31/150], Training MAE: 0.2715, Training RMSE: 0.4079\n",
      "Epoch [31/150], Validation MAE: 0.2054, Validation RMSE: 0.3360\n"
     ]
    },
    {
     "name": "stderr",
     "output_type": "stream",
     "text": [
      "Epoch 32/150: 100%|██████████| 213/213 [00:23<00:00,  9.04batch/s, mae_loss=0.232]\n"
     ]
    },
    {
     "name": "stdout",
     "output_type": "stream",
     "text": [
      "Epoch [32/150], Training MAE: 0.2698, Training RMSE: 0.4061\n",
      "Epoch [32/150], Validation MAE: 0.2048, Validation RMSE: 0.3358\n"
     ]
    },
    {
     "name": "stderr",
     "output_type": "stream",
     "text": [
      "Epoch 33/150: 100%|██████████| 213/213 [00:22<00:00,  9.30batch/s, mae_loss=0.275]\n"
     ]
    },
    {
     "name": "stdout",
     "output_type": "stream",
     "text": [
      "Epoch [33/150], Training MAE: 0.2694, Training RMSE: 0.4056\n",
      "Epoch [33/150], Validation MAE: 0.2047, Validation RMSE: 0.3352\n"
     ]
    },
    {
     "name": "stderr",
     "output_type": "stream",
     "text": [
      "Epoch 34/150: 100%|██████████| 213/213 [00:23<00:00,  9.07batch/s, mae_loss=0.266]\n"
     ]
    },
    {
     "name": "stdout",
     "output_type": "stream",
     "text": [
      "Epoch [34/150], Training MAE: 0.2688, Training RMSE: 0.4048\n",
      "Epoch [34/150], Validation MAE: 0.2046, Validation RMSE: 0.3352\n"
     ]
    },
    {
     "name": "stderr",
     "output_type": "stream",
     "text": [
      "Epoch 35/150: 100%|██████████| 213/213 [00:22<00:00,  9.28batch/s, mae_loss=0.288]\n"
     ]
    },
    {
     "name": "stdout",
     "output_type": "stream",
     "text": [
      "Epoch [35/150], Training MAE: 0.2678, Training RMSE: 0.4036\n",
      "Epoch [35/150], Validation MAE: 0.2032, Validation RMSE: 0.3344\n"
     ]
    },
    {
     "name": "stderr",
     "output_type": "stream",
     "text": [
      "Epoch 36/150: 100%|██████████| 213/213 [00:23<00:00,  9.03batch/s, mae_loss=0.23] \n"
     ]
    },
    {
     "name": "stdout",
     "output_type": "stream",
     "text": [
      "Epoch [36/150], Training MAE: 0.2668, Training RMSE: 0.4024\n",
      "Epoch [36/150], Validation MAE: 0.2037, Validation RMSE: 0.3348\n"
     ]
    },
    {
     "name": "stderr",
     "output_type": "stream",
     "text": [
      "Epoch 37/150: 100%|██████████| 213/213 [00:23<00:00,  9.10batch/s, mae_loss=0.252]\n"
     ]
    },
    {
     "name": "stdout",
     "output_type": "stream",
     "text": [
      "Epoch [37/150], Training MAE: 0.2666, Training RMSE: 0.4025\n",
      "Epoch [37/150], Validation MAE: 0.2039, Validation RMSE: 0.3343\n"
     ]
    },
    {
     "name": "stderr",
     "output_type": "stream",
     "text": [
      "Epoch 38/150: 100%|██████████| 213/213 [00:23<00:00,  9.02batch/s, mae_loss=0.265]\n"
     ]
    },
    {
     "name": "stdout",
     "output_type": "stream",
     "text": [
      "Epoch [38/150], Training MAE: 0.2658, Training RMSE: 0.4014\n",
      "Epoch [38/150], Validation MAE: 0.2029, Validation RMSE: 0.3331\n"
     ]
    },
    {
     "name": "stderr",
     "output_type": "stream",
     "text": [
      "Epoch 39/150: 100%|██████████| 213/213 [00:23<00:00,  9.08batch/s, mae_loss=0.255]\n"
     ]
    },
    {
     "name": "stdout",
     "output_type": "stream",
     "text": [
      "Epoch [39/150], Training MAE: 0.2651, Training RMSE: 0.4009\n",
      "Epoch [39/150], Validation MAE: 0.2023, Validation RMSE: 0.3326\n"
     ]
    },
    {
     "name": "stderr",
     "output_type": "stream",
     "text": [
      "Epoch 40/150: 100%|██████████| 213/213 [00:23<00:00,  9.20batch/s, mae_loss=0.264]\n"
     ]
    },
    {
     "name": "stdout",
     "output_type": "stream",
     "text": [
      "Epoch [40/150], Training MAE: 0.2647, Training RMSE: 0.4005\n",
      "Epoch [40/150], Validation MAE: 0.2021, Validation RMSE: 0.3328\n"
     ]
    },
    {
     "name": "stderr",
     "output_type": "stream",
     "text": [
      "Epoch 41/150: 100%|██████████| 213/213 [00:23<00:00,  9.24batch/s, mae_loss=0.278]\n"
     ]
    },
    {
     "name": "stdout",
     "output_type": "stream",
     "text": [
      "Epoch [41/150], Training MAE: 0.2636, Training RMSE: 0.3994\n",
      "Epoch [41/150], Validation MAE: 0.2028, Validation RMSE: 0.3334\n"
     ]
    },
    {
     "name": "stderr",
     "output_type": "stream",
     "text": [
      "Epoch 42/150: 100%|██████████| 213/213 [00:23<00:00,  9.03batch/s, mae_loss=0.264]\n"
     ]
    },
    {
     "name": "stdout",
     "output_type": "stream",
     "text": [
      "Epoch [42/150], Training MAE: 0.2632, Training RMSE: 0.3988\n",
      "Epoch [42/150], Validation MAE: 0.2016, Validation RMSE: 0.3326\n"
     ]
    },
    {
     "name": "stderr",
     "output_type": "stream",
     "text": [
      "Epoch 43/150: 100%|██████████| 213/213 [00:22<00:00,  9.29batch/s, mae_loss=0.243]\n"
     ]
    },
    {
     "name": "stdout",
     "output_type": "stream",
     "text": [
      "Epoch [43/150], Training MAE: 0.2627, Training RMSE: 0.3985\n",
      "Epoch [43/150], Validation MAE: 0.2018, Validation RMSE: 0.3326\n"
     ]
    },
    {
     "name": "stderr",
     "output_type": "stream",
     "text": [
      "Epoch 44/150: 100%|██████████| 213/213 [00:23<00:00,  9.15batch/s, mae_loss=0.265]\n"
     ]
    },
    {
     "name": "stdout",
     "output_type": "stream",
     "text": [
      "Epoch [44/150], Training MAE: 0.2616, Training RMSE: 0.3973\n",
      "Epoch [44/150], Validation MAE: 0.2011, Validation RMSE: 0.3313\n"
     ]
    },
    {
     "name": "stderr",
     "output_type": "stream",
     "text": [
      "Epoch 45/150: 100%|██████████| 213/213 [00:23<00:00,  9.25batch/s, mae_loss=0.255]\n"
     ]
    },
    {
     "name": "stdout",
     "output_type": "stream",
     "text": [
      "Epoch [45/150], Training MAE: 0.2613, Training RMSE: 0.3971\n",
      "Epoch [45/150], Validation MAE: 0.2012, Validation RMSE: 0.3319\n"
     ]
    },
    {
     "name": "stderr",
     "output_type": "stream",
     "text": [
      "Epoch 46/150: 100%|██████████| 213/213 [00:23<00:00,  9.18batch/s, mae_loss=0.276]\n"
     ]
    },
    {
     "name": "stdout",
     "output_type": "stream",
     "text": [
      "Epoch [46/150], Training MAE: 0.2606, Training RMSE: 0.3963\n",
      "Epoch [46/150], Validation MAE: 0.2011, Validation RMSE: 0.3319\n"
     ]
    },
    {
     "name": "stderr",
     "output_type": "stream",
     "text": [
      "Epoch 47/150: 100%|██████████| 213/213 [00:23<00:00,  9.11batch/s, mae_loss=0.279]\n"
     ]
    },
    {
     "name": "stdout",
     "output_type": "stream",
     "text": [
      "Epoch [47/150], Training MAE: 0.2606, Training RMSE: 0.3967\n",
      "Epoch [47/150], Validation MAE: 0.2004, Validation RMSE: 0.3315\n"
     ]
    },
    {
     "name": "stderr",
     "output_type": "stream",
     "text": [
      "Epoch 48/150: 100%|██████████| 213/213 [00:24<00:00,  8.78batch/s, mae_loss=0.277]\n"
     ]
    },
    {
     "name": "stdout",
     "output_type": "stream",
     "text": [
      "Epoch [48/150], Training MAE: 0.2599, Training RMSE: 0.3957\n",
      "Epoch [48/150], Validation MAE: 0.2006, Validation RMSE: 0.3307\n"
     ]
    },
    {
     "name": "stderr",
     "output_type": "stream",
     "text": [
      "Epoch 49/150: 100%|██████████| 213/213 [00:23<00:00,  8.93batch/s, mae_loss=0.267]\n"
     ]
    },
    {
     "name": "stdout",
     "output_type": "stream",
     "text": [
      "Epoch [49/150], Training MAE: 0.2594, Training RMSE: 0.3947\n",
      "Epoch [49/150], Validation MAE: 0.2001, Validation RMSE: 0.3307\n"
     ]
    },
    {
     "name": "stderr",
     "output_type": "stream",
     "text": [
      "Epoch 50/150: 100%|██████████| 213/213 [00:23<00:00,  9.12batch/s, mae_loss=0.261]\n"
     ]
    },
    {
     "name": "stdout",
     "output_type": "stream",
     "text": [
      "Epoch [50/150], Training MAE: 0.2590, Training RMSE: 0.3946\n",
      "Epoch [50/150], Validation MAE: 0.1995, Validation RMSE: 0.3306\n"
     ]
    },
    {
     "name": "stderr",
     "output_type": "stream",
     "text": [
      "Epoch 51/150: 100%|██████████| 213/213 [00:23<00:00,  9.12batch/s, mae_loss=0.263]\n"
     ]
    },
    {
     "name": "stdout",
     "output_type": "stream",
     "text": [
      "Epoch [51/150], Training MAE: 0.2587, Training RMSE: 0.3940\n",
      "Epoch [51/150], Validation MAE: 0.2007, Validation RMSE: 0.3312\n"
     ]
    },
    {
     "name": "stderr",
     "output_type": "stream",
     "text": [
      "Epoch 52/150: 100%|██████████| 213/213 [00:23<00:00,  9.02batch/s, mae_loss=0.274]\n"
     ]
    },
    {
     "name": "stdout",
     "output_type": "stream",
     "text": [
      "Epoch [52/150], Training MAE: 0.2580, Training RMSE: 0.3936\n",
      "Epoch [52/150], Validation MAE: 0.2001, Validation RMSE: 0.3307\n"
     ]
    },
    {
     "name": "stderr",
     "output_type": "stream",
     "text": [
      "Epoch 53/150: 100%|██████████| 213/213 [00:23<00:00,  9.18batch/s, mae_loss=0.264]\n"
     ]
    },
    {
     "name": "stdout",
     "output_type": "stream",
     "text": [
      "Epoch [53/150], Training MAE: 0.2573, Training RMSE: 0.3928\n",
      "Epoch [53/150], Validation MAE: 0.1996, Validation RMSE: 0.3301\n"
     ]
    },
    {
     "name": "stderr",
     "output_type": "stream",
     "text": [
      "Epoch 54/150: 100%|██████████| 213/213 [00:23<00:00,  9.08batch/s, mae_loss=0.265]\n"
     ]
    },
    {
     "name": "stdout",
     "output_type": "stream",
     "text": [
      "Epoch [54/150], Training MAE: 0.2574, Training RMSE: 0.3928\n",
      "Epoch [54/150], Validation MAE: 0.2008, Validation RMSE: 0.3302\n"
     ]
    },
    {
     "name": "stderr",
     "output_type": "stream",
     "text": [
      "Epoch 55/150: 100%|██████████| 213/213 [00:23<00:00,  9.19batch/s, mae_loss=0.222]\n"
     ]
    },
    {
     "name": "stdout",
     "output_type": "stream",
     "text": [
      "Epoch [55/150], Training MAE: 0.2563, Training RMSE: 0.3916\n",
      "Epoch [55/150], Validation MAE: 0.1990, Validation RMSE: 0.3297\n"
     ]
    },
    {
     "name": "stderr",
     "output_type": "stream",
     "text": [
      "Epoch 56/150: 100%|██████████| 213/213 [00:22<00:00,  9.28batch/s, mae_loss=0.237]\n"
     ]
    },
    {
     "name": "stdout",
     "output_type": "stream",
     "text": [
      "Epoch [56/150], Training MAE: 0.2562, Training RMSE: 0.3918\n",
      "Epoch [56/150], Validation MAE: 0.1992, Validation RMSE: 0.3300\n"
     ]
    },
    {
     "name": "stderr",
     "output_type": "stream",
     "text": [
      "Epoch 57/150: 100%|██████████| 213/213 [00:23<00:00,  8.90batch/s, mae_loss=0.275]\n"
     ]
    },
    {
     "name": "stdout",
     "output_type": "stream",
     "text": [
      "Epoch [57/150], Training MAE: 0.2555, Training RMSE: 0.3909\n",
      "Epoch [57/150], Validation MAE: 0.1989, Validation RMSE: 0.3294\n"
     ]
    },
    {
     "name": "stderr",
     "output_type": "stream",
     "text": [
      "Epoch 58/150: 100%|██████████| 213/213 [00:23<00:00,  9.23batch/s, mae_loss=0.263]\n"
     ]
    },
    {
     "name": "stdout",
     "output_type": "stream",
     "text": [
      "Epoch [58/150], Training MAE: 0.2555, Training RMSE: 0.3908\n",
      "Epoch [58/150], Validation MAE: 0.1988, Validation RMSE: 0.3290\n"
     ]
    },
    {
     "name": "stderr",
     "output_type": "stream",
     "text": [
      "Epoch 59/150: 100%|██████████| 213/213 [00:23<00:00,  9.09batch/s, mae_loss=0.234]\n"
     ]
    },
    {
     "name": "stdout",
     "output_type": "stream",
     "text": [
      "Epoch [59/150], Training MAE: 0.2550, Training RMSE: 0.3902\n",
      "Epoch [59/150], Validation MAE: 0.1987, Validation RMSE: 0.3299\n"
     ]
    },
    {
     "name": "stderr",
     "output_type": "stream",
     "text": [
      "Epoch 60/150: 100%|██████████| 213/213 [00:23<00:00,  9.09batch/s, mae_loss=0.259]\n"
     ]
    },
    {
     "name": "stdout",
     "output_type": "stream",
     "text": [
      "Epoch [60/150], Training MAE: 0.2546, Training RMSE: 0.3895\n",
      "Epoch [60/150], Validation MAE: 0.1990, Validation RMSE: 0.3293\n"
     ]
    },
    {
     "name": "stderr",
     "output_type": "stream",
     "text": [
      "Epoch 61/150: 100%|██████████| 213/213 [00:23<00:00,  9.14batch/s, mae_loss=0.233]\n"
     ]
    },
    {
     "name": "stdout",
     "output_type": "stream",
     "text": [
      "Epoch [61/150], Training MAE: 0.2545, Training RMSE: 0.3895\n",
      "Epoch [61/150], Validation MAE: 0.1985, Validation RMSE: 0.3290\n"
     ]
    },
    {
     "name": "stderr",
     "output_type": "stream",
     "text": [
      "Epoch 62/150: 100%|██████████| 213/213 [00:23<00:00,  8.90batch/s, mae_loss=0.277]\n"
     ]
    },
    {
     "name": "stdout",
     "output_type": "stream",
     "text": [
      "Epoch [62/150], Training MAE: 0.2543, Training RMSE: 0.3896\n",
      "Epoch [62/150], Validation MAE: 0.1981, Validation RMSE: 0.3287\n"
     ]
    },
    {
     "name": "stderr",
     "output_type": "stream",
     "text": [
      "Epoch 63/150: 100%|██████████| 213/213 [00:23<00:00,  9.19batch/s, mae_loss=0.263]\n"
     ]
    },
    {
     "name": "stdout",
     "output_type": "stream",
     "text": [
      "Epoch [63/150], Training MAE: 0.2537, Training RMSE: 0.3888\n",
      "Epoch [63/150], Validation MAE: 0.1976, Validation RMSE: 0.3285\n"
     ]
    },
    {
     "name": "stderr",
     "output_type": "stream",
     "text": [
      "Epoch 64/150: 100%|██████████| 213/213 [00:23<00:00,  9.07batch/s, mae_loss=0.259]\n"
     ]
    },
    {
     "name": "stdout",
     "output_type": "stream",
     "text": [
      "Epoch [64/150], Training MAE: 0.2533, Training RMSE: 0.3882\n",
      "Epoch [64/150], Validation MAE: 0.1965, Validation RMSE: 0.3279\n"
     ]
    },
    {
     "name": "stderr",
     "output_type": "stream",
     "text": [
      "Epoch 65/150: 100%|██████████| 213/213 [00:23<00:00,  9.19batch/s, mae_loss=0.274]\n"
     ]
    },
    {
     "name": "stdout",
     "output_type": "stream",
     "text": [
      "Epoch [65/150], Training MAE: 0.2530, Training RMSE: 0.3881\n",
      "Epoch [65/150], Validation MAE: 0.1984, Validation RMSE: 0.3287\n"
     ]
    },
    {
     "name": "stderr",
     "output_type": "stream",
     "text": [
      "Epoch 66/150: 100%|██████████| 213/213 [00:23<00:00,  9.13batch/s, mae_loss=0.253]\n"
     ]
    },
    {
     "name": "stdout",
     "output_type": "stream",
     "text": [
      "Epoch [66/150], Training MAE: 0.2529, Training RMSE: 0.3882\n",
      "Epoch [66/150], Validation MAE: 0.1976, Validation RMSE: 0.3290\n"
     ]
    },
    {
     "name": "stderr",
     "output_type": "stream",
     "text": [
      "Epoch 67/150: 100%|██████████| 213/213 [00:23<00:00,  9.08batch/s, mae_loss=0.257]\n"
     ]
    },
    {
     "name": "stdout",
     "output_type": "stream",
     "text": [
      "Epoch [67/150], Training MAE: 0.2521, Training RMSE: 0.3871\n",
      "Epoch [67/150], Validation MAE: 0.1975, Validation RMSE: 0.3287\n"
     ]
    },
    {
     "name": "stderr",
     "output_type": "stream",
     "text": [
      "Epoch 68/150: 100%|██████████| 213/213 [00:23<00:00,  9.11batch/s, mae_loss=0.252]\n"
     ]
    },
    {
     "name": "stdout",
     "output_type": "stream",
     "text": [
      "Epoch [68/150], Training MAE: 0.2523, Training RMSE: 0.3872\n",
      "Epoch [68/150], Validation MAE: 0.1971, Validation RMSE: 0.3282\n"
     ]
    },
    {
     "name": "stderr",
     "output_type": "stream",
     "text": [
      "Epoch 69/150: 100%|██████████| 213/213 [00:23<00:00,  9.20batch/s, mae_loss=0.24] \n"
     ]
    },
    {
     "name": "stdout",
     "output_type": "stream",
     "text": [
      "Epoch [69/150], Training MAE: 0.2513, Training RMSE: 0.3862\n",
      "Epoch [69/150], Validation MAE: 0.1971, Validation RMSE: 0.3284\n"
     ]
    },
    {
     "name": "stderr",
     "output_type": "stream",
     "text": [
      "Epoch 70/150: 100%|██████████| 213/213 [00:23<00:00,  9.00batch/s, mae_loss=0.275]\n"
     ]
    },
    {
     "name": "stdout",
     "output_type": "stream",
     "text": [
      "Epoch [70/150], Training MAE: 0.2515, Training RMSE: 0.3861\n",
      "Epoch [70/150], Validation MAE: 0.1970, Validation RMSE: 0.3281\n"
     ]
    },
    {
     "name": "stderr",
     "output_type": "stream",
     "text": [
      "Epoch 71/150: 100%|██████████| 213/213 [00:23<00:00,  9.09batch/s, mae_loss=0.276]\n"
     ]
    },
    {
     "name": "stdout",
     "output_type": "stream",
     "text": [
      "Epoch [71/150], Training MAE: 0.2512, Training RMSE: 0.3860\n",
      "Epoch [71/150], Validation MAE: 0.1973, Validation RMSE: 0.3280\n"
     ]
    },
    {
     "name": "stderr",
     "output_type": "stream",
     "text": [
      "Epoch 72/150: 100%|██████████| 213/213 [00:23<00:00,  9.01batch/s, mae_loss=0.28] \n"
     ]
    },
    {
     "name": "stdout",
     "output_type": "stream",
     "text": [
      "Epoch [72/150], Training MAE: 0.2509, Training RMSE: 0.3856\n",
      "Epoch [72/150], Validation MAE: 0.1969, Validation RMSE: 0.3274\n"
     ]
    },
    {
     "name": "stderr",
     "output_type": "stream",
     "text": [
      "Epoch 73/150: 100%|██████████| 213/213 [00:23<00:00,  9.18batch/s, mae_loss=0.268]\n"
     ]
    },
    {
     "name": "stdout",
     "output_type": "stream",
     "text": [
      "Epoch [73/150], Training MAE: 0.2503, Training RMSE: 0.3851\n",
      "Epoch [73/150], Validation MAE: 0.1961, Validation RMSE: 0.3268\n"
     ]
    },
    {
     "name": "stderr",
     "output_type": "stream",
     "text": [
      "Epoch 74/150: 100%|██████████| 213/213 [00:23<00:00,  9.20batch/s, mae_loss=0.216]\n"
     ]
    },
    {
     "name": "stdout",
     "output_type": "stream",
     "text": [
      "Epoch [74/150], Training MAE: 0.2502, Training RMSE: 0.3850\n",
      "Epoch [74/150], Validation MAE: 0.1965, Validation RMSE: 0.3279\n"
     ]
    },
    {
     "name": "stderr",
     "output_type": "stream",
     "text": [
      "Epoch 75/150: 100%|██████████| 213/213 [00:23<00:00,  9.08batch/s, mae_loss=0.234]\n"
     ]
    },
    {
     "name": "stdout",
     "output_type": "stream",
     "text": [
      "Epoch [75/150], Training MAE: 0.2503, Training RMSE: 0.3852\n",
      "Epoch [75/150], Validation MAE: 0.1967, Validation RMSE: 0.3274\n"
     ]
    },
    {
     "name": "stderr",
     "output_type": "stream",
     "text": [
      "Epoch 76/150: 100%|██████████| 213/213 [00:23<00:00,  9.25batch/s, mae_loss=0.247]\n"
     ]
    },
    {
     "name": "stdout",
     "output_type": "stream",
     "text": [
      "Epoch [76/150], Training MAE: 0.2498, Training RMSE: 0.3847\n",
      "Epoch [76/150], Validation MAE: 0.1973, Validation RMSE: 0.3276\n"
     ]
    },
    {
     "name": "stderr",
     "output_type": "stream",
     "text": [
      "Epoch 77/150: 100%|██████████| 213/213 [00:23<00:00,  8.91batch/s, mae_loss=0.239]\n"
     ]
    },
    {
     "name": "stdout",
     "output_type": "stream",
     "text": [
      "Epoch [77/150], Training MAE: 0.2493, Training RMSE: 0.3840\n",
      "Epoch [77/150], Validation MAE: 0.1961, Validation RMSE: 0.3271\n"
     ]
    },
    {
     "name": "stderr",
     "output_type": "stream",
     "text": [
      "Epoch 78/150: 100%|██████████| 213/213 [00:23<00:00,  9.23batch/s, mae_loss=0.237]\n"
     ]
    },
    {
     "name": "stdout",
     "output_type": "stream",
     "text": [
      "Epoch [78/150], Training MAE: 0.2489, Training RMSE: 0.3840\n",
      "Epoch [78/150], Validation MAE: 0.1967, Validation RMSE: 0.3267\n"
     ]
    },
    {
     "name": "stderr",
     "output_type": "stream",
     "text": [
      "Epoch 79/150: 100%|██████████| 213/213 [00:23<00:00,  9.03batch/s, mae_loss=0.243]\n"
     ]
    },
    {
     "name": "stdout",
     "output_type": "stream",
     "text": [
      "Epoch [79/150], Training MAE: 0.2492, Training RMSE: 0.3842\n",
      "Epoch [79/150], Validation MAE: 0.1962, Validation RMSE: 0.3268\n"
     ]
    },
    {
     "name": "stderr",
     "output_type": "stream",
     "text": [
      "Epoch 80/150: 100%|██████████| 213/213 [00:23<00:00,  9.15batch/s, mae_loss=0.233]\n"
     ]
    },
    {
     "name": "stdout",
     "output_type": "stream",
     "text": [
      "Epoch [80/150], Training MAE: 0.2487, Training RMSE: 0.3836\n",
      "Epoch [80/150], Validation MAE: 0.1963, Validation RMSE: 0.3272\n"
     ]
    },
    {
     "name": "stderr",
     "output_type": "stream",
     "text": [
      "Epoch 81/150: 100%|██████████| 213/213 [00:23<00:00,  9.05batch/s, mae_loss=0.251]\n"
     ]
    },
    {
     "name": "stdout",
     "output_type": "stream",
     "text": [
      "Epoch [81/150], Training MAE: 0.2484, Training RMSE: 0.3832\n",
      "Epoch [81/150], Validation MAE: 0.1963, Validation RMSE: 0.3267\n"
     ]
    },
    {
     "name": "stderr",
     "output_type": "stream",
     "text": [
      "Epoch 82/150: 100%|██████████| 213/213 [00:23<00:00,  8.94batch/s, mae_loss=0.243]\n"
     ]
    },
    {
     "name": "stdout",
     "output_type": "stream",
     "text": [
      "Epoch [82/150], Training MAE: 0.2481, Training RMSE: 0.3830\n",
      "Epoch [82/150], Validation MAE: 0.1961, Validation RMSE: 0.3265\n"
     ]
    },
    {
     "name": "stderr",
     "output_type": "stream",
     "text": [
      "Epoch 83/150: 100%|██████████| 213/213 [00:23<00:00,  9.10batch/s, mae_loss=0.232]\n"
     ]
    },
    {
     "name": "stdout",
     "output_type": "stream",
     "text": [
      "Epoch [83/150], Training MAE: 0.2477, Training RMSE: 0.3824\n",
      "Epoch [83/150], Validation MAE: 0.1964, Validation RMSE: 0.3269\n"
     ]
    },
    {
     "name": "stderr",
     "output_type": "stream",
     "text": [
      "Epoch 84/150: 100%|██████████| 213/213 [00:23<00:00,  9.07batch/s, mae_loss=0.271]\n"
     ]
    },
    {
     "name": "stdout",
     "output_type": "stream",
     "text": [
      "Epoch [84/150], Training MAE: 0.2478, Training RMSE: 0.3828\n",
      "Epoch [84/150], Validation MAE: 0.1958, Validation RMSE: 0.3261\n"
     ]
    },
    {
     "name": "stderr",
     "output_type": "stream",
     "text": [
      "Epoch 85/150: 100%|██████████| 213/213 [00:23<00:00,  9.20batch/s, mae_loss=0.229]\n"
     ]
    },
    {
     "name": "stdout",
     "output_type": "stream",
     "text": [
      "Epoch [85/150], Training MAE: 0.2476, Training RMSE: 0.3825\n",
      "Epoch [85/150], Validation MAE: 0.1962, Validation RMSE: 0.3263\n"
     ]
    },
    {
     "name": "stderr",
     "output_type": "stream",
     "text": [
      "Epoch 86/150: 100%|██████████| 213/213 [00:23<00:00,  9.19batch/s, mae_loss=0.263]\n"
     ]
    },
    {
     "name": "stdout",
     "output_type": "stream",
     "text": [
      "Epoch [86/150], Training MAE: 0.2476, Training RMSE: 0.3822\n",
      "Epoch [86/150], Validation MAE: 0.1968, Validation RMSE: 0.3270\n"
     ]
    },
    {
     "name": "stderr",
     "output_type": "stream",
     "text": [
      "Epoch 87/150: 100%|██████████| 213/213 [00:23<00:00,  9.06batch/s, mae_loss=0.248]\n"
     ]
    },
    {
     "name": "stdout",
     "output_type": "stream",
     "text": [
      "Epoch [87/150], Training MAE: 0.2472, Training RMSE: 0.3817\n",
      "Epoch [87/150], Validation MAE: 0.1959, Validation RMSE: 0.3266\n"
     ]
    },
    {
     "name": "stderr",
     "output_type": "stream",
     "text": [
      "Epoch 88/150: 100%|██████████| 213/213 [00:23<00:00,  9.16batch/s, mae_loss=0.247]\n"
     ]
    },
    {
     "name": "stdout",
     "output_type": "stream",
     "text": [
      "Epoch [88/150], Training MAE: 0.2467, Training RMSE: 0.3812\n",
      "Epoch [88/150], Validation MAE: 0.1962, Validation RMSE: 0.3269\n"
     ]
    },
    {
     "name": "stderr",
     "output_type": "stream",
     "text": [
      "Epoch 89/150: 100%|██████████| 213/213 [00:23<00:00,  9.13batch/s, mae_loss=0.256]\n"
     ]
    },
    {
     "name": "stdout",
     "output_type": "stream",
     "text": [
      "Epoch [89/150], Training MAE: 0.2467, Training RMSE: 0.3812\n",
      "Epoch [89/150], Validation MAE: 0.1960, Validation RMSE: 0.3263\n"
     ]
    },
    {
     "name": "stderr",
     "output_type": "stream",
     "text": [
      "Epoch 90/150: 100%|██████████| 213/213 [00:23<00:00,  9.10batch/s, mae_loss=0.219]\n"
     ]
    },
    {
     "name": "stdout",
     "output_type": "stream",
     "text": [
      "Epoch [90/150], Training MAE: 0.2464, Training RMSE: 0.3808\n",
      "Epoch [90/150], Validation MAE: 0.1962, Validation RMSE: 0.3263\n"
     ]
    },
    {
     "name": "stderr",
     "output_type": "stream",
     "text": [
      "Epoch 91/150: 100%|██████████| 213/213 [00:23<00:00,  9.17batch/s, mae_loss=0.216]\n"
     ]
    },
    {
     "name": "stdout",
     "output_type": "stream",
     "text": [
      "Epoch [91/150], Training MAE: 0.2464, Training RMSE: 0.3812\n",
      "Epoch [91/150], Validation MAE: 0.1954, Validation RMSE: 0.3261\n"
     ]
    },
    {
     "name": "stderr",
     "output_type": "stream",
     "text": [
      "Epoch 92/150: 100%|██████████| 213/213 [00:23<00:00,  8.96batch/s, mae_loss=0.237]\n"
     ]
    },
    {
     "name": "stdout",
     "output_type": "stream",
     "text": [
      "Epoch [92/150], Training MAE: 0.2458, Training RMSE: 0.3804\n",
      "Epoch [92/150], Validation MAE: 0.1953, Validation RMSE: 0.3262\n"
     ]
    },
    {
     "name": "stderr",
     "output_type": "stream",
     "text": [
      "Epoch 93/150: 100%|██████████| 213/213 [00:23<00:00,  9.09batch/s, mae_loss=0.268]\n"
     ]
    },
    {
     "name": "stdout",
     "output_type": "stream",
     "text": [
      "Epoch [93/150], Training MAE: 0.2457, Training RMSE: 0.3800\n",
      "Epoch [93/150], Validation MAE: 0.1956, Validation RMSE: 0.3257\n"
     ]
    },
    {
     "name": "stderr",
     "output_type": "stream",
     "text": [
      "Epoch 94/150: 100%|██████████| 213/213 [00:23<00:00,  9.06batch/s, mae_loss=0.265]\n"
     ]
    },
    {
     "name": "stdout",
     "output_type": "stream",
     "text": [
      "Epoch [94/150], Training MAE: 0.2455, Training RMSE: 0.3801\n",
      "Epoch [94/150], Validation MAE: 0.1953, Validation RMSE: 0.3254\n"
     ]
    },
    {
     "name": "stderr",
     "output_type": "stream",
     "text": [
      "Epoch 95/150: 100%|██████████| 213/213 [00:23<00:00,  9.17batch/s, mae_loss=0.277]\n"
     ]
    },
    {
     "name": "stdout",
     "output_type": "stream",
     "text": [
      "Epoch [95/150], Training MAE: 0.2455, Training RMSE: 0.3804\n",
      "Epoch [95/150], Validation MAE: 0.1955, Validation RMSE: 0.3255\n"
     ]
    },
    {
     "name": "stderr",
     "output_type": "stream",
     "text": [
      "Epoch 96/150: 100%|██████████| 213/213 [00:23<00:00,  9.12batch/s, mae_loss=0.243]\n"
     ]
    },
    {
     "name": "stdout",
     "output_type": "stream",
     "text": [
      "Epoch [96/150], Training MAE: 0.2451, Training RMSE: 0.3795\n",
      "Epoch [96/150], Validation MAE: 0.1954, Validation RMSE: 0.3262\n"
     ]
    },
    {
     "name": "stderr",
     "output_type": "stream",
     "text": [
      "Epoch 97/150: 100%|██████████| 213/213 [00:23<00:00,  9.08batch/s, mae_loss=0.255]\n"
     ]
    },
    {
     "name": "stdout",
     "output_type": "stream",
     "text": [
      "Epoch [97/150], Training MAE: 0.2449, Training RMSE: 0.3793\n",
      "Epoch [97/150], Validation MAE: 0.1953, Validation RMSE: 0.3255\n"
     ]
    },
    {
     "name": "stderr",
     "output_type": "stream",
     "text": [
      "Epoch 98/150: 100%|██████████| 213/213 [00:23<00:00,  9.16batch/s, mae_loss=0.256]\n"
     ]
    },
    {
     "name": "stdout",
     "output_type": "stream",
     "text": [
      "Epoch [98/150], Training MAE: 0.2447, Training RMSE: 0.3790\n",
      "Epoch [98/150], Validation MAE: 0.1956, Validation RMSE: 0.3259\n"
     ]
    },
    {
     "name": "stderr",
     "output_type": "stream",
     "text": [
      "Epoch 99/150: 100%|██████████| 213/213 [00:23<00:00,  9.10batch/s, mae_loss=0.214]\n"
     ]
    },
    {
     "name": "stdout",
     "output_type": "stream",
     "text": [
      "Epoch [99/150], Training MAE: 0.2444, Training RMSE: 0.3789\n",
      "Epoch [99/150], Validation MAE: 0.1950, Validation RMSE: 0.3251\n"
     ]
    },
    {
     "name": "stderr",
     "output_type": "stream",
     "text": [
      "Epoch 100/150: 100%|██████████| 213/213 [00:23<00:00,  9.11batch/s, mae_loss=0.223]\n"
     ]
    },
    {
     "name": "stdout",
     "output_type": "stream",
     "text": [
      "Epoch [100/150], Training MAE: 0.2446, Training RMSE: 0.3789\n",
      "Epoch [100/150], Validation MAE: 0.1953, Validation RMSE: 0.3263\n"
     ]
    },
    {
     "name": "stderr",
     "output_type": "stream",
     "text": [
      "Epoch 101/150: 100%|██████████| 213/213 [00:23<00:00,  9.13batch/s, mae_loss=0.241]\n"
     ]
    },
    {
     "name": "stdout",
     "output_type": "stream",
     "text": [
      "Epoch [101/150], Training MAE: 0.2441, Training RMSE: 0.3785\n",
      "Epoch [101/150], Validation MAE: 0.1950, Validation RMSE: 0.3254\n"
     ]
    },
    {
     "name": "stderr",
     "output_type": "stream",
     "text": [
      "Epoch 102/150: 100%|██████████| 213/213 [00:23<00:00,  9.03batch/s, mae_loss=0.259]\n"
     ]
    },
    {
     "name": "stdout",
     "output_type": "stream",
     "text": [
      "Epoch [102/150], Training MAE: 0.2442, Training RMSE: 0.3788\n",
      "Epoch [102/150], Validation MAE: 0.1944, Validation RMSE: 0.3251\n"
     ]
    },
    {
     "name": "stderr",
     "output_type": "stream",
     "text": [
      "Epoch 103/150: 100%|██████████| 213/213 [00:23<00:00,  9.05batch/s, mae_loss=0.272]\n"
     ]
    },
    {
     "name": "stdout",
     "output_type": "stream",
     "text": [
      "Epoch [103/150], Training MAE: 0.2435, Training RMSE: 0.3779\n",
      "Epoch [103/150], Validation MAE: 0.1952, Validation RMSE: 0.3249\n"
     ]
    },
    {
     "name": "stderr",
     "output_type": "stream",
     "text": [
      "Epoch 104/150: 100%|██████████| 213/213 [00:23<00:00,  9.19batch/s, mae_loss=0.241]\n"
     ]
    },
    {
     "name": "stdout",
     "output_type": "stream",
     "text": [
      "Epoch [104/150], Training MAE: 0.2436, Training RMSE: 0.3781\n",
      "Epoch [104/150], Validation MAE: 0.1949, Validation RMSE: 0.3253\n"
     ]
    },
    {
     "name": "stderr",
     "output_type": "stream",
     "text": [
      "Epoch 105/150: 100%|██████████| 213/213 [00:23<00:00,  8.95batch/s, mae_loss=0.217]\n"
     ]
    },
    {
     "name": "stdout",
     "output_type": "stream",
     "text": [
      "Epoch [105/150], Training MAE: 0.2434, Training RMSE: 0.3777\n",
      "Epoch [105/150], Validation MAE: 0.1953, Validation RMSE: 0.3252\n"
     ]
    },
    {
     "name": "stderr",
     "output_type": "stream",
     "text": [
      "Epoch 106/150: 100%|██████████| 213/213 [00:23<00:00,  9.18batch/s, mae_loss=0.247]\n"
     ]
    },
    {
     "name": "stdout",
     "output_type": "stream",
     "text": [
      "Epoch [106/150], Training MAE: 0.2433, Training RMSE: 0.3773\n",
      "Epoch [106/150], Validation MAE: 0.1950, Validation RMSE: 0.3245\n"
     ]
    },
    {
     "name": "stderr",
     "output_type": "stream",
     "text": [
      "Epoch 107/150: 100%|██████████| 213/213 [00:24<00:00,  8.84batch/s, mae_loss=0.239]\n"
     ]
    },
    {
     "name": "stdout",
     "output_type": "stream",
     "text": [
      "Epoch [107/150], Training MAE: 0.2434, Training RMSE: 0.3774\n",
      "Epoch [107/150], Validation MAE: 0.1949, Validation RMSE: 0.3249\n"
     ]
    },
    {
     "name": "stderr",
     "output_type": "stream",
     "text": [
      "Epoch 108/150: 100%|██████████| 213/213 [00:23<00:00,  9.19batch/s, mae_loss=0.261]\n"
     ]
    },
    {
     "name": "stdout",
     "output_type": "stream",
     "text": [
      "Epoch [108/150], Training MAE: 0.2431, Training RMSE: 0.3774\n",
      "Epoch [108/150], Validation MAE: 0.1954, Validation RMSE: 0.3253\n"
     ]
    },
    {
     "name": "stderr",
     "output_type": "stream",
     "text": [
      "Epoch 109/150: 100%|██████████| 213/213 [00:23<00:00,  9.13batch/s, mae_loss=0.257]\n"
     ]
    },
    {
     "name": "stdout",
     "output_type": "stream",
     "text": [
      "Epoch [109/150], Training MAE: 0.2429, Training RMSE: 0.3770\n",
      "Epoch [109/150], Validation MAE: 0.1956, Validation RMSE: 0.3255\n"
     ]
    },
    {
     "name": "stderr",
     "output_type": "stream",
     "text": [
      "Epoch 110/150: 100%|██████████| 213/213 [00:23<00:00,  9.15batch/s, mae_loss=0.237]\n"
     ]
    },
    {
     "name": "stdout",
     "output_type": "stream",
     "text": [
      "Epoch [110/150], Training MAE: 0.2426, Training RMSE: 0.3770\n",
      "Epoch [110/150], Validation MAE: 0.1954, Validation RMSE: 0.3253\n"
     ]
    },
    {
     "name": "stderr",
     "output_type": "stream",
     "text": [
      "Epoch 111/150: 100%|██████████| 213/213 [00:23<00:00,  9.17batch/s, mae_loss=0.22] \n"
     ]
    },
    {
     "name": "stdout",
     "output_type": "stream",
     "text": [
      "Epoch [111/150], Training MAE: 0.2423, Training RMSE: 0.3766\n",
      "Epoch [111/150], Validation MAE: 0.1948, Validation RMSE: 0.3249\n"
     ]
    },
    {
     "name": "stderr",
     "output_type": "stream",
     "text": [
      "Epoch 112/150: 100%|██████████| 213/213 [00:23<00:00,  9.05batch/s, mae_loss=0.247]\n"
     ]
    },
    {
     "name": "stdout",
     "output_type": "stream",
     "text": [
      "Epoch [112/150], Training MAE: 0.2424, Training RMSE: 0.3769\n",
      "Epoch [112/150], Validation MAE: 0.1957, Validation RMSE: 0.3253\n"
     ]
    },
    {
     "name": "stderr",
     "output_type": "stream",
     "text": [
      "Epoch 113/150: 100%|██████████| 213/213 [00:23<00:00,  9.18batch/s, mae_loss=0.229]\n"
     ]
    },
    {
     "name": "stdout",
     "output_type": "stream",
     "text": [
      "Epoch [113/150], Training MAE: 0.2420, Training RMSE: 0.3762\n",
      "Epoch [113/150], Validation MAE: 0.1942, Validation RMSE: 0.3247\n"
     ]
    },
    {
     "name": "stderr",
     "output_type": "stream",
     "text": [
      "Epoch 114/150: 100%|██████████| 213/213 [00:23<00:00,  9.13batch/s, mae_loss=0.234]\n"
     ]
    },
    {
     "name": "stdout",
     "output_type": "stream",
     "text": [
      "Epoch [114/150], Training MAE: 0.2419, Training RMSE: 0.3762\n",
      "Epoch [114/150], Validation MAE: 0.1957, Validation RMSE: 0.3249\n"
     ]
    },
    {
     "name": "stderr",
     "output_type": "stream",
     "text": [
      "Epoch 115/150: 100%|██████████| 213/213 [00:23<00:00,  8.97batch/s, mae_loss=0.228]\n"
     ]
    },
    {
     "name": "stdout",
     "output_type": "stream",
     "text": [
      "Epoch [115/150], Training MAE: 0.2422, Training RMSE: 0.3764\n",
      "Epoch [115/150], Validation MAE: 0.1956, Validation RMSE: 0.3251\n"
     ]
    },
    {
     "name": "stderr",
     "output_type": "stream",
     "text": [
      "Epoch 116/150: 100%|██████████| 213/213 [00:23<00:00,  9.00batch/s, mae_loss=0.263]\n"
     ]
    },
    {
     "name": "stdout",
     "output_type": "stream",
     "text": [
      "Epoch [116/150], Training MAE: 0.2416, Training RMSE: 0.3757\n",
      "Epoch [116/150], Validation MAE: 0.1949, Validation RMSE: 0.3250\n"
     ]
    },
    {
     "name": "stderr",
     "output_type": "stream",
     "text": [
      "Epoch 117/150: 100%|██████████| 213/213 [00:23<00:00,  8.95batch/s, mae_loss=0.259]\n"
     ]
    },
    {
     "name": "stdout",
     "output_type": "stream",
     "text": [
      "Epoch [117/150], Training MAE: 0.2419, Training RMSE: 0.3761\n",
      "Epoch [117/150], Validation MAE: 0.1947, Validation RMSE: 0.3248\n"
     ]
    },
    {
     "name": "stderr",
     "output_type": "stream",
     "text": [
      "Epoch 118/150: 100%|██████████| 213/213 [00:23<00:00,  9.05batch/s, mae_loss=0.247]\n"
     ]
    },
    {
     "name": "stdout",
     "output_type": "stream",
     "text": [
      "Epoch [118/150], Training MAE: 0.2418, Training RMSE: 0.3760\n",
      "Epoch [118/150], Validation MAE: 0.1957, Validation RMSE: 0.3248\n"
     ]
    },
    {
     "name": "stderr",
     "output_type": "stream",
     "text": [
      "Epoch 119/150: 100%|██████████| 213/213 [00:23<00:00,  9.18batch/s, mae_loss=0.249]\n"
     ]
    },
    {
     "name": "stdout",
     "output_type": "stream",
     "text": [
      "Epoch [119/150], Training MAE: 0.2417, Training RMSE: 0.3762\n",
      "Epoch [119/150], Validation MAE: 0.1951, Validation RMSE: 0.3246\n"
     ]
    },
    {
     "name": "stderr",
     "output_type": "stream",
     "text": [
      "Epoch 120/150: 100%|██████████| 213/213 [00:23<00:00,  9.06batch/s, mae_loss=0.237]\n"
     ]
    },
    {
     "name": "stdout",
     "output_type": "stream",
     "text": [
      "Epoch [120/150], Training MAE: 0.2412, Training RMSE: 0.3758\n",
      "Epoch [120/150], Validation MAE: 0.1948, Validation RMSE: 0.3243\n"
     ]
    },
    {
     "name": "stderr",
     "output_type": "stream",
     "text": [
      "Epoch 121/150: 100%|██████████| 213/213 [00:23<00:00,  9.17batch/s, mae_loss=0.244]\n"
     ]
    },
    {
     "name": "stdout",
     "output_type": "stream",
     "text": [
      "Epoch [121/150], Training MAE: 0.2413, Training RMSE: 0.3753\n",
      "Epoch [121/150], Validation MAE: 0.1948, Validation RMSE: 0.3245\n"
     ]
    },
    {
     "name": "stderr",
     "output_type": "stream",
     "text": [
      "Epoch 122/150: 100%|██████████| 213/213 [00:23<00:00,  8.89batch/s, mae_loss=0.232]\n"
     ]
    },
    {
     "name": "stdout",
     "output_type": "stream",
     "text": [
      "Epoch [122/150], Training MAE: 0.2407, Training RMSE: 0.3747\n",
      "Epoch [122/150], Validation MAE: 0.1945, Validation RMSE: 0.3244\n"
     ]
    },
    {
     "name": "stderr",
     "output_type": "stream",
     "text": [
      "Epoch 123/150: 100%|██████████| 213/213 [00:23<00:00,  9.15batch/s, mae_loss=0.244]\n"
     ]
    },
    {
     "name": "stdout",
     "output_type": "stream",
     "text": [
      "Epoch [123/150], Training MAE: 0.2406, Training RMSE: 0.3750\n",
      "Epoch [123/150], Validation MAE: 0.1949, Validation RMSE: 0.3250\n"
     ]
    },
    {
     "name": "stderr",
     "output_type": "stream",
     "text": [
      "Epoch 124/150: 100%|██████████| 213/213 [00:23<00:00,  9.11batch/s, mae_loss=0.227]\n"
     ]
    },
    {
     "name": "stdout",
     "output_type": "stream",
     "text": [
      "Epoch [124/150], Training MAE: 0.2405, Training RMSE: 0.3745\n",
      "Epoch [124/150], Validation MAE: 0.1948, Validation RMSE: 0.3238\n"
     ]
    },
    {
     "name": "stderr",
     "output_type": "stream",
     "text": [
      "Epoch 125/150: 100%|██████████| 213/213 [00:23<00:00,  8.97batch/s, mae_loss=0.232]\n"
     ]
    },
    {
     "name": "stdout",
     "output_type": "stream",
     "text": [
      "Epoch [125/150], Training MAE: 0.2405, Training RMSE: 0.3744\n",
      "Epoch [125/150], Validation MAE: 0.1948, Validation RMSE: 0.3242\n"
     ]
    },
    {
     "name": "stderr",
     "output_type": "stream",
     "text": [
      "Epoch 126/150: 100%|██████████| 213/213 [00:24<00:00,  8.78batch/s, mae_loss=0.224]\n"
     ]
    },
    {
     "name": "stdout",
     "output_type": "stream",
     "text": [
      "Epoch [126/150], Training MAE: 0.2405, Training RMSE: 0.3744\n",
      "Epoch [126/150], Validation MAE: 0.1941, Validation RMSE: 0.3242\n"
     ]
    },
    {
     "name": "stderr",
     "output_type": "stream",
     "text": [
      "Epoch 127/150: 100%|██████████| 213/213 [00:23<00:00,  8.95batch/s, mae_loss=0.25] \n"
     ]
    },
    {
     "name": "stdout",
     "output_type": "stream",
     "text": [
      "Epoch [127/150], Training MAE: 0.2400, Training RMSE: 0.3743\n",
      "Epoch [127/150], Validation MAE: 0.1941, Validation RMSE: 0.3232\n"
     ]
    },
    {
     "name": "stderr",
     "output_type": "stream",
     "text": [
      "Epoch 128/150: 100%|██████████| 213/213 [00:23<00:00,  9.16batch/s, mae_loss=0.252]\n"
     ]
    },
    {
     "name": "stdout",
     "output_type": "stream",
     "text": [
      "Epoch [128/150], Training MAE: 0.2401, Training RMSE: 0.3740\n",
      "Epoch [128/150], Validation MAE: 0.1944, Validation RMSE: 0.3244\n"
     ]
    },
    {
     "name": "stderr",
     "output_type": "stream",
     "text": [
      "Epoch 129/150: 100%|██████████| 213/213 [00:24<00:00,  8.80batch/s, mae_loss=0.26] \n"
     ]
    },
    {
     "name": "stdout",
     "output_type": "stream",
     "text": [
      "Epoch [129/150], Training MAE: 0.2398, Training RMSE: 0.3740\n",
      "Epoch [129/150], Validation MAE: 0.1946, Validation RMSE: 0.3239\n"
     ]
    },
    {
     "name": "stderr",
     "output_type": "stream",
     "text": [
      "Epoch 130/150: 100%|██████████| 213/213 [00:23<00:00,  9.17batch/s, mae_loss=0.256]\n"
     ]
    },
    {
     "name": "stdout",
     "output_type": "stream",
     "text": [
      "Epoch [130/150], Training MAE: 0.2400, Training RMSE: 0.3739\n",
      "Epoch [130/150], Validation MAE: 0.1952, Validation RMSE: 0.3244\n"
     ]
    },
    {
     "name": "stderr",
     "output_type": "stream",
     "text": [
      "Epoch 131/150: 100%|██████████| 213/213 [00:23<00:00,  9.16batch/s, mae_loss=0.242]\n"
     ]
    },
    {
     "name": "stdout",
     "output_type": "stream",
     "text": [
      "Epoch [131/150], Training MAE: 0.2394, Training RMSE: 0.3733\n",
      "Epoch [131/150], Validation MAE: 0.1958, Validation RMSE: 0.3247\n"
     ]
    },
    {
     "name": "stderr",
     "output_type": "stream",
     "text": [
      "Epoch 132/150: 100%|██████████| 213/213 [00:23<00:00,  8.88batch/s, mae_loss=0.263]\n"
     ]
    },
    {
     "name": "stdout",
     "output_type": "stream",
     "text": [
      "Epoch [132/150], Training MAE: 0.2395, Training RMSE: 0.3736\n",
      "Epoch [132/150], Validation MAE: 0.1942, Validation RMSE: 0.3237\n"
     ]
    },
    {
     "name": "stderr",
     "output_type": "stream",
     "text": [
      "Epoch 133/150: 100%|██████████| 213/213 [00:23<00:00,  9.06batch/s, mae_loss=0.241]\n"
     ]
    },
    {
     "name": "stdout",
     "output_type": "stream",
     "text": [
      "Epoch [133/150], Training MAE: 0.2390, Training RMSE: 0.3731\n",
      "Epoch [133/150], Validation MAE: 0.1943, Validation RMSE: 0.3239\n"
     ]
    },
    {
     "name": "stderr",
     "output_type": "stream",
     "text": [
      "Epoch 134/150: 100%|██████████| 213/213 [00:23<00:00,  9.06batch/s, mae_loss=0.226]\n"
     ]
    },
    {
     "name": "stdout",
     "output_type": "stream",
     "text": [
      "Epoch [134/150], Training MAE: 0.2390, Training RMSE: 0.3729\n",
      "Epoch [134/150], Validation MAE: 0.1950, Validation RMSE: 0.3246\n"
     ]
    },
    {
     "name": "stderr",
     "output_type": "stream",
     "text": [
      "Epoch 135/150: 100%|██████████| 213/213 [00:23<00:00,  8.92batch/s, mae_loss=0.25] \n"
     ]
    },
    {
     "name": "stdout",
     "output_type": "stream",
     "text": [
      "Epoch [135/150], Training MAE: 0.2391, Training RMSE: 0.3731\n",
      "Epoch [135/150], Validation MAE: 0.1956, Validation RMSE: 0.3252\n"
     ]
    },
    {
     "name": "stderr",
     "output_type": "stream",
     "text": [
      "Epoch 136/150: 100%|██████████| 213/213 [00:23<00:00,  9.15batch/s, mae_loss=0.232]\n"
     ]
    },
    {
     "name": "stdout",
     "output_type": "stream",
     "text": [
      "Epoch [136/150], Training MAE: 0.2389, Training RMSE: 0.3731\n",
      "Epoch [136/150], Validation MAE: 0.1951, Validation RMSE: 0.3245\n"
     ]
    },
    {
     "name": "stderr",
     "output_type": "stream",
     "text": [
      "Epoch 137/150: 100%|██████████| 213/213 [00:23<00:00,  8.90batch/s, mae_loss=0.253]\n"
     ]
    },
    {
     "name": "stdout",
     "output_type": "stream",
     "text": [
      "Epoch [137/150], Training MAE: 0.2387, Training RMSE: 0.3725\n",
      "Epoch [137/150], Validation MAE: 0.1947, Validation RMSE: 0.3237\n"
     ]
    },
    {
     "name": "stderr",
     "output_type": "stream",
     "text": [
      "Epoch 138/150: 100%|██████████| 213/213 [00:23<00:00,  9.13batch/s, mae_loss=0.229]\n"
     ]
    },
    {
     "name": "stdout",
     "output_type": "stream",
     "text": [
      "Epoch [138/150], Training MAE: 0.2388, Training RMSE: 0.3726\n",
      "Epoch [138/150], Validation MAE: 0.1942, Validation RMSE: 0.3243\n"
     ]
    },
    {
     "name": "stderr",
     "output_type": "stream",
     "text": [
      "Epoch 139/150: 100%|██████████| 213/213 [00:24<00:00,  8.81batch/s, mae_loss=0.236]\n"
     ]
    },
    {
     "name": "stdout",
     "output_type": "stream",
     "text": [
      "Epoch [139/150], Training MAE: 0.2382, Training RMSE: 0.3720\n",
      "Epoch [139/150], Validation MAE: 0.1949, Validation RMSE: 0.3243\n"
     ]
    },
    {
     "name": "stderr",
     "output_type": "stream",
     "text": [
      "Epoch 140/150: 100%|██████████| 213/213 [00:23<00:00,  9.13batch/s, mae_loss=0.262]\n"
     ]
    },
    {
     "name": "stdout",
     "output_type": "stream",
     "text": [
      "Epoch [140/150], Training MAE: 0.2381, Training RMSE: 0.3722\n",
      "Epoch [140/150], Validation MAE: 0.1948, Validation RMSE: 0.3240\n"
     ]
    },
    {
     "name": "stderr",
     "output_type": "stream",
     "text": [
      "Epoch 141/150: 100%|██████████| 213/213 [00:23<00:00,  9.10batch/s, mae_loss=0.216]\n"
     ]
    },
    {
     "name": "stdout",
     "output_type": "stream",
     "text": [
      "Epoch [141/150], Training MAE: 0.2383, Training RMSE: 0.3720\n",
      "Epoch [141/150], Validation MAE: 0.1947, Validation RMSE: 0.3239\n"
     ]
    },
    {
     "name": "stderr",
     "output_type": "stream",
     "text": [
      "Epoch 142/150: 100%|██████████| 213/213 [00:23<00:00,  8.97batch/s, mae_loss=0.253]\n"
     ]
    },
    {
     "name": "stdout",
     "output_type": "stream",
     "text": [
      "Epoch [142/150], Training MAE: 0.2381, Training RMSE: 0.3719\n",
      "Epoch [142/150], Validation MAE: 0.1938, Validation RMSE: 0.3235\n"
     ]
    },
    {
     "name": "stderr",
     "output_type": "stream",
     "text": [
      "Epoch 143/150: 100%|██████████| 213/213 [00:23<00:00,  9.12batch/s, mae_loss=0.229]\n"
     ]
    },
    {
     "name": "stdout",
     "output_type": "stream",
     "text": [
      "Epoch [143/150], Training MAE: 0.2382, Training RMSE: 0.3720\n",
      "Epoch [143/150], Validation MAE: 0.1949, Validation RMSE: 0.3244\n"
     ]
    },
    {
     "name": "stderr",
     "output_type": "stream",
     "text": [
      "Epoch 144/150: 100%|██████████| 213/213 [00:23<00:00,  8.89batch/s, mae_loss=0.27] \n"
     ]
    },
    {
     "name": "stdout",
     "output_type": "stream",
     "text": [
      "Epoch [144/150], Training MAE: 0.2379, Training RMSE: 0.3721\n",
      "Epoch [144/150], Validation MAE: 0.1952, Validation RMSE: 0.3237\n"
     ]
    },
    {
     "name": "stderr",
     "output_type": "stream",
     "text": [
      "Epoch 145/150: 100%|██████████| 213/213 [00:23<00:00,  9.21batch/s, mae_loss=0.236]\n"
     ]
    },
    {
     "name": "stdout",
     "output_type": "stream",
     "text": [
      "Epoch [145/150], Training MAE: 0.2381, Training RMSE: 0.3720\n",
      "Epoch [145/150], Validation MAE: 0.1950, Validation RMSE: 0.3243\n"
     ]
    },
    {
     "name": "stderr",
     "output_type": "stream",
     "text": [
      "Epoch 146/150: 100%|██████████| 213/213 [00:23<00:00,  8.91batch/s, mae_loss=0.282]\n"
     ]
    },
    {
     "name": "stdout",
     "output_type": "stream",
     "text": [
      "Epoch [146/150], Training MAE: 0.2378, Training RMSE: 0.3717\n",
      "Epoch [146/150], Validation MAE: 0.1950, Validation RMSE: 0.3239\n"
     ]
    },
    {
     "name": "stderr",
     "output_type": "stream",
     "text": [
      "Epoch 147/150: 100%|██████████| 213/213 [00:23<00:00,  8.90batch/s, mae_loss=0.221]\n"
     ]
    },
    {
     "name": "stdout",
     "output_type": "stream",
     "text": [
      "Epoch [147/150], Training MAE: 0.2374, Training RMSE: 0.3713\n",
      "Epoch [147/150], Validation MAE: 0.1948, Validation RMSE: 0.3237\n"
     ]
    },
    {
     "name": "stderr",
     "output_type": "stream",
     "text": [
      "Epoch 148/150: 100%|██████████| 213/213 [00:23<00:00,  8.98batch/s, mae_loss=0.207]\n"
     ]
    },
    {
     "name": "stdout",
     "output_type": "stream",
     "text": [
      "Epoch [148/150], Training MAE: 0.2373, Training RMSE: 0.3710\n",
      "Epoch [148/150], Validation MAE: 0.1950, Validation RMSE: 0.3235\n"
     ]
    },
    {
     "name": "stderr",
     "output_type": "stream",
     "text": [
      "Epoch 149/150: 100%|██████████| 213/213 [00:24<00:00,  8.84batch/s, mae_loss=0.242]\n"
     ]
    },
    {
     "name": "stdout",
     "output_type": "stream",
     "text": [
      "Epoch [149/150], Training MAE: 0.2373, Training RMSE: 0.3711\n",
      "Epoch [149/150], Validation MAE: 0.1954, Validation RMSE: 0.3241\n"
     ]
    },
    {
     "name": "stderr",
     "output_type": "stream",
     "text": [
      "Epoch 150/150: 100%|██████████| 213/213 [00:23<00:00,  8.95batch/s, mae_loss=0.226]\n"
     ]
    },
    {
     "name": "stdout",
     "output_type": "stream",
     "text": [
      "Epoch [150/150], Training MAE: 0.2372, Training RMSE: 0.3711\n",
      "Epoch [150/150], Validation MAE: 0.1955, Validation RMSE: 0.3237\n"
     ]
    }
   ],
   "source": [
    "prediction_horizon = 6\n",
    "train_loader, validation_loader, all_train_loader, test_loader, input_shape, input_shape_test, output_shape, output_shape_test =  prepare_data_loader(\n",
    "                                                                                window_size,BATCH_SIZE, prediction_horizon,\n",
    "                                                                                model_type, split_ratio = 0.7, df = None, df_test = None, output_folder_train=output_folder_train, shuffle = True)\n",
    "\n",
    "model_all_train = SharedLayerModelWithAttention(input_shape=input_shape , output_shape=output_shape) \n",
    "model_all_train = model_all_train.to(device)\n",
    "model_all_train, history2 = train_model(model_all_train, all_train_loader, val_loader = test_loader, epochs=150, learning_rate=0.00001, model_type = model_type)\n",
    "histories_noval_PHs[prediction_horizon] = history2\n"
   ]
  },
  {
   "cell_type": "code",
   "execution_count": 11,
   "metadata": {},
   "outputs": [],
   "source": [
    "pd.DataFrame(histories_noval_PHs[6]).to_csv(\"saved_models\\\\loss_ph6_multitasking.csv\")"
   ]
  },
  {
   "cell_type": "code",
   "execution_count": 4,
   "metadata": {},
   "outputs": [
    {
     "name": "stdout",
     "output_type": "stream",
     "text": [
      "Start Prediction Horizon 24 of shared-layer model\n"
     ]
    },
    {
     "name": "stderr",
     "output_type": "stream",
     "text": [
      "Epoch 1/150: 100%|██████████| 213/213 [00:59<00:00,  3.61batch/s, mae_loss=0.724]\n"
     ]
    },
    {
     "name": "stdout",
     "output_type": "stream",
     "text": [
      "Epoch [1/150], Training MAE: 0.6944, Training RMSE: 0.9184\n",
      "Epoch [1/150], Validation MAE: 0.5536, Validation RMSE: 0.8079\n"
     ]
    },
    {
     "name": "stderr",
     "output_type": "stream",
     "text": [
      "Epoch 2/150: 100%|██████████| 213/213 [00:24<00:00,  8.73batch/s, mae_loss=0.601]\n"
     ]
    },
    {
     "name": "stdout",
     "output_type": "stream",
     "text": [
      "Epoch [2/150], Training MAE: 0.6659, Training RMSE: 0.8880\n",
      "Epoch [2/150], Validation MAE: 0.5366, Validation RMSE: 0.7857\n"
     ]
    },
    {
     "name": "stderr",
     "output_type": "stream",
     "text": [
      "Epoch 3/150: 100%|██████████| 213/213 [00:24<00:00,  8.60batch/s, mae_loss=0.666]\n"
     ]
    },
    {
     "name": "stdout",
     "output_type": "stream",
     "text": [
      "Epoch [3/150], Training MAE: 0.6498, Training RMSE: 0.8699\n",
      "Epoch [3/150], Validation MAE: 0.5314, Validation RMSE: 0.7757\n"
     ]
    },
    {
     "name": "stderr",
     "output_type": "stream",
     "text": [
      "Epoch 4/150: 100%|██████████| 213/213 [00:24<00:00,  8.71batch/s, mae_loss=0.6]  \n"
     ]
    },
    {
     "name": "stdout",
     "output_type": "stream",
     "text": [
      "Epoch [4/150], Training MAE: 0.6395, Training RMSE: 0.8584\n",
      "Epoch [4/150], Validation MAE: 0.5248, Validation RMSE: 0.7671\n"
     ]
    },
    {
     "name": "stderr",
     "output_type": "stream",
     "text": [
      "Epoch 5/150: 100%|██████████| 213/213 [00:24<00:00,  8.86batch/s, mae_loss=0.596]\n"
     ]
    },
    {
     "name": "stdout",
     "output_type": "stream",
     "text": [
      "Epoch [5/150], Training MAE: 0.6340, Training RMSE: 0.8523\n",
      "Epoch [5/150], Validation MAE: 0.5249, Validation RMSE: 0.7643\n"
     ]
    },
    {
     "name": "stderr",
     "output_type": "stream",
     "text": [
      "Epoch 6/150: 100%|██████████| 213/213 [00:25<00:00,  8.43batch/s, mae_loss=0.693]\n"
     ]
    },
    {
     "name": "stdout",
     "output_type": "stream",
     "text": [
      "Epoch [6/150], Training MAE: 0.6301, Training RMSE: 0.8480\n",
      "Epoch [6/150], Validation MAE: 0.5239, Validation RMSE: 0.7612\n"
     ]
    },
    {
     "name": "stderr",
     "output_type": "stream",
     "text": [
      "Epoch 7/150: 100%|██████████| 213/213 [00:25<00:00,  8.36batch/s, mae_loss=0.592]\n"
     ]
    },
    {
     "name": "stdout",
     "output_type": "stream",
     "text": [
      "Epoch [7/150], Training MAE: 0.6268, Training RMSE: 0.8452\n",
      "Epoch [7/150], Validation MAE: 0.5226, Validation RMSE: 0.7584\n"
     ]
    },
    {
     "name": "stderr",
     "output_type": "stream",
     "text": [
      "Epoch 8/150: 100%|██████████| 213/213 [00:27<00:00,  7.77batch/s, mae_loss=0.654]\n"
     ]
    },
    {
     "name": "stdout",
     "output_type": "stream",
     "text": [
      "Epoch [8/150], Training MAE: 0.6243, Training RMSE: 0.8425\n",
      "Epoch [8/150], Validation MAE: 0.5223, Validation RMSE: 0.7587\n"
     ]
    },
    {
     "name": "stderr",
     "output_type": "stream",
     "text": [
      "Epoch 9/150: 100%|██████████| 213/213 [00:28<00:00,  7.59batch/s, mae_loss=0.625]\n"
     ]
    },
    {
     "name": "stdout",
     "output_type": "stream",
     "text": [
      "Epoch [9/150], Training MAE: 0.6214, Training RMSE: 0.8396\n",
      "Epoch [9/150], Validation MAE: 0.5204, Validation RMSE: 0.7547\n"
     ]
    },
    {
     "name": "stderr",
     "output_type": "stream",
     "text": [
      "Epoch 10/150: 100%|██████████| 213/213 [00:32<00:00,  6.57batch/s, mae_loss=0.639]\n"
     ]
    },
    {
     "name": "stdout",
     "output_type": "stream",
     "text": [
      "Epoch [10/150], Training MAE: 0.6185, Training RMSE: 0.8364\n",
      "Epoch [10/150], Validation MAE: 0.5190, Validation RMSE: 0.7522\n"
     ]
    },
    {
     "name": "stderr",
     "output_type": "stream",
     "text": [
      "Epoch 11/150: 100%|██████████| 213/213 [00:26<00:00,  8.00batch/s, mae_loss=0.603]\n"
     ]
    },
    {
     "name": "stdout",
     "output_type": "stream",
     "text": [
      "Epoch [11/150], Training MAE: 0.6158, Training RMSE: 0.8336\n",
      "Epoch [11/150], Validation MAE: 0.5183, Validation RMSE: 0.7510\n"
     ]
    },
    {
     "name": "stderr",
     "output_type": "stream",
     "text": [
      "Epoch 12/150: 100%|██████████| 213/213 [00:26<00:00,  7.98batch/s, mae_loss=0.594]\n"
     ]
    },
    {
     "name": "stdout",
     "output_type": "stream",
     "text": [
      "Epoch [12/150], Training MAE: 0.6136, Training RMSE: 0.8314\n",
      "Epoch [12/150], Validation MAE: 0.5153, Validation RMSE: 0.7479\n"
     ]
    },
    {
     "name": "stderr",
     "output_type": "stream",
     "text": [
      "Epoch 13/150: 100%|██████████| 213/213 [00:26<00:00,  7.90batch/s, mae_loss=0.625]\n"
     ]
    },
    {
     "name": "stdout",
     "output_type": "stream",
     "text": [
      "Epoch [13/150], Training MAE: 0.6113, Training RMSE: 0.8289\n",
      "Epoch [13/150], Validation MAE: 0.5153, Validation RMSE: 0.7464\n"
     ]
    },
    {
     "name": "stderr",
     "output_type": "stream",
     "text": [
      "Epoch 14/150: 100%|██████████| 213/213 [00:27<00:00,  7.83batch/s, mae_loss=0.629]\n"
     ]
    },
    {
     "name": "stdout",
     "output_type": "stream",
     "text": [
      "Epoch [14/150], Training MAE: 0.6089, Training RMSE: 0.8264\n",
      "Epoch [14/150], Validation MAE: 0.5151, Validation RMSE: 0.7466\n"
     ]
    },
    {
     "name": "stderr",
     "output_type": "stream",
     "text": [
      "Epoch 15/150: 100%|██████████| 213/213 [00:27<00:00,  7.85batch/s, mae_loss=0.617]\n"
     ]
    },
    {
     "name": "stdout",
     "output_type": "stream",
     "text": [
      "Epoch [15/150], Training MAE: 0.6058, Training RMSE: 0.8229\n",
      "Epoch [15/150], Validation MAE: 0.5099, Validation RMSE: 0.7406\n"
     ]
    },
    {
     "name": "stderr",
     "output_type": "stream",
     "text": [
      "Epoch 16/150: 100%|██████████| 213/213 [00:25<00:00,  8.23batch/s, mae_loss=0.599]\n"
     ]
    },
    {
     "name": "stdout",
     "output_type": "stream",
     "text": [
      "Epoch [16/150], Training MAE: 0.6026, Training RMSE: 0.8196\n",
      "Epoch [16/150], Validation MAE: 0.5109, Validation RMSE: 0.7393\n"
     ]
    },
    {
     "name": "stderr",
     "output_type": "stream",
     "text": [
      "Epoch 17/150: 100%|██████████| 213/213 [00:28<00:00,  7.46batch/s, mae_loss=0.579]\n"
     ]
    },
    {
     "name": "stdout",
     "output_type": "stream",
     "text": [
      "Epoch [17/150], Training MAE: 0.6006, Training RMSE: 0.8167\n",
      "Epoch [17/150], Validation MAE: 0.5089, Validation RMSE: 0.7378\n"
     ]
    },
    {
     "name": "stderr",
     "output_type": "stream",
     "text": [
      "Epoch 18/150: 100%|██████████| 213/213 [00:26<00:00,  8.08batch/s, mae_loss=0.555]\n"
     ]
    },
    {
     "name": "stdout",
     "output_type": "stream",
     "text": [
      "Epoch [18/150], Training MAE: 0.5975, Training RMSE: 0.8135\n",
      "Epoch [18/150], Validation MAE: 0.5090, Validation RMSE: 0.7363\n"
     ]
    },
    {
     "name": "stderr",
     "output_type": "stream",
     "text": [
      "Epoch 19/150: 100%|██████████| 213/213 [00:28<00:00,  7.39batch/s, mae_loss=0.56] \n"
     ]
    },
    {
     "name": "stdout",
     "output_type": "stream",
     "text": [
      "Epoch [19/150], Training MAE: 0.5948, Training RMSE: 0.8104\n",
      "Epoch [19/150], Validation MAE: 0.5084, Validation RMSE: 0.7349\n"
     ]
    },
    {
     "name": "stderr",
     "output_type": "stream",
     "text": [
      "Epoch 20/150: 100%|██████████| 213/213 [00:25<00:00,  8.26batch/s, mae_loss=0.606]\n"
     ]
    },
    {
     "name": "stdout",
     "output_type": "stream",
     "text": [
      "Epoch [20/150], Training MAE: 0.5934, Training RMSE: 0.8093\n",
      "Epoch [20/150], Validation MAE: 0.5083, Validation RMSE: 0.7347\n"
     ]
    },
    {
     "name": "stderr",
     "output_type": "stream",
     "text": [
      "Epoch 21/150: 100%|██████████| 213/213 [00:25<00:00,  8.38batch/s, mae_loss=0.572]\n"
     ]
    },
    {
     "name": "stdout",
     "output_type": "stream",
     "text": [
      "Epoch [21/150], Training MAE: 0.5910, Training RMSE: 0.8067\n",
      "Epoch [21/150], Validation MAE: 0.5075, Validation RMSE: 0.7343\n"
     ]
    },
    {
     "name": "stderr",
     "output_type": "stream",
     "text": [
      "Epoch 22/150: 100%|██████████| 213/213 [00:25<00:00,  8.46batch/s, mae_loss=0.644]\n"
     ]
    },
    {
     "name": "stdout",
     "output_type": "stream",
     "text": [
      "Epoch [22/150], Training MAE: 0.5893, Training RMSE: 0.8048\n",
      "Epoch [22/150], Validation MAE: 0.5070, Validation RMSE: 0.7333\n"
     ]
    },
    {
     "name": "stderr",
     "output_type": "stream",
     "text": [
      "Epoch 23/150: 100%|██████████| 213/213 [00:25<00:00,  8.22batch/s, mae_loss=0.541]\n"
     ]
    },
    {
     "name": "stdout",
     "output_type": "stream",
     "text": [
      "Epoch [23/150], Training MAE: 0.5877, Training RMSE: 0.8030\n",
      "Epoch [23/150], Validation MAE: 0.5079, Validation RMSE: 0.7335\n"
     ]
    },
    {
     "name": "stderr",
     "output_type": "stream",
     "text": [
      "Epoch 24/150: 100%|██████████| 213/213 [00:26<00:00,  7.96batch/s, mae_loss=0.567]\n"
     ]
    },
    {
     "name": "stdout",
     "output_type": "stream",
     "text": [
      "Epoch [24/150], Training MAE: 0.5862, Training RMSE: 0.8012\n",
      "Epoch [24/150], Validation MAE: 0.5074, Validation RMSE: 0.7326\n"
     ]
    },
    {
     "name": "stderr",
     "output_type": "stream",
     "text": [
      "Epoch 25/150: 100%|██████████| 213/213 [00:28<00:00,  7.43batch/s, mae_loss=0.547]\n"
     ]
    },
    {
     "name": "stdout",
     "output_type": "stream",
     "text": [
      "Epoch [25/150], Training MAE: 0.5838, Training RMSE: 0.7990\n",
      "Epoch [25/150], Validation MAE: 0.5041, Validation RMSE: 0.7295\n"
     ]
    },
    {
     "name": "stderr",
     "output_type": "stream",
     "text": [
      "Epoch 26/150: 100%|██████████| 213/213 [00:25<00:00,  8.19batch/s, mae_loss=0.608]\n"
     ]
    },
    {
     "name": "stdout",
     "output_type": "stream",
     "text": [
      "Epoch [26/150], Training MAE: 0.5838, Training RMSE: 0.7984\n",
      "Epoch [26/150], Validation MAE: 0.5060, Validation RMSE: 0.7309\n"
     ]
    },
    {
     "name": "stderr",
     "output_type": "stream",
     "text": [
      "Epoch 27/150: 100%|██████████| 213/213 [00:30<00:00,  7.02batch/s, mae_loss=0.601]\n"
     ]
    },
    {
     "name": "stdout",
     "output_type": "stream",
     "text": [
      "Epoch [27/150], Training MAE: 0.5821, Training RMSE: 0.7971\n",
      "Epoch [27/150], Validation MAE: 0.5053, Validation RMSE: 0.7300\n"
     ]
    },
    {
     "name": "stderr",
     "output_type": "stream",
     "text": [
      "Epoch 28/150: 100%|██████████| 213/213 [00:26<00:00,  8.08batch/s, mae_loss=0.628]\n"
     ]
    },
    {
     "name": "stdout",
     "output_type": "stream",
     "text": [
      "Epoch [28/150], Training MAE: 0.5813, Training RMSE: 0.7955\n",
      "Epoch [28/150], Validation MAE: 0.5067, Validation RMSE: 0.7291\n"
     ]
    },
    {
     "name": "stderr",
     "output_type": "stream",
     "text": [
      "Epoch 29/150: 100%|██████████| 213/213 [00:25<00:00,  8.39batch/s, mae_loss=0.557]\n"
     ]
    },
    {
     "name": "stdout",
     "output_type": "stream",
     "text": [
      "Epoch [29/150], Training MAE: 0.5795, Training RMSE: 0.7937\n",
      "Epoch [29/150], Validation MAE: 0.5053, Validation RMSE: 0.7277\n"
     ]
    },
    {
     "name": "stderr",
     "output_type": "stream",
     "text": [
      "Epoch 30/150: 100%|██████████| 213/213 [00:26<00:00,  8.10batch/s, mae_loss=0.59] \n"
     ]
    },
    {
     "name": "stdout",
     "output_type": "stream",
     "text": [
      "Epoch [30/150], Training MAE: 0.5789, Training RMSE: 0.7933\n",
      "Epoch [30/150], Validation MAE: 0.5045, Validation RMSE: 0.7272\n"
     ]
    },
    {
     "name": "stderr",
     "output_type": "stream",
     "text": [
      "Epoch 31/150: 100%|██████████| 213/213 [00:28<00:00,  7.54batch/s, mae_loss=0.579]\n"
     ]
    },
    {
     "name": "stdout",
     "output_type": "stream",
     "text": [
      "Epoch [31/150], Training MAE: 0.5771, Training RMSE: 0.7913\n",
      "Epoch [31/150], Validation MAE: 0.5041, Validation RMSE: 0.7267\n"
     ]
    },
    {
     "name": "stderr",
     "output_type": "stream",
     "text": [
      "Epoch 32/150: 100%|██████████| 213/213 [00:27<00:00,  7.72batch/s, mae_loss=0.565]\n"
     ]
    },
    {
     "name": "stdout",
     "output_type": "stream",
     "text": [
      "Epoch [32/150], Training MAE: 0.5772, Training RMSE: 0.7914\n",
      "Epoch [32/150], Validation MAE: 0.5053, Validation RMSE: 0.7274\n"
     ]
    },
    {
     "name": "stderr",
     "output_type": "stream",
     "text": [
      "Epoch 33/150: 100%|██████████| 213/213 [00:25<00:00,  8.27batch/s, mae_loss=0.581]\n"
     ]
    },
    {
     "name": "stdout",
     "output_type": "stream",
     "text": [
      "Epoch [33/150], Training MAE: 0.5761, Training RMSE: 0.7904\n",
      "Epoch [33/150], Validation MAE: 0.5056, Validation RMSE: 0.7278\n"
     ]
    },
    {
     "name": "stderr",
     "output_type": "stream",
     "text": [
      "Epoch 34/150: 100%|██████████| 213/213 [00:25<00:00,  8.45batch/s, mae_loss=0.568]\n"
     ]
    },
    {
     "name": "stdout",
     "output_type": "stream",
     "text": [
      "Epoch [34/150], Training MAE: 0.5746, Training RMSE: 0.7884\n",
      "Epoch [34/150], Validation MAE: 0.5029, Validation RMSE: 0.7248\n"
     ]
    },
    {
     "name": "stderr",
     "output_type": "stream",
     "text": [
      "Epoch 35/150: 100%|██████████| 213/213 [00:26<00:00,  7.91batch/s, mae_loss=0.685]\n"
     ]
    },
    {
     "name": "stdout",
     "output_type": "stream",
     "text": [
      "Epoch [35/150], Training MAE: 0.5750, Training RMSE: 0.7887\n",
      "Epoch [35/150], Validation MAE: 0.5032, Validation RMSE: 0.7252\n"
     ]
    },
    {
     "name": "stderr",
     "output_type": "stream",
     "text": [
      "Epoch 36/150: 100%|██████████| 213/213 [00:27<00:00,  7.76batch/s, mae_loss=0.529]\n"
     ]
    },
    {
     "name": "stdout",
     "output_type": "stream",
     "text": [
      "Epoch [36/150], Training MAE: 0.5733, Training RMSE: 0.7870\n",
      "Epoch [36/150], Validation MAE: 0.5037, Validation RMSE: 0.7255\n"
     ]
    },
    {
     "name": "stderr",
     "output_type": "stream",
     "text": [
      "Epoch 37/150: 100%|██████████| 213/213 [00:25<00:00,  8.46batch/s, mae_loss=0.633]\n"
     ]
    },
    {
     "name": "stdout",
     "output_type": "stream",
     "text": [
      "Epoch [37/150], Training MAE: 0.5731, Training RMSE: 0.7869\n",
      "Epoch [37/150], Validation MAE: 0.5029, Validation RMSE: 0.7242\n"
     ]
    },
    {
     "name": "stderr",
     "output_type": "stream",
     "text": [
      "Epoch 38/150: 100%|██████████| 213/213 [00:25<00:00,  8.50batch/s, mae_loss=0.546]\n"
     ]
    },
    {
     "name": "stdout",
     "output_type": "stream",
     "text": [
      "Epoch [38/150], Training MAE: 0.5718, Training RMSE: 0.7852\n",
      "Epoch [38/150], Validation MAE: 0.5043, Validation RMSE: 0.7247\n"
     ]
    },
    {
     "name": "stderr",
     "output_type": "stream",
     "text": [
      "Epoch 39/150: 100%|██████████| 213/213 [00:23<00:00,  8.95batch/s, mae_loss=0.572]\n"
     ]
    },
    {
     "name": "stdout",
     "output_type": "stream",
     "text": [
      "Epoch [39/150], Training MAE: 0.5712, Training RMSE: 0.7851\n",
      "Epoch [39/150], Validation MAE: 0.5036, Validation RMSE: 0.7253\n"
     ]
    },
    {
     "name": "stderr",
     "output_type": "stream",
     "text": [
      "Epoch 40/150: 100%|██████████| 213/213 [00:24<00:00,  8.87batch/s, mae_loss=0.593]\n"
     ]
    },
    {
     "name": "stdout",
     "output_type": "stream",
     "text": [
      "Epoch [40/150], Training MAE: 0.5703, Training RMSE: 0.7840\n",
      "Epoch [40/150], Validation MAE: 0.5028, Validation RMSE: 0.7239\n"
     ]
    },
    {
     "name": "stderr",
     "output_type": "stream",
     "text": [
      "Epoch 41/150: 100%|██████████| 213/213 [00:26<00:00,  7.93batch/s, mae_loss=0.622]\n"
     ]
    },
    {
     "name": "stdout",
     "output_type": "stream",
     "text": [
      "Epoch [41/150], Training MAE: 0.5695, Training RMSE: 0.7827\n",
      "Epoch [41/150], Validation MAE: 0.5044, Validation RMSE: 0.7247\n"
     ]
    },
    {
     "name": "stderr",
     "output_type": "stream",
     "text": [
      "Epoch 42/150: 100%|██████████| 213/213 [00:25<00:00,  8.37batch/s, mae_loss=0.599]\n"
     ]
    },
    {
     "name": "stdout",
     "output_type": "stream",
     "text": [
      "Epoch [42/150], Training MAE: 0.5688, Training RMSE: 0.7821\n",
      "Epoch [42/150], Validation MAE: 0.5066, Validation RMSE: 0.7273\n"
     ]
    },
    {
     "name": "stderr",
     "output_type": "stream",
     "text": [
      "Epoch 43/150: 100%|██████████| 213/213 [00:26<00:00,  8.12batch/s, mae_loss=0.589]\n"
     ]
    },
    {
     "name": "stdout",
     "output_type": "stream",
     "text": [
      "Epoch [43/150], Training MAE: 0.5686, Training RMSE: 0.7822\n",
      "Epoch [43/150], Validation MAE: 0.5081, Validation RMSE: 0.7282\n"
     ]
    },
    {
     "name": "stderr",
     "output_type": "stream",
     "text": [
      "Epoch 44/150: 100%|██████████| 213/213 [00:24<00:00,  8.53batch/s, mae_loss=0.55] \n"
     ]
    },
    {
     "name": "stdout",
     "output_type": "stream",
     "text": [
      "Epoch [44/150], Training MAE: 0.5673, Training RMSE: 0.7808\n",
      "Epoch [44/150], Validation MAE: 0.5050, Validation RMSE: 0.7254\n"
     ]
    },
    {
     "name": "stderr",
     "output_type": "stream",
     "text": [
      "Epoch 45/150: 100%|██████████| 213/213 [00:27<00:00,  7.70batch/s, mae_loss=0.578]\n"
     ]
    },
    {
     "name": "stdout",
     "output_type": "stream",
     "text": [
      "Epoch [45/150], Training MAE: 0.5665, Training RMSE: 0.7797\n",
      "Epoch [45/150], Validation MAE: 0.5058, Validation RMSE: 0.7261\n"
     ]
    },
    {
     "name": "stderr",
     "output_type": "stream",
     "text": [
      "Epoch 46/150: 100%|██████████| 213/213 [00:27<00:00,  7.70batch/s, mae_loss=0.553]\n"
     ]
    },
    {
     "name": "stdout",
     "output_type": "stream",
     "text": [
      "Epoch [46/150], Training MAE: 0.5657, Training RMSE: 0.7788\n",
      "Epoch [46/150], Validation MAE: 0.5050, Validation RMSE: 0.7240\n"
     ]
    },
    {
     "name": "stderr",
     "output_type": "stream",
     "text": [
      "Epoch 47/150: 100%|██████████| 213/213 [00:25<00:00,  8.39batch/s, mae_loss=0.58] \n"
     ]
    },
    {
     "name": "stdout",
     "output_type": "stream",
     "text": [
      "Epoch [47/150], Training MAE: 0.5654, Training RMSE: 0.7782\n",
      "Epoch [47/150], Validation MAE: 0.5037, Validation RMSE: 0.7243\n"
     ]
    },
    {
     "name": "stderr",
     "output_type": "stream",
     "text": [
      "Epoch 48/150: 100%|██████████| 213/213 [00:26<00:00,  8.15batch/s, mae_loss=0.584]\n"
     ]
    },
    {
     "name": "stdout",
     "output_type": "stream",
     "text": [
      "Epoch [48/150], Training MAE: 0.5644, Training RMSE: 0.7776\n",
      "Epoch [48/150], Validation MAE: 0.5039, Validation RMSE: 0.7234\n"
     ]
    },
    {
     "name": "stderr",
     "output_type": "stream",
     "text": [
      "Epoch 49/150: 100%|██████████| 213/213 [00:26<00:00,  8.14batch/s, mae_loss=0.601]\n"
     ]
    },
    {
     "name": "stdout",
     "output_type": "stream",
     "text": [
      "Epoch [49/150], Training MAE: 0.5633, Training RMSE: 0.7767\n",
      "Epoch [49/150], Validation MAE: 0.5060, Validation RMSE: 0.7264\n"
     ]
    },
    {
     "name": "stderr",
     "output_type": "stream",
     "text": [
      "Epoch 50/150: 100%|██████████| 213/213 [00:28<00:00,  7.43batch/s, mae_loss=0.522]\n"
     ]
    },
    {
     "name": "stdout",
     "output_type": "stream",
     "text": [
      "Epoch [50/150], Training MAE: 0.5631, Training RMSE: 0.7763\n",
      "Epoch [50/150], Validation MAE: 0.5071, Validation RMSE: 0.7257\n"
     ]
    },
    {
     "name": "stderr",
     "output_type": "stream",
     "text": [
      "Epoch 51/150: 100%|██████████| 213/213 [00:26<00:00,  7.92batch/s, mae_loss=0.533]\n"
     ]
    },
    {
     "name": "stdout",
     "output_type": "stream",
     "text": [
      "Epoch [51/150], Training MAE: 0.5623, Training RMSE: 0.7753\n",
      "Epoch [51/150], Validation MAE: 0.5064, Validation RMSE: 0.7269\n"
     ]
    },
    {
     "name": "stderr",
     "output_type": "stream",
     "text": [
      "Epoch 52/150: 100%|██████████| 213/213 [00:25<00:00,  8.35batch/s, mae_loss=0.572]\n"
     ]
    },
    {
     "name": "stdout",
     "output_type": "stream",
     "text": [
      "Epoch [52/150], Training MAE: 0.5620, Training RMSE: 0.7747\n",
      "Epoch [52/150], Validation MAE: 0.5050, Validation RMSE: 0.7242\n"
     ]
    },
    {
     "name": "stderr",
     "output_type": "stream",
     "text": [
      "Epoch 53/150: 100%|██████████| 213/213 [00:23<00:00,  9.15batch/s, mae_loss=0.537]\n"
     ]
    },
    {
     "name": "stdout",
     "output_type": "stream",
     "text": [
      "Epoch [53/150], Training MAE: 0.5610, Training RMSE: 0.7735\n",
      "Epoch [53/150], Validation MAE: 0.5042, Validation RMSE: 0.7246\n"
     ]
    },
    {
     "name": "stderr",
     "output_type": "stream",
     "text": [
      "Epoch 54/150: 100%|██████████| 213/213 [00:28<00:00,  7.49batch/s, mae_loss=0.539]\n"
     ]
    },
    {
     "name": "stdout",
     "output_type": "stream",
     "text": [
      "Epoch [54/150], Training MAE: 0.5604, Training RMSE: 0.7733\n",
      "Epoch [54/150], Validation MAE: 0.5084, Validation RMSE: 0.7289\n"
     ]
    },
    {
     "name": "stderr",
     "output_type": "stream",
     "text": [
      "Epoch 55/150: 100%|██████████| 213/213 [00:25<00:00,  8.43batch/s, mae_loss=0.552]\n"
     ]
    },
    {
     "name": "stdout",
     "output_type": "stream",
     "text": [
      "Epoch [55/150], Training MAE: 0.5598, Training RMSE: 0.7727\n",
      "Epoch [55/150], Validation MAE: 0.5064, Validation RMSE: 0.7261\n"
     ]
    },
    {
     "name": "stderr",
     "output_type": "stream",
     "text": [
      "Epoch 56/150: 100%|██████████| 213/213 [00:25<00:00,  8.34batch/s, mae_loss=0.513]\n"
     ]
    },
    {
     "name": "stdout",
     "output_type": "stream",
     "text": [
      "Epoch [56/150], Training MAE: 0.5591, Training RMSE: 0.7718\n",
      "Epoch [56/150], Validation MAE: 0.5060, Validation RMSE: 0.7259\n"
     ]
    },
    {
     "name": "stderr",
     "output_type": "stream",
     "text": [
      "Epoch 57/150: 100%|██████████| 213/213 [00:27<00:00,  7.86batch/s, mae_loss=0.548]\n"
     ]
    },
    {
     "name": "stdout",
     "output_type": "stream",
     "text": [
      "Epoch [57/150], Training MAE: 0.5590, Training RMSE: 0.7715\n",
      "Epoch [57/150], Validation MAE: 0.5084, Validation RMSE: 0.7271\n"
     ]
    },
    {
     "name": "stderr",
     "output_type": "stream",
     "text": [
      "Epoch 58/150: 100%|██████████| 213/213 [00:26<00:00,  8.08batch/s, mae_loss=0.507]\n"
     ]
    },
    {
     "name": "stdout",
     "output_type": "stream",
     "text": [
      "Epoch [58/150], Training MAE: 0.5579, Training RMSE: 0.7703\n",
      "Epoch [58/150], Validation MAE: 0.5065, Validation RMSE: 0.7247\n"
     ]
    },
    {
     "name": "stderr",
     "output_type": "stream",
     "text": [
      "Epoch 59/150: 100%|██████████| 213/213 [00:29<00:00,  7.30batch/s, mae_loss=0.574]\n"
     ]
    },
    {
     "name": "stdout",
     "output_type": "stream",
     "text": [
      "Epoch [59/150], Training MAE: 0.5578, Training RMSE: 0.7697\n",
      "Epoch [59/150], Validation MAE: 0.5067, Validation RMSE: 0.7258\n"
     ]
    },
    {
     "name": "stderr",
     "output_type": "stream",
     "text": [
      "Epoch 60/150: 100%|██████████| 213/213 [00:27<00:00,  7.75batch/s, mae_loss=0.566]\n"
     ]
    },
    {
     "name": "stdout",
     "output_type": "stream",
     "text": [
      "Epoch [60/150], Training MAE: 0.5567, Training RMSE: 0.7691\n",
      "Epoch [60/150], Validation MAE: 0.5084, Validation RMSE: 0.7260\n"
     ]
    },
    {
     "name": "stderr",
     "output_type": "stream",
     "text": [
      "Epoch 61/150: 100%|██████████| 213/213 [00:27<00:00,  7.78batch/s, mae_loss=0.533]\n"
     ]
    },
    {
     "name": "stdout",
     "output_type": "stream",
     "text": [
      "Epoch [61/150], Training MAE: 0.5556, Training RMSE: 0.7679\n",
      "Epoch [61/150], Validation MAE: 0.5082, Validation RMSE: 0.7256\n"
     ]
    },
    {
     "name": "stderr",
     "output_type": "stream",
     "text": [
      "Epoch 62/150: 100%|██████████| 213/213 [00:27<00:00,  7.68batch/s, mae_loss=0.538]\n"
     ]
    },
    {
     "name": "stdout",
     "output_type": "stream",
     "text": [
      "Epoch [62/150], Training MAE: 0.5559, Training RMSE: 0.7680\n",
      "Epoch [62/150], Validation MAE: 0.5076, Validation RMSE: 0.7267\n"
     ]
    },
    {
     "name": "stderr",
     "output_type": "stream",
     "text": [
      "Epoch 63/150: 100%|██████████| 213/213 [00:29<00:00,  7.34batch/s, mae_loss=0.549]\n"
     ]
    },
    {
     "name": "stdout",
     "output_type": "stream",
     "text": [
      "Epoch [63/150], Training MAE: 0.5549, Training RMSE: 0.7671\n",
      "Epoch [63/150], Validation MAE: 0.5080, Validation RMSE: 0.7277\n"
     ]
    },
    {
     "name": "stderr",
     "output_type": "stream",
     "text": [
      "Epoch 64/150: 100%|██████████| 213/213 [00:28<00:00,  7.51batch/s, mae_loss=0.57] \n"
     ]
    },
    {
     "name": "stdout",
     "output_type": "stream",
     "text": [
      "Epoch [64/150], Training MAE: 0.5543, Training RMSE: 0.7667\n",
      "Epoch [64/150], Validation MAE: 0.5065, Validation RMSE: 0.7256\n"
     ]
    },
    {
     "name": "stderr",
     "output_type": "stream",
     "text": [
      "Epoch 65/150: 100%|██████████| 213/213 [00:26<00:00,  7.99batch/s, mae_loss=0.637]\n"
     ]
    },
    {
     "name": "stdout",
     "output_type": "stream",
     "text": [
      "Epoch [65/150], Training MAE: 0.5541, Training RMSE: 0.7662\n",
      "Epoch [65/150], Validation MAE: 0.5065, Validation RMSE: 0.7253\n"
     ]
    },
    {
     "name": "stderr",
     "output_type": "stream",
     "text": [
      "Epoch 66/150: 100%|██████████| 213/213 [00:26<00:00,  8.12batch/s, mae_loss=0.518]\n"
     ]
    },
    {
     "name": "stdout",
     "output_type": "stream",
     "text": [
      "Epoch [66/150], Training MAE: 0.5534, Training RMSE: 0.7651\n",
      "Epoch [66/150], Validation MAE: 0.5088, Validation RMSE: 0.7272\n"
     ]
    },
    {
     "name": "stderr",
     "output_type": "stream",
     "text": [
      "Epoch 67/150: 100%|██████████| 213/213 [00:25<00:00,  8.42batch/s, mae_loss=0.555]\n"
     ]
    },
    {
     "name": "stdout",
     "output_type": "stream",
     "text": [
      "Epoch [67/150], Training MAE: 0.5521, Training RMSE: 0.7644\n",
      "Epoch [67/150], Validation MAE: 0.5092, Validation RMSE: 0.7274\n"
     ]
    },
    {
     "name": "stderr",
     "output_type": "stream",
     "text": [
      "Epoch 68/150: 100%|██████████| 213/213 [00:23<00:00,  8.95batch/s, mae_loss=0.554]\n"
     ]
    },
    {
     "name": "stdout",
     "output_type": "stream",
     "text": [
      "Epoch [68/150], Training MAE: 0.5522, Training RMSE: 0.7640\n",
      "Epoch [68/150], Validation MAE: 0.5066, Validation RMSE: 0.7242\n"
     ]
    },
    {
     "name": "stderr",
     "output_type": "stream",
     "text": [
      "Epoch 69/150: 100%|██████████| 213/213 [00:26<00:00,  7.93batch/s, mae_loss=0.551]\n"
     ]
    },
    {
     "name": "stdout",
     "output_type": "stream",
     "text": [
      "Epoch [69/150], Training MAE: 0.5514, Training RMSE: 0.7633\n",
      "Epoch [69/150], Validation MAE: 0.5109, Validation RMSE: 0.7301\n"
     ]
    },
    {
     "name": "stderr",
     "output_type": "stream",
     "text": [
      "Epoch 70/150: 100%|██████████| 213/213 [00:26<00:00,  8.01batch/s, mae_loss=0.505]\n"
     ]
    },
    {
     "name": "stdout",
     "output_type": "stream",
     "text": [
      "Epoch [70/150], Training MAE: 0.5506, Training RMSE: 0.7624\n",
      "Epoch [70/150], Validation MAE: 0.5094, Validation RMSE: 0.7276\n"
     ]
    },
    {
     "name": "stderr",
     "output_type": "stream",
     "text": [
      "Epoch 71/150: 100%|██████████| 213/213 [00:27<00:00,  7.63batch/s, mae_loss=0.53] \n"
     ]
    },
    {
     "name": "stdout",
     "output_type": "stream",
     "text": [
      "Epoch [71/150], Training MAE: 0.5495, Training RMSE: 0.7613\n",
      "Epoch [71/150], Validation MAE: 0.5103, Validation RMSE: 0.7277\n"
     ]
    },
    {
     "name": "stderr",
     "output_type": "stream",
     "text": [
      "Epoch 72/150: 100%|██████████| 213/213 [00:28<00:00,  7.52batch/s, mae_loss=0.518]\n"
     ]
    },
    {
     "name": "stdout",
     "output_type": "stream",
     "text": [
      "Epoch [72/150], Training MAE: 0.5493, Training RMSE: 0.7614\n",
      "Epoch [72/150], Validation MAE: 0.5088, Validation RMSE: 0.7276\n"
     ]
    },
    {
     "name": "stderr",
     "output_type": "stream",
     "text": [
      "Epoch 73/150: 100%|██████████| 213/213 [00:25<00:00,  8.30batch/s, mae_loss=0.522]\n"
     ]
    },
    {
     "name": "stdout",
     "output_type": "stream",
     "text": [
      "Epoch [73/150], Training MAE: 0.5481, Training RMSE: 0.7601\n",
      "Epoch [73/150], Validation MAE: 0.5101, Validation RMSE: 0.7272\n"
     ]
    },
    {
     "name": "stderr",
     "output_type": "stream",
     "text": [
      "Epoch 74/150: 100%|██████████| 213/213 [00:27<00:00,  7.68batch/s, mae_loss=0.529]\n"
     ]
    },
    {
     "name": "stdout",
     "output_type": "stream",
     "text": [
      "Epoch [74/150], Training MAE: 0.5475, Training RMSE: 0.7587\n",
      "Epoch [74/150], Validation MAE: 0.5119, Validation RMSE: 0.7307\n"
     ]
    },
    {
     "name": "stderr",
     "output_type": "stream",
     "text": [
      "Epoch 75/150: 100%|██████████| 213/213 [00:28<00:00,  7.39batch/s, mae_loss=0.497]\n"
     ]
    },
    {
     "name": "stdout",
     "output_type": "stream",
     "text": [
      "Epoch [75/150], Training MAE: 0.5471, Training RMSE: 0.7586\n",
      "Epoch [75/150], Validation MAE: 0.5124, Validation RMSE: 0.7298\n"
     ]
    },
    {
     "name": "stderr",
     "output_type": "stream",
     "text": [
      "Epoch 76/150: 100%|██████████| 213/213 [00:26<00:00,  8.18batch/s, mae_loss=0.582]\n"
     ]
    },
    {
     "name": "stdout",
     "output_type": "stream",
     "text": [
      "Epoch [76/150], Training MAE: 0.5467, Training RMSE: 0.7580\n",
      "Epoch [76/150], Validation MAE: 0.5123, Validation RMSE: 0.7302\n"
     ]
    },
    {
     "name": "stderr",
     "output_type": "stream",
     "text": [
      "Epoch 77/150: 100%|██████████| 213/213 [00:26<00:00,  8.07batch/s, mae_loss=0.601]\n"
     ]
    },
    {
     "name": "stdout",
     "output_type": "stream",
     "text": [
      "Epoch [77/150], Training MAE: 0.5455, Training RMSE: 0.7567\n",
      "Epoch [77/150], Validation MAE: 0.5115, Validation RMSE: 0.7304\n"
     ]
    },
    {
     "name": "stderr",
     "output_type": "stream",
     "text": [
      "Epoch 78/150: 100%|██████████| 213/213 [00:26<00:00,  7.91batch/s, mae_loss=0.56] \n"
     ]
    },
    {
     "name": "stdout",
     "output_type": "stream",
     "text": [
      "Epoch [78/150], Training MAE: 0.5452, Training RMSE: 0.7565\n",
      "Epoch [78/150], Validation MAE: 0.5114, Validation RMSE: 0.7292\n"
     ]
    },
    {
     "name": "stderr",
     "output_type": "stream",
     "text": [
      "Epoch 79/150: 100%|██████████| 213/213 [00:26<00:00,  8.12batch/s, mae_loss=0.501]\n"
     ]
    },
    {
     "name": "stdout",
     "output_type": "stream",
     "text": [
      "Epoch [79/150], Training MAE: 0.5449, Training RMSE: 0.7562\n",
      "Epoch [79/150], Validation MAE: 0.5112, Validation RMSE: 0.7302\n"
     ]
    },
    {
     "name": "stderr",
     "output_type": "stream",
     "text": [
      "Epoch 80/150: 100%|██████████| 213/213 [00:28<00:00,  7.59batch/s, mae_loss=0.527]\n"
     ]
    },
    {
     "name": "stdout",
     "output_type": "stream",
     "text": [
      "Epoch [80/150], Training MAE: 0.5437, Training RMSE: 0.7545\n",
      "Epoch [80/150], Validation MAE: 0.5124, Validation RMSE: 0.7302\n"
     ]
    },
    {
     "name": "stderr",
     "output_type": "stream",
     "text": [
      "Epoch 81/150: 100%|██████████| 213/213 [00:26<00:00,  8.12batch/s, mae_loss=0.53] \n"
     ]
    },
    {
     "name": "stdout",
     "output_type": "stream",
     "text": [
      "Epoch [81/150], Training MAE: 0.5438, Training RMSE: 0.7546\n",
      "Epoch [81/150], Validation MAE: 0.5121, Validation RMSE: 0.7306\n"
     ]
    },
    {
     "name": "stderr",
     "output_type": "stream",
     "text": [
      "Epoch 82/150: 100%|██████████| 213/213 [00:27<00:00,  7.80batch/s, mae_loss=0.553]\n"
     ]
    },
    {
     "name": "stdout",
     "output_type": "stream",
     "text": [
      "Epoch [82/150], Training MAE: 0.5425, Training RMSE: 0.7537\n",
      "Epoch [82/150], Validation MAE: 0.5127, Validation RMSE: 0.7311\n"
     ]
    },
    {
     "name": "stderr",
     "output_type": "stream",
     "text": [
      "Epoch 83/150: 100%|██████████| 213/213 [00:27<00:00,  7.65batch/s, mae_loss=0.562]\n"
     ]
    },
    {
     "name": "stdout",
     "output_type": "stream",
     "text": [
      "Epoch [83/150], Training MAE: 0.5417, Training RMSE: 0.7528\n",
      "Epoch [83/150], Validation MAE: 0.5140, Validation RMSE: 0.7318\n"
     ]
    },
    {
     "name": "stderr",
     "output_type": "stream",
     "text": [
      "Epoch 84/150: 100%|██████████| 213/213 [00:27<00:00,  7.88batch/s, mae_loss=0.55] \n"
     ]
    },
    {
     "name": "stdout",
     "output_type": "stream",
     "text": [
      "Epoch [84/150], Training MAE: 0.5413, Training RMSE: 0.7523\n",
      "Epoch [84/150], Validation MAE: 0.5143, Validation RMSE: 0.7316\n"
     ]
    },
    {
     "name": "stderr",
     "output_type": "stream",
     "text": [
      "Epoch 85/150: 100%|██████████| 213/213 [00:26<00:00,  7.98batch/s, mae_loss=0.53] \n"
     ]
    },
    {
     "name": "stdout",
     "output_type": "stream",
     "text": [
      "Epoch [85/150], Training MAE: 0.5406, Training RMSE: 0.7512\n",
      "Epoch [85/150], Validation MAE: 0.5144, Validation RMSE: 0.7333\n"
     ]
    },
    {
     "name": "stderr",
     "output_type": "stream",
     "text": [
      "Epoch 86/150: 100%|██████████| 213/213 [00:26<00:00,  8.04batch/s, mae_loss=0.535]\n"
     ]
    },
    {
     "name": "stdout",
     "output_type": "stream",
     "text": [
      "Epoch [86/150], Training MAE: 0.5398, Training RMSE: 0.7504\n",
      "Epoch [86/150], Validation MAE: 0.5150, Validation RMSE: 0.7317\n"
     ]
    },
    {
     "name": "stderr",
     "output_type": "stream",
     "text": [
      "Epoch 87/150: 100%|██████████| 213/213 [00:25<00:00,  8.26batch/s, mae_loss=0.54] \n"
     ]
    },
    {
     "name": "stdout",
     "output_type": "stream",
     "text": [
      "Epoch [87/150], Training MAE: 0.5393, Training RMSE: 0.7495\n",
      "Epoch [87/150], Validation MAE: 0.5145, Validation RMSE: 0.7328\n"
     ]
    },
    {
     "name": "stderr",
     "output_type": "stream",
     "text": [
      "Epoch 88/150: 100%|██████████| 213/213 [00:25<00:00,  8.20batch/s, mae_loss=0.513]\n"
     ]
    },
    {
     "name": "stdout",
     "output_type": "stream",
     "text": [
      "Epoch [88/150], Training MAE: 0.5392, Training RMSE: 0.7495\n",
      "Epoch [88/150], Validation MAE: 0.5143, Validation RMSE: 0.7312\n"
     ]
    },
    {
     "name": "stderr",
     "output_type": "stream",
     "text": [
      "Epoch 89/150: 100%|██████████| 213/213 [00:23<00:00,  9.03batch/s, mae_loss=0.547]\n"
     ]
    },
    {
     "name": "stdout",
     "output_type": "stream",
     "text": [
      "Epoch [89/150], Training MAE: 0.5376, Training RMSE: 0.7479\n",
      "Epoch [89/150], Validation MAE: 0.5156, Validation RMSE: 0.7330\n"
     ]
    },
    {
     "name": "stderr",
     "output_type": "stream",
     "text": [
      "Epoch 90/150: 100%|██████████| 213/213 [00:23<00:00,  9.05batch/s, mae_loss=0.509]\n"
     ]
    },
    {
     "name": "stdout",
     "output_type": "stream",
     "text": [
      "Epoch [90/150], Training MAE: 0.5373, Training RMSE: 0.7475\n",
      "Epoch [90/150], Validation MAE: 0.5152, Validation RMSE: 0.7326\n"
     ]
    },
    {
     "name": "stderr",
     "output_type": "stream",
     "text": [
      "Epoch 91/150: 100%|██████████| 213/213 [00:23<00:00,  9.01batch/s, mae_loss=0.529]\n"
     ]
    },
    {
     "name": "stdout",
     "output_type": "stream",
     "text": [
      "Epoch [91/150], Training MAE: 0.5364, Training RMSE: 0.7463\n",
      "Epoch [91/150], Validation MAE: 0.5158, Validation RMSE: 0.7330\n"
     ]
    },
    {
     "name": "stderr",
     "output_type": "stream",
     "text": [
      "Epoch 92/150: 100%|██████████| 213/213 [00:24<00:00,  8.78batch/s, mae_loss=0.569]\n"
     ]
    },
    {
     "name": "stdout",
     "output_type": "stream",
     "text": [
      "Epoch [92/150], Training MAE: 0.5358, Training RMSE: 0.7458\n",
      "Epoch [92/150], Validation MAE: 0.5168, Validation RMSE: 0.7352\n"
     ]
    },
    {
     "name": "stderr",
     "output_type": "stream",
     "text": [
      "Epoch 93/150: 100%|██████████| 213/213 [00:23<00:00,  9.02batch/s, mae_loss=0.55] \n"
     ]
    },
    {
     "name": "stdout",
     "output_type": "stream",
     "text": [
      "Epoch [93/150], Training MAE: 0.5353, Training RMSE: 0.7452\n",
      "Epoch [93/150], Validation MAE: 0.5157, Validation RMSE: 0.7342\n"
     ]
    },
    {
     "name": "stderr",
     "output_type": "stream",
     "text": [
      "Epoch 94/150: 100%|██████████| 213/213 [00:24<00:00,  8.76batch/s, mae_loss=0.566]\n"
     ]
    },
    {
     "name": "stdout",
     "output_type": "stream",
     "text": [
      "Epoch [94/150], Training MAE: 0.5345, Training RMSE: 0.7447\n",
      "Epoch [94/150], Validation MAE: 0.5167, Validation RMSE: 0.7354\n"
     ]
    },
    {
     "name": "stderr",
     "output_type": "stream",
     "text": [
      "Epoch 95/150: 100%|██████████| 213/213 [00:26<00:00,  7.91batch/s, mae_loss=0.557]\n"
     ]
    },
    {
     "name": "stdout",
     "output_type": "stream",
     "text": [
      "Epoch [95/150], Training MAE: 0.5335, Training RMSE: 0.7430\n",
      "Epoch [95/150], Validation MAE: 0.5172, Validation RMSE: 0.7352\n"
     ]
    },
    {
     "name": "stderr",
     "output_type": "stream",
     "text": [
      "Epoch 96/150: 100%|██████████| 213/213 [00:26<00:00,  8.10batch/s, mae_loss=0.537]\n"
     ]
    },
    {
     "name": "stdout",
     "output_type": "stream",
     "text": [
      "Epoch [96/150], Training MAE: 0.5324, Training RMSE: 0.7423\n",
      "Epoch [96/150], Validation MAE: 0.5179, Validation RMSE: 0.7359\n"
     ]
    },
    {
     "name": "stderr",
     "output_type": "stream",
     "text": [
      "Epoch 97/150: 100%|██████████| 213/213 [00:25<00:00,  8.27batch/s, mae_loss=0.509]\n"
     ]
    },
    {
     "name": "stdout",
     "output_type": "stream",
     "text": [
      "Epoch [97/150], Training MAE: 0.5322, Training RMSE: 0.7417\n",
      "Epoch [97/150], Validation MAE: 0.5177, Validation RMSE: 0.7361\n"
     ]
    },
    {
     "name": "stderr",
     "output_type": "stream",
     "text": [
      "Epoch 98/150: 100%|██████████| 213/213 [00:27<00:00,  7.66batch/s, mae_loss=0.551]\n"
     ]
    },
    {
     "name": "stdout",
     "output_type": "stream",
     "text": [
      "Epoch [98/150], Training MAE: 0.5310, Training RMSE: 0.7407\n",
      "Epoch [98/150], Validation MAE: 0.5197, Validation RMSE: 0.7367\n"
     ]
    },
    {
     "name": "stderr",
     "output_type": "stream",
     "text": [
      "Epoch 99/150: 100%|██████████| 213/213 [00:39<00:00,  5.40batch/s, mae_loss=0.555]\n"
     ]
    },
    {
     "name": "stdout",
     "output_type": "stream",
     "text": [
      "Epoch [99/150], Training MAE: 0.5310, Training RMSE: 0.7402\n",
      "Epoch [99/150], Validation MAE: 0.5181, Validation RMSE: 0.7346\n"
     ]
    },
    {
     "name": "stderr",
     "output_type": "stream",
     "text": [
      "Epoch 100/150: 100%|██████████| 213/213 [00:30<00:00,  6.96batch/s, mae_loss=0.53] \n"
     ]
    },
    {
     "name": "stdout",
     "output_type": "stream",
     "text": [
      "Epoch [100/150], Training MAE: 0.5301, Training RMSE: 0.7397\n",
      "Epoch [100/150], Validation MAE: 0.5215, Validation RMSE: 0.7397\n"
     ]
    },
    {
     "name": "stderr",
     "output_type": "stream",
     "text": [
      "Epoch 101/150: 100%|██████████| 213/213 [00:35<00:00,  5.92batch/s, mae_loss=0.487]\n"
     ]
    },
    {
     "name": "stdout",
     "output_type": "stream",
     "text": [
      "Epoch [101/150], Training MAE: 0.5296, Training RMSE: 0.7387\n",
      "Epoch [101/150], Validation MAE: 0.5215, Validation RMSE: 0.7395\n"
     ]
    },
    {
     "name": "stderr",
     "output_type": "stream",
     "text": [
      "Epoch 102/150: 100%|██████████| 213/213 [00:33<00:00,  6.37batch/s, mae_loss=0.488]\n"
     ]
    },
    {
     "name": "stdout",
     "output_type": "stream",
     "text": [
      "Epoch [102/150], Training MAE: 0.5289, Training RMSE: 0.7380\n",
      "Epoch [102/150], Validation MAE: 0.5203, Validation RMSE: 0.7385\n"
     ]
    },
    {
     "name": "stderr",
     "output_type": "stream",
     "text": [
      "Epoch 103/150: 100%|██████████| 213/213 [00:31<00:00,  6.72batch/s, mae_loss=0.523]\n"
     ]
    },
    {
     "name": "stdout",
     "output_type": "stream",
     "text": [
      "Epoch [103/150], Training MAE: 0.5274, Training RMSE: 0.7367\n",
      "Epoch [103/150], Validation MAE: 0.5191, Validation RMSE: 0.7373\n"
     ]
    },
    {
     "name": "stderr",
     "output_type": "stream",
     "text": [
      "Epoch 104/150: 100%|██████████| 213/213 [00:34<00:00,  6.19batch/s, mae_loss=0.503]\n"
     ]
    },
    {
     "name": "stdout",
     "output_type": "stream",
     "text": [
      "Epoch [104/150], Training MAE: 0.5273, Training RMSE: 0.7358\n",
      "Epoch [104/150], Validation MAE: 0.5205, Validation RMSE: 0.7393\n"
     ]
    },
    {
     "name": "stderr",
     "output_type": "stream",
     "text": [
      "Epoch 105/150: 100%|██████████| 213/213 [00:31<00:00,  6.78batch/s, mae_loss=0.49] \n"
     ]
    },
    {
     "name": "stdout",
     "output_type": "stream",
     "text": [
      "Epoch [105/150], Training MAE: 0.5262, Training RMSE: 0.7348\n",
      "Epoch [105/150], Validation MAE: 0.5230, Validation RMSE: 0.7406\n"
     ]
    },
    {
     "name": "stderr",
     "output_type": "stream",
     "text": [
      "Epoch 106/150: 100%|██████████| 213/213 [00:30<00:00,  6.97batch/s, mae_loss=0.497]\n"
     ]
    },
    {
     "name": "stdout",
     "output_type": "stream",
     "text": [
      "Epoch [106/150], Training MAE: 0.5254, Training RMSE: 0.7338\n",
      "Epoch [106/150], Validation MAE: 0.5231, Validation RMSE: 0.7401\n"
     ]
    },
    {
     "name": "stderr",
     "output_type": "stream",
     "text": [
      "Epoch 107/150: 100%|██████████| 213/213 [00:33<00:00,  6.39batch/s, mae_loss=0.498]\n"
     ]
    },
    {
     "name": "stdout",
     "output_type": "stream",
     "text": [
      "Epoch [107/150], Training MAE: 0.5247, Training RMSE: 0.7330\n",
      "Epoch [107/150], Validation MAE: 0.5205, Validation RMSE: 0.7387\n"
     ]
    },
    {
     "name": "stderr",
     "output_type": "stream",
     "text": [
      "Epoch 108/150: 100%|██████████| 213/213 [00:29<00:00,  7.19batch/s, mae_loss=0.488]\n"
     ]
    },
    {
     "name": "stdout",
     "output_type": "stream",
     "text": [
      "Epoch [108/150], Training MAE: 0.5240, Training RMSE: 0.7328\n",
      "Epoch [108/150], Validation MAE: 0.5219, Validation RMSE: 0.7396\n"
     ]
    },
    {
     "name": "stderr",
     "output_type": "stream",
     "text": [
      "Epoch 109/150: 100%|██████████| 213/213 [00:32<00:00,  6.48batch/s, mae_loss=0.52] \n"
     ]
    },
    {
     "name": "stdout",
     "output_type": "stream",
     "text": [
      "Epoch [109/150], Training MAE: 0.5237, Training RMSE: 0.7321\n",
      "Epoch [109/150], Validation MAE: 0.5222, Validation RMSE: 0.7395\n"
     ]
    },
    {
     "name": "stderr",
     "output_type": "stream",
     "text": [
      "Epoch 110/150: 100%|██████████| 213/213 [00:38<00:00,  5.51batch/s, mae_loss=0.496]\n"
     ]
    },
    {
     "name": "stdout",
     "output_type": "stream",
     "text": [
      "Epoch [110/150], Training MAE: 0.5223, Training RMSE: 0.7302\n",
      "Epoch [110/150], Validation MAE: 0.5233, Validation RMSE: 0.7419\n"
     ]
    },
    {
     "name": "stderr",
     "output_type": "stream",
     "text": [
      "Epoch 111/150: 100%|██████████| 213/213 [00:31<00:00,  6.68batch/s, mae_loss=0.478]\n"
     ]
    },
    {
     "name": "stdout",
     "output_type": "stream",
     "text": [
      "Epoch [111/150], Training MAE: 0.5217, Training RMSE: 0.7299\n",
      "Epoch [111/150], Validation MAE: 0.5235, Validation RMSE: 0.7418\n"
     ]
    },
    {
     "name": "stderr",
     "output_type": "stream",
     "text": [
      "Epoch 112/150: 100%|██████████| 213/213 [00:35<00:00,  6.07batch/s, mae_loss=0.526]\n"
     ]
    },
    {
     "name": "stdout",
     "output_type": "stream",
     "text": [
      "Epoch [112/150], Training MAE: 0.5213, Training RMSE: 0.7294\n",
      "Epoch [112/150], Validation MAE: 0.5261, Validation RMSE: 0.7437\n"
     ]
    },
    {
     "name": "stderr",
     "output_type": "stream",
     "text": [
      "Epoch 113/150: 100%|██████████| 213/213 [00:30<00:00,  7.01batch/s, mae_loss=0.473]\n"
     ]
    },
    {
     "name": "stdout",
     "output_type": "stream",
     "text": [
      "Epoch [113/150], Training MAE: 0.5202, Training RMSE: 0.7279\n",
      "Epoch [113/150], Validation MAE: 0.5261, Validation RMSE: 0.7444\n"
     ]
    },
    {
     "name": "stderr",
     "output_type": "stream",
     "text": [
      "Epoch 114/150: 100%|██████████| 213/213 [00:29<00:00,  7.31batch/s, mae_loss=0.544]\n"
     ]
    },
    {
     "name": "stdout",
     "output_type": "stream",
     "text": [
      "Epoch [114/150], Training MAE: 0.5195, Training RMSE: 0.7272\n",
      "Epoch [114/150], Validation MAE: 0.5244, Validation RMSE: 0.7424\n"
     ]
    },
    {
     "name": "stderr",
     "output_type": "stream",
     "text": [
      "Epoch 115/150: 100%|██████████| 213/213 [00:33<00:00,  6.45batch/s, mae_loss=0.505]\n"
     ]
    },
    {
     "name": "stdout",
     "output_type": "stream",
     "text": [
      "Epoch [115/150], Training MAE: 0.5187, Training RMSE: 0.7265\n",
      "Epoch [115/150], Validation MAE: 0.5268, Validation RMSE: 0.7442\n"
     ]
    },
    {
     "name": "stderr",
     "output_type": "stream",
     "text": [
      "Epoch 116/150: 100%|██████████| 213/213 [00:28<00:00,  7.59batch/s, mae_loss=0.547]\n"
     ]
    },
    {
     "name": "stdout",
     "output_type": "stream",
     "text": [
      "Epoch [116/150], Training MAE: 0.5194, Training RMSE: 0.7267\n",
      "Epoch [116/150], Validation MAE: 0.5251, Validation RMSE: 0.7431\n"
     ]
    },
    {
     "name": "stderr",
     "output_type": "stream",
     "text": [
      "Epoch 117/150: 100%|██████████| 213/213 [00:30<00:00,  7.01batch/s, mae_loss=0.528]\n"
     ]
    },
    {
     "name": "stdout",
     "output_type": "stream",
     "text": [
      "Epoch [117/150], Training MAE: 0.5175, Training RMSE: 0.7253\n",
      "Epoch [117/150], Validation MAE: 0.5287, Validation RMSE: 0.7477\n"
     ]
    },
    {
     "name": "stderr",
     "output_type": "stream",
     "text": [
      "Epoch 118/150: 100%|██████████| 213/213 [00:29<00:00,  7.20batch/s, mae_loss=0.518]\n"
     ]
    },
    {
     "name": "stdout",
     "output_type": "stream",
     "text": [
      "Epoch [118/150], Training MAE: 0.5172, Training RMSE: 0.7242\n",
      "Epoch [118/150], Validation MAE: 0.5274, Validation RMSE: 0.7457\n"
     ]
    },
    {
     "name": "stderr",
     "output_type": "stream",
     "text": [
      "Epoch 119/150: 100%|██████████| 213/213 [00:27<00:00,  7.71batch/s, mae_loss=0.553]\n"
     ]
    },
    {
     "name": "stdout",
     "output_type": "stream",
     "text": [
      "Epoch [119/150], Training MAE: 0.5162, Training RMSE: 0.7231\n",
      "Epoch [119/150], Validation MAE: 0.5291, Validation RMSE: 0.7469\n"
     ]
    },
    {
     "name": "stderr",
     "output_type": "stream",
     "text": [
      "Epoch 120/150: 100%|██████████| 213/213 [00:28<00:00,  7.55batch/s, mae_loss=0.487]\n"
     ]
    },
    {
     "name": "stdout",
     "output_type": "stream",
     "text": [
      "Epoch [120/150], Training MAE: 0.5152, Training RMSE: 0.7219\n",
      "Epoch [120/150], Validation MAE: 0.5274, Validation RMSE: 0.7451\n"
     ]
    },
    {
     "name": "stderr",
     "output_type": "stream",
     "text": [
      "Epoch 121/150: 100%|██████████| 213/213 [00:28<00:00,  7.48batch/s, mae_loss=0.544]\n"
     ]
    },
    {
     "name": "stdout",
     "output_type": "stream",
     "text": [
      "Epoch [121/150], Training MAE: 0.5144, Training RMSE: 0.7215\n",
      "Epoch [121/150], Validation MAE: 0.5299, Validation RMSE: 0.7464\n"
     ]
    },
    {
     "name": "stderr",
     "output_type": "stream",
     "text": [
      "Epoch 122/150: 100%|██████████| 213/213 [00:29<00:00,  7.15batch/s, mae_loss=0.521]\n"
     ]
    },
    {
     "name": "stdout",
     "output_type": "stream",
     "text": [
      "Epoch [122/150], Training MAE: 0.5139, Training RMSE: 0.7211\n",
      "Epoch [122/150], Validation MAE: 0.5277, Validation RMSE: 0.7443\n"
     ]
    },
    {
     "name": "stderr",
     "output_type": "stream",
     "text": [
      "Epoch 123/150: 100%|██████████| 213/213 [00:31<00:00,  6.81batch/s, mae_loss=0.502]\n"
     ]
    },
    {
     "name": "stdout",
     "output_type": "stream",
     "text": [
      "Epoch [123/150], Training MAE: 0.5128, Training RMSE: 0.7195\n",
      "Epoch [123/150], Validation MAE: 0.5297, Validation RMSE: 0.7466\n"
     ]
    },
    {
     "name": "stderr",
     "output_type": "stream",
     "text": [
      "Epoch 124/150: 100%|██████████| 213/213 [00:27<00:00,  7.82batch/s, mae_loss=0.51] \n"
     ]
    },
    {
     "name": "stdout",
     "output_type": "stream",
     "text": [
      "Epoch [124/150], Training MAE: 0.5119, Training RMSE: 0.7184\n",
      "Epoch [124/150], Validation MAE: 0.5309, Validation RMSE: 0.7484\n"
     ]
    },
    {
     "name": "stderr",
     "output_type": "stream",
     "text": [
      "Epoch 125/150: 100%|██████████| 213/213 [00:32<00:00,  6.59batch/s, mae_loss=0.492]\n"
     ]
    },
    {
     "name": "stdout",
     "output_type": "stream",
     "text": [
      "Epoch [125/150], Training MAE: 0.5114, Training RMSE: 0.7174\n",
      "Epoch [125/150], Validation MAE: 0.5317, Validation RMSE: 0.7480\n"
     ]
    },
    {
     "name": "stderr",
     "output_type": "stream",
     "text": [
      "Epoch 126/150: 100%|██████████| 213/213 [00:35<00:00,  6.05batch/s, mae_loss=0.464]\n"
     ]
    },
    {
     "name": "stdout",
     "output_type": "stream",
     "text": [
      "Epoch [126/150], Training MAE: 0.5103, Training RMSE: 0.7167\n",
      "Epoch [126/150], Validation MAE: 0.5306, Validation RMSE: 0.7476\n"
     ]
    },
    {
     "name": "stderr",
     "output_type": "stream",
     "text": [
      "Epoch 127/150: 100%|██████████| 213/213 [00:29<00:00,  7.12batch/s, mae_loss=0.483]\n"
     ]
    },
    {
     "name": "stdout",
     "output_type": "stream",
     "text": [
      "Epoch [127/150], Training MAE: 0.5100, Training RMSE: 0.7163\n",
      "Epoch [127/150], Validation MAE: 0.5317, Validation RMSE: 0.7488\n"
     ]
    },
    {
     "name": "stderr",
     "output_type": "stream",
     "text": [
      "Epoch 128/150: 100%|██████████| 213/213 [00:32<00:00,  6.60batch/s, mae_loss=0.525]\n"
     ]
    },
    {
     "name": "stdout",
     "output_type": "stream",
     "text": [
      "Epoch [128/150], Training MAE: 0.5087, Training RMSE: 0.7147\n",
      "Epoch [128/150], Validation MAE: 0.5324, Validation RMSE: 0.7493\n"
     ]
    },
    {
     "name": "stderr",
     "output_type": "stream",
     "text": [
      "Epoch 129/150: 100%|██████████| 213/213 [00:28<00:00,  7.58batch/s, mae_loss=0.537]\n"
     ]
    },
    {
     "name": "stdout",
     "output_type": "stream",
     "text": [
      "Epoch [129/150], Training MAE: 0.5082, Training RMSE: 0.7143\n",
      "Epoch [129/150], Validation MAE: 0.5323, Validation RMSE: 0.7487\n"
     ]
    },
    {
     "name": "stderr",
     "output_type": "stream",
     "text": [
      "Epoch 130/150: 100%|██████████| 213/213 [00:27<00:00,  7.79batch/s, mae_loss=0.538]\n"
     ]
    },
    {
     "name": "stdout",
     "output_type": "stream",
     "text": [
      "Epoch [130/150], Training MAE: 0.5075, Training RMSE: 0.7134\n",
      "Epoch [130/150], Validation MAE: 0.5333, Validation RMSE: 0.7489\n"
     ]
    },
    {
     "name": "stderr",
     "output_type": "stream",
     "text": [
      "Epoch 131/150: 100%|██████████| 213/213 [00:29<00:00,  7.21batch/s, mae_loss=0.558]\n"
     ]
    },
    {
     "name": "stdout",
     "output_type": "stream",
     "text": [
      "Epoch [131/150], Training MAE: 0.5067, Training RMSE: 0.7127\n",
      "Epoch [131/150], Validation MAE: 0.5321, Validation RMSE: 0.7484\n"
     ]
    },
    {
     "name": "stderr",
     "output_type": "stream",
     "text": [
      "Epoch 132/150: 100%|██████████| 213/213 [00:30<00:00,  7.08batch/s, mae_loss=0.494]\n"
     ]
    },
    {
     "name": "stdout",
     "output_type": "stream",
     "text": [
      "Epoch [132/150], Training MAE: 0.5056, Training RMSE: 0.7116\n",
      "Epoch [132/150], Validation MAE: 0.5346, Validation RMSE: 0.7522\n"
     ]
    },
    {
     "name": "stderr",
     "output_type": "stream",
     "text": [
      "Epoch 133/150: 100%|██████████| 213/213 [00:28<00:00,  7.44batch/s, mae_loss=0.453]\n"
     ]
    },
    {
     "name": "stdout",
     "output_type": "stream",
     "text": [
      "Epoch [133/150], Training MAE: 0.5052, Training RMSE: 0.7105\n",
      "Epoch [133/150], Validation MAE: 0.5351, Validation RMSE: 0.7518\n"
     ]
    },
    {
     "name": "stderr",
     "output_type": "stream",
     "text": [
      "Epoch 134/150: 100%|██████████| 213/213 [00:29<00:00,  7.23batch/s, mae_loss=0.476]\n"
     ]
    },
    {
     "name": "stdout",
     "output_type": "stream",
     "text": [
      "Epoch [134/150], Training MAE: 0.5050, Training RMSE: 0.7100\n",
      "Epoch [134/150], Validation MAE: 0.5344, Validation RMSE: 0.7509\n"
     ]
    },
    {
     "name": "stderr",
     "output_type": "stream",
     "text": [
      "Epoch 135/150: 100%|██████████| 213/213 [00:24<00:00,  8.52batch/s, mae_loss=0.487]\n"
     ]
    },
    {
     "name": "stdout",
     "output_type": "stream",
     "text": [
      "Epoch [135/150], Training MAE: 0.5037, Training RMSE: 0.7094\n",
      "Epoch [135/150], Validation MAE: 0.5344, Validation RMSE: 0.7503\n"
     ]
    },
    {
     "name": "stderr",
     "output_type": "stream",
     "text": [
      "Epoch 136/150: 100%|██████████| 213/213 [00:26<00:00,  7.97batch/s, mae_loss=0.47] \n"
     ]
    },
    {
     "name": "stdout",
     "output_type": "stream",
     "text": [
      "Epoch [136/150], Training MAE: 0.5033, Training RMSE: 0.7084\n",
      "Epoch [136/150], Validation MAE: 0.5330, Validation RMSE: 0.7487\n"
     ]
    },
    {
     "name": "stderr",
     "output_type": "stream",
     "text": [
      "Epoch 137/150: 100%|██████████| 213/213 [00:27<00:00,  7.81batch/s, mae_loss=0.513]\n"
     ]
    },
    {
     "name": "stdout",
     "output_type": "stream",
     "text": [
      "Epoch [137/150], Training MAE: 0.5025, Training RMSE: 0.7079\n",
      "Epoch [137/150], Validation MAE: 0.5356, Validation RMSE: 0.7513\n"
     ]
    },
    {
     "name": "stderr",
     "output_type": "stream",
     "text": [
      "Epoch 138/150: 100%|██████████| 213/213 [00:30<00:00,  7.06batch/s, mae_loss=0.512]\n"
     ]
    },
    {
     "name": "stdout",
     "output_type": "stream",
     "text": [
      "Epoch [138/150], Training MAE: 0.5012, Training RMSE: 0.7066\n",
      "Epoch [138/150], Validation MAE: 0.5362, Validation RMSE: 0.7520\n"
     ]
    },
    {
     "name": "stderr",
     "output_type": "stream",
     "text": [
      "Epoch 139/150: 100%|██████████| 213/213 [00:27<00:00,  7.67batch/s, mae_loss=0.486]\n"
     ]
    },
    {
     "name": "stdout",
     "output_type": "stream",
     "text": [
      "Epoch [139/150], Training MAE: 0.5009, Training RMSE: 0.7060\n",
      "Epoch [139/150], Validation MAE: 0.5388, Validation RMSE: 0.7556\n"
     ]
    },
    {
     "name": "stderr",
     "output_type": "stream",
     "text": [
      "Epoch 140/150: 100%|██████████| 213/213 [00:28<00:00,  7.40batch/s, mae_loss=0.457]\n"
     ]
    },
    {
     "name": "stdout",
     "output_type": "stream",
     "text": [
      "Epoch [140/150], Training MAE: 0.4995, Training RMSE: 0.7044\n",
      "Epoch [140/150], Validation MAE: 0.5378, Validation RMSE: 0.7536\n"
     ]
    },
    {
     "name": "stderr",
     "output_type": "stream",
     "text": [
      "Epoch 141/150: 100%|██████████| 213/213 [00:30<00:00,  7.02batch/s, mae_loss=0.544]\n"
     ]
    },
    {
     "name": "stdout",
     "output_type": "stream",
     "text": [
      "Epoch [141/150], Training MAE: 0.4996, Training RMSE: 0.7043\n",
      "Epoch [141/150], Validation MAE: 0.5375, Validation RMSE: 0.7528\n"
     ]
    },
    {
     "name": "stderr",
     "output_type": "stream",
     "text": [
      "Epoch 142/150: 100%|██████████| 213/213 [00:27<00:00,  7.62batch/s, mae_loss=0.515]\n"
     ]
    },
    {
     "name": "stdout",
     "output_type": "stream",
     "text": [
      "Epoch [142/150], Training MAE: 0.4987, Training RMSE: 0.7032\n",
      "Epoch [142/150], Validation MAE: 0.5379, Validation RMSE: 0.7541\n"
     ]
    },
    {
     "name": "stderr",
     "output_type": "stream",
     "text": [
      "Epoch 143/150: 100%|██████████| 213/213 [00:25<00:00,  8.38batch/s, mae_loss=0.458]\n"
     ]
    },
    {
     "name": "stdout",
     "output_type": "stream",
     "text": [
      "Epoch [143/150], Training MAE: 0.4973, Training RMSE: 0.7016\n",
      "Epoch [143/150], Validation MAE: 0.5378, Validation RMSE: 0.7545\n"
     ]
    },
    {
     "name": "stderr",
     "output_type": "stream",
     "text": [
      "Epoch 144/150: 100%|██████████| 213/213 [00:24<00:00,  8.59batch/s, mae_loss=0.498]\n"
     ]
    },
    {
     "name": "stdout",
     "output_type": "stream",
     "text": [
      "Epoch [144/150], Training MAE: 0.4974, Training RMSE: 0.7017\n",
      "Epoch [144/150], Validation MAE: 0.5385, Validation RMSE: 0.7554\n"
     ]
    },
    {
     "name": "stderr",
     "output_type": "stream",
     "text": [
      "Epoch 145/150: 100%|██████████| 213/213 [00:24<00:00,  8.57batch/s, mae_loss=0.442]\n"
     ]
    },
    {
     "name": "stdout",
     "output_type": "stream",
     "text": [
      "Epoch [145/150], Training MAE: 0.4962, Training RMSE: 0.7002\n",
      "Epoch [145/150], Validation MAE: 0.5403, Validation RMSE: 0.7553\n"
     ]
    },
    {
     "name": "stderr",
     "output_type": "stream",
     "text": [
      "Epoch 146/150: 100%|██████████| 213/213 [00:24<00:00,  8.56batch/s, mae_loss=0.56] \n"
     ]
    },
    {
     "name": "stdout",
     "output_type": "stream",
     "text": [
      "Epoch [146/150], Training MAE: 0.4959, Training RMSE: 0.6999\n",
      "Epoch [146/150], Validation MAE: 0.5397, Validation RMSE: 0.7559\n"
     ]
    },
    {
     "name": "stderr",
     "output_type": "stream",
     "text": [
      "Epoch 147/150: 100%|██████████| 213/213 [00:24<00:00,  8.64batch/s, mae_loss=0.486]\n"
     ]
    },
    {
     "name": "stdout",
     "output_type": "stream",
     "text": [
      "Epoch [147/150], Training MAE: 0.4946, Training RMSE: 0.6986\n",
      "Epoch [147/150], Validation MAE: 0.5409, Validation RMSE: 0.7559\n"
     ]
    },
    {
     "name": "stderr",
     "output_type": "stream",
     "text": [
      "Epoch 148/150: 100%|██████████| 213/213 [00:25<00:00,  8.38batch/s, mae_loss=0.467]\n"
     ]
    },
    {
     "name": "stdout",
     "output_type": "stream",
     "text": [
      "Epoch [148/150], Training MAE: 0.4938, Training RMSE: 0.6977\n",
      "Epoch [148/150], Validation MAE: 0.5426, Validation RMSE: 0.7592\n"
     ]
    },
    {
     "name": "stderr",
     "output_type": "stream",
     "text": [
      "Epoch 149/150: 100%|██████████| 213/213 [00:24<00:00,  8.81batch/s, mae_loss=0.492]\n"
     ]
    },
    {
     "name": "stdout",
     "output_type": "stream",
     "text": [
      "Epoch [149/150], Training MAE: 0.4928, Training RMSE: 0.6962\n",
      "Epoch [149/150], Validation MAE: 0.5415, Validation RMSE: 0.7572\n"
     ]
    },
    {
     "name": "stderr",
     "output_type": "stream",
     "text": [
      "Epoch 150/150: 100%|██████████| 213/213 [00:25<00:00,  8.44batch/s, mae_loss=0.52] \n"
     ]
    },
    {
     "name": "stdout",
     "output_type": "stream",
     "text": [
      "Epoch [150/150], Training MAE: 0.4920, Training RMSE: 0.6957\n",
      "Epoch [150/150], Validation MAE: 0.5428, Validation RMSE: 0.7584\n",
      "End Prediction Horizon of 24 of shared-layer Model\n",
      "model_shared-layer_attention_24_0 saved\n",
      "Start Prediction Horizon 24 of shared-layer model\n"
     ]
    },
    {
     "name": "stderr",
     "output_type": "stream",
     "text": [
      "Epoch 1/150: 100%|██████████| 213/213 [00:24<00:00,  8.57batch/s, mae_loss=0.727]\n"
     ]
    },
    {
     "name": "stdout",
     "output_type": "stream",
     "text": [
      "Epoch [1/150], Training MAE: 0.6867, Training RMSE: 0.9128\n",
      "Epoch [1/150], Validation MAE: 0.5488, Validation RMSE: 0.8053\n"
     ]
    },
    {
     "name": "stderr",
     "output_type": "stream",
     "text": [
      "Epoch 2/150: 100%|██████████| 213/213 [00:24<00:00,  8.56batch/s, mae_loss=0.662]\n"
     ]
    },
    {
     "name": "stdout",
     "output_type": "stream",
     "text": [
      "Epoch [2/150], Training MAE: 0.6611, Training RMSE: 0.8845\n",
      "Epoch [2/150], Validation MAE: 0.5371, Validation RMSE: 0.7860\n"
     ]
    },
    {
     "name": "stderr",
     "output_type": "stream",
     "text": [
      "Epoch 3/150: 100%|██████████| 213/213 [00:24<00:00,  8.56batch/s, mae_loss=0.725]\n"
     ]
    },
    {
     "name": "stdout",
     "output_type": "stream",
     "text": [
      "Epoch [3/150], Training MAE: 0.6474, Training RMSE: 0.8684\n",
      "Epoch [3/150], Validation MAE: 0.5282, Validation RMSE: 0.7735\n"
     ]
    },
    {
     "name": "stderr",
     "output_type": "stream",
     "text": [
      "Epoch 4/150: 100%|██████████| 213/213 [00:24<00:00,  8.77batch/s, mae_loss=0.6]  \n"
     ]
    },
    {
     "name": "stdout",
     "output_type": "stream",
     "text": [
      "Epoch [4/150], Training MAE: 0.6383, Training RMSE: 0.8578\n",
      "Epoch [4/150], Validation MAE: 0.5279, Validation RMSE: 0.7690\n"
     ]
    },
    {
     "name": "stderr",
     "output_type": "stream",
     "text": [
      "Epoch 5/150: 100%|██████████| 213/213 [00:25<00:00,  8.51batch/s, mae_loss=0.697]\n"
     ]
    },
    {
     "name": "stdout",
     "output_type": "stream",
     "text": [
      "Epoch [5/150], Training MAE: 0.6337, Training RMSE: 0.8530\n",
      "Epoch [5/150], Validation MAE: 0.5254, Validation RMSE: 0.7648\n"
     ]
    },
    {
     "name": "stderr",
     "output_type": "stream",
     "text": [
      "Epoch 6/150: 100%|██████████| 213/213 [00:27<00:00,  7.81batch/s, mae_loss=0.714]\n"
     ]
    },
    {
     "name": "stdout",
     "output_type": "stream",
     "text": [
      "Epoch [6/150], Training MAE: 0.6302, Training RMSE: 0.8494\n",
      "Epoch [6/150], Validation MAE: 0.5252, Validation RMSE: 0.7634\n"
     ]
    },
    {
     "name": "stderr",
     "output_type": "stream",
     "text": [
      "Epoch 7/150: 100%|██████████| 213/213 [00:28<00:00,  7.36batch/s, mae_loss=0.663]\n"
     ]
    },
    {
     "name": "stdout",
     "output_type": "stream",
     "text": [
      "Epoch [7/150], Training MAE: 0.6275, Training RMSE: 0.8466\n",
      "Epoch [7/150], Validation MAE: 0.5223, Validation RMSE: 0.7593\n"
     ]
    },
    {
     "name": "stderr",
     "output_type": "stream",
     "text": [
      "Epoch 8/150: 100%|██████████| 213/213 [00:27<00:00,  7.64batch/s, mae_loss=0.682]\n"
     ]
    },
    {
     "name": "stdout",
     "output_type": "stream",
     "text": [
      "Epoch [8/150], Training MAE: 0.6250, Training RMSE: 0.8443\n",
      "Epoch [8/150], Validation MAE: 0.5228, Validation RMSE: 0.7603\n"
     ]
    },
    {
     "name": "stderr",
     "output_type": "stream",
     "text": [
      "Epoch 9/150: 100%|██████████| 213/213 [00:27<00:00,  7.82batch/s, mae_loss=0.636]\n"
     ]
    },
    {
     "name": "stdout",
     "output_type": "stream",
     "text": [
      "Epoch [9/150], Training MAE: 0.6228, Training RMSE: 0.8423\n",
      "Epoch [9/150], Validation MAE: 0.5193, Validation RMSE: 0.7558\n"
     ]
    },
    {
     "name": "stderr",
     "output_type": "stream",
     "text": [
      "Epoch 10/150: 100%|██████████| 213/213 [00:26<00:00,  8.15batch/s, mae_loss=0.638]\n"
     ]
    },
    {
     "name": "stdout",
     "output_type": "stream",
     "text": [
      "Epoch [10/150], Training MAE: 0.6206, Training RMSE: 0.8399\n",
      "Epoch [10/150], Validation MAE: 0.5181, Validation RMSE: 0.7535\n"
     ]
    },
    {
     "name": "stderr",
     "output_type": "stream",
     "text": [
      "Epoch 11/150: 100%|██████████| 213/213 [00:26<00:00,  7.98batch/s, mae_loss=0.591]\n"
     ]
    },
    {
     "name": "stdout",
     "output_type": "stream",
     "text": [
      "Epoch [11/150], Training MAE: 0.6184, Training RMSE: 0.8376\n",
      "Epoch [11/150], Validation MAE: 0.5187, Validation RMSE: 0.7544\n"
     ]
    },
    {
     "name": "stderr",
     "output_type": "stream",
     "text": [
      "Epoch 12/150: 100%|██████████| 213/213 [00:27<00:00,  7.82batch/s, mae_loss=0.625]\n"
     ]
    },
    {
     "name": "stdout",
     "output_type": "stream",
     "text": [
      "Epoch [12/150], Training MAE: 0.6161, Training RMSE: 0.8350\n",
      "Epoch [12/150], Validation MAE: 0.5149, Validation RMSE: 0.7494\n"
     ]
    },
    {
     "name": "stderr",
     "output_type": "stream",
     "text": [
      "Epoch 13/150: 100%|██████████| 213/213 [00:26<00:00,  7.93batch/s, mae_loss=0.568]\n"
     ]
    },
    {
     "name": "stdout",
     "output_type": "stream",
     "text": [
      "Epoch [13/150], Training MAE: 0.6136, Training RMSE: 0.8325\n",
      "Epoch [13/150], Validation MAE: 0.5169, Validation RMSE: 0.7507\n"
     ]
    },
    {
     "name": "stderr",
     "output_type": "stream",
     "text": [
      "Epoch 14/150: 100%|██████████| 213/213 [00:27<00:00,  7.74batch/s, mae_loss=0.554]\n"
     ]
    },
    {
     "name": "stdout",
     "output_type": "stream",
     "text": [
      "Epoch [14/150], Training MAE: 0.6111, Training RMSE: 0.8297\n",
      "Epoch [14/150], Validation MAE: 0.5139, Validation RMSE: 0.7474\n"
     ]
    },
    {
     "name": "stderr",
     "output_type": "stream",
     "text": [
      "Epoch 15/150: 100%|██████████| 213/213 [00:27<00:00,  7.66batch/s, mae_loss=0.542]\n"
     ]
    },
    {
     "name": "stdout",
     "output_type": "stream",
     "text": [
      "Epoch [15/150], Training MAE: 0.6088, Training RMSE: 0.8269\n",
      "Epoch [15/150], Validation MAE: 0.5136, Validation RMSE: 0.7463\n"
     ]
    },
    {
     "name": "stderr",
     "output_type": "stream",
     "text": [
      "Epoch 16/150: 100%|██████████| 213/213 [00:26<00:00,  8.10batch/s, mae_loss=0.517]\n"
     ]
    },
    {
     "name": "stdout",
     "output_type": "stream",
     "text": [
      "Epoch [16/150], Training MAE: 0.6063, Training RMSE: 0.8240\n",
      "Epoch [16/150], Validation MAE: 0.5094, Validation RMSE: 0.7425\n"
     ]
    },
    {
     "name": "stderr",
     "output_type": "stream",
     "text": [
      "Epoch 17/150: 100%|██████████| 213/213 [00:40<00:00,  5.21batch/s, mae_loss=0.541]\n"
     ]
    },
    {
     "name": "stdout",
     "output_type": "stream",
     "text": [
      "Epoch [17/150], Training MAE: 0.6041, Training RMSE: 0.8216\n",
      "Epoch [17/150], Validation MAE: 0.5113, Validation RMSE: 0.7428\n"
     ]
    },
    {
     "name": "stderr",
     "output_type": "stream",
     "text": [
      "Epoch 18/150: 100%|██████████| 213/213 [00:27<00:00,  7.61batch/s, mae_loss=0.583]\n"
     ]
    },
    {
     "name": "stdout",
     "output_type": "stream",
     "text": [
      "Epoch [18/150], Training MAE: 0.6017, Training RMSE: 0.8189\n",
      "Epoch [18/150], Validation MAE: 0.5109, Validation RMSE: 0.7427\n"
     ]
    },
    {
     "name": "stderr",
     "output_type": "stream",
     "text": [
      "Epoch 19/150: 100%|██████████| 213/213 [00:29<00:00,  7.32batch/s, mae_loss=0.642]\n"
     ]
    },
    {
     "name": "stdout",
     "output_type": "stream",
     "text": [
      "Epoch [19/150], Training MAE: 0.5993, Training RMSE: 0.8162\n",
      "Epoch [19/150], Validation MAE: 0.5076, Validation RMSE: 0.7391\n"
     ]
    },
    {
     "name": "stderr",
     "output_type": "stream",
     "text": [
      "Epoch 20/150: 100%|██████████| 213/213 [00:27<00:00,  7.76batch/s, mae_loss=0.611]\n"
     ]
    },
    {
     "name": "stdout",
     "output_type": "stream",
     "text": [
      "Epoch [20/150], Training MAE: 0.5973, Training RMSE: 0.8140\n",
      "Epoch [20/150], Validation MAE: 0.5079, Validation RMSE: 0.7376\n"
     ]
    },
    {
     "name": "stderr",
     "output_type": "stream",
     "text": [
      "Epoch 21/150: 100%|██████████| 213/213 [00:27<00:00,  7.61batch/s, mae_loss=0.599]\n"
     ]
    },
    {
     "name": "stdout",
     "output_type": "stream",
     "text": [
      "Epoch [21/150], Training MAE: 0.5949, Training RMSE: 0.8113\n",
      "Epoch [21/150], Validation MAE: 0.5060, Validation RMSE: 0.7356\n"
     ]
    },
    {
     "name": "stderr",
     "output_type": "stream",
     "text": [
      "Epoch 22/150: 100%|██████████| 213/213 [00:26<00:00,  7.93batch/s, mae_loss=0.541]\n"
     ]
    },
    {
     "name": "stdout",
     "output_type": "stream",
     "text": [
      "Epoch [22/150], Training MAE: 0.5924, Training RMSE: 0.8087\n",
      "Epoch [22/150], Validation MAE: 0.5060, Validation RMSE: 0.7351\n"
     ]
    },
    {
     "name": "stderr",
     "output_type": "stream",
     "text": [
      "Epoch 23/150: 100%|██████████| 213/213 [00:26<00:00,  7.94batch/s, mae_loss=0.597]\n"
     ]
    },
    {
     "name": "stdout",
     "output_type": "stream",
     "text": [
      "Epoch [23/150], Training MAE: 0.5909, Training RMSE: 0.8065\n",
      "Epoch [23/150], Validation MAE: 0.5057, Validation RMSE: 0.7335\n"
     ]
    },
    {
     "name": "stderr",
     "output_type": "stream",
     "text": [
      "Epoch 24/150: 100%|██████████| 213/213 [00:27<00:00,  7.75batch/s, mae_loss=0.583]\n"
     ]
    },
    {
     "name": "stdout",
     "output_type": "stream",
     "text": [
      "Epoch [24/150], Training MAE: 0.5894, Training RMSE: 0.8053\n",
      "Epoch [24/150], Validation MAE: 0.5053, Validation RMSE: 0.7335\n"
     ]
    },
    {
     "name": "stderr",
     "output_type": "stream",
     "text": [
      "Epoch 25/150: 100%|██████████| 213/213 [00:26<00:00,  8.19batch/s, mae_loss=0.578]\n"
     ]
    },
    {
     "name": "stdout",
     "output_type": "stream",
     "text": [
      "Epoch [25/150], Training MAE: 0.5871, Training RMSE: 0.8026\n",
      "Epoch [25/150], Validation MAE: 0.5066, Validation RMSE: 0.7337\n"
     ]
    },
    {
     "name": "stderr",
     "output_type": "stream",
     "text": [
      "Epoch 26/150: 100%|██████████| 213/213 [00:29<00:00,  7.28batch/s, mae_loss=0.568]\n"
     ]
    },
    {
     "name": "stdout",
     "output_type": "stream",
     "text": [
      "Epoch [26/150], Training MAE: 0.5863, Training RMSE: 0.8017\n",
      "Epoch [26/150], Validation MAE: 0.5051, Validation RMSE: 0.7314\n"
     ]
    },
    {
     "name": "stderr",
     "output_type": "stream",
     "text": [
      "Epoch 27/150: 100%|██████████| 213/213 [00:28<00:00,  7.53batch/s, mae_loss=0.598]\n"
     ]
    },
    {
     "name": "stdout",
     "output_type": "stream",
     "text": [
      "Epoch [27/150], Training MAE: 0.5855, Training RMSE: 0.8005\n",
      "Epoch [27/150], Validation MAE: 0.5052, Validation RMSE: 0.7314\n"
     ]
    },
    {
     "name": "stderr",
     "output_type": "stream",
     "text": [
      "Epoch 28/150: 100%|██████████| 213/213 [00:28<00:00,  7.53batch/s, mae_loss=0.633]\n"
     ]
    },
    {
     "name": "stdout",
     "output_type": "stream",
     "text": [
      "Epoch [28/150], Training MAE: 0.5831, Training RMSE: 0.7982\n",
      "Epoch [28/150], Validation MAE: 0.5055, Validation RMSE: 0.7309\n"
     ]
    },
    {
     "name": "stderr",
     "output_type": "stream",
     "text": [
      "Epoch 29/150: 100%|██████████| 213/213 [00:26<00:00,  7.96batch/s, mae_loss=0.62] \n"
     ]
    },
    {
     "name": "stdout",
     "output_type": "stream",
     "text": [
      "Epoch [29/150], Training MAE: 0.5816, Training RMSE: 0.7967\n",
      "Epoch [29/150], Validation MAE: 0.5065, Validation RMSE: 0.7313\n"
     ]
    },
    {
     "name": "stderr",
     "output_type": "stream",
     "text": [
      "Epoch 30/150: 100%|██████████| 213/213 [00:31<00:00,  6.77batch/s, mae_loss=0.528]\n"
     ]
    },
    {
     "name": "stdout",
     "output_type": "stream",
     "text": [
      "Epoch [30/150], Training MAE: 0.5804, Training RMSE: 0.7951\n",
      "Epoch [30/150], Validation MAE: 0.5070, Validation RMSE: 0.7312\n"
     ]
    },
    {
     "name": "stderr",
     "output_type": "stream",
     "text": [
      "Epoch 31/150: 100%|██████████| 213/213 [00:32<00:00,  6.61batch/s, mae_loss=0.549]\n"
     ]
    },
    {
     "name": "stdout",
     "output_type": "stream",
     "text": [
      "Epoch [31/150], Training MAE: 0.5793, Training RMSE: 0.7942\n",
      "Epoch [31/150], Validation MAE: 0.5053, Validation RMSE: 0.7305\n"
     ]
    },
    {
     "name": "stderr",
     "output_type": "stream",
     "text": [
      "Epoch 32/150: 100%|██████████| 213/213 [00:25<00:00,  8.33batch/s, mae_loss=0.574]\n"
     ]
    },
    {
     "name": "stdout",
     "output_type": "stream",
     "text": [
      "Epoch [32/150], Training MAE: 0.5787, Training RMSE: 0.7934\n",
      "Epoch [32/150], Validation MAE: 0.5049, Validation RMSE: 0.7297\n"
     ]
    },
    {
     "name": "stderr",
     "output_type": "stream",
     "text": [
      "Epoch 33/150: 100%|██████████| 213/213 [00:26<00:00,  7.90batch/s, mae_loss=0.548]\n"
     ]
    },
    {
     "name": "stdout",
     "output_type": "stream",
     "text": [
      "Epoch [33/150], Training MAE: 0.5770, Training RMSE: 0.7917\n",
      "Epoch [33/150], Validation MAE: 0.5068, Validation RMSE: 0.7308\n"
     ]
    },
    {
     "name": "stderr",
     "output_type": "stream",
     "text": [
      "Epoch 34/150: 100%|██████████| 213/213 [00:26<00:00,  8.16batch/s, mae_loss=0.585]\n"
     ]
    },
    {
     "name": "stdout",
     "output_type": "stream",
     "text": [
      "Epoch [34/150], Training MAE: 0.5764, Training RMSE: 0.7910\n",
      "Epoch [34/150], Validation MAE: 0.5056, Validation RMSE: 0.7300\n"
     ]
    },
    {
     "name": "stderr",
     "output_type": "stream",
     "text": [
      "Epoch 35/150: 100%|██████████| 213/213 [00:25<00:00,  8.37batch/s, mae_loss=0.585]\n"
     ]
    },
    {
     "name": "stdout",
     "output_type": "stream",
     "text": [
      "Epoch [35/150], Training MAE: 0.5760, Training RMSE: 0.7902\n",
      "Epoch [35/150], Validation MAE: 0.5055, Validation RMSE: 0.7298\n"
     ]
    },
    {
     "name": "stderr",
     "output_type": "stream",
     "text": [
      "Epoch 36/150: 100%|██████████| 213/213 [00:26<00:00,  7.96batch/s, mae_loss=0.542]\n"
     ]
    },
    {
     "name": "stdout",
     "output_type": "stream",
     "text": [
      "Epoch [36/150], Training MAE: 0.5748, Training RMSE: 0.7892\n",
      "Epoch [36/150], Validation MAE: 0.5043, Validation RMSE: 0.7280\n"
     ]
    },
    {
     "name": "stderr",
     "output_type": "stream",
     "text": [
      "Epoch 37/150: 100%|██████████| 213/213 [00:26<00:00,  8.04batch/s, mae_loss=0.608]\n"
     ]
    },
    {
     "name": "stdout",
     "output_type": "stream",
     "text": [
      "Epoch [37/150], Training MAE: 0.5742, Training RMSE: 0.7882\n",
      "Epoch [37/150], Validation MAE: 0.5042, Validation RMSE: 0.7280\n"
     ]
    },
    {
     "name": "stderr",
     "output_type": "stream",
     "text": [
      "Epoch 38/150: 100%|██████████| 213/213 [00:25<00:00,  8.29batch/s, mae_loss=0.615]\n"
     ]
    },
    {
     "name": "stdout",
     "output_type": "stream",
     "text": [
      "Epoch [38/150], Training MAE: 0.5732, Training RMSE: 0.7876\n",
      "Epoch [38/150], Validation MAE: 0.5061, Validation RMSE: 0.7295\n"
     ]
    },
    {
     "name": "stderr",
     "output_type": "stream",
     "text": [
      "Epoch 39/150: 100%|██████████| 213/213 [00:27<00:00,  7.74batch/s, mae_loss=0.552]\n"
     ]
    },
    {
     "name": "stdout",
     "output_type": "stream",
     "text": [
      "Epoch [39/150], Training MAE: 0.5722, Training RMSE: 0.7865\n",
      "Epoch [39/150], Validation MAE: 0.5049, Validation RMSE: 0.7290\n"
     ]
    },
    {
     "name": "stderr",
     "output_type": "stream",
     "text": [
      "Epoch 40/150: 100%|██████████| 213/213 [00:28<00:00,  7.44batch/s, mae_loss=0.592]\n"
     ]
    },
    {
     "name": "stdout",
     "output_type": "stream",
     "text": [
      "Epoch [40/150], Training MAE: 0.5716, Training RMSE: 0.7860\n",
      "Epoch [40/150], Validation MAE: 0.5061, Validation RMSE: 0.7295\n"
     ]
    },
    {
     "name": "stderr",
     "output_type": "stream",
     "text": [
      "Epoch 41/150: 100%|██████████| 213/213 [00:30<00:00,  7.06batch/s, mae_loss=0.595]\n"
     ]
    },
    {
     "name": "stdout",
     "output_type": "stream",
     "text": [
      "Epoch [41/150], Training MAE: 0.5706, Training RMSE: 0.7847\n",
      "Epoch [41/150], Validation MAE: 0.5054, Validation RMSE: 0.7289\n"
     ]
    },
    {
     "name": "stderr",
     "output_type": "stream",
     "text": [
      "Epoch 42/150: 100%|██████████| 213/213 [00:25<00:00,  8.42batch/s, mae_loss=0.575]\n"
     ]
    },
    {
     "name": "stdout",
     "output_type": "stream",
     "text": [
      "Epoch [42/150], Training MAE: 0.5702, Training RMSE: 0.7842\n",
      "Epoch [42/150], Validation MAE: 0.5048, Validation RMSE: 0.7278\n"
     ]
    },
    {
     "name": "stderr",
     "output_type": "stream",
     "text": [
      "Epoch 43/150: 100%|██████████| 213/213 [00:27<00:00,  7.65batch/s, mae_loss=0.586]\n"
     ]
    },
    {
     "name": "stdout",
     "output_type": "stream",
     "text": [
      "Epoch [43/150], Training MAE: 0.5691, Training RMSE: 0.7836\n",
      "Epoch [43/150], Validation MAE: 0.5050, Validation RMSE: 0.7290\n"
     ]
    },
    {
     "name": "stderr",
     "output_type": "stream",
     "text": [
      "Epoch 44/150: 100%|██████████| 213/213 [00:27<00:00,  7.75batch/s, mae_loss=0.615]\n"
     ]
    },
    {
     "name": "stdout",
     "output_type": "stream",
     "text": [
      "Epoch [44/150], Training MAE: 0.5683, Training RMSE: 0.7822\n",
      "Epoch [44/150], Validation MAE: 0.5059, Validation RMSE: 0.7298\n"
     ]
    },
    {
     "name": "stderr",
     "output_type": "stream",
     "text": [
      "Epoch 45/150: 100%|██████████| 213/213 [00:28<00:00,  7.58batch/s, mae_loss=0.605]\n"
     ]
    },
    {
     "name": "stdout",
     "output_type": "stream",
     "text": [
      "Epoch [45/150], Training MAE: 0.5678, Training RMSE: 0.7819\n",
      "Epoch [45/150], Validation MAE: 0.5084, Validation RMSE: 0.7315\n"
     ]
    },
    {
     "name": "stderr",
     "output_type": "stream",
     "text": [
      "Epoch 46/150: 100%|██████████| 213/213 [00:30<00:00,  6.88batch/s, mae_loss=0.659]\n"
     ]
    },
    {
     "name": "stdout",
     "output_type": "stream",
     "text": [
      "Epoch [46/150], Training MAE: 0.5671, Training RMSE: 0.7812\n",
      "Epoch [46/150], Validation MAE: 0.5052, Validation RMSE: 0.7286\n"
     ]
    },
    {
     "name": "stderr",
     "output_type": "stream",
     "text": [
      "Epoch 47/150: 100%|██████████| 213/213 [00:25<00:00,  8.24batch/s, mae_loss=0.554]\n"
     ]
    },
    {
     "name": "stdout",
     "output_type": "stream",
     "text": [
      "Epoch [47/150], Training MAE: 0.5660, Training RMSE: 0.7802\n",
      "Epoch [47/150], Validation MAE: 0.5074, Validation RMSE: 0.7299\n"
     ]
    },
    {
     "name": "stderr",
     "output_type": "stream",
     "text": [
      "Epoch 48/150: 100%|██████████| 213/213 [00:24<00:00,  8.70batch/s, mae_loss=0.569]\n"
     ]
    },
    {
     "name": "stdout",
     "output_type": "stream",
     "text": [
      "Epoch [48/150], Training MAE: 0.5652, Training RMSE: 0.7792\n",
      "Epoch [48/150], Validation MAE: 0.5066, Validation RMSE: 0.7294\n"
     ]
    },
    {
     "name": "stderr",
     "output_type": "stream",
     "text": [
      "Epoch 49/150: 100%|██████████| 213/213 [00:26<00:00,  8.12batch/s, mae_loss=0.53] \n"
     ]
    },
    {
     "name": "stdout",
     "output_type": "stream",
     "text": [
      "Epoch [49/150], Training MAE: 0.5651, Training RMSE: 0.7794\n",
      "Epoch [49/150], Validation MAE: 0.5073, Validation RMSE: 0.7301\n"
     ]
    },
    {
     "name": "stderr",
     "output_type": "stream",
     "text": [
      "Epoch 50/150: 100%|██████████| 213/213 [00:25<00:00,  8.48batch/s, mae_loss=0.509]\n"
     ]
    },
    {
     "name": "stdout",
     "output_type": "stream",
     "text": [
      "Epoch [50/150], Training MAE: 0.5640, Training RMSE: 0.7778\n",
      "Epoch [50/150], Validation MAE: 0.5061, Validation RMSE: 0.7298\n"
     ]
    },
    {
     "name": "stderr",
     "output_type": "stream",
     "text": [
      "Epoch 51/150: 100%|██████████| 213/213 [00:25<00:00,  8.46batch/s, mae_loss=0.529]\n"
     ]
    },
    {
     "name": "stdout",
     "output_type": "stream",
     "text": [
      "Epoch [51/150], Training MAE: 0.5630, Training RMSE: 0.7768\n",
      "Epoch [51/150], Validation MAE: 0.5071, Validation RMSE: 0.7282\n"
     ]
    },
    {
     "name": "stderr",
     "output_type": "stream",
     "text": [
      "Epoch 52/150: 100%|██████████| 213/213 [00:25<00:00,  8.22batch/s, mae_loss=0.544]\n"
     ]
    },
    {
     "name": "stdout",
     "output_type": "stream",
     "text": [
      "Epoch [52/150], Training MAE: 0.5626, Training RMSE: 0.7763\n",
      "Epoch [52/150], Validation MAE: 0.5052, Validation RMSE: 0.7276\n"
     ]
    },
    {
     "name": "stderr",
     "output_type": "stream",
     "text": [
      "Epoch 53/150: 100%|██████████| 213/213 [00:24<00:00,  8.63batch/s, mae_loss=0.572]\n"
     ]
    },
    {
     "name": "stdout",
     "output_type": "stream",
     "text": [
      "Epoch [53/150], Training MAE: 0.5618, Training RMSE: 0.7753\n",
      "Epoch [53/150], Validation MAE: 0.5055, Validation RMSE: 0.7272\n"
     ]
    },
    {
     "name": "stderr",
     "output_type": "stream",
     "text": [
      "Epoch 54/150: 100%|██████████| 213/213 [00:25<00:00,  8.41batch/s, mae_loss=0.595]\n"
     ]
    },
    {
     "name": "stdout",
     "output_type": "stream",
     "text": [
      "Epoch [54/150], Training MAE: 0.5610, Training RMSE: 0.7743\n",
      "Epoch [54/150], Validation MAE: 0.5054, Validation RMSE: 0.7282\n"
     ]
    },
    {
     "name": "stderr",
     "output_type": "stream",
     "text": [
      "Epoch 55/150: 100%|██████████| 213/213 [00:25<00:00,  8.51batch/s, mae_loss=0.584]\n"
     ]
    },
    {
     "name": "stdout",
     "output_type": "stream",
     "text": [
      "Epoch [55/150], Training MAE: 0.5608, Training RMSE: 0.7745\n",
      "Epoch [55/150], Validation MAE: 0.5057, Validation RMSE: 0.7268\n"
     ]
    },
    {
     "name": "stderr",
     "output_type": "stream",
     "text": [
      "Epoch 56/150: 100%|██████████| 213/213 [00:25<00:00,  8.24batch/s, mae_loss=0.633]\n"
     ]
    },
    {
     "name": "stdout",
     "output_type": "stream",
     "text": [
      "Epoch [56/150], Training MAE: 0.5600, Training RMSE: 0.7731\n",
      "Epoch [56/150], Validation MAE: 0.5051, Validation RMSE: 0.7267\n"
     ]
    },
    {
     "name": "stderr",
     "output_type": "stream",
     "text": [
      "Epoch 57/150: 100%|██████████| 213/213 [00:24<00:00,  8.67batch/s, mae_loss=0.513]\n"
     ]
    },
    {
     "name": "stdout",
     "output_type": "stream",
     "text": [
      "Epoch [57/150], Training MAE: 0.5587, Training RMSE: 0.7722\n",
      "Epoch [57/150], Validation MAE: 0.5068, Validation RMSE: 0.7283\n"
     ]
    },
    {
     "name": "stderr",
     "output_type": "stream",
     "text": [
      "Epoch 58/150: 100%|██████████| 213/213 [00:24<00:00,  8.56batch/s, mae_loss=0.624]\n"
     ]
    },
    {
     "name": "stdout",
     "output_type": "stream",
     "text": [
      "Epoch [58/150], Training MAE: 0.5594, Training RMSE: 0.7724\n",
      "Epoch [58/150], Validation MAE: 0.5084, Validation RMSE: 0.7286\n"
     ]
    },
    {
     "name": "stderr",
     "output_type": "stream",
     "text": [
      "Epoch 59/150: 100%|██████████| 213/213 [00:25<00:00,  8.39batch/s, mae_loss=0.545]\n"
     ]
    },
    {
     "name": "stdout",
     "output_type": "stream",
     "text": [
      "Epoch [59/150], Training MAE: 0.5581, Training RMSE: 0.7713\n",
      "Epoch [59/150], Validation MAE: 0.5056, Validation RMSE: 0.7259\n"
     ]
    },
    {
     "name": "stderr",
     "output_type": "stream",
     "text": [
      "Epoch 60/150: 100%|██████████| 213/213 [00:25<00:00,  8.36batch/s, mae_loss=0.54] \n"
     ]
    },
    {
     "name": "stdout",
     "output_type": "stream",
     "text": [
      "Epoch [60/150], Training MAE: 0.5572, Training RMSE: 0.7700\n",
      "Epoch [60/150], Validation MAE: 0.5066, Validation RMSE: 0.7276\n"
     ]
    },
    {
     "name": "stderr",
     "output_type": "stream",
     "text": [
      "Epoch 61/150: 100%|██████████| 213/213 [00:25<00:00,  8.31batch/s, mae_loss=0.547]\n"
     ]
    },
    {
     "name": "stdout",
     "output_type": "stream",
     "text": [
      "Epoch [61/150], Training MAE: 0.5569, Training RMSE: 0.7696\n",
      "Epoch [61/150], Validation MAE: 0.5071, Validation RMSE: 0.7279\n"
     ]
    },
    {
     "name": "stderr",
     "output_type": "stream",
     "text": [
      "Epoch 62/150: 100%|██████████| 213/213 [00:25<00:00,  8.43batch/s, mae_loss=0.594]\n"
     ]
    },
    {
     "name": "stdout",
     "output_type": "stream",
     "text": [
      "Epoch [62/150], Training MAE: 0.5561, Training RMSE: 0.7690\n",
      "Epoch [62/150], Validation MAE: 0.5087, Validation RMSE: 0.7295\n"
     ]
    },
    {
     "name": "stderr",
     "output_type": "stream",
     "text": [
      "Epoch 63/150: 100%|██████████| 213/213 [00:25<00:00,  8.35batch/s, mae_loss=0.579]\n"
     ]
    },
    {
     "name": "stdout",
     "output_type": "stream",
     "text": [
      "Epoch [63/150], Training MAE: 0.5551, Training RMSE: 0.7683\n",
      "Epoch [63/150], Validation MAE: 0.5086, Validation RMSE: 0.7282\n"
     ]
    },
    {
     "name": "stderr",
     "output_type": "stream",
     "text": [
      "Epoch 64/150: 100%|██████████| 213/213 [00:24<00:00,  8.62batch/s, mae_loss=0.583]\n"
     ]
    },
    {
     "name": "stdout",
     "output_type": "stream",
     "text": [
      "Epoch [64/150], Training MAE: 0.5555, Training RMSE: 0.7683\n",
      "Epoch [64/150], Validation MAE: 0.5087, Validation RMSE: 0.7283\n"
     ]
    },
    {
     "name": "stderr",
     "output_type": "stream",
     "text": [
      "Epoch 65/150: 100%|██████████| 213/213 [00:24<00:00,  8.54batch/s, mae_loss=0.545]\n"
     ]
    },
    {
     "name": "stdout",
     "output_type": "stream",
     "text": [
      "Epoch [65/150], Training MAE: 0.5540, Training RMSE: 0.7669\n",
      "Epoch [65/150], Validation MAE: 0.5084, Validation RMSE: 0.7293\n"
     ]
    },
    {
     "name": "stderr",
     "output_type": "stream",
     "text": [
      "Epoch 66/150: 100%|██████████| 213/213 [00:30<00:00,  7.07batch/s, mae_loss=0.523]\n"
     ]
    },
    {
     "name": "stdout",
     "output_type": "stream",
     "text": [
      "Epoch [66/150], Training MAE: 0.5538, Training RMSE: 0.7665\n",
      "Epoch [66/150], Validation MAE: 0.5087, Validation RMSE: 0.7299\n"
     ]
    },
    {
     "name": "stderr",
     "output_type": "stream",
     "text": [
      "Epoch 67/150: 100%|██████████| 213/213 [00:25<00:00,  8.39batch/s, mae_loss=0.581]\n"
     ]
    },
    {
     "name": "stdout",
     "output_type": "stream",
     "text": [
      "Epoch [67/150], Training MAE: 0.5528, Training RMSE: 0.7652\n",
      "Epoch [67/150], Validation MAE: 0.5087, Validation RMSE: 0.7289\n"
     ]
    },
    {
     "name": "stderr",
     "output_type": "stream",
     "text": [
      "Epoch 68/150: 100%|██████████| 213/213 [00:25<00:00,  8.32batch/s, mae_loss=0.571]\n"
     ]
    },
    {
     "name": "stdout",
     "output_type": "stream",
     "text": [
      "Epoch [68/150], Training MAE: 0.5521, Training RMSE: 0.7649\n",
      "Epoch [68/150], Validation MAE: 0.5112, Validation RMSE: 0.7305\n"
     ]
    },
    {
     "name": "stderr",
     "output_type": "stream",
     "text": [
      "Epoch 69/150: 100%|██████████| 213/213 [00:26<00:00,  7.92batch/s, mae_loss=0.514]\n"
     ]
    },
    {
     "name": "stdout",
     "output_type": "stream",
     "text": [
      "Epoch [69/150], Training MAE: 0.5516, Training RMSE: 0.7641\n",
      "Epoch [69/150], Validation MAE: 0.5103, Validation RMSE: 0.7310\n"
     ]
    },
    {
     "name": "stderr",
     "output_type": "stream",
     "text": [
      "Epoch 70/150: 100%|██████████| 213/213 [00:25<00:00,  8.30batch/s, mae_loss=0.562]\n"
     ]
    },
    {
     "name": "stdout",
     "output_type": "stream",
     "text": [
      "Epoch [70/150], Training MAE: 0.5512, Training RMSE: 0.7637\n",
      "Epoch [70/150], Validation MAE: 0.5103, Validation RMSE: 0.7299\n"
     ]
    },
    {
     "name": "stderr",
     "output_type": "stream",
     "text": [
      "Epoch 71/150: 100%|██████████| 213/213 [00:26<00:00,  7.91batch/s, mae_loss=0.586]\n"
     ]
    },
    {
     "name": "stdout",
     "output_type": "stream",
     "text": [
      "Epoch [71/150], Training MAE: 0.5502, Training RMSE: 0.7625\n",
      "Epoch [71/150], Validation MAE: 0.5109, Validation RMSE: 0.7305\n"
     ]
    },
    {
     "name": "stderr",
     "output_type": "stream",
     "text": [
      "Epoch 72/150: 100%|██████████| 213/213 [00:25<00:00,  8.31batch/s, mae_loss=0.549]\n"
     ]
    },
    {
     "name": "stdout",
     "output_type": "stream",
     "text": [
      "Epoch [72/150], Training MAE: 0.5495, Training RMSE: 0.7620\n",
      "Epoch [72/150], Validation MAE: 0.5090, Validation RMSE: 0.7285\n"
     ]
    },
    {
     "name": "stderr",
     "output_type": "stream",
     "text": [
      "Epoch 73/150: 100%|██████████| 213/213 [00:28<00:00,  7.51batch/s, mae_loss=0.54] \n"
     ]
    },
    {
     "name": "stdout",
     "output_type": "stream",
     "text": [
      "Epoch [73/150], Training MAE: 0.5487, Training RMSE: 0.7608\n",
      "Epoch [73/150], Validation MAE: 0.5122, Validation RMSE: 0.7320\n"
     ]
    },
    {
     "name": "stderr",
     "output_type": "stream",
     "text": [
      "Epoch 74/150: 100%|██████████| 213/213 [00:24<00:00,  8.79batch/s, mae_loss=0.586]\n"
     ]
    },
    {
     "name": "stdout",
     "output_type": "stream",
     "text": [
      "Epoch [74/150], Training MAE: 0.5478, Training RMSE: 0.7599\n",
      "Epoch [74/150], Validation MAE: 0.5106, Validation RMSE: 0.7300\n"
     ]
    },
    {
     "name": "stderr",
     "output_type": "stream",
     "text": [
      "Epoch 75/150: 100%|██████████| 213/213 [00:23<00:00,  9.12batch/s, mae_loss=0.524]\n"
     ]
    },
    {
     "name": "stdout",
     "output_type": "stream",
     "text": [
      "Epoch [75/150], Training MAE: 0.5476, Training RMSE: 0.7596\n",
      "Epoch [75/150], Validation MAE: 0.5121, Validation RMSE: 0.7317\n"
     ]
    },
    {
     "name": "stderr",
     "output_type": "stream",
     "text": [
      "Epoch 76/150: 100%|██████████| 213/213 [00:22<00:00,  9.46batch/s, mae_loss=0.575]\n"
     ]
    },
    {
     "name": "stdout",
     "output_type": "stream",
     "text": [
      "Epoch [76/150], Training MAE: 0.5471, Training RMSE: 0.7595\n",
      "Epoch [76/150], Validation MAE: 0.5105, Validation RMSE: 0.7301\n"
     ]
    },
    {
     "name": "stderr",
     "output_type": "stream",
     "text": [
      "Epoch 77/150: 100%|██████████| 213/213 [00:23<00:00,  9.09batch/s, mae_loss=0.504]\n"
     ]
    },
    {
     "name": "stdout",
     "output_type": "stream",
     "text": [
      "Epoch [77/150], Training MAE: 0.5459, Training RMSE: 0.7579\n",
      "Epoch [77/150], Validation MAE: 0.5114, Validation RMSE: 0.7312\n"
     ]
    },
    {
     "name": "stderr",
     "output_type": "stream",
     "text": [
      "Epoch 78/150: 100%|██████████| 213/213 [00:22<00:00,  9.57batch/s, mae_loss=0.553]\n"
     ]
    },
    {
     "name": "stdout",
     "output_type": "stream",
     "text": [
      "Epoch [78/150], Training MAE: 0.5449, Training RMSE: 0.7563\n",
      "Epoch [78/150], Validation MAE: 0.5128, Validation RMSE: 0.7318\n"
     ]
    },
    {
     "name": "stderr",
     "output_type": "stream",
     "text": [
      "Epoch 79/150: 100%|██████████| 213/213 [00:23<00:00,  9.26batch/s, mae_loss=0.553]\n"
     ]
    },
    {
     "name": "stdout",
     "output_type": "stream",
     "text": [
      "Epoch [79/150], Training MAE: 0.5451, Training RMSE: 0.7563\n",
      "Epoch [79/150], Validation MAE: 0.5085, Validation RMSE: 0.7285\n"
     ]
    },
    {
     "name": "stderr",
     "output_type": "stream",
     "text": [
      "Epoch 80/150: 100%|██████████| 213/213 [00:22<00:00,  9.37batch/s, mae_loss=0.532]\n"
     ]
    },
    {
     "name": "stdout",
     "output_type": "stream",
     "text": [
      "Epoch [80/150], Training MAE: 0.5440, Training RMSE: 0.7554\n",
      "Epoch [80/150], Validation MAE: 0.5113, Validation RMSE: 0.7311\n"
     ]
    },
    {
     "name": "stderr",
     "output_type": "stream",
     "text": [
      "Epoch 81/150: 100%|██████████| 213/213 [00:24<00:00,  8.85batch/s, mae_loss=0.604]\n"
     ]
    },
    {
     "name": "stdout",
     "output_type": "stream",
     "text": [
      "Epoch [81/150], Training MAE: 0.5437, Training RMSE: 0.7551\n",
      "Epoch [81/150], Validation MAE: 0.5120, Validation RMSE: 0.7306\n"
     ]
    },
    {
     "name": "stderr",
     "output_type": "stream",
     "text": [
      "Epoch 82/150: 100%|██████████| 213/213 [00:24<00:00,  8.62batch/s, mae_loss=0.543]\n"
     ]
    },
    {
     "name": "stdout",
     "output_type": "stream",
     "text": [
      "Epoch [82/150], Training MAE: 0.5429, Training RMSE: 0.7544\n",
      "Epoch [82/150], Validation MAE: 0.5128, Validation RMSE: 0.7330\n"
     ]
    },
    {
     "name": "stderr",
     "output_type": "stream",
     "text": [
      "Epoch 83/150: 100%|██████████| 213/213 [00:22<00:00,  9.59batch/s, mae_loss=0.51] \n"
     ]
    },
    {
     "name": "stdout",
     "output_type": "stream",
     "text": [
      "Epoch [83/150], Training MAE: 0.5426, Training RMSE: 0.7538\n",
      "Epoch [83/150], Validation MAE: 0.5115, Validation RMSE: 0.7315\n"
     ]
    },
    {
     "name": "stderr",
     "output_type": "stream",
     "text": [
      "Epoch 84/150: 100%|██████████| 213/213 [00:23<00:00,  9.26batch/s, mae_loss=0.538]\n"
     ]
    },
    {
     "name": "stdout",
     "output_type": "stream",
     "text": [
      "Epoch [84/150], Training MAE: 0.5405, Training RMSE: 0.7518\n",
      "Epoch [84/150], Validation MAE: 0.5118, Validation RMSE: 0.7319\n"
     ]
    },
    {
     "name": "stderr",
     "output_type": "stream",
     "text": [
      "Epoch 85/150: 100%|██████████| 213/213 [00:22<00:00,  9.33batch/s, mae_loss=0.52] \n"
     ]
    },
    {
     "name": "stdout",
     "output_type": "stream",
     "text": [
      "Epoch [85/150], Training MAE: 0.5405, Training RMSE: 0.7518\n",
      "Epoch [85/150], Validation MAE: 0.5140, Validation RMSE: 0.7339\n"
     ]
    },
    {
     "name": "stderr",
     "output_type": "stream",
     "text": [
      "Epoch 86/150: 100%|██████████| 213/213 [00:22<00:00,  9.51batch/s, mae_loss=0.476]\n"
     ]
    },
    {
     "name": "stdout",
     "output_type": "stream",
     "text": [
      "Epoch [86/150], Training MAE: 0.5400, Training RMSE: 0.7512\n",
      "Epoch [86/150], Validation MAE: 0.5125, Validation RMSE: 0.7321\n"
     ]
    },
    {
     "name": "stderr",
     "output_type": "stream",
     "text": [
      "Epoch 87/150: 100%|██████████| 213/213 [00:22<00:00,  9.42batch/s, mae_loss=0.532]\n"
     ]
    },
    {
     "name": "stdout",
     "output_type": "stream",
     "text": [
      "Epoch [87/150], Training MAE: 0.5386, Training RMSE: 0.7493\n",
      "Epoch [87/150], Validation MAE: 0.5126, Validation RMSE: 0.7329\n"
     ]
    },
    {
     "name": "stderr",
     "output_type": "stream",
     "text": [
      "Epoch 88/150: 100%|██████████| 213/213 [00:22<00:00,  9.54batch/s, mae_loss=0.515]\n"
     ]
    },
    {
     "name": "stdout",
     "output_type": "stream",
     "text": [
      "Epoch [88/150], Training MAE: 0.5384, Training RMSE: 0.7491\n",
      "Epoch [88/150], Validation MAE: 0.5134, Validation RMSE: 0.7333\n"
     ]
    },
    {
     "name": "stderr",
     "output_type": "stream",
     "text": [
      "Epoch 89/150: 100%|██████████| 213/213 [00:22<00:00,  9.42batch/s, mae_loss=0.517]\n"
     ]
    },
    {
     "name": "stdout",
     "output_type": "stream",
     "text": [
      "Epoch [89/150], Training MAE: 0.5378, Training RMSE: 0.7491\n",
      "Epoch [89/150], Validation MAE: 0.5145, Validation RMSE: 0.7333\n"
     ]
    },
    {
     "name": "stderr",
     "output_type": "stream",
     "text": [
      "Epoch 90/150: 100%|██████████| 213/213 [00:22<00:00,  9.37batch/s, mae_loss=0.517]\n"
     ]
    },
    {
     "name": "stdout",
     "output_type": "stream",
     "text": [
      "Epoch [90/150], Training MAE: 0.5370, Training RMSE: 0.7476\n",
      "Epoch [90/150], Validation MAE: 0.5152, Validation RMSE: 0.7350\n"
     ]
    },
    {
     "name": "stderr",
     "output_type": "stream",
     "text": [
      "Epoch 91/150: 100%|██████████| 213/213 [00:22<00:00,  9.52batch/s, mae_loss=0.581]\n"
     ]
    },
    {
     "name": "stdout",
     "output_type": "stream",
     "text": [
      "Epoch [91/150], Training MAE: 0.5367, Training RMSE: 0.7475\n",
      "Epoch [91/150], Validation MAE: 0.5143, Validation RMSE: 0.7341\n"
     ]
    },
    {
     "name": "stderr",
     "output_type": "stream",
     "text": [
      "Epoch 92/150: 100%|██████████| 213/213 [00:22<00:00,  9.39batch/s, mae_loss=0.503]\n"
     ]
    },
    {
     "name": "stdout",
     "output_type": "stream",
     "text": [
      "Epoch [92/150], Training MAE: 0.5359, Training RMSE: 0.7463\n",
      "Epoch [92/150], Validation MAE: 0.5147, Validation RMSE: 0.7334\n"
     ]
    },
    {
     "name": "stderr",
     "output_type": "stream",
     "text": [
      "Epoch 93/150: 100%|██████████| 213/213 [00:22<00:00,  9.32batch/s, mae_loss=0.536]\n"
     ]
    },
    {
     "name": "stdout",
     "output_type": "stream",
     "text": [
      "Epoch [93/150], Training MAE: 0.5351, Training RMSE: 0.7455\n",
      "Epoch [93/150], Validation MAE: 0.5143, Validation RMSE: 0.7329\n"
     ]
    },
    {
     "name": "stderr",
     "output_type": "stream",
     "text": [
      "Epoch 94/150: 100%|██████████| 213/213 [00:23<00:00,  9.20batch/s, mae_loss=0.513]\n"
     ]
    },
    {
     "name": "stdout",
     "output_type": "stream",
     "text": [
      "Epoch [94/150], Training MAE: 0.5346, Training RMSE: 0.7450\n",
      "Epoch [94/150], Validation MAE: 0.5152, Validation RMSE: 0.7341\n"
     ]
    },
    {
     "name": "stderr",
     "output_type": "stream",
     "text": [
      "Epoch 95/150: 100%|██████████| 213/213 [00:22<00:00,  9.38batch/s, mae_loss=0.528]\n"
     ]
    },
    {
     "name": "stdout",
     "output_type": "stream",
     "text": [
      "Epoch [95/150], Training MAE: 0.5339, Training RMSE: 0.7441\n",
      "Epoch [95/150], Validation MAE: 0.5178, Validation RMSE: 0.7362\n"
     ]
    },
    {
     "name": "stderr",
     "output_type": "stream",
     "text": [
      "Epoch 96/150: 100%|██████████| 213/213 [00:22<00:00,  9.29batch/s, mae_loss=0.517]\n"
     ]
    },
    {
     "name": "stdout",
     "output_type": "stream",
     "text": [
      "Epoch [96/150], Training MAE: 0.5332, Training RMSE: 0.7438\n",
      "Epoch [96/150], Validation MAE: 0.5164, Validation RMSE: 0.7357\n"
     ]
    },
    {
     "name": "stderr",
     "output_type": "stream",
     "text": [
      "Epoch 97/150: 100%|██████████| 213/213 [00:22<00:00,  9.57batch/s, mae_loss=0.529]\n"
     ]
    },
    {
     "name": "stdout",
     "output_type": "stream",
     "text": [
      "Epoch [97/150], Training MAE: 0.5326, Training RMSE: 0.7427\n",
      "Epoch [97/150], Validation MAE: 0.5173, Validation RMSE: 0.7355\n"
     ]
    },
    {
     "name": "stderr",
     "output_type": "stream",
     "text": [
      "Epoch 98/150: 100%|██████████| 213/213 [00:22<00:00,  9.30batch/s, mae_loss=0.545]\n"
     ]
    },
    {
     "name": "stdout",
     "output_type": "stream",
     "text": [
      "Epoch [98/150], Training MAE: 0.5316, Training RMSE: 0.7419\n",
      "Epoch [98/150], Validation MAE: 0.5171, Validation RMSE: 0.7359\n"
     ]
    },
    {
     "name": "stderr",
     "output_type": "stream",
     "text": [
      "Epoch 99/150: 100%|██████████| 213/213 [00:22<00:00,  9.55batch/s, mae_loss=0.543]\n"
     ]
    },
    {
     "name": "stdout",
     "output_type": "stream",
     "text": [
      "Epoch [99/150], Training MAE: 0.5312, Training RMSE: 0.7412\n",
      "Epoch [99/150], Validation MAE: 0.5170, Validation RMSE: 0.7358\n"
     ]
    },
    {
     "name": "stderr",
     "output_type": "stream",
     "text": [
      "Epoch 100/150: 100%|██████████| 213/213 [00:22<00:00,  9.40batch/s, mae_loss=0.544]\n"
     ]
    },
    {
     "name": "stdout",
     "output_type": "stream",
     "text": [
      "Epoch [100/150], Training MAE: 0.5307, Training RMSE: 0.7403\n",
      "Epoch [100/150], Validation MAE: 0.5167, Validation RMSE: 0.7366\n"
     ]
    },
    {
     "name": "stderr",
     "output_type": "stream",
     "text": [
      "Epoch 101/150: 100%|██████████| 213/213 [00:22<00:00,  9.65batch/s, mae_loss=0.534]\n"
     ]
    },
    {
     "name": "stdout",
     "output_type": "stream",
     "text": [
      "Epoch [101/150], Training MAE: 0.5294, Training RMSE: 0.7394\n",
      "Epoch [101/150], Validation MAE: 0.5190, Validation RMSE: 0.7373\n"
     ]
    },
    {
     "name": "stderr",
     "output_type": "stream",
     "text": [
      "Epoch 102/150: 100%|██████████| 213/213 [00:21<00:00,  9.71batch/s, mae_loss=0.454]\n"
     ]
    },
    {
     "name": "stdout",
     "output_type": "stream",
     "text": [
      "Epoch [102/150], Training MAE: 0.5288, Training RMSE: 0.7381\n",
      "Epoch [102/150], Validation MAE: 0.5194, Validation RMSE: 0.7378\n"
     ]
    },
    {
     "name": "stderr",
     "output_type": "stream",
     "text": [
      "Epoch 103/150: 100%|██████████| 213/213 [00:22<00:00,  9.32batch/s, mae_loss=0.55] \n"
     ]
    },
    {
     "name": "stdout",
     "output_type": "stream",
     "text": [
      "Epoch [103/150], Training MAE: 0.5283, Training RMSE: 0.7377\n",
      "Epoch [103/150], Validation MAE: 0.5163, Validation RMSE: 0.7356\n"
     ]
    },
    {
     "name": "stderr",
     "output_type": "stream",
     "text": [
      "Epoch 104/150: 100%|██████████| 213/213 [00:24<00:00,  8.65batch/s, mae_loss=0.533]\n"
     ]
    },
    {
     "name": "stdout",
     "output_type": "stream",
     "text": [
      "Epoch [104/150], Training MAE: 0.5280, Training RMSE: 0.7376\n",
      "Epoch [104/150], Validation MAE: 0.5210, Validation RMSE: 0.7408\n"
     ]
    },
    {
     "name": "stderr",
     "output_type": "stream",
     "text": [
      "Epoch 105/150: 100%|██████████| 213/213 [00:21<00:00,  9.70batch/s, mae_loss=0.481]\n"
     ]
    },
    {
     "name": "stdout",
     "output_type": "stream",
     "text": [
      "Epoch [105/150], Training MAE: 0.5263, Training RMSE: 0.7356\n",
      "Epoch [105/150], Validation MAE: 0.5187, Validation RMSE: 0.7380\n"
     ]
    },
    {
     "name": "stderr",
     "output_type": "stream",
     "text": [
      "Epoch 106/150: 100%|██████████| 213/213 [00:22<00:00,  9.67batch/s, mae_loss=0.613]\n"
     ]
    },
    {
     "name": "stdout",
     "output_type": "stream",
     "text": [
      "Epoch [106/150], Training MAE: 0.5265, Training RMSE: 0.7358\n",
      "Epoch [106/150], Validation MAE: 0.5203, Validation RMSE: 0.7392\n"
     ]
    },
    {
     "name": "stderr",
     "output_type": "stream",
     "text": [
      "Epoch 107/150: 100%|██████████| 213/213 [00:21<00:00,  9.72batch/s, mae_loss=0.505]\n"
     ]
    },
    {
     "name": "stdout",
     "output_type": "stream",
     "text": [
      "Epoch [107/150], Training MAE: 0.5252, Training RMSE: 0.7345\n",
      "Epoch [107/150], Validation MAE: 0.5208, Validation RMSE: 0.7398\n"
     ]
    },
    {
     "name": "stderr",
     "output_type": "stream",
     "text": [
      "Epoch 108/150: 100%|██████████| 213/213 [00:22<00:00,  9.40batch/s, mae_loss=0.527]\n"
     ]
    },
    {
     "name": "stdout",
     "output_type": "stream",
     "text": [
      "Epoch [108/150], Training MAE: 0.5244, Training RMSE: 0.7335\n",
      "Epoch [108/150], Validation MAE: 0.5231, Validation RMSE: 0.7420\n"
     ]
    },
    {
     "name": "stderr",
     "output_type": "stream",
     "text": [
      "Epoch 109/150: 100%|██████████| 213/213 [00:21<00:00,  9.79batch/s, mae_loss=0.539]\n"
     ]
    },
    {
     "name": "stdout",
     "output_type": "stream",
     "text": [
      "Epoch [109/150], Training MAE: 0.5237, Training RMSE: 0.7327\n",
      "Epoch [109/150], Validation MAE: 0.5212, Validation RMSE: 0.7405\n"
     ]
    },
    {
     "name": "stderr",
     "output_type": "stream",
     "text": [
      "Epoch 110/150: 100%|██████████| 213/213 [00:22<00:00,  9.64batch/s, mae_loss=0.493]\n"
     ]
    },
    {
     "name": "stdout",
     "output_type": "stream",
     "text": [
      "Epoch [110/150], Training MAE: 0.5224, Training RMSE: 0.7307\n",
      "Epoch [110/150], Validation MAE: 0.5194, Validation RMSE: 0.7388\n"
     ]
    },
    {
     "name": "stderr",
     "output_type": "stream",
     "text": [
      "Epoch 111/150: 100%|██████████| 213/213 [00:21<00:00,  9.69batch/s, mae_loss=0.545]\n"
     ]
    },
    {
     "name": "stdout",
     "output_type": "stream",
     "text": [
      "Epoch [111/150], Training MAE: 0.5225, Training RMSE: 0.7307\n",
      "Epoch [111/150], Validation MAE: 0.5214, Validation RMSE: 0.7398\n"
     ]
    },
    {
     "name": "stderr",
     "output_type": "stream",
     "text": [
      "Epoch 112/150: 100%|██████████| 213/213 [00:21<00:00,  9.75batch/s, mae_loss=0.466]\n"
     ]
    },
    {
     "name": "stdout",
     "output_type": "stream",
     "text": [
      "Epoch [112/150], Training MAE: 0.5215, Training RMSE: 0.7296\n",
      "Epoch [112/150], Validation MAE: 0.5221, Validation RMSE: 0.7413\n"
     ]
    },
    {
     "name": "stderr",
     "output_type": "stream",
     "text": [
      "Epoch 113/150: 100%|██████████| 213/213 [00:21<00:00,  9.92batch/s, mae_loss=0.515]\n"
     ]
    },
    {
     "name": "stdout",
     "output_type": "stream",
     "text": [
      "Epoch [113/150], Training MAE: 0.5213, Training RMSE: 0.7294\n",
      "Epoch [113/150], Validation MAE: 0.5239, Validation RMSE: 0.7421\n"
     ]
    },
    {
     "name": "stderr",
     "output_type": "stream",
     "text": [
      "Epoch 114/150: 100%|██████████| 213/213 [00:21<00:00,  9.69batch/s, mae_loss=0.498]\n"
     ]
    },
    {
     "name": "stdout",
     "output_type": "stream",
     "text": [
      "Epoch [114/150], Training MAE: 0.5196, Training RMSE: 0.7278\n",
      "Epoch [114/150], Validation MAE: 0.5219, Validation RMSE: 0.7403\n"
     ]
    },
    {
     "name": "stderr",
     "output_type": "stream",
     "text": [
      "Epoch 115/150: 100%|██████████| 213/213 [00:21<00:00,  9.74batch/s, mae_loss=0.551]\n"
     ]
    },
    {
     "name": "stdout",
     "output_type": "stream",
     "text": [
      "Epoch [115/150], Training MAE: 0.5195, Training RMSE: 0.7276\n",
      "Epoch [115/150], Validation MAE: 0.5232, Validation RMSE: 0.7410\n"
     ]
    },
    {
     "name": "stderr",
     "output_type": "stream",
     "text": [
      "Epoch 116/150: 100%|██████████| 213/213 [00:22<00:00,  9.61batch/s, mae_loss=0.555]\n"
     ]
    },
    {
     "name": "stdout",
     "output_type": "stream",
     "text": [
      "Epoch [116/150], Training MAE: 0.5190, Training RMSE: 0.7262\n",
      "Epoch [116/150], Validation MAE: 0.5252, Validation RMSE: 0.7434\n"
     ]
    },
    {
     "name": "stderr",
     "output_type": "stream",
     "text": [
      "Epoch 117/150: 100%|██████████| 213/213 [00:22<00:00,  9.55batch/s, mae_loss=0.544]\n"
     ]
    },
    {
     "name": "stdout",
     "output_type": "stream",
     "text": [
      "Epoch [117/150], Training MAE: 0.5182, Training RMSE: 0.7261\n",
      "Epoch [117/150], Validation MAE: 0.5248, Validation RMSE: 0.7444\n"
     ]
    },
    {
     "name": "stderr",
     "output_type": "stream",
     "text": [
      "Epoch 118/150: 100%|██████████| 213/213 [00:22<00:00,  9.52batch/s, mae_loss=0.532]\n"
     ]
    },
    {
     "name": "stdout",
     "output_type": "stream",
     "text": [
      "Epoch [118/150], Training MAE: 0.5176, Training RMSE: 0.7251\n",
      "Epoch [118/150], Validation MAE: 0.5251, Validation RMSE: 0.7422\n"
     ]
    },
    {
     "name": "stderr",
     "output_type": "stream",
     "text": [
      "Epoch 119/150: 100%|██████████| 213/213 [00:24<00:00,  8.76batch/s, mae_loss=0.555]\n"
     ]
    },
    {
     "name": "stdout",
     "output_type": "stream",
     "text": [
      "Epoch [119/150], Training MAE: 0.5166, Training RMSE: 0.7241\n",
      "Epoch [119/150], Validation MAE: 0.5258, Validation RMSE: 0.7441\n"
     ]
    },
    {
     "name": "stderr",
     "output_type": "stream",
     "text": [
      "Epoch 120/150: 100%|██████████| 213/213 [00:22<00:00,  9.50batch/s, mae_loss=0.483]\n"
     ]
    },
    {
     "name": "stdout",
     "output_type": "stream",
     "text": [
      "Epoch [120/150], Training MAE: 0.5152, Training RMSE: 0.7231\n",
      "Epoch [120/150], Validation MAE: 0.5258, Validation RMSE: 0.7436\n"
     ]
    },
    {
     "name": "stderr",
     "output_type": "stream",
     "text": [
      "Epoch 121/150: 100%|██████████| 213/213 [00:22<00:00,  9.41batch/s, mae_loss=0.508]\n"
     ]
    },
    {
     "name": "stdout",
     "output_type": "stream",
     "text": [
      "Epoch [121/150], Training MAE: 0.5151, Training RMSE: 0.7224\n",
      "Epoch [121/150], Validation MAE: 0.5245, Validation RMSE: 0.7427\n"
     ]
    },
    {
     "name": "stderr",
     "output_type": "stream",
     "text": [
      "Epoch 122/150: 100%|██████████| 213/213 [00:22<00:00,  9.63batch/s, mae_loss=0.506]\n"
     ]
    },
    {
     "name": "stdout",
     "output_type": "stream",
     "text": [
      "Epoch [122/150], Training MAE: 0.5142, Training RMSE: 0.7217\n",
      "Epoch [122/150], Validation MAE: 0.5252, Validation RMSE: 0.7439\n"
     ]
    },
    {
     "name": "stderr",
     "output_type": "stream",
     "text": [
      "Epoch 123/150: 100%|██████████| 213/213 [00:21<00:00,  9.82batch/s, mae_loss=0.49] \n"
     ]
    },
    {
     "name": "stdout",
     "output_type": "stream",
     "text": [
      "Epoch [123/150], Training MAE: 0.5138, Training RMSE: 0.7209\n",
      "Epoch [123/150], Validation MAE: 0.5273, Validation RMSE: 0.7455\n"
     ]
    },
    {
     "name": "stderr",
     "output_type": "stream",
     "text": [
      "Epoch 124/150: 100%|██████████| 213/213 [00:22<00:00,  9.34batch/s, mae_loss=0.498]\n"
     ]
    },
    {
     "name": "stdout",
     "output_type": "stream",
     "text": [
      "Epoch [124/150], Training MAE: 0.5128, Training RMSE: 0.7199\n",
      "Epoch [124/150], Validation MAE: 0.5248, Validation RMSE: 0.7416\n"
     ]
    },
    {
     "name": "stderr",
     "output_type": "stream",
     "text": [
      "Epoch 125/150: 100%|██████████| 213/213 [00:22<00:00,  9.64batch/s, mae_loss=0.487]\n"
     ]
    },
    {
     "name": "stdout",
     "output_type": "stream",
     "text": [
      "Epoch [125/150], Training MAE: 0.5117, Training RMSE: 0.7192\n",
      "Epoch [125/150], Validation MAE: 0.5276, Validation RMSE: 0.7449\n"
     ]
    },
    {
     "name": "stderr",
     "output_type": "stream",
     "text": [
      "Epoch 126/150: 100%|██████████| 213/213 [00:21<00:00,  9.69batch/s, mae_loss=0.529]\n"
     ]
    },
    {
     "name": "stdout",
     "output_type": "stream",
     "text": [
      "Epoch [126/150], Training MAE: 0.5116, Training RMSE: 0.7182\n",
      "Epoch [126/150], Validation MAE: 0.5269, Validation RMSE: 0.7442\n"
     ]
    },
    {
     "name": "stderr",
     "output_type": "stream",
     "text": [
      "Epoch 127/150: 100%|██████████| 213/213 [00:22<00:00,  9.46batch/s, mae_loss=0.484]\n"
     ]
    },
    {
     "name": "stdout",
     "output_type": "stream",
     "text": [
      "Epoch [127/150], Training MAE: 0.5099, Training RMSE: 0.7171\n",
      "Epoch [127/150], Validation MAE: 0.5276, Validation RMSE: 0.7453\n"
     ]
    },
    {
     "name": "stderr",
     "output_type": "stream",
     "text": [
      "Epoch 128/150: 100%|██████████| 213/213 [00:21<00:00,  9.68batch/s, mae_loss=0.516]\n"
     ]
    },
    {
     "name": "stdout",
     "output_type": "stream",
     "text": [
      "Epoch [128/150], Training MAE: 0.5094, Training RMSE: 0.7160\n",
      "Epoch [128/150], Validation MAE: 0.5280, Validation RMSE: 0.7465\n"
     ]
    },
    {
     "name": "stderr",
     "output_type": "stream",
     "text": [
      "Epoch 129/150: 100%|██████████| 213/213 [00:22<00:00,  9.46batch/s, mae_loss=0.493]\n"
     ]
    },
    {
     "name": "stdout",
     "output_type": "stream",
     "text": [
      "Epoch [129/150], Training MAE: 0.5087, Training RMSE: 0.7151\n",
      "Epoch [129/150], Validation MAE: 0.5278, Validation RMSE: 0.7460\n"
     ]
    },
    {
     "name": "stderr",
     "output_type": "stream",
     "text": [
      "Epoch 130/150: 100%|██████████| 213/213 [00:22<00:00,  9.47batch/s, mae_loss=0.496]\n"
     ]
    },
    {
     "name": "stdout",
     "output_type": "stream",
     "text": [
      "Epoch [130/150], Training MAE: 0.5079, Training RMSE: 0.7141\n",
      "Epoch [130/150], Validation MAE: 0.5301, Validation RMSE: 0.7484\n"
     ]
    },
    {
     "name": "stderr",
     "output_type": "stream",
     "text": [
      "Epoch 131/150: 100%|██████████| 213/213 [00:22<00:00,  9.62batch/s, mae_loss=0.522]\n"
     ]
    },
    {
     "name": "stdout",
     "output_type": "stream",
     "text": [
      "Epoch [131/150], Training MAE: 0.5077, Training RMSE: 0.7139\n",
      "Epoch [131/150], Validation MAE: 0.5304, Validation RMSE: 0.7489\n"
     ]
    },
    {
     "name": "stderr",
     "output_type": "stream",
     "text": [
      "Epoch 132/150: 100%|██████████| 213/213 [00:22<00:00,  9.43batch/s, mae_loss=0.498]\n"
     ]
    },
    {
     "name": "stdout",
     "output_type": "stream",
     "text": [
      "Epoch [132/150], Training MAE: 0.5063, Training RMSE: 0.7125\n",
      "Epoch [132/150], Validation MAE: 0.5297, Validation RMSE: 0.7478\n"
     ]
    },
    {
     "name": "stderr",
     "output_type": "stream",
     "text": [
      "Epoch 133/150: 100%|██████████| 213/213 [00:22<00:00,  9.62batch/s, mae_loss=0.499]\n"
     ]
    },
    {
     "name": "stdout",
     "output_type": "stream",
     "text": [
      "Epoch [133/150], Training MAE: 0.5063, Training RMSE: 0.7122\n",
      "Epoch [133/150], Validation MAE: 0.5300, Validation RMSE: 0.7481\n"
     ]
    },
    {
     "name": "stderr",
     "output_type": "stream",
     "text": [
      "Epoch 134/150: 100%|██████████| 213/213 [00:22<00:00,  9.66batch/s, mae_loss=0.531]\n"
     ]
    },
    {
     "name": "stdout",
     "output_type": "stream",
     "text": [
      "Epoch [134/150], Training MAE: 0.5054, Training RMSE: 0.7112\n",
      "Epoch [134/150], Validation MAE: 0.5322, Validation RMSE: 0.7500\n"
     ]
    },
    {
     "name": "stderr",
     "output_type": "stream",
     "text": [
      "Epoch 135/150: 100%|██████████| 213/213 [00:21<00:00,  9.72batch/s, mae_loss=0.51] \n"
     ]
    },
    {
     "name": "stdout",
     "output_type": "stream",
     "text": [
      "Epoch [135/150], Training MAE: 0.5047, Training RMSE: 0.7104\n",
      "Epoch [135/150], Validation MAE: 0.5321, Validation RMSE: 0.7492\n"
     ]
    },
    {
     "name": "stderr",
     "output_type": "stream",
     "text": [
      "Epoch 136/150: 100%|██████████| 213/213 [00:21<00:00,  9.68batch/s, mae_loss=0.55] \n"
     ]
    },
    {
     "name": "stdout",
     "output_type": "stream",
     "text": [
      "Epoch [136/150], Training MAE: 0.5035, Training RMSE: 0.7093\n",
      "Epoch [136/150], Validation MAE: 0.5297, Validation RMSE: 0.7477\n"
     ]
    },
    {
     "name": "stderr",
     "output_type": "stream",
     "text": [
      "Epoch 137/150: 100%|██████████| 213/213 [00:22<00:00,  9.63batch/s, mae_loss=0.45] \n"
     ]
    },
    {
     "name": "stdout",
     "output_type": "stream",
     "text": [
      "Epoch [137/150], Training MAE: 0.5031, Training RMSE: 0.7081\n",
      "Epoch [137/150], Validation MAE: 0.5322, Validation RMSE: 0.7506\n"
     ]
    },
    {
     "name": "stderr",
     "output_type": "stream",
     "text": [
      "Epoch 138/150: 100%|██████████| 213/213 [00:22<00:00,  9.65batch/s, mae_loss=0.573]\n"
     ]
    },
    {
     "name": "stdout",
     "output_type": "stream",
     "text": [
      "Epoch [138/150], Training MAE: 0.5025, Training RMSE: 0.7078\n",
      "Epoch [138/150], Validation MAE: 0.5328, Validation RMSE: 0.7520\n"
     ]
    },
    {
     "name": "stderr",
     "output_type": "stream",
     "text": [
      "Epoch 139/150: 100%|██████████| 213/213 [00:21<00:00,  9.70batch/s, mae_loss=0.504]\n"
     ]
    },
    {
     "name": "stdout",
     "output_type": "stream",
     "text": [
      "Epoch [139/150], Training MAE: 0.5013, Training RMSE: 0.7063\n",
      "Epoch [139/150], Validation MAE: 0.5330, Validation RMSE: 0.7510\n"
     ]
    },
    {
     "name": "stderr",
     "output_type": "stream",
     "text": [
      "Epoch 140/150: 100%|██████████| 213/213 [00:22<00:00,  9.49batch/s, mae_loss=0.53] \n"
     ]
    },
    {
     "name": "stdout",
     "output_type": "stream",
     "text": [
      "Epoch [140/150], Training MAE: 0.5011, Training RMSE: 0.7061\n",
      "Epoch [140/150], Validation MAE: 0.5325, Validation RMSE: 0.7501\n"
     ]
    },
    {
     "name": "stderr",
     "output_type": "stream",
     "text": [
      "Epoch 141/150: 100%|██████████| 213/213 [00:22<00:00,  9.64batch/s, mae_loss=0.475]\n"
     ]
    },
    {
     "name": "stdout",
     "output_type": "stream",
     "text": [
      "Epoch [141/150], Training MAE: 0.4995, Training RMSE: 0.7041\n",
      "Epoch [141/150], Validation MAE: 0.5343, Validation RMSE: 0.7515\n"
     ]
    },
    {
     "name": "stderr",
     "output_type": "stream",
     "text": [
      "Epoch 142/150: 100%|██████████| 213/213 [00:22<00:00,  9.53batch/s, mae_loss=0.423]\n"
     ]
    },
    {
     "name": "stdout",
     "output_type": "stream",
     "text": [
      "Epoch [142/150], Training MAE: 0.4994, Training RMSE: 0.7041\n",
      "Epoch [142/150], Validation MAE: 0.5348, Validation RMSE: 0.7519\n"
     ]
    },
    {
     "name": "stderr",
     "output_type": "stream",
     "text": [
      "Epoch 143/150: 100%|██████████| 213/213 [00:22<00:00,  9.59batch/s, mae_loss=0.524]\n"
     ]
    },
    {
     "name": "stdout",
     "output_type": "stream",
     "text": [
      "Epoch [143/150], Training MAE: 0.4986, Training RMSE: 0.7028\n",
      "Epoch [143/150], Validation MAE: 0.5339, Validation RMSE: 0.7515\n"
     ]
    },
    {
     "name": "stderr",
     "output_type": "stream",
     "text": [
      "Epoch 144/150: 100%|██████████| 213/213 [00:21<00:00,  9.78batch/s, mae_loss=0.507]\n"
     ]
    },
    {
     "name": "stdout",
     "output_type": "stream",
     "text": [
      "Epoch [144/150], Training MAE: 0.4970, Training RMSE: 0.7011\n",
      "Epoch [144/150], Validation MAE: 0.5339, Validation RMSE: 0.7515\n"
     ]
    },
    {
     "name": "stderr",
     "output_type": "stream",
     "text": [
      "Epoch 145/150: 100%|██████████| 213/213 [00:22<00:00,  9.37batch/s, mae_loss=0.504]\n"
     ]
    },
    {
     "name": "stdout",
     "output_type": "stream",
     "text": [
      "Epoch [145/150], Training MAE: 0.4968, Training RMSE: 0.7013\n",
      "Epoch [145/150], Validation MAE: 0.5362, Validation RMSE: 0.7538\n"
     ]
    },
    {
     "name": "stderr",
     "output_type": "stream",
     "text": [
      "Epoch 146/150: 100%|██████████| 213/213 [00:21<00:00,  9.74batch/s, mae_loss=0.524]\n"
     ]
    },
    {
     "name": "stdout",
     "output_type": "stream",
     "text": [
      "Epoch [146/150], Training MAE: 0.4960, Training RMSE: 0.6998\n",
      "Epoch [146/150], Validation MAE: 0.5358, Validation RMSE: 0.7534\n"
     ]
    },
    {
     "name": "stderr",
     "output_type": "stream",
     "text": [
      "Epoch 147/150: 100%|██████████| 213/213 [00:21<00:00,  9.76batch/s, mae_loss=0.495]\n"
     ]
    },
    {
     "name": "stdout",
     "output_type": "stream",
     "text": [
      "Epoch [147/150], Training MAE: 0.4951, Training RMSE: 0.6988\n",
      "Epoch [147/150], Validation MAE: 0.5347, Validation RMSE: 0.7524\n"
     ]
    },
    {
     "name": "stderr",
     "output_type": "stream",
     "text": [
      "Epoch 148/150: 100%|██████████| 213/213 [00:22<00:00,  9.49batch/s, mae_loss=0.487]\n"
     ]
    },
    {
     "name": "stdout",
     "output_type": "stream",
     "text": [
      "Epoch [148/150], Training MAE: 0.4942, Training RMSE: 0.6980\n",
      "Epoch [148/150], Validation MAE: 0.5379, Validation RMSE: 0.7566\n"
     ]
    },
    {
     "name": "stderr",
     "output_type": "stream",
     "text": [
      "Epoch 149/150: 100%|██████████| 213/213 [00:21<00:00,  9.74batch/s, mae_loss=0.47] \n"
     ]
    },
    {
     "name": "stdout",
     "output_type": "stream",
     "text": [
      "Epoch [149/150], Training MAE: 0.4933, Training RMSE: 0.6971\n",
      "Epoch [149/150], Validation MAE: 0.5369, Validation RMSE: 0.7545\n"
     ]
    },
    {
     "name": "stderr",
     "output_type": "stream",
     "text": [
      "Epoch 150/150: 100%|██████████| 213/213 [00:22<00:00,  9.59batch/s, mae_loss=0.457]\n"
     ]
    },
    {
     "name": "stdout",
     "output_type": "stream",
     "text": [
      "Epoch [150/150], Training MAE: 0.4926, Training RMSE: 0.6963\n",
      "Epoch [150/150], Validation MAE: 0.5371, Validation RMSE: 0.7558\n",
      "End Prediction Horizon of 24 of shared-layer Model\n",
      "model_shared-layer_attention_24_1 saved\n",
      "Start Prediction Horizon 24 of shared-layer model\n"
     ]
    },
    {
     "name": "stderr",
     "output_type": "stream",
     "text": [
      "Epoch 1/150: 100%|██████████| 213/213 [00:22<00:00,  9.61batch/s, mae_loss=0.749]\n"
     ]
    },
    {
     "name": "stdout",
     "output_type": "stream",
     "text": [
      "Epoch [1/150], Training MAE: 0.6950, Training RMSE: 0.9216\n",
      "Epoch [1/150], Validation MAE: 0.5597, Validation RMSE: 0.8129\n"
     ]
    },
    {
     "name": "stderr",
     "output_type": "stream",
     "text": [
      "Epoch 2/150: 100%|██████████| 213/213 [00:22<00:00,  9.68batch/s, mae_loss=0.733]\n"
     ]
    },
    {
     "name": "stdout",
     "output_type": "stream",
     "text": [
      "Epoch [2/150], Training MAE: 0.6665, Training RMSE: 0.8900\n",
      "Epoch [2/150], Validation MAE: 0.5423, Validation RMSE: 0.7901\n"
     ]
    },
    {
     "name": "stderr",
     "output_type": "stream",
     "text": [
      "Epoch 3/150: 100%|██████████| 213/213 [00:22<00:00,  9.59batch/s, mae_loss=0.651]\n"
     ]
    },
    {
     "name": "stdout",
     "output_type": "stream",
     "text": [
      "Epoch [3/150], Training MAE: 0.6490, Training RMSE: 0.8703\n",
      "Epoch [3/150], Validation MAE: 0.5369, Validation RMSE: 0.7792\n"
     ]
    },
    {
     "name": "stderr",
     "output_type": "stream",
     "text": [
      "Epoch 4/150: 100%|██████████| 213/213 [00:22<00:00,  9.57batch/s, mae_loss=0.609]\n"
     ]
    },
    {
     "name": "stdout",
     "output_type": "stream",
     "text": [
      "Epoch [4/150], Training MAE: 0.6394, Training RMSE: 0.8595\n",
      "Epoch [4/150], Validation MAE: 0.5294, Validation RMSE: 0.7697\n"
     ]
    },
    {
     "name": "stderr",
     "output_type": "stream",
     "text": [
      "Epoch 5/150: 100%|██████████| 213/213 [00:22<00:00,  9.66batch/s, mae_loss=0.612]\n"
     ]
    },
    {
     "name": "stdout",
     "output_type": "stream",
     "text": [
      "Epoch [5/150], Training MAE: 0.6341, Training RMSE: 0.8533\n",
      "Epoch [5/150], Validation MAE: 0.5277, Validation RMSE: 0.7667\n"
     ]
    },
    {
     "name": "stderr",
     "output_type": "stream",
     "text": [
      "Epoch 6/150: 100%|██████████| 213/213 [00:22<00:00,  9.44batch/s, mae_loss=0.628]\n"
     ]
    },
    {
     "name": "stdout",
     "output_type": "stream",
     "text": [
      "Epoch [6/150], Training MAE: 0.6296, Training RMSE: 0.8486\n",
      "Epoch [6/150], Validation MAE: 0.5229, Validation RMSE: 0.7608\n"
     ]
    },
    {
     "name": "stderr",
     "output_type": "stream",
     "text": [
      "Epoch 7/150: 100%|██████████| 213/213 [00:22<00:00,  9.58batch/s, mae_loss=0.594]\n"
     ]
    },
    {
     "name": "stdout",
     "output_type": "stream",
     "text": [
      "Epoch [7/150], Training MAE: 0.6269, Training RMSE: 0.8460\n",
      "Epoch [7/150], Validation MAE: 0.5246, Validation RMSE: 0.7611\n"
     ]
    },
    {
     "name": "stderr",
     "output_type": "stream",
     "text": [
      "Epoch 8/150: 100%|██████████| 213/213 [00:22<00:00,  9.62batch/s, mae_loss=0.632]\n"
     ]
    },
    {
     "name": "stdout",
     "output_type": "stream",
     "text": [
      "Epoch [8/150], Training MAE: 0.6241, Training RMSE: 0.8430\n",
      "Epoch [8/150], Validation MAE: 0.5215, Validation RMSE: 0.7573\n"
     ]
    },
    {
     "name": "stderr",
     "output_type": "stream",
     "text": [
      "Epoch 9/150: 100%|██████████| 213/213 [00:22<00:00,  9.68batch/s, mae_loss=0.716]\n"
     ]
    },
    {
     "name": "stdout",
     "output_type": "stream",
     "text": [
      "Epoch [9/150], Training MAE: 0.6220, Training RMSE: 0.8408\n",
      "Epoch [9/150], Validation MAE: 0.5215, Validation RMSE: 0.7582\n"
     ]
    },
    {
     "name": "stderr",
     "output_type": "stream",
     "text": [
      "Epoch 10/150: 100%|██████████| 213/213 [00:21<00:00,  9.75batch/s, mae_loss=0.654]\n"
     ]
    },
    {
     "name": "stdout",
     "output_type": "stream",
     "text": [
      "Epoch [10/150], Training MAE: 0.6195, Training RMSE: 0.8377\n",
      "Epoch [10/150], Validation MAE: 0.5159, Validation RMSE: 0.7517\n"
     ]
    },
    {
     "name": "stderr",
     "output_type": "stream",
     "text": [
      "Epoch 11/150: 100%|██████████| 213/213 [00:22<00:00,  9.58batch/s, mae_loss=0.629]\n"
     ]
    },
    {
     "name": "stdout",
     "output_type": "stream",
     "text": [
      "Epoch [11/150], Training MAE: 0.6170, Training RMSE: 0.8349\n",
      "Epoch [11/150], Validation MAE: 0.5144, Validation RMSE: 0.7499\n"
     ]
    },
    {
     "name": "stderr",
     "output_type": "stream",
     "text": [
      "Epoch 12/150: 100%|██████████| 213/213 [00:22<00:00,  9.64batch/s, mae_loss=0.558]\n"
     ]
    },
    {
     "name": "stdout",
     "output_type": "stream",
     "text": [
      "Epoch [12/150], Training MAE: 0.6138, Training RMSE: 0.8314\n",
      "Epoch [12/150], Validation MAE: 0.5140, Validation RMSE: 0.7473\n"
     ]
    },
    {
     "name": "stderr",
     "output_type": "stream",
     "text": [
      "Epoch 13/150: 100%|██████████| 213/213 [00:21<00:00,  9.73batch/s, mae_loss=0.597]\n"
     ]
    },
    {
     "name": "stdout",
     "output_type": "stream",
     "text": [
      "Epoch [13/150], Training MAE: 0.6111, Training RMSE: 0.8287\n",
      "Epoch [13/150], Validation MAE: 0.5111, Validation RMSE: 0.7435\n"
     ]
    },
    {
     "name": "stderr",
     "output_type": "stream",
     "text": [
      "Epoch 14/150: 100%|██████████| 213/213 [00:22<00:00,  9.50batch/s, mae_loss=0.583]\n"
     ]
    },
    {
     "name": "stdout",
     "output_type": "stream",
     "text": [
      "Epoch [14/150], Training MAE: 0.6089, Training RMSE: 0.8260\n",
      "Epoch [14/150], Validation MAE: 0.5105, Validation RMSE: 0.7428\n"
     ]
    },
    {
     "name": "stderr",
     "output_type": "stream",
     "text": [
      "Epoch 15/150: 100%|██████████| 213/213 [00:21<00:00,  9.71batch/s, mae_loss=0.593]\n"
     ]
    },
    {
     "name": "stdout",
     "output_type": "stream",
     "text": [
      "Epoch [15/150], Training MAE: 0.6067, Training RMSE: 0.8235\n",
      "Epoch [15/150], Validation MAE: 0.5110, Validation RMSE: 0.7438\n"
     ]
    },
    {
     "name": "stderr",
     "output_type": "stream",
     "text": [
      "Epoch 16/150: 100%|██████████| 213/213 [00:22<00:00,  9.51batch/s, mae_loss=0.558]\n"
     ]
    },
    {
     "name": "stdout",
     "output_type": "stream",
     "text": [
      "Epoch [16/150], Training MAE: 0.6039, Training RMSE: 0.8207\n",
      "Epoch [16/150], Validation MAE: 0.5062, Validation RMSE: 0.7374\n"
     ]
    },
    {
     "name": "stderr",
     "output_type": "stream",
     "text": [
      "Epoch 17/150: 100%|██████████| 213/213 [00:22<00:00,  9.53batch/s, mae_loss=0.591]\n"
     ]
    },
    {
     "name": "stdout",
     "output_type": "stream",
     "text": [
      "Epoch [17/150], Training MAE: 0.6013, Training RMSE: 0.8178\n",
      "Epoch [17/150], Validation MAE: 0.5080, Validation RMSE: 0.7396\n"
     ]
    },
    {
     "name": "stderr",
     "output_type": "stream",
     "text": [
      "Epoch 18/150: 100%|██████████| 213/213 [00:21<00:00,  9.74batch/s, mae_loss=0.649]\n"
     ]
    },
    {
     "name": "stdout",
     "output_type": "stream",
     "text": [
      "Epoch [18/150], Training MAE: 0.5995, Training RMSE: 0.8160\n",
      "Epoch [18/150], Validation MAE: 0.5062, Validation RMSE: 0.7366\n"
     ]
    },
    {
     "name": "stderr",
     "output_type": "stream",
     "text": [
      "Epoch 19/150: 100%|██████████| 213/213 [00:22<00:00,  9.33batch/s, mae_loss=0.604]\n"
     ]
    },
    {
     "name": "stdout",
     "output_type": "stream",
     "text": [
      "Epoch [19/150], Training MAE: 0.5969, Training RMSE: 0.8127\n",
      "Epoch [19/150], Validation MAE: 0.5056, Validation RMSE: 0.7345\n"
     ]
    },
    {
     "name": "stderr",
     "output_type": "stream",
     "text": [
      "Epoch 20/150: 100%|██████████| 213/213 [00:21<00:00,  9.71batch/s, mae_loss=0.611]\n"
     ]
    },
    {
     "name": "stdout",
     "output_type": "stream",
     "text": [
      "Epoch [20/150], Training MAE: 0.5953, Training RMSE: 0.8109\n",
      "Epoch [20/150], Validation MAE: 0.5039, Validation RMSE: 0.7337\n"
     ]
    },
    {
     "name": "stderr",
     "output_type": "stream",
     "text": [
      "Epoch 21/150: 100%|██████████| 213/213 [00:21<00:00,  9.68batch/s, mae_loss=0.613]\n"
     ]
    },
    {
     "name": "stdout",
     "output_type": "stream",
     "text": [
      "Epoch [21/150], Training MAE: 0.5935, Training RMSE: 0.8092\n",
      "Epoch [21/150], Validation MAE: 0.5024, Validation RMSE: 0.7312\n"
     ]
    },
    {
     "name": "stderr",
     "output_type": "stream",
     "text": [
      "Epoch 22/150: 100%|██████████| 213/213 [00:22<00:00,  9.61batch/s, mae_loss=0.591]\n"
     ]
    },
    {
     "name": "stdout",
     "output_type": "stream",
     "text": [
      "Epoch [22/150], Training MAE: 0.5911, Training RMSE: 0.8064\n",
      "Epoch [22/150], Validation MAE: 0.5030, Validation RMSE: 0.7314\n"
     ]
    },
    {
     "name": "stderr",
     "output_type": "stream",
     "text": [
      "Epoch 23/150: 100%|██████████| 213/213 [00:21<00:00,  9.71batch/s, mae_loss=0.583]\n"
     ]
    },
    {
     "name": "stdout",
     "output_type": "stream",
     "text": [
      "Epoch [23/150], Training MAE: 0.5893, Training RMSE: 0.8050\n",
      "Epoch [23/150], Validation MAE: 0.5024, Validation RMSE: 0.7304\n"
     ]
    },
    {
     "name": "stderr",
     "output_type": "stream",
     "text": [
      "Epoch 24/150: 100%|██████████| 213/213 [00:22<00:00,  9.59batch/s, mae_loss=0.515]\n"
     ]
    },
    {
     "name": "stdout",
     "output_type": "stream",
     "text": [
      "Epoch [24/150], Training MAE: 0.5879, Training RMSE: 0.8029\n",
      "Epoch [24/150], Validation MAE: 0.5002, Validation RMSE: 0.7286\n"
     ]
    },
    {
     "name": "stderr",
     "output_type": "stream",
     "text": [
      "Epoch 25/150: 100%|██████████| 213/213 [00:22<00:00,  9.66batch/s, mae_loss=0.573]\n"
     ]
    },
    {
     "name": "stdout",
     "output_type": "stream",
     "text": [
      "Epoch [25/150], Training MAE: 0.5864, Training RMSE: 0.8015\n",
      "Epoch [25/150], Validation MAE: 0.5013, Validation RMSE: 0.7294\n"
     ]
    },
    {
     "name": "stderr",
     "output_type": "stream",
     "text": [
      "Epoch 26/150: 100%|██████████| 213/213 [00:22<00:00,  9.68batch/s, mae_loss=0.586]\n"
     ]
    },
    {
     "name": "stdout",
     "output_type": "stream",
     "text": [
      "Epoch [26/150], Training MAE: 0.5849, Training RMSE: 0.8004\n",
      "Epoch [26/150], Validation MAE: 0.4990, Validation RMSE: 0.7263\n"
     ]
    },
    {
     "name": "stderr",
     "output_type": "stream",
     "text": [
      "Epoch 27/150: 100%|██████████| 213/213 [00:22<00:00,  9.55batch/s, mae_loss=0.491]\n"
     ]
    },
    {
     "name": "stdout",
     "output_type": "stream",
     "text": [
      "Epoch [27/150], Training MAE: 0.5837, Training RMSE: 0.7989\n",
      "Epoch [27/150], Validation MAE: 0.4996, Validation RMSE: 0.7270\n"
     ]
    },
    {
     "name": "stderr",
     "output_type": "stream",
     "text": [
      "Epoch 28/150: 100%|██████████| 213/213 [00:22<00:00,  9.49batch/s, mae_loss=0.548]\n"
     ]
    },
    {
     "name": "stdout",
     "output_type": "stream",
     "text": [
      "Epoch [28/150], Training MAE: 0.5827, Training RMSE: 0.7978\n",
      "Epoch [28/150], Validation MAE: 0.4968, Validation RMSE: 0.7243\n"
     ]
    },
    {
     "name": "stderr",
     "output_type": "stream",
     "text": [
      "Epoch 29/150: 100%|██████████| 213/213 [00:21<00:00,  9.73batch/s, mae_loss=0.531]\n"
     ]
    },
    {
     "name": "stdout",
     "output_type": "stream",
     "text": [
      "Epoch [29/150], Training MAE: 0.5811, Training RMSE: 0.7961\n",
      "Epoch [29/150], Validation MAE: 0.5011, Validation RMSE: 0.7282\n"
     ]
    },
    {
     "name": "stderr",
     "output_type": "stream",
     "text": [
      "Epoch 30/150: 100%|██████████| 213/213 [00:22<00:00,  9.53batch/s, mae_loss=0.591]\n"
     ]
    },
    {
     "name": "stdout",
     "output_type": "stream",
     "text": [
      "Epoch [30/150], Training MAE: 0.5804, Training RMSE: 0.7953\n",
      "Epoch [30/150], Validation MAE: 0.4999, Validation RMSE: 0.7257\n"
     ]
    },
    {
     "name": "stderr",
     "output_type": "stream",
     "text": [
      "Epoch 31/150: 100%|██████████| 213/213 [00:22<00:00,  9.68batch/s, mae_loss=0.635]\n"
     ]
    },
    {
     "name": "stdout",
     "output_type": "stream",
     "text": [
      "Epoch [31/150], Training MAE: 0.5789, Training RMSE: 0.7937\n",
      "Epoch [31/150], Validation MAE: 0.4985, Validation RMSE: 0.7246\n"
     ]
    },
    {
     "name": "stderr",
     "output_type": "stream",
     "text": [
      "Epoch 32/150: 100%|██████████| 213/213 [00:22<00:00,  9.57batch/s, mae_loss=0.604]\n"
     ]
    },
    {
     "name": "stdout",
     "output_type": "stream",
     "text": [
      "Epoch [32/150], Training MAE: 0.5787, Training RMSE: 0.7937\n",
      "Epoch [32/150], Validation MAE: 0.4990, Validation RMSE: 0.7244\n"
     ]
    },
    {
     "name": "stderr",
     "output_type": "stream",
     "text": [
      "Epoch 33/150: 100%|██████████| 213/213 [00:24<00:00,  8.87batch/s, mae_loss=0.576]\n"
     ]
    },
    {
     "name": "stdout",
     "output_type": "stream",
     "text": [
      "Epoch [33/150], Training MAE: 0.5773, Training RMSE: 0.7922\n",
      "Epoch [33/150], Validation MAE: 0.5002, Validation RMSE: 0.7242\n"
     ]
    },
    {
     "name": "stderr",
     "output_type": "stream",
     "text": [
      "Epoch 34/150: 100%|██████████| 213/213 [00:33<00:00,  6.28batch/s, mae_loss=0.512]\n"
     ]
    },
    {
     "name": "stdout",
     "output_type": "stream",
     "text": [
      "Epoch [34/150], Training MAE: 0.5766, Training RMSE: 0.7914\n",
      "Epoch [34/150], Validation MAE: 0.4983, Validation RMSE: 0.7235\n"
     ]
    },
    {
     "name": "stderr",
     "output_type": "stream",
     "text": [
      "Epoch 35/150: 100%|██████████| 213/213 [00:21<00:00,  9.71batch/s, mae_loss=0.622]\n"
     ]
    },
    {
     "name": "stdout",
     "output_type": "stream",
     "text": [
      "Epoch [35/150], Training MAE: 0.5760, Training RMSE: 0.7908\n",
      "Epoch [35/150], Validation MAE: 0.5000, Validation RMSE: 0.7248\n"
     ]
    },
    {
     "name": "stderr",
     "output_type": "stream",
     "text": [
      "Epoch 36/150: 100%|██████████| 213/213 [00:21<00:00,  9.73batch/s, mae_loss=0.599]\n"
     ]
    },
    {
     "name": "stdout",
     "output_type": "stream",
     "text": [
      "Epoch [36/150], Training MAE: 0.5745, Training RMSE: 0.7895\n",
      "Epoch [36/150], Validation MAE: 0.4994, Validation RMSE: 0.7248\n"
     ]
    },
    {
     "name": "stderr",
     "output_type": "stream",
     "text": [
      "Epoch 37/150: 100%|██████████| 213/213 [00:22<00:00,  9.45batch/s, mae_loss=0.559]\n"
     ]
    },
    {
     "name": "stdout",
     "output_type": "stream",
     "text": [
      "Epoch [37/150], Training MAE: 0.5746, Training RMSE: 0.7893\n",
      "Epoch [37/150], Validation MAE: 0.5006, Validation RMSE: 0.7251\n"
     ]
    },
    {
     "name": "stderr",
     "output_type": "stream",
     "text": [
      "Epoch 38/150: 100%|██████████| 213/213 [00:22<00:00,  9.66batch/s, mae_loss=0.587]\n"
     ]
    },
    {
     "name": "stdout",
     "output_type": "stream",
     "text": [
      "Epoch [38/150], Training MAE: 0.5733, Training RMSE: 0.7880\n",
      "Epoch [38/150], Validation MAE: 0.4997, Validation RMSE: 0.7254\n"
     ]
    },
    {
     "name": "stderr",
     "output_type": "stream",
     "text": [
      "Epoch 39/150: 100%|██████████| 213/213 [00:22<00:00,  9.61batch/s, mae_loss=0.544]\n"
     ]
    },
    {
     "name": "stdout",
     "output_type": "stream",
     "text": [
      "Epoch [39/150], Training MAE: 0.5726, Training RMSE: 0.7874\n",
      "Epoch [39/150], Validation MAE: 0.4983, Validation RMSE: 0.7223\n"
     ]
    },
    {
     "name": "stderr",
     "output_type": "stream",
     "text": [
      "Epoch 40/150: 100%|██████████| 213/213 [00:22<00:00,  9.52batch/s, mae_loss=0.628]\n"
     ]
    },
    {
     "name": "stdout",
     "output_type": "stream",
     "text": [
      "Epoch [40/150], Training MAE: 0.5717, Training RMSE: 0.7864\n",
      "Epoch [40/150], Validation MAE: 0.4999, Validation RMSE: 0.7241\n"
     ]
    },
    {
     "name": "stderr",
     "output_type": "stream",
     "text": [
      "Epoch 41/150: 100%|██████████| 213/213 [00:21<00:00,  9.68batch/s, mae_loss=0.557]\n"
     ]
    },
    {
     "name": "stdout",
     "output_type": "stream",
     "text": [
      "Epoch [41/150], Training MAE: 0.5712, Training RMSE: 0.7854\n",
      "Epoch [41/150], Validation MAE: 0.5003, Validation RMSE: 0.7247\n"
     ]
    },
    {
     "name": "stderr",
     "output_type": "stream",
     "text": [
      "Epoch 42/150: 100%|██████████| 213/213 [00:22<00:00,  9.30batch/s, mae_loss=0.551]\n"
     ]
    },
    {
     "name": "stdout",
     "output_type": "stream",
     "text": [
      "Epoch [42/150], Training MAE: 0.5705, Training RMSE: 0.7849\n",
      "Epoch [42/150], Validation MAE: 0.5021, Validation RMSE: 0.7265\n"
     ]
    },
    {
     "name": "stderr",
     "output_type": "stream",
     "text": [
      "Epoch 43/150: 100%|██████████| 213/213 [00:21<00:00,  9.81batch/s, mae_loss=0.582]\n"
     ]
    },
    {
     "name": "stdout",
     "output_type": "stream",
     "text": [
      "Epoch [43/150], Training MAE: 0.5696, Training RMSE: 0.7842\n",
      "Epoch [43/150], Validation MAE: 0.5015, Validation RMSE: 0.7257\n"
     ]
    },
    {
     "name": "stderr",
     "output_type": "stream",
     "text": [
      "Epoch 44/150: 100%|██████████| 213/213 [00:21<00:00,  9.70batch/s, mae_loss=0.537]\n"
     ]
    },
    {
     "name": "stdout",
     "output_type": "stream",
     "text": [
      "Epoch [44/150], Training MAE: 0.5690, Training RMSE: 0.7833\n",
      "Epoch [44/150], Validation MAE: 0.4996, Validation RMSE: 0.7237\n"
     ]
    },
    {
     "name": "stderr",
     "output_type": "stream",
     "text": [
      "Epoch 45/150: 100%|██████████| 213/213 [00:22<00:00,  9.48batch/s, mae_loss=0.588]\n"
     ]
    },
    {
     "name": "stdout",
     "output_type": "stream",
     "text": [
      "Epoch [45/150], Training MAE: 0.5678, Training RMSE: 0.7824\n",
      "Epoch [45/150], Validation MAE: 0.5009, Validation RMSE: 0.7246\n"
     ]
    },
    {
     "name": "stderr",
     "output_type": "stream",
     "text": [
      "Epoch 46/150: 100%|██████████| 213/213 [00:21<00:00,  9.75batch/s, mae_loss=0.575]\n"
     ]
    },
    {
     "name": "stdout",
     "output_type": "stream",
     "text": [
      "Epoch [46/150], Training MAE: 0.5678, Training RMSE: 0.7824\n",
      "Epoch [46/150], Validation MAE: 0.5013, Validation RMSE: 0.7251\n"
     ]
    },
    {
     "name": "stderr",
     "output_type": "stream",
     "text": [
      "Epoch 47/150: 100%|██████████| 213/213 [00:22<00:00,  9.67batch/s, mae_loss=0.566]\n"
     ]
    },
    {
     "name": "stdout",
     "output_type": "stream",
     "text": [
      "Epoch [47/150], Training MAE: 0.5672, Training RMSE: 0.7810\n",
      "Epoch [47/150], Validation MAE: 0.5003, Validation RMSE: 0.7234\n"
     ]
    },
    {
     "name": "stderr",
     "output_type": "stream",
     "text": [
      "Epoch 48/150: 100%|██████████| 213/213 [00:22<00:00,  9.64batch/s, mae_loss=0.549]\n"
     ]
    },
    {
     "name": "stdout",
     "output_type": "stream",
     "text": [
      "Epoch [48/150], Training MAE: 0.5665, Training RMSE: 0.7802\n",
      "Epoch [48/150], Validation MAE: 0.4998, Validation RMSE: 0.7254\n"
     ]
    },
    {
     "name": "stderr",
     "output_type": "stream",
     "text": [
      "Epoch 49/150: 100%|██████████| 213/213 [00:22<00:00,  9.67batch/s, mae_loss=0.581]\n"
     ]
    },
    {
     "name": "stdout",
     "output_type": "stream",
     "text": [
      "Epoch [49/150], Training MAE: 0.5659, Training RMSE: 0.7799\n",
      "Epoch [49/150], Validation MAE: 0.4999, Validation RMSE: 0.7234\n"
     ]
    },
    {
     "name": "stderr",
     "output_type": "stream",
     "text": [
      "Epoch 50/150: 100%|██████████| 213/213 [00:22<00:00,  9.58batch/s, mae_loss=0.546]\n"
     ]
    },
    {
     "name": "stdout",
     "output_type": "stream",
     "text": [
      "Epoch [50/150], Training MAE: 0.5652, Training RMSE: 0.7790\n",
      "Epoch [50/150], Validation MAE: 0.5007, Validation RMSE: 0.7242\n"
     ]
    },
    {
     "name": "stderr",
     "output_type": "stream",
     "text": [
      "Epoch 51/150: 100%|██████████| 213/213 [00:21<00:00,  9.74batch/s, mae_loss=0.55] \n"
     ]
    },
    {
     "name": "stdout",
     "output_type": "stream",
     "text": [
      "Epoch [51/150], Training MAE: 0.5651, Training RMSE: 0.7792\n",
      "Epoch [51/150], Validation MAE: 0.5023, Validation RMSE: 0.7264\n"
     ]
    },
    {
     "name": "stderr",
     "output_type": "stream",
     "text": [
      "Epoch 52/150: 100%|██████████| 213/213 [00:22<00:00,  9.53batch/s, mae_loss=0.595]\n"
     ]
    },
    {
     "name": "stdout",
     "output_type": "stream",
     "text": [
      "Epoch [52/150], Training MAE: 0.5642, Training RMSE: 0.7781\n",
      "Epoch [52/150], Validation MAE: 0.5003, Validation RMSE: 0.7235\n"
     ]
    },
    {
     "name": "stderr",
     "output_type": "stream",
     "text": [
      "Epoch 53/150: 100%|██████████| 213/213 [00:22<00:00,  9.53batch/s, mae_loss=0.538]\n"
     ]
    },
    {
     "name": "stdout",
     "output_type": "stream",
     "text": [
      "Epoch [53/150], Training MAE: 0.5636, Training RMSE: 0.7776\n",
      "Epoch [53/150], Validation MAE: 0.4986, Validation RMSE: 0.7221\n"
     ]
    },
    {
     "name": "stderr",
     "output_type": "stream",
     "text": [
      "Epoch 54/150: 100%|██████████| 213/213 [00:22<00:00,  9.49batch/s, mae_loss=0.621]\n"
     ]
    },
    {
     "name": "stdout",
     "output_type": "stream",
     "text": [
      "Epoch [54/150], Training MAE: 0.5628, Training RMSE: 0.7767\n",
      "Epoch [54/150], Validation MAE: 0.5028, Validation RMSE: 0.7259\n"
     ]
    },
    {
     "name": "stderr",
     "output_type": "stream",
     "text": [
      "Epoch 55/150: 100%|██████████| 213/213 [00:22<00:00,  9.66batch/s, mae_loss=0.553]\n"
     ]
    },
    {
     "name": "stdout",
     "output_type": "stream",
     "text": [
      "Epoch [55/150], Training MAE: 0.5615, Training RMSE: 0.7753\n",
      "Epoch [55/150], Validation MAE: 0.5015, Validation RMSE: 0.7231\n"
     ]
    },
    {
     "name": "stderr",
     "output_type": "stream",
     "text": [
      "Epoch 56/150: 100%|██████████| 213/213 [00:22<00:00,  9.64batch/s, mae_loss=0.577]\n"
     ]
    },
    {
     "name": "stdout",
     "output_type": "stream",
     "text": [
      "Epoch [56/150], Training MAE: 0.5616, Training RMSE: 0.7754\n",
      "Epoch [56/150], Validation MAE: 0.5023, Validation RMSE: 0.7254\n"
     ]
    },
    {
     "name": "stderr",
     "output_type": "stream",
     "text": [
      "Epoch 57/150: 100%|██████████| 213/213 [00:21<00:00,  9.75batch/s, mae_loss=0.542]\n"
     ]
    },
    {
     "name": "stdout",
     "output_type": "stream",
     "text": [
      "Epoch [57/150], Training MAE: 0.5605, Training RMSE: 0.7748\n",
      "Epoch [57/150], Validation MAE: 0.5012, Validation RMSE: 0.7239\n"
     ]
    },
    {
     "name": "stderr",
     "output_type": "stream",
     "text": [
      "Epoch 58/150: 100%|██████████| 213/213 [00:22<00:00,  9.58batch/s, mae_loss=0.534]\n"
     ]
    },
    {
     "name": "stdout",
     "output_type": "stream",
     "text": [
      "Epoch [58/150], Training MAE: 0.5602, Training RMSE: 0.7737\n",
      "Epoch [58/150], Validation MAE: 0.5027, Validation RMSE: 0.7257\n"
     ]
    },
    {
     "name": "stderr",
     "output_type": "stream",
     "text": [
      "Epoch 59/150: 100%|██████████| 213/213 [00:21<00:00,  9.72batch/s, mae_loss=0.533]\n"
     ]
    },
    {
     "name": "stdout",
     "output_type": "stream",
     "text": [
      "Epoch [59/150], Training MAE: 0.5599, Training RMSE: 0.7738\n",
      "Epoch [59/150], Validation MAE: 0.5039, Validation RMSE: 0.7267\n"
     ]
    },
    {
     "name": "stderr",
     "output_type": "stream",
     "text": [
      "Epoch 60/150: 100%|██████████| 213/213 [00:21<00:00,  9.73batch/s, mae_loss=0.625]\n"
     ]
    },
    {
     "name": "stdout",
     "output_type": "stream",
     "text": [
      "Epoch [60/150], Training MAE: 0.5594, Training RMSE: 0.7728\n",
      "Epoch [60/150], Validation MAE: 0.5042, Validation RMSE: 0.7270\n"
     ]
    },
    {
     "name": "stderr",
     "output_type": "stream",
     "text": [
      "Epoch 61/150: 100%|██████████| 213/213 [00:22<00:00,  9.44batch/s, mae_loss=0.559]\n"
     ]
    },
    {
     "name": "stdout",
     "output_type": "stream",
     "text": [
      "Epoch [61/150], Training MAE: 0.5583, Training RMSE: 0.7721\n",
      "Epoch [61/150], Validation MAE: 0.5031, Validation RMSE: 0.7261\n"
     ]
    },
    {
     "name": "stderr",
     "output_type": "stream",
     "text": [
      "Epoch 62/150: 100%|██████████| 213/213 [00:21<00:00,  9.74batch/s, mae_loss=0.503]\n"
     ]
    },
    {
     "name": "stdout",
     "output_type": "stream",
     "text": [
      "Epoch [62/150], Training MAE: 0.5579, Training RMSE: 0.7718\n",
      "Epoch [62/150], Validation MAE: 0.5026, Validation RMSE: 0.7248\n"
     ]
    },
    {
     "name": "stderr",
     "output_type": "stream",
     "text": [
      "Epoch 63/150: 100%|██████████| 213/213 [00:22<00:00,  9.56batch/s, mae_loss=0.616]\n"
     ]
    },
    {
     "name": "stdout",
     "output_type": "stream",
     "text": [
      "Epoch [63/150], Training MAE: 0.5577, Training RMSE: 0.7714\n",
      "Epoch [63/150], Validation MAE: 0.5034, Validation RMSE: 0.7257\n"
     ]
    },
    {
     "name": "stderr",
     "output_type": "stream",
     "text": [
      "Epoch 64/150: 100%|██████████| 213/213 [00:22<00:00,  9.59batch/s, mae_loss=0.528]\n"
     ]
    },
    {
     "name": "stdout",
     "output_type": "stream",
     "text": [
      "Epoch [64/150], Training MAE: 0.5565, Training RMSE: 0.7702\n",
      "Epoch [64/150], Validation MAE: 0.5031, Validation RMSE: 0.7250\n"
     ]
    },
    {
     "name": "stderr",
     "output_type": "stream",
     "text": [
      "Epoch 65/150: 100%|██████████| 213/213 [00:21<00:00,  9.69batch/s, mae_loss=0.579]\n"
     ]
    },
    {
     "name": "stdout",
     "output_type": "stream",
     "text": [
      "Epoch [65/150], Training MAE: 0.5563, Training RMSE: 0.7694\n",
      "Epoch [65/150], Validation MAE: 0.5019, Validation RMSE: 0.7246\n"
     ]
    },
    {
     "name": "stderr",
     "output_type": "stream",
     "text": [
      "Epoch 66/150: 100%|██████████| 213/213 [00:22<00:00,  9.50batch/s, mae_loss=0.544]\n"
     ]
    },
    {
     "name": "stdout",
     "output_type": "stream",
     "text": [
      "Epoch [66/150], Training MAE: 0.5556, Training RMSE: 0.7690\n",
      "Epoch [66/150], Validation MAE: 0.5022, Validation RMSE: 0.7246\n"
     ]
    },
    {
     "name": "stderr",
     "output_type": "stream",
     "text": [
      "Epoch 67/150: 100%|██████████| 213/213 [00:21<00:00,  9.69batch/s, mae_loss=0.553]\n"
     ]
    },
    {
     "name": "stdout",
     "output_type": "stream",
     "text": [
      "Epoch [67/150], Training MAE: 0.5548, Training RMSE: 0.7685\n",
      "Epoch [67/150], Validation MAE: 0.5049, Validation RMSE: 0.7270\n"
     ]
    },
    {
     "name": "stderr",
     "output_type": "stream",
     "text": [
      "Epoch 68/150: 100%|██████████| 213/213 [00:22<00:00,  9.63batch/s, mae_loss=0.517]\n"
     ]
    },
    {
     "name": "stdout",
     "output_type": "stream",
     "text": [
      "Epoch [68/150], Training MAE: 0.5541, Training RMSE: 0.7674\n",
      "Epoch [68/150], Validation MAE: 0.5064, Validation RMSE: 0.7269\n"
     ]
    },
    {
     "name": "stderr",
     "output_type": "stream",
     "text": [
      "Epoch 69/150: 100%|██████████| 213/213 [00:22<00:00,  9.60batch/s, mae_loss=0.516]\n"
     ]
    },
    {
     "name": "stdout",
     "output_type": "stream",
     "text": [
      "Epoch [69/150], Training MAE: 0.5536, Training RMSE: 0.7667\n",
      "Epoch [69/150], Validation MAE: 0.5053, Validation RMSE: 0.7269\n"
     ]
    },
    {
     "name": "stderr",
     "output_type": "stream",
     "text": [
      "Epoch 70/150: 100%|██████████| 213/213 [00:22<00:00,  9.60batch/s, mae_loss=0.566]\n"
     ]
    },
    {
     "name": "stdout",
     "output_type": "stream",
     "text": [
      "Epoch [70/150], Training MAE: 0.5536, Training RMSE: 0.7662\n",
      "Epoch [70/150], Validation MAE: 0.5045, Validation RMSE: 0.7257\n"
     ]
    },
    {
     "name": "stderr",
     "output_type": "stream",
     "text": [
      "Epoch 71/150: 100%|██████████| 213/213 [00:22<00:00,  9.66batch/s, mae_loss=0.531]\n"
     ]
    },
    {
     "name": "stdout",
     "output_type": "stream",
     "text": [
      "Epoch [71/150], Training MAE: 0.5525, Training RMSE: 0.7661\n",
      "Epoch [71/150], Validation MAE: 0.5046, Validation RMSE: 0.7258\n"
     ]
    },
    {
     "name": "stderr",
     "output_type": "stream",
     "text": [
      "Epoch 72/150: 100%|██████████| 213/213 [00:21<00:00,  9.79batch/s, mae_loss=0.627]\n"
     ]
    },
    {
     "name": "stdout",
     "output_type": "stream",
     "text": [
      "Epoch [72/150], Training MAE: 0.5527, Training RMSE: 0.7658\n",
      "Epoch [72/150], Validation MAE: 0.5052, Validation RMSE: 0.7265\n"
     ]
    },
    {
     "name": "stderr",
     "output_type": "stream",
     "text": [
      "Epoch 73/150: 100%|██████████| 213/213 [00:22<00:00,  9.62batch/s, mae_loss=0.502]\n"
     ]
    },
    {
     "name": "stdout",
     "output_type": "stream",
     "text": [
      "Epoch [73/150], Training MAE: 0.5511, Training RMSE: 0.7643\n",
      "Epoch [73/150], Validation MAE: 0.5045, Validation RMSE: 0.7253\n"
     ]
    },
    {
     "name": "stderr",
     "output_type": "stream",
     "text": [
      "Epoch 74/150: 100%|██████████| 213/213 [00:22<00:00,  9.58batch/s, mae_loss=0.605]\n"
     ]
    },
    {
     "name": "stdout",
     "output_type": "stream",
     "text": [
      "Epoch [74/150], Training MAE: 0.5509, Training RMSE: 0.7636\n",
      "Epoch [74/150], Validation MAE: 0.5051, Validation RMSE: 0.7286\n"
     ]
    },
    {
     "name": "stderr",
     "output_type": "stream",
     "text": [
      "Epoch 75/150: 100%|██████████| 213/213 [00:22<00:00,  9.59batch/s, mae_loss=0.576]\n"
     ]
    },
    {
     "name": "stdout",
     "output_type": "stream",
     "text": [
      "Epoch [75/150], Training MAE: 0.5504, Training RMSE: 0.7634\n",
      "Epoch [75/150], Validation MAE: 0.5058, Validation RMSE: 0.7269\n"
     ]
    },
    {
     "name": "stderr",
     "output_type": "stream",
     "text": [
      "Epoch 76/150: 100%|██████████| 213/213 [00:22<00:00,  9.56batch/s, mae_loss=0.533]\n"
     ]
    },
    {
     "name": "stdout",
     "output_type": "stream",
     "text": [
      "Epoch [76/150], Training MAE: 0.5493, Training RMSE: 0.7622\n",
      "Epoch [76/150], Validation MAE: 0.5046, Validation RMSE: 0.7268\n"
     ]
    },
    {
     "name": "stderr",
     "output_type": "stream",
     "text": [
      "Epoch 77/150: 100%|██████████| 213/213 [00:22<00:00,  9.59batch/s, mae_loss=0.571]\n"
     ]
    },
    {
     "name": "stdout",
     "output_type": "stream",
     "text": [
      "Epoch [77/150], Training MAE: 0.5483, Training RMSE: 0.7612\n",
      "Epoch [77/150], Validation MAE: 0.5069, Validation RMSE: 0.7286\n"
     ]
    },
    {
     "name": "stderr",
     "output_type": "stream",
     "text": [
      "Epoch 78/150: 100%|██████████| 213/213 [00:22<00:00,  9.61batch/s, mae_loss=0.572]\n"
     ]
    },
    {
     "name": "stdout",
     "output_type": "stream",
     "text": [
      "Epoch [78/150], Training MAE: 0.5482, Training RMSE: 0.7612\n",
      "Epoch [78/150], Validation MAE: 0.5061, Validation RMSE: 0.7270\n"
     ]
    },
    {
     "name": "stderr",
     "output_type": "stream",
     "text": [
      "Epoch 79/150: 100%|██████████| 213/213 [00:22<00:00,  9.52batch/s, mae_loss=0.529]\n"
     ]
    },
    {
     "name": "stdout",
     "output_type": "stream",
     "text": [
      "Epoch [79/150], Training MAE: 0.5478, Training RMSE: 0.7604\n",
      "Epoch [79/150], Validation MAE: 0.5065, Validation RMSE: 0.7280\n"
     ]
    },
    {
     "name": "stderr",
     "output_type": "stream",
     "text": [
      "Epoch 80/150: 100%|██████████| 213/213 [00:22<00:00,  9.55batch/s, mae_loss=0.565]\n"
     ]
    },
    {
     "name": "stdout",
     "output_type": "stream",
     "text": [
      "Epoch [80/150], Training MAE: 0.5469, Training RMSE: 0.7594\n",
      "Epoch [80/150], Validation MAE: 0.5084, Validation RMSE: 0.7291\n"
     ]
    },
    {
     "name": "stderr",
     "output_type": "stream",
     "text": [
      "Epoch 81/150: 100%|██████████| 213/213 [00:21<00:00,  9.77batch/s, mae_loss=0.544]\n"
     ]
    },
    {
     "name": "stdout",
     "output_type": "stream",
     "text": [
      "Epoch [81/150], Training MAE: 0.5462, Training RMSE: 0.7587\n",
      "Epoch [81/150], Validation MAE: 0.5077, Validation RMSE: 0.7289\n"
     ]
    },
    {
     "name": "stderr",
     "output_type": "stream",
     "text": [
      "Epoch 82/150: 100%|██████████| 213/213 [00:22<00:00,  9.51batch/s, mae_loss=0.568]\n"
     ]
    },
    {
     "name": "stdout",
     "output_type": "stream",
     "text": [
      "Epoch [82/150], Training MAE: 0.5457, Training RMSE: 0.7579\n",
      "Epoch [82/150], Validation MAE: 0.5082, Validation RMSE: 0.7293\n"
     ]
    },
    {
     "name": "stderr",
     "output_type": "stream",
     "text": [
      "Epoch 83/150: 100%|██████████| 213/213 [00:21<00:00,  9.73batch/s, mae_loss=0.554]\n"
     ]
    },
    {
     "name": "stdout",
     "output_type": "stream",
     "text": [
      "Epoch [83/150], Training MAE: 0.5456, Training RMSE: 0.7577\n",
      "Epoch [83/150], Validation MAE: 0.5077, Validation RMSE: 0.7293\n"
     ]
    },
    {
     "name": "stderr",
     "output_type": "stream",
     "text": [
      "Epoch 84/150: 100%|██████████| 213/213 [00:22<00:00,  9.63batch/s, mae_loss=0.549]\n"
     ]
    },
    {
     "name": "stdout",
     "output_type": "stream",
     "text": [
      "Epoch [84/150], Training MAE: 0.5444, Training RMSE: 0.7572\n",
      "Epoch [84/150], Validation MAE: 0.5090, Validation RMSE: 0.7297\n"
     ]
    },
    {
     "name": "stderr",
     "output_type": "stream",
     "text": [
      "Epoch 85/150: 100%|██████████| 213/213 [00:22<00:00,  9.38batch/s, mae_loss=0.595]\n"
     ]
    },
    {
     "name": "stdout",
     "output_type": "stream",
     "text": [
      "Epoch [85/150], Training MAE: 0.5441, Training RMSE: 0.7568\n",
      "Epoch [85/150], Validation MAE: 0.5100, Validation RMSE: 0.7310\n"
     ]
    },
    {
     "name": "stderr",
     "output_type": "stream",
     "text": [
      "Epoch 86/150: 100%|██████████| 213/213 [00:21<00:00,  9.78batch/s, mae_loss=0.536]\n"
     ]
    },
    {
     "name": "stdout",
     "output_type": "stream",
     "text": [
      "Epoch [86/150], Training MAE: 0.5431, Training RMSE: 0.7552\n",
      "Epoch [86/150], Validation MAE: 0.5117, Validation RMSE: 0.7322\n"
     ]
    },
    {
     "name": "stderr",
     "output_type": "stream",
     "text": [
      "Epoch 87/150: 100%|██████████| 213/213 [00:22<00:00,  9.50batch/s, mae_loss=0.541]\n"
     ]
    },
    {
     "name": "stdout",
     "output_type": "stream",
     "text": [
      "Epoch [87/150], Training MAE: 0.5430, Training RMSE: 0.7556\n",
      "Epoch [87/150], Validation MAE: 0.5093, Validation RMSE: 0.7300\n"
     ]
    },
    {
     "name": "stderr",
     "output_type": "stream",
     "text": [
      "Epoch 88/150: 100%|██████████| 213/213 [00:22<00:00,  9.48batch/s, mae_loss=0.575]\n"
     ]
    },
    {
     "name": "stdout",
     "output_type": "stream",
     "text": [
      "Epoch [88/150], Training MAE: 0.5416, Training RMSE: 0.7540\n",
      "Epoch [88/150], Validation MAE: 0.5105, Validation RMSE: 0.7310\n"
     ]
    },
    {
     "name": "stderr",
     "output_type": "stream",
     "text": [
      "Epoch 89/150: 100%|██████████| 213/213 [00:22<00:00,  9.61batch/s, mae_loss=0.473]\n"
     ]
    },
    {
     "name": "stdout",
     "output_type": "stream",
     "text": [
      "Epoch [89/150], Training MAE: 0.5413, Training RMSE: 0.7532\n",
      "Epoch [89/150], Validation MAE: 0.5104, Validation RMSE: 0.7301\n"
     ]
    },
    {
     "name": "stderr",
     "output_type": "stream",
     "text": [
      "Epoch 90/150: 100%|██████████| 213/213 [00:22<00:00,  9.37batch/s, mae_loss=0.526]\n"
     ]
    },
    {
     "name": "stdout",
     "output_type": "stream",
     "text": [
      "Epoch [90/150], Training MAE: 0.5404, Training RMSE: 0.7526\n",
      "Epoch [90/150], Validation MAE: 0.5093, Validation RMSE: 0.7306\n"
     ]
    },
    {
     "name": "stderr",
     "output_type": "stream",
     "text": [
      "Epoch 91/150: 100%|██████████| 213/213 [00:21<00:00,  9.76batch/s, mae_loss=0.547]\n"
     ]
    },
    {
     "name": "stdout",
     "output_type": "stream",
     "text": [
      "Epoch [91/150], Training MAE: 0.5396, Training RMSE: 0.7516\n",
      "Epoch [91/150], Validation MAE: 0.5101, Validation RMSE: 0.7306\n"
     ]
    },
    {
     "name": "stderr",
     "output_type": "stream",
     "text": [
      "Epoch 92/150: 100%|██████████| 213/213 [00:22<00:00,  9.63batch/s, mae_loss=0.498]\n"
     ]
    },
    {
     "name": "stdout",
     "output_type": "stream",
     "text": [
      "Epoch [92/150], Training MAE: 0.5393, Training RMSE: 0.7515\n",
      "Epoch [92/150], Validation MAE: 0.5102, Validation RMSE: 0.7310\n"
     ]
    },
    {
     "name": "stderr",
     "output_type": "stream",
     "text": [
      "Epoch 93/150: 100%|██████████| 213/213 [00:22<00:00,  9.60batch/s, mae_loss=0.45] \n"
     ]
    },
    {
     "name": "stdout",
     "output_type": "stream",
     "text": [
      "Epoch [93/150], Training MAE: 0.5384, Training RMSE: 0.7505\n",
      "Epoch [93/150], Validation MAE: 0.5082, Validation RMSE: 0.7300\n"
     ]
    },
    {
     "name": "stderr",
     "output_type": "stream",
     "text": [
      "Epoch 94/150: 100%|██████████| 213/213 [00:22<00:00,  9.59batch/s, mae_loss=0.516]\n"
     ]
    },
    {
     "name": "stdout",
     "output_type": "stream",
     "text": [
      "Epoch [94/150], Training MAE: 0.5374, Training RMSE: 0.7496\n",
      "Epoch [94/150], Validation MAE: 0.5122, Validation RMSE: 0.7317\n"
     ]
    },
    {
     "name": "stderr",
     "output_type": "stream",
     "text": [
      "Epoch 95/150: 100%|██████████| 213/213 [00:22<00:00,  9.53batch/s, mae_loss=0.561]\n"
     ]
    },
    {
     "name": "stdout",
     "output_type": "stream",
     "text": [
      "Epoch [95/150], Training MAE: 0.5377, Training RMSE: 0.7495\n",
      "Epoch [95/150], Validation MAE: 0.5118, Validation RMSE: 0.7314\n"
     ]
    },
    {
     "name": "stderr",
     "output_type": "stream",
     "text": [
      "Epoch 96/150: 100%|██████████| 213/213 [00:22<00:00,  9.66batch/s, mae_loss=0.48] \n"
     ]
    },
    {
     "name": "stdout",
     "output_type": "stream",
     "text": [
      "Epoch [96/150], Training MAE: 0.5367, Training RMSE: 0.7481\n",
      "Epoch [96/150], Validation MAE: 0.5130, Validation RMSE: 0.7335\n"
     ]
    },
    {
     "name": "stderr",
     "output_type": "stream",
     "text": [
      "Epoch 97/150: 100%|██████████| 213/213 [00:21<00:00,  9.80batch/s, mae_loss=0.485]\n"
     ]
    },
    {
     "name": "stdout",
     "output_type": "stream",
     "text": [
      "Epoch [97/150], Training MAE: 0.5358, Training RMSE: 0.7471\n",
      "Epoch [97/150], Validation MAE: 0.5132, Validation RMSE: 0.7342\n"
     ]
    },
    {
     "name": "stderr",
     "output_type": "stream",
     "text": [
      "Epoch 98/150: 100%|██████████| 213/213 [00:22<00:00,  9.58batch/s, mae_loss=0.518]\n"
     ]
    },
    {
     "name": "stdout",
     "output_type": "stream",
     "text": [
      "Epoch [98/150], Training MAE: 0.5351, Training RMSE: 0.7462\n",
      "Epoch [98/150], Validation MAE: 0.5115, Validation RMSE: 0.7326\n"
     ]
    },
    {
     "name": "stderr",
     "output_type": "stream",
     "text": [
      "Epoch 99/150: 100%|██████████| 213/213 [00:22<00:00,  9.59batch/s, mae_loss=0.516]\n"
     ]
    },
    {
     "name": "stdout",
     "output_type": "stream",
     "text": [
      "Epoch [99/150], Training MAE: 0.5343, Training RMSE: 0.7457\n",
      "Epoch [99/150], Validation MAE: 0.5133, Validation RMSE: 0.7338\n"
     ]
    },
    {
     "name": "stderr",
     "output_type": "stream",
     "text": [
      "Epoch 100/150: 100%|██████████| 213/213 [00:22<00:00,  9.52batch/s, mae_loss=0.543]\n"
     ]
    },
    {
     "name": "stdout",
     "output_type": "stream",
     "text": [
      "Epoch [100/150], Training MAE: 0.5341, Training RMSE: 0.7456\n",
      "Epoch [100/150], Validation MAE: 0.5137, Validation RMSE: 0.7341\n"
     ]
    },
    {
     "name": "stderr",
     "output_type": "stream",
     "text": [
      "Epoch 101/150: 100%|██████████| 213/213 [00:22<00:00,  9.64batch/s, mae_loss=0.51] \n"
     ]
    },
    {
     "name": "stdout",
     "output_type": "stream",
     "text": [
      "Epoch [101/150], Training MAE: 0.5333, Training RMSE: 0.7444\n",
      "Epoch [101/150], Validation MAE: 0.5134, Validation RMSE: 0.7336\n"
     ]
    },
    {
     "name": "stderr",
     "output_type": "stream",
     "text": [
      "Epoch 102/150: 100%|██████████| 213/213 [00:22<00:00,  9.62batch/s, mae_loss=0.537]\n"
     ]
    },
    {
     "name": "stdout",
     "output_type": "stream",
     "text": [
      "Epoch [102/150], Training MAE: 0.5328, Training RMSE: 0.7438\n",
      "Epoch [102/150], Validation MAE: 0.5157, Validation RMSE: 0.7354\n"
     ]
    },
    {
     "name": "stderr",
     "output_type": "stream",
     "text": [
      "Epoch 103/150: 100%|██████████| 213/213 [00:22<00:00,  9.42batch/s, mae_loss=0.539]\n"
     ]
    },
    {
     "name": "stdout",
     "output_type": "stream",
     "text": [
      "Epoch [103/150], Training MAE: 0.5326, Training RMSE: 0.7439\n",
      "Epoch [103/150], Validation MAE: 0.5160, Validation RMSE: 0.7358\n"
     ]
    },
    {
     "name": "stderr",
     "output_type": "stream",
     "text": [
      "Epoch 104/150: 100%|██████████| 213/213 [00:21<00:00,  9.75batch/s, mae_loss=0.557]\n"
     ]
    },
    {
     "name": "stdout",
     "output_type": "stream",
     "text": [
      "Epoch [104/150], Training MAE: 0.5311, Training RMSE: 0.7418\n",
      "Epoch [104/150], Validation MAE: 0.5171, Validation RMSE: 0.7365\n"
     ]
    },
    {
     "name": "stderr",
     "output_type": "stream",
     "text": [
      "Epoch 105/150: 100%|██████████| 213/213 [00:21<00:00,  9.75batch/s, mae_loss=0.57] \n"
     ]
    },
    {
     "name": "stdout",
     "output_type": "stream",
     "text": [
      "Epoch [105/150], Training MAE: 0.5305, Training RMSE: 0.7413\n",
      "Epoch [105/150], Validation MAE: 0.5158, Validation RMSE: 0.7353\n"
     ]
    },
    {
     "name": "stderr",
     "output_type": "stream",
     "text": [
      "Epoch 106/150: 100%|██████████| 213/213 [00:22<00:00,  9.51batch/s, mae_loss=0.609]\n"
     ]
    },
    {
     "name": "stdout",
     "output_type": "stream",
     "text": [
      "Epoch [106/150], Training MAE: 0.5305, Training RMSE: 0.7413\n",
      "Epoch [106/150], Validation MAE: 0.5152, Validation RMSE: 0.7362\n"
     ]
    },
    {
     "name": "stderr",
     "output_type": "stream",
     "text": [
      "Epoch 107/150: 100%|██████████| 213/213 [00:21<00:00,  9.76batch/s, mae_loss=0.565]\n"
     ]
    },
    {
     "name": "stdout",
     "output_type": "stream",
     "text": [
      "Epoch [107/150], Training MAE: 0.5293, Training RMSE: 0.7399\n",
      "Epoch [107/150], Validation MAE: 0.5171, Validation RMSE: 0.7375\n"
     ]
    },
    {
     "name": "stderr",
     "output_type": "stream",
     "text": [
      "Epoch 108/150: 100%|██████████| 213/213 [00:22<00:00,  9.56batch/s, mae_loss=0.528]\n"
     ]
    },
    {
     "name": "stdout",
     "output_type": "stream",
     "text": [
      "Epoch [108/150], Training MAE: 0.5288, Training RMSE: 0.7396\n",
      "Epoch [108/150], Validation MAE: 0.5162, Validation RMSE: 0.7361\n"
     ]
    },
    {
     "name": "stderr",
     "output_type": "stream",
     "text": [
      "Epoch 109/150: 100%|██████████| 213/213 [00:21<00:00,  9.70batch/s, mae_loss=0.501]\n"
     ]
    },
    {
     "name": "stdout",
     "output_type": "stream",
     "text": [
      "Epoch [109/150], Training MAE: 0.5279, Training RMSE: 0.7382\n",
      "Epoch [109/150], Validation MAE: 0.5183, Validation RMSE: 0.7381\n"
     ]
    },
    {
     "name": "stderr",
     "output_type": "stream",
     "text": [
      "Epoch 110/150: 100%|██████████| 213/213 [00:22<00:00,  9.68batch/s, mae_loss=0.524]\n"
     ]
    },
    {
     "name": "stdout",
     "output_type": "stream",
     "text": [
      "Epoch [110/150], Training MAE: 0.5272, Training RMSE: 0.7376\n",
      "Epoch [110/150], Validation MAE: 0.5177, Validation RMSE: 0.7373\n"
     ]
    },
    {
     "name": "stderr",
     "output_type": "stream",
     "text": [
      "Epoch 111/150: 100%|██████████| 213/213 [00:22<00:00,  9.51batch/s, mae_loss=0.564]\n"
     ]
    },
    {
     "name": "stdout",
     "output_type": "stream",
     "text": [
      "Epoch [111/150], Training MAE: 0.5264, Training RMSE: 0.7367\n",
      "Epoch [111/150], Validation MAE: 0.5174, Validation RMSE: 0.7366\n"
     ]
    },
    {
     "name": "stderr",
     "output_type": "stream",
     "text": [
      "Epoch 112/150: 100%|██████████| 213/213 [00:22<00:00,  9.49batch/s, mae_loss=0.555]\n"
     ]
    },
    {
     "name": "stdout",
     "output_type": "stream",
     "text": [
      "Epoch [112/150], Training MAE: 0.5261, Training RMSE: 0.7361\n",
      "Epoch [112/150], Validation MAE: 0.5182, Validation RMSE: 0.7383\n"
     ]
    },
    {
     "name": "stderr",
     "output_type": "stream",
     "text": [
      "Epoch 113/150: 100%|██████████| 213/213 [00:22<00:00,  9.56batch/s, mae_loss=0.556]\n"
     ]
    },
    {
     "name": "stdout",
     "output_type": "stream",
     "text": [
      "Epoch [113/150], Training MAE: 0.5253, Training RMSE: 0.7354\n",
      "Epoch [113/150], Validation MAE: 0.5186, Validation RMSE: 0.7376\n"
     ]
    },
    {
     "name": "stderr",
     "output_type": "stream",
     "text": [
      "Epoch 114/150: 100%|██████████| 213/213 [00:23<00:00,  9.25batch/s, mae_loss=0.507]\n"
     ]
    },
    {
     "name": "stdout",
     "output_type": "stream",
     "text": [
      "Epoch [114/150], Training MAE: 0.5242, Training RMSE: 0.7343\n",
      "Epoch [114/150], Validation MAE: 0.5195, Validation RMSE: 0.7392\n"
     ]
    },
    {
     "name": "stderr",
     "output_type": "stream",
     "text": [
      "Epoch 115/150: 100%|██████████| 213/213 [00:22<00:00,  9.55batch/s, mae_loss=0.505]\n"
     ]
    },
    {
     "name": "stdout",
     "output_type": "stream",
     "text": [
      "Epoch [115/150], Training MAE: 0.5236, Training RMSE: 0.7338\n",
      "Epoch [115/150], Validation MAE: 0.5193, Validation RMSE: 0.7376\n"
     ]
    },
    {
     "name": "stderr",
     "output_type": "stream",
     "text": [
      "Epoch 116/150: 100%|██████████| 213/213 [00:22<00:00,  9.60batch/s, mae_loss=0.508]\n"
     ]
    },
    {
     "name": "stdout",
     "output_type": "stream",
     "text": [
      "Epoch [116/150], Training MAE: 0.5230, Training RMSE: 0.7333\n",
      "Epoch [116/150], Validation MAE: 0.5212, Validation RMSE: 0.7406\n"
     ]
    },
    {
     "name": "stderr",
     "output_type": "stream",
     "text": [
      "Epoch 117/150: 100%|██████████| 213/213 [00:22<00:00,  9.62batch/s, mae_loss=0.447]\n"
     ]
    },
    {
     "name": "stdout",
     "output_type": "stream",
     "text": [
      "Epoch [117/150], Training MAE: 0.5221, Training RMSE: 0.7320\n",
      "Epoch [117/150], Validation MAE: 0.5192, Validation RMSE: 0.7382\n"
     ]
    },
    {
     "name": "stderr",
     "output_type": "stream",
     "text": [
      "Epoch 118/150: 100%|██████████| 213/213 [00:22<00:00,  9.64batch/s, mae_loss=0.517]\n"
     ]
    },
    {
     "name": "stdout",
     "output_type": "stream",
     "text": [
      "Epoch [118/150], Training MAE: 0.5214, Training RMSE: 0.7311\n",
      "Epoch [118/150], Validation MAE: 0.5213, Validation RMSE: 0.7398\n"
     ]
    },
    {
     "name": "stderr",
     "output_type": "stream",
     "text": [
      "Epoch 119/150: 100%|██████████| 213/213 [00:22<00:00,  9.55batch/s, mae_loss=0.473]\n"
     ]
    },
    {
     "name": "stdout",
     "output_type": "stream",
     "text": [
      "Epoch [119/150], Training MAE: 0.5210, Training RMSE: 0.7308\n",
      "Epoch [119/150], Validation MAE: 0.5215, Validation RMSE: 0.7405\n"
     ]
    },
    {
     "name": "stderr",
     "output_type": "stream",
     "text": [
      "Epoch 120/150: 100%|██████████| 213/213 [00:22<00:00,  9.39batch/s, mae_loss=0.522]\n"
     ]
    },
    {
     "name": "stdout",
     "output_type": "stream",
     "text": [
      "Epoch [120/150], Training MAE: 0.5201, Training RMSE: 0.7296\n",
      "Epoch [120/150], Validation MAE: 0.5226, Validation RMSE: 0.7417\n"
     ]
    },
    {
     "name": "stderr",
     "output_type": "stream",
     "text": [
      "Epoch 121/150: 100%|██████████| 213/213 [00:22<00:00,  9.63batch/s, mae_loss=0.513]\n"
     ]
    },
    {
     "name": "stdout",
     "output_type": "stream",
     "text": [
      "Epoch [121/150], Training MAE: 0.5198, Training RMSE: 0.7294\n",
      "Epoch [121/150], Validation MAE: 0.5237, Validation RMSE: 0.7415\n"
     ]
    },
    {
     "name": "stderr",
     "output_type": "stream",
     "text": [
      "Epoch 122/150: 100%|██████████| 213/213 [00:22<00:00,  9.46batch/s, mae_loss=0.485]\n"
     ]
    },
    {
     "name": "stdout",
     "output_type": "stream",
     "text": [
      "Epoch [122/150], Training MAE: 0.5184, Training RMSE: 0.7275\n",
      "Epoch [122/150], Validation MAE: 0.5210, Validation RMSE: 0.7397\n"
     ]
    },
    {
     "name": "stderr",
     "output_type": "stream",
     "text": [
      "Epoch 123/150: 100%|██████████| 213/213 [00:22<00:00,  9.67batch/s, mae_loss=0.54] \n"
     ]
    },
    {
     "name": "stdout",
     "output_type": "stream",
     "text": [
      "Epoch [123/150], Training MAE: 0.5183, Training RMSE: 0.7274\n",
      "Epoch [123/150], Validation MAE: 0.5220, Validation RMSE: 0.7405\n"
     ]
    },
    {
     "name": "stderr",
     "output_type": "stream",
     "text": [
      "Epoch 124/150: 100%|██████████| 213/213 [00:22<00:00,  9.51batch/s, mae_loss=0.549]\n"
     ]
    },
    {
     "name": "stdout",
     "output_type": "stream",
     "text": [
      "Epoch [124/150], Training MAE: 0.5177, Training RMSE: 0.7268\n",
      "Epoch [124/150], Validation MAE: 0.5242, Validation RMSE: 0.7424\n"
     ]
    },
    {
     "name": "stderr",
     "output_type": "stream",
     "text": [
      "Epoch 125/150: 100%|██████████| 213/213 [00:31<00:00,  6.69batch/s, mae_loss=0.543]\n"
     ]
    },
    {
     "name": "stdout",
     "output_type": "stream",
     "text": [
      "Epoch [125/150], Training MAE: 0.5166, Training RMSE: 0.7258\n",
      "Epoch [125/150], Validation MAE: 0.5249, Validation RMSE: 0.7435\n"
     ]
    },
    {
     "name": "stderr",
     "output_type": "stream",
     "text": [
      "Epoch 126/150: 100%|██████████| 213/213 [00:27<00:00,  7.80batch/s, mae_loss=0.517]\n"
     ]
    },
    {
     "name": "stdout",
     "output_type": "stream",
     "text": [
      "Epoch [126/150], Training MAE: 0.5157, Training RMSE: 0.7245\n",
      "Epoch [126/150], Validation MAE: 0.5270, Validation RMSE: 0.7441\n"
     ]
    },
    {
     "name": "stderr",
     "output_type": "stream",
     "text": [
      "Epoch 127/150: 100%|██████████| 213/213 [00:25<00:00,  8.22batch/s, mae_loss=0.481]\n"
     ]
    },
    {
     "name": "stdout",
     "output_type": "stream",
     "text": [
      "Epoch [127/150], Training MAE: 0.5150, Training RMSE: 0.7241\n",
      "Epoch [127/150], Validation MAE: 0.5239, Validation RMSE: 0.7421\n"
     ]
    },
    {
     "name": "stderr",
     "output_type": "stream",
     "text": [
      "Epoch 128/150: 100%|██████████| 213/213 [00:26<00:00,  8.10batch/s, mae_loss=0.535]\n"
     ]
    },
    {
     "name": "stdout",
     "output_type": "stream",
     "text": [
      "Epoch [128/150], Training MAE: 0.5146, Training RMSE: 0.7234\n",
      "Epoch [128/150], Validation MAE: 0.5241, Validation RMSE: 0.7427\n"
     ]
    },
    {
     "name": "stderr",
     "output_type": "stream",
     "text": [
      "Epoch 129/150: 100%|██████████| 213/213 [00:48<00:00,  4.38batch/s, mae_loss=0.514]\n"
     ]
    },
    {
     "name": "stdout",
     "output_type": "stream",
     "text": [
      "Epoch [129/150], Training MAE: 0.5138, Training RMSE: 0.7224\n",
      "Epoch [129/150], Validation MAE: 0.5271, Validation RMSE: 0.7451\n"
     ]
    },
    {
     "name": "stderr",
     "output_type": "stream",
     "text": [
      "Epoch 130/150: 100%|██████████| 213/213 [01:41<00:00,  2.09batch/s, mae_loss=0.536]\n"
     ]
    },
    {
     "name": "stdout",
     "output_type": "stream",
     "text": [
      "Epoch [130/150], Training MAE: 0.5129, Training RMSE: 0.7218\n",
      "Epoch [130/150], Validation MAE: 0.5260, Validation RMSE: 0.7438\n"
     ]
    },
    {
     "name": "stderr",
     "output_type": "stream",
     "text": [
      "Epoch 131/150: 100%|██████████| 213/213 [01:39<00:00,  2.14batch/s, mae_loss=0.509]\n"
     ]
    },
    {
     "name": "stdout",
     "output_type": "stream",
     "text": [
      "Epoch [131/150], Training MAE: 0.5121, Training RMSE: 0.7203\n",
      "Epoch [131/150], Validation MAE: 0.5269, Validation RMSE: 0.7450\n"
     ]
    },
    {
     "name": "stderr",
     "output_type": "stream",
     "text": [
      "Epoch 132/150: 100%|██████████| 213/213 [01:15<00:00,  2.81batch/s, mae_loss=0.473]\n"
     ]
    },
    {
     "name": "stdout",
     "output_type": "stream",
     "text": [
      "Epoch [132/150], Training MAE: 0.5113, Training RMSE: 0.7196\n",
      "Epoch [132/150], Validation MAE: 0.5278, Validation RMSE: 0.7444\n"
     ]
    },
    {
     "name": "stderr",
     "output_type": "stream",
     "text": [
      "Epoch 133/150: 100%|██████████| 213/213 [01:39<00:00,  2.14batch/s, mae_loss=0.491]\n"
     ]
    },
    {
     "name": "stdout",
     "output_type": "stream",
     "text": [
      "Epoch [133/150], Training MAE: 0.5107, Training RMSE: 0.7187\n",
      "Epoch [133/150], Validation MAE: 0.5263, Validation RMSE: 0.7442\n"
     ]
    },
    {
     "name": "stderr",
     "output_type": "stream",
     "text": [
      "Epoch 134/150: 100%|██████████| 213/213 [01:40<00:00,  2.12batch/s, mae_loss=0.473]\n"
     ]
    },
    {
     "name": "stdout",
     "output_type": "stream",
     "text": [
      "Epoch [134/150], Training MAE: 0.5097, Training RMSE: 0.7177\n",
      "Epoch [134/150], Validation MAE: 0.5281, Validation RMSE: 0.7460\n"
     ]
    },
    {
     "name": "stderr",
     "output_type": "stream",
     "text": [
      "Epoch 135/150: 100%|██████████| 213/213 [01:43<00:00,  2.06batch/s, mae_loss=0.538]\n"
     ]
    },
    {
     "name": "stdout",
     "output_type": "stream",
     "text": [
      "Epoch [135/150], Training MAE: 0.5090, Training RMSE: 0.7171\n",
      "Epoch [135/150], Validation MAE: 0.5282, Validation RMSE: 0.7461\n"
     ]
    },
    {
     "name": "stderr",
     "output_type": "stream",
     "text": [
      "Epoch 136/150: 100%|██████████| 213/213 [01:14<00:00,  2.85batch/s, mae_loss=0.543]\n"
     ]
    },
    {
     "name": "stdout",
     "output_type": "stream",
     "text": [
      "Epoch [136/150], Training MAE: 0.5089, Training RMSE: 0.7168\n",
      "Epoch [136/150], Validation MAE: 0.5302, Validation RMSE: 0.7484\n"
     ]
    },
    {
     "name": "stderr",
     "output_type": "stream",
     "text": [
      "Epoch 137/150: 100%|██████████| 213/213 [01:40<00:00,  2.12batch/s, mae_loss=0.498]\n"
     ]
    },
    {
     "name": "stdout",
     "output_type": "stream",
     "text": [
      "Epoch [137/150], Training MAE: 0.5076, Training RMSE: 0.7150\n",
      "Epoch [137/150], Validation MAE: 0.5283, Validation RMSE: 0.7461\n"
     ]
    },
    {
     "name": "stderr",
     "output_type": "stream",
     "text": [
      "Epoch 138/150: 100%|██████████| 213/213 [01:08<00:00,  3.11batch/s, mae_loss=0.525]\n"
     ]
    },
    {
     "name": "stdout",
     "output_type": "stream",
     "text": [
      "Epoch [138/150], Training MAE: 0.5069, Training RMSE: 0.7143\n",
      "Epoch [138/150], Validation MAE: 0.5318, Validation RMSE: 0.7481\n"
     ]
    },
    {
     "name": "stderr",
     "output_type": "stream",
     "text": [
      "Epoch 139/150: 100%|██████████| 213/213 [01:09<00:00,  3.04batch/s, mae_loss=0.506]\n"
     ]
    },
    {
     "name": "stdout",
     "output_type": "stream",
     "text": [
      "Epoch [139/150], Training MAE: 0.5060, Training RMSE: 0.7137\n",
      "Epoch [139/150], Validation MAE: 0.5290, Validation RMSE: 0.7468\n"
     ]
    },
    {
     "name": "stderr",
     "output_type": "stream",
     "text": [
      "Epoch 140/150: 100%|██████████| 213/213 [01:36<00:00,  2.20batch/s, mae_loss=0.518]\n"
     ]
    },
    {
     "name": "stdout",
     "output_type": "stream",
     "text": [
      "Epoch [140/150], Training MAE: 0.5053, Training RMSE: 0.7127\n",
      "Epoch [140/150], Validation MAE: 0.5316, Validation RMSE: 0.7489\n"
     ]
    },
    {
     "name": "stderr",
     "output_type": "stream",
     "text": [
      "Epoch 141/150: 100%|██████████| 213/213 [01:08<00:00,  3.10batch/s, mae_loss=0.484]\n"
     ]
    },
    {
     "name": "stdout",
     "output_type": "stream",
     "text": [
      "Epoch [141/150], Training MAE: 0.5048, Training RMSE: 0.7123\n",
      "Epoch [141/150], Validation MAE: 0.5297, Validation RMSE: 0.7464\n"
     ]
    },
    {
     "name": "stderr",
     "output_type": "stream",
     "text": [
      "Epoch 142/150: 100%|██████████| 213/213 [01:35<00:00,  2.22batch/s, mae_loss=0.492]\n"
     ]
    },
    {
     "name": "stdout",
     "output_type": "stream",
     "text": [
      "Epoch [142/150], Training MAE: 0.5034, Training RMSE: 0.7108\n",
      "Epoch [142/150], Validation MAE: 0.5323, Validation RMSE: 0.7495\n"
     ]
    },
    {
     "name": "stderr",
     "output_type": "stream",
     "text": [
      "Epoch 143/150: 100%|██████████| 213/213 [01:11<00:00,  2.98batch/s, mae_loss=0.476]\n"
     ]
    },
    {
     "name": "stdout",
     "output_type": "stream",
     "text": [
      "Epoch [143/150], Training MAE: 0.5027, Training RMSE: 0.7101\n",
      "Epoch [143/150], Validation MAE: 0.5316, Validation RMSE: 0.7478\n"
     ]
    },
    {
     "name": "stderr",
     "output_type": "stream",
     "text": [
      "Epoch 144/150: 100%|██████████| 213/213 [01:37<00:00,  2.19batch/s, mae_loss=0.519]\n"
     ]
    },
    {
     "name": "stdout",
     "output_type": "stream",
     "text": [
      "Epoch [144/150], Training MAE: 0.5019, Training RMSE: 0.7090\n",
      "Epoch [144/150], Validation MAE: 0.5304, Validation RMSE: 0.7472\n"
     ]
    },
    {
     "name": "stderr",
     "output_type": "stream",
     "text": [
      "Epoch 145/150: 100%|██████████| 213/213 [01:09<00:00,  3.07batch/s, mae_loss=0.552]\n"
     ]
    },
    {
     "name": "stdout",
     "output_type": "stream",
     "text": [
      "Epoch [145/150], Training MAE: 0.5015, Training RMSE: 0.7088\n",
      "Epoch [145/150], Validation MAE: 0.5298, Validation RMSE: 0.7475\n"
     ]
    },
    {
     "name": "stderr",
     "output_type": "stream",
     "text": [
      "Epoch 146/150: 100%|██████████| 213/213 [01:41<00:00,  2.11batch/s, mae_loss=0.496]\n"
     ]
    },
    {
     "name": "stdout",
     "output_type": "stream",
     "text": [
      "Epoch [146/150], Training MAE: 0.5000, Training RMSE: 0.7070\n",
      "Epoch [146/150], Validation MAE: 0.5333, Validation RMSE: 0.7493\n"
     ]
    },
    {
     "name": "stderr",
     "output_type": "stream",
     "text": [
      "Epoch 147/150: 100%|██████████| 213/213 [01:09<00:00,  3.08batch/s, mae_loss=0.522]\n"
     ]
    },
    {
     "name": "stdout",
     "output_type": "stream",
     "text": [
      "Epoch [147/150], Training MAE: 0.4997, Training RMSE: 0.7062\n",
      "Epoch [147/150], Validation MAE: 0.5328, Validation RMSE: 0.7494\n"
     ]
    },
    {
     "name": "stderr",
     "output_type": "stream",
     "text": [
      "Epoch 148/150: 100%|██████████| 213/213 [01:35<00:00,  2.22batch/s, mae_loss=0.535]\n"
     ]
    },
    {
     "name": "stdout",
     "output_type": "stream",
     "text": [
      "Epoch [148/150], Training MAE: 0.4989, Training RMSE: 0.7058\n",
      "Epoch [148/150], Validation MAE: 0.5346, Validation RMSE: 0.7525\n"
     ]
    },
    {
     "name": "stderr",
     "output_type": "stream",
     "text": [
      "Epoch 149/150: 100%|██████████| 213/213 [00:49<00:00,  4.26batch/s, mae_loss=0.53] \n"
     ]
    },
    {
     "name": "stdout",
     "output_type": "stream",
     "text": [
      "Epoch [149/150], Training MAE: 0.4986, Training RMSE: 0.7054\n",
      "Epoch [149/150], Validation MAE: 0.5346, Validation RMSE: 0.7524\n"
     ]
    },
    {
     "name": "stderr",
     "output_type": "stream",
     "text": [
      "Epoch 150/150: 100%|██████████| 213/213 [00:22<00:00,  9.45batch/s, mae_loss=0.521]\n"
     ]
    },
    {
     "name": "stdout",
     "output_type": "stream",
     "text": [
      "Epoch [150/150], Training MAE: 0.4976, Training RMSE: 0.7041\n",
      "Epoch [150/150], Validation MAE: 0.5352, Validation RMSE: 0.7514\n",
      "End Prediction Horizon of 24 of shared-layer Model\n",
      "model_shared-layer_attention_24_2 saved\n",
      "Start Prediction Horizon 24 of shared-layer model\n"
     ]
    },
    {
     "name": "stderr",
     "output_type": "stream",
     "text": [
      "Epoch 1/150: 100%|██████████| 213/213 [00:23<00:00,  9.23batch/s, mae_loss=0.696]\n"
     ]
    },
    {
     "name": "stdout",
     "output_type": "stream",
     "text": [
      "Epoch [1/150], Training MAE: 0.6909, Training RMSE: 0.9151\n",
      "Epoch [1/150], Validation MAE: 0.5491, Validation RMSE: 0.8037\n"
     ]
    },
    {
     "name": "stderr",
     "output_type": "stream",
     "text": [
      "Epoch 2/150: 100%|██████████| 213/213 [00:22<00:00,  9.49batch/s, mae_loss=0.678]\n"
     ]
    },
    {
     "name": "stdout",
     "output_type": "stream",
     "text": [
      "Epoch [2/150], Training MAE: 0.6633, Training RMSE: 0.8854\n",
      "Epoch [2/150], Validation MAE: 0.5386, Validation RMSE: 0.7859\n"
     ]
    },
    {
     "name": "stderr",
     "output_type": "stream",
     "text": [
      "Epoch 3/150: 100%|██████████| 213/213 [00:54<00:00,  3.94batch/s, mae_loss=0.684]\n"
     ]
    },
    {
     "name": "stdout",
     "output_type": "stream",
     "text": [
      "Epoch [3/150], Training MAE: 0.6480, Training RMSE: 0.8685\n",
      "Epoch [3/150], Validation MAE: 0.5311, Validation RMSE: 0.7737\n"
     ]
    },
    {
     "name": "stderr",
     "output_type": "stream",
     "text": [
      "Epoch 4/150: 100%|██████████| 213/213 [01:08<00:00,  3.13batch/s, mae_loss=0.667]\n"
     ]
    },
    {
     "name": "stdout",
     "output_type": "stream",
     "text": [
      "Epoch [4/150], Training MAE: 0.6395, Training RMSE: 0.8595\n",
      "Epoch [4/150], Validation MAE: 0.5294, Validation RMSE: 0.7679\n"
     ]
    },
    {
     "name": "stderr",
     "output_type": "stream",
     "text": [
      "Epoch 5/150: 100%|██████████| 213/213 [01:05<00:00,  3.25batch/s, mae_loss=0.658]\n"
     ]
    },
    {
     "name": "stdout",
     "output_type": "stream",
     "text": [
      "Epoch [5/150], Training MAE: 0.6347, Training RMSE: 0.8542\n",
      "Epoch [5/150], Validation MAE: 0.5245, Validation RMSE: 0.7631\n"
     ]
    },
    {
     "name": "stderr",
     "output_type": "stream",
     "text": [
      "Epoch 6/150: 100%|██████████| 213/213 [01:06<00:00,  3.22batch/s, mae_loss=0.643]\n"
     ]
    },
    {
     "name": "stdout",
     "output_type": "stream",
     "text": [
      "Epoch [6/150], Training MAE: 0.6308, Training RMSE: 0.8502\n",
      "Epoch [6/150], Validation MAE: 0.5263, Validation RMSE: 0.7642\n"
     ]
    },
    {
     "name": "stderr",
     "output_type": "stream",
     "text": [
      "Epoch 7/150: 100%|██████████| 213/213 [01:08<00:00,  3.10batch/s, mae_loss=0.587]\n"
     ]
    },
    {
     "name": "stdout",
     "output_type": "stream",
     "text": [
      "Epoch [7/150], Training MAE: 0.6277, Training RMSE: 0.8475\n",
      "Epoch [7/150], Validation MAE: 0.5221, Validation RMSE: 0.7601\n"
     ]
    },
    {
     "name": "stderr",
     "output_type": "stream",
     "text": [
      "Epoch 8/150: 100%|██████████| 213/213 [01:05<00:00,  3.23batch/s, mae_loss=0.605]\n"
     ]
    },
    {
     "name": "stdout",
     "output_type": "stream",
     "text": [
      "Epoch [8/150], Training MAE: 0.6254, Training RMSE: 0.8451\n",
      "Epoch [8/150], Validation MAE: 0.5212, Validation RMSE: 0.7573\n"
     ]
    },
    {
     "name": "stderr",
     "output_type": "stream",
     "text": [
      "Epoch 9/150: 100%|██████████| 213/213 [01:23<00:00,  2.54batch/s, mae_loss=0.625]\n"
     ]
    },
    {
     "name": "stdout",
     "output_type": "stream",
     "text": [
      "Epoch [9/150], Training MAE: 0.6232, Training RMSE: 0.8427\n",
      "Epoch [9/150], Validation MAE: 0.5195, Validation RMSE: 0.7553\n"
     ]
    },
    {
     "name": "stderr",
     "output_type": "stream",
     "text": [
      "Epoch 10/150: 100%|██████████| 213/213 [01:07<00:00,  3.17batch/s, mae_loss=0.671]\n"
     ]
    },
    {
     "name": "stdout",
     "output_type": "stream",
     "text": [
      "Epoch [10/150], Training MAE: 0.6209, Training RMSE: 0.8403\n",
      "Epoch [10/150], Validation MAE: 0.5164, Validation RMSE: 0.7508\n"
     ]
    },
    {
     "name": "stderr",
     "output_type": "stream",
     "text": [
      "Epoch 11/150: 100%|██████████| 213/213 [01:06<00:00,  3.19batch/s, mae_loss=0.639]\n"
     ]
    },
    {
     "name": "stdout",
     "output_type": "stream",
     "text": [
      "Epoch [11/150], Training MAE: 0.6187, Training RMSE: 0.8379\n",
      "Epoch [11/150], Validation MAE: 0.5169, Validation RMSE: 0.7506\n"
     ]
    },
    {
     "name": "stderr",
     "output_type": "stream",
     "text": [
      "Epoch 12/150: 100%|██████████| 213/213 [00:36<00:00,  5.83batch/s, mae_loss=0.628]\n"
     ]
    },
    {
     "name": "stdout",
     "output_type": "stream",
     "text": [
      "Epoch [12/150], Training MAE: 0.6162, Training RMSE: 0.8352\n",
      "Epoch [12/150], Validation MAE: 0.5152, Validation RMSE: 0.7489\n"
     ]
    },
    {
     "name": "stderr",
     "output_type": "stream",
     "text": [
      "Epoch 13/150: 100%|██████████| 213/213 [00:22<00:00,  9.62batch/s, mae_loss=0.598]\n"
     ]
    },
    {
     "name": "stdout",
     "output_type": "stream",
     "text": [
      "Epoch [13/150], Training MAE: 0.6139, Training RMSE: 0.8326\n",
      "Epoch [13/150], Validation MAE: 0.5136, Validation RMSE: 0.7481\n"
     ]
    },
    {
     "name": "stderr",
     "output_type": "stream",
     "text": [
      "Epoch 14/150: 100%|██████████| 213/213 [00:22<00:00,  9.30batch/s, mae_loss=0.634]\n"
     ]
    },
    {
     "name": "stdout",
     "output_type": "stream",
     "text": [
      "Epoch [14/150], Training MAE: 0.6119, Training RMSE: 0.8308\n",
      "Epoch [14/150], Validation MAE: 0.5113, Validation RMSE: 0.7446\n"
     ]
    },
    {
     "name": "stderr",
     "output_type": "stream",
     "text": [
      "Epoch 15/150: 100%|██████████| 213/213 [00:22<00:00,  9.62batch/s, mae_loss=0.665]\n"
     ]
    },
    {
     "name": "stdout",
     "output_type": "stream",
     "text": [
      "Epoch [15/150], Training MAE: 0.6091, Training RMSE: 0.8275\n",
      "Epoch [15/150], Validation MAE: 0.5099, Validation RMSE: 0.7430\n"
     ]
    },
    {
     "name": "stderr",
     "output_type": "stream",
     "text": [
      "Epoch 16/150: 100%|██████████| 213/213 [00:22<00:00,  9.35batch/s, mae_loss=0.616]\n"
     ]
    },
    {
     "name": "stdout",
     "output_type": "stream",
     "text": [
      "Epoch [16/150], Training MAE: 0.6073, Training RMSE: 0.8253\n",
      "Epoch [16/150], Validation MAE: 0.5086, Validation RMSE: 0.7410\n"
     ]
    },
    {
     "name": "stderr",
     "output_type": "stream",
     "text": [
      "Epoch 17/150: 100%|██████████| 213/213 [00:22<00:00,  9.47batch/s, mae_loss=0.655]\n"
     ]
    },
    {
     "name": "stdout",
     "output_type": "stream",
     "text": [
      "Epoch [17/150], Training MAE: 0.6050, Training RMSE: 0.8231\n",
      "Epoch [17/150], Validation MAE: 0.5080, Validation RMSE: 0.7403\n"
     ]
    },
    {
     "name": "stderr",
     "output_type": "stream",
     "text": [
      "Epoch 18/150: 100%|██████████| 213/213 [00:22<00:00,  9.46batch/s, mae_loss=0.591]\n"
     ]
    },
    {
     "name": "stdout",
     "output_type": "stream",
     "text": [
      "Epoch [18/150], Training MAE: 0.6023, Training RMSE: 0.8198\n",
      "Epoch [18/150], Validation MAE: 0.5084, Validation RMSE: 0.7413\n"
     ]
    },
    {
     "name": "stderr",
     "output_type": "stream",
     "text": [
      "Epoch 19/150: 100%|██████████| 213/213 [00:22<00:00,  9.31batch/s, mae_loss=0.581]\n"
     ]
    },
    {
     "name": "stdout",
     "output_type": "stream",
     "text": [
      "Epoch [19/150], Training MAE: 0.6001, Training RMSE: 0.8176\n",
      "Epoch [19/150], Validation MAE: 0.5058, Validation RMSE: 0.7382\n"
     ]
    },
    {
     "name": "stderr",
     "output_type": "stream",
     "text": [
      "Epoch 20/150: 100%|██████████| 213/213 [00:22<00:00,  9.43batch/s, mae_loss=0.711]\n"
     ]
    },
    {
     "name": "stdout",
     "output_type": "stream",
     "text": [
      "Epoch [20/150], Training MAE: 0.5981, Training RMSE: 0.8148\n",
      "Epoch [20/150], Validation MAE: 0.5048, Validation RMSE: 0.7362\n"
     ]
    },
    {
     "name": "stderr",
     "output_type": "stream",
     "text": [
      "Epoch 21/150: 100%|██████████| 213/213 [00:22<00:00,  9.42batch/s, mae_loss=0.638]\n"
     ]
    },
    {
     "name": "stdout",
     "output_type": "stream",
     "text": [
      "Epoch [21/150], Training MAE: 0.5959, Training RMSE: 0.8131\n",
      "Epoch [21/150], Validation MAE: 0.5033, Validation RMSE: 0.7342\n"
     ]
    },
    {
     "name": "stderr",
     "output_type": "stream",
     "text": [
      "Epoch 22/150: 100%|██████████| 213/213 [00:22<00:00,  9.45batch/s, mae_loss=0.522]\n"
     ]
    },
    {
     "name": "stdout",
     "output_type": "stream",
     "text": [
      "Epoch [22/150], Training MAE: 0.5935, Training RMSE: 0.8106\n",
      "Epoch [22/150], Validation MAE: 0.5015, Validation RMSE: 0.7324\n"
     ]
    },
    {
     "name": "stderr",
     "output_type": "stream",
     "text": [
      "Epoch 23/150: 100%|██████████| 213/213 [00:22<00:00,  9.52batch/s, mae_loss=0.593]\n"
     ]
    },
    {
     "name": "stdout",
     "output_type": "stream",
     "text": [
      "Epoch [23/150], Training MAE: 0.5919, Training RMSE: 0.8085\n",
      "Epoch [23/150], Validation MAE: 0.5012, Validation RMSE: 0.7325\n"
     ]
    },
    {
     "name": "stderr",
     "output_type": "stream",
     "text": [
      "Epoch 24/150: 100%|██████████| 213/213 [00:22<00:00,  9.30batch/s, mae_loss=0.56] \n"
     ]
    },
    {
     "name": "stdout",
     "output_type": "stream",
     "text": [
      "Epoch [24/150], Training MAE: 0.5896, Training RMSE: 0.8058\n",
      "Epoch [24/150], Validation MAE: 0.4983, Validation RMSE: 0.7294\n"
     ]
    },
    {
     "name": "stderr",
     "output_type": "stream",
     "text": [
      "Epoch 25/150: 100%|██████████| 213/213 [00:22<00:00,  9.66batch/s, mae_loss=0.615]\n"
     ]
    },
    {
     "name": "stdout",
     "output_type": "stream",
     "text": [
      "Epoch [25/150], Training MAE: 0.5887, Training RMSE: 0.8048\n",
      "Epoch [25/150], Validation MAE: 0.5019, Validation RMSE: 0.7321\n"
     ]
    },
    {
     "name": "stderr",
     "output_type": "stream",
     "text": [
      "Epoch 26/150: 100%|██████████| 213/213 [00:22<00:00,  9.49batch/s, mae_loss=0.532]\n"
     ]
    },
    {
     "name": "stdout",
     "output_type": "stream",
     "text": [
      "Epoch [26/150], Training MAE: 0.5867, Training RMSE: 0.8029\n",
      "Epoch [26/150], Validation MAE: 0.4975, Validation RMSE: 0.7285\n"
     ]
    },
    {
     "name": "stderr",
     "output_type": "stream",
     "text": [
      "Epoch 27/150: 100%|██████████| 213/213 [00:22<00:00,  9.42batch/s, mae_loss=0.576]\n"
     ]
    },
    {
     "name": "stdout",
     "output_type": "stream",
     "text": [
      "Epoch [27/150], Training MAE: 0.5856, Training RMSE: 0.8013\n",
      "Epoch [27/150], Validation MAE: 0.5006, Validation RMSE: 0.7314\n"
     ]
    },
    {
     "name": "stderr",
     "output_type": "stream",
     "text": [
      "Epoch 28/150: 100%|██████████| 213/213 [00:22<00:00,  9.52batch/s, mae_loss=0.576]\n"
     ]
    },
    {
     "name": "stdout",
     "output_type": "stream",
     "text": [
      "Epoch [28/150], Training MAE: 0.5843, Training RMSE: 0.8002\n",
      "Epoch [28/150], Validation MAE: 0.5003, Validation RMSE: 0.7290\n"
     ]
    },
    {
     "name": "stderr",
     "output_type": "stream",
     "text": [
      "Epoch 29/150: 100%|██████████| 213/213 [00:57<00:00,  3.72batch/s, mae_loss=0.534]\n"
     ]
    },
    {
     "name": "stdout",
     "output_type": "stream",
     "text": [
      "Epoch [29/150], Training MAE: 0.5826, Training RMSE: 0.7982\n",
      "Epoch [29/150], Validation MAE: 0.4990, Validation RMSE: 0.7279\n"
     ]
    },
    {
     "name": "stderr",
     "output_type": "stream",
     "text": [
      "Epoch 30/150: 100%|██████████| 213/213 [01:30<00:00,  2.36batch/s, mae_loss=0.554]\n"
     ]
    },
    {
     "name": "stdout",
     "output_type": "stream",
     "text": [
      "Epoch [30/150], Training MAE: 0.5816, Training RMSE: 0.7976\n",
      "Epoch [30/150], Validation MAE: 0.4998, Validation RMSE: 0.7281\n"
     ]
    },
    {
     "name": "stderr",
     "output_type": "stream",
     "text": [
      "Epoch 31/150: 100%|██████████| 213/213 [00:45<00:00,  4.64batch/s, mae_loss=0.652]\n"
     ]
    },
    {
     "name": "stdout",
     "output_type": "stream",
     "text": [
      "Epoch [31/150], Training MAE: 0.5806, Training RMSE: 0.7961\n",
      "Epoch [31/150], Validation MAE: 0.4991, Validation RMSE: 0.7276\n"
     ]
    },
    {
     "name": "stderr",
     "output_type": "stream",
     "text": [
      "Epoch 32/150: 100%|██████████| 213/213 [01:19<00:00,  2.69batch/s, mae_loss=0.606]\n"
     ]
    },
    {
     "name": "stdout",
     "output_type": "stream",
     "text": [
      "Epoch [32/150], Training MAE: 0.5794, Training RMSE: 0.7952\n",
      "Epoch [32/150], Validation MAE: 0.5014, Validation RMSE: 0.7300\n"
     ]
    },
    {
     "name": "stderr",
     "output_type": "stream",
     "text": [
      "Epoch 33/150: 100%|██████████| 213/213 [01:07<00:00,  3.16batch/s, mae_loss=0.55] \n"
     ]
    },
    {
     "name": "stdout",
     "output_type": "stream",
     "text": [
      "Epoch [33/150], Training MAE: 0.5783, Training RMSE: 0.7937\n",
      "Epoch [33/150], Validation MAE: 0.4984, Validation RMSE: 0.7267\n"
     ]
    },
    {
     "name": "stderr",
     "output_type": "stream",
     "text": [
      "Epoch 34/150: 100%|██████████| 213/213 [01:05<00:00,  3.27batch/s, mae_loss=0.576]\n"
     ]
    },
    {
     "name": "stdout",
     "output_type": "stream",
     "text": [
      "Epoch [34/150], Training MAE: 0.5774, Training RMSE: 0.7929\n",
      "Epoch [34/150], Validation MAE: 0.4973, Validation RMSE: 0.7242\n"
     ]
    },
    {
     "name": "stderr",
     "output_type": "stream",
     "text": [
      "Epoch 35/150: 100%|██████████| 213/213 [01:07<00:00,  3.17batch/s, mae_loss=0.572]\n"
     ]
    },
    {
     "name": "stdout",
     "output_type": "stream",
     "text": [
      "Epoch [35/150], Training MAE: 0.5762, Training RMSE: 0.7917\n",
      "Epoch [35/150], Validation MAE: 0.4990, Validation RMSE: 0.7270\n"
     ]
    },
    {
     "name": "stderr",
     "output_type": "stream",
     "text": [
      "Epoch 36/150: 100%|██████████| 213/213 [01:04<00:00,  3.31batch/s, mae_loss=0.52] \n"
     ]
    },
    {
     "name": "stdout",
     "output_type": "stream",
     "text": [
      "Epoch [36/150], Training MAE: 0.5752, Training RMSE: 0.7908\n",
      "Epoch [36/150], Validation MAE: 0.4977, Validation RMSE: 0.7249\n"
     ]
    },
    {
     "name": "stderr",
     "output_type": "stream",
     "text": [
      "Epoch 37/150: 100%|██████████| 213/213 [01:06<00:00,  3.22batch/s, mae_loss=0.57] \n"
     ]
    },
    {
     "name": "stdout",
     "output_type": "stream",
     "text": [
      "Epoch [37/150], Training MAE: 0.5747, Training RMSE: 0.7902\n",
      "Epoch [37/150], Validation MAE: 0.4990, Validation RMSE: 0.7255\n"
     ]
    },
    {
     "name": "stderr",
     "output_type": "stream",
     "text": [
      "Epoch 38/150: 100%|██████████| 213/213 [01:07<00:00,  3.17batch/s, mae_loss=0.567]\n"
     ]
    },
    {
     "name": "stdout",
     "output_type": "stream",
     "text": [
      "Epoch [38/150], Training MAE: 0.5735, Training RMSE: 0.7887\n",
      "Epoch [38/150], Validation MAE: 0.4978, Validation RMSE: 0.7238\n"
     ]
    },
    {
     "name": "stderr",
     "output_type": "stream",
     "text": [
      "Epoch 39/150: 100%|██████████| 213/213 [01:19<00:00,  2.67batch/s, mae_loss=0.582]\n"
     ]
    },
    {
     "name": "stdout",
     "output_type": "stream",
     "text": [
      "Epoch [39/150], Training MAE: 0.5726, Training RMSE: 0.7880\n",
      "Epoch [39/150], Validation MAE: 0.5005, Validation RMSE: 0.7270\n"
     ]
    },
    {
     "name": "stderr",
     "output_type": "stream",
     "text": [
      "Epoch 40/150: 100%|██████████| 213/213 [01:10<00:00,  3.00batch/s, mae_loss=0.542]\n"
     ]
    },
    {
     "name": "stdout",
     "output_type": "stream",
     "text": [
      "Epoch [40/150], Training MAE: 0.5720, Training RMSE: 0.7870\n",
      "Epoch [40/150], Validation MAE: 0.4999, Validation RMSE: 0.7252\n"
     ]
    },
    {
     "name": "stderr",
     "output_type": "stream",
     "text": [
      "Epoch 41/150: 100%|██████████| 213/213 [01:08<00:00,  3.11batch/s, mae_loss=0.54] \n"
     ]
    },
    {
     "name": "stdout",
     "output_type": "stream",
     "text": [
      "Epoch [41/150], Training MAE: 0.5711, Training RMSE: 0.7862\n",
      "Epoch [41/150], Validation MAE: 0.4995, Validation RMSE: 0.7247\n"
     ]
    },
    {
     "name": "stderr",
     "output_type": "stream",
     "text": [
      "Epoch 42/150: 100%|██████████| 213/213 [01:07<00:00,  3.16batch/s, mae_loss=0.514]\n"
     ]
    },
    {
     "name": "stdout",
     "output_type": "stream",
     "text": [
      "Epoch [42/150], Training MAE: 0.5707, Training RMSE: 0.7853\n",
      "Epoch [42/150], Validation MAE: 0.4969, Validation RMSE: 0.7222\n"
     ]
    },
    {
     "name": "stderr",
     "output_type": "stream",
     "text": [
      "Epoch 43/150: 100%|██████████| 213/213 [01:06<00:00,  3.19batch/s, mae_loss=0.574]\n"
     ]
    },
    {
     "name": "stdout",
     "output_type": "stream",
     "text": [
      "Epoch [43/150], Training MAE: 0.5697, Training RMSE: 0.7849\n",
      "Epoch [43/150], Validation MAE: 0.5020, Validation RMSE: 0.7271\n"
     ]
    },
    {
     "name": "stderr",
     "output_type": "stream",
     "text": [
      "Epoch 44/150: 100%|██████████| 213/213 [01:05<00:00,  3.25batch/s, mae_loss=0.598]\n"
     ]
    },
    {
     "name": "stdout",
     "output_type": "stream",
     "text": [
      "Epoch [44/150], Training MAE: 0.5685, Training RMSE: 0.7835\n",
      "Epoch [44/150], Validation MAE: 0.5006, Validation RMSE: 0.7245\n"
     ]
    },
    {
     "name": "stderr",
     "output_type": "stream",
     "text": [
      "Epoch 45/150: 100%|██████████| 213/213 [01:27<00:00,  2.43batch/s, mae_loss=0.625]\n"
     ]
    },
    {
     "name": "stdout",
     "output_type": "stream",
     "text": [
      "Epoch [45/150], Training MAE: 0.5681, Training RMSE: 0.7829\n",
      "Epoch [45/150], Validation MAE: 0.5000, Validation RMSE: 0.7239\n"
     ]
    },
    {
     "name": "stderr",
     "output_type": "stream",
     "text": [
      "Epoch 46/150: 100%|██████████| 213/213 [01:04<00:00,  3.32batch/s, mae_loss=0.564]\n"
     ]
    },
    {
     "name": "stdout",
     "output_type": "stream",
     "text": [
      "Epoch [46/150], Training MAE: 0.5672, Training RMSE: 0.7816\n",
      "Epoch [46/150], Validation MAE: 0.5011, Validation RMSE: 0.7249\n"
     ]
    },
    {
     "name": "stderr",
     "output_type": "stream",
     "text": [
      "Epoch 47/150: 100%|██████████| 213/213 [01:06<00:00,  3.22batch/s, mae_loss=0.591]\n"
     ]
    },
    {
     "name": "stdout",
     "output_type": "stream",
     "text": [
      "Epoch [47/150], Training MAE: 0.5669, Training RMSE: 0.7818\n",
      "Epoch [47/150], Validation MAE: 0.5015, Validation RMSE: 0.7266\n"
     ]
    },
    {
     "name": "stderr",
     "output_type": "stream",
     "text": [
      "Epoch 48/150: 100%|██████████| 213/213 [01:30<00:00,  2.35batch/s, mae_loss=0.605]\n"
     ]
    },
    {
     "name": "stdout",
     "output_type": "stream",
     "text": [
      "Epoch [48/150], Training MAE: 0.5663, Training RMSE: 0.7811\n",
      "Epoch [48/150], Validation MAE: 0.4998, Validation RMSE: 0.7227\n"
     ]
    },
    {
     "name": "stderr",
     "output_type": "stream",
     "text": [
      "Epoch 49/150: 100%|██████████| 213/213 [01:05<00:00,  3.25batch/s, mae_loss=0.519]\n"
     ]
    },
    {
     "name": "stdout",
     "output_type": "stream",
     "text": [
      "Epoch [49/150], Training MAE: 0.5649, Training RMSE: 0.7794\n",
      "Epoch [49/150], Validation MAE: 0.5023, Validation RMSE: 0.7262\n"
     ]
    },
    {
     "name": "stderr",
     "output_type": "stream",
     "text": [
      "Epoch 50/150: 100%|██████████| 213/213 [01:05<00:00,  3.23batch/s, mae_loss=0.577]\n"
     ]
    },
    {
     "name": "stdout",
     "output_type": "stream",
     "text": [
      "Epoch [50/150], Training MAE: 0.5644, Training RMSE: 0.7786\n",
      "Epoch [50/150], Validation MAE: 0.5018, Validation RMSE: 0.7253\n"
     ]
    },
    {
     "name": "stderr",
     "output_type": "stream",
     "text": [
      "Epoch 51/150: 100%|██████████| 213/213 [01:26<00:00,  2.48batch/s, mae_loss=0.588]\n"
     ]
    },
    {
     "name": "stdout",
     "output_type": "stream",
     "text": [
      "Epoch [51/150], Training MAE: 0.5639, Training RMSE: 0.7783\n",
      "Epoch [51/150], Validation MAE: 0.5007, Validation RMSE: 0.7239\n"
     ]
    },
    {
     "name": "stderr",
     "output_type": "stream",
     "text": [
      "Epoch 52/150: 100%|██████████| 213/213 [01:16<00:00,  2.78batch/s, mae_loss=0.595]\n"
     ]
    },
    {
     "name": "stdout",
     "output_type": "stream",
     "text": [
      "Epoch [52/150], Training MAE: 0.5637, Training RMSE: 0.7785\n",
      "Epoch [52/150], Validation MAE: 0.5005, Validation RMSE: 0.7240\n"
     ]
    },
    {
     "name": "stderr",
     "output_type": "stream",
     "text": [
      "Epoch 53/150: 100%|██████████| 213/213 [01:36<00:00,  2.21batch/s, mae_loss=0.522]\n"
     ]
    },
    {
     "name": "stdout",
     "output_type": "stream",
     "text": [
      "Epoch [53/150], Training MAE: 0.5627, Training RMSE: 0.7768\n",
      "Epoch [53/150], Validation MAE: 0.4992, Validation RMSE: 0.7221\n"
     ]
    },
    {
     "name": "stderr",
     "output_type": "stream",
     "text": [
      "Epoch 54/150: 100%|██████████| 213/213 [01:37<00:00,  2.19batch/s, mae_loss=0.469]\n"
     ]
    },
    {
     "name": "stdout",
     "output_type": "stream",
     "text": [
      "Epoch [54/150], Training MAE: 0.5619, Training RMSE: 0.7768\n",
      "Epoch [54/150], Validation MAE: 0.5020, Validation RMSE: 0.7244\n"
     ]
    },
    {
     "name": "stderr",
     "output_type": "stream",
     "text": [
      "Epoch 55/150: 100%|██████████| 213/213 [01:28<00:00,  2.41batch/s, mae_loss=0.581]\n"
     ]
    },
    {
     "name": "stdout",
     "output_type": "stream",
     "text": [
      "Epoch [55/150], Training MAE: 0.5610, Training RMSE: 0.7754\n",
      "Epoch [55/150], Validation MAE: 0.5016, Validation RMSE: 0.7261\n"
     ]
    },
    {
     "name": "stderr",
     "output_type": "stream",
     "text": [
      "Epoch 56/150: 100%|██████████| 213/213 [01:09<00:00,  3.05batch/s, mae_loss=0.549]\n"
     ]
    },
    {
     "name": "stdout",
     "output_type": "stream",
     "text": [
      "Epoch [56/150], Training MAE: 0.5601, Training RMSE: 0.7749\n",
      "Epoch [56/150], Validation MAE: 0.5014, Validation RMSE: 0.7250\n"
     ]
    },
    {
     "name": "stderr",
     "output_type": "stream",
     "text": [
      "Epoch 57/150: 100%|██████████| 213/213 [01:38<00:00,  2.16batch/s, mae_loss=0.528]\n"
     ]
    },
    {
     "name": "stdout",
     "output_type": "stream",
     "text": [
      "Epoch [57/150], Training MAE: 0.5595, Training RMSE: 0.7736\n",
      "Epoch [57/150], Validation MAE: 0.5021, Validation RMSE: 0.7252\n"
     ]
    },
    {
     "name": "stderr",
     "output_type": "stream",
     "text": [
      "Epoch 58/150: 100%|██████████| 213/213 [01:35<00:00,  2.24batch/s, mae_loss=0.527]\n"
     ]
    },
    {
     "name": "stdout",
     "output_type": "stream",
     "text": [
      "Epoch [58/150], Training MAE: 0.5593, Training RMSE: 0.7732\n",
      "Epoch [58/150], Validation MAE: 0.5005, Validation RMSE: 0.7232\n"
     ]
    },
    {
     "name": "stderr",
     "output_type": "stream",
     "text": [
      "Epoch 59/150: 100%|██████████| 213/213 [01:05<00:00,  3.25batch/s, mae_loss=0.539]\n"
     ]
    },
    {
     "name": "stdout",
     "output_type": "stream",
     "text": [
      "Epoch [59/150], Training MAE: 0.5583, Training RMSE: 0.7725\n",
      "Epoch [59/150], Validation MAE: 0.5015, Validation RMSE: 0.7234\n"
     ]
    },
    {
     "name": "stderr",
     "output_type": "stream",
     "text": [
      "Epoch 60/150: 100%|██████████| 213/213 [01:34<00:00,  2.26batch/s, mae_loss=0.568]\n"
     ]
    },
    {
     "name": "stdout",
     "output_type": "stream",
     "text": [
      "Epoch [60/150], Training MAE: 0.5585, Training RMSE: 0.7726\n",
      "Epoch [60/150], Validation MAE: 0.5035, Validation RMSE: 0.7267\n"
     ]
    },
    {
     "name": "stderr",
     "output_type": "stream",
     "text": [
      "Epoch 61/150: 100%|██████████| 213/213 [01:39<00:00,  2.14batch/s, mae_loss=0.579]\n"
     ]
    },
    {
     "name": "stdout",
     "output_type": "stream",
     "text": [
      "Epoch [61/150], Training MAE: 0.5571, Training RMSE: 0.7708\n",
      "Epoch [61/150], Validation MAE: 0.5030, Validation RMSE: 0.7266\n"
     ]
    },
    {
     "name": "stderr",
     "output_type": "stream",
     "text": [
      "Epoch 62/150: 100%|██████████| 213/213 [01:36<00:00,  2.22batch/s, mae_loss=0.576]\n"
     ]
    },
    {
     "name": "stdout",
     "output_type": "stream",
     "text": [
      "Epoch [62/150], Training MAE: 0.5572, Training RMSE: 0.7713\n",
      "Epoch [62/150], Validation MAE: 0.5023, Validation RMSE: 0.7264\n"
     ]
    },
    {
     "name": "stderr",
     "output_type": "stream",
     "text": [
      "Epoch 63/150: 100%|██████████| 213/213 [01:08<00:00,  3.11batch/s, mae_loss=0.518]\n"
     ]
    },
    {
     "name": "stdout",
     "output_type": "stream",
     "text": [
      "Epoch [63/150], Training MAE: 0.5559, Training RMSE: 0.7692\n",
      "Epoch [63/150], Validation MAE: 0.5039, Validation RMSE: 0.7253\n"
     ]
    },
    {
     "name": "stderr",
     "output_type": "stream",
     "text": [
      "Epoch 64/150: 100%|██████████| 213/213 [01:20<00:00,  2.66batch/s, mae_loss=0.546]\n"
     ]
    },
    {
     "name": "stdout",
     "output_type": "stream",
     "text": [
      "Epoch [64/150], Training MAE: 0.5556, Training RMSE: 0.7689\n",
      "Epoch [64/150], Validation MAE: 0.5021, Validation RMSE: 0.7252\n"
     ]
    },
    {
     "name": "stderr",
     "output_type": "stream",
     "text": [
      "Epoch 65/150: 100%|██████████| 213/213 [00:48<00:00,  4.40batch/s, mae_loss=0.603]\n"
     ]
    },
    {
     "name": "stdout",
     "output_type": "stream",
     "text": [
      "Epoch [65/150], Training MAE: 0.5553, Training RMSE: 0.7690\n",
      "Epoch [65/150], Validation MAE: 0.5025, Validation RMSE: 0.7247\n"
     ]
    },
    {
     "name": "stderr",
     "output_type": "stream",
     "text": [
      "Epoch 66/150: 100%|██████████| 213/213 [01:07<00:00,  3.14batch/s, mae_loss=0.604]\n"
     ]
    },
    {
     "name": "stdout",
     "output_type": "stream",
     "text": [
      "Epoch [66/150], Training MAE: 0.5542, Training RMSE: 0.7676\n",
      "Epoch [66/150], Validation MAE: 0.5039, Validation RMSE: 0.7263\n"
     ]
    },
    {
     "name": "stderr",
     "output_type": "stream",
     "text": [
      "Epoch 67/150: 100%|██████████| 213/213 [00:31<00:00,  6.68batch/s, mae_loss=0.536]\n"
     ]
    },
    {
     "name": "stdout",
     "output_type": "stream",
     "text": [
      "Epoch [67/150], Training MAE: 0.5533, Training RMSE: 0.7668\n",
      "Epoch [67/150], Validation MAE: 0.5036, Validation RMSE: 0.7251\n"
     ]
    },
    {
     "name": "stderr",
     "output_type": "stream",
     "text": [
      "Epoch 68/150: 100%|██████████| 213/213 [00:26<00:00,  8.12batch/s, mae_loss=0.51] \n"
     ]
    },
    {
     "name": "stdout",
     "output_type": "stream",
     "text": [
      "Epoch [68/150], Training MAE: 0.5528, Training RMSE: 0.7664\n",
      "Epoch [68/150], Validation MAE: 0.5055, Validation RMSE: 0.7271\n"
     ]
    },
    {
     "name": "stderr",
     "output_type": "stream",
     "text": [
      "Epoch 69/150: 100%|██████████| 213/213 [00:24<00:00,  8.60batch/s, mae_loss=0.568]\n"
     ]
    },
    {
     "name": "stdout",
     "output_type": "stream",
     "text": [
      "Epoch [69/150], Training MAE: 0.5523, Training RMSE: 0.7657\n",
      "Epoch [69/150], Validation MAE: 0.5020, Validation RMSE: 0.7243\n"
     ]
    },
    {
     "name": "stderr",
     "output_type": "stream",
     "text": [
      "Epoch 70/150: 100%|██████████| 213/213 [00:27<00:00,  7.83batch/s, mae_loss=0.577]\n"
     ]
    },
    {
     "name": "stdout",
     "output_type": "stream",
     "text": [
      "Epoch [70/150], Training MAE: 0.5516, Training RMSE: 0.7649\n",
      "Epoch [70/150], Validation MAE: 0.5031, Validation RMSE: 0.7261\n"
     ]
    },
    {
     "name": "stderr",
     "output_type": "stream",
     "text": [
      "Epoch 71/150: 100%|██████████| 213/213 [00:24<00:00,  8.64batch/s, mae_loss=0.586]\n"
     ]
    },
    {
     "name": "stdout",
     "output_type": "stream",
     "text": [
      "Epoch [71/150], Training MAE: 0.5508, Training RMSE: 0.7634\n",
      "Epoch [71/150], Validation MAE: 0.5045, Validation RMSE: 0.7267\n"
     ]
    },
    {
     "name": "stderr",
     "output_type": "stream",
     "text": [
      "Epoch 72/150: 100%|██████████| 213/213 [00:25<00:00,  8.27batch/s, mae_loss=0.535]\n"
     ]
    },
    {
     "name": "stdout",
     "output_type": "stream",
     "text": [
      "Epoch [72/150], Training MAE: 0.5499, Training RMSE: 0.7634\n",
      "Epoch [72/150], Validation MAE: 0.5051, Validation RMSE: 0.7279\n"
     ]
    },
    {
     "name": "stderr",
     "output_type": "stream",
     "text": [
      "Epoch 73/150: 100%|██████████| 213/213 [00:25<00:00,  8.46batch/s, mae_loss=0.516]\n"
     ]
    },
    {
     "name": "stdout",
     "output_type": "stream",
     "text": [
      "Epoch [73/150], Training MAE: 0.5490, Training RMSE: 0.7617\n",
      "Epoch [73/150], Validation MAE: 0.5053, Validation RMSE: 0.7273\n"
     ]
    },
    {
     "name": "stderr",
     "output_type": "stream",
     "text": [
      "Epoch 74/150: 100%|██████████| 213/213 [00:24<00:00,  8.53batch/s, mae_loss=0.563]\n"
     ]
    },
    {
     "name": "stdout",
     "output_type": "stream",
     "text": [
      "Epoch [74/150], Training MAE: 0.5490, Training RMSE: 0.7621\n",
      "Epoch [74/150], Validation MAE: 0.5079, Validation RMSE: 0.7310\n"
     ]
    },
    {
     "name": "stderr",
     "output_type": "stream",
     "text": [
      "Epoch 75/150: 100%|██████████| 213/213 [00:25<00:00,  8.39batch/s, mae_loss=0.571]\n"
     ]
    },
    {
     "name": "stdout",
     "output_type": "stream",
     "text": [
      "Epoch [75/150], Training MAE: 0.5480, Training RMSE: 0.7606\n",
      "Epoch [75/150], Validation MAE: 0.5056, Validation RMSE: 0.7265\n"
     ]
    },
    {
     "name": "stderr",
     "output_type": "stream",
     "text": [
      "Epoch 76/150: 100%|██████████| 213/213 [00:24<00:00,  8.56batch/s, mae_loss=0.543]\n"
     ]
    },
    {
     "name": "stdout",
     "output_type": "stream",
     "text": [
      "Epoch [76/150], Training MAE: 0.5472, Training RMSE: 0.7599\n",
      "Epoch [76/150], Validation MAE: 0.5042, Validation RMSE: 0.7264\n"
     ]
    },
    {
     "name": "stderr",
     "output_type": "stream",
     "text": [
      "Epoch 77/150: 100%|██████████| 213/213 [00:25<00:00,  8.38batch/s, mae_loss=0.51] \n"
     ]
    },
    {
     "name": "stdout",
     "output_type": "stream",
     "text": [
      "Epoch [77/150], Training MAE: 0.5469, Training RMSE: 0.7599\n",
      "Epoch [77/150], Validation MAE: 0.5073, Validation RMSE: 0.7288\n"
     ]
    },
    {
     "name": "stderr",
     "output_type": "stream",
     "text": [
      "Epoch 78/150: 100%|██████████| 213/213 [00:24<00:00,  8.66batch/s, mae_loss=0.601]\n"
     ]
    },
    {
     "name": "stdout",
     "output_type": "stream",
     "text": [
      "Epoch [78/150], Training MAE: 0.5461, Training RMSE: 0.7586\n",
      "Epoch [78/150], Validation MAE: 0.5071, Validation RMSE: 0.7277\n"
     ]
    },
    {
     "name": "stderr",
     "output_type": "stream",
     "text": [
      "Epoch 79/150: 100%|██████████| 213/213 [00:24<00:00,  8.58batch/s, mae_loss=0.569]\n"
     ]
    },
    {
     "name": "stdout",
     "output_type": "stream",
     "text": [
      "Epoch [79/150], Training MAE: 0.5455, Training RMSE: 0.7585\n",
      "Epoch [79/150], Validation MAE: 0.5071, Validation RMSE: 0.7279\n"
     ]
    },
    {
     "name": "stderr",
     "output_type": "stream",
     "text": [
      "Epoch 80/150: 100%|██████████| 213/213 [00:25<00:00,  8.48batch/s, mae_loss=0.609]\n"
     ]
    },
    {
     "name": "stdout",
     "output_type": "stream",
     "text": [
      "Epoch [80/150], Training MAE: 0.5454, Training RMSE: 0.7574\n",
      "Epoch [80/150], Validation MAE: 0.5076, Validation RMSE: 0.7292\n"
     ]
    },
    {
     "name": "stderr",
     "output_type": "stream",
     "text": [
      "Epoch 81/150: 100%|██████████| 213/213 [00:25<00:00,  8.40batch/s, mae_loss=0.565]\n"
     ]
    },
    {
     "name": "stdout",
     "output_type": "stream",
     "text": [
      "Epoch [81/150], Training MAE: 0.5442, Training RMSE: 0.7568\n",
      "Epoch [81/150], Validation MAE: 0.5083, Validation RMSE: 0.7285\n"
     ]
    },
    {
     "name": "stderr",
     "output_type": "stream",
     "text": [
      "Epoch 82/150: 100%|██████████| 213/213 [00:25<00:00,  8.27batch/s, mae_loss=0.556]\n"
     ]
    },
    {
     "name": "stdout",
     "output_type": "stream",
     "text": [
      "Epoch [82/150], Training MAE: 0.5432, Training RMSE: 0.7553\n",
      "Epoch [82/150], Validation MAE: 0.5087, Validation RMSE: 0.7302\n"
     ]
    },
    {
     "name": "stderr",
     "output_type": "stream",
     "text": [
      "Epoch 83/150: 100%|██████████| 213/213 [00:26<00:00,  8.06batch/s, mae_loss=0.571]\n"
     ]
    },
    {
     "name": "stdout",
     "output_type": "stream",
     "text": [
      "Epoch [83/150], Training MAE: 0.5427, Training RMSE: 0.7545\n",
      "Epoch [83/150], Validation MAE: 0.5074, Validation RMSE: 0.7288\n"
     ]
    },
    {
     "name": "stderr",
     "output_type": "stream",
     "text": [
      "Epoch 84/150: 100%|██████████| 213/213 [00:26<00:00,  8.09batch/s, mae_loss=0.526]\n"
     ]
    },
    {
     "name": "stdout",
     "output_type": "stream",
     "text": [
      "Epoch [84/150], Training MAE: 0.5422, Training RMSE: 0.7540\n",
      "Epoch [84/150], Validation MAE: 0.5084, Validation RMSE: 0.7289\n"
     ]
    },
    {
     "name": "stderr",
     "output_type": "stream",
     "text": [
      "Epoch 85/150: 100%|██████████| 213/213 [00:24<00:00,  8.64batch/s, mae_loss=0.566]\n"
     ]
    },
    {
     "name": "stdout",
     "output_type": "stream",
     "text": [
      "Epoch [85/150], Training MAE: 0.5422, Training RMSE: 0.7542\n",
      "Epoch [85/150], Validation MAE: 0.5073, Validation RMSE: 0.7292\n"
     ]
    },
    {
     "name": "stderr",
     "output_type": "stream",
     "text": [
      "Epoch 86/150: 100%|██████████| 213/213 [00:24<00:00,  8.61batch/s, mae_loss=0.562]\n"
     ]
    },
    {
     "name": "stdout",
     "output_type": "stream",
     "text": [
      "Epoch [86/150], Training MAE: 0.5411, Training RMSE: 0.7528\n",
      "Epoch [86/150], Validation MAE: 0.5098, Validation RMSE: 0.7320\n"
     ]
    },
    {
     "name": "stderr",
     "output_type": "stream",
     "text": [
      "Epoch 87/150: 100%|██████████| 213/213 [00:25<00:00,  8.49batch/s, mae_loss=0.497]\n"
     ]
    },
    {
     "name": "stdout",
     "output_type": "stream",
     "text": [
      "Epoch [87/150], Training MAE: 0.5399, Training RMSE: 0.7519\n",
      "Epoch [87/150], Validation MAE: 0.5090, Validation RMSE: 0.7298\n"
     ]
    },
    {
     "name": "stderr",
     "output_type": "stream",
     "text": [
      "Epoch 88/150: 100%|██████████| 213/213 [00:24<00:00,  8.63batch/s, mae_loss=0.523]\n"
     ]
    },
    {
     "name": "stdout",
     "output_type": "stream",
     "text": [
      "Epoch [88/150], Training MAE: 0.5390, Training RMSE: 0.7507\n",
      "Epoch [88/150], Validation MAE: 0.5115, Validation RMSE: 0.7318\n"
     ]
    },
    {
     "name": "stderr",
     "output_type": "stream",
     "text": [
      "Epoch 89/150: 100%|██████████| 213/213 [00:25<00:00,  8.45batch/s, mae_loss=0.531]\n"
     ]
    },
    {
     "name": "stdout",
     "output_type": "stream",
     "text": [
      "Epoch [89/150], Training MAE: 0.5381, Training RMSE: 0.7497\n",
      "Epoch [89/150], Validation MAE: 0.5101, Validation RMSE: 0.7308\n"
     ]
    },
    {
     "name": "stderr",
     "output_type": "stream",
     "text": [
      "Epoch 90/150: 100%|██████████| 213/213 [00:24<00:00,  8.70batch/s, mae_loss=0.599]\n"
     ]
    },
    {
     "name": "stdout",
     "output_type": "stream",
     "text": [
      "Epoch [90/150], Training MAE: 0.5377, Training RMSE: 0.7492\n",
      "Epoch [90/150], Validation MAE: 0.5130, Validation RMSE: 0.7331\n"
     ]
    },
    {
     "name": "stderr",
     "output_type": "stream",
     "text": [
      "Epoch 91/150: 100%|██████████| 213/213 [00:25<00:00,  8.45batch/s, mae_loss=0.582]\n"
     ]
    },
    {
     "name": "stdout",
     "output_type": "stream",
     "text": [
      "Epoch [91/150], Training MAE: 0.5375, Training RMSE: 0.7487\n",
      "Epoch [91/150], Validation MAE: 0.5115, Validation RMSE: 0.7308\n"
     ]
    },
    {
     "name": "stderr",
     "output_type": "stream",
     "text": [
      "Epoch 92/150: 100%|██████████| 213/213 [00:25<00:00,  8.46batch/s, mae_loss=0.493]\n"
     ]
    },
    {
     "name": "stdout",
     "output_type": "stream",
     "text": [
      "Epoch [92/150], Training MAE: 0.5360, Training RMSE: 0.7476\n",
      "Epoch [92/150], Validation MAE: 0.5133, Validation RMSE: 0.7325\n"
     ]
    },
    {
     "name": "stderr",
     "output_type": "stream",
     "text": [
      "Epoch 93/150: 100%|██████████| 213/213 [00:24<00:00,  8.60batch/s, mae_loss=0.542]\n"
     ]
    },
    {
     "name": "stdout",
     "output_type": "stream",
     "text": [
      "Epoch [93/150], Training MAE: 0.5354, Training RMSE: 0.7467\n",
      "Epoch [93/150], Validation MAE: 0.5131, Validation RMSE: 0.7351\n"
     ]
    },
    {
     "name": "stderr",
     "output_type": "stream",
     "text": [
      "Epoch 94/150: 100%|██████████| 213/213 [00:25<00:00,  8.30batch/s, mae_loss=0.517]\n"
     ]
    },
    {
     "name": "stdout",
     "output_type": "stream",
     "text": [
      "Epoch [94/150], Training MAE: 0.5348, Training RMSE: 0.7460\n",
      "Epoch [94/150], Validation MAE: 0.5135, Validation RMSE: 0.7324\n"
     ]
    },
    {
     "name": "stderr",
     "output_type": "stream",
     "text": [
      "Epoch 95/150: 100%|██████████| 213/213 [00:24<00:00,  8.53batch/s, mae_loss=0.569]\n"
     ]
    },
    {
     "name": "stdout",
     "output_type": "stream",
     "text": [
      "Epoch [95/150], Training MAE: 0.5345, Training RMSE: 0.7457\n",
      "Epoch [95/150], Validation MAE: 0.5130, Validation RMSE: 0.7327\n"
     ]
    },
    {
     "name": "stderr",
     "output_type": "stream",
     "text": [
      "Epoch 96/150: 100%|██████████| 213/213 [00:25<00:00,  8.44batch/s, mae_loss=0.475]\n"
     ]
    },
    {
     "name": "stdout",
     "output_type": "stream",
     "text": [
      "Epoch [96/150], Training MAE: 0.5333, Training RMSE: 0.7443\n",
      "Epoch [96/150], Validation MAE: 0.5155, Validation RMSE: 0.7345\n"
     ]
    },
    {
     "name": "stderr",
     "output_type": "stream",
     "text": [
      "Epoch 97/150: 100%|██████████| 213/213 [00:24<00:00,  8.68batch/s, mae_loss=0.52] \n"
     ]
    },
    {
     "name": "stdout",
     "output_type": "stream",
     "text": [
      "Epoch [97/150], Training MAE: 0.5327, Training RMSE: 0.7434\n",
      "Epoch [97/150], Validation MAE: 0.5142, Validation RMSE: 0.7346\n"
     ]
    },
    {
     "name": "stderr",
     "output_type": "stream",
     "text": [
      "Epoch 98/150: 100%|██████████| 213/213 [00:25<00:00,  8.41batch/s, mae_loss=0.502]\n"
     ]
    },
    {
     "name": "stdout",
     "output_type": "stream",
     "text": [
      "Epoch [98/150], Training MAE: 0.5325, Training RMSE: 0.7433\n",
      "Epoch [98/150], Validation MAE: 0.5148, Validation RMSE: 0.7346\n"
     ]
    },
    {
     "name": "stderr",
     "output_type": "stream",
     "text": [
      "Epoch 99/150: 100%|██████████| 213/213 [00:24<00:00,  8.66batch/s, mae_loss=0.522]\n"
     ]
    },
    {
     "name": "stdout",
     "output_type": "stream",
     "text": [
      "Epoch [99/150], Training MAE: 0.5312, Training RMSE: 0.7417\n",
      "Epoch [99/150], Validation MAE: 0.5162, Validation RMSE: 0.7352\n"
     ]
    },
    {
     "name": "stderr",
     "output_type": "stream",
     "text": [
      "Epoch 100/150: 100%|██████████| 213/213 [00:25<00:00,  8.52batch/s, mae_loss=0.553]\n"
     ]
    },
    {
     "name": "stdout",
     "output_type": "stream",
     "text": [
      "Epoch [100/150], Training MAE: 0.5307, Training RMSE: 0.7414\n",
      "Epoch [100/150], Validation MAE: 0.5166, Validation RMSE: 0.7358\n"
     ]
    },
    {
     "name": "stderr",
     "output_type": "stream",
     "text": [
      "Epoch 101/150: 100%|██████████| 213/213 [00:25<00:00,  8.47batch/s, mae_loss=0.521]\n"
     ]
    },
    {
     "name": "stdout",
     "output_type": "stream",
     "text": [
      "Epoch [101/150], Training MAE: 0.5296, Training RMSE: 0.7402\n",
      "Epoch [101/150], Validation MAE: 0.5177, Validation RMSE: 0.7367\n"
     ]
    },
    {
     "name": "stderr",
     "output_type": "stream",
     "text": [
      "Epoch 102/150: 100%|██████████| 213/213 [00:24<00:00,  8.56batch/s, mae_loss=0.519]\n"
     ]
    },
    {
     "name": "stdout",
     "output_type": "stream",
     "text": [
      "Epoch [102/150], Training MAE: 0.5289, Training RMSE: 0.7392\n",
      "Epoch [102/150], Validation MAE: 0.5153, Validation RMSE: 0.7346\n"
     ]
    },
    {
     "name": "stderr",
     "output_type": "stream",
     "text": [
      "Epoch 103/150: 100%|██████████| 213/213 [00:25<00:00,  8.23batch/s, mae_loss=0.464]\n"
     ]
    },
    {
     "name": "stdout",
     "output_type": "stream",
     "text": [
      "Epoch [103/150], Training MAE: 0.5281, Training RMSE: 0.7381\n",
      "Epoch [103/150], Validation MAE: 0.5202, Validation RMSE: 0.7377\n"
     ]
    },
    {
     "name": "stderr",
     "output_type": "stream",
     "text": [
      "Epoch 104/150: 100%|██████████| 213/213 [00:24<00:00,  8.64batch/s, mae_loss=0.566]\n"
     ]
    },
    {
     "name": "stdout",
     "output_type": "stream",
     "text": [
      "Epoch [104/150], Training MAE: 0.5277, Training RMSE: 0.7377\n",
      "Epoch [104/150], Validation MAE: 0.5185, Validation RMSE: 0.7376\n"
     ]
    },
    {
     "name": "stderr",
     "output_type": "stream",
     "text": [
      "Epoch 105/150: 100%|██████████| 213/213 [00:25<00:00,  8.26batch/s, mae_loss=0.523]\n"
     ]
    },
    {
     "name": "stdout",
     "output_type": "stream",
     "text": [
      "Epoch [105/150], Training MAE: 0.5268, Training RMSE: 0.7370\n",
      "Epoch [105/150], Validation MAE: 0.5203, Validation RMSE: 0.7382\n"
     ]
    },
    {
     "name": "stderr",
     "output_type": "stream",
     "text": [
      "Epoch 106/150: 100%|██████████| 213/213 [00:24<00:00,  8.57batch/s, mae_loss=0.546]\n"
     ]
    },
    {
     "name": "stdout",
     "output_type": "stream",
     "text": [
      "Epoch [106/150], Training MAE: 0.5261, Training RMSE: 0.7361\n",
      "Epoch [106/150], Validation MAE: 0.5188, Validation RMSE: 0.7380\n"
     ]
    },
    {
     "name": "stderr",
     "output_type": "stream",
     "text": [
      "Epoch 107/150: 100%|██████████| 213/213 [00:24<00:00,  8.55batch/s, mae_loss=0.527]\n"
     ]
    },
    {
     "name": "stdout",
     "output_type": "stream",
     "text": [
      "Epoch [107/150], Training MAE: 0.5254, Training RMSE: 0.7348\n",
      "Epoch [107/150], Validation MAE: 0.5189, Validation RMSE: 0.7383\n"
     ]
    },
    {
     "name": "stderr",
     "output_type": "stream",
     "text": [
      "Epoch 108/150: 100%|██████████| 213/213 [00:25<00:00,  8.43batch/s, mae_loss=0.535]\n"
     ]
    },
    {
     "name": "stdout",
     "output_type": "stream",
     "text": [
      "Epoch [108/150], Training MAE: 0.5245, Training RMSE: 0.7345\n",
      "Epoch [108/150], Validation MAE: 0.5202, Validation RMSE: 0.7381\n"
     ]
    },
    {
     "name": "stderr",
     "output_type": "stream",
     "text": [
      "Epoch 109/150: 100%|██████████| 213/213 [00:24<00:00,  8.54batch/s, mae_loss=0.503]\n"
     ]
    },
    {
     "name": "stdout",
     "output_type": "stream",
     "text": [
      "Epoch [109/150], Training MAE: 0.5238, Training RMSE: 0.7333\n",
      "Epoch [109/150], Validation MAE: 0.5214, Validation RMSE: 0.7398\n"
     ]
    },
    {
     "name": "stderr",
     "output_type": "stream",
     "text": [
      "Epoch 110/150: 100%|██████████| 213/213 [00:25<00:00,  8.47batch/s, mae_loss=0.525]\n"
     ]
    },
    {
     "name": "stdout",
     "output_type": "stream",
     "text": [
      "Epoch [110/150], Training MAE: 0.5229, Training RMSE: 0.7325\n",
      "Epoch [110/150], Validation MAE: 0.5218, Validation RMSE: 0.7396\n"
     ]
    },
    {
     "name": "stderr",
     "output_type": "stream",
     "text": [
      "Epoch 111/150: 100%|██████████| 213/213 [00:24<00:00,  8.60batch/s, mae_loss=0.543]\n"
     ]
    },
    {
     "name": "stdout",
     "output_type": "stream",
     "text": [
      "Epoch [111/150], Training MAE: 0.5224, Training RMSE: 0.7318\n",
      "Epoch [111/150], Validation MAE: 0.5228, Validation RMSE: 0.7407\n"
     ]
    },
    {
     "name": "stderr",
     "output_type": "stream",
     "text": [
      "Epoch 112/150: 100%|██████████| 213/213 [00:25<00:00,  8.49batch/s, mae_loss=0.545]\n"
     ]
    },
    {
     "name": "stdout",
     "output_type": "stream",
     "text": [
      "Epoch [112/150], Training MAE: 0.5220, Training RMSE: 0.7311\n",
      "Epoch [112/150], Validation MAE: 0.5238, Validation RMSE: 0.7418\n"
     ]
    },
    {
     "name": "stderr",
     "output_type": "stream",
     "text": [
      "Epoch 113/150: 100%|██████████| 213/213 [00:25<00:00,  8.37batch/s, mae_loss=0.582]\n"
     ]
    },
    {
     "name": "stdout",
     "output_type": "stream",
     "text": [
      "Epoch [113/150], Training MAE: 0.5208, Training RMSE: 0.7299\n",
      "Epoch [113/150], Validation MAE: 0.5222, Validation RMSE: 0.7403\n"
     ]
    },
    {
     "name": "stderr",
     "output_type": "stream",
     "text": [
      "Epoch 114/150: 100%|██████████| 213/213 [00:24<00:00,  8.57batch/s, mae_loss=0.466]\n"
     ]
    },
    {
     "name": "stdout",
     "output_type": "stream",
     "text": [
      "Epoch [114/150], Training MAE: 0.5198, Training RMSE: 0.7289\n",
      "Epoch [114/150], Validation MAE: 0.5241, Validation RMSE: 0.7434\n"
     ]
    },
    {
     "name": "stderr",
     "output_type": "stream",
     "text": [
      "Epoch 115/150: 100%|██████████| 213/213 [00:26<00:00,  8.18batch/s, mae_loss=0.525]\n"
     ]
    },
    {
     "name": "stdout",
     "output_type": "stream",
     "text": [
      "Epoch [115/150], Training MAE: 0.5195, Training RMSE: 0.7283\n",
      "Epoch [115/150], Validation MAE: 0.5257, Validation RMSE: 0.7422\n"
     ]
    },
    {
     "name": "stderr",
     "output_type": "stream",
     "text": [
      "Epoch 116/150: 100%|██████████| 213/213 [00:24<00:00,  8.61batch/s, mae_loss=0.498]\n"
     ]
    },
    {
     "name": "stdout",
     "output_type": "stream",
     "text": [
      "Epoch [116/150], Training MAE: 0.5186, Training RMSE: 0.7274\n",
      "Epoch [116/150], Validation MAE: 0.5237, Validation RMSE: 0.7414\n"
     ]
    },
    {
     "name": "stderr",
     "output_type": "stream",
     "text": [
      "Epoch 117/150: 100%|██████████| 213/213 [00:25<00:00,  8.39batch/s, mae_loss=0.478]\n"
     ]
    },
    {
     "name": "stdout",
     "output_type": "stream",
     "text": [
      "Epoch [117/150], Training MAE: 0.5176, Training RMSE: 0.7265\n",
      "Epoch [117/150], Validation MAE: 0.5281, Validation RMSE: 0.7459\n"
     ]
    },
    {
     "name": "stderr",
     "output_type": "stream",
     "text": [
      "Epoch 118/150: 100%|██████████| 213/213 [00:24<00:00,  8.67batch/s, mae_loss=0.563]\n"
     ]
    },
    {
     "name": "stdout",
     "output_type": "stream",
     "text": [
      "Epoch [118/150], Training MAE: 0.5175, Training RMSE: 0.7259\n",
      "Epoch [118/150], Validation MAE: 0.5256, Validation RMSE: 0.7424\n"
     ]
    },
    {
     "name": "stderr",
     "output_type": "stream",
     "text": [
      "Epoch 119/150: 100%|██████████| 213/213 [00:25<00:00,  8.40batch/s, mae_loss=0.482]\n"
     ]
    },
    {
     "name": "stdout",
     "output_type": "stream",
     "text": [
      "Epoch [119/150], Training MAE: 0.5161, Training RMSE: 0.7250\n",
      "Epoch [119/150], Validation MAE: 0.5256, Validation RMSE: 0.7436\n"
     ]
    },
    {
     "name": "stderr",
     "output_type": "stream",
     "text": [
      "Epoch 120/150: 100%|██████████| 213/213 [00:24<00:00,  8.65batch/s, mae_loss=0.555]\n"
     ]
    },
    {
     "name": "stdout",
     "output_type": "stream",
     "text": [
      "Epoch [120/150], Training MAE: 0.5159, Training RMSE: 0.7243\n",
      "Epoch [120/150], Validation MAE: 0.5274, Validation RMSE: 0.7440\n"
     ]
    },
    {
     "name": "stderr",
     "output_type": "stream",
     "text": [
      "Epoch 121/150: 100%|██████████| 213/213 [00:25<00:00,  8.43batch/s, mae_loss=0.484]\n"
     ]
    },
    {
     "name": "stdout",
     "output_type": "stream",
     "text": [
      "Epoch [121/150], Training MAE: 0.5152, Training RMSE: 0.7237\n",
      "Epoch [121/150], Validation MAE: 0.5300, Validation RMSE: 0.7465\n"
     ]
    },
    {
     "name": "stderr",
     "output_type": "stream",
     "text": [
      "Epoch 122/150: 100%|██████████| 213/213 [00:25<00:00,  8.47batch/s, mae_loss=0.568]\n"
     ]
    },
    {
     "name": "stdout",
     "output_type": "stream",
     "text": [
      "Epoch [122/150], Training MAE: 0.5141, Training RMSE: 0.7225\n",
      "Epoch [122/150], Validation MAE: 0.5261, Validation RMSE: 0.7421\n"
     ]
    },
    {
     "name": "stderr",
     "output_type": "stream",
     "text": [
      "Epoch 123/150: 100%|██████████| 213/213 [00:24<00:00,  8.60batch/s, mae_loss=0.562]\n"
     ]
    },
    {
     "name": "stdout",
     "output_type": "stream",
     "text": [
      "Epoch [123/150], Training MAE: 0.5137, Training RMSE: 0.7215\n",
      "Epoch [123/150], Validation MAE: 0.5277, Validation RMSE: 0.7447\n"
     ]
    },
    {
     "name": "stderr",
     "output_type": "stream",
     "text": [
      "Epoch 124/150: 100%|██████████| 213/213 [00:25<00:00,  8.40batch/s, mae_loss=0.502]\n"
     ]
    },
    {
     "name": "stdout",
     "output_type": "stream",
     "text": [
      "Epoch [124/150], Training MAE: 0.5130, Training RMSE: 0.7209\n",
      "Epoch [124/150], Validation MAE: 0.5294, Validation RMSE: 0.7458\n"
     ]
    },
    {
     "name": "stderr",
     "output_type": "stream",
     "text": [
      "Epoch 125/150: 100%|██████████| 213/213 [00:25<00:00,  8.43batch/s, mae_loss=0.532]\n"
     ]
    },
    {
     "name": "stdout",
     "output_type": "stream",
     "text": [
      "Epoch [125/150], Training MAE: 0.5121, Training RMSE: 0.7198\n",
      "Epoch [125/150], Validation MAE: 0.5309, Validation RMSE: 0.7474\n"
     ]
    },
    {
     "name": "stderr",
     "output_type": "stream",
     "text": [
      "Epoch 126/150: 100%|██████████| 213/213 [00:25<00:00,  8.38batch/s, mae_loss=0.533]\n"
     ]
    },
    {
     "name": "stdout",
     "output_type": "stream",
     "text": [
      "Epoch [126/150], Training MAE: 0.5120, Training RMSE: 0.7197\n",
      "Epoch [126/150], Validation MAE: 0.5293, Validation RMSE: 0.7459\n"
     ]
    },
    {
     "name": "stderr",
     "output_type": "stream",
     "text": [
      "Epoch 127/150: 100%|██████████| 213/213 [00:25<00:00,  8.46batch/s, mae_loss=0.565]\n"
     ]
    },
    {
     "name": "stdout",
     "output_type": "stream",
     "text": [
      "Epoch [127/150], Training MAE: 0.5107, Training RMSE: 0.7188\n",
      "Epoch [127/150], Validation MAE: 0.5337, Validation RMSE: 0.7484\n"
     ]
    },
    {
     "name": "stderr",
     "output_type": "stream",
     "text": [
      "Epoch 128/150: 100%|██████████| 213/213 [00:24<00:00,  8.54batch/s, mae_loss=0.488]\n"
     ]
    },
    {
     "name": "stdout",
     "output_type": "stream",
     "text": [
      "Epoch [128/150], Training MAE: 0.5098, Training RMSE: 0.7176\n",
      "Epoch [128/150], Validation MAE: 0.5341, Validation RMSE: 0.7496\n"
     ]
    },
    {
     "name": "stderr",
     "output_type": "stream",
     "text": [
      "Epoch 129/150: 100%|██████████| 213/213 [00:25<00:00,  8.48batch/s, mae_loss=0.482]\n"
     ]
    },
    {
     "name": "stdout",
     "output_type": "stream",
     "text": [
      "Epoch [129/150], Training MAE: 0.5086, Training RMSE: 0.7161\n",
      "Epoch [129/150], Validation MAE: 0.5331, Validation RMSE: 0.7492\n"
     ]
    },
    {
     "name": "stderr",
     "output_type": "stream",
     "text": [
      "Epoch 130/150: 100%|██████████| 213/213 [00:24<00:00,  8.54batch/s, mae_loss=0.498]\n"
     ]
    },
    {
     "name": "stdout",
     "output_type": "stream",
     "text": [
      "Epoch [130/150], Training MAE: 0.5083, Training RMSE: 0.7153\n",
      "Epoch [130/150], Validation MAE: 0.5325, Validation RMSE: 0.7480\n"
     ]
    },
    {
     "name": "stderr",
     "output_type": "stream",
     "text": [
      "Epoch 131/150: 100%|██████████| 213/213 [00:25<00:00,  8.43batch/s, mae_loss=0.446]\n"
     ]
    },
    {
     "name": "stdout",
     "output_type": "stream",
     "text": [
      "Epoch [131/150], Training MAE: 0.5072, Training RMSE: 0.7145\n",
      "Epoch [131/150], Validation MAE: 0.5346, Validation RMSE: 0.7503\n"
     ]
    },
    {
     "name": "stderr",
     "output_type": "stream",
     "text": [
      "Epoch 132/150: 100%|██████████| 213/213 [00:24<00:00,  8.60batch/s, mae_loss=0.524]\n"
     ]
    },
    {
     "name": "stdout",
     "output_type": "stream",
     "text": [
      "Epoch [132/150], Training MAE: 0.5072, Training RMSE: 0.7141\n",
      "Epoch [132/150], Validation MAE: 0.5341, Validation RMSE: 0.7498\n"
     ]
    },
    {
     "name": "stderr",
     "output_type": "stream",
     "text": [
      "Epoch 133/150: 100%|██████████| 213/213 [00:25<00:00,  8.45batch/s, mae_loss=0.447]\n"
     ]
    },
    {
     "name": "stdout",
     "output_type": "stream",
     "text": [
      "Epoch [133/150], Training MAE: 0.5062, Training RMSE: 0.7137\n",
      "Epoch [133/150], Validation MAE: 0.5327, Validation RMSE: 0.7480\n"
     ]
    },
    {
     "name": "stderr",
     "output_type": "stream",
     "text": [
      "Epoch 134/150: 100%|██████████| 213/213 [00:24<00:00,  8.61batch/s, mae_loss=0.485]\n"
     ]
    },
    {
     "name": "stdout",
     "output_type": "stream",
     "text": [
      "Epoch [134/150], Training MAE: 0.5049, Training RMSE: 0.7121\n",
      "Epoch [134/150], Validation MAE: 0.5366, Validation RMSE: 0.7506\n"
     ]
    },
    {
     "name": "stderr",
     "output_type": "stream",
     "text": [
      "Epoch 135/150: 100%|██████████| 213/213 [00:25<00:00,  8.36batch/s, mae_loss=0.515]\n"
     ]
    },
    {
     "name": "stdout",
     "output_type": "stream",
     "text": [
      "Epoch [135/150], Training MAE: 0.5047, Training RMSE: 0.7120\n",
      "Epoch [135/150], Validation MAE: 0.5362, Validation RMSE: 0.7503\n"
     ]
    },
    {
     "name": "stderr",
     "output_type": "stream",
     "text": [
      "Epoch 136/150: 100%|██████████| 213/213 [00:25<00:00,  8.40batch/s, mae_loss=0.524]\n"
     ]
    },
    {
     "name": "stdout",
     "output_type": "stream",
     "text": [
      "Epoch [136/150], Training MAE: 0.5035, Training RMSE: 0.7105\n",
      "Epoch [136/150], Validation MAE: 0.5375, Validation RMSE: 0.7522\n"
     ]
    },
    {
     "name": "stderr",
     "output_type": "stream",
     "text": [
      "Epoch 137/150: 100%|██████████| 213/213 [00:25<00:00,  8.41batch/s, mae_loss=0.534]\n"
     ]
    },
    {
     "name": "stdout",
     "output_type": "stream",
     "text": [
      "Epoch [137/150], Training MAE: 0.5033, Training RMSE: 0.7096\n",
      "Epoch [137/150], Validation MAE: 0.5347, Validation RMSE: 0.7499\n"
     ]
    },
    {
     "name": "stderr",
     "output_type": "stream",
     "text": [
      "Epoch 138/150: 100%|██████████| 213/213 [00:25<00:00,  8.44batch/s, mae_loss=0.551]\n"
     ]
    },
    {
     "name": "stdout",
     "output_type": "stream",
     "text": [
      "Epoch [138/150], Training MAE: 0.5025, Training RMSE: 0.7089\n",
      "Epoch [138/150], Validation MAE: 0.5369, Validation RMSE: 0.7514\n"
     ]
    },
    {
     "name": "stderr",
     "output_type": "stream",
     "text": [
      "Epoch 139/150: 100%|██████████| 213/213 [00:24<00:00,  8.59batch/s, mae_loss=0.476]\n"
     ]
    },
    {
     "name": "stdout",
     "output_type": "stream",
     "text": [
      "Epoch [139/150], Training MAE: 0.5017, Training RMSE: 0.7077\n",
      "Epoch [139/150], Validation MAE: 0.5377, Validation RMSE: 0.7519\n"
     ]
    },
    {
     "name": "stderr",
     "output_type": "stream",
     "text": [
      "Epoch 140/150: 100%|██████████| 213/213 [00:25<00:00,  8.36batch/s, mae_loss=0.474]\n"
     ]
    },
    {
     "name": "stdout",
     "output_type": "stream",
     "text": [
      "Epoch [140/150], Training MAE: 0.5003, Training RMSE: 0.7063\n",
      "Epoch [140/150], Validation MAE: 0.5402, Validation RMSE: 0.7542\n"
     ]
    },
    {
     "name": "stderr",
     "output_type": "stream",
     "text": [
      "Epoch 141/150: 100%|██████████| 213/213 [00:24<00:00,  8.66batch/s, mae_loss=0.474]\n"
     ]
    },
    {
     "name": "stdout",
     "output_type": "stream",
     "text": [
      "Epoch [141/150], Training MAE: 0.4998, Training RMSE: 0.7060\n",
      "Epoch [141/150], Validation MAE: 0.5380, Validation RMSE: 0.7522\n"
     ]
    },
    {
     "name": "stderr",
     "output_type": "stream",
     "text": [
      "Epoch 142/150: 100%|██████████| 213/213 [00:24<00:00,  8.61batch/s, mae_loss=0.515]\n"
     ]
    },
    {
     "name": "stdout",
     "output_type": "stream",
     "text": [
      "Epoch [142/150], Training MAE: 0.4989, Training RMSE: 0.7047\n",
      "Epoch [142/150], Validation MAE: 0.5381, Validation RMSE: 0.7513\n"
     ]
    },
    {
     "name": "stderr",
     "output_type": "stream",
     "text": [
      "Epoch 143/150: 100%|██████████| 213/213 [00:25<00:00,  8.45batch/s, mae_loss=0.533]\n"
     ]
    },
    {
     "name": "stdout",
     "output_type": "stream",
     "text": [
      "Epoch [143/150], Training MAE: 0.4984, Training RMSE: 0.7040\n",
      "Epoch [143/150], Validation MAE: 0.5398, Validation RMSE: 0.7549\n"
     ]
    },
    {
     "name": "stderr",
     "output_type": "stream",
     "text": [
      "Epoch 144/150: 100%|██████████| 213/213 [00:24<00:00,  8.54batch/s, mae_loss=0.499]\n"
     ]
    },
    {
     "name": "stdout",
     "output_type": "stream",
     "text": [
      "Epoch [144/150], Training MAE: 0.4981, Training RMSE: 0.7035\n",
      "Epoch [144/150], Validation MAE: 0.5418, Validation RMSE: 0.7573\n"
     ]
    },
    {
     "name": "stderr",
     "output_type": "stream",
     "text": [
      "Epoch 145/150: 100%|██████████| 213/213 [00:25<00:00,  8.21batch/s, mae_loss=0.497]\n"
     ]
    },
    {
     "name": "stdout",
     "output_type": "stream",
     "text": [
      "Epoch [145/150], Training MAE: 0.4971, Training RMSE: 0.7026\n",
      "Epoch [145/150], Validation MAE: 0.5414, Validation RMSE: 0.7544\n"
     ]
    },
    {
     "name": "stderr",
     "output_type": "stream",
     "text": [
      "Epoch 146/150: 100%|██████████| 213/213 [00:25<00:00,  8.50batch/s, mae_loss=0.547]\n"
     ]
    },
    {
     "name": "stdout",
     "output_type": "stream",
     "text": [
      "Epoch [146/150], Training MAE: 0.4963, Training RMSE: 0.7013\n",
      "Epoch [146/150], Validation MAE: 0.5428, Validation RMSE: 0.7589\n"
     ]
    },
    {
     "name": "stderr",
     "output_type": "stream",
     "text": [
      "Epoch 147/150: 100%|██████████| 213/213 [00:25<00:00,  8.19batch/s, mae_loss=0.498]\n"
     ]
    },
    {
     "name": "stdout",
     "output_type": "stream",
     "text": [
      "Epoch [147/150], Training MAE: 0.4954, Training RMSE: 0.7004\n",
      "Epoch [147/150], Validation MAE: 0.5424, Validation RMSE: 0.7558\n"
     ]
    },
    {
     "name": "stderr",
     "output_type": "stream",
     "text": [
      "Epoch 148/150: 100%|██████████| 213/213 [00:24<00:00,  8.63batch/s, mae_loss=0.501]\n"
     ]
    },
    {
     "name": "stdout",
     "output_type": "stream",
     "text": [
      "Epoch [148/150], Training MAE: 0.4943, Training RMSE: 0.6993\n",
      "Epoch [148/150], Validation MAE: 0.5438, Validation RMSE: 0.7572\n"
     ]
    },
    {
     "name": "stderr",
     "output_type": "stream",
     "text": [
      "Epoch 149/150: 100%|██████████| 213/213 [00:24<00:00,  8.59batch/s, mae_loss=0.492]\n"
     ]
    },
    {
     "name": "stdout",
     "output_type": "stream",
     "text": [
      "Epoch [149/150], Training MAE: 0.4938, Training RMSE: 0.6982\n",
      "Epoch [149/150], Validation MAE: 0.5447, Validation RMSE: 0.7576\n"
     ]
    },
    {
     "name": "stderr",
     "output_type": "stream",
     "text": [
      "Epoch 150/150: 100%|██████████| 213/213 [00:25<00:00,  8.39batch/s, mae_loss=0.48] \n"
     ]
    },
    {
     "name": "stdout",
     "output_type": "stream",
     "text": [
      "Epoch [150/150], Training MAE: 0.4926, Training RMSE: 0.6974\n",
      "Epoch [150/150], Validation MAE: 0.5427, Validation RMSE: 0.7552\n",
      "End Prediction Horizon of 24 of shared-layer Model\n",
      "model_shared-layer_attention_24_3 saved\n",
      "Start Prediction Horizon 24 of shared-layer model\n"
     ]
    },
    {
     "name": "stderr",
     "output_type": "stream",
     "text": [
      "Epoch 1/150: 100%|██████████| 213/213 [00:25<00:00,  8.51batch/s, mae_loss=0.698]\n"
     ]
    },
    {
     "name": "stdout",
     "output_type": "stream",
     "text": [
      "Epoch [1/150], Training MAE: 0.6898, Training RMSE: 0.9145\n",
      "Epoch [1/150], Validation MAE: 0.5495, Validation RMSE: 0.8023\n"
     ]
    },
    {
     "name": "stderr",
     "output_type": "stream",
     "text": [
      "Epoch 2/150: 100%|██████████| 213/213 [00:25<00:00,  8.42batch/s, mae_loss=0.652]\n"
     ]
    },
    {
     "name": "stdout",
     "output_type": "stream",
     "text": [
      "Epoch [2/150], Training MAE: 0.6625, Training RMSE: 0.8836\n",
      "Epoch [2/150], Validation MAE: 0.5335, Validation RMSE: 0.7809\n"
     ]
    },
    {
     "name": "stderr",
     "output_type": "stream",
     "text": [
      "Epoch 3/150: 100%|██████████| 213/213 [00:24<00:00,  8.53batch/s, mae_loss=0.619]\n"
     ]
    },
    {
     "name": "stdout",
     "output_type": "stream",
     "text": [
      "Epoch [3/150], Training MAE: 0.6456, Training RMSE: 0.8649\n",
      "Epoch [3/150], Validation MAE: 0.5298, Validation RMSE: 0.7724\n"
     ]
    },
    {
     "name": "stderr",
     "output_type": "stream",
     "text": [
      "Epoch 4/150: 100%|██████████| 213/213 [00:25<00:00,  8.36batch/s, mae_loss=0.609]\n"
     ]
    },
    {
     "name": "stdout",
     "output_type": "stream",
     "text": [
      "Epoch [4/150], Training MAE: 0.6365, Training RMSE: 0.8554\n",
      "Epoch [4/150], Validation MAE: 0.5239, Validation RMSE: 0.7638\n"
     ]
    },
    {
     "name": "stderr",
     "output_type": "stream",
     "text": [
      "Epoch 5/150: 100%|██████████| 213/213 [00:24<00:00,  8.57batch/s, mae_loss=0.648]\n"
     ]
    },
    {
     "name": "stdout",
     "output_type": "stream",
     "text": [
      "Epoch [5/150], Training MAE: 0.6315, Training RMSE: 0.8504\n",
      "Epoch [5/150], Validation MAE: 0.5240, Validation RMSE: 0.7629\n"
     ]
    },
    {
     "name": "stderr",
     "output_type": "stream",
     "text": [
      "Epoch 6/150: 100%|██████████| 213/213 [00:25<00:00,  8.36batch/s, mae_loss=0.564]\n"
     ]
    },
    {
     "name": "stdout",
     "output_type": "stream",
     "text": [
      "Epoch [6/150], Training MAE: 0.6282, Training RMSE: 0.8467\n",
      "Epoch [6/150], Validation MAE: 0.5214, Validation RMSE: 0.7580\n"
     ]
    },
    {
     "name": "stderr",
     "output_type": "stream",
     "text": [
      "Epoch 7/150: 100%|██████████| 213/213 [00:25<00:00,  8.48batch/s, mae_loss=0.601]\n"
     ]
    },
    {
     "name": "stdout",
     "output_type": "stream",
     "text": [
      "Epoch [7/150], Training MAE: 0.6247, Training RMSE: 0.8432\n",
      "Epoch [7/150], Validation MAE: 0.5207, Validation RMSE: 0.7563\n"
     ]
    },
    {
     "name": "stderr",
     "output_type": "stream",
     "text": [
      "Epoch 8/150: 100%|██████████| 213/213 [00:25<00:00,  8.39batch/s, mae_loss=0.633]\n"
     ]
    },
    {
     "name": "stdout",
     "output_type": "stream",
     "text": [
      "Epoch [8/150], Training MAE: 0.6221, Training RMSE: 0.8404\n",
      "Epoch [8/150], Validation MAE: 0.5194, Validation RMSE: 0.7553\n"
     ]
    },
    {
     "name": "stderr",
     "output_type": "stream",
     "text": [
      "Epoch 9/150: 100%|██████████| 213/213 [00:25<00:00,  8.37batch/s, mae_loss=0.593]\n"
     ]
    },
    {
     "name": "stdout",
     "output_type": "stream",
     "text": [
      "Epoch [9/150], Training MAE: 0.6196, Training RMSE: 0.8377\n",
      "Epoch [9/150], Validation MAE: 0.5168, Validation RMSE: 0.7525\n"
     ]
    },
    {
     "name": "stderr",
     "output_type": "stream",
     "text": [
      "Epoch 10/150: 100%|██████████| 213/213 [00:24<00:00,  8.52batch/s, mae_loss=0.582]\n"
     ]
    },
    {
     "name": "stdout",
     "output_type": "stream",
     "text": [
      "Epoch [10/150], Training MAE: 0.6164, Training RMSE: 0.8346\n",
      "Epoch [10/150], Validation MAE: 0.5151, Validation RMSE: 0.7495\n"
     ]
    },
    {
     "name": "stderr",
     "output_type": "stream",
     "text": [
      "Epoch 11/150: 100%|██████████| 213/213 [00:25<00:00,  8.38batch/s, mae_loss=0.589]\n"
     ]
    },
    {
     "name": "stdout",
     "output_type": "stream",
     "text": [
      "Epoch [11/150], Training MAE: 0.6137, Training RMSE: 0.8316\n",
      "Epoch [11/150], Validation MAE: 0.5156, Validation RMSE: 0.7495\n"
     ]
    },
    {
     "name": "stderr",
     "output_type": "stream",
     "text": [
      "Epoch 12/150: 100%|██████████| 213/213 [00:24<00:00,  8.54batch/s, mae_loss=0.628]\n"
     ]
    },
    {
     "name": "stdout",
     "output_type": "stream",
     "text": [
      "Epoch [12/150], Training MAE: 0.6115, Training RMSE: 0.8290\n",
      "Epoch [12/150], Validation MAE: 0.5127, Validation RMSE: 0.7448\n"
     ]
    },
    {
     "name": "stderr",
     "output_type": "stream",
     "text": [
      "Epoch 13/150: 100%|██████████| 213/213 [00:24<00:00,  8.63batch/s, mae_loss=0.644]\n"
     ]
    },
    {
     "name": "stdout",
     "output_type": "stream",
     "text": [
      "Epoch [13/150], Training MAE: 0.6085, Training RMSE: 0.8258\n",
      "Epoch [13/150], Validation MAE: 0.5088, Validation RMSE: 0.7410\n"
     ]
    },
    {
     "name": "stderr",
     "output_type": "stream",
     "text": [
      "Epoch 14/150: 100%|██████████| 213/213 [00:25<00:00,  8.42batch/s, mae_loss=0.625]\n"
     ]
    },
    {
     "name": "stdout",
     "output_type": "stream",
     "text": [
      "Epoch [14/150], Training MAE: 0.6055, Training RMSE: 0.8227\n",
      "Epoch [14/150], Validation MAE: 0.5088, Validation RMSE: 0.7404\n"
     ]
    },
    {
     "name": "stderr",
     "output_type": "stream",
     "text": [
      "Epoch 15/150: 100%|██████████| 213/213 [00:25<00:00,  8.41batch/s, mae_loss=0.522]\n"
     ]
    },
    {
     "name": "stdout",
     "output_type": "stream",
     "text": [
      "Epoch [15/150], Training MAE: 0.6033, Training RMSE: 0.8202\n",
      "Epoch [15/150], Validation MAE: 0.5080, Validation RMSE: 0.7392\n"
     ]
    },
    {
     "name": "stderr",
     "output_type": "stream",
     "text": [
      "Epoch 16/150: 100%|██████████| 213/213 [00:26<00:00,  8.19batch/s, mae_loss=0.664]\n"
     ]
    },
    {
     "name": "stdout",
     "output_type": "stream",
     "text": [
      "Epoch [16/150], Training MAE: 0.6007, Training RMSE: 0.8175\n",
      "Epoch [16/150], Validation MAE: 0.5081, Validation RMSE: 0.7376\n"
     ]
    },
    {
     "name": "stderr",
     "output_type": "stream",
     "text": [
      "Epoch 17/150: 100%|██████████| 213/213 [00:25<00:00,  8.31batch/s, mae_loss=0.621]\n"
     ]
    },
    {
     "name": "stdout",
     "output_type": "stream",
     "text": [
      "Epoch [17/150], Training MAE: 0.5982, Training RMSE: 0.8148\n",
      "Epoch [17/150], Validation MAE: 0.5059, Validation RMSE: 0.7358\n"
     ]
    },
    {
     "name": "stderr",
     "output_type": "stream",
     "text": [
      "Epoch 18/150: 100%|██████████| 213/213 [00:25<00:00,  8.25batch/s, mae_loss=0.655]\n"
     ]
    },
    {
     "name": "stdout",
     "output_type": "stream",
     "text": [
      "Epoch [18/150], Training MAE: 0.5960, Training RMSE: 0.8124\n",
      "Epoch [18/150], Validation MAE: 0.5038, Validation RMSE: 0.7328\n"
     ]
    },
    {
     "name": "stderr",
     "output_type": "stream",
     "text": [
      "Epoch 19/150: 100%|██████████| 213/213 [00:25<00:00,  8.49batch/s, mae_loss=0.629]\n"
     ]
    },
    {
     "name": "stdout",
     "output_type": "stream",
     "text": [
      "Epoch [19/150], Training MAE: 0.5939, Training RMSE: 0.8101\n",
      "Epoch [19/150], Validation MAE: 0.5009, Validation RMSE: 0.7307\n"
     ]
    },
    {
     "name": "stderr",
     "output_type": "stream",
     "text": [
      "Epoch 20/150: 100%|██████████| 213/213 [00:25<00:00,  8.51batch/s, mae_loss=0.542]\n"
     ]
    },
    {
     "name": "stdout",
     "output_type": "stream",
     "text": [
      "Epoch [20/150], Training MAE: 0.5916, Training RMSE: 0.8078\n",
      "Epoch [20/150], Validation MAE: 0.5021, Validation RMSE: 0.7305\n"
     ]
    },
    {
     "name": "stderr",
     "output_type": "stream",
     "text": [
      "Epoch 21/150: 100%|██████████| 213/213 [00:25<00:00,  8.37batch/s, mae_loss=0.619]\n"
     ]
    },
    {
     "name": "stdout",
     "output_type": "stream",
     "text": [
      "Epoch [21/150], Training MAE: 0.5901, Training RMSE: 0.8057\n",
      "Epoch [21/150], Validation MAE: 0.5016, Validation RMSE: 0.7292\n"
     ]
    },
    {
     "name": "stderr",
     "output_type": "stream",
     "text": [
      "Epoch 22/150: 100%|██████████| 213/213 [00:25<00:00,  8.48batch/s, mae_loss=0.572]\n"
     ]
    },
    {
     "name": "stdout",
     "output_type": "stream",
     "text": [
      "Epoch [22/150], Training MAE: 0.5883, Training RMSE: 0.8040\n",
      "Epoch [22/150], Validation MAE: 0.5012, Validation RMSE: 0.7279\n"
     ]
    },
    {
     "name": "stderr",
     "output_type": "stream",
     "text": [
      "Epoch 23/150: 100%|██████████| 213/213 [00:25<00:00,  8.39batch/s, mae_loss=0.562]\n"
     ]
    },
    {
     "name": "stdout",
     "output_type": "stream",
     "text": [
      "Epoch [23/150], Training MAE: 0.5869, Training RMSE: 0.8023\n",
      "Epoch [23/150], Validation MAE: 0.5003, Validation RMSE: 0.7276\n"
     ]
    },
    {
     "name": "stderr",
     "output_type": "stream",
     "text": [
      "Epoch 24/150: 100%|██████████| 213/213 [00:24<00:00,  8.65batch/s, mae_loss=0.583]\n"
     ]
    },
    {
     "name": "stdout",
     "output_type": "stream",
     "text": [
      "Epoch [24/150], Training MAE: 0.5851, Training RMSE: 0.8004\n",
      "Epoch [24/150], Validation MAE: 0.4989, Validation RMSE: 0.7259\n"
     ]
    },
    {
     "name": "stderr",
     "output_type": "stream",
     "text": [
      "Epoch 25/150: 100%|██████████| 213/213 [00:25<00:00,  8.43batch/s, mae_loss=0.537]\n"
     ]
    },
    {
     "name": "stdout",
     "output_type": "stream",
     "text": [
      "Epoch [25/150], Training MAE: 0.5844, Training RMSE: 0.7995\n",
      "Epoch [25/150], Validation MAE: 0.5011, Validation RMSE: 0.7279\n"
     ]
    },
    {
     "name": "stderr",
     "output_type": "stream",
     "text": [
      "Epoch 26/150: 100%|██████████| 213/213 [00:24<00:00,  8.63batch/s, mae_loss=0.545]\n"
     ]
    },
    {
     "name": "stdout",
     "output_type": "stream",
     "text": [
      "Epoch [26/150], Training MAE: 0.5831, Training RMSE: 0.7985\n",
      "Epoch [26/150], Validation MAE: 0.4980, Validation RMSE: 0.7245\n"
     ]
    },
    {
     "name": "stderr",
     "output_type": "stream",
     "text": [
      "Epoch 27/150: 100%|██████████| 213/213 [00:25<00:00,  8.32batch/s, mae_loss=0.603]\n"
     ]
    },
    {
     "name": "stdout",
     "output_type": "stream",
     "text": [
      "Epoch [27/150], Training MAE: 0.5814, Training RMSE: 0.7967\n",
      "Epoch [27/150], Validation MAE: 0.4977, Validation RMSE: 0.7243\n"
     ]
    },
    {
     "name": "stderr",
     "output_type": "stream",
     "text": [
      "Epoch 28/150: 100%|██████████| 213/213 [00:25<00:00,  8.38batch/s, mae_loss=0.503]\n"
     ]
    },
    {
     "name": "stdout",
     "output_type": "stream",
     "text": [
      "Epoch [28/150], Training MAE: 0.5803, Training RMSE: 0.7952\n",
      "Epoch [28/150], Validation MAE: 0.4975, Validation RMSE: 0.7250\n"
     ]
    },
    {
     "name": "stderr",
     "output_type": "stream",
     "text": [
      "Epoch 29/150: 100%|██████████| 213/213 [00:25<00:00,  8.26batch/s, mae_loss=0.64] \n"
     ]
    },
    {
     "name": "stdout",
     "output_type": "stream",
     "text": [
      "Epoch [29/150], Training MAE: 0.5792, Training RMSE: 0.7943\n",
      "Epoch [29/150], Validation MAE: 0.4989, Validation RMSE: 0.7242\n"
     ]
    },
    {
     "name": "stderr",
     "output_type": "stream",
     "text": [
      "Epoch 30/150: 100%|██████████| 213/213 [00:25<00:00,  8.45batch/s, mae_loss=0.511]\n"
     ]
    },
    {
     "name": "stdout",
     "output_type": "stream",
     "text": [
      "Epoch [30/150], Training MAE: 0.5781, Training RMSE: 0.7927\n",
      "Epoch [30/150], Validation MAE: 0.4994, Validation RMSE: 0.7244\n"
     ]
    },
    {
     "name": "stderr",
     "output_type": "stream",
     "text": [
      "Epoch 31/150: 100%|██████████| 213/213 [00:24<00:00,  8.58batch/s, mae_loss=0.634]\n"
     ]
    },
    {
     "name": "stdout",
     "output_type": "stream",
     "text": [
      "Epoch [31/150], Training MAE: 0.5781, Training RMSE: 0.7930\n",
      "Epoch [31/150], Validation MAE: 0.4964, Validation RMSE: 0.7218\n"
     ]
    },
    {
     "name": "stderr",
     "output_type": "stream",
     "text": [
      "Epoch 32/150: 100%|██████████| 213/213 [00:25<00:00,  8.40batch/s, mae_loss=0.532]\n"
     ]
    },
    {
     "name": "stdout",
     "output_type": "stream",
     "text": [
      "Epoch [32/150], Training MAE: 0.5765, Training RMSE: 0.7911\n",
      "Epoch [32/150], Validation MAE: 0.4955, Validation RMSE: 0.7212\n"
     ]
    },
    {
     "name": "stderr",
     "output_type": "stream",
     "text": [
      "Epoch 33/150: 100%|██████████| 213/213 [00:24<00:00,  8.57batch/s, mae_loss=0.555]\n"
     ]
    },
    {
     "name": "stdout",
     "output_type": "stream",
     "text": [
      "Epoch [33/150], Training MAE: 0.5758, Training RMSE: 0.7906\n",
      "Epoch [33/150], Validation MAE: 0.4980, Validation RMSE: 0.7242\n"
     ]
    },
    {
     "name": "stderr",
     "output_type": "stream",
     "text": [
      "Epoch 34/150: 100%|██████████| 213/213 [00:24<00:00,  8.53batch/s, mae_loss=0.596]\n"
     ]
    },
    {
     "name": "stdout",
     "output_type": "stream",
     "text": [
      "Epoch [34/150], Training MAE: 0.5751, Training RMSE: 0.7893\n",
      "Epoch [34/150], Validation MAE: 0.4966, Validation RMSE: 0.7225\n"
     ]
    },
    {
     "name": "stderr",
     "output_type": "stream",
     "text": [
      "Epoch 35/150: 100%|██████████| 213/213 [00:25<00:00,  8.40batch/s, mae_loss=0.627]\n"
     ]
    },
    {
     "name": "stdout",
     "output_type": "stream",
     "text": [
      "Epoch [35/150], Training MAE: 0.5737, Training RMSE: 0.7885\n",
      "Epoch [35/150], Validation MAE: 0.4972, Validation RMSE: 0.7221\n"
     ]
    },
    {
     "name": "stderr",
     "output_type": "stream",
     "text": [
      "Epoch 36/150: 100%|██████████| 213/213 [00:24<00:00,  8.57batch/s, mae_loss=0.595]\n"
     ]
    },
    {
     "name": "stdout",
     "output_type": "stream",
     "text": [
      "Epoch [36/150], Training MAE: 0.5732, Training RMSE: 0.7875\n",
      "Epoch [36/150], Validation MAE: 0.4986, Validation RMSE: 0.7250\n"
     ]
    },
    {
     "name": "stderr",
     "output_type": "stream",
     "text": [
      "Epoch 37/150: 100%|██████████| 213/213 [00:25<00:00,  8.43batch/s, mae_loss=0.576]\n"
     ]
    },
    {
     "name": "stdout",
     "output_type": "stream",
     "text": [
      "Epoch [37/150], Training MAE: 0.5726, Training RMSE: 0.7871\n",
      "Epoch [37/150], Validation MAE: 0.4958, Validation RMSE: 0.7218\n"
     ]
    },
    {
     "name": "stderr",
     "output_type": "stream",
     "text": [
      "Epoch 38/150: 100%|██████████| 213/213 [00:25<00:00,  8.36batch/s, mae_loss=0.554]\n"
     ]
    },
    {
     "name": "stdout",
     "output_type": "stream",
     "text": [
      "Epoch [38/150], Training MAE: 0.5717, Training RMSE: 0.7862\n",
      "Epoch [38/150], Validation MAE: 0.4959, Validation RMSE: 0.7215\n"
     ]
    },
    {
     "name": "stderr",
     "output_type": "stream",
     "text": [
      "Epoch 39/150: 100%|██████████| 213/213 [00:25<00:00,  8.33batch/s, mae_loss=0.569]\n"
     ]
    },
    {
     "name": "stdout",
     "output_type": "stream",
     "text": [
      "Epoch [39/150], Training MAE: 0.5709, Training RMSE: 0.7855\n",
      "Epoch [39/150], Validation MAE: 0.4982, Validation RMSE: 0.7228\n"
     ]
    },
    {
     "name": "stderr",
     "output_type": "stream",
     "text": [
      "Epoch 40/150: 100%|██████████| 213/213 [00:25<00:00,  8.43batch/s, mae_loss=0.575]\n"
     ]
    },
    {
     "name": "stdout",
     "output_type": "stream",
     "text": [
      "Epoch [40/150], Training MAE: 0.5700, Training RMSE: 0.7841\n",
      "Epoch [40/150], Validation MAE: 0.4960, Validation RMSE: 0.7209\n"
     ]
    },
    {
     "name": "stderr",
     "output_type": "stream",
     "text": [
      "Epoch 41/150: 100%|██████████| 213/213 [00:24<00:00,  8.54batch/s, mae_loss=0.527]\n"
     ]
    },
    {
     "name": "stdout",
     "output_type": "stream",
     "text": [
      "Epoch [41/150], Training MAE: 0.5690, Training RMSE: 0.7833\n",
      "Epoch [41/150], Validation MAE: 0.4974, Validation RMSE: 0.7222\n"
     ]
    },
    {
     "name": "stderr",
     "output_type": "stream",
     "text": [
      "Epoch 42/150: 100%|██████████| 213/213 [00:25<00:00,  8.47batch/s, mae_loss=0.554]\n"
     ]
    },
    {
     "name": "stdout",
     "output_type": "stream",
     "text": [
      "Epoch [42/150], Training MAE: 0.5685, Training RMSE: 0.7828\n",
      "Epoch [42/150], Validation MAE: 0.4957, Validation RMSE: 0.7212\n"
     ]
    },
    {
     "name": "stderr",
     "output_type": "stream",
     "text": [
      "Epoch 43/150: 100%|██████████| 213/213 [00:24<00:00,  8.63batch/s, mae_loss=0.514]\n"
     ]
    },
    {
     "name": "stdout",
     "output_type": "stream",
     "text": [
      "Epoch [43/150], Training MAE: 0.5682, Training RMSE: 0.7825\n",
      "Epoch [43/150], Validation MAE: 0.4975, Validation RMSE: 0.7218\n"
     ]
    },
    {
     "name": "stderr",
     "output_type": "stream",
     "text": [
      "Epoch 44/150: 100%|██████████| 213/213 [00:25<00:00,  8.44batch/s, mae_loss=0.635]\n"
     ]
    },
    {
     "name": "stdout",
     "output_type": "stream",
     "text": [
      "Epoch [44/150], Training MAE: 0.5675, Training RMSE: 0.7819\n",
      "Epoch [44/150], Validation MAE: 0.4977, Validation RMSE: 0.7220\n"
     ]
    },
    {
     "name": "stderr",
     "output_type": "stream",
     "text": [
      "Epoch 45/150: 100%|██████████| 213/213 [00:24<00:00,  8.56batch/s, mae_loss=0.563]\n"
     ]
    },
    {
     "name": "stdout",
     "output_type": "stream",
     "text": [
      "Epoch [45/150], Training MAE: 0.5668, Training RMSE: 0.7806\n",
      "Epoch [45/150], Validation MAE: 0.4966, Validation RMSE: 0.7209\n"
     ]
    },
    {
     "name": "stderr",
     "output_type": "stream",
     "text": [
      "Epoch 46/150: 100%|██████████| 213/213 [00:25<00:00,  8.41batch/s, mae_loss=0.514]\n"
     ]
    },
    {
     "name": "stdout",
     "output_type": "stream",
     "text": [
      "Epoch [46/150], Training MAE: 0.5663, Training RMSE: 0.7800\n",
      "Epoch [46/150], Validation MAE: 0.4968, Validation RMSE: 0.7214\n"
     ]
    },
    {
     "name": "stderr",
     "output_type": "stream",
     "text": [
      "Epoch 47/150: 100%|██████████| 213/213 [00:25<00:00,  8.43batch/s, mae_loss=0.6]  \n"
     ]
    },
    {
     "name": "stdout",
     "output_type": "stream",
     "text": [
      "Epoch [47/150], Training MAE: 0.5657, Training RMSE: 0.7798\n",
      "Epoch [47/150], Validation MAE: 0.4983, Validation RMSE: 0.7220\n"
     ]
    },
    {
     "name": "stderr",
     "output_type": "stream",
     "text": [
      "Epoch 48/150: 100%|██████████| 213/213 [00:25<00:00,  8.48batch/s, mae_loss=0.553]\n"
     ]
    },
    {
     "name": "stdout",
     "output_type": "stream",
     "text": [
      "Epoch [48/150], Training MAE: 0.5648, Training RMSE: 0.7786\n",
      "Epoch [48/150], Validation MAE: 0.4976, Validation RMSE: 0.7235\n"
     ]
    },
    {
     "name": "stderr",
     "output_type": "stream",
     "text": [
      "Epoch 49/150: 100%|██████████| 213/213 [00:25<00:00,  8.25batch/s, mae_loss=0.601]\n"
     ]
    },
    {
     "name": "stdout",
     "output_type": "stream",
     "text": [
      "Epoch [49/150], Training MAE: 0.5643, Training RMSE: 0.7783\n",
      "Epoch [49/150], Validation MAE: 0.4961, Validation RMSE: 0.7216\n"
     ]
    },
    {
     "name": "stderr",
     "output_type": "stream",
     "text": [
      "Epoch 50/150: 100%|██████████| 213/213 [00:25<00:00,  8.49batch/s, mae_loss=0.553]\n"
     ]
    },
    {
     "name": "stdout",
     "output_type": "stream",
     "text": [
      "Epoch [50/150], Training MAE: 0.5634, Training RMSE: 0.7772\n",
      "Epoch [50/150], Validation MAE: 0.4975, Validation RMSE: 0.7223\n"
     ]
    },
    {
     "name": "stderr",
     "output_type": "stream",
     "text": [
      "Epoch 51/150: 100%|██████████| 213/213 [00:25<00:00,  8.40batch/s, mae_loss=0.544]\n"
     ]
    },
    {
     "name": "stdout",
     "output_type": "stream",
     "text": [
      "Epoch [51/150], Training MAE: 0.5624, Training RMSE: 0.7764\n",
      "Epoch [51/150], Validation MAE: 0.4984, Validation RMSE: 0.7232\n"
     ]
    },
    {
     "name": "stderr",
     "output_type": "stream",
     "text": [
      "Epoch 52/150: 100%|██████████| 213/213 [00:24<00:00,  8.57batch/s, mae_loss=0.574]\n"
     ]
    },
    {
     "name": "stdout",
     "output_type": "stream",
     "text": [
      "Epoch [52/150], Training MAE: 0.5621, Training RMSE: 0.7759\n",
      "Epoch [52/150], Validation MAE: 0.5000, Validation RMSE: 0.7231\n"
     ]
    },
    {
     "name": "stderr",
     "output_type": "stream",
     "text": [
      "Epoch 53/150: 100%|██████████| 213/213 [00:25<00:00,  8.35batch/s, mae_loss=0.59] \n"
     ]
    },
    {
     "name": "stdout",
     "output_type": "stream",
     "text": [
      "Epoch [53/150], Training MAE: 0.5615, Training RMSE: 0.7756\n",
      "Epoch [53/150], Validation MAE: 0.4987, Validation RMSE: 0.7224\n"
     ]
    },
    {
     "name": "stderr",
     "output_type": "stream",
     "text": [
      "Epoch 54/150: 100%|██████████| 213/213 [00:25<00:00,  8.43batch/s, mae_loss=0.569]\n"
     ]
    },
    {
     "name": "stdout",
     "output_type": "stream",
     "text": [
      "Epoch [54/150], Training MAE: 0.5614, Training RMSE: 0.7751\n",
      "Epoch [54/150], Validation MAE: 0.5001, Validation RMSE: 0.7238\n"
     ]
    },
    {
     "name": "stderr",
     "output_type": "stream",
     "text": [
      "Epoch 55/150: 100%|██████████| 213/213 [00:24<00:00,  8.57batch/s, mae_loss=0.588]\n"
     ]
    },
    {
     "name": "stdout",
     "output_type": "stream",
     "text": [
      "Epoch [55/150], Training MAE: 0.5605, Training RMSE: 0.7739\n",
      "Epoch [55/150], Validation MAE: 0.4966, Validation RMSE: 0.7203\n"
     ]
    },
    {
     "name": "stderr",
     "output_type": "stream",
     "text": [
      "Epoch 56/150: 100%|██████████| 213/213 [00:25<00:00,  8.45batch/s, mae_loss=0.549]\n"
     ]
    },
    {
     "name": "stdout",
     "output_type": "stream",
     "text": [
      "Epoch [56/150], Training MAE: 0.5601, Training RMSE: 0.7735\n",
      "Epoch [56/150], Validation MAE: 0.4988, Validation RMSE: 0.7233\n"
     ]
    },
    {
     "name": "stderr",
     "output_type": "stream",
     "text": [
      "Epoch 57/150: 100%|██████████| 213/213 [00:24<00:00,  8.61batch/s, mae_loss=0.567]\n"
     ]
    },
    {
     "name": "stdout",
     "output_type": "stream",
     "text": [
      "Epoch [57/150], Training MAE: 0.5596, Training RMSE: 0.7733\n",
      "Epoch [57/150], Validation MAE: 0.5012, Validation RMSE: 0.7250\n"
     ]
    },
    {
     "name": "stderr",
     "output_type": "stream",
     "text": [
      "Epoch 58/150: 100%|██████████| 213/213 [00:25<00:00,  8.41batch/s, mae_loss=0.538]\n"
     ]
    },
    {
     "name": "stdout",
     "output_type": "stream",
     "text": [
      "Epoch [58/150], Training MAE: 0.5587, Training RMSE: 0.7721\n",
      "Epoch [58/150], Validation MAE: 0.4994, Validation RMSE: 0.7225\n"
     ]
    },
    {
     "name": "stderr",
     "output_type": "stream",
     "text": [
      "Epoch 59/150: 100%|██████████| 213/213 [00:25<00:00,  8.20batch/s, mae_loss=0.532]\n"
     ]
    },
    {
     "name": "stdout",
     "output_type": "stream",
     "text": [
      "Epoch [59/150], Training MAE: 0.5578, Training RMSE: 0.7707\n",
      "Epoch [59/150], Validation MAE: 0.4992, Validation RMSE: 0.7224\n"
     ]
    },
    {
     "name": "stderr",
     "output_type": "stream",
     "text": [
      "Epoch 60/150: 100%|██████████| 213/213 [00:25<00:00,  8.37batch/s, mae_loss=0.589]\n"
     ]
    },
    {
     "name": "stdout",
     "output_type": "stream",
     "text": [
      "Epoch [60/150], Training MAE: 0.5579, Training RMSE: 0.7711\n",
      "Epoch [60/150], Validation MAE: 0.4999, Validation RMSE: 0.7233\n"
     ]
    },
    {
     "name": "stderr",
     "output_type": "stream",
     "text": [
      "Epoch 61/150: 100%|██████████| 213/213 [00:25<00:00,  8.29batch/s, mae_loss=0.552]\n"
     ]
    },
    {
     "name": "stdout",
     "output_type": "stream",
     "text": [
      "Epoch [61/150], Training MAE: 0.5571, Training RMSE: 0.7700\n",
      "Epoch [61/150], Validation MAE: 0.4990, Validation RMSE: 0.7222\n"
     ]
    },
    {
     "name": "stderr",
     "output_type": "stream",
     "text": [
      "Epoch 62/150: 100%|██████████| 213/213 [00:25<00:00,  8.47batch/s, mae_loss=0.554]\n"
     ]
    },
    {
     "name": "stdout",
     "output_type": "stream",
     "text": [
      "Epoch [62/150], Training MAE: 0.5563, Training RMSE: 0.7693\n",
      "Epoch [62/150], Validation MAE: 0.5004, Validation RMSE: 0.7231\n"
     ]
    },
    {
     "name": "stderr",
     "output_type": "stream",
     "text": [
      "Epoch 63/150: 100%|██████████| 213/213 [00:25<00:00,  8.46batch/s, mae_loss=0.539]\n"
     ]
    },
    {
     "name": "stdout",
     "output_type": "stream",
     "text": [
      "Epoch [63/150], Training MAE: 0.5559, Training RMSE: 0.7693\n",
      "Epoch [63/150], Validation MAE: 0.5010, Validation RMSE: 0.7235\n"
     ]
    },
    {
     "name": "stderr",
     "output_type": "stream",
     "text": [
      "Epoch 64/150: 100%|██████████| 213/213 [00:24<00:00,  8.57batch/s, mae_loss=0.607]\n"
     ]
    },
    {
     "name": "stdout",
     "output_type": "stream",
     "text": [
      "Epoch [64/150], Training MAE: 0.5549, Training RMSE: 0.7680\n",
      "Epoch [64/150], Validation MAE: 0.5008, Validation RMSE: 0.7224\n"
     ]
    },
    {
     "name": "stderr",
     "output_type": "stream",
     "text": [
      "Epoch 65/150: 100%|██████████| 213/213 [00:25<00:00,  8.38batch/s, mae_loss=0.587]\n"
     ]
    },
    {
     "name": "stdout",
     "output_type": "stream",
     "text": [
      "Epoch [65/150], Training MAE: 0.5545, Training RMSE: 0.7675\n",
      "Epoch [65/150], Validation MAE: 0.5019, Validation RMSE: 0.7244\n"
     ]
    },
    {
     "name": "stderr",
     "output_type": "stream",
     "text": [
      "Epoch 66/150: 100%|██████████| 213/213 [00:26<00:00,  8.15batch/s, mae_loss=0.529]\n"
     ]
    },
    {
     "name": "stdout",
     "output_type": "stream",
     "text": [
      "Epoch [66/150], Training MAE: 0.5543, Training RMSE: 0.7667\n",
      "Epoch [66/150], Validation MAE: 0.5020, Validation RMSE: 0.7257\n"
     ]
    },
    {
     "name": "stderr",
     "output_type": "stream",
     "text": [
      "Epoch 67/150: 100%|██████████| 213/213 [00:26<00:00,  8.12batch/s, mae_loss=0.513]\n"
     ]
    },
    {
     "name": "stdout",
     "output_type": "stream",
     "text": [
      "Epoch [67/150], Training MAE: 0.5527, Training RMSE: 0.7658\n",
      "Epoch [67/150], Validation MAE: 0.5010, Validation RMSE: 0.7241\n"
     ]
    },
    {
     "name": "stderr",
     "output_type": "stream",
     "text": [
      "Epoch 68/150: 100%|██████████| 213/213 [00:25<00:00,  8.47batch/s, mae_loss=0.513]\n"
     ]
    },
    {
     "name": "stdout",
     "output_type": "stream",
     "text": [
      "Epoch [68/150], Training MAE: 0.5520, Training RMSE: 0.7649\n",
      "Epoch [68/150], Validation MAE: 0.5009, Validation RMSE: 0.7229\n"
     ]
    },
    {
     "name": "stderr",
     "output_type": "stream",
     "text": [
      "Epoch 69/150: 100%|██████████| 213/213 [00:25<00:00,  8.33batch/s, mae_loss=0.507]\n"
     ]
    },
    {
     "name": "stdout",
     "output_type": "stream",
     "text": [
      "Epoch [69/150], Training MAE: 0.5519, Training RMSE: 0.7643\n",
      "Epoch [69/150], Validation MAE: 0.5031, Validation RMSE: 0.7255\n"
     ]
    },
    {
     "name": "stderr",
     "output_type": "stream",
     "text": [
      "Epoch 70/150: 100%|██████████| 213/213 [00:25<00:00,  8.51batch/s, mae_loss=0.552]\n"
     ]
    },
    {
     "name": "stdout",
     "output_type": "stream",
     "text": [
      "Epoch [70/150], Training MAE: 0.5514, Training RMSE: 0.7642\n",
      "Epoch [70/150], Validation MAE: 0.5031, Validation RMSE: 0.7251\n"
     ]
    },
    {
     "name": "stderr",
     "output_type": "stream",
     "text": [
      "Epoch 71/150: 100%|██████████| 213/213 [00:25<00:00,  8.35batch/s, mae_loss=0.556]\n"
     ]
    },
    {
     "name": "stdout",
     "output_type": "stream",
     "text": [
      "Epoch [71/150], Training MAE: 0.5507, Training RMSE: 0.7632\n",
      "Epoch [71/150], Validation MAE: 0.5013, Validation RMSE: 0.7245\n"
     ]
    },
    {
     "name": "stderr",
     "output_type": "stream",
     "text": [
      "Epoch 72/150: 100%|██████████| 213/213 [00:25<00:00,  8.39batch/s, mae_loss=0.568]\n"
     ]
    },
    {
     "name": "stdout",
     "output_type": "stream",
     "text": [
      "Epoch [72/150], Training MAE: 0.5502, Training RMSE: 0.7625\n",
      "Epoch [72/150], Validation MAE: 0.5020, Validation RMSE: 0.7230\n"
     ]
    },
    {
     "name": "stderr",
     "output_type": "stream",
     "text": [
      "Epoch 73/150: 100%|██████████| 213/213 [00:25<00:00,  8.45batch/s, mae_loss=0.534]\n"
     ]
    },
    {
     "name": "stdout",
     "output_type": "stream",
     "text": [
      "Epoch [73/150], Training MAE: 0.5493, Training RMSE: 0.7615\n",
      "Epoch [73/150], Validation MAE: 0.5025, Validation RMSE: 0.7249\n"
     ]
    },
    {
     "name": "stderr",
     "output_type": "stream",
     "text": [
      "Epoch 74/150: 100%|██████████| 213/213 [00:25<00:00,  8.40batch/s, mae_loss=0.529]\n"
     ]
    },
    {
     "name": "stdout",
     "output_type": "stream",
     "text": [
      "Epoch [74/150], Training MAE: 0.5492, Training RMSE: 0.7617\n",
      "Epoch [74/150], Validation MAE: 0.5020, Validation RMSE: 0.7241\n"
     ]
    },
    {
     "name": "stderr",
     "output_type": "stream",
     "text": [
      "Epoch 75/150: 100%|██████████| 213/213 [00:25<00:00,  8.51batch/s, mae_loss=0.57] \n"
     ]
    },
    {
     "name": "stdout",
     "output_type": "stream",
     "text": [
      "Epoch [75/150], Training MAE: 0.5481, Training RMSE: 0.7604\n",
      "Epoch [75/150], Validation MAE: 0.5056, Validation RMSE: 0.7285\n"
     ]
    },
    {
     "name": "stderr",
     "output_type": "stream",
     "text": [
      "Epoch 76/150: 100%|██████████| 213/213 [00:25<00:00,  8.41batch/s, mae_loss=0.487]\n"
     ]
    },
    {
     "name": "stdout",
     "output_type": "stream",
     "text": [
      "Epoch [76/150], Training MAE: 0.5471, Training RMSE: 0.7590\n",
      "Epoch [76/150], Validation MAE: 0.5049, Validation RMSE: 0.7280\n"
     ]
    },
    {
     "name": "stderr",
     "output_type": "stream",
     "text": [
      "Epoch 77/150: 100%|██████████| 213/213 [00:24<00:00,  8.56batch/s, mae_loss=0.608]\n"
     ]
    },
    {
     "name": "stdout",
     "output_type": "stream",
     "text": [
      "Epoch [77/150], Training MAE: 0.5473, Training RMSE: 0.7602\n",
      "Epoch [77/150], Validation MAE: 0.5040, Validation RMSE: 0.7252\n"
     ]
    },
    {
     "name": "stderr",
     "output_type": "stream",
     "text": [
      "Epoch 78/150: 100%|██████████| 213/213 [00:25<00:00,  8.49batch/s, mae_loss=0.512]\n"
     ]
    },
    {
     "name": "stdout",
     "output_type": "stream",
     "text": [
      "Epoch [78/150], Training MAE: 0.5462, Training RMSE: 0.7583\n",
      "Epoch [78/150], Validation MAE: 0.5048, Validation RMSE: 0.7261\n"
     ]
    },
    {
     "name": "stderr",
     "output_type": "stream",
     "text": [
      "Epoch 79/150: 100%|██████████| 213/213 [00:25<00:00,  8.30batch/s, mae_loss=0.569]\n"
     ]
    },
    {
     "name": "stdout",
     "output_type": "stream",
     "text": [
      "Epoch [79/150], Training MAE: 0.5458, Training RMSE: 0.7578\n",
      "Epoch [79/150], Validation MAE: 0.5048, Validation RMSE: 0.7271\n"
     ]
    },
    {
     "name": "stderr",
     "output_type": "stream",
     "text": [
      "Epoch 80/150: 100%|██████████| 213/213 [00:24<00:00,  8.54batch/s, mae_loss=0.57] \n"
     ]
    },
    {
     "name": "stdout",
     "output_type": "stream",
     "text": [
      "Epoch [80/150], Training MAE: 0.5452, Training RMSE: 0.7567\n",
      "Epoch [80/150], Validation MAE: 0.5021, Validation RMSE: 0.7240\n"
     ]
    },
    {
     "name": "stderr",
     "output_type": "stream",
     "text": [
      "Epoch 81/150: 100%|██████████| 213/213 [00:26<00:00,  8.15batch/s, mae_loss=0.555]\n"
     ]
    },
    {
     "name": "stdout",
     "output_type": "stream",
     "text": [
      "Epoch [81/150], Training MAE: 0.5449, Training RMSE: 0.7566\n",
      "Epoch [81/150], Validation MAE: 0.5046, Validation RMSE: 0.7256\n"
     ]
    },
    {
     "name": "stderr",
     "output_type": "stream",
     "text": [
      "Epoch 82/150: 100%|██████████| 213/213 [00:24<00:00,  8.61batch/s, mae_loss=0.513]\n"
     ]
    },
    {
     "name": "stdout",
     "output_type": "stream",
     "text": [
      "Epoch [82/150], Training MAE: 0.5440, Training RMSE: 0.7555\n",
      "Epoch [82/150], Validation MAE: 0.5036, Validation RMSE: 0.7256\n"
     ]
    },
    {
     "name": "stderr",
     "output_type": "stream",
     "text": [
      "Epoch 83/150: 100%|██████████| 213/213 [00:25<00:00,  8.21batch/s, mae_loss=0.596]\n"
     ]
    },
    {
     "name": "stdout",
     "output_type": "stream",
     "text": [
      "Epoch [83/150], Training MAE: 0.5433, Training RMSE: 0.7544\n",
      "Epoch [83/150], Validation MAE: 0.5047, Validation RMSE: 0.7262\n"
     ]
    },
    {
     "name": "stderr",
     "output_type": "stream",
     "text": [
      "Epoch 84/150: 100%|██████████| 213/213 [00:25<00:00,  8.50batch/s, mae_loss=0.462]\n"
     ]
    },
    {
     "name": "stdout",
     "output_type": "stream",
     "text": [
      "Epoch [84/150], Training MAE: 0.5424, Training RMSE: 0.7537\n",
      "Epoch [84/150], Validation MAE: 0.5052, Validation RMSE: 0.7266\n"
     ]
    },
    {
     "name": "stderr",
     "output_type": "stream",
     "text": [
      "Epoch 85/150: 100%|██████████| 213/213 [00:24<00:00,  8.55batch/s, mae_loss=0.547]\n"
     ]
    },
    {
     "name": "stdout",
     "output_type": "stream",
     "text": [
      "Epoch [85/150], Training MAE: 0.5418, Training RMSE: 0.7531\n",
      "Epoch [85/150], Validation MAE: 0.5053, Validation RMSE: 0.7263\n"
     ]
    },
    {
     "name": "stderr",
     "output_type": "stream",
     "text": [
      "Epoch 86/150: 100%|██████████| 213/213 [00:25<00:00,  8.32batch/s, mae_loss=0.55] \n"
     ]
    },
    {
     "name": "stdout",
     "output_type": "stream",
     "text": [
      "Epoch [86/150], Training MAE: 0.5410, Training RMSE: 0.7525\n",
      "Epoch [86/150], Validation MAE: 0.5048, Validation RMSE: 0.7265\n"
     ]
    },
    {
     "name": "stderr",
     "output_type": "stream",
     "text": [
      "Epoch 87/150: 100%|██████████| 213/213 [00:24<00:00,  8.54batch/s, mae_loss=0.475]\n"
     ]
    },
    {
     "name": "stdout",
     "output_type": "stream",
     "text": [
      "Epoch [87/150], Training MAE: 0.5407, Training RMSE: 0.7520\n",
      "Epoch [87/150], Validation MAE: 0.5064, Validation RMSE: 0.7275\n"
     ]
    },
    {
     "name": "stderr",
     "output_type": "stream",
     "text": [
      "Epoch 88/150: 100%|██████████| 213/213 [00:25<00:00,  8.32batch/s, mae_loss=0.604]\n"
     ]
    },
    {
     "name": "stdout",
     "output_type": "stream",
     "text": [
      "Epoch [88/150], Training MAE: 0.5404, Training RMSE: 0.7512\n",
      "Epoch [88/150], Validation MAE: 0.5080, Validation RMSE: 0.7292\n"
     ]
    },
    {
     "name": "stderr",
     "output_type": "stream",
     "text": [
      "Epoch 89/150: 100%|██████████| 213/213 [00:24<00:00,  8.55batch/s, mae_loss=0.59] \n"
     ]
    },
    {
     "name": "stdout",
     "output_type": "stream",
     "text": [
      "Epoch [89/150], Training MAE: 0.5400, Training RMSE: 0.7510\n",
      "Epoch [89/150], Validation MAE: 0.5069, Validation RMSE: 0.7276\n"
     ]
    },
    {
     "name": "stderr",
     "output_type": "stream",
     "text": [
      "Epoch 90/150: 100%|██████████| 213/213 [00:25<00:00,  8.46batch/s, mae_loss=0.502]\n"
     ]
    },
    {
     "name": "stdout",
     "output_type": "stream",
     "text": [
      "Epoch [90/150], Training MAE: 0.5381, Training RMSE: 0.7492\n",
      "Epoch [90/150], Validation MAE: 0.5079, Validation RMSE: 0.7287\n"
     ]
    },
    {
     "name": "stderr",
     "output_type": "stream",
     "text": [
      "Epoch 91/150: 100%|██████████| 213/213 [00:25<00:00,  8.42batch/s, mae_loss=0.562]\n"
     ]
    },
    {
     "name": "stdout",
     "output_type": "stream",
     "text": [
      "Epoch [91/150], Training MAE: 0.5383, Training RMSE: 0.7489\n",
      "Epoch [91/150], Validation MAE: 0.5099, Validation RMSE: 0.7318\n"
     ]
    },
    {
     "name": "stderr",
     "output_type": "stream",
     "text": [
      "Epoch 92/150: 100%|██████████| 213/213 [00:25<00:00,  8.46batch/s, mae_loss=0.572]\n"
     ]
    },
    {
     "name": "stdout",
     "output_type": "stream",
     "text": [
      "Epoch [92/150], Training MAE: 0.5372, Training RMSE: 0.7483\n",
      "Epoch [92/150], Validation MAE: 0.5087, Validation RMSE: 0.7297\n"
     ]
    },
    {
     "name": "stderr",
     "output_type": "stream",
     "text": [
      "Epoch 93/150: 100%|██████████| 213/213 [00:25<00:00,  8.23batch/s, mae_loss=0.541]\n"
     ]
    },
    {
     "name": "stdout",
     "output_type": "stream",
     "text": [
      "Epoch [93/150], Training MAE: 0.5367, Training RMSE: 0.7471\n",
      "Epoch [93/150], Validation MAE: 0.5079, Validation RMSE: 0.7285\n"
     ]
    },
    {
     "name": "stderr",
     "output_type": "stream",
     "text": [
      "Epoch 94/150: 100%|██████████| 213/213 [00:25<00:00,  8.45batch/s, mae_loss=0.44] \n"
     ]
    },
    {
     "name": "stdout",
     "output_type": "stream",
     "text": [
      "Epoch [94/150], Training MAE: 0.5356, Training RMSE: 0.7462\n",
      "Epoch [94/150], Validation MAE: 0.5089, Validation RMSE: 0.7308\n"
     ]
    },
    {
     "name": "stderr",
     "output_type": "stream",
     "text": [
      "Epoch 95/150: 100%|██████████| 213/213 [00:25<00:00,  8.34batch/s, mae_loss=0.528]\n"
     ]
    },
    {
     "name": "stdout",
     "output_type": "stream",
     "text": [
      "Epoch [95/150], Training MAE: 0.5351, Training RMSE: 0.7457\n",
      "Epoch [95/150], Validation MAE: 0.5081, Validation RMSE: 0.7296\n"
     ]
    },
    {
     "name": "stderr",
     "output_type": "stream",
     "text": [
      "Epoch 96/150: 100%|██████████| 213/213 [00:24<00:00,  8.59batch/s, mae_loss=0.544]\n"
     ]
    },
    {
     "name": "stdout",
     "output_type": "stream",
     "text": [
      "Epoch [96/150], Training MAE: 0.5349, Training RMSE: 0.7451\n",
      "Epoch [96/150], Validation MAE: 0.5091, Validation RMSE: 0.7295\n"
     ]
    },
    {
     "name": "stderr",
     "output_type": "stream",
     "text": [
      "Epoch 97/150: 100%|██████████| 213/213 [00:25<00:00,  8.42batch/s, mae_loss=0.49] \n"
     ]
    },
    {
     "name": "stdout",
     "output_type": "stream",
     "text": [
      "Epoch [97/150], Training MAE: 0.5333, Training RMSE: 0.7433\n",
      "Epoch [97/150], Validation MAE: 0.5110, Validation RMSE: 0.7318\n"
     ]
    },
    {
     "name": "stderr",
     "output_type": "stream",
     "text": [
      "Epoch 98/150: 100%|██████████| 213/213 [00:24<00:00,  8.55batch/s, mae_loss=0.506]\n"
     ]
    },
    {
     "name": "stdout",
     "output_type": "stream",
     "text": [
      "Epoch [98/150], Training MAE: 0.5325, Training RMSE: 0.7428\n",
      "Epoch [98/150], Validation MAE: 0.5115, Validation RMSE: 0.7307\n"
     ]
    },
    {
     "name": "stderr",
     "output_type": "stream",
     "text": [
      "Epoch 99/150: 100%|██████████| 213/213 [00:25<00:00,  8.51batch/s, mae_loss=0.554]\n"
     ]
    },
    {
     "name": "stdout",
     "output_type": "stream",
     "text": [
      "Epoch [99/150], Training MAE: 0.5320, Training RMSE: 0.7419\n",
      "Epoch [99/150], Validation MAE: 0.5108, Validation RMSE: 0.7311\n"
     ]
    },
    {
     "name": "stderr",
     "output_type": "stream",
     "text": [
      "Epoch 100/150: 100%|██████████| 213/213 [00:25<00:00,  8.28batch/s, mae_loss=0.511]\n"
     ]
    },
    {
     "name": "stdout",
     "output_type": "stream",
     "text": [
      "Epoch [100/150], Training MAE: 0.5313, Training RMSE: 0.7415\n",
      "Epoch [100/150], Validation MAE: 0.5105, Validation RMSE: 0.7310\n"
     ]
    },
    {
     "name": "stderr",
     "output_type": "stream",
     "text": [
      "Epoch 101/150: 100%|██████████| 213/213 [00:25<00:00,  8.44batch/s, mae_loss=0.57] \n"
     ]
    },
    {
     "name": "stdout",
     "output_type": "stream",
     "text": [
      "Epoch [101/150], Training MAE: 0.5308, Training RMSE: 0.7406\n",
      "Epoch [101/150], Validation MAE: 0.5118, Validation RMSE: 0.7312\n"
     ]
    },
    {
     "name": "stderr",
     "output_type": "stream",
     "text": [
      "Epoch 102/150: 100%|██████████| 213/213 [00:26<00:00,  8.12batch/s, mae_loss=0.56] \n"
     ]
    },
    {
     "name": "stdout",
     "output_type": "stream",
     "text": [
      "Epoch [102/150], Training MAE: 0.5312, Training RMSE: 0.7412\n",
      "Epoch [102/150], Validation MAE: 0.5113, Validation RMSE: 0.7315\n"
     ]
    },
    {
     "name": "stderr",
     "output_type": "stream",
     "text": [
      "Epoch 103/150: 100%|██████████| 213/213 [00:25<00:00,  8.50batch/s, mae_loss=0.54] \n"
     ]
    },
    {
     "name": "stdout",
     "output_type": "stream",
     "text": [
      "Epoch [103/150], Training MAE: 0.5299, Training RMSE: 0.7396\n",
      "Epoch [103/150], Validation MAE: 0.5120, Validation RMSE: 0.7323\n"
     ]
    },
    {
     "name": "stderr",
     "output_type": "stream",
     "text": [
      "Epoch 104/150: 100%|██████████| 213/213 [00:26<00:00,  8.14batch/s, mae_loss=0.508]\n"
     ]
    },
    {
     "name": "stdout",
     "output_type": "stream",
     "text": [
      "Epoch [104/150], Training MAE: 0.5291, Training RMSE: 0.7386\n",
      "Epoch [104/150], Validation MAE: 0.5145, Validation RMSE: 0.7354\n"
     ]
    },
    {
     "name": "stderr",
     "output_type": "stream",
     "text": [
      "Epoch 105/150: 100%|██████████| 213/213 [00:25<00:00,  8.50batch/s, mae_loss=0.527]\n"
     ]
    },
    {
     "name": "stdout",
     "output_type": "stream",
     "text": [
      "Epoch [105/150], Training MAE: 0.5284, Training RMSE: 0.7375\n",
      "Epoch [105/150], Validation MAE: 0.5143, Validation RMSE: 0.7343\n"
     ]
    },
    {
     "name": "stderr",
     "output_type": "stream",
     "text": [
      "Epoch 106/150: 100%|██████████| 213/213 [00:24<00:00,  8.54batch/s, mae_loss=0.569]\n"
     ]
    },
    {
     "name": "stdout",
     "output_type": "stream",
     "text": [
      "Epoch [106/150], Training MAE: 0.5271, Training RMSE: 0.7362\n",
      "Epoch [106/150], Validation MAE: 0.5142, Validation RMSE: 0.7330\n"
     ]
    },
    {
     "name": "stderr",
     "output_type": "stream",
     "text": [
      "Epoch 107/150: 100%|██████████| 213/213 [00:25<00:00,  8.44batch/s, mae_loss=0.529]\n"
     ]
    },
    {
     "name": "stdout",
     "output_type": "stream",
     "text": [
      "Epoch [107/150], Training MAE: 0.5268, Training RMSE: 0.7361\n",
      "Epoch [107/150], Validation MAE: 0.5136, Validation RMSE: 0.7340\n"
     ]
    },
    {
     "name": "stderr",
     "output_type": "stream",
     "text": [
      "Epoch 108/150: 100%|██████████| 213/213 [00:24<00:00,  8.57batch/s, mae_loss=0.522]\n"
     ]
    },
    {
     "name": "stdout",
     "output_type": "stream",
     "text": [
      "Epoch [108/150], Training MAE: 0.5264, Training RMSE: 0.7356\n",
      "Epoch [108/150], Validation MAE: 0.5150, Validation RMSE: 0.7346\n"
     ]
    },
    {
     "name": "stderr",
     "output_type": "stream",
     "text": [
      "Epoch 109/150: 100%|██████████| 213/213 [00:25<00:00,  8.34batch/s, mae_loss=0.515]\n"
     ]
    },
    {
     "name": "stdout",
     "output_type": "stream",
     "text": [
      "Epoch [109/150], Training MAE: 0.5256, Training RMSE: 0.7345\n",
      "Epoch [109/150], Validation MAE: 0.5152, Validation RMSE: 0.7339\n"
     ]
    },
    {
     "name": "stderr",
     "output_type": "stream",
     "text": [
      "Epoch 110/150: 100%|██████████| 213/213 [00:24<00:00,  8.60batch/s, mae_loss=0.536]\n"
     ]
    },
    {
     "name": "stdout",
     "output_type": "stream",
     "text": [
      "Epoch [110/150], Training MAE: 0.5248, Training RMSE: 0.7336\n",
      "Epoch [110/150], Validation MAE: 0.5164, Validation RMSE: 0.7352\n"
     ]
    },
    {
     "name": "stderr",
     "output_type": "stream",
     "text": [
      "Epoch 111/150: 100%|██████████| 213/213 [00:26<00:00,  8.14batch/s, mae_loss=0.517]\n"
     ]
    },
    {
     "name": "stdout",
     "output_type": "stream",
     "text": [
      "Epoch [111/150], Training MAE: 0.5246, Training RMSE: 0.7336\n",
      "Epoch [111/150], Validation MAE: 0.5158, Validation RMSE: 0.7361\n"
     ]
    },
    {
     "name": "stderr",
     "output_type": "stream",
     "text": [
      "Epoch 112/150: 100%|██████████| 213/213 [00:25<00:00,  8.36batch/s, mae_loss=0.511]\n"
     ]
    },
    {
     "name": "stdout",
     "output_type": "stream",
     "text": [
      "Epoch [112/150], Training MAE: 0.5233, Training RMSE: 0.7320\n",
      "Epoch [112/150], Validation MAE: 0.5157, Validation RMSE: 0.7351\n"
     ]
    },
    {
     "name": "stderr",
     "output_type": "stream",
     "text": [
      "Epoch 113/150: 100%|██████████| 213/213 [00:25<00:00,  8.44batch/s, mae_loss=0.483]\n"
     ]
    },
    {
     "name": "stdout",
     "output_type": "stream",
     "text": [
      "Epoch [113/150], Training MAE: 0.5224, Training RMSE: 0.7308\n",
      "Epoch [113/150], Validation MAE: 0.5180, Validation RMSE: 0.7361\n"
     ]
    },
    {
     "name": "stderr",
     "output_type": "stream",
     "text": [
      "Epoch 114/150: 100%|██████████| 213/213 [00:25<00:00,  8.25batch/s, mae_loss=0.491]\n"
     ]
    },
    {
     "name": "stdout",
     "output_type": "stream",
     "text": [
      "Epoch [114/150], Training MAE: 0.5218, Training RMSE: 0.7302\n",
      "Epoch [114/150], Validation MAE: 0.5157, Validation RMSE: 0.7340\n"
     ]
    },
    {
     "name": "stderr",
     "output_type": "stream",
     "text": [
      "Epoch 115/150: 100%|██████████| 213/213 [00:24<00:00,  8.59batch/s, mae_loss=0.584]\n"
     ]
    },
    {
     "name": "stdout",
     "output_type": "stream",
     "text": [
      "Epoch [115/150], Training MAE: 0.5215, Training RMSE: 0.7295\n",
      "Epoch [115/150], Validation MAE: 0.5171, Validation RMSE: 0.7359\n"
     ]
    },
    {
     "name": "stderr",
     "output_type": "stream",
     "text": [
      "Epoch 116/150: 100%|██████████| 213/213 [00:25<00:00,  8.36batch/s, mae_loss=0.537]\n"
     ]
    },
    {
     "name": "stdout",
     "output_type": "stream",
     "text": [
      "Epoch [116/150], Training MAE: 0.5200, Training RMSE: 0.7285\n",
      "Epoch [116/150], Validation MAE: 0.5172, Validation RMSE: 0.7356\n"
     ]
    },
    {
     "name": "stderr",
     "output_type": "stream",
     "text": [
      "Epoch 117/150: 100%|██████████| 213/213 [00:24<00:00,  8.53batch/s, mae_loss=0.52] \n"
     ]
    },
    {
     "name": "stdout",
     "output_type": "stream",
     "text": [
      "Epoch [117/150], Training MAE: 0.5191, Training RMSE: 0.7269\n",
      "Epoch [117/150], Validation MAE: 0.5214, Validation RMSE: 0.7387\n"
     ]
    },
    {
     "name": "stderr",
     "output_type": "stream",
     "text": [
      "Epoch 118/150: 100%|██████████| 213/213 [00:25<00:00,  8.31batch/s, mae_loss=0.474]\n"
     ]
    },
    {
     "name": "stdout",
     "output_type": "stream",
     "text": [
      "Epoch [118/150], Training MAE: 0.5192, Training RMSE: 0.7270\n",
      "Epoch [118/150], Validation MAE: 0.5192, Validation RMSE: 0.7377\n"
     ]
    },
    {
     "name": "stderr",
     "output_type": "stream",
     "text": [
      "Epoch 119/150: 100%|██████████| 213/213 [00:24<00:00,  8.53batch/s, mae_loss=0.486]\n"
     ]
    },
    {
     "name": "stdout",
     "output_type": "stream",
     "text": [
      "Epoch [119/150], Training MAE: 0.5179, Training RMSE: 0.7259\n",
      "Epoch [119/150], Validation MAE: 0.5196, Validation RMSE: 0.7379\n"
     ]
    },
    {
     "name": "stderr",
     "output_type": "stream",
     "text": [
      "Epoch 120/150: 100%|██████████| 213/213 [00:25<00:00,  8.30batch/s, mae_loss=0.539]\n"
     ]
    },
    {
     "name": "stdout",
     "output_type": "stream",
     "text": [
      "Epoch [120/150], Training MAE: 0.5175, Training RMSE: 0.7251\n",
      "Epoch [120/150], Validation MAE: 0.5204, Validation RMSE: 0.7378\n"
     ]
    },
    {
     "name": "stderr",
     "output_type": "stream",
     "text": [
      "Epoch 121/150: 100%|██████████| 213/213 [00:24<00:00,  8.52batch/s, mae_loss=0.534]\n"
     ]
    },
    {
     "name": "stdout",
     "output_type": "stream",
     "text": [
      "Epoch [121/150], Training MAE: 0.5171, Training RMSE: 0.7248\n",
      "Epoch [121/150], Validation MAE: 0.5217, Validation RMSE: 0.7411\n"
     ]
    },
    {
     "name": "stderr",
     "output_type": "stream",
     "text": [
      "Epoch 122/150: 100%|██████████| 213/213 [00:25<00:00,  8.31batch/s, mae_loss=0.503]\n"
     ]
    },
    {
     "name": "stdout",
     "output_type": "stream",
     "text": [
      "Epoch [122/150], Training MAE: 0.5159, Training RMSE: 0.7236\n",
      "Epoch [122/150], Validation MAE: 0.5210, Validation RMSE: 0.7384\n"
     ]
    },
    {
     "name": "stderr",
     "output_type": "stream",
     "text": [
      "Epoch 123/150: 100%|██████████| 213/213 [00:25<00:00,  8.25batch/s, mae_loss=0.541]\n"
     ]
    },
    {
     "name": "stdout",
     "output_type": "stream",
     "text": [
      "Epoch [123/150], Training MAE: 0.5149, Training RMSE: 0.7223\n",
      "Epoch [123/150], Validation MAE: 0.5224, Validation RMSE: 0.7398\n"
     ]
    },
    {
     "name": "stderr",
     "output_type": "stream",
     "text": [
      "Epoch 124/150: 100%|██████████| 213/213 [00:25<00:00,  8.29batch/s, mae_loss=0.532]\n"
     ]
    },
    {
     "name": "stdout",
     "output_type": "stream",
     "text": [
      "Epoch [124/150], Training MAE: 0.5149, Training RMSE: 0.7220\n",
      "Epoch [124/150], Validation MAE: 0.5195, Validation RMSE: 0.7381\n"
     ]
    },
    {
     "name": "stderr",
     "output_type": "stream",
     "text": [
      "Epoch 125/150: 100%|██████████| 213/213 [00:25<00:00,  8.29batch/s, mae_loss=0.55] \n"
     ]
    },
    {
     "name": "stdout",
     "output_type": "stream",
     "text": [
      "Epoch [125/150], Training MAE: 0.5136, Training RMSE: 0.7209\n",
      "Epoch [125/150], Validation MAE: 0.5219, Validation RMSE: 0.7402\n"
     ]
    },
    {
     "name": "stderr",
     "output_type": "stream",
     "text": [
      "Epoch 126/150: 100%|██████████| 213/213 [00:25<00:00,  8.52batch/s, mae_loss=0.459]\n"
     ]
    },
    {
     "name": "stdout",
     "output_type": "stream",
     "text": [
      "Epoch [126/150], Training MAE: 0.5123, Training RMSE: 0.7192\n",
      "Epoch [126/150], Validation MAE: 0.5211, Validation RMSE: 0.7398\n"
     ]
    },
    {
     "name": "stderr",
     "output_type": "stream",
     "text": [
      "Epoch 127/150: 100%|██████████| 213/213 [00:25<00:00,  8.31batch/s, mae_loss=0.518]\n"
     ]
    },
    {
     "name": "stdout",
     "output_type": "stream",
     "text": [
      "Epoch [127/150], Training MAE: 0.5121, Training RMSE: 0.7189\n",
      "Epoch [127/150], Validation MAE: 0.5262, Validation RMSE: 0.7443\n"
     ]
    },
    {
     "name": "stderr",
     "output_type": "stream",
     "text": [
      "Epoch 128/150: 100%|██████████| 213/213 [00:25<00:00,  8.49batch/s, mae_loss=0.548]\n"
     ]
    },
    {
     "name": "stdout",
     "output_type": "stream",
     "text": [
      "Epoch [128/150], Training MAE: 0.5114, Training RMSE: 0.7179\n",
      "Epoch [128/150], Validation MAE: 0.5225, Validation RMSE: 0.7410\n"
     ]
    },
    {
     "name": "stderr",
     "output_type": "stream",
     "text": [
      "Epoch 129/150: 100%|██████████| 213/213 [00:24<00:00,  8.58batch/s, mae_loss=0.537]\n"
     ]
    },
    {
     "name": "stdout",
     "output_type": "stream",
     "text": [
      "Epoch [129/150], Training MAE: 0.5103, Training RMSE: 0.7168\n",
      "Epoch [129/150], Validation MAE: 0.5240, Validation RMSE: 0.7414\n"
     ]
    },
    {
     "name": "stderr",
     "output_type": "stream",
     "text": [
      "Epoch 130/150: 100%|██████████| 213/213 [00:25<00:00,  8.36batch/s, mae_loss=0.483]\n"
     ]
    },
    {
     "name": "stdout",
     "output_type": "stream",
     "text": [
      "Epoch [130/150], Training MAE: 0.5097, Training RMSE: 0.7161\n",
      "Epoch [130/150], Validation MAE: 0.5252, Validation RMSE: 0.7438\n"
     ]
    },
    {
     "name": "stderr",
     "output_type": "stream",
     "text": [
      "Epoch 131/150: 100%|██████████| 213/213 [00:25<00:00,  8.47batch/s, mae_loss=0.498]\n"
     ]
    },
    {
     "name": "stdout",
     "output_type": "stream",
     "text": [
      "Epoch [131/150], Training MAE: 0.5093, Training RMSE: 0.7157\n",
      "Epoch [131/150], Validation MAE: 0.5246, Validation RMSE: 0.7426\n"
     ]
    },
    {
     "name": "stderr",
     "output_type": "stream",
     "text": [
      "Epoch 132/150: 100%|██████████| 213/213 [00:25<00:00,  8.27batch/s, mae_loss=0.504]\n"
     ]
    },
    {
     "name": "stdout",
     "output_type": "stream",
     "text": [
      "Epoch [132/150], Training MAE: 0.5078, Training RMSE: 0.7137\n",
      "Epoch [132/150], Validation MAE: 0.5272, Validation RMSE: 0.7445\n"
     ]
    },
    {
     "name": "stderr",
     "output_type": "stream",
     "text": [
      "Epoch 133/150: 100%|██████████| 213/213 [00:25<00:00,  8.24batch/s, mae_loss=0.485]\n"
     ]
    },
    {
     "name": "stdout",
     "output_type": "stream",
     "text": [
      "Epoch [133/150], Training MAE: 0.5073, Training RMSE: 0.7136\n",
      "Epoch [133/150], Validation MAE: 0.5251, Validation RMSE: 0.7414\n"
     ]
    },
    {
     "name": "stderr",
     "output_type": "stream",
     "text": [
      "Epoch 134/150: 100%|██████████| 213/213 [00:25<00:00,  8.28batch/s, mae_loss=0.473]\n"
     ]
    },
    {
     "name": "stdout",
     "output_type": "stream",
     "text": [
      "Epoch [134/150], Training MAE: 0.5063, Training RMSE: 0.7123\n",
      "Epoch [134/150], Validation MAE: 0.5261, Validation RMSE: 0.7440\n"
     ]
    },
    {
     "name": "stderr",
     "output_type": "stream",
     "text": [
      "Epoch 135/150: 100%|██████████| 213/213 [00:25<00:00,  8.40batch/s, mae_loss=0.434]\n"
     ]
    },
    {
     "name": "stdout",
     "output_type": "stream",
     "text": [
      "Epoch [135/150], Training MAE: 0.5060, Training RMSE: 0.7116\n",
      "Epoch [135/150], Validation MAE: 0.5273, Validation RMSE: 0.7436\n"
     ]
    },
    {
     "name": "stderr",
     "output_type": "stream",
     "text": [
      "Epoch 136/150: 100%|██████████| 213/213 [00:24<00:00,  8.57batch/s, mae_loss=0.46] \n"
     ]
    },
    {
     "name": "stdout",
     "output_type": "stream",
     "text": [
      "Epoch [136/150], Training MAE: 0.5057, Training RMSE: 0.7113\n",
      "Epoch [136/150], Validation MAE: 0.5267, Validation RMSE: 0.7441\n"
     ]
    },
    {
     "name": "stderr",
     "output_type": "stream",
     "text": [
      "Epoch 137/150: 100%|██████████| 213/213 [00:25<00:00,  8.37batch/s, mae_loss=0.444]\n"
     ]
    },
    {
     "name": "stdout",
     "output_type": "stream",
     "text": [
      "Epoch [137/150], Training MAE: 0.5046, Training RMSE: 0.7098\n",
      "Epoch [137/150], Validation MAE: 0.5276, Validation RMSE: 0.7451\n"
     ]
    },
    {
     "name": "stderr",
     "output_type": "stream",
     "text": [
      "Epoch 138/150: 100%|██████████| 213/213 [00:25<00:00,  8.44batch/s, mae_loss=0.518]\n"
     ]
    },
    {
     "name": "stdout",
     "output_type": "stream",
     "text": [
      "Epoch [138/150], Training MAE: 0.5035, Training RMSE: 0.7089\n",
      "Epoch [138/150], Validation MAE: 0.5288, Validation RMSE: 0.7453\n"
     ]
    },
    {
     "name": "stderr",
     "output_type": "stream",
     "text": [
      "Epoch 139/150: 100%|██████████| 213/213 [00:25<00:00,  8.25batch/s, mae_loss=0.497]\n"
     ]
    },
    {
     "name": "stdout",
     "output_type": "stream",
     "text": [
      "Epoch [139/150], Training MAE: 0.5030, Training RMSE: 0.7084\n",
      "Epoch [139/150], Validation MAE: 0.5272, Validation RMSE: 0.7450\n"
     ]
    },
    {
     "name": "stderr",
     "output_type": "stream",
     "text": [
      "Epoch 140/150: 100%|██████████| 213/213 [00:25<00:00,  8.51batch/s, mae_loss=0.468]\n"
     ]
    },
    {
     "name": "stdout",
     "output_type": "stream",
     "text": [
      "Epoch [140/150], Training MAE: 0.5023, Training RMSE: 0.7072\n",
      "Epoch [140/150], Validation MAE: 0.5307, Validation RMSE: 0.7473\n"
     ]
    },
    {
     "name": "stderr",
     "output_type": "stream",
     "text": [
      "Epoch 141/150: 100%|██████████| 213/213 [00:25<00:00,  8.29batch/s, mae_loss=0.507]\n"
     ]
    },
    {
     "name": "stdout",
     "output_type": "stream",
     "text": [
      "Epoch [141/150], Training MAE: 0.5007, Training RMSE: 0.7061\n",
      "Epoch [141/150], Validation MAE: 0.5295, Validation RMSE: 0.7470\n"
     ]
    },
    {
     "name": "stderr",
     "output_type": "stream",
     "text": [
      "Epoch 142/150: 100%|██████████| 213/213 [00:25<00:00,  8.45batch/s, mae_loss=0.472]\n"
     ]
    },
    {
     "name": "stdout",
     "output_type": "stream",
     "text": [
      "Epoch [142/150], Training MAE: 0.5003, Training RMSE: 0.7051\n",
      "Epoch [142/150], Validation MAE: 0.5283, Validation RMSE: 0.7452\n"
     ]
    },
    {
     "name": "stderr",
     "output_type": "stream",
     "text": [
      "Epoch 143/150: 100%|██████████| 213/213 [00:25<00:00,  8.42batch/s, mae_loss=0.512]\n"
     ]
    },
    {
     "name": "stdout",
     "output_type": "stream",
     "text": [
      "Epoch [143/150], Training MAE: 0.4997, Training RMSE: 0.7046\n",
      "Epoch [143/150], Validation MAE: 0.5317, Validation RMSE: 0.7493\n"
     ]
    },
    {
     "name": "stderr",
     "output_type": "stream",
     "text": [
      "Epoch 144/150: 100%|██████████| 213/213 [00:25<00:00,  8.27batch/s, mae_loss=0.482]\n"
     ]
    },
    {
     "name": "stdout",
     "output_type": "stream",
     "text": [
      "Epoch [144/150], Training MAE: 0.4990, Training RMSE: 0.7040\n",
      "Epoch [144/150], Validation MAE: 0.5297, Validation RMSE: 0.7475\n"
     ]
    },
    {
     "name": "stderr",
     "output_type": "stream",
     "text": [
      "Epoch 145/150: 100%|██████████| 213/213 [00:24<00:00,  8.55batch/s, mae_loss=0.504]\n"
     ]
    },
    {
     "name": "stdout",
     "output_type": "stream",
     "text": [
      "Epoch [145/150], Training MAE: 0.4978, Training RMSE: 0.7025\n",
      "Epoch [145/150], Validation MAE: 0.5311, Validation RMSE: 0.7475\n"
     ]
    },
    {
     "name": "stderr",
     "output_type": "stream",
     "text": [
      "Epoch 146/150: 100%|██████████| 213/213 [00:25<00:00,  8.21batch/s, mae_loss=0.543]\n"
     ]
    },
    {
     "name": "stdout",
     "output_type": "stream",
     "text": [
      "Epoch [146/150], Training MAE: 0.4972, Training RMSE: 0.7015\n",
      "Epoch [146/150], Validation MAE: 0.5316, Validation RMSE: 0.7484\n"
     ]
    },
    {
     "name": "stderr",
     "output_type": "stream",
     "text": [
      "Epoch 147/150: 100%|██████████| 213/213 [00:25<00:00,  8.47batch/s, mae_loss=0.517]\n"
     ]
    },
    {
     "name": "stdout",
     "output_type": "stream",
     "text": [
      "Epoch [147/150], Training MAE: 0.4963, Training RMSE: 0.7008\n",
      "Epoch [147/150], Validation MAE: 0.5341, Validation RMSE: 0.7509\n"
     ]
    },
    {
     "name": "stderr",
     "output_type": "stream",
     "text": [
      "Epoch 148/150: 100%|██████████| 213/213 [00:25<00:00,  8.30batch/s, mae_loss=0.464]\n"
     ]
    },
    {
     "name": "stdout",
     "output_type": "stream",
     "text": [
      "Epoch [148/150], Training MAE: 0.4954, Training RMSE: 0.6999\n",
      "Epoch [148/150], Validation MAE: 0.5340, Validation RMSE: 0.7514\n"
     ]
    },
    {
     "name": "stderr",
     "output_type": "stream",
     "text": [
      "Epoch 149/150: 100%|██████████| 213/213 [00:25<00:00,  8.36batch/s, mae_loss=0.51] \n"
     ]
    },
    {
     "name": "stdout",
     "output_type": "stream",
     "text": [
      "Epoch [149/150], Training MAE: 0.4951, Training RMSE: 0.6992\n",
      "Epoch [149/150], Validation MAE: 0.5340, Validation RMSE: 0.7512\n"
     ]
    },
    {
     "name": "stderr",
     "output_type": "stream",
     "text": [
      "Epoch 150/150: 100%|██████████| 213/213 [00:25<00:00,  8.43batch/s, mae_loss=0.527]\n"
     ]
    },
    {
     "name": "stdout",
     "output_type": "stream",
     "text": [
      "Epoch [150/150], Training MAE: 0.4944, Training RMSE: 0.6980\n",
      "Epoch [150/150], Validation MAE: 0.5340, Validation RMSE: 0.7514\n",
      "End Prediction Horizon of 24 of shared-layer Model\n",
      "model_shared-layer_attention_24_4 saved\n"
     ]
    }
   ],
   "source": [
    "for prediction_horizon in prediction_horizons:\n",
    "    multiple_runs_each_patient_mae = []\n",
    "    multiple_runs_each_patient_rmse = []\n",
    "    for i in range(5): # indicating 5 runs \n",
    "\n",
    "        logger.info(f\"Start Prediction Horizon {prediction_horizon} of {model_type} model\")\n",
    "        print(f\"Start Prediction Horizon {prediction_horizon} of {model_type} model\")\n",
    "\n",
    "        train_loader, validation_loader, all_train_loader, test_loader, input_shape, input_shape_test, output_shape, output_shape_test =  prepare_data_loader(\n",
    "                                                                                        window_size,BATCH_SIZE, prediction_horizon,\n",
    "                                                                                        model_type, split_ratio = 0.7, df = None, df_test = None, output_folder_train=output_folder_train, shuffle = True)\n",
    "        \n",
    "\n",
    "\n",
    "        model_all_train = SharedLayerModelWithAttention(input_shape=input_shape , output_shape=output_shape) \n",
    "        model_all_train = model_all_train.to(device)\n",
    "        model_all_train, history2 = train_model(model_all_train, all_train_loader, val_loader = test_loader, epochs=150, learning_rate=0.00001, model_type = model_type)\n",
    "        histories_noval_PHs[prediction_horizon] = history2\n",
    "\n",
    "\n",
    "\n",
    "        logger.info(f\"End Prediction Horizon of {prediction_horizon} of {model_type} Model\")\n",
    "        print(f\"End Prediction Horizon of {prediction_horizon} of {model_type} Model\")\n",
    "        torch.save(model_all_train.state_dict(), f'saved_models//model_{model_type}_attention_{str(prediction_horizon)}_{str(i)}.pth')\n",
    "        print(f\"model_{model_type}_attention_{str(prediction_horizon)}_{str(i)} saved\")\n",
    "        logger.info(f\"model_{model_type}_attention_{str(prediction_horizon)}_{str(i)} saved\")\n",
    "  "
   ]
  },
  {
   "cell_type": "code",
   "execution_count": 5,
   "metadata": {},
   "outputs": [],
   "source": [
    "for prediction_horizon in prediction_horizons:\n",
    "    train_loader, validation_loader, all_train_loader, test_loader, input_shape, input_shape_test, output_shape, output_shape_test =  prepare_data_loader(\n",
    "                                                                                            window_size,BATCH_SIZE, prediction_horizon,\n",
    "                                                                                            model_type, split_ratio = 0.7, df = None, df_test = None, output_folder_train=output_folder_train, shuffle = False)\n",
    "            \n",
    "    multiple_runs_each_patient_mae = []\n",
    "    multiple_runs_each_patient_rmse = []\n",
    "    for i in range(5):\n",
    "       \n",
    "        model_all_train_read =  SharedLayerModelWithAttention(input_shape =input_shape , output_shape=output_shape)\n",
    "        model_all_train_read.load_state_dict(torch.load(f'saved_models//model_{model_type}_attention_{str(prediction_horizon)}_{i}.pth',weights_only=False))\n",
    "        model_all_train_read.to(device)\n",
    "        model_all_train_read.eval()\n",
    "        each_patient_mae, each_patient_rmse= evaluate_test(model_all_train_read,test_loader, device ,scaler, mask_value, model_type = model_type)\n",
    "\n",
    "        multiple_runs_each_patient_mae.append(each_patient_mae)\n",
    "        multiple_runs_each_patient_rmse.append(each_patient_rmse)\n",
    "\n",
    "    abs_patients_errors_PHs[prediction_horizon] = multiple_runs_each_patient_mae\n",
    "    squared_patients_errors_PHs[prediction_horizon] = multiple_runs_each_patient_rmse"
   ]
  },
  {
   "cell_type": "code",
   "execution_count": 6,
   "metadata": {},
   "outputs": [
    {
     "data": {
      "text/html": [
       "<div>\n",
       "<style scoped>\n",
       "    .dataframe tbody tr th:only-of-type {\n",
       "        vertical-align: middle;\n",
       "    }\n",
       "\n",
       "    .dataframe tbody tr th {\n",
       "        vertical-align: top;\n",
       "    }\n",
       "\n",
       "    .dataframe thead th {\n",
       "        text-align: right;\n",
       "    }\n",
       "</style>\n",
       "<table border=\"1\" class=\"dataframe\">\n",
       "  <thead>\n",
       "    <tr style=\"text-align: right;\">\n",
       "      <th></th>\n",
       "      <th>3</th>\n",
       "      <th>6</th>\n",
       "      <th>9</th>\n",
       "      <th>12</th>\n",
       "      <th>15</th>\n",
       "      <th>18</th>\n",
       "      <th>24</th>\n",
       "    </tr>\n",
       "  </thead>\n",
       "  <tbody>\n",
       "    <tr>\n",
       "      <th>559</th>\n",
       "      <td>5.38 ± 0.13</td>\n",
       "      <td>10.15 ± 0.04</td>\n",
       "      <td>14.68 ± 0.42</td>\n",
       "      <td>18.29 ± 0.15</td>\n",
       "      <td>21.92 ± 0.38</td>\n",
       "      <td>24.60 ± 0.29</td>\n",
       "      <td>28.46 ± 0.45</td>\n",
       "    </tr>\n",
       "    <tr>\n",
       "      <th>563</th>\n",
       "      <td>7.92 ± 0.06</td>\n",
       "      <td>13.72 ± 0.14</td>\n",
       "      <td>18.80 ± 0.24</td>\n",
       "      <td>23.69 ± 0.27</td>\n",
       "      <td>28.08 ± 0.14</td>\n",
       "      <td>32.25 ± 0.30</td>\n",
       "      <td>40.11 ± 0.60</td>\n",
       "    </tr>\n",
       "    <tr>\n",
       "      <th>570</th>\n",
       "      <td>4.41 ± 0.09</td>\n",
       "      <td>8.29 ± 0.18</td>\n",
       "      <td>11.89 ± 0.11</td>\n",
       "      <td>14.91 ± 0.21</td>\n",
       "      <td>18.17 ± 0.15</td>\n",
       "      <td>20.46 ± 0.36</td>\n",
       "      <td>25.06 ± 0.36</td>\n",
       "    </tr>\n",
       "    <tr>\n",
       "      <th>575</th>\n",
       "      <td>6.77 ± 0.04</td>\n",
       "      <td>12.41 ± 0.04</td>\n",
       "      <td>17.06 ± 0.21</td>\n",
       "      <td>21.66 ± 0.55</td>\n",
       "      <td>24.46 ± 0.48</td>\n",
       "      <td>27.72 ± 0.30</td>\n",
       "      <td>31.28 ± 0.39</td>\n",
       "    </tr>\n",
       "    <tr>\n",
       "      <th>588</th>\n",
       "      <td>7.69 ± 0.07</td>\n",
       "      <td>14.42 ± 0.10</td>\n",
       "      <td>20.20 ± 0.16</td>\n",
       "      <td>25.16 ± 0.21</td>\n",
       "      <td>29.54 ± 0.24</td>\n",
       "      <td>33.31 ± 0.34</td>\n",
       "      <td>36.81 ± 0.58</td>\n",
       "    </tr>\n",
       "    <tr>\n",
       "      <th>591</th>\n",
       "      <td>8.25 ± 0.12</td>\n",
       "      <td>14.64 ± 0.12</td>\n",
       "      <td>19.74 ± 0.11</td>\n",
       "      <td>23.93 ± 0.23</td>\n",
       "      <td>27.75 ± 0.39</td>\n",
       "      <td>30.72 ± 0.27</td>\n",
       "      <td>34.92 ± 0.71</td>\n",
       "    </tr>\n",
       "    <tr>\n",
       "      <th>540</th>\n",
       "      <td>6.38 ± 0.12</td>\n",
       "      <td>12.91 ± 0.06</td>\n",
       "      <td>19.05 ± 0.27</td>\n",
       "      <td>24.27 ± 0.24</td>\n",
       "      <td>28.31 ± 0.29</td>\n",
       "      <td>31.45 ± 0.24</td>\n",
       "      <td>37.01 ± 0.51</td>\n",
       "    </tr>\n",
       "    <tr>\n",
       "      <th>544</th>\n",
       "      <td>6.41 ± 0.08</td>\n",
       "      <td>11.76 ± 0.08</td>\n",
       "      <td>16.36 ± 0.23</td>\n",
       "      <td>20.49 ± 0.14</td>\n",
       "      <td>24.05 ± 0.34</td>\n",
       "      <td>27.32 ± 0.45</td>\n",
       "      <td>32.76 ± 0.46</td>\n",
       "    </tr>\n",
       "    <tr>\n",
       "      <th>552</th>\n",
       "      <td>6.41 ± 0.07</td>\n",
       "      <td>12.70 ± 0.13</td>\n",
       "      <td>18.32 ± 0.24</td>\n",
       "      <td>22.86 ± 0.42</td>\n",
       "      <td>26.10 ± 0.46</td>\n",
       "      <td>28.89 ± 0.63</td>\n",
       "      <td>33.15 ± 0.49</td>\n",
       "    </tr>\n",
       "    <tr>\n",
       "      <th>567</th>\n",
       "      <td>7.19 ± 0.07</td>\n",
       "      <td>13.94 ± 0.20</td>\n",
       "      <td>20.03 ± 0.15</td>\n",
       "      <td>25.16 ± 0.29</td>\n",
       "      <td>29.13 ± 0.27</td>\n",
       "      <td>32.32 ± 0.22</td>\n",
       "      <td>35.36 ± 0.17</td>\n",
       "    </tr>\n",
       "    <tr>\n",
       "      <th>584</th>\n",
       "      <td>7.46 ± 0.06</td>\n",
       "      <td>13.37 ± 0.14</td>\n",
       "      <td>19.00 ± 0.08</td>\n",
       "      <td>24.05 ± 0.07</td>\n",
       "      <td>28.48 ± 0.35</td>\n",
       "      <td>31.90 ± 0.42</td>\n",
       "      <td>36.19 ± 0.28</td>\n",
       "    </tr>\n",
       "    <tr>\n",
       "      <th>596</th>\n",
       "      <td>7.00 ± 0.15</td>\n",
       "      <td>12.33 ± 0.04</td>\n",
       "      <td>17.02 ± 0.23</td>\n",
       "      <td>21.09 ± 0.13</td>\n",
       "      <td>24.84 ± 0.25</td>\n",
       "      <td>27.96 ± 0.20</td>\n",
       "      <td>33.36 ± 0.37</td>\n",
       "    </tr>\n",
       "    <tr>\n",
       "      <th>Mean</th>\n",
       "      <td>6.77 ± 0.03</td>\n",
       "      <td>12.55 ± 0.03</td>\n",
       "      <td>17.68 ± 0.06</td>\n",
       "      <td>22.13 ± 0.06</td>\n",
       "      <td>25.90 ± 0.12</td>\n",
       "      <td>29.08 ± 0.10</td>\n",
       "      <td>33.70 ± 0.14</td>\n",
       "    </tr>\n",
       "  </tbody>\n",
       "</table>\n",
       "</div>"
      ],
      "text/plain": [
       "               3             6             9             12            15  \\\n",
       "559   5.38 ± 0.13  10.15 ± 0.04  14.68 ± 0.42  18.29 ± 0.15  21.92 ± 0.38   \n",
       "563   7.92 ± 0.06  13.72 ± 0.14  18.80 ± 0.24  23.69 ± 0.27  28.08 ± 0.14   \n",
       "570   4.41 ± 0.09   8.29 ± 0.18  11.89 ± 0.11  14.91 ± 0.21  18.17 ± 0.15   \n",
       "575   6.77 ± 0.04  12.41 ± 0.04  17.06 ± 0.21  21.66 ± 0.55  24.46 ± 0.48   \n",
       "588   7.69 ± 0.07  14.42 ± 0.10  20.20 ± 0.16  25.16 ± 0.21  29.54 ± 0.24   \n",
       "591   8.25 ± 0.12  14.64 ± 0.12  19.74 ± 0.11  23.93 ± 0.23  27.75 ± 0.39   \n",
       "540   6.38 ± 0.12  12.91 ± 0.06  19.05 ± 0.27  24.27 ± 0.24  28.31 ± 0.29   \n",
       "544   6.41 ± 0.08  11.76 ± 0.08  16.36 ± 0.23  20.49 ± 0.14  24.05 ± 0.34   \n",
       "552   6.41 ± 0.07  12.70 ± 0.13  18.32 ± 0.24  22.86 ± 0.42  26.10 ± 0.46   \n",
       "567   7.19 ± 0.07  13.94 ± 0.20  20.03 ± 0.15  25.16 ± 0.29  29.13 ± 0.27   \n",
       "584   7.46 ± 0.06  13.37 ± 0.14  19.00 ± 0.08  24.05 ± 0.07  28.48 ± 0.35   \n",
       "596   7.00 ± 0.15  12.33 ± 0.04  17.02 ± 0.23  21.09 ± 0.13  24.84 ± 0.25   \n",
       "Mean  6.77 ± 0.03  12.55 ± 0.03  17.68 ± 0.06  22.13 ± 0.06  25.90 ± 0.12   \n",
       "\n",
       "                18            24  \n",
       "559   24.60 ± 0.29  28.46 ± 0.45  \n",
       "563   32.25 ± 0.30  40.11 ± 0.60  \n",
       "570   20.46 ± 0.36  25.06 ± 0.36  \n",
       "575   27.72 ± 0.30  31.28 ± 0.39  \n",
       "588   33.31 ± 0.34  36.81 ± 0.58  \n",
       "591   30.72 ± 0.27  34.92 ± 0.71  \n",
       "540   31.45 ± 0.24  37.01 ± 0.51  \n",
       "544   27.32 ± 0.45  32.76 ± 0.46  \n",
       "552   28.89 ± 0.63  33.15 ± 0.49  \n",
       "567   32.32 ± 0.22  35.36 ± 0.17  \n",
       "584   31.90 ± 0.42  36.19 ± 0.28  \n",
       "596   27.96 ± 0.20  33.36 ± 0.37  \n",
       "Mean  29.08 ± 0.10  33.70 ± 0.14  "
      ]
     },
     "execution_count": 6,
     "metadata": {},
     "output_type": "execute_result"
    }
   ],
   "source": [
    "abs_patients_errors_PHs_df = pd.DataFrame()\n",
    "mean_ph = []\n",
    "for i, patient_mae in enumerate(abs_patients_errors_PHs.values()):\n",
    "\n",
    "    grouped_values = defaultdict(list)\n",
    "\n",
    "    # Group values by keys\n",
    "    for d in abs_patients_errors_PHs[prediction_horizons[i]]:\n",
    "        for key, value in d.items():\n",
    "            grouped_values[key].append(value)\n",
    "\n",
    "    mean_values = {key: np.mean(values) for key, values in grouped_values.items()}\n",
    "    std_values = {key: np.std(values, ddof=1) for key, values in grouped_values.items()}\n",
    "\n",
    "    # print(mean_values)\n",
    "    # print(std_values)\n",
    "    mean_std = [f\"{mean_values[i]:.2f} ± {std_values[i]:.2f}\" for i in range(len(mean_values))]\n",
    "    # abs_patients_errors_PHs_df[i] = patient_mae\n",
    "    abs_patients_errors_PHs_df[prediction_horizons[i]] = mean_std\n",
    "    # abs_patients_errors_PHs_df[prediction_horizons[i]] =  f\"{mean_values:.2f} ± {std_values:.2f}\"  \n",
    "    \n",
    "    mean_all_patients = np.mean(list(mean_values.values()))\n",
    "    mean_all_patients = [f\"{mean_values[i]:.2f} ± {std_values[i]:.2f}\"for i in range(len(mean_values))]\n",
    "    \n",
    "    mean_values = {key: np.mean(values) for key, values in grouped_values.items()}\n",
    "\n",
    "    # mean_ph.append(np.mean(list(mean_values.values())))\n",
    "    mean_all = [np.mean(list(patient_mae[i].values())) for i in range(5)]\n",
    "    # print(mean_all)\n",
    "    # mean_std_all = [f\"{np.mean(mean_all)[i] :.2f} ± {np.mean(std_all)[i]:.2f}\" for i in range(len(prediction_horizons))]\n",
    "    mean_std_all = [f\"{np.mean(mean_all) :.2f} ± {np.std(mean_all):.2f}\" for i in range(5)]\n",
    "\n",
    "    mean_ph.append(mean_std_all[0])\n",
    "\n",
    "    # abs_patients_errors_PHs_df['Mean'] = list(MAE_Patients_PHs.values())[i]\n",
    "    # abs_patients_errors_PHs_df.loc[len(abs_patients_errors_PHs_df.columns)] = list(MAE_Patients_PHs.values())[i]\n",
    "    # break\n",
    "\n",
    "abs_patients_errors_PHs_df.loc[len(abs_patients_errors_PHs_df.index)] = mean_ph\n",
    "# abs_patients_errors_PHs_df = abs_patients_errors_PHs_df.append(MAE_Patients_PHs,  ignore_index=True)\n",
    "abs_patients_errors_PHs_df.index = patients_list+[\"Mean\"]\n",
    "\n",
    "abs_patients_errors_PHs_df"
   ]
  },
  {
   "cell_type": "code",
   "execution_count": 7,
   "metadata": {},
   "outputs": [
    {
     "data": {
      "text/html": [
       "<div>\n",
       "<style scoped>\n",
       "    .dataframe tbody tr th:only-of-type {\n",
       "        vertical-align: middle;\n",
       "    }\n",
       "\n",
       "    .dataframe tbody tr th {\n",
       "        vertical-align: top;\n",
       "    }\n",
       "\n",
       "    .dataframe thead th {\n",
       "        text-align: right;\n",
       "    }\n",
       "</style>\n",
       "<table border=\"1\" class=\"dataframe\">\n",
       "  <thead>\n",
       "    <tr style=\"text-align: right;\">\n",
       "      <th></th>\n",
       "      <th>3</th>\n",
       "      <th>6</th>\n",
       "      <th>9</th>\n",
       "      <th>12</th>\n",
       "      <th>15</th>\n",
       "      <th>18</th>\n",
       "      <th>24</th>\n",
       "    </tr>\n",
       "  </thead>\n",
       "  <tbody>\n",
       "    <tr>\n",
       "      <th>559</th>\n",
       "      <td>8.39 ± 0.14</td>\n",
       "      <td>14.81 ± 0.09</td>\n",
       "      <td>20.71 ± 0.64</td>\n",
       "      <td>25.02 ± 0.19</td>\n",
       "      <td>29.76 ± 0.81</td>\n",
       "      <td>32.37 ± 0.44</td>\n",
       "      <td>37.30 ± 0.58</td>\n",
       "    </tr>\n",
       "    <tr>\n",
       "      <th>563</th>\n",
       "      <td>12.45 ± 0.09</td>\n",
       "      <td>19.36 ± 0.16</td>\n",
       "      <td>26.15 ± 0.45</td>\n",
       "      <td>32.27 ± 0.31</td>\n",
       "      <td>37.92 ± 0.28</td>\n",
       "      <td>42.74 ± 0.46</td>\n",
       "      <td>51.18 ± 0.68</td>\n",
       "    </tr>\n",
       "    <tr>\n",
       "      <th>570</th>\n",
       "      <td>7.21 ± 0.08</td>\n",
       "      <td>12.19 ± 0.22</td>\n",
       "      <td>16.49 ± 0.12</td>\n",
       "      <td>19.89 ± 0.21</td>\n",
       "      <td>23.62 ± 0.21</td>\n",
       "      <td>26.25 ± 0.46</td>\n",
       "      <td>31.34 ± 0.36</td>\n",
       "    </tr>\n",
       "    <tr>\n",
       "      <th>575</th>\n",
       "      <td>11.91 ± 0.03</td>\n",
       "      <td>19.08 ± 0.13</td>\n",
       "      <td>24.47 ± 0.25</td>\n",
       "      <td>29.75 ± 0.62</td>\n",
       "      <td>33.10 ± 0.42</td>\n",
       "      <td>36.46 ± 0.43</td>\n",
       "      <td>40.58 ± 0.48</td>\n",
       "    </tr>\n",
       "    <tr>\n",
       "      <th>588</th>\n",
       "      <td>10.71 ± 0.05</td>\n",
       "      <td>19.94 ± 0.14</td>\n",
       "      <td>27.55 ± 0.14</td>\n",
       "      <td>33.94 ± 0.29</td>\n",
       "      <td>39.07 ± 0.19</td>\n",
       "      <td>43.35 ± 0.54</td>\n",
       "      <td>47.84 ± 0.55</td>\n",
       "    </tr>\n",
       "    <tr>\n",
       "      <th>591</th>\n",
       "      <td>12.32 ± 0.15</td>\n",
       "      <td>20.41 ± 0.14</td>\n",
       "      <td>26.46 ± 0.10</td>\n",
       "      <td>31.00 ± 0.15</td>\n",
       "      <td>35.16 ± 0.41</td>\n",
       "      <td>38.30 ± 0.26</td>\n",
       "      <td>43.12 ± 0.63</td>\n",
       "    </tr>\n",
       "    <tr>\n",
       "      <th>540</th>\n",
       "      <td>8.95 ± 0.18</td>\n",
       "      <td>17.69 ± 0.11</td>\n",
       "      <td>25.46 ± 0.30</td>\n",
       "      <td>31.97 ± 0.22</td>\n",
       "      <td>37.13 ± 0.18</td>\n",
       "      <td>41.05 ± 0.28</td>\n",
       "      <td>47.20 ± 0.73</td>\n",
       "    </tr>\n",
       "    <tr>\n",
       "      <th>544</th>\n",
       "      <td>9.20 ± 0.16</td>\n",
       "      <td>16.84 ± 0.09</td>\n",
       "      <td>23.32 ± 0.22</td>\n",
       "      <td>28.67 ± 0.24</td>\n",
       "      <td>32.73 ± 0.44</td>\n",
       "      <td>36.25 ± 0.48</td>\n",
       "      <td>41.93 ± 0.51</td>\n",
       "    </tr>\n",
       "    <tr>\n",
       "      <th>552</th>\n",
       "      <td>9.80 ± 0.11</td>\n",
       "      <td>18.28 ± 0.09</td>\n",
       "      <td>25.56 ± 0.32</td>\n",
       "      <td>31.16 ± 0.48</td>\n",
       "      <td>34.96 ± 0.43</td>\n",
       "      <td>38.00 ± 0.78</td>\n",
       "      <td>42.87 ± 0.36</td>\n",
       "    </tr>\n",
       "    <tr>\n",
       "      <th>567</th>\n",
       "      <td>11.62 ± 0.12</td>\n",
       "      <td>20.52 ± 0.25</td>\n",
       "      <td>28.11 ± 0.19</td>\n",
       "      <td>34.56 ± 0.29</td>\n",
       "      <td>39.76 ± 0.36</td>\n",
       "      <td>43.65 ± 0.23</td>\n",
       "      <td>47.20 ± 0.18</td>\n",
       "    </tr>\n",
       "    <tr>\n",
       "      <th>584</th>\n",
       "      <td>10.96 ± 0.08</td>\n",
       "      <td>18.72 ± 0.07</td>\n",
       "      <td>25.89 ± 0.21</td>\n",
       "      <td>32.14 ± 0.22</td>\n",
       "      <td>37.54 ± 0.43</td>\n",
       "      <td>41.52 ± 0.70</td>\n",
       "      <td>46.65 ± 0.39</td>\n",
       "    </tr>\n",
       "    <tr>\n",
       "      <th>596</th>\n",
       "      <td>10.78 ± 0.11</td>\n",
       "      <td>17.52 ± 0.05</td>\n",
       "      <td>23.65 ± 0.22</td>\n",
       "      <td>28.81 ± 0.19</td>\n",
       "      <td>33.50 ± 0.36</td>\n",
       "      <td>37.50 ± 0.22</td>\n",
       "      <td>44.29 ± 0.46</td>\n",
       "    </tr>\n",
       "    <tr>\n",
       "      <th>Mean</th>\n",
       "      <td>10.36 ± 0.04</td>\n",
       "      <td>17.95 ± 0.05</td>\n",
       "      <td>24.49 ± 0.07</td>\n",
       "      <td>29.93 ± 0.08</td>\n",
       "      <td>34.52 ± 0.16</td>\n",
       "      <td>38.12 ± 0.14</td>\n",
       "      <td>43.46 ± 0.12</td>\n",
       "    </tr>\n",
       "  </tbody>\n",
       "</table>\n",
       "</div>"
      ],
      "text/plain": [
       "                3             6             9             12            15  \\\n",
       "559    8.39 ± 0.14  14.81 ± 0.09  20.71 ± 0.64  25.02 ± 0.19  29.76 ± 0.81   \n",
       "563   12.45 ± 0.09  19.36 ± 0.16  26.15 ± 0.45  32.27 ± 0.31  37.92 ± 0.28   \n",
       "570    7.21 ± 0.08  12.19 ± 0.22  16.49 ± 0.12  19.89 ± 0.21  23.62 ± 0.21   \n",
       "575   11.91 ± 0.03  19.08 ± 0.13  24.47 ± 0.25  29.75 ± 0.62  33.10 ± 0.42   \n",
       "588   10.71 ± 0.05  19.94 ± 0.14  27.55 ± 0.14  33.94 ± 0.29  39.07 ± 0.19   \n",
       "591   12.32 ± 0.15  20.41 ± 0.14  26.46 ± 0.10  31.00 ± 0.15  35.16 ± 0.41   \n",
       "540    8.95 ± 0.18  17.69 ± 0.11  25.46 ± 0.30  31.97 ± 0.22  37.13 ± 0.18   \n",
       "544    9.20 ± 0.16  16.84 ± 0.09  23.32 ± 0.22  28.67 ± 0.24  32.73 ± 0.44   \n",
       "552    9.80 ± 0.11  18.28 ± 0.09  25.56 ± 0.32  31.16 ± 0.48  34.96 ± 0.43   \n",
       "567   11.62 ± 0.12  20.52 ± 0.25  28.11 ± 0.19  34.56 ± 0.29  39.76 ± 0.36   \n",
       "584   10.96 ± 0.08  18.72 ± 0.07  25.89 ± 0.21  32.14 ± 0.22  37.54 ± 0.43   \n",
       "596   10.78 ± 0.11  17.52 ± 0.05  23.65 ± 0.22  28.81 ± 0.19  33.50 ± 0.36   \n",
       "Mean  10.36 ± 0.04  17.95 ± 0.05  24.49 ± 0.07  29.93 ± 0.08  34.52 ± 0.16   \n",
       "\n",
       "                18            24  \n",
       "559   32.37 ± 0.44  37.30 ± 0.58  \n",
       "563   42.74 ± 0.46  51.18 ± 0.68  \n",
       "570   26.25 ± 0.46  31.34 ± 0.36  \n",
       "575   36.46 ± 0.43  40.58 ± 0.48  \n",
       "588   43.35 ± 0.54  47.84 ± 0.55  \n",
       "591   38.30 ± 0.26  43.12 ± 0.63  \n",
       "540   41.05 ± 0.28  47.20 ± 0.73  \n",
       "544   36.25 ± 0.48  41.93 ± 0.51  \n",
       "552   38.00 ± 0.78  42.87 ± 0.36  \n",
       "567   43.65 ± 0.23  47.20 ± 0.18  \n",
       "584   41.52 ± 0.70  46.65 ± 0.39  \n",
       "596   37.50 ± 0.22  44.29 ± 0.46  \n",
       "Mean  38.12 ± 0.14  43.46 ± 0.12  "
      ]
     },
     "execution_count": 7,
     "metadata": {},
     "output_type": "execute_result"
    }
   ],
   "source": [
    "squared_patients_errors_PHs_df = pd.DataFrame()\n",
    "mean_ph = []\n",
    "for i, patient_mae in enumerate(squared_patients_errors_PHs.values()):\n",
    "\n",
    "    grouped_values = defaultdict(list)\n",
    "\n",
    "    # Group values by keys\n",
    "    for d in squared_patients_errors_PHs[prediction_horizons[i]]:\n",
    "        for key, value in d.items():\n",
    "            grouped_values[key].append(value)\n",
    "\n",
    "    mean_values = {key: np.mean(values) for key, values in grouped_values.items()}\n",
    "    std_values = {key: np.std(values, ddof=1) for key, values in grouped_values.items()}\n",
    "\n",
    "    mean_std = [f\"{mean_values[i]:.2f} ± {std_values[i]:.2f}\" for i in range(len(mean_values))]\n",
    "    squared_patients_errors_PHs_df[prediction_horizons[i]] = mean_std\n",
    "    \n",
    "    mean_all_patients = np.mean(list(mean_values.values()))\n",
    "    mean_all_patients = [f\"{mean_values[i]:.2f} ± {std_values[i]:.2f}\"for i in range(len(mean_values))]\n",
    "    \n",
    "    mean_values = {key: np.mean(values) for key, values in grouped_values.items()}\n",
    "\n",
    "    mean_all = [np.mean(list(patient_mae[i].values())) for i in range(5)]\n",
    "   \n",
    "    mean_std_all = [f\"{np.mean(mean_all) :.2f} ± {np.std(mean_all):.2f}\" for i in range(5)]\n",
    "\n",
    "    mean_ph.append(mean_std_all[0])\n",
    "\n",
    "\n",
    "squared_patients_errors_PHs_df.loc[len(squared_patients_errors_PHs_df.index)] = mean_ph\n",
    "squared_patients_errors_PHs_df.index = patients_list+[\"Mean\"]\n",
    "\n",
    "squared_patients_errors_PHs_df"
   ]
  },
  {
   "cell_type": "code",
   "execution_count": null,
   "metadata": {},
   "outputs": [
    {
     "name": "stdout",
     "output_type": "stream",
     "text": [
      "Total parameters in the model with 12 tasks: 1272460\n"
     ]
    }
   ],
   "source": [
    "\n",
    "\n",
    "# Instantiate the model for 12 tasks\n",
    "input_shape = (64, 12, 12)  # Example input shape: batch_size, sequence_length, input_channels\n",
    "output_tasks = 12           # Number of tasks\n",
    "\n",
    "# Instantiate the model\n",
    "model = SharedLayerModelWithAttention(input_shape=input_shape, output_shape=(output_tasks,))\n",
    "model.to(device)\n",
    "# Count the parameters\n",
    "total_params = count_parameters(model)\n",
    "print(f\"Total parameters in the model with {output_tasks} tasks: {total_params}\")\n",
    "#1,272,460"
   ]
  },
  {
   "cell_type": "code",
   "execution_count": 61,
   "metadata": {},
   "outputs": [],
   "source": [
    "\n",
    "# Apply style\n",
    "# plt.style.use(\"tableau-colorblind10\")\n",
    "# plt.style.use(\"default\")\n",
    "\n",
    "# Set Times New Roman font and darker border\n",
    "plt.rcParams['font.family'] = 'Times New Roman'\n",
    "plt.rcParams['axes.edgecolor'] = 'black'\n",
    "plt.rcParams['axes.linewidth'] = 1.5\n",
    "plt.rcParams['axes.labelsize'] = 14     # Axis label font size\n",
    "plt.rcParams['xtick.labelsize'] = 14      # X-tick font size\n",
    "plt.rcParams['ytick.labelsize'] = 14      # Y-tick font size\n"
   ]
  },
  {
   "cell_type": "code",
   "execution_count": 9,
   "metadata": {},
   "outputs": [
    {
     "data": {
      "image/png": "[encoded data removed]",
      "text/plain": [
       "<Figure size 1200x600 with 2 Axes>"
      ]
     },
     "metadata": {},
     "output_type": "display_data"
    }
   ],
   "source": [
    "plot_loss_curves(histories_noval_PHs[6])"
   ]
  }
 ],
 "metadata": {
  "kernelspec": {
   "display_name": "biomedical-env",
   "language": "python",
   "name": "python3"
  },
  "language_info": {
   "codemirror_mode": {
    "name": "ipython",
    "version": 3
   },
   "file_extension": ".py",
   "mimetype": "text/x-python",
   "name": "python",
   "nbconvert_exporter": "python",
   "pygments_lexer": "ipython3",
   "version": "3.11.7"
  }
 },
 "nbformat": 4,
 "nbformat_minor": 2
}
