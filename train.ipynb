{
 "cells": [
  {
   "cell_type": "code",
   "execution_count": 15,
   "metadata": {},
   "outputs": [],
   "source": [
    "from src.time_series_prep import aggregate_patients\n",
    "import pandas as pd\n",
    "from models.shared_layer import *\n",
    "from torchviz import make_dot\n",
    "from torchsummary import summary\n",
    "from src.data_preprocessing import *"
   ]
  },
  {
   "cell_type": "code",
   "execution_count": 16,
   "metadata": {},
   "outputs": [
    {
     "name": "stderr",
     "output_type": "stream",
     "text": [
      "2024-09-23 12:01:44,979 - INFO - Processing folder data/ohio-data/processed\\2018\\test, saving to data/ohio-data/processed/cleaned\\2018\\test\n",
      "2024-09-23 12:01:44,997 - INFO - Processing file 559_testing.csv...\n",
      "d:\\NISC\\Glucose biomedical\\shared layer project\\src\\data_preprocessing.py:55: FutureWarning: 'T' is deprecated and will be removed in a future version, please use 'min' instead.\n",
      "  'mean': df.resample(freq).mean,\n",
      "d:\\NISC\\Glucose biomedical\\shared layer project\\src\\data_preprocessing.py:56: FutureWarning: 'T' is deprecated and will be removed in a future version, please use 'min' instead.\n",
      "  'sum': df.resample(freq).sum,\n",
      "d:\\NISC\\Glucose biomedical\\shared layer project\\src\\data_preprocessing.py:57: FutureWarning: 'T' is deprecated and will be removed in a future version, please use 'min' instead.\n",
      "  'median': df.resample(freq).median\n",
      "2024-09-23 12:01:45,063 - INFO - Processed and saved 559_testing.csv to data/ohio-data/processed/cleaned\\2018\\test\\559_testing.csv.\n",
      "2024-09-23 12:01:45,080 - INFO - Processing file 563_testing.csv...\n",
      "d:\\NISC\\Glucose biomedical\\shared layer project\\src\\data_preprocessing.py:55: FutureWarning: 'T' is deprecated and will be removed in a future version, please use 'min' instead.\n",
      "  'mean': df.resample(freq).mean,\n",
      "d:\\NISC\\Glucose biomedical\\shared layer project\\src\\data_preprocessing.py:56: FutureWarning: 'T' is deprecated and will be removed in a future version, please use 'min' instead.\n",
      "  'sum': df.resample(freq).sum,\n",
      "d:\\NISC\\Glucose biomedical\\shared layer project\\src\\data_preprocessing.py:57: FutureWarning: 'T' is deprecated and will be removed in a future version, please use 'min' instead.\n",
      "  'median': df.resample(freq).median\n",
      "2024-09-23 12:01:45,129 - INFO - Processed and saved 563_testing.csv to data/ohio-data/processed/cleaned\\2018\\test\\563_testing.csv.\n",
      "2024-09-23 12:01:45,148 - INFO - Processing file 570_testing.csv...\n",
      "d:\\NISC\\Glucose biomedical\\shared layer project\\src\\data_preprocessing.py:55: FutureWarning: 'T' is deprecated and will be removed in a future version, please use 'min' instead.\n",
      "  'mean': df.resample(freq).mean,\n",
      "d:\\NISC\\Glucose biomedical\\shared layer project\\src\\data_preprocessing.py:56: FutureWarning: 'T' is deprecated and will be removed in a future version, please use 'min' instead.\n",
      "  'sum': df.resample(freq).sum,\n",
      "d:\\NISC\\Glucose biomedical\\shared layer project\\src\\data_preprocessing.py:57: FutureWarning: 'T' is deprecated and will be removed in a future version, please use 'min' instead.\n",
      "  'median': df.resample(freq).median\n",
      "2024-09-23 12:01:45,202 - INFO - Processed and saved 570_testing.csv to data/ohio-data/processed/cleaned\\2018\\test\\570_testing.csv.\n",
      "2024-09-23 12:01:45,214 - INFO - Processing file 575_testing.csv...\n"
     ]
    },
    {
     "name": "stdout",
     "output_type": "stream",
     "text": [
      "Min value: -1.8602153704612923\n",
      "Min value: -2.2842720952910955\n",
      "Min value: -2.3313311732155886\n"
     ]
    },
    {
     "name": "stderr",
     "output_type": "stream",
     "text": [
      "d:\\NISC\\Glucose biomedical\\shared layer project\\src\\data_preprocessing.py:55: FutureWarning: 'T' is deprecated and will be removed in a future version, please use 'min' instead.\n",
      "  'mean': df.resample(freq).mean,\n",
      "d:\\NISC\\Glucose biomedical\\shared layer project\\src\\data_preprocessing.py:56: FutureWarning: 'T' is deprecated and will be removed in a future version, please use 'min' instead.\n",
      "  'sum': df.resample(freq).sum,\n",
      "d:\\NISC\\Glucose biomedical\\shared layer project\\src\\data_preprocessing.py:57: FutureWarning: 'T' is deprecated and will be removed in a future version, please use 'min' instead.\n",
      "  'median': df.resample(freq).median\n",
      "2024-09-23 12:01:45,250 - INFO - Processed and saved 575_testing.csv to data/ohio-data/processed/cleaned\\2018\\test\\575_testing.csv.\n",
      "2024-09-23 12:01:45,266 - INFO - Processing file 588_testing.csv...\n",
      "d:\\NISC\\Glucose biomedical\\shared layer project\\src\\data_preprocessing.py:55: FutureWarning: 'T' is deprecated and will be removed in a future version, please use 'min' instead.\n",
      "  'mean': df.resample(freq).mean,\n",
      "d:\\NISC\\Glucose biomedical\\shared layer project\\src\\data_preprocessing.py:56: FutureWarning: 'T' is deprecated and will be removed in a future version, please use 'min' instead.\n",
      "  'sum': df.resample(freq).sum,\n",
      "d:\\NISC\\Glucose biomedical\\shared layer project\\src\\data_preprocessing.py:57: FutureWarning: 'T' is deprecated and will be removed in a future version, please use 'min' instead.\n",
      "  'median': df.resample(freq).median\n",
      "2024-09-23 12:01:45,302 - INFO - Processed and saved 588_testing.csv to data/ohio-data/processed/cleaned\\2018\\test\\588_testing.csv.\n",
      "2024-09-23 12:01:45,315 - INFO - Processing file 591_testing.csv...\n",
      "d:\\NISC\\Glucose biomedical\\shared layer project\\src\\data_preprocessing.py:55: FutureWarning: 'T' is deprecated and will be removed in a future version, please use 'min' instead.\n",
      "  'mean': df.resample(freq).mean,\n",
      "d:\\NISC\\Glucose biomedical\\shared layer project\\src\\data_preprocessing.py:56: FutureWarning: 'T' is deprecated and will be removed in a future version, please use 'min' instead.\n",
      "  'sum': df.resample(freq).sum,\n",
      "d:\\NISC\\Glucose biomedical\\shared layer project\\src\\data_preprocessing.py:57: FutureWarning: 'T' is deprecated and will be removed in a future version, please use 'min' instead.\n",
      "  'median': df.resample(freq).median\n",
      "2024-09-23 12:01:45,350 - INFO - Processed and saved 591_testing.csv to data/ohio-data/processed/cleaned\\2018\\test\\591_testing.csv.\n",
      "2024-09-23 12:01:45,351 - INFO - Processing folder data/ohio-data/processed\\2018\\train, saving to data/ohio-data/processed/cleaned\\2018\\train\n",
      "2024-09-23 12:01:45,381 - INFO - Processing file 559_training.csv...\n",
      "d:\\NISC\\Glucose biomedical\\shared layer project\\src\\data_preprocessing.py:55: FutureWarning: 'T' is deprecated and will be removed in a future version, please use 'min' instead.\n",
      "  'mean': df.resample(freq).mean,\n",
      "d:\\NISC\\Glucose biomedical\\shared layer project\\src\\data_preprocessing.py:56: FutureWarning: 'T' is deprecated and will be removed in a future version, please use 'min' instead.\n",
      "  'sum': df.resample(freq).sum,\n",
      "d:\\NISC\\Glucose biomedical\\shared layer project\\src\\data_preprocessing.py:57: FutureWarning: 'T' is deprecated and will be removed in a future version, please use 'min' instead.\n",
      "  'median': df.resample(freq).median\n"
     ]
    },
    {
     "name": "stdout",
     "output_type": "stream",
     "text": [
      "Min value: -1.826282343368635\n",
      "Min value: -2.2420620582330053\n",
      "Min value: -1.9808719595399806\n"
     ]
    },
    {
     "name": "stderr",
     "output_type": "stream",
     "text": [
      "2024-09-23 12:01:45,486 - INFO - Processed and saved 559_training.csv to data/ohio-data/processed/cleaned\\2018\\train\\559_training.csv.\n",
      "2024-09-23 12:01:45,509 - INFO - Processing file 563_training.csv...\n",
      "d:\\NISC\\Glucose biomedical\\shared layer project\\src\\data_preprocessing.py:55: FutureWarning: 'T' is deprecated and will be removed in a future version, please use 'min' instead.\n",
      "  'mean': df.resample(freq).mean,\n",
      "d:\\NISC\\Glucose biomedical\\shared layer project\\src\\data_preprocessing.py:56: FutureWarning: 'T' is deprecated and will be removed in a future version, please use 'min' instead.\n",
      "  'sum': df.resample(freq).sum,\n",
      "d:\\NISC\\Glucose biomedical\\shared layer project\\src\\data_preprocessing.py:57: FutureWarning: 'T' is deprecated and will be removed in a future version, please use 'min' instead.\n",
      "  'median': df.resample(freq).median\n"
     ]
    },
    {
     "name": "stdout",
     "output_type": "stream",
     "text": [
      "Min value: -1.7951719164112283\n",
      "Min value: -2.1349073291768144\n"
     ]
    },
    {
     "name": "stderr",
     "output_type": "stream",
     "text": [
      "2024-09-23 12:01:45,642 - INFO - Processed and saved 563_training.csv to data/ohio-data/processed/cleaned\\2018\\train\\563_training.csv.\n",
      "2024-09-23 12:01:45,672 - INFO - Processing file 570_training.csv...\n",
      "d:\\NISC\\Glucose biomedical\\shared layer project\\src\\data_preprocessing.py:55: FutureWarning: 'T' is deprecated and will be removed in a future version, please use 'min' instead.\n",
      "  'mean': df.resample(freq).mean,\n",
      "d:\\NISC\\Glucose biomedical\\shared layer project\\src\\data_preprocessing.py:56: FutureWarning: 'T' is deprecated and will be removed in a future version, please use 'min' instead.\n",
      "  'sum': df.resample(freq).sum,\n",
      "d:\\NISC\\Glucose biomedical\\shared layer project\\src\\data_preprocessing.py:57: FutureWarning: 'T' is deprecated and will be removed in a future version, please use 'min' instead.\n",
      "  'median': df.resample(freq).median\n",
      "2024-09-23 12:01:45,832 - INFO - Processed and saved 570_training.csv to data/ohio-data/processed/cleaned\\2018\\train\\570_training.csv.\n",
      "2024-09-23 12:01:45,858 - INFO - Processing file 575_training.csv...\n",
      "d:\\NISC\\Glucose biomedical\\shared layer project\\src\\data_preprocessing.py:55: FutureWarning: 'T' is deprecated and will be removed in a future version, please use 'min' instead.\n",
      "  'mean': df.resample(freq).mean,\n",
      "d:\\NISC\\Glucose biomedical\\shared layer project\\src\\data_preprocessing.py:56: FutureWarning: 'T' is deprecated and will be removed in a future version, please use 'min' instead.\n",
      "  'sum': df.resample(freq).sum,\n",
      "d:\\NISC\\Glucose biomedical\\shared layer project\\src\\data_preprocessing.py:57: FutureWarning: 'T' is deprecated and will be removed in a future version, please use 'min' instead.\n",
      "  'median': df.resample(freq).median\n"
     ]
    },
    {
     "name": "stdout",
     "output_type": "stream",
     "text": [
      "Min value: -2.2702047904250104\n",
      "Min value: -1.6887579738211689\n"
     ]
    },
    {
     "name": "stderr",
     "output_type": "stream",
     "text": [
      "2024-09-23 12:01:45,987 - INFO - Processed and saved 575_training.csv to data/ohio-data/processed/cleaned\\2018\\train\\575_training.csv.\n",
      "2024-09-23 12:01:46,018 - INFO - Processing file 588_training.csv...\n",
      "d:\\NISC\\Glucose biomedical\\shared layer project\\src\\data_preprocessing.py:55: FutureWarning: 'T' is deprecated and will be removed in a future version, please use 'min' instead.\n",
      "  'mean': df.resample(freq).mean,\n",
      "d:\\NISC\\Glucose biomedical\\shared layer project\\src\\data_preprocessing.py:56: FutureWarning: 'T' is deprecated and will be removed in a future version, please use 'min' instead.\n",
      "  'sum': df.resample(freq).sum,\n",
      "d:\\NISC\\Glucose biomedical\\shared layer project\\src\\data_preprocessing.py:57: FutureWarning: 'T' is deprecated and will be removed in a future version, please use 'min' instead.\n",
      "  'median': df.resample(freq).median\n",
      "2024-09-23 12:01:46,164 - INFO - Processed and saved 588_training.csv to data/ohio-data/processed/cleaned\\2018\\train\\588_training.csv.\n",
      "2024-09-23 12:01:46,188 - INFO - Processing file 591_training.csv...\n",
      "d:\\NISC\\Glucose biomedical\\shared layer project\\src\\data_preprocessing.py:55: FutureWarning: 'T' is deprecated and will be removed in a future version, please use 'min' instead.\n",
      "  'mean': df.resample(freq).mean,\n",
      "d:\\NISC\\Glucose biomedical\\shared layer project\\src\\data_preprocessing.py:56: FutureWarning: 'T' is deprecated and will be removed in a future version, please use 'min' instead.\n",
      "  'sum': df.resample(freq).sum,\n",
      "d:\\NISC\\Glucose biomedical\\shared layer project\\src\\data_preprocessing.py:57: FutureWarning: 'T' is deprecated and will be removed in a future version, please use 'min' instead.\n",
      "  'median': df.resample(freq).median\n"
     ]
    },
    {
     "name": "stdout",
     "output_type": "stream",
     "text": [
      "Min value: -2.474620487082957\n",
      "Min value: -1.9990085932416568\n"
     ]
    },
    {
     "name": "stderr",
     "output_type": "stream",
     "text": [
      "2024-09-23 12:01:46,302 - INFO - Processed and saved 591_training.csv to data/ohio-data/processed/cleaned\\2018\\train\\591_training.csv.\n",
      "2024-09-23 12:01:46,304 - INFO - Processing folder data/ohio-data/processed\\2020\\test, saving to data/ohio-data/processed/cleaned\\2020\\test\n",
      "2024-09-23 12:01:46,324 - INFO - Processing file 540_testing.csv...\n",
      "d:\\NISC\\Glucose biomedical\\shared layer project\\src\\data_preprocessing.py:55: FutureWarning: 'T' is deprecated and will be removed in a future version, please use 'min' instead.\n",
      "  'mean': df.resample(freq).mean,\n",
      "d:\\NISC\\Glucose biomedical\\shared layer project\\src\\data_preprocessing.py:56: FutureWarning: 'T' is deprecated and will be removed in a future version, please use 'min' instead.\n",
      "  'sum': df.resample(freq).sum,\n",
      "d:\\NISC\\Glucose biomedical\\shared layer project\\src\\data_preprocessing.py:57: FutureWarning: 'T' is deprecated and will be removed in a future version, please use 'min' instead.\n",
      "  'median': df.resample(freq).median\n",
      "2024-09-23 12:01:46,366 - INFO - Processed and saved 540_testing.csv to data/ohio-data/processed/cleaned\\2020\\test\\540_testing.csv.\n",
      "2024-09-23 12:01:46,383 - INFO - Processing file 544_testing.csv...\n",
      "d:\\NISC\\Glucose biomedical\\shared layer project\\src\\data_preprocessing.py:55: FutureWarning: 'T' is deprecated and will be removed in a future version, please use 'min' instead.\n",
      "  'mean': df.resample(freq).mean,\n",
      "d:\\NISC\\Glucose biomedical\\shared layer project\\src\\data_preprocessing.py:56: FutureWarning: 'T' is deprecated and will be removed in a future version, please use 'min' instead.\n",
      "  'sum': df.resample(freq).sum,\n",
      "d:\\NISC\\Glucose biomedical\\shared layer project\\src\\data_preprocessing.py:57: FutureWarning: 'T' is deprecated and will be removed in a future version, please use 'min' instead.\n",
      "  'median': df.resample(freq).median\n",
      "2024-09-23 12:01:46,422 - INFO - Processed and saved 544_testing.csv to data/ohio-data/processed/cleaned\\2020\\test\\544_testing.csv.\n",
      "2024-09-23 12:01:46,436 - INFO - Processing file 552_testing.csv...\n",
      "d:\\NISC\\Glucose biomedical\\shared layer project\\src\\data_preprocessing.py:55: FutureWarning: 'T' is deprecated and will be removed in a future version, please use 'min' instead.\n",
      "  'mean': df.resample(freq).mean,\n",
      "d:\\NISC\\Glucose biomedical\\shared layer project\\src\\data_preprocessing.py:56: FutureWarning: 'T' is deprecated and will be removed in a future version, please use 'min' instead.\n",
      "  'sum': df.resample(freq).sum,\n",
      "d:\\NISC\\Glucose biomedical\\shared layer project\\src\\data_preprocessing.py:57: FutureWarning: 'T' is deprecated and will be removed in a future version, please use 'min' instead.\n",
      "  'median': df.resample(freq).median\n",
      "2024-09-23 12:01:46,476 - INFO - Processed and saved 552_testing.csv to data/ohio-data/processed/cleaned\\2020\\test\\552_testing.csv.\n",
      "2024-09-23 12:01:46,490 - INFO - Processing file 567_testing.csv...\n",
      "d:\\NISC\\Glucose biomedical\\shared layer project\\src\\data_preprocessing.py:55: FutureWarning: 'T' is deprecated and will be removed in a future version, please use 'min' instead.\n",
      "  'mean': df.resample(freq).mean,\n",
      "d:\\NISC\\Glucose biomedical\\shared layer project\\src\\data_preprocessing.py:56: FutureWarning: 'T' is deprecated and will be removed in a future version, please use 'min' instead.\n",
      "  'sum': df.resample(freq).sum,\n",
      "d:\\NISC\\Glucose biomedical\\shared layer project\\src\\data_preprocessing.py:57: FutureWarning: 'T' is deprecated and will be removed in a future version, please use 'min' instead.\n",
      "  'median': df.resample(freq).median\n",
      "2024-09-23 12:01:46,527 - INFO - Processed and saved 567_testing.csv to data/ohio-data/processed/cleaned\\2020\\test\\567_testing.csv.\n"
     ]
    },
    {
     "name": "stdout",
     "output_type": "stream",
     "text": [
      "Min value: -1.6391059513006903\n",
      "Min value: -1.7450906819927328\n",
      "Min value: -1.7835268111112048\n",
      "Min value: -1.9327588678488503\n"
     ]
    },
    {
     "name": "stderr",
     "output_type": "stream",
     "text": [
      "2024-09-23 12:01:46,546 - INFO - Processing file 584_testing.csv...\n",
      "d:\\NISC\\Glucose biomedical\\shared layer project\\src\\data_preprocessing.py:55: FutureWarning: 'T' is deprecated and will be removed in a future version, please use 'min' instead.\n",
      "  'mean': df.resample(freq).mean,\n",
      "d:\\NISC\\Glucose biomedical\\shared layer project\\src\\data_preprocessing.py:56: FutureWarning: 'T' is deprecated and will be removed in a future version, please use 'min' instead.\n",
      "  'sum': df.resample(freq).sum,\n",
      "d:\\NISC\\Glucose biomedical\\shared layer project\\src\\data_preprocessing.py:57: FutureWarning: 'T' is deprecated and will be removed in a future version, please use 'min' instead.\n",
      "  'median': df.resample(freq).median\n",
      "2024-09-23 12:01:46,590 - INFO - Processed and saved 584_testing.csv to data/ohio-data/processed/cleaned\\2020\\test\\584_testing.csv.\n",
      "2024-09-23 12:01:46,605 - INFO - Processing file 596_testing.csv...\n",
      "d:\\NISC\\Glucose biomedical\\shared layer project\\src\\data_preprocessing.py:55: FutureWarning: 'T' is deprecated and will be removed in a future version, please use 'min' instead.\n",
      "  'mean': df.resample(freq).mean,\n",
      "d:\\NISC\\Glucose biomedical\\shared layer project\\src\\data_preprocessing.py:56: FutureWarning: 'T' is deprecated and will be removed in a future version, please use 'min' instead.\n",
      "  'sum': df.resample(freq).sum,\n",
      "d:\\NISC\\Glucose biomedical\\shared layer project\\src\\data_preprocessing.py:57: FutureWarning: 'T' is deprecated and will be removed in a future version, please use 'min' instead.\n",
      "  'median': df.resample(freq).median\n",
      "2024-09-23 12:01:46,646 - INFO - Processed and saved 596_testing.csv to data/ohio-data/processed/cleaned\\2020\\test\\596_testing.csv.\n",
      "2024-09-23 12:01:46,647 - INFO - Processing folder data/ohio-data/processed\\2020\\train, saving to data/ohio-data/processed/cleaned\\2020\\train\n",
      "2024-09-23 12:01:46,673 - INFO - Processing file 540_training.csv...\n",
      "d:\\NISC\\Glucose biomedical\\shared layer project\\src\\data_preprocessing.py:55: FutureWarning: 'T' is deprecated and will be removed in a future version, please use 'min' instead.\n",
      "  'mean': df.resample(freq).mean,\n",
      "d:\\NISC\\Glucose biomedical\\shared layer project\\src\\data_preprocessing.py:56: FutureWarning: 'T' is deprecated and will be removed in a future version, please use 'min' instead.\n",
      "  'sum': df.resample(freq).sum,\n",
      "d:\\NISC\\Glucose biomedical\\shared layer project\\src\\data_preprocessing.py:57: FutureWarning: 'T' is deprecated and will be removed in a future version, please use 'min' instead.\n",
      "  'median': df.resample(freq).median\n"
     ]
    },
    {
     "name": "stdout",
     "output_type": "stream",
     "text": [
      "Min value: -2.126820354169189\n",
      "Min value: -1.9630790561934568\n",
      "Min value: -1.7646848967267978\n"
     ]
    },
    {
     "name": "stderr",
     "output_type": "stream",
     "text": [
      "2024-09-23 12:01:46,824 - INFO - Processed and saved 540_training.csv to data/ohio-data/processed/cleaned\\2020\\train\\540_training.csv.\n",
      "2024-09-23 12:01:46,859 - INFO - Processing file 544_training.csv...\n",
      "d:\\NISC\\Glucose biomedical\\shared layer project\\src\\data_preprocessing.py:55: FutureWarning: 'T' is deprecated and will be removed in a future version, please use 'min' instead.\n",
      "  'mean': df.resample(freq).mean,\n",
      "d:\\NISC\\Glucose biomedical\\shared layer project\\src\\data_preprocessing.py:56: FutureWarning: 'T' is deprecated and will be removed in a future version, please use 'min' instead.\n",
      "  'sum': df.resample(freq).sum,\n",
      "d:\\NISC\\Glucose biomedical\\shared layer project\\src\\data_preprocessing.py:57: FutureWarning: 'T' is deprecated and will be removed in a future version, please use 'min' instead.\n",
      "  'median': df.resample(freq).median\n",
      "2024-09-23 12:01:46,983 - INFO - Processed and saved 544_training.csv to data/ohio-data/processed/cleaned\\2020\\train\\544_training.csv.\n",
      "2024-09-23 12:01:47,011 - INFO - Processing file 552_training.csv...\n",
      "d:\\NISC\\Glucose biomedical\\shared layer project\\src\\data_preprocessing.py:55: FutureWarning: 'T' is deprecated and will be removed in a future version, please use 'min' instead.\n",
      "  'mean': df.resample(freq).mean,\n",
      "d:\\NISC\\Glucose biomedical\\shared layer project\\src\\data_preprocessing.py:56: FutureWarning: 'T' is deprecated and will be removed in a future version, please use 'min' instead.\n",
      "  'sum': df.resample(freq).sum,\n",
      "d:\\NISC\\Glucose biomedical\\shared layer project\\src\\data_preprocessing.py:57: FutureWarning: 'T' is deprecated and will be removed in a future version, please use 'min' instead.\n",
      "  'median': df.resample(freq).median\n"
     ]
    },
    {
     "name": "stdout",
     "output_type": "stream",
     "text": [
      "Min value: -1.957521200477816\n"
     ]
    },
    {
     "name": "stderr",
     "output_type": "stream",
     "text": [
      "2024-09-23 12:01:47,194 - INFO - Processed and saved 552_training.csv to data/ohio-data/processed/cleaned\\2020\\train\\552_training.csv.\n",
      "2024-09-23 12:01:47,220 - INFO - Processing file 567_training.csv...\n"
     ]
    },
    {
     "name": "stdout",
     "output_type": "stream",
     "text": [
      "Min value: -1.8633448760687117\n",
      "Min value: -1.868155353634652\n"
     ]
    },
    {
     "name": "stderr",
     "output_type": "stream",
     "text": [
      "d:\\NISC\\Glucose biomedical\\shared layer project\\src\\data_preprocessing.py:55: FutureWarning: 'T' is deprecated and will be removed in a future version, please use 'min' instead.\n",
      "  'mean': df.resample(freq).mean,\n",
      "d:\\NISC\\Glucose biomedical\\shared layer project\\src\\data_preprocessing.py:56: FutureWarning: 'T' is deprecated and will be removed in a future version, please use 'min' instead.\n",
      "  'sum': df.resample(freq).sum,\n",
      "d:\\NISC\\Glucose biomedical\\shared layer project\\src\\data_preprocessing.py:57: FutureWarning: 'T' is deprecated and will be removed in a future version, please use 'min' instead.\n",
      "  'median': df.resample(freq).median\n",
      "2024-09-23 12:01:47,360 - INFO - Processed and saved 567_training.csv to data/ohio-data/processed/cleaned\\2020\\train\\567_training.csv.\n",
      "2024-09-23 12:01:47,387 - INFO - Processing file 584_training.csv...\n",
      "d:\\NISC\\Glucose biomedical\\shared layer project\\src\\data_preprocessing.py:55: FutureWarning: 'T' is deprecated and will be removed in a future version, please use 'min' instead.\n",
      "  'mean': df.resample(freq).mean,\n",
      "d:\\NISC\\Glucose biomedical\\shared layer project\\src\\data_preprocessing.py:56: FutureWarning: 'T' is deprecated and will be removed in a future version, please use 'min' instead.\n",
      "  'sum': df.resample(freq).sum,\n",
      "d:\\NISC\\Glucose biomedical\\shared layer project\\src\\data_preprocessing.py:57: FutureWarning: 'T' is deprecated and will be removed in a future version, please use 'min' instead.\n",
      "  'median': df.resample(freq).median\n",
      "2024-09-23 12:01:47,524 - INFO - Processed and saved 584_training.csv to data/ohio-data/processed/cleaned\\2020\\train\\584_training.csv.\n",
      "2024-09-23 12:01:47,546 - INFO - Processing file 596_training.csv...\n",
      "d:\\NISC\\Glucose biomedical\\shared layer project\\src\\data_preprocessing.py:55: FutureWarning: 'T' is deprecated and will be removed in a future version, please use 'min' instead.\n",
      "  'mean': df.resample(freq).mean,\n",
      "d:\\NISC\\Glucose biomedical\\shared layer project\\src\\data_preprocessing.py:56: FutureWarning: 'T' is deprecated and will be removed in a future version, please use 'min' instead.\n",
      "  'sum': df.resample(freq).sum,\n",
      "d:\\NISC\\Glucose biomedical\\shared layer project\\src\\data_preprocessing.py:57: FutureWarning: 'T' is deprecated and will be removed in a future version, please use 'min' instead.\n",
      "  'median': df.resample(freq).median\n"
     ]
    },
    {
     "name": "stdout",
     "output_type": "stream",
     "text": [
      "Min value: -2.3301378552457885\n",
      "Min value: -2.174521020507348\n"
     ]
    },
    {
     "name": "stderr",
     "output_type": "stream",
     "text": [
      "2024-09-23 12:01:47,678 - INFO - Processed and saved 596_training.csv to data/ohio-data/processed/cleaned\\2020\\train\\596_training.csv.\n",
      "2024-09-23 12:01:47,680 - INFO - Processing file: data/ohio-data/processed/cleaned\\2018\\train\\559_training.csv\n",
      "2024-09-23 12:01:47,720 - INFO - Prepared time series data with 12070 samples.\n",
      "2024-09-23 12:01:47,721 - INFO - Processing file: data/ohio-data/processed/cleaned\\2018\\train\\563_training.csv\n",
      "2024-09-23 12:01:47,764 - INFO - Prepared time series data with 13087 samples.\n",
      "2024-09-23 12:01:47,765 - INFO - Processing file: data/ohio-data/processed/cleaned\\2018\\train\\570_training.csv\n",
      "2024-09-23 12:01:47,813 - INFO - Prepared time series data with 11600 samples.\n",
      "2024-09-23 12:01:47,814 - INFO - Processing file: data/ohio-data/processed/cleaned\\2018\\train\\575_training.csv\n",
      "2024-09-23 12:01:47,873 - INFO - Prepared time series data with 13093 samples.\n",
      "2024-09-23 12:01:47,875 - INFO - Processing file: data/ohio-data/processed/cleaned\\2018\\train\\588_training.csv\n",
      "2024-09-23 12:01:47,943 - INFO - Prepared time series data with 13095 samples.\n",
      "2024-09-23 12:01:47,945 - INFO - Processing file: data/ohio-data/processed/cleaned\\2018\\train\\591_training.csv\n",
      "2024-09-23 12:01:48,004 - INFO - Prepared time series data with 12744 samples.\n",
      "2024-09-23 12:01:48,008 - INFO - Processing file: data/ohio-data/processed/cleaned\\2020\\train\\540_training.csv\n",
      "2024-09-23 12:01:48,067 - INFO - Prepared time series data with 13098 samples.\n",
      "2024-09-23 12:01:48,068 - INFO - Processing file: data/ohio-data/processed/cleaned\\2020\\train\\544_training.csv\n",
      "2024-09-23 12:01:48,126 - INFO - Prepared time series data with 12661 samples.\n",
      "2024-09-23 12:01:48,129 - INFO - Processing file: data/ohio-data/processed/cleaned\\2020\\train\\552_training.csv\n",
      "2024-09-23 12:01:48,196 - INFO - Prepared time series data with 11086 samples.\n",
      "2024-09-23 12:01:48,199 - INFO - Processing file: data/ohio-data/processed/cleaned\\2020\\train\\567_training.csv\n",
      "2024-09-23 12:01:48,254 - INFO - Prepared time series data with 13525 samples.\n",
      "2024-09-23 12:01:48,258 - INFO - Processing file: data/ohio-data/processed/cleaned\\2020\\train\\584_training.csv\n",
      "2024-09-23 12:01:48,321 - INFO - Prepared time series data with 13237 samples.\n",
      "2024-09-23 12:01:48,324 - INFO - Processing file: data/ohio-data/processed/cleaned\\2020\\train\\596_training.csv\n",
      "2024-09-23 12:01:48,387 - INFO - Prepared time series data with 13618 samples.\n",
      "2024-09-23 12:01:48,403 - INFO - Aggregated data from 6 files with a total of 12 samples.\n",
      "2024-09-23 12:01:48,413 - INFO - Processing file: data/ohio-data/processed/cleaned\\2018\\test\\559_testing.csv\n",
      "2024-09-23 12:01:48,436 - INFO - Prepared time series data with 2865 samples.\n",
      "2024-09-23 12:01:48,437 - INFO - Processing file: data/ohio-data/processed/cleaned\\2018\\test\\563_testing.csv\n",
      "2024-09-23 12:01:48,470 - INFO - Prepared time series data with 2680 samples.\n",
      "2024-09-23 12:01:48,472 - INFO - Processing file: data/ohio-data/processed/cleaned\\2018\\test\\570_testing.csv\n",
      "2024-09-23 12:01:48,499 - INFO - Prepared time series data with 2869 samples.\n",
      "2024-09-23 12:01:48,500 - INFO - Processing file: data/ohio-data/processed/cleaned\\2018\\test\\575_testing.csv\n",
      "2024-09-23 12:01:48,527 - INFO - Prepared time series data with 2707 samples.\n",
      "2024-09-23 12:01:48,529 - INFO - Processing file: data/ohio-data/processed/cleaned\\2018\\test\\588_testing.csv\n",
      "2024-09-23 12:01:48,555 - INFO - Prepared time series data with 2869 samples.\n",
      "2024-09-23 12:01:48,558 - INFO - Processing file: data/ohio-data/processed/cleaned\\2018\\test\\591_testing.csv\n",
      "2024-09-23 12:01:48,583 - INFO - Prepared time series data with 2836 samples.\n",
      "2024-09-23 12:01:48,585 - INFO - Processing file: data/ohio-data/processed/cleaned\\2020\\test\\540_testing.csv\n",
      "2024-09-23 12:01:48,611 - INFO - Prepared time series data with 3055 samples.\n"
     ]
    },
    {
     "name": "stdout",
     "output_type": "stream",
     "text": [
      "Shape of X (features): (12, 13618, 6)\n",
      "Shape of y (targets): (12, 13618)\n"
     ]
    },
    {
     "name": "stderr",
     "output_type": "stream",
     "text": [
      "2024-09-23 12:01:48,613 - INFO - Processing file: data/ohio-data/processed/cleaned\\2020\\test\\544_testing.csv\n",
      "2024-09-23 12:01:48,638 - INFO - Prepared time series data with 3125 samples.\n",
      "2024-09-23 12:01:48,641 - INFO - Processing file: data/ohio-data/processed/cleaned\\2020\\test\\552_testing.csv\n",
      "2024-09-23 12:01:48,671 - INFO - Prepared time series data with 3939 samples.\n",
      "2024-09-23 12:01:48,673 - INFO - Processing file: data/ohio-data/processed/cleaned\\2020\\test\\567_testing.csv\n",
      "2024-09-23 12:01:48,709 - INFO - Prepared time series data with 2860 samples.\n",
      "2024-09-23 12:01:48,712 - INFO - Processing file: data/ohio-data/processed/cleaned\\2020\\test\\584_testing.csv\n",
      "2024-09-23 12:01:48,767 - INFO - Prepared time series data with 2984 samples.\n",
      "2024-09-23 12:01:48,769 - INFO - Processing file: data/ohio-data/processed/cleaned\\2020\\test\\596_testing.csv\n",
      "2024-09-23 12:01:48,822 - INFO - Prepared time series data with 2992 samples.\n",
      "2024-09-23 12:01:48,834 - INFO - Aggregated data from 6 files with a total of 12 samples.\n"
     ]
    },
    {
     "name": "stdout",
     "output_type": "stream",
     "text": [
      "Shape of X_test (features): (12, 3939, 6)\n",
      "Shape of y_test (targets): (12, 3939)\n"
     ]
    }
   ],
   "source": [
    "BATCH_SIZE = 32\n",
    "input_folder = 'data/ohio-data/processed'\n",
    "output_folder_train = 'data/ohio-data/processed/cleaned'  # Create a subfolder for processed files\n",
    "# output_folder_test = 'data/ohio-data/processed/cleaned_test'\n",
    "scaler = process_all_csv_files(input_folder, output_folder_train, timestamp_col='ts', freq='5T', agg_func='mean')\n",
    "# scaler = process_all_csv_files(input_folder, output_folder_test, timestamp_col='ts', freq='5T', agg_func='mean', test = False)\n",
    "\n",
    "# Step 1: Load the cleaned and processed data (as an example)\n",
    "# processed_folder = 'data/ohio-data/processed/cleaned'\n",
    "\n",
    "# Step 2: Prepare the data for time series forecasting\n",
    "window_size = 6\n",
    "prediction_horizon = 6\n",
    "target_col = 'value'\n",
    "X, y = aggregate_patients(output_folder_train, target_col, window_size, prediction_horizon, test = False)\n",
    "print(\"Shape of X (features):\", X.shape)\n",
    "print(\"Shape of y (targets):\", y.shape)\n",
    "\n",
    "# Assuming input_data is a list of NumPy arrays (one for each output branch)\n",
    "# and target_data is the corresponding target array\n",
    "# Convert your data to PyTorch Datasets\n",
    "train_dataset = TimeSeriesDataset(X, y)\n",
    "# Create a DataLoader for batching\n",
    "train_loader = DataLoader(train_dataset, batch_size=BATCH_SIZE, shuffle=True)\n",
    "# # Iterate through train_loader to check the shape\n",
    "# for batch_inputs, batch_targets in train_loader:\n",
    "#     print(\"Input batch shape (list of tensors):\", [inp.shape for inp in batch_inputs])  # Should show [(32, 6, 1)] repeated 12 times\n",
    "#     print(\"Target batch shape:\", batch_targets.shape)  # Should show (32, 12)\n",
    "#     break\n",
    "\n",
    "X_test, y_test = aggregate_patients(output_folder_train, target_col, window_size, prediction_horizon, test = True)\n",
    "print(\"Shape of X_test (features):\", X_test.shape)\n",
    "print(\"Shape of y_test (targets):\", y_test.shape)\n",
    "\n",
    "# Assuming input_data is a list of NumPy arrays (one for each output branch)\n",
    "# and target_data is the corresponding target array\n",
    "# Convert your data to PyTorch Datasets\n",
    "val_dataset = TimeSeriesDataset(X_test, y_test)\n",
    "# Create a DataLoader for batching\n",
    "val_loader = DataLoader(val_dataset, batch_size=BATCH_SIZE, shuffle=True)\n",
    "\n",
    "# Define input and output shapes based on your data\n",
    "input_shape = (window_size, X.shape[1], 1)\n",
    "output_shape = (12,)\n",
    "\n",
    "# Initialize the model\n",
    "# model = PersonalizedLSTMModel(input_shape=input_shape, output_shape=output_shape)\n",
    "# Assuming model is already defined and initialized\n",
    "# summary(model, input_size=[(6, 1)] * 12)  # 12 branches, each with (sequence_length=6, input_size=1)\n",
    "# Generate a sample input similar to your input shape (batch_size=1)\n",
    "# inputs = [torch.randn(input_shape) for _ in range(12)]  # 12 input branches, each of shape (1, 6, 1)\n",
    "\n",
    "# # Forward pass through the model\n",
    "# outputs = model(inputs)\n",
    "\n",
    "# make_dot(outputs, params=dict(model.named_parameters())).render(\"personalized_lstm_model\", format=\"png\")"
   ]
  },
  {
   "cell_type": "code",
   "execution_count": 17,
   "metadata": {},
   "outputs": [],
   "source": [
    "model = PersonalizedLSTMModel(input_shape =input_shape , output_shape=output_shape) "
   ]
  },
  {
   "cell_type": "code",
   "execution_count": 18,
   "metadata": {},
   "outputs": [
    {
     "name": "stderr",
     "output_type": "stream",
     "text": [
      "2024-09-23 12:01:48,942 - INFO - Starting training for 100 epochs with learning rate 1e-05.\n",
      "Epoch 1/100: 100%|██████████| 426/426 [00:24<00:00, 17.46batch/s, loss=1.04] \n",
      "2024-09-23 12:02:13,359 - INFO - Epoch [1/100], Training Loss: 0.9267\n",
      "2024-09-23 12:02:17,394 - INFO - Epoch [1/100], Validation MAE: 0.7516, Validation RMSE: 1.0780\n"
     ]
    },
    {
     "name": "stdout",
     "output_type": "stream",
     "text": [
      "Epoch [1/100], Validation MAE: 0.7516, Validation RMSE: 1.0780\n"
     ]
    },
    {
     "name": "stderr",
     "output_type": "stream",
     "text": [
      "Epoch 2/100: 100%|██████████| 426/426 [00:32<00:00, 13.01batch/s, loss=0.824]\n",
      "2024-09-23 12:02:50,153 - INFO - Epoch [2/100], Training Loss: 0.8992\n",
      "2024-09-23 12:02:53,728 - INFO - Epoch [2/100], Validation MAE: 0.7452, Validation RMSE: 1.0568\n"
     ]
    },
    {
     "name": "stdout",
     "output_type": "stream",
     "text": [
      "Epoch [2/100], Validation MAE: 0.7452, Validation RMSE: 1.0568\n"
     ]
    },
    {
     "name": "stderr",
     "output_type": "stream",
     "text": [
      "Epoch 3/100: 100%|██████████| 426/426 [00:27<00:00, 15.56batch/s, loss=0.855]\n",
      "2024-09-23 12:03:21,121 - INFO - Epoch [3/100], Training Loss: 0.8671\n",
      "2024-09-23 12:03:24,246 - INFO - Epoch [3/100], Validation MAE: 0.7241, Validation RMSE: 1.0281\n"
     ]
    },
    {
     "name": "stdout",
     "output_type": "stream",
     "text": [
      "Epoch [3/100], Validation MAE: 0.7241, Validation RMSE: 1.0281\n"
     ]
    },
    {
     "name": "stderr",
     "output_type": "stream",
     "text": [
      "Epoch 4/100: 100%|██████████| 426/426 [00:25<00:00, 16.41batch/s, loss=0.885]\n",
      "2024-09-23 12:03:50,214 - INFO - Epoch [4/100], Training Loss: 0.8265\n",
      "2024-09-23 12:03:54,430 - INFO - Epoch [4/100], Validation MAE: 0.6907, Validation RMSE: 0.9934\n"
     ]
    },
    {
     "name": "stdout",
     "output_type": "stream",
     "text": [
      "Epoch [4/100], Validation MAE: 0.6907, Validation RMSE: 0.9934\n"
     ]
    },
    {
     "name": "stderr",
     "output_type": "stream",
     "text": [
      "Epoch 5/100: 100%|██████████| 426/426 [00:37<00:00, 11.50batch/s, loss=0.784]\n",
      "2024-09-23 12:04:31,486 - INFO - Epoch [5/100], Training Loss: 0.7746\n",
      "2024-09-23 12:04:36,005 - INFO - Epoch [5/100], Validation MAE: 0.6417, Validation RMSE: 0.9477\n"
     ]
    },
    {
     "name": "stdout",
     "output_type": "stream",
     "text": [
      "Epoch [5/100], Validation MAE: 0.6417, Validation RMSE: 0.9477\n"
     ]
    },
    {
     "name": "stderr",
     "output_type": "stream",
     "text": [
      "Epoch 6/100: 100%|██████████| 426/426 [00:37<00:00, 11.21batch/s, loss=0.776]\n",
      "2024-09-23 12:05:14,006 - INFO - Epoch [6/100], Training Loss: 0.7179\n",
      "2024-09-23 12:05:18,523 - INFO - Epoch [6/100], Validation MAE: 0.5918, Validation RMSE: 0.9024\n"
     ]
    },
    {
     "name": "stdout",
     "output_type": "stream",
     "text": [
      "Epoch [6/100], Validation MAE: 0.5918, Validation RMSE: 0.9024\n"
     ]
    },
    {
     "name": "stderr",
     "output_type": "stream",
     "text": [
      "Epoch 7/100: 100%|██████████| 426/426 [00:27<00:00, 15.69batch/s, loss=0.612]\n",
      "2024-09-23 12:05:45,677 - INFO - Epoch [7/100], Training Loss: 0.6666\n",
      "2024-09-23 12:05:48,365 - INFO - Epoch [7/100], Validation MAE: 0.5518, Validation RMSE: 0.8666\n"
     ]
    },
    {
     "name": "stdout",
     "output_type": "stream",
     "text": [
      "Epoch [7/100], Validation MAE: 0.5518, Validation RMSE: 0.8666\n"
     ]
    },
    {
     "name": "stderr",
     "output_type": "stream",
     "text": [
      "Epoch 8/100: 100%|██████████| 426/426 [00:23<00:00, 17.93batch/s, loss=0.622]\n",
      "2024-09-23 12:06:12,129 - INFO - Epoch [8/100], Training Loss: 0.6291\n",
      "2024-09-23 12:06:14,916 - INFO - Epoch [8/100], Validation MAE: 0.5244, Validation RMSE: 0.8431\n"
     ]
    },
    {
     "name": "stdout",
     "output_type": "stream",
     "text": [
      "Epoch [8/100], Validation MAE: 0.5244, Validation RMSE: 0.8431\n"
     ]
    },
    {
     "name": "stderr",
     "output_type": "stream",
     "text": [
      "Epoch 9/100: 100%|██████████| 426/426 [00:22<00:00, 18.77batch/s, loss=0.583]\n",
      "2024-09-23 12:06:37,612 - INFO - Epoch [9/100], Training Loss: 0.6070\n",
      "2024-09-23 12:06:40,285 - INFO - Epoch [9/100], Validation MAE: 0.5095, Validation RMSE: 0.8298\n"
     ]
    },
    {
     "name": "stdout",
     "output_type": "stream",
     "text": [
      "Epoch [9/100], Validation MAE: 0.5095, Validation RMSE: 0.8298\n"
     ]
    },
    {
     "name": "stderr",
     "output_type": "stream",
     "text": [
      "Epoch 10/100: 100%|██████████| 426/426 [00:23<00:00, 18.05batch/s, loss=0.647]\n",
      "2024-09-23 12:07:03,894 - INFO - Epoch [10/100], Training Loss: 0.5951\n",
      "2024-09-23 12:07:06,704 - INFO - Epoch [10/100], Validation MAE: 0.5023, Validation RMSE: 0.8228\n"
     ]
    },
    {
     "name": "stdout",
     "output_type": "stream",
     "text": [
      "Epoch [10/100], Validation MAE: 0.5023, Validation RMSE: 0.8228\n"
     ]
    },
    {
     "name": "stderr",
     "output_type": "stream",
     "text": [
      "Epoch 11/100: 100%|██████████| 426/426 [00:22<00:00, 18.56batch/s, loss=0.674]\n",
      "2024-09-23 12:07:29,663 - INFO - Epoch [11/100], Training Loss: 0.5879\n",
      "2024-09-23 12:07:32,348 - INFO - Epoch [11/100], Validation MAE: 0.4985, Validation RMSE: 0.8188\n"
     ]
    },
    {
     "name": "stdout",
     "output_type": "stream",
     "text": [
      "Epoch [11/100], Validation MAE: 0.4985, Validation RMSE: 0.8188\n"
     ]
    },
    {
     "name": "stderr",
     "output_type": "stream",
     "text": [
      "Epoch 12/100: 100%|██████████| 426/426 [00:22<00:00, 18.99batch/s, loss=0.625]\n",
      "2024-09-23 12:07:54,787 - INFO - Epoch [12/100], Training Loss: 0.5832\n",
      "2024-09-23 12:07:57,564 - INFO - Epoch [12/100], Validation MAE: 0.4948, Validation RMSE: 0.8158\n"
     ]
    },
    {
     "name": "stdout",
     "output_type": "stream",
     "text": [
      "Epoch [12/100], Validation MAE: 0.4948, Validation RMSE: 0.8158\n"
     ]
    },
    {
     "name": "stderr",
     "output_type": "stream",
     "text": [
      "Epoch 13/100: 100%|██████████| 426/426 [00:23<00:00, 18.44batch/s, loss=0.564]\n",
      "2024-09-23 12:08:20,668 - INFO - Epoch [13/100], Training Loss: 0.5803\n",
      "2024-09-23 12:08:23,426 - INFO - Epoch [13/100], Validation MAE: 0.4922, Validation RMSE: 0.8114\n"
     ]
    },
    {
     "name": "stdout",
     "output_type": "stream",
     "text": [
      "Epoch [13/100], Validation MAE: 0.4922, Validation RMSE: 0.8114\n"
     ]
    },
    {
     "name": "stderr",
     "output_type": "stream",
     "text": [
      "Epoch 14/100: 100%|██████████| 426/426 [00:22<00:00, 18.64batch/s, loss=0.586]\n",
      "2024-09-23 12:08:46,290 - INFO - Epoch [14/100], Training Loss: 0.5770\n",
      "2024-09-23 12:08:49,010 - INFO - Epoch [14/100], Validation MAE: 0.4894, Validation RMSE: 0.8097\n"
     ]
    },
    {
     "name": "stdout",
     "output_type": "stream",
     "text": [
      "Epoch [14/100], Validation MAE: 0.4894, Validation RMSE: 0.8097\n"
     ]
    },
    {
     "name": "stderr",
     "output_type": "stream",
     "text": [
      "Epoch 15/100: 100%|██████████| 426/426 [00:22<00:00, 18.55batch/s, loss=0.618]\n",
      "2024-09-23 12:09:11,987 - INFO - Epoch [15/100], Training Loss: 0.5746\n",
      "2024-09-23 12:09:14,790 - INFO - Epoch [15/100], Validation MAE: 0.4871, Validation RMSE: 0.8073\n"
     ]
    },
    {
     "name": "stdout",
     "output_type": "stream",
     "text": [
      "Epoch [15/100], Validation MAE: 0.4871, Validation RMSE: 0.8073\n"
     ]
    },
    {
     "name": "stderr",
     "output_type": "stream",
     "text": [
      "Epoch 16/100: 100%|██████████| 426/426 [00:25<00:00, 16.66batch/s, loss=0.561]\n",
      "2024-09-23 12:09:40,367 - INFO - Epoch [16/100], Training Loss: 0.5715\n",
      "2024-09-23 12:09:43,033 - INFO - Epoch [16/100], Validation MAE: 0.4849, Validation RMSE: 0.8062\n"
     ]
    },
    {
     "name": "stdout",
     "output_type": "stream",
     "text": [
      "Epoch [16/100], Validation MAE: 0.4849, Validation RMSE: 0.8062\n"
     ]
    },
    {
     "name": "stderr",
     "output_type": "stream",
     "text": [
      "Epoch 17/100: 100%|██████████| 426/426 [00:23<00:00, 18.09batch/s, loss=0.553]\n",
      "2024-09-23 12:10:06,582 - INFO - Epoch [17/100], Training Loss: 0.5692\n",
      "2024-09-23 12:10:09,272 - INFO - Epoch [17/100], Validation MAE: 0.4832, Validation RMSE: 0.8057\n"
     ]
    },
    {
     "name": "stdout",
     "output_type": "stream",
     "text": [
      "Epoch [17/100], Validation MAE: 0.4832, Validation RMSE: 0.8057\n"
     ]
    },
    {
     "name": "stderr",
     "output_type": "stream",
     "text": [
      "Epoch 18/100: 100%|██████████| 426/426 [00:24<00:00, 17.49batch/s, loss=0.554]\n",
      "2024-09-23 12:10:33,629 - INFO - Epoch [18/100], Training Loss: 0.5662\n",
      "2024-09-23 12:10:36,355 - INFO - Epoch [18/100], Validation MAE: 0.4815, Validation RMSE: 0.8045\n"
     ]
    },
    {
     "name": "stdout",
     "output_type": "stream",
     "text": [
      "Epoch [18/100], Validation MAE: 0.4815, Validation RMSE: 0.8045\n"
     ]
    },
    {
     "name": "stderr",
     "output_type": "stream",
     "text": [
      "Epoch 19/100: 100%|██████████| 426/426 [00:23<00:00, 18.22batch/s, loss=0.525]\n",
      "2024-09-23 12:10:59,749 - INFO - Epoch [19/100], Training Loss: 0.5645\n",
      "2024-09-23 12:11:02,458 - INFO - Epoch [19/100], Validation MAE: 0.4809, Validation RMSE: 0.8042\n"
     ]
    },
    {
     "name": "stdout",
     "output_type": "stream",
     "text": [
      "Epoch [19/100], Validation MAE: 0.4809, Validation RMSE: 0.8042\n"
     ]
    },
    {
     "name": "stderr",
     "output_type": "stream",
     "text": [
      "Epoch 20/100: 100%|██████████| 426/426 [00:23<00:00, 18.29batch/s, loss=0.578]\n",
      "2024-09-23 12:11:25,761 - INFO - Epoch [20/100], Training Loss: 0.5610\n",
      "2024-09-23 12:11:28,497 - INFO - Epoch [20/100], Validation MAE: 0.4797, Validation RMSE: 0.8051\n"
     ]
    },
    {
     "name": "stdout",
     "output_type": "stream",
     "text": [
      "Epoch [20/100], Validation MAE: 0.4797, Validation RMSE: 0.8051\n"
     ]
    },
    {
     "name": "stderr",
     "output_type": "stream",
     "text": [
      "Epoch 21/100: 100%|██████████| 426/426 [00:22<00:00, 18.72batch/s, loss=0.573]\n",
      "2024-09-23 12:11:51,257 - INFO - Epoch [21/100], Training Loss: 0.5595\n",
      "2024-09-23 12:11:54,004 - INFO - Epoch [21/100], Validation MAE: 0.4742, Validation RMSE: 0.7982\n"
     ]
    },
    {
     "name": "stdout",
     "output_type": "stream",
     "text": [
      "Epoch [21/100], Validation MAE: 0.4742, Validation RMSE: 0.7982\n"
     ]
    },
    {
     "name": "stderr",
     "output_type": "stream",
     "text": [
      "Epoch 22/100: 100%|██████████| 426/426 [00:24<00:00, 17.59batch/s, loss=0.578]\n",
      "2024-09-23 12:12:18,224 - INFO - Epoch [22/100], Training Loss: 0.5565\n",
      "2024-09-23 12:12:21,215 - INFO - Epoch [22/100], Validation MAE: 0.4749, Validation RMSE: 0.8023\n"
     ]
    },
    {
     "name": "stdout",
     "output_type": "stream",
     "text": [
      "Epoch [22/100], Validation MAE: 0.4749, Validation RMSE: 0.8023\n"
     ]
    },
    {
     "name": "stderr",
     "output_type": "stream",
     "text": [
      "Epoch 23/100: 100%|██████████| 426/426 [00:25<00:00, 16.46batch/s, loss=0.503]\n",
      "2024-09-23 12:12:47,108 - INFO - Epoch [23/100], Training Loss: 0.5541\n",
      "2024-09-23 12:12:50,071 - INFO - Epoch [23/100], Validation MAE: 0.4714, Validation RMSE: 0.7973\n"
     ]
    },
    {
     "name": "stdout",
     "output_type": "stream",
     "text": [
      "Epoch [23/100], Validation MAE: 0.4714, Validation RMSE: 0.7973\n"
     ]
    },
    {
     "name": "stderr",
     "output_type": "stream",
     "text": [
      "Epoch 24/100: 100%|██████████| 426/426 [00:24<00:00, 17.19batch/s, loss=0.559]\n",
      "2024-09-23 12:13:14,861 - INFO - Epoch [24/100], Training Loss: 0.5521\n",
      "2024-09-23 12:13:17,530 - INFO - Epoch [24/100], Validation MAE: 0.4697, Validation RMSE: 0.7973\n"
     ]
    },
    {
     "name": "stdout",
     "output_type": "stream",
     "text": [
      "Epoch [24/100], Validation MAE: 0.4697, Validation RMSE: 0.7973\n"
     ]
    },
    {
     "name": "stderr",
     "output_type": "stream",
     "text": [
      "Epoch 25/100: 100%|██████████| 426/426 [00:23<00:00, 18.39batch/s, loss=0.574]\n",
      "2024-09-23 12:13:40,701 - INFO - Epoch [25/100], Training Loss: 0.5492\n",
      "2024-09-23 12:13:43,273 - INFO - Epoch [25/100], Validation MAE: 0.4667, Validation RMSE: 0.7942\n"
     ]
    },
    {
     "name": "stdout",
     "output_type": "stream",
     "text": [
      "Epoch [25/100], Validation MAE: 0.4667, Validation RMSE: 0.7942\n"
     ]
    },
    {
     "name": "stderr",
     "output_type": "stream",
     "text": [
      "Epoch 26/100: 100%|██████████| 426/426 [00:22<00:00, 18.73batch/s, loss=0.493]\n",
      "2024-09-23 12:14:06,029 - INFO - Epoch [26/100], Training Loss: 0.5468\n",
      "2024-09-23 12:14:08,734 - INFO - Epoch [26/100], Validation MAE: 0.4653, Validation RMSE: 0.7946\n"
     ]
    },
    {
     "name": "stdout",
     "output_type": "stream",
     "text": [
      "Epoch [26/100], Validation MAE: 0.4653, Validation RMSE: 0.7946\n"
     ]
    },
    {
     "name": "stderr",
     "output_type": "stream",
     "text": [
      "Epoch 27/100: 100%|██████████| 426/426 [00:23<00:00, 18.40batch/s, loss=0.543]\n",
      "2024-09-23 12:14:31,887 - INFO - Epoch [27/100], Training Loss: 0.5443\n",
      "2024-09-23 12:14:34,706 - INFO - Epoch [27/100], Validation MAE: 0.4628, Validation RMSE: 0.7931\n"
     ]
    },
    {
     "name": "stdout",
     "output_type": "stream",
     "text": [
      "Epoch [27/100], Validation MAE: 0.4628, Validation RMSE: 0.7931\n"
     ]
    },
    {
     "name": "stderr",
     "output_type": "stream",
     "text": [
      "Epoch 28/100: 100%|██████████| 426/426 [00:23<00:00, 18.27batch/s, loss=0.562]\n",
      "2024-09-23 12:14:58,033 - INFO - Epoch [28/100], Training Loss: 0.5420\n",
      "2024-09-23 12:15:00,652 - INFO - Epoch [28/100], Validation MAE: 0.4632, Validation RMSE: 0.7953\n"
     ]
    },
    {
     "name": "stdout",
     "output_type": "stream",
     "text": [
      "Epoch [28/100], Validation MAE: 0.4632, Validation RMSE: 0.7953\n"
     ]
    },
    {
     "name": "stderr",
     "output_type": "stream",
     "text": [
      "Epoch 29/100: 100%|██████████| 426/426 [00:22<00:00, 18.93batch/s, loss=0.499]\n",
      "2024-09-23 12:15:23,166 - INFO - Epoch [29/100], Training Loss: 0.5391\n",
      "2024-09-23 12:15:25,832 - INFO - Epoch [29/100], Validation MAE: 0.4581, Validation RMSE: 0.7883\n"
     ]
    },
    {
     "name": "stdout",
     "output_type": "stream",
     "text": [
      "Epoch [29/100], Validation MAE: 0.4581, Validation RMSE: 0.7883\n"
     ]
    },
    {
     "name": "stderr",
     "output_type": "stream",
     "text": [
      "Epoch 30/100: 100%|██████████| 426/426 [00:23<00:00, 18.43batch/s, loss=0.536]\n",
      "2024-09-23 12:15:48,948 - INFO - Epoch [30/100], Training Loss: 0.5376\n",
      "2024-09-23 12:15:51,620 - INFO - Epoch [30/100], Validation MAE: 0.4579, Validation RMSE: 0.7909\n"
     ]
    },
    {
     "name": "stdout",
     "output_type": "stream",
     "text": [
      "Epoch [30/100], Validation MAE: 0.4579, Validation RMSE: 0.7909\n"
     ]
    },
    {
     "name": "stderr",
     "output_type": "stream",
     "text": [
      "Epoch 31/100: 100%|██████████| 426/426 [00:22<00:00, 18.88batch/s, loss=0.566]\n",
      "2024-09-23 12:16:14,186 - INFO - Epoch [31/100], Training Loss: 0.5349\n",
      "2024-09-23 12:16:16,912 - INFO - Epoch [31/100], Validation MAE: 0.4554, Validation RMSE: 0.7892\n"
     ]
    },
    {
     "name": "stdout",
     "output_type": "stream",
     "text": [
      "Epoch [31/100], Validation MAE: 0.4554, Validation RMSE: 0.7892\n"
     ]
    },
    {
     "name": "stderr",
     "output_type": "stream",
     "text": [
      "Epoch 32/100: 100%|██████████| 426/426 [00:22<00:00, 18.73batch/s, loss=0.621]\n",
      "2024-09-23 12:16:39,657 - INFO - Epoch [32/100], Training Loss: 0.5330\n",
      "2024-09-23 12:16:42,481 - INFO - Epoch [32/100], Validation MAE: 0.4517, Validation RMSE: 0.7855\n"
     ]
    },
    {
     "name": "stdout",
     "output_type": "stream",
     "text": [
      "Epoch [32/100], Validation MAE: 0.4517, Validation RMSE: 0.7855\n"
     ]
    },
    {
     "name": "stderr",
     "output_type": "stream",
     "text": [
      "Epoch 33/100: 100%|██████████| 426/426 [00:24<00:00, 17.15batch/s, loss=0.483]\n",
      "2024-09-23 12:17:07,320 - INFO - Epoch [33/100], Training Loss: 0.5310\n",
      "2024-09-23 12:17:10,672 - INFO - Epoch [33/100], Validation MAE: 0.4514, Validation RMSE: 0.7871\n"
     ]
    },
    {
     "name": "stdout",
     "output_type": "stream",
     "text": [
      "Epoch [33/100], Validation MAE: 0.4514, Validation RMSE: 0.7871\n"
     ]
    },
    {
     "name": "stderr",
     "output_type": "stream",
     "text": [
      "Epoch 34/100: 100%|██████████| 426/426 [00:24<00:00, 17.31batch/s, loss=0.53] \n",
      "2024-09-23 12:17:35,290 - INFO - Epoch [34/100], Training Loss: 0.5286\n",
      "2024-09-23 12:17:38,053 - INFO - Epoch [34/100], Validation MAE: 0.4496, Validation RMSE: 0.7860\n"
     ]
    },
    {
     "name": "stdout",
     "output_type": "stream",
     "text": [
      "Epoch [34/100], Validation MAE: 0.4496, Validation RMSE: 0.7860\n"
     ]
    },
    {
     "name": "stderr",
     "output_type": "stream",
     "text": [
      "Epoch 35/100: 100%|██████████| 426/426 [00:24<00:00, 17.58batch/s, loss=0.484]\n",
      "2024-09-23 12:18:02,288 - INFO - Epoch [35/100], Training Loss: 0.5269\n",
      "2024-09-23 12:18:04,979 - INFO - Epoch [35/100], Validation MAE: 0.4468, Validation RMSE: 0.7834\n"
     ]
    },
    {
     "name": "stdout",
     "output_type": "stream",
     "text": [
      "Epoch [35/100], Validation MAE: 0.4468, Validation RMSE: 0.7834\n"
     ]
    },
    {
     "name": "stderr",
     "output_type": "stream",
     "text": [
      "Epoch 36/100: 100%|██████████| 426/426 [00:23<00:00, 17.97batch/s, loss=0.494]\n",
      "2024-09-23 12:18:28,696 - INFO - Epoch [36/100], Training Loss: 0.5249\n",
      "2024-09-23 12:18:31,671 - INFO - Epoch [36/100], Validation MAE: 0.4451, Validation RMSE: 0.7826\n"
     ]
    },
    {
     "name": "stdout",
     "output_type": "stream",
     "text": [
      "Epoch [36/100], Validation MAE: 0.4451, Validation RMSE: 0.7826\n"
     ]
    },
    {
     "name": "stderr",
     "output_type": "stream",
     "text": [
      "Epoch 37/100: 100%|██████████| 426/426 [00:22<00:00, 18.59batch/s, loss=0.442]\n",
      "2024-09-23 12:18:54,598 - INFO - Epoch [37/100], Training Loss: 0.5238\n",
      "2024-09-23 12:18:57,306 - INFO - Epoch [37/100], Validation MAE: 0.4441, Validation RMSE: 0.7830\n"
     ]
    },
    {
     "name": "stdout",
     "output_type": "stream",
     "text": [
      "Epoch [37/100], Validation MAE: 0.4441, Validation RMSE: 0.7830\n"
     ]
    },
    {
     "name": "stderr",
     "output_type": "stream",
     "text": [
      "Epoch 38/100: 100%|██████████| 426/426 [00:23<00:00, 18.21batch/s, loss=0.479]\n",
      "2024-09-23 12:19:20,711 - INFO - Epoch [38/100], Training Loss: 0.5220\n",
      "2024-09-23 12:19:23,366 - INFO - Epoch [38/100], Validation MAE: 0.4435, Validation RMSE: 0.7840\n"
     ]
    },
    {
     "name": "stdout",
     "output_type": "stream",
     "text": [
      "Epoch [38/100], Validation MAE: 0.4435, Validation RMSE: 0.7840\n"
     ]
    },
    {
     "name": "stderr",
     "output_type": "stream",
     "text": [
      "Epoch 39/100: 100%|██████████| 426/426 [00:22<00:00, 18.79batch/s, loss=0.498]\n",
      "2024-09-23 12:19:46,043 - INFO - Epoch [39/100], Training Loss: 0.5208\n",
      "2024-09-23 12:19:48,700 - INFO - Epoch [39/100], Validation MAE: 0.4412, Validation RMSE: 0.7818\n"
     ]
    },
    {
     "name": "stdout",
     "output_type": "stream",
     "text": [
      "Epoch [39/100], Validation MAE: 0.4412, Validation RMSE: 0.7818\n"
     ]
    },
    {
     "name": "stderr",
     "output_type": "stream",
     "text": [
      "Epoch 40/100: 100%|██████████| 426/426 [00:23<00:00, 18.28batch/s, loss=0.461]\n",
      "2024-09-23 12:20:12,008 - INFO - Epoch [40/100], Training Loss: 0.5196\n",
      "2024-09-23 12:20:14,651 - INFO - Epoch [40/100], Validation MAE: 0.4406, Validation RMSE: 0.7836\n"
     ]
    },
    {
     "name": "stdout",
     "output_type": "stream",
     "text": [
      "Epoch [40/100], Validation MAE: 0.4406, Validation RMSE: 0.7836\n"
     ]
    },
    {
     "name": "stderr",
     "output_type": "stream",
     "text": [
      "Epoch 41/100: 100%|██████████| 426/426 [00:22<00:00, 18.63batch/s, loss=0.508]\n",
      "2024-09-23 12:20:37,519 - INFO - Epoch [41/100], Training Loss: 0.5183\n",
      "2024-09-23 12:20:40,448 - INFO - Epoch [41/100], Validation MAE: 0.4390, Validation RMSE: 0.7813\n"
     ]
    },
    {
     "name": "stdout",
     "output_type": "stream",
     "text": [
      "Epoch [41/100], Validation MAE: 0.4390, Validation RMSE: 0.7813\n"
     ]
    },
    {
     "name": "stderr",
     "output_type": "stream",
     "text": [
      "Epoch 42/100: 100%|██████████| 426/426 [00:22<00:00, 18.74batch/s, loss=0.58] \n",
      "2024-09-23 12:21:03,188 - INFO - Epoch [42/100], Training Loss: 0.5171\n",
      "2024-09-23 12:21:05,876 - INFO - Epoch [42/100], Validation MAE: 0.4385, Validation RMSE: 0.7820\n"
     ]
    },
    {
     "name": "stdout",
     "output_type": "stream",
     "text": [
      "Epoch [42/100], Validation MAE: 0.4385, Validation RMSE: 0.7820\n"
     ]
    },
    {
     "name": "stderr",
     "output_type": "stream",
     "text": [
      "Epoch 43/100: 100%|██████████| 426/426 [00:23<00:00, 18.22batch/s, loss=0.507]\n",
      "2024-09-23 12:21:29,261 - INFO - Epoch [43/100], Training Loss: 0.5160\n",
      "2024-09-23 12:21:31,920 - INFO - Epoch [43/100], Validation MAE: 0.4374, Validation RMSE: 0.7811\n"
     ]
    },
    {
     "name": "stdout",
     "output_type": "stream",
     "text": [
      "Epoch [43/100], Validation MAE: 0.4374, Validation RMSE: 0.7811\n"
     ]
    },
    {
     "name": "stderr",
     "output_type": "stream",
     "text": [
      "Epoch 44/100: 100%|██████████| 426/426 [00:26<00:00, 16.34batch/s, loss=0.54] \n",
      "2024-09-23 12:21:58,004 - INFO - Epoch [44/100], Training Loss: 0.5152\n",
      "2024-09-23 12:22:00,710 - INFO - Epoch [44/100], Validation MAE: 0.4338, Validation RMSE: 0.7775\n"
     ]
    },
    {
     "name": "stdout",
     "output_type": "stream",
     "text": [
      "Epoch [44/100], Validation MAE: 0.4338, Validation RMSE: 0.7775\n"
     ]
    },
    {
     "name": "stderr",
     "output_type": "stream",
     "text": [
      "Epoch 45/100: 100%|██████████| 426/426 [00:24<00:00, 17.72batch/s, loss=0.548]\n",
      "2024-09-23 12:22:24,751 - INFO - Epoch [45/100], Training Loss: 0.5144\n",
      "2024-09-23 12:22:27,544 - INFO - Epoch [45/100], Validation MAE: 0.4348, Validation RMSE: 0.7798\n"
     ]
    },
    {
     "name": "stdout",
     "output_type": "stream",
     "text": [
      "Epoch [45/100], Validation MAE: 0.4348, Validation RMSE: 0.7798\n"
     ]
    },
    {
     "name": "stderr",
     "output_type": "stream",
     "text": [
      "Epoch 46/100: 100%|██████████| 426/426 [00:23<00:00, 18.20batch/s, loss=0.491]\n",
      "2024-09-23 12:22:50,951 - INFO - Epoch [46/100], Training Loss: 0.5137\n",
      "2024-09-23 12:22:53,664 - INFO - Epoch [46/100], Validation MAE: 0.4347, Validation RMSE: 0.7810\n"
     ]
    },
    {
     "name": "stdout",
     "output_type": "stream",
     "text": [
      "Epoch [46/100], Validation MAE: 0.4347, Validation RMSE: 0.7810\n"
     ]
    },
    {
     "name": "stderr",
     "output_type": "stream",
     "text": [
      "Epoch 47/100: 100%|██████████| 426/426 [00:22<00:00, 18.76batch/s, loss=0.515]\n",
      "2024-09-23 12:23:16,371 - INFO - Epoch [47/100], Training Loss: 0.5132\n",
      "2024-09-23 12:23:19,145 - INFO - Epoch [47/100], Validation MAE: 0.4334, Validation RMSE: 0.7804\n"
     ]
    },
    {
     "name": "stdout",
     "output_type": "stream",
     "text": [
      "Epoch [47/100], Validation MAE: 0.4334, Validation RMSE: 0.7804\n"
     ]
    },
    {
     "name": "stderr",
     "output_type": "stream",
     "text": [
      "Epoch 48/100: 100%|██████████| 426/426 [00:23<00:00, 18.04batch/s, loss=0.54] \n",
      "2024-09-23 12:23:42,768 - INFO - Epoch [48/100], Training Loss: 0.5120\n",
      "2024-09-23 12:23:45,421 - INFO - Epoch [48/100], Validation MAE: 0.4316, Validation RMSE: 0.7784\n"
     ]
    },
    {
     "name": "stdout",
     "output_type": "stream",
     "text": [
      "Epoch [48/100], Validation MAE: 0.4316, Validation RMSE: 0.7784\n"
     ]
    },
    {
     "name": "stderr",
     "output_type": "stream",
     "text": [
      "Epoch 49/100: 100%|██████████| 426/426 [00:22<00:00, 18.70batch/s, loss=0.52] \n",
      "2024-09-23 12:24:08,211 - INFO - Epoch [49/100], Training Loss: 0.5113\n",
      "2024-09-23 12:24:10,937 - INFO - Epoch [49/100], Validation MAE: 0.4315, Validation RMSE: 0.7792\n"
     ]
    },
    {
     "name": "stdout",
     "output_type": "stream",
     "text": [
      "Epoch [49/100], Validation MAE: 0.4315, Validation RMSE: 0.7792\n"
     ]
    },
    {
     "name": "stderr",
     "output_type": "stream",
     "text": [
      "Epoch 50/100: 100%|██████████| 426/426 [00:22<00:00, 18.72batch/s, loss=0.528]\n",
      "2024-09-23 12:24:33,695 - INFO - Epoch [50/100], Training Loss: 0.5105\n",
      "2024-09-23 12:24:36,238 - INFO - Epoch [50/100], Validation MAE: 0.4328, Validation RMSE: 0.7800\n"
     ]
    },
    {
     "name": "stdout",
     "output_type": "stream",
     "text": [
      "Epoch [50/100], Validation MAE: 0.4328, Validation RMSE: 0.7800\n"
     ]
    },
    {
     "name": "stderr",
     "output_type": "stream",
     "text": [
      "Epoch 51/100: 100%|██████████| 426/426 [00:21<00:00, 20.00batch/s, loss=0.463]\n",
      "2024-09-23 12:24:57,546 - INFO - Epoch [51/100], Training Loss: 0.5100\n",
      "2024-09-23 12:25:00,026 - INFO - Epoch [51/100], Validation MAE: 0.4297, Validation RMSE: 0.7767\n"
     ]
    },
    {
     "name": "stdout",
     "output_type": "stream",
     "text": [
      "Epoch [51/100], Validation MAE: 0.4297, Validation RMSE: 0.7767\n"
     ]
    },
    {
     "name": "stderr",
     "output_type": "stream",
     "text": [
      "Epoch 52/100: 100%|██████████| 426/426 [00:23<00:00, 18.14batch/s, loss=0.529]\n",
      "2024-09-23 12:25:23,511 - INFO - Epoch [52/100], Training Loss: 0.5094\n",
      "2024-09-23 12:25:26,141 - INFO - Epoch [52/100], Validation MAE: 0.4307, Validation RMSE: 0.7775\n"
     ]
    },
    {
     "name": "stdout",
     "output_type": "stream",
     "text": [
      "Epoch [52/100], Validation MAE: 0.4307, Validation RMSE: 0.7775\n"
     ]
    },
    {
     "name": "stderr",
     "output_type": "stream",
     "text": [
      "Epoch 53/100: 100%|██████████| 426/426 [00:22<00:00, 18.55batch/s, loss=0.513]\n",
      "2024-09-23 12:25:49,107 - INFO - Epoch [53/100], Training Loss: 0.5097\n",
      "2024-09-23 12:25:51,580 - INFO - Epoch [53/100], Validation MAE: 0.4314, Validation RMSE: 0.7803\n"
     ]
    },
    {
     "name": "stdout",
     "output_type": "stream",
     "text": [
      "Epoch [53/100], Validation MAE: 0.4314, Validation RMSE: 0.7803\n"
     ]
    },
    {
     "name": "stderr",
     "output_type": "stream",
     "text": [
      "Epoch 54/100: 100%|██████████| 426/426 [00:21<00:00, 19.95batch/s, loss=0.49] \n",
      "2024-09-23 12:26:12,937 - INFO - Epoch [54/100], Training Loss: 0.5089\n",
      "2024-09-23 12:26:15,428 - INFO - Epoch [54/100], Validation MAE: 0.4303, Validation RMSE: 0.7800\n"
     ]
    },
    {
     "name": "stdout",
     "output_type": "stream",
     "text": [
      "Epoch [54/100], Validation MAE: 0.4303, Validation RMSE: 0.7800\n"
     ]
    },
    {
     "name": "stderr",
     "output_type": "stream",
     "text": [
      "Epoch 55/100: 100%|██████████| 426/426 [00:21<00:00, 19.58batch/s, loss=0.522]\n",
      "2024-09-23 12:26:37,194 - INFO - Epoch [55/100], Training Loss: 0.5089\n",
      "2024-09-23 12:26:39,620 - INFO - Epoch [55/100], Validation MAE: 0.4295, Validation RMSE: 0.7791\n"
     ]
    },
    {
     "name": "stdout",
     "output_type": "stream",
     "text": [
      "Epoch [55/100], Validation MAE: 0.4295, Validation RMSE: 0.7791\n"
     ]
    },
    {
     "name": "stderr",
     "output_type": "stream",
     "text": [
      "Epoch 56/100: 100%|██████████| 426/426 [00:21<00:00, 19.45batch/s, loss=0.581]\n",
      "2024-09-23 12:27:01,522 - INFO - Epoch [56/100], Training Loss: 0.5084\n",
      "2024-09-23 12:27:04,050 - INFO - Epoch [56/100], Validation MAE: 0.4297, Validation RMSE: 0.7798\n"
     ]
    },
    {
     "name": "stdout",
     "output_type": "stream",
     "text": [
      "Epoch [56/100], Validation MAE: 0.4297, Validation RMSE: 0.7798\n"
     ]
    },
    {
     "name": "stderr",
     "output_type": "stream",
     "text": [
      "Epoch 57/100: 100%|██████████| 426/426 [00:22<00:00, 18.99batch/s, loss=0.517]\n",
      "2024-09-23 12:27:26,488 - INFO - Epoch [57/100], Training Loss: 0.5078\n",
      "2024-09-23 12:27:29,001 - INFO - Epoch [57/100], Validation MAE: 0.4281, Validation RMSE: 0.7764\n"
     ]
    },
    {
     "name": "stdout",
     "output_type": "stream",
     "text": [
      "Epoch [57/100], Validation MAE: 0.4281, Validation RMSE: 0.7764\n"
     ]
    },
    {
     "name": "stderr",
     "output_type": "stream",
     "text": [
      "Epoch 58/100: 100%|██████████| 426/426 [00:21<00:00, 19.37batch/s, loss=0.488]\n",
      "2024-09-23 12:27:51,003 - INFO - Epoch [58/100], Training Loss: 0.5072\n",
      "2024-09-23 12:27:53,429 - INFO - Epoch [58/100], Validation MAE: 0.4285, Validation RMSE: 0.7786\n"
     ]
    },
    {
     "name": "stdout",
     "output_type": "stream",
     "text": [
      "Epoch [58/100], Validation MAE: 0.4285, Validation RMSE: 0.7786\n"
     ]
    },
    {
     "name": "stderr",
     "output_type": "stream",
     "text": [
      "Epoch 59/100: 100%|██████████| 426/426 [00:21<00:00, 19.72batch/s, loss=0.544]\n",
      "2024-09-23 12:28:15,042 - INFO - Epoch [59/100], Training Loss: 0.5074\n",
      "2024-09-23 12:28:17,457 - INFO - Epoch [59/100], Validation MAE: 0.4288, Validation RMSE: 0.7795\n"
     ]
    },
    {
     "name": "stdout",
     "output_type": "stream",
     "text": [
      "Epoch [59/100], Validation MAE: 0.4288, Validation RMSE: 0.7795\n"
     ]
    },
    {
     "name": "stderr",
     "output_type": "stream",
     "text": [
      "Epoch 60/100: 100%|██████████| 426/426 [00:21<00:00, 19.74batch/s, loss=0.555]\n",
      "2024-09-23 12:28:39,040 - INFO - Epoch [60/100], Training Loss: 0.5064\n",
      "2024-09-23 12:28:41,460 - INFO - Epoch [60/100], Validation MAE: 0.4275, Validation RMSE: 0.7783\n"
     ]
    },
    {
     "name": "stdout",
     "output_type": "stream",
     "text": [
      "Epoch [60/100], Validation MAE: 0.4275, Validation RMSE: 0.7783\n"
     ]
    },
    {
     "name": "stderr",
     "output_type": "stream",
     "text": [
      "Epoch 61/100: 100%|██████████| 426/426 [00:22<00:00, 19.30batch/s, loss=0.524]\n",
      "2024-09-23 12:29:03,535 - INFO - Epoch [61/100], Training Loss: 0.5061\n",
      "2024-09-23 12:29:06,195 - INFO - Epoch [61/100], Validation MAE: 0.4281, Validation RMSE: 0.7786\n"
     ]
    },
    {
     "name": "stdout",
     "output_type": "stream",
     "text": [
      "Epoch [61/100], Validation MAE: 0.4281, Validation RMSE: 0.7786\n"
     ]
    },
    {
     "name": "stderr",
     "output_type": "stream",
     "text": [
      "Epoch 62/100: 100%|██████████| 426/426 [00:21<00:00, 19.89batch/s, loss=0.509]\n",
      "2024-09-23 12:29:27,617 - INFO - Epoch [62/100], Training Loss: 0.5058\n",
      "2024-09-23 12:29:30,076 - INFO - Epoch [62/100], Validation MAE: 0.4262, Validation RMSE: 0.7780\n"
     ]
    },
    {
     "name": "stdout",
     "output_type": "stream",
     "text": [
      "Epoch [62/100], Validation MAE: 0.4262, Validation RMSE: 0.7780\n"
     ]
    },
    {
     "name": "stderr",
     "output_type": "stream",
     "text": [
      "Epoch 63/100: 100%|██████████| 426/426 [00:21<00:00, 19.71batch/s, loss=0.518]\n",
      "2024-09-23 12:29:51,693 - INFO - Epoch [63/100], Training Loss: 0.5056\n",
      "2024-09-23 12:29:54,035 - INFO - Epoch [63/100], Validation MAE: 0.4275, Validation RMSE: 0.7790\n"
     ]
    },
    {
     "name": "stdout",
     "output_type": "stream",
     "text": [
      "Epoch [63/100], Validation MAE: 0.4275, Validation RMSE: 0.7790\n"
     ]
    },
    {
     "name": "stderr",
     "output_type": "stream",
     "text": [
      "Epoch 64/100: 100%|██████████| 426/426 [00:22<00:00, 19.13batch/s, loss=0.484]\n",
      "2024-09-23 12:30:16,306 - INFO - Epoch [64/100], Training Loss: 0.5053\n",
      "2024-09-23 12:30:18,996 - INFO - Epoch [64/100], Validation MAE: 0.4258, Validation RMSE: 0.7759\n"
     ]
    },
    {
     "name": "stdout",
     "output_type": "stream",
     "text": [
      "Epoch [64/100], Validation MAE: 0.4258, Validation RMSE: 0.7759\n"
     ]
    },
    {
     "name": "stderr",
     "output_type": "stream",
     "text": [
      "Epoch 65/100: 100%|██████████| 426/426 [00:21<00:00, 19.84batch/s, loss=0.489]\n",
      "2024-09-23 12:30:40,469 - INFO - Epoch [65/100], Training Loss: 0.5048\n",
      "2024-09-23 12:30:42,830 - INFO - Epoch [65/100], Validation MAE: 0.4263, Validation RMSE: 0.7778\n"
     ]
    },
    {
     "name": "stdout",
     "output_type": "stream",
     "text": [
      "Epoch [65/100], Validation MAE: 0.4263, Validation RMSE: 0.7778\n"
     ]
    },
    {
     "name": "stderr",
     "output_type": "stream",
     "text": [
      "Epoch 66/100: 100%|██████████| 426/426 [00:21<00:00, 19.50batch/s, loss=0.506]\n",
      "2024-09-23 12:31:04,676 - INFO - Epoch [66/100], Training Loss: 0.5052\n",
      "2024-09-23 12:31:07,431 - INFO - Epoch [66/100], Validation MAE: 0.4276, Validation RMSE: 0.7793\n"
     ]
    },
    {
     "name": "stdout",
     "output_type": "stream",
     "text": [
      "Epoch [66/100], Validation MAE: 0.4276, Validation RMSE: 0.7793\n"
     ]
    },
    {
     "name": "stderr",
     "output_type": "stream",
     "text": [
      "Epoch 67/100: 100%|██████████| 426/426 [00:22<00:00, 19.35batch/s, loss=0.528]\n",
      "2024-09-23 12:31:29,457 - INFO - Epoch [67/100], Training Loss: 0.5046\n",
      "2024-09-23 12:31:31,963 - INFO - Epoch [67/100], Validation MAE: 0.4255, Validation RMSE: 0.7769\n"
     ]
    },
    {
     "name": "stdout",
     "output_type": "stream",
     "text": [
      "Epoch [67/100], Validation MAE: 0.4255, Validation RMSE: 0.7769\n"
     ]
    },
    {
     "name": "stderr",
     "output_type": "stream",
     "text": [
      "Epoch 68/100: 100%|██████████| 426/426 [00:21<00:00, 19.65batch/s, loss=0.534]\n",
      "2024-09-23 12:31:53,645 - INFO - Epoch [68/100], Training Loss: 0.5042\n",
      "2024-09-23 12:31:56,121 - INFO - Epoch [68/100], Validation MAE: 0.4291, Validation RMSE: 0.7810\n"
     ]
    },
    {
     "name": "stdout",
     "output_type": "stream",
     "text": [
      "Epoch [68/100], Validation MAE: 0.4291, Validation RMSE: 0.7810\n"
     ]
    },
    {
     "name": "stderr",
     "output_type": "stream",
     "text": [
      "Epoch 69/100: 100%|██████████| 426/426 [00:21<00:00, 19.39batch/s, loss=0.479]\n",
      "2024-09-23 12:32:18,091 - INFO - Epoch [69/100], Training Loss: 0.5042\n",
      "2024-09-23 12:32:20,511 - INFO - Epoch [69/100], Validation MAE: 0.4270, Validation RMSE: 0.7783\n"
     ]
    },
    {
     "name": "stdout",
     "output_type": "stream",
     "text": [
      "Epoch [69/100], Validation MAE: 0.4270, Validation RMSE: 0.7783\n"
     ]
    },
    {
     "name": "stderr",
     "output_type": "stream",
     "text": [
      "Epoch 70/100: 100%|██████████| 426/426 [00:21<00:00, 19.88batch/s, loss=0.542]\n",
      "2024-09-23 12:32:41,943 - INFO - Epoch [70/100], Training Loss: 0.5041\n",
      "2024-09-23 12:32:44,491 - INFO - Epoch [70/100], Validation MAE: 0.4273, Validation RMSE: 0.7786\n"
     ]
    },
    {
     "name": "stdout",
     "output_type": "stream",
     "text": [
      "Epoch [70/100], Validation MAE: 0.4273, Validation RMSE: 0.7786\n"
     ]
    },
    {
     "name": "stderr",
     "output_type": "stream",
     "text": [
      "Epoch 71/100: 100%|██████████| 426/426 [00:21<00:00, 19.90batch/s, loss=0.488]\n",
      "2024-09-23 12:33:05,899 - INFO - Epoch [71/100], Training Loss: 0.5040\n",
      "2024-09-23 12:33:08,349 - INFO - Epoch [71/100], Validation MAE: 0.4269, Validation RMSE: 0.7781\n"
     ]
    },
    {
     "name": "stdout",
     "output_type": "stream",
     "text": [
      "Epoch [71/100], Validation MAE: 0.4269, Validation RMSE: 0.7781\n"
     ]
    },
    {
     "name": "stderr",
     "output_type": "stream",
     "text": [
      "Epoch 72/100: 100%|██████████| 426/426 [00:21<00:00, 19.43batch/s, loss=0.567]\n",
      "2024-09-23 12:33:30,278 - INFO - Epoch [72/100], Training Loss: 0.5036\n",
      "2024-09-23 12:33:32,805 - INFO - Epoch [72/100], Validation MAE: 0.4276, Validation RMSE: 0.7788\n"
     ]
    },
    {
     "name": "stdout",
     "output_type": "stream",
     "text": [
      "Epoch [72/100], Validation MAE: 0.4276, Validation RMSE: 0.7788\n"
     ]
    },
    {
     "name": "stderr",
     "output_type": "stream",
     "text": [
      "Epoch 73/100: 100%|██████████| 426/426 [00:21<00:00, 19.70batch/s, loss=0.448]\n",
      "2024-09-23 12:33:54,437 - INFO - Epoch [73/100], Training Loss: 0.5034\n",
      "2024-09-23 12:33:56,940 - INFO - Epoch [73/100], Validation MAE: 0.4267, Validation RMSE: 0.7792\n"
     ]
    },
    {
     "name": "stdout",
     "output_type": "stream",
     "text": [
      "Epoch [73/100], Validation MAE: 0.4267, Validation RMSE: 0.7792\n"
     ]
    },
    {
     "name": "stderr",
     "output_type": "stream",
     "text": [
      "Epoch 74/100: 100%|██████████| 426/426 [00:21<00:00, 20.04batch/s, loss=0.457]\n",
      "2024-09-23 12:34:18,199 - INFO - Epoch [74/100], Training Loss: 0.5032\n",
      "2024-09-23 12:34:20,578 - INFO - Epoch [74/100], Validation MAE: 0.4255, Validation RMSE: 0.7773\n"
     ]
    },
    {
     "name": "stdout",
     "output_type": "stream",
     "text": [
      "Epoch [74/100], Validation MAE: 0.4255, Validation RMSE: 0.7773\n"
     ]
    },
    {
     "name": "stderr",
     "output_type": "stream",
     "text": [
      "Epoch 75/100: 100%|██████████| 426/426 [00:22<00:00, 19.34batch/s, loss=0.485]\n",
      "2024-09-23 12:34:42,615 - INFO - Epoch [75/100], Training Loss: 0.5030\n",
      "2024-09-23 12:34:45,104 - INFO - Epoch [75/100], Validation MAE: 0.4283, Validation RMSE: 0.7807\n"
     ]
    },
    {
     "name": "stdout",
     "output_type": "stream",
     "text": [
      "Epoch [75/100], Validation MAE: 0.4283, Validation RMSE: 0.7807\n"
     ]
    },
    {
     "name": "stderr",
     "output_type": "stream",
     "text": [
      "Epoch 76/100: 100%|██████████| 426/426 [00:21<00:00, 20.01batch/s, loss=0.573]\n",
      "2024-09-23 12:35:06,402 - INFO - Epoch [76/100], Training Loss: 0.5030\n",
      "2024-09-23 12:35:08,799 - INFO - Epoch [76/100], Validation MAE: 0.4240, Validation RMSE: 0.7746\n"
     ]
    },
    {
     "name": "stdout",
     "output_type": "stream",
     "text": [
      "Epoch [76/100], Validation MAE: 0.4240, Validation RMSE: 0.7746\n"
     ]
    },
    {
     "name": "stderr",
     "output_type": "stream",
     "text": [
      "Epoch 77/100: 100%|██████████| 426/426 [00:21<00:00, 19.41batch/s, loss=0.543]\n",
      "2024-09-23 12:35:30,750 - INFO - Epoch [77/100], Training Loss: 0.5029\n",
      "2024-09-23 12:35:33,302 - INFO - Epoch [77/100], Validation MAE: 0.4261, Validation RMSE: 0.7768\n"
     ]
    },
    {
     "name": "stdout",
     "output_type": "stream",
     "text": [
      "Epoch [77/100], Validation MAE: 0.4261, Validation RMSE: 0.7768\n"
     ]
    },
    {
     "name": "stderr",
     "output_type": "stream",
     "text": [
      "Epoch 78/100: 100%|██████████| 426/426 [00:21<00:00, 19.96batch/s, loss=0.579]\n",
      "2024-09-23 12:35:54,651 - INFO - Epoch [78/100], Training Loss: 0.5029\n",
      "2024-09-23 12:35:57,030 - INFO - Epoch [78/100], Validation MAE: 0.4251, Validation RMSE: 0.7768\n"
     ]
    },
    {
     "name": "stdout",
     "output_type": "stream",
     "text": [
      "Epoch [78/100], Validation MAE: 0.4251, Validation RMSE: 0.7768\n"
     ]
    },
    {
     "name": "stderr",
     "output_type": "stream",
     "text": [
      "Epoch 79/100: 100%|██████████| 426/426 [00:21<00:00, 19.99batch/s, loss=0.537]\n",
      "2024-09-23 12:36:18,342 - INFO - Epoch [79/100], Training Loss: 0.5026\n",
      "2024-09-23 12:36:21,089 - INFO - Epoch [79/100], Validation MAE: 0.4262, Validation RMSE: 0.7770\n"
     ]
    },
    {
     "name": "stdout",
     "output_type": "stream",
     "text": [
      "Epoch [79/100], Validation MAE: 0.4262, Validation RMSE: 0.7770\n"
     ]
    },
    {
     "name": "stderr",
     "output_type": "stream",
     "text": [
      "Epoch 80/100: 100%|██████████| 426/426 [00:21<00:00, 19.52batch/s, loss=0.463]\n",
      "2024-09-23 12:36:42,919 - INFO - Epoch [80/100], Training Loss: 0.5020\n",
      "2024-09-23 12:36:45,304 - INFO - Epoch [80/100], Validation MAE: 0.4272, Validation RMSE: 0.7785\n"
     ]
    },
    {
     "name": "stdout",
     "output_type": "stream",
     "text": [
      "Epoch [80/100], Validation MAE: 0.4272, Validation RMSE: 0.7785\n"
     ]
    },
    {
     "name": "stderr",
     "output_type": "stream",
     "text": [
      "Epoch 81/100: 100%|██████████| 426/426 [00:21<00:00, 19.98batch/s, loss=0.508]\n",
      "2024-09-23 12:37:06,627 - INFO - Epoch [81/100], Training Loss: 0.5021\n",
      "2024-09-23 12:37:09,047 - INFO - Epoch [81/100], Validation MAE: 0.4267, Validation RMSE: 0.7780\n"
     ]
    },
    {
     "name": "stdout",
     "output_type": "stream",
     "text": [
      "Epoch [81/100], Validation MAE: 0.4267, Validation RMSE: 0.7780\n"
     ]
    },
    {
     "name": "stderr",
     "output_type": "stream",
     "text": [
      "Epoch 82/100: 100%|██████████| 426/426 [00:21<00:00, 19.71batch/s, loss=0.496]\n",
      "2024-09-23 12:37:30,662 - INFO - Epoch [82/100], Training Loss: 0.5022\n",
      "2024-09-23 12:37:33,018 - INFO - Epoch [82/100], Validation MAE: 0.4260, Validation RMSE: 0.7779\n"
     ]
    },
    {
     "name": "stdout",
     "output_type": "stream",
     "text": [
      "Epoch [82/100], Validation MAE: 0.4260, Validation RMSE: 0.7779\n"
     ]
    },
    {
     "name": "stderr",
     "output_type": "stream",
     "text": [
      "Epoch 83/100: 100%|██████████| 426/426 [00:21<00:00, 19.37batch/s, loss=0.487]\n",
      "2024-09-23 12:37:55,020 - INFO - Epoch [83/100], Training Loss: 0.5020\n",
      "2024-09-23 12:37:57,446 - INFO - Epoch [83/100], Validation MAE: 0.4274, Validation RMSE: 0.7787\n"
     ]
    },
    {
     "name": "stdout",
     "output_type": "stream",
     "text": [
      "Epoch [83/100], Validation MAE: 0.4274, Validation RMSE: 0.7787\n"
     ]
    },
    {
     "name": "stderr",
     "output_type": "stream",
     "text": [
      "Epoch 84/100: 100%|██████████| 426/426 [00:22<00:00, 19.36batch/s, loss=0.581]\n",
      "2024-09-23 12:38:19,452 - INFO - Epoch [84/100], Training Loss: 0.5017\n",
      "2024-09-23 12:38:21,917 - INFO - Epoch [84/100], Validation MAE: 0.4261, Validation RMSE: 0.7771\n"
     ]
    },
    {
     "name": "stdout",
     "output_type": "stream",
     "text": [
      "Epoch [84/100], Validation MAE: 0.4261, Validation RMSE: 0.7771\n"
     ]
    },
    {
     "name": "stderr",
     "output_type": "stream",
     "text": [
      "Epoch 85/100: 100%|██████████| 426/426 [00:21<00:00, 19.62batch/s, loss=0.503]\n",
      "2024-09-23 12:38:43,634 - INFO - Epoch [85/100], Training Loss: 0.5012\n",
      "2024-09-23 12:38:46,489 - INFO - Epoch [85/100], Validation MAE: 0.4252, Validation RMSE: 0.7758\n"
     ]
    },
    {
     "name": "stdout",
     "output_type": "stream",
     "text": [
      "Epoch [85/100], Validation MAE: 0.4252, Validation RMSE: 0.7758\n"
     ]
    },
    {
     "name": "stderr",
     "output_type": "stream",
     "text": [
      "Epoch 86/100: 100%|██████████| 426/426 [00:21<00:00, 19.54batch/s, loss=0.487]\n",
      "2024-09-23 12:39:08,301 - INFO - Epoch [86/100], Training Loss: 0.5012\n",
      "2024-09-23 12:39:10,766 - INFO - Epoch [86/100], Validation MAE: 0.4269, Validation RMSE: 0.7784\n"
     ]
    },
    {
     "name": "stdout",
     "output_type": "stream",
     "text": [
      "Epoch [86/100], Validation MAE: 0.4269, Validation RMSE: 0.7784\n"
     ]
    },
    {
     "name": "stderr",
     "output_type": "stream",
     "text": [
      "Epoch 87/100: 100%|██████████| 426/426 [00:21<00:00, 20.03batch/s, loss=0.55] \n",
      "2024-09-23 12:39:32,037 - INFO - Epoch [87/100], Training Loss: 0.5010\n",
      "2024-09-23 12:39:34,449 - INFO - Epoch [87/100], Validation MAE: 0.4256, Validation RMSE: 0.7769\n"
     ]
    },
    {
     "name": "stdout",
     "output_type": "stream",
     "text": [
      "Epoch [87/100], Validation MAE: 0.4256, Validation RMSE: 0.7769\n"
     ]
    },
    {
     "name": "stderr",
     "output_type": "stream",
     "text": [
      "Epoch 88/100: 100%|██████████| 426/426 [00:22<00:00, 19.18batch/s, loss=0.581]\n",
      "2024-09-23 12:39:56,663 - INFO - Epoch [88/100], Training Loss: 0.5012\n",
      "2024-09-23 12:39:59,112 - INFO - Epoch [88/100], Validation MAE: 0.4261, Validation RMSE: 0.7779\n"
     ]
    },
    {
     "name": "stdout",
     "output_type": "stream",
     "text": [
      "Epoch [88/100], Validation MAE: 0.4261, Validation RMSE: 0.7779\n"
     ]
    },
    {
     "name": "stderr",
     "output_type": "stream",
     "text": [
      "Epoch 89/100: 100%|██████████| 426/426 [00:21<00:00, 19.96batch/s, loss=0.491]\n",
      "2024-09-23 12:40:20,457 - INFO - Epoch [89/100], Training Loss: 0.5004\n",
      "2024-09-23 12:40:22,888 - INFO - Epoch [89/100], Validation MAE: 0.4244, Validation RMSE: 0.7753\n"
     ]
    },
    {
     "name": "stdout",
     "output_type": "stream",
     "text": [
      "Epoch [89/100], Validation MAE: 0.4244, Validation RMSE: 0.7753\n"
     ]
    },
    {
     "name": "stderr",
     "output_type": "stream",
     "text": [
      "Epoch 90/100: 100%|██████████| 426/426 [00:21<00:00, 19.85batch/s, loss=0.474]\n",
      "2024-09-23 12:40:44,358 - INFO - Epoch [90/100], Training Loss: 0.5005\n",
      "2024-09-23 12:40:46,898 - INFO - Epoch [90/100], Validation MAE: 0.4256, Validation RMSE: 0.7757\n"
     ]
    },
    {
     "name": "stdout",
     "output_type": "stream",
     "text": [
      "Epoch [90/100], Validation MAE: 0.4256, Validation RMSE: 0.7757\n"
     ]
    },
    {
     "name": "stderr",
     "output_type": "stream",
     "text": [
      "Epoch 91/100: 100%|██████████| 426/426 [00:21<00:00, 19.58batch/s, loss=0.477]\n",
      "2024-09-23 12:41:08,665 - INFO - Epoch [91/100], Training Loss: 0.5003\n",
      "2024-09-23 12:41:11,070 - INFO - Epoch [91/100], Validation MAE: 0.4253, Validation RMSE: 0.7754\n"
     ]
    },
    {
     "name": "stdout",
     "output_type": "stream",
     "text": [
      "Epoch [91/100], Validation MAE: 0.4253, Validation RMSE: 0.7754\n"
     ]
    },
    {
     "name": "stderr",
     "output_type": "stream",
     "text": [
      "Epoch 92/100: 100%|██████████| 426/426 [00:21<00:00, 19.85batch/s, loss=0.544]\n",
      "2024-09-23 12:41:32,539 - INFO - Epoch [92/100], Training Loss: 0.5002\n",
      "2024-09-23 12:41:34,887 - INFO - Epoch [92/100], Validation MAE: 0.4269, Validation RMSE: 0.7770\n"
     ]
    },
    {
     "name": "stdout",
     "output_type": "stream",
     "text": [
      "Epoch [92/100], Validation MAE: 0.4269, Validation RMSE: 0.7770\n"
     ]
    },
    {
     "name": "stderr",
     "output_type": "stream",
     "text": [
      "Epoch 93/100: 100%|██████████| 426/426 [00:21<00:00, 19.75batch/s, loss=0.481]\n",
      "2024-09-23 12:41:56,459 - INFO - Epoch [93/100], Training Loss: 0.5001\n",
      "2024-09-23 12:41:58,857 - INFO - Epoch [93/100], Validation MAE: 0.4281, Validation RMSE: 0.7786\n"
     ]
    },
    {
     "name": "stdout",
     "output_type": "stream",
     "text": [
      "Epoch [93/100], Validation MAE: 0.4281, Validation RMSE: 0.7786\n"
     ]
    },
    {
     "name": "stderr",
     "output_type": "stream",
     "text": [
      "Epoch 94/100: 100%|██████████| 426/426 [00:21<00:00, 19.40batch/s, loss=0.494]\n",
      "2024-09-23 12:42:20,821 - INFO - Epoch [94/100], Training Loss: 0.4998\n",
      "2024-09-23 12:42:23,451 - INFO - Epoch [94/100], Validation MAE: 0.4288, Validation RMSE: 0.7801\n"
     ]
    },
    {
     "name": "stdout",
     "output_type": "stream",
     "text": [
      "Epoch [94/100], Validation MAE: 0.4288, Validation RMSE: 0.7801\n"
     ]
    },
    {
     "name": "stderr",
     "output_type": "stream",
     "text": [
      "Epoch 95/100: 100%|██████████| 426/426 [00:21<00:00, 19.56batch/s, loss=0.379]\n",
      "2024-09-23 12:42:45,233 - INFO - Epoch [95/100], Training Loss: 0.5000\n",
      "2024-09-23 12:42:47,604 - INFO - Epoch [95/100], Validation MAE: 0.4264, Validation RMSE: 0.7762\n"
     ]
    },
    {
     "name": "stdout",
     "output_type": "stream",
     "text": [
      "Epoch [95/100], Validation MAE: 0.4264, Validation RMSE: 0.7762\n"
     ]
    },
    {
     "name": "stderr",
     "output_type": "stream",
     "text": [
      "Epoch 96/100: 100%|██████████| 426/426 [00:25<00:00, 17.00batch/s, loss=0.399]\n",
      "2024-09-23 12:43:12,665 - INFO - Epoch [96/100], Training Loss: 0.4994\n",
      "2024-09-23 12:43:15,485 - INFO - Epoch [96/100], Validation MAE: 0.4262, Validation RMSE: 0.7771\n"
     ]
    },
    {
     "name": "stdout",
     "output_type": "stream",
     "text": [
      "Epoch [96/100], Validation MAE: 0.4262, Validation RMSE: 0.7771\n"
     ]
    },
    {
     "name": "stderr",
     "output_type": "stream",
     "text": [
      "Epoch 97/100: 100%|██████████| 426/426 [00:23<00:00, 18.19batch/s, loss=0.504]\n",
      "2024-09-23 12:43:38,910 - INFO - Epoch [97/100], Training Loss: 0.4993\n",
      "2024-09-23 12:43:41,518 - INFO - Epoch [97/100], Validation MAE: 0.4264, Validation RMSE: 0.7779\n"
     ]
    },
    {
     "name": "stdout",
     "output_type": "stream",
     "text": [
      "Epoch [97/100], Validation MAE: 0.4264, Validation RMSE: 0.7779\n"
     ]
    },
    {
     "name": "stderr",
     "output_type": "stream",
     "text": [
      "Epoch 98/100: 100%|██████████| 426/426 [00:23<00:00, 17.99batch/s, loss=0.45] \n",
      "2024-09-23 12:44:05,202 - INFO - Epoch [98/100], Training Loss: 0.4991\n",
      "2024-09-23 12:44:07,908 - INFO - Epoch [98/100], Validation MAE: 0.4265, Validation RMSE: 0.7763\n"
     ]
    },
    {
     "name": "stdout",
     "output_type": "stream",
     "text": [
      "Epoch [98/100], Validation MAE: 0.4265, Validation RMSE: 0.7763\n"
     ]
    },
    {
     "name": "stderr",
     "output_type": "stream",
     "text": [
      "Epoch 99/100: 100%|██████████| 426/426 [00:23<00:00, 18.38batch/s, loss=0.526]\n",
      "2024-09-23 12:44:31,086 - INFO - Epoch [99/100], Training Loss: 0.4992\n",
      "2024-09-23 12:44:33,931 - INFO - Epoch [99/100], Validation MAE: 0.4268, Validation RMSE: 0.7787\n"
     ]
    },
    {
     "name": "stdout",
     "output_type": "stream",
     "text": [
      "Epoch [99/100], Validation MAE: 0.4268, Validation RMSE: 0.7787\n"
     ]
    },
    {
     "name": "stderr",
     "output_type": "stream",
     "text": [
      "Epoch 100/100: 100%|██████████| 426/426 [00:36<00:00, 11.81batch/s, loss=0.528]\n",
      "2024-09-23 12:45:09,992 - INFO - Epoch [100/100], Training Loss: 0.4995\n",
      "2024-09-23 12:45:12,688 - INFO - Epoch [100/100], Validation MAE: 0.4281, Validation RMSE: 0.7804\n"
     ]
    },
    {
     "name": "stdout",
     "output_type": "stream",
     "text": [
      "Epoch [100/100], Validation MAE: 0.4281, Validation RMSE: 0.7804\n"
     ]
    }
   ],
   "source": [
    "# Train the model\n",
    "train_model(model, train_loader,val_loader, epochs=100, learning_rate=0.00001)"
   ]
  },
  {
   "cell_type": "code",
   "execution_count": 19,
   "metadata": {},
   "outputs": [],
   "source": [
    "test_loader = val_loader\n",
    "model.eval()  # Set the model to evaluation mode\n",
    "criterion = nn.MSELoss(reduction='none')  # MSE without reduction (so we can manually exclude masked values)\n",
    "running_test_loss = 0.0\n",
    "valid_preds = []\n",
    "valid_targets = []\n",
    "mask_value = -2.5\n",
    "device = torch.device('cuda' if torch.cuda.is_available() else 'cpu')\n",
    "model = model.to(device)\n",
    "rmse_patients_errors = {}\n",
    "mae_patients_errors = {}\n",
    "abs_patients_errors =  {key: [] for key in range(13)}\n",
    "squared_patients_errors =  {key: [] for key in range(13)}\n",
    "\n",
    "i=0\n",
    "with torch.no_grad():  # Disable gradient calculation for evaluation\n",
    "    for inputs, targets in test_loader:\n",
    "        i+=1\n",
    "        # Move data to device (GPU or CPU)\n",
    "        inputs = [inp.to(device) for inp in inputs]\n",
    "        targets = targets.to(device)\n",
    "        # print(targets[0])\n",
    "        # print(targets)\n",
    "        # Forward pass\n",
    "        outputs = model(inputs)\n",
    "        \n",
    "        # # # Convert to numpy arrays for masking\n",
    "        outputs_np = outputs.cpu().numpy()\n",
    "        targets_np = targets.cpu().numpy()\n",
    "\n",
    "        for i in range(len(targets_np)): #this prints a list of 12 values of each patient\n",
    "            for j in range(len(targets_np[i])):\n",
    "                if targets[i][j] != mask_value:\n",
    "                    sub_output = scaler.inverse_transform([[outputs[i][j]]])[0][0]\n",
    "                    sub_target = scaler.inverse_transform([[targets[i][j]]])[0][0]\n",
    "                    abs_patients_errors[j].append(abs(sub_output-sub_target))\n",
    "                    squared_patients_errors[j].append((sub_output-sub_target) ** 2)\n",
    "\n",
    "        # Apply mask to identify valid values in both outputs and targets before denormalization\n",
    "        # mask = (targets_np != mask_value)\n",
    "\n",
    "        # # Use the mask to filter out invalid values before denormalizing\n",
    "        # filtered_outputs = outputs_np[mask]\n",
    "        # filtered_targets = targets_np[mask]\n",
    "\n",
    "        # # Denormalize valid predictions and targets\n",
    "        # denormalized_output = scaler.inverse_transform(filtered_outputs.reshape(-1, 1)).flatten()\n",
    "        # denormalized_target = scaler.inverse_transform(filtered_targets.reshape(-1, 1)).flatten()\n",
    "        \n",
    "        \n",
    "        # rmse_patients_errors[i] = np.sqrt(np.mean((denormalized_output - denormalized_target) ** 2))\n",
    "        # mae_patients_errors[i] = np.mean(np.abs((denormalized_output - denormalized_target)))\n",
    "\n",
    "        # print(\"output\",denormalized_output)\n",
    "        # print('target',denormalized_target)\n",
    "        # Collect valid predictions and targets\n",
    "        # valid_preds.append(denormalized_output)\n",
    "        # valid_targets.append(denormalized_target)\n",
    "\n",
    "# Concatenate all valid predictions and targets\n",
    "# valid_preds = np.concatenate(valid_preds, axis=0)\n",
    "# valid_targets = np.concatenate(valid_targets, axis=0)\n",
    "\n",
    "# # Calculate RMSE on valid data\n",
    "# rmse = np.sqrt(np.mean((valid_preds - valid_targets) ** 2))\n",
    "\n",
    "# print(f\"Test RMSE (excluding masked values before denormalization): {rmse:.4f}\")\n",
    "\n",
    "# mae = np.mean(np.abs((valid_preds - valid_targets)))\n",
    "\n",
    "\n",
    "# print(f\"Test MAE (excluding masked values before denormalization): {mae:.4f}\")"
   ]
  },
  {
   "cell_type": "code",
   "execution_count": 20,
   "metadata": {},
   "outputs": [],
   "source": [
    "patients_list = ['559', '563', '570', '575', '588', '591', '540', '544', '552', '567', '584', '596']"
   ]
  },
  {
   "cell_type": "code",
   "execution_count": 21,
   "metadata": {},
   "outputs": [
    {
     "name": "stdout",
     "output_type": "stream",
     "text": [
      "559: RMSE: 13.75654609574065, MAE: 8.364556414209867\n",
      "563: RMSE: 17.094891526246588, MAE: 10.57461160767194\n",
      "570: RMSE: 12.717040166837009, MAE: 7.438573830184199\n",
      "575: RMSE: 19.026930768638287, MAE: 10.341250599875806\n",
      "588: RMSE: 17.038226220195508, MAE: 10.895248861479853\n",
      "591: RMSE: 20.36170180901237, MAE: 14.0247765660722\n",
      "540: RMSE: 16.456513291582556, MAE: 11.530075851168474\n",
      "544: RMSE: 16.91814094399794, MAE: 11.020300258635453\n",
      "552: RMSE: 17.444239114105073, MAE: 12.541814654869546\n",
      "567: RMSE: 24.261393880067267, MAE: 18.726374474287812\n",
      "584: RMSE: 17.046001403116694, MAE: 11.10290367277333\n",
      "596: RMSE: 23.956376516632503, MAE: 19.63336975612865\n",
      "Average MAE: 12.182821378946427\n",
      "Average RMSE: 18.006500144681034\n"
     ]
    }
   ],
   "source": [
    "all_mae = []\n",
    "all_rmse = []\n",
    "for i in range(len(squared_patients_errors)-1):\n",
    "    mae = np.mean(abs_patients_errors[i])\n",
    "    rmse = np.sqrt(np.mean(squared_patients_errors[i]))\n",
    "    all_mae.append(mae)\n",
    "    all_rmse.append(rmse)\n",
    "    print(f\"{patients_list[i]}: RMSE: {rmse}, MAE: {mae}\")\n",
    "print(f\"Average MAE: {np.mean(all_mae)}\")\n",
    "print(f\"Average RMSE: {np.mean(all_rmse)}\")\n"
   ]
  },
  {
   "cell_type": "code",
   "execution_count": null,
   "metadata": {},
   "outputs": [],
   "source": []
  },
  {
   "cell_type": "code",
   "execution_count": 116,
   "metadata": {},
   "outputs": [
    {
     "data": {
      "text/plain": [
       "11.151599144554567"
      ]
     },
     "execution_count": 116,
     "metadata": {},
     "output_type": "execute_result"
    }
   ],
   "source": [
    "np.mean(patients_errors[4])"
   ]
  },
  {
   "cell_type": "code",
   "execution_count": 110,
   "metadata": {},
   "outputs": [
    {
     "data": {
      "text/plain": [
       "array([[-0.26370103]])"
      ]
     },
     "execution_count": 110,
     "metadata": {},
     "output_type": "execute_result"
    }
   ],
   "source": [
    "scaler.inverse_transform([[targets[3][0]]]) - scaler.inverse_transform([[outputs[3][0]]]) "
   ]
  },
  {
   "cell_type": "code",
   "execution_count": 109,
   "metadata": {},
   "outputs": [
    {
     "data": {
      "text/plain": [
       "tensor([ 0.0000,  0.0000,  0.0000,  0.0000,  0.0000,  0.0000, -0.6992, -1.3943,\n",
       "        -0.3573,  0.0000,  0.0000,  0.0000])"
      ]
     },
     "execution_count": 109,
     "metadata": {},
     "output_type": "execute_result"
    }
   ],
   "source": [
    "targets[3]"
   ]
  },
  {
   "cell_type": "code",
   "execution_count": 108,
   "metadata": {},
   "outputs": [
    {
     "data": {
      "text/plain": [
       "tensor([ 0.0053, -0.0044, -0.0414, -0.0573, -0.0357, -0.1469, -0.6546, -0.6629,\n",
       "         0.1259, -0.2932, -0.1174, -0.5127])"
      ]
     },
     "execution_count": 108,
     "metadata": {},
     "output_type": "execute_result"
    }
   ],
   "source": [
    "outputs[3]"
   ]
  },
  {
   "cell_type": "code",
   "execution_count": 103,
   "metadata": {},
   "outputs": [
    {
     "data": {
      "text/plain": [
       "[9.345899051288256,\n",
       " 33.90297144854085,\n",
       " 119.02969300144971,\n",
       " 0.029639654333010412,\n",
       " 0.12076606776051335,\n",
       " 2.720025541495289,\n",
       " 0.06117054165991931,\n",
       " 3.5500000905130946e-05,\n",
       " 0.14740392327743734,\n",
       " 12.799621211671948,\n",
       " 4.337837964508509,\n",
       " 117.89402903438878,\n",
       " 5.424269754425353,\n",
       " 4.461147407051385,\n",
       " 0.063028248788072,\n",
       " 9.317095408777533,\n",
       " 0.5339150554052026,\n",
       " 2.3977368607403946,\n",
       " 0.0009054049698704603,\n",
       " 2.8110774313192053,\n",
       " 18.55847951913671,\n",
       " 4.775312200109994,\n",
       " 9.81907152770215,\n",
       " 5.161596283735349,\n",
       " 15.932172327281549,\n",
       " 0.12321307719929564,\n",
       " 116.5647698008026,\n",
       " 0.006111956994828915,\n",
       " 0.7265331709192537,\n",
       " 0.12209594622981967,\n",
       " 113.86393983173642,\n",
       " 0.11265733040409032,\n",
       " 10.737814581341311,\n",
       " 9.361005317437247,\n",
       " 12.368371653889426,\n",
       " 4.031328775914034,\n",
       " 3.927413604803121,\n",
       " 0.06253698754042603,\n",
       " 115.18944582112672,\n",
       " 11.844817043625525,\n",
       " 119.29546265068666,\n",
       " 0.6322056857963219,\n",
       " 0.1520455283108504,\n",
       " 9.218542907057326,\n",
       " 12.326930607886027,\n",
       " 0.3600146797829211,\n",
       " 8.992959672042502,\n",
       " 0.5912900352154082,\n",
       " 0.2755557128569137,\n",
       " 3.9120329797722206,\n",
       " 0.08382478747230948,\n",
       " 3.6226570809804173,\n",
       " 5.699771614710556,\n",
       " 0.06970182429068927,\n",
       " 13.993116872424821,\n",
       " 8.395693240941455,\n",
       " 0.24782430121751986,\n",
       " 1.260449511807849,\n",
       " 0.15755639557153245,\n",
       " 19.176633953360138,\n",
       " 115.75154656881665,\n",
       " 13.491887068423978,\n",
       " 18.43784098969178,\n",
       " 2.4369767919120306,\n",
       " 0.42619710307806713,\n",
       " 11.046835971746134,\n",
       " 5.895787997366455,\n",
       " 19.675649787695377,\n",
       " 5.143952106108401,\n",
       " 12.069300639426928,\n",
       " 16.61982844062402,\n",
       " 7.117252838274339,\n",
       " 1.0637896528988051,\n",
       " 4.351231966792014,\n",
       " 12.186488242821454,\n",
       " 0.033873669313948085,\n",
       " 6.443518509964136,\n",
       " 15.403816620224603,\n",
       " 33.17529125916346,\n",
       " 12.745799858852394,\n",
       " 30.025518706319247,\n",
       " 4.238739224171013,\n",
       " 0.06422172828848716,\n",
       " 2.474047194414993,\n",
       " 0.3017859553662845,\n",
       " 12.744537881451748,\n",
       " 31.932594272867618,\n",
       " 0.025209029259769977,\n",
       " 7.478633803252393,\n",
       " 8.345458019478045,\n",
       " 0.39095089331507893,\n",
       " 2.1557100895778376,\n",
       " 22.27353824749261,\n",
       " 2.612819165644254,\n",
       " 0.10395481450024135,\n",
       " 10.373696638601501,\n",
       " 0.05265127600327446,\n",
       " 5.863173447548121,\n",
       " 2.520056664719249,\n",
       " 0.07424362072148938,\n",
       " 0.09756972671922881,\n",
       " 0.08211372874751532,\n",
       " 0.6322056857963219,\n",
       " 12.200268624681627,\n",
       " 0.14667257505303155,\n",
       " 0.17672972454711555,\n",
       " 0.08156785741115868,\n",
       " 0.2868462970457131,\n",
       " 16.45639098153272,\n",
       " 0.17740976821150412,\n",
       " 2.1992137854886664,\n",
       " 16.710734519904236,\n",
       " 41.77178288094362,\n",
       " 15.900010267613851,\n",
       " 4.403773345443625,\n",
       " 114.32897042368663,\n",
       " 5.0404038486828995,\n",
       " 20.58406416599682,\n",
       " 0.48552275801105793,\n",
       " 18.16163243491704,\n",
       " 3.9684062007465144,\n",
       " 5.999278958961156,\n",
       " 5.427938156717971,\n",
       " 1.2751945571263548,\n",
       " 0.09375275927567372,\n",
       " 9.167644376168539,\n",
       " 4.871990834339485,\n",
       " 4.776354176211726,\n",
       " 0.4081549306138754,\n",
       " 0.6322056857963219,\n",
       " 2.44545363661706,\n",
       " 11.548929620579997,\n",
       " 2.6036547709700812,\n",
       " 0.10649385077617524,\n",
       " 1.4417629028159382,\n",
       " 0.3541953424205815,\n",
       " 11.216824437795026,\n",
       " 2.8486282373262526,\n",
       " 39.69514507790788,\n",
       " 0.8537139384887382,\n",
       " 1.65844692001437,\n",
       " 9.809478148859185,\n",
       " 3.077150454634406,\n",
       " 0.11058641667489155,\n",
       " 14.847911902438227,\n",
       " 0.5211268830758229,\n",
       " 115.23594065322808,\n",
       " 10.993957429167352,\n",
       " 11.525124855662767,\n",
       " 1.512238243776963,\n",
       " 0.04983267004669756,\n",
       " 0.07052665699856675,\n",
       " 1.2929002543151853,\n",
       " 120.26759807297663,\n",
       " 1.200791329869901,\n",
       " 8.193684302037411,\n",
       " 0.6322056857963219,\n",
       " 119.37472996342191,\n",
       " 0.07530301971405606,\n",
       " 5.9761097737563205,\n",
       " 46.216621176681,\n",
       " 7.551710962579563,\n",
       " 10.93910511867503,\n",
       " 8.500662141145028,\n",
       " 0.018350791773741548,\n",
       " 16.4931778431296,\n",
       " 0.07919129705274486,\n",
       " 6.661333017977199,\n",
       " 7.225533143671214,\n",
       " 71.0914092393756,\n",
       " 0.013383752849023267,\n",
       " 0.27307780590683706,\n",
       " 22.06701395638737,\n",
       " 0.6322056857963219,\n",
       " 4.183636519879855,\n",
       " 15.119379548588256,\n",
       " 2.560377871056005,\n",
       " 0.4945217844300913,\n",
       " 0.043207931435091496,\n",
       " 0.08211399273071152,\n",
       " 10.685303687009934,\n",
       " 35.592199451789185,\n",
       " 8.10531943976386,\n",
       " 2.8760655946418865,\n",
       " 117.45790418905793,\n",
       " 0.5998474980925721,\n",
       " 7.002872730587157,\n",
       " 25.20465925900129,\n",
       " 0.6322056857963219,\n",
       " 33.71750635939847,\n",
       " 42.17079802470806,\n",
       " 4.1841025994262395,\n",
       " 3.035862197513069,\n",
       " 3.8557302767435147,\n",
       " 4.789592451365479,\n",
       " 0.036784348017789625,\n",
       " 0.040437806566075096,\n",
       " 2.9169134818845066,\n",
       " 19.41400176546361,\n",
       " 8.606754553824942,\n",
       " 0.6886253678128753,\n",
       " 118.4839953890012,\n",
       " 119.24847492752835,\n",
       " 5.857884601631639,\n",
       " 0.12088095783781228,\n",
       " 20.083634299940826,\n",
       " 17.390724377634584,\n",
       " 118.74714926319527,\n",
       " 12.805624051787163,\n",
       " 3.9585608671605996,\n",
       " 18.27264035241103,\n",
       " 0.0551921027739013,\n",
       " 3.7864162781982884,\n",
       " 12.316441430765934,\n",
       " 7.863511935338252,\n",
       " 0.047601713636396425,\n",
       " 1.4069622966854496,\n",
       " 0.6153583242260368,\n",
       " 5.818899930731675,\n",
       " 81.83689558554354,\n",
       " 117.33031482141334,\n",
       " 7.4949175721796735,\n",
       " 10.994987652278184,\n",
       " 25.111356120493667,\n",
       " 0.6737532432800037,\n",
       " 18.992325018789913,\n",
       " 0.10357323253118977,\n",
       " 4.240126536201444,\n",
       " 8.491051132815699,\n",
       " 21.95207043969768,\n",
       " 1.408484309010305,\n",
       " 2.6674911411820688,\n",
       " 13.89047800267221,\n",
       " 17.578505219180386,\n",
       " 0.09880390554170049,\n",
       " 3.735770436614416,\n",
       " 0.07269498052656331,\n",
       " 14.334532444068117,\n",
       " 0.10543835414387104,\n",
       " 6.999631843339429,\n",
       " 18.795306693657665,\n",
       " 120.4735530785839,\n",
       " 1.476780939278541,\n",
       " 15.425753577787077,\n",
       " 14.773700579486729,\n",
       " 118.93541271193095,\n",
       " 10.82376714222741,\n",
       " 133.53015490596633,\n",
       " 0.02420727042382964,\n",
       " 14.58195934727999,\n",
       " 1.1605860006780233,\n",
       " 0.0420471399407063,\n",
       " 2.5033363823633294,\n",
       " 9.325569315234844,\n",
       " 0.1516115858489968,\n",
       " 0.02073201200943231,\n",
       " 19.340345771333375,\n",
       " 12.099501418733922,\n",
       " 12.315389170797147,\n",
       " 31.25194330939769,\n",
       " 0.17573290104917305,\n",
       " 2.3333108209368163,\n",
       " 7.703926886303762,\n",
       " 117.8160776893562,\n",
       " 0.5306122813146601,\n",
       " 17.748569161467884,\n",
       " 14.011874645941973,\n",
       " 1.2182974098534771,\n",
       " 19.32214332663746,\n",
       " 119.10431567908358,\n",
       " 2.4650355886228397,\n",
       " 7.438747090298875,\n",
       " 11.454003651122264,\n",
       " 116.39211542585889,\n",
       " 28.23215332697532,\n",
       " 8.67311377699528,\n",
       " 0.6085111051690149,\n",
       " 0.6575559690202795,\n",
       " 9.199165897830824,\n",
       " 0.6322056857963219,\n",
       " 2.705789731236763,\n",
       " 6.654184995808691,\n",
       " 0.31829032242404764,\n",
       " 2.669818233385314,\n",
       " 172.03671413508047,\n",
       " 1.9601337095197096,\n",
       " 29.975609630354,\n",
       " 0.20053042641865204,\n",
       " 9.62173293356716,\n",
       " 0.41272284990338903,\n",
       " 3.916073070402888,\n",
       " 0.6263265734566801,\n",
       " 15.404494253607623,\n",
       " 0.09692524044339734,\n",
       " 15.146264515330387,\n",
       " 0.10106991432922996,\n",
       " 3.9221611197023094,\n",
       " 4.95000613217033,\n",
       " 38.19216084536089,\n",
       " 1.533324578621233,\n",
       " 0.9669024030803541,\n",
       " 8.340601095978059,\n",
       " 0.009716647517308274,\n",
       " 3.443565326628118,\n",
       " 0.6322056857963219,\n",
       " 3.9955846249808076,\n",
       " 0.07436795680612818,\n",
       " 2.5985014517302147,\n",
       " 2.3745404967440322,\n",
       " 19.875123753369195,\n",
       " 0.7177415664260138,\n",
       " 8.69255028573835,\n",
       " 9.441573447535319,\n",
       " 4.683697635845533,\n",
       " 3.80430800319661,\n",
       " 15.00620448975188,\n",
       " 115.02219047638945,\n",
       " 7.566804741175673,\n",
       " 10.266175870243217,\n",
       " 5.8125209949068335,\n",
       " 3.706461415493891,\n",
       " 28.521345218002978,\n",
       " 4.6343864932936185,\n",
       " 0.18525700151985802,\n",
       " 117.81850982391583,\n",
       " 18.494828258531783,\n",
       " 7.915080386709803,\n",
       " 1.9418240187816025,\n",
       " 26.338489208556382,\n",
       " 5.201178520767655,\n",
       " 9.19332906871243,\n",
       " 7.525861360881777,\n",
       " 10.438977157573476,\n",
       " 0.013749954927618546,\n",
       " 116.34042577176845,\n",
       " 19.075374590917406,\n",
       " 3.623127200617432,\n",
       " 11.853255691110064,\n",
       " 6.888037194501607,\n",
       " 117.98735990260931,\n",
       " 6.771803052495869,\n",
       " 7.809932987956529,\n",
       " 0.028606309333980562,\n",
       " 0.02641195476749658,\n",
       " 4.1780472381328195,\n",
       " 0.015015788778384831,\n",
       " 5.164841578354668,\n",
       " 12.640270487894014,\n",
       " 2.8781928859994252,\n",
       " 9.01320126066399,\n",
       " 13.032785860395677,\n",
       " 6.138028893332432,\n",
       " 0.0782463519913108,\n",
       " 0.1491245427848753,\n",
       " 32.327682815820026,\n",
       " 20.65082776551118,\n",
       " 3.756814166866576,\n",
       " 117.9481647797156,\n",
       " 0.0677306388214447,\n",
       " 6.4091233820205815,\n",
       " 0.1178381038961902,\n",
       " 114.17715189796809,\n",
       " 154.66777392612633,\n",
       " 0.0662373432771517,\n",
       " 4.197213428084609,\n",
       " 4.600984493083274,\n",
       " 0.15184425834124227,\n",
       " 2.8509612060249765,\n",
       " 4.276929925441834,\n",
       " 115.05537284258185,\n",
       " 1.052305328000216,\n",
       " 0.028580852172012783,\n",
       " 5.59415336175833,\n",
       " 21.966839541919455,\n",
       " 0.46454339374827214,\n",
       " 6.696983512263984,\n",
       " 67.43750646473872,\n",
       " 0.04997480778069985,\n",
       " 74.12945749320079,\n",
       " 18.486079625911614,\n",
       " 0.04248629320125019,\n",
       " 55.044395499513,\n",
       " 92.52072280306847,\n",
       " 6.298340791399511,\n",
       " 10.911747094048152,\n",
       " 32.9850966471063,\n",
       " 1.402631319529391,\n",
       " 3.059885310964816,\n",
       " 116.49688746346447,\n",
       " 0.13364449938740108,\n",
       " 2.622004311693047,\n",
       " 2.511661172748262,\n",
       " 0.5637572307586254,\n",
       " 39.88235259386505,\n",
       " 12.360519186827275,\n",
       " 0.4539122625346863,\n",
       " 2.77257316392334,\n",
       " 22.952754978788647,\n",
       " 0.3595768808709465,\n",
       " 13.377370332217282,\n",
       " 118.88469157774895,\n",
       " 5.295357073458746,\n",
       " 0.000746314923759428,\n",
       " 2.9428402125852244,\n",
       " 11.570807813187827,\n",
       " 0.04705016092262326,\n",
       " 8.935891555479742,\n",
       " 4.595380152816631,\n",
       " 0.03582319668370815,\n",
       " 3.9798973203429853,\n",
       " 0.1681859887960684,\n",
       " 83.25970679049206,\n",
       " 8.472114677108408,\n",
       " 15.081167636841627,\n",
       " 12.450206995141912,\n",
       " 18.19266326920817,\n",
       " 29.5556928940714,\n",
       " 0.6322056857963219,\n",
       " 6.900086948447978,\n",
       " 0.004779576423942444,\n",
       " 28.85350751297824,\n",
       " 0.029888670828256636,\n",
       " 8.989380886305668,\n",
       " 0.6322056857963219,\n",
       " 17.745817492467467,\n",
       " 12.749045153471684,\n",
       " 0.6322056857963219,\n",
       " 0.20468818468893346,\n",
       " 0.17661432945845945,\n",
       " 18.233078866753317,\n",
       " 16.70476693876182,\n",
       " 2.605689874805023,\n",
       " 12.219296716990058,\n",
       " 0.03484896096520629,\n",
       " 119.45042289779198,\n",
       " 19.564543622542885,\n",
       " 7.678422895995368,\n",
       " 4.939297275122243,\n",
       " 0.014794295400577084,\n",
       " 22.881970019972897,\n",
       " 0.5180562305560557,\n",
       " 5.701270121053568,\n",
       " 0.03479506248339703,\n",
       " 0.6322056857963219,\n",
       " 2.689619084847095,\n",
       " 24.862820579684637,\n",
       " 0.03154382250343701,\n",
       " 0.03516179252835627,\n",
       " 114.70580657173173,\n",
       " 15.070299793045209,\n",
       " 13.70349526266645,\n",
       " 11.295357372237945,\n",
       " 20.319146608601955,\n",
       " 1.2186382465903307,\n",
       " 0.38528067202507543,\n",
       " 3.5002023012463894,\n",
       " 0.1543795070322176,\n",
       " 0.02399920575635406,\n",
       " 0.5532984920486399,\n",
       " 1.5646272008274877,\n",
       " 36.915502122661906,\n",
       " 0.6322056857963219,\n",
       " 0.6322056857963219,\n",
       " 0.19591457696301973,\n",
       " 13.446432376019516,\n",
       " 0.09687372928783589,\n",
       " 5.266875169074581,\n",
       " 35.24816002492176,\n",
       " 8.669611385699454,\n",
       " 1.6276063372638703,\n",
       " 5.43748452359722,\n",
       " 9.501637934042378,\n",
       " 0.9396134272751766,\n",
       " 5.405711781753951,\n",
       " 12.843562706494765,\n",
       " 2.305841693817598,\n",
       " 5.498886555563757,\n",
       " 9.211853618815894,\n",
       " 10.77094128151225,\n",
       " 0.6552068858691484,\n",
       " 0.15913074543408356,\n",
       " 115.26873737440576,\n",
       " 118.01296930255506,\n",
       " 0.04155984991851369,\n",
       " 4.0500101549901615,\n",
       " 0.08485436784141598,\n",
       " 0.07975751805014397,\n",
       " 19.1023278719193,\n",
       " 18.342040845623856,\n",
       " 0.004139566384907312,\n",
       " 15.329660573058561,\n",
       " 7.017605104712317,\n",
       " 18.740285066639785,\n",
       " 2.9809316561748744,\n",
       " 0.6450998186845425,\n",
       " 0.043084800491101305,\n",
       " 0.12964848247273153,\n",
       " 1.679428947064153,\n",
       " 2.3665512175219305,\n",
       " 16.861222753962394,\n",
       " 0.9681585039855349,\n",
       " 2.505199965986975,\n",
       " 41.64129236094524,\n",
       " 7.28371338700029,\n",
       " 22.889240713984194,\n",
       " 26.48804032522868,\n",
       " 0.06165413591739366,\n",
       " 3.9386975779345192,\n",
       " 19.5917775062031,\n",
       " 0.6532923879215673,\n",
       " 16.092165792750706,\n",
       " 113.35415531946566,\n",
       " 5.795363097279434,\n",
       " 10.989957372162053,\n",
       " 4.139427644513489,\n",
       " 0.06203739360586269,\n",
       " 0.20227266959298618,\n",
       " 7.250437731442389,\n",
       " 3.9054101693857177,\n",
       " 115.58591240226517,\n",
       " 2.84100789183492,\n",
       " 0.04107109077244786,\n",
       " 119.19486292485962,\n",
       " 113.45679051640857,\n",
       " 0.9803447028109531,\n",
       " 7.579938708534911,\n",
       " 119.33576549297513,\n",
       " 0.11017258284599052,\n",
       " 8.755337701510228,\n",
       " 0.022203362515966774,\n",
       " 2.5206691057307467,\n",
       " 2.9144714307387716,\n",
       " 31.125835002250227,\n",
       " 115.55770595860582,\n",
       " 9.070228241758485,\n",
       " 4.580814891531219,\n",
       " 116.68859637494617,\n",
       " 0.9542635304638338,\n",
       " 11.851021888272271,\n",
       " 117.65792283240495,\n",
       " 22.66719804453058,\n",
       " 4.5739173549817735,\n",
       " 0.03479848278738018,\n",
       " 44.83612073906437,\n",
       " 0.09138538094140358,\n",
       " 0.3400945079172004,\n",
       " 0.42847879017185164,\n",
       " 0.03680291866163543,\n",
       " 1.363289284249106,\n",
       " 0.21939925651801673,\n",
       " 0.18891429356324352,\n",
       " 10.594314234950318,\n",
       " 14.827109108500053,\n",
       " 9.106663982751485,\n",
       " 22.756477826646574,\n",
       " 18.11850042734423,\n",
       " 11.997323853875145,\n",
       " 5.402670695351958,\n",
       " 5.117634221178406,\n",
       " 10.427594385862108,\n",
       " 0.6322056857963219,\n",
       " 15.923260621912249,\n",
       " 2.8080440578175114,\n",
       " 2.4250621973612567,\n",
       " 7.109013991635564,\n",
       " 0.1183467421245723,\n",
       " 117.63868428810275,\n",
       " 15.500085368895583,\n",
       " 1.0571752899744808,\n",
       " 0.5198582946177908,\n",
       " 0.6565472318459911,\n",
       " 0.11115542671214484,\n",
       " 11.291315812483433,\n",
       " 3.041477188927729,\n",
       " 113.52189253683088,\n",
       " 0.13988184839968199,\n",
       " 6.868797548356497,\n",
       " 115.74928191437769,\n",
       " 0.05095654980394215,\n",
       " 0.14609750487986162,\n",
       " 8.115243371476623,\n",
       " 119.05133025774359,\n",
       " 0.09242577314398659,\n",
       " 10.356001041639274,\n",
       " 28.008688568574797,\n",
       " 22.321752689078778,\n",
       " 0.2592651033215958,\n",
       " 9.825344686608645,\n",
       " 0.06431857568830424,\n",
       " 14.581089625951492,\n",
       " 0.21104343089140798,\n",
       " 0.35641996323420244,\n",
       " 3.2600651906560643,\n",
       " 2.3698069796487857,\n",
       " 5.241347672784343,\n",
       " 21.407626357187553,\n",
       " 118.72870000568992,\n",
       " 0.22525050141433667,\n",
       " 5.305288350790789,\n",
       " 3.7526888670516882,\n",
       " 0.07264548941631688,\n",
       " 0.04934269428241578,\n",
       " 0.04033000960242816,\n",
       " 0.6489784893304318,\n",
       " 3.434445786141964,\n",
       " 5.189871041654413,\n",
       " 14.87438624905991,\n",
       " 11.56607723434034,\n",
       " 9.21824981684614,\n",
       " 0.031565469125382606,\n",
       " 5.08835311341133,\n",
       " 4.302681830402548,\n",
       " 112.09698562668794,\n",
       " 13.024091585358534,\n",
       " 0.6985860276222411,\n",
       " 9.669763321478996,\n",
       " 17.398681152491164,\n",
       " 16.392119750656477,\n",
       " 30.59534594369981,\n",
       " 17.976728505181228,\n",
       " 3.270685900272241,\n",
       " 12.601104380196645,\n",
       " 12.182868321616354,\n",
       " 9.310449092409158,\n",
       " 0.7363586713330221,\n",
       " 2.546101843531659,\n",
       " 12.722680256578002,\n",
       " 0.05552329838539549,\n",
       " 3.5826260266071017,\n",
       " 0.12432160002114756,\n",
       " 3.6565214879274777,\n",
       " 142.2832213419802,\n",
       " 15.512725710635962,\n",
       " 1.511157703173751,\n",
       " 26.95436448074267,\n",
       " 0.06465925173972664,\n",
       " 35.18504940189942,\n",
       " 14.828825045175165,\n",
       " 4.256742327122396,\n",
       " 0.5470001284858199,\n",
       " 2.927832010454324,\n",
       " 32.48718265567034,\n",
       " 12.459507283773661,\n",
       " 7.1032755938161785,\n",
       " 0.0998660361864836,\n",
       " 15.818462140077088,\n",
       " 5.245113037252111,\n",
       " 20.280044407792758,\n",
       " 10.448502956718585,\n",
       " 6.40754848123656,\n",
       " 154.9659120469341,\n",
       " 35.61471010222121,\n",
       " 39.658235544468226,\n",
       " 28.566456135422897,\n",
       " 5.821694204324217,\n",
       " 10.022900711075778,\n",
       " 0.033199134864048574,\n",
       " 116.96458745347869,\n",
       " 70.5201139799722,\n",
       " 45.43507152067744,\n",
       " 6.386049322586047,\n",
       " 2.4434291839301494,\n",
       " 0.0007236697566952444,\n",
       " 0.1594102232944863,\n",
       " 5.386107792890158,\n",
       " 17.06714690796852,\n",
       " 5.5040020448640945,\n",
       " 0.6541240956700278,\n",
       " 7.809672953032305,\n",
       " 0.9771671715299419,\n",
       " 26.75722568745337,\n",
       " 0.13884859522087822,\n",
       " 117.87000224812732,\n",
       " 8.708329410617807,\n",
       " 113.10938679588875,\n",
       " 32.351729435253674,\n",
       " 0.9581537704601857,\n",
       " 15.342906744753066,\n",
       " 0.048183762147942844,\n",
       " 12.372025364943397,\n",
       " 4.973445590256347,\n",
       " 23.571181568208175,\n",
       " 0.04370936177448925,\n",
       " 113.74101823789408,\n",
       " 4.397958920464163,\n",
       " 5.947756417710423,\n",
       " 119.58529618156265,\n",
       " 12.047761814432022,\n",
       " 0.8459351112603883,\n",
       " 1.8101971314731315,\n",
       " 18.290157267183133,\n",
       " 0.1566074333745462,\n",
       " 1.1446843875962998,\n",
       " 0.39872214537348327,\n",
       " 0.13395765232141343,\n",
       " 15.170848834098877,\n",
       " 0.5349697027002946,\n",
       " 74.38039560245166,\n",
       " 112.8129851794902,\n",
       " 4.6126552130723155,\n",
       " 14.67094124157714,\n",
       " 18.709439341955743,\n",
       " 0.08619292332355144,\n",
       " 0.03155869738256456,\n",
       " 26.955549329140325,\n",
       " 0.12881971297198902,\n",
       " 9.633005888269565,\n",
       " 15.942749651833566,\n",
       " 0.1318158992758356,\n",
       " 1.527354059231044,\n",
       " 25.42467524912709,\n",
       " 118.17149254231563,\n",
       " 5.773920499897741,\n",
       " 14.302814059807872,\n",
       " 0.04121258576475384,\n",
       " 18.511633566431442,\n",
       " 22.912308896923292,\n",
       " 0.0792446216580629,\n",
       " 118.02111302342357,\n",
       " 44.40861597801549,\n",
       " 10.564700370627662,\n",
       " 20.79920927594594,\n",
       " 0.6322056857963219,\n",
       " 2.6270167786822753,\n",
       " 32.54856852727437,\n",
       " 114.75286628195946,\n",
       " 21.668230934193687,\n",
       " 11.835038555175515,\n",
       " 116.8319027969869,\n",
       " 0.7910666404055462,\n",
       " 2.4862570828627497,\n",
       " 3.1291456864889255,\n",
       " 2.323742600840035,\n",
       " 0.04663934568412742,\n",
       " 114.41522048215552,\n",
       " 0.6322053644254879,\n",
       " 1.106700190048855,\n",
       " 14.782812085701735,\n",
       " 11.961706782156313,\n",
       " 5.34429212030102,\n",
       " 16.867779453775,\n",
       " 3.1261663032892955,\n",
       " 1.2814050946280702,\n",
       " 36.871735820860096,\n",
       " 6.140883401003464,\n",
       " 61.45476469857172,\n",
       " 0.12398216354299052,\n",
       " 19.172942045085648,\n",
       " 2.201323447359812,\n",
       " 11.405272812497302,\n",
       " 10.30350116573689,\n",
       " 0.004308997685711802,\n",
       " 0.060997253908936955,\n",
       " 4.843012366088743,\n",
       " 13.859755684392894,\n",
       " 33.436448226743096,\n",
       " 15.832932642873203,\n",
       " 5.3340831785583305,\n",
       " 8.61806276750012,\n",
       " 9.399683676011193,\n",
       " 47.30589719040181,\n",
       " 0.18386966653436332,\n",
       " 2.661107797985636,\n",
       " 0.4175652658051945,\n",
       " 114.46790252941724,\n",
       " 3.2844434648023935,\n",
       " 11.382154679346797,\n",
       " 0.3759517354779547,\n",
       " 40.71253833000429,\n",
       " 1.255926079425393,\n",
       " 31.610462421085373,\n",
       " 6.199378036839818,\n",
       " 32.08509998127431,\n",
       " 0.06525554386624322,\n",
       " 3.3357617978358007,\n",
       " 13.81021535851795,\n",
       " 11.506022756239616,\n",
       " 1.2864691645931146,\n",
       " 13.459983574556645,\n",
       " 0.6322056857963219,\n",
       " 15.210703226327325,\n",
       " 7.945215790004781,\n",
       " 3.6860288407698647,\n",
       " 2.8823622595302396,\n",
       " 22.986684761747725,\n",
       " 18.559503498471088,\n",
       " 19.84357946028699,\n",
       " 8.729694144434603,\n",
       " 4.434683344296758,\n",
       " 4.531734034145245,\n",
       " 33.119246754654114,\n",
       " 2.941196997541482,\n",
       " 3.456222609203081,\n",
       " 0.1223121369886826,\n",
       " 0.35837371433507315,\n",
       " 12.703014564511875,\n",
       " 9.174971631448699,\n",
       " 1.0008014262585334,\n",
       " 0.9413675611708072,\n",
       " 2.2851971979759185,\n",
       " 0.0792446216580629,\n",
       " 4.32244264823899,\n",
       " 18.090648593457985,\n",
       " 0.8883792015830778,\n",
       " 0.039541067131494856,\n",
       " 15.378459542302778,\n",
       " 14.034704830814775,\n",
       " 46.79785358991191,\n",
       " 1.1032561964267131,\n",
       " 4.846862939740731,\n",
       " 7.1599103188385556,\n",
       " 1.2645454291454143,\n",
       " 3.9754095142142774,\n",
       " 6.313312999995702,\n",
       " 0.04329993531717946,\n",
       " 14.847436273586709,\n",
       " 0.022122468883111424,\n",
       " 1.2101441396798691,\n",
       " 0.04448946654719066,\n",
       " 2.396918191466227,\n",
       " 121.62125835212902,\n",
       " 0.006569129977776811,\n",
       " 8.548808268471461,\n",
       " 0.6322056857963219,\n",
       " 4.482399752892462,\n",
       " 11.838875906712701,\n",
       " 32.25801108561353,\n",
       " 12.340335628598496,\n",
       " 11.363520312234414,\n",
       " 3.815185396298176,\n",
       " 2.5657249310056898,\n",
       " 0.000845124981282197,\n",
       " 0.814231050957801,\n",
       " 0.6322056857963219,\n",
       " 10.51301292022302,\n",
       " 1.414253558430886,\n",
       " 21.32502082774846,\n",
       " 3.1558044081557597,\n",
       " 14.270722518085705,\n",
       " 37.161452923669685,\n",
       " 3.923271777344752,\n",
       " 10.735945855784138,\n",
       " 0.5707604983162469,\n",
       " 117.42312561978545,\n",
       " 37.66347605455806,\n",
       " 0.2867743099762947,\n",
       " 10.52498554516643,\n",
       " 30.923754627198207,\n",
       " 0.015258905823088753,\n",
       " 118.74441081630962,\n",
       " 24.81389581670942,\n",
       " 7.224974876602289,\n",
       " 3.139035828352746,\n",
       " 2.8534205193761295,\n",
       " 0.4123353684838378,\n",
       " 0.04707666253983689,\n",
       " 11.30329211023654,\n",
       " 5.199471031554765,\n",
       " 0.009425014952455513,\n",
       " 0.5048556017013652,\n",
       " 11.24521690926386,\n",
       " 0.06509172507767857,\n",
       " 0.034357263571422436,\n",
       " 0.6752416953065392,\n",
       " 119.44259834408331,\n",
       " 1.2618540860437122,\n",
       " 4.196411286453952,\n",
       " 33.096736838784,\n",
       " 0.22217266396066293,\n",
       " 7.1374268471980145,\n",
       " 0.023652790939848956,\n",
       " 16.671893823143137,\n",
       " 3.243659117166942,\n",
       " 15.150535992969878,\n",
       " 11.288189516897233,\n",
       " 4.144488041668865,\n",
       " 23.414756971889716,\n",
       " 0.20648242107506576,\n",
       " 40.78693329343902,\n",
       " 3.8949265014801426,\n",
       " 3.317231738517819,\n",
       " 0.04218101385296791,\n",
       " 0.09893271786313562,\n",
       " 1.400829990029564,\n",
       " 1.1959446902369848,\n",
       " 0.4446015523054996,\n",
       " 2.6187603025570922,\n",
       " 1.0292343904538654,\n",
       " 3.1003005412289895,\n",
       " 1.424674054010211,\n",
       " 10.958644466088714,\n",
       " 6.407364106191437,\n",
       " 47.373832783480054,\n",
       " 21.566785360300997,\n",
       " 120.28147413152854,\n",
       " 1.3539166412669772,\n",
       " 2.189355597068925,\n",
       " 8.70377618256694,\n",
       " 87.96069748336063,\n",
       " 4.661289089522143,\n",
       " 3.3987592983204564,\n",
       " 0.06820406398716727,\n",
       " 0.6322056857963219,\n",
       " 0.002421322726206654,\n",
       " 11.521862482478497,\n",
       " 0.2890640772513393,\n",
       " 0.03317353997169903,\n",
       " 20.459289272397882,\n",
       " 0.6369650961997309,\n",
       " 4.799756952111224,\n",
       " 7.345360762652405,\n",
       " 5.5030103862547435,\n",
       " 2.6424925294834907,\n",
       " 116.3480196730302,\n",
       " 78.64897906793152,\n",
       " 23.002505389376395,\n",
       " 117.32882806806126,\n",
       " 120.55926745776327,\n",
       " 16.842923347091357,\n",
       " 0.5204802849344219,\n",
       " 8.465849782023653,\n",
       " 0.2781459618726103,\n",
       " 0.12897718468633457,\n",
       " 38.960721242705986,\n",
       " 0.1975033426035111,\n",
       " 0.07197428345020285,\n",
       " 13.889114655724853,\n",
       " 2.963049113200725,\n",
       " 2.163983093346502,\n",
       " 3.0762829369917313,\n",
       " 5.279913643382571,\n",
       " 15.699480736442553,\n",
       " 0.0369234786388688,\n",
       " 8.798864903402915,\n",
       " 0.6322056857963219,\n",
       " 0.48184030722146076,\n",
       " 28.198128418245915,\n",
       " 0.2583369154542652,\n",
       " 0.03660421965881255,\n",
       " 18.822855704387067,\n",
       " 0.21971447540744293,\n",
       " 6.520303737928316,\n",
       " 10.18140742319288,\n",
       " 33.59077968883388,\n",
       " 2.6422313927163543,\n",
       " 1.1113422541834694,\n",
       " 12.667150312702631,\n",
       " 18.290169020174062,\n",
       " 11.893611054576695,\n",
       " 3.3390588790713593,\n",
       " 25.791500787151335,\n",
       " 8.900002328564796,\n",
       " 0.6322056857963219,\n",
       " 0.06778848557365791,\n",
       " 11.525749784227145,\n",
       " 0.18313363547764538,\n",
       " 118.01254839856756,\n",
       " 1.9011153310252666,\n",
       " 36.51104571137989,\n",
       " 3.4226501906243243,\n",
       " 0.0713595469326549,\n",
       " 7.5738726960935026,\n",
       " 21.028192798147927,\n",
       " 0.008758583638865503,\n",
       " 1.1496305603710937,\n",
       " 20.676966417329538,\n",
       " 0.6322056857963219,\n",
       " 10.784019628760177,\n",
       " 12.483185153116992,\n",
       " 23.277115858756076,\n",
       " 0.0668542146153186,\n",
       " 16.630629072003615,\n",
       " 117.79092335052783,\n",
       " 18.020688364052376,\n",
       " 0.11910145860045418,\n",
       " 8.687140971664888,\n",
       " 0.07197686589449859,\n",
       " 0.035680967129451346,\n",
       " 3.602870553476322,\n",
       " 0.7213809535222993,\n",
       " 9.684059044445206,\n",
       " 0.6322056857963219,\n",
       " 2.172550289169294,\n",
       " 0.6322056857963219,\n",
       " 0.08812124021750378,\n",
       " 2.53963329115102,\n",
       " 0.023529545220554837,\n",
       " 0.08987721051798303,\n",
       " 4.824897334262829,\n",
       " 0.1393582893820451,\n",
       " 53.47728401022863,\n",
       " 3.3920218962724107,\n",
       " 123.68840203400299,\n",
       " 0.6322056857963219,\n",
       " 5.177515709943961,\n",
       " 10.36452489830802,\n",
       " 14.246085310858092,\n",
       " 0.6020734043895857,\n",
       " 15.263415390628268,\n",
       " 5.566666054231263,\n",
       " ...]"
      ]
     },
     "execution_count": 103,
     "metadata": {},
     "output_type": "execute_result"
    }
   ],
   "source": [
    "patients_errors[0]"
   ]
  },
  {
   "cell_type": "code",
   "execution_count": 95,
   "metadata": {},
   "outputs": [
    {
     "data": {
      "text/plain": [
       "array([[185.64000664]])"
      ]
     },
     "execution_count": 95,
     "metadata": {},
     "output_type": "execute_result"
    }
   ],
   "source": [
    "scaler.inverse_transform([[0.7799]])"
   ]
  },
  {
   "cell_type": "code",
   "execution_count": 93,
   "metadata": {},
   "outputs": [
    {
     "name": "stdout",
     "output_type": "stream",
     "text": [
      "Test RMSE: 0.7799\n"
     ]
    },
    {
     "data": {
      "text/plain": [
       "0.7798779008834471"
      ]
     },
     "execution_count": 93,
     "metadata": {},
     "output_type": "execute_result"
    }
   ],
   "source": [
    "evaluate_test_data(model, val_loader)"
   ]
  },
  {
   "cell_type": "code",
   "execution_count": 92,
   "metadata": {},
   "outputs": [
    {
     "data": {
      "text/plain": [
       "29.50377892281933"
      ]
     },
     "execution_count": 92,
     "metadata": {},
     "output_type": "execute_result"
    }
   ],
   "source": [
    "np.sqrt(np.mean(patients_errors[6]))"
   ]
  },
  {
   "cell_type": "code",
   "execution_count": 62,
   "metadata": {},
   "outputs": [
    {
     "data": {
      "text/plain": [
       "{0: [1, 1],\n",
       " 1: [],\n",
       " 2: [],\n",
       " 3: [],\n",
       " 4: [],\n",
       " 5: [],\n",
       " 6: [],\n",
       " 7: [],\n",
       " 8: [],\n",
       " 9: [],\n",
       " 10: [],\n",
       " 11: [],\n",
       " 12: []}"
      ]
     },
     "execution_count": 62,
     "metadata": {},
     "output_type": "execute_result"
    }
   ],
   "source": [
    "testl"
   ]
  },
  {
   "cell_type": "code",
   "execution_count": 61,
   "metadata": {},
   "outputs": [],
   "source": [
    "testl[0].append(1)"
   ]
  },
  {
   "cell_type": "code",
   "execution_count": 56,
   "metadata": {},
   "outputs": [
    {
     "data": {
      "text/plain": [
       "380345.28549524845"
      ]
     },
     "execution_count": 56,
     "metadata": {},
     "output_type": "execute_result"
    }
   ],
   "source": [
    "patients_errors[0]"
   ]
  },
  {
   "cell_type": "code",
   "execution_count": 37,
   "metadata": {},
   "outputs": [
    {
     "data": {
      "text/plain": [
       "array([-2.5       , -0.96190846,  1.0881407 ,  1.0000683 ,  0.7987373 ,\n",
       "        0.60638595,  0.06162192, -1.0988741 , -2.5       ,  0.6865972 ,\n",
       "       -0.48246545,  1.6104983 ], dtype=float32)"
      ]
     },
     "execution_count": 37,
     "metadata": {},
     "output_type": "execute_result"
    }
   ],
   "source": [
    "targets_np[5]"
   ]
  },
  {
   "cell_type": "code",
   "execution_count": 39,
   "metadata": {},
   "outputs": [
    {
     "data": {
      "text/plain": [
       "tensor([-0.1510, -0.7421,  0.9938,  1.0044,  0.9878,  0.0892, -0.2500, -1.0512,\n",
       "        -0.1087,  1.0814, -0.4326,  0.9746])"
      ]
     },
     "execution_count": 39,
     "metadata": {},
     "output_type": "execute_result"
    }
   ],
   "source": [
    "outputs[5]"
   ]
  },
  {
   "cell_type": "code",
   "execution_count": 38,
   "metadata": {},
   "outputs": [
    {
     "data": {
      "text/plain": [
       "array([False,  True,  True,  True,  True,  True,  True,  True, False,\n",
       "        True,  True,  True])"
      ]
     },
     "execution_count": 38,
     "metadata": {},
     "output_type": "execute_result"
    }
   ],
   "source": [
    "mask[5]"
   ]
  },
  {
   "cell_type": "code",
   "execution_count": 49,
   "metadata": {},
   "outputs": [
    {
     "data": {
      "text/plain": [
       "array([-0.06864169,  0.61883926, -0.5006899 ,  0.2476925 , -0.9329338 ,\n",
       "        0.35041788,  1.9232867 , -0.15895061, -0.3508228 , -0.5348937 ,\n",
       "        1.0525428 , -0.7421455 ], dtype=float32)"
      ]
     },
     "execution_count": 49,
     "metadata": {},
     "output_type": "execute_result"
    }
   ],
   "source": [
    "filtered_outputs[24+12+12:24+12+12+12]"
   ]
  },
  {
   "cell_type": "code",
   "execution_count": 17,
   "metadata": {},
   "outputs": [
    {
     "data": {
      "text/plain": [
       "{1: 20.494993,\n",
       " 2: 18.45316,\n",
       " 3: 17.81124,\n",
       " 4: 18.108528,\n",
       " 5: 17.498377,\n",
       " 6: 18.21622,\n",
       " 7: 19.870228,\n",
       " 8: 17.95896,\n",
       " 9: 17.380215,\n",
       " 10: 18.926613,\n",
       " 11: 18.206415,\n",
       " 12: 19.55872,\n",
       " 13: 18.402664,\n",
       " 14: 16.299639,\n",
       " 15: 19.402122,\n",
       " 16: 19.468775,\n",
       " 17: 20.531445,\n",
       " 18: 18.809357,\n",
       " 19: 18.341589,\n",
       " 20: 17.844727,\n",
       " 21: 17.987429,\n",
       " 22: 16.931614,\n",
       " 23: 17.209871,\n",
       " 24: 17.164038,\n",
       " 25: 17.571415,\n",
       " 26: 18.82551,\n",
       " 27: 18.615911,\n",
       " 28: 18.067585,\n",
       " 29: 16.422142,\n",
       " 30: 17.282433,\n",
       " 31: 18.683245,\n",
       " 32: 17.937895,\n",
       " 33: 18.89545,\n",
       " 34: 20.727936,\n",
       " 35: 20.45756,\n",
       " 36: 17.893526,\n",
       " 37: 18.980131,\n",
       " 38: 17.536407,\n",
       " 39: 17.874666,\n",
       " 40: 16.521955,\n",
       " 41: 18.10421,\n",
       " 42: 19.614038,\n",
       " 43: 18.518066,\n",
       " 44: 17.148367,\n",
       " 45: 19.069252,\n",
       " 46: 16.227718,\n",
       " 47: 19.008015,\n",
       " 48: 18.560635,\n",
       " 49: 16.997387,\n",
       " 50: 18.774597,\n",
       " 51: 16.690445,\n",
       " 52: 16.12576,\n",
       " 53: 18.443075,\n",
       " 54: 17.615608,\n",
       " 55: 16.235155,\n",
       " 56: 17.89485,\n",
       " 57: 18.024221,\n",
       " 58: 18.72065,\n",
       " 59: 17.778004,\n",
       " 60: 18.110744,\n",
       " 61: 17.809582,\n",
       " 62: 17.813517}"
      ]
     },
     "execution_count": 17,
     "metadata": {},
     "output_type": "execute_result"
    }
   ],
   "source": [
    "rmse_patients_errors"
   ]
  },
  {
   "cell_type": "code",
   "execution_count": 8,
   "metadata": {},
   "outputs": [
    {
     "name": "stdout",
     "output_type": "stream",
     "text": [
      "output [ 99.41255   81.544975  93.93005  164.24384   89.67206  149.97585\n",
      " 199.37968  121.95239  173.46501  108.97569 ]\n"
     ]
    }
   ],
   "source": [
    "print('output',denormalized_output)"
   ]
  },
  {
   "cell_type": "code",
   "execution_count": 12,
   "metadata": {},
   "outputs": [
    {
     "data": {
      "text/plain": [
       "11.815763"
      ]
     },
     "execution_count": 12,
     "metadata": {},
     "output_type": "execute_result"
    }
   ],
   "source": [
    "np.sqrt(np.mean(np.array(denormalized_output - denormalized_target)**2))"
   ]
  },
  {
   "cell_type": "code",
   "execution_count": 9,
   "metadata": {},
   "outputs": [
    {
     "name": "stdout",
     "output_type": "stream",
     "text": [
      "target [ 95.9934    61.305622 100.58703  159.82841   73.132225 174.20967\n",
      " 195.09296  125.79049  172.85721  113.05843 ]\n"
     ]
    }
   ],
   "source": [
    "print('target',denormalized_target)"
   ]
  },
  {
   "cell_type": "code",
   "execution_count": null,
   "metadata": {},
   "outputs": [],
   "source": [
    "inputs = [torch.randn(input_shape) for _ in range(12)]  # 12 input branches, each of shape (1, 6, 1)\n",
    "\n",
    "# Forward pass through the model\n",
    "outputs = model(inputs)\n",
    "\n",
    "make_dot(outputs, params=dict(model.named_parameters())).render(\"personalized_lstm_model\", format=\"png\")"
   ]
  },
  {
   "cell_type": "code",
   "execution_count": 4,
   "metadata": {},
   "outputs": [],
   "source": [
    "# # Step 1: Load the cleaned and processed data (as an example)\n",
    "# processed_folder = 'data/ohio-data/processed/cleaned_test'\n",
    "\n",
    "# # Step 2: Prepare the data for time series forecasting\n",
    "\n",
    "# X_test, y_test = aggregate_patients(processed_folder, target_col, window_size, prediction_horizon, test = False)\n",
    "# print(\"Shape of X_test (features):\", X_test.shape)\n",
    "# print(\"Shape of y_test (targets):\", y_test.shape)\n",
    "\n",
    "# # Assuming input_data is a list of NumPy arrays (one for each output branch)\n",
    "# # and target_data is the corresponding target array\n",
    "# # Convert your data to PyTorch Datasets\n",
    "# test_dataset = TimeSeriesDataset(X_test, y_test)\n",
    "# # Create a DataLoader for batching\n",
    "\n",
    "# val_loader = DataLoader(test_dataset, batch_size=16, shuffle=True)"
   ]
  },
  {
   "cell_type": "code",
   "execution_count": null,
   "metadata": {},
   "outputs": [],
   "source": [
    "evaluate_test_data(model, val_loader)"
   ]
  },
  {
   "cell_type": "code",
   "execution_count": null,
   "metadata": {},
   "outputs": [],
   "source": [
    "test_loader = val_loader\n",
    "\n",
    "model.eval()  # Set the model to evaluation mode\n",
    "criterion = nn.MSELoss()  # We use MSELoss and take the square root for RMSE\n",
    "running_test_loss = 0.0\n",
    "criterion2 = nn.L1Loss()  # We use MSELoss and take the square root for RMSE\n",
    "running_test_loss2 = 0.0\n",
    "\n",
    "device = torch.device('cuda' if torch.cuda.is_available() else 'cpu')\n",
    "model = model.to(device)\n",
    "\n",
    "with torch.no_grad():  # Disable gradient calculation for evaluation\n",
    "    for inputs, targets in test_loader:\n",
    "        # Move data to device (GPU or CPU)\n",
    "        inputs = [inp.to(device) for inp in inputs]\n",
    "        targets = targets.to(device)\n",
    "        \n",
    "        # Forward pass\n",
    "        outputs = model(inputs)\n",
    "        \n",
    "        # Compute MSE loss\n",
    "        loss = criterion(outputs, targets)\n",
    "        running_test_loss += loss.item()\n",
    "\n",
    "        loss2 = criterion2(outputs, targets)\n",
    "        running_test_loss2 += loss2.item()\n",
    "\n",
    "# Calculate the average MSE over all batches and take the square root for RMSE\n",
    "avg_mse = running_test_loss / len(test_loader)\n",
    "rmse = np.sqrt(avg_mse)\n",
    "print('RMSE:', rmse)\n",
    "print('MAE:', running_test_loss2 / len(test_loader))"
   ]
  },
  {
   "cell_type": "code",
   "execution_count": null,
   "metadata": {},
   "outputs": [],
   "source": [
    "test_loader = val_loader\n",
    "model.eval()  # Set the model to evaluation mode\n",
    "criterion = nn.MSELoss(reduction='none')  # MSE without reduction (so we can manually exclude masked values)\n",
    "running_test_loss = 0.0\n",
    "valid_preds = []\n",
    "valid_targets = []\n",
    "mask_value = -1\n",
    "device = torch.device('cuda' if torch.cuda.is_available() else 'cpu')\n",
    "model = model.to(device)\n",
    "\n",
    "with torch.no_grad():  # Disable gradient calculation for evaluation\n",
    "    for inputs, targets in test_loader:\n",
    "        # Move data to device (GPU or CPU)\n",
    "        inputs = [inp.to(device) for inp in inputs]\n",
    "        targets = targets.to(device)\n",
    "        \n",
    "        # Forward pass\n",
    "        outputs = model(inputs)\n",
    "        # print(targets)\n",
    "        for i in range(len(targets)):\n",
    "            for j in range(len(targets[i])):\n",
    "                if targets[i][j] != -1:\n",
    "                    # loss = abs(targets[i][j] - outputs[i][j])\n",
    "        \n",
    "                    valid_preds.append(targets[i][j])\n",
    "                    valid_targets.append(outputs[i][j])\n",
    "\n",
    "# # Concatenate all valid predictions and targets\n",
    "# valid_preds = np.concatenate(valid_preds, axis=0)\n",
    "# valid_targets = np.concatenate(valid_targets, axis=0)\n",
    "\n",
    "# Calculate RMSE on valid data\n",
    "rmse = np.sqrt(np.mean(np.array(torch.tensor(valid_preds) - torch.tensor(valid_targets)) ** 2))\n",
    "\n",
    "print(f\"Test RMSE (excluding masked values): {rmse:.4f}\")"
   ]
  },
  {
   "cell_type": "code",
   "execution_count": null,
   "metadata": {},
   "outputs": [],
   "source": []
  },
  {
   "cell_type": "code",
   "execution_count": null,
   "metadata": {},
   "outputs": [],
   "source": [
    "test_loader = val_loader\n",
    "\n",
    "model.eval()  # Set the model to evaluation mode\n",
    "criterion = nn.MSELoss()  # We use MSELoss and take the square root for RMSE\n",
    "running_test_loss = 0.0\n",
    "\n",
    "device = torch.device('cuda' if torch.cuda.is_available() else 'cpu')\n",
    "model = model.to(device)\n",
    "\n",
    "with torch.no_grad():  # Disable gradient calculation for evaluation\n",
    "    for inputs, targets in test_loader:\n",
    "        # Move data to device (GPU or CPU)\n",
    "        inputs = [inp.to(device) for inp in inputs]\n",
    "        targets = targets.to(device)\n",
    "        \n",
    "        # Forward pass\n",
    "        outputs = model(inputs)\n",
    "        \n",
    "        # Compute MSE loss\n",
    "        loss = criterion(outputs, targets)\n",
    "        running_test_loss += loss.item()\n",
    "\n",
    "# Calculate the average MSE over all batches and take the square root for RMSE\n",
    "avg_mse = running_test_loss / len(test_loader)\n",
    "rmse = np.sqrt(avg_mse)\n",
    "\n",
    "print(f\"Test RMSE: {rmse:.4f}\")"
   ]
  },
  {
   "cell_type": "code",
   "execution_count": null,
   "metadata": {},
   "outputs": [],
   "source": []
  },
  {
   "cell_type": "code",
   "execution_count": null,
   "metadata": {},
   "outputs": [],
   "source": [
    "test_loader = val_loader\n",
    "model.eval()  # Set the model to evaluation mode\n",
    "criterion = nn.MSELoss(reduction='none')  # MSE without reduction (so we can manually exclude masked values)\n",
    "running_test_loss = 0.0\n",
    "valid_preds = []\n",
    "valid_targets = []\n",
    "mask_value = -1\n",
    "device = torch.device('cuda' if torch.cuda.is_available() else 'cpu')\n",
    "model = model.to(device)\n",
    "\n",
    "with torch.no_grad():  # Disable gradient calculation for evaluation\n",
    "    for inputs, targets in test_loader:\n",
    "        # Move data to device (GPU or CPU)\n",
    "        inputs = [inp.to(device) for inp in inputs]\n",
    "        targets = targets.to(device)\n",
    "        \n",
    "        # Forward pass\n",
    "        outputs = model(inputs)\n",
    "        \n",
    "        # Convert to numpy arrays for masking\n",
    "        outputs_np = outputs.cpu().numpy()\n",
    "        targets_np = targets.cpu().numpy()\n",
    "\n",
    "        # Apply mask to identify valid values in both outputs and targets before denormalization\n",
    "        mask = (targets_np != mask_value)\n",
    "\n",
    "        # Use the mask to filter out invalid values before denormalizing\n",
    "        filtered_outputs = outputs_np[mask]\n",
    "        filtered_targets = targets_np[mask]\n",
    "\n",
    "        # Denormalize valid predictions and targets\n",
    "        denormalized_output = scaler.inverse_transform(filtered_outputs.reshape(-1, 1)).flatten()\n",
    "        denormalized_target = scaler.inverse_transform(filtered_targets.reshape(-1, 1)).flatten()\n",
    "        # print(\"output\",denormalized_output)\n",
    "        # print('target',denormalized_target)\n",
    "        # Collect valid predictions and targets\n",
    "        valid_preds.append(denormalized_output)\n",
    "        valid_targets.append(denormalized_target)\n",
    "\n",
    "# Concatenate all valid predictions and targets\n",
    "valid_preds = np.concatenate(valid_preds, axis=0)\n",
    "valid_targets = np.concatenate(valid_targets, axis=0)\n",
    "\n",
    "# Calculate RMSE on valid data\n",
    "rmse = np.sqrt(np.mean((valid_preds - valid_targets) ** 2))\n",
    "\n",
    "print(f\"Test RMSE (excluding masked values before denormalization): {rmse:.4f}\")"
   ]
  },
  {
   "cell_type": "code",
   "execution_count": null,
   "metadata": {},
   "outputs": [],
   "source": []
  }
 ],
 "metadata": {
  "kernelspec": {
   "display_name": "biomedical-env",
   "language": "python",
   "name": "python3"
  },
  "language_info": {
   "codemirror_mode": {
    "name": "ipython",
    "version": 3
   },
   "file_extension": ".py",
   "mimetype": "text/x-python",
   "name": "python",
   "nbconvert_exporter": "python",
   "pygments_lexer": "ipython3",
   "version": "3.11.7"
  }
 },
 "nbformat": 4,
 "nbformat_minor": 2
}
