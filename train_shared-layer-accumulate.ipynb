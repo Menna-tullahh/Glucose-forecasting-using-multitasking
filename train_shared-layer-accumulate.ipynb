{
 "cells": [
  {
   "cell_type": "code",
   "execution_count": 1,
   "metadata": {},
   "outputs": [],
   "source": [
    "from src.time_series_prep import *\n",
    "import pandas as pd\n",
    "from models.shared_layer import *\n",
    "from torchviz import make_dot\n",
    "from torchsummary import summary\n",
    "from src.data_preprocessing import *\n",
    "from src.visualizations import *\n",
    "from src.global_configs import *\n",
    "from src.time_series_prep import *\n",
    "import logging\n",
    "\n",
    "# Initialize logger\n",
    "logging.basicConfig(\n",
    "    filename='training.log',  # File where logs will be saved\n",
    "    level=logging.INFO,  # Set logging level to INFO\n",
    "    format='%(asctime)s - %(levelname)s - %(message)s',  # Log format\n",
    "    # filemode='w'  # Overwrite log file on each run\n",
    ")\n",
    "logger = logging.getLogger()\n"
   ]
  },
  {
   "cell_type": "code",
   "execution_count": 14,
   "metadata": {},
   "outputs": [],
   "source": [
    "# scaler = process_all_csv_files(input_folder, output_folder_train, timestamp_col='ts', freq='5min', agg_func='mean')\n",
    "model_type = 'shared-layer'\n",
    "patients_list = ['559', '563', '570', '575', '588', '591', '540', '544', '552', '567', '584', '596']\n",
    "prediction_horizons = [3, 6, 9, 12, 15, 18]\n",
    "prediction_horizon = 6"
   ]
  },
  {
   "cell_type": "code",
   "execution_count": 8,
   "metadata": {},
   "outputs": [],
   "source": [
    "scaler = process_all_csv_files(input_folder, output_folder_train, timestamp_col='ts', freq='5min', agg_func='mean')"
   ]
  },
  {
   "cell_type": "code",
   "execution_count": null,
   "metadata": {},
   "outputs": [
    {
     "name": "stdout",
     "output_type": "stream",
     "text": [
      "Shape of X (features): (2, 13081, 12)\n",
      "Shape of y (targets): (2, 13081)\n",
      "Shape of X_test (features): (2, 2859, 12)\n",
      "Shape of y_test (targets): (2, 2859)\n"
     ]
    },
    {
     "name": "stderr",
     "output_type": "stream",
     "text": [
      "Epoch 1/150: 100%|██████████| 205/205 [00:07<00:00, 27.86batch/s, mae_loss=0.404]\n"
     ]
    },
    {
     "name": "stdout",
     "output_type": "stream",
     "text": [
      "Epoch [1/150], Training MAE: 0.6862, Training RMSE: 0.8804\n",
      "Epoch [1/150], Validation MAE: 0.5653, Validation RMSE: 0.7793\n"
     ]
    },
    {
     "name": "stderr",
     "output_type": "stream",
     "text": [
      "Epoch 2/150: 100%|██████████| 205/205 [00:06<00:00, 33.23batch/s, mae_loss=0.25] \n"
     ]
    },
    {
     "name": "stdout",
     "output_type": "stream",
     "text": [
      "Epoch [2/150], Training MAE: 0.5510, Training RMSE: 0.7232\n",
      "Epoch [2/150], Validation MAE: 0.4469, Validation RMSE: 0.6266\n"
     ]
    },
    {
     "name": "stderr",
     "output_type": "stream",
     "text": [
      "Epoch 3/150: 100%|██████████| 205/205 [00:05<00:00, 34.65batch/s, mae_loss=0.182]\n"
     ]
    },
    {
     "name": "stdout",
     "output_type": "stream",
     "text": [
      "Epoch [3/150], Training MAE: 0.4629, Training RMSE: 0.6230\n",
      "Epoch [3/150], Validation MAE: 0.4058, Validation RMSE: 0.5663\n"
     ]
    },
    {
     "name": "stderr",
     "output_type": "stream",
     "text": [
      "Epoch 4/150: 100%|██████████| 205/205 [00:06<00:00, 31.22batch/s, mae_loss=0.194]\n"
     ]
    },
    {
     "name": "stdout",
     "output_type": "stream",
     "text": [
      "Epoch [4/150], Training MAE: 0.4377, Training RMSE: 0.5986\n",
      "Epoch [4/150], Validation MAE: 0.3912, Validation RMSE: 0.5452\n"
     ]
    },
    {
     "name": "stderr",
     "output_type": "stream",
     "text": [
      "Epoch 5/150: 100%|██████████| 205/205 [00:06<00:00, 33.30batch/s, mae_loss=0.179]\n"
     ]
    },
    {
     "name": "stdout",
     "output_type": "stream",
     "text": [
      "Epoch [5/150], Training MAE: 0.4223, Training RMSE: 0.5820\n",
      "Epoch [5/150], Validation MAE: 0.3793, Validation RMSE: 0.5295\n"
     ]
    },
    {
     "name": "stderr",
     "output_type": "stream",
     "text": [
      "Epoch 6/150: 100%|██████████| 205/205 [00:06<00:00, 32.64batch/s, mae_loss=0.197]\n"
     ]
    },
    {
     "name": "stdout",
     "output_type": "stream",
     "text": [
      "Epoch [6/150], Training MAE: 0.4092, Training RMSE: 0.5672\n",
      "Epoch [6/150], Validation MAE: 0.3676, Validation RMSE: 0.5144\n"
     ]
    },
    {
     "name": "stderr",
     "output_type": "stream",
     "text": [
      "Epoch 7/150: 100%|██████████| 205/205 [00:06<00:00, 30.64batch/s, mae_loss=0.179]\n"
     ]
    },
    {
     "name": "stdout",
     "output_type": "stream",
     "text": [
      "Epoch [7/150], Training MAE: 0.3969, Training RMSE: 0.5520\n",
      "Epoch [7/150], Validation MAE: 0.3561, Validation RMSE: 0.5011\n"
     ]
    },
    {
     "name": "stderr",
     "output_type": "stream",
     "text": [
      "Epoch 8/150: 100%|██████████| 205/205 [00:05<00:00, 35.61batch/s, mae_loss=0.18] \n"
     ]
    },
    {
     "name": "stdout",
     "output_type": "stream",
     "text": [
      "Epoch [8/150], Training MAE: 0.3867, Training RMSE: 0.5396\n",
      "Epoch [8/150], Validation MAE: 0.3445, Validation RMSE: 0.4882\n"
     ]
    },
    {
     "name": "stderr",
     "output_type": "stream",
     "text": [
      "Epoch 9/150: 100%|██████████| 205/205 [00:06<00:00, 32.75batch/s, mae_loss=0.162]\n"
     ]
    },
    {
     "name": "stdout",
     "output_type": "stream",
     "text": [
      "Epoch [9/150], Training MAE: 0.3770, Training RMSE: 0.5267\n",
      "Epoch [9/150], Validation MAE: 0.3352, Validation RMSE: 0.4772\n"
     ]
    },
    {
     "name": "stderr",
     "output_type": "stream",
     "text": [
      "Epoch 10/150: 100%|██████████| 205/205 [00:05<00:00, 34.94batch/s, mae_loss=0.202]\n"
     ]
    },
    {
     "name": "stdout",
     "output_type": "stream",
     "text": [
      "Epoch [10/150], Training MAE: 0.3686, Training RMSE: 0.5161\n",
      "Epoch [10/150], Validation MAE: 0.3278, Validation RMSE: 0.4673\n"
     ]
    },
    {
     "name": "stderr",
     "output_type": "stream",
     "text": [
      "Epoch 11/150: 100%|██████████| 205/205 [00:05<00:00, 35.30batch/s, mae_loss=0.155]\n"
     ]
    },
    {
     "name": "stdout",
     "output_type": "stream",
     "text": [
      "Epoch [11/150], Training MAE: 0.3599, Training RMSE: 0.5057\n",
      "Epoch [11/150], Validation MAE: 0.3210, Validation RMSE: 0.4582\n"
     ]
    },
    {
     "name": "stderr",
     "output_type": "stream",
     "text": [
      "Epoch 12/150: 100%|██████████| 205/205 [00:06<00:00, 33.93batch/s, mae_loss=0.152]\n"
     ]
    },
    {
     "name": "stdout",
     "output_type": "stream",
     "text": [
      "Epoch [12/150], Training MAE: 0.3524, Training RMSE: 0.4961\n",
      "Epoch [12/150], Validation MAE: 0.3130, Validation RMSE: 0.4484\n"
     ]
    },
    {
     "name": "stderr",
     "output_type": "stream",
     "text": [
      "Epoch 13/150: 100%|██████████| 205/205 [00:07<00:00, 29.23batch/s, mae_loss=0.122]\n"
     ]
    },
    {
     "name": "stdout",
     "output_type": "stream",
     "text": [
      "Epoch [13/150], Training MAE: 0.3452, Training RMSE: 0.4871\n",
      "Epoch [13/150], Validation MAE: 0.3085, Validation RMSE: 0.4419\n"
     ]
    },
    {
     "name": "stderr",
     "output_type": "stream",
     "text": [
      "Epoch 14/150: 100%|██████████| 205/205 [00:06<00:00, 31.08batch/s, mae_loss=0.159]\n"
     ]
    },
    {
     "name": "stdout",
     "output_type": "stream",
     "text": [
      "Epoch [14/150], Training MAE: 0.3414, Training RMSE: 0.4821\n",
      "Epoch [14/150], Validation MAE: 0.3038, Validation RMSE: 0.4348\n"
     ]
    },
    {
     "name": "stderr",
     "output_type": "stream",
     "text": [
      "Epoch 15/150: 100%|██████████| 205/205 [00:05<00:00, 35.32batch/s, mae_loss=0.172]\n"
     ]
    },
    {
     "name": "stdout",
     "output_type": "stream",
     "text": [
      "Epoch [15/150], Training MAE: 0.3340, Training RMSE: 0.4723\n",
      "Epoch [15/150], Validation MAE: 0.2975, Validation RMSE: 0.4269\n"
     ]
    },
    {
     "name": "stderr",
     "output_type": "stream",
     "text": [
      "Epoch 16/150: 100%|██████████| 205/205 [00:07<00:00, 27.63batch/s, mae_loss=0.157]\n"
     ]
    },
    {
     "name": "stdout",
     "output_type": "stream",
     "text": [
      "Epoch [16/150], Training MAE: 0.3303, Training RMSE: 0.4693\n",
      "Epoch [16/150], Validation MAE: 0.2918, Validation RMSE: 0.4198\n"
     ]
    },
    {
     "name": "stderr",
     "output_type": "stream",
     "text": [
      "Epoch 17/150: 100%|██████████| 205/205 [00:06<00:00, 34.11batch/s, mae_loss=0.15] \n"
     ]
    },
    {
     "name": "stdout",
     "output_type": "stream",
     "text": [
      "Epoch [17/150], Training MAE: 0.3235, Training RMSE: 0.4609\n",
      "Epoch [17/150], Validation MAE: 0.2884, Validation RMSE: 0.4148\n"
     ]
    },
    {
     "name": "stderr",
     "output_type": "stream",
     "text": [
      "Epoch 18/150: 100%|██████████| 205/205 [00:06<00:00, 33.82batch/s, mae_loss=0.121]\n"
     ]
    },
    {
     "name": "stdout",
     "output_type": "stream",
     "text": [
      "Epoch [18/150], Training MAE: 0.3205, Training RMSE: 0.4561\n",
      "Epoch [18/150], Validation MAE: 0.2850, Validation RMSE: 0.4114\n"
     ]
    },
    {
     "name": "stderr",
     "output_type": "stream",
     "text": [
      "Epoch 19/150: 100%|██████████| 205/205 [00:05<00:00, 34.73batch/s, mae_loss=0.132]\n"
     ]
    },
    {
     "name": "stdout",
     "output_type": "stream",
     "text": [
      "Epoch [19/150], Training MAE: 0.3172, Training RMSE: 0.4526\n",
      "Epoch [19/150], Validation MAE: 0.2807, Validation RMSE: 0.4071\n"
     ]
    },
    {
     "name": "stderr",
     "output_type": "stream",
     "text": [
      "Epoch 20/150: 100%|██████████| 205/205 [00:05<00:00, 36.15batch/s, mae_loss=0.126]\n"
     ]
    },
    {
     "name": "stdout",
     "output_type": "stream",
     "text": [
      "Epoch [20/150], Training MAE: 0.3153, Training RMSE: 0.4496\n",
      "Epoch [20/150], Validation MAE: 0.2768, Validation RMSE: 0.4022\n"
     ]
    },
    {
     "name": "stderr",
     "output_type": "stream",
     "text": [
      "Epoch 21/150: 100%|██████████| 205/205 [00:05<00:00, 36.24batch/s, mae_loss=0.166]\n"
     ]
    },
    {
     "name": "stdout",
     "output_type": "stream",
     "text": [
      "Epoch [21/150], Training MAE: 0.3110, Training RMSE: 0.4438\n",
      "Epoch [21/150], Validation MAE: 0.2766, Validation RMSE: 0.4021\n"
     ]
    },
    {
     "name": "stderr",
     "output_type": "stream",
     "text": [
      "Epoch 22/150: 100%|██████████| 205/205 [00:05<00:00, 35.83batch/s, mae_loss=0.112]\n"
     ]
    },
    {
     "name": "stdout",
     "output_type": "stream",
     "text": [
      "Epoch [22/150], Training MAE: 0.3066, Training RMSE: 0.4393\n",
      "Epoch [22/150], Validation MAE: 0.2734, Validation RMSE: 0.3993\n"
     ]
    },
    {
     "name": "stderr",
     "output_type": "stream",
     "text": [
      "Epoch 23/150: 100%|██████████| 205/205 [00:06<00:00, 33.84batch/s, mae_loss=0.13] \n"
     ]
    },
    {
     "name": "stdout",
     "output_type": "stream",
     "text": [
      "Epoch [23/150], Training MAE: 0.3058, Training RMSE: 0.4374\n",
      "Epoch [23/150], Validation MAE: 0.2738, Validation RMSE: 0.3985\n"
     ]
    },
    {
     "name": "stderr",
     "output_type": "stream",
     "text": [
      "Epoch 24/150: 100%|██████████| 205/205 [00:05<00:00, 35.57batch/s, mae_loss=0.136]\n"
     ]
    },
    {
     "name": "stdout",
     "output_type": "stream",
     "text": [
      "Epoch [24/150], Training MAE: 0.3032, Training RMSE: 0.4337\n",
      "Epoch [24/150], Validation MAE: 0.2699, Validation RMSE: 0.3951\n"
     ]
    },
    {
     "name": "stderr",
     "output_type": "stream",
     "text": [
      "Epoch 25/150: 100%|██████████| 205/205 [00:05<00:00, 36.09batch/s, mae_loss=0.131]\n"
     ]
    },
    {
     "name": "stdout",
     "output_type": "stream",
     "text": [
      "Epoch [25/150], Training MAE: 0.3005, Training RMSE: 0.4316\n",
      "Epoch [25/150], Validation MAE: 0.2679, Validation RMSE: 0.3917\n"
     ]
    },
    {
     "name": "stderr",
     "output_type": "stream",
     "text": [
      "Epoch 26/150: 100%|██████████| 205/205 [00:05<00:00, 35.79batch/s, mae_loss=0.149]\n"
     ]
    },
    {
     "name": "stdout",
     "output_type": "stream",
     "text": [
      "Epoch [26/150], Training MAE: 0.2984, Training RMSE: 0.4285\n",
      "Epoch [26/150], Validation MAE: 0.2669, Validation RMSE: 0.3899\n"
     ]
    },
    {
     "name": "stderr",
     "output_type": "stream",
     "text": [
      "Epoch 27/150: 100%|██████████| 205/205 [00:05<00:00, 35.86batch/s, mae_loss=0.122]\n"
     ]
    },
    {
     "name": "stdout",
     "output_type": "stream",
     "text": [
      "Epoch [27/150], Training MAE: 0.2959, Training RMSE: 0.4244\n",
      "Epoch [27/150], Validation MAE: 0.2660, Validation RMSE: 0.3899\n"
     ]
    },
    {
     "name": "stderr",
     "output_type": "stream",
     "text": [
      "Epoch 28/150: 100%|██████████| 205/205 [00:06<00:00, 32.43batch/s, mae_loss=0.151]\n"
     ]
    },
    {
     "name": "stdout",
     "output_type": "stream",
     "text": [
      "Epoch [28/150], Training MAE: 0.2967, Training RMSE: 0.4261\n",
      "Epoch [28/150], Validation MAE: 0.2643, Validation RMSE: 0.3869\n"
     ]
    },
    {
     "name": "stderr",
     "output_type": "stream",
     "text": [
      "Epoch 29/150: 100%|██████████| 205/205 [00:05<00:00, 36.36batch/s, mae_loss=0.116]\n"
     ]
    },
    {
     "name": "stdout",
     "output_type": "stream",
     "text": [
      "Epoch [29/150], Training MAE: 0.2947, Training RMSE: 0.4254\n",
      "Epoch [29/150], Validation MAE: 0.2638, Validation RMSE: 0.3868\n"
     ]
    },
    {
     "name": "stderr",
     "output_type": "stream",
     "text": [
      "Epoch 30/150: 100%|██████████| 205/205 [00:05<00:00, 36.36batch/s, mae_loss=0.15]  \n"
     ]
    },
    {
     "name": "stdout",
     "output_type": "stream",
     "text": [
      "Epoch [30/150], Training MAE: 0.2929, Training RMSE: 0.4215\n",
      "Epoch [30/150], Validation MAE: 0.2620, Validation RMSE: 0.3843\n"
     ]
    },
    {
     "name": "stderr",
     "output_type": "stream",
     "text": [
      "Epoch 31/150: 100%|██████████| 205/205 [00:05<00:00, 36.88batch/s, mae_loss=0.146]\n"
     ]
    },
    {
     "name": "stdout",
     "output_type": "stream",
     "text": [
      "Epoch [31/150], Training MAE: 0.2901, Training RMSE: 0.4183\n",
      "Epoch [31/150], Validation MAE: 0.2597, Validation RMSE: 0.3816\n"
     ]
    },
    {
     "name": "stderr",
     "output_type": "stream",
     "text": [
      "Epoch 32/150: 100%|██████████| 205/205 [00:05<00:00, 35.98batch/s, mae_loss=0.122]\n"
     ]
    },
    {
     "name": "stdout",
     "output_type": "stream",
     "text": [
      "Epoch [32/150], Training MAE: 0.2906, Training RMSE: 0.4186\n",
      "Epoch [32/150], Validation MAE: 0.2617, Validation RMSE: 0.3835\n"
     ]
    },
    {
     "name": "stderr",
     "output_type": "stream",
     "text": [
      "Epoch 33/150: 100%|██████████| 205/205 [00:05<00:00, 36.50batch/s, mae_loss=0.146]\n"
     ]
    },
    {
     "name": "stdout",
     "output_type": "stream",
     "text": [
      "Epoch [33/150], Training MAE: 0.2891, Training RMSE: 0.4178\n",
      "Epoch [33/150], Validation MAE: 0.2592, Validation RMSE: 0.3810\n"
     ]
    },
    {
     "name": "stderr",
     "output_type": "stream",
     "text": [
      "Epoch 34/150: 100%|██████████| 205/205 [00:05<00:00, 34.80batch/s, mae_loss=0.147]\n"
     ]
    },
    {
     "name": "stdout",
     "output_type": "stream",
     "text": [
      "Epoch [34/150], Training MAE: 0.2874, Training RMSE: 0.4153\n",
      "Epoch [34/150], Validation MAE: 0.2578, Validation RMSE: 0.3795\n"
     ]
    },
    {
     "name": "stderr",
     "output_type": "stream",
     "text": [
      "Epoch 35/150: 100%|██████████| 205/205 [00:05<00:00, 37.48batch/s, mae_loss=0.117]\n"
     ]
    },
    {
     "name": "stdout",
     "output_type": "stream",
     "text": [
      "Epoch [35/150], Training MAE: 0.2864, Training RMSE: 0.4150\n",
      "Epoch [35/150], Validation MAE: 0.2576, Validation RMSE: 0.3795\n"
     ]
    },
    {
     "name": "stderr",
     "output_type": "stream",
     "text": [
      "Epoch 36/150: 100%|██████████| 205/205 [00:05<00:00, 36.96batch/s, mae_loss=0.102]\n"
     ]
    },
    {
     "name": "stdout",
     "output_type": "stream",
     "text": [
      "Epoch [36/150], Training MAE: 0.2848, Training RMSE: 0.4114\n",
      "Epoch [36/150], Validation MAE: 0.2571, Validation RMSE: 0.3782\n"
     ]
    },
    {
     "name": "stderr",
     "output_type": "stream",
     "text": [
      "Epoch 37/150: 100%|██████████| 205/205 [00:05<00:00, 36.24batch/s, mae_loss=0.126] \n"
     ]
    },
    {
     "name": "stdout",
     "output_type": "stream",
     "text": [
      "Epoch [37/150], Training MAE: 0.2848, Training RMSE: 0.4128\n",
      "Epoch [37/150], Validation MAE: 0.2559, Validation RMSE: 0.3770\n"
     ]
    },
    {
     "name": "stderr",
     "output_type": "stream",
     "text": [
      "Epoch 38/150: 100%|██████████| 205/205 [00:06<00:00, 32.11batch/s, mae_loss=0.131] \n"
     ]
    },
    {
     "name": "stdout",
     "output_type": "stream",
     "text": [
      "Epoch [38/150], Training MAE: 0.2834, Training RMSE: 0.4111\n",
      "Epoch [38/150], Validation MAE: 0.2562, Validation RMSE: 0.3770\n"
     ]
    },
    {
     "name": "stderr",
     "output_type": "stream",
     "text": [
      "Epoch 39/150: 100%|██████████| 205/205 [00:05<00:00, 37.18batch/s, mae_loss=0.107]\n"
     ]
    },
    {
     "name": "stdout",
     "output_type": "stream",
     "text": [
      "Epoch [39/150], Training MAE: 0.2830, Training RMSE: 0.4097\n",
      "Epoch [39/150], Validation MAE: 0.2550, Validation RMSE: 0.3762\n"
     ]
    },
    {
     "name": "stderr",
     "output_type": "stream",
     "text": [
      "Epoch 40/150: 100%|██████████| 205/205 [00:05<00:00, 36.68batch/s, mae_loss=0.119]\n"
     ]
    },
    {
     "name": "stdout",
     "output_type": "stream",
     "text": [
      "Epoch [40/150], Training MAE: 0.2830, Training RMSE: 0.4099\n",
      "Epoch [40/150], Validation MAE: 0.2547, Validation RMSE: 0.3753\n"
     ]
    },
    {
     "name": "stderr",
     "output_type": "stream",
     "text": [
      "Epoch 41/150: 100%|██████████| 205/205 [00:05<00:00, 36.74batch/s, mae_loss=0.133] \n"
     ]
    },
    {
     "name": "stdout",
     "output_type": "stream",
     "text": [
      "Epoch [41/150], Training MAE: 0.2817, Training RMSE: 0.4089\n",
      "Epoch [41/150], Validation MAE: 0.2546, Validation RMSE: 0.3749\n"
     ]
    },
    {
     "name": "stderr",
     "output_type": "stream",
     "text": [
      "Epoch 42/150: 100%|██████████| 205/205 [00:05<00:00, 36.24batch/s, mae_loss=0.125] \n"
     ]
    },
    {
     "name": "stdout",
     "output_type": "stream",
     "text": [
      "Epoch [42/150], Training MAE: 0.2798, Training RMSE: 0.4059\n",
      "Epoch [42/150], Validation MAE: 0.2539, Validation RMSE: 0.3740\n"
     ]
    },
    {
     "name": "stderr",
     "output_type": "stream",
     "text": [
      "Epoch 43/150: 100%|██████████| 205/205 [00:06<00:00, 31.87batch/s, mae_loss=0.15]  \n"
     ]
    },
    {
     "name": "stdout",
     "output_type": "stream",
     "text": [
      "Epoch [43/150], Training MAE: 0.2790, Training RMSE: 0.4060\n",
      "Epoch [43/150], Validation MAE: 0.2525, Validation RMSE: 0.3731\n"
     ]
    },
    {
     "name": "stderr",
     "output_type": "stream",
     "text": [
      "Epoch 44/150: 100%|██████████| 205/205 [00:06<00:00, 33.50batch/s, mae_loss=0.111] \n"
     ]
    },
    {
     "name": "stdout",
     "output_type": "stream",
     "text": [
      "Epoch [44/150], Training MAE: 0.2791, Training RMSE: 0.4059\n",
      "Epoch [44/150], Validation MAE: 0.2536, Validation RMSE: 0.3731\n"
     ]
    },
    {
     "name": "stderr",
     "output_type": "stream",
     "text": [
      "Epoch 45/150: 100%|██████████| 205/205 [00:05<00:00, 35.85batch/s, mae_loss=0.122]\n"
     ]
    },
    {
     "name": "stdout",
     "output_type": "stream",
     "text": [
      "Epoch [45/150], Training MAE: 0.2776, Training RMSE: 0.4043\n",
      "Epoch [45/150], Validation MAE: 0.2524, Validation RMSE: 0.3726\n"
     ]
    },
    {
     "name": "stderr",
     "output_type": "stream",
     "text": [
      "Epoch 46/150: 100%|██████████| 205/205 [00:05<00:00, 36.37batch/s, mae_loss=0.105]\n"
     ]
    },
    {
     "name": "stdout",
     "output_type": "stream",
     "text": [
      "Epoch [46/150], Training MAE: 0.2779, Training RMSE: 0.4044\n",
      "Epoch [46/150], Validation MAE: 0.2507, Validation RMSE: 0.3711\n"
     ]
    },
    {
     "name": "stderr",
     "output_type": "stream",
     "text": [
      "Epoch 47/150: 100%|██████████| 205/205 [00:05<00:00, 36.73batch/s, mae_loss=0.14]  \n"
     ]
    },
    {
     "name": "stdout",
     "output_type": "stream",
     "text": [
      "Epoch [47/150], Training MAE: 0.2771, Training RMSE: 0.4035\n",
      "Epoch [47/150], Validation MAE: 0.2508, Validation RMSE: 0.3708\n"
     ]
    },
    {
     "name": "stderr",
     "output_type": "stream",
     "text": [
      "Epoch 48/150: 100%|██████████| 205/205 [00:05<00:00, 36.65batch/s, mae_loss=0.134] \n"
     ]
    },
    {
     "name": "stdout",
     "output_type": "stream",
     "text": [
      "Epoch [48/150], Training MAE: 0.2766, Training RMSE: 0.4017\n",
      "Epoch [48/150], Validation MAE: 0.2495, Validation RMSE: 0.3696\n"
     ]
    },
    {
     "name": "stderr",
     "output_type": "stream",
     "text": [
      "Epoch 49/150: 100%|██████████| 205/205 [00:05<00:00, 36.56batch/s, mae_loss=0.115] \n"
     ]
    },
    {
     "name": "stdout",
     "output_type": "stream",
     "text": [
      "Epoch [49/150], Training MAE: 0.2750, Training RMSE: 0.4010\n",
      "Epoch [49/150], Validation MAE: 0.2493, Validation RMSE: 0.3697\n"
     ]
    },
    {
     "name": "stderr",
     "output_type": "stream",
     "text": [
      "Epoch 50/150: 100%|██████████| 205/205 [00:05<00:00, 36.95batch/s, mae_loss=0.137]\n"
     ]
    },
    {
     "name": "stdout",
     "output_type": "stream",
     "text": [
      "Epoch [50/150], Training MAE: 0.2745, Training RMSE: 0.4004\n",
      "Epoch [50/150], Validation MAE: 0.2495, Validation RMSE: 0.3697\n"
     ]
    },
    {
     "name": "stderr",
     "output_type": "stream",
     "text": [
      "Epoch 51/150: 100%|██████████| 205/205 [00:05<00:00, 36.48batch/s, mae_loss=0.115] \n"
     ]
    },
    {
     "name": "stdout",
     "output_type": "stream",
     "text": [
      "Epoch [51/150], Training MAE: 0.2746, Training RMSE: 0.4004\n",
      "Epoch [51/150], Validation MAE: 0.2498, Validation RMSE: 0.3695\n"
     ]
    },
    {
     "name": "stderr",
     "output_type": "stream",
     "text": [
      "Epoch 52/150: 100%|██████████| 205/205 [00:06<00:00, 32.51batch/s, mae_loss=0.122] \n"
     ]
    },
    {
     "name": "stdout",
     "output_type": "stream",
     "text": [
      "Epoch [52/150], Training MAE: 0.2727, Training RMSE: 0.3976\n",
      "Epoch [52/150], Validation MAE: 0.2491, Validation RMSE: 0.3690\n"
     ]
    },
    {
     "name": "stderr",
     "output_type": "stream",
     "text": [
      "Epoch 53/150: 100%|██████████| 205/205 [00:05<00:00, 35.52batch/s, mae_loss=0.106]\n"
     ]
    },
    {
     "name": "stdout",
     "output_type": "stream",
     "text": [
      "Epoch [53/150], Training MAE: 0.2728, Training RMSE: 0.3972\n",
      "Epoch [53/150], Validation MAE: 0.2475, Validation RMSE: 0.3681\n"
     ]
    },
    {
     "name": "stderr",
     "output_type": "stream",
     "text": [
      "Epoch 54/150: 100%|██████████| 205/205 [00:05<00:00, 34.44batch/s, mae_loss=0.0984]\n"
     ]
    },
    {
     "name": "stdout",
     "output_type": "stream",
     "text": [
      "Epoch [54/150], Training MAE: 0.2717, Training RMSE: 0.3963\n",
      "Epoch [54/150], Validation MAE: 0.2479, Validation RMSE: 0.3683\n"
     ]
    },
    {
     "name": "stderr",
     "output_type": "stream",
     "text": [
      "Epoch 55/150: 100%|██████████| 205/205 [00:05<00:00, 35.15batch/s, mae_loss=0.107] \n"
     ]
    },
    {
     "name": "stdout",
     "output_type": "stream",
     "text": [
      "Epoch [55/150], Training MAE: 0.2711, Training RMSE: 0.3956\n",
      "Epoch [55/150], Validation MAE: 0.2467, Validation RMSE: 0.3670\n"
     ]
    },
    {
     "name": "stderr",
     "output_type": "stream",
     "text": [
      "Epoch 56/150: 100%|██████████| 205/205 [00:05<00:00, 36.31batch/s, mae_loss=0.112] \n"
     ]
    },
    {
     "name": "stdout",
     "output_type": "stream",
     "text": [
      "Epoch [56/150], Training MAE: 0.2712, Training RMSE: 0.3959\n",
      "Epoch [56/150], Validation MAE: 0.2471, Validation RMSE: 0.3668\n"
     ]
    },
    {
     "name": "stderr",
     "output_type": "stream",
     "text": [
      "Epoch 57/150: 100%|██████████| 205/205 [00:06<00:00, 33.24batch/s, mae_loss=0.12] \n"
     ]
    },
    {
     "name": "stdout",
     "output_type": "stream",
     "text": [
      "Epoch [57/150], Training MAE: 0.2709, Training RMSE: 0.3959\n",
      "Epoch [57/150], Validation MAE: 0.2462, Validation RMSE: 0.3663\n"
     ]
    },
    {
     "name": "stderr",
     "output_type": "stream",
     "text": [
      "Epoch 58/150: 100%|██████████| 205/205 [00:05<00:00, 37.10batch/s, mae_loss=0.118] \n"
     ]
    },
    {
     "name": "stdout",
     "output_type": "stream",
     "text": [
      "Epoch [58/150], Training MAE: 0.2699, Training RMSE: 0.3955\n",
      "Epoch [58/150], Validation MAE: 0.2462, Validation RMSE: 0.3659\n"
     ]
    },
    {
     "name": "stderr",
     "output_type": "stream",
     "text": [
      "Epoch 59/150: 100%|██████████| 205/205 [00:05<00:00, 36.23batch/s, mae_loss=0.123]\n"
     ]
    },
    {
     "name": "stdout",
     "output_type": "stream",
     "text": [
      "Epoch [59/150], Training MAE: 0.2698, Training RMSE: 0.3941\n",
      "Epoch [59/150], Validation MAE: 0.2465, Validation RMSE: 0.3665\n"
     ]
    },
    {
     "name": "stderr",
     "output_type": "stream",
     "text": [
      "Epoch 60/150: 100%|██████████| 205/205 [00:05<00:00, 37.19batch/s, mae_loss=0.116] \n"
     ]
    },
    {
     "name": "stdout",
     "output_type": "stream",
     "text": [
      "Epoch [60/150], Training MAE: 0.2692, Training RMSE: 0.3943\n",
      "Epoch [60/150], Validation MAE: 0.2455, Validation RMSE: 0.3653\n"
     ]
    },
    {
     "name": "stderr",
     "output_type": "stream",
     "text": [
      "Epoch 61/150: 100%|██████████| 205/205 [00:05<00:00, 36.11batch/s, mae_loss=0.0963]\n"
     ]
    },
    {
     "name": "stdout",
     "output_type": "stream",
     "text": [
      "Epoch [61/150], Training MAE: 0.2689, Training RMSE: 0.3943\n",
      "Epoch [61/150], Validation MAE: 0.2464, Validation RMSE: 0.3662\n"
     ]
    },
    {
     "name": "stderr",
     "output_type": "stream",
     "text": [
      "Epoch 62/150: 100%|██████████| 205/205 [00:05<00:00, 36.74batch/s, mae_loss=0.106] \n"
     ]
    },
    {
     "name": "stdout",
     "output_type": "stream",
     "text": [
      "Epoch [62/150], Training MAE: 0.2684, Training RMSE: 0.3927\n",
      "Epoch [62/150], Validation MAE: 0.2458, Validation RMSE: 0.3654\n"
     ]
    },
    {
     "name": "stderr",
     "output_type": "stream",
     "text": [
      "Epoch 63/150: 100%|██████████| 205/205 [00:06<00:00, 30.72batch/s, mae_loss=0.141] \n"
     ]
    },
    {
     "name": "stdout",
     "output_type": "stream",
     "text": [
      "Epoch [63/150], Training MAE: 0.2687, Training RMSE: 0.3929\n",
      "Epoch [63/150], Validation MAE: 0.2455, Validation RMSE: 0.3649\n"
     ]
    },
    {
     "name": "stderr",
     "output_type": "stream",
     "text": [
      "Epoch 64/150: 100%|██████████| 205/205 [00:05<00:00, 37.43batch/s, mae_loss=0.133] \n"
     ]
    },
    {
     "name": "stdout",
     "output_type": "stream",
     "text": [
      "Epoch [64/150], Training MAE: 0.2672, Training RMSE: 0.3922\n",
      "Epoch [64/150], Validation MAE: 0.2449, Validation RMSE: 0.3645\n"
     ]
    },
    {
     "name": "stderr",
     "output_type": "stream",
     "text": [
      "Epoch 65/150: 100%|██████████| 205/205 [00:06<00:00, 33.99batch/s, mae_loss=0.112] \n"
     ]
    },
    {
     "name": "stdout",
     "output_type": "stream",
     "text": [
      "Epoch [65/150], Training MAE: 0.2672, Training RMSE: 0.3912\n",
      "Epoch [65/150], Validation MAE: 0.2442, Validation RMSE: 0.3642\n"
     ]
    },
    {
     "name": "stderr",
     "output_type": "stream",
     "text": [
      "Epoch 66/150: 100%|██████████| 205/205 [00:05<00:00, 36.65batch/s, mae_loss=0.0929]\n"
     ]
    },
    {
     "name": "stdout",
     "output_type": "stream",
     "text": [
      "Epoch [66/150], Training MAE: 0.2663, Training RMSE: 0.3904\n",
      "Epoch [66/150], Validation MAE: 0.2443, Validation RMSE: 0.3640\n"
     ]
    },
    {
     "name": "stderr",
     "output_type": "stream",
     "text": [
      "Epoch 67/150: 100%|██████████| 205/205 [00:05<00:00, 38.03batch/s, mae_loss=0.11]  \n"
     ]
    },
    {
     "name": "stdout",
     "output_type": "stream",
     "text": [
      "Epoch [67/150], Training MAE: 0.2666, Training RMSE: 0.3911\n",
      "Epoch [67/150], Validation MAE: 0.2445, Validation RMSE: 0.3639\n"
     ]
    },
    {
     "name": "stderr",
     "output_type": "stream",
     "text": [
      "Epoch 68/150: 100%|██████████| 205/205 [00:05<00:00, 37.30batch/s, mae_loss=0.0991]\n"
     ]
    },
    {
     "name": "stdout",
     "output_type": "stream",
     "text": [
      "Epoch [68/150], Training MAE: 0.2653, Training RMSE: 0.3891\n",
      "Epoch [68/150], Validation MAE: 0.2454, Validation RMSE: 0.3648\n"
     ]
    },
    {
     "name": "stderr",
     "output_type": "stream",
     "text": [
      "Epoch 69/150: 100%|██████████| 205/205 [00:05<00:00, 37.96batch/s, mae_loss=0.108] \n"
     ]
    },
    {
     "name": "stdout",
     "output_type": "stream",
     "text": [
      "Epoch [69/150], Training MAE: 0.2648, Training RMSE: 0.3902\n",
      "Epoch [69/150], Validation MAE: 0.2447, Validation RMSE: 0.3642\n"
     ]
    },
    {
     "name": "stderr",
     "output_type": "stream",
     "text": [
      "Epoch 70/150: 100%|██████████| 205/205 [00:05<00:00, 37.76batch/s, mae_loss=0.118] \n"
     ]
    },
    {
     "name": "stdout",
     "output_type": "stream",
     "text": [
      "Epoch [70/150], Training MAE: 0.2660, Training RMSE: 0.3905\n",
      "Epoch [70/150], Validation MAE: 0.2430, Validation RMSE: 0.3628\n"
     ]
    },
    {
     "name": "stderr",
     "output_type": "stream",
     "text": [
      "Epoch 71/150: 100%|██████████| 205/205 [00:05<00:00, 37.93batch/s, mae_loss=0.0933]\n"
     ]
    },
    {
     "name": "stdout",
     "output_type": "stream",
     "text": [
      "Epoch [71/150], Training MAE: 0.2646, Training RMSE: 0.3889\n",
      "Epoch [71/150], Validation MAE: 0.2435, Validation RMSE: 0.3631\n"
     ]
    },
    {
     "name": "stderr",
     "output_type": "stream",
     "text": [
      "Epoch 72/150: 100%|██████████| 205/205 [00:05<00:00, 37.55batch/s, mae_loss=0.117] \n"
     ]
    },
    {
     "name": "stdout",
     "output_type": "stream",
     "text": [
      "Epoch [72/150], Training MAE: 0.2641, Training RMSE: 0.3884\n",
      "Epoch [72/150], Validation MAE: 0.2423, Validation RMSE: 0.3625\n"
     ]
    },
    {
     "name": "stderr",
     "output_type": "stream",
     "text": [
      "Epoch 73/150: 100%|██████████| 205/205 [00:05<00:00, 37.50batch/s, mae_loss=0.109] \n"
     ]
    },
    {
     "name": "stdout",
     "output_type": "stream",
     "text": [
      "Epoch [73/150], Training MAE: 0.2646, Training RMSE: 0.3896\n",
      "Epoch [73/150], Validation MAE: 0.2424, Validation RMSE: 0.3626\n"
     ]
    },
    {
     "name": "stderr",
     "output_type": "stream",
     "text": [
      "Epoch 74/150: 100%|██████████| 205/205 [00:05<00:00, 37.58batch/s, mae_loss=0.116] \n"
     ]
    },
    {
     "name": "stdout",
     "output_type": "stream",
     "text": [
      "Epoch [74/150], Training MAE: 0.2648, Training RMSE: 0.3895\n",
      "Epoch [74/150], Validation MAE: 0.2429, Validation RMSE: 0.3628\n"
     ]
    },
    {
     "name": "stderr",
     "output_type": "stream",
     "text": [
      "Epoch 75/150: 100%|██████████| 205/205 [00:05<00:00, 37.67batch/s, mae_loss=0.0854]\n"
     ]
    },
    {
     "name": "stdout",
     "output_type": "stream",
     "text": [
      "Epoch [75/150], Training MAE: 0.2628, Training RMSE: 0.3881\n",
      "Epoch [75/150], Validation MAE: 0.2439, Validation RMSE: 0.3634\n"
     ]
    },
    {
     "name": "stderr",
     "output_type": "stream",
     "text": [
      "Epoch 76/150: 100%|██████████| 205/205 [00:06<00:00, 32.42batch/s, mae_loss=0.0988]\n"
     ]
    },
    {
     "name": "stdout",
     "output_type": "stream",
     "text": [
      "Epoch [76/150], Training MAE: 0.2633, Training RMSE: 0.3872\n",
      "Epoch [76/150], Validation MAE: 0.2423, Validation RMSE: 0.3618\n"
     ]
    },
    {
     "name": "stderr",
     "output_type": "stream",
     "text": [
      "Epoch 77/150: 100%|██████████| 205/205 [00:05<00:00, 34.77batch/s, mae_loss=0.113] \n"
     ]
    },
    {
     "name": "stdout",
     "output_type": "stream",
     "text": [
      "Epoch [77/150], Training MAE: 0.2635, Training RMSE: 0.3874\n",
      "Epoch [77/150], Validation MAE: 0.2419, Validation RMSE: 0.3617\n"
     ]
    },
    {
     "name": "stderr",
     "output_type": "stream",
     "text": [
      "Epoch 78/150: 100%|██████████| 205/205 [00:05<00:00, 37.60batch/s, mae_loss=0.119]\n"
     ]
    },
    {
     "name": "stdout",
     "output_type": "stream",
     "text": [
      "Epoch [78/150], Training MAE: 0.2626, Training RMSE: 0.3861\n",
      "Epoch [78/150], Validation MAE: 0.2415, Validation RMSE: 0.3621\n"
     ]
    },
    {
     "name": "stderr",
     "output_type": "stream",
     "text": [
      "Epoch 79/150: 100%|██████████| 205/205 [00:05<00:00, 37.96batch/s, mae_loss=0.101] \n"
     ]
    },
    {
     "name": "stdout",
     "output_type": "stream",
     "text": [
      "Epoch [79/150], Training MAE: 0.2632, Training RMSE: 0.3875\n",
      "Epoch [79/150], Validation MAE: 0.2427, Validation RMSE: 0.3626\n"
     ]
    },
    {
     "name": "stderr",
     "output_type": "stream",
     "text": [
      "Epoch 80/150: 100%|██████████| 205/205 [00:05<00:00, 37.70batch/s, mae_loss=0.115] \n"
     ]
    },
    {
     "name": "stdout",
     "output_type": "stream",
     "text": [
      "Epoch [80/150], Training MAE: 0.2616, Training RMSE: 0.3858\n",
      "Epoch [80/150], Validation MAE: 0.2419, Validation RMSE: 0.3620\n"
     ]
    },
    {
     "name": "stderr",
     "output_type": "stream",
     "text": [
      "Epoch 81/150: 100%|██████████| 205/205 [00:05<00:00, 36.06batch/s, mae_loss=0.0935]\n"
     ]
    },
    {
     "name": "stdout",
     "output_type": "stream",
     "text": [
      "Epoch [81/150], Training MAE: 0.2622, Training RMSE: 0.3867\n",
      "Epoch [81/150], Validation MAE: 0.2428, Validation RMSE: 0.3623\n"
     ]
    },
    {
     "name": "stderr",
     "output_type": "stream",
     "text": [
      "Epoch 82/150: 100%|██████████| 205/205 [00:05<00:00, 37.61batch/s, mae_loss=0.107] \n"
     ]
    },
    {
     "name": "stdout",
     "output_type": "stream",
     "text": [
      "Epoch [82/150], Training MAE: 0.2623, Training RMSE: 0.3863\n",
      "Epoch [82/150], Validation MAE: 0.2417, Validation RMSE: 0.3618\n"
     ]
    },
    {
     "name": "stderr",
     "output_type": "stream",
     "text": [
      "Epoch 83/150: 100%|██████████| 205/205 [00:05<00:00, 38.11batch/s, mae_loss=0.103] \n"
     ]
    },
    {
     "name": "stdout",
     "output_type": "stream",
     "text": [
      "Epoch [83/150], Training MAE: 0.2611, Training RMSE: 0.3844\n",
      "Epoch [83/150], Validation MAE: 0.2413, Validation RMSE: 0.3617\n"
     ]
    },
    {
     "name": "stderr",
     "output_type": "stream",
     "text": [
      "Epoch 84/150: 100%|██████████| 205/205 [00:05<00:00, 36.39batch/s, mae_loss=0.103] \n"
     ]
    },
    {
     "name": "stdout",
     "output_type": "stream",
     "text": [
      "Epoch [84/150], Training MAE: 0.2611, Training RMSE: 0.3858\n",
      "Epoch [84/150], Validation MAE: 0.2414, Validation RMSE: 0.3618\n"
     ]
    },
    {
     "name": "stderr",
     "output_type": "stream",
     "text": [
      "Epoch 85/150: 100%|██████████| 205/205 [00:05<00:00, 37.65batch/s, mae_loss=0.0819]\n"
     ]
    },
    {
     "name": "stdout",
     "output_type": "stream",
     "text": [
      "Epoch [85/150], Training MAE: 0.2600, Training RMSE: 0.3836\n",
      "Epoch [85/150], Validation MAE: 0.2419, Validation RMSE: 0.3619\n"
     ]
    },
    {
     "name": "stderr",
     "output_type": "stream",
     "text": [
      "Epoch 86/150: 100%|██████████| 205/205 [00:06<00:00, 33.84batch/s, mae_loss=0.113] \n"
     ]
    },
    {
     "name": "stdout",
     "output_type": "stream",
     "text": [
      "Epoch [86/150], Training MAE: 0.2607, Training RMSE: 0.3856\n",
      "Epoch [86/150], Validation MAE: 0.2399, Validation RMSE: 0.3607\n"
     ]
    },
    {
     "name": "stderr",
     "output_type": "stream",
     "text": [
      "Epoch 87/150: 100%|██████████| 205/205 [00:05<00:00, 36.29batch/s, mae_loss=0.104] \n"
     ]
    },
    {
     "name": "stdout",
     "output_type": "stream",
     "text": [
      "Epoch [87/150], Training MAE: 0.2595, Training RMSE: 0.3834\n",
      "Epoch [87/150], Validation MAE: 0.2419, Validation RMSE: 0.3618\n"
     ]
    },
    {
     "name": "stderr",
     "output_type": "stream",
     "text": [
      "Epoch 88/150: 100%|██████████| 205/205 [00:05<00:00, 37.77batch/s, mae_loss=0.0915]\n"
     ]
    },
    {
     "name": "stdout",
     "output_type": "stream",
     "text": [
      "Epoch [88/150], Training MAE: 0.2605, Training RMSE: 0.3862\n",
      "Epoch [88/150], Validation MAE: 0.2412, Validation RMSE: 0.3615\n"
     ]
    },
    {
     "name": "stderr",
     "output_type": "stream",
     "text": [
      "Epoch 89/150: 100%|██████████| 205/205 [00:05<00:00, 37.43batch/s, mae_loss=0.0981]\n"
     ]
    },
    {
     "name": "stdout",
     "output_type": "stream",
     "text": [
      "Epoch [89/150], Training MAE: 0.2594, Training RMSE: 0.3824\n",
      "Epoch [89/150], Validation MAE: 0.2406, Validation RMSE: 0.3613\n"
     ]
    },
    {
     "name": "stderr",
     "output_type": "stream",
     "text": [
      "Epoch 90/150: 100%|██████████| 205/205 [00:05<00:00, 37.57batch/s, mae_loss=0.0994]\n"
     ]
    },
    {
     "name": "stdout",
     "output_type": "stream",
     "text": [
      "Epoch [90/150], Training MAE: 0.2583, Training RMSE: 0.3829\n",
      "Epoch [90/150], Validation MAE: 0.2419, Validation RMSE: 0.3614\n"
     ]
    },
    {
     "name": "stderr",
     "output_type": "stream",
     "text": [
      "Epoch 91/150: 100%|██████████| 205/205 [00:05<00:00, 37.47batch/s, mae_loss=0.113] \n"
     ]
    },
    {
     "name": "stdout",
     "output_type": "stream",
     "text": [
      "Epoch [91/150], Training MAE: 0.2592, Training RMSE: 0.3824\n",
      "Epoch [91/150], Validation MAE: 0.2406, Validation RMSE: 0.3612\n"
     ]
    },
    {
     "name": "stderr",
     "output_type": "stream",
     "text": [
      "Epoch 92/150: 100%|██████████| 205/205 [00:05<00:00, 38.28batch/s, mae_loss=0.0965]\n"
     ]
    },
    {
     "name": "stdout",
     "output_type": "stream",
     "text": [
      "Epoch [92/150], Training MAE: 0.2590, Training RMSE: 0.3821\n",
      "Epoch [92/150], Validation MAE: 0.2403, Validation RMSE: 0.3609\n"
     ]
    },
    {
     "name": "stderr",
     "output_type": "stream",
     "text": [
      "Epoch 93/150: 100%|██████████| 205/205 [00:05<00:00, 38.26batch/s, mae_loss=0.111] \n"
     ]
    },
    {
     "name": "stdout",
     "output_type": "stream",
     "text": [
      "Epoch [93/150], Training MAE: 0.2584, Training RMSE: 0.3818\n",
      "Epoch [93/150], Validation MAE: 0.2394, Validation RMSE: 0.3600\n"
     ]
    },
    {
     "name": "stderr",
     "output_type": "stream",
     "text": [
      "Epoch 94/150: 100%|██████████| 205/205 [00:05<00:00, 37.76batch/s, mae_loss=0.0918]\n"
     ]
    },
    {
     "name": "stdout",
     "output_type": "stream",
     "text": [
      "Epoch [94/150], Training MAE: 0.2581, Training RMSE: 0.3824\n",
      "Epoch [94/150], Validation MAE: 0.2405, Validation RMSE: 0.3605\n"
     ]
    },
    {
     "name": "stderr",
     "output_type": "stream",
     "text": [
      "Epoch 95/150: 100%|██████████| 205/205 [00:05<00:00, 37.76batch/s, mae_loss=0.122] \n"
     ]
    },
    {
     "name": "stdout",
     "output_type": "stream",
     "text": [
      "Epoch [95/150], Training MAE: 0.2577, Training RMSE: 0.3814\n",
      "Epoch [95/150], Validation MAE: 0.2399, Validation RMSE: 0.3604\n"
     ]
    },
    {
     "name": "stderr",
     "output_type": "stream",
     "text": [
      "Epoch 96/150: 100%|██████████| 205/205 [00:05<00:00, 34.60batch/s, mae_loss=0.0964]\n"
     ]
    },
    {
     "name": "stdout",
     "output_type": "stream",
     "text": [
      "Epoch [96/150], Training MAE: 0.2569, Training RMSE: 0.3805\n",
      "Epoch [96/150], Validation MAE: 0.2386, Validation RMSE: 0.3597\n"
     ]
    },
    {
     "name": "stderr",
     "output_type": "stream",
     "text": [
      "Epoch 97/150: 100%|██████████| 205/205 [00:05<00:00, 36.62batch/s, mae_loss=0.082] \n"
     ]
    },
    {
     "name": "stdout",
     "output_type": "stream",
     "text": [
      "Epoch [97/150], Training MAE: 0.2564, Training RMSE: 0.3801\n",
      "Epoch [97/150], Validation MAE: 0.2401, Validation RMSE: 0.3599\n"
     ]
    },
    {
     "name": "stderr",
     "output_type": "stream",
     "text": [
      "Epoch 98/150: 100%|██████████| 205/205 [00:05<00:00, 36.35batch/s, mae_loss=0.112] \n"
     ]
    },
    {
     "name": "stdout",
     "output_type": "stream",
     "text": [
      "Epoch [98/150], Training MAE: 0.2563, Training RMSE: 0.3809\n",
      "Epoch [98/150], Validation MAE: 0.2399, Validation RMSE: 0.3601\n"
     ]
    },
    {
     "name": "stderr",
     "output_type": "stream",
     "text": [
      "Epoch 99/150: 100%|██████████| 205/205 [00:05<00:00, 37.88batch/s, mae_loss=0.106] \n"
     ]
    },
    {
     "name": "stdout",
     "output_type": "stream",
     "text": [
      "Epoch [99/150], Training MAE: 0.2581, Training RMSE: 0.3822\n",
      "Epoch [99/150], Validation MAE: 0.2396, Validation RMSE: 0.3598\n"
     ]
    },
    {
     "name": "stderr",
     "output_type": "stream",
     "text": [
      "Epoch 100/150: 100%|██████████| 205/205 [00:05<00:00, 38.48batch/s, mae_loss=0.0949]\n"
     ]
    },
    {
     "name": "stdout",
     "output_type": "stream",
     "text": [
      "Epoch [100/150], Training MAE: 0.2571, Training RMSE: 0.3811\n",
      "Epoch [100/150], Validation MAE: 0.2388, Validation RMSE: 0.3596\n"
     ]
    },
    {
     "name": "stderr",
     "output_type": "stream",
     "text": [
      "Epoch 101/150: 100%|██████████| 205/205 [00:05<00:00, 38.16batch/s, mae_loss=0.122] \n"
     ]
    },
    {
     "name": "stdout",
     "output_type": "stream",
     "text": [
      "Epoch [101/150], Training MAE: 0.2569, Training RMSE: 0.3800\n",
      "Epoch [101/150], Validation MAE: 0.2387, Validation RMSE: 0.3597\n"
     ]
    },
    {
     "name": "stderr",
     "output_type": "stream",
     "text": [
      "Epoch 102/150: 100%|██████████| 205/205 [00:05<00:00, 37.70batch/s, mae_loss=0.0941]\n"
     ]
    },
    {
     "name": "stdout",
     "output_type": "stream",
     "text": [
      "Epoch [102/150], Training MAE: 0.2563, Training RMSE: 0.3798\n",
      "Epoch [102/150], Validation MAE: 0.2392, Validation RMSE: 0.3597\n"
     ]
    },
    {
     "name": "stderr",
     "output_type": "stream",
     "text": [
      "Epoch 103/150: 100%|██████████| 205/205 [00:05<00:00, 37.11batch/s, mae_loss=0.111] \n"
     ]
    },
    {
     "name": "stdout",
     "output_type": "stream",
     "text": [
      "Epoch [103/150], Training MAE: 0.2552, Training RMSE: 0.3782\n",
      "Epoch [103/150], Validation MAE: 0.2387, Validation RMSE: 0.3594\n"
     ]
    },
    {
     "name": "stderr",
     "output_type": "stream",
     "text": [
      "Epoch 104/150: 100%|██████████| 205/205 [00:05<00:00, 36.59batch/s, mae_loss=0.0913]\n"
     ]
    },
    {
     "name": "stdout",
     "output_type": "stream",
     "text": [
      "Epoch [104/150], Training MAE: 0.2559, Training RMSE: 0.3788\n",
      "Epoch [104/150], Validation MAE: 0.2388, Validation RMSE: 0.3601\n"
     ]
    },
    {
     "name": "stderr",
     "output_type": "stream",
     "text": [
      "Epoch 105/150: 100%|██████████| 205/205 [00:05<00:00, 37.48batch/s, mae_loss=0.0992]\n"
     ]
    },
    {
     "name": "stdout",
     "output_type": "stream",
     "text": [
      "Epoch [105/150], Training MAE: 0.2554, Training RMSE: 0.3796\n",
      "Epoch [105/150], Validation MAE: 0.2384, Validation RMSE: 0.3591\n"
     ]
    },
    {
     "name": "stderr",
     "output_type": "stream",
     "text": [
      "Epoch 106/150: 100%|██████████| 205/205 [00:05<00:00, 35.06batch/s, mae_loss=0.0886]\n"
     ]
    },
    {
     "name": "stdout",
     "output_type": "stream",
     "text": [
      "Epoch [106/150], Training MAE: 0.2546, Training RMSE: 0.3781\n",
      "Epoch [106/150], Validation MAE: 0.2399, Validation RMSE: 0.3597\n"
     ]
    },
    {
     "name": "stderr",
     "output_type": "stream",
     "text": [
      "Epoch 107/150: 100%|██████████| 205/205 [00:05<00:00, 37.76batch/s, mae_loss=0.107] \n"
     ]
    },
    {
     "name": "stdout",
     "output_type": "stream",
     "text": [
      "Epoch [107/150], Training MAE: 0.2557, Training RMSE: 0.3793\n",
      "Epoch [107/150], Validation MAE: 0.2381, Validation RMSE: 0.3593\n"
     ]
    },
    {
     "name": "stderr",
     "output_type": "stream",
     "text": [
      "Epoch 108/150: 100%|██████████| 205/205 [00:05<00:00, 35.54batch/s, mae_loss=0.105] \n"
     ]
    },
    {
     "name": "stdout",
     "output_type": "stream",
     "text": [
      "Epoch [108/150], Training MAE: 0.2545, Training RMSE: 0.3778\n",
      "Epoch [108/150], Validation MAE: 0.2389, Validation RMSE: 0.3598\n"
     ]
    },
    {
     "name": "stderr",
     "output_type": "stream",
     "text": [
      "Epoch 109/150: 100%|██████████| 205/205 [00:07<00:00, 27.81batch/s, mae_loss=0.0878]\n"
     ]
    },
    {
     "name": "stdout",
     "output_type": "stream",
     "text": [
      "Epoch [109/150], Training MAE: 0.2556, Training RMSE: 0.3787\n",
      "Epoch [109/150], Validation MAE: 0.2380, Validation RMSE: 0.3593\n"
     ]
    },
    {
     "name": "stderr",
     "output_type": "stream",
     "text": [
      "Epoch 110/150: 100%|██████████| 205/205 [00:05<00:00, 36.41batch/s, mae_loss=0.12]  \n"
     ]
    },
    {
     "name": "stdout",
     "output_type": "stream",
     "text": [
      "Epoch [110/150], Training MAE: 0.2546, Training RMSE: 0.3779\n",
      "Epoch [110/150], Validation MAE: 0.2378, Validation RMSE: 0.3586\n"
     ]
    },
    {
     "name": "stderr",
     "output_type": "stream",
     "text": [
      "Epoch 111/150: 100%|██████████| 205/205 [00:05<00:00, 37.28batch/s, mae_loss=0.111] \n"
     ]
    },
    {
     "name": "stdout",
     "output_type": "stream",
     "text": [
      "Epoch [111/150], Training MAE: 0.2543, Training RMSE: 0.3778\n",
      "Epoch [111/150], Validation MAE: 0.2381, Validation RMSE: 0.3585\n"
     ]
    },
    {
     "name": "stderr",
     "output_type": "stream",
     "text": [
      "Epoch 112/150: 100%|██████████| 205/205 [00:05<00:00, 36.49batch/s, mae_loss=0.096] \n"
     ]
    },
    {
     "name": "stdout",
     "output_type": "stream",
     "text": [
      "Epoch [112/150], Training MAE: 0.2536, Training RMSE: 0.3766\n",
      "Epoch [112/150], Validation MAE: 0.2384, Validation RMSE: 0.3586\n"
     ]
    },
    {
     "name": "stderr",
     "output_type": "stream",
     "text": [
      "Epoch 113/150: 100%|██████████| 205/205 [00:05<00:00, 35.71batch/s, mae_loss=0.108] \n"
     ]
    },
    {
     "name": "stdout",
     "output_type": "stream",
     "text": [
      "Epoch [113/150], Training MAE: 0.2547, Training RMSE: 0.3773\n",
      "Epoch [113/150], Validation MAE: 0.2381, Validation RMSE: 0.3589\n"
     ]
    },
    {
     "name": "stderr",
     "output_type": "stream",
     "text": [
      "Epoch 114/150: 100%|██████████| 205/205 [00:05<00:00, 36.09batch/s, mae_loss=0.111] \n"
     ]
    },
    {
     "name": "stdout",
     "output_type": "stream",
     "text": [
      "Epoch [114/150], Training MAE: 0.2538, Training RMSE: 0.3767\n",
      "Epoch [114/150], Validation MAE: 0.2386, Validation RMSE: 0.3593\n"
     ]
    },
    {
     "name": "stderr",
     "output_type": "stream",
     "text": [
      "Epoch 115/150: 100%|██████████| 205/205 [00:05<00:00, 37.02batch/s, mae_loss=0.0927]\n"
     ]
    },
    {
     "name": "stdout",
     "output_type": "stream",
     "text": [
      "Epoch [115/150], Training MAE: 0.2544, Training RMSE: 0.3786\n",
      "Epoch [115/150], Validation MAE: 0.2381, Validation RMSE: 0.3590\n"
     ]
    },
    {
     "name": "stderr",
     "output_type": "stream",
     "text": [
      "Epoch 116/150: 100%|██████████| 205/205 [00:05<00:00, 37.40batch/s, mae_loss=0.0954]\n"
     ]
    },
    {
     "name": "stdout",
     "output_type": "stream",
     "text": [
      "Epoch [116/150], Training MAE: 0.2536, Training RMSE: 0.3767\n",
      "Epoch [116/150], Validation MAE: 0.2375, Validation RMSE: 0.3585\n"
     ]
    },
    {
     "name": "stderr",
     "output_type": "stream",
     "text": [
      "Epoch 117/150: 100%|██████████| 205/205 [00:05<00:00, 38.03batch/s, mae_loss=0.0948]\n"
     ]
    },
    {
     "name": "stdout",
     "output_type": "stream",
     "text": [
      "Epoch [117/150], Training MAE: 0.2533, Training RMSE: 0.3769\n",
      "Epoch [117/150], Validation MAE: 0.2373, Validation RMSE: 0.3584\n"
     ]
    },
    {
     "name": "stderr",
     "output_type": "stream",
     "text": [
      "Epoch 118/150: 100%|██████████| 205/205 [00:05<00:00, 37.45batch/s, mae_loss=0.111] \n"
     ]
    },
    {
     "name": "stdout",
     "output_type": "stream",
     "text": [
      "Epoch [118/150], Training MAE: 0.2532, Training RMSE: 0.3765\n",
      "Epoch [118/150], Validation MAE: 0.2373, Validation RMSE: 0.3587\n"
     ]
    },
    {
     "name": "stderr",
     "output_type": "stream",
     "text": [
      "Epoch 119/150: 100%|██████████| 205/205 [00:06<00:00, 34.03batch/s, mae_loss=0.0922]\n"
     ]
    },
    {
     "name": "stdout",
     "output_type": "stream",
     "text": [
      "Epoch [119/150], Training MAE: 0.2531, Training RMSE: 0.3763\n",
      "Epoch [119/150], Validation MAE: 0.2372, Validation RMSE: 0.3584\n"
     ]
    },
    {
     "name": "stderr",
     "output_type": "stream",
     "text": [
      "Epoch 120/150: 100%|██████████| 205/205 [00:05<00:00, 36.80batch/s, mae_loss=0.095] \n"
     ]
    },
    {
     "name": "stdout",
     "output_type": "stream",
     "text": [
      "Epoch [120/150], Training MAE: 0.2530, Training RMSE: 0.3769\n",
      "Epoch [120/150], Validation MAE: 0.2380, Validation RMSE: 0.3591\n"
     ]
    },
    {
     "name": "stderr",
     "output_type": "stream",
     "text": [
      "Epoch 121/150: 100%|██████████| 205/205 [00:05<00:00, 37.72batch/s, mae_loss=0.112] \n"
     ]
    },
    {
     "name": "stdout",
     "output_type": "stream",
     "text": [
      "Epoch [121/150], Training MAE: 0.2533, Training RMSE: 0.3760\n",
      "Epoch [121/150], Validation MAE: 0.2383, Validation RMSE: 0.3596\n"
     ]
    },
    {
     "name": "stderr",
     "output_type": "stream",
     "text": [
      "Epoch 122/150: 100%|██████████| 205/205 [00:05<00:00, 37.58batch/s, mae_loss=0.0909]\n"
     ]
    },
    {
     "name": "stdout",
     "output_type": "stream",
     "text": [
      "Epoch [122/150], Training MAE: 0.2523, Training RMSE: 0.3749\n",
      "Epoch [122/150], Validation MAE: 0.2376, Validation RMSE: 0.3583\n"
     ]
    },
    {
     "name": "stderr",
     "output_type": "stream",
     "text": [
      "Epoch 123/150: 100%|██████████| 205/205 [00:05<00:00, 37.61batch/s, mae_loss=0.0979]\n"
     ]
    },
    {
     "name": "stdout",
     "output_type": "stream",
     "text": [
      "Epoch [123/150], Training MAE: 0.2527, Training RMSE: 0.3760\n",
      "Epoch [123/150], Validation MAE: 0.2379, Validation RMSE: 0.3593\n"
     ]
    },
    {
     "name": "stderr",
     "output_type": "stream",
     "text": [
      "Epoch 124/150: 100%|██████████| 205/205 [00:05<00:00, 37.66batch/s, mae_loss=0.0849]\n"
     ]
    },
    {
     "name": "stdout",
     "output_type": "stream",
     "text": [
      "Epoch [124/150], Training MAE: 0.2524, Training RMSE: 0.3764\n",
      "Epoch [124/150], Validation MAE: 0.2382, Validation RMSE: 0.3590\n"
     ]
    },
    {
     "name": "stderr",
     "output_type": "stream",
     "text": [
      "Epoch 125/150: 100%|██████████| 205/205 [00:05<00:00, 35.74batch/s, mae_loss=0.0941]\n"
     ]
    },
    {
     "name": "stdout",
     "output_type": "stream",
     "text": [
      "Epoch [125/150], Training MAE: 0.2523, Training RMSE: 0.3767\n",
      "Epoch [125/150], Validation MAE: 0.2376, Validation RMSE: 0.3588\n"
     ]
    },
    {
     "name": "stderr",
     "output_type": "stream",
     "text": [
      "Epoch 126/150: 100%|██████████| 205/205 [00:05<00:00, 34.54batch/s, mae_loss=0.0904]\n"
     ]
    },
    {
     "name": "stdout",
     "output_type": "stream",
     "text": [
      "Epoch [126/150], Training MAE: 0.2516, Training RMSE: 0.3742\n",
      "Epoch [126/150], Validation MAE: 0.2369, Validation RMSE: 0.3581\n"
     ]
    },
    {
     "name": "stderr",
     "output_type": "stream",
     "text": [
      "Epoch 127/150: 100%|██████████| 205/205 [00:05<00:00, 37.59batch/s, mae_loss=0.0893]\n"
     ]
    },
    {
     "name": "stdout",
     "output_type": "stream",
     "text": [
      "Epoch [127/150], Training MAE: 0.2521, Training RMSE: 0.3751\n",
      "Epoch [127/150], Validation MAE: 0.2373, Validation RMSE: 0.3584\n"
     ]
    },
    {
     "name": "stderr",
     "output_type": "stream",
     "text": [
      "Epoch 128/150: 100%|██████████| 205/205 [00:05<00:00, 37.38batch/s, mae_loss=0.099] \n"
     ]
    },
    {
     "name": "stdout",
     "output_type": "stream",
     "text": [
      "Epoch [128/150], Training MAE: 0.2518, Training RMSE: 0.3749\n",
      "Epoch [128/150], Validation MAE: 0.2359, Validation RMSE: 0.3578\n"
     ]
    },
    {
     "name": "stderr",
     "output_type": "stream",
     "text": [
      "Epoch 129/150: 100%|██████████| 205/205 [00:05<00:00, 37.67batch/s, mae_loss=0.0811]\n"
     ]
    },
    {
     "name": "stdout",
     "output_type": "stream",
     "text": [
      "Epoch [129/150], Training MAE: 0.2520, Training RMSE: 0.3748\n",
      "Epoch [129/150], Validation MAE: 0.2382, Validation RMSE: 0.3591\n"
     ]
    },
    {
     "name": "stderr",
     "output_type": "stream",
     "text": [
      "Epoch 130/150: 100%|██████████| 205/205 [00:05<00:00, 34.63batch/s, mae_loss=0.0927]\n"
     ]
    },
    {
     "name": "stdout",
     "output_type": "stream",
     "text": [
      "Epoch [130/150], Training MAE: 0.2516, Training RMSE: 0.3744\n",
      "Epoch [130/150], Validation MAE: 0.2366, Validation RMSE: 0.3583\n"
     ]
    },
    {
     "name": "stderr",
     "output_type": "stream",
     "text": [
      "Epoch 131/150: 100%|██████████| 205/205 [00:05<00:00, 37.98batch/s, mae_loss=0.0802]\n"
     ]
    },
    {
     "name": "stdout",
     "output_type": "stream",
     "text": [
      "Epoch [131/150], Training MAE: 0.2516, Training RMSE: 0.3744\n",
      "Epoch [131/150], Validation MAE: 0.2367, Validation RMSE: 0.3579\n"
     ]
    },
    {
     "name": "stderr",
     "output_type": "stream",
     "text": [
      "Epoch 132/150: 100%|██████████| 205/205 [00:05<00:00, 37.54batch/s, mae_loss=0.0935]\n"
     ]
    },
    {
     "name": "stdout",
     "output_type": "stream",
     "text": [
      "Epoch [132/150], Training MAE: 0.2508, Training RMSE: 0.3740\n",
      "Epoch [132/150], Validation MAE: 0.2389, Validation RMSE: 0.3594\n"
     ]
    },
    {
     "name": "stderr",
     "output_type": "stream",
     "text": [
      "Epoch 133/150: 100%|██████████| 205/205 [00:05<00:00, 37.78batch/s, mae_loss=0.0878]\n"
     ]
    },
    {
     "name": "stdout",
     "output_type": "stream",
     "text": [
      "Epoch [133/150], Training MAE: 0.2507, Training RMSE: 0.3744\n",
      "Epoch [133/150], Validation MAE: 0.2368, Validation RMSE: 0.3581\n"
     ]
    },
    {
     "name": "stderr",
     "output_type": "stream",
     "text": [
      "Epoch 134/150: 100%|██████████| 205/205 [00:05<00:00, 37.47batch/s, mae_loss=0.0984]\n"
     ]
    },
    {
     "name": "stdout",
     "output_type": "stream",
     "text": [
      "Epoch [134/150], Training MAE: 0.2508, Training RMSE: 0.3746\n",
      "Epoch [134/150], Validation MAE: 0.2360, Validation RMSE: 0.3577\n"
     ]
    },
    {
     "name": "stderr",
     "output_type": "stream",
     "text": [
      "Epoch 135/150: 100%|██████████| 205/205 [00:05<00:00, 35.04batch/s, mae_loss=0.0903]\n"
     ]
    },
    {
     "name": "stdout",
     "output_type": "stream",
     "text": [
      "Epoch [135/150], Training MAE: 0.2513, Training RMSE: 0.3745\n",
      "Epoch [135/150], Validation MAE: 0.2385, Validation RMSE: 0.3597\n"
     ]
    },
    {
     "name": "stderr",
     "output_type": "stream",
     "text": [
      "Epoch 136/150: 100%|██████████| 205/205 [00:05<00:00, 36.26batch/s, mae_loss=0.0869]\n"
     ]
    },
    {
     "name": "stdout",
     "output_type": "stream",
     "text": [
      "Epoch [136/150], Training MAE: 0.2508, Training RMSE: 0.3748\n",
      "Epoch [136/150], Validation MAE: 0.2374, Validation RMSE: 0.3584\n"
     ]
    },
    {
     "name": "stderr",
     "output_type": "stream",
     "text": [
      "Epoch 137/150: 100%|██████████| 205/205 [00:05<00:00, 37.13batch/s, mae_loss=0.0914]\n"
     ]
    },
    {
     "name": "stdout",
     "output_type": "stream",
     "text": [
      "Epoch [137/150], Training MAE: 0.2505, Training RMSE: 0.3735\n",
      "Epoch [137/150], Validation MAE: 0.2385, Validation RMSE: 0.3591\n"
     ]
    },
    {
     "name": "stderr",
     "output_type": "stream",
     "text": [
      "Epoch 138/150: 100%|██████████| 205/205 [00:05<00:00, 37.47batch/s, mae_loss=0.103] \n"
     ]
    },
    {
     "name": "stdout",
     "output_type": "stream",
     "text": [
      "Epoch [138/150], Training MAE: 0.2505, Training RMSE: 0.3730\n",
      "Epoch [138/150], Validation MAE: 0.2371, Validation RMSE: 0.3584\n"
     ]
    },
    {
     "name": "stderr",
     "output_type": "stream",
     "text": [
      "Epoch 139/150: 100%|██████████| 205/205 [00:05<00:00, 37.51batch/s, mae_loss=0.0918]\n"
     ]
    },
    {
     "name": "stdout",
     "output_type": "stream",
     "text": [
      "Epoch [139/150], Training MAE: 0.2502, Training RMSE: 0.3733\n",
      "Epoch [139/150], Validation MAE: 0.2377, Validation RMSE: 0.3590\n"
     ]
    },
    {
     "name": "stderr",
     "output_type": "stream",
     "text": [
      "Epoch 140/150: 100%|██████████| 205/205 [00:05<00:00, 36.32batch/s, mae_loss=0.107] \n"
     ]
    },
    {
     "name": "stdout",
     "output_type": "stream",
     "text": [
      "Epoch [140/150], Training MAE: 0.2505, Training RMSE: 0.3742\n",
      "Epoch [140/150], Validation MAE: 0.2376, Validation RMSE: 0.3584\n"
     ]
    },
    {
     "name": "stderr",
     "output_type": "stream",
     "text": [
      "Epoch 141/150: 100%|██████████| 205/205 [00:05<00:00, 35.18batch/s, mae_loss=0.0909]\n"
     ]
    },
    {
     "name": "stdout",
     "output_type": "stream",
     "text": [
      "Epoch [141/150], Training MAE: 0.2505, Training RMSE: 0.3738\n",
      "Epoch [141/150], Validation MAE: 0.2376, Validation RMSE: 0.3588\n"
     ]
    },
    {
     "name": "stderr",
     "output_type": "stream",
     "text": [
      "Epoch 142/150: 100%|██████████| 205/205 [00:05<00:00, 37.45batch/s, mae_loss=0.0983]\n"
     ]
    },
    {
     "name": "stdout",
     "output_type": "stream",
     "text": [
      "Epoch [142/150], Training MAE: 0.2497, Training RMSE: 0.3732\n",
      "Epoch [142/150], Validation MAE: 0.2380, Validation RMSE: 0.3592\n"
     ]
    },
    {
     "name": "stderr",
     "output_type": "stream",
     "text": [
      "Epoch 143/150: 100%|██████████| 205/205 [00:05<00:00, 37.40batch/s, mae_loss=0.0794]\n"
     ]
    },
    {
     "name": "stdout",
     "output_type": "stream",
     "text": [
      "Epoch [143/150], Training MAE: 0.2494, Training RMSE: 0.3724\n",
      "Epoch [143/150], Validation MAE: 0.2371, Validation RMSE: 0.3588\n"
     ]
    },
    {
     "name": "stderr",
     "output_type": "stream",
     "text": [
      "Epoch 144/150: 100%|██████████| 205/205 [00:05<00:00, 37.46batch/s, mae_loss=0.0865]\n"
     ]
    },
    {
     "name": "stdout",
     "output_type": "stream",
     "text": [
      "Epoch [144/150], Training MAE: 0.2500, Training RMSE: 0.3734\n",
      "Epoch [144/150], Validation MAE: 0.2375, Validation RMSE: 0.3589\n"
     ]
    },
    {
     "name": "stderr",
     "output_type": "stream",
     "text": [
      "Epoch 145/150: 100%|██████████| 205/205 [00:05<00:00, 34.62batch/s, mae_loss=0.0924]\n"
     ]
    },
    {
     "name": "stdout",
     "output_type": "stream",
     "text": [
      "Epoch [145/150], Training MAE: 0.2496, Training RMSE: 0.3735\n",
      "Epoch [145/150], Validation MAE: 0.2372, Validation RMSE: 0.3587\n"
     ]
    },
    {
     "name": "stderr",
     "output_type": "stream",
     "text": [
      "Epoch 146/150: 100%|██████████| 205/205 [00:05<00:00, 36.69batch/s, mae_loss=0.0861]\n"
     ]
    },
    {
     "name": "stdout",
     "output_type": "stream",
     "text": [
      "Epoch [146/150], Training MAE: 0.2494, Training RMSE: 0.3718\n",
      "Epoch [146/150], Validation MAE: 0.2368, Validation RMSE: 0.3582\n"
     ]
    },
    {
     "name": "stderr",
     "output_type": "stream",
     "text": [
      "Epoch 147/150: 100%|██████████| 205/205 [00:05<00:00, 37.79batch/s, mae_loss=0.0852]\n"
     ]
    },
    {
     "name": "stdout",
     "output_type": "stream",
     "text": [
      "Epoch [147/150], Training MAE: 0.2483, Training RMSE: 0.3712\n",
      "Epoch [147/150], Validation MAE: 0.2367, Validation RMSE: 0.3586\n"
     ]
    },
    {
     "name": "stderr",
     "output_type": "stream",
     "text": [
      "Epoch 148/150: 100%|██████████| 205/205 [00:05<00:00, 37.27batch/s, mae_loss=0.0967]\n"
     ]
    },
    {
     "name": "stdout",
     "output_type": "stream",
     "text": [
      "Epoch [148/150], Training MAE: 0.2499, Training RMSE: 0.3730\n",
      "Epoch [148/150], Validation MAE: 0.2370, Validation RMSE: 0.3585\n"
     ]
    },
    {
     "name": "stderr",
     "output_type": "stream",
     "text": [
      "Epoch 149/150: 100%|██████████| 205/205 [00:05<00:00, 37.54batch/s, mae_loss=0.0936]\n"
     ]
    },
    {
     "name": "stdout",
     "output_type": "stream",
     "text": [
      "Epoch [149/150], Training MAE: 0.2486, Training RMSE: 0.3715\n",
      "Epoch [149/150], Validation MAE: 0.2369, Validation RMSE: 0.3586\n"
     ]
    },
    {
     "name": "stderr",
     "output_type": "stream",
     "text": [
      "Epoch 150/150: 100%|██████████| 205/205 [00:05<00:00, 37.33batch/s, mae_loss=0.101] \n"
     ]
    },
    {
     "name": "stdout",
     "output_type": "stream",
     "text": [
      "Epoch [150/150], Training MAE: 0.2492, Training RMSE: 0.3725\n",
      "Epoch [150/150], Validation MAE: 0.2376, Validation RMSE: 0.3586\n",
      "End Prediction Horizon of 6 of shared-layer Model\n",
      "model_shared-layer_attention_6_1 saved\n",
      "Shape of X (features): (3, 13081, 12)\n",
      "Shape of y (targets): (3, 13081)\n",
      "Shape of X_test (features): (3, 2863, 12)\n",
      "Shape of y_test (targets): (3, 2863)\n"
     ]
    },
    {
     "name": "stderr",
     "output_type": "stream",
     "text": [
      "Epoch 1/150: 100%|██████████| 205/205 [00:07<00:00, 26.03batch/s, mae_loss=0.395]\n"
     ]
    },
    {
     "name": "stdout",
     "output_type": "stream",
     "text": [
      "Epoch [1/150], Training MAE: 0.6726, Training RMSE: 0.8735\n",
      "Epoch [1/150], Validation MAE: 0.6025, Validation RMSE: 0.7979\n"
     ]
    },
    {
     "name": "stderr",
     "output_type": "stream",
     "text": [
      "Epoch 2/150: 100%|██████████| 205/205 [00:07<00:00, 28.27batch/s, mae_loss=0.244]\n"
     ]
    },
    {
     "name": "stdout",
     "output_type": "stream",
     "text": [
      "Epoch [2/150], Training MAE: 0.5550, Training RMSE: 0.7291\n",
      "Epoch [2/150], Validation MAE: 0.4816, Validation RMSE: 0.6417\n"
     ]
    },
    {
     "name": "stderr",
     "output_type": "stream",
     "text": [
      "Epoch 3/150: 100%|██████████| 205/205 [00:07<00:00, 26.10batch/s, mae_loss=0.157]\n"
     ]
    },
    {
     "name": "stdout",
     "output_type": "stream",
     "text": [
      "Epoch [3/150], Training MAE: 0.4538, Training RMSE: 0.6104\n",
      "Epoch [3/150], Validation MAE: 0.3927, Validation RMSE: 0.5360\n"
     ]
    },
    {
     "name": "stderr",
     "output_type": "stream",
     "text": [
      "Epoch 4/150: 100%|██████████| 205/205 [00:07<00:00, 27.82batch/s, mae_loss=0.139]\n"
     ]
    },
    {
     "name": "stdout",
     "output_type": "stream",
     "text": [
      "Epoch [4/150], Training MAE: 0.4087, Training RMSE: 0.5676\n",
      "Epoch [4/150], Validation MAE: 0.3696, Validation RMSE: 0.5082\n"
     ]
    },
    {
     "name": "stderr",
     "output_type": "stream",
     "text": [
      "Epoch 5/150: 100%|██████████| 205/205 [00:07<00:00, 28.03batch/s, mae_loss=0.138]\n"
     ]
    },
    {
     "name": "stdout",
     "output_type": "stream",
     "text": [
      "Epoch [5/150], Training MAE: 0.3935, Training RMSE: 0.5538\n",
      "Epoch [5/150], Validation MAE: 0.3581, Validation RMSE: 0.4938\n"
     ]
    },
    {
     "name": "stderr",
     "output_type": "stream",
     "text": [
      "Epoch 6/150: 100%|██████████| 205/205 [00:07<00:00, 27.89batch/s, mae_loss=0.142]\n"
     ]
    },
    {
     "name": "stdout",
     "output_type": "stream",
     "text": [
      "Epoch [6/150], Training MAE: 0.3824, Training RMSE: 0.5402\n",
      "Epoch [6/150], Validation MAE: 0.3479, Validation RMSE: 0.4810\n"
     ]
    },
    {
     "name": "stderr",
     "output_type": "stream",
     "text": [
      "Epoch 7/150: 100%|██████████| 205/205 [00:07<00:00, 28.03batch/s, mae_loss=0.146]\n"
     ]
    },
    {
     "name": "stdout",
     "output_type": "stream",
     "text": [
      "Epoch [7/150], Training MAE: 0.3735, Training RMSE: 0.5288\n",
      "Epoch [7/150], Validation MAE: 0.3387, Validation RMSE: 0.4697\n"
     ]
    },
    {
     "name": "stderr",
     "output_type": "stream",
     "text": [
      "Epoch 8/150: 100%|██████████| 205/205 [00:07<00:00, 28.32batch/s, mae_loss=0.11] \n"
     ]
    },
    {
     "name": "stdout",
     "output_type": "stream",
     "text": [
      "Epoch [8/150], Training MAE: 0.3641, Training RMSE: 0.5167\n",
      "Epoch [8/150], Validation MAE: 0.3297, Validation RMSE: 0.4584\n"
     ]
    },
    {
     "name": "stderr",
     "output_type": "stream",
     "text": [
      "Epoch 9/150: 100%|██████████| 205/205 [00:07<00:00, 26.60batch/s, mae_loss=0.132] \n"
     ]
    },
    {
     "name": "stdout",
     "output_type": "stream",
     "text": [
      "Epoch [9/150], Training MAE: 0.3552, Training RMSE: 0.5045\n",
      "Epoch [9/150], Validation MAE: 0.3191, Validation RMSE: 0.4457\n"
     ]
    },
    {
     "name": "stderr",
     "output_type": "stream",
     "text": [
      "Epoch 10/150: 100%|██████████| 205/205 [00:07<00:00, 26.15batch/s, mae_loss=0.123]\n"
     ]
    },
    {
     "name": "stdout",
     "output_type": "stream",
     "text": [
      "Epoch [10/150], Training MAE: 0.3456, Training RMSE: 0.4910\n",
      "Epoch [10/150], Validation MAE: 0.3105, Validation RMSE: 0.4347\n"
     ]
    },
    {
     "name": "stderr",
     "output_type": "stream",
     "text": [
      "Epoch 11/150: 100%|██████████| 205/205 [00:07<00:00, 27.60batch/s, mae_loss=0.135]\n"
     ]
    },
    {
     "name": "stdout",
     "output_type": "stream",
     "text": [
      "Epoch [11/150], Training MAE: 0.3368, Training RMSE: 0.4807\n",
      "Epoch [11/150], Validation MAE: 0.3020, Validation RMSE: 0.4238\n"
     ]
    },
    {
     "name": "stderr",
     "output_type": "stream",
     "text": [
      "Epoch 12/150: 100%|██████████| 205/205 [00:07<00:00, 28.31batch/s, mae_loss=0.128]\n"
     ]
    },
    {
     "name": "stdout",
     "output_type": "stream",
     "text": [
      "Epoch [12/150], Training MAE: 0.3289, Training RMSE: 0.4693\n",
      "Epoch [12/150], Validation MAE: 0.2946, Validation RMSE: 0.4139\n"
     ]
    },
    {
     "name": "stderr",
     "output_type": "stream",
     "text": [
      "Epoch 13/150: 100%|██████████| 205/205 [00:07<00:00, 28.25batch/s, mae_loss=0.122]\n"
     ]
    },
    {
     "name": "stdout",
     "output_type": "stream",
     "text": [
      "Epoch [13/150], Training MAE: 0.3220, Training RMSE: 0.4600\n",
      "Epoch [13/150], Validation MAE: 0.2874, Validation RMSE: 0.4047\n"
     ]
    },
    {
     "name": "stderr",
     "output_type": "stream",
     "text": [
      "Epoch 14/150: 100%|██████████| 205/205 [00:07<00:00, 27.87batch/s, mae_loss=0.125] \n"
     ]
    },
    {
     "name": "stdout",
     "output_type": "stream",
     "text": [
      "Epoch [14/150], Training MAE: 0.3143, Training RMSE: 0.4506\n",
      "Epoch [14/150], Validation MAE: 0.2808, Validation RMSE: 0.3961\n"
     ]
    },
    {
     "name": "stderr",
     "output_type": "stream",
     "text": [
      "Epoch 15/150: 100%|██████████| 205/205 [00:07<00:00, 28.20batch/s, mae_loss=0.124]\n"
     ]
    },
    {
     "name": "stdout",
     "output_type": "stream",
     "text": [
      "Epoch [15/150], Training MAE: 0.3092, Training RMSE: 0.4447\n",
      "Epoch [15/150], Validation MAE: 0.2758, Validation RMSE: 0.3893\n"
     ]
    },
    {
     "name": "stderr",
     "output_type": "stream",
     "text": [
      "Epoch 16/150: 100%|██████████| 205/205 [00:07<00:00, 27.89batch/s, mae_loss=0.108] \n"
     ]
    },
    {
     "name": "stdout",
     "output_type": "stream",
     "text": [
      "Epoch [16/150], Training MAE: 0.3051, Training RMSE: 0.4383\n",
      "Epoch [16/150], Validation MAE: 0.2704, Validation RMSE: 0.3828\n"
     ]
    },
    {
     "name": "stderr",
     "output_type": "stream",
     "text": [
      "Epoch 17/150: 100%|██████████| 205/205 [00:07<00:00, 27.48batch/s, mae_loss=0.117] \n"
     ]
    },
    {
     "name": "stdout",
     "output_type": "stream",
     "text": [
      "Epoch [17/150], Training MAE: 0.3013, Training RMSE: 0.4336\n",
      "Epoch [17/150], Validation MAE: 0.2662, Validation RMSE: 0.3777\n"
     ]
    },
    {
     "name": "stderr",
     "output_type": "stream",
     "text": [
      "Epoch 18/150: 100%|██████████| 205/205 [00:07<00:00, 27.23batch/s, mae_loss=0.11]  \n"
     ]
    },
    {
     "name": "stdout",
     "output_type": "stream",
     "text": [
      "Epoch [18/150], Training MAE: 0.2960, Training RMSE: 0.4285\n",
      "Epoch [18/150], Validation MAE: 0.2621, Validation RMSE: 0.3728\n"
     ]
    },
    {
     "name": "stderr",
     "output_type": "stream",
     "text": [
      "Epoch 19/150: 100%|██████████| 205/205 [00:07<00:00, 25.92batch/s, mae_loss=0.128] \n"
     ]
    },
    {
     "name": "stdout",
     "output_type": "stream",
     "text": [
      "Epoch [19/150], Training MAE: 0.2932, Training RMSE: 0.4240\n",
      "Epoch [19/150], Validation MAE: 0.2582, Validation RMSE: 0.3687\n"
     ]
    },
    {
     "name": "stderr",
     "output_type": "stream",
     "text": [
      "Epoch 20/150: 100%|██████████| 205/205 [00:07<00:00, 28.38batch/s, mae_loss=0.0987]\n"
     ]
    },
    {
     "name": "stdout",
     "output_type": "stream",
     "text": [
      "Epoch [20/150], Training MAE: 0.2909, Training RMSE: 0.4210\n",
      "Epoch [20/150], Validation MAE: 0.2576, Validation RMSE: 0.3674\n"
     ]
    },
    {
     "name": "stderr",
     "output_type": "stream",
     "text": [
      "Epoch 21/150: 100%|██████████| 205/205 [00:07<00:00, 28.05batch/s, mae_loss=0.11]  \n"
     ]
    },
    {
     "name": "stdout",
     "output_type": "stream",
     "text": [
      "Epoch [21/150], Training MAE: 0.2867, Training RMSE: 0.4159\n",
      "Epoch [21/150], Validation MAE: 0.2540, Validation RMSE: 0.3638\n"
     ]
    },
    {
     "name": "stderr",
     "output_type": "stream",
     "text": [
      "Epoch 22/150: 100%|██████████| 205/205 [00:07<00:00, 27.89batch/s, mae_loss=0.0987]\n"
     ]
    },
    {
     "name": "stdout",
     "output_type": "stream",
     "text": [
      "Epoch [22/150], Training MAE: 0.2843, Training RMSE: 0.4129\n",
      "Epoch [22/150], Validation MAE: 0.2524, Validation RMSE: 0.3618\n"
     ]
    },
    {
     "name": "stderr",
     "output_type": "stream",
     "text": [
      "Epoch 23/150: 100%|██████████| 205/205 [00:07<00:00, 28.33batch/s, mae_loss=0.109] \n"
     ]
    },
    {
     "name": "stdout",
     "output_type": "stream",
     "text": [
      "Epoch [23/150], Training MAE: 0.2808, Training RMSE: 0.4100\n",
      "Epoch [23/150], Validation MAE: 0.2502, Validation RMSE: 0.3595\n"
     ]
    },
    {
     "name": "stderr",
     "output_type": "stream",
     "text": [
      "Epoch 24/150: 100%|██████████| 205/205 [00:07<00:00, 28.14batch/s, mae_loss=0.112] \n"
     ]
    },
    {
     "name": "stdout",
     "output_type": "stream",
     "text": [
      "Epoch [24/150], Training MAE: 0.2786, Training RMSE: 0.4060\n",
      "Epoch [24/150], Validation MAE: 0.2475, Validation RMSE: 0.3569\n"
     ]
    },
    {
     "name": "stderr",
     "output_type": "stream",
     "text": [
      "Epoch 25/150: 100%|██████████| 205/205 [00:07<00:00, 27.85batch/s, mae_loss=0.0974]\n"
     ]
    },
    {
     "name": "stdout",
     "output_type": "stream",
     "text": [
      "Epoch [25/150], Training MAE: 0.2757, Training RMSE: 0.4037\n",
      "Epoch [25/150], Validation MAE: 0.2464, Validation RMSE: 0.3553\n"
     ]
    },
    {
     "name": "stderr",
     "output_type": "stream",
     "text": [
      "Epoch 26/150: 100%|██████████| 205/205 [00:08<00:00, 25.17batch/s, mae_loss=0.112] \n"
     ]
    },
    {
     "name": "stdout",
     "output_type": "stream",
     "text": [
      "Epoch [26/150], Training MAE: 0.2755, Training RMSE: 0.4020\n",
      "Epoch [26/150], Validation MAE: 0.2441, Validation RMSE: 0.3535\n"
     ]
    },
    {
     "name": "stderr",
     "output_type": "stream",
     "text": [
      "Epoch 27/150: 100%|██████████| 205/205 [00:07<00:00, 28.02batch/s, mae_loss=0.108] \n"
     ]
    },
    {
     "name": "stdout",
     "output_type": "stream",
     "text": [
      "Epoch [27/150], Training MAE: 0.2733, Training RMSE: 0.4006\n",
      "Epoch [27/150], Validation MAE: 0.2412, Validation RMSE: 0.3512\n"
     ]
    },
    {
     "name": "stderr",
     "output_type": "stream",
     "text": [
      "Epoch 28/150: 100%|██████████| 205/205 [00:07<00:00, 28.27batch/s, mae_loss=0.113] \n"
     ]
    },
    {
     "name": "stdout",
     "output_type": "stream",
     "text": [
      "Epoch [28/150], Training MAE: 0.2718, Training RMSE: 0.3980\n",
      "Epoch [28/150], Validation MAE: 0.2410, Validation RMSE: 0.3506\n"
     ]
    },
    {
     "name": "stderr",
     "output_type": "stream",
     "text": [
      "Epoch 29/150: 100%|██████████| 205/205 [00:07<00:00, 28.01batch/s, mae_loss=0.0836]\n"
     ]
    },
    {
     "name": "stdout",
     "output_type": "stream",
     "text": [
      "Epoch [29/150], Training MAE: 0.2693, Training RMSE: 0.3955\n",
      "Epoch [29/150], Validation MAE: 0.2390, Validation RMSE: 0.3486\n"
     ]
    },
    {
     "name": "stderr",
     "output_type": "stream",
     "text": [
      "Epoch 30/150: 100%|██████████| 205/205 [00:07<00:00, 28.02batch/s, mae_loss=0.115] \n"
     ]
    },
    {
     "name": "stdout",
     "output_type": "stream",
     "text": [
      "Epoch [30/150], Training MAE: 0.2674, Training RMSE: 0.3936\n",
      "Epoch [30/150], Validation MAE: 0.2376, Validation RMSE: 0.3473\n"
     ]
    },
    {
     "name": "stderr",
     "output_type": "stream",
     "text": [
      "Epoch 31/150: 100%|██████████| 205/205 [00:07<00:00, 26.43batch/s, mae_loss=0.0973]\n"
     ]
    },
    {
     "name": "stdout",
     "output_type": "stream",
     "text": [
      "Epoch [31/150], Training MAE: 0.2663, Training RMSE: 0.3918\n",
      "Epoch [31/150], Validation MAE: 0.2369, Validation RMSE: 0.3463\n"
     ]
    },
    {
     "name": "stderr",
     "output_type": "stream",
     "text": [
      "Epoch 32/150: 100%|██████████| 205/205 [00:07<00:00, 27.70batch/s, mae_loss=0.101] \n"
     ]
    },
    {
     "name": "stdout",
     "output_type": "stream",
     "text": [
      "Epoch [32/150], Training MAE: 0.2645, Training RMSE: 0.3894\n",
      "Epoch [32/150], Validation MAE: 0.2349, Validation RMSE: 0.3443\n"
     ]
    },
    {
     "name": "stderr",
     "output_type": "stream",
     "text": [
      "Epoch 33/150: 100%|██████████| 205/205 [00:07<00:00, 27.88batch/s, mae_loss=0.0966]\n"
     ]
    },
    {
     "name": "stdout",
     "output_type": "stream",
     "text": [
      "Epoch [33/150], Training MAE: 0.2627, Training RMSE: 0.3876\n",
      "Epoch [33/150], Validation MAE: 0.2346, Validation RMSE: 0.3441\n"
     ]
    },
    {
     "name": "stderr",
     "output_type": "stream",
     "text": [
      "Epoch 34/150: 100%|██████████| 205/205 [00:08<00:00, 25.36batch/s, mae_loss=0.0889]\n"
     ]
    },
    {
     "name": "stdout",
     "output_type": "stream",
     "text": [
      "Epoch [34/150], Training MAE: 0.2615, Training RMSE: 0.3869\n",
      "Epoch [34/150], Validation MAE: 0.2344, Validation RMSE: 0.3438\n"
     ]
    },
    {
     "name": "stderr",
     "output_type": "stream",
     "text": [
      "Epoch 35/150: 100%|██████████| 205/205 [00:07<00:00, 28.13batch/s, mae_loss=0.107] \n"
     ]
    },
    {
     "name": "stdout",
     "output_type": "stream",
     "text": [
      "Epoch [35/150], Training MAE: 0.2617, Training RMSE: 0.3872\n",
      "Epoch [35/150], Validation MAE: 0.2330, Validation RMSE: 0.3425\n"
     ]
    },
    {
     "name": "stderr",
     "output_type": "stream",
     "text": [
      "Epoch 36/150: 100%|██████████| 205/205 [00:07<00:00, 27.91batch/s, mae_loss=0.0975]\n"
     ]
    },
    {
     "name": "stdout",
     "output_type": "stream",
     "text": [
      "Epoch [36/150], Training MAE: 0.2588, Training RMSE: 0.3835\n",
      "Epoch [36/150], Validation MAE: 0.2307, Validation RMSE: 0.3404\n"
     ]
    },
    {
     "name": "stderr",
     "output_type": "stream",
     "text": [
      "Epoch 37/150: 100%|██████████| 205/205 [00:07<00:00, 27.92batch/s, mae_loss=0.107] \n"
     ]
    },
    {
     "name": "stdout",
     "output_type": "stream",
     "text": [
      "Epoch [37/150], Training MAE: 0.2587, Training RMSE: 0.3844\n",
      "Epoch [37/150], Validation MAE: 0.2315, Validation RMSE: 0.3410\n"
     ]
    },
    {
     "name": "stderr",
     "output_type": "stream",
     "text": [
      "Epoch 38/150: 100%|██████████| 205/205 [00:07<00:00, 28.14batch/s, mae_loss=0.0946]\n"
     ]
    },
    {
     "name": "stdout",
     "output_type": "stream",
     "text": [
      "Epoch [38/150], Training MAE: 0.2576, Training RMSE: 0.3828\n",
      "Epoch [38/150], Validation MAE: 0.2305, Validation RMSE: 0.3404\n"
     ]
    },
    {
     "name": "stderr",
     "output_type": "stream",
     "text": [
      "Epoch 39/150: 100%|██████████| 205/205 [00:07<00:00, 28.21batch/s, mae_loss=0.102] \n"
     ]
    },
    {
     "name": "stdout",
     "output_type": "stream",
     "text": [
      "Epoch [39/150], Training MAE: 0.2567, Training RMSE: 0.3812\n",
      "Epoch [39/150], Validation MAE: 0.2288, Validation RMSE: 0.3391\n"
     ]
    },
    {
     "name": "stderr",
     "output_type": "stream",
     "text": [
      "Epoch 40/150: 100%|██████████| 205/205 [00:07<00:00, 26.21batch/s, mae_loss=0.0795]\n"
     ]
    },
    {
     "name": "stdout",
     "output_type": "stream",
     "text": [
      "Epoch [40/150], Training MAE: 0.2561, Training RMSE: 0.3802\n",
      "Epoch [40/150], Validation MAE: 0.2287, Validation RMSE: 0.3387\n"
     ]
    },
    {
     "name": "stderr",
     "output_type": "stream",
     "text": [
      "Epoch 41/150: 100%|██████████| 205/205 [00:07<00:00, 27.21batch/s, mae_loss=0.0924]\n"
     ]
    },
    {
     "name": "stdout",
     "output_type": "stream",
     "text": [
      "Epoch [41/150], Training MAE: 0.2553, Training RMSE: 0.3793\n",
      "Epoch [41/150], Validation MAE: 0.2278, Validation RMSE: 0.3381\n"
     ]
    },
    {
     "name": "stderr",
     "output_type": "stream",
     "text": [
      "Epoch 42/150: 100%|██████████| 205/205 [00:07<00:00, 26.48batch/s, mae_loss=0.097] \n"
     ]
    },
    {
     "name": "stdout",
     "output_type": "stream",
     "text": [
      "Epoch [42/150], Training MAE: 0.2545, Training RMSE: 0.3789\n",
      "Epoch [42/150], Validation MAE: 0.2271, Validation RMSE: 0.3378\n"
     ]
    },
    {
     "name": "stderr",
     "output_type": "stream",
     "text": [
      "Epoch 43/150: 100%|██████████| 205/205 [00:07<00:00, 27.94batch/s, mae_loss=0.0886]\n"
     ]
    },
    {
     "name": "stdout",
     "output_type": "stream",
     "text": [
      "Epoch [43/150], Training MAE: 0.2543, Training RMSE: 0.3790\n",
      "Epoch [43/150], Validation MAE: 0.2270, Validation RMSE: 0.3377\n"
     ]
    },
    {
     "name": "stderr",
     "output_type": "stream",
     "text": [
      "Epoch 44/150: 100%|██████████| 205/205 [00:07<00:00, 27.88batch/s, mae_loss=0.0896]\n"
     ]
    },
    {
     "name": "stdout",
     "output_type": "stream",
     "text": [
      "Epoch [44/150], Training MAE: 0.2518, Training RMSE: 0.3755\n",
      "Epoch [44/150], Validation MAE: 0.2274, Validation RMSE: 0.3374\n"
     ]
    },
    {
     "name": "stderr",
     "output_type": "stream",
     "text": [
      "Epoch 45/150: 100%|██████████| 205/205 [00:07<00:00, 27.97batch/s, mae_loss=0.0928]\n"
     ]
    },
    {
     "name": "stdout",
     "output_type": "stream",
     "text": [
      "Epoch [45/150], Training MAE: 0.2526, Training RMSE: 0.3766\n",
      "Epoch [45/150], Validation MAE: 0.2272, Validation RMSE: 0.3376\n"
     ]
    },
    {
     "name": "stderr",
     "output_type": "stream",
     "text": [
      "Epoch 46/150: 100%|██████████| 205/205 [00:07<00:00, 28.40batch/s, mae_loss=0.0873]\n"
     ]
    },
    {
     "name": "stdout",
     "output_type": "stream",
     "text": [
      "Epoch [46/150], Training MAE: 0.2517, Training RMSE: 0.3761\n",
      "Epoch [46/150], Validation MAE: 0.2265, Validation RMSE: 0.3372\n"
     ]
    },
    {
     "name": "stderr",
     "output_type": "stream",
     "text": [
      "Epoch 47/150: 100%|██████████| 205/205 [00:07<00:00, 28.10batch/s, mae_loss=0.0961]\n"
     ]
    },
    {
     "name": "stdout",
     "output_type": "stream",
     "text": [
      "Epoch [47/150], Training MAE: 0.2505, Training RMSE: 0.3738\n",
      "Epoch [47/150], Validation MAE: 0.2263, Validation RMSE: 0.3368\n"
     ]
    },
    {
     "name": "stderr",
     "output_type": "stream",
     "text": [
      "Epoch 48/150: 100%|██████████| 205/205 [00:07<00:00, 27.81batch/s, mae_loss=0.1]   \n"
     ]
    },
    {
     "name": "stdout",
     "output_type": "stream",
     "text": [
      "Epoch [48/150], Training MAE: 0.2507, Training RMSE: 0.3747\n",
      "Epoch [48/150], Validation MAE: 0.2258, Validation RMSE: 0.3365\n"
     ]
    },
    {
     "name": "stderr",
     "output_type": "stream",
     "text": [
      "Epoch 49/150: 100%|██████████| 205/205 [00:07<00:00, 28.02batch/s, mae_loss=0.081] \n"
     ]
    },
    {
     "name": "stdout",
     "output_type": "stream",
     "text": [
      "Epoch [49/150], Training MAE: 0.2500, Training RMSE: 0.3751\n",
      "Epoch [49/150], Validation MAE: 0.2254, Validation RMSE: 0.3364\n"
     ]
    },
    {
     "name": "stderr",
     "output_type": "stream",
     "text": [
      "Epoch 50/150: 100%|██████████| 205/205 [00:07<00:00, 26.27batch/s, mae_loss=0.101] \n"
     ]
    },
    {
     "name": "stdout",
     "output_type": "stream",
     "text": [
      "Epoch [50/150], Training MAE: 0.2490, Training RMSE: 0.3724\n",
      "Epoch [50/150], Validation MAE: 0.2248, Validation RMSE: 0.3358\n"
     ]
    },
    {
     "name": "stderr",
     "output_type": "stream",
     "text": [
      "Epoch 51/150: 100%|██████████| 205/205 [00:07<00:00, 27.89batch/s, mae_loss=0.0749]\n"
     ]
    },
    {
     "name": "stdout",
     "output_type": "stream",
     "text": [
      "Epoch [51/150], Training MAE: 0.2486, Training RMSE: 0.3724\n",
      "Epoch [51/150], Validation MAE: 0.2247, Validation RMSE: 0.3359\n"
     ]
    },
    {
     "name": "stderr",
     "output_type": "stream",
     "text": [
      "Epoch 52/150: 100%|██████████| 205/205 [00:07<00:00, 27.95batch/s, mae_loss=0.0911]\n"
     ]
    },
    {
     "name": "stdout",
     "output_type": "stream",
     "text": [
      "Epoch [52/150], Training MAE: 0.2484, Training RMSE: 0.3725\n",
      "Epoch [52/150], Validation MAE: 0.2247, Validation RMSE: 0.3361\n"
     ]
    },
    {
     "name": "stderr",
     "output_type": "stream",
     "text": [
      "Epoch 53/150: 100%|██████████| 205/205 [00:07<00:00, 28.37batch/s, mae_loss=0.0848]\n"
     ]
    },
    {
     "name": "stdout",
     "output_type": "stream",
     "text": [
      "Epoch [53/150], Training MAE: 0.2481, Training RMSE: 0.3719\n",
      "Epoch [53/150], Validation MAE: 0.2240, Validation RMSE: 0.3354\n"
     ]
    },
    {
     "name": "stderr",
     "output_type": "stream",
     "text": [
      "Epoch 54/150: 100%|██████████| 205/205 [00:07<00:00, 27.81batch/s, mae_loss=0.0772]\n"
     ]
    },
    {
     "name": "stdout",
     "output_type": "stream",
     "text": [
      "Epoch [54/150], Training MAE: 0.2469, Training RMSE: 0.3707\n",
      "Epoch [54/150], Validation MAE: 0.2233, Validation RMSE: 0.3351\n"
     ]
    },
    {
     "name": "stderr",
     "output_type": "stream",
     "text": [
      "Epoch 55/150: 100%|██████████| 205/205 [00:07<00:00, 28.11batch/s, mae_loss=0.106] \n"
     ]
    },
    {
     "name": "stdout",
     "output_type": "stream",
     "text": [
      "Epoch [55/150], Training MAE: 0.2462, Training RMSE: 0.3701\n",
      "Epoch [55/150], Validation MAE: 0.2226, Validation RMSE: 0.3344\n"
     ]
    },
    {
     "name": "stderr",
     "output_type": "stream",
     "text": [
      "Epoch 56/150: 100%|██████████| 205/205 [00:07<00:00, 26.55batch/s, mae_loss=0.0865]\n"
     ]
    },
    {
     "name": "stdout",
     "output_type": "stream",
     "text": [
      "Epoch [56/150], Training MAE: 0.2462, Training RMSE: 0.3698\n",
      "Epoch [56/150], Validation MAE: 0.2231, Validation RMSE: 0.3347\n"
     ]
    },
    {
     "name": "stderr",
     "output_type": "stream",
     "text": [
      "Epoch 57/150: 100%|██████████| 205/205 [00:07<00:00, 28.20batch/s, mae_loss=0.0863]\n"
     ]
    },
    {
     "name": "stdout",
     "output_type": "stream",
     "text": [
      "Epoch [57/150], Training MAE: 0.2463, Training RMSE: 0.3701\n",
      "Epoch [57/150], Validation MAE: 0.2224, Validation RMSE: 0.3345\n"
     ]
    },
    {
     "name": "stderr",
     "output_type": "stream",
     "text": [
      "Epoch 58/150: 100%|██████████| 205/205 [00:07<00:00, 26.65batch/s, mae_loss=0.105] \n"
     ]
    },
    {
     "name": "stdout",
     "output_type": "stream",
     "text": [
      "Epoch [58/150], Training MAE: 0.2452, Training RMSE: 0.3687\n",
      "Epoch [58/150], Validation MAE: 0.2227, Validation RMSE: 0.3344\n"
     ]
    },
    {
     "name": "stderr",
     "output_type": "stream",
     "text": [
      "Epoch 59/150: 100%|██████████| 205/205 [00:07<00:00, 27.79batch/s, mae_loss=0.0997]\n"
     ]
    },
    {
     "name": "stdout",
     "output_type": "stream",
     "text": [
      "Epoch [59/150], Training MAE: 0.2441, Training RMSE: 0.3677\n",
      "Epoch [59/150], Validation MAE: 0.2222, Validation RMSE: 0.3340\n"
     ]
    },
    {
     "name": "stderr",
     "output_type": "stream",
     "text": [
      "Epoch 60/150: 100%|██████████| 205/205 [00:07<00:00, 27.99batch/s, mae_loss=0.101] \n"
     ]
    },
    {
     "name": "stdout",
     "output_type": "stream",
     "text": [
      "Epoch [60/150], Training MAE: 0.2440, Training RMSE: 0.3669\n",
      "Epoch [60/150], Validation MAE: 0.2232, Validation RMSE: 0.3349\n"
     ]
    },
    {
     "name": "stderr",
     "output_type": "stream",
     "text": [
      "Epoch 61/150: 100%|██████████| 205/205 [00:07<00:00, 28.19batch/s, mae_loss=0.0789]\n"
     ]
    },
    {
     "name": "stdout",
     "output_type": "stream",
     "text": [
      "Epoch [61/150], Training MAE: 0.2437, Training RMSE: 0.3670\n",
      "Epoch [61/150], Validation MAE: 0.2218, Validation RMSE: 0.3339\n"
     ]
    },
    {
     "name": "stderr",
     "output_type": "stream",
     "text": [
      "Epoch 62/150: 100%|██████████| 205/205 [00:07<00:00, 27.88batch/s, mae_loss=0.0957]\n"
     ]
    },
    {
     "name": "stdout",
     "output_type": "stream",
     "text": [
      "Epoch [62/150], Training MAE: 0.2441, Training RMSE: 0.3671\n",
      "Epoch [62/150], Validation MAE: 0.2222, Validation RMSE: 0.3342\n"
     ]
    },
    {
     "name": "stderr",
     "output_type": "stream",
     "text": [
      "Epoch 63/150: 100%|██████████| 205/205 [00:07<00:00, 26.14batch/s, mae_loss=0.0838]\n"
     ]
    },
    {
     "name": "stdout",
     "output_type": "stream",
     "text": [
      "Epoch [63/150], Training MAE: 0.2429, Training RMSE: 0.3662\n",
      "Epoch [63/150], Validation MAE: 0.2219, Validation RMSE: 0.3342\n"
     ]
    },
    {
     "name": "stderr",
     "output_type": "stream",
     "text": [
      "Epoch 64/150: 100%|██████████| 205/205 [00:07<00:00, 27.40batch/s, mae_loss=0.1]   \n"
     ]
    },
    {
     "name": "stdout",
     "output_type": "stream",
     "text": [
      "Epoch [64/150], Training MAE: 0.2440, Training RMSE: 0.3673\n",
      "Epoch [64/150], Validation MAE: 0.2218, Validation RMSE: 0.3338\n"
     ]
    },
    {
     "name": "stderr",
     "output_type": "stream",
     "text": [
      "Epoch 65/150: 100%|██████████| 205/205 [00:07<00:00, 27.88batch/s, mae_loss=0.0942]\n"
     ]
    },
    {
     "name": "stdout",
     "output_type": "stream",
     "text": [
      "Epoch [65/150], Training MAE: 0.2424, Training RMSE: 0.3659\n",
      "Epoch [65/150], Validation MAE: 0.2221, Validation RMSE: 0.3339\n"
     ]
    },
    {
     "name": "stderr",
     "output_type": "stream",
     "text": [
      "Epoch 66/150: 100%|██████████| 205/205 [00:07<00:00, 26.24batch/s, mae_loss=0.0926]\n"
     ]
    },
    {
     "name": "stdout",
     "output_type": "stream",
     "text": [
      "Epoch [66/150], Training MAE: 0.2419, Training RMSE: 0.3645\n",
      "Epoch [66/150], Validation MAE: 0.2209, Validation RMSE: 0.3332\n"
     ]
    },
    {
     "name": "stderr",
     "output_type": "stream",
     "text": [
      "Epoch 67/150: 100%|██████████| 205/205 [00:07<00:00, 28.10batch/s, mae_loss=0.0915]\n"
     ]
    },
    {
     "name": "stdout",
     "output_type": "stream",
     "text": [
      "Epoch [67/150], Training MAE: 0.2414, Training RMSE: 0.3640\n",
      "Epoch [67/150], Validation MAE: 0.2212, Validation RMSE: 0.3337\n"
     ]
    },
    {
     "name": "stderr",
     "output_type": "stream",
     "text": [
      "Epoch 68/150: 100%|██████████| 205/205 [00:07<00:00, 27.99batch/s, mae_loss=0.0859]\n"
     ]
    },
    {
     "name": "stdout",
     "output_type": "stream",
     "text": [
      "Epoch [68/150], Training MAE: 0.2416, Training RMSE: 0.3646\n",
      "Epoch [68/150], Validation MAE: 0.2214, Validation RMSE: 0.3337\n"
     ]
    },
    {
     "name": "stderr",
     "output_type": "stream",
     "text": [
      "Epoch 69/150: 100%|██████████| 205/205 [00:07<00:00, 28.03batch/s, mae_loss=0.0631]\n"
     ]
    },
    {
     "name": "stdout",
     "output_type": "stream",
     "text": [
      "Epoch [69/150], Training MAE: 0.2411, Training RMSE: 0.3651\n",
      "Epoch [69/150], Validation MAE: 0.2211, Validation RMSE: 0.3335\n"
     ]
    },
    {
     "name": "stderr",
     "output_type": "stream",
     "text": [
      "Epoch 70/150: 100%|██████████| 205/205 [00:07<00:00, 27.50batch/s, mae_loss=0.088] \n"
     ]
    },
    {
     "name": "stdout",
     "output_type": "stream",
     "text": [
      "Epoch [70/150], Training MAE: 0.2406, Training RMSE: 0.3633\n",
      "Epoch [70/150], Validation MAE: 0.2207, Validation RMSE: 0.3332\n"
     ]
    },
    {
     "name": "stderr",
     "output_type": "stream",
     "text": [
      "Epoch 71/150: 100%|██████████| 205/205 [00:07<00:00, 26.51batch/s, mae_loss=0.0925]\n"
     ]
    },
    {
     "name": "stdout",
     "output_type": "stream",
     "text": [
      "Epoch [71/150], Training MAE: 0.2398, Training RMSE: 0.3630\n",
      "Epoch [71/150], Validation MAE: 0.2209, Validation RMSE: 0.3335\n"
     ]
    },
    {
     "name": "stderr",
     "output_type": "stream",
     "text": [
      "Epoch 72/150: 100%|██████████| 205/205 [00:07<00:00, 28.09batch/s, mae_loss=0.0813]\n"
     ]
    },
    {
     "name": "stdout",
     "output_type": "stream",
     "text": [
      "Epoch [72/150], Training MAE: 0.2405, Training RMSE: 0.3636\n",
      "Epoch [72/150], Validation MAE: 0.2214, Validation RMSE: 0.3337\n"
     ]
    },
    {
     "name": "stderr",
     "output_type": "stream",
     "text": [
      "Epoch 73/150: 100%|██████████| 205/205 [00:07<00:00, 28.25batch/s, mae_loss=0.0918]\n"
     ]
    },
    {
     "name": "stdout",
     "output_type": "stream",
     "text": [
      "Epoch [73/150], Training MAE: 0.2395, Training RMSE: 0.3621\n",
      "Epoch [73/150], Validation MAE: 0.2204, Validation RMSE: 0.3328\n"
     ]
    },
    {
     "name": "stderr",
     "output_type": "stream",
     "text": [
      "Epoch 74/150: 100%|██████████| 205/205 [00:07<00:00, 26.52batch/s, mae_loss=0.0954]\n"
     ]
    },
    {
     "name": "stdout",
     "output_type": "stream",
     "text": [
      "Epoch [74/150], Training MAE: 0.2395, Training RMSE: 0.3625\n",
      "Epoch [74/150], Validation MAE: 0.2205, Validation RMSE: 0.3330\n"
     ]
    },
    {
     "name": "stderr",
     "output_type": "stream",
     "text": [
      "Epoch 75/150: 100%|██████████| 205/205 [00:07<00:00, 27.93batch/s, mae_loss=0.0681]\n"
     ]
    },
    {
     "name": "stdout",
     "output_type": "stream",
     "text": [
      "Epoch [75/150], Training MAE: 0.2389, Training RMSE: 0.3622\n",
      "Epoch [75/150], Validation MAE: 0.2212, Validation RMSE: 0.3338\n"
     ]
    },
    {
     "name": "stderr",
     "output_type": "stream",
     "text": [
      "Epoch 76/150: 100%|██████████| 205/205 [00:07<00:00, 28.07batch/s, mae_loss=0.0791]\n"
     ]
    },
    {
     "name": "stdout",
     "output_type": "stream",
     "text": [
      "Epoch [76/150], Training MAE: 0.2389, Training RMSE: 0.3621\n",
      "Epoch [76/150], Validation MAE: 0.2196, Validation RMSE: 0.3325\n"
     ]
    },
    {
     "name": "stderr",
     "output_type": "stream",
     "text": [
      "Epoch 77/150: 100%|██████████| 205/205 [00:07<00:00, 26.01batch/s, mae_loss=0.0866]\n"
     ]
    },
    {
     "name": "stdout",
     "output_type": "stream",
     "text": [
      "Epoch [77/150], Training MAE: 0.2381, Training RMSE: 0.3614\n",
      "Epoch [77/150], Validation MAE: 0.2198, Validation RMSE: 0.3326\n"
     ]
    },
    {
     "name": "stderr",
     "output_type": "stream",
     "text": [
      "Epoch 78/150: 100%|██████████| 205/205 [00:07<00:00, 27.32batch/s, mae_loss=0.0732]\n"
     ]
    },
    {
     "name": "stdout",
     "output_type": "stream",
     "text": [
      "Epoch [78/150], Training MAE: 0.2382, Training RMSE: 0.3614\n",
      "Epoch [78/150], Validation MAE: 0.2205, Validation RMSE: 0.3329\n"
     ]
    },
    {
     "name": "stderr",
     "output_type": "stream",
     "text": [
      "Epoch 79/150: 100%|██████████| 205/205 [00:07<00:00, 28.12batch/s, mae_loss=0.0922]\n"
     ]
    },
    {
     "name": "stdout",
     "output_type": "stream",
     "text": [
      "Epoch [79/150], Training MAE: 0.2377, Training RMSE: 0.3599\n",
      "Epoch [79/150], Validation MAE: 0.2194, Validation RMSE: 0.3320\n"
     ]
    },
    {
     "name": "stderr",
     "output_type": "stream",
     "text": [
      "Epoch 80/150: 100%|██████████| 205/205 [00:07<00:00, 27.61batch/s, mae_loss=0.103] \n"
     ]
    },
    {
     "name": "stdout",
     "output_type": "stream",
     "text": [
      "Epoch [80/150], Training MAE: 0.2379, Training RMSE: 0.3605\n",
      "Epoch [80/150], Validation MAE: 0.2190, Validation RMSE: 0.3317\n"
     ]
    },
    {
     "name": "stderr",
     "output_type": "stream",
     "text": [
      "Epoch 81/150: 100%|██████████| 205/205 [00:07<00:00, 28.03batch/s, mae_loss=0.0711]\n"
     ]
    },
    {
     "name": "stdout",
     "output_type": "stream",
     "text": [
      "Epoch [81/150], Training MAE: 0.2372, Training RMSE: 0.3597\n",
      "Epoch [81/150], Validation MAE: 0.2201, Validation RMSE: 0.3326\n"
     ]
    },
    {
     "name": "stderr",
     "output_type": "stream",
     "text": [
      "Epoch 82/150: 100%|██████████| 205/205 [00:07<00:00, 26.90batch/s, mae_loss=0.085] \n"
     ]
    },
    {
     "name": "stdout",
     "output_type": "stream",
     "text": [
      "Epoch [82/150], Training MAE: 0.2371, Training RMSE: 0.3595\n",
      "Epoch [82/150], Validation MAE: 0.2196, Validation RMSE: 0.3323\n"
     ]
    },
    {
     "name": "stderr",
     "output_type": "stream",
     "text": [
      "Epoch 83/150: 100%|██████████| 205/205 [00:07<00:00, 27.77batch/s, mae_loss=0.0708]\n"
     ]
    },
    {
     "name": "stdout",
     "output_type": "stream",
     "text": [
      "Epoch [83/150], Training MAE: 0.2369, Training RMSE: 0.3594\n",
      "Epoch [83/150], Validation MAE: 0.2197, Validation RMSE: 0.3325\n"
     ]
    },
    {
     "name": "stderr",
     "output_type": "stream",
     "text": [
      "Epoch 84/150: 100%|██████████| 205/205 [00:08<00:00, 25.59batch/s, mae_loss=0.074] \n"
     ]
    },
    {
     "name": "stdout",
     "output_type": "stream",
     "text": [
      "Epoch [84/150], Training MAE: 0.2364, Training RMSE: 0.3587\n",
      "Epoch [84/150], Validation MAE: 0.2193, Validation RMSE: 0.3320\n"
     ]
    },
    {
     "name": "stderr",
     "output_type": "stream",
     "text": [
      "Epoch 85/150: 100%|██████████| 205/205 [00:07<00:00, 27.56batch/s, mae_loss=0.0748]\n"
     ]
    },
    {
     "name": "stdout",
     "output_type": "stream",
     "text": [
      "Epoch [85/150], Training MAE: 0.2369, Training RMSE: 0.3595\n",
      "Epoch [85/150], Validation MAE: 0.2198, Validation RMSE: 0.3323\n"
     ]
    },
    {
     "name": "stderr",
     "output_type": "stream",
     "text": [
      "Epoch 86/150: 100%|██████████| 205/205 [00:07<00:00, 28.19batch/s, mae_loss=0.0766]\n"
     ]
    },
    {
     "name": "stdout",
     "output_type": "stream",
     "text": [
      "Epoch [86/150], Training MAE: 0.2363, Training RMSE: 0.3588\n",
      "Epoch [86/150], Validation MAE: 0.2198, Validation RMSE: 0.3324\n"
     ]
    },
    {
     "name": "stderr",
     "output_type": "stream",
     "text": [
      "Epoch 87/150: 100%|██████████| 205/205 [00:07<00:00, 28.08batch/s, mae_loss=0.0769]\n"
     ]
    },
    {
     "name": "stdout",
     "output_type": "stream",
     "text": [
      "Epoch [87/150], Training MAE: 0.2362, Training RMSE: 0.3586\n",
      "Epoch [87/150], Validation MAE: 0.2188, Validation RMSE: 0.3315\n"
     ]
    },
    {
     "name": "stderr",
     "output_type": "stream",
     "text": [
      "Epoch 88/150: 100%|██████████| 205/205 [00:07<00:00, 28.05batch/s, mae_loss=0.0897]\n"
     ]
    },
    {
     "name": "stdout",
     "output_type": "stream",
     "text": [
      "Epoch [88/150], Training MAE: 0.2353, Training RMSE: 0.3577\n",
      "Epoch [88/150], Validation MAE: 0.2188, Validation RMSE: 0.3315\n"
     ]
    },
    {
     "name": "stderr",
     "output_type": "stream",
     "text": [
      "Epoch 89/150: 100%|██████████| 205/205 [00:07<00:00, 28.26batch/s, mae_loss=0.0839]\n"
     ]
    },
    {
     "name": "stdout",
     "output_type": "stream",
     "text": [
      "Epoch [89/150], Training MAE: 0.2351, Training RMSE: 0.3580\n",
      "Epoch [89/150], Validation MAE: 0.2191, Validation RMSE: 0.3317\n"
     ]
    },
    {
     "name": "stderr",
     "output_type": "stream",
     "text": [
      "Epoch 90/150: 100%|██████████| 205/205 [00:07<00:00, 27.17batch/s, mae_loss=0.0764]\n"
     ]
    },
    {
     "name": "stdout",
     "output_type": "stream",
     "text": [
      "Epoch [90/150], Training MAE: 0.2353, Training RMSE: 0.3577\n",
      "Epoch [90/150], Validation MAE: 0.2191, Validation RMSE: 0.3317\n"
     ]
    },
    {
     "name": "stderr",
     "output_type": "stream",
     "text": [
      "Epoch 91/150: 100%|██████████| 205/205 [00:07<00:00, 27.22batch/s, mae_loss=0.0795]\n"
     ]
    },
    {
     "name": "stdout",
     "output_type": "stream",
     "text": [
      "Epoch [91/150], Training MAE: 0.2351, Training RMSE: 0.3576\n",
      "Epoch [91/150], Validation MAE: 0.2188, Validation RMSE: 0.3316\n"
     ]
    },
    {
     "name": "stderr",
     "output_type": "stream",
     "text": [
      "Epoch 92/150: 100%|██████████| 205/205 [00:07<00:00, 27.91batch/s, mae_loss=0.0769]\n"
     ]
    },
    {
     "name": "stdout",
     "output_type": "stream",
     "text": [
      "Epoch [92/150], Training MAE: 0.2351, Training RMSE: 0.3580\n",
      "Epoch [92/150], Validation MAE: 0.2192, Validation RMSE: 0.3321\n"
     ]
    },
    {
     "name": "stderr",
     "output_type": "stream",
     "text": [
      "Epoch 93/150: 100%|██████████| 205/205 [00:07<00:00, 25.75batch/s, mae_loss=0.0613]\n"
     ]
    },
    {
     "name": "stdout",
     "output_type": "stream",
     "text": [
      "Epoch [93/150], Training MAE: 0.2344, Training RMSE: 0.3570\n",
      "Epoch [93/150], Validation MAE: 0.2184, Validation RMSE: 0.3313\n"
     ]
    },
    {
     "name": "stderr",
     "output_type": "stream",
     "text": [
      "Epoch 94/150: 100%|██████████| 205/205 [00:07<00:00, 27.91batch/s, mae_loss=0.0908]\n"
     ]
    },
    {
     "name": "stdout",
     "output_type": "stream",
     "text": [
      "Epoch [94/150], Training MAE: 0.2351, Training RMSE: 0.3575\n",
      "Epoch [94/150], Validation MAE: 0.2177, Validation RMSE: 0.3309\n"
     ]
    },
    {
     "name": "stderr",
     "output_type": "stream",
     "text": [
      "Epoch 95/150: 100%|██████████| 205/205 [00:07<00:00, 27.97batch/s, mae_loss=0.0799]\n"
     ]
    },
    {
     "name": "stdout",
     "output_type": "stream",
     "text": [
      "Epoch [95/150], Training MAE: 0.2338, Training RMSE: 0.3567\n",
      "Epoch [95/150], Validation MAE: 0.2183, Validation RMSE: 0.3311\n"
     ]
    },
    {
     "name": "stderr",
     "output_type": "stream",
     "text": [
      "Epoch 96/150: 100%|██████████| 205/205 [00:07<00:00, 27.86batch/s, mae_loss=0.0751]\n"
     ]
    },
    {
     "name": "stdout",
     "output_type": "stream",
     "text": [
      "Epoch [96/150], Training MAE: 0.2343, Training RMSE: 0.3572\n",
      "Epoch [96/150], Validation MAE: 0.2188, Validation RMSE: 0.3315\n"
     ]
    },
    {
     "name": "stderr",
     "output_type": "stream",
     "text": [
      "Epoch 97/150: 100%|██████████| 205/205 [00:07<00:00, 28.16batch/s, mae_loss=0.0786]\n"
     ]
    },
    {
     "name": "stdout",
     "output_type": "stream",
     "text": [
      "Epoch [97/150], Training MAE: 0.2341, Training RMSE: 0.3562\n",
      "Epoch [97/150], Validation MAE: 0.2185, Validation RMSE: 0.3314\n"
     ]
    },
    {
     "name": "stderr",
     "output_type": "stream",
     "text": [
      "Epoch 98/150: 100%|██████████| 205/205 [00:07<00:00, 27.39batch/s, mae_loss=0.0738]\n"
     ]
    },
    {
     "name": "stdout",
     "output_type": "stream",
     "text": [
      "Epoch [98/150], Training MAE: 0.2334, Training RMSE: 0.3560\n",
      "Epoch [98/150], Validation MAE: 0.2179, Validation RMSE: 0.3309\n"
     ]
    },
    {
     "name": "stderr",
     "output_type": "stream",
     "text": [
      "Epoch 99/150: 100%|██████████| 205/205 [00:07<00:00, 26.59batch/s, mae_loss=0.0825]\n"
     ]
    },
    {
     "name": "stdout",
     "output_type": "stream",
     "text": [
      "Epoch [99/150], Training MAE: 0.2337, Training RMSE: 0.3562\n",
      "Epoch [99/150], Validation MAE: 0.2177, Validation RMSE: 0.3307\n"
     ]
    },
    {
     "name": "stderr",
     "output_type": "stream",
     "text": [
      "Epoch 100/150: 100%|██████████| 205/205 [00:08<00:00, 25.52batch/s, mae_loss=0.0756]\n"
     ]
    },
    {
     "name": "stdout",
     "output_type": "stream",
     "text": [
      "Epoch [100/150], Training MAE: 0.2333, Training RMSE: 0.3559\n",
      "Epoch [100/150], Validation MAE: 0.2180, Validation RMSE: 0.3311\n"
     ]
    },
    {
     "name": "stderr",
     "output_type": "stream",
     "text": [
      "Epoch 101/150: 100%|██████████| 205/205 [00:06<00:00, 29.67batch/s, mae_loss=0.0806]\n"
     ]
    },
    {
     "name": "stdout",
     "output_type": "stream",
     "text": [
      "Epoch [101/150], Training MAE: 0.2338, Training RMSE: 0.3560\n",
      "Epoch [101/150], Validation MAE: 0.2180, Validation RMSE: 0.3309\n"
     ]
    },
    {
     "name": "stderr",
     "output_type": "stream",
     "text": [
      "Epoch 102/150: 100%|██████████| 205/205 [00:06<00:00, 29.76batch/s, mae_loss=0.0773]\n"
     ]
    },
    {
     "name": "stdout",
     "output_type": "stream",
     "text": [
      "Epoch [102/150], Training MAE: 0.2325, Training RMSE: 0.3554\n",
      "Epoch [102/150], Validation MAE: 0.2182, Validation RMSE: 0.3311\n"
     ]
    },
    {
     "name": "stderr",
     "output_type": "stream",
     "text": [
      "Epoch 103/150: 100%|██████████| 205/205 [00:06<00:00, 29.74batch/s, mae_loss=0.0869]\n"
     ]
    },
    {
     "name": "stdout",
     "output_type": "stream",
     "text": [
      "Epoch [103/150], Training MAE: 0.2330, Training RMSE: 0.3546\n",
      "Epoch [103/150], Validation MAE: 0.2172, Validation RMSE: 0.3304\n"
     ]
    },
    {
     "name": "stderr",
     "output_type": "stream",
     "text": [
      "Epoch 104/150: 100%|██████████| 205/205 [00:06<00:00, 29.65batch/s, mae_loss=0.0812]\n"
     ]
    },
    {
     "name": "stdout",
     "output_type": "stream",
     "text": [
      "Epoch [104/150], Training MAE: 0.2326, Training RMSE: 0.3548\n",
      "Epoch [104/150], Validation MAE: 0.2173, Validation RMSE: 0.3300\n"
     ]
    },
    {
     "name": "stderr",
     "output_type": "stream",
     "text": [
      "Epoch 105/150: 100%|██████████| 205/205 [00:07<00:00, 28.77batch/s, mae_loss=0.075] \n"
     ]
    },
    {
     "name": "stdout",
     "output_type": "stream",
     "text": [
      "Epoch [105/150], Training MAE: 0.2322, Training RMSE: 0.3546\n",
      "Epoch [105/150], Validation MAE: 0.2171, Validation RMSE: 0.3301\n"
     ]
    },
    {
     "name": "stderr",
     "output_type": "stream",
     "text": [
      "Epoch 106/150: 100%|██████████| 205/205 [00:06<00:00, 29.74batch/s, mae_loss=0.0753]\n"
     ]
    },
    {
     "name": "stdout",
     "output_type": "stream",
     "text": [
      "Epoch [106/150], Training MAE: 0.2319, Training RMSE: 0.3545\n",
      "Epoch [106/150], Validation MAE: 0.2171, Validation RMSE: 0.3302\n"
     ]
    },
    {
     "name": "stderr",
     "output_type": "stream",
     "text": [
      "Epoch 107/150: 100%|██████████| 205/205 [00:07<00:00, 27.63batch/s, mae_loss=0.0802]\n"
     ]
    },
    {
     "name": "stdout",
     "output_type": "stream",
     "text": [
      "Epoch [107/150], Training MAE: 0.2315, Training RMSE: 0.3540\n",
      "Epoch [107/150], Validation MAE: 0.2175, Validation RMSE: 0.3302\n"
     ]
    },
    {
     "name": "stderr",
     "output_type": "stream",
     "text": [
      "Epoch 108/150: 100%|██████████| 205/205 [00:07<00:00, 27.53batch/s, mae_loss=0.0807]\n"
     ]
    },
    {
     "name": "stdout",
     "output_type": "stream",
     "text": [
      "Epoch [108/150], Training MAE: 0.2321, Training RMSE: 0.3539\n",
      "Epoch [108/150], Validation MAE: 0.2168, Validation RMSE: 0.3297\n"
     ]
    },
    {
     "name": "stderr",
     "output_type": "stream",
     "text": [
      "Epoch 109/150: 100%|██████████| 205/205 [00:06<00:00, 29.68batch/s, mae_loss=0.0676]\n"
     ]
    },
    {
     "name": "stdout",
     "output_type": "stream",
     "text": [
      "Epoch [109/150], Training MAE: 0.2314, Training RMSE: 0.3536\n",
      "Epoch [109/150], Validation MAE: 0.2176, Validation RMSE: 0.3305\n"
     ]
    },
    {
     "name": "stderr",
     "output_type": "stream",
     "text": [
      "Epoch 110/150: 100%|██████████| 205/205 [00:06<00:00, 29.78batch/s, mae_loss=0.0767]\n"
     ]
    },
    {
     "name": "stdout",
     "output_type": "stream",
     "text": [
      "Epoch [110/150], Training MAE: 0.2319, Training RMSE: 0.3535\n",
      "Epoch [110/150], Validation MAE: 0.2167, Validation RMSE: 0.3298\n"
     ]
    },
    {
     "name": "stderr",
     "output_type": "stream",
     "text": [
      "Epoch 111/150: 100%|██████████| 205/205 [00:06<00:00, 29.59batch/s, mae_loss=0.0758]\n"
     ]
    },
    {
     "name": "stdout",
     "output_type": "stream",
     "text": [
      "Epoch [111/150], Training MAE: 0.2313, Training RMSE: 0.3536\n",
      "Epoch [111/150], Validation MAE: 0.2166, Validation RMSE: 0.3298\n"
     ]
    },
    {
     "name": "stderr",
     "output_type": "stream",
     "text": [
      "Epoch 112/150: 100%|██████████| 205/205 [00:06<00:00, 29.51batch/s, mae_loss=0.071] \n"
     ]
    },
    {
     "name": "stdout",
     "output_type": "stream",
     "text": [
      "Epoch [112/150], Training MAE: 0.2303, Training RMSE: 0.3524\n",
      "Epoch [112/150], Validation MAE: 0.2163, Validation RMSE: 0.3293\n"
     ]
    },
    {
     "name": "stderr",
     "output_type": "stream",
     "text": [
      "Epoch 113/150: 100%|██████████| 205/205 [00:06<00:00, 29.56batch/s, mae_loss=0.0674]\n"
     ]
    },
    {
     "name": "stdout",
     "output_type": "stream",
     "text": [
      "Epoch [113/150], Training MAE: 0.2303, Training RMSE: 0.3525\n",
      "Epoch [113/150], Validation MAE: 0.2172, Validation RMSE: 0.3300\n"
     ]
    },
    {
     "name": "stderr",
     "output_type": "stream",
     "text": [
      "Epoch 114/150: 100%|██████████| 205/205 [00:06<00:00, 29.45batch/s, mae_loss=0.0731]\n"
     ]
    },
    {
     "name": "stdout",
     "output_type": "stream",
     "text": [
      "Epoch [114/150], Training MAE: 0.2301, Training RMSE: 0.3526\n",
      "Epoch [114/150], Validation MAE: 0.2171, Validation RMSE: 0.3300\n"
     ]
    },
    {
     "name": "stderr",
     "output_type": "stream",
     "text": [
      "Epoch 115/150: 100%|██████████| 205/205 [00:07<00:00, 26.99batch/s, mae_loss=0.0773]\n"
     ]
    },
    {
     "name": "stdout",
     "output_type": "stream",
     "text": [
      "Epoch [115/150], Training MAE: 0.2307, Training RMSE: 0.3524\n",
      "Epoch [115/150], Validation MAE: 0.2166, Validation RMSE: 0.3295\n"
     ]
    },
    {
     "name": "stderr",
     "output_type": "stream",
     "text": [
      "Epoch 116/150: 100%|██████████| 205/205 [00:07<00:00, 28.77batch/s, mae_loss=0.0806]\n"
     ]
    },
    {
     "name": "stdout",
     "output_type": "stream",
     "text": [
      "Epoch [116/150], Training MAE: 0.2305, Training RMSE: 0.3523\n",
      "Epoch [116/150], Validation MAE: 0.2166, Validation RMSE: 0.3296\n"
     ]
    },
    {
     "name": "stderr",
     "output_type": "stream",
     "text": [
      "Epoch 117/150: 100%|██████████| 205/205 [00:06<00:00, 29.97batch/s, mae_loss=0.0763]\n"
     ]
    },
    {
     "name": "stdout",
     "output_type": "stream",
     "text": [
      "Epoch [117/150], Training MAE: 0.2300, Training RMSE: 0.3517\n",
      "Epoch [117/150], Validation MAE: 0.2159, Validation RMSE: 0.3291\n"
     ]
    },
    {
     "name": "stderr",
     "output_type": "stream",
     "text": [
      "Epoch 118/150: 100%|██████████| 205/205 [00:06<00:00, 29.40batch/s, mae_loss=0.079] \n"
     ]
    },
    {
     "name": "stdout",
     "output_type": "stream",
     "text": [
      "Epoch [118/150], Training MAE: 0.2291, Training RMSE: 0.3510\n",
      "Epoch [118/150], Validation MAE: 0.2168, Validation RMSE: 0.3298\n"
     ]
    },
    {
     "name": "stderr",
     "output_type": "stream",
     "text": [
      "Epoch 119/150: 100%|██████████| 205/205 [00:06<00:00, 29.54batch/s, mae_loss=0.0801]\n"
     ]
    },
    {
     "name": "stdout",
     "output_type": "stream",
     "text": [
      "Epoch [119/150], Training MAE: 0.2300, Training RMSE: 0.3514\n",
      "Epoch [119/150], Validation MAE: 0.2164, Validation RMSE: 0.3292\n"
     ]
    },
    {
     "name": "stderr",
     "output_type": "stream",
     "text": [
      "Epoch 120/150: 100%|██████████| 205/205 [00:06<00:00, 29.75batch/s, mae_loss=0.0721]\n"
     ]
    },
    {
     "name": "stdout",
     "output_type": "stream",
     "text": [
      "Epoch [120/150], Training MAE: 0.2298, Training RMSE: 0.3513\n",
      "Epoch [120/150], Validation MAE: 0.2167, Validation RMSE: 0.3295\n"
     ]
    },
    {
     "name": "stderr",
     "output_type": "stream",
     "text": [
      "Epoch 121/150: 100%|██████████| 205/205 [00:06<00:00, 29.70batch/s, mae_loss=0.068] \n"
     ]
    },
    {
     "name": "stdout",
     "output_type": "stream",
     "text": [
      "Epoch [121/150], Training MAE: 0.2296, Training RMSE: 0.3518\n",
      "Epoch [121/150], Validation MAE: 0.2165, Validation RMSE: 0.3295\n"
     ]
    },
    {
     "name": "stderr",
     "output_type": "stream",
     "text": [
      "Epoch 122/150: 100%|██████████| 205/205 [00:06<00:00, 29.56batch/s, mae_loss=0.0769]\n"
     ]
    },
    {
     "name": "stdout",
     "output_type": "stream",
     "text": [
      "Epoch [122/150], Training MAE: 0.2299, Training RMSE: 0.3516\n",
      "Epoch [122/150], Validation MAE: 0.2175, Validation RMSE: 0.3300\n"
     ]
    },
    {
     "name": "stderr",
     "output_type": "stream",
     "text": [
      "Epoch 123/150: 100%|██████████| 205/205 [00:06<00:00, 29.46batch/s, mae_loss=0.0674]\n"
     ]
    },
    {
     "name": "stdout",
     "output_type": "stream",
     "text": [
      "Epoch [123/150], Training MAE: 0.2290, Training RMSE: 0.3512\n",
      "Epoch [123/150], Validation MAE: 0.2167, Validation RMSE: 0.3299\n"
     ]
    },
    {
     "name": "stderr",
     "output_type": "stream",
     "text": [
      "Epoch 124/150: 100%|██████████| 205/205 [00:07<00:00, 28.31batch/s, mae_loss=0.0785]\n"
     ]
    },
    {
     "name": "stdout",
     "output_type": "stream",
     "text": [
      "Epoch [124/150], Training MAE: 0.2290, Training RMSE: 0.3506\n",
      "Epoch [124/150], Validation MAE: 0.2163, Validation RMSE: 0.3293\n"
     ]
    },
    {
     "name": "stderr",
     "output_type": "stream",
     "text": [
      "Epoch 125/150: 100%|██████████| 205/205 [00:06<00:00, 29.83batch/s, mae_loss=0.0746]\n"
     ]
    },
    {
     "name": "stdout",
     "output_type": "stream",
     "text": [
      "Epoch [125/150], Training MAE: 0.2287, Training RMSE: 0.3505\n",
      "Epoch [125/150], Validation MAE: 0.2164, Validation RMSE: 0.3295\n"
     ]
    },
    {
     "name": "stderr",
     "output_type": "stream",
     "text": [
      "Epoch 126/150: 100%|██████████| 205/205 [00:06<00:00, 29.75batch/s, mae_loss=0.0757]\n"
     ]
    },
    {
     "name": "stdout",
     "output_type": "stream",
     "text": [
      "Epoch [126/150], Training MAE: 0.2289, Training RMSE: 0.3514\n",
      "Epoch [126/150], Validation MAE: 0.2162, Validation RMSE: 0.3293\n"
     ]
    },
    {
     "name": "stderr",
     "output_type": "stream",
     "text": [
      "Epoch 127/150: 100%|██████████| 205/205 [00:06<00:00, 29.59batch/s, mae_loss=0.0801]\n"
     ]
    },
    {
     "name": "stdout",
     "output_type": "stream",
     "text": [
      "Epoch [127/150], Training MAE: 0.2294, Training RMSE: 0.3513\n",
      "Epoch [127/150], Validation MAE: 0.2163, Validation RMSE: 0.3293\n"
     ]
    },
    {
     "name": "stderr",
     "output_type": "stream",
     "text": [
      "Epoch 128/150: 100%|██████████| 205/205 [00:06<00:00, 29.78batch/s, mae_loss=0.0707]\n"
     ]
    },
    {
     "name": "stdout",
     "output_type": "stream",
     "text": [
      "Epoch [128/150], Training MAE: 0.2291, Training RMSE: 0.3509\n",
      "Epoch [128/150], Validation MAE: 0.2159, Validation RMSE: 0.3292\n"
     ]
    },
    {
     "name": "stderr",
     "output_type": "stream",
     "text": [
      "Epoch 129/150: 100%|██████████| 205/205 [00:06<00:00, 29.69batch/s, mae_loss=0.0747]\n"
     ]
    },
    {
     "name": "stdout",
     "output_type": "stream",
     "text": [
      "Epoch [129/150], Training MAE: 0.2293, Training RMSE: 0.3516\n",
      "Epoch [129/150], Validation MAE: 0.2167, Validation RMSE: 0.3297\n"
     ]
    },
    {
     "name": "stderr",
     "output_type": "stream",
     "text": [
      "Epoch 130/150: 100%|██████████| 205/205 [00:06<00:00, 29.67batch/s, mae_loss=0.0686]\n"
     ]
    },
    {
     "name": "stdout",
     "output_type": "stream",
     "text": [
      "Epoch [130/150], Training MAE: 0.2281, Training RMSE: 0.3499\n",
      "Epoch [130/150], Validation MAE: 0.2156, Validation RMSE: 0.3286\n"
     ]
    },
    {
     "name": "stderr",
     "output_type": "stream",
     "text": [
      "Epoch 131/150: 100%|██████████| 205/205 [00:07<00:00, 28.09batch/s, mae_loss=0.0731]\n"
     ]
    },
    {
     "name": "stdout",
     "output_type": "stream",
     "text": [
      "Epoch [131/150], Training MAE: 0.2284, Training RMSE: 0.3499\n",
      "Epoch [131/150], Validation MAE: 0.2162, Validation RMSE: 0.3293\n"
     ]
    },
    {
     "name": "stderr",
     "output_type": "stream",
     "text": [
      "Epoch 132/150: 100%|██████████| 205/205 [00:07<00:00, 28.95batch/s, mae_loss=0.076] \n"
     ]
    },
    {
     "name": "stdout",
     "output_type": "stream",
     "text": [
      "Epoch [132/150], Training MAE: 0.2284, Training RMSE: 0.3500\n",
      "Epoch [132/150], Validation MAE: 0.2161, Validation RMSE: 0.3293\n"
     ]
    },
    {
     "name": "stderr",
     "output_type": "stream",
     "text": [
      "Epoch 133/150: 100%|██████████| 205/205 [00:07<00:00, 27.99batch/s, mae_loss=0.0634]\n"
     ]
    },
    {
     "name": "stdout",
     "output_type": "stream",
     "text": [
      "Epoch [133/150], Training MAE: 0.2274, Training RMSE: 0.3497\n",
      "Epoch [133/150], Validation MAE: 0.2162, Validation RMSE: 0.3296\n"
     ]
    },
    {
     "name": "stderr",
     "output_type": "stream",
     "text": [
      "Epoch 134/150: 100%|██████████| 205/205 [00:06<00:00, 29.35batch/s, mae_loss=0.0712]\n"
     ]
    },
    {
     "name": "stdout",
     "output_type": "stream",
     "text": [
      "Epoch [134/150], Training MAE: 0.2285, Training RMSE: 0.3503\n",
      "Epoch [134/150], Validation MAE: 0.2161, Validation RMSE: 0.3293\n"
     ]
    },
    {
     "name": "stderr",
     "output_type": "stream",
     "text": [
      "Epoch 135/150: 100%|██████████| 205/205 [00:06<00:00, 29.43batch/s, mae_loss=0.0791]\n"
     ]
    },
    {
     "name": "stdout",
     "output_type": "stream",
     "text": [
      "Epoch [135/150], Training MAE: 0.2280, Training RMSE: 0.3500\n",
      "Epoch [135/150], Validation MAE: 0.2162, Validation RMSE: 0.3294\n"
     ]
    },
    {
     "name": "stderr",
     "output_type": "stream",
     "text": [
      "Epoch 136/150: 100%|██████████| 205/205 [00:06<00:00, 29.74batch/s, mae_loss=0.0702]\n"
     ]
    },
    {
     "name": "stdout",
     "output_type": "stream",
     "text": [
      "Epoch [136/150], Training MAE: 0.2273, Training RMSE: 0.3493\n",
      "Epoch [136/150], Validation MAE: 0.2162, Validation RMSE: 0.3294\n"
     ]
    },
    {
     "name": "stderr",
     "output_type": "stream",
     "text": [
      "Epoch 137/150: 100%|██████████| 205/205 [00:06<00:00, 29.70batch/s, mae_loss=0.0723]\n"
     ]
    },
    {
     "name": "stdout",
     "output_type": "stream",
     "text": [
      "Epoch [137/150], Training MAE: 0.2275, Training RMSE: 0.3493\n",
      "Epoch [137/150], Validation MAE: 0.2155, Validation RMSE: 0.3290\n"
     ]
    },
    {
     "name": "stderr",
     "output_type": "stream",
     "text": [
      "Epoch 138/150: 100%|██████████| 205/205 [00:06<00:00, 29.88batch/s, mae_loss=0.0703]\n"
     ]
    },
    {
     "name": "stdout",
     "output_type": "stream",
     "text": [
      "Epoch [138/150], Training MAE: 0.2269, Training RMSE: 0.3482\n",
      "Epoch [138/150], Validation MAE: 0.2153, Validation RMSE: 0.3289\n"
     ]
    },
    {
     "name": "stderr",
     "output_type": "stream",
     "text": [
      "Epoch 139/150: 100%|██████████| 205/205 [00:07<00:00, 27.77batch/s, mae_loss=0.0719]\n"
     ]
    },
    {
     "name": "stdout",
     "output_type": "stream",
     "text": [
      "Epoch [139/150], Training MAE: 0.2276, Training RMSE: 0.3498\n",
      "Epoch [139/150], Validation MAE: 0.2155, Validation RMSE: 0.3289\n"
     ]
    },
    {
     "name": "stderr",
     "output_type": "stream",
     "text": [
      "Epoch 140/150: 100%|██████████| 205/205 [00:07<00:00, 29.12batch/s, mae_loss=0.0698]\n"
     ]
    },
    {
     "name": "stdout",
     "output_type": "stream",
     "text": [
      "Epoch [140/150], Training MAE: 0.2274, Training RMSE: 0.3492\n",
      "Epoch [140/150], Validation MAE: 0.2161, Validation RMSE: 0.3295\n"
     ]
    },
    {
     "name": "stderr",
     "output_type": "stream",
     "text": [
      "Epoch 141/150: 100%|██████████| 205/205 [00:07<00:00, 28.45batch/s, mae_loss=0.0685]\n"
     ]
    },
    {
     "name": "stdout",
     "output_type": "stream",
     "text": [
      "Epoch [141/150], Training MAE: 0.2271, Training RMSE: 0.3497\n",
      "Epoch [141/150], Validation MAE: 0.2153, Validation RMSE: 0.3287\n"
     ]
    },
    {
     "name": "stderr",
     "output_type": "stream",
     "text": [
      "Epoch 142/150: 100%|██████████| 205/205 [00:07<00:00, 29.15batch/s, mae_loss=0.0638]\n"
     ]
    },
    {
     "name": "stdout",
     "output_type": "stream",
     "text": [
      "Epoch [142/150], Training MAE: 0.2269, Training RMSE: 0.3488\n",
      "Epoch [142/150], Validation MAE: 0.2161, Validation RMSE: 0.3295\n"
     ]
    },
    {
     "name": "stderr",
     "output_type": "stream",
     "text": [
      "Epoch 143/150: 100%|██████████| 205/205 [00:06<00:00, 29.38batch/s, mae_loss=0.0799]\n"
     ]
    },
    {
     "name": "stdout",
     "output_type": "stream",
     "text": [
      "Epoch [143/150], Training MAE: 0.2268, Training RMSE: 0.3482\n",
      "Epoch [143/150], Validation MAE: 0.2159, Validation RMSE: 0.3296\n"
     ]
    },
    {
     "name": "stderr",
     "output_type": "stream",
     "text": [
      "Epoch 144/150: 100%|██████████| 205/205 [00:06<00:00, 29.75batch/s, mae_loss=0.0642]\n"
     ]
    },
    {
     "name": "stdout",
     "output_type": "stream",
     "text": [
      "Epoch [144/150], Training MAE: 0.2270, Training RMSE: 0.3489\n",
      "Epoch [144/150], Validation MAE: 0.2155, Validation RMSE: 0.3290\n"
     ]
    },
    {
     "name": "stderr",
     "output_type": "stream",
     "text": [
      "Epoch 145/150: 100%|██████████| 205/205 [00:06<00:00, 29.70batch/s, mae_loss=0.0833]\n"
     ]
    },
    {
     "name": "stdout",
     "output_type": "stream",
     "text": [
      "Epoch [145/150], Training MAE: 0.2269, Training RMSE: 0.3487\n",
      "Epoch [145/150], Validation MAE: 0.2158, Validation RMSE: 0.3289\n"
     ]
    },
    {
     "name": "stderr",
     "output_type": "stream",
     "text": [
      "Epoch 146/150: 100%|██████████| 205/205 [00:06<00:00, 29.72batch/s, mae_loss=0.0608]\n"
     ]
    },
    {
     "name": "stdout",
     "output_type": "stream",
     "text": [
      "Epoch [146/150], Training MAE: 0.2264, Training RMSE: 0.3483\n",
      "Epoch [146/150], Validation MAE: 0.2156, Validation RMSE: 0.3291\n"
     ]
    },
    {
     "name": "stderr",
     "output_type": "stream",
     "text": [
      "Epoch 147/150: 100%|██████████| 205/205 [00:07<00:00, 27.46batch/s, mae_loss=0.0734]\n"
     ]
    },
    {
     "name": "stdout",
     "output_type": "stream",
     "text": [
      "Epoch [147/150], Training MAE: 0.2266, Training RMSE: 0.3481\n",
      "Epoch [147/150], Validation MAE: 0.2154, Validation RMSE: 0.3290\n"
     ]
    },
    {
     "name": "stderr",
     "output_type": "stream",
     "text": [
      "Epoch 148/150: 100%|██████████| 205/205 [00:06<00:00, 29.35batch/s, mae_loss=0.0664]\n"
     ]
    },
    {
     "name": "stdout",
     "output_type": "stream",
     "text": [
      "Epoch [148/150], Training MAE: 0.2261, Training RMSE: 0.3480\n",
      "Epoch [148/150], Validation MAE: 0.2149, Validation RMSE: 0.3286\n"
     ]
    },
    {
     "name": "stderr",
     "output_type": "stream",
     "text": [
      "Epoch 149/150: 100%|██████████| 205/205 [00:06<00:00, 29.62batch/s, mae_loss=0.0698]\n"
     ]
    },
    {
     "name": "stdout",
     "output_type": "stream",
     "text": [
      "Epoch [149/150], Training MAE: 0.2260, Training RMSE: 0.3474\n",
      "Epoch [149/150], Validation MAE: 0.2155, Validation RMSE: 0.3290\n"
     ]
    },
    {
     "name": "stderr",
     "output_type": "stream",
     "text": [
      "Epoch 150/150: 100%|██████████| 205/205 [00:07<00:00, 27.68batch/s, mae_loss=0.0619]\n"
     ]
    },
    {
     "name": "stdout",
     "output_type": "stream",
     "text": [
      "Epoch [150/150], Training MAE: 0.2260, Training RMSE: 0.3479\n",
      "Epoch [150/150], Validation MAE: 0.2147, Validation RMSE: 0.3283\n",
      "End Prediction Horizon of 6 of shared-layer Model\n",
      "model_shared-layer_attention_6_2 saved\n",
      "Shape of X (features): (4, 13087, 12)\n",
      "Shape of y (targets): (4, 13087)\n",
      "Shape of X_test (features): (4, 2863, 12)\n",
      "Shape of y_test (targets): (4, 2863)\n"
     ]
    },
    {
     "name": "stderr",
     "output_type": "stream",
     "text": [
      "Epoch 1/150: 100%|██████████| 205/205 [00:08<00:00, 23.01batch/s, mae_loss=0.67] \n"
     ]
    },
    {
     "name": "stdout",
     "output_type": "stream",
     "text": [
      "Epoch [1/150], Training MAE: 0.7019, Training RMSE: 0.9108\n",
      "Epoch [1/150], Validation MAE: 0.6434, Validation RMSE: 0.8464\n"
     ]
    },
    {
     "name": "stderr",
     "output_type": "stream",
     "text": [
      "Epoch 2/150: 100%|██████████| 205/205 [00:08<00:00, 23.31batch/s, mae_loss=0.515]\n"
     ]
    },
    {
     "name": "stdout",
     "output_type": "stream",
     "text": [
      "Epoch [2/150], Training MAE: 0.6014, Training RMSE: 0.7926\n",
      "Epoch [2/150], Validation MAE: 0.5257, Validation RMSE: 0.7039\n"
     ]
    },
    {
     "name": "stderr",
     "output_type": "stream",
     "text": [
      "Epoch 3/150: 100%|██████████| 205/205 [00:09<00:00, 21.37batch/s, mae_loss=0.361]\n"
     ]
    },
    {
     "name": "stdout",
     "output_type": "stream",
     "text": [
      "Epoch [3/150], Training MAE: 0.5040, Training RMSE: 0.6736\n",
      "Epoch [3/150], Validation MAE: 0.4320, Validation RMSE: 0.5875\n"
     ]
    },
    {
     "name": "stderr",
     "output_type": "stream",
     "text": [
      "Epoch 4/150: 100%|██████████| 205/205 [00:08<00:00, 22.79batch/s, mae_loss=0.219]\n"
     ]
    },
    {
     "name": "stdout",
     "output_type": "stream",
     "text": [
      "Epoch [4/150], Training MAE: 0.4462, Training RMSE: 0.6074\n",
      "Epoch [4/150], Validation MAE: 0.3891, Validation RMSE: 0.5354\n"
     ]
    },
    {
     "name": "stderr",
     "output_type": "stream",
     "text": [
      "Epoch 5/150: 100%|██████████| 205/205 [00:08<00:00, 23.52batch/s, mae_loss=0.178]\n"
     ]
    },
    {
     "name": "stdout",
     "output_type": "stream",
     "text": [
      "Epoch [5/150], Training MAE: 0.4232, Training RMSE: 0.5836\n",
      "Epoch [5/150], Validation MAE: 0.3724, Validation RMSE: 0.5165\n"
     ]
    },
    {
     "name": "stderr",
     "output_type": "stream",
     "text": [
      "Epoch 6/150: 100%|██████████| 205/205 [00:08<00:00, 23.17batch/s, mae_loss=0.19] \n"
     ]
    },
    {
     "name": "stdout",
     "output_type": "stream",
     "text": [
      "Epoch [6/150], Training MAE: 0.4106, Training RMSE: 0.5700\n",
      "Epoch [6/150], Validation MAE: 0.3618, Validation RMSE: 0.5044\n"
     ]
    },
    {
     "name": "stderr",
     "output_type": "stream",
     "text": [
      "Epoch 7/150: 100%|██████████| 205/205 [00:09<00:00, 22.16batch/s, mae_loss=0.191]\n"
     ]
    },
    {
     "name": "stdout",
     "output_type": "stream",
     "text": [
      "Epoch [7/150], Training MAE: 0.4011, Training RMSE: 0.5587\n",
      "Epoch [7/150], Validation MAE: 0.3519, Validation RMSE: 0.4925\n"
     ]
    },
    {
     "name": "stderr",
     "output_type": "stream",
     "text": [
      "Epoch 8/150: 100%|██████████| 205/205 [00:08<00:00, 23.23batch/s, mae_loss=0.211]\n"
     ]
    },
    {
     "name": "stdout",
     "output_type": "stream",
     "text": [
      "Epoch [8/150], Training MAE: 0.3927, Training RMSE: 0.5483\n",
      "Epoch [8/150], Validation MAE: 0.3427, Validation RMSE: 0.4816\n"
     ]
    },
    {
     "name": "stderr",
     "output_type": "stream",
     "text": [
      "Epoch 9/150: 100%|██████████| 205/205 [00:08<00:00, 23.49batch/s, mae_loss=0.192]\n"
     ]
    },
    {
     "name": "stdout",
     "output_type": "stream",
     "text": [
      "Epoch [9/150], Training MAE: 0.3821, Training RMSE: 0.5352\n",
      "Epoch [9/150], Validation MAE: 0.3333, Validation RMSE: 0.4708\n"
     ]
    },
    {
     "name": "stderr",
     "output_type": "stream",
     "text": [
      "Epoch 10/150: 100%|██████████| 205/205 [00:08<00:00, 22.90batch/s, mae_loss=0.165]\n"
     ]
    },
    {
     "name": "stdout",
     "output_type": "stream",
     "text": [
      "Epoch [10/150], Training MAE: 0.3720, Training RMSE: 0.5231\n",
      "Epoch [10/150], Validation MAE: 0.3248, Validation RMSE: 0.4608\n"
     ]
    },
    {
     "name": "stderr",
     "output_type": "stream",
     "text": [
      "Epoch 11/150: 100%|██████████| 205/205 [00:08<00:00, 23.69batch/s, mae_loss=0.168]\n"
     ]
    },
    {
     "name": "stdout",
     "output_type": "stream",
     "text": [
      "Epoch [11/150], Training MAE: 0.3638, Training RMSE: 0.5129\n",
      "Epoch [11/150], Validation MAE: 0.3180, Validation RMSE: 0.4533\n"
     ]
    },
    {
     "name": "stderr",
     "output_type": "stream",
     "text": [
      "Epoch 12/150: 100%|██████████| 205/205 [00:08<00:00, 23.63batch/s, mae_loss=0.158]\n"
     ]
    },
    {
     "name": "stdout",
     "output_type": "stream",
     "text": [
      "Epoch [12/150], Training MAE: 0.3562, Training RMSE: 0.5033\n",
      "Epoch [12/150], Validation MAE: 0.3138, Validation RMSE: 0.4485\n"
     ]
    },
    {
     "name": "stderr",
     "output_type": "stream",
     "text": [
      "Epoch 13/150: 100%|██████████| 205/205 [00:08<00:00, 23.21batch/s, mae_loss=0.15] \n"
     ]
    },
    {
     "name": "stdout",
     "output_type": "stream",
     "text": [
      "Epoch [13/150], Training MAE: 0.3489, Training RMSE: 0.4950\n",
      "Epoch [13/150], Validation MAE: 0.3079, Validation RMSE: 0.4414\n"
     ]
    },
    {
     "name": "stderr",
     "output_type": "stream",
     "text": [
      "Epoch 14/150: 100%|██████████| 205/205 [00:08<00:00, 22.96batch/s, mae_loss=0.193]\n"
     ]
    },
    {
     "name": "stdout",
     "output_type": "stream",
     "text": [
      "Epoch [14/150], Training MAE: 0.3434, Training RMSE: 0.4880\n",
      "Epoch [14/150], Validation MAE: 0.3022, Validation RMSE: 0.4344\n"
     ]
    },
    {
     "name": "stderr",
     "output_type": "stream",
     "text": [
      "Epoch 15/150: 100%|██████████| 205/205 [00:08<00:00, 23.57batch/s, mae_loss=0.182]\n"
     ]
    },
    {
     "name": "stdout",
     "output_type": "stream",
     "text": [
      "Epoch [15/150], Training MAE: 0.3359, Training RMSE: 0.4784\n",
      "Epoch [15/150], Validation MAE: 0.2962, Validation RMSE: 0.4270\n"
     ]
    },
    {
     "name": "stderr",
     "output_type": "stream",
     "text": [
      "Epoch 16/150: 100%|██████████| 205/205 [00:09<00:00, 21.81batch/s, mae_loss=0.158]\n"
     ]
    },
    {
     "name": "stdout",
     "output_type": "stream",
     "text": [
      "Epoch [16/150], Training MAE: 0.3304, Training RMSE: 0.4723\n",
      "Epoch [16/150], Validation MAE: 0.2910, Validation RMSE: 0.4203\n"
     ]
    },
    {
     "name": "stderr",
     "output_type": "stream",
     "text": [
      "Epoch 17/150: 100%|██████████| 205/205 [00:08<00:00, 23.36batch/s, mae_loss=0.162]\n"
     ]
    },
    {
     "name": "stdout",
     "output_type": "stream",
     "text": [
      "Epoch [17/150], Training MAE: 0.3261, Training RMSE: 0.4660\n",
      "Epoch [17/150], Validation MAE: 0.2865, Validation RMSE: 0.4139\n"
     ]
    },
    {
     "name": "stderr",
     "output_type": "stream",
     "text": [
      "Epoch 18/150: 100%|██████████| 205/205 [00:08<00:00, 23.50batch/s, mae_loss=0.181]\n"
     ]
    },
    {
     "name": "stdout",
     "output_type": "stream",
     "text": [
      "Epoch [18/150], Training MAE: 0.3212, Training RMSE: 0.4605\n",
      "Epoch [18/150], Validation MAE: 0.2814, Validation RMSE: 0.4077\n"
     ]
    },
    {
     "name": "stderr",
     "output_type": "stream",
     "text": [
      "Epoch 19/150: 100%|██████████| 205/205 [00:08<00:00, 23.23batch/s, mae_loss=0.191]\n"
     ]
    },
    {
     "name": "stdout",
     "output_type": "stream",
     "text": [
      "Epoch [19/150], Training MAE: 0.3167, Training RMSE: 0.4543\n",
      "Epoch [19/150], Validation MAE: 0.2768, Validation RMSE: 0.4016\n"
     ]
    },
    {
     "name": "stderr",
     "output_type": "stream",
     "text": [
      "Epoch 20/150: 100%|██████████| 205/205 [00:09<00:00, 22.51batch/s, mae_loss=0.177]\n"
     ]
    },
    {
     "name": "stdout",
     "output_type": "stream",
     "text": [
      "Epoch [20/150], Training MAE: 0.3124, Training RMSE: 0.4487\n",
      "Epoch [20/150], Validation MAE: 0.2717, Validation RMSE: 0.3950\n"
     ]
    },
    {
     "name": "stderr",
     "output_type": "stream",
     "text": [
      "Epoch 21/150: 100%|██████████| 205/205 [00:08<00:00, 23.47batch/s, mae_loss=0.142]\n"
     ]
    },
    {
     "name": "stdout",
     "output_type": "stream",
     "text": [
      "Epoch [21/150], Training MAE: 0.3088, Training RMSE: 0.4446\n",
      "Epoch [21/150], Validation MAE: 0.2678, Validation RMSE: 0.3900\n"
     ]
    },
    {
     "name": "stderr",
     "output_type": "stream",
     "text": [
      "Epoch 22/150: 100%|██████████| 205/205 [00:09<00:00, 22.12batch/s, mae_loss=0.171]\n"
     ]
    },
    {
     "name": "stdout",
     "output_type": "stream",
     "text": [
      "Epoch [22/150], Training MAE: 0.3046, Training RMSE: 0.4396\n",
      "Epoch [22/150], Validation MAE: 0.2639, Validation RMSE: 0.3855\n"
     ]
    },
    {
     "name": "stderr",
     "output_type": "stream",
     "text": [
      "Epoch 23/150: 100%|██████████| 205/205 [00:08<00:00, 23.27batch/s, mae_loss=0.158]\n"
     ]
    },
    {
     "name": "stdout",
     "output_type": "stream",
     "text": [
      "Epoch [23/150], Training MAE: 0.3018, Training RMSE: 0.4353\n",
      "Epoch [23/150], Validation MAE: 0.2608, Validation RMSE: 0.3816\n"
     ]
    },
    {
     "name": "stderr",
     "output_type": "stream",
     "text": [
      "Epoch 24/150: 100%|██████████| 205/205 [00:08<00:00, 23.75batch/s, mae_loss=0.153]\n"
     ]
    },
    {
     "name": "stdout",
     "output_type": "stream",
     "text": [
      "Epoch [24/150], Training MAE: 0.2978, Training RMSE: 0.4313\n",
      "Epoch [24/150], Validation MAE: 0.2564, Validation RMSE: 0.3770\n"
     ]
    },
    {
     "name": "stderr",
     "output_type": "stream",
     "text": [
      "Epoch 25/150: 100%|██████████| 205/205 [00:08<00:00, 23.33batch/s, mae_loss=0.153]\n"
     ]
    },
    {
     "name": "stdout",
     "output_type": "stream",
     "text": [
      "Epoch [25/150], Training MAE: 0.2954, Training RMSE: 0.4276\n",
      "Epoch [25/150], Validation MAE: 0.2541, Validation RMSE: 0.3745\n"
     ]
    },
    {
     "name": "stderr",
     "output_type": "stream",
     "text": [
      "Epoch 26/150: 100%|██████████| 205/205 [00:08<00:00, 23.56batch/s, mae_loss=0.13] \n"
     ]
    },
    {
     "name": "stdout",
     "output_type": "stream",
     "text": [
      "Epoch [26/150], Training MAE: 0.2928, Training RMSE: 0.4241\n",
      "Epoch [26/150], Validation MAE: 0.2510, Validation RMSE: 0.3711\n"
     ]
    },
    {
     "name": "stderr",
     "output_type": "stream",
     "text": [
      "Epoch 27/150: 100%|██████████| 205/205 [00:09<00:00, 22.15batch/s, mae_loss=0.149]\n"
     ]
    },
    {
     "name": "stdout",
     "output_type": "stream",
     "text": [
      "Epoch [27/150], Training MAE: 0.2914, Training RMSE: 0.4230\n",
      "Epoch [27/150], Validation MAE: 0.2490, Validation RMSE: 0.3685\n"
     ]
    },
    {
     "name": "stderr",
     "output_type": "stream",
     "text": [
      "Epoch 28/150: 100%|██████████| 205/205 [00:10<00:00, 19.27batch/s, mae_loss=0.137]\n"
     ]
    },
    {
     "name": "stdout",
     "output_type": "stream",
     "text": [
      "Epoch [28/150], Training MAE: 0.2900, Training RMSE: 0.4208\n",
      "Epoch [28/150], Validation MAE: 0.2487, Validation RMSE: 0.3679\n"
     ]
    },
    {
     "name": "stderr",
     "output_type": "stream",
     "text": [
      "Epoch 29/150: 100%|██████████| 205/205 [00:09<00:00, 21.26batch/s, mae_loss=0.142]\n"
     ]
    },
    {
     "name": "stdout",
     "output_type": "stream",
     "text": [
      "Epoch [29/150], Training MAE: 0.2866, Training RMSE: 0.4170\n",
      "Epoch [29/150], Validation MAE: 0.2472, Validation RMSE: 0.3661\n"
     ]
    },
    {
     "name": "stderr",
     "output_type": "stream",
     "text": [
      "Epoch 30/150: 100%|██████████| 205/205 [00:08<00:00, 23.17batch/s, mae_loss=0.157]\n"
     ]
    },
    {
     "name": "stdout",
     "output_type": "stream",
     "text": [
      "Epoch [30/150], Training MAE: 0.2859, Training RMSE: 0.4160\n",
      "Epoch [30/150], Validation MAE: 0.2462, Validation RMSE: 0.3651\n"
     ]
    },
    {
     "name": "stderr",
     "output_type": "stream",
     "text": [
      "Epoch 31/150: 100%|██████████| 205/205 [00:08<00:00, 23.27batch/s, mae_loss=0.167]\n"
     ]
    },
    {
     "name": "stdout",
     "output_type": "stream",
     "text": [
      "Epoch [31/150], Training MAE: 0.2836, Training RMSE: 0.4141\n",
      "Epoch [31/150], Validation MAE: 0.2443, Validation RMSE: 0.3635\n"
     ]
    },
    {
     "name": "stderr",
     "output_type": "stream",
     "text": [
      "Epoch 32/150: 100%|██████████| 205/205 [00:08<00:00, 23.44batch/s, mae_loss=0.147]\n"
     ]
    },
    {
     "name": "stdout",
     "output_type": "stream",
     "text": [
      "Epoch [32/150], Training MAE: 0.2821, Training RMSE: 0.4113\n",
      "Epoch [32/150], Validation MAE: 0.2434, Validation RMSE: 0.3625\n"
     ]
    },
    {
     "name": "stderr",
     "output_type": "stream",
     "text": [
      "Epoch 33/150: 100%|██████████| 205/205 [00:08<00:00, 23.03batch/s, mae_loss=0.162]\n"
     ]
    },
    {
     "name": "stdout",
     "output_type": "stream",
     "text": [
      "Epoch [33/150], Training MAE: 0.2812, Training RMSE: 0.4109\n",
      "Epoch [33/150], Validation MAE: 0.2429, Validation RMSE: 0.3616\n"
     ]
    },
    {
     "name": "stderr",
     "output_type": "stream",
     "text": [
      "Epoch 34/150: 100%|██████████| 205/205 [00:09<00:00, 22.16batch/s, mae_loss=0.154]\n"
     ]
    },
    {
     "name": "stdout",
     "output_type": "stream",
     "text": [
      "Epoch [34/150], Training MAE: 0.2796, Training RMSE: 0.4094\n",
      "Epoch [34/150], Validation MAE: 0.2413, Validation RMSE: 0.3597\n"
     ]
    },
    {
     "name": "stderr",
     "output_type": "stream",
     "text": [
      "Epoch 35/150: 100%|██████████| 205/205 [00:09<00:00, 22.68batch/s, mae_loss=0.141]\n"
     ]
    },
    {
     "name": "stdout",
     "output_type": "stream",
     "text": [
      "Epoch [35/150], Training MAE: 0.2779, Training RMSE: 0.4082\n",
      "Epoch [35/150], Validation MAE: 0.2409, Validation RMSE: 0.3593\n"
     ]
    },
    {
     "name": "stderr",
     "output_type": "stream",
     "text": [
      "Epoch 36/150: 100%|██████████| 205/205 [00:08<00:00, 23.11batch/s, mae_loss=0.162]\n"
     ]
    },
    {
     "name": "stdout",
     "output_type": "stream",
     "text": [
      "Epoch [36/150], Training MAE: 0.2777, Training RMSE: 0.4074\n",
      "Epoch [36/150], Validation MAE: 0.2406, Validation RMSE: 0.3587\n"
     ]
    },
    {
     "name": "stderr",
     "output_type": "stream",
     "text": [
      "Epoch 37/150: 100%|██████████| 205/205 [00:09<00:00, 22.54batch/s, mae_loss=0.143]\n"
     ]
    },
    {
     "name": "stdout",
     "output_type": "stream",
     "text": [
      "Epoch [37/150], Training MAE: 0.2758, Training RMSE: 0.4050\n",
      "Epoch [37/150], Validation MAE: 0.2395, Validation RMSE: 0.3579\n"
     ]
    },
    {
     "name": "stderr",
     "output_type": "stream",
     "text": [
      "Epoch 38/150: 100%|██████████| 205/205 [00:09<00:00, 22.66batch/s, mae_loss=0.143]\n"
     ]
    },
    {
     "name": "stdout",
     "output_type": "stream",
     "text": [
      "Epoch [38/150], Training MAE: 0.2741, Training RMSE: 0.4025\n",
      "Epoch [38/150], Validation MAE: 0.2391, Validation RMSE: 0.3572\n"
     ]
    },
    {
     "name": "stderr",
     "output_type": "stream",
     "text": [
      "Epoch 39/150: 100%|██████████| 205/205 [00:08<00:00, 23.48batch/s, mae_loss=0.126]\n"
     ]
    },
    {
     "name": "stdout",
     "output_type": "stream",
     "text": [
      "Epoch [39/150], Training MAE: 0.2740, Training RMSE: 0.4031\n",
      "Epoch [39/150], Validation MAE: 0.2393, Validation RMSE: 0.3572\n"
     ]
    },
    {
     "name": "stderr",
     "output_type": "stream",
     "text": [
      "Epoch 40/150: 100%|██████████| 205/205 [00:09<00:00, 22.01batch/s, mae_loss=0.132]\n"
     ]
    },
    {
     "name": "stdout",
     "output_type": "stream",
     "text": [
      "Epoch [40/150], Training MAE: 0.2737, Training RMSE: 0.4022\n",
      "Epoch [40/150], Validation MAE: 0.2388, Validation RMSE: 0.3569\n"
     ]
    },
    {
     "name": "stderr",
     "output_type": "stream",
     "text": [
      "Epoch 41/150: 100%|██████████| 205/205 [00:08<00:00, 22.79batch/s, mae_loss=0.126]\n"
     ]
    },
    {
     "name": "stdout",
     "output_type": "stream",
     "text": [
      "Epoch [41/150], Training MAE: 0.2721, Training RMSE: 0.3998\n",
      "Epoch [41/150], Validation MAE: 0.2383, Validation RMSE: 0.3561\n"
     ]
    },
    {
     "name": "stderr",
     "output_type": "stream",
     "text": [
      "Epoch 42/150: 100%|██████████| 205/205 [00:08<00:00, 23.40batch/s, mae_loss=0.139]\n"
     ]
    },
    {
     "name": "stdout",
     "output_type": "stream",
     "text": [
      "Epoch [42/150], Training MAE: 0.2702, Training RMSE: 0.3976\n",
      "Epoch [42/150], Validation MAE: 0.2377, Validation RMSE: 0.3558\n"
     ]
    },
    {
     "name": "stderr",
     "output_type": "stream",
     "text": [
      "Epoch 43/150: 100%|██████████| 205/205 [00:08<00:00, 23.49batch/s, mae_loss=0.13] \n"
     ]
    },
    {
     "name": "stdout",
     "output_type": "stream",
     "text": [
      "Epoch [43/150], Training MAE: 0.2706, Training RMSE: 0.3987\n",
      "Epoch [43/150], Validation MAE: 0.2377, Validation RMSE: 0.3554\n"
     ]
    },
    {
     "name": "stderr",
     "output_type": "stream",
     "text": [
      "Epoch 44/150: 100%|██████████| 205/205 [00:08<00:00, 23.42batch/s, mae_loss=0.135]\n"
     ]
    },
    {
     "name": "stdout",
     "output_type": "stream",
     "text": [
      "Epoch [44/150], Training MAE: 0.2686, Training RMSE: 0.3961\n",
      "Epoch [44/150], Validation MAE: 0.2371, Validation RMSE: 0.3554\n"
     ]
    },
    {
     "name": "stderr",
     "output_type": "stream",
     "text": [
      "Epoch 45/150: 100%|██████████| 205/205 [00:08<00:00, 23.27batch/s, mae_loss=0.141]\n"
     ]
    },
    {
     "name": "stdout",
     "output_type": "stream",
     "text": [
      "Epoch [45/150], Training MAE: 0.2682, Training RMSE: 0.3960\n",
      "Epoch [45/150], Validation MAE: 0.2364, Validation RMSE: 0.3545\n"
     ]
    },
    {
     "name": "stderr",
     "output_type": "stream",
     "text": [
      "Epoch 46/150: 100%|██████████| 205/205 [00:08<00:00, 23.31batch/s, mae_loss=0.124]\n"
     ]
    },
    {
     "name": "stdout",
     "output_type": "stream",
     "text": [
      "Epoch [46/150], Training MAE: 0.2681, Training RMSE: 0.3962\n",
      "Epoch [46/150], Validation MAE: 0.2360, Validation RMSE: 0.3543\n"
     ]
    },
    {
     "name": "stderr",
     "output_type": "stream",
     "text": [
      "Epoch 47/150: 100%|██████████| 205/205 [00:10<00:00, 20.33batch/s, mae_loss=0.141]\n"
     ]
    },
    {
     "name": "stdout",
     "output_type": "stream",
     "text": [
      "Epoch [47/150], Training MAE: 0.2669, Training RMSE: 0.3945\n",
      "Epoch [47/150], Validation MAE: 0.2357, Validation RMSE: 0.3537\n"
     ]
    },
    {
     "name": "stderr",
     "output_type": "stream",
     "text": [
      "Epoch 48/150: 100%|██████████| 205/205 [00:08<00:00, 23.27batch/s, mae_loss=0.128]\n"
     ]
    },
    {
     "name": "stdout",
     "output_type": "stream",
     "text": [
      "Epoch [48/150], Training MAE: 0.2664, Training RMSE: 0.3942\n",
      "Epoch [48/150], Validation MAE: 0.2359, Validation RMSE: 0.3539\n"
     ]
    },
    {
     "name": "stderr",
     "output_type": "stream",
     "text": [
      "Epoch 49/150: 100%|██████████| 205/205 [00:08<00:00, 23.64batch/s, mae_loss=0.111]\n"
     ]
    },
    {
     "name": "stdout",
     "output_type": "stream",
     "text": [
      "Epoch [49/150], Training MAE: 0.2653, Training RMSE: 0.3936\n",
      "Epoch [49/150], Validation MAE: 0.2351, Validation RMSE: 0.3536\n"
     ]
    },
    {
     "name": "stderr",
     "output_type": "stream",
     "text": [
      "Epoch 50/150: 100%|██████████| 205/205 [00:08<00:00, 23.53batch/s, mae_loss=0.137]\n"
     ]
    },
    {
     "name": "stdout",
     "output_type": "stream",
     "text": [
      "Epoch [50/150], Training MAE: 0.2653, Training RMSE: 0.3928\n",
      "Epoch [50/150], Validation MAE: 0.2342, Validation RMSE: 0.3531\n"
     ]
    },
    {
     "name": "stderr",
     "output_type": "stream",
     "text": [
      "Epoch 51/150: 100%|██████████| 205/205 [00:08<00:00, 23.83batch/s, mae_loss=0.114]\n"
     ]
    },
    {
     "name": "stdout",
     "output_type": "stream",
     "text": [
      "Epoch [51/150], Training MAE: 0.2638, Training RMSE: 0.3911\n",
      "Epoch [51/150], Validation MAE: 0.2343, Validation RMSE: 0.3526\n"
     ]
    },
    {
     "name": "stderr",
     "output_type": "stream",
     "text": [
      "Epoch 52/150: 100%|██████████| 205/205 [00:08<00:00, 23.72batch/s, mae_loss=0.129]\n"
     ]
    },
    {
     "name": "stdout",
     "output_type": "stream",
     "text": [
      "Epoch [52/150], Training MAE: 0.2634, Training RMSE: 0.3902\n",
      "Epoch [52/150], Validation MAE: 0.2339, Validation RMSE: 0.3527\n"
     ]
    },
    {
     "name": "stderr",
     "output_type": "stream",
     "text": [
      "Epoch 53/150: 100%|██████████| 205/205 [00:09<00:00, 21.44batch/s, mae_loss=0.124]\n"
     ]
    },
    {
     "name": "stdout",
     "output_type": "stream",
     "text": [
      "Epoch [53/150], Training MAE: 0.2631, Training RMSE: 0.3909\n",
      "Epoch [53/150], Validation MAE: 0.2334, Validation RMSE: 0.3523\n"
     ]
    },
    {
     "name": "stderr",
     "output_type": "stream",
     "text": [
      "Epoch 54/150: 100%|██████████| 205/205 [00:09<00:00, 22.36batch/s, mae_loss=0.135]\n"
     ]
    },
    {
     "name": "stdout",
     "output_type": "stream",
     "text": [
      "Epoch [54/150], Training MAE: 0.2626, Training RMSE: 0.3897\n",
      "Epoch [54/150], Validation MAE: 0.2330, Validation RMSE: 0.3519\n"
     ]
    },
    {
     "name": "stderr",
     "output_type": "stream",
     "text": [
      "Epoch 55/150: 100%|██████████| 205/205 [00:08<00:00, 23.64batch/s, mae_loss=0.137]\n"
     ]
    },
    {
     "name": "stdout",
     "output_type": "stream",
     "text": [
      "Epoch [55/150], Training MAE: 0.2621, Training RMSE: 0.3899\n",
      "Epoch [55/150], Validation MAE: 0.2331, Validation RMSE: 0.3517\n"
     ]
    },
    {
     "name": "stderr",
     "output_type": "stream",
     "text": [
      "Epoch 56/150: 100%|██████████| 205/205 [00:08<00:00, 23.50batch/s, mae_loss=0.146]\n"
     ]
    },
    {
     "name": "stdout",
     "output_type": "stream",
     "text": [
      "Epoch [56/150], Training MAE: 0.2612, Training RMSE: 0.3886\n",
      "Epoch [56/150], Validation MAE: 0.2328, Validation RMSE: 0.3513\n"
     ]
    },
    {
     "name": "stderr",
     "output_type": "stream",
     "text": [
      "Epoch 57/150: 100%|██████████| 205/205 [00:08<00:00, 23.59batch/s, mae_loss=0.125]\n"
     ]
    },
    {
     "name": "stdout",
     "output_type": "stream",
     "text": [
      "Epoch [57/150], Training MAE: 0.2614, Training RMSE: 0.3893\n",
      "Epoch [57/150], Validation MAE: 0.2323, Validation RMSE: 0.3512\n"
     ]
    },
    {
     "name": "stderr",
     "output_type": "stream",
     "text": [
      "Epoch 58/150: 100%|██████████| 205/205 [00:08<00:00, 23.40batch/s, mae_loss=0.137]\n"
     ]
    },
    {
     "name": "stdout",
     "output_type": "stream",
     "text": [
      "Epoch [58/150], Training MAE: 0.2602, Training RMSE: 0.3874\n",
      "Epoch [58/150], Validation MAE: 0.2318, Validation RMSE: 0.3512\n"
     ]
    },
    {
     "name": "stderr",
     "output_type": "stream",
     "text": [
      "Epoch 59/150: 100%|██████████| 205/205 [00:09<00:00, 21.58batch/s, mae_loss=0.121]\n"
     ]
    },
    {
     "name": "stdout",
     "output_type": "stream",
     "text": [
      "Epoch [59/150], Training MAE: 0.2594, Training RMSE: 0.3873\n",
      "Epoch [59/150], Validation MAE: 0.2319, Validation RMSE: 0.3509\n"
     ]
    },
    {
     "name": "stderr",
     "output_type": "stream",
     "text": [
      "Epoch 60/150: 100%|██████████| 205/205 [00:08<00:00, 22.78batch/s, mae_loss=0.144]\n"
     ]
    },
    {
     "name": "stdout",
     "output_type": "stream",
     "text": [
      "Epoch [60/150], Training MAE: 0.2590, Training RMSE: 0.3868\n",
      "Epoch [60/150], Validation MAE: 0.2318, Validation RMSE: 0.3510\n"
     ]
    },
    {
     "name": "stderr",
     "output_type": "stream",
     "text": [
      "Epoch 61/150: 100%|██████████| 205/205 [00:08<00:00, 22.80batch/s, mae_loss=0.112]\n"
     ]
    },
    {
     "name": "stdout",
     "output_type": "stream",
     "text": [
      "Epoch [61/150], Training MAE: 0.2586, Training RMSE: 0.3855\n",
      "Epoch [61/150], Validation MAE: 0.2316, Validation RMSE: 0.3510\n"
     ]
    },
    {
     "name": "stderr",
     "output_type": "stream",
     "text": [
      "Epoch 62/150: 100%|██████████| 205/205 [00:08<00:00, 23.34batch/s, mae_loss=0.109]\n"
     ]
    },
    {
     "name": "stdout",
     "output_type": "stream",
     "text": [
      "Epoch [62/150], Training MAE: 0.2576, Training RMSE: 0.3846\n",
      "Epoch [62/150], Validation MAE: 0.2312, Validation RMSE: 0.3507\n"
     ]
    },
    {
     "name": "stderr",
     "output_type": "stream",
     "text": [
      "Epoch 63/150: 100%|██████████| 205/205 [00:08<00:00, 23.52batch/s, mae_loss=0.115]\n"
     ]
    },
    {
     "name": "stdout",
     "output_type": "stream",
     "text": [
      "Epoch [63/150], Training MAE: 0.2574, Training RMSE: 0.3843\n",
      "Epoch [63/150], Validation MAE: 0.2314, Validation RMSE: 0.3509\n"
     ]
    },
    {
     "name": "stderr",
     "output_type": "stream",
     "text": [
      "Epoch 64/150: 100%|██████████| 205/205 [00:08<00:00, 23.24batch/s, mae_loss=0.123]\n"
     ]
    },
    {
     "name": "stdout",
     "output_type": "stream",
     "text": [
      "Epoch [64/150], Training MAE: 0.2571, Training RMSE: 0.3843\n",
      "Epoch [64/150], Validation MAE: 0.2307, Validation RMSE: 0.3506\n"
     ]
    },
    {
     "name": "stderr",
     "output_type": "stream",
     "text": [
      "Epoch 65/150: 100%|██████████| 205/205 [00:09<00:00, 21.81batch/s, mae_loss=0.123]\n"
     ]
    },
    {
     "name": "stdout",
     "output_type": "stream",
     "text": [
      "Epoch [65/150], Training MAE: 0.2563, Training RMSE: 0.3828\n",
      "Epoch [65/150], Validation MAE: 0.2313, Validation RMSE: 0.3505\n"
     ]
    },
    {
     "name": "stderr",
     "output_type": "stream",
     "text": [
      "Epoch 66/150: 100%|██████████| 205/205 [00:08<00:00, 23.30batch/s, mae_loss=0.118]\n"
     ]
    },
    {
     "name": "stdout",
     "output_type": "stream",
     "text": [
      "Epoch [66/150], Training MAE: 0.2557, Training RMSE: 0.3819\n",
      "Epoch [66/150], Validation MAE: 0.2307, Validation RMSE: 0.3503\n"
     ]
    },
    {
     "name": "stderr",
     "output_type": "stream",
     "text": [
      "Epoch 67/150: 100%|██████████| 205/205 [00:09<00:00, 22.59batch/s, mae_loss=0.116]\n"
     ]
    },
    {
     "name": "stdout",
     "output_type": "stream",
     "text": [
      "Epoch [67/150], Training MAE: 0.2560, Training RMSE: 0.3835\n",
      "Epoch [67/150], Validation MAE: 0.2304, Validation RMSE: 0.3503\n"
     ]
    },
    {
     "name": "stderr",
     "output_type": "stream",
     "text": [
      "Epoch 68/150: 100%|██████████| 205/205 [00:08<00:00, 23.48batch/s, mae_loss=0.116]\n"
     ]
    },
    {
     "name": "stdout",
     "output_type": "stream",
     "text": [
      "Epoch [68/150], Training MAE: 0.2552, Training RMSE: 0.3817\n",
      "Epoch [68/150], Validation MAE: 0.2306, Validation RMSE: 0.3504\n"
     ]
    },
    {
     "name": "stderr",
     "output_type": "stream",
     "text": [
      "Epoch 69/150: 100%|██████████| 205/205 [00:08<00:00, 23.38batch/s, mae_loss=0.129]\n"
     ]
    },
    {
     "name": "stdout",
     "output_type": "stream",
     "text": [
      "Epoch [69/150], Training MAE: 0.2554, Training RMSE: 0.3809\n",
      "Epoch [69/150], Validation MAE: 0.2301, Validation RMSE: 0.3500\n"
     ]
    },
    {
     "name": "stderr",
     "output_type": "stream",
     "text": [
      "Epoch 70/150: 100%|██████████| 205/205 [00:09<00:00, 22.48batch/s, mae_loss=0.139]\n"
     ]
    },
    {
     "name": "stdout",
     "output_type": "stream",
     "text": [
      "Epoch [70/150], Training MAE: 0.2545, Training RMSE: 0.3808\n",
      "Epoch [70/150], Validation MAE: 0.2302, Validation RMSE: 0.3503\n"
     ]
    },
    {
     "name": "stderr",
     "output_type": "stream",
     "text": [
      "Epoch 71/150: 100%|██████████| 205/205 [00:08<00:00, 23.24batch/s, mae_loss=0.112]\n"
     ]
    },
    {
     "name": "stdout",
     "output_type": "stream",
     "text": [
      "Epoch [71/150], Training MAE: 0.2539, Training RMSE: 0.3803\n",
      "Epoch [71/150], Validation MAE: 0.2299, Validation RMSE: 0.3499\n"
     ]
    },
    {
     "name": "stderr",
     "output_type": "stream",
     "text": [
      "Epoch 72/150: 100%|██████████| 205/205 [00:08<00:00, 22.86batch/s, mae_loss=0.129]\n"
     ]
    },
    {
     "name": "stdout",
     "output_type": "stream",
     "text": [
      "Epoch [72/150], Training MAE: 0.2533, Training RMSE: 0.3799\n",
      "Epoch [72/150], Validation MAE: 0.2300, Validation RMSE: 0.3499\n"
     ]
    },
    {
     "name": "stderr",
     "output_type": "stream",
     "text": [
      "Epoch 73/150: 100%|██████████| 205/205 [00:08<00:00, 23.46batch/s, mae_loss=0.105]\n"
     ]
    },
    {
     "name": "stdout",
     "output_type": "stream",
     "text": [
      "Epoch [73/150], Training MAE: 0.2538, Training RMSE: 0.3808\n",
      "Epoch [73/150], Validation MAE: 0.2300, Validation RMSE: 0.3499\n"
     ]
    },
    {
     "name": "stderr",
     "output_type": "stream",
     "text": [
      "Epoch 74/150: 100%|██████████| 205/205 [00:09<00:00, 21.86batch/s, mae_loss=0.116]\n"
     ]
    },
    {
     "name": "stdout",
     "output_type": "stream",
     "text": [
      "Epoch [74/150], Training MAE: 0.2526, Training RMSE: 0.3794\n",
      "Epoch [74/150], Validation MAE: 0.2289, Validation RMSE: 0.3498\n"
     ]
    },
    {
     "name": "stderr",
     "output_type": "stream",
     "text": [
      "Epoch 75/150: 100%|██████████| 205/205 [00:08<00:00, 23.10batch/s, mae_loss=0.114]\n"
     ]
    },
    {
     "name": "stdout",
     "output_type": "stream",
     "text": [
      "Epoch [75/150], Training MAE: 0.2522, Training RMSE: 0.3784\n",
      "Epoch [75/150], Validation MAE: 0.2292, Validation RMSE: 0.3500\n"
     ]
    },
    {
     "name": "stderr",
     "output_type": "stream",
     "text": [
      "Epoch 76/150: 100%|██████████| 205/205 [00:08<00:00, 23.39batch/s, mae_loss=0.122]\n"
     ]
    },
    {
     "name": "stdout",
     "output_type": "stream",
     "text": [
      "Epoch [76/150], Training MAE: 0.2527, Training RMSE: 0.3797\n",
      "Epoch [76/150], Validation MAE: 0.2291, Validation RMSE: 0.3494\n"
     ]
    },
    {
     "name": "stderr",
     "output_type": "stream",
     "text": [
      "Epoch 77/150: 100%|██████████| 205/205 [00:08<00:00, 23.48batch/s, mae_loss=0.126]\n"
     ]
    },
    {
     "name": "stdout",
     "output_type": "stream",
     "text": [
      "Epoch [77/150], Training MAE: 0.2515, Training RMSE: 0.3774\n",
      "Epoch [77/150], Validation MAE: 0.2287, Validation RMSE: 0.3496\n"
     ]
    },
    {
     "name": "stderr",
     "output_type": "stream",
     "text": [
      "Epoch 78/150: 100%|██████████| 205/205 [00:09<00:00, 21.28batch/s, mae_loss=0.122]\n"
     ]
    },
    {
     "name": "stdout",
     "output_type": "stream",
     "text": [
      "Epoch [78/150], Training MAE: 0.2515, Training RMSE: 0.3776\n",
      "Epoch [78/150], Validation MAE: 0.2289, Validation RMSE: 0.3496\n"
     ]
    },
    {
     "name": "stderr",
     "output_type": "stream",
     "text": [
      "Epoch 79/150: 100%|██████████| 205/205 [00:08<00:00, 23.65batch/s, mae_loss=0.125]\n"
     ]
    },
    {
     "name": "stdout",
     "output_type": "stream",
     "text": [
      "Epoch [79/150], Training MAE: 0.2511, Training RMSE: 0.3774\n",
      "Epoch [79/150], Validation MAE: 0.2286, Validation RMSE: 0.3495\n"
     ]
    },
    {
     "name": "stderr",
     "output_type": "stream",
     "text": [
      "Epoch 80/150: 100%|██████████| 205/205 [00:08<00:00, 23.71batch/s, mae_loss=0.121]\n"
     ]
    },
    {
     "name": "stdout",
     "output_type": "stream",
     "text": [
      "Epoch [80/150], Training MAE: 0.2508, Training RMSE: 0.3776\n",
      "Epoch [80/150], Validation MAE: 0.2291, Validation RMSE: 0.3497\n"
     ]
    },
    {
     "name": "stderr",
     "output_type": "stream",
     "text": [
      "Epoch 81/150: 100%|██████████| 205/205 [00:09<00:00, 22.43batch/s, mae_loss=0.122]\n"
     ]
    },
    {
     "name": "stdout",
     "output_type": "stream",
     "text": [
      "Epoch [81/150], Training MAE: 0.2509, Training RMSE: 0.3767\n",
      "Epoch [81/150], Validation MAE: 0.2283, Validation RMSE: 0.3493\n"
     ]
    },
    {
     "name": "stderr",
     "output_type": "stream",
     "text": [
      "Epoch 82/150: 100%|██████████| 205/205 [00:08<00:00, 23.45batch/s, mae_loss=0.116]\n"
     ]
    },
    {
     "name": "stdout",
     "output_type": "stream",
     "text": [
      "Epoch [82/150], Training MAE: 0.2502, Training RMSE: 0.3758\n",
      "Epoch [82/150], Validation MAE: 0.2287, Validation RMSE: 0.3492\n"
     ]
    },
    {
     "name": "stderr",
     "output_type": "stream",
     "text": [
      "Epoch 83/150: 100%|██████████| 205/205 [00:08<00:00, 23.57batch/s, mae_loss=0.133]\n"
     ]
    },
    {
     "name": "stdout",
     "output_type": "stream",
     "text": [
      "Epoch [83/150], Training MAE: 0.2499, Training RMSE: 0.3757\n",
      "Epoch [83/150], Validation MAE: 0.2279, Validation RMSE: 0.3492\n"
     ]
    },
    {
     "name": "stderr",
     "output_type": "stream",
     "text": [
      "Epoch 84/150: 100%|██████████| 205/205 [00:09<00:00, 21.54batch/s, mae_loss=0.122]\n"
     ]
    },
    {
     "name": "stdout",
     "output_type": "stream",
     "text": [
      "Epoch [84/150], Training MAE: 0.2496, Training RMSE: 0.3758\n",
      "Epoch [84/150], Validation MAE: 0.2279, Validation RMSE: 0.3489\n"
     ]
    },
    {
     "name": "stderr",
     "output_type": "stream",
     "text": [
      "Epoch 85/150: 100%|██████████| 205/205 [00:08<00:00, 23.84batch/s, mae_loss=0.119]\n"
     ]
    },
    {
     "name": "stdout",
     "output_type": "stream",
     "text": [
      "Epoch [85/150], Training MAE: 0.2498, Training RMSE: 0.3765\n",
      "Epoch [85/150], Validation MAE: 0.2285, Validation RMSE: 0.3494\n"
     ]
    },
    {
     "name": "stderr",
     "output_type": "stream",
     "text": [
      "Epoch 86/150: 100%|██████████| 205/205 [00:08<00:00, 23.85batch/s, mae_loss=0.12] \n"
     ]
    },
    {
     "name": "stdout",
     "output_type": "stream",
     "text": [
      "Epoch [86/150], Training MAE: 0.2492, Training RMSE: 0.3751\n",
      "Epoch [86/150], Validation MAE: 0.2278, Validation RMSE: 0.3489\n"
     ]
    },
    {
     "name": "stderr",
     "output_type": "stream",
     "text": [
      "Epoch 87/150: 100%|██████████| 205/205 [00:08<00:00, 23.61batch/s, mae_loss=0.128]\n"
     ]
    },
    {
     "name": "stdout",
     "output_type": "stream",
     "text": [
      "Epoch [87/150], Training MAE: 0.2495, Training RMSE: 0.3757\n",
      "Epoch [87/150], Validation MAE: 0.2279, Validation RMSE: 0.3486\n"
     ]
    },
    {
     "name": "stderr",
     "output_type": "stream",
     "text": [
      "Epoch 88/150: 100%|██████████| 205/205 [00:08<00:00, 22.86batch/s, mae_loss=0.107]\n"
     ]
    },
    {
     "name": "stdout",
     "output_type": "stream",
     "text": [
      "Epoch [88/150], Training MAE: 0.2487, Training RMSE: 0.3751\n",
      "Epoch [88/150], Validation MAE: 0.2281, Validation RMSE: 0.3490\n"
     ]
    },
    {
     "name": "stderr",
     "output_type": "stream",
     "text": [
      "Epoch 89/150: 100%|██████████| 205/205 [00:08<00:00, 23.37batch/s, mae_loss=0.111]\n"
     ]
    },
    {
     "name": "stdout",
     "output_type": "stream",
     "text": [
      "Epoch [89/150], Training MAE: 0.2490, Training RMSE: 0.3754\n",
      "Epoch [89/150], Validation MAE: 0.2279, Validation RMSE: 0.3487\n"
     ]
    },
    {
     "name": "stderr",
     "output_type": "stream",
     "text": [
      "Epoch 90/150: 100%|██████████| 205/205 [00:09<00:00, 21.55batch/s, mae_loss=0.133]\n"
     ]
    },
    {
     "name": "stdout",
     "output_type": "stream",
     "text": [
      "Epoch [90/150], Training MAE: 0.2486, Training RMSE: 0.3748\n",
      "Epoch [90/150], Validation MAE: 0.2274, Validation RMSE: 0.3486\n"
     ]
    },
    {
     "name": "stderr",
     "output_type": "stream",
     "text": [
      "Epoch 91/150: 100%|██████████| 205/205 [00:08<00:00, 23.40batch/s, mae_loss=0.123]\n"
     ]
    },
    {
     "name": "stdout",
     "output_type": "stream",
     "text": [
      "Epoch [91/150], Training MAE: 0.2472, Training RMSE: 0.3737\n",
      "Epoch [91/150], Validation MAE: 0.2273, Validation RMSE: 0.3484\n"
     ]
    },
    {
     "name": "stderr",
     "output_type": "stream",
     "text": [
      "Epoch 92/150: 100%|██████████| 205/205 [00:08<00:00, 23.43batch/s, mae_loss=0.12] \n"
     ]
    },
    {
     "name": "stdout",
     "output_type": "stream",
     "text": [
      "Epoch [92/150], Training MAE: 0.2476, Training RMSE: 0.3745\n",
      "Epoch [92/150], Validation MAE: 0.2272, Validation RMSE: 0.3481\n"
     ]
    },
    {
     "name": "stderr",
     "output_type": "stream",
     "text": [
      "Epoch 93/150: 100%|██████████| 205/205 [00:08<00:00, 23.40batch/s, mae_loss=0.114]\n"
     ]
    },
    {
     "name": "stdout",
     "output_type": "stream",
     "text": [
      "Epoch [93/150], Training MAE: 0.2475, Training RMSE: 0.3735\n",
      "Epoch [93/150], Validation MAE: 0.2268, Validation RMSE: 0.3480\n"
     ]
    },
    {
     "name": "stderr",
     "output_type": "stream",
     "text": [
      "Epoch 94/150: 100%|██████████| 205/205 [00:08<00:00, 23.04batch/s, mae_loss=0.109]\n"
     ]
    },
    {
     "name": "stdout",
     "output_type": "stream",
     "text": [
      "Epoch [94/150], Training MAE: 0.2474, Training RMSE: 0.3739\n",
      "Epoch [94/150], Validation MAE: 0.2264, Validation RMSE: 0.3478\n"
     ]
    },
    {
     "name": "stderr",
     "output_type": "stream",
     "text": [
      "Epoch 95/150: 100%|██████████| 205/205 [00:08<00:00, 23.04batch/s, mae_loss=0.115]\n"
     ]
    },
    {
     "name": "stdout",
     "output_type": "stream",
     "text": [
      "Epoch [95/150], Training MAE: 0.2466, Training RMSE: 0.3725\n",
      "Epoch [95/150], Validation MAE: 0.2271, Validation RMSE: 0.3482\n"
     ]
    },
    {
     "name": "stderr",
     "output_type": "stream",
     "text": [
      "Epoch 96/150: 100%|██████████| 205/205 [00:09<00:00, 22.07batch/s, mae_loss=0.119]\n"
     ]
    },
    {
     "name": "stdout",
     "output_type": "stream",
     "text": [
      "Epoch [96/150], Training MAE: 0.2468, Training RMSE: 0.3735\n",
      "Epoch [96/150], Validation MAE: 0.2275, Validation RMSE: 0.3484\n"
     ]
    },
    {
     "name": "stderr",
     "output_type": "stream",
     "text": [
      "Epoch 97/150: 100%|██████████| 205/205 [00:08<00:00, 23.57batch/s, mae_loss=0.107]\n"
     ]
    },
    {
     "name": "stdout",
     "output_type": "stream",
     "text": [
      "Epoch [97/150], Training MAE: 0.2469, Training RMSE: 0.3730\n",
      "Epoch [97/150], Validation MAE: 0.2270, Validation RMSE: 0.3482\n"
     ]
    },
    {
     "name": "stderr",
     "output_type": "stream",
     "text": [
      "Epoch 98/150: 100%|██████████| 205/205 [00:08<00:00, 23.51batch/s, mae_loss=0.107]\n"
     ]
    },
    {
     "name": "stdout",
     "output_type": "stream",
     "text": [
      "Epoch [98/150], Training MAE: 0.2462, Training RMSE: 0.3719\n",
      "Epoch [98/150], Validation MAE: 0.2273, Validation RMSE: 0.3483\n"
     ]
    },
    {
     "name": "stderr",
     "output_type": "stream",
     "text": [
      "Epoch 99/150: 100%|██████████| 205/205 [00:08<00:00, 23.67batch/s, mae_loss=0.109]\n"
     ]
    },
    {
     "name": "stdout",
     "output_type": "stream",
     "text": [
      "Epoch [99/150], Training MAE: 0.2456, Training RMSE: 0.3715\n",
      "Epoch [99/150], Validation MAE: 0.2272, Validation RMSE: 0.3480\n"
     ]
    },
    {
     "name": "stderr",
     "output_type": "stream",
     "text": [
      "Epoch 100/150: 100%|██████████| 205/205 [00:08<00:00, 23.50batch/s, mae_loss=0.123]\n"
     ]
    },
    {
     "name": "stdout",
     "output_type": "stream",
     "text": [
      "Epoch [100/150], Training MAE: 0.2456, Training RMSE: 0.3713\n",
      "Epoch [100/150], Validation MAE: 0.2267, Validation RMSE: 0.3479\n"
     ]
    },
    {
     "name": "stderr",
     "output_type": "stream",
     "text": [
      "Epoch 101/150: 100%|██████████| 205/205 [00:09<00:00, 22.66batch/s, mae_loss=0.106]\n"
     ]
    },
    {
     "name": "stdout",
     "output_type": "stream",
     "text": [
      "Epoch [101/150], Training MAE: 0.2454, Training RMSE: 0.3711\n",
      "Epoch [101/150], Validation MAE: 0.2267, Validation RMSE: 0.3480\n"
     ]
    },
    {
     "name": "stderr",
     "output_type": "stream",
     "text": [
      "Epoch 102/150: 100%|██████████| 205/205 [00:08<00:00, 23.59batch/s, mae_loss=0.102]\n"
     ]
    },
    {
     "name": "stdout",
     "output_type": "stream",
     "text": [
      "Epoch [102/150], Training MAE: 0.2450, Training RMSE: 0.3711\n",
      "Epoch [102/150], Validation MAE: 0.2267, Validation RMSE: 0.3481\n"
     ]
    },
    {
     "name": "stderr",
     "output_type": "stream",
     "text": [
      "Epoch 103/150: 100%|██████████| 205/205 [00:09<00:00, 22.62batch/s, mae_loss=0.107]\n"
     ]
    },
    {
     "name": "stdout",
     "output_type": "stream",
     "text": [
      "Epoch [103/150], Training MAE: 0.2448, Training RMSE: 0.3703\n",
      "Epoch [103/150], Validation MAE: 0.2271, Validation RMSE: 0.3480\n"
     ]
    },
    {
     "name": "stderr",
     "output_type": "stream",
     "text": [
      "Epoch 104/150: 100%|██████████| 205/205 [00:08<00:00, 23.55batch/s, mae_loss=0.109]\n"
     ]
    },
    {
     "name": "stdout",
     "output_type": "stream",
     "text": [
      "Epoch [104/150], Training MAE: 0.2450, Training RMSE: 0.3708\n",
      "Epoch [104/150], Validation MAE: 0.2263, Validation RMSE: 0.3478\n"
     ]
    },
    {
     "name": "stderr",
     "output_type": "stream",
     "text": [
      "Epoch 105/150: 100%|██████████| 205/205 [00:08<00:00, 23.60batch/s, mae_loss=0.113]\n"
     ]
    },
    {
     "name": "stdout",
     "output_type": "stream",
     "text": [
      "Epoch [105/150], Training MAE: 0.2441, Training RMSE: 0.3695\n",
      "Epoch [105/150], Validation MAE: 0.2263, Validation RMSE: 0.3476\n"
     ]
    },
    {
     "name": "stderr",
     "output_type": "stream",
     "text": [
      "Epoch 106/150: 100%|██████████| 205/205 [00:08<00:00, 23.43batch/s, mae_loss=0.0974]\n"
     ]
    },
    {
     "name": "stdout",
     "output_type": "stream",
     "text": [
      "Epoch [106/150], Training MAE: 0.2447, Training RMSE: 0.3705\n",
      "Epoch [106/150], Validation MAE: 0.2263, Validation RMSE: 0.3476\n"
     ]
    },
    {
     "name": "stderr",
     "output_type": "stream",
     "text": [
      "Epoch 107/150: 100%|██████████| 205/205 [00:08<00:00, 23.47batch/s, mae_loss=0.0995]\n"
     ]
    },
    {
     "name": "stdout",
     "output_type": "stream",
     "text": [
      "Epoch [107/150], Training MAE: 0.2443, Training RMSE: 0.3703\n",
      "Epoch [107/150], Validation MAE: 0.2263, Validation RMSE: 0.3475\n"
     ]
    },
    {
     "name": "stderr",
     "output_type": "stream",
     "text": [
      "Epoch 108/150: 100%|██████████| 205/205 [00:09<00:00, 22.18batch/s, mae_loss=0.109]\n"
     ]
    },
    {
     "name": "stdout",
     "output_type": "stream",
     "text": [
      "Epoch [108/150], Training MAE: 0.2436, Training RMSE: 0.3688\n",
      "Epoch [108/150], Validation MAE: 0.2262, Validation RMSE: 0.3475\n"
     ]
    },
    {
     "name": "stderr",
     "output_type": "stream",
     "text": [
      "Epoch 109/150: 100%|██████████| 205/205 [00:09<00:00, 22.19batch/s, mae_loss=0.107]\n"
     ]
    },
    {
     "name": "stdout",
     "output_type": "stream",
     "text": [
      "Epoch [109/150], Training MAE: 0.2440, Training RMSE: 0.3692\n",
      "Epoch [109/150], Validation MAE: 0.2260, Validation RMSE: 0.3471\n"
     ]
    },
    {
     "name": "stderr",
     "output_type": "stream",
     "text": [
      "Epoch 110/150: 100%|██████████| 205/205 [00:08<00:00, 23.82batch/s, mae_loss=0.116]\n"
     ]
    },
    {
     "name": "stdout",
     "output_type": "stream",
     "text": [
      "Epoch [110/150], Training MAE: 0.2437, Training RMSE: 0.3691\n",
      "Epoch [110/150], Validation MAE: 0.2264, Validation RMSE: 0.3475\n"
     ]
    },
    {
     "name": "stderr",
     "output_type": "stream",
     "text": [
      "Epoch 111/150: 100%|██████████| 205/205 [00:08<00:00, 23.84batch/s, mae_loss=0.107]\n"
     ]
    },
    {
     "name": "stdout",
     "output_type": "stream",
     "text": [
      "Epoch [111/150], Training MAE: 0.2433, Training RMSE: 0.3686\n",
      "Epoch [111/150], Validation MAE: 0.2256, Validation RMSE: 0.3469\n"
     ]
    },
    {
     "name": "stderr",
     "output_type": "stream",
     "text": [
      "Epoch 112/150: 100%|██████████| 205/205 [00:08<00:00, 23.65batch/s, mae_loss=0.112]\n"
     ]
    },
    {
     "name": "stdout",
     "output_type": "stream",
     "text": [
      "Epoch [112/150], Training MAE: 0.2434, Training RMSE: 0.3690\n",
      "Epoch [112/150], Validation MAE: 0.2257, Validation RMSE: 0.3470\n"
     ]
    },
    {
     "name": "stderr",
     "output_type": "stream",
     "text": [
      "Epoch 113/150: 100%|██████████| 205/205 [00:08<00:00, 23.85batch/s, mae_loss=0.106]\n"
     ]
    },
    {
     "name": "stdout",
     "output_type": "stream",
     "text": [
      "Epoch [113/150], Training MAE: 0.2432, Training RMSE: 0.3685\n",
      "Epoch [113/150], Validation MAE: 0.2258, Validation RMSE: 0.3468\n"
     ]
    },
    {
     "name": "stderr",
     "output_type": "stream",
     "text": [
      "Epoch 114/150: 100%|██████████| 205/205 [00:08<00:00, 23.85batch/s, mae_loss=0.119]\n"
     ]
    },
    {
     "name": "stdout",
     "output_type": "stream",
     "text": [
      "Epoch [114/150], Training MAE: 0.2429, Training RMSE: 0.3685\n",
      "Epoch [114/150], Validation MAE: 0.2259, Validation RMSE: 0.3471\n"
     ]
    },
    {
     "name": "stderr",
     "output_type": "stream",
     "text": [
      "Epoch 115/150: 100%|██████████| 205/205 [00:10<00:00, 20.48batch/s, mae_loss=0.109]\n"
     ]
    },
    {
     "name": "stdout",
     "output_type": "stream",
     "text": [
      "Epoch [115/150], Training MAE: 0.2429, Training RMSE: 0.3682\n",
      "Epoch [115/150], Validation MAE: 0.2252, Validation RMSE: 0.3468\n"
     ]
    },
    {
     "name": "stderr",
     "output_type": "stream",
     "text": [
      "Epoch 116/150: 100%|██████████| 205/205 [00:08<00:00, 23.65batch/s, mae_loss=0.115]\n"
     ]
    },
    {
     "name": "stdout",
     "output_type": "stream",
     "text": [
      "Epoch [116/150], Training MAE: 0.2420, Training RMSE: 0.3674\n",
      "Epoch [116/150], Validation MAE: 0.2255, Validation RMSE: 0.3469\n"
     ]
    },
    {
     "name": "stderr",
     "output_type": "stream",
     "text": [
      "Epoch 117/150: 100%|██████████| 205/205 [00:08<00:00, 23.64batch/s, mae_loss=0.11] \n"
     ]
    },
    {
     "name": "stdout",
     "output_type": "stream",
     "text": [
      "Epoch [117/150], Training MAE: 0.2426, Training RMSE: 0.3687\n",
      "Epoch [117/150], Validation MAE: 0.2258, Validation RMSE: 0.3470\n"
     ]
    },
    {
     "name": "stderr",
     "output_type": "stream",
     "text": [
      "Epoch 118/150: 100%|██████████| 205/205 [00:08<00:00, 23.56batch/s, mae_loss=0.11] \n"
     ]
    },
    {
     "name": "stdout",
     "output_type": "stream",
     "text": [
      "Epoch [118/150], Training MAE: 0.2425, Training RMSE: 0.3675\n",
      "Epoch [118/150], Validation MAE: 0.2253, Validation RMSE: 0.3469\n"
     ]
    },
    {
     "name": "stderr",
     "output_type": "stream",
     "text": [
      "Epoch 119/150: 100%|██████████| 205/205 [00:08<00:00, 23.71batch/s, mae_loss=0.104]\n"
     ]
    },
    {
     "name": "stdout",
     "output_type": "stream",
     "text": [
      "Epoch [119/150], Training MAE: 0.2420, Training RMSE: 0.3675\n",
      "Epoch [119/150], Validation MAE: 0.2252, Validation RMSE: 0.3467\n"
     ]
    },
    {
     "name": "stderr",
     "output_type": "stream",
     "text": [
      "Epoch 120/150: 100%|██████████| 205/205 [00:08<00:00, 23.43batch/s, mae_loss=0.0997]\n"
     ]
    },
    {
     "name": "stdout",
     "output_type": "stream",
     "text": [
      "Epoch [120/150], Training MAE: 0.2422, Training RMSE: 0.3676\n",
      "Epoch [120/150], Validation MAE: 0.2256, Validation RMSE: 0.3469\n"
     ]
    },
    {
     "name": "stderr",
     "output_type": "stream",
     "text": [
      "Epoch 121/150: 100%|██████████| 205/205 [00:09<00:00, 21.37batch/s, mae_loss=0.114]\n"
     ]
    },
    {
     "name": "stdout",
     "output_type": "stream",
     "text": [
      "Epoch [121/150], Training MAE: 0.2419, Training RMSE: 0.3669\n",
      "Epoch [121/150], Validation MAE: 0.2256, Validation RMSE: 0.3470\n"
     ]
    },
    {
     "name": "stderr",
     "output_type": "stream",
     "text": [
      "Epoch 122/150: 100%|██████████| 205/205 [00:08<00:00, 23.28batch/s, mae_loss=0.111] \n"
     ]
    },
    {
     "name": "stdout",
     "output_type": "stream",
     "text": [
      "Epoch [122/150], Training MAE: 0.2416, Training RMSE: 0.3677\n",
      "Epoch [122/150], Validation MAE: 0.2261, Validation RMSE: 0.3470\n"
     ]
    },
    {
     "name": "stderr",
     "output_type": "stream",
     "text": [
      "Epoch 123/150: 100%|██████████| 205/205 [00:08<00:00, 23.61batch/s, mae_loss=0.0935]\n"
     ]
    },
    {
     "name": "stdout",
     "output_type": "stream",
     "text": [
      "Epoch [123/150], Training MAE: 0.2411, Training RMSE: 0.3669\n",
      "Epoch [123/150], Validation MAE: 0.2254, Validation RMSE: 0.3467\n"
     ]
    },
    {
     "name": "stderr",
     "output_type": "stream",
     "text": [
      "Epoch 124/150: 100%|██████████| 205/205 [00:08<00:00, 23.62batch/s, mae_loss=0.112]\n"
     ]
    },
    {
     "name": "stdout",
     "output_type": "stream",
     "text": [
      "Epoch [124/150], Training MAE: 0.2411, Training RMSE: 0.3670\n",
      "Epoch [124/150], Validation MAE: 0.2247, Validation RMSE: 0.3464\n"
     ]
    },
    {
     "name": "stderr",
     "output_type": "stream",
     "text": [
      "Epoch 125/150: 100%|██████████| 205/205 [00:08<00:00, 23.82batch/s, mae_loss=0.0998]\n"
     ]
    },
    {
     "name": "stdout",
     "output_type": "stream",
     "text": [
      "Epoch [125/150], Training MAE: 0.2408, Training RMSE: 0.3659\n",
      "Epoch [125/150], Validation MAE: 0.2247, Validation RMSE: 0.3464\n"
     ]
    },
    {
     "name": "stderr",
     "output_type": "stream",
     "text": [
      "Epoch 126/150: 100%|██████████| 205/205 [00:09<00:00, 22.74batch/s, mae_loss=0.119]\n"
     ]
    },
    {
     "name": "stdout",
     "output_type": "stream",
     "text": [
      "Epoch [126/150], Training MAE: 0.2416, Training RMSE: 0.3670\n",
      "Epoch [126/150], Validation MAE: 0.2252, Validation RMSE: 0.3465\n"
     ]
    },
    {
     "name": "stderr",
     "output_type": "stream",
     "text": [
      "Epoch 127/150: 100%|██████████| 205/205 [00:08<00:00, 23.28batch/s, mae_loss=0.113]\n"
     ]
    },
    {
     "name": "stdout",
     "output_type": "stream",
     "text": [
      "Epoch [127/150], Training MAE: 0.2409, Training RMSE: 0.3660\n",
      "Epoch [127/150], Validation MAE: 0.2249, Validation RMSE: 0.3459\n"
     ]
    },
    {
     "name": "stderr",
     "output_type": "stream",
     "text": [
      "Epoch 128/150: 100%|██████████| 205/205 [00:09<00:00, 21.93batch/s, mae_loss=0.113]\n"
     ]
    },
    {
     "name": "stdout",
     "output_type": "stream",
     "text": [
      "Epoch [128/150], Training MAE: 0.2403, Training RMSE: 0.3655\n",
      "Epoch [128/150], Validation MAE: 0.2249, Validation RMSE: 0.3461\n"
     ]
    },
    {
     "name": "stderr",
     "output_type": "stream",
     "text": [
      "Epoch 129/150: 100%|██████████| 205/205 [00:08<00:00, 23.69batch/s, mae_loss=0.104]\n"
     ]
    },
    {
     "name": "stdout",
     "output_type": "stream",
     "text": [
      "Epoch [129/150], Training MAE: 0.2402, Training RMSE: 0.3657\n",
      "Epoch [129/150], Validation MAE: 0.2245, Validation RMSE: 0.3460\n"
     ]
    },
    {
     "name": "stderr",
     "output_type": "stream",
     "text": [
      "Epoch 130/150: 100%|██████████| 205/205 [00:08<00:00, 23.59batch/s, mae_loss=0.116]\n"
     ]
    },
    {
     "name": "stdout",
     "output_type": "stream",
     "text": [
      "Epoch [130/150], Training MAE: 0.2402, Training RMSE: 0.3658\n",
      "Epoch [130/150], Validation MAE: 0.2245, Validation RMSE: 0.3456\n"
     ]
    },
    {
     "name": "stderr",
     "output_type": "stream",
     "text": [
      "Epoch 131/150: 100%|██████████| 205/205 [00:08<00:00, 23.60batch/s, mae_loss=0.114]\n"
     ]
    },
    {
     "name": "stdout",
     "output_type": "stream",
     "text": [
      "Epoch [131/150], Training MAE: 0.2401, Training RMSE: 0.3653\n",
      "Epoch [131/150], Validation MAE: 0.2241, Validation RMSE: 0.3457\n"
     ]
    },
    {
     "name": "stderr",
     "output_type": "stream",
     "text": [
      "Epoch 132/150: 100%|██████████| 205/205 [00:09<00:00, 21.92batch/s, mae_loss=0.108]\n"
     ]
    },
    {
     "name": "stdout",
     "output_type": "stream",
     "text": [
      "Epoch [132/150], Training MAE: 0.2400, Training RMSE: 0.3655\n",
      "Epoch [132/150], Validation MAE: 0.2239, Validation RMSE: 0.3455\n"
     ]
    },
    {
     "name": "stderr",
     "output_type": "stream",
     "text": [
      "Epoch 133/150: 100%|██████████| 205/205 [00:08<00:00, 22.91batch/s, mae_loss=0.103]\n"
     ]
    },
    {
     "name": "stdout",
     "output_type": "stream",
     "text": [
      "Epoch [133/150], Training MAE: 0.2397, Training RMSE: 0.3650\n",
      "Epoch [133/150], Validation MAE: 0.2238, Validation RMSE: 0.3455\n"
     ]
    },
    {
     "name": "stderr",
     "output_type": "stream",
     "text": [
      "Epoch 134/150: 100%|██████████| 205/205 [00:08<00:00, 22.87batch/s, mae_loss=0.11]  \n"
     ]
    },
    {
     "name": "stdout",
     "output_type": "stream",
     "text": [
      "Epoch [134/150], Training MAE: 0.2390, Training RMSE: 0.3637\n",
      "Epoch [134/150], Validation MAE: 0.2237, Validation RMSE: 0.3456\n"
     ]
    },
    {
     "name": "stderr",
     "output_type": "stream",
     "text": [
      "Epoch 135/150: 100%|██████████| 205/205 [00:09<00:00, 22.27batch/s, mae_loss=0.11] \n"
     ]
    },
    {
     "name": "stdout",
     "output_type": "stream",
     "text": [
      "Epoch [135/150], Training MAE: 0.2398, Training RMSE: 0.3647\n",
      "Epoch [135/150], Validation MAE: 0.2239, Validation RMSE: 0.3456\n"
     ]
    },
    {
     "name": "stderr",
     "output_type": "stream",
     "text": [
      "Epoch 136/150: 100%|██████████| 205/205 [00:08<00:00, 23.57batch/s, mae_loss=0.103] \n"
     ]
    },
    {
     "name": "stdout",
     "output_type": "stream",
     "text": [
      "Epoch [136/150], Training MAE: 0.2395, Training RMSE: 0.3642\n",
      "Epoch [136/150], Validation MAE: 0.2241, Validation RMSE: 0.3457\n"
     ]
    },
    {
     "name": "stderr",
     "output_type": "stream",
     "text": [
      "Epoch 137/150: 100%|██████████| 205/205 [00:08<00:00, 23.63batch/s, mae_loss=0.118]\n"
     ]
    },
    {
     "name": "stdout",
     "output_type": "stream",
     "text": [
      "Epoch [137/150], Training MAE: 0.2393, Training RMSE: 0.3647\n",
      "Epoch [137/150], Validation MAE: 0.2240, Validation RMSE: 0.3456\n"
     ]
    },
    {
     "name": "stderr",
     "output_type": "stream",
     "text": [
      "Epoch 138/150: 100%|██████████| 205/205 [00:08<00:00, 23.67batch/s, mae_loss=0.111]\n"
     ]
    },
    {
     "name": "stdout",
     "output_type": "stream",
     "text": [
      "Epoch [138/150], Training MAE: 0.2392, Training RMSE: 0.3644\n",
      "Epoch [138/150], Validation MAE: 0.2238, Validation RMSE: 0.3453\n"
     ]
    },
    {
     "name": "stderr",
     "output_type": "stream",
     "text": [
      "Epoch 139/150: 100%|██████████| 205/205 [00:08<00:00, 23.08batch/s, mae_loss=0.118]\n"
     ]
    },
    {
     "name": "stdout",
     "output_type": "stream",
     "text": [
      "Epoch [139/150], Training MAE: 0.2387, Training RMSE: 0.3640\n",
      "Epoch [139/150], Validation MAE: 0.2238, Validation RMSE: 0.3452\n"
     ]
    },
    {
     "name": "stderr",
     "output_type": "stream",
     "text": [
      "Epoch 140/150: 100%|██████████| 205/205 [00:09<00:00, 22.38batch/s, mae_loss=0.106]\n"
     ]
    },
    {
     "name": "stdout",
     "output_type": "stream",
     "text": [
      "Epoch [140/150], Training MAE: 0.2391, Training RMSE: 0.3646\n",
      "Epoch [140/150], Validation MAE: 0.2234, Validation RMSE: 0.3451\n"
     ]
    },
    {
     "name": "stderr",
     "output_type": "stream",
     "text": [
      "Epoch 141/150: 100%|██████████| 205/205 [00:08<00:00, 23.58batch/s, mae_loss=0.0993]\n"
     ]
    },
    {
     "name": "stdout",
     "output_type": "stream",
     "text": [
      "Epoch [141/150], Training MAE: 0.2386, Training RMSE: 0.3639\n",
      "Epoch [141/150], Validation MAE: 0.2240, Validation RMSE: 0.3452\n"
     ]
    },
    {
     "name": "stderr",
     "output_type": "stream",
     "text": [
      "Epoch 142/150: 100%|██████████| 205/205 [00:09<00:00, 22.49batch/s, mae_loss=0.0993]\n"
     ]
    },
    {
     "name": "stdout",
     "output_type": "stream",
     "text": [
      "Epoch [142/150], Training MAE: 0.2377, Training RMSE: 0.3634\n",
      "Epoch [142/150], Validation MAE: 0.2242, Validation RMSE: 0.3455\n"
     ]
    },
    {
     "name": "stderr",
     "output_type": "stream",
     "text": [
      "Epoch 143/150: 100%|██████████| 205/205 [00:08<00:00, 23.58batch/s, mae_loss=0.1]  \n"
     ]
    },
    {
     "name": "stdout",
     "output_type": "stream",
     "text": [
      "Epoch [143/150], Training MAE: 0.2382, Training RMSE: 0.3637\n",
      "Epoch [143/150], Validation MAE: 0.2239, Validation RMSE: 0.3452\n"
     ]
    },
    {
     "name": "stderr",
     "output_type": "stream",
     "text": [
      "Epoch 144/150: 100%|██████████| 205/205 [00:08<00:00, 23.53batch/s, mae_loss=0.101]\n"
     ]
    },
    {
     "name": "stdout",
     "output_type": "stream",
     "text": [
      "Epoch [144/150], Training MAE: 0.2385, Training RMSE: 0.3640\n",
      "Epoch [144/150], Validation MAE: 0.2243, Validation RMSE: 0.3454\n"
     ]
    },
    {
     "name": "stderr",
     "output_type": "stream",
     "text": [
      "Epoch 145/150: 100%|██████████| 205/205 [00:08<00:00, 23.62batch/s, mae_loss=0.107]\n"
     ]
    },
    {
     "name": "stdout",
     "output_type": "stream",
     "text": [
      "Epoch [145/150], Training MAE: 0.2381, Training RMSE: 0.3633\n",
      "Epoch [145/150], Validation MAE: 0.2232, Validation RMSE: 0.3449\n"
     ]
    },
    {
     "name": "stderr",
     "output_type": "stream",
     "text": [
      "Epoch 146/150: 100%|██████████| 205/205 [00:09<00:00, 21.47batch/s, mae_loss=0.103] \n"
     ]
    },
    {
     "name": "stdout",
     "output_type": "stream",
     "text": [
      "Epoch [146/150], Training MAE: 0.2378, Training RMSE: 0.3628\n",
      "Epoch [146/150], Validation MAE: 0.2235, Validation RMSE: 0.3451\n"
     ]
    },
    {
     "name": "stderr",
     "output_type": "stream",
     "text": [
      "Epoch 147/150: 100%|██████████| 205/205 [00:08<00:00, 23.37batch/s, mae_loss=0.111]\n"
     ]
    },
    {
     "name": "stdout",
     "output_type": "stream",
     "text": [
      "Epoch [147/150], Training MAE: 0.2381, Training RMSE: 0.3630\n",
      "Epoch [147/150], Validation MAE: 0.2235, Validation RMSE: 0.3447\n"
     ]
    },
    {
     "name": "stderr",
     "output_type": "stream",
     "text": [
      "Epoch 148/150: 100%|██████████| 205/205 [00:08<00:00, 23.30batch/s, mae_loss=0.119] \n"
     ]
    },
    {
     "name": "stdout",
     "output_type": "stream",
     "text": [
      "Epoch [148/150], Training MAE: 0.2381, Training RMSE: 0.3631\n",
      "Epoch [148/150], Validation MAE: 0.2232, Validation RMSE: 0.3448\n"
     ]
    },
    {
     "name": "stderr",
     "output_type": "stream",
     "text": [
      "Epoch 149/150: 100%|██████████| 205/205 [00:09<00:00, 22.74batch/s, mae_loss=0.106]\n"
     ]
    },
    {
     "name": "stdout",
     "output_type": "stream",
     "text": [
      "Epoch [149/150], Training MAE: 0.2376, Training RMSE: 0.3623\n",
      "Epoch [149/150], Validation MAE: 0.2235, Validation RMSE: 0.3448\n"
     ]
    },
    {
     "name": "stderr",
     "output_type": "stream",
     "text": [
      "Epoch 150/150: 100%|██████████| 205/205 [00:08<00:00, 23.50batch/s, mae_loss=0.106] \n"
     ]
    },
    {
     "name": "stdout",
     "output_type": "stream",
     "text": [
      "Epoch [150/150], Training MAE: 0.2374, Training RMSE: 0.3626\n",
      "Epoch [150/150], Validation MAE: 0.2231, Validation RMSE: 0.3444\n",
      "End Prediction Horizon of 6 of shared-layer Model\n",
      "model_shared-layer_attention_6_3 saved\n",
      "Shape of X (features): (5, 13089, 12)\n",
      "Shape of y (targets): (5, 13089)\n",
      "Shape of X_test (features): (5, 2863, 12)\n",
      "Shape of y_test (targets): (5, 2863)\n"
     ]
    },
    {
     "name": "stderr",
     "output_type": "stream",
     "text": [
      "Epoch 1/150: 100%|██████████| 205/205 [00:10<00:00, 19.04batch/s, mae_loss=0.596]\n"
     ]
    },
    {
     "name": "stdout",
     "output_type": "stream",
     "text": [
      "Epoch [1/150], Training MAE: 0.7383, Training RMSE: 0.9357\n",
      "Epoch [1/150], Validation MAE: 0.6774, Validation RMSE: 0.8840\n"
     ]
    },
    {
     "name": "stderr",
     "output_type": "stream",
     "text": [
      "Epoch 2/150: 100%|██████████| 205/205 [00:11<00:00, 18.27batch/s, mae_loss=0.479]\n"
     ]
    },
    {
     "name": "stdout",
     "output_type": "stream",
     "text": [
      "Epoch [2/150], Training MAE: 0.6513, Training RMSE: 0.8383\n",
      "Epoch [2/150], Validation MAE: 0.5878, Validation RMSE: 0.7796\n"
     ]
    },
    {
     "name": "stderr",
     "output_type": "stream",
     "text": [
      "Epoch 3/150: 100%|██████████| 205/205 [00:10<00:00, 19.39batch/s, mae_loss=0.362]\n"
     ]
    },
    {
     "name": "stdout",
     "output_type": "stream",
     "text": [
      "Epoch [3/150], Training MAE: 0.5694, Training RMSE: 0.7473\n",
      "Epoch [3/150], Validation MAE: 0.5046, Validation RMSE: 0.6844\n"
     ]
    },
    {
     "name": "stderr",
     "output_type": "stream",
     "text": [
      "Epoch 4/150: 100%|██████████| 205/205 [00:10<00:00, 19.23batch/s, mae_loss=0.274]\n"
     ]
    },
    {
     "name": "stdout",
     "output_type": "stream",
     "text": [
      "Epoch [4/150], Training MAE: 0.5046, Training RMSE: 0.6764\n",
      "Epoch [4/150], Validation MAE: 0.4465, Validation RMSE: 0.6120\n"
     ]
    },
    {
     "name": "stderr",
     "output_type": "stream",
     "text": [
      "Epoch 5/150: 100%|██████████| 205/205 [00:10<00:00, 19.47batch/s, mae_loss=0.263]\n"
     ]
    },
    {
     "name": "stdout",
     "output_type": "stream",
     "text": [
      "Epoch [5/150], Training MAE: 0.4621, Training RMSE: 0.6284\n",
      "Epoch [5/150], Validation MAE: 0.4113, Validation RMSE: 0.5665\n"
     ]
    },
    {
     "name": "stderr",
     "output_type": "stream",
     "text": [
      "Epoch 6/150: 100%|██████████| 205/205 [00:10<00:00, 18.76batch/s, mae_loss=0.271]\n"
     ]
    },
    {
     "name": "stdout",
     "output_type": "stream",
     "text": [
      "Epoch [6/150], Training MAE: 0.4378, Training RMSE: 0.6020\n",
      "Epoch [6/150], Validation MAE: 0.3956, Validation RMSE: 0.5472\n"
     ]
    },
    {
     "name": "stderr",
     "output_type": "stream",
     "text": [
      "Epoch 7/150: 100%|██████████| 205/205 [00:10<00:00, 19.12batch/s, mae_loss=0.277]\n"
     ]
    },
    {
     "name": "stdout",
     "output_type": "stream",
     "text": [
      "Epoch [7/150], Training MAE: 0.4268, Training RMSE: 0.5906\n",
      "Epoch [7/150], Validation MAE: 0.3874, Validation RMSE: 0.5368\n"
     ]
    },
    {
     "name": "stderr",
     "output_type": "stream",
     "text": [
      "Epoch 8/150: 100%|██████████| 205/205 [00:10<00:00, 19.76batch/s, mae_loss=0.252]\n"
     ]
    },
    {
     "name": "stdout",
     "output_type": "stream",
     "text": [
      "Epoch [8/150], Training MAE: 0.4171, Training RMSE: 0.5789\n",
      "Epoch [8/150], Validation MAE: 0.3800, Validation RMSE: 0.5273\n"
     ]
    },
    {
     "name": "stderr",
     "output_type": "stream",
     "text": [
      "Epoch 9/150: 100%|██████████| 205/205 [00:10<00:00, 19.59batch/s, mae_loss=0.265]\n"
     ]
    },
    {
     "name": "stdout",
     "output_type": "stream",
     "text": [
      "Epoch [9/150], Training MAE: 0.4094, Training RMSE: 0.5685\n",
      "Epoch [9/150], Validation MAE: 0.3719, Validation RMSE: 0.5172\n"
     ]
    },
    {
     "name": "stderr",
     "output_type": "stream",
     "text": [
      "Epoch 10/150: 100%|██████████| 205/205 [00:11<00:00, 18.52batch/s, mae_loss=0.256]\n"
     ]
    },
    {
     "name": "stdout",
     "output_type": "stream",
     "text": [
      "Epoch [10/150], Training MAE: 0.4007, Training RMSE: 0.5576\n",
      "Epoch [10/150], Validation MAE: 0.3641, Validation RMSE: 0.5065\n"
     ]
    },
    {
     "name": "stderr",
     "output_type": "stream",
     "text": [
      "Epoch 11/150: 100%|██████████| 205/205 [00:10<00:00, 19.55batch/s, mae_loss=0.257]\n"
     ]
    },
    {
     "name": "stdout",
     "output_type": "stream",
     "text": [
      "Epoch [11/150], Training MAE: 0.3917, Training RMSE: 0.5464\n",
      "Epoch [11/150], Validation MAE: 0.3559, Validation RMSE: 0.4953\n"
     ]
    },
    {
     "name": "stderr",
     "output_type": "stream",
     "text": [
      "Epoch 12/150: 100%|██████████| 205/205 [00:10<00:00, 19.61batch/s, mae_loss=0.251]\n"
     ]
    },
    {
     "name": "stdout",
     "output_type": "stream",
     "text": [
      "Epoch [12/150], Training MAE: 0.3826, Training RMSE: 0.5345\n",
      "Epoch [12/150], Validation MAE: 0.3477, Validation RMSE: 0.4840\n"
     ]
    },
    {
     "name": "stderr",
     "output_type": "stream",
     "text": [
      "Epoch 13/150: 100%|██████████| 205/205 [00:10<00:00, 19.26batch/s, mae_loss=0.241]\n"
     ]
    },
    {
     "name": "stdout",
     "output_type": "stream",
     "text": [
      "Epoch [13/150], Training MAE: 0.3738, Training RMSE: 0.5232\n",
      "Epoch [13/150], Validation MAE: 0.3401, Validation RMSE: 0.4735\n"
     ]
    },
    {
     "name": "stderr",
     "output_type": "stream",
     "text": [
      "Epoch 14/150: 100%|██████████| 205/205 [00:10<00:00, 19.83batch/s, mae_loss=0.236]\n"
     ]
    },
    {
     "name": "stdout",
     "output_type": "stream",
     "text": [
      "Epoch [14/150], Training MAE: 0.3661, Training RMSE: 0.5142\n",
      "Epoch [14/150], Validation MAE: 0.3314, Validation RMSE: 0.4621\n"
     ]
    },
    {
     "name": "stderr",
     "output_type": "stream",
     "text": [
      "Epoch 15/150: 100%|██████████| 205/205 [00:10<00:00, 19.63batch/s, mae_loss=0.234]\n"
     ]
    },
    {
     "name": "stdout",
     "output_type": "stream",
     "text": [
      "Epoch [15/150], Training MAE: 0.3581, Training RMSE: 0.5047\n",
      "Epoch [15/150], Validation MAE: 0.3233, Validation RMSE: 0.4519\n"
     ]
    },
    {
     "name": "stderr",
     "output_type": "stream",
     "text": [
      "Epoch 16/150: 100%|██████████| 205/205 [00:10<00:00, 18.78batch/s, mae_loss=0.234]\n"
     ]
    },
    {
     "name": "stdout",
     "output_type": "stream",
     "text": [
      "Epoch [16/150], Training MAE: 0.3513, Training RMSE: 0.4962\n",
      "Epoch [16/150], Validation MAE: 0.3172, Validation RMSE: 0.4442\n"
     ]
    },
    {
     "name": "stderr",
     "output_type": "stream",
     "text": [
      "Epoch 17/150: 100%|██████████| 205/205 [00:10<00:00, 18.68batch/s, mae_loss=0.233]\n"
     ]
    },
    {
     "name": "stdout",
     "output_type": "stream",
     "text": [
      "Epoch [17/150], Training MAE: 0.3442, Training RMSE: 0.4869\n",
      "Epoch [17/150], Validation MAE: 0.3117, Validation RMSE: 0.4370\n"
     ]
    },
    {
     "name": "stderr",
     "output_type": "stream",
     "text": [
      "Epoch 18/150: 100%|██████████| 205/205 [00:10<00:00, 19.23batch/s, mae_loss=0.208]\n"
     ]
    },
    {
     "name": "stdout",
     "output_type": "stream",
     "text": [
      "Epoch [18/150], Training MAE: 0.3388, Training RMSE: 0.4807\n",
      "Epoch [18/150], Validation MAE: 0.3055, Validation RMSE: 0.4294\n"
     ]
    },
    {
     "name": "stderr",
     "output_type": "stream",
     "text": [
      "Epoch 19/150: 100%|██████████| 205/205 [00:10<00:00, 19.76batch/s, mae_loss=0.233]\n"
     ]
    },
    {
     "name": "stdout",
     "output_type": "stream",
     "text": [
      "Epoch [19/150], Training MAE: 0.3327, Training RMSE: 0.4736\n",
      "Epoch [19/150], Validation MAE: 0.2995, Validation RMSE: 0.4221\n"
     ]
    },
    {
     "name": "stderr",
     "output_type": "stream",
     "text": [
      "Epoch 20/150: 100%|██████████| 205/205 [00:10<00:00, 19.83batch/s, mae_loss=0.215]\n"
     ]
    },
    {
     "name": "stdout",
     "output_type": "stream",
     "text": [
      "Epoch [20/150], Training MAE: 0.3280, Training RMSE: 0.4677\n",
      "Epoch [20/150], Validation MAE: 0.2949, Validation RMSE: 0.4170\n"
     ]
    },
    {
     "name": "stderr",
     "output_type": "stream",
     "text": [
      "Epoch 21/150: 100%|██████████| 205/205 [00:10<00:00, 19.20batch/s, mae_loss=0.215]\n"
     ]
    },
    {
     "name": "stdout",
     "output_type": "stream",
     "text": [
      "Epoch [21/150], Training MAE: 0.3243, Training RMSE: 0.4633\n",
      "Epoch [21/150], Validation MAE: 0.2899, Validation RMSE: 0.4112\n"
     ]
    },
    {
     "name": "stderr",
     "output_type": "stream",
     "text": [
      "Epoch 22/150: 100%|██████████| 205/205 [00:11<00:00, 18.62batch/s, mae_loss=0.229]\n"
     ]
    },
    {
     "name": "stdout",
     "output_type": "stream",
     "text": [
      "Epoch [22/150], Training MAE: 0.3206, Training RMSE: 0.4590\n",
      "Epoch [22/150], Validation MAE: 0.2864, Validation RMSE: 0.4078\n"
     ]
    },
    {
     "name": "stderr",
     "output_type": "stream",
     "text": [
      "Epoch 23/150: 100%|██████████| 205/205 [00:10<00:00, 18.90batch/s, mae_loss=0.202]\n"
     ]
    },
    {
     "name": "stdout",
     "output_type": "stream",
     "text": [
      "Epoch [23/150], Training MAE: 0.3172, Training RMSE: 0.4560\n",
      "Epoch [23/150], Validation MAE: 0.2830, Validation RMSE: 0.4038\n"
     ]
    },
    {
     "name": "stderr",
     "output_type": "stream",
     "text": [
      "Epoch 24/150: 100%|██████████| 205/205 [00:10<00:00, 19.49batch/s, mae_loss=0.222]\n"
     ]
    },
    {
     "name": "stdout",
     "output_type": "stream",
     "text": [
      "Epoch [24/150], Training MAE: 0.3156, Training RMSE: 0.4535\n",
      "Epoch [24/150], Validation MAE: 0.2798, Validation RMSE: 0.4005\n"
     ]
    },
    {
     "name": "stderr",
     "output_type": "stream",
     "text": [
      "Epoch 25/150: 100%|██████████| 205/205 [00:10<00:00, 19.61batch/s, mae_loss=0.221]\n"
     ]
    },
    {
     "name": "stdout",
     "output_type": "stream",
     "text": [
      "Epoch [25/150], Training MAE: 0.3117, Training RMSE: 0.4489\n",
      "Epoch [25/150], Validation MAE: 0.2777, Validation RMSE: 0.3981\n"
     ]
    },
    {
     "name": "stderr",
     "output_type": "stream",
     "text": [
      "Epoch 26/150: 100%|██████████| 205/205 [00:10<00:00, 19.48batch/s, mae_loss=0.214]\n"
     ]
    },
    {
     "name": "stdout",
     "output_type": "stream",
     "text": [
      "Epoch [26/150], Training MAE: 0.3096, Training RMSE: 0.4468\n",
      "Epoch [26/150], Validation MAE: 0.2748, Validation RMSE: 0.3949\n"
     ]
    },
    {
     "name": "stderr",
     "output_type": "stream",
     "text": [
      "Epoch 27/150: 100%|██████████| 205/205 [00:11<00:00, 17.86batch/s, mae_loss=0.213]\n"
     ]
    },
    {
     "name": "stdout",
     "output_type": "stream",
     "text": [
      "Epoch [27/150], Training MAE: 0.3069, Training RMSE: 0.4441\n",
      "Epoch [27/150], Validation MAE: 0.2726, Validation RMSE: 0.3923\n"
     ]
    },
    {
     "name": "stderr",
     "output_type": "stream",
     "text": [
      "Epoch 28/150: 100%|██████████| 205/205 [00:10<00:00, 19.18batch/s, mae_loss=0.194]\n"
     ]
    },
    {
     "name": "stdout",
     "output_type": "stream",
     "text": [
      "Epoch [28/150], Training MAE: 0.3061, Training RMSE: 0.4432\n",
      "Epoch [28/150], Validation MAE: 0.2710, Validation RMSE: 0.3908\n"
     ]
    },
    {
     "name": "stderr",
     "output_type": "stream",
     "text": [
      "Epoch 29/150: 100%|██████████| 205/205 [00:10<00:00, 19.77batch/s, mae_loss=0.196]\n"
     ]
    },
    {
     "name": "stdout",
     "output_type": "stream",
     "text": [
      "Epoch [29/150], Training MAE: 0.3037, Training RMSE: 0.4399\n",
      "Epoch [29/150], Validation MAE: 0.2693, Validation RMSE: 0.3888\n"
     ]
    },
    {
     "name": "stderr",
     "output_type": "stream",
     "text": [
      "Epoch 30/150: 100%|██████████| 205/205 [00:10<00:00, 19.77batch/s, mae_loss=0.204]\n"
     ]
    },
    {
     "name": "stdout",
     "output_type": "stream",
     "text": [
      "Epoch [30/150], Training MAE: 0.3011, Training RMSE: 0.4378\n",
      "Epoch [30/150], Validation MAE: 0.2677, Validation RMSE: 0.3871\n"
     ]
    },
    {
     "name": "stderr",
     "output_type": "stream",
     "text": [
      "Epoch 31/150: 100%|██████████| 205/205 [00:10<00:00, 19.77batch/s, mae_loss=0.189]\n"
     ]
    },
    {
     "name": "stdout",
     "output_type": "stream",
     "text": [
      "Epoch [31/150], Training MAE: 0.2999, Training RMSE: 0.4368\n",
      "Epoch [31/150], Validation MAE: 0.2661, Validation RMSE: 0.3856\n"
     ]
    },
    {
     "name": "stderr",
     "output_type": "stream",
     "text": [
      "Epoch 32/150: 100%|██████████| 205/205 [00:10<00:00, 18.67batch/s, mae_loss=0.194]\n"
     ]
    },
    {
     "name": "stdout",
     "output_type": "stream",
     "text": [
      "Epoch [32/150], Training MAE: 0.2979, Training RMSE: 0.4343\n",
      "Epoch [32/150], Validation MAE: 0.2649, Validation RMSE: 0.3842\n"
     ]
    },
    {
     "name": "stderr",
     "output_type": "stream",
     "text": [
      "Epoch 33/150: 100%|██████████| 205/205 [00:10<00:00, 18.79batch/s, mae_loss=0.19] \n"
     ]
    },
    {
     "name": "stdout",
     "output_type": "stream",
     "text": [
      "Epoch [33/150], Training MAE: 0.2977, Training RMSE: 0.4334\n",
      "Epoch [33/150], Validation MAE: 0.2637, Validation RMSE: 0.3829\n"
     ]
    },
    {
     "name": "stderr",
     "output_type": "stream",
     "text": [
      "Epoch 34/150: 100%|██████████| 205/205 [00:10<00:00, 19.65batch/s, mae_loss=0.2]  \n"
     ]
    },
    {
     "name": "stdout",
     "output_type": "stream",
     "text": [
      "Epoch [34/150], Training MAE: 0.2954, Training RMSE: 0.4307\n",
      "Epoch [34/150], Validation MAE: 0.2621, Validation RMSE: 0.3815\n"
     ]
    },
    {
     "name": "stderr",
     "output_type": "stream",
     "text": [
      "Epoch 35/150: 100%|██████████| 205/205 [00:10<00:00, 19.52batch/s, mae_loss=0.196]\n"
     ]
    },
    {
     "name": "stdout",
     "output_type": "stream",
     "text": [
      "Epoch [35/150], Training MAE: 0.2944, Training RMSE: 0.4299\n",
      "Epoch [35/150], Validation MAE: 0.2616, Validation RMSE: 0.3808\n"
     ]
    },
    {
     "name": "stderr",
     "output_type": "stream",
     "text": [
      "Epoch 36/150: 100%|██████████| 205/205 [00:10<00:00, 19.41batch/s, mae_loss=0.189]\n"
     ]
    },
    {
     "name": "stdout",
     "output_type": "stream",
     "text": [
      "Epoch [36/150], Training MAE: 0.2934, Training RMSE: 0.4287\n",
      "Epoch [36/150], Validation MAE: 0.2597, Validation RMSE: 0.3793\n"
     ]
    },
    {
     "name": "stderr",
     "output_type": "stream",
     "text": [
      "Epoch 37/150: 100%|██████████| 205/205 [00:10<00:00, 19.31batch/s, mae_loss=0.174]\n"
     ]
    },
    {
     "name": "stdout",
     "output_type": "stream",
     "text": [
      "Epoch [37/150], Training MAE: 0.2924, Training RMSE: 0.4274\n",
      "Epoch [37/150], Validation MAE: 0.2597, Validation RMSE: 0.3790\n"
     ]
    },
    {
     "name": "stderr",
     "output_type": "stream",
     "text": [
      "Epoch 38/150: 100%|██████████| 205/205 [00:10<00:00, 19.05batch/s, mae_loss=0.178]\n"
     ]
    },
    {
     "name": "stdout",
     "output_type": "stream",
     "text": [
      "Epoch [38/150], Training MAE: 0.2914, Training RMSE: 0.4264\n",
      "Epoch [38/150], Validation MAE: 0.2594, Validation RMSE: 0.3785\n"
     ]
    },
    {
     "name": "stderr",
     "output_type": "stream",
     "text": [
      "Epoch 39/150: 100%|██████████| 205/205 [00:10<00:00, 19.29batch/s, mae_loss=0.191]\n"
     ]
    },
    {
     "name": "stdout",
     "output_type": "stream",
     "text": [
      "Epoch [39/150], Training MAE: 0.2902, Training RMSE: 0.4254\n",
      "Epoch [39/150], Validation MAE: 0.2584, Validation RMSE: 0.3779\n"
     ]
    },
    {
     "name": "stderr",
     "output_type": "stream",
     "text": [
      "Epoch 40/150: 100%|██████████| 205/205 [00:10<00:00, 19.59batch/s, mae_loss=0.178]\n"
     ]
    },
    {
     "name": "stdout",
     "output_type": "stream",
     "text": [
      "Epoch [40/150], Training MAE: 0.2896, Training RMSE: 0.4256\n",
      "Epoch [40/150], Validation MAE: 0.2567, Validation RMSE: 0.3765\n"
     ]
    },
    {
     "name": "stderr",
     "output_type": "stream",
     "text": [
      "Epoch 41/150: 100%|██████████| 205/205 [00:10<00:00, 19.73batch/s, mae_loss=0.188]\n"
     ]
    },
    {
     "name": "stdout",
     "output_type": "stream",
     "text": [
      "Epoch [41/150], Training MAE: 0.2883, Training RMSE: 0.4239\n",
      "Epoch [41/150], Validation MAE: 0.2564, Validation RMSE: 0.3760\n"
     ]
    },
    {
     "name": "stderr",
     "output_type": "stream",
     "text": [
      "Epoch 42/150: 100%|██████████| 205/205 [00:10<00:00, 19.39batch/s, mae_loss=0.179]\n"
     ]
    },
    {
     "name": "stdout",
     "output_type": "stream",
     "text": [
      "Epoch [42/150], Training MAE: 0.2873, Training RMSE: 0.4223\n",
      "Epoch [42/150], Validation MAE: 0.2559, Validation RMSE: 0.3755\n"
     ]
    },
    {
     "name": "stderr",
     "output_type": "stream",
     "text": [
      "Epoch 43/150: 100%|██████████| 205/205 [00:11<00:00, 18.52batch/s, mae_loss=0.192]\n"
     ]
    },
    {
     "name": "stdout",
     "output_type": "stream",
     "text": [
      "Epoch [43/150], Training MAE: 0.2876, Training RMSE: 0.4223\n",
      "Epoch [43/150], Validation MAE: 0.2548, Validation RMSE: 0.3743\n"
     ]
    },
    {
     "name": "stderr",
     "output_type": "stream",
     "text": [
      "Epoch 44/150: 100%|██████████| 205/205 [00:11<00:00, 18.38batch/s, mae_loss=0.181]\n"
     ]
    },
    {
     "name": "stdout",
     "output_type": "stream",
     "text": [
      "Epoch [44/150], Training MAE: 0.2860, Training RMSE: 0.4215\n",
      "Epoch [44/150], Validation MAE: 0.2541, Validation RMSE: 0.3739\n"
     ]
    },
    {
     "name": "stderr",
     "output_type": "stream",
     "text": [
      "Epoch 45/150: 100%|██████████| 205/205 [00:10<00:00, 19.58batch/s, mae_loss=0.17] \n"
     ]
    },
    {
     "name": "stdout",
     "output_type": "stream",
     "text": [
      "Epoch [45/150], Training MAE: 0.2854, Training RMSE: 0.4209\n",
      "Epoch [45/150], Validation MAE: 0.2546, Validation RMSE: 0.3740\n"
     ]
    },
    {
     "name": "stderr",
     "output_type": "stream",
     "text": [
      "Epoch 46/150: 100%|██████████| 205/205 [00:10<00:00, 19.46batch/s, mae_loss=0.17] \n"
     ]
    },
    {
     "name": "stdout",
     "output_type": "stream",
     "text": [
      "Epoch [46/150], Training MAE: 0.2849, Training RMSE: 0.4198\n",
      "Epoch [46/150], Validation MAE: 0.2539, Validation RMSE: 0.3736\n"
     ]
    },
    {
     "name": "stderr",
     "output_type": "stream",
     "text": [
      "Epoch 47/150: 100%|██████████| 205/205 [00:10<00:00, 19.33batch/s, mae_loss=0.174]\n"
     ]
    },
    {
     "name": "stdout",
     "output_type": "stream",
     "text": [
      "Epoch [47/150], Training MAE: 0.2839, Training RMSE: 0.4183\n",
      "Epoch [47/150], Validation MAE: 0.2541, Validation RMSE: 0.3736\n"
     ]
    },
    {
     "name": "stderr",
     "output_type": "stream",
     "text": [
      "Epoch 48/150: 100%|██████████| 205/205 [00:11<00:00, 18.45batch/s, mae_loss=0.175]\n"
     ]
    },
    {
     "name": "stdout",
     "output_type": "stream",
     "text": [
      "Epoch [48/150], Training MAE: 0.2826, Training RMSE: 0.4177\n",
      "Epoch [48/150], Validation MAE: 0.2535, Validation RMSE: 0.3730\n"
     ]
    },
    {
     "name": "stderr",
     "output_type": "stream",
     "text": [
      "Epoch 49/150: 100%|██████████| 205/205 [00:10<00:00, 18.77batch/s, mae_loss=0.16] \n"
     ]
    },
    {
     "name": "stdout",
     "output_type": "stream",
     "text": [
      "Epoch [49/150], Training MAE: 0.2825, Training RMSE: 0.4170\n",
      "Epoch [49/150], Validation MAE: 0.2532, Validation RMSE: 0.3727\n"
     ]
    },
    {
     "name": "stderr",
     "output_type": "stream",
     "text": [
      "Epoch 50/150: 100%|██████████| 205/205 [00:10<00:00, 19.14batch/s, mae_loss=0.169]\n"
     ]
    },
    {
     "name": "stdout",
     "output_type": "stream",
     "text": [
      "Epoch [50/150], Training MAE: 0.2814, Training RMSE: 0.4169\n",
      "Epoch [50/150], Validation MAE: 0.2528, Validation RMSE: 0.3723\n"
     ]
    },
    {
     "name": "stderr",
     "output_type": "stream",
     "text": [
      "Epoch 51/150: 100%|██████████| 205/205 [00:10<00:00, 19.01batch/s, mae_loss=0.181]\n"
     ]
    },
    {
     "name": "stdout",
     "output_type": "stream",
     "text": [
      "Epoch [51/150], Training MAE: 0.2813, Training RMSE: 0.4157\n",
      "Epoch [51/150], Validation MAE: 0.2529, Validation RMSE: 0.3726\n"
     ]
    },
    {
     "name": "stderr",
     "output_type": "stream",
     "text": [
      "Epoch 52/150: 100%|██████████| 205/205 [00:10<00:00, 19.31batch/s, mae_loss=0.174]\n"
     ]
    },
    {
     "name": "stdout",
     "output_type": "stream",
     "text": [
      "Epoch [52/150], Training MAE: 0.2814, Training RMSE: 0.4161\n",
      "Epoch [52/150], Validation MAE: 0.2532, Validation RMSE: 0.3726\n"
     ]
    },
    {
     "name": "stderr",
     "output_type": "stream",
     "text": [
      "Epoch 53/150: 100%|██████████| 205/205 [00:11<00:00, 18.51batch/s, mae_loss=0.163]\n"
     ]
    },
    {
     "name": "stdout",
     "output_type": "stream",
     "text": [
      "Epoch [53/150], Training MAE: 0.2800, Training RMSE: 0.4148\n",
      "Epoch [53/150], Validation MAE: 0.2526, Validation RMSE: 0.3720\n"
     ]
    },
    {
     "name": "stderr",
     "output_type": "stream",
     "text": [
      "Epoch 54/150: 100%|██████████| 205/205 [00:10<00:00, 19.68batch/s, mae_loss=0.178]\n"
     ]
    },
    {
     "name": "stdout",
     "output_type": "stream",
     "text": [
      "Epoch [54/150], Training MAE: 0.2790, Training RMSE: 0.4139\n",
      "Epoch [54/150], Validation MAE: 0.2517, Validation RMSE: 0.3715\n"
     ]
    },
    {
     "name": "stderr",
     "output_type": "stream",
     "text": [
      "Epoch 55/150: 100%|██████████| 205/205 [00:10<00:00, 18.88batch/s, mae_loss=0.167]\n"
     ]
    },
    {
     "name": "stdout",
     "output_type": "stream",
     "text": [
      "Epoch [55/150], Training MAE: 0.2789, Training RMSE: 0.4130\n",
      "Epoch [55/150], Validation MAE: 0.2514, Validation RMSE: 0.3714\n"
     ]
    },
    {
     "name": "stderr",
     "output_type": "stream",
     "text": [
      "Epoch 56/150: 100%|██████████| 205/205 [00:10<00:00, 19.57batch/s, mae_loss=0.163]\n"
     ]
    },
    {
     "name": "stdout",
     "output_type": "stream",
     "text": [
      "Epoch [56/150], Training MAE: 0.2779, Training RMSE: 0.4125\n",
      "Epoch [56/150], Validation MAE: 0.2515, Validation RMSE: 0.3712\n"
     ]
    },
    {
     "name": "stderr",
     "output_type": "stream",
     "text": [
      "Epoch 57/150: 100%|██████████| 205/205 [00:10<00:00, 19.72batch/s, mae_loss=0.167]\n"
     ]
    },
    {
     "name": "stdout",
     "output_type": "stream",
     "text": [
      "Epoch [57/150], Training MAE: 0.2779, Training RMSE: 0.4113\n",
      "Epoch [57/150], Validation MAE: 0.2515, Validation RMSE: 0.3714\n"
     ]
    },
    {
     "name": "stderr",
     "output_type": "stream",
     "text": [
      "Epoch 58/150: 100%|██████████| 205/205 [00:10<00:00, 18.79batch/s, mae_loss=0.165]\n"
     ]
    },
    {
     "name": "stdout",
     "output_type": "stream",
     "text": [
      "Epoch [58/150], Training MAE: 0.2769, Training RMSE: 0.4115\n",
      "Epoch [58/150], Validation MAE: 0.2517, Validation RMSE: 0.3714\n"
     ]
    },
    {
     "name": "stderr",
     "output_type": "stream",
     "text": [
      "Epoch 59/150: 100%|██████████| 205/205 [00:10<00:00, 19.46batch/s, mae_loss=0.156]\n"
     ]
    },
    {
     "name": "stdout",
     "output_type": "stream",
     "text": [
      "Epoch [59/150], Training MAE: 0.2765, Training RMSE: 0.4115\n",
      "Epoch [59/150], Validation MAE: 0.2512, Validation RMSE: 0.3706\n"
     ]
    },
    {
     "name": "stderr",
     "output_type": "stream",
     "text": [
      "Epoch 60/150: 100%|██████████| 205/205 [00:10<00:00, 19.20batch/s, mae_loss=0.161]\n"
     ]
    },
    {
     "name": "stdout",
     "output_type": "stream",
     "text": [
      "Epoch [60/150], Training MAE: 0.2761, Training RMSE: 0.4101\n",
      "Epoch [60/150], Validation MAE: 0.2508, Validation RMSE: 0.3705\n"
     ]
    },
    {
     "name": "stderr",
     "output_type": "stream",
     "text": [
      "Epoch 61/150: 100%|██████████| 205/205 [00:11<00:00, 18.54batch/s, mae_loss=0.151]\n"
     ]
    },
    {
     "name": "stdout",
     "output_type": "stream",
     "text": [
      "Epoch [61/150], Training MAE: 0.2751, Training RMSE: 0.4094\n",
      "Epoch [61/150], Validation MAE: 0.2508, Validation RMSE: 0.3706\n"
     ]
    },
    {
     "name": "stderr",
     "output_type": "stream",
     "text": [
      "Epoch 62/150: 100%|██████████| 205/205 [00:10<00:00, 19.66batch/s, mae_loss=0.16] \n"
     ]
    },
    {
     "name": "stdout",
     "output_type": "stream",
     "text": [
      "Epoch [62/150], Training MAE: 0.2753, Training RMSE: 0.4096\n",
      "Epoch [62/150], Validation MAE: 0.2502, Validation RMSE: 0.3700\n"
     ]
    },
    {
     "name": "stderr",
     "output_type": "stream",
     "text": [
      "Epoch 63/150: 100%|██████████| 205/205 [00:10<00:00, 19.41batch/s, mae_loss=0.17] \n"
     ]
    },
    {
     "name": "stdout",
     "output_type": "stream",
     "text": [
      "Epoch [63/150], Training MAE: 0.2748, Training RMSE: 0.4093\n",
      "Epoch [63/150], Validation MAE: 0.2506, Validation RMSE: 0.3702\n"
     ]
    },
    {
     "name": "stderr",
     "output_type": "stream",
     "text": [
      "Epoch 64/150: 100%|██████████| 205/205 [00:10<00:00, 19.50batch/s, mae_loss=0.158]\n"
     ]
    },
    {
     "name": "stdout",
     "output_type": "stream",
     "text": [
      "Epoch [64/150], Training MAE: 0.2741, Training RMSE: 0.4081\n",
      "Epoch [64/150], Validation MAE: 0.2497, Validation RMSE: 0.3696\n"
     ]
    },
    {
     "name": "stderr",
     "output_type": "stream",
     "text": [
      "Epoch 65/150: 100%|██████████| 205/205 [00:10<00:00, 19.15batch/s, mae_loss=0.16] \n"
     ]
    },
    {
     "name": "stdout",
     "output_type": "stream",
     "text": [
      "Epoch [65/150], Training MAE: 0.2735, Training RMSE: 0.4083\n",
      "Epoch [65/150], Validation MAE: 0.2499, Validation RMSE: 0.3694\n"
     ]
    },
    {
     "name": "stderr",
     "output_type": "stream",
     "text": [
      "Epoch 66/150: 100%|██████████| 205/205 [00:10<00:00, 19.26batch/s, mae_loss=0.171]\n"
     ]
    },
    {
     "name": "stdout",
     "output_type": "stream",
     "text": [
      "Epoch [66/150], Training MAE: 0.2731, Training RMSE: 0.4068\n",
      "Epoch [66/150], Validation MAE: 0.2495, Validation RMSE: 0.3694\n"
     ]
    },
    {
     "name": "stderr",
     "output_type": "stream",
     "text": [
      "Epoch 67/150: 100%|██████████| 205/205 [00:10<00:00, 19.54batch/s, mae_loss=0.173]\n"
     ]
    },
    {
     "name": "stdout",
     "output_type": "stream",
     "text": [
      "Epoch [67/150], Training MAE: 0.2730, Training RMSE: 0.4066\n",
      "Epoch [67/150], Validation MAE: 0.2500, Validation RMSE: 0.3696\n"
     ]
    },
    {
     "name": "stderr",
     "output_type": "stream",
     "text": [
      "Epoch 68/150: 100%|██████████| 205/205 [00:10<00:00, 18.76batch/s, mae_loss=0.169]\n"
     ]
    },
    {
     "name": "stdout",
     "output_type": "stream",
     "text": [
      "Epoch [68/150], Training MAE: 0.2726, Training RMSE: 0.4065\n",
      "Epoch [68/150], Validation MAE: 0.2491, Validation RMSE: 0.3691\n"
     ]
    },
    {
     "name": "stderr",
     "output_type": "stream",
     "text": [
      "Epoch 69/150: 100%|██████████| 205/205 [00:10<00:00, 19.27batch/s, mae_loss=0.153]\n"
     ]
    },
    {
     "name": "stdout",
     "output_type": "stream",
     "text": [
      "Epoch [69/150], Training MAE: 0.2724, Training RMSE: 0.4063\n",
      "Epoch [69/150], Validation MAE: 0.2491, Validation RMSE: 0.3686\n"
     ]
    },
    {
     "name": "stderr",
     "output_type": "stream",
     "text": [
      "Epoch 70/150: 100%|██████████| 205/205 [00:10<00:00, 19.31batch/s, mae_loss=0.151]\n"
     ]
    },
    {
     "name": "stdout",
     "output_type": "stream",
     "text": [
      "Epoch [70/150], Training MAE: 0.2718, Training RMSE: 0.4056\n",
      "Epoch [70/150], Validation MAE: 0.2490, Validation RMSE: 0.3687\n"
     ]
    },
    {
     "name": "stderr",
     "output_type": "stream",
     "text": [
      "Epoch 71/150: 100%|██████████| 205/205 [00:10<00:00, 19.49batch/s, mae_loss=0.164]\n"
     ]
    },
    {
     "name": "stdout",
     "output_type": "stream",
     "text": [
      "Epoch [71/150], Training MAE: 0.2719, Training RMSE: 0.4059\n",
      "Epoch [71/150], Validation MAE: 0.2486, Validation RMSE: 0.3685\n"
     ]
    },
    {
     "name": "stderr",
     "output_type": "stream",
     "text": [
      "Epoch 72/150: 100%|██████████| 205/205 [00:11<00:00, 18.38batch/s, mae_loss=0.154]\n"
     ]
    },
    {
     "name": "stdout",
     "output_type": "stream",
     "text": [
      "Epoch [72/150], Training MAE: 0.2711, Training RMSE: 0.4045\n",
      "Epoch [72/150], Validation MAE: 0.2485, Validation RMSE: 0.3683\n"
     ]
    },
    {
     "name": "stderr",
     "output_type": "stream",
     "text": [
      "Epoch 73/150: 100%|██████████| 205/205 [00:10<00:00, 19.35batch/s, mae_loss=0.159]\n"
     ]
    },
    {
     "name": "stdout",
     "output_type": "stream",
     "text": [
      "Epoch [73/150], Training MAE: 0.2705, Training RMSE: 0.4046\n",
      "Epoch [73/150], Validation MAE: 0.2486, Validation RMSE: 0.3683\n"
     ]
    },
    {
     "name": "stderr",
     "output_type": "stream",
     "text": [
      "Epoch 74/150: 100%|██████████| 205/205 [00:10<00:00, 19.05batch/s, mae_loss=0.152]\n"
     ]
    },
    {
     "name": "stdout",
     "output_type": "stream",
     "text": [
      "Epoch [74/150], Training MAE: 0.2699, Training RMSE: 0.4035\n",
      "Epoch [74/150], Validation MAE: 0.2479, Validation RMSE: 0.3674\n"
     ]
    },
    {
     "name": "stderr",
     "output_type": "stream",
     "text": [
      "Epoch 75/150: 100%|██████████| 205/205 [00:10<00:00, 19.06batch/s, mae_loss=0.161]\n"
     ]
    },
    {
     "name": "stdout",
     "output_type": "stream",
     "text": [
      "Epoch [75/150], Training MAE: 0.2696, Training RMSE: 0.4035\n",
      "Epoch [75/150], Validation MAE: 0.2487, Validation RMSE: 0.3683\n"
     ]
    },
    {
     "name": "stderr",
     "output_type": "stream",
     "text": [
      "Epoch 76/150: 100%|██████████| 205/205 [00:10<00:00, 19.38batch/s, mae_loss=0.157]\n"
     ]
    },
    {
     "name": "stdout",
     "output_type": "stream",
     "text": [
      "Epoch [76/150], Training MAE: 0.2698, Training RMSE: 0.4034\n",
      "Epoch [76/150], Validation MAE: 0.2481, Validation RMSE: 0.3677\n"
     ]
    },
    {
     "name": "stderr",
     "output_type": "stream",
     "text": [
      "Epoch 77/150: 100%|██████████| 205/205 [00:10<00:00, 19.74batch/s, mae_loss=0.151]\n"
     ]
    },
    {
     "name": "stdout",
     "output_type": "stream",
     "text": [
      "Epoch [77/150], Training MAE: 0.2694, Training RMSE: 0.4031\n",
      "Epoch [77/150], Validation MAE: 0.2477, Validation RMSE: 0.3672\n"
     ]
    },
    {
     "name": "stderr",
     "output_type": "stream",
     "text": [
      "Epoch 78/150: 100%|██████████| 205/205 [00:10<00:00, 18.65batch/s, mae_loss=0.155]\n"
     ]
    },
    {
     "name": "stdout",
     "output_type": "stream",
     "text": [
      "Epoch [78/150], Training MAE: 0.2690, Training RMSE: 0.4023\n",
      "Epoch [78/150], Validation MAE: 0.2476, Validation RMSE: 0.3671\n"
     ]
    },
    {
     "name": "stderr",
     "output_type": "stream",
     "text": [
      "Epoch 79/150: 100%|██████████| 205/205 [00:11<00:00, 18.53batch/s, mae_loss=0.16] \n"
     ]
    },
    {
     "name": "stdout",
     "output_type": "stream",
     "text": [
      "Epoch [79/150], Training MAE: 0.2688, Training RMSE: 0.4024\n",
      "Epoch [79/150], Validation MAE: 0.2474, Validation RMSE: 0.3668\n"
     ]
    },
    {
     "name": "stderr",
     "output_type": "stream",
     "text": [
      "Epoch 80/150: 100%|██████████| 205/205 [00:10<00:00, 19.60batch/s, mae_loss=0.153]\n"
     ]
    },
    {
     "name": "stdout",
     "output_type": "stream",
     "text": [
      "Epoch [80/150], Training MAE: 0.2686, Training RMSE: 0.4027\n",
      "Epoch [80/150], Validation MAE: 0.2480, Validation RMSE: 0.3671\n"
     ]
    },
    {
     "name": "stderr",
     "output_type": "stream",
     "text": [
      "Epoch 81/150: 100%|██████████| 205/205 [00:10<00:00, 19.22batch/s, mae_loss=0.157]\n"
     ]
    },
    {
     "name": "stdout",
     "output_type": "stream",
     "text": [
      "Epoch [81/150], Training MAE: 0.2681, Training RMSE: 0.4014\n",
      "Epoch [81/150], Validation MAE: 0.2476, Validation RMSE: 0.3667\n"
     ]
    },
    {
     "name": "stderr",
     "output_type": "stream",
     "text": [
      "Epoch 82/150: 100%|██████████| 205/205 [00:10<00:00, 19.63batch/s, mae_loss=0.16] \n"
     ]
    },
    {
     "name": "stdout",
     "output_type": "stream",
     "text": [
      "Epoch [82/150], Training MAE: 0.2683, Training RMSE: 0.4015\n",
      "Epoch [82/150], Validation MAE: 0.2473, Validation RMSE: 0.3665\n"
     ]
    },
    {
     "name": "stderr",
     "output_type": "stream",
     "text": [
      "Epoch 83/150: 100%|██████████| 205/205 [00:11<00:00, 18.21batch/s, mae_loss=0.156]\n"
     ]
    },
    {
     "name": "stdout",
     "output_type": "stream",
     "text": [
      "Epoch [83/150], Training MAE: 0.2672, Training RMSE: 0.4008\n",
      "Epoch [83/150], Validation MAE: 0.2470, Validation RMSE: 0.3664\n"
     ]
    },
    {
     "name": "stderr",
     "output_type": "stream",
     "text": [
      "Epoch 84/150: 100%|██████████| 205/205 [00:10<00:00, 19.35batch/s, mae_loss=0.159]\n"
     ]
    },
    {
     "name": "stdout",
     "output_type": "stream",
     "text": [
      "Epoch [84/150], Training MAE: 0.2669, Training RMSE: 0.4005\n",
      "Epoch [84/150], Validation MAE: 0.2469, Validation RMSE: 0.3663\n"
     ]
    },
    {
     "name": "stderr",
     "output_type": "stream",
     "text": [
      "Epoch 85/150: 100%|██████████| 205/205 [00:10<00:00, 19.70batch/s, mae_loss=0.153]\n"
     ]
    },
    {
     "name": "stdout",
     "output_type": "stream",
     "text": [
      "Epoch [85/150], Training MAE: 0.2670, Training RMSE: 0.3997\n",
      "Epoch [85/150], Validation MAE: 0.2467, Validation RMSE: 0.3659\n"
     ]
    },
    {
     "name": "stderr",
     "output_type": "stream",
     "text": [
      "Epoch 86/150: 100%|██████████| 205/205 [00:10<00:00, 19.22batch/s, mae_loss=0.155]\n"
     ]
    },
    {
     "name": "stdout",
     "output_type": "stream",
     "text": [
      "Epoch [86/150], Training MAE: 0.2668, Training RMSE: 0.4000\n",
      "Epoch [86/150], Validation MAE: 0.2468, Validation RMSE: 0.3660\n"
     ]
    },
    {
     "name": "stderr",
     "output_type": "stream",
     "text": [
      "Epoch 87/150: 100%|██████████| 205/205 [00:10<00:00, 19.90batch/s, mae_loss=0.156]\n"
     ]
    },
    {
     "name": "stdout",
     "output_type": "stream",
     "text": [
      "Epoch [87/150], Training MAE: 0.2667, Training RMSE: 0.4001\n",
      "Epoch [87/150], Validation MAE: 0.2465, Validation RMSE: 0.3656\n"
     ]
    },
    {
     "name": "stderr",
     "output_type": "stream",
     "text": [
      "Epoch 88/150: 100%|██████████| 205/205 [00:10<00:00, 18.94batch/s, mae_loss=0.156]\n"
     ]
    },
    {
     "name": "stdout",
     "output_type": "stream",
     "text": [
      "Epoch [88/150], Training MAE: 0.2668, Training RMSE: 0.4002\n",
      "Epoch [88/150], Validation MAE: 0.2460, Validation RMSE: 0.3651\n"
     ]
    },
    {
     "name": "stderr",
     "output_type": "stream",
     "text": [
      "Epoch 89/150: 100%|██████████| 205/205 [00:11<00:00, 18.63batch/s, mae_loss=0.153]\n"
     ]
    },
    {
     "name": "stdout",
     "output_type": "stream",
     "text": [
      "Epoch [89/150], Training MAE: 0.2659, Training RMSE: 0.3988\n",
      "Epoch [89/150], Validation MAE: 0.2462, Validation RMSE: 0.3654\n"
     ]
    },
    {
     "name": "stderr",
     "output_type": "stream",
     "text": [
      "Epoch 90/150: 100%|██████████| 205/205 [00:10<00:00, 19.69batch/s, mae_loss=0.14] \n"
     ]
    },
    {
     "name": "stdout",
     "output_type": "stream",
     "text": [
      "Epoch [90/150], Training MAE: 0.2658, Training RMSE: 0.3993\n",
      "Epoch [90/150], Validation MAE: 0.2461, Validation RMSE: 0.3653\n"
     ]
    },
    {
     "name": "stderr",
     "output_type": "stream",
     "text": [
      "Epoch 91/150: 100%|██████████| 205/205 [00:10<00:00, 19.03batch/s, mae_loss=0.156]\n"
     ]
    },
    {
     "name": "stdout",
     "output_type": "stream",
     "text": [
      "Epoch [91/150], Training MAE: 0.2661, Training RMSE: 0.3993\n",
      "Epoch [91/150], Validation MAE: 0.2458, Validation RMSE: 0.3653\n"
     ]
    },
    {
     "name": "stderr",
     "output_type": "stream",
     "text": [
      "Epoch 92/150: 100%|██████████| 205/205 [00:10<00:00, 19.78batch/s, mae_loss=0.146]\n"
     ]
    },
    {
     "name": "stdout",
     "output_type": "stream",
     "text": [
      "Epoch [92/150], Training MAE: 0.2657, Training RMSE: 0.3996\n",
      "Epoch [92/150], Validation MAE: 0.2458, Validation RMSE: 0.3651\n"
     ]
    },
    {
     "name": "stderr",
     "output_type": "stream",
     "text": [
      "Epoch 93/150: 100%|██████████| 205/205 [00:10<00:00, 19.62batch/s, mae_loss=0.153]\n"
     ]
    },
    {
     "name": "stdout",
     "output_type": "stream",
     "text": [
      "Epoch [93/150], Training MAE: 0.2650, Training RMSE: 0.3985\n",
      "Epoch [93/150], Validation MAE: 0.2466, Validation RMSE: 0.3656\n"
     ]
    },
    {
     "name": "stderr",
     "output_type": "stream",
     "text": [
      "Epoch 94/150: 100%|██████████| 205/205 [00:11<00:00, 18.44batch/s, mae_loss=0.151]\n"
     ]
    },
    {
     "name": "stdout",
     "output_type": "stream",
     "text": [
      "Epoch [94/150], Training MAE: 0.2645, Training RMSE: 0.3976\n",
      "Epoch [94/150], Validation MAE: 0.2458, Validation RMSE: 0.3653\n"
     ]
    },
    {
     "name": "stderr",
     "output_type": "stream",
     "text": [
      "Epoch 95/150: 100%|██████████| 205/205 [00:10<00:00, 19.19batch/s, mae_loss=0.151]\n"
     ]
    },
    {
     "name": "stdout",
     "output_type": "stream",
     "text": [
      "Epoch [95/150], Training MAE: 0.2641, Training RMSE: 0.3974\n",
      "Epoch [95/150], Validation MAE: 0.2459, Validation RMSE: 0.3653\n"
     ]
    },
    {
     "name": "stderr",
     "output_type": "stream",
     "text": [
      "Epoch 96/150: 100%|██████████| 205/205 [00:10<00:00, 19.08batch/s, mae_loss=0.142]\n"
     ]
    },
    {
     "name": "stdout",
     "output_type": "stream",
     "text": [
      "Epoch [96/150], Training MAE: 0.2645, Training RMSE: 0.3977\n",
      "Epoch [96/150], Validation MAE: 0.2455, Validation RMSE: 0.3649\n"
     ]
    },
    {
     "name": "stderr",
     "output_type": "stream",
     "text": [
      "Epoch 97/150: 100%|██████████| 205/205 [00:10<00:00, 19.37batch/s, mae_loss=0.157]\n"
     ]
    },
    {
     "name": "stdout",
     "output_type": "stream",
     "text": [
      "Epoch [97/150], Training MAE: 0.2638, Training RMSE: 0.3970\n",
      "Epoch [97/150], Validation MAE: 0.2454, Validation RMSE: 0.3645\n"
     ]
    },
    {
     "name": "stderr",
     "output_type": "stream",
     "text": [
      "Epoch 98/150: 100%|██████████| 205/205 [00:10<00:00, 19.27batch/s, mae_loss=0.15] \n"
     ]
    },
    {
     "name": "stdout",
     "output_type": "stream",
     "text": [
      "Epoch [98/150], Training MAE: 0.2638, Training RMSE: 0.3971\n",
      "Epoch [98/150], Validation MAE: 0.2463, Validation RMSE: 0.3651\n"
     ]
    },
    {
     "name": "stderr",
     "output_type": "stream",
     "text": [
      "Epoch 99/150: 100%|██████████| 205/205 [00:11<00:00, 18.54batch/s, mae_loss=0.148]\n"
     ]
    },
    {
     "name": "stdout",
     "output_type": "stream",
     "text": [
      "Epoch [99/150], Training MAE: 0.2635, Training RMSE: 0.3967\n",
      "Epoch [99/150], Validation MAE: 0.2453, Validation RMSE: 0.3645\n"
     ]
    },
    {
     "name": "stderr",
     "output_type": "stream",
     "text": [
      "Epoch 100/150: 100%|██████████| 205/205 [00:11<00:00, 18.49batch/s, mae_loss=0.152]\n"
     ]
    },
    {
     "name": "stdout",
     "output_type": "stream",
     "text": [
      "Epoch [100/150], Training MAE: 0.2633, Training RMSE: 0.3965\n",
      "Epoch [100/150], Validation MAE: 0.2458, Validation RMSE: 0.3647\n"
     ]
    },
    {
     "name": "stderr",
     "output_type": "stream",
     "text": [
      "Epoch 101/150: 100%|██████████| 205/205 [00:10<00:00, 19.64batch/s, mae_loss=0.155]\n"
     ]
    },
    {
     "name": "stdout",
     "output_type": "stream",
     "text": [
      "Epoch [101/150], Training MAE: 0.2633, Training RMSE: 0.3966\n",
      "Epoch [101/150], Validation MAE: 0.2448, Validation RMSE: 0.3640\n"
     ]
    },
    {
     "name": "stderr",
     "output_type": "stream",
     "text": [
      "Epoch 102/150: 100%|██████████| 205/205 [00:10<00:00, 19.68batch/s, mae_loss=0.15]  \n"
     ]
    },
    {
     "name": "stdout",
     "output_type": "stream",
     "text": [
      "Epoch [102/150], Training MAE: 0.2627, Training RMSE: 0.3958\n",
      "Epoch [102/150], Validation MAE: 0.2455, Validation RMSE: 0.3644\n"
     ]
    },
    {
     "name": "stderr",
     "output_type": "stream",
     "text": [
      "Epoch 103/150: 100%|██████████| 205/205 [00:10<00:00, 19.67batch/s, mae_loss=0.154]\n"
     ]
    },
    {
     "name": "stdout",
     "output_type": "stream",
     "text": [
      "Epoch [103/150], Training MAE: 0.2625, Training RMSE: 0.3957\n",
      "Epoch [103/150], Validation MAE: 0.2450, Validation RMSE: 0.3639\n"
     ]
    },
    {
     "name": "stderr",
     "output_type": "stream",
     "text": [
      "Epoch 104/150: 100%|██████████| 205/205 [00:10<00:00, 18.97batch/s, mae_loss=0.157]\n"
     ]
    },
    {
     "name": "stdout",
     "output_type": "stream",
     "text": [
      "Epoch [104/150], Training MAE: 0.2626, Training RMSE: 0.3957\n",
      "Epoch [104/150], Validation MAE: 0.2448, Validation RMSE: 0.3638\n"
     ]
    },
    {
     "name": "stderr",
     "output_type": "stream",
     "text": [
      "Epoch 105/150: 100%|██████████| 205/205 [00:10<00:00, 19.49batch/s, mae_loss=0.152]\n"
     ]
    },
    {
     "name": "stdout",
     "output_type": "stream",
     "text": [
      "Epoch [105/150], Training MAE: 0.2619, Training RMSE: 0.3949\n",
      "Epoch [105/150], Validation MAE: 0.2451, Validation RMSE: 0.3643\n"
     ]
    },
    {
     "name": "stderr",
     "output_type": "stream",
     "text": [
      "Epoch 106/150: 100%|██████████| 205/205 [00:11<00:00, 18.59batch/s, mae_loss=0.149]\n"
     ]
    },
    {
     "name": "stdout",
     "output_type": "stream",
     "text": [
      "Epoch [106/150], Training MAE: 0.2620, Training RMSE: 0.3954\n",
      "Epoch [106/150], Validation MAE: 0.2453, Validation RMSE: 0.3641\n"
     ]
    },
    {
     "name": "stderr",
     "output_type": "stream",
     "text": [
      "Epoch 107/150: 100%|██████████| 205/205 [00:10<00:00, 19.08batch/s, mae_loss=0.147]\n"
     ]
    },
    {
     "name": "stdout",
     "output_type": "stream",
     "text": [
      "Epoch [107/150], Training MAE: 0.2617, Training RMSE: 0.3946\n",
      "Epoch [107/150], Validation MAE: 0.2450, Validation RMSE: 0.3640\n"
     ]
    },
    {
     "name": "stderr",
     "output_type": "stream",
     "text": [
      "Epoch 108/150: 100%|██████████| 205/205 [00:10<00:00, 19.60batch/s, mae_loss=0.148]\n"
     ]
    },
    {
     "name": "stdout",
     "output_type": "stream",
     "text": [
      "Epoch [108/150], Training MAE: 0.2617, Training RMSE: 0.3952\n",
      "Epoch [108/150], Validation MAE: 0.2450, Validation RMSE: 0.3642\n"
     ]
    },
    {
     "name": "stderr",
     "output_type": "stream",
     "text": [
      "Epoch 109/150: 100%|██████████| 205/205 [00:11<00:00, 18.61batch/s, mae_loss=0.149]\n"
     ]
    },
    {
     "name": "stdout",
     "output_type": "stream",
     "text": [
      "Epoch [109/150], Training MAE: 0.2614, Training RMSE: 0.3952\n",
      "Epoch [109/150], Validation MAE: 0.2447, Validation RMSE: 0.3636\n"
     ]
    },
    {
     "name": "stderr",
     "output_type": "stream",
     "text": [
      "Epoch 110/150: 100%|██████████| 205/205 [00:10<00:00, 19.59batch/s, mae_loss=0.146]\n"
     ]
    },
    {
     "name": "stdout",
     "output_type": "stream",
     "text": [
      "Epoch [110/150], Training MAE: 0.2612, Training RMSE: 0.3937\n",
      "Epoch [110/150], Validation MAE: 0.2450, Validation RMSE: 0.3639\n"
     ]
    },
    {
     "name": "stderr",
     "output_type": "stream",
     "text": [
      "Epoch 111/150: 100%|██████████| 205/205 [00:10<00:00, 19.09batch/s, mae_loss=0.15] \n"
     ]
    },
    {
     "name": "stdout",
     "output_type": "stream",
     "text": [
      "Epoch [111/150], Training MAE: 0.2609, Training RMSE: 0.3936\n",
      "Epoch [111/150], Validation MAE: 0.2445, Validation RMSE: 0.3635\n"
     ]
    },
    {
     "name": "stderr",
     "output_type": "stream",
     "text": [
      "Epoch 112/150: 100%|██████████| 205/205 [00:10<00:00, 19.04batch/s, mae_loss=0.158]\n"
     ]
    },
    {
     "name": "stdout",
     "output_type": "stream",
     "text": [
      "Epoch [112/150], Training MAE: 0.2607, Training RMSE: 0.3935\n",
      "Epoch [112/150], Validation MAE: 0.2438, Validation RMSE: 0.3631\n"
     ]
    },
    {
     "name": "stderr",
     "output_type": "stream",
     "text": [
      "Epoch 113/150: 100%|██████████| 205/205 [00:10<00:00, 19.47batch/s, mae_loss=0.154]\n"
     ]
    },
    {
     "name": "stdout",
     "output_type": "stream",
     "text": [
      "Epoch [113/150], Training MAE: 0.2605, Training RMSE: 0.3933\n",
      "Epoch [113/150], Validation MAE: 0.2444, Validation RMSE: 0.3633\n"
     ]
    },
    {
     "name": "stderr",
     "output_type": "stream",
     "text": [
      "Epoch 114/150: 100%|██████████| 205/205 [00:10<00:00, 19.69batch/s, mae_loss=0.144]\n"
     ]
    },
    {
     "name": "stdout",
     "output_type": "stream",
     "text": [
      "Epoch [114/150], Training MAE: 0.2608, Training RMSE: 0.3929\n",
      "Epoch [114/150], Validation MAE: 0.2443, Validation RMSE: 0.3633\n"
     ]
    },
    {
     "name": "stderr",
     "output_type": "stream",
     "text": [
      "Epoch 115/150: 100%|██████████| 205/205 [00:10<00:00, 19.67batch/s, mae_loss=0.158]\n"
     ]
    },
    {
     "name": "stdout",
     "output_type": "stream",
     "text": [
      "Epoch [115/150], Training MAE: 0.2602, Training RMSE: 0.3929\n",
      "Epoch [115/150], Validation MAE: 0.2447, Validation RMSE: 0.3635\n"
     ]
    },
    {
     "name": "stderr",
     "output_type": "stream",
     "text": [
      "Epoch 116/150: 100%|██████████| 205/205 [00:10<00:00, 19.63batch/s, mae_loss=0.151]\n"
     ]
    },
    {
     "name": "stdout",
     "output_type": "stream",
     "text": [
      "Epoch [116/150], Training MAE: 0.2606, Training RMSE: 0.3934\n",
      "Epoch [116/150], Validation MAE: 0.2437, Validation RMSE: 0.3629\n"
     ]
    },
    {
     "name": "stderr",
     "output_type": "stream",
     "text": [
      "Epoch 117/150: 100%|██████████| 205/205 [00:11<00:00, 18.25batch/s, mae_loss=0.139]\n"
     ]
    },
    {
     "name": "stdout",
     "output_type": "stream",
     "text": [
      "Epoch [117/150], Training MAE: 0.2595, Training RMSE: 0.3919\n",
      "Epoch [117/150], Validation MAE: 0.2443, Validation RMSE: 0.3631\n"
     ]
    },
    {
     "name": "stderr",
     "output_type": "stream",
     "text": [
      "Epoch 118/150: 100%|██████████| 205/205 [00:10<00:00, 19.56batch/s, mae_loss=0.139]\n"
     ]
    },
    {
     "name": "stdout",
     "output_type": "stream",
     "text": [
      "Epoch [118/150], Training MAE: 0.2602, Training RMSE: 0.3931\n",
      "Epoch [118/150], Validation MAE: 0.2439, Validation RMSE: 0.3628\n"
     ]
    },
    {
     "name": "stderr",
     "output_type": "stream",
     "text": [
      "Epoch 119/150: 100%|██████████| 205/205 [00:10<00:00, 19.54batch/s, mae_loss=0.152]\n"
     ]
    },
    {
     "name": "stdout",
     "output_type": "stream",
     "text": [
      "Epoch [119/150], Training MAE: 0.2596, Training RMSE: 0.3923\n",
      "Epoch [119/150], Validation MAE: 0.2441, Validation RMSE: 0.3632\n"
     ]
    },
    {
     "name": "stderr",
     "output_type": "stream",
     "text": [
      "Epoch 120/150: 100%|██████████| 205/205 [00:11<00:00, 18.61batch/s, mae_loss=0.147]\n"
     ]
    },
    {
     "name": "stdout",
     "output_type": "stream",
     "text": [
      "Epoch [120/150], Training MAE: 0.2592, Training RMSE: 0.3918\n",
      "Epoch [120/150], Validation MAE: 0.2436, Validation RMSE: 0.3628\n"
     ]
    },
    {
     "name": "stderr",
     "output_type": "stream",
     "text": [
      "Epoch 121/150: 100%|██████████| 205/205 [00:10<00:00, 19.58batch/s, mae_loss=0.152]\n"
     ]
    },
    {
     "name": "stdout",
     "output_type": "stream",
     "text": [
      "Epoch [121/150], Training MAE: 0.2592, Training RMSE: 0.3919\n",
      "Epoch [121/150], Validation MAE: 0.2436, Validation RMSE: 0.3630\n"
     ]
    },
    {
     "name": "stderr",
     "output_type": "stream",
     "text": [
      "Epoch 122/150: 100%|██████████| 205/205 [00:10<00:00, 19.49batch/s, mae_loss=0.15] \n"
     ]
    },
    {
     "name": "stdout",
     "output_type": "stream",
     "text": [
      "Epoch [122/150], Training MAE: 0.2593, Training RMSE: 0.3922\n",
      "Epoch [122/150], Validation MAE: 0.2439, Validation RMSE: 0.3629\n"
     ]
    },
    {
     "name": "stderr",
     "output_type": "stream",
     "text": [
      "Epoch 123/150: 100%|██████████| 205/205 [00:10<00:00, 18.75batch/s, mae_loss=0.144]\n"
     ]
    },
    {
     "name": "stdout",
     "output_type": "stream",
     "text": [
      "Epoch [123/150], Training MAE: 0.2588, Training RMSE: 0.3914\n",
      "Epoch [123/150], Validation MAE: 0.2440, Validation RMSE: 0.3630\n"
     ]
    },
    {
     "name": "stderr",
     "output_type": "stream",
     "text": [
      "Epoch 124/150: 100%|██████████| 205/205 [00:10<00:00, 19.52batch/s, mae_loss=0.143]\n"
     ]
    },
    {
     "name": "stdout",
     "output_type": "stream",
     "text": [
      "Epoch [124/150], Training MAE: 0.2585, Training RMSE: 0.3912\n",
      "Epoch [124/150], Validation MAE: 0.2441, Validation RMSE: 0.3631\n"
     ]
    },
    {
     "name": "stderr",
     "output_type": "stream",
     "text": [
      "Epoch 125/150: 100%|██████████| 205/205 [00:11<00:00, 18.48batch/s, mae_loss=0.15]  \n"
     ]
    },
    {
     "name": "stdout",
     "output_type": "stream",
     "text": [
      "Epoch [125/150], Training MAE: 0.2587, Training RMSE: 0.3917\n",
      "Epoch [125/150], Validation MAE: 0.2441, Validation RMSE: 0.3629\n"
     ]
    },
    {
     "name": "stderr",
     "output_type": "stream",
     "text": [
      "Epoch 126/150: 100%|██████████| 205/205 [00:10<00:00, 19.63batch/s, mae_loss=0.142]\n"
     ]
    },
    {
     "name": "stdout",
     "output_type": "stream",
     "text": [
      "Epoch [126/150], Training MAE: 0.2585, Training RMSE: 0.3913\n",
      "Epoch [126/150], Validation MAE: 0.2435, Validation RMSE: 0.3624\n"
     ]
    },
    {
     "name": "stderr",
     "output_type": "stream",
     "text": [
      "Epoch 127/150: 100%|██████████| 205/205 [00:10<00:00, 19.60batch/s, mae_loss=0.14] \n"
     ]
    },
    {
     "name": "stdout",
     "output_type": "stream",
     "text": [
      "Epoch [127/150], Training MAE: 0.2585, Training RMSE: 0.3907\n",
      "Epoch [127/150], Validation MAE: 0.2431, Validation RMSE: 0.3622\n"
     ]
    },
    {
     "name": "stderr",
     "output_type": "stream",
     "text": [
      "Epoch 128/150: 100%|██████████| 205/205 [00:10<00:00, 18.78batch/s, mae_loss=0.152]\n"
     ]
    },
    {
     "name": "stdout",
     "output_type": "stream",
     "text": [
      "Epoch [128/150], Training MAE: 0.2581, Training RMSE: 0.3906\n",
      "Epoch [128/150], Validation MAE: 0.2438, Validation RMSE: 0.3626\n"
     ]
    },
    {
     "name": "stderr",
     "output_type": "stream",
     "text": [
      "Epoch 129/150: 100%|██████████| 205/205 [00:10<00:00, 19.44batch/s, mae_loss=0.147]\n"
     ]
    },
    {
     "name": "stdout",
     "output_type": "stream",
     "text": [
      "Epoch [129/150], Training MAE: 0.2586, Training RMSE: 0.3915\n",
      "Epoch [129/150], Validation MAE: 0.2435, Validation RMSE: 0.3624\n"
     ]
    },
    {
     "name": "stderr",
     "output_type": "stream",
     "text": [
      "Epoch 130/150: 100%|██████████| 205/205 [00:10<00:00, 18.65batch/s, mae_loss=0.14] \n"
     ]
    },
    {
     "name": "stdout",
     "output_type": "stream",
     "text": [
      "Epoch [130/150], Training MAE: 0.2581, Training RMSE: 0.3903\n",
      "Epoch [130/150], Validation MAE: 0.2437, Validation RMSE: 0.3625\n"
     ]
    },
    {
     "name": "stderr",
     "output_type": "stream",
     "text": [
      "Epoch 131/150: 100%|██████████| 205/205 [00:10<00:00, 19.52batch/s, mae_loss=0.151] \n"
     ]
    },
    {
     "name": "stdout",
     "output_type": "stream",
     "text": [
      "Epoch [131/150], Training MAE: 0.2575, Training RMSE: 0.3898\n",
      "Epoch [131/150], Validation MAE: 0.2436, Validation RMSE: 0.3624\n"
     ]
    },
    {
     "name": "stderr",
     "output_type": "stream",
     "text": [
      "Epoch 132/150: 100%|██████████| 205/205 [00:10<00:00, 19.18batch/s, mae_loss=0.148]\n"
     ]
    },
    {
     "name": "stdout",
     "output_type": "stream",
     "text": [
      "Epoch [132/150], Training MAE: 0.2579, Training RMSE: 0.3902\n",
      "Epoch [132/150], Validation MAE: 0.2430, Validation RMSE: 0.3621\n"
     ]
    },
    {
     "name": "stderr",
     "output_type": "stream",
     "text": [
      "Epoch 133/150: 100%|██████████| 205/205 [00:10<00:00, 18.83batch/s, mae_loss=0.141]\n"
     ]
    },
    {
     "name": "stdout",
     "output_type": "stream",
     "text": [
      "Epoch [133/150], Training MAE: 0.2578, Training RMSE: 0.3903\n",
      "Epoch [133/150], Validation MAE: 0.2429, Validation RMSE: 0.3620\n"
     ]
    },
    {
     "name": "stderr",
     "output_type": "stream",
     "text": [
      "Epoch 134/150: 100%|██████████| 205/205 [00:11<00:00, 18.55batch/s, mae_loss=0.139]\n"
     ]
    },
    {
     "name": "stdout",
     "output_type": "stream",
     "text": [
      "Epoch [134/150], Training MAE: 0.2569, Training RMSE: 0.3891\n",
      "Epoch [134/150], Validation MAE: 0.2434, Validation RMSE: 0.3622\n"
     ]
    },
    {
     "name": "stderr",
     "output_type": "stream",
     "text": [
      "Epoch 135/150: 100%|██████████| 205/205 [00:10<00:00, 19.14batch/s, mae_loss=0.151]\n"
     ]
    },
    {
     "name": "stdout",
     "output_type": "stream",
     "text": [
      "Epoch [135/150], Training MAE: 0.2574, Training RMSE: 0.3902\n",
      "Epoch [135/150], Validation MAE: 0.2425, Validation RMSE: 0.3617\n"
     ]
    },
    {
     "name": "stderr",
     "output_type": "stream",
     "text": [
      "Epoch 136/150: 100%|██████████| 205/205 [00:10<00:00, 19.42batch/s, mae_loss=0.145]\n"
     ]
    },
    {
     "name": "stdout",
     "output_type": "stream",
     "text": [
      "Epoch [136/150], Training MAE: 0.2570, Training RMSE: 0.3900\n",
      "Epoch [136/150], Validation MAE: 0.2432, Validation RMSE: 0.3621\n"
     ]
    },
    {
     "name": "stderr",
     "output_type": "stream",
     "text": [
      "Epoch 137/150: 100%|██████████| 205/205 [00:10<00:00, 19.56batch/s, mae_loss=0.143]\n"
     ]
    },
    {
     "name": "stdout",
     "output_type": "stream",
     "text": [
      "Epoch [137/150], Training MAE: 0.2568, Training RMSE: 0.3888\n",
      "Epoch [137/150], Validation MAE: 0.2434, Validation RMSE: 0.3623\n"
     ]
    },
    {
     "name": "stderr",
     "output_type": "stream",
     "text": [
      "Epoch 138/150: 100%|██████████| 205/205 [00:10<00:00, 19.20batch/s, mae_loss=0.152] \n"
     ]
    },
    {
     "name": "stdout",
     "output_type": "stream",
     "text": [
      "Epoch [138/150], Training MAE: 0.2567, Training RMSE: 0.3890\n",
      "Epoch [138/150], Validation MAE: 0.2431, Validation RMSE: 0.3624\n"
     ]
    },
    {
     "name": "stderr",
     "output_type": "stream",
     "text": [
      "Epoch 139/150: 100%|██████████| 205/205 [00:10<00:00, 18.85batch/s, mae_loss=0.14] \n"
     ]
    },
    {
     "name": "stdout",
     "output_type": "stream",
     "text": [
      "Epoch [139/150], Training MAE: 0.2566, Training RMSE: 0.3894\n",
      "Epoch [139/150], Validation MAE: 0.2426, Validation RMSE: 0.3619\n"
     ]
    },
    {
     "name": "stderr",
     "output_type": "stream",
     "text": [
      "Epoch 140/150: 100%|██████████| 205/205 [00:10<00:00, 18.84batch/s, mae_loss=0.15] \n"
     ]
    },
    {
     "name": "stdout",
     "output_type": "stream",
     "text": [
      "Epoch [140/150], Training MAE: 0.2569, Training RMSE: 0.3895\n",
      "Epoch [140/150], Validation MAE: 0.2427, Validation RMSE: 0.3618\n"
     ]
    },
    {
     "name": "stderr",
     "output_type": "stream",
     "text": [
      "Epoch 141/150: 100%|██████████| 205/205 [00:10<00:00, 19.40batch/s, mae_loss=0.142] \n"
     ]
    },
    {
     "name": "stdout",
     "output_type": "stream",
     "text": [
      "Epoch [141/150], Training MAE: 0.2563, Training RMSE: 0.3887\n",
      "Epoch [141/150], Validation MAE: 0.2424, Validation RMSE: 0.3616\n"
     ]
    },
    {
     "name": "stderr",
     "output_type": "stream",
     "text": [
      "Epoch 142/150: 100%|██████████| 205/205 [00:10<00:00, 19.47batch/s, mae_loss=0.145]\n"
     ]
    },
    {
     "name": "stdout",
     "output_type": "stream",
     "text": [
      "Epoch [142/150], Training MAE: 0.2561, Training RMSE: 0.3877\n",
      "Epoch [142/150], Validation MAE: 0.2431, Validation RMSE: 0.3620\n"
     ]
    },
    {
     "name": "stderr",
     "output_type": "stream",
     "text": [
      "Epoch 143/150: 100%|██████████| 205/205 [00:10<00:00, 18.92batch/s, mae_loss=0.149]\n"
     ]
    },
    {
     "name": "stdout",
     "output_type": "stream",
     "text": [
      "Epoch [143/150], Training MAE: 0.2563, Training RMSE: 0.3884\n",
      "Epoch [143/150], Validation MAE: 0.2426, Validation RMSE: 0.3618\n"
     ]
    },
    {
     "name": "stderr",
     "output_type": "stream",
     "text": [
      "Epoch 144/150: 100%|██████████| 205/205 [00:10<00:00, 19.64batch/s, mae_loss=0.137]\n"
     ]
    },
    {
     "name": "stdout",
     "output_type": "stream",
     "text": [
      "Epoch [144/150], Training MAE: 0.2564, Training RMSE: 0.3890\n",
      "Epoch [144/150], Validation MAE: 0.2425, Validation RMSE: 0.3616\n"
     ]
    },
    {
     "name": "stderr",
     "output_type": "stream",
     "text": [
      "Epoch 145/150: 100%|██████████| 205/205 [00:11<00:00, 18.50batch/s, mae_loss=0.138]\n"
     ]
    },
    {
     "name": "stdout",
     "output_type": "stream",
     "text": [
      "Epoch [145/150], Training MAE: 0.2560, Training RMSE: 0.3882\n",
      "Epoch [145/150], Validation MAE: 0.2427, Validation RMSE: 0.3616\n"
     ]
    },
    {
     "name": "stderr",
     "output_type": "stream",
     "text": [
      "Epoch 146/150: 100%|██████████| 205/205 [00:10<00:00, 19.16batch/s, mae_loss=0.146]\n"
     ]
    },
    {
     "name": "stdout",
     "output_type": "stream",
     "text": [
      "Epoch [146/150], Training MAE: 0.2555, Training RMSE: 0.3878\n",
      "Epoch [146/150], Validation MAE: 0.2431, Validation RMSE: 0.3618\n"
     ]
    },
    {
     "name": "stderr",
     "output_type": "stream",
     "text": [
      "Epoch 147/150: 100%|██████████| 205/205 [00:10<00:00, 19.32batch/s, mae_loss=0.146]\n"
     ]
    },
    {
     "name": "stdout",
     "output_type": "stream",
     "text": [
      "Epoch [147/150], Training MAE: 0.2560, Training RMSE: 0.3886\n",
      "Epoch [147/150], Validation MAE: 0.2426, Validation RMSE: 0.3616\n"
     ]
    },
    {
     "name": "stderr",
     "output_type": "stream",
     "text": [
      "Epoch 148/150: 100%|██████████| 205/205 [00:10<00:00, 19.38batch/s, mae_loss=0.134]\n"
     ]
    },
    {
     "name": "stdout",
     "output_type": "stream",
     "text": [
      "Epoch [148/150], Training MAE: 0.2553, Training RMSE: 0.3882\n",
      "Epoch [148/150], Validation MAE: 0.2422, Validation RMSE: 0.3613\n"
     ]
    },
    {
     "name": "stderr",
     "output_type": "stream",
     "text": [
      "Epoch 149/150: 100%|██████████| 205/205 [00:10<00:00, 19.53batch/s, mae_loss=0.151] \n"
     ]
    },
    {
     "name": "stdout",
     "output_type": "stream",
     "text": [
      "Epoch [149/150], Training MAE: 0.2552, Training RMSE: 0.3870\n",
      "Epoch [149/150], Validation MAE: 0.2426, Validation RMSE: 0.3616\n"
     ]
    },
    {
     "name": "stderr",
     "output_type": "stream",
     "text": [
      "Epoch 150/150: 100%|██████████| 205/205 [00:10<00:00, 19.37batch/s, mae_loss=0.139]\n"
     ]
    },
    {
     "name": "stdout",
     "output_type": "stream",
     "text": [
      "Epoch [150/150], Training MAE: 0.2554, Training RMSE: 0.3874\n",
      "Epoch [150/150], Validation MAE: 0.2427, Validation RMSE: 0.3617\n",
      "End Prediction Horizon of 6 of shared-layer Model\n",
      "model_shared-layer_attention_6_4 saved\n",
      "Shape of X (features): (6, 13089, 12)\n",
      "Shape of y (targets): (6, 13089)\n",
      "Shape of X_test (features): (6, 2863, 12)\n",
      "Shape of y_test (targets): (6, 2863)\n"
     ]
    },
    {
     "name": "stderr",
     "output_type": "stream",
     "text": [
      "Epoch 1/150: 100%|██████████| 205/205 [00:13<00:00, 15.59batch/s, mae_loss=0.548]\n"
     ]
    },
    {
     "name": "stdout",
     "output_type": "stream",
     "text": [
      "Epoch [1/150], Training MAE: 0.7104, Training RMSE: 0.9147\n",
      "Epoch [1/150], Validation MAE: 0.6895, Validation RMSE: 0.8796\n"
     ]
    },
    {
     "name": "stderr",
     "output_type": "stream",
     "text": [
      "Epoch 2/150: 100%|██████████| 205/205 [00:12<00:00, 16.80batch/s, mae_loss=0.461]\n"
     ]
    },
    {
     "name": "stdout",
     "output_type": "stream",
     "text": [
      "Epoch [2/150], Training MAE: 0.6470, Training RMSE: 0.8409\n",
      "Epoch [2/150], Validation MAE: 0.6126, Validation RMSE: 0.7883\n"
     ]
    },
    {
     "name": "stderr",
     "output_type": "stream",
     "text": [
      "Epoch 3/150: 100%|██████████| 205/205 [00:12<00:00, 16.85batch/s, mae_loss=0.377]\n"
     ]
    },
    {
     "name": "stdout",
     "output_type": "stream",
     "text": [
      "Epoch [3/150], Training MAE: 0.5746, Training RMSE: 0.7550\n",
      "Epoch [3/150], Validation MAE: 0.5293, Validation RMSE: 0.6926\n"
     ]
    },
    {
     "name": "stderr",
     "output_type": "stream",
     "text": [
      "Epoch 4/150: 100%|██████████| 205/205 [00:12<00:00, 16.35batch/s, mae_loss=0.275]\n"
     ]
    },
    {
     "name": "stdout",
     "output_type": "stream",
     "text": [
      "Epoch [4/150], Training MAE: 0.5088, Training RMSE: 0.6817\n",
      "Epoch [4/150], Validation MAE: 0.4653, Validation RMSE: 0.6238\n"
     ]
    },
    {
     "name": "stderr",
     "output_type": "stream",
     "text": [
      "Epoch 5/150: 100%|██████████| 205/205 [00:13<00:00, 15.60batch/s, mae_loss=0.243]\n"
     ]
    },
    {
     "name": "stdout",
     "output_type": "stream",
     "text": [
      "Epoch [5/150], Training MAE: 0.4679, Training RMSE: 0.6391\n",
      "Epoch [5/150], Validation MAE: 0.4326, Validation RMSE: 0.5878\n"
     ]
    },
    {
     "name": "stderr",
     "output_type": "stream",
     "text": [
      "Epoch 6/150: 100%|██████████| 205/205 [00:12<00:00, 16.19batch/s, mae_loss=0.233]\n"
     ]
    },
    {
     "name": "stdout",
     "output_type": "stream",
     "text": [
      "Epoch [6/150], Training MAE: 0.4474, Training RMSE: 0.6181\n",
      "Epoch [6/150], Validation MAE: 0.4139, Validation RMSE: 0.5662\n"
     ]
    },
    {
     "name": "stderr",
     "output_type": "stream",
     "text": [
      "Epoch 7/150: 100%|██████████| 205/205 [00:12<00:00, 16.63batch/s, mae_loss=0.241]\n"
     ]
    },
    {
     "name": "stdout",
     "output_type": "stream",
     "text": [
      "Epoch [7/150], Training MAE: 0.4334, Training RMSE: 0.6012\n",
      "Epoch [7/150], Validation MAE: 0.4013, Validation RMSE: 0.5517\n"
     ]
    },
    {
     "name": "stderr",
     "output_type": "stream",
     "text": [
      "Epoch 8/150: 100%|██████████| 205/205 [00:12<00:00, 16.64batch/s, mae_loss=0.232]\n"
     ]
    },
    {
     "name": "stdout",
     "output_type": "stream",
     "text": [
      "Epoch [8/150], Training MAE: 0.4222, Training RMSE: 0.5884\n",
      "Epoch [8/150], Validation MAE: 0.3908, Validation RMSE: 0.5397\n"
     ]
    },
    {
     "name": "stderr",
     "output_type": "stream",
     "text": [
      "Epoch 9/150: 100%|██████████| 205/205 [00:12<00:00, 15.84batch/s, mae_loss=0.216]\n"
     ]
    },
    {
     "name": "stdout",
     "output_type": "stream",
     "text": [
      "Epoch [9/150], Training MAE: 0.4129, Training RMSE: 0.5770\n",
      "Epoch [9/150], Validation MAE: 0.3821, Validation RMSE: 0.5290\n"
     ]
    },
    {
     "name": "stderr",
     "output_type": "stream",
     "text": [
      "Epoch 10/150: 100%|██████████| 205/205 [00:12<00:00, 15.90batch/s, mae_loss=0.209]\n"
     ]
    },
    {
     "name": "stdout",
     "output_type": "stream",
     "text": [
      "Epoch [10/150], Training MAE: 0.4047, Training RMSE: 0.5668\n",
      "Epoch [10/150], Validation MAE: 0.3733, Validation RMSE: 0.5177\n"
     ]
    },
    {
     "name": "stderr",
     "output_type": "stream",
     "text": [
      "Epoch 11/150: 100%|██████████| 205/205 [00:12<00:00, 16.62batch/s, mae_loss=0.213]\n"
     ]
    },
    {
     "name": "stdout",
     "output_type": "stream",
     "text": [
      "Epoch [11/150], Training MAE: 0.3958, Training RMSE: 0.5560\n",
      "Epoch [11/150], Validation MAE: 0.3643, Validation RMSE: 0.5061\n"
     ]
    },
    {
     "name": "stderr",
     "output_type": "stream",
     "text": [
      "Epoch 12/150: 100%|██████████| 205/205 [00:12<00:00, 16.91batch/s, mae_loss=0.222]\n"
     ]
    },
    {
     "name": "stdout",
     "output_type": "stream",
     "text": [
      "Epoch [12/150], Training MAE: 0.3873, Training RMSE: 0.5448\n",
      "Epoch [12/150], Validation MAE: 0.3560, Validation RMSE: 0.4952\n"
     ]
    },
    {
     "name": "stderr",
     "output_type": "stream",
     "text": [
      "Epoch 13/150: 100%|██████████| 205/205 [00:12<00:00, 16.75batch/s, mae_loss=0.22] \n"
     ]
    },
    {
     "name": "stdout",
     "output_type": "stream",
     "text": [
      "Epoch [13/150], Training MAE: 0.3778, Training RMSE: 0.5336\n",
      "Epoch [13/150], Validation MAE: 0.3480, Validation RMSE: 0.4849\n"
     ]
    },
    {
     "name": "stderr",
     "output_type": "stream",
     "text": [
      "Epoch 14/150: 100%|██████████| 205/205 [00:12<00:00, 16.38batch/s, mae_loss=0.215]\n"
     ]
    },
    {
     "name": "stdout",
     "output_type": "stream",
     "text": [
      "Epoch [14/150], Training MAE: 0.3704, Training RMSE: 0.5239\n",
      "Epoch [14/150], Validation MAE: 0.3402, Validation RMSE: 0.4750\n"
     ]
    },
    {
     "name": "stderr",
     "output_type": "stream",
     "text": [
      "Epoch 15/150: 100%|██████████| 205/205 [00:12<00:00, 16.03batch/s, mae_loss=0.193]\n"
     ]
    },
    {
     "name": "stdout",
     "output_type": "stream",
     "text": [
      "Epoch [15/150], Training MAE: 0.3633, Training RMSE: 0.5155\n",
      "Epoch [15/150], Validation MAE: 0.3325, Validation RMSE: 0.4658\n"
     ]
    },
    {
     "name": "stderr",
     "output_type": "stream",
     "text": [
      "Epoch 16/150: 100%|██████████| 205/205 [00:12<00:00, 16.80batch/s, mae_loss=0.209]\n"
     ]
    },
    {
     "name": "stdout",
     "output_type": "stream",
     "text": [
      "Epoch [16/150], Training MAE: 0.3571, Training RMSE: 0.5078\n",
      "Epoch [16/150], Validation MAE: 0.3263, Validation RMSE: 0.4580\n"
     ]
    },
    {
     "name": "stderr",
     "output_type": "stream",
     "text": [
      "Epoch 17/150: 100%|██████████| 205/205 [00:12<00:00, 16.66batch/s, mae_loss=0.194]\n"
     ]
    },
    {
     "name": "stdout",
     "output_type": "stream",
     "text": [
      "Epoch [17/150], Training MAE: 0.3516, Training RMSE: 0.5006\n",
      "Epoch [17/150], Validation MAE: 0.3201, Validation RMSE: 0.4504\n"
     ]
    },
    {
     "name": "stderr",
     "output_type": "stream",
     "text": [
      "Epoch 18/150: 100%|██████████| 205/205 [00:12<00:00, 15.81batch/s, mae_loss=0.203]\n"
     ]
    },
    {
     "name": "stdout",
     "output_type": "stream",
     "text": [
      "Epoch [18/150], Training MAE: 0.3462, Training RMSE: 0.4941\n",
      "Epoch [18/150], Validation MAE: 0.3146, Validation RMSE: 0.4440\n"
     ]
    },
    {
     "name": "stderr",
     "output_type": "stream",
     "text": [
      "Epoch 19/150: 100%|██████████| 205/205 [00:12<00:00, 16.67batch/s, mae_loss=0.191]\n"
     ]
    },
    {
     "name": "stdout",
     "output_type": "stream",
     "text": [
      "Epoch [19/150], Training MAE: 0.3411, Training RMSE: 0.4880\n",
      "Epoch [19/150], Validation MAE: 0.3101, Validation RMSE: 0.4381\n"
     ]
    },
    {
     "name": "stderr",
     "output_type": "stream",
     "text": [
      "Epoch 20/150: 100%|██████████| 205/205 [00:13<00:00, 15.72batch/s, mae_loss=0.188]\n"
     ]
    },
    {
     "name": "stdout",
     "output_type": "stream",
     "text": [
      "Epoch [20/150], Training MAE: 0.3367, Training RMSE: 0.4819\n",
      "Epoch [20/150], Validation MAE: 0.3055, Validation RMSE: 0.4330\n"
     ]
    },
    {
     "name": "stderr",
     "output_type": "stream",
     "text": [
      "Epoch 21/150: 100%|██████████| 205/205 [00:12<00:00, 16.92batch/s, mae_loss=0.195]\n"
     ]
    },
    {
     "name": "stdout",
     "output_type": "stream",
     "text": [
      "Epoch [21/150], Training MAE: 0.3317, Training RMSE: 0.4764\n",
      "Epoch [21/150], Validation MAE: 0.3011, Validation RMSE: 0.4275\n"
     ]
    },
    {
     "name": "stderr",
     "output_type": "stream",
     "text": [
      "Epoch 22/150: 100%|██████████| 205/205 [00:12<00:00, 16.90batch/s, mae_loss=0.182]\n"
     ]
    },
    {
     "name": "stdout",
     "output_type": "stream",
     "text": [
      "Epoch [22/150], Training MAE: 0.3278, Training RMSE: 0.4715\n",
      "Epoch [22/150], Validation MAE: 0.2974, Validation RMSE: 0.4232\n"
     ]
    },
    {
     "name": "stderr",
     "output_type": "stream",
     "text": [
      "Epoch 23/150: 100%|██████████| 205/205 [00:12<00:00, 16.43batch/s, mae_loss=0.19] \n"
     ]
    },
    {
     "name": "stdout",
     "output_type": "stream",
     "text": [
      "Epoch [23/150], Training MAE: 0.3244, Training RMSE: 0.4679\n",
      "Epoch [23/150], Validation MAE: 0.2944, Validation RMSE: 0.4195\n"
     ]
    },
    {
     "name": "stderr",
     "output_type": "stream",
     "text": [
      "Epoch 24/150: 100%|██████████| 205/205 [00:12<00:00, 16.77batch/s, mae_loss=0.18] \n"
     ]
    },
    {
     "name": "stdout",
     "output_type": "stream",
     "text": [
      "Epoch [24/150], Training MAE: 0.3218, Training RMSE: 0.4653\n",
      "Epoch [24/150], Validation MAE: 0.2913, Validation RMSE: 0.4162\n"
     ]
    },
    {
     "name": "stderr",
     "output_type": "stream",
     "text": [
      "Epoch 25/150: 100%|██████████| 205/205 [00:12<00:00, 16.01batch/s, mae_loss=0.193]\n"
     ]
    },
    {
     "name": "stdout",
     "output_type": "stream",
     "text": [
      "Epoch [25/150], Training MAE: 0.3192, Training RMSE: 0.4602\n",
      "Epoch [25/150], Validation MAE: 0.2886, Validation RMSE: 0.4135\n"
     ]
    },
    {
     "name": "stderr",
     "output_type": "stream",
     "text": [
      "Epoch 26/150: 100%|██████████| 205/205 [00:12<00:00, 16.73batch/s, mae_loss=0.179]\n"
     ]
    },
    {
     "name": "stdout",
     "output_type": "stream",
     "text": [
      "Epoch [26/150], Training MAE: 0.3164, Training RMSE: 0.4585\n",
      "Epoch [26/150], Validation MAE: 0.2858, Validation RMSE: 0.4102\n"
     ]
    },
    {
     "name": "stderr",
     "output_type": "stream",
     "text": [
      "Epoch 27/150: 100%|██████████| 205/205 [00:12<00:00, 15.99batch/s, mae_loss=0.168]\n"
     ]
    },
    {
     "name": "stdout",
     "output_type": "stream",
     "text": [
      "Epoch [27/150], Training MAE: 0.3140, Training RMSE: 0.4558\n",
      "Epoch [27/150], Validation MAE: 0.2838, Validation RMSE: 0.4077\n"
     ]
    },
    {
     "name": "stderr",
     "output_type": "stream",
     "text": [
      "Epoch 28/150: 100%|██████████| 205/205 [00:12<00:00, 16.78batch/s, mae_loss=0.17] \n"
     ]
    },
    {
     "name": "stdout",
     "output_type": "stream",
     "text": [
      "Epoch [28/150], Training MAE: 0.3128, Training RMSE: 0.4543\n",
      "Epoch [28/150], Validation MAE: 0.2819, Validation RMSE: 0.4061\n"
     ]
    },
    {
     "name": "stderr",
     "output_type": "stream",
     "text": [
      "Epoch 29/150: 100%|██████████| 205/205 [00:12<00:00, 16.70batch/s, mae_loss=0.181]\n"
     ]
    },
    {
     "name": "stdout",
     "output_type": "stream",
     "text": [
      "Epoch [29/150], Training MAE: 0.3112, Training RMSE: 0.4524\n",
      "Epoch [29/150], Validation MAE: 0.2799, Validation RMSE: 0.4040\n"
     ]
    },
    {
     "name": "stderr",
     "output_type": "stream",
     "text": [
      "Epoch 30/150: 100%|██████████| 205/205 [00:12<00:00, 16.35batch/s, mae_loss=0.178]\n"
     ]
    },
    {
     "name": "stdout",
     "output_type": "stream",
     "text": [
      "Epoch [30/150], Training MAE: 0.3083, Training RMSE: 0.4498\n",
      "Epoch [30/150], Validation MAE: 0.2785, Validation RMSE: 0.4025\n"
     ]
    },
    {
     "name": "stderr",
     "output_type": "stream",
     "text": [
      "Epoch 31/150: 100%|██████████| 205/205 [00:12<00:00, 16.07batch/s, mae_loss=0.164]\n"
     ]
    },
    {
     "name": "stdout",
     "output_type": "stream",
     "text": [
      "Epoch [31/150], Training MAE: 0.3064, Training RMSE: 0.4466\n",
      "Epoch [31/150], Validation MAE: 0.2770, Validation RMSE: 0.4010\n"
     ]
    },
    {
     "name": "stderr",
     "output_type": "stream",
     "text": [
      "Epoch 32/150: 100%|██████████| 205/205 [00:12<00:00, 16.85batch/s, mae_loss=0.169]\n"
     ]
    },
    {
     "name": "stdout",
     "output_type": "stream",
     "text": [
      "Epoch [32/150], Training MAE: 0.3038, Training RMSE: 0.4444\n",
      "Epoch [32/150], Validation MAE: 0.2743, Validation RMSE: 0.3991\n"
     ]
    },
    {
     "name": "stderr",
     "output_type": "stream",
     "text": [
      "Epoch 33/150: 100%|██████████| 205/205 [00:12<00:00, 16.73batch/s, mae_loss=0.175]\n"
     ]
    },
    {
     "name": "stdout",
     "output_type": "stream",
     "text": [
      "Epoch [33/150], Training MAE: 0.3029, Training RMSE: 0.4439\n",
      "Epoch [33/150], Validation MAE: 0.2740, Validation RMSE: 0.3983\n"
     ]
    },
    {
     "name": "stderr",
     "output_type": "stream",
     "text": [
      "Epoch 34/150: 100%|██████████| 205/205 [00:12<00:00, 16.75batch/s, mae_loss=0.151]\n"
     ]
    },
    {
     "name": "stdout",
     "output_type": "stream",
     "text": [
      "Epoch [34/150], Training MAE: 0.3015, Training RMSE: 0.4419\n",
      "Epoch [34/150], Validation MAE: 0.2727, Validation RMSE: 0.3967\n"
     ]
    },
    {
     "name": "stderr",
     "output_type": "stream",
     "text": [
      "Epoch 35/150: 100%|██████████| 205/205 [00:13<00:00, 15.23batch/s, mae_loss=0.16] \n"
     ]
    },
    {
     "name": "stdout",
     "output_type": "stream",
     "text": [
      "Epoch [35/150], Training MAE: 0.3000, Training RMSE: 0.4403\n",
      "Epoch [35/150], Validation MAE: 0.2718, Validation RMSE: 0.3958\n"
     ]
    },
    {
     "name": "stderr",
     "output_type": "stream",
     "text": [
      "Epoch 36/150: 100%|██████████| 205/205 [00:12<00:00, 16.22batch/s, mae_loss=0.151]\n"
     ]
    },
    {
     "name": "stdout",
     "output_type": "stream",
     "text": [
      "Epoch [36/150], Training MAE: 0.2996, Training RMSE: 0.4397\n",
      "Epoch [36/150], Validation MAE: 0.2710, Validation RMSE: 0.3952\n"
     ]
    },
    {
     "name": "stderr",
     "output_type": "stream",
     "text": [
      "Epoch 37/150: 100%|██████████| 205/205 [00:12<00:00, 16.62batch/s, mae_loss=0.15] \n"
     ]
    },
    {
     "name": "stdout",
     "output_type": "stream",
     "text": [
      "Epoch [37/150], Training MAE: 0.2977, Training RMSE: 0.4377\n",
      "Epoch [37/150], Validation MAE: 0.2702, Validation RMSE: 0.3944\n"
     ]
    },
    {
     "name": "stderr",
     "output_type": "stream",
     "text": [
      "Epoch 38/150: 100%|██████████| 205/205 [00:12<00:00, 16.74batch/s, mae_loss=0.161]\n"
     ]
    },
    {
     "name": "stdout",
     "output_type": "stream",
     "text": [
      "Epoch [38/150], Training MAE: 0.2962, Training RMSE: 0.4355\n",
      "Epoch [38/150], Validation MAE: 0.2692, Validation RMSE: 0.3931\n"
     ]
    },
    {
     "name": "stderr",
     "output_type": "stream",
     "text": [
      "Epoch 39/150: 100%|██████████| 205/205 [00:12<00:00, 16.13batch/s, mae_loss=0.147]\n"
     ]
    },
    {
     "name": "stdout",
     "output_type": "stream",
     "text": [
      "Epoch [39/150], Training MAE: 0.2959, Training RMSE: 0.4353\n",
      "Epoch [39/150], Validation MAE: 0.2681, Validation RMSE: 0.3924\n"
     ]
    },
    {
     "name": "stderr",
     "output_type": "stream",
     "text": [
      "Epoch 40/150: 100%|██████████| 205/205 [00:12<00:00, 15.89batch/s, mae_loss=0.155]\n"
     ]
    },
    {
     "name": "stdout",
     "output_type": "stream",
     "text": [
      "Epoch [40/150], Training MAE: 0.2941, Training RMSE: 0.4339\n",
      "Epoch [40/150], Validation MAE: 0.2681, Validation RMSE: 0.3924\n"
     ]
    },
    {
     "name": "stderr",
     "output_type": "stream",
     "text": [
      "Epoch 41/150: 100%|██████████| 205/205 [00:12<00:00, 16.38batch/s, mae_loss=0.158]\n"
     ]
    },
    {
     "name": "stdout",
     "output_type": "stream",
     "text": [
      "Epoch [41/150], Training MAE: 0.2938, Training RMSE: 0.4339\n",
      "Epoch [41/150], Validation MAE: 0.2675, Validation RMSE: 0.3917\n"
     ]
    },
    {
     "name": "stderr",
     "output_type": "stream",
     "text": [
      "Epoch 42/150: 100%|██████████| 205/205 [00:12<00:00, 16.74batch/s, mae_loss=0.167]\n"
     ]
    },
    {
     "name": "stdout",
     "output_type": "stream",
     "text": [
      "Epoch [42/150], Training MAE: 0.2927, Training RMSE: 0.4318\n",
      "Epoch [42/150], Validation MAE: 0.2663, Validation RMSE: 0.3907\n"
     ]
    },
    {
     "name": "stderr",
     "output_type": "stream",
     "text": [
      "Epoch 43/150: 100%|██████████| 205/205 [00:12<00:00, 16.56batch/s, mae_loss=0.157]\n"
     ]
    },
    {
     "name": "stdout",
     "output_type": "stream",
     "text": [
      "Epoch [43/150], Training MAE: 0.2921, Training RMSE: 0.4322\n",
      "Epoch [43/150], Validation MAE: 0.2667, Validation RMSE: 0.3912\n"
     ]
    },
    {
     "name": "stderr",
     "output_type": "stream",
     "text": [
      "Epoch 44/150: 100%|██████████| 205/205 [00:12<00:00, 15.94batch/s, mae_loss=0.153]\n"
     ]
    },
    {
     "name": "stdout",
     "output_type": "stream",
     "text": [
      "Epoch [44/150], Training MAE: 0.2912, Training RMSE: 0.4311\n",
      "Epoch [44/150], Validation MAE: 0.2652, Validation RMSE: 0.3897\n"
     ]
    },
    {
     "name": "stderr",
     "output_type": "stream",
     "text": [
      "Epoch 45/150: 100%|██████████| 205/205 [00:12<00:00, 16.37batch/s, mae_loss=0.159]\n"
     ]
    },
    {
     "name": "stdout",
     "output_type": "stream",
     "text": [
      "Epoch [45/150], Training MAE: 0.2899, Training RMSE: 0.4291\n",
      "Epoch [45/150], Validation MAE: 0.2652, Validation RMSE: 0.3896\n"
     ]
    },
    {
     "name": "stderr",
     "output_type": "stream",
     "text": [
      "Epoch 46/150: 100%|██████████| 205/205 [00:12<00:00, 16.79batch/s, mae_loss=0.163]\n"
     ]
    },
    {
     "name": "stdout",
     "output_type": "stream",
     "text": [
      "Epoch [46/150], Training MAE: 0.2898, Training RMSE: 0.4293\n",
      "Epoch [46/150], Validation MAE: 0.2650, Validation RMSE: 0.3897\n"
     ]
    },
    {
     "name": "stderr",
     "output_type": "stream",
     "text": [
      "Epoch 47/150: 100%|██████████| 205/205 [00:12<00:00, 16.44batch/s, mae_loss=0.147]\n"
     ]
    },
    {
     "name": "stdout",
     "output_type": "stream",
     "text": [
      "Epoch [47/150], Training MAE: 0.2882, Training RMSE: 0.4274\n",
      "Epoch [47/150], Validation MAE: 0.2644, Validation RMSE: 0.3890\n"
     ]
    },
    {
     "name": "stderr",
     "output_type": "stream",
     "text": [
      "Epoch 48/150: 100%|██████████| 205/205 [00:13<00:00, 15.23batch/s, mae_loss=0.154]\n"
     ]
    },
    {
     "name": "stdout",
     "output_type": "stream",
     "text": [
      "Epoch [48/150], Training MAE: 0.2877, Training RMSE: 0.4267\n",
      "Epoch [48/150], Validation MAE: 0.2640, Validation RMSE: 0.3887\n"
     ]
    },
    {
     "name": "stderr",
     "output_type": "stream",
     "text": [
      "Epoch 49/150: 100%|██████████| 205/205 [00:14<00:00, 14.35batch/s, mae_loss=0.149]\n"
     ]
    },
    {
     "name": "stdout",
     "output_type": "stream",
     "text": [
      "Epoch [49/150], Training MAE: 0.2870, Training RMSE: 0.4260\n",
      "Epoch [49/150], Validation MAE: 0.2638, Validation RMSE: 0.3886\n"
     ]
    },
    {
     "name": "stderr",
     "output_type": "stream",
     "text": [
      "Epoch 50/150: 100%|██████████| 205/205 [00:12<00:00, 16.73batch/s, mae_loss=0.151]\n"
     ]
    },
    {
     "name": "stdout",
     "output_type": "stream",
     "text": [
      "Epoch [50/150], Training MAE: 0.2872, Training RMSE: 0.4266\n",
      "Epoch [50/150], Validation MAE: 0.2636, Validation RMSE: 0.3883\n"
     ]
    },
    {
     "name": "stderr",
     "output_type": "stream",
     "text": [
      "Epoch 51/150: 100%|██████████| 205/205 [00:12<00:00, 16.72batch/s, mae_loss=0.154]\n"
     ]
    },
    {
     "name": "stdout",
     "output_type": "stream",
     "text": [
      "Epoch [51/150], Training MAE: 0.2856, Training RMSE: 0.4245\n",
      "Epoch [51/150], Validation MAE: 0.2633, Validation RMSE: 0.3884\n"
     ]
    },
    {
     "name": "stderr",
     "output_type": "stream",
     "text": [
      "Epoch 52/150: 100%|██████████| 205/205 [00:12<00:00, 16.23batch/s, mae_loss=0.154]\n"
     ]
    },
    {
     "name": "stdout",
     "output_type": "stream",
     "text": [
      "Epoch [52/150], Training MAE: 0.2857, Training RMSE: 0.4251\n",
      "Epoch [52/150], Validation MAE: 0.2625, Validation RMSE: 0.3876\n"
     ]
    },
    {
     "name": "stderr",
     "output_type": "stream",
     "text": [
      "Epoch 53/150: 100%|██████████| 205/205 [00:12<00:00, 16.20batch/s, mae_loss=0.148]\n"
     ]
    },
    {
     "name": "stdout",
     "output_type": "stream",
     "text": [
      "Epoch [53/150], Training MAE: 0.2845, Training RMSE: 0.4234\n",
      "Epoch [53/150], Validation MAE: 0.2623, Validation RMSE: 0.3874\n"
     ]
    },
    {
     "name": "stderr",
     "output_type": "stream",
     "text": [
      "Epoch 54/150: 100%|██████████| 205/205 [00:12<00:00, 16.19batch/s, mae_loss=0.146]\n"
     ]
    },
    {
     "name": "stdout",
     "output_type": "stream",
     "text": [
      "Epoch [54/150], Training MAE: 0.2842, Training RMSE: 0.4229\n",
      "Epoch [54/150], Validation MAE: 0.2619, Validation RMSE: 0.3871\n"
     ]
    },
    {
     "name": "stderr",
     "output_type": "stream",
     "text": [
      "Epoch 55/150: 100%|██████████| 205/205 [00:12<00:00, 15.83batch/s, mae_loss=0.151]\n"
     ]
    },
    {
     "name": "stdout",
     "output_type": "stream",
     "text": [
      "Epoch [55/150], Training MAE: 0.2842, Training RMSE: 0.4236\n",
      "Epoch [55/150], Validation MAE: 0.2622, Validation RMSE: 0.3873\n"
     ]
    },
    {
     "name": "stderr",
     "output_type": "stream",
     "text": [
      "Epoch 56/150: 100%|██████████| 205/205 [00:12<00:00, 16.52batch/s, mae_loss=0.141]\n"
     ]
    },
    {
     "name": "stdout",
     "output_type": "stream",
     "text": [
      "Epoch [56/150], Training MAE: 0.2828, Training RMSE: 0.4216\n",
      "Epoch [56/150], Validation MAE: 0.2616, Validation RMSE: 0.3867\n"
     ]
    },
    {
     "name": "stderr",
     "output_type": "stream",
     "text": [
      "Epoch 57/150: 100%|██████████| 205/205 [00:12<00:00, 15.95batch/s, mae_loss=0.139]\n"
     ]
    },
    {
     "name": "stdout",
     "output_type": "stream",
     "text": [
      "Epoch [57/150], Training MAE: 0.2824, Training RMSE: 0.4212\n",
      "Epoch [57/150], Validation MAE: 0.2619, Validation RMSE: 0.3870\n"
     ]
    },
    {
     "name": "stderr",
     "output_type": "stream",
     "text": [
      "Epoch 58/150: 100%|██████████| 205/205 [00:12<00:00, 16.01batch/s, mae_loss=0.151]\n"
     ]
    },
    {
     "name": "stdout",
     "output_type": "stream",
     "text": [
      "Epoch [58/150], Training MAE: 0.2819, Training RMSE: 0.4211\n",
      "Epoch [58/150], Validation MAE: 0.2612, Validation RMSE: 0.3866\n"
     ]
    },
    {
     "name": "stderr",
     "output_type": "stream",
     "text": [
      "Epoch 59/150: 100%|██████████| 205/205 [00:12<00:00, 16.47batch/s, mae_loss=0.141]\n"
     ]
    },
    {
     "name": "stdout",
     "output_type": "stream",
     "text": [
      "Epoch [59/150], Training MAE: 0.2822, Training RMSE: 0.4212\n",
      "Epoch [59/150], Validation MAE: 0.2608, Validation RMSE: 0.3862\n"
     ]
    },
    {
     "name": "stderr",
     "output_type": "stream",
     "text": [
      "Epoch 60/150: 100%|██████████| 205/205 [00:12<00:00, 16.66batch/s, mae_loss=0.144]\n"
     ]
    },
    {
     "name": "stdout",
     "output_type": "stream",
     "text": [
      "Epoch [60/150], Training MAE: 0.2810, Training RMSE: 0.4199\n",
      "Epoch [60/150], Validation MAE: 0.2606, Validation RMSE: 0.3860\n"
     ]
    },
    {
     "name": "stderr",
     "output_type": "stream",
     "text": [
      "Epoch 61/150: 100%|██████████| 205/205 [00:12<00:00, 16.65batch/s, mae_loss=0.148]\n"
     ]
    },
    {
     "name": "stdout",
     "output_type": "stream",
     "text": [
      "Epoch [61/150], Training MAE: 0.2798, Training RMSE: 0.4184\n",
      "Epoch [61/150], Validation MAE: 0.2605, Validation RMSE: 0.3859\n"
     ]
    },
    {
     "name": "stderr",
     "output_type": "stream",
     "text": [
      "Epoch 62/150: 100%|██████████| 205/205 [00:12<00:00, 16.01batch/s, mae_loss=0.144]\n"
     ]
    },
    {
     "name": "stdout",
     "output_type": "stream",
     "text": [
      "Epoch [62/150], Training MAE: 0.2798, Training RMSE: 0.4182\n",
      "Epoch [62/150], Validation MAE: 0.2604, Validation RMSE: 0.3861\n"
     ]
    },
    {
     "name": "stderr",
     "output_type": "stream",
     "text": [
      "Epoch 63/150: 100%|██████████| 205/205 [00:12<00:00, 16.02batch/s, mae_loss=0.145]\n"
     ]
    },
    {
     "name": "stdout",
     "output_type": "stream",
     "text": [
      "Epoch [63/150], Training MAE: 0.2797, Training RMSE: 0.4183\n",
      "Epoch [63/150], Validation MAE: 0.2599, Validation RMSE: 0.3856\n"
     ]
    },
    {
     "name": "stderr",
     "output_type": "stream",
     "text": [
      "Epoch 64/150: 100%|██████████| 205/205 [00:12<00:00, 16.87batch/s, mae_loss=0.146]\n"
     ]
    },
    {
     "name": "stdout",
     "output_type": "stream",
     "text": [
      "Epoch [64/150], Training MAE: 0.2791, Training RMSE: 0.4181\n",
      "Epoch [64/150], Validation MAE: 0.2596, Validation RMSE: 0.3853\n"
     ]
    },
    {
     "name": "stderr",
     "output_type": "stream",
     "text": [
      "Epoch 65/150: 100%|██████████| 205/205 [00:12<00:00, 16.99batch/s, mae_loss=0.148]\n"
     ]
    },
    {
     "name": "stdout",
     "output_type": "stream",
     "text": [
      "Epoch [65/150], Training MAE: 0.2785, Training RMSE: 0.4171\n",
      "Epoch [65/150], Validation MAE: 0.2596, Validation RMSE: 0.3853\n"
     ]
    },
    {
     "name": "stderr",
     "output_type": "stream",
     "text": [
      "Epoch 66/150: 100%|██████████| 205/205 [00:12<00:00, 16.14batch/s, mae_loss=0.15] \n"
     ]
    },
    {
     "name": "stdout",
     "output_type": "stream",
     "text": [
      "Epoch [66/150], Training MAE: 0.2786, Training RMSE: 0.4175\n",
      "Epoch [66/150], Validation MAE: 0.2595, Validation RMSE: 0.3852\n"
     ]
    },
    {
     "name": "stderr",
     "output_type": "stream",
     "text": [
      "Epoch 67/150: 100%|██████████| 205/205 [00:12<00:00, 16.57batch/s, mae_loss=0.135]\n"
     ]
    },
    {
     "name": "stdout",
     "output_type": "stream",
     "text": [
      "Epoch [67/150], Training MAE: 0.2777, Training RMSE: 0.4168\n",
      "Epoch [67/150], Validation MAE: 0.2592, Validation RMSE: 0.3853\n"
     ]
    },
    {
     "name": "stderr",
     "output_type": "stream",
     "text": [
      "Epoch 68/150: 100%|██████████| 205/205 [00:13<00:00, 15.65batch/s, mae_loss=0.143]\n"
     ]
    },
    {
     "name": "stdout",
     "output_type": "stream",
     "text": [
      "Epoch [68/150], Training MAE: 0.2770, Training RMSE: 0.4154\n",
      "Epoch [68/150], Validation MAE: 0.2594, Validation RMSE: 0.3853\n"
     ]
    },
    {
     "name": "stderr",
     "output_type": "stream",
     "text": [
      "Epoch 69/150: 100%|██████████| 205/205 [00:12<00:00, 16.48batch/s, mae_loss=0.135]\n"
     ]
    },
    {
     "name": "stdout",
     "output_type": "stream",
     "text": [
      "Epoch [69/150], Training MAE: 0.2766, Training RMSE: 0.4158\n",
      "Epoch [69/150], Validation MAE: 0.2589, Validation RMSE: 0.3847\n"
     ]
    },
    {
     "name": "stderr",
     "output_type": "stream",
     "text": [
      "Epoch 70/150: 100%|██████████| 205/205 [00:12<00:00, 16.64batch/s, mae_loss=0.137]\n"
     ]
    },
    {
     "name": "stdout",
     "output_type": "stream",
     "text": [
      "Epoch [70/150], Training MAE: 0.2770, Training RMSE: 0.4157\n",
      "Epoch [70/150], Validation MAE: 0.2587, Validation RMSE: 0.3847\n"
     ]
    },
    {
     "name": "stderr",
     "output_type": "stream",
     "text": [
      "Epoch 71/150: 100%|██████████| 205/205 [00:12<00:00, 16.09batch/s, mae_loss=0.136]\n"
     ]
    },
    {
     "name": "stdout",
     "output_type": "stream",
     "text": [
      "Epoch [71/150], Training MAE: 0.2760, Training RMSE: 0.4147\n",
      "Epoch [71/150], Validation MAE: 0.2588, Validation RMSE: 0.3850\n"
     ]
    },
    {
     "name": "stderr",
     "output_type": "stream",
     "text": [
      "Epoch 72/150: 100%|██████████| 205/205 [00:12<00:00, 16.75batch/s, mae_loss=0.152]\n"
     ]
    },
    {
     "name": "stdout",
     "output_type": "stream",
     "text": [
      "Epoch [72/150], Training MAE: 0.2755, Training RMSE: 0.4142\n",
      "Epoch [72/150], Validation MAE: 0.2586, Validation RMSE: 0.3846\n"
     ]
    },
    {
     "name": "stderr",
     "output_type": "stream",
     "text": [
      "Epoch 73/150: 100%|██████████| 205/205 [00:12<00:00, 16.10batch/s, mae_loss=0.14] \n"
     ]
    },
    {
     "name": "stdout",
     "output_type": "stream",
     "text": [
      "Epoch [73/150], Training MAE: 0.2762, Training RMSE: 0.4150\n",
      "Epoch [73/150], Validation MAE: 0.2584, Validation RMSE: 0.3843\n"
     ]
    },
    {
     "name": "stderr",
     "output_type": "stream",
     "text": [
      "Epoch 74/150: 100%|██████████| 205/205 [00:12<00:00, 16.66batch/s, mae_loss=0.136]\n"
     ]
    },
    {
     "name": "stdout",
     "output_type": "stream",
     "text": [
      "Epoch [74/150], Training MAE: 0.2757, Training RMSE: 0.4148\n",
      "Epoch [74/150], Validation MAE: 0.2579, Validation RMSE: 0.3841\n"
     ]
    },
    {
     "name": "stderr",
     "output_type": "stream",
     "text": [
      "Epoch 75/150: 100%|██████████| 205/205 [00:12<00:00, 16.48batch/s, mae_loss=0.14] \n"
     ]
    },
    {
     "name": "stdout",
     "output_type": "stream",
     "text": [
      "Epoch [75/150], Training MAE: 0.2755, Training RMSE: 0.4147\n",
      "Epoch [75/150], Validation MAE: 0.2584, Validation RMSE: 0.3843\n"
     ]
    },
    {
     "name": "stderr",
     "output_type": "stream",
     "text": [
      "Epoch 76/150: 100%|██████████| 205/205 [00:12<00:00, 16.65batch/s, mae_loss=0.136]\n"
     ]
    },
    {
     "name": "stdout",
     "output_type": "stream",
     "text": [
      "Epoch [76/150], Training MAE: 0.2745, Training RMSE: 0.4136\n",
      "Epoch [76/150], Validation MAE: 0.2581, Validation RMSE: 0.3840\n"
     ]
    },
    {
     "name": "stderr",
     "output_type": "stream",
     "text": [
      "Epoch 77/150: 100%|██████████| 205/205 [00:12<00:00, 16.58batch/s, mae_loss=0.139]\n"
     ]
    },
    {
     "name": "stdout",
     "output_type": "stream",
     "text": [
      "Epoch [77/150], Training MAE: 0.2749, Training RMSE: 0.4136\n",
      "Epoch [77/150], Validation MAE: 0.2578, Validation RMSE: 0.3843\n"
     ]
    },
    {
     "name": "stderr",
     "output_type": "stream",
     "text": [
      "Epoch 78/150: 100%|██████████| 205/205 [00:12<00:00, 16.02batch/s, mae_loss=0.131]\n"
     ]
    },
    {
     "name": "stdout",
     "output_type": "stream",
     "text": [
      "Epoch [78/150], Training MAE: 0.2743, Training RMSE: 0.4134\n",
      "Epoch [78/150], Validation MAE: 0.2578, Validation RMSE: 0.3839\n"
     ]
    },
    {
     "name": "stderr",
     "output_type": "stream",
     "text": [
      "Epoch 79/150: 100%|██████████| 205/205 [00:12<00:00, 15.82batch/s, mae_loss=0.141]\n"
     ]
    },
    {
     "name": "stdout",
     "output_type": "stream",
     "text": [
      "Epoch [79/150], Training MAE: 0.2735, Training RMSE: 0.4123\n",
      "Epoch [79/150], Validation MAE: 0.2580, Validation RMSE: 0.3842\n"
     ]
    },
    {
     "name": "stderr",
     "output_type": "stream",
     "text": [
      "Epoch 80/150: 100%|██████████| 205/205 [00:12<00:00, 16.69batch/s, mae_loss=0.144]\n"
     ]
    },
    {
     "name": "stdout",
     "output_type": "stream",
     "text": [
      "Epoch [80/150], Training MAE: 0.2734, Training RMSE: 0.4120\n",
      "Epoch [80/150], Validation MAE: 0.2577, Validation RMSE: 0.3841\n"
     ]
    },
    {
     "name": "stderr",
     "output_type": "stream",
     "text": [
      "Epoch 81/150: 100%|██████████| 205/205 [00:12<00:00, 16.53batch/s, mae_loss=0.136]\n"
     ]
    },
    {
     "name": "stdout",
     "output_type": "stream",
     "text": [
      "Epoch [81/150], Training MAE: 0.2733, Training RMSE: 0.4117\n",
      "Epoch [81/150], Validation MAE: 0.2576, Validation RMSE: 0.3840\n"
     ]
    },
    {
     "name": "stderr",
     "output_type": "stream",
     "text": [
      "Epoch 82/150: 100%|██████████| 205/205 [00:12<00:00, 16.47batch/s, mae_loss=0.14] \n"
     ]
    },
    {
     "name": "stdout",
     "output_type": "stream",
     "text": [
      "Epoch [82/150], Training MAE: 0.2731, Training RMSE: 0.4115\n",
      "Epoch [82/150], Validation MAE: 0.2575, Validation RMSE: 0.3839\n"
     ]
    },
    {
     "name": "stderr",
     "output_type": "stream",
     "text": [
      "Epoch 83/150: 100%|██████████| 205/205 [00:12<00:00, 16.49batch/s, mae_loss=0.14] \n"
     ]
    },
    {
     "name": "stdout",
     "output_type": "stream",
     "text": [
      "Epoch [83/150], Training MAE: 0.2727, Training RMSE: 0.4111\n",
      "Epoch [83/150], Validation MAE: 0.2576, Validation RMSE: 0.3835\n"
     ]
    },
    {
     "name": "stderr",
     "output_type": "stream",
     "text": [
      "Epoch 84/150: 100%|██████████| 205/205 [00:13<00:00, 15.72batch/s, mae_loss=0.143]\n"
     ]
    },
    {
     "name": "stdout",
     "output_type": "stream",
     "text": [
      "Epoch [84/150], Training MAE: 0.2726, Training RMSE: 0.4110\n",
      "Epoch [84/150], Validation MAE: 0.2573, Validation RMSE: 0.3839\n"
     ]
    },
    {
     "name": "stderr",
     "output_type": "stream",
     "text": [
      "Epoch 85/150: 100%|██████████| 205/205 [00:12<00:00, 16.81batch/s, mae_loss=0.144]\n"
     ]
    },
    {
     "name": "stdout",
     "output_type": "stream",
     "text": [
      "Epoch [85/150], Training MAE: 0.2719, Training RMSE: 0.4101\n",
      "Epoch [85/150], Validation MAE: 0.2573, Validation RMSE: 0.3835\n"
     ]
    },
    {
     "name": "stderr",
     "output_type": "stream",
     "text": [
      "Epoch 86/150: 100%|██████████| 205/205 [00:12<00:00, 16.81batch/s, mae_loss=0.127]\n"
     ]
    },
    {
     "name": "stdout",
     "output_type": "stream",
     "text": [
      "Epoch [86/150], Training MAE: 0.2724, Training RMSE: 0.4115\n",
      "Epoch [86/150], Validation MAE: 0.2573, Validation RMSE: 0.3834\n"
     ]
    },
    {
     "name": "stderr",
     "output_type": "stream",
     "text": [
      "Epoch 87/150: 100%|██████████| 205/205 [00:12<00:00, 16.22batch/s, mae_loss=0.144]\n"
     ]
    },
    {
     "name": "stdout",
     "output_type": "stream",
     "text": [
      "Epoch [87/150], Training MAE: 0.2711, Training RMSE: 0.4092\n",
      "Epoch [87/150], Validation MAE: 0.2571, Validation RMSE: 0.3833\n"
     ]
    },
    {
     "name": "stderr",
     "output_type": "stream",
     "text": [
      "Epoch 88/150: 100%|██████████| 205/205 [00:12<00:00, 16.05batch/s, mae_loss=0.127]\n"
     ]
    },
    {
     "name": "stdout",
     "output_type": "stream",
     "text": [
      "Epoch [88/150], Training MAE: 0.2711, Training RMSE: 0.4097\n",
      "Epoch [88/150], Validation MAE: 0.2565, Validation RMSE: 0.3830\n"
     ]
    },
    {
     "name": "stderr",
     "output_type": "stream",
     "text": [
      "Epoch 89/150: 100%|██████████| 205/205 [00:12<00:00, 16.39batch/s, mae_loss=0.136]\n"
     ]
    },
    {
     "name": "stdout",
     "output_type": "stream",
     "text": [
      "Epoch [89/150], Training MAE: 0.2712, Training RMSE: 0.4100\n",
      "Epoch [89/150], Validation MAE: 0.2561, Validation RMSE: 0.3829\n"
     ]
    },
    {
     "name": "stderr",
     "output_type": "stream",
     "text": [
      "Epoch 90/150: 100%|██████████| 205/205 [00:12<00:00, 16.34batch/s, mae_loss=0.141]\n"
     ]
    },
    {
     "name": "stdout",
     "output_type": "stream",
     "text": [
      "Epoch [90/150], Training MAE: 0.2708, Training RMSE: 0.4093\n",
      "Epoch [90/150], Validation MAE: 0.2568, Validation RMSE: 0.3832\n"
     ]
    },
    {
     "name": "stderr",
     "output_type": "stream",
     "text": [
      "Epoch 91/150: 100%|██████████| 205/205 [00:12<00:00, 16.49batch/s, mae_loss=0.131]\n"
     ]
    },
    {
     "name": "stdout",
     "output_type": "stream",
     "text": [
      "Epoch [91/150], Training MAE: 0.2701, Training RMSE: 0.4087\n",
      "Epoch [91/150], Validation MAE: 0.2568, Validation RMSE: 0.3830\n"
     ]
    },
    {
     "name": "stderr",
     "output_type": "stream",
     "text": [
      "Epoch 92/150: 100%|██████████| 205/205 [00:12<00:00, 16.22batch/s, mae_loss=0.14] \n"
     ]
    },
    {
     "name": "stdout",
     "output_type": "stream",
     "text": [
      "Epoch [92/150], Training MAE: 0.2703, Training RMSE: 0.4090\n",
      "Epoch [92/150], Validation MAE: 0.2564, Validation RMSE: 0.3827\n"
     ]
    },
    {
     "name": "stderr",
     "output_type": "stream",
     "text": [
      "Epoch 93/150: 100%|██████████| 205/205 [00:12<00:00, 15.88batch/s, mae_loss=0.137]\n"
     ]
    },
    {
     "name": "stdout",
     "output_type": "stream",
     "text": [
      "Epoch [93/150], Training MAE: 0.2698, Training RMSE: 0.4086\n",
      "Epoch [93/150], Validation MAE: 0.2560, Validation RMSE: 0.3826\n"
     ]
    },
    {
     "name": "stderr",
     "output_type": "stream",
     "text": [
      "Epoch 94/150: 100%|██████████| 205/205 [00:12<00:00, 16.85batch/s, mae_loss=0.131]\n"
     ]
    },
    {
     "name": "stdout",
     "output_type": "stream",
     "text": [
      "Epoch [94/150], Training MAE: 0.2698, Training RMSE: 0.4087\n",
      "Epoch [94/150], Validation MAE: 0.2561, Validation RMSE: 0.3826\n"
     ]
    },
    {
     "name": "stderr",
     "output_type": "stream",
     "text": [
      "Epoch 95/150: 100%|██████████| 205/205 [00:12<00:00, 16.39batch/s, mae_loss=0.133]\n"
     ]
    },
    {
     "name": "stdout",
     "output_type": "stream",
     "text": [
      "Epoch [95/150], Training MAE: 0.2694, Training RMSE: 0.4074\n",
      "Epoch [95/150], Validation MAE: 0.2558, Validation RMSE: 0.3824\n"
     ]
    },
    {
     "name": "stderr",
     "output_type": "stream",
     "text": [
      "Epoch 96/150: 100%|██████████| 205/205 [00:12<00:00, 16.73batch/s, mae_loss=0.133]\n"
     ]
    },
    {
     "name": "stdout",
     "output_type": "stream",
     "text": [
      "Epoch [96/150], Training MAE: 0.2687, Training RMSE: 0.4072\n",
      "Epoch [96/150], Validation MAE: 0.2558, Validation RMSE: 0.3823\n"
     ]
    },
    {
     "name": "stderr",
     "output_type": "stream",
     "text": [
      "Epoch 97/150: 100%|██████████| 205/205 [00:13<00:00, 15.59batch/s, mae_loss=0.127]\n"
     ]
    },
    {
     "name": "stdout",
     "output_type": "stream",
     "text": [
      "Epoch [97/150], Training MAE: 0.2689, Training RMSE: 0.4079\n",
      "Epoch [97/150], Validation MAE: 0.2562, Validation RMSE: 0.3823\n"
     ]
    },
    {
     "name": "stderr",
     "output_type": "stream",
     "text": [
      "Epoch 98/150: 100%|██████████| 205/205 [00:12<00:00, 16.51batch/s, mae_loss=0.127]\n"
     ]
    },
    {
     "name": "stdout",
     "output_type": "stream",
     "text": [
      "Epoch [98/150], Training MAE: 0.2686, Training RMSE: 0.4068\n",
      "Epoch [98/150], Validation MAE: 0.2558, Validation RMSE: 0.3823\n"
     ]
    },
    {
     "name": "stderr",
     "output_type": "stream",
     "text": [
      "Epoch 99/150: 100%|██████████| 205/205 [00:12<00:00, 16.52batch/s, mae_loss=0.135]\n"
     ]
    },
    {
     "name": "stdout",
     "output_type": "stream",
     "text": [
      "Epoch [99/150], Training MAE: 0.2686, Training RMSE: 0.4073\n",
      "Epoch [99/150], Validation MAE: 0.2557, Validation RMSE: 0.3821\n"
     ]
    },
    {
     "name": "stderr",
     "output_type": "stream",
     "text": [
      "Epoch 100/150: 100%|██████████| 205/205 [00:12<00:00, 16.36batch/s, mae_loss=0.127]\n"
     ]
    },
    {
     "name": "stdout",
     "output_type": "stream",
     "text": [
      "Epoch [100/150], Training MAE: 0.2684, Training RMSE: 0.4068\n",
      "Epoch [100/150], Validation MAE: 0.2560, Validation RMSE: 0.3824\n"
     ]
    },
    {
     "name": "stderr",
     "output_type": "stream",
     "text": [
      "Epoch 101/150: 100%|██████████| 205/205 [00:12<00:00, 16.45batch/s, mae_loss=0.134]\n"
     ]
    },
    {
     "name": "stdout",
     "output_type": "stream",
     "text": [
      "Epoch [101/150], Training MAE: 0.2681, Training RMSE: 0.4061\n",
      "Epoch [101/150], Validation MAE: 0.2559, Validation RMSE: 0.3822\n"
     ]
    },
    {
     "name": "stderr",
     "output_type": "stream",
     "text": [
      "Epoch 102/150: 100%|██████████| 205/205 [00:12<00:00, 16.09batch/s, mae_loss=0.125]\n"
     ]
    },
    {
     "name": "stdout",
     "output_type": "stream",
     "text": [
      "Epoch [102/150], Training MAE: 0.2680, Training RMSE: 0.4062\n",
      "Epoch [102/150], Validation MAE: 0.2553, Validation RMSE: 0.3821\n"
     ]
    },
    {
     "name": "stderr",
     "output_type": "stream",
     "text": [
      "Epoch 103/150: 100%|██████████| 205/205 [00:12<00:00, 16.59batch/s, mae_loss=0.125]\n"
     ]
    },
    {
     "name": "stdout",
     "output_type": "stream",
     "text": [
      "Epoch [103/150], Training MAE: 0.2678, Training RMSE: 0.4063\n",
      "Epoch [103/150], Validation MAE: 0.2558, Validation RMSE: 0.3820\n"
     ]
    },
    {
     "name": "stderr",
     "output_type": "stream",
     "text": [
      "Epoch 104/150: 100%|██████████| 205/205 [00:12<00:00, 16.76batch/s, mae_loss=0.135]\n"
     ]
    },
    {
     "name": "stdout",
     "output_type": "stream",
     "text": [
      "Epoch [104/150], Training MAE: 0.2673, Training RMSE: 0.4051\n",
      "Epoch [104/150], Validation MAE: 0.2558, Validation RMSE: 0.3822\n"
     ]
    },
    {
     "name": "stderr",
     "output_type": "stream",
     "text": [
      "Epoch 105/150: 100%|██████████| 205/205 [00:12<00:00, 16.79batch/s, mae_loss=0.129]\n"
     ]
    },
    {
     "name": "stdout",
     "output_type": "stream",
     "text": [
      "Epoch [105/150], Training MAE: 0.2676, Training RMSE: 0.4057\n",
      "Epoch [105/150], Validation MAE: 0.2554, Validation RMSE: 0.3817\n"
     ]
    },
    {
     "name": "stderr",
     "output_type": "stream",
     "text": [
      "Epoch 106/150: 100%|██████████| 205/205 [00:12<00:00, 15.92batch/s, mae_loss=0.134]\n"
     ]
    },
    {
     "name": "stdout",
     "output_type": "stream",
     "text": [
      "Epoch [106/150], Training MAE: 0.2671, Training RMSE: 0.4053\n",
      "Epoch [106/150], Validation MAE: 0.2552, Validation RMSE: 0.3815\n"
     ]
    },
    {
     "name": "stderr",
     "output_type": "stream",
     "text": [
      "Epoch 107/150: 100%|██████████| 205/205 [00:12<00:00, 16.46batch/s, mae_loss=0.127]\n"
     ]
    },
    {
     "name": "stdout",
     "output_type": "stream",
     "text": [
      "Epoch [107/150], Training MAE: 0.2665, Training RMSE: 0.4052\n",
      "Epoch [107/150], Validation MAE: 0.2552, Validation RMSE: 0.3816\n"
     ]
    },
    {
     "name": "stderr",
     "output_type": "stream",
     "text": [
      "Epoch 108/150: 100%|██████████| 205/205 [00:12<00:00, 16.61batch/s, mae_loss=0.129]\n"
     ]
    },
    {
     "name": "stdout",
     "output_type": "stream",
     "text": [
      "Epoch [108/150], Training MAE: 0.2663, Training RMSE: 0.4049\n",
      "Epoch [108/150], Validation MAE: 0.2554, Validation RMSE: 0.3817\n"
     ]
    },
    {
     "name": "stderr",
     "output_type": "stream",
     "text": [
      "Epoch 109/150: 100%|██████████| 205/205 [00:12<00:00, 16.58batch/s, mae_loss=0.126]\n"
     ]
    },
    {
     "name": "stdout",
     "output_type": "stream",
     "text": [
      "Epoch [109/150], Training MAE: 0.2668, Training RMSE: 0.4050\n",
      "Epoch [109/150], Validation MAE: 0.2552, Validation RMSE: 0.3816\n"
     ]
    },
    {
     "name": "stderr",
     "output_type": "stream",
     "text": [
      "Epoch 110/150: 100%|██████████| 205/205 [00:12<00:00, 15.97batch/s, mae_loss=0.127]\n"
     ]
    },
    {
     "name": "stdout",
     "output_type": "stream",
     "text": [
      "Epoch [110/150], Training MAE: 0.2659, Training RMSE: 0.4039\n",
      "Epoch [110/150], Validation MAE: 0.2552, Validation RMSE: 0.3817\n"
     ]
    },
    {
     "name": "stderr",
     "output_type": "stream",
     "text": [
      "Epoch 111/150: 100%|██████████| 205/205 [00:12<00:00, 15.92batch/s, mae_loss=0.123]\n"
     ]
    },
    {
     "name": "stdout",
     "output_type": "stream",
     "text": [
      "Epoch [111/150], Training MAE: 0.2659, Training RMSE: 0.4040\n",
      "Epoch [111/150], Validation MAE: 0.2553, Validation RMSE: 0.3816\n"
     ]
    },
    {
     "name": "stderr",
     "output_type": "stream",
     "text": [
      "Epoch 112/150: 100%|██████████| 205/205 [00:12<00:00, 16.60batch/s, mae_loss=0.126]\n"
     ]
    },
    {
     "name": "stdout",
     "output_type": "stream",
     "text": [
      "Epoch [112/150], Training MAE: 0.2660, Training RMSE: 0.4041\n",
      "Epoch [112/150], Validation MAE: 0.2553, Validation RMSE: 0.3816\n"
     ]
    },
    {
     "name": "stderr",
     "output_type": "stream",
     "text": [
      "Epoch 113/150: 100%|██████████| 205/205 [00:12<00:00, 16.66batch/s, mae_loss=0.134]\n"
     ]
    },
    {
     "name": "stdout",
     "output_type": "stream",
     "text": [
      "Epoch [113/150], Training MAE: 0.2664, Training RMSE: 0.4042\n",
      "Epoch [113/150], Validation MAE: 0.2549, Validation RMSE: 0.3813\n"
     ]
    },
    {
     "name": "stderr",
     "output_type": "stream",
     "text": [
      "Epoch 114/150: 100%|██████████| 205/205 [00:12<00:00, 16.66batch/s, mae_loss=0.139]\n"
     ]
    },
    {
     "name": "stdout",
     "output_type": "stream",
     "text": [
      "Epoch [114/150], Training MAE: 0.2659, Training RMSE: 0.4042\n",
      "Epoch [114/150], Validation MAE: 0.2549, Validation RMSE: 0.3811\n"
     ]
    },
    {
     "name": "stderr",
     "output_type": "stream",
     "text": [
      "Epoch 115/150: 100%|██████████| 205/205 [00:12<00:00, 15.96batch/s, mae_loss=0.133]\n"
     ]
    },
    {
     "name": "stdout",
     "output_type": "stream",
     "text": [
      "Epoch [115/150], Training MAE: 0.2652, Training RMSE: 0.4032\n",
      "Epoch [115/150], Validation MAE: 0.2549, Validation RMSE: 0.3819\n"
     ]
    },
    {
     "name": "stderr",
     "output_type": "stream",
     "text": [
      "Epoch 116/150: 100%|██████████| 205/205 [00:12<00:00, 15.87batch/s, mae_loss=0.126]\n"
     ]
    },
    {
     "name": "stdout",
     "output_type": "stream",
     "text": [
      "Epoch [116/150], Training MAE: 0.2656, Training RMSE: 0.4033\n",
      "Epoch [116/150], Validation MAE: 0.2549, Validation RMSE: 0.3813\n"
     ]
    },
    {
     "name": "stderr",
     "output_type": "stream",
     "text": [
      "Epoch 117/150: 100%|██████████| 205/205 [00:12<00:00, 16.81batch/s, mae_loss=0.13] \n"
     ]
    },
    {
     "name": "stdout",
     "output_type": "stream",
     "text": [
      "Epoch [117/150], Training MAE: 0.2649, Training RMSE: 0.4026\n",
      "Epoch [117/150], Validation MAE: 0.2551, Validation RMSE: 0.3815\n"
     ]
    },
    {
     "name": "stderr",
     "output_type": "stream",
     "text": [
      "Epoch 118/150: 100%|██████████| 205/205 [00:12<00:00, 16.38batch/s, mae_loss=0.127]\n"
     ]
    },
    {
     "name": "stdout",
     "output_type": "stream",
     "text": [
      "Epoch [118/150], Training MAE: 0.2643, Training RMSE: 0.4025\n",
      "Epoch [118/150], Validation MAE: 0.2548, Validation RMSE: 0.3812\n"
     ]
    },
    {
     "name": "stderr",
     "output_type": "stream",
     "text": [
      "Epoch 119/150: 100%|██████████| 205/205 [00:12<00:00, 16.37batch/s, mae_loss=0.126]\n"
     ]
    },
    {
     "name": "stdout",
     "output_type": "stream",
     "text": [
      "Epoch [119/150], Training MAE: 0.2647, Training RMSE: 0.4027\n",
      "Epoch [119/150], Validation MAE: 0.2547, Validation RMSE: 0.3812\n"
     ]
    },
    {
     "name": "stderr",
     "output_type": "stream",
     "text": [
      "Epoch 120/150: 100%|██████████| 205/205 [00:12<00:00, 16.83batch/s, mae_loss=0.127]\n"
     ]
    },
    {
     "name": "stdout",
     "output_type": "stream",
     "text": [
      "Epoch [120/150], Training MAE: 0.2642, Training RMSE: 0.4023\n",
      "Epoch [120/150], Validation MAE: 0.2548, Validation RMSE: 0.3810\n"
     ]
    },
    {
     "name": "stderr",
     "output_type": "stream",
     "text": [
      "Epoch 121/150: 100%|██████████| 205/205 [00:12<00:00, 16.04batch/s, mae_loss=0.128]\n"
     ]
    },
    {
     "name": "stdout",
     "output_type": "stream",
     "text": [
      "Epoch [121/150], Training MAE: 0.2636, Training RMSE: 0.4019\n",
      "Epoch [121/150], Validation MAE: 0.2546, Validation RMSE: 0.3814\n"
     ]
    },
    {
     "name": "stderr",
     "output_type": "stream",
     "text": [
      "Epoch 122/150: 100%|██████████| 205/205 [00:12<00:00, 16.26batch/s, mae_loss=0.128]\n"
     ]
    },
    {
     "name": "stdout",
     "output_type": "stream",
     "text": [
      "Epoch [122/150], Training MAE: 0.2644, Training RMSE: 0.4032\n",
      "Epoch [122/150], Validation MAE: 0.2546, Validation RMSE: 0.3811\n"
     ]
    },
    {
     "name": "stderr",
     "output_type": "stream",
     "text": [
      "Epoch 123/150: 100%|██████████| 205/205 [00:12<00:00, 16.36batch/s, mae_loss=0.132]\n"
     ]
    },
    {
     "name": "stdout",
     "output_type": "stream",
     "text": [
      "Epoch [123/150], Training MAE: 0.2639, Training RMSE: 0.4015\n",
      "Epoch [123/150], Validation MAE: 0.2544, Validation RMSE: 0.3809\n"
     ]
    },
    {
     "name": "stderr",
     "output_type": "stream",
     "text": [
      "Epoch 124/150: 100%|██████████| 205/205 [00:12<00:00, 16.37batch/s, mae_loss=0.129]\n"
     ]
    },
    {
     "name": "stdout",
     "output_type": "stream",
     "text": [
      "Epoch [124/150], Training MAE: 0.2640, Training RMSE: 0.4026\n",
      "Epoch [124/150], Validation MAE: 0.2544, Validation RMSE: 0.3807\n"
     ]
    },
    {
     "name": "stderr",
     "output_type": "stream",
     "text": [
      "Epoch 125/150: 100%|██████████| 205/205 [00:12<00:00, 16.80batch/s, mae_loss=0.125]\n"
     ]
    },
    {
     "name": "stdout",
     "output_type": "stream",
     "text": [
      "Epoch [125/150], Training MAE: 0.2632, Training RMSE: 0.4009\n",
      "Epoch [125/150], Validation MAE: 0.2543, Validation RMSE: 0.3805\n"
     ]
    },
    {
     "name": "stderr",
     "output_type": "stream",
     "text": [
      "Epoch 126/150: 100%|██████████| 205/205 [00:12<00:00, 16.26batch/s, mae_loss=0.129]\n"
     ]
    },
    {
     "name": "stdout",
     "output_type": "stream",
     "text": [
      "Epoch [126/150], Training MAE: 0.2632, Training RMSE: 0.4009\n",
      "Epoch [126/150], Validation MAE: 0.2543, Validation RMSE: 0.3805\n"
     ]
    },
    {
     "name": "stderr",
     "output_type": "stream",
     "text": [
      "Epoch 127/150: 100%|██████████| 205/205 [00:12<00:00, 16.60batch/s, mae_loss=0.131]\n"
     ]
    },
    {
     "name": "stdout",
     "output_type": "stream",
     "text": [
      "Epoch [127/150], Training MAE: 0.2637, Training RMSE: 0.4021\n",
      "Epoch [127/150], Validation MAE: 0.2542, Validation RMSE: 0.3806\n"
     ]
    },
    {
     "name": "stderr",
     "output_type": "stream",
     "text": [
      "Epoch 128/150: 100%|██████████| 205/205 [00:12<00:00, 16.04batch/s, mae_loss=0.129]\n"
     ]
    },
    {
     "name": "stdout",
     "output_type": "stream",
     "text": [
      "Epoch [128/150], Training MAE: 0.2636, Training RMSE: 0.4017\n",
      "Epoch [128/150], Validation MAE: 0.2545, Validation RMSE: 0.3808\n"
     ]
    },
    {
     "name": "stderr",
     "output_type": "stream",
     "text": [
      "Epoch 129/150: 100%|██████████| 205/205 [00:12<00:00, 16.69batch/s, mae_loss=0.127]\n"
     ]
    },
    {
     "name": "stdout",
     "output_type": "stream",
     "text": [
      "Epoch [129/150], Training MAE: 0.2631, Training RMSE: 0.4013\n",
      "Epoch [129/150], Validation MAE: 0.2545, Validation RMSE: 0.3805\n"
     ]
    },
    {
     "name": "stderr",
     "output_type": "stream",
     "text": [
      "Epoch 130/150: 100%|██████████| 205/205 [00:12<00:00, 16.60batch/s, mae_loss=0.121]\n"
     ]
    },
    {
     "name": "stdout",
     "output_type": "stream",
     "text": [
      "Epoch [130/150], Training MAE: 0.2628, Training RMSE: 0.4003\n",
      "Epoch [130/150], Validation MAE: 0.2539, Validation RMSE: 0.3802\n"
     ]
    },
    {
     "name": "stderr",
     "output_type": "stream",
     "text": [
      "Epoch 131/150: 100%|██████████| 205/205 [00:12<00:00, 16.12batch/s, mae_loss=0.13] \n"
     ]
    },
    {
     "name": "stdout",
     "output_type": "stream",
     "text": [
      "Epoch [131/150], Training MAE: 0.2626, Training RMSE: 0.4007\n",
      "Epoch [131/150], Validation MAE: 0.2544, Validation RMSE: 0.3806\n"
     ]
    },
    {
     "name": "stderr",
     "output_type": "stream",
     "text": [
      "Epoch 132/150: 100%|██████████| 205/205 [00:12<00:00, 15.83batch/s, mae_loss=0.124]\n"
     ]
    },
    {
     "name": "stdout",
     "output_type": "stream",
     "text": [
      "Epoch [132/150], Training MAE: 0.2631, Training RMSE: 0.4013\n",
      "Epoch [132/150], Validation MAE: 0.2543, Validation RMSE: 0.3806\n"
     ]
    },
    {
     "name": "stderr",
     "output_type": "stream",
     "text": [
      "Epoch 133/150: 100%|██████████| 205/205 [00:12<00:00, 16.80batch/s, mae_loss=0.122]\n"
     ]
    },
    {
     "name": "stdout",
     "output_type": "stream",
     "text": [
      "Epoch [133/150], Training MAE: 0.2624, Training RMSE: 0.4010\n",
      "Epoch [133/150], Validation MAE: 0.2540, Validation RMSE: 0.3805\n"
     ]
    },
    {
     "name": "stderr",
     "output_type": "stream",
     "text": [
      "Epoch 134/150: 100%|██████████| 205/205 [00:12<00:00, 16.70batch/s, mae_loss=0.125]\n"
     ]
    },
    {
     "name": "stdout",
     "output_type": "stream",
     "text": [
      "Epoch [134/150], Training MAE: 0.2622, Training RMSE: 0.4007\n",
      "Epoch [134/150], Validation MAE: 0.2539, Validation RMSE: 0.3801\n"
     ]
    },
    {
     "name": "stderr",
     "output_type": "stream",
     "text": [
      "Epoch 135/150: 100%|██████████| 205/205 [00:12<00:00, 16.56batch/s, mae_loss=0.121]\n"
     ]
    },
    {
     "name": "stdout",
     "output_type": "stream",
     "text": [
      "Epoch [135/150], Training MAE: 0.2621, Training RMSE: 0.3999\n",
      "Epoch [135/150], Validation MAE: 0.2538, Validation RMSE: 0.3797\n"
     ]
    },
    {
     "name": "stderr",
     "output_type": "stream",
     "text": [
      "Epoch 136/150: 100%|██████████| 205/205 [00:12<00:00, 16.39batch/s, mae_loss=0.127]\n"
     ]
    },
    {
     "name": "stdout",
     "output_type": "stream",
     "text": [
      "Epoch [136/150], Training MAE: 0.2623, Training RMSE: 0.4002\n",
      "Epoch [136/150], Validation MAE: 0.2539, Validation RMSE: 0.3801\n"
     ]
    },
    {
     "name": "stderr",
     "output_type": "stream",
     "text": [
      "Epoch 137/150: 100%|██████████| 205/205 [00:12<00:00, 16.04batch/s, mae_loss=0.124]\n"
     ]
    },
    {
     "name": "stdout",
     "output_type": "stream",
     "text": [
      "Epoch [137/150], Training MAE: 0.2619, Training RMSE: 0.3997\n",
      "Epoch [137/150], Validation MAE: 0.2539, Validation RMSE: 0.3801\n"
     ]
    },
    {
     "name": "stderr",
     "output_type": "stream",
     "text": [
      "Epoch 138/150: 100%|██████████| 205/205 [00:12<00:00, 16.43batch/s, mae_loss=0.119]\n"
     ]
    },
    {
     "name": "stdout",
     "output_type": "stream",
     "text": [
      "Epoch [138/150], Training MAE: 0.2616, Training RMSE: 0.3990\n",
      "Epoch [138/150], Validation MAE: 0.2540, Validation RMSE: 0.3801\n"
     ]
    },
    {
     "name": "stderr",
     "output_type": "stream",
     "text": [
      "Epoch 139/150: 100%|██████████| 205/205 [00:12<00:00, 16.67batch/s, mae_loss=0.128]\n"
     ]
    },
    {
     "name": "stdout",
     "output_type": "stream",
     "text": [
      "Epoch [139/150], Training MAE: 0.2615, Training RMSE: 0.3992\n",
      "Epoch [139/150], Validation MAE: 0.2536, Validation RMSE: 0.3800\n"
     ]
    },
    {
     "name": "stderr",
     "output_type": "stream",
     "text": [
      "Epoch 140/150: 100%|██████████| 205/205 [00:12<00:00, 16.15batch/s, mae_loss=0.12] \n"
     ]
    },
    {
     "name": "stdout",
     "output_type": "stream",
     "text": [
      "Epoch [140/150], Training MAE: 0.2614, Training RMSE: 0.3989\n",
      "Epoch [140/150], Validation MAE: 0.2541, Validation RMSE: 0.3803\n"
     ]
    },
    {
     "name": "stderr",
     "output_type": "stream",
     "text": [
      "Epoch 141/150: 100%|██████████| 205/205 [00:12<00:00, 16.34batch/s, mae_loss=0.123]\n"
     ]
    },
    {
     "name": "stdout",
     "output_type": "stream",
     "text": [
      "Epoch [141/150], Training MAE: 0.2615, Training RMSE: 0.3996\n",
      "Epoch [141/150], Validation MAE: 0.2536, Validation RMSE: 0.3797\n"
     ]
    },
    {
     "name": "stderr",
     "output_type": "stream",
     "text": [
      "Epoch 142/150: 100%|██████████| 205/205 [00:12<00:00, 16.83batch/s, mae_loss=0.123]\n"
     ]
    },
    {
     "name": "stdout",
     "output_type": "stream",
     "text": [
      "Epoch [142/150], Training MAE: 0.2610, Training RMSE: 0.3988\n",
      "Epoch [142/150], Validation MAE: 0.2535, Validation RMSE: 0.3794\n"
     ]
    },
    {
     "name": "stderr",
     "output_type": "stream",
     "text": [
      "Epoch 143/150: 100%|██████████| 205/205 [00:12<00:00, 16.37batch/s, mae_loss=0.121]\n"
     ]
    },
    {
     "name": "stdout",
     "output_type": "stream",
     "text": [
      "Epoch [143/150], Training MAE: 0.2608, Training RMSE: 0.3984\n",
      "Epoch [143/150], Validation MAE: 0.2536, Validation RMSE: 0.3796\n"
     ]
    },
    {
     "name": "stderr",
     "output_type": "stream",
     "text": [
      "Epoch 144/150: 100%|██████████| 205/205 [00:12<00:00, 16.79batch/s, mae_loss=0.116]\n"
     ]
    },
    {
     "name": "stdout",
     "output_type": "stream",
     "text": [
      "Epoch [144/150], Training MAE: 0.2605, Training RMSE: 0.3985\n",
      "Epoch [144/150], Validation MAE: 0.2534, Validation RMSE: 0.3795\n"
     ]
    },
    {
     "name": "stderr",
     "output_type": "stream",
     "text": [
      "Epoch 145/150: 100%|██████████| 205/205 [00:12<00:00, 15.98batch/s, mae_loss=0.122]\n"
     ]
    },
    {
     "name": "stdout",
     "output_type": "stream",
     "text": [
      "Epoch [145/150], Training MAE: 0.2610, Training RMSE: 0.3993\n",
      "Epoch [145/150], Validation MAE: 0.2535, Validation RMSE: 0.3797\n"
     ]
    },
    {
     "name": "stderr",
     "output_type": "stream",
     "text": [
      "Epoch 146/150: 100%|██████████| 205/205 [00:12<00:00, 16.70batch/s, mae_loss=0.125]\n"
     ]
    },
    {
     "name": "stdout",
     "output_type": "stream",
     "text": [
      "Epoch [146/150], Training MAE: 0.2614, Training RMSE: 0.3988\n",
      "Epoch [146/150], Validation MAE: 0.2535, Validation RMSE: 0.3798\n"
     ]
    },
    {
     "name": "stderr",
     "output_type": "stream",
     "text": [
      "Epoch 147/150: 100%|██████████| 205/205 [00:12<00:00, 16.79batch/s, mae_loss=0.126]\n"
     ]
    },
    {
     "name": "stdout",
     "output_type": "stream",
     "text": [
      "Epoch [147/150], Training MAE: 0.2602, Training RMSE: 0.3980\n",
      "Epoch [147/150], Validation MAE: 0.2534, Validation RMSE: 0.3793\n"
     ]
    },
    {
     "name": "stderr",
     "output_type": "stream",
     "text": [
      "Epoch 148/150: 100%|██████████| 205/205 [00:12<00:00, 16.49batch/s, mae_loss=0.126]\n"
     ]
    },
    {
     "name": "stdout",
     "output_type": "stream",
     "text": [
      "Epoch [148/150], Training MAE: 0.2596, Training RMSE: 0.3973\n",
      "Epoch [148/150], Validation MAE: 0.2534, Validation RMSE: 0.3793\n"
     ]
    },
    {
     "name": "stderr",
     "output_type": "stream",
     "text": [
      "Epoch 149/150: 100%|██████████| 205/205 [00:12<00:00, 16.84batch/s, mae_loss=0.124]\n"
     ]
    },
    {
     "name": "stdout",
     "output_type": "stream",
     "text": [
      "Epoch [149/150], Training MAE: 0.2603, Training RMSE: 0.3981\n",
      "Epoch [149/150], Validation MAE: 0.2540, Validation RMSE: 0.3798\n"
     ]
    },
    {
     "name": "stderr",
     "output_type": "stream",
     "text": [
      "Epoch 150/150: 100%|██████████| 205/205 [00:13<00:00, 15.31batch/s, mae_loss=0.123]\n"
     ]
    },
    {
     "name": "stdout",
     "output_type": "stream",
     "text": [
      "Epoch [150/150], Training MAE: 0.2605, Training RMSE: 0.3986\n",
      "Epoch [150/150], Validation MAE: 0.2529, Validation RMSE: 0.3789\n",
      "End Prediction Horizon of 6 of shared-layer Model\n",
      "model_shared-layer_attention_6_5 saved\n",
      "Shape of X (features): (7, 13092, 12)\n",
      "Shape of y (targets): (7, 13092)\n",
      "Shape of X_test (features): (7, 3049, 12)\n",
      "Shape of y_test (targets): (7, 3049)\n"
     ]
    },
    {
     "name": "stderr",
     "output_type": "stream",
     "text": [
      "Epoch 1/150: 100%|██████████| 205/205 [00:14<00:00, 14.51batch/s, mae_loss=0.686]\n"
     ]
    },
    {
     "name": "stdout",
     "output_type": "stream",
     "text": [
      "Epoch [1/150], Training MAE: 0.7463, Training RMSE: 0.9599\n",
      "Epoch [1/150], Validation MAE: 0.6796, Validation RMSE: 0.8934\n"
     ]
    },
    {
     "name": "stderr",
     "output_type": "stream",
     "text": [
      "Epoch 2/150: 100%|██████████| 205/205 [00:14<00:00, 14.57batch/s, mae_loss=0.574]\n"
     ]
    },
    {
     "name": "stdout",
     "output_type": "stream",
     "text": [
      "Epoch [2/150], Training MAE: 0.6892, Training RMSE: 0.8924\n",
      "Epoch [2/150], Validation MAE: 0.6226, Validation RMSE: 0.8243\n"
     ]
    },
    {
     "name": "stderr",
     "output_type": "stream",
     "text": [
      "Epoch 3/150: 100%|██████████| 205/205 [00:13<00:00, 14.75batch/s, mae_loss=0.441]\n"
     ]
    },
    {
     "name": "stdout",
     "output_type": "stream",
     "text": [
      "Epoch [3/150], Training MAE: 0.6271, Training RMSE: 0.8188\n",
      "Epoch [3/150], Validation MAE: 0.5507, Validation RMSE: 0.7395\n"
     ]
    },
    {
     "name": "stderr",
     "output_type": "stream",
     "text": [
      "Epoch 4/150: 100%|██████████| 205/205 [00:15<00:00, 13.36batch/s, mae_loss=0.338]\n"
     ]
    },
    {
     "name": "stdout",
     "output_type": "stream",
     "text": [
      "Epoch [4/150], Training MAE: 0.5577, Training RMSE: 0.7388\n",
      "Epoch [4/150], Validation MAE: 0.4819, Validation RMSE: 0.6582\n"
     ]
    },
    {
     "name": "stderr",
     "output_type": "stream",
     "text": [
      "Epoch 5/150: 100%|██████████| 205/205 [00:13<00:00, 14.83batch/s, mae_loss=0.295]\n"
     ]
    },
    {
     "name": "stdout",
     "output_type": "stream",
     "text": [
      "Epoch [5/150], Training MAE: 0.5028, Training RMSE: 0.6758\n",
      "Epoch [5/150], Validation MAE: 0.4385, Validation RMSE: 0.6027\n"
     ]
    },
    {
     "name": "stderr",
     "output_type": "stream",
     "text": [
      "Epoch 6/150: 100%|██████████| 205/205 [00:13<00:00, 14.78batch/s, mae_loss=0.275]\n"
     ]
    },
    {
     "name": "stdout",
     "output_type": "stream",
     "text": [
      "Epoch [6/150], Training MAE: 0.4681, Training RMSE: 0.6360\n",
      "Epoch [6/150], Validation MAE: 0.4125, Validation RMSE: 0.5692\n"
     ]
    },
    {
     "name": "stderr",
     "output_type": "stream",
     "text": [
      "Epoch 7/150: 100%|██████████| 205/205 [00:14<00:00, 14.64batch/s, mae_loss=0.276]\n"
     ]
    },
    {
     "name": "stdout",
     "output_type": "stream",
     "text": [
      "Epoch [7/150], Training MAE: 0.4490, Training RMSE: 0.6150\n",
      "Epoch [7/150], Validation MAE: 0.3963, Validation RMSE: 0.5490\n"
     ]
    },
    {
     "name": "stderr",
     "output_type": "stream",
     "text": [
      "Epoch 8/150: 100%|██████████| 205/205 [00:14<00:00, 13.93batch/s, mae_loss=0.259]\n"
     ]
    },
    {
     "name": "stdout",
     "output_type": "stream",
     "text": [
      "Epoch [8/150], Training MAE: 0.4348, Training RMSE: 0.5997\n",
      "Epoch [8/150], Validation MAE: 0.3841, Validation RMSE: 0.5339\n"
     ]
    },
    {
     "name": "stderr",
     "output_type": "stream",
     "text": [
      "Epoch 9/150: 100%|██████████| 205/205 [00:14<00:00, 14.36batch/s, mae_loss=0.28] \n"
     ]
    },
    {
     "name": "stdout",
     "output_type": "stream",
     "text": [
      "Epoch [9/150], Training MAE: 0.4241, Training RMSE: 0.5862\n",
      "Epoch [9/150], Validation MAE: 0.3733, Validation RMSE: 0.5211\n"
     ]
    },
    {
     "name": "stderr",
     "output_type": "stream",
     "text": [
      "Epoch 10/150: 100%|██████████| 205/205 [00:13<00:00, 14.65batch/s, mae_loss=0.247]\n"
     ]
    },
    {
     "name": "stdout",
     "output_type": "stream",
     "text": [
      "Epoch [10/150], Training MAE: 0.4134, Training RMSE: 0.5739\n",
      "Epoch [10/150], Validation MAE: 0.3630, Validation RMSE: 0.5082\n"
     ]
    },
    {
     "name": "stderr",
     "output_type": "stream",
     "text": [
      "Epoch 11/150: 100%|██████████| 205/205 [00:14<00:00, 13.93batch/s, mae_loss=0.25] \n"
     ]
    },
    {
     "name": "stdout",
     "output_type": "stream",
     "text": [
      "Epoch [11/150], Training MAE: 0.4024, Training RMSE: 0.5612\n",
      "Epoch [11/150], Validation MAE: 0.3536, Validation RMSE: 0.4964\n"
     ]
    },
    {
     "name": "stderr",
     "output_type": "stream",
     "text": [
      "Epoch 12/150: 100%|██████████| 205/205 [00:14<00:00, 14.61batch/s, mae_loss=0.229]\n"
     ]
    },
    {
     "name": "stdout",
     "output_type": "stream",
     "text": [
      "Epoch [12/150], Training MAE: 0.3928, Training RMSE: 0.5487\n",
      "Epoch [12/150], Validation MAE: 0.3438, Validation RMSE: 0.4850\n"
     ]
    },
    {
     "name": "stderr",
     "output_type": "stream",
     "text": [
      "Epoch 13/150: 100%|██████████| 205/205 [00:14<00:00, 14.19batch/s, mae_loss=0.237]\n"
     ]
    },
    {
     "name": "stdout",
     "output_type": "stream",
     "text": [
      "Epoch [13/150], Training MAE: 0.3848, Training RMSE: 0.5389\n",
      "Epoch [13/150], Validation MAE: 0.3354, Validation RMSE: 0.4740\n"
     ]
    },
    {
     "name": "stderr",
     "output_type": "stream",
     "text": [
      "Epoch 14/150: 100%|██████████| 205/205 [00:14<00:00, 14.50batch/s, mae_loss=0.252]\n"
     ]
    },
    {
     "name": "stdout",
     "output_type": "stream",
     "text": [
      "Epoch [14/150], Training MAE: 0.3762, Training RMSE: 0.5277\n",
      "Epoch [14/150], Validation MAE: 0.3279, Validation RMSE: 0.4645\n"
     ]
    },
    {
     "name": "stderr",
     "output_type": "stream",
     "text": [
      "Epoch 15/150: 100%|██████████| 205/205 [00:14<00:00, 14.39batch/s, mae_loss=0.215]\n"
     ]
    },
    {
     "name": "stdout",
     "output_type": "stream",
     "text": [
      "Epoch [15/150], Training MAE: 0.3685, Training RMSE: 0.5185\n",
      "Epoch [15/150], Validation MAE: 0.3201, Validation RMSE: 0.4551\n"
     ]
    },
    {
     "name": "stderr",
     "output_type": "stream",
     "text": [
      "Epoch 16/150: 100%|██████████| 205/205 [00:13<00:00, 14.80batch/s, mae_loss=0.23] \n"
     ]
    },
    {
     "name": "stdout",
     "output_type": "stream",
     "text": [
      "Epoch [16/150], Training MAE: 0.3620, Training RMSE: 0.5105\n",
      "Epoch [16/150], Validation MAE: 0.3135, Validation RMSE: 0.4465\n"
     ]
    },
    {
     "name": "stderr",
     "output_type": "stream",
     "text": [
      "Epoch 17/150: 100%|██████████| 205/205 [00:14<00:00, 14.30batch/s, mae_loss=0.237]\n"
     ]
    },
    {
     "name": "stdout",
     "output_type": "stream",
     "text": [
      "Epoch [17/150], Training MAE: 0.3548, Training RMSE: 0.5019\n",
      "Epoch [17/150], Validation MAE: 0.3068, Validation RMSE: 0.4388\n"
     ]
    },
    {
     "name": "stderr",
     "output_type": "stream",
     "text": [
      "Epoch 18/150: 100%|██████████| 205/205 [00:14<00:00, 14.59batch/s, mae_loss=0.228]\n"
     ]
    },
    {
     "name": "stdout",
     "output_type": "stream",
     "text": [
      "Epoch [18/150], Training MAE: 0.3498, Training RMSE: 0.4958\n",
      "Epoch [18/150], Validation MAE: 0.3021, Validation RMSE: 0.4328\n"
     ]
    },
    {
     "name": "stderr",
     "output_type": "stream",
     "text": [
      "Epoch 19/150: 100%|██████████| 205/205 [00:14<00:00, 14.14batch/s, mae_loss=0.229]\n"
     ]
    },
    {
     "name": "stdout",
     "output_type": "stream",
     "text": [
      "Epoch [19/150], Training MAE: 0.3452, Training RMSE: 0.4902\n",
      "Epoch [19/150], Validation MAE: 0.2969, Validation RMSE: 0.4265\n"
     ]
    },
    {
     "name": "stderr",
     "output_type": "stream",
     "text": [
      "Epoch 20/150: 100%|██████████| 205/205 [00:14<00:00, 14.51batch/s, mae_loss=0.231]\n"
     ]
    },
    {
     "name": "stdout",
     "output_type": "stream",
     "text": [
      "Epoch [20/150], Training MAE: 0.3407, Training RMSE: 0.4851\n",
      "Epoch [20/150], Validation MAE: 0.2922, Validation RMSE: 0.4215\n"
     ]
    },
    {
     "name": "stderr",
     "output_type": "stream",
     "text": [
      "Epoch 21/150: 100%|██████████| 205/205 [00:14<00:00, 14.16batch/s, mae_loss=0.215]\n"
     ]
    },
    {
     "name": "stdout",
     "output_type": "stream",
     "text": [
      "Epoch [21/150], Training MAE: 0.3360, Training RMSE: 0.4798\n",
      "Epoch [21/150], Validation MAE: 0.2891, Validation RMSE: 0.4174\n"
     ]
    },
    {
     "name": "stderr",
     "output_type": "stream",
     "text": [
      "Epoch 22/150: 100%|██████████| 205/205 [00:14<00:00, 14.61batch/s, mae_loss=0.212]\n"
     ]
    },
    {
     "name": "stdout",
     "output_type": "stream",
     "text": [
      "Epoch [22/150], Training MAE: 0.3327, Training RMSE: 0.4757\n",
      "Epoch [22/150], Validation MAE: 0.2859, Validation RMSE: 0.4136\n"
     ]
    },
    {
     "name": "stderr",
     "output_type": "stream",
     "text": [
      "Epoch 23/150: 100%|██████████| 205/205 [00:14<00:00, 14.05batch/s, mae_loss=0.211]\n"
     ]
    },
    {
     "name": "stdout",
     "output_type": "stream",
     "text": [
      "Epoch [23/150], Training MAE: 0.3296, Training RMSE: 0.4726\n",
      "Epoch [23/150], Validation MAE: 0.2820, Validation RMSE: 0.4097\n"
     ]
    },
    {
     "name": "stderr",
     "output_type": "stream",
     "text": [
      "Epoch 24/150: 100%|██████████| 205/205 [00:13<00:00, 14.79batch/s, mae_loss=0.214]\n"
     ]
    },
    {
     "name": "stdout",
     "output_type": "stream",
     "text": [
      "Epoch [24/150], Training MAE: 0.3268, Training RMSE: 0.4694\n",
      "Epoch [24/150], Validation MAE: 0.2792, Validation RMSE: 0.4065\n"
     ]
    },
    {
     "name": "stderr",
     "output_type": "stream",
     "text": [
      "Epoch 25/150: 100%|██████████| 205/205 [00:14<00:00, 14.00batch/s, mae_loss=0.223]\n"
     ]
    },
    {
     "name": "stdout",
     "output_type": "stream",
     "text": [
      "Epoch [25/150], Training MAE: 0.3246, Training RMSE: 0.4668\n",
      "Epoch [25/150], Validation MAE: 0.2773, Validation RMSE: 0.4044\n"
     ]
    },
    {
     "name": "stderr",
     "output_type": "stream",
     "text": [
      "Epoch 26/150: 100%|██████████| 205/205 [00:14<00:00, 14.53batch/s, mae_loss=0.201]\n"
     ]
    },
    {
     "name": "stdout",
     "output_type": "stream",
     "text": [
      "Epoch [26/150], Training MAE: 0.3211, Training RMSE: 0.4633\n",
      "Epoch [26/150], Validation MAE: 0.2752, Validation RMSE: 0.4015\n"
     ]
    },
    {
     "name": "stderr",
     "output_type": "stream",
     "text": [
      "Epoch 27/150: 100%|██████████| 205/205 [00:14<00:00, 14.12batch/s, mae_loss=0.201]\n"
     ]
    },
    {
     "name": "stdout",
     "output_type": "stream",
     "text": [
      "Epoch [27/150], Training MAE: 0.3202, Training RMSE: 0.4621\n",
      "Epoch [27/150], Validation MAE: 0.2733, Validation RMSE: 0.3991\n"
     ]
    },
    {
     "name": "stderr",
     "output_type": "stream",
     "text": [
      "Epoch 28/150: 100%|██████████| 205/205 [00:14<00:00, 14.43batch/s, mae_loss=0.21] \n"
     ]
    },
    {
     "name": "stdout",
     "output_type": "stream",
     "text": [
      "Epoch [28/150], Training MAE: 0.3176, Training RMSE: 0.4594\n",
      "Epoch [28/150], Validation MAE: 0.2714, Validation RMSE: 0.3972\n"
     ]
    },
    {
     "name": "stderr",
     "output_type": "stream",
     "text": [
      "Epoch 29/150: 100%|██████████| 205/205 [00:14<00:00, 14.15batch/s, mae_loss=0.195]\n"
     ]
    },
    {
     "name": "stdout",
     "output_type": "stream",
     "text": [
      "Epoch [29/150], Training MAE: 0.3164, Training RMSE: 0.4576\n",
      "Epoch [29/150], Validation MAE: 0.2704, Validation RMSE: 0.3957\n"
     ]
    },
    {
     "name": "stderr",
     "output_type": "stream",
     "text": [
      "Epoch 30/150: 100%|██████████| 205/205 [00:14<00:00, 14.44batch/s, mae_loss=0.205]\n"
     ]
    },
    {
     "name": "stdout",
     "output_type": "stream",
     "text": [
      "Epoch [30/150], Training MAE: 0.3135, Training RMSE: 0.4546\n",
      "Epoch [30/150], Validation MAE: 0.2689, Validation RMSE: 0.3941\n"
     ]
    },
    {
     "name": "stderr",
     "output_type": "stream",
     "text": [
      "Epoch 31/150: 100%|██████████| 205/205 [00:14<00:00, 14.06batch/s, mae_loss=0.19] \n"
     ]
    },
    {
     "name": "stdout",
     "output_type": "stream",
     "text": [
      "Epoch [31/150], Training MAE: 0.3125, Training RMSE: 0.4531\n",
      "Epoch [31/150], Validation MAE: 0.2676, Validation RMSE: 0.3927\n"
     ]
    },
    {
     "name": "stderr",
     "output_type": "stream",
     "text": [
      "Epoch 32/150: 100%|██████████| 205/205 [00:14<00:00, 14.64batch/s, mae_loss=0.203]\n"
     ]
    },
    {
     "name": "stdout",
     "output_type": "stream",
     "text": [
      "Epoch [32/150], Training MAE: 0.3117, Training RMSE: 0.4525\n",
      "Epoch [32/150], Validation MAE: 0.2668, Validation RMSE: 0.3915\n"
     ]
    },
    {
     "name": "stderr",
     "output_type": "stream",
     "text": [
      "Epoch 33/150: 100%|██████████| 205/205 [00:14<00:00, 14.61batch/s, mae_loss=0.185]\n"
     ]
    },
    {
     "name": "stdout",
     "output_type": "stream",
     "text": [
      "Epoch [33/150], Training MAE: 0.3101, Training RMSE: 0.4512\n",
      "Epoch [33/150], Validation MAE: 0.2656, Validation RMSE: 0.3902\n"
     ]
    },
    {
     "name": "stderr",
     "output_type": "stream",
     "text": [
      "Epoch 34/150: 100%|██████████| 205/205 [00:14<00:00, 14.17batch/s, mae_loss=0.199]\n"
     ]
    },
    {
     "name": "stdout",
     "output_type": "stream",
     "text": [
      "Epoch [34/150], Training MAE: 0.3089, Training RMSE: 0.4499\n",
      "Epoch [34/150], Validation MAE: 0.2652, Validation RMSE: 0.3892\n"
     ]
    },
    {
     "name": "stderr",
     "output_type": "stream",
     "text": [
      "Epoch 35/150: 100%|██████████| 205/205 [00:14<00:00, 14.57batch/s, mae_loss=0.184]\n"
     ]
    },
    {
     "name": "stdout",
     "output_type": "stream",
     "text": [
      "Epoch [35/150], Training MAE: 0.3079, Training RMSE: 0.4485\n",
      "Epoch [35/150], Validation MAE: 0.2641, Validation RMSE: 0.3882\n"
     ]
    },
    {
     "name": "stderr",
     "output_type": "stream",
     "text": [
      "Epoch 36/150: 100%|██████████| 205/205 [00:14<00:00, 14.46batch/s, mae_loss=0.188]\n"
     ]
    },
    {
     "name": "stdout",
     "output_type": "stream",
     "text": [
      "Epoch [36/150], Training MAE: 0.3061, Training RMSE: 0.4462\n",
      "Epoch [36/150], Validation MAE: 0.2637, Validation RMSE: 0.3876\n"
     ]
    },
    {
     "name": "stderr",
     "output_type": "stream",
     "text": [
      "Epoch 37/150: 100%|██████████| 205/205 [00:14<00:00, 14.58batch/s, mae_loss=0.177]\n"
     ]
    },
    {
     "name": "stdout",
     "output_type": "stream",
     "text": [
      "Epoch [37/150], Training MAE: 0.3045, Training RMSE: 0.4456\n",
      "Epoch [37/150], Validation MAE: 0.2618, Validation RMSE: 0.3862\n"
     ]
    },
    {
     "name": "stderr",
     "output_type": "stream",
     "text": [
      "Epoch 38/150: 100%|██████████| 205/205 [00:15<00:00, 13.61batch/s, mae_loss=0.172]\n"
     ]
    },
    {
     "name": "stdout",
     "output_type": "stream",
     "text": [
      "Epoch [38/150], Training MAE: 0.3036, Training RMSE: 0.4438\n",
      "Epoch [38/150], Validation MAE: 0.2619, Validation RMSE: 0.3856\n"
     ]
    },
    {
     "name": "stderr",
     "output_type": "stream",
     "text": [
      "Epoch 39/150: 100%|██████████| 205/205 [00:14<00:00, 14.58batch/s, mae_loss=0.185]\n"
     ]
    },
    {
     "name": "stdout",
     "output_type": "stream",
     "text": [
      "Epoch [39/150], Training MAE: 0.3031, Training RMSE: 0.4429\n",
      "Epoch [39/150], Validation MAE: 0.2612, Validation RMSE: 0.3848\n"
     ]
    },
    {
     "name": "stderr",
     "output_type": "stream",
     "text": [
      "Epoch 40/150: 100%|██████████| 205/205 [00:13<00:00, 14.71batch/s, mae_loss=0.172]\n"
     ]
    },
    {
     "name": "stdout",
     "output_type": "stream",
     "text": [
      "Epoch [40/150], Training MAE: 0.3009, Training RMSE: 0.4405\n",
      "Epoch [40/150], Validation MAE: 0.2603, Validation RMSE: 0.3839\n"
     ]
    },
    {
     "name": "stderr",
     "output_type": "stream",
     "text": [
      "Epoch 41/150: 100%|██████████| 205/205 [00:14<00:00, 14.52batch/s, mae_loss=0.18] \n"
     ]
    },
    {
     "name": "stdout",
     "output_type": "stream",
     "text": [
      "Epoch [41/150], Training MAE: 0.3005, Training RMSE: 0.4401\n",
      "Epoch [41/150], Validation MAE: 0.2603, Validation RMSE: 0.3836\n"
     ]
    },
    {
     "name": "stderr",
     "output_type": "stream",
     "text": [
      "Epoch 42/150: 100%|██████████| 205/205 [00:14<00:00, 13.70batch/s, mae_loss=0.184]\n"
     ]
    },
    {
     "name": "stdout",
     "output_type": "stream",
     "text": [
      "Epoch [42/150], Training MAE: 0.3002, Training RMSE: 0.4398\n",
      "Epoch [42/150], Validation MAE: 0.2597, Validation RMSE: 0.3827\n"
     ]
    },
    {
     "name": "stderr",
     "output_type": "stream",
     "text": [
      "Epoch 43/150: 100%|██████████| 205/205 [00:13<00:00, 14.76batch/s, mae_loss=0.183]\n"
     ]
    },
    {
     "name": "stdout",
     "output_type": "stream",
     "text": [
      "Epoch [43/150], Training MAE: 0.2987, Training RMSE: 0.4387\n",
      "Epoch [43/150], Validation MAE: 0.2584, Validation RMSE: 0.3819\n"
     ]
    },
    {
     "name": "stderr",
     "output_type": "stream",
     "text": [
      "Epoch 44/150: 100%|██████████| 205/205 [00:14<00:00, 14.63batch/s, mae_loss=0.17] \n"
     ]
    },
    {
     "name": "stdout",
     "output_type": "stream",
     "text": [
      "Epoch [44/150], Training MAE: 0.2971, Training RMSE: 0.4371\n",
      "Epoch [44/150], Validation MAE: 0.2584, Validation RMSE: 0.3821\n"
     ]
    },
    {
     "name": "stderr",
     "output_type": "stream",
     "text": [
      "Epoch 45/150: 100%|██████████| 205/205 [00:13<00:00, 14.67batch/s, mae_loss=0.176]\n"
     ]
    },
    {
     "name": "stdout",
     "output_type": "stream",
     "text": [
      "Epoch [45/150], Training MAE: 0.2969, Training RMSE: 0.4370\n",
      "Epoch [45/150], Validation MAE: 0.2580, Validation RMSE: 0.3813\n"
     ]
    },
    {
     "name": "stderr",
     "output_type": "stream",
     "text": [
      "Epoch 46/150: 100%|██████████| 205/205 [00:15<00:00, 13.55batch/s, mae_loss=0.177]\n"
     ]
    },
    {
     "name": "stdout",
     "output_type": "stream",
     "text": [
      "Epoch [46/150], Training MAE: 0.2960, Training RMSE: 0.4352\n",
      "Epoch [46/150], Validation MAE: 0.2578, Validation RMSE: 0.3810\n"
     ]
    },
    {
     "name": "stderr",
     "output_type": "stream",
     "text": [
      "Epoch 47/150: 100%|██████████| 205/205 [00:14<00:00, 14.48batch/s, mae_loss=0.166]\n"
     ]
    },
    {
     "name": "stdout",
     "output_type": "stream",
     "text": [
      "Epoch [47/150], Training MAE: 0.2953, Training RMSE: 0.4345\n",
      "Epoch [47/150], Validation MAE: 0.2573, Validation RMSE: 0.3808\n"
     ]
    },
    {
     "name": "stderr",
     "output_type": "stream",
     "text": [
      "Epoch 48/150: 100%|██████████| 205/205 [00:14<00:00, 14.49batch/s, mae_loss=0.161]\n"
     ]
    },
    {
     "name": "stdout",
     "output_type": "stream",
     "text": [
      "Epoch [48/150], Training MAE: 0.2947, Training RMSE: 0.4343\n",
      "Epoch [48/150], Validation MAE: 0.2571, Validation RMSE: 0.3803\n"
     ]
    },
    {
     "name": "stderr",
     "output_type": "stream",
     "text": [
      "Epoch 49/150: 100%|██████████| 205/205 [00:14<00:00, 14.14batch/s, mae_loss=0.173]\n"
     ]
    },
    {
     "name": "stdout",
     "output_type": "stream",
     "text": [
      "Epoch [49/150], Training MAE: 0.2935, Training RMSE: 0.4329\n",
      "Epoch [49/150], Validation MAE: 0.2565, Validation RMSE: 0.3798\n"
     ]
    },
    {
     "name": "stderr",
     "output_type": "stream",
     "text": [
      "Epoch 50/150: 100%|██████████| 205/205 [00:14<00:00, 14.26batch/s, mae_loss=0.17] \n"
     ]
    },
    {
     "name": "stdout",
     "output_type": "stream",
     "text": [
      "Epoch [50/150], Training MAE: 0.2928, Training RMSE: 0.4318\n",
      "Epoch [50/150], Validation MAE: 0.2561, Validation RMSE: 0.3797\n"
     ]
    },
    {
     "name": "stderr",
     "output_type": "stream",
     "text": [
      "Epoch 51/150: 100%|██████████| 205/205 [00:14<00:00, 14.56batch/s, mae_loss=0.166]\n"
     ]
    },
    {
     "name": "stdout",
     "output_type": "stream",
     "text": [
      "Epoch [51/150], Training MAE: 0.2923, Training RMSE: 0.4313\n",
      "Epoch [51/150], Validation MAE: 0.2554, Validation RMSE: 0.3791\n"
     ]
    },
    {
     "name": "stderr",
     "output_type": "stream",
     "text": [
      "Epoch 52/150: 100%|██████████| 205/205 [00:14<00:00, 14.37batch/s, mae_loss=0.169]\n"
     ]
    },
    {
     "name": "stdout",
     "output_type": "stream",
     "text": [
      "Epoch [52/150], Training MAE: 0.2917, Training RMSE: 0.4306\n",
      "Epoch [52/150], Validation MAE: 0.2553, Validation RMSE: 0.3788\n"
     ]
    },
    {
     "name": "stderr",
     "output_type": "stream",
     "text": [
      "Epoch 53/150: 100%|██████████| 205/205 [00:14<00:00, 14.16batch/s, mae_loss=0.174]\n"
     ]
    },
    {
     "name": "stdout",
     "output_type": "stream",
     "text": [
      "Epoch [53/150], Training MAE: 0.2916, Training RMSE: 0.4309\n",
      "Epoch [53/150], Validation MAE: 0.2552, Validation RMSE: 0.3790\n"
     ]
    },
    {
     "name": "stderr",
     "output_type": "stream",
     "text": [
      "Epoch 54/150: 100%|██████████| 205/205 [00:13<00:00, 14.75batch/s, mae_loss=0.162]\n"
     ]
    },
    {
     "name": "stdout",
     "output_type": "stream",
     "text": [
      "Epoch [54/150], Training MAE: 0.2902, Training RMSE: 0.4288\n",
      "Epoch [54/150], Validation MAE: 0.2551, Validation RMSE: 0.3787\n"
     ]
    },
    {
     "name": "stderr",
     "output_type": "stream",
     "text": [
      "Epoch 55/150: 100%|██████████| 205/205 [00:14<00:00, 14.06batch/s, mae_loss=0.167]\n"
     ]
    },
    {
     "name": "stdout",
     "output_type": "stream",
     "text": [
      "Epoch [55/150], Training MAE: 0.2900, Training RMSE: 0.4285\n",
      "Epoch [55/150], Validation MAE: 0.2548, Validation RMSE: 0.3781\n"
     ]
    },
    {
     "name": "stderr",
     "output_type": "stream",
     "text": [
      "Epoch 56/150: 100%|██████████| 205/205 [00:13<00:00, 14.69batch/s, mae_loss=0.155]\n"
     ]
    },
    {
     "name": "stdout",
     "output_type": "stream",
     "text": [
      "Epoch [56/150], Training MAE: 0.2896, Training RMSE: 0.4286\n",
      "Epoch [56/150], Validation MAE: 0.2554, Validation RMSE: 0.3786\n"
     ]
    },
    {
     "name": "stderr",
     "output_type": "stream",
     "text": [
      "Epoch 57/150: 100%|██████████| 205/205 [00:14<00:00, 13.93batch/s, mae_loss=0.16] \n"
     ]
    },
    {
     "name": "stdout",
     "output_type": "stream",
     "text": [
      "Epoch [57/150], Training MAE: 0.2892, Training RMSE: 0.4285\n",
      "Epoch [57/150], Validation MAE: 0.2551, Validation RMSE: 0.3783\n"
     ]
    },
    {
     "name": "stderr",
     "output_type": "stream",
     "text": [
      "Epoch 58/150: 100%|██████████| 205/205 [00:14<00:00, 14.62batch/s, mae_loss=0.16] \n"
     ]
    },
    {
     "name": "stdout",
     "output_type": "stream",
     "text": [
      "Epoch [58/150], Training MAE: 0.2881, Training RMSE: 0.4269\n",
      "Epoch [58/150], Validation MAE: 0.2547, Validation RMSE: 0.3782\n"
     ]
    },
    {
     "name": "stderr",
     "output_type": "stream",
     "text": [
      "Epoch 59/150: 100%|██████████| 205/205 [00:14<00:00, 14.21batch/s, mae_loss=0.173]\n"
     ]
    },
    {
     "name": "stdout",
     "output_type": "stream",
     "text": [
      "Epoch [59/150], Training MAE: 0.2875, Training RMSE: 0.4260\n",
      "Epoch [59/150], Validation MAE: 0.2541, Validation RMSE: 0.3778\n"
     ]
    },
    {
     "name": "stderr",
     "output_type": "stream",
     "text": [
      "Epoch 60/150: 100%|██████████| 205/205 [00:13<00:00, 14.82batch/s, mae_loss=0.153]\n"
     ]
    },
    {
     "name": "stdout",
     "output_type": "stream",
     "text": [
      "Epoch [60/150], Training MAE: 0.2873, Training RMSE: 0.4264\n",
      "Epoch [60/150], Validation MAE: 0.2538, Validation RMSE: 0.3773\n"
     ]
    },
    {
     "name": "stderr",
     "output_type": "stream",
     "text": [
      "Epoch 61/150: 100%|██████████| 205/205 [00:14<00:00, 14.21batch/s, mae_loss=0.159]\n"
     ]
    },
    {
     "name": "stdout",
     "output_type": "stream",
     "text": [
      "Epoch [61/150], Training MAE: 0.2858, Training RMSE: 0.4248\n",
      "Epoch [61/150], Validation MAE: 0.2540, Validation RMSE: 0.3775\n"
     ]
    },
    {
     "name": "stderr",
     "output_type": "stream",
     "text": [
      "Epoch 62/150: 100%|██████████| 205/205 [00:13<00:00, 14.76batch/s, mae_loss=0.153]\n"
     ]
    },
    {
     "name": "stdout",
     "output_type": "stream",
     "text": [
      "Epoch [62/150], Training MAE: 0.2861, Training RMSE: 0.4247\n",
      "Epoch [62/150], Validation MAE: 0.2533, Validation RMSE: 0.3770\n"
     ]
    },
    {
     "name": "stderr",
     "output_type": "stream",
     "text": [
      "Epoch 63/150: 100%|██████████| 205/205 [00:14<00:00, 13.97batch/s, mae_loss=0.154]\n"
     ]
    },
    {
     "name": "stdout",
     "output_type": "stream",
     "text": [
      "Epoch [63/150], Training MAE: 0.2855, Training RMSE: 0.4247\n",
      "Epoch [63/150], Validation MAE: 0.2531, Validation RMSE: 0.3769\n"
     ]
    },
    {
     "name": "stderr",
     "output_type": "stream",
     "text": [
      "Epoch 64/150: 100%|██████████| 205/205 [00:14<00:00, 14.61batch/s, mae_loss=0.161]\n"
     ]
    },
    {
     "name": "stdout",
     "output_type": "stream",
     "text": [
      "Epoch [64/150], Training MAE: 0.2854, Training RMSE: 0.4238\n",
      "Epoch [64/150], Validation MAE: 0.2527, Validation RMSE: 0.3768\n"
     ]
    },
    {
     "name": "stderr",
     "output_type": "stream",
     "text": [
      "Epoch 65/150: 100%|██████████| 205/205 [00:14<00:00, 13.99batch/s, mae_loss=0.159]\n"
     ]
    },
    {
     "name": "stdout",
     "output_type": "stream",
     "text": [
      "Epoch [65/150], Training MAE: 0.2840, Training RMSE: 0.4223\n",
      "Epoch [65/150], Validation MAE: 0.2528, Validation RMSE: 0.3767\n"
     ]
    },
    {
     "name": "stderr",
     "output_type": "stream",
     "text": [
      "Epoch 66/150: 100%|██████████| 205/205 [00:14<00:00, 14.52batch/s, mae_loss=0.158]\n"
     ]
    },
    {
     "name": "stdout",
     "output_type": "stream",
     "text": [
      "Epoch [66/150], Training MAE: 0.2840, Training RMSE: 0.4220\n",
      "Epoch [66/150], Validation MAE: 0.2528, Validation RMSE: 0.3766\n"
     ]
    },
    {
     "name": "stderr",
     "output_type": "stream",
     "text": [
      "Epoch 67/150: 100%|██████████| 205/205 [00:14<00:00, 14.29batch/s, mae_loss=0.154]\n"
     ]
    },
    {
     "name": "stdout",
     "output_type": "stream",
     "text": [
      "Epoch [67/150], Training MAE: 0.2840, Training RMSE: 0.4233\n",
      "Epoch [67/150], Validation MAE: 0.2529, Validation RMSE: 0.3766\n"
     ]
    },
    {
     "name": "stderr",
     "output_type": "stream",
     "text": [
      "Epoch 68/150: 100%|██████████| 205/205 [00:14<00:00, 13.83batch/s, mae_loss=0.153]\n"
     ]
    },
    {
     "name": "stdout",
     "output_type": "stream",
     "text": [
      "Epoch [68/150], Training MAE: 0.2826, Training RMSE: 0.4205\n",
      "Epoch [68/150], Validation MAE: 0.2520, Validation RMSE: 0.3762\n"
     ]
    },
    {
     "name": "stderr",
     "output_type": "stream",
     "text": [
      "Epoch 69/150: 100%|██████████| 205/205 [00:14<00:00, 14.61batch/s, mae_loss=0.149]\n"
     ]
    },
    {
     "name": "stdout",
     "output_type": "stream",
     "text": [
      "Epoch [69/150], Training MAE: 0.2829, Training RMSE: 0.4215\n",
      "Epoch [69/150], Validation MAE: 0.2524, Validation RMSE: 0.3764\n"
     ]
    },
    {
     "name": "stderr",
     "output_type": "stream",
     "text": [
      "Epoch 70/150: 100%|██████████| 205/205 [00:13<00:00, 14.74batch/s, mae_loss=0.151]\n"
     ]
    },
    {
     "name": "stdout",
     "output_type": "stream",
     "text": [
      "Epoch [70/150], Training MAE: 0.2825, Training RMSE: 0.4208\n",
      "Epoch [70/150], Validation MAE: 0.2523, Validation RMSE: 0.3762\n"
     ]
    },
    {
     "name": "stderr",
     "output_type": "stream",
     "text": [
      "Epoch 71/150: 100%|██████████| 205/205 [00:14<00:00, 14.53batch/s, mae_loss=0.148]\n"
     ]
    },
    {
     "name": "stdout",
     "output_type": "stream",
     "text": [
      "Epoch [71/150], Training MAE: 0.2824, Training RMSE: 0.4208\n",
      "Epoch [71/150], Validation MAE: 0.2518, Validation RMSE: 0.3754\n"
     ]
    },
    {
     "name": "stderr",
     "output_type": "stream",
     "text": [
      "Epoch 72/150: 100%|██████████| 205/205 [00:14<00:00, 14.18batch/s, mae_loss=0.139]\n"
     ]
    },
    {
     "name": "stdout",
     "output_type": "stream",
     "text": [
      "Epoch [72/150], Training MAE: 0.2816, Training RMSE: 0.4194\n",
      "Epoch [72/150], Validation MAE: 0.2522, Validation RMSE: 0.3757\n"
     ]
    },
    {
     "name": "stderr",
     "output_type": "stream",
     "text": [
      "Epoch 73/150: 100%|██████████| 205/205 [00:14<00:00, 14.47batch/s, mae_loss=0.145]\n"
     ]
    },
    {
     "name": "stdout",
     "output_type": "stream",
     "text": [
      "Epoch [73/150], Training MAE: 0.2811, Training RMSE: 0.4196\n",
      "Epoch [73/150], Validation MAE: 0.2522, Validation RMSE: 0.3757\n"
     ]
    },
    {
     "name": "stderr",
     "output_type": "stream",
     "text": [
      "Epoch 74/150: 100%|██████████| 205/205 [00:13<00:00, 14.73batch/s, mae_loss=0.154]\n"
     ]
    },
    {
     "name": "stdout",
     "output_type": "stream",
     "text": [
      "Epoch [74/150], Training MAE: 0.2809, Training RMSE: 0.4191\n",
      "Epoch [74/150], Validation MAE: 0.2518, Validation RMSE: 0.3754\n"
     ]
    },
    {
     "name": "stderr",
     "output_type": "stream",
     "text": [
      "Epoch 75/150: 100%|██████████| 205/205 [00:13<00:00, 14.67batch/s, mae_loss=0.152]\n"
     ]
    },
    {
     "name": "stdout",
     "output_type": "stream",
     "text": [
      "Epoch [75/150], Training MAE: 0.2801, Training RMSE: 0.4183\n",
      "Epoch [75/150], Validation MAE: 0.2516, Validation RMSE: 0.3752\n"
     ]
    },
    {
     "name": "stderr",
     "output_type": "stream",
     "text": [
      "Epoch 76/150: 100%|██████████| 205/205 [00:14<00:00, 14.26batch/s, mae_loss=0.15] \n"
     ]
    },
    {
     "name": "stdout",
     "output_type": "stream",
     "text": [
      "Epoch [76/150], Training MAE: 0.2804, Training RMSE: 0.4184\n",
      "Epoch [76/150], Validation MAE: 0.2513, Validation RMSE: 0.3750\n"
     ]
    },
    {
     "name": "stderr",
     "output_type": "stream",
     "text": [
      "Epoch 77/150: 100%|██████████| 205/205 [00:14<00:00, 14.36batch/s, mae_loss=0.154]\n"
     ]
    },
    {
     "name": "stdout",
     "output_type": "stream",
     "text": [
      "Epoch [77/150], Training MAE: 0.2803, Training RMSE: 0.4184\n",
      "Epoch [77/150], Validation MAE: 0.2511, Validation RMSE: 0.3752\n"
     ]
    },
    {
     "name": "stderr",
     "output_type": "stream",
     "text": [
      "Epoch 78/150: 100%|██████████| 205/205 [00:13<00:00, 14.72batch/s, mae_loss=0.151]\n"
     ]
    },
    {
     "name": "stdout",
     "output_type": "stream",
     "text": [
      "Epoch [78/150], Training MAE: 0.2794, Training RMSE: 0.4181\n",
      "Epoch [78/150], Validation MAE: 0.2512, Validation RMSE: 0.3748\n"
     ]
    },
    {
     "name": "stderr",
     "output_type": "stream",
     "text": [
      "Epoch 79/150: 100%|██████████| 205/205 [00:14<00:00, 14.49batch/s, mae_loss=0.159]\n"
     ]
    },
    {
     "name": "stdout",
     "output_type": "stream",
     "text": [
      "Epoch [79/150], Training MAE: 0.2789, Training RMSE: 0.4166\n",
      "Epoch [79/150], Validation MAE: 0.2513, Validation RMSE: 0.3748\n"
     ]
    },
    {
     "name": "stderr",
     "output_type": "stream",
     "text": [
      "Epoch 80/150: 100%|██████████| 205/205 [00:14<00:00, 13.82batch/s, mae_loss=0.157]\n"
     ]
    },
    {
     "name": "stdout",
     "output_type": "stream",
     "text": [
      "Epoch [80/150], Training MAE: 0.2794, Training RMSE: 0.4176\n",
      "Epoch [80/150], Validation MAE: 0.2505, Validation RMSE: 0.3744\n"
     ]
    },
    {
     "name": "stderr",
     "output_type": "stream",
     "text": [
      "Epoch 81/150: 100%|██████████| 205/205 [00:14<00:00, 14.52batch/s, mae_loss=0.141]\n"
     ]
    },
    {
     "name": "stdout",
     "output_type": "stream",
     "text": [
      "Epoch [81/150], Training MAE: 0.2784, Training RMSE: 0.4161\n",
      "Epoch [81/150], Validation MAE: 0.2511, Validation RMSE: 0.3750\n"
     ]
    },
    {
     "name": "stderr",
     "output_type": "stream",
     "text": [
      "Epoch 82/150: 100%|██████████| 205/205 [00:13<00:00, 14.68batch/s, mae_loss=0.139]\n"
     ]
    },
    {
     "name": "stdout",
     "output_type": "stream",
     "text": [
      "Epoch [82/150], Training MAE: 0.2783, Training RMSE: 0.4162\n",
      "Epoch [82/150], Validation MAE: 0.2502, Validation RMSE: 0.3746\n"
     ]
    },
    {
     "name": "stderr",
     "output_type": "stream",
     "text": [
      "Epoch 83/150: 100%|██████████| 205/205 [00:14<00:00, 14.64batch/s, mae_loss=0.14] \n"
     ]
    },
    {
     "name": "stdout",
     "output_type": "stream",
     "text": [
      "Epoch [83/150], Training MAE: 0.2777, Training RMSE: 0.4156\n",
      "Epoch [83/150], Validation MAE: 0.2507, Validation RMSE: 0.3746\n"
     ]
    },
    {
     "name": "stderr",
     "output_type": "stream",
     "text": [
      "Epoch 84/150: 100%|██████████| 205/205 [00:15<00:00, 13.33batch/s, mae_loss=0.148]\n"
     ]
    },
    {
     "name": "stdout",
     "output_type": "stream",
     "text": [
      "Epoch [84/150], Training MAE: 0.2773, Training RMSE: 0.4154\n",
      "Epoch [84/150], Validation MAE: 0.2501, Validation RMSE: 0.3743\n"
     ]
    },
    {
     "name": "stderr",
     "output_type": "stream",
     "text": [
      "Epoch 85/150: 100%|██████████| 205/205 [00:13<00:00, 14.67batch/s, mae_loss=0.15] \n"
     ]
    },
    {
     "name": "stdout",
     "output_type": "stream",
     "text": [
      "Epoch [85/150], Training MAE: 0.2774, Training RMSE: 0.4151\n",
      "Epoch [85/150], Validation MAE: 0.2500, Validation RMSE: 0.3742\n"
     ]
    },
    {
     "name": "stderr",
     "output_type": "stream",
     "text": [
      "Epoch 86/150: 100%|██████████| 205/205 [00:14<00:00, 14.54batch/s, mae_loss=0.158]\n"
     ]
    },
    {
     "name": "stdout",
     "output_type": "stream",
     "text": [
      "Epoch [86/150], Training MAE: 0.2773, Training RMSE: 0.4153\n",
      "Epoch [86/150], Validation MAE: 0.2500, Validation RMSE: 0.3738\n"
     ]
    },
    {
     "name": "stderr",
     "output_type": "stream",
     "text": [
      "Epoch 87/150: 100%|██████████| 205/205 [00:13<00:00, 14.70batch/s, mae_loss=0.15] \n"
     ]
    },
    {
     "name": "stdout",
     "output_type": "stream",
     "text": [
      "Epoch [87/150], Training MAE: 0.2768, Training RMSE: 0.4151\n",
      "Epoch [87/150], Validation MAE: 0.2500, Validation RMSE: 0.3742\n"
     ]
    },
    {
     "name": "stderr",
     "output_type": "stream",
     "text": [
      "Epoch 88/150: 100%|██████████| 205/205 [00:14<00:00, 14.01batch/s, mae_loss=0.15] \n"
     ]
    },
    {
     "name": "stdout",
     "output_type": "stream",
     "text": [
      "Epoch [88/150], Training MAE: 0.2758, Training RMSE: 0.4133\n",
      "Epoch [88/150], Validation MAE: 0.2491, Validation RMSE: 0.3734\n"
     ]
    },
    {
     "name": "stderr",
     "output_type": "stream",
     "text": [
      "Epoch 89/150: 100%|██████████| 205/205 [00:13<00:00, 14.73batch/s, mae_loss=0.137]\n"
     ]
    },
    {
     "name": "stdout",
     "output_type": "stream",
     "text": [
      "Epoch [89/150], Training MAE: 0.2757, Training RMSE: 0.4140\n",
      "Epoch [89/150], Validation MAE: 0.2492, Validation RMSE: 0.3735\n"
     ]
    },
    {
     "name": "stderr",
     "output_type": "stream",
     "text": [
      "Epoch 90/150: 100%|██████████| 205/205 [00:13<00:00, 14.71batch/s, mae_loss=0.149]\n"
     ]
    },
    {
     "name": "stdout",
     "output_type": "stream",
     "text": [
      "Epoch [90/150], Training MAE: 0.2759, Training RMSE: 0.4140\n",
      "Epoch [90/150], Validation MAE: 0.2495, Validation RMSE: 0.3736\n"
     ]
    },
    {
     "name": "stderr",
     "output_type": "stream",
     "text": [
      "Epoch 91/150: 100%|██████████| 205/205 [00:14<00:00, 14.23batch/s, mae_loss=0.142]\n"
     ]
    },
    {
     "name": "stdout",
     "output_type": "stream",
     "text": [
      "Epoch [91/150], Training MAE: 0.2758, Training RMSE: 0.4137\n",
      "Epoch [91/150], Validation MAE: 0.2494, Validation RMSE: 0.3735\n"
     ]
    },
    {
     "name": "stderr",
     "output_type": "stream",
     "text": [
      "Epoch 92/150: 100%|██████████| 205/205 [00:14<00:00, 14.54batch/s, mae_loss=0.137]\n"
     ]
    },
    {
     "name": "stdout",
     "output_type": "stream",
     "text": [
      "Epoch [92/150], Training MAE: 0.2751, Training RMSE: 0.4126\n",
      "Epoch [92/150], Validation MAE: 0.2498, Validation RMSE: 0.3739\n"
     ]
    },
    {
     "name": "stderr",
     "output_type": "stream",
     "text": [
      "Epoch 93/150: 100%|██████████| 205/205 [00:14<00:00, 14.06batch/s, mae_loss=0.15] \n"
     ]
    },
    {
     "name": "stdout",
     "output_type": "stream",
     "text": [
      "Epoch [93/150], Training MAE: 0.2747, Training RMSE: 0.4126\n",
      "Epoch [93/150], Validation MAE: 0.2491, Validation RMSE: 0.3734\n"
     ]
    },
    {
     "name": "stderr",
     "output_type": "stream",
     "text": [
      "Epoch 94/150: 100%|██████████| 205/205 [00:13<00:00, 14.68batch/s, mae_loss=0.154]\n"
     ]
    },
    {
     "name": "stdout",
     "output_type": "stream",
     "text": [
      "Epoch [94/150], Training MAE: 0.2746, Training RMSE: 0.4128\n",
      "Epoch [94/150], Validation MAE: 0.2488, Validation RMSE: 0.3732\n"
     ]
    },
    {
     "name": "stderr",
     "output_type": "stream",
     "text": [
      "Epoch 95/150: 100%|██████████| 205/205 [00:14<00:00, 14.54batch/s, mae_loss=0.147]\n"
     ]
    },
    {
     "name": "stdout",
     "output_type": "stream",
     "text": [
      "Epoch [95/150], Training MAE: 0.2740, Training RMSE: 0.4111\n",
      "Epoch [95/150], Validation MAE: 0.2494, Validation RMSE: 0.3738\n"
     ]
    },
    {
     "name": "stderr",
     "output_type": "stream",
     "text": [
      "Epoch 96/150: 100%|██████████| 205/205 [00:14<00:00, 14.18batch/s, mae_loss=0.133]\n"
     ]
    },
    {
     "name": "stdout",
     "output_type": "stream",
     "text": [
      "Epoch [96/150], Training MAE: 0.2737, Training RMSE: 0.4119\n",
      "Epoch [96/150], Validation MAE: 0.2489, Validation RMSE: 0.3731\n"
     ]
    },
    {
     "name": "stderr",
     "output_type": "stream",
     "text": [
      "Epoch 97/150: 100%|██████████| 205/205 [00:14<00:00, 14.33batch/s, mae_loss=0.137]\n"
     ]
    },
    {
     "name": "stdout",
     "output_type": "stream",
     "text": [
      "Epoch [97/150], Training MAE: 0.2733, Training RMSE: 0.4110\n",
      "Epoch [97/150], Validation MAE: 0.2491, Validation RMSE: 0.3735\n"
     ]
    },
    {
     "name": "stderr",
     "output_type": "stream",
     "text": [
      "Epoch 98/150: 100%|██████████| 205/205 [00:14<00:00, 14.55batch/s, mae_loss=0.146]\n"
     ]
    },
    {
     "name": "stdout",
     "output_type": "stream",
     "text": [
      "Epoch [98/150], Training MAE: 0.2738, Training RMSE: 0.4114\n",
      "Epoch [98/150], Validation MAE: 0.2492, Validation RMSE: 0.3735\n"
     ]
    },
    {
     "name": "stderr",
     "output_type": "stream",
     "text": [
      "Epoch 99/150: 100%|██████████| 205/205 [00:14<00:00, 14.56batch/s, mae_loss=0.142]\n"
     ]
    },
    {
     "name": "stdout",
     "output_type": "stream",
     "text": [
      "Epoch [99/150], Training MAE: 0.2737, Training RMSE: 0.4112\n",
      "Epoch [99/150], Validation MAE: 0.2491, Validation RMSE: 0.3732\n"
     ]
    },
    {
     "name": "stderr",
     "output_type": "stream",
     "text": [
      "Epoch 100/150: 100%|██████████| 205/205 [00:14<00:00, 13.79batch/s, mae_loss=0.145]\n"
     ]
    },
    {
     "name": "stdout",
     "output_type": "stream",
     "text": [
      "Epoch [100/150], Training MAE: 0.2731, Training RMSE: 0.4111\n",
      "Epoch [100/150], Validation MAE: 0.2487, Validation RMSE: 0.3730\n"
     ]
    },
    {
     "name": "stderr",
     "output_type": "stream",
     "text": [
      "Epoch 101/150: 100%|██████████| 205/205 [00:14<00:00, 14.13batch/s, mae_loss=0.141]\n"
     ]
    },
    {
     "name": "stdout",
     "output_type": "stream",
     "text": [
      "Epoch [101/150], Training MAE: 0.2729, Training RMSE: 0.4101\n",
      "Epoch [101/150], Validation MAE: 0.2485, Validation RMSE: 0.3729\n"
     ]
    },
    {
     "name": "stderr",
     "output_type": "stream",
     "text": [
      "Epoch 102/150: 100%|██████████| 205/205 [00:14<00:00, 14.58batch/s, mae_loss=0.141]\n"
     ]
    },
    {
     "name": "stdout",
     "output_type": "stream",
     "text": [
      "Epoch [102/150], Training MAE: 0.2725, Training RMSE: 0.4095\n",
      "Epoch [102/150], Validation MAE: 0.2484, Validation RMSE: 0.3728\n"
     ]
    },
    {
     "name": "stderr",
     "output_type": "stream",
     "text": [
      "Epoch 103/150: 100%|██████████| 205/205 [00:14<00:00, 14.20batch/s, mae_loss=0.147]\n"
     ]
    },
    {
     "name": "stdout",
     "output_type": "stream",
     "text": [
      "Epoch [103/150], Training MAE: 0.2723, Training RMSE: 0.4098\n",
      "Epoch [103/150], Validation MAE: 0.2484, Validation RMSE: 0.3729\n"
     ]
    },
    {
     "name": "stderr",
     "output_type": "stream",
     "text": [
      "Epoch 104/150: 100%|██████████| 205/205 [00:14<00:00, 14.47batch/s, mae_loss=0.133]\n"
     ]
    },
    {
     "name": "stdout",
     "output_type": "stream",
     "text": [
      "Epoch [104/150], Training MAE: 0.2722, Training RMSE: 0.4097\n",
      "Epoch [104/150], Validation MAE: 0.2486, Validation RMSE: 0.3728\n"
     ]
    },
    {
     "name": "stderr",
     "output_type": "stream",
     "text": [
      "Epoch 105/150: 100%|██████████| 205/205 [00:14<00:00, 14.19batch/s, mae_loss=0.141]\n"
     ]
    },
    {
     "name": "stdout",
     "output_type": "stream",
     "text": [
      "Epoch [105/150], Training MAE: 0.2720, Training RMSE: 0.4090\n",
      "Epoch [105/150], Validation MAE: 0.2478, Validation RMSE: 0.3724\n"
     ]
    },
    {
     "name": "stderr",
     "output_type": "stream",
     "text": [
      "Epoch 106/150: 100%|██████████| 205/205 [00:13<00:00, 14.65batch/s, mae_loss=0.136]\n"
     ]
    },
    {
     "name": "stdout",
     "output_type": "stream",
     "text": [
      "Epoch [106/150], Training MAE: 0.2716, Training RMSE: 0.4091\n",
      "Epoch [106/150], Validation MAE: 0.2479, Validation RMSE: 0.3722\n"
     ]
    },
    {
     "name": "stderr",
     "output_type": "stream",
     "text": [
      "Epoch 107/150: 100%|██████████| 205/205 [00:14<00:00, 14.14batch/s, mae_loss=0.147]\n"
     ]
    },
    {
     "name": "stdout",
     "output_type": "stream",
     "text": [
      "Epoch [107/150], Training MAE: 0.2718, Training RMSE: 0.4097\n",
      "Epoch [107/150], Validation MAE: 0.2478, Validation RMSE: 0.3725\n"
     ]
    },
    {
     "name": "stderr",
     "output_type": "stream",
     "text": [
      "Epoch 108/150: 100%|██████████| 205/205 [00:13<00:00, 14.68batch/s, mae_loss=0.137]\n"
     ]
    },
    {
     "name": "stdout",
     "output_type": "stream",
     "text": [
      "Epoch [108/150], Training MAE: 0.2708, Training RMSE: 0.4086\n",
      "Epoch [108/150], Validation MAE: 0.2480, Validation RMSE: 0.3726\n"
     ]
    },
    {
     "name": "stderr",
     "output_type": "stream",
     "text": [
      "Epoch 109/150: 100%|██████████| 205/205 [00:14<00:00, 14.36batch/s, mae_loss=0.14] \n"
     ]
    },
    {
     "name": "stdout",
     "output_type": "stream",
     "text": [
      "Epoch [109/150], Training MAE: 0.2711, Training RMSE: 0.4083\n",
      "Epoch [109/150], Validation MAE: 0.2475, Validation RMSE: 0.3721\n"
     ]
    },
    {
     "name": "stderr",
     "output_type": "stream",
     "text": [
      "Epoch 110/150: 100%|██████████| 205/205 [00:14<00:00, 14.56batch/s, mae_loss=0.137]\n"
     ]
    },
    {
     "name": "stdout",
     "output_type": "stream",
     "text": [
      "Epoch [110/150], Training MAE: 0.2709, Training RMSE: 0.4086\n",
      "Epoch [110/150], Validation MAE: 0.2474, Validation RMSE: 0.3720\n"
     ]
    },
    {
     "name": "stderr",
     "output_type": "stream",
     "text": [
      "Epoch 111/150: 100%|██████████| 205/205 [00:14<00:00, 14.09batch/s, mae_loss=0.137]\n"
     ]
    },
    {
     "name": "stdout",
     "output_type": "stream",
     "text": [
      "Epoch [111/150], Training MAE: 0.2709, Training RMSE: 0.4085\n",
      "Epoch [111/150], Validation MAE: 0.2478, Validation RMSE: 0.3722\n"
     ]
    },
    {
     "name": "stderr",
     "output_type": "stream",
     "text": [
      "Epoch 112/150: 100%|██████████| 205/205 [00:13<00:00, 14.69batch/s, mae_loss=0.133]\n"
     ]
    },
    {
     "name": "stdout",
     "output_type": "stream",
     "text": [
      "Epoch [112/150], Training MAE: 0.2706, Training RMSE: 0.4077\n",
      "Epoch [112/150], Validation MAE: 0.2476, Validation RMSE: 0.3719\n"
     ]
    },
    {
     "name": "stderr",
     "output_type": "stream",
     "text": [
      "Epoch 113/150: 100%|██████████| 205/205 [00:13<00:00, 14.70batch/s, mae_loss=0.139]\n"
     ]
    },
    {
     "name": "stdout",
     "output_type": "stream",
     "text": [
      "Epoch [113/150], Training MAE: 0.2702, Training RMSE: 0.4069\n",
      "Epoch [113/150], Validation MAE: 0.2472, Validation RMSE: 0.3720\n"
     ]
    },
    {
     "name": "stderr",
     "output_type": "stream",
     "text": [
      "Epoch 114/150: 100%|██████████| 205/205 [00:14<00:00, 14.08batch/s, mae_loss=0.146]\n"
     ]
    },
    {
     "name": "stdout",
     "output_type": "stream",
     "text": [
      "Epoch [114/150], Training MAE: 0.2708, Training RMSE: 0.4082\n",
      "Epoch [114/150], Validation MAE: 0.2473, Validation RMSE: 0.3718\n"
     ]
    },
    {
     "name": "stderr",
     "output_type": "stream",
     "text": [
      "Epoch 115/150: 100%|██████████| 205/205 [00:14<00:00, 14.03batch/s, mae_loss=0.136]\n"
     ]
    },
    {
     "name": "stdout",
     "output_type": "stream",
     "text": [
      "Epoch [115/150], Training MAE: 0.2703, Training RMSE: 0.4074\n",
      "Epoch [115/150], Validation MAE: 0.2475, Validation RMSE: 0.3719\n"
     ]
    },
    {
     "name": "stderr",
     "output_type": "stream",
     "text": [
      "Epoch 116/150: 100%|██████████| 205/205 [00:14<00:00, 14.47batch/s, mae_loss=0.134]\n"
     ]
    },
    {
     "name": "stdout",
     "output_type": "stream",
     "text": [
      "Epoch [116/150], Training MAE: 0.2699, Training RMSE: 0.4072\n",
      "Epoch [116/150], Validation MAE: 0.2470, Validation RMSE: 0.3714\n"
     ]
    },
    {
     "name": "stderr",
     "output_type": "stream",
     "text": [
      "Epoch 117/150: 100%|██████████| 205/205 [00:13<00:00, 14.71batch/s, mae_loss=0.13] \n"
     ]
    },
    {
     "name": "stdout",
     "output_type": "stream",
     "text": [
      "Epoch [117/150], Training MAE: 0.2694, Training RMSE: 0.4063\n",
      "Epoch [117/150], Validation MAE: 0.2473, Validation RMSE: 0.3720\n"
     ]
    },
    {
     "name": "stderr",
     "output_type": "stream",
     "text": [
      "Epoch 118/150: 100%|██████████| 205/205 [00:14<00:00, 14.23batch/s, mae_loss=0.144]\n"
     ]
    },
    {
     "name": "stdout",
     "output_type": "stream",
     "text": [
      "Epoch [118/150], Training MAE: 0.2698, Training RMSE: 0.4066\n",
      "Epoch [118/150], Validation MAE: 0.2468, Validation RMSE: 0.3713\n"
     ]
    },
    {
     "name": "stderr",
     "output_type": "stream",
     "text": [
      "Epoch 119/150: 100%|██████████| 205/205 [00:14<00:00, 14.11batch/s, mae_loss=0.125]\n"
     ]
    },
    {
     "name": "stdout",
     "output_type": "stream",
     "text": [
      "Epoch [119/150], Training MAE: 0.2688, Training RMSE: 0.4063\n",
      "Epoch [119/150], Validation MAE: 0.2466, Validation RMSE: 0.3713\n"
     ]
    },
    {
     "name": "stderr",
     "output_type": "stream",
     "text": [
      "Epoch 120/150: 100%|██████████| 205/205 [00:14<00:00, 14.63batch/s, mae_loss=0.137]\n"
     ]
    },
    {
     "name": "stdout",
     "output_type": "stream",
     "text": [
      "Epoch [120/150], Training MAE: 0.2692, Training RMSE: 0.4060\n",
      "Epoch [120/150], Validation MAE: 0.2468, Validation RMSE: 0.3716\n"
     ]
    },
    {
     "name": "stderr",
     "output_type": "stream",
     "text": [
      "Epoch 121/150: 100%|██████████| 205/205 [00:13<00:00, 14.65batch/s, mae_loss=0.137]\n"
     ]
    },
    {
     "name": "stdout",
     "output_type": "stream",
     "text": [
      "Epoch [121/150], Training MAE: 0.2693, Training RMSE: 0.4069\n",
      "Epoch [121/150], Validation MAE: 0.2470, Validation RMSE: 0.3715\n"
     ]
    },
    {
     "name": "stderr",
     "output_type": "stream",
     "text": [
      "Epoch 122/150: 100%|██████████| 205/205 [00:14<00:00, 13.99batch/s, mae_loss=0.133]\n"
     ]
    },
    {
     "name": "stdout",
     "output_type": "stream",
     "text": [
      "Epoch [122/150], Training MAE: 0.2687, Training RMSE: 0.4061\n",
      "Epoch [122/150], Validation MAE: 0.2467, Validation RMSE: 0.3716\n"
     ]
    },
    {
     "name": "stderr",
     "output_type": "stream",
     "text": [
      "Epoch 123/150: 100%|██████████| 205/205 [00:14<00:00, 14.35batch/s, mae_loss=0.139]\n"
     ]
    },
    {
     "name": "stdout",
     "output_type": "stream",
     "text": [
      "Epoch [123/150], Training MAE: 0.2689, Training RMSE: 0.4060\n",
      "Epoch [123/150], Validation MAE: 0.2466, Validation RMSE: 0.3713\n"
     ]
    },
    {
     "name": "stderr",
     "output_type": "stream",
     "text": [
      "Epoch 124/150: 100%|██████████| 205/205 [00:13<00:00, 14.70batch/s, mae_loss=0.136]\n"
     ]
    },
    {
     "name": "stdout",
     "output_type": "stream",
     "text": [
      "Epoch [124/150], Training MAE: 0.2684, Training RMSE: 0.4053\n",
      "Epoch [124/150], Validation MAE: 0.2468, Validation RMSE: 0.3714\n"
     ]
    },
    {
     "name": "stderr",
     "output_type": "stream",
     "text": [
      "Epoch 125/150: 100%|██████████| 205/205 [00:13<00:00, 14.71batch/s, mae_loss=0.144]\n"
     ]
    },
    {
     "name": "stdout",
     "output_type": "stream",
     "text": [
      "Epoch [125/150], Training MAE: 0.2685, Training RMSE: 0.4055\n",
      "Epoch [125/150], Validation MAE: 0.2468, Validation RMSE: 0.3714\n"
     ]
    },
    {
     "name": "stderr",
     "output_type": "stream",
     "text": [
      "Epoch 126/150: 100%|██████████| 205/205 [00:15<00:00, 13.61batch/s, mae_loss=0.137]\n"
     ]
    },
    {
     "name": "stdout",
     "output_type": "stream",
     "text": [
      "Epoch [126/150], Training MAE: 0.2685, Training RMSE: 0.4059\n",
      "Epoch [126/150], Validation MAE: 0.2464, Validation RMSE: 0.3714\n"
     ]
    },
    {
     "name": "stderr",
     "output_type": "stream",
     "text": [
      "Epoch 127/150: 100%|██████████| 205/205 [00:15<00:00, 13.01batch/s, mae_loss=0.129]\n"
     ]
    },
    {
     "name": "stdout",
     "output_type": "stream",
     "text": [
      "Epoch [127/150], Training MAE: 0.2680, Training RMSE: 0.4053\n",
      "Epoch [127/150], Validation MAE: 0.2466, Validation RMSE: 0.3714\n"
     ]
    },
    {
     "name": "stderr",
     "output_type": "stream",
     "text": [
      "Epoch 128/150: 100%|██████████| 205/205 [00:14<00:00, 14.43batch/s, mae_loss=0.131]\n"
     ]
    },
    {
     "name": "stdout",
     "output_type": "stream",
     "text": [
      "Epoch [128/150], Training MAE: 0.2682, Training RMSE: 0.4050\n",
      "Epoch [128/150], Validation MAE: 0.2468, Validation RMSE: 0.3714\n"
     ]
    },
    {
     "name": "stderr",
     "output_type": "stream",
     "text": [
      "Epoch 129/150: 100%|██████████| 205/205 [00:14<00:00, 14.18batch/s, mae_loss=0.134]\n"
     ]
    },
    {
     "name": "stdout",
     "output_type": "stream",
     "text": [
      "Epoch [129/150], Training MAE: 0.2679, Training RMSE: 0.4046\n",
      "Epoch [129/150], Validation MAE: 0.2470, Validation RMSE: 0.3718\n"
     ]
    },
    {
     "name": "stderr",
     "output_type": "stream",
     "text": [
      "Epoch 130/150: 100%|██████████| 205/205 [00:14<00:00, 14.10batch/s, mae_loss=0.132]\n"
     ]
    },
    {
     "name": "stdout",
     "output_type": "stream",
     "text": [
      "Epoch [130/150], Training MAE: 0.2675, Training RMSE: 0.4046\n",
      "Epoch [130/150], Validation MAE: 0.2470, Validation RMSE: 0.3717\n"
     ]
    },
    {
     "name": "stderr",
     "output_type": "stream",
     "text": [
      "Epoch 131/150: 100%|██████████| 205/205 [00:13<00:00, 14.64batch/s, mae_loss=0.137]\n"
     ]
    },
    {
     "name": "stdout",
     "output_type": "stream",
     "text": [
      "Epoch [131/150], Training MAE: 0.2673, Training RMSE: 0.4045\n",
      "Epoch [131/150], Validation MAE: 0.2460, Validation RMSE: 0.3712\n"
     ]
    },
    {
     "name": "stderr",
     "output_type": "stream",
     "text": [
      "Epoch 132/150: 100%|██████████| 205/205 [00:13<00:00, 14.80batch/s, mae_loss=0.138]\n"
     ]
    },
    {
     "name": "stdout",
     "output_type": "stream",
     "text": [
      "Epoch [132/150], Training MAE: 0.2676, Training RMSE: 0.4049\n",
      "Epoch [132/150], Validation MAE: 0.2461, Validation RMSE: 0.3711\n"
     ]
    },
    {
     "name": "stderr",
     "output_type": "stream",
     "text": [
      "Epoch 133/150: 100%|██████████| 205/205 [00:13<00:00, 14.76batch/s, mae_loss=0.125]\n"
     ]
    },
    {
     "name": "stdout",
     "output_type": "stream",
     "text": [
      "Epoch [133/150], Training MAE: 0.2667, Training RMSE: 0.4035\n",
      "Epoch [133/150], Validation MAE: 0.2466, Validation RMSE: 0.3715\n"
     ]
    },
    {
     "name": "stderr",
     "output_type": "stream",
     "text": [
      "Epoch 134/150: 100%|██████████| 205/205 [00:14<00:00, 13.97batch/s, mae_loss=0.138]\n"
     ]
    },
    {
     "name": "stdout",
     "output_type": "stream",
     "text": [
      "Epoch [134/150], Training MAE: 0.2668, Training RMSE: 0.4038\n",
      "Epoch [134/150], Validation MAE: 0.2461, Validation RMSE: 0.3712\n"
     ]
    },
    {
     "name": "stderr",
     "output_type": "stream",
     "text": [
      "Epoch 135/150: 100%|██████████| 205/205 [00:14<00:00, 14.55batch/s, mae_loss=0.133]\n"
     ]
    },
    {
     "name": "stdout",
     "output_type": "stream",
     "text": [
      "Epoch [135/150], Training MAE: 0.2669, Training RMSE: 0.4036\n",
      "Epoch [135/150], Validation MAE: 0.2468, Validation RMSE: 0.3718\n"
     ]
    },
    {
     "name": "stderr",
     "output_type": "stream",
     "text": [
      "Epoch 136/150: 100%|██████████| 205/205 [00:14<00:00, 14.54batch/s, mae_loss=0.13] \n"
     ]
    },
    {
     "name": "stdout",
     "output_type": "stream",
     "text": [
      "Epoch [136/150], Training MAE: 0.2668, Training RMSE: 0.4035\n",
      "Epoch [136/150], Validation MAE: 0.2464, Validation RMSE: 0.3713\n"
     ]
    },
    {
     "name": "stderr",
     "output_type": "stream",
     "text": [
      "Epoch 137/150: 100%|██████████| 205/205 [00:14<00:00, 14.46batch/s, mae_loss=0.13] \n"
     ]
    },
    {
     "name": "stdout",
     "output_type": "stream",
     "text": [
      "Epoch [137/150], Training MAE: 0.2670, Training RMSE: 0.4043\n",
      "Epoch [137/150], Validation MAE: 0.2461, Validation RMSE: 0.3710\n"
     ]
    },
    {
     "name": "stderr",
     "output_type": "stream",
     "text": [
      "Epoch 138/150: 100%|██████████| 205/205 [00:14<00:00, 13.96batch/s, mae_loss=0.138]\n"
     ]
    },
    {
     "name": "stdout",
     "output_type": "stream",
     "text": [
      "Epoch [138/150], Training MAE: 0.2667, Training RMSE: 0.4028\n",
      "Epoch [138/150], Validation MAE: 0.2462, Validation RMSE: 0.3710\n"
     ]
    },
    {
     "name": "stderr",
     "output_type": "stream",
     "text": [
      "Epoch 139/150: 100%|██████████| 205/205 [00:14<00:00, 14.25batch/s, mae_loss=0.128]\n"
     ]
    },
    {
     "name": "stdout",
     "output_type": "stream",
     "text": [
      "Epoch [139/150], Training MAE: 0.2658, Training RMSE: 0.4026\n",
      "Epoch [139/150], Validation MAE: 0.2457, Validation RMSE: 0.3711\n"
     ]
    },
    {
     "name": "stderr",
     "output_type": "stream",
     "text": [
      "Epoch 140/150: 100%|██████████| 205/205 [00:14<00:00, 14.61batch/s, mae_loss=0.144]\n"
     ]
    },
    {
     "name": "stdout",
     "output_type": "stream",
     "text": [
      "Epoch [140/150], Training MAE: 0.2662, Training RMSE: 0.4033\n",
      "Epoch [140/150], Validation MAE: 0.2463, Validation RMSE: 0.3713\n"
     ]
    },
    {
     "name": "stderr",
     "output_type": "stream",
     "text": [
      "Epoch 141/150: 100%|██████████| 205/205 [00:14<00:00, 14.58batch/s, mae_loss=0.133]\n"
     ]
    },
    {
     "name": "stdout",
     "output_type": "stream",
     "text": [
      "Epoch [141/150], Training MAE: 0.2664, Training RMSE: 0.4033\n",
      "Epoch [141/150], Validation MAE: 0.2457, Validation RMSE: 0.3709\n"
     ]
    },
    {
     "name": "stderr",
     "output_type": "stream",
     "text": [
      "Epoch 142/150: 100%|██████████| 205/205 [00:14<00:00, 14.08batch/s, mae_loss=0.133]\n"
     ]
    },
    {
     "name": "stdout",
     "output_type": "stream",
     "text": [
      "Epoch [142/150], Training MAE: 0.2658, Training RMSE: 0.4028\n",
      "Epoch [142/150], Validation MAE: 0.2460, Validation RMSE: 0.3710\n"
     ]
    },
    {
     "name": "stderr",
     "output_type": "stream",
     "text": [
      "Epoch 143/150: 100%|██████████| 205/205 [00:14<00:00, 13.98batch/s, mae_loss=0.138]\n"
     ]
    },
    {
     "name": "stdout",
     "output_type": "stream",
     "text": [
      "Epoch [143/150], Training MAE: 0.2657, Training RMSE: 0.4022\n",
      "Epoch [143/150], Validation MAE: 0.2458, Validation RMSE: 0.3709\n"
     ]
    },
    {
     "name": "stderr",
     "output_type": "stream",
     "text": [
      "Epoch 144/150: 100%|██████████| 205/205 [00:13<00:00, 14.66batch/s, mae_loss=0.133]\n"
     ]
    },
    {
     "name": "stdout",
     "output_type": "stream",
     "text": [
      "Epoch [144/150], Training MAE: 0.2656, Training RMSE: 0.4024\n",
      "Epoch [144/150], Validation MAE: 0.2462, Validation RMSE: 0.3709\n"
     ]
    },
    {
     "name": "stderr",
     "output_type": "stream",
     "text": [
      "Epoch 145/150: 100%|██████████| 205/205 [00:14<00:00, 14.55batch/s, mae_loss=0.136]\n"
     ]
    },
    {
     "name": "stdout",
     "output_type": "stream",
     "text": [
      "Epoch [145/150], Training MAE: 0.2652, Training RMSE: 0.4018\n",
      "Epoch [145/150], Validation MAE: 0.2455, Validation RMSE: 0.3704\n"
     ]
    },
    {
     "name": "stderr",
     "output_type": "stream",
     "text": [
      "Epoch 146/150: 100%|██████████| 205/205 [00:14<00:00, 14.37batch/s, mae_loss=0.127]\n"
     ]
    },
    {
     "name": "stdout",
     "output_type": "stream",
     "text": [
      "Epoch [146/150], Training MAE: 0.2650, Training RMSE: 0.4025\n",
      "Epoch [146/150], Validation MAE: 0.2453, Validation RMSE: 0.3703\n"
     ]
    },
    {
     "name": "stderr",
     "output_type": "stream",
     "text": [
      "Epoch 147/150: 100%|██████████| 205/205 [00:15<00:00, 13.42batch/s, mae_loss=0.13] \n"
     ]
    },
    {
     "name": "stdout",
     "output_type": "stream",
     "text": [
      "Epoch [147/150], Training MAE: 0.2656, Training RMSE: 0.4026\n",
      "Epoch [147/150], Validation MAE: 0.2458, Validation RMSE: 0.3707\n"
     ]
    },
    {
     "name": "stderr",
     "output_type": "stream",
     "text": [
      "Epoch 148/150: 100%|██████████| 205/205 [00:14<00:00, 14.50batch/s, mae_loss=0.13] \n"
     ]
    },
    {
     "name": "stdout",
     "output_type": "stream",
     "text": [
      "Epoch [148/150], Training MAE: 0.2649, Training RMSE: 0.4013\n",
      "Epoch [148/150], Validation MAE: 0.2455, Validation RMSE: 0.3706\n"
     ]
    },
    {
     "name": "stderr",
     "output_type": "stream",
     "text": [
      "Epoch 149/150: 100%|██████████| 205/205 [00:14<00:00, 14.44batch/s, mae_loss=0.129]\n"
     ]
    },
    {
     "name": "stdout",
     "output_type": "stream",
     "text": [
      "Epoch [149/150], Training MAE: 0.2646, Training RMSE: 0.4014\n",
      "Epoch [149/150], Validation MAE: 0.2456, Validation RMSE: 0.3705\n"
     ]
    },
    {
     "name": "stderr",
     "output_type": "stream",
     "text": [
      "Epoch 150/150: 100%|██████████| 205/205 [00:13<00:00, 14.73batch/s, mae_loss=0.132]\n"
     ]
    },
    {
     "name": "stdout",
     "output_type": "stream",
     "text": [
      "Epoch [150/150], Training MAE: 0.2645, Training RMSE: 0.4012\n",
      "Epoch [150/150], Validation MAE: 0.2457, Validation RMSE: 0.3704\n",
      "End Prediction Horizon of 6 of shared-layer Model\n",
      "model_shared-layer_attention_6_6 saved\n",
      "Shape of X (features): (8, 13092, 12)\n",
      "Shape of y (targets): (8, 13092)\n",
      "Shape of X_test (features): (8, 3119, 12)\n",
      "Shape of y_test (targets): (8, 3119)\n"
     ]
    },
    {
     "name": "stderr",
     "output_type": "stream",
     "text": [
      "Epoch 1/150: 100%|██████████| 205/205 [00:16<00:00, 12.55batch/s, mae_loss=0.58] \n"
     ]
    },
    {
     "name": "stdout",
     "output_type": "stream",
     "text": [
      "Epoch [1/150], Training MAE: 0.7332, Training RMSE: 0.9394\n",
      "Epoch [1/150], Validation MAE: 0.6735, Validation RMSE: 0.8824\n"
     ]
    },
    {
     "name": "stderr",
     "output_type": "stream",
     "text": [
      "Epoch 2/150: 100%|██████████| 205/205 [00:15<00:00, 12.91batch/s, mae_loss=0.514]\n"
     ]
    },
    {
     "name": "stdout",
     "output_type": "stream",
     "text": [
      "Epoch [2/150], Training MAE: 0.6785, Training RMSE: 0.8766\n",
      "Epoch [2/150], Validation MAE: 0.6262, Validation RMSE: 0.8209\n"
     ]
    },
    {
     "name": "stderr",
     "output_type": "stream",
     "text": [
      "Epoch 3/150: 100%|██████████| 205/205 [00:16<00:00, 12.63batch/s, mae_loss=0.431]\n"
     ]
    },
    {
     "name": "stdout",
     "output_type": "stream",
     "text": [
      "Epoch [3/150], Training MAE: 0.6262, Training RMSE: 0.8119\n",
      "Epoch [3/150], Validation MAE: 0.5691, Validation RMSE: 0.7477\n"
     ]
    },
    {
     "name": "stderr",
     "output_type": "stream",
     "text": [
      "Epoch 4/150: 100%|██████████| 205/205 [00:16<00:00, 12.78batch/s, mae_loss=0.359]\n"
     ]
    },
    {
     "name": "stdout",
     "output_type": "stream",
     "text": [
      "Epoch [4/150], Training MAE: 0.5689, Training RMSE: 0.7414\n",
      "Epoch [4/150], Validation MAE: 0.5096, Validation RMSE: 0.6741\n"
     ]
    },
    {
     "name": "stderr",
     "output_type": "stream",
     "text": [
      "Epoch 5/150: 100%|██████████| 205/205 [00:16<00:00, 12.69batch/s, mae_loss=0.3]  \n"
     ]
    },
    {
     "name": "stdout",
     "output_type": "stream",
     "text": [
      "Epoch [5/150], Training MAE: 0.5178, Training RMSE: 0.6830\n",
      "Epoch [5/150], Validation MAE: 0.4617, Validation RMSE: 0.6170\n"
     ]
    },
    {
     "name": "stderr",
     "output_type": "stream",
     "text": [
      "Epoch 6/150: 100%|██████████| 205/205 [00:16<00:00, 12.50batch/s, mae_loss=0.252]\n"
     ]
    },
    {
     "name": "stdout",
     "output_type": "stream",
     "text": [
      "Epoch [6/150], Training MAE: 0.4826, Training RMSE: 0.6453\n",
      "Epoch [6/150], Validation MAE: 0.4306, Validation RMSE: 0.5825\n"
     ]
    },
    {
     "name": "stderr",
     "output_type": "stream",
     "text": [
      "Epoch 7/150: 100%|██████████| 205/205 [00:15<00:00, 13.05batch/s, mae_loss=0.247]\n"
     ]
    },
    {
     "name": "stdout",
     "output_type": "stream",
     "text": [
      "Epoch [7/150], Training MAE: 0.4615, Training RMSE: 0.6244\n",
      "Epoch [7/150], Validation MAE: 0.4121, Validation RMSE: 0.5633\n"
     ]
    },
    {
     "name": "stderr",
     "output_type": "stream",
     "text": [
      "Epoch 8/150: 100%|██████████| 205/205 [00:15<00:00, 12.94batch/s, mae_loss=0.237]\n"
     ]
    },
    {
     "name": "stdout",
     "output_type": "stream",
     "text": [
      "Epoch [8/150], Training MAE: 0.4475, Training RMSE: 0.6110\n",
      "Epoch [8/150], Validation MAE: 0.3984, Validation RMSE: 0.5487\n"
     ]
    },
    {
     "name": "stderr",
     "output_type": "stream",
     "text": [
      "Epoch 9/150: 100%|██████████| 205/205 [00:16<00:00, 12.74batch/s, mae_loss=0.234]\n"
     ]
    },
    {
     "name": "stdout",
     "output_type": "stream",
     "text": [
      "Epoch [9/150], Training MAE: 0.4360, Training RMSE: 0.5988\n",
      "Epoch [9/150], Validation MAE: 0.3873, Validation RMSE: 0.5361\n"
     ]
    },
    {
     "name": "stderr",
     "output_type": "stream",
     "text": [
      "Epoch 10/150: 100%|██████████| 205/205 [00:15<00:00, 12.88batch/s, mae_loss=0.223]\n"
     ]
    },
    {
     "name": "stdout",
     "output_type": "stream",
     "text": [
      "Epoch [10/150], Training MAE: 0.4259, Training RMSE: 0.5876\n",
      "Epoch [10/150], Validation MAE: 0.3779, Validation RMSE: 0.5246\n"
     ]
    },
    {
     "name": "stderr",
     "output_type": "stream",
     "text": [
      "Epoch 11/150: 100%|██████████| 205/205 [00:15<00:00, 12.99batch/s, mae_loss=0.215]\n"
     ]
    },
    {
     "name": "stdout",
     "output_type": "stream",
     "text": [
      "Epoch [11/150], Training MAE: 0.4169, Training RMSE: 0.5767\n",
      "Epoch [11/150], Validation MAE: 0.3690, Validation RMSE: 0.5135\n"
     ]
    },
    {
     "name": "stderr",
     "output_type": "stream",
     "text": [
      "Epoch 12/150: 100%|██████████| 205/205 [00:16<00:00, 12.48batch/s, mae_loss=0.215]\n"
     ]
    },
    {
     "name": "stdout",
     "output_type": "stream",
     "text": [
      "Epoch [12/150], Training MAE: 0.4080, Training RMSE: 0.5657\n",
      "Epoch [12/150], Validation MAE: 0.3610, Validation RMSE: 0.5032\n"
     ]
    },
    {
     "name": "stderr",
     "output_type": "stream",
     "text": [
      "Epoch 13/150: 100%|██████████| 205/205 [00:15<00:00, 12.87batch/s, mae_loss=0.217]\n"
     ]
    },
    {
     "name": "stdout",
     "output_type": "stream",
     "text": [
      "Epoch [13/150], Training MAE: 0.4002, Training RMSE: 0.5556\n",
      "Epoch [13/150], Validation MAE: 0.3539, Validation RMSE: 0.4934\n"
     ]
    },
    {
     "name": "stderr",
     "output_type": "stream",
     "text": [
      "Epoch 14/150: 100%|██████████| 205/205 [00:15<00:00, 12.93batch/s, mae_loss=0.209]\n"
     ]
    },
    {
     "name": "stdout",
     "output_type": "stream",
     "text": [
      "Epoch [14/150], Training MAE: 0.3915, Training RMSE: 0.5444\n",
      "Epoch [14/150], Validation MAE: 0.3461, Validation RMSE: 0.4836\n"
     ]
    },
    {
     "name": "stderr",
     "output_type": "stream",
     "text": [
      "Epoch 15/150: 100%|██████████| 205/205 [00:15<00:00, 13.06batch/s, mae_loss=0.204]\n"
     ]
    },
    {
     "name": "stdout",
     "output_type": "stream",
     "text": [
      "Epoch [15/150], Training MAE: 0.3843, Training RMSE: 0.5360\n",
      "Epoch [15/150], Validation MAE: 0.3385, Validation RMSE: 0.4736\n"
     ]
    },
    {
     "name": "stderr",
     "output_type": "stream",
     "text": [
      "Epoch 16/150: 100%|██████████| 205/205 [00:16<00:00, 12.32batch/s, mae_loss=0.206]\n"
     ]
    },
    {
     "name": "stdout",
     "output_type": "stream",
     "text": [
      "Epoch [16/150], Training MAE: 0.3782, Training RMSE: 0.5276\n",
      "Epoch [16/150], Validation MAE: 0.3313, Validation RMSE: 0.4645\n"
     ]
    },
    {
     "name": "stderr",
     "output_type": "stream",
     "text": [
      "Epoch 17/150: 100%|██████████| 205/205 [00:15<00:00, 13.08batch/s, mae_loss=0.214]\n"
     ]
    },
    {
     "name": "stdout",
     "output_type": "stream",
     "text": [
      "Epoch [17/150], Training MAE: 0.3706, Training RMSE: 0.5183\n",
      "Epoch [17/150], Validation MAE: 0.3247, Validation RMSE: 0.4564\n"
     ]
    },
    {
     "name": "stderr",
     "output_type": "stream",
     "text": [
      "Epoch 18/150: 100%|██████████| 205/205 [00:15<00:00, 12.86batch/s, mae_loss=0.191]\n"
     ]
    },
    {
     "name": "stdout",
     "output_type": "stream",
     "text": [
      "Epoch [18/150], Training MAE: 0.3646, Training RMSE: 0.5109\n",
      "Epoch [18/150], Validation MAE: 0.3178, Validation RMSE: 0.4480\n"
     ]
    },
    {
     "name": "stderr",
     "output_type": "stream",
     "text": [
      "Epoch 19/150: 100%|██████████| 205/205 [00:15<00:00, 13.06batch/s, mae_loss=0.21] \n"
     ]
    },
    {
     "name": "stdout",
     "output_type": "stream",
     "text": [
      "Epoch [19/150], Training MAE: 0.3581, Training RMSE: 0.5033\n",
      "Epoch [19/150], Validation MAE: 0.3118, Validation RMSE: 0.4408\n"
     ]
    },
    {
     "name": "stderr",
     "output_type": "stream",
     "text": [
      "Epoch 20/150: 100%|██████████| 205/205 [00:17<00:00, 11.92batch/s, mae_loss=0.189]\n"
     ]
    },
    {
     "name": "stdout",
     "output_type": "stream",
     "text": [
      "Epoch [20/150], Training MAE: 0.3538, Training RMSE: 0.4978\n",
      "Epoch [20/150], Validation MAE: 0.3067, Validation RMSE: 0.4346\n"
     ]
    },
    {
     "name": "stderr",
     "output_type": "stream",
     "text": [
      "Epoch 21/150: 100%|██████████| 205/205 [00:15<00:00, 12.97batch/s, mae_loss=0.213]\n"
     ]
    },
    {
     "name": "stdout",
     "output_type": "stream",
     "text": [
      "Epoch [21/150], Training MAE: 0.3483, Training RMSE: 0.4910\n",
      "Epoch [21/150], Validation MAE: 0.3021, Validation RMSE: 0.4292\n"
     ]
    },
    {
     "name": "stderr",
     "output_type": "stream",
     "text": [
      "Epoch 22/150: 100%|██████████| 205/205 [00:16<00:00, 12.79batch/s, mae_loss=0.206]\n"
     ]
    },
    {
     "name": "stdout",
     "output_type": "stream",
     "text": [
      "Epoch [22/150], Training MAE: 0.3434, Training RMSE: 0.4858\n",
      "Epoch [22/150], Validation MAE: 0.2974, Validation RMSE: 0.4239\n"
     ]
    },
    {
     "name": "stderr",
     "output_type": "stream",
     "text": [
      "Epoch 23/150: 100%|██████████| 205/205 [00:16<00:00, 12.27batch/s, mae_loss=0.205]\n"
     ]
    },
    {
     "name": "stdout",
     "output_type": "stream",
     "text": [
      "Epoch [23/150], Training MAE: 0.3401, Training RMSE: 0.4816\n",
      "Epoch [23/150], Validation MAE: 0.2931, Validation RMSE: 0.4189\n"
     ]
    },
    {
     "name": "stderr",
     "output_type": "stream",
     "text": [
      "Epoch 24/150: 100%|██████████| 205/205 [00:15<00:00, 12.98batch/s, mae_loss=0.2]  \n"
     ]
    },
    {
     "name": "stdout",
     "output_type": "stream",
     "text": [
      "Epoch [24/150], Training MAE: 0.3367, Training RMSE: 0.4786\n",
      "Epoch [24/150], Validation MAE: 0.2896, Validation RMSE: 0.4154\n"
     ]
    },
    {
     "name": "stderr",
     "output_type": "stream",
     "text": [
      "Epoch 25/150: 100%|██████████| 205/205 [00:15<00:00, 13.08batch/s, mae_loss=0.194]\n"
     ]
    },
    {
     "name": "stdout",
     "output_type": "stream",
     "text": [
      "Epoch [25/150], Training MAE: 0.3316, Training RMSE: 0.4713\n",
      "Epoch [25/150], Validation MAE: 0.2871, Validation RMSE: 0.4124\n"
     ]
    },
    {
     "name": "stderr",
     "output_type": "stream",
     "text": [
      "Epoch 26/150: 100%|██████████| 205/205 [00:15<00:00, 13.01batch/s, mae_loss=0.182]\n"
     ]
    },
    {
     "name": "stdout",
     "output_type": "stream",
     "text": [
      "Epoch [26/150], Training MAE: 0.3298, Training RMSE: 0.4698\n",
      "Epoch [26/150], Validation MAE: 0.2839, Validation RMSE: 0.4093\n"
     ]
    },
    {
     "name": "stderr",
     "output_type": "stream",
     "text": [
      "Epoch 27/150: 100%|██████████| 205/205 [00:16<00:00, 12.48batch/s, mae_loss=0.194]\n"
     ]
    },
    {
     "name": "stdout",
     "output_type": "stream",
     "text": [
      "Epoch [27/150], Training MAE: 0.3271, Training RMSE: 0.4665\n",
      "Epoch [27/150], Validation MAE: 0.2815, Validation RMSE: 0.4067\n"
     ]
    },
    {
     "name": "stderr",
     "output_type": "stream",
     "text": [
      "Epoch 28/150: 100%|██████████| 205/205 [00:15<00:00, 12.91batch/s, mae_loss=0.193]\n"
     ]
    },
    {
     "name": "stdout",
     "output_type": "stream",
     "text": [
      "Epoch [28/150], Training MAE: 0.3242, Training RMSE: 0.4628\n",
      "Epoch [28/150], Validation MAE: 0.2795, Validation RMSE: 0.4042\n"
     ]
    },
    {
     "name": "stderr",
     "output_type": "stream",
     "text": [
      "Epoch 29/150: 100%|██████████| 205/205 [00:15<00:00, 12.91batch/s, mae_loss=0.186]\n"
     ]
    },
    {
     "name": "stdout",
     "output_type": "stream",
     "text": [
      "Epoch [29/150], Training MAE: 0.3223, Training RMSE: 0.4615\n",
      "Epoch [29/150], Validation MAE: 0.2770, Validation RMSE: 0.4017\n"
     ]
    },
    {
     "name": "stderr",
     "output_type": "stream",
     "text": [
      "Epoch 30/150: 100%|██████████| 205/205 [00:16<00:00, 12.60batch/s, mae_loss=0.17] \n"
     ]
    },
    {
     "name": "stdout",
     "output_type": "stream",
     "text": [
      "Epoch [30/150], Training MAE: 0.3201, Training RMSE: 0.4591\n",
      "Epoch [30/150], Validation MAE: 0.2747, Validation RMSE: 0.3998\n"
     ]
    },
    {
     "name": "stderr",
     "output_type": "stream",
     "text": [
      "Epoch 31/150: 100%|██████████| 205/205 [00:16<00:00, 12.45batch/s, mae_loss=0.189]\n"
     ]
    },
    {
     "name": "stdout",
     "output_type": "stream",
     "text": [
      "Epoch [31/150], Training MAE: 0.3183, Training RMSE: 0.4568\n",
      "Epoch [31/150], Validation MAE: 0.2731, Validation RMSE: 0.3982\n"
     ]
    },
    {
     "name": "stderr",
     "output_type": "stream",
     "text": [
      "Epoch 32/150: 100%|██████████| 205/205 [00:15<00:00, 13.08batch/s, mae_loss=0.195]\n"
     ]
    },
    {
     "name": "stdout",
     "output_type": "stream",
     "text": [
      "Epoch [32/150], Training MAE: 0.3159, Training RMSE: 0.4537\n",
      "Epoch [32/150], Validation MAE: 0.2710, Validation RMSE: 0.3964\n"
     ]
    },
    {
     "name": "stderr",
     "output_type": "stream",
     "text": [
      "Epoch 33/150: 100%|██████████| 205/205 [00:15<00:00, 12.98batch/s, mae_loss=0.196]\n"
     ]
    },
    {
     "name": "stdout",
     "output_type": "stream",
     "text": [
      "Epoch [33/150], Training MAE: 0.3136, Training RMSE: 0.4514\n",
      "Epoch [33/150], Validation MAE: 0.2699, Validation RMSE: 0.3951\n"
     ]
    },
    {
     "name": "stderr",
     "output_type": "stream",
     "text": [
      "Epoch 34/150: 100%|██████████| 205/205 [00:15<00:00, 13.02batch/s, mae_loss=0.195]\n"
     ]
    },
    {
     "name": "stdout",
     "output_type": "stream",
     "text": [
      "Epoch [34/150], Training MAE: 0.3119, Training RMSE: 0.4490\n",
      "Epoch [34/150], Validation MAE: 0.2676, Validation RMSE: 0.3929\n"
     ]
    },
    {
     "name": "stderr",
     "output_type": "stream",
     "text": [
      "Epoch 35/150: 100%|██████████| 205/205 [00:16<00:00, 12.75batch/s, mae_loss=0.174]\n"
     ]
    },
    {
     "name": "stdout",
     "output_type": "stream",
     "text": [
      "Epoch [35/150], Training MAE: 0.3112, Training RMSE: 0.4481\n",
      "Epoch [35/150], Validation MAE: 0.2668, Validation RMSE: 0.3921\n"
     ]
    },
    {
     "name": "stderr",
     "output_type": "stream",
     "text": [
      "Epoch 36/150: 100%|██████████| 205/205 [00:16<00:00, 12.74batch/s, mae_loss=0.188]\n"
     ]
    },
    {
     "name": "stdout",
     "output_type": "stream",
     "text": [
      "Epoch [36/150], Training MAE: 0.3095, Training RMSE: 0.4471\n",
      "Epoch [36/150], Validation MAE: 0.2657, Validation RMSE: 0.3908\n"
     ]
    },
    {
     "name": "stderr",
     "output_type": "stream",
     "text": [
      "Epoch 37/150: 100%|██████████| 205/205 [00:16<00:00, 12.52batch/s, mae_loss=0.182]\n"
     ]
    },
    {
     "name": "stdout",
     "output_type": "stream",
     "text": [
      "Epoch [37/150], Training MAE: 0.3071, Training RMSE: 0.4444\n",
      "Epoch [37/150], Validation MAE: 0.2645, Validation RMSE: 0.3896\n"
     ]
    },
    {
     "name": "stderr",
     "output_type": "stream",
     "text": [
      "Epoch 38/150: 100%|██████████| 205/205 [00:16<00:00, 12.60batch/s, mae_loss=0.171]\n"
     ]
    },
    {
     "name": "stdout",
     "output_type": "stream",
     "text": [
      "Epoch [38/150], Training MAE: 0.3062, Training RMSE: 0.4431\n",
      "Epoch [38/150], Validation MAE: 0.2636, Validation RMSE: 0.3888\n"
     ]
    },
    {
     "name": "stderr",
     "output_type": "stream",
     "text": [
      "Epoch 39/150: 100%|██████████| 205/205 [00:15<00:00, 12.96batch/s, mae_loss=0.184]\n"
     ]
    },
    {
     "name": "stdout",
     "output_type": "stream",
     "text": [
      "Epoch [39/150], Training MAE: 0.3053, Training RMSE: 0.4417\n",
      "Epoch [39/150], Validation MAE: 0.2619, Validation RMSE: 0.3874\n"
     ]
    },
    {
     "name": "stderr",
     "output_type": "stream",
     "text": [
      "Epoch 40/150: 100%|██████████| 205/205 [00:16<00:00, 12.58batch/s, mae_loss=0.17] \n"
     ]
    },
    {
     "name": "stdout",
     "output_type": "stream",
     "text": [
      "Epoch [40/150], Training MAE: 0.3034, Training RMSE: 0.4403\n",
      "Epoch [40/150], Validation MAE: 0.2616, Validation RMSE: 0.3865\n"
     ]
    },
    {
     "name": "stderr",
     "output_type": "stream",
     "text": [
      "Epoch 41/150: 100%|██████████| 205/205 [00:15<00:00, 13.02batch/s, mae_loss=0.173]\n"
     ]
    },
    {
     "name": "stdout",
     "output_type": "stream",
     "text": [
      "Epoch [41/150], Training MAE: 0.3025, Training RMSE: 0.4389\n",
      "Epoch [41/150], Validation MAE: 0.2610, Validation RMSE: 0.3858\n"
     ]
    },
    {
     "name": "stderr",
     "output_type": "stream",
     "text": [
      "Epoch 42/150: 100%|██████████| 205/205 [00:16<00:00, 12.60batch/s, mae_loss=0.16] \n"
     ]
    },
    {
     "name": "stdout",
     "output_type": "stream",
     "text": [
      "Epoch [42/150], Training MAE: 0.3010, Training RMSE: 0.4370\n",
      "Epoch [42/150], Validation MAE: 0.2596, Validation RMSE: 0.3848\n"
     ]
    },
    {
     "name": "stderr",
     "output_type": "stream",
     "text": [
      "Epoch 43/150: 100%|██████████| 205/205 [00:15<00:00, 12.96batch/s, mae_loss=0.165]\n"
     ]
    },
    {
     "name": "stdout",
     "output_type": "stream",
     "text": [
      "Epoch [43/150], Training MAE: 0.2998, Training RMSE: 0.4356\n",
      "Epoch [43/150], Validation MAE: 0.2590, Validation RMSE: 0.3842\n"
     ]
    },
    {
     "name": "stderr",
     "output_type": "stream",
     "text": [
      "Epoch 44/150: 100%|██████████| 205/205 [00:15<00:00, 12.90batch/s, mae_loss=0.166]\n"
     ]
    },
    {
     "name": "stdout",
     "output_type": "stream",
     "text": [
      "Epoch [44/150], Training MAE: 0.2993, Training RMSE: 0.4356\n",
      "Epoch [44/150], Validation MAE: 0.2586, Validation RMSE: 0.3835\n"
     ]
    },
    {
     "name": "stderr",
     "output_type": "stream",
     "text": [
      "Epoch 45/150: 100%|██████████| 205/205 [00:15<00:00, 12.94batch/s, mae_loss=0.161]\n"
     ]
    },
    {
     "name": "stdout",
     "output_type": "stream",
     "text": [
      "Epoch [45/150], Training MAE: 0.2975, Training RMSE: 0.4334\n",
      "Epoch [45/150], Validation MAE: 0.2573, Validation RMSE: 0.3827\n"
     ]
    },
    {
     "name": "stderr",
     "output_type": "stream",
     "text": [
      "Epoch 46/150: 100%|██████████| 205/205 [00:16<00:00, 12.48batch/s, mae_loss=0.163]\n"
     ]
    },
    {
     "name": "stdout",
     "output_type": "stream",
     "text": [
      "Epoch [46/150], Training MAE: 0.2965, Training RMSE: 0.4329\n",
      "Epoch [46/150], Validation MAE: 0.2572, Validation RMSE: 0.3819\n"
     ]
    },
    {
     "name": "stderr",
     "output_type": "stream",
     "text": [
      "Epoch 47/150: 100%|██████████| 205/205 [00:16<00:00, 12.60batch/s, mae_loss=0.173]\n"
     ]
    },
    {
     "name": "stdout",
     "output_type": "stream",
     "text": [
      "Epoch [47/150], Training MAE: 0.2963, Training RMSE: 0.4322\n",
      "Epoch [47/150], Validation MAE: 0.2564, Validation RMSE: 0.3815\n"
     ]
    },
    {
     "name": "stderr",
     "output_type": "stream",
     "text": [
      "Epoch 48/150: 100%|██████████| 205/205 [00:15<00:00, 12.99batch/s, mae_loss=0.16] \n"
     ]
    },
    {
     "name": "stdout",
     "output_type": "stream",
     "text": [
      "Epoch [48/150], Training MAE: 0.2952, Training RMSE: 0.4311\n",
      "Epoch [48/150], Validation MAE: 0.2560, Validation RMSE: 0.3812\n"
     ]
    },
    {
     "name": "stderr",
     "output_type": "stream",
     "text": [
      "Epoch 49/150: 100%|██████████| 205/205 [00:15<00:00, 12.97batch/s, mae_loss=0.154]\n"
     ]
    },
    {
     "name": "stdout",
     "output_type": "stream",
     "text": [
      "Epoch [49/150], Training MAE: 0.2942, Training RMSE: 0.4300\n",
      "Epoch [49/150], Validation MAE: 0.2555, Validation RMSE: 0.3801\n"
     ]
    },
    {
     "name": "stderr",
     "output_type": "stream",
     "text": [
      "Epoch 50/150: 100%|██████████| 205/205 [00:16<00:00, 12.67batch/s, mae_loss=0.163]\n"
     ]
    },
    {
     "name": "stdout",
     "output_type": "stream",
     "text": [
      "Epoch [50/150], Training MAE: 0.2927, Training RMSE: 0.4283\n",
      "Epoch [50/150], Validation MAE: 0.2555, Validation RMSE: 0.3801\n"
     ]
    },
    {
     "name": "stderr",
     "output_type": "stream",
     "text": [
      "Epoch 51/150: 100%|██████████| 205/205 [00:15<00:00, 13.13batch/s, mae_loss=0.166]\n"
     ]
    },
    {
     "name": "stdout",
     "output_type": "stream",
     "text": [
      "Epoch [51/150], Training MAE: 0.2923, Training RMSE: 0.4280\n",
      "Epoch [51/150], Validation MAE: 0.2546, Validation RMSE: 0.3793\n"
     ]
    },
    {
     "name": "stderr",
     "output_type": "stream",
     "text": [
      "Epoch 52/150: 100%|██████████| 205/205 [00:16<00:00, 12.81batch/s, mae_loss=0.167]\n"
     ]
    },
    {
     "name": "stdout",
     "output_type": "stream",
     "text": [
      "Epoch [52/150], Training MAE: 0.2913, Training RMSE: 0.4271\n",
      "Epoch [52/150], Validation MAE: 0.2543, Validation RMSE: 0.3792\n"
     ]
    },
    {
     "name": "stderr",
     "output_type": "stream",
     "text": [
      "Epoch 53/150: 100%|██████████| 205/205 [00:16<00:00, 12.56batch/s, mae_loss=0.155]\n"
     ]
    },
    {
     "name": "stdout",
     "output_type": "stream",
     "text": [
      "Epoch [53/150], Training MAE: 0.2908, Training RMSE: 0.4260\n",
      "Epoch [53/150], Validation MAE: 0.2542, Validation RMSE: 0.3791\n"
     ]
    },
    {
     "name": "stderr",
     "output_type": "stream",
     "text": [
      "Epoch 54/150: 100%|██████████| 205/205 [00:16<00:00, 12.44batch/s, mae_loss=0.149]\n"
     ]
    },
    {
     "name": "stdout",
     "output_type": "stream",
     "text": [
      "Epoch [54/150], Training MAE: 0.2905, Training RMSE: 0.4265\n",
      "Epoch [54/150], Validation MAE: 0.2536, Validation RMSE: 0.3784\n"
     ]
    },
    {
     "name": "stderr",
     "output_type": "stream",
     "text": [
      "Epoch 55/150: 100%|██████████| 205/205 [00:15<00:00, 12.96batch/s, mae_loss=0.151]\n"
     ]
    },
    {
     "name": "stdout",
     "output_type": "stream",
     "text": [
      "Epoch [55/150], Training MAE: 0.2902, Training RMSE: 0.4248\n",
      "Epoch [55/150], Validation MAE: 0.2530, Validation RMSE: 0.3779\n"
     ]
    },
    {
     "name": "stderr",
     "output_type": "stream",
     "text": [
      "Epoch 56/150: 100%|██████████| 205/205 [00:15<00:00, 12.91batch/s, mae_loss=0.16] \n"
     ]
    },
    {
     "name": "stdout",
     "output_type": "stream",
     "text": [
      "Epoch [56/150], Training MAE: 0.2880, Training RMSE: 0.4227\n",
      "Epoch [56/150], Validation MAE: 0.2529, Validation RMSE: 0.3775\n"
     ]
    },
    {
     "name": "stderr",
     "output_type": "stream",
     "text": [
      "Epoch 57/150: 100%|██████████| 205/205 [00:16<00:00, 12.25batch/s, mae_loss=0.164]\n"
     ]
    },
    {
     "name": "stdout",
     "output_type": "stream",
     "text": [
      "Epoch [57/150], Training MAE: 0.2877, Training RMSE: 0.4228\n",
      "Epoch [57/150], Validation MAE: 0.2526, Validation RMSE: 0.3772\n"
     ]
    },
    {
     "name": "stderr",
     "output_type": "stream",
     "text": [
      "Epoch 58/150: 100%|██████████| 205/205 [00:15<00:00, 12.87batch/s, mae_loss=0.163]\n"
     ]
    },
    {
     "name": "stdout",
     "output_type": "stream",
     "text": [
      "Epoch [58/150], Training MAE: 0.2878, Training RMSE: 0.4224\n",
      "Epoch [58/150], Validation MAE: 0.2516, Validation RMSE: 0.3766\n"
     ]
    },
    {
     "name": "stderr",
     "output_type": "stream",
     "text": [
      "Epoch 59/150: 100%|██████████| 205/205 [00:15<00:00, 12.95batch/s, mae_loss=0.153]\n"
     ]
    },
    {
     "name": "stdout",
     "output_type": "stream",
     "text": [
      "Epoch [59/150], Training MAE: 0.2867, Training RMSE: 0.4218\n",
      "Epoch [59/150], Validation MAE: 0.2513, Validation RMSE: 0.3764\n"
     ]
    },
    {
     "name": "stderr",
     "output_type": "stream",
     "text": [
      "Epoch 60/150: 100%|██████████| 205/205 [00:15<00:00, 12.98batch/s, mae_loss=0.154]\n"
     ]
    },
    {
     "name": "stdout",
     "output_type": "stream",
     "text": [
      "Epoch [60/150], Training MAE: 0.2858, Training RMSE: 0.4209\n",
      "Epoch [60/150], Validation MAE: 0.2513, Validation RMSE: 0.3759\n"
     ]
    },
    {
     "name": "stderr",
     "output_type": "stream",
     "text": [
      "Epoch 61/150: 100%|██████████| 205/205 [00:16<00:00, 12.48batch/s, mae_loss=0.147]\n"
     ]
    },
    {
     "name": "stdout",
     "output_type": "stream",
     "text": [
      "Epoch [61/150], Training MAE: 0.2854, Training RMSE: 0.4211\n",
      "Epoch [61/150], Validation MAE: 0.2507, Validation RMSE: 0.3757\n"
     ]
    },
    {
     "name": "stderr",
     "output_type": "stream",
     "text": [
      "Epoch 62/150: 100%|██████████| 205/205 [00:15<00:00, 13.02batch/s, mae_loss=0.153]\n"
     ]
    },
    {
     "name": "stdout",
     "output_type": "stream",
     "text": [
      "Epoch [62/150], Training MAE: 0.2845, Training RMSE: 0.4196\n",
      "Epoch [62/150], Validation MAE: 0.2509, Validation RMSE: 0.3756\n"
     ]
    },
    {
     "name": "stderr",
     "output_type": "stream",
     "text": [
      "Epoch 63/150: 100%|██████████| 205/205 [00:16<00:00, 12.56batch/s, mae_loss=0.151]\n"
     ]
    },
    {
     "name": "stdout",
     "output_type": "stream",
     "text": [
      "Epoch [63/150], Training MAE: 0.2843, Training RMSE: 0.4195\n",
      "Epoch [63/150], Validation MAE: 0.2507, Validation RMSE: 0.3751\n"
     ]
    },
    {
     "name": "stderr",
     "output_type": "stream",
     "text": [
      "Epoch 64/150: 100%|██████████| 205/205 [00:16<00:00, 12.72batch/s, mae_loss=0.149]\n"
     ]
    },
    {
     "name": "stdout",
     "output_type": "stream",
     "text": [
      "Epoch [64/150], Training MAE: 0.2841, Training RMSE: 0.4190\n",
      "Epoch [64/150], Validation MAE: 0.2505, Validation RMSE: 0.3753\n"
     ]
    },
    {
     "name": "stderr",
     "output_type": "stream",
     "text": [
      "Epoch 65/150: 100%|██████████| 205/205 [00:15<00:00, 12.95batch/s, mae_loss=0.153]\n"
     ]
    },
    {
     "name": "stdout",
     "output_type": "stream",
     "text": [
      "Epoch [65/150], Training MAE: 0.2832, Training RMSE: 0.4182\n",
      "Epoch [65/150], Validation MAE: 0.2498, Validation RMSE: 0.3749\n"
     ]
    },
    {
     "name": "stderr",
     "output_type": "stream",
     "text": [
      "Epoch 66/150: 100%|██████████| 205/205 [00:15<00:00, 13.05batch/s, mae_loss=0.155]\n"
     ]
    },
    {
     "name": "stdout",
     "output_type": "stream",
     "text": [
      "Epoch [66/150], Training MAE: 0.2823, Training RMSE: 0.4171\n",
      "Epoch [66/150], Validation MAE: 0.2499, Validation RMSE: 0.3749\n"
     ]
    },
    {
     "name": "stderr",
     "output_type": "stream",
     "text": [
      "Epoch 67/150: 100%|██████████| 205/205 [00:15<00:00, 12.91batch/s, mae_loss=0.15] \n"
     ]
    },
    {
     "name": "stdout",
     "output_type": "stream",
     "text": [
      "Epoch [67/150], Training MAE: 0.2818, Training RMSE: 0.4164\n",
      "Epoch [67/150], Validation MAE: 0.2496, Validation RMSE: 0.3740\n"
     ]
    },
    {
     "name": "stderr",
     "output_type": "stream",
     "text": [
      "Epoch 68/150: 100%|██████████| 205/205 [00:16<00:00, 12.52batch/s, mae_loss=0.155]\n"
     ]
    },
    {
     "name": "stdout",
     "output_type": "stream",
     "text": [
      "Epoch [68/150], Training MAE: 0.2811, Training RMSE: 0.4153\n",
      "Epoch [68/150], Validation MAE: 0.2492, Validation RMSE: 0.3737\n"
     ]
    },
    {
     "name": "stderr",
     "output_type": "stream",
     "text": [
      "Epoch 69/150: 100%|██████████| 205/205 [00:16<00:00, 12.77batch/s, mae_loss=0.144]\n"
     ]
    },
    {
     "name": "stdout",
     "output_type": "stream",
     "text": [
      "Epoch [69/150], Training MAE: 0.2812, Training RMSE: 0.4164\n",
      "Epoch [69/150], Validation MAE: 0.2486, Validation RMSE: 0.3734\n"
     ]
    },
    {
     "name": "stderr",
     "output_type": "stream",
     "text": [
      "Epoch 70/150: 100%|██████████| 205/205 [00:15<00:00, 12.87batch/s, mae_loss=0.146]\n"
     ]
    },
    {
     "name": "stdout",
     "output_type": "stream",
     "text": [
      "Epoch [70/150], Training MAE: 0.2810, Training RMSE: 0.4156\n",
      "Epoch [70/150], Validation MAE: 0.2487, Validation RMSE: 0.3733\n"
     ]
    },
    {
     "name": "stderr",
     "output_type": "stream",
     "text": [
      "Epoch 71/150: 100%|██████████| 205/205 [00:16<00:00, 12.45batch/s, mae_loss=0.147]\n"
     ]
    },
    {
     "name": "stdout",
     "output_type": "stream",
     "text": [
      "Epoch [71/150], Training MAE: 0.2806, Training RMSE: 0.4154\n",
      "Epoch [71/150], Validation MAE: 0.2491, Validation RMSE: 0.3735\n"
     ]
    },
    {
     "name": "stderr",
     "output_type": "stream",
     "text": [
      "Epoch 72/150: 100%|██████████| 205/205 [00:16<00:00, 12.53batch/s, mae_loss=0.154]\n"
     ]
    },
    {
     "name": "stdout",
     "output_type": "stream",
     "text": [
      "Epoch [72/150], Training MAE: 0.2800, Training RMSE: 0.4146\n",
      "Epoch [72/150], Validation MAE: 0.2488, Validation RMSE: 0.3732\n"
     ]
    },
    {
     "name": "stderr",
     "output_type": "stream",
     "text": [
      "Epoch 73/150: 100%|██████████| 205/205 [00:15<00:00, 13.05batch/s, mae_loss=0.143]\n"
     ]
    },
    {
     "name": "stdout",
     "output_type": "stream",
     "text": [
      "Epoch [73/150], Training MAE: 0.2789, Training RMSE: 0.4142\n",
      "Epoch [73/150], Validation MAE: 0.2488, Validation RMSE: 0.3731\n"
     ]
    },
    {
     "name": "stderr",
     "output_type": "stream",
     "text": [
      "Epoch 74/150: 100%|██████████| 205/205 [00:16<00:00, 12.38batch/s, mae_loss=0.144]\n"
     ]
    },
    {
     "name": "stdout",
     "output_type": "stream",
     "text": [
      "Epoch [74/150], Training MAE: 0.2789, Training RMSE: 0.4136\n",
      "Epoch [74/150], Validation MAE: 0.2483, Validation RMSE: 0.3728\n"
     ]
    },
    {
     "name": "stderr",
     "output_type": "stream",
     "text": [
      "Epoch 75/150: 100%|██████████| 205/205 [00:15<00:00, 13.02batch/s, mae_loss=0.147]\n"
     ]
    },
    {
     "name": "stdout",
     "output_type": "stream",
     "text": [
      "Epoch [75/150], Training MAE: 0.2785, Training RMSE: 0.4133\n",
      "Epoch [75/150], Validation MAE: 0.2480, Validation RMSE: 0.3727\n"
     ]
    },
    {
     "name": "stderr",
     "output_type": "stream",
     "text": [
      "Epoch 76/150: 100%|██████████| 205/205 [00:16<00:00, 12.75batch/s, mae_loss=0.157]\n"
     ]
    },
    {
     "name": "stdout",
     "output_type": "stream",
     "text": [
      "Epoch [76/150], Training MAE: 0.2782, Training RMSE: 0.4132\n",
      "Epoch [76/150], Validation MAE: 0.2481, Validation RMSE: 0.3724\n"
     ]
    },
    {
     "name": "stderr",
     "output_type": "stream",
     "text": [
      "Epoch 77/150: 100%|██████████| 205/205 [00:16<00:00, 12.75batch/s, mae_loss=0.144]\n"
     ]
    },
    {
     "name": "stdout",
     "output_type": "stream",
     "text": [
      "Epoch [77/150], Training MAE: 0.2772, Training RMSE: 0.4119\n",
      "Epoch [77/150], Validation MAE: 0.2477, Validation RMSE: 0.3719\n"
     ]
    },
    {
     "name": "stderr",
     "output_type": "stream",
     "text": [
      "Epoch 78/150: 100%|██████████| 205/205 [00:15<00:00, 12.94batch/s, mae_loss=0.142]\n"
     ]
    },
    {
     "name": "stdout",
     "output_type": "stream",
     "text": [
      "Epoch [78/150], Training MAE: 0.2769, Training RMSE: 0.4120\n",
      "Epoch [78/150], Validation MAE: 0.2474, Validation RMSE: 0.3714\n"
     ]
    },
    {
     "name": "stderr",
     "output_type": "stream",
     "text": [
      "Epoch 79/150: 100%|██████████| 205/205 [00:16<00:00, 12.65batch/s, mae_loss=0.14] \n"
     ]
    },
    {
     "name": "stdout",
     "output_type": "stream",
     "text": [
      "Epoch [79/150], Training MAE: 0.2772, Training RMSE: 0.4114\n",
      "Epoch [79/150], Validation MAE: 0.2477, Validation RMSE: 0.3717\n"
     ]
    },
    {
     "name": "stderr",
     "output_type": "stream",
     "text": [
      "Epoch 80/150: 100%|██████████| 205/205 [00:16<00:00, 12.62batch/s, mae_loss=0.156]\n"
     ]
    },
    {
     "name": "stdout",
     "output_type": "stream",
     "text": [
      "Epoch [80/150], Training MAE: 0.2756, Training RMSE: 0.4097\n",
      "Epoch [80/150], Validation MAE: 0.2469, Validation RMSE: 0.3709\n"
     ]
    },
    {
     "name": "stderr",
     "output_type": "stream",
     "text": [
      "Epoch 81/150: 100%|██████████| 205/205 [00:15<00:00, 12.88batch/s, mae_loss=0.142]\n"
     ]
    },
    {
     "name": "stdout",
     "output_type": "stream",
     "text": [
      "Epoch [81/150], Training MAE: 0.2761, Training RMSE: 0.4104\n",
      "Epoch [81/150], Validation MAE: 0.2468, Validation RMSE: 0.3715\n"
     ]
    },
    {
     "name": "stderr",
     "output_type": "stream",
     "text": [
      "Epoch 82/150: 100%|██████████| 205/205 [00:15<00:00, 13.08batch/s, mae_loss=0.148]\n"
     ]
    },
    {
     "name": "stdout",
     "output_type": "stream",
     "text": [
      "Epoch [82/150], Training MAE: 0.2754, Training RMSE: 0.4095\n",
      "Epoch [82/150], Validation MAE: 0.2471, Validation RMSE: 0.3710\n"
     ]
    },
    {
     "name": "stderr",
     "output_type": "stream",
     "text": [
      "Epoch 83/150: 100%|██████████| 205/205 [00:16<00:00, 12.70batch/s, mae_loss=0.135]\n"
     ]
    },
    {
     "name": "stdout",
     "output_type": "stream",
     "text": [
      "Epoch [83/150], Training MAE: 0.2751, Training RMSE: 0.4100\n",
      "Epoch [83/150], Validation MAE: 0.2471, Validation RMSE: 0.3708\n"
     ]
    },
    {
     "name": "stderr",
     "output_type": "stream",
     "text": [
      "Epoch 84/150: 100%|██████████| 205/205 [00:16<00:00, 12.70batch/s, mae_loss=0.153]\n"
     ]
    },
    {
     "name": "stdout",
     "output_type": "stream",
     "text": [
      "Epoch [84/150], Training MAE: 0.2749, Training RMSE: 0.4091\n",
      "Epoch [84/150], Validation MAE: 0.2467, Validation RMSE: 0.3707\n"
     ]
    },
    {
     "name": "stderr",
     "output_type": "stream",
     "text": [
      "Epoch 85/150: 100%|██████████| 205/205 [00:16<00:00, 12.81batch/s, mae_loss=0.144]\n"
     ]
    },
    {
     "name": "stdout",
     "output_type": "stream",
     "text": [
      "Epoch [85/150], Training MAE: 0.2746, Training RMSE: 0.4087\n",
      "Epoch [85/150], Validation MAE: 0.2462, Validation RMSE: 0.3705\n"
     ]
    },
    {
     "name": "stderr",
     "output_type": "stream",
     "text": [
      "Epoch 86/150: 100%|██████████| 205/205 [00:15<00:00, 12.95batch/s, mae_loss=0.146]\n"
     ]
    },
    {
     "name": "stdout",
     "output_type": "stream",
     "text": [
      "Epoch [86/150], Training MAE: 0.2745, Training RMSE: 0.4088\n",
      "Epoch [86/150], Validation MAE: 0.2469, Validation RMSE: 0.3711\n"
     ]
    },
    {
     "name": "stderr",
     "output_type": "stream",
     "text": [
      "Epoch 87/150: 100%|██████████| 205/205 [00:16<00:00, 12.49batch/s, mae_loss=0.14] \n"
     ]
    },
    {
     "name": "stdout",
     "output_type": "stream",
     "text": [
      "Epoch [87/150], Training MAE: 0.2744, Training RMSE: 0.4089\n",
      "Epoch [87/150], Validation MAE: 0.2459, Validation RMSE: 0.3702\n"
     ]
    },
    {
     "name": "stderr",
     "output_type": "stream",
     "text": [
      "Epoch 88/150: 100%|██████████| 205/205 [00:16<00:00, 12.44batch/s, mae_loss=0.137]\n"
     ]
    },
    {
     "name": "stdout",
     "output_type": "stream",
     "text": [
      "Epoch [88/150], Training MAE: 0.2737, Training RMSE: 0.4078\n",
      "Epoch [88/150], Validation MAE: 0.2464, Validation RMSE: 0.3704\n"
     ]
    },
    {
     "name": "stderr",
     "output_type": "stream",
     "text": [
      "Epoch 89/150: 100%|██████████| 205/205 [00:15<00:00, 12.97batch/s, mae_loss=0.138]\n"
     ]
    },
    {
     "name": "stdout",
     "output_type": "stream",
     "text": [
      "Epoch [89/150], Training MAE: 0.2735, Training RMSE: 0.4079\n",
      "Epoch [89/150], Validation MAE: 0.2464, Validation RMSE: 0.3702\n"
     ]
    },
    {
     "name": "stderr",
     "output_type": "stream",
     "text": [
      "Epoch 90/150: 100%|██████████| 205/205 [00:15<00:00, 12.90batch/s, mae_loss=0.145]\n"
     ]
    },
    {
     "name": "stdout",
     "output_type": "stream",
     "text": [
      "Epoch [90/150], Training MAE: 0.2728, Training RMSE: 0.4073\n",
      "Epoch [90/150], Validation MAE: 0.2468, Validation RMSE: 0.3706\n"
     ]
    },
    {
     "name": "stderr",
     "output_type": "stream",
     "text": [
      "Epoch 91/150: 100%|██████████| 205/205 [00:16<00:00, 12.57batch/s, mae_loss=0.146]\n"
     ]
    },
    {
     "name": "stdout",
     "output_type": "stream",
     "text": [
      "Epoch [91/150], Training MAE: 0.2722, Training RMSE: 0.4060\n",
      "Epoch [91/150], Validation MAE: 0.2462, Validation RMSE: 0.3703\n"
     ]
    },
    {
     "name": "stderr",
     "output_type": "stream",
     "text": [
      "Epoch 92/150: 100%|██████████| 205/205 [00:15<00:00, 13.02batch/s, mae_loss=0.143]\n"
     ]
    },
    {
     "name": "stdout",
     "output_type": "stream",
     "text": [
      "Epoch [92/150], Training MAE: 0.2721, Training RMSE: 0.4058\n",
      "Epoch [92/150], Validation MAE: 0.2462, Validation RMSE: 0.3702\n"
     ]
    },
    {
     "name": "stderr",
     "output_type": "stream",
     "text": [
      "Epoch 93/150: 100%|██████████| 205/205 [00:15<00:00, 12.86batch/s, mae_loss=0.138]\n"
     ]
    },
    {
     "name": "stdout",
     "output_type": "stream",
     "text": [
      "Epoch [93/150], Training MAE: 0.2722, Training RMSE: 0.4064\n",
      "Epoch [93/150], Validation MAE: 0.2461, Validation RMSE: 0.3702\n"
     ]
    },
    {
     "name": "stderr",
     "output_type": "stream",
     "text": [
      "Epoch 94/150: 100%|██████████| 205/205 [00:16<00:00, 12.16batch/s, mae_loss=0.147]\n"
     ]
    },
    {
     "name": "stdout",
     "output_type": "stream",
     "text": [
      "Epoch [94/150], Training MAE: 0.2721, Training RMSE: 0.4066\n",
      "Epoch [94/150], Validation MAE: 0.2456, Validation RMSE: 0.3699\n"
     ]
    },
    {
     "name": "stderr",
     "output_type": "stream",
     "text": [
      "Epoch 95/150: 100%|██████████| 205/205 [00:15<00:00, 13.07batch/s, mae_loss=0.127]\n"
     ]
    },
    {
     "name": "stdout",
     "output_type": "stream",
     "text": [
      "Epoch [95/150], Training MAE: 0.2716, Training RMSE: 0.4058\n",
      "Epoch [95/150], Validation MAE: 0.2460, Validation RMSE: 0.3697\n"
     ]
    },
    {
     "name": "stderr",
     "output_type": "stream",
     "text": [
      "Epoch 96/150: 100%|██████████| 205/205 [00:15<00:00, 12.85batch/s, mae_loss=0.144]\n"
     ]
    },
    {
     "name": "stdout",
     "output_type": "stream",
     "text": [
      "Epoch [96/150], Training MAE: 0.2715, Training RMSE: 0.4055\n",
      "Epoch [96/150], Validation MAE: 0.2452, Validation RMSE: 0.3696\n"
     ]
    },
    {
     "name": "stderr",
     "output_type": "stream",
     "text": [
      "Epoch 97/150: 100%|██████████| 205/205 [00:16<00:00, 12.69batch/s, mae_loss=0.146]\n"
     ]
    },
    {
     "name": "stdout",
     "output_type": "stream",
     "text": [
      "Epoch [97/150], Training MAE: 0.2712, Training RMSE: 0.4054\n",
      "Epoch [97/150], Validation MAE: 0.2450, Validation RMSE: 0.3694\n"
     ]
    },
    {
     "name": "stderr",
     "output_type": "stream",
     "text": [
      "Epoch 98/150: 100%|██████████| 205/205 [00:16<00:00, 12.29batch/s, mae_loss=0.145]\n"
     ]
    },
    {
     "name": "stdout",
     "output_type": "stream",
     "text": [
      "Epoch [98/150], Training MAE: 0.2707, Training RMSE: 0.4046\n",
      "Epoch [98/150], Validation MAE: 0.2450, Validation RMSE: 0.3690\n"
     ]
    },
    {
     "name": "stderr",
     "output_type": "stream",
     "text": [
      "Epoch 99/150: 100%|██████████| 205/205 [00:15<00:00, 13.03batch/s, mae_loss=0.133]\n"
     ]
    },
    {
     "name": "stdout",
     "output_type": "stream",
     "text": [
      "Epoch [99/150], Training MAE: 0.2705, Training RMSE: 0.4043\n",
      "Epoch [99/150], Validation MAE: 0.2451, Validation RMSE: 0.3693\n"
     ]
    },
    {
     "name": "stderr",
     "output_type": "stream",
     "text": [
      "Epoch 100/150: 100%|██████████| 205/205 [00:15<00:00, 12.92batch/s, mae_loss=0.14] \n"
     ]
    },
    {
     "name": "stdout",
     "output_type": "stream",
     "text": [
      "Epoch [100/150], Training MAE: 0.2700, Training RMSE: 0.4039\n",
      "Epoch [100/150], Validation MAE: 0.2448, Validation RMSE: 0.3689\n"
     ]
    },
    {
     "name": "stderr",
     "output_type": "stream",
     "text": [
      "Epoch 101/150: 100%|██████████| 205/205 [00:15<00:00, 12.94batch/s, mae_loss=0.129]\n"
     ]
    },
    {
     "name": "stdout",
     "output_type": "stream",
     "text": [
      "Epoch [101/150], Training MAE: 0.2699, Training RMSE: 0.4040\n",
      "Epoch [101/150], Validation MAE: 0.2452, Validation RMSE: 0.3692\n"
     ]
    },
    {
     "name": "stderr",
     "output_type": "stream",
     "text": [
      "Epoch 102/150: 100%|██████████| 205/205 [00:16<00:00, 12.63batch/s, mae_loss=0.136]\n"
     ]
    },
    {
     "name": "stdout",
     "output_type": "stream",
     "text": [
      "Epoch [102/150], Training MAE: 0.2693, Training RMSE: 0.4033\n",
      "Epoch [102/150], Validation MAE: 0.2444, Validation RMSE: 0.3684\n"
     ]
    },
    {
     "name": "stderr",
     "output_type": "stream",
     "text": [
      "Epoch 103/150: 100%|██████████| 205/205 [00:16<00:00, 12.80batch/s, mae_loss=0.136]\n"
     ]
    },
    {
     "name": "stdout",
     "output_type": "stream",
     "text": [
      "Epoch [103/150], Training MAE: 0.2688, Training RMSE: 0.4027\n",
      "Epoch [103/150], Validation MAE: 0.2442, Validation RMSE: 0.3685\n"
     ]
    },
    {
     "name": "stderr",
     "output_type": "stream",
     "text": [
      "Epoch 104/150: 100%|██████████| 205/205 [00:16<00:00, 12.51batch/s, mae_loss=0.142]\n"
     ]
    },
    {
     "name": "stdout",
     "output_type": "stream",
     "text": [
      "Epoch [104/150], Training MAE: 0.2689, Training RMSE: 0.4029\n",
      "Epoch [104/150], Validation MAE: 0.2444, Validation RMSE: 0.3684\n"
     ]
    },
    {
     "name": "stderr",
     "output_type": "stream",
     "text": [
      "Epoch 105/150: 100%|██████████| 205/205 [00:16<00:00, 12.34batch/s, mae_loss=0.135]\n"
     ]
    },
    {
     "name": "stdout",
     "output_type": "stream",
     "text": [
      "Epoch [105/150], Training MAE: 0.2687, Training RMSE: 0.4023\n",
      "Epoch [105/150], Validation MAE: 0.2446, Validation RMSE: 0.3685\n"
     ]
    },
    {
     "name": "stderr",
     "output_type": "stream",
     "text": [
      "Epoch 106/150: 100%|██████████| 205/205 [00:15<00:00, 13.04batch/s, mae_loss=0.13] \n"
     ]
    },
    {
     "name": "stdout",
     "output_type": "stream",
     "text": [
      "Epoch [106/150], Training MAE: 0.2686, Training RMSE: 0.4026\n",
      "Epoch [106/150], Validation MAE: 0.2445, Validation RMSE: 0.3685\n"
     ]
    },
    {
     "name": "stderr",
     "output_type": "stream",
     "text": [
      "Epoch 107/150: 100%|██████████| 205/205 [00:15<00:00, 12.95batch/s, mae_loss=0.136]\n"
     ]
    },
    {
     "name": "stdout",
     "output_type": "stream",
     "text": [
      "Epoch [107/150], Training MAE: 0.2681, Training RMSE: 0.4017\n",
      "Epoch [107/150], Validation MAE: 0.2442, Validation RMSE: 0.3682\n"
     ]
    },
    {
     "name": "stderr",
     "output_type": "stream",
     "text": [
      "Epoch 108/150: 100%|██████████| 205/205 [00:16<00:00, 12.64batch/s, mae_loss=0.127]\n"
     ]
    },
    {
     "name": "stdout",
     "output_type": "stream",
     "text": [
      "Epoch [108/150], Training MAE: 0.2682, Training RMSE: 0.4019\n",
      "Epoch [108/150], Validation MAE: 0.2443, Validation RMSE: 0.3679\n"
     ]
    },
    {
     "name": "stderr",
     "output_type": "stream",
     "text": [
      "Epoch 109/150: 100%|██████████| 205/205 [00:16<00:00, 12.58batch/s, mae_loss=0.146]\n"
     ]
    },
    {
     "name": "stdout",
     "output_type": "stream",
     "text": [
      "Epoch [109/150], Training MAE: 0.2680, Training RMSE: 0.4013\n",
      "Epoch [109/150], Validation MAE: 0.2438, Validation RMSE: 0.3678\n"
     ]
    },
    {
     "name": "stderr",
     "output_type": "stream",
     "text": [
      "Epoch 110/150: 100%|██████████| 205/205 [00:15<00:00, 12.94batch/s, mae_loss=0.134]\n"
     ]
    },
    {
     "name": "stdout",
     "output_type": "stream",
     "text": [
      "Epoch [110/150], Training MAE: 0.2674, Training RMSE: 0.4010\n",
      "Epoch [110/150], Validation MAE: 0.2438, Validation RMSE: 0.3684\n"
     ]
    },
    {
     "name": "stderr",
     "output_type": "stream",
     "text": [
      "Epoch 111/150: 100%|██████████| 205/205 [00:16<00:00, 12.64batch/s, mae_loss=0.132]\n"
     ]
    },
    {
     "name": "stdout",
     "output_type": "stream",
     "text": [
      "Epoch [111/150], Training MAE: 0.2671, Training RMSE: 0.4010\n",
      "Epoch [111/150], Validation MAE: 0.2441, Validation RMSE: 0.3686\n"
     ]
    },
    {
     "name": "stderr",
     "output_type": "stream",
     "text": [
      "Epoch 112/150: 100%|██████████| 205/205 [00:15<00:00, 12.86batch/s, mae_loss=0.133]\n"
     ]
    },
    {
     "name": "stdout",
     "output_type": "stream",
     "text": [
      "Epoch [112/150], Training MAE: 0.2668, Training RMSE: 0.4005\n",
      "Epoch [112/150], Validation MAE: 0.2441, Validation RMSE: 0.3680\n"
     ]
    },
    {
     "name": "stderr",
     "output_type": "stream",
     "text": [
      "Epoch 113/150: 100%|██████████| 205/205 [00:16<00:00, 12.58batch/s, mae_loss=0.134]\n"
     ]
    },
    {
     "name": "stdout",
     "output_type": "stream",
     "text": [
      "Epoch [113/150], Training MAE: 0.2671, Training RMSE: 0.4002\n",
      "Epoch [113/150], Validation MAE: 0.2441, Validation RMSE: 0.3682\n"
     ]
    },
    {
     "name": "stderr",
     "output_type": "stream",
     "text": [
      "Epoch 114/150: 100%|██████████| 205/205 [00:16<00:00, 12.69batch/s, mae_loss=0.132]\n"
     ]
    },
    {
     "name": "stdout",
     "output_type": "stream",
     "text": [
      "Epoch [114/150], Training MAE: 0.2665, Training RMSE: 0.4002\n",
      "Epoch [114/150], Validation MAE: 0.2443, Validation RMSE: 0.3684\n"
     ]
    },
    {
     "name": "stderr",
     "output_type": "stream",
     "text": [
      "Epoch 115/150: 100%|██████████| 205/205 [00:15<00:00, 12.90batch/s, mae_loss=0.135]\n"
     ]
    },
    {
     "name": "stdout",
     "output_type": "stream",
     "text": [
      "Epoch [115/150], Training MAE: 0.2667, Training RMSE: 0.4005\n",
      "Epoch [115/150], Validation MAE: 0.2434, Validation RMSE: 0.3676\n"
     ]
    },
    {
     "name": "stderr",
     "output_type": "stream",
     "text": [
      "Epoch 116/150: 100%|██████████| 205/205 [00:15<00:00, 12.87batch/s, mae_loss=0.132]\n"
     ]
    },
    {
     "name": "stdout",
     "output_type": "stream",
     "text": [
      "Epoch [116/150], Training MAE: 0.2657, Training RMSE: 0.3994\n",
      "Epoch [116/150], Validation MAE: 0.2435, Validation RMSE: 0.3676\n"
     ]
    },
    {
     "name": "stderr",
     "output_type": "stream",
     "text": [
      "Epoch 117/150: 100%|██████████| 205/205 [00:16<00:00, 12.60batch/s, mae_loss=0.129]\n"
     ]
    },
    {
     "name": "stdout",
     "output_type": "stream",
     "text": [
      "Epoch [117/150], Training MAE: 0.2659, Training RMSE: 0.3994\n",
      "Epoch [117/150], Validation MAE: 0.2440, Validation RMSE: 0.3681\n"
     ]
    },
    {
     "name": "stderr",
     "output_type": "stream",
     "text": [
      "Epoch 118/150: 100%|██████████| 205/205 [00:16<00:00, 12.57batch/s, mae_loss=0.129]\n"
     ]
    },
    {
     "name": "stdout",
     "output_type": "stream",
     "text": [
      "Epoch [118/150], Training MAE: 0.2665, Training RMSE: 0.4001\n",
      "Epoch [118/150], Validation MAE: 0.2440, Validation RMSE: 0.3681\n"
     ]
    },
    {
     "name": "stderr",
     "output_type": "stream",
     "text": [
      "Epoch 119/150: 100%|██████████| 205/205 [00:15<00:00, 12.99batch/s, mae_loss=0.123]\n"
     ]
    },
    {
     "name": "stdout",
     "output_type": "stream",
     "text": [
      "Epoch [119/150], Training MAE: 0.2655, Training RMSE: 0.3991\n",
      "Epoch [119/150], Validation MAE: 0.2438, Validation RMSE: 0.3679\n"
     ]
    },
    {
     "name": "stderr",
     "output_type": "stream",
     "text": [
      "Epoch 120/150: 100%|██████████| 205/205 [00:16<00:00, 12.61batch/s, mae_loss=0.131]\n"
     ]
    },
    {
     "name": "stdout",
     "output_type": "stream",
     "text": [
      "Epoch [120/150], Training MAE: 0.2655, Training RMSE: 0.3986\n",
      "Epoch [120/150], Validation MAE: 0.2438, Validation RMSE: 0.3677\n"
     ]
    },
    {
     "name": "stderr",
     "output_type": "stream",
     "text": [
      "Epoch 121/150: 100%|██████████| 205/205 [00:15<00:00, 13.11batch/s, mae_loss=0.128]\n"
     ]
    },
    {
     "name": "stdout",
     "output_type": "stream",
     "text": [
      "Epoch [121/150], Training MAE: 0.2656, Training RMSE: 0.3992\n",
      "Epoch [121/150], Validation MAE: 0.2439, Validation RMSE: 0.3677\n"
     ]
    },
    {
     "name": "stderr",
     "output_type": "stream",
     "text": [
      "Epoch 122/150: 100%|██████████| 205/205 [00:15<00:00, 12.89batch/s, mae_loss=0.131]\n"
     ]
    },
    {
     "name": "stdout",
     "output_type": "stream",
     "text": [
      "Epoch [122/150], Training MAE: 0.2650, Training RMSE: 0.3986\n",
      "Epoch [122/150], Validation MAE: 0.2434, Validation RMSE: 0.3674\n"
     ]
    },
    {
     "name": "stderr",
     "output_type": "stream",
     "text": [
      "Epoch 123/150: 100%|██████████| 205/205 [00:15<00:00, 12.82batch/s, mae_loss=0.131]\n"
     ]
    },
    {
     "name": "stdout",
     "output_type": "stream",
     "text": [
      "Epoch [123/150], Training MAE: 0.2655, Training RMSE: 0.3990\n",
      "Epoch [123/150], Validation MAE: 0.2439, Validation RMSE: 0.3675\n"
     ]
    },
    {
     "name": "stderr",
     "output_type": "stream",
     "text": [
      "Epoch 124/150: 100%|██████████| 205/205 [00:16<00:00, 12.66batch/s, mae_loss=0.13] \n"
     ]
    },
    {
     "name": "stdout",
     "output_type": "stream",
     "text": [
      "Epoch [124/150], Training MAE: 0.2649, Training RMSE: 0.3980\n",
      "Epoch [124/150], Validation MAE: 0.2435, Validation RMSE: 0.3676\n"
     ]
    },
    {
     "name": "stderr",
     "output_type": "stream",
     "text": [
      "Epoch 125/150: 100%|██████████| 205/205 [00:16<00:00, 12.59batch/s, mae_loss=0.13] \n"
     ]
    },
    {
     "name": "stdout",
     "output_type": "stream",
     "text": [
      "Epoch [125/150], Training MAE: 0.2646, Training RMSE: 0.3979\n",
      "Epoch [125/150], Validation MAE: 0.2436, Validation RMSE: 0.3676\n"
     ]
    },
    {
     "name": "stderr",
     "output_type": "stream",
     "text": [
      "Epoch 126/150: 100%|██████████| 205/205 [00:15<00:00, 13.08batch/s, mae_loss=0.138]\n"
     ]
    },
    {
     "name": "stdout",
     "output_type": "stream",
     "text": [
      "Epoch [126/150], Training MAE: 0.2643, Training RMSE: 0.3978\n",
      "Epoch [126/150], Validation MAE: 0.2434, Validation RMSE: 0.3675\n"
     ]
    },
    {
     "name": "stderr",
     "output_type": "stream",
     "text": [
      "Epoch 127/150: 100%|██████████| 205/205 [00:15<00:00, 13.00batch/s, mae_loss=0.136]\n"
     ]
    },
    {
     "name": "stdout",
     "output_type": "stream",
     "text": [
      "Epoch [127/150], Training MAE: 0.2647, Training RMSE: 0.3982\n",
      "Epoch [127/150], Validation MAE: 0.2430, Validation RMSE: 0.3672\n"
     ]
    },
    {
     "name": "stderr",
     "output_type": "stream",
     "text": [
      "Epoch 128/150: 100%|██████████| 205/205 [00:16<00:00, 12.32batch/s, mae_loss=0.132]\n"
     ]
    },
    {
     "name": "stdout",
     "output_type": "stream",
     "text": [
      "Epoch [128/150], Training MAE: 0.2643, Training RMSE: 0.3979\n",
      "Epoch [128/150], Validation MAE: 0.2428, Validation RMSE: 0.3672\n"
     ]
    },
    {
     "name": "stderr",
     "output_type": "stream",
     "text": [
      "Epoch 129/150: 100%|██████████| 205/205 [00:16<00:00, 12.72batch/s, mae_loss=0.129]\n"
     ]
    },
    {
     "name": "stdout",
     "output_type": "stream",
     "text": [
      "Epoch [129/150], Training MAE: 0.2641, Training RMSE: 0.3974\n",
      "Epoch [129/150], Validation MAE: 0.2425, Validation RMSE: 0.3667\n"
     ]
    },
    {
     "name": "stderr",
     "output_type": "stream",
     "text": [
      "Epoch 130/150: 100%|██████████| 205/205 [00:15<00:00, 13.05batch/s, mae_loss=0.129]\n"
     ]
    },
    {
     "name": "stdout",
     "output_type": "stream",
     "text": [
      "Epoch [130/150], Training MAE: 0.2632, Training RMSE: 0.3965\n",
      "Epoch [130/150], Validation MAE: 0.2427, Validation RMSE: 0.3669\n"
     ]
    },
    {
     "name": "stderr",
     "output_type": "stream",
     "text": [
      "Epoch 131/150: 100%|██████████| 205/205 [00:16<00:00, 12.41batch/s, mae_loss=0.139]\n"
     ]
    },
    {
     "name": "stdout",
     "output_type": "stream",
     "text": [
      "Epoch [131/150], Training MAE: 0.2638, Training RMSE: 0.3970\n",
      "Epoch [131/150], Validation MAE: 0.2427, Validation RMSE: 0.3670\n"
     ]
    },
    {
     "name": "stderr",
     "output_type": "stream",
     "text": [
      "Epoch 132/150: 100%|██████████| 205/205 [00:15<00:00, 12.90batch/s, mae_loss=0.133]\n"
     ]
    },
    {
     "name": "stdout",
     "output_type": "stream",
     "text": [
      "Epoch [132/150], Training MAE: 0.2635, Training RMSE: 0.3966\n",
      "Epoch [132/150], Validation MAE: 0.2429, Validation RMSE: 0.3668\n"
     ]
    },
    {
     "name": "stderr",
     "output_type": "stream",
     "text": [
      "Epoch 133/150: 100%|██████████| 205/205 [00:15<00:00, 12.99batch/s, mae_loss=0.132]\n"
     ]
    },
    {
     "name": "stdout",
     "output_type": "stream",
     "text": [
      "Epoch [133/150], Training MAE: 0.2633, Training RMSE: 0.3970\n",
      "Epoch [133/150], Validation MAE: 0.2423, Validation RMSE: 0.3670\n"
     ]
    },
    {
     "name": "stderr",
     "output_type": "stream",
     "text": [
      "Epoch 134/150: 100%|██████████| 205/205 [00:15<00:00, 12.83batch/s, mae_loss=0.135]\n"
     ]
    },
    {
     "name": "stdout",
     "output_type": "stream",
     "text": [
      "Epoch [134/150], Training MAE: 0.2627, Training RMSE: 0.3956\n",
      "Epoch [134/150], Validation MAE: 0.2430, Validation RMSE: 0.3674\n"
     ]
    },
    {
     "name": "stderr",
     "output_type": "stream",
     "text": [
      "Epoch 135/150: 100%|██████████| 205/205 [00:16<00:00, 12.51batch/s, mae_loss=0.134]\n"
     ]
    },
    {
     "name": "stdout",
     "output_type": "stream",
     "text": [
      "Epoch [135/150], Training MAE: 0.2633, Training RMSE: 0.3965\n",
      "Epoch [135/150], Validation MAE: 0.2424, Validation RMSE: 0.3671\n"
     ]
    },
    {
     "name": "stderr",
     "output_type": "stream",
     "text": [
      "Epoch 136/150: 100%|██████████| 205/205 [00:15<00:00, 13.01batch/s, mae_loss=0.133]\n"
     ]
    },
    {
     "name": "stdout",
     "output_type": "stream",
     "text": [
      "Epoch [136/150], Training MAE: 0.2627, Training RMSE: 0.3960\n",
      "Epoch [136/150], Validation MAE: 0.2425, Validation RMSE: 0.3669\n"
     ]
    },
    {
     "name": "stderr",
     "output_type": "stream",
     "text": [
      "Epoch 137/150: 100%|██████████| 205/205 [00:15<00:00, 13.05batch/s, mae_loss=0.125]\n"
     ]
    },
    {
     "name": "stdout",
     "output_type": "stream",
     "text": [
      "Epoch [137/150], Training MAE: 0.2629, Training RMSE: 0.3960\n",
      "Epoch [137/150], Validation MAE: 0.2425, Validation RMSE: 0.3668\n"
     ]
    },
    {
     "name": "stderr",
     "output_type": "stream",
     "text": [
      "Epoch 138/150: 100%|██████████| 205/205 [00:15<00:00, 13.00batch/s, mae_loss=0.125]\n"
     ]
    },
    {
     "name": "stdout",
     "output_type": "stream",
     "text": [
      "Epoch [138/150], Training MAE: 0.2620, Training RMSE: 0.3950\n",
      "Epoch [138/150], Validation MAE: 0.2419, Validation RMSE: 0.3666\n"
     ]
    },
    {
     "name": "stderr",
     "output_type": "stream",
     "text": [
      "Epoch 139/150: 100%|██████████| 205/205 [00:16<00:00, 12.40batch/s, mae_loss=0.132]\n"
     ]
    },
    {
     "name": "stdout",
     "output_type": "stream",
     "text": [
      "Epoch [139/150], Training MAE: 0.2618, Training RMSE: 0.3949\n",
      "Epoch [139/150], Validation MAE: 0.2421, Validation RMSE: 0.3666\n"
     ]
    },
    {
     "name": "stderr",
     "output_type": "stream",
     "text": [
      "Epoch 140/150: 100%|██████████| 205/205 [00:15<00:00, 13.02batch/s, mae_loss=0.132]\n"
     ]
    },
    {
     "name": "stdout",
     "output_type": "stream",
     "text": [
      "Epoch [140/150], Training MAE: 0.2625, Training RMSE: 0.3959\n",
      "Epoch [140/150], Validation MAE: 0.2426, Validation RMSE: 0.3670\n"
     ]
    },
    {
     "name": "stderr",
     "output_type": "stream",
     "text": [
      "Epoch 141/150: 100%|██████████| 205/205 [00:15<00:00, 13.06batch/s, mae_loss=0.136]\n"
     ]
    },
    {
     "name": "stdout",
     "output_type": "stream",
     "text": [
      "Epoch [141/150], Training MAE: 0.2620, Training RMSE: 0.3952\n",
      "Epoch [141/150], Validation MAE: 0.2420, Validation RMSE: 0.3665\n"
     ]
    },
    {
     "name": "stderr",
     "output_type": "stream",
     "text": [
      "Epoch 142/150: 100%|██████████| 205/205 [00:16<00:00, 12.49batch/s, mae_loss=0.133]\n"
     ]
    },
    {
     "name": "stdout",
     "output_type": "stream",
     "text": [
      "Epoch [142/150], Training MAE: 0.2618, Training RMSE: 0.3952\n",
      "Epoch [142/150], Validation MAE: 0.2420, Validation RMSE: 0.3665\n"
     ]
    },
    {
     "name": "stderr",
     "output_type": "stream",
     "text": [
      "Epoch 143/150: 100%|██████████| 205/205 [00:15<00:00, 12.83batch/s, mae_loss=0.128]\n"
     ]
    },
    {
     "name": "stdout",
     "output_type": "stream",
     "text": [
      "Epoch [143/150], Training MAE: 0.2616, Training RMSE: 0.3946\n",
      "Epoch [143/150], Validation MAE: 0.2421, Validation RMSE: 0.3667\n"
     ]
    },
    {
     "name": "stderr",
     "output_type": "stream",
     "text": [
      "Epoch 144/150: 100%|██████████| 205/205 [00:15<00:00, 13.01batch/s, mae_loss=0.125]\n"
     ]
    },
    {
     "name": "stdout",
     "output_type": "stream",
     "text": [
      "Epoch [144/150], Training MAE: 0.2614, Training RMSE: 0.3948\n",
      "Epoch [144/150], Validation MAE: 0.2420, Validation RMSE: 0.3665\n"
     ]
    },
    {
     "name": "stderr",
     "output_type": "stream",
     "text": [
      "Epoch 145/150: 100%|██████████| 205/205 [00:16<00:00, 12.59batch/s, mae_loss=0.132]\n"
     ]
    },
    {
     "name": "stdout",
     "output_type": "stream",
     "text": [
      "Epoch [145/150], Training MAE: 0.2613, Training RMSE: 0.3943\n",
      "Epoch [145/150], Validation MAE: 0.2425, Validation RMSE: 0.3668\n"
     ]
    },
    {
     "name": "stderr",
     "output_type": "stream",
     "text": [
      "Epoch 146/150: 100%|██████████| 205/205 [00:16<00:00, 12.74batch/s, mae_loss=0.126]\n"
     ]
    },
    {
     "name": "stdout",
     "output_type": "stream",
     "text": [
      "Epoch [146/150], Training MAE: 0.2614, Training RMSE: 0.3947\n",
      "Epoch [146/150], Validation MAE: 0.2420, Validation RMSE: 0.3665\n"
     ]
    },
    {
     "name": "stderr",
     "output_type": "stream",
     "text": [
      "Epoch 147/150: 100%|██████████| 205/205 [00:15<00:00, 12.95batch/s, mae_loss=0.124]\n"
     ]
    },
    {
     "name": "stdout",
     "output_type": "stream",
     "text": [
      "Epoch [147/150], Training MAE: 0.2611, Training RMSE: 0.3938\n",
      "Epoch [147/150], Validation MAE: 0.2413, Validation RMSE: 0.3660\n"
     ]
    },
    {
     "name": "stderr",
     "output_type": "stream",
     "text": [
      "Epoch 148/150: 100%|██████████| 205/205 [00:16<00:00, 12.77batch/s, mae_loss=0.128]\n"
     ]
    },
    {
     "name": "stdout",
     "output_type": "stream",
     "text": [
      "Epoch [148/150], Training MAE: 0.2607, Training RMSE: 0.3940\n",
      "Epoch [148/150], Validation MAE: 0.2418, Validation RMSE: 0.3665\n"
     ]
    },
    {
     "name": "stderr",
     "output_type": "stream",
     "text": [
      "Epoch 149/150: 100%|██████████| 205/205 [00:16<00:00, 12.48batch/s, mae_loss=0.127]\n"
     ]
    },
    {
     "name": "stdout",
     "output_type": "stream",
     "text": [
      "Epoch [149/150], Training MAE: 0.2606, Training RMSE: 0.3937\n",
      "Epoch [149/150], Validation MAE: 0.2418, Validation RMSE: 0.3663\n"
     ]
    },
    {
     "name": "stderr",
     "output_type": "stream",
     "text": [
      "Epoch 150/150: 100%|██████████| 205/205 [00:16<00:00, 12.44batch/s, mae_loss=0.129]\n"
     ]
    },
    {
     "name": "stdout",
     "output_type": "stream",
     "text": [
      "Epoch [150/150], Training MAE: 0.2601, Training RMSE: 0.3932\n",
      "Epoch [150/150], Validation MAE: 0.2421, Validation RMSE: 0.3664\n",
      "End Prediction Horizon of 6 of shared-layer Model\n",
      "model_shared-layer_attention_6_7 saved\n",
      "Shape of X (features): (9, 13092, 12)\n",
      "Shape of y (targets): (9, 13092)\n",
      "Shape of X_test (features): (9, 3933, 12)\n",
      "Shape of y_test (targets): (9, 3933)\n"
     ]
    },
    {
     "name": "stderr",
     "output_type": "stream",
     "text": [
      "Epoch 1/150: 100%|██████████| 205/205 [00:17<00:00, 11.51batch/s, mae_loss=0.544]\n"
     ]
    },
    {
     "name": "stdout",
     "output_type": "stream",
     "text": [
      "Epoch [1/150], Training MAE: 0.7167, Training RMSE: 0.9308\n",
      "Epoch [1/150], Validation MAE: 0.5413, Validation RMSE: 0.7887\n"
     ]
    },
    {
     "name": "stderr",
     "output_type": "stream",
     "text": [
      "Epoch 2/150: 100%|██████████| 205/205 [00:17<00:00, 11.61batch/s, mae_loss=0.497]\n"
     ]
    },
    {
     "name": "stdout",
     "output_type": "stream",
     "text": [
      "Epoch [2/150], Training MAE: 0.6729, Training RMSE: 0.8792\n",
      "Epoch [2/150], Validation MAE: 0.5082, Validation RMSE: 0.7414\n"
     ]
    },
    {
     "name": "stderr",
     "output_type": "stream",
     "text": [
      "Epoch 3/150: 100%|██████████| 205/205 [00:18<00:00, 11.22batch/s, mae_loss=0.431]\n"
     ]
    },
    {
     "name": "stdout",
     "output_type": "stream",
     "text": [
      "Epoch [3/150], Training MAE: 0.6265, Training RMSE: 0.8219\n",
      "Epoch [3/150], Validation MAE: 0.4692, Validation RMSE: 0.6848\n"
     ]
    },
    {
     "name": "stderr",
     "output_type": "stream",
     "text": [
      "Epoch 4/150: 100%|██████████| 205/205 [00:17<00:00, 11.76batch/s, mae_loss=0.366]\n"
     ]
    },
    {
     "name": "stdout",
     "output_type": "stream",
     "text": [
      "Epoch [4/150], Training MAE: 0.5727, Training RMSE: 0.7568\n",
      "Epoch [4/150], Validation MAE: 0.4283, Validation RMSE: 0.6232\n"
     ]
    },
    {
     "name": "stderr",
     "output_type": "stream",
     "text": [
      "Epoch 5/150: 100%|██████████| 205/205 [00:18<00:00, 11.21batch/s, mae_loss=0.299]\n"
     ]
    },
    {
     "name": "stdout",
     "output_type": "stream",
     "text": [
      "Epoch [5/150], Training MAE: 0.5207, Training RMSE: 0.6961\n",
      "Epoch [5/150], Validation MAE: 0.3936, Validation RMSE: 0.5706\n"
     ]
    },
    {
     "name": "stderr",
     "output_type": "stream",
     "text": [
      "Epoch 6/150: 100%|██████████| 205/205 [00:17<00:00, 11.70batch/s, mae_loss=0.262]\n"
     ]
    },
    {
     "name": "stdout",
     "output_type": "stream",
     "text": [
      "Epoch [6/150], Training MAE: 0.4834, Training RMSE: 0.6540\n",
      "Epoch [6/150], Validation MAE: 0.3678, Validation RMSE: 0.5329\n"
     ]
    },
    {
     "name": "stderr",
     "output_type": "stream",
     "text": [
      "Epoch 7/150: 100%|██████████| 205/205 [00:18<00:00, 11.34batch/s, mae_loss=0.227]\n"
     ]
    },
    {
     "name": "stdout",
     "output_type": "stream",
     "text": [
      "Epoch [7/150], Training MAE: 0.4577, Training RMSE: 0.6257\n",
      "Epoch [7/150], Validation MAE: 0.3488, Validation RMSE: 0.5085\n"
     ]
    },
    {
     "name": "stderr",
     "output_type": "stream",
     "text": [
      "Epoch 8/150: 100%|██████████| 205/205 [00:18<00:00, 11.15batch/s, mae_loss=0.223]\n"
     ]
    },
    {
     "name": "stdout",
     "output_type": "stream",
     "text": [
      "Epoch [8/150], Training MAE: 0.4412, Training RMSE: 0.6082\n",
      "Epoch [8/150], Validation MAE: 0.3345, Validation RMSE: 0.4927\n"
     ]
    },
    {
     "name": "stderr",
     "output_type": "stream",
     "text": [
      "Epoch 9/150: 100%|██████████| 205/205 [00:17<00:00, 11.74batch/s, mae_loss=0.215]\n"
     ]
    },
    {
     "name": "stdout",
     "output_type": "stream",
     "text": [
      "Epoch [9/150], Training MAE: 0.4293, Training RMSE: 0.5950\n",
      "Epoch [9/150], Validation MAE: 0.3243, Validation RMSE: 0.4817\n"
     ]
    },
    {
     "name": "stderr",
     "output_type": "stream",
     "text": [
      "Epoch 10/150: 100%|██████████| 205/205 [00:17<00:00, 11.41batch/s, mae_loss=0.201]\n"
     ]
    },
    {
     "name": "stdout",
     "output_type": "stream",
     "text": [
      "Epoch [10/150], Training MAE: 0.4199, Training RMSE: 0.5849\n",
      "Epoch [10/150], Validation MAE: 0.3161, Validation RMSE: 0.4722\n"
     ]
    },
    {
     "name": "stderr",
     "output_type": "stream",
     "text": [
      "Epoch 11/150: 100%|██████████| 205/205 [00:17<00:00, 11.39batch/s, mae_loss=0.204]\n"
     ]
    },
    {
     "name": "stdout",
     "output_type": "stream",
     "text": [
      "Epoch [11/150], Training MAE: 0.4122, Training RMSE: 0.5749\n",
      "Epoch [11/150], Validation MAE: 0.3089, Validation RMSE: 0.4633\n"
     ]
    },
    {
     "name": "stderr",
     "output_type": "stream",
     "text": [
      "Epoch 12/150: 100%|██████████| 205/205 [00:17<00:00, 11.74batch/s, mae_loss=0.208]\n"
     ]
    },
    {
     "name": "stdout",
     "output_type": "stream",
     "text": [
      "Epoch [12/150], Training MAE: 0.4041, Training RMSE: 0.5654\n",
      "Epoch [12/150], Validation MAE: 0.3023, Validation RMSE: 0.4545\n"
     ]
    },
    {
     "name": "stderr",
     "output_type": "stream",
     "text": [
      "Epoch 13/150: 100%|██████████| 205/205 [00:18<00:00, 11.22batch/s, mae_loss=0.196]\n"
     ]
    },
    {
     "name": "stdout",
     "output_type": "stream",
     "text": [
      "Epoch [13/150], Training MAE: 0.3957, Training RMSE: 0.5547\n",
      "Epoch [13/150], Validation MAE: 0.2955, Validation RMSE: 0.4452\n"
     ]
    },
    {
     "name": "stderr",
     "output_type": "stream",
     "text": [
      "Epoch 14/150: 100%|██████████| 205/205 [00:17<00:00, 11.47batch/s, mae_loss=0.202]\n"
     ]
    },
    {
     "name": "stdout",
     "output_type": "stream",
     "text": [
      "Epoch [14/150], Training MAE: 0.3882, Training RMSE: 0.5455\n",
      "Epoch [14/150], Validation MAE: 0.2887, Validation RMSE: 0.4360\n"
     ]
    },
    {
     "name": "stderr",
     "output_type": "stream",
     "text": [
      "Epoch 15/150: 100%|██████████| 205/205 [00:17<00:00, 11.63batch/s, mae_loss=0.201]\n"
     ]
    },
    {
     "name": "stdout",
     "output_type": "stream",
     "text": [
      "Epoch [15/150], Training MAE: 0.3805, Training RMSE: 0.5360\n",
      "Epoch [15/150], Validation MAE: 0.2829, Validation RMSE: 0.4277\n"
     ]
    },
    {
     "name": "stderr",
     "output_type": "stream",
     "text": [
      "Epoch 16/150: 100%|██████████| 205/205 [00:17<00:00, 11.47batch/s, mae_loss=0.189]\n"
     ]
    },
    {
     "name": "stdout",
     "output_type": "stream",
     "text": [
      "Epoch [16/150], Training MAE: 0.3719, Training RMSE: 0.5256\n",
      "Epoch [16/150], Validation MAE: 0.2774, Validation RMSE: 0.4192\n"
     ]
    },
    {
     "name": "stderr",
     "output_type": "stream",
     "text": [
      "Epoch 17/150: 100%|██████████| 205/205 [00:17<00:00, 11.47batch/s, mae_loss=0.189]\n"
     ]
    },
    {
     "name": "stdout",
     "output_type": "stream",
     "text": [
      "Epoch [17/150], Training MAE: 0.3651, Training RMSE: 0.5173\n",
      "Epoch [17/150], Validation MAE: 0.2721, Validation RMSE: 0.4112\n"
     ]
    },
    {
     "name": "stderr",
     "output_type": "stream",
     "text": [
      "Epoch 18/150: 100%|██████████| 205/205 [00:17<00:00, 11.70batch/s, mae_loss=0.196]\n"
     ]
    },
    {
     "name": "stdout",
     "output_type": "stream",
     "text": [
      "Epoch [18/150], Training MAE: 0.3594, Training RMSE: 0.5096\n",
      "Epoch [18/150], Validation MAE: 0.2668, Validation RMSE: 0.4038\n"
     ]
    },
    {
     "name": "stderr",
     "output_type": "stream",
     "text": [
      "Epoch 19/150: 100%|██████████| 205/205 [00:17<00:00, 11.60batch/s, mae_loss=0.198]\n"
     ]
    },
    {
     "name": "stdout",
     "output_type": "stream",
     "text": [
      "Epoch [19/150], Training MAE: 0.3530, Training RMSE: 0.5020\n",
      "Epoch [19/150], Validation MAE: 0.2624, Validation RMSE: 0.3970\n"
     ]
    },
    {
     "name": "stderr",
     "output_type": "stream",
     "text": [
      "Epoch 20/150: 100%|██████████| 205/205 [00:18<00:00, 11.04batch/s, mae_loss=0.192]\n"
     ]
    },
    {
     "name": "stdout",
     "output_type": "stream",
     "text": [
      "Epoch [20/150], Training MAE: 0.3468, Training RMSE: 0.4943\n",
      "Epoch [20/150], Validation MAE: 0.2580, Validation RMSE: 0.3910\n"
     ]
    },
    {
     "name": "stderr",
     "output_type": "stream",
     "text": [
      "Epoch 21/150: 100%|██████████| 205/205 [00:17<00:00, 11.61batch/s, mae_loss=0.193]\n"
     ]
    },
    {
     "name": "stdout",
     "output_type": "stream",
     "text": [
      "Epoch [21/150], Training MAE: 0.3428, Training RMSE: 0.4889\n",
      "Epoch [21/150], Validation MAE: 0.2530, Validation RMSE: 0.3849\n"
     ]
    },
    {
     "name": "stderr",
     "output_type": "stream",
     "text": [
      "Epoch 22/150: 100%|██████████| 205/205 [00:17<00:00, 11.41batch/s, mae_loss=0.188]\n"
     ]
    },
    {
     "name": "stdout",
     "output_type": "stream",
     "text": [
      "Epoch [22/150], Training MAE: 0.3388, Training RMSE: 0.4837\n",
      "Epoch [22/150], Validation MAE: 0.2492, Validation RMSE: 0.3800\n"
     ]
    },
    {
     "name": "stderr",
     "output_type": "stream",
     "text": [
      "Epoch 23/150: 100%|██████████| 205/205 [00:18<00:00, 10.95batch/s, mae_loss=0.176]\n"
     ]
    },
    {
     "name": "stdout",
     "output_type": "stream",
     "text": [
      "Epoch [23/150], Training MAE: 0.3341, Training RMSE: 0.4780\n",
      "Epoch [23/150], Validation MAE: 0.2462, Validation RMSE: 0.3754\n"
     ]
    },
    {
     "name": "stderr",
     "output_type": "stream",
     "text": [
      "Epoch 24/150: 100%|██████████| 205/205 [00:17<00:00, 11.70batch/s, mae_loss=0.173]\n"
     ]
    },
    {
     "name": "stdout",
     "output_type": "stream",
     "text": [
      "Epoch [24/150], Training MAE: 0.3314, Training RMSE: 0.4742\n",
      "Epoch [24/150], Validation MAE: 0.2423, Validation RMSE: 0.3713\n"
     ]
    },
    {
     "name": "stderr",
     "output_type": "stream",
     "text": [
      "Epoch 25/150: 100%|██████████| 205/205 [00:17<00:00, 11.65batch/s, mae_loss=0.18] \n"
     ]
    },
    {
     "name": "stdout",
     "output_type": "stream",
     "text": [
      "Epoch [25/150], Training MAE: 0.3265, Training RMSE: 0.4685\n",
      "Epoch [25/150], Validation MAE: 0.2387, Validation RMSE: 0.3676\n"
     ]
    },
    {
     "name": "stderr",
     "output_type": "stream",
     "text": [
      "Epoch 26/150: 100%|██████████| 205/205 [00:18<00:00, 10.99batch/s, mae_loss=0.18] \n"
     ]
    },
    {
     "name": "stdout",
     "output_type": "stream",
     "text": [
      "Epoch [26/150], Training MAE: 0.3237, Training RMSE: 0.4649\n",
      "Epoch [26/150], Validation MAE: 0.2365, Validation RMSE: 0.3647\n"
     ]
    },
    {
     "name": "stderr",
     "output_type": "stream",
     "text": [
      "Epoch 27/150: 100%|██████████| 205/205 [00:17<00:00, 11.64batch/s, mae_loss=0.176]\n"
     ]
    },
    {
     "name": "stdout",
     "output_type": "stream",
     "text": [
      "Epoch [27/150], Training MAE: 0.3208, Training RMSE: 0.4618\n",
      "Epoch [27/150], Validation MAE: 0.2335, Validation RMSE: 0.3611\n"
     ]
    },
    {
     "name": "stderr",
     "output_type": "stream",
     "text": [
      "Epoch 28/150: 100%|██████████| 205/205 [00:18<00:00, 11.16batch/s, mae_loss=0.174]\n"
     ]
    },
    {
     "name": "stdout",
     "output_type": "stream",
     "text": [
      "Epoch [28/150], Training MAE: 0.3188, Training RMSE: 0.4590\n",
      "Epoch [28/150], Validation MAE: 0.2311, Validation RMSE: 0.3586\n"
     ]
    },
    {
     "name": "stderr",
     "output_type": "stream",
     "text": [
      "Epoch 29/150: 100%|██████████| 205/205 [00:17<00:00, 11.45batch/s, mae_loss=0.173]\n"
     ]
    },
    {
     "name": "stdout",
     "output_type": "stream",
     "text": [
      "Epoch [29/150], Training MAE: 0.3154, Training RMSE: 0.4550\n",
      "Epoch [29/150], Validation MAE: 0.2293, Validation RMSE: 0.3562\n"
     ]
    },
    {
     "name": "stderr",
     "output_type": "stream",
     "text": [
      "Epoch 30/150: 100%|██████████| 205/205 [00:17<00:00, 11.58batch/s, mae_loss=0.169]\n"
     ]
    },
    {
     "name": "stdout",
     "output_type": "stream",
     "text": [
      "Epoch [30/150], Training MAE: 0.3147, Training RMSE: 0.4541\n",
      "Epoch [30/150], Validation MAE: 0.2273, Validation RMSE: 0.3542\n"
     ]
    },
    {
     "name": "stderr",
     "output_type": "stream",
     "text": [
      "Epoch 31/150: 100%|██████████| 205/205 [00:18<00:00, 11.30batch/s, mae_loss=0.157]\n"
     ]
    },
    {
     "name": "stdout",
     "output_type": "stream",
     "text": [
      "Epoch [31/150], Training MAE: 0.3114, Training RMSE: 0.4503\n",
      "Epoch [31/150], Validation MAE: 0.2252, Validation RMSE: 0.3518\n"
     ]
    },
    {
     "name": "stderr",
     "output_type": "stream",
     "text": [
      "Epoch 32/150: 100%|██████████| 205/205 [00:17<00:00, 11.75batch/s, mae_loss=0.153]\n"
     ]
    },
    {
     "name": "stdout",
     "output_type": "stream",
     "text": [
      "Epoch [32/150], Training MAE: 0.3094, Training RMSE: 0.4483\n",
      "Epoch [32/150], Validation MAE: 0.2236, Validation RMSE: 0.3505\n"
     ]
    },
    {
     "name": "stderr",
     "output_type": "stream",
     "text": [
      "Epoch 33/150: 100%|██████████| 205/205 [00:18<00:00, 11.34batch/s, mae_loss=0.144]\n"
     ]
    },
    {
     "name": "stdout",
     "output_type": "stream",
     "text": [
      "Epoch [33/150], Training MAE: 0.3076, Training RMSE: 0.4458\n",
      "Epoch [33/150], Validation MAE: 0.2217, Validation RMSE: 0.3492\n"
     ]
    },
    {
     "name": "stderr",
     "output_type": "stream",
     "text": [
      "Epoch 34/150: 100%|██████████| 205/205 [00:17<00:00, 11.74batch/s, mae_loss=0.152]\n"
     ]
    },
    {
     "name": "stdout",
     "output_type": "stream",
     "text": [
      "Epoch [34/150], Training MAE: 0.3056, Training RMSE: 0.4429\n",
      "Epoch [34/150], Validation MAE: 0.2213, Validation RMSE: 0.3474\n"
     ]
    },
    {
     "name": "stderr",
     "output_type": "stream",
     "text": [
      "Epoch 35/150: 100%|██████████| 205/205 [00:18<00:00, 11.35batch/s, mae_loss=0.157]\n"
     ]
    },
    {
     "name": "stdout",
     "output_type": "stream",
     "text": [
      "Epoch [35/150], Training MAE: 0.3048, Training RMSE: 0.4426\n",
      "Epoch [35/150], Validation MAE: 0.2194, Validation RMSE: 0.3460\n"
     ]
    },
    {
     "name": "stderr",
     "output_type": "stream",
     "text": [
      "Epoch 36/150: 100%|██████████| 205/205 [00:18<00:00, 11.36batch/s, mae_loss=0.148]\n"
     ]
    },
    {
     "name": "stdout",
     "output_type": "stream",
     "text": [
      "Epoch [36/150], Training MAE: 0.3033, Training RMSE: 0.4410\n",
      "Epoch [36/150], Validation MAE: 0.2185, Validation RMSE: 0.3448\n"
     ]
    },
    {
     "name": "stderr",
     "output_type": "stream",
     "text": [
      "Epoch 37/150: 100%|██████████| 205/205 [00:17<00:00, 11.46batch/s, mae_loss=0.158]\n"
     ]
    },
    {
     "name": "stdout",
     "output_type": "stream",
     "text": [
      "Epoch [37/150], Training MAE: 0.3021, Training RMSE: 0.4393\n",
      "Epoch [37/150], Validation MAE: 0.2171, Validation RMSE: 0.3439\n"
     ]
    },
    {
     "name": "stderr",
     "output_type": "stream",
     "text": [
      "Epoch 38/150: 100%|██████████| 205/205 [00:18<00:00, 11.37batch/s, mae_loss=0.161]\n"
     ]
    },
    {
     "name": "stdout",
     "output_type": "stream",
     "text": [
      "Epoch [38/150], Training MAE: 0.3005, Training RMSE: 0.4378\n",
      "Epoch [38/150], Validation MAE: 0.2161, Validation RMSE: 0.3428\n"
     ]
    },
    {
     "name": "stderr",
     "output_type": "stream",
     "text": [
      "Epoch 39/150: 100%|██████████| 205/205 [00:17<00:00, 11.48batch/s, mae_loss=0.148]\n"
     ]
    },
    {
     "name": "stdout",
     "output_type": "stream",
     "text": [
      "Epoch [39/150], Training MAE: 0.2983, Training RMSE: 0.4352\n",
      "Epoch [39/150], Validation MAE: 0.2150, Validation RMSE: 0.3421\n"
     ]
    },
    {
     "name": "stderr",
     "output_type": "stream",
     "text": [
      "Epoch 40/150: 100%|██████████| 205/205 [00:19<00:00, 10.77batch/s, mae_loss=0.154]\n"
     ]
    },
    {
     "name": "stdout",
     "output_type": "stream",
     "text": [
      "Epoch [40/150], Training MAE: 0.2971, Training RMSE: 0.4336\n",
      "Epoch [40/150], Validation MAE: 0.2144, Validation RMSE: 0.3411\n"
     ]
    },
    {
     "name": "stderr",
     "output_type": "stream",
     "text": [
      "Epoch 41/150: 100%|██████████| 205/205 [00:18<00:00, 11.06batch/s, mae_loss=0.149]\n"
     ]
    },
    {
     "name": "stdout",
     "output_type": "stream",
     "text": [
      "Epoch [41/150], Training MAE: 0.2967, Training RMSE: 0.4336\n",
      "Epoch [41/150], Validation MAE: 0.2139, Validation RMSE: 0.3404\n"
     ]
    },
    {
     "name": "stderr",
     "output_type": "stream",
     "text": [
      "Epoch 42/150: 100%|██████████| 205/205 [00:18<00:00, 11.30batch/s, mae_loss=0.149]\n"
     ]
    },
    {
     "name": "stdout",
     "output_type": "stream",
     "text": [
      "Epoch [42/150], Training MAE: 0.2953, Training RMSE: 0.4326\n",
      "Epoch [42/150], Validation MAE: 0.2131, Validation RMSE: 0.3395\n"
     ]
    },
    {
     "name": "stderr",
     "output_type": "stream",
     "text": [
      "Epoch 43/150: 100%|██████████| 205/205 [00:17<00:00, 11.57batch/s, mae_loss=0.14] \n"
     ]
    },
    {
     "name": "stdout",
     "output_type": "stream",
     "text": [
      "Epoch [43/150], Training MAE: 0.2943, Training RMSE: 0.4316\n",
      "Epoch [43/150], Validation MAE: 0.2126, Validation RMSE: 0.3386\n"
     ]
    },
    {
     "name": "stderr",
     "output_type": "stream",
     "text": [
      "Epoch 44/150: 100%|██████████| 205/205 [00:17<00:00, 11.47batch/s, mae_loss=0.152]\n"
     ]
    },
    {
     "name": "stdout",
     "output_type": "stream",
     "text": [
      "Epoch [44/150], Training MAE: 0.2932, Training RMSE: 0.4296\n",
      "Epoch [44/150], Validation MAE: 0.2114, Validation RMSE: 0.3382\n"
     ]
    },
    {
     "name": "stderr",
     "output_type": "stream",
     "text": [
      "Epoch 45/150: 100%|██████████| 205/205 [00:18<00:00, 11.17batch/s, mae_loss=0.15] \n"
     ]
    },
    {
     "name": "stdout",
     "output_type": "stream",
     "text": [
      "Epoch [45/150], Training MAE: 0.2918, Training RMSE: 0.4279\n",
      "Epoch [45/150], Validation MAE: 0.2122, Validation RMSE: 0.3384\n"
     ]
    },
    {
     "name": "stderr",
     "output_type": "stream",
     "text": [
      "Epoch 46/150: 100%|██████████| 205/205 [00:18<00:00, 11.26batch/s, mae_loss=0.152]\n"
     ]
    },
    {
     "name": "stdout",
     "output_type": "stream",
     "text": [
      "Epoch [46/150], Training MAE: 0.2912, Training RMSE: 0.4271\n",
      "Epoch [46/150], Validation MAE: 0.2114, Validation RMSE: 0.3374\n"
     ]
    },
    {
     "name": "stderr",
     "output_type": "stream",
     "text": [
      "Epoch 47/150: 100%|██████████| 205/205 [00:17<00:00, 11.78batch/s, mae_loss=0.151]\n"
     ]
    },
    {
     "name": "stdout",
     "output_type": "stream",
     "text": [
      "Epoch [47/150], Training MAE: 0.2902, Training RMSE: 0.4263\n",
      "Epoch [47/150], Validation MAE: 0.2109, Validation RMSE: 0.3371\n"
     ]
    },
    {
     "name": "stderr",
     "output_type": "stream",
     "text": [
      "Epoch 48/150: 100%|██████████| 205/205 [00:18<00:00, 11.37batch/s, mae_loss=0.139]\n"
     ]
    },
    {
     "name": "stdout",
     "output_type": "stream",
     "text": [
      "Epoch [48/150], Training MAE: 0.2893, Training RMSE: 0.4250\n",
      "Epoch [48/150], Validation MAE: 0.2101, Validation RMSE: 0.3366\n"
     ]
    },
    {
     "name": "stderr",
     "output_type": "stream",
     "text": [
      "Epoch 49/150: 100%|██████████| 205/205 [00:18<00:00, 10.91batch/s, mae_loss=0.143]\n"
     ]
    },
    {
     "name": "stdout",
     "output_type": "stream",
     "text": [
      "Epoch [49/150], Training MAE: 0.2883, Training RMSE: 0.4238\n",
      "Epoch [49/150], Validation MAE: 0.2091, Validation RMSE: 0.3357\n"
     ]
    },
    {
     "name": "stderr",
     "output_type": "stream",
     "text": [
      "Epoch 50/150: 100%|██████████| 205/205 [00:17<00:00, 11.69batch/s, mae_loss=0.133]\n"
     ]
    },
    {
     "name": "stdout",
     "output_type": "stream",
     "text": [
      "Epoch [50/150], Training MAE: 0.2876, Training RMSE: 0.4234\n",
      "Epoch [50/150], Validation MAE: 0.2096, Validation RMSE: 0.3360\n"
     ]
    },
    {
     "name": "stderr",
     "output_type": "stream",
     "text": [
      "Epoch 51/150: 100%|██████████| 205/205 [00:17<00:00, 11.62batch/s, mae_loss=0.148]\n"
     ]
    },
    {
     "name": "stdout",
     "output_type": "stream",
     "text": [
      "Epoch [51/150], Training MAE: 0.2869, Training RMSE: 0.4221\n",
      "Epoch [51/150], Validation MAE: 0.2091, Validation RMSE: 0.3352\n"
     ]
    },
    {
     "name": "stderr",
     "output_type": "stream",
     "text": [
      "Epoch 52/150: 100%|██████████| 205/205 [00:18<00:00, 11.07batch/s, mae_loss=0.14] \n"
     ]
    },
    {
     "name": "stdout",
     "output_type": "stream",
     "text": [
      "Epoch [52/150], Training MAE: 0.2856, Training RMSE: 0.4210\n",
      "Epoch [52/150], Validation MAE: 0.2090, Validation RMSE: 0.3353\n"
     ]
    },
    {
     "name": "stderr",
     "output_type": "stream",
     "text": [
      "Epoch 53/150: 100%|██████████| 205/205 [00:17<00:00, 11.73batch/s, mae_loss=0.134]\n"
     ]
    },
    {
     "name": "stdout",
     "output_type": "stream",
     "text": [
      "Epoch [53/150], Training MAE: 0.2857, Training RMSE: 0.4216\n",
      "Epoch [53/150], Validation MAE: 0.2078, Validation RMSE: 0.3347\n"
     ]
    },
    {
     "name": "stderr",
     "output_type": "stream",
     "text": [
      "Epoch 54/150: 100%|██████████| 205/205 [00:17<00:00, 11.54batch/s, mae_loss=0.135]\n"
     ]
    },
    {
     "name": "stdout",
     "output_type": "stream",
     "text": [
      "Epoch [54/150], Training MAE: 0.2849, Training RMSE: 0.4206\n",
      "Epoch [54/150], Validation MAE: 0.2086, Validation RMSE: 0.3346\n"
     ]
    },
    {
     "name": "stderr",
     "output_type": "stream",
     "text": [
      "Epoch 55/150: 100%|██████████| 205/205 [00:19<00:00, 10.79batch/s, mae_loss=0.133]\n"
     ]
    },
    {
     "name": "stdout",
     "output_type": "stream",
     "text": [
      "Epoch [55/150], Training MAE: 0.2836, Training RMSE: 0.4187\n",
      "Epoch [55/150], Validation MAE: 0.2080, Validation RMSE: 0.3341\n"
     ]
    },
    {
     "name": "stderr",
     "output_type": "stream",
     "text": [
      "Epoch 56/150: 100%|██████████| 205/205 [00:17<00:00, 11.60batch/s, mae_loss=0.131]\n"
     ]
    },
    {
     "name": "stdout",
     "output_type": "stream",
     "text": [
      "Epoch [56/150], Training MAE: 0.2836, Training RMSE: 0.4191\n",
      "Epoch [56/150], Validation MAE: 0.2072, Validation RMSE: 0.3342\n"
     ]
    },
    {
     "name": "stderr",
     "output_type": "stream",
     "text": [
      "Epoch 57/150: 100%|██████████| 205/205 [00:17<00:00, 11.73batch/s, mae_loss=0.135]\n"
     ]
    },
    {
     "name": "stdout",
     "output_type": "stream",
     "text": [
      "Epoch [57/150], Training MAE: 0.2827, Training RMSE: 0.4184\n",
      "Epoch [57/150], Validation MAE: 0.2068, Validation RMSE: 0.3337\n"
     ]
    },
    {
     "name": "stderr",
     "output_type": "stream",
     "text": [
      "Epoch 58/150: 100%|██████████| 205/205 [00:18<00:00, 11.19batch/s, mae_loss=0.135]\n"
     ]
    },
    {
     "name": "stdout",
     "output_type": "stream",
     "text": [
      "Epoch [58/150], Training MAE: 0.2821, Training RMSE: 0.4171\n",
      "Epoch [58/150], Validation MAE: 0.2064, Validation RMSE: 0.3332\n"
     ]
    },
    {
     "name": "stderr",
     "output_type": "stream",
     "text": [
      "Epoch 59/150: 100%|██████████| 205/205 [00:18<00:00, 11.37batch/s, mae_loss=0.138]\n"
     ]
    },
    {
     "name": "stdout",
     "output_type": "stream",
     "text": [
      "Epoch [59/150], Training MAE: 0.2825, Training RMSE: 0.4180\n",
      "Epoch [59/150], Validation MAE: 0.2062, Validation RMSE: 0.3330\n"
     ]
    },
    {
     "name": "stderr",
     "output_type": "stream",
     "text": [
      "Epoch 60/150: 100%|██████████| 205/205 [00:17<00:00, 11.48batch/s, mae_loss=0.132]\n"
     ]
    },
    {
     "name": "stdout",
     "output_type": "stream",
     "text": [
      "Epoch [60/150], Training MAE: 0.2812, Training RMSE: 0.4161\n",
      "Epoch [60/150], Validation MAE: 0.2060, Validation RMSE: 0.3327\n"
     ]
    },
    {
     "name": "stderr",
     "output_type": "stream",
     "text": [
      "Epoch 61/150: 100%|██████████| 205/205 [00:17<00:00, 11.50batch/s, mae_loss=0.132]\n"
     ]
    },
    {
     "name": "stdout",
     "output_type": "stream",
     "text": [
      "Epoch [61/150], Training MAE: 0.2805, Training RMSE: 0.4159\n",
      "Epoch [61/150], Validation MAE: 0.2056, Validation RMSE: 0.3324\n"
     ]
    },
    {
     "name": "stderr",
     "output_type": "stream",
     "text": [
      "Epoch 62/150: 100%|██████████| 205/205 [00:18<00:00, 11.36batch/s, mae_loss=0.132]\n"
     ]
    },
    {
     "name": "stdout",
     "output_type": "stream",
     "text": [
      "Epoch [62/150], Training MAE: 0.2797, Training RMSE: 0.4151\n",
      "Epoch [62/150], Validation MAE: 0.2054, Validation RMSE: 0.3323\n"
     ]
    },
    {
     "name": "stderr",
     "output_type": "stream",
     "text": [
      "Epoch 63/150: 100%|██████████| 205/205 [00:17<00:00, 11.48batch/s, mae_loss=0.134]\n"
     ]
    },
    {
     "name": "stdout",
     "output_type": "stream",
     "text": [
      "Epoch [63/150], Training MAE: 0.2791, Training RMSE: 0.4140\n",
      "Epoch [63/150], Validation MAE: 0.2047, Validation RMSE: 0.3320\n"
     ]
    },
    {
     "name": "stderr",
     "output_type": "stream",
     "text": [
      "Epoch 64/150: 100%|██████████| 205/205 [00:18<00:00, 11.28batch/s, mae_loss=0.131]\n"
     ]
    },
    {
     "name": "stdout",
     "output_type": "stream",
     "text": [
      "Epoch [64/150], Training MAE: 0.2789, Training RMSE: 0.4139\n",
      "Epoch [64/150], Validation MAE: 0.2052, Validation RMSE: 0.3322\n"
     ]
    },
    {
     "name": "stderr",
     "output_type": "stream",
     "text": [
      "Epoch 65/150: 100%|██████████| 205/205 [00:18<00:00, 11.33batch/s, mae_loss=0.127]\n"
     ]
    },
    {
     "name": "stdout",
     "output_type": "stream",
     "text": [
      "Epoch [65/150], Training MAE: 0.2780, Training RMSE: 0.4134\n",
      "Epoch [65/150], Validation MAE: 0.2044, Validation RMSE: 0.3315\n"
     ]
    },
    {
     "name": "stderr",
     "output_type": "stream",
     "text": [
      "Epoch 66/150: 100%|██████████| 205/205 [00:17<00:00, 11.72batch/s, mae_loss=0.127]\n"
     ]
    },
    {
     "name": "stdout",
     "output_type": "stream",
     "text": [
      "Epoch [66/150], Training MAE: 0.2778, Training RMSE: 0.4129\n",
      "Epoch [66/150], Validation MAE: 0.2050, Validation RMSE: 0.3315\n"
     ]
    },
    {
     "name": "stderr",
     "output_type": "stream",
     "text": [
      "Epoch 67/150: 100%|██████████| 205/205 [00:18<00:00, 11.38batch/s, mae_loss=0.133]\n"
     ]
    },
    {
     "name": "stdout",
     "output_type": "stream",
     "text": [
      "Epoch [67/150], Training MAE: 0.2772, Training RMSE: 0.4120\n",
      "Epoch [67/150], Validation MAE: 0.2043, Validation RMSE: 0.3309\n"
     ]
    },
    {
     "name": "stderr",
     "output_type": "stream",
     "text": [
      "Epoch 68/150: 100%|██████████| 205/205 [00:17<00:00, 11.41batch/s, mae_loss=0.135]\n"
     ]
    },
    {
     "name": "stdout",
     "output_type": "stream",
     "text": [
      "Epoch [68/150], Training MAE: 0.2763, Training RMSE: 0.4114\n",
      "Epoch [68/150], Validation MAE: 0.2039, Validation RMSE: 0.3307\n"
     ]
    },
    {
     "name": "stderr",
     "output_type": "stream",
     "text": [
      "Epoch 69/150: 100%|██████████| 205/205 [00:17<00:00, 11.46batch/s, mae_loss=0.128]\n"
     ]
    },
    {
     "name": "stdout",
     "output_type": "stream",
     "text": [
      "Epoch [69/150], Training MAE: 0.2758, Training RMSE: 0.4107\n",
      "Epoch [69/150], Validation MAE: 0.2038, Validation RMSE: 0.3307\n"
     ]
    },
    {
     "name": "stderr",
     "output_type": "stream",
     "text": [
      "Epoch 70/150: 100%|██████████| 205/205 [00:18<00:00, 11.26batch/s, mae_loss=0.132]\n"
     ]
    },
    {
     "name": "stdout",
     "output_type": "stream",
     "text": [
      "Epoch [70/150], Training MAE: 0.2758, Training RMSE: 0.4109\n",
      "Epoch [70/150], Validation MAE: 0.2039, Validation RMSE: 0.3303\n"
     ]
    },
    {
     "name": "stderr",
     "output_type": "stream",
     "text": [
      "Epoch 71/150: 100%|██████████| 205/205 [00:17<00:00, 11.62batch/s, mae_loss=0.131]\n"
     ]
    },
    {
     "name": "stdout",
     "output_type": "stream",
     "text": [
      "Epoch [71/150], Training MAE: 0.2751, Training RMSE: 0.4103\n",
      "Epoch [71/150], Validation MAE: 0.2036, Validation RMSE: 0.3306\n"
     ]
    },
    {
     "name": "stderr",
     "output_type": "stream",
     "text": [
      "Epoch 72/150: 100%|██████████| 205/205 [00:18<00:00, 11.14batch/s, mae_loss=0.12] \n"
     ]
    },
    {
     "name": "stdout",
     "output_type": "stream",
     "text": [
      "Epoch [72/150], Training MAE: 0.2748, Training RMSE: 0.4099\n",
      "Epoch [72/150], Validation MAE: 0.2027, Validation RMSE: 0.3297\n"
     ]
    },
    {
     "name": "stderr",
     "output_type": "stream",
     "text": [
      "Epoch 73/150: 100%|██████████| 205/205 [00:18<00:00, 11.29batch/s, mae_loss=0.124]\n"
     ]
    },
    {
     "name": "stdout",
     "output_type": "stream",
     "text": [
      "Epoch [73/150], Training MAE: 0.2745, Training RMSE: 0.4092\n",
      "Epoch [73/150], Validation MAE: 0.2027, Validation RMSE: 0.3304\n"
     ]
    },
    {
     "name": "stderr",
     "output_type": "stream",
     "text": [
      "Epoch 74/150: 100%|██████████| 205/205 [00:17<00:00, 11.50batch/s, mae_loss=0.123]\n"
     ]
    },
    {
     "name": "stdout",
     "output_type": "stream",
     "text": [
      "Epoch [74/150], Training MAE: 0.2739, Training RMSE: 0.4081\n",
      "Epoch [74/150], Validation MAE: 0.2028, Validation RMSE: 0.3302\n"
     ]
    },
    {
     "name": "stderr",
     "output_type": "stream",
     "text": [
      "Epoch 75/150: 100%|██████████| 205/205 [00:17<00:00, 11.41batch/s, mae_loss=0.132]\n"
     ]
    },
    {
     "name": "stdout",
     "output_type": "stream",
     "text": [
      "Epoch [75/150], Training MAE: 0.2730, Training RMSE: 0.4077\n",
      "Epoch [75/150], Validation MAE: 0.2030, Validation RMSE: 0.3298\n"
     ]
    },
    {
     "name": "stderr",
     "output_type": "stream",
     "text": [
      "Epoch 76/150: 100%|██████████| 205/205 [00:17<00:00, 11.64batch/s, mae_loss=0.132]\n"
     ]
    },
    {
     "name": "stdout",
     "output_type": "stream",
     "text": [
      "Epoch [76/150], Training MAE: 0.2732, Training RMSE: 0.4074\n",
      "Epoch [76/150], Validation MAE: 0.2023, Validation RMSE: 0.3295\n"
     ]
    },
    {
     "name": "stderr",
     "output_type": "stream",
     "text": [
      "Epoch 77/150: 100%|██████████| 205/205 [00:17<00:00, 11.45batch/s, mae_loss=0.131]\n"
     ]
    },
    {
     "name": "stdout",
     "output_type": "stream",
     "text": [
      "Epoch [77/150], Training MAE: 0.2730, Training RMSE: 0.4081\n",
      "Epoch [77/150], Validation MAE: 0.2025, Validation RMSE: 0.3292\n"
     ]
    },
    {
     "name": "stderr",
     "output_type": "stream",
     "text": [
      "Epoch 78/150: 100%|██████████| 205/205 [00:18<00:00, 11.27batch/s, mae_loss=0.122]\n"
     ]
    },
    {
     "name": "stdout",
     "output_type": "stream",
     "text": [
      "Epoch [78/150], Training MAE: 0.2726, Training RMSE: 0.4071\n",
      "Epoch [78/150], Validation MAE: 0.2023, Validation RMSE: 0.3292\n"
     ]
    },
    {
     "name": "stderr",
     "output_type": "stream",
     "text": [
      "Epoch 79/150: 100%|██████████| 205/205 [00:18<00:00, 11.31batch/s, mae_loss=0.129]\n"
     ]
    },
    {
     "name": "stdout",
     "output_type": "stream",
     "text": [
      "Epoch [79/150], Training MAE: 0.2715, Training RMSE: 0.4058\n",
      "Epoch [79/150], Validation MAE: 0.2018, Validation RMSE: 0.3291\n"
     ]
    },
    {
     "name": "stderr",
     "output_type": "stream",
     "text": [
      "Epoch 80/150: 100%|██████████| 205/205 [00:17<00:00, 11.65batch/s, mae_loss=0.122]\n"
     ]
    },
    {
     "name": "stdout",
     "output_type": "stream",
     "text": [
      "Epoch [80/150], Training MAE: 0.2714, Training RMSE: 0.4059\n",
      "Epoch [80/150], Validation MAE: 0.2021, Validation RMSE: 0.3284\n"
     ]
    },
    {
     "name": "stderr",
     "output_type": "stream",
     "text": [
      "Epoch 81/150: 100%|██████████| 205/205 [00:17<00:00, 11.52batch/s, mae_loss=0.127]\n"
     ]
    },
    {
     "name": "stdout",
     "output_type": "stream",
     "text": [
      "Epoch [81/150], Training MAE: 0.2710, Training RMSE: 0.4053\n",
      "Epoch [81/150], Validation MAE: 0.2018, Validation RMSE: 0.3286\n"
     ]
    },
    {
     "name": "stderr",
     "output_type": "stream",
     "text": [
      "Epoch 82/150: 100%|██████████| 205/205 [00:18<00:00, 11.23batch/s, mae_loss=0.124]\n"
     ]
    },
    {
     "name": "stdout",
     "output_type": "stream",
     "text": [
      "Epoch [82/150], Training MAE: 0.2715, Training RMSE: 0.4063\n",
      "Epoch [82/150], Validation MAE: 0.2017, Validation RMSE: 0.3283\n"
     ]
    },
    {
     "name": "stderr",
     "output_type": "stream",
     "text": [
      "Epoch 83/150: 100%|██████████| 205/205 [00:17<00:00, 11.50batch/s, mae_loss=0.123]\n"
     ]
    },
    {
     "name": "stdout",
     "output_type": "stream",
     "text": [
      "Epoch [83/150], Training MAE: 0.2705, Training RMSE: 0.4049\n",
      "Epoch [83/150], Validation MAE: 0.2020, Validation RMSE: 0.3287\n"
     ]
    },
    {
     "name": "stderr",
     "output_type": "stream",
     "text": [
      "Epoch 84/150: 100%|██████████| 205/205 [00:17<00:00, 11.47batch/s, mae_loss=0.125]\n"
     ]
    },
    {
     "name": "stdout",
     "output_type": "stream",
     "text": [
      "Epoch [84/150], Training MAE: 0.2700, Training RMSE: 0.4046\n",
      "Epoch [84/150], Validation MAE: 0.2022, Validation RMSE: 0.3286\n"
     ]
    },
    {
     "name": "stderr",
     "output_type": "stream",
     "text": [
      "Epoch 85/150: 100%|██████████| 205/205 [00:18<00:00, 10.91batch/s, mae_loss=0.127]\n"
     ]
    },
    {
     "name": "stdout",
     "output_type": "stream",
     "text": [
      "Epoch [85/150], Training MAE: 0.2698, Training RMSE: 0.4047\n",
      "Epoch [85/150], Validation MAE: 0.2015, Validation RMSE: 0.3282\n"
     ]
    },
    {
     "name": "stderr",
     "output_type": "stream",
     "text": [
      "Epoch 86/150: 100%|██████████| 205/205 [00:17<00:00, 11.54batch/s, mae_loss=0.128]\n"
     ]
    },
    {
     "name": "stdout",
     "output_type": "stream",
     "text": [
      "Epoch [86/150], Training MAE: 0.2699, Training RMSE: 0.4045\n",
      "Epoch [86/150], Validation MAE: 0.2018, Validation RMSE: 0.3283\n"
     ]
    },
    {
     "name": "stderr",
     "output_type": "stream",
     "text": [
      "Epoch 87/150: 100%|██████████| 205/205 [00:17<00:00, 11.78batch/s, mae_loss=0.122]\n"
     ]
    },
    {
     "name": "stdout",
     "output_type": "stream",
     "text": [
      "Epoch [87/150], Training MAE: 0.2692, Training RMSE: 0.4036\n",
      "Epoch [87/150], Validation MAE: 0.2014, Validation RMSE: 0.3279\n"
     ]
    },
    {
     "name": "stderr",
     "output_type": "stream",
     "text": [
      "Epoch 88/150: 100%|██████████| 205/205 [00:18<00:00, 11.01batch/s, mae_loss=0.123]\n"
     ]
    },
    {
     "name": "stdout",
     "output_type": "stream",
     "text": [
      "Epoch [88/150], Training MAE: 0.2689, Training RMSE: 0.4033\n",
      "Epoch [88/150], Validation MAE: 0.2007, Validation RMSE: 0.3277\n"
     ]
    },
    {
     "name": "stderr",
     "output_type": "stream",
     "text": [
      "Epoch 89/150: 100%|██████████| 205/205 [00:17<00:00, 11.67batch/s, mae_loss=0.125]\n"
     ]
    },
    {
     "name": "stdout",
     "output_type": "stream",
     "text": [
      "Epoch [89/150], Training MAE: 0.2692, Training RMSE: 0.4037\n",
      "Epoch [89/150], Validation MAE: 0.2014, Validation RMSE: 0.3283\n"
     ]
    },
    {
     "name": "stderr",
     "output_type": "stream",
     "text": [
      "Epoch 90/150: 100%|██████████| 205/205 [00:17<00:00, 11.41batch/s, mae_loss=0.116]\n"
     ]
    },
    {
     "name": "stdout",
     "output_type": "stream",
     "text": [
      "Epoch [90/150], Training MAE: 0.2683, Training RMSE: 0.4023\n",
      "Epoch [90/150], Validation MAE: 0.2005, Validation RMSE: 0.3274\n"
     ]
    },
    {
     "name": "stderr",
     "output_type": "stream",
     "text": [
      "Epoch 91/150: 100%|██████████| 205/205 [00:18<00:00, 11.29batch/s, mae_loss=0.134]\n"
     ]
    },
    {
     "name": "stdout",
     "output_type": "stream",
     "text": [
      "Epoch [91/150], Training MAE: 0.2680, Training RMSE: 0.4019\n",
      "Epoch [91/150], Validation MAE: 0.2011, Validation RMSE: 0.3277\n"
     ]
    },
    {
     "name": "stderr",
     "output_type": "stream",
     "text": [
      "Epoch 92/150: 100%|██████████| 205/205 [00:17<00:00, 11.61batch/s, mae_loss=0.122]\n"
     ]
    },
    {
     "name": "stdout",
     "output_type": "stream",
     "text": [
      "Epoch [92/150], Training MAE: 0.2678, Training RMSE: 0.4022\n",
      "Epoch [92/150], Validation MAE: 0.2008, Validation RMSE: 0.3274\n"
     ]
    },
    {
     "name": "stderr",
     "output_type": "stream",
     "text": [
      "Epoch 93/150: 100%|██████████| 205/205 [00:17<00:00, 11.65batch/s, mae_loss=0.121]\n"
     ]
    },
    {
     "name": "stdout",
     "output_type": "stream",
     "text": [
      "Epoch [93/150], Training MAE: 0.2675, Training RMSE: 0.4018\n",
      "Epoch [93/150], Validation MAE: 0.2009, Validation RMSE: 0.3278\n"
     ]
    },
    {
     "name": "stderr",
     "output_type": "stream",
     "text": [
      "Epoch 94/150: 100%|██████████| 205/205 [00:18<00:00, 11.23batch/s, mae_loss=0.122]\n"
     ]
    },
    {
     "name": "stdout",
     "output_type": "stream",
     "text": [
      "Epoch [94/150], Training MAE: 0.2676, Training RMSE: 0.4019\n",
      "Epoch [94/150], Validation MAE: 0.2004, Validation RMSE: 0.3272\n"
     ]
    },
    {
     "name": "stderr",
     "output_type": "stream",
     "text": [
      "Epoch 95/150: 100%|██████████| 205/205 [00:17<00:00, 11.42batch/s, mae_loss=0.116]\n"
     ]
    },
    {
     "name": "stdout",
     "output_type": "stream",
     "text": [
      "Epoch [95/150], Training MAE: 0.2670, Training RMSE: 0.4011\n",
      "Epoch [95/150], Validation MAE: 0.1999, Validation RMSE: 0.3270\n"
     ]
    },
    {
     "name": "stderr",
     "output_type": "stream",
     "text": [
      "Epoch 96/150: 100%|██████████| 205/205 [00:17<00:00, 11.71batch/s, mae_loss=0.129]\n"
     ]
    },
    {
     "name": "stdout",
     "output_type": "stream",
     "text": [
      "Epoch [96/150], Training MAE: 0.2669, Training RMSE: 0.4013\n",
      "Epoch [96/150], Validation MAE: 0.2009, Validation RMSE: 0.3271\n"
     ]
    },
    {
     "name": "stderr",
     "output_type": "stream",
     "text": [
      "Epoch 97/150: 100%|██████████| 205/205 [00:18<00:00, 11.18batch/s, mae_loss=0.12] \n"
     ]
    },
    {
     "name": "stdout",
     "output_type": "stream",
     "text": [
      "Epoch [97/150], Training MAE: 0.2663, Training RMSE: 0.4008\n",
      "Epoch [97/150], Validation MAE: 0.2004, Validation RMSE: 0.3274\n"
     ]
    },
    {
     "name": "stderr",
     "output_type": "stream",
     "text": [
      "Epoch 98/150: 100%|██████████| 205/205 [00:18<00:00, 11.33batch/s, mae_loss=0.123]\n"
     ]
    },
    {
     "name": "stdout",
     "output_type": "stream",
     "text": [
      "Epoch [98/150], Training MAE: 0.2663, Training RMSE: 0.4004\n",
      "Epoch [98/150], Validation MAE: 0.2003, Validation RMSE: 0.3270\n"
     ]
    },
    {
     "name": "stderr",
     "output_type": "stream",
     "text": [
      "Epoch 99/150: 100%|██████████| 205/205 [00:17<00:00, 11.66batch/s, mae_loss=0.12] \n"
     ]
    },
    {
     "name": "stdout",
     "output_type": "stream",
     "text": [
      "Epoch [99/150], Training MAE: 0.2658, Training RMSE: 0.3996\n",
      "Epoch [99/150], Validation MAE: 0.1999, Validation RMSE: 0.3269\n"
     ]
    },
    {
     "name": "stderr",
     "output_type": "stream",
     "text": [
      "Epoch 100/150: 100%|██████████| 205/205 [00:18<00:00, 11.09batch/s, mae_loss=0.119]\n"
     ]
    },
    {
     "name": "stdout",
     "output_type": "stream",
     "text": [
      "Epoch [100/150], Training MAE: 0.2650, Training RMSE: 0.3995\n",
      "Epoch [100/150], Validation MAE: 0.2001, Validation RMSE: 0.3270\n"
     ]
    },
    {
     "name": "stderr",
     "output_type": "stream",
     "text": [
      "Epoch 101/150: 100%|██████████| 205/205 [00:18<00:00, 11.32batch/s, mae_loss=0.124]\n"
     ]
    },
    {
     "name": "stdout",
     "output_type": "stream",
     "text": [
      "Epoch [101/150], Training MAE: 0.2651, Training RMSE: 0.3991\n",
      "Epoch [101/150], Validation MAE: 0.1993, Validation RMSE: 0.3267\n"
     ]
    },
    {
     "name": "stderr",
     "output_type": "stream",
     "text": [
      "Epoch 102/150: 100%|██████████| 205/205 [00:17<00:00, 11.43batch/s, mae_loss=0.118]\n"
     ]
    },
    {
     "name": "stdout",
     "output_type": "stream",
     "text": [
      "Epoch [102/150], Training MAE: 0.2651, Training RMSE: 0.3995\n",
      "Epoch [102/150], Validation MAE: 0.1992, Validation RMSE: 0.3265\n"
     ]
    },
    {
     "name": "stderr",
     "output_type": "stream",
     "text": [
      "Epoch 103/150: 100%|██████████| 205/205 [00:17<00:00, 11.61batch/s, mae_loss=0.117]\n"
     ]
    },
    {
     "name": "stdout",
     "output_type": "stream",
     "text": [
      "Epoch [103/150], Training MAE: 0.2646, Training RMSE: 0.3989\n",
      "Epoch [103/150], Validation MAE: 0.1996, Validation RMSE: 0.3264\n"
     ]
    },
    {
     "name": "stderr",
     "output_type": "stream",
     "text": [
      "Epoch 104/150: 100%|██████████| 205/205 [00:18<00:00, 11.30batch/s, mae_loss=0.12] \n"
     ]
    },
    {
     "name": "stdout",
     "output_type": "stream",
     "text": [
      "Epoch [104/150], Training MAE: 0.2650, Training RMSE: 0.3991\n",
      "Epoch [104/150], Validation MAE: 0.1997, Validation RMSE: 0.3265\n"
     ]
    },
    {
     "name": "stderr",
     "output_type": "stream",
     "text": [
      "Epoch 105/150: 100%|██████████| 205/205 [00:17<00:00, 11.53batch/s, mae_loss=0.12] \n"
     ]
    },
    {
     "name": "stdout",
     "output_type": "stream",
     "text": [
      "Epoch [105/150], Training MAE: 0.2641, Training RMSE: 0.3975\n",
      "Epoch [105/150], Validation MAE: 0.1999, Validation RMSE: 0.3265\n"
     ]
    },
    {
     "name": "stderr",
     "output_type": "stream",
     "text": [
      "Epoch 106/150: 100%|██████████| 205/205 [00:18<00:00, 11.34batch/s, mae_loss=0.116]\n"
     ]
    },
    {
     "name": "stdout",
     "output_type": "stream",
     "text": [
      "Epoch [106/150], Training MAE: 0.2642, Training RMSE: 0.3985\n",
      "Epoch [106/150], Validation MAE: 0.1994, Validation RMSE: 0.3264\n"
     ]
    },
    {
     "name": "stderr",
     "output_type": "stream",
     "text": [
      "Epoch 107/150: 100%|██████████| 205/205 [00:17<00:00, 11.67batch/s, mae_loss=0.121]\n"
     ]
    },
    {
     "name": "stdout",
     "output_type": "stream",
     "text": [
      "Epoch [107/150], Training MAE: 0.2641, Training RMSE: 0.3978\n",
      "Epoch [107/150], Validation MAE: 0.1992, Validation RMSE: 0.3261\n"
     ]
    },
    {
     "name": "stderr",
     "output_type": "stream",
     "text": [
      "Epoch 108/150: 100%|██████████| 205/205 [00:17<00:00, 11.72batch/s, mae_loss=0.116]\n"
     ]
    },
    {
     "name": "stdout",
     "output_type": "stream",
     "text": [
      "Epoch [108/150], Training MAE: 0.2633, Training RMSE: 0.3967\n",
      "Epoch [108/150], Validation MAE: 0.1994, Validation RMSE: 0.3262\n"
     ]
    },
    {
     "name": "stderr",
     "output_type": "stream",
     "text": [
      "Epoch 109/150: 100%|██████████| 205/205 [00:18<00:00, 11.12batch/s, mae_loss=0.122]\n"
     ]
    },
    {
     "name": "stdout",
     "output_type": "stream",
     "text": [
      "Epoch [109/150], Training MAE: 0.2636, Training RMSE: 0.3975\n",
      "Epoch [109/150], Validation MAE: 0.1994, Validation RMSE: 0.3262\n"
     ]
    },
    {
     "name": "stderr",
     "output_type": "stream",
     "text": [
      "Epoch 110/150: 100%|██████████| 205/205 [00:17<00:00, 11.72batch/s, mae_loss=0.121]\n"
     ]
    },
    {
     "name": "stdout",
     "output_type": "stream",
     "text": [
      "Epoch [110/150], Training MAE: 0.2634, Training RMSE: 0.3972\n",
      "Epoch [110/150], Validation MAE: 0.1996, Validation RMSE: 0.3259\n"
     ]
    },
    {
     "name": "stderr",
     "output_type": "stream",
     "text": [
      "Epoch 111/150: 100%|██████████| 205/205 [00:18<00:00, 11.15batch/s, mae_loss=0.12] \n"
     ]
    },
    {
     "name": "stdout",
     "output_type": "stream",
     "text": [
      "Epoch [111/150], Training MAE: 0.2626, Training RMSE: 0.3966\n",
      "Epoch [111/150], Validation MAE: 0.1988, Validation RMSE: 0.3259\n"
     ]
    },
    {
     "name": "stderr",
     "output_type": "stream",
     "text": [
      "Epoch 112/150: 100%|██████████| 205/205 [00:17<00:00, 11.41batch/s, mae_loss=0.117]\n"
     ]
    },
    {
     "name": "stdout",
     "output_type": "stream",
     "text": [
      "Epoch [112/150], Training MAE: 0.2635, Training RMSE: 0.3977\n",
      "Epoch [112/150], Validation MAE: 0.1994, Validation RMSE: 0.3260\n"
     ]
    },
    {
     "name": "stderr",
     "output_type": "stream",
     "text": [
      "Epoch 113/150: 100%|██████████| 205/205 [00:17<00:00, 11.56batch/s, mae_loss=0.123]\n"
     ]
    },
    {
     "name": "stdout",
     "output_type": "stream",
     "text": [
      "Epoch [113/150], Training MAE: 0.2629, Training RMSE: 0.3968\n",
      "Epoch [113/150], Validation MAE: 0.1989, Validation RMSE: 0.3259\n"
     ]
    },
    {
     "name": "stderr",
     "output_type": "stream",
     "text": [
      "Epoch 114/150: 100%|██████████| 205/205 [00:18<00:00, 11.13batch/s, mae_loss=0.12] \n"
     ]
    },
    {
     "name": "stdout",
     "output_type": "stream",
     "text": [
      "Epoch [114/150], Training MAE: 0.2621, Training RMSE: 0.3958\n",
      "Epoch [114/150], Validation MAE: 0.1990, Validation RMSE: 0.3257\n"
     ]
    },
    {
     "name": "stderr",
     "output_type": "stream",
     "text": [
      "Epoch 115/150: 100%|██████████| 205/205 [00:18<00:00, 11.18batch/s, mae_loss=0.111]\n"
     ]
    },
    {
     "name": "stdout",
     "output_type": "stream",
     "text": [
      "Epoch [115/150], Training MAE: 0.2624, Training RMSE: 0.3962\n",
      "Epoch [115/150], Validation MAE: 0.1987, Validation RMSE: 0.3252\n"
     ]
    },
    {
     "name": "stderr",
     "output_type": "stream",
     "text": [
      "Epoch 116/150: 100%|██████████| 205/205 [00:17<00:00, 11.71batch/s, mae_loss=0.117]\n"
     ]
    },
    {
     "name": "stdout",
     "output_type": "stream",
     "text": [
      "Epoch [116/150], Training MAE: 0.2617, Training RMSE: 0.3950\n",
      "Epoch [116/150], Validation MAE: 0.1993, Validation RMSE: 0.3257\n"
     ]
    },
    {
     "name": "stderr",
     "output_type": "stream",
     "text": [
      "Epoch 117/150: 100%|██████████| 205/205 [00:18<00:00, 11.11batch/s, mae_loss=0.117]\n"
     ]
    },
    {
     "name": "stdout",
     "output_type": "stream",
     "text": [
      "Epoch [117/150], Training MAE: 0.2619, Training RMSE: 0.3965\n",
      "Epoch [117/150], Validation MAE: 0.1983, Validation RMSE: 0.3254\n"
     ]
    },
    {
     "name": "stderr",
     "output_type": "stream",
     "text": [
      "Epoch 118/150: 100%|██████████| 205/205 [00:17<00:00, 11.45batch/s, mae_loss=0.115]\n"
     ]
    },
    {
     "name": "stdout",
     "output_type": "stream",
     "text": [
      "Epoch [118/150], Training MAE: 0.2618, Training RMSE: 0.3957\n",
      "Epoch [118/150], Validation MAE: 0.1995, Validation RMSE: 0.3258\n"
     ]
    },
    {
     "name": "stderr",
     "output_type": "stream",
     "text": [
      "Epoch 119/150: 100%|██████████| 205/205 [00:17<00:00, 11.72batch/s, mae_loss=0.119]\n"
     ]
    },
    {
     "name": "stdout",
     "output_type": "stream",
     "text": [
      "Epoch [119/150], Training MAE: 0.2616, Training RMSE: 0.3953\n",
      "Epoch [119/150], Validation MAE: 0.1982, Validation RMSE: 0.3252\n"
     ]
    },
    {
     "name": "stderr",
     "output_type": "stream",
     "text": [
      "Epoch 120/150: 100%|██████████| 205/205 [00:18<00:00, 11.09batch/s, mae_loss=0.119]\n"
     ]
    },
    {
     "name": "stdout",
     "output_type": "stream",
     "text": [
      "Epoch [120/150], Training MAE: 0.2618, Training RMSE: 0.3947\n",
      "Epoch [120/150], Validation MAE: 0.1987, Validation RMSE: 0.3255\n"
     ]
    },
    {
     "name": "stderr",
     "output_type": "stream",
     "text": [
      "Epoch 121/150: 100%|██████████| 205/205 [00:17<00:00, 11.63batch/s, mae_loss=0.116]\n"
     ]
    },
    {
     "name": "stdout",
     "output_type": "stream",
     "text": [
      "Epoch [121/150], Training MAE: 0.2609, Training RMSE: 0.3946\n",
      "Epoch [121/150], Validation MAE: 0.1989, Validation RMSE: 0.3249\n"
     ]
    },
    {
     "name": "stderr",
     "output_type": "stream",
     "text": [
      "Epoch 122/150: 100%|██████████| 205/205 [00:17<00:00, 11.76batch/s, mae_loss=0.116]\n"
     ]
    },
    {
     "name": "stdout",
     "output_type": "stream",
     "text": [
      "Epoch [122/150], Training MAE: 0.2605, Training RMSE: 0.3945\n",
      "Epoch [122/150], Validation MAE: 0.1991, Validation RMSE: 0.3251\n"
     ]
    },
    {
     "name": "stderr",
     "output_type": "stream",
     "text": [
      "Epoch 123/150: 100%|██████████| 205/205 [00:17<00:00, 11.72batch/s, mae_loss=0.11] \n"
     ]
    },
    {
     "name": "stdout",
     "output_type": "stream",
     "text": [
      "Epoch [123/150], Training MAE: 0.2609, Training RMSE: 0.3946\n",
      "Epoch [123/150], Validation MAE: 0.1990, Validation RMSE: 0.3252\n"
     ]
    },
    {
     "name": "stderr",
     "output_type": "stream",
     "text": [
      "Epoch 124/150: 100%|██████████| 205/205 [00:18<00:00, 11.01batch/s, mae_loss=0.115]\n"
     ]
    },
    {
     "name": "stdout",
     "output_type": "stream",
     "text": [
      "Epoch [124/150], Training MAE: 0.2609, Training RMSE: 0.3944\n",
      "Epoch [124/150], Validation MAE: 0.1988, Validation RMSE: 0.3253\n"
     ]
    },
    {
     "name": "stderr",
     "output_type": "stream",
     "text": [
      "Epoch 125/150: 100%|██████████| 205/205 [00:17<00:00, 11.45batch/s, mae_loss=0.113]\n"
     ]
    },
    {
     "name": "stdout",
     "output_type": "stream",
     "text": [
      "Epoch [125/150], Training MAE: 0.2602, Training RMSE: 0.3937\n",
      "Epoch [125/150], Validation MAE: 0.1984, Validation RMSE: 0.3248\n"
     ]
    },
    {
     "name": "stderr",
     "output_type": "stream",
     "text": [
      "Epoch 126/150: 100%|██████████| 205/205 [00:17<00:00, 11.63batch/s, mae_loss=0.119]\n"
     ]
    },
    {
     "name": "stdout",
     "output_type": "stream",
     "text": [
      "Epoch [126/150], Training MAE: 0.2598, Training RMSE: 0.3935\n",
      "Epoch [126/150], Validation MAE: 0.1989, Validation RMSE: 0.3249\n"
     ]
    },
    {
     "name": "stderr",
     "output_type": "stream",
     "text": [
      "Epoch 127/150: 100%|██████████| 205/205 [00:18<00:00, 10.98batch/s, mae_loss=0.116]\n"
     ]
    },
    {
     "name": "stdout",
     "output_type": "stream",
     "text": [
      "Epoch [127/150], Training MAE: 0.2596, Training RMSE: 0.3934\n",
      "Epoch [127/150], Validation MAE: 0.1982, Validation RMSE: 0.3247\n"
     ]
    },
    {
     "name": "stderr",
     "output_type": "stream",
     "text": [
      "Epoch 128/150: 100%|██████████| 205/205 [00:17<00:00, 11.42batch/s, mae_loss=0.116]\n"
     ]
    },
    {
     "name": "stdout",
     "output_type": "stream",
     "text": [
      "Epoch [128/150], Training MAE: 0.2596, Training RMSE: 0.3931\n",
      "Epoch [128/150], Validation MAE: 0.1979, Validation RMSE: 0.3248\n"
     ]
    },
    {
     "name": "stderr",
     "output_type": "stream",
     "text": [
      "Epoch 129/150: 100%|██████████| 205/205 [00:17<00:00, 11.59batch/s, mae_loss=0.121]\n"
     ]
    },
    {
     "name": "stdout",
     "output_type": "stream",
     "text": [
      "Epoch [129/150], Training MAE: 0.2595, Training RMSE: 0.3935\n",
      "Epoch [129/150], Validation MAE: 0.1980, Validation RMSE: 0.3247\n"
     ]
    },
    {
     "name": "stderr",
     "output_type": "stream",
     "text": [
      "Epoch 130/150: 100%|██████████| 205/205 [00:18<00:00, 11.07batch/s, mae_loss=0.108]\n"
     ]
    },
    {
     "name": "stdout",
     "output_type": "stream",
     "text": [
      "Epoch [130/150], Training MAE: 0.2594, Training RMSE: 0.3932\n",
      "Epoch [130/150], Validation MAE: 0.1980, Validation RMSE: 0.3248\n"
     ]
    },
    {
     "name": "stderr",
     "output_type": "stream",
     "text": [
      "Epoch 131/150: 100%|██████████| 205/205 [00:17<00:00, 11.74batch/s, mae_loss=0.114]\n"
     ]
    },
    {
     "name": "stdout",
     "output_type": "stream",
     "text": [
      "Epoch [131/150], Training MAE: 0.2592, Training RMSE: 0.3929\n",
      "Epoch [131/150], Validation MAE: 0.1975, Validation RMSE: 0.3242\n"
     ]
    },
    {
     "name": "stderr",
     "output_type": "stream",
     "text": [
      "Epoch 132/150: 100%|██████████| 205/205 [00:17<00:00, 11.54batch/s, mae_loss=0.116]\n"
     ]
    },
    {
     "name": "stdout",
     "output_type": "stream",
     "text": [
      "Epoch [132/150], Training MAE: 0.2588, Training RMSE: 0.3926\n",
      "Epoch [132/150], Validation MAE: 0.1978, Validation RMSE: 0.3245\n"
     ]
    },
    {
     "name": "stderr",
     "output_type": "stream",
     "text": [
      "Epoch 133/150: 100%|██████████| 205/205 [00:18<00:00, 11.27batch/s, mae_loss=0.112]\n"
     ]
    },
    {
     "name": "stdout",
     "output_type": "stream",
     "text": [
      "Epoch [133/150], Training MAE: 0.2591, Training RMSE: 0.3927\n",
      "Epoch [133/150], Validation MAE: 0.1975, Validation RMSE: 0.3243\n"
     ]
    },
    {
     "name": "stderr",
     "output_type": "stream",
     "text": [
      "Epoch 134/150: 100%|██████████| 205/205 [00:18<00:00, 11.28batch/s, mae_loss=0.11] \n"
     ]
    },
    {
     "name": "stdout",
     "output_type": "stream",
     "text": [
      "Epoch [134/150], Training MAE: 0.2586, Training RMSE: 0.3922\n",
      "Epoch [134/150], Validation MAE: 0.1975, Validation RMSE: 0.3244\n"
     ]
    },
    {
     "name": "stderr",
     "output_type": "stream",
     "text": [
      "Epoch 135/150: 100%|██████████| 205/205 [00:17<00:00, 11.64batch/s, mae_loss=0.114]\n"
     ]
    },
    {
     "name": "stdout",
     "output_type": "stream",
     "text": [
      "Epoch [135/150], Training MAE: 0.2587, Training RMSE: 0.3925\n",
      "Epoch [135/150], Validation MAE: 0.1978, Validation RMSE: 0.3242\n"
     ]
    },
    {
     "name": "stderr",
     "output_type": "stream",
     "text": [
      "Epoch 136/150: 100%|██████████| 205/205 [00:17<00:00, 11.54batch/s, mae_loss=0.113]\n"
     ]
    },
    {
     "name": "stdout",
     "output_type": "stream",
     "text": [
      "Epoch [136/150], Training MAE: 0.2584, Training RMSE: 0.3915\n",
      "Epoch [136/150], Validation MAE: 0.1978, Validation RMSE: 0.3242\n"
     ]
    },
    {
     "name": "stderr",
     "output_type": "stream",
     "text": [
      "Epoch 137/150: 100%|██████████| 205/205 [00:18<00:00, 11.26batch/s, mae_loss=0.115]\n"
     ]
    },
    {
     "name": "stdout",
     "output_type": "stream",
     "text": [
      "Epoch [137/150], Training MAE: 0.2584, Training RMSE: 0.3917\n",
      "Epoch [137/150], Validation MAE: 0.1983, Validation RMSE: 0.3242\n"
     ]
    },
    {
     "name": "stderr",
     "output_type": "stream",
     "text": [
      "Epoch 138/150: 100%|██████████| 205/205 [00:17<00:00, 11.57batch/s, mae_loss=0.116]\n"
     ]
    },
    {
     "name": "stdout",
     "output_type": "stream",
     "text": [
      "Epoch [138/150], Training MAE: 0.2580, Training RMSE: 0.3916\n",
      "Epoch [138/150], Validation MAE: 0.1971, Validation RMSE: 0.3240\n"
     ]
    },
    {
     "name": "stderr",
     "output_type": "stream",
     "text": [
      "Epoch 139/150: 100%|██████████| 205/205 [00:17<00:00, 11.45batch/s, mae_loss=0.118]\n"
     ]
    },
    {
     "name": "stdout",
     "output_type": "stream",
     "text": [
      "Epoch [139/150], Training MAE: 0.2577, Training RMSE: 0.3909\n",
      "Epoch [139/150], Validation MAE: 0.1977, Validation RMSE: 0.3241\n"
     ]
    },
    {
     "name": "stderr",
     "output_type": "stream",
     "text": [
      "Epoch 140/150: 100%|██████████| 205/205 [00:18<00:00, 11.34batch/s, mae_loss=0.116]\n"
     ]
    },
    {
     "name": "stdout",
     "output_type": "stream",
     "text": [
      "Epoch [140/150], Training MAE: 0.2579, Training RMSE: 0.3913\n",
      "Epoch [140/150], Validation MAE: 0.1974, Validation RMSE: 0.3238\n"
     ]
    },
    {
     "name": "stderr",
     "output_type": "stream",
     "text": [
      "Epoch 141/150: 100%|██████████| 205/205 [00:17<00:00, 11.46batch/s, mae_loss=0.114]\n"
     ]
    },
    {
     "name": "stdout",
     "output_type": "stream",
     "text": [
      "Epoch [141/150], Training MAE: 0.2576, Training RMSE: 0.3911\n",
      "Epoch [141/150], Validation MAE: 0.1970, Validation RMSE: 0.3238\n"
     ]
    },
    {
     "name": "stderr",
     "output_type": "stream",
     "text": [
      "Epoch 142/150: 100%|██████████| 205/205 [00:17<00:00, 11.56batch/s, mae_loss=0.113]\n"
     ]
    },
    {
     "name": "stdout",
     "output_type": "stream",
     "text": [
      "Epoch [142/150], Training MAE: 0.2575, Training RMSE: 0.3911\n",
      "Epoch [142/150], Validation MAE: 0.1968, Validation RMSE: 0.3238\n"
     ]
    },
    {
     "name": "stderr",
     "output_type": "stream",
     "text": [
      "Epoch 143/150: 100%|██████████| 205/205 [00:18<00:00, 11.21batch/s, mae_loss=0.113]\n"
     ]
    },
    {
     "name": "stdout",
     "output_type": "stream",
     "text": [
      "Epoch [143/150], Training MAE: 0.2570, Training RMSE: 0.3902\n",
      "Epoch [143/150], Validation MAE: 0.1970, Validation RMSE: 0.3237\n"
     ]
    },
    {
     "name": "stderr",
     "output_type": "stream",
     "text": [
      "Epoch 144/150: 100%|██████████| 205/205 [00:17<00:00, 11.49batch/s, mae_loss=0.112]\n"
     ]
    },
    {
     "name": "stdout",
     "output_type": "stream",
     "text": [
      "Epoch [144/150], Training MAE: 0.2569, Training RMSE: 0.3902\n",
      "Epoch [144/150], Validation MAE: 0.1969, Validation RMSE: 0.3241\n"
     ]
    },
    {
     "name": "stderr",
     "output_type": "stream",
     "text": [
      "Epoch 145/150: 100%|██████████| 205/205 [00:17<00:00, 11.73batch/s, mae_loss=0.114]\n"
     ]
    },
    {
     "name": "stdout",
     "output_type": "stream",
     "text": [
      "Epoch [145/150], Training MAE: 0.2572, Training RMSE: 0.3904\n",
      "Epoch [145/150], Validation MAE: 0.1969, Validation RMSE: 0.3240\n"
     ]
    },
    {
     "name": "stderr",
     "output_type": "stream",
     "text": [
      "Epoch 146/150: 100%|██████████| 205/205 [00:17<00:00, 11.59batch/s, mae_loss=0.112]\n"
     ]
    },
    {
     "name": "stdout",
     "output_type": "stream",
     "text": [
      "Epoch [146/150], Training MAE: 0.2566, Training RMSE: 0.3894\n",
      "Epoch [146/150], Validation MAE: 0.1966, Validation RMSE: 0.3239\n"
     ]
    },
    {
     "name": "stderr",
     "output_type": "stream",
     "text": [
      "Epoch 147/150: 100%|██████████| 205/205 [00:18<00:00, 11.14batch/s, mae_loss=0.105]\n"
     ]
    },
    {
     "name": "stdout",
     "output_type": "stream",
     "text": [
      "Epoch [147/150], Training MAE: 0.2562, Training RMSE: 0.3896\n",
      "Epoch [147/150], Validation MAE: 0.1972, Validation RMSE: 0.3238\n"
     ]
    },
    {
     "name": "stderr",
     "output_type": "stream",
     "text": [
      "Epoch 148/150: 100%|██████████| 205/205 [00:17<00:00, 11.50batch/s, mae_loss=0.116]\n"
     ]
    },
    {
     "name": "stdout",
     "output_type": "stream",
     "text": [
      "Epoch [148/150], Training MAE: 0.2562, Training RMSE: 0.3895\n",
      "Epoch [148/150], Validation MAE: 0.1963, Validation RMSE: 0.3237\n"
     ]
    },
    {
     "name": "stderr",
     "output_type": "stream",
     "text": [
      "Epoch 149/150: 100%|██████████| 205/205 [00:17<00:00, 11.74batch/s, mae_loss=0.114]\n"
     ]
    },
    {
     "name": "stdout",
     "output_type": "stream",
     "text": [
      "Epoch [149/150], Training MAE: 0.2564, Training RMSE: 0.3898\n",
      "Epoch [149/150], Validation MAE: 0.1970, Validation RMSE: 0.3237\n"
     ]
    },
    {
     "name": "stderr",
     "output_type": "stream",
     "text": [
      "Epoch 150/150: 100%|██████████| 205/205 [00:18<00:00, 10.95batch/s, mae_loss=0.115]\n"
     ]
    },
    {
     "name": "stdout",
     "output_type": "stream",
     "text": [
      "Epoch [150/150], Training MAE: 0.2561, Training RMSE: 0.3890\n",
      "Epoch [150/150], Validation MAE: 0.1970, Validation RMSE: 0.3236\n",
      "End Prediction Horizon of 6 of shared-layer Model\n",
      "model_shared-layer_attention_6_8 saved\n",
      "Shape of X (features): (10, 13519, 12)\n",
      "Shape of y (targets): (10, 13519)\n",
      "Shape of X_test (features): (10, 3933, 12)\n",
      "Shape of y_test (targets): (10, 3933)\n"
     ]
    },
    {
     "name": "stderr",
     "output_type": "stream",
     "text": [
      "Epoch 1/150: 100%|██████████| 212/212 [00:20<00:00, 10.54batch/s, mae_loss=0.225] \n"
     ]
    },
    {
     "name": "stdout",
     "output_type": "stream",
     "text": [
      "Epoch [1/150], Training MAE: 0.7015, Training RMSE: 0.9247\n",
      "Epoch [1/150], Validation MAE: 0.5488, Validation RMSE: 0.8007\n"
     ]
    },
    {
     "name": "stderr",
     "output_type": "stream",
     "text": [
      "Epoch 2/150: 100%|██████████| 212/212 [00:19<00:00, 10.64batch/s, mae_loss=0.21]  \n"
     ]
    },
    {
     "name": "stdout",
     "output_type": "stream",
     "text": [
      "Epoch [2/150], Training MAE: 0.6612, Training RMSE: 0.8776\n",
      "Epoch [2/150], Validation MAE: 0.5178, Validation RMSE: 0.7556\n"
     ]
    },
    {
     "name": "stderr",
     "output_type": "stream",
     "text": [
      "Epoch 3/150: 100%|██████████| 212/212 [00:21<00:00, 10.04batch/s, mae_loss=0.194] \n"
     ]
    },
    {
     "name": "stdout",
     "output_type": "stream",
     "text": [
      "Epoch [3/150], Training MAE: 0.6190, Training RMSE: 0.8248\n",
      "Epoch [3/150], Validation MAE: 0.4811, Validation RMSE: 0.7025\n"
     ]
    },
    {
     "name": "stderr",
     "output_type": "stream",
     "text": [
      "Epoch 4/150: 100%|██████████| 212/212 [00:20<00:00, 10.59batch/s, mae_loss=0.184] \n"
     ]
    },
    {
     "name": "stdout",
     "output_type": "stream",
     "text": [
      "Epoch [4/150], Training MAE: 0.5706, Training RMSE: 0.7637\n",
      "Epoch [4/150], Validation MAE: 0.4374, Validation RMSE: 0.6412\n"
     ]
    },
    {
     "name": "stderr",
     "output_type": "stream",
     "text": [
      "Epoch 5/150: 100%|██████████| 212/212 [00:20<00:00, 10.53batch/s, mae_loss=0.168] \n"
     ]
    },
    {
     "name": "stdout",
     "output_type": "stream",
     "text": [
      "Epoch [5/150], Training MAE: 0.5200, Training RMSE: 0.7017\n",
      "Epoch [5/150], Validation MAE: 0.3965, Validation RMSE: 0.5847\n"
     ]
    },
    {
     "name": "stderr",
     "output_type": "stream",
     "text": [
      "Epoch 6/150: 100%|██████████| 212/212 [00:21<00:00, 10.01batch/s, mae_loss=0.141] \n"
     ]
    },
    {
     "name": "stdout",
     "output_type": "stream",
     "text": [
      "Epoch [6/150], Training MAE: 0.4778, Training RMSE: 0.6507\n",
      "Epoch [6/150], Validation MAE: 0.3643, Validation RMSE: 0.5423\n"
     ]
    },
    {
     "name": "stderr",
     "output_type": "stream",
     "text": [
      "Epoch 7/150: 100%|██████████| 212/212 [00:19<00:00, 10.66batch/s, mae_loss=0.124] \n"
     ]
    },
    {
     "name": "stdout",
     "output_type": "stream",
     "text": [
      "Epoch [7/150], Training MAE: 0.4501, Training RMSE: 0.6176\n",
      "Epoch [7/150], Validation MAE: 0.3423, Validation RMSE: 0.5149\n"
     ]
    },
    {
     "name": "stderr",
     "output_type": "stream",
     "text": [
      "Epoch 8/150: 100%|██████████| 212/212 [00:20<00:00, 10.38batch/s, mae_loss=0.117] \n"
     ]
    },
    {
     "name": "stdout",
     "output_type": "stream",
     "text": [
      "Epoch [8/150], Training MAE: 0.4315, Training RMSE: 0.5968\n",
      "Epoch [8/150], Validation MAE: 0.3278, Validation RMSE: 0.4971\n"
     ]
    },
    {
     "name": "stderr",
     "output_type": "stream",
     "text": [
      "Epoch 9/150: 100%|██████████| 212/212 [00:20<00:00, 10.57batch/s, mae_loss=0.114] \n"
     ]
    },
    {
     "name": "stdout",
     "output_type": "stream",
     "text": [
      "Epoch [9/150], Training MAE: 0.4178, Training RMSE: 0.5814\n",
      "Epoch [9/150], Validation MAE: 0.3170, Validation RMSE: 0.4832\n"
     ]
    },
    {
     "name": "stderr",
     "output_type": "stream",
     "text": [
      "Epoch 10/150: 100%|██████████| 212/212 [00:20<00:00, 10.46batch/s, mae_loss=0.104] \n"
     ]
    },
    {
     "name": "stdout",
     "output_type": "stream",
     "text": [
      "Epoch [10/150], Training MAE: 0.4073, Training RMSE: 0.5690\n",
      "Epoch [10/150], Validation MAE: 0.3073, Validation RMSE: 0.4712\n"
     ]
    },
    {
     "name": "stderr",
     "output_type": "stream",
     "text": [
      "Epoch 11/150: 100%|██████████| 212/212 [00:20<00:00, 10.12batch/s, mae_loss=0.102] \n"
     ]
    },
    {
     "name": "stdout",
     "output_type": "stream",
     "text": [
      "Epoch [11/150], Training MAE: 0.3981, Training RMSE: 0.5583\n",
      "Epoch [11/150], Validation MAE: 0.2979, Validation RMSE: 0.4599\n"
     ]
    },
    {
     "name": "stderr",
     "output_type": "stream",
     "text": [
      "Epoch 12/150: 100%|██████████| 212/212 [00:19<00:00, 10.61batch/s, mae_loss=0.0913]\n"
     ]
    },
    {
     "name": "stdout",
     "output_type": "stream",
     "text": [
      "Epoch [12/150], Training MAE: 0.3889, Training RMSE: 0.5478\n",
      "Epoch [12/150], Validation MAE: 0.2899, Validation RMSE: 0.4496\n"
     ]
    },
    {
     "name": "stderr",
     "output_type": "stream",
     "text": [
      "Epoch 13/150: 100%|██████████| 212/212 [00:19<00:00, 10.68batch/s, mae_loss=0.083] \n"
     ]
    },
    {
     "name": "stdout",
     "output_type": "stream",
     "text": [
      "Epoch [13/150], Training MAE: 0.3801, Training RMSE: 0.5370\n",
      "Epoch [13/150], Validation MAE: 0.2824, Validation RMSE: 0.4396\n"
     ]
    },
    {
     "name": "stderr",
     "output_type": "stream",
     "text": [
      "Epoch 14/150: 100%|██████████| 212/212 [00:20<00:00, 10.34batch/s, mae_loss=0.0847]\n"
     ]
    },
    {
     "name": "stdout",
     "output_type": "stream",
     "text": [
      "Epoch [14/150], Training MAE: 0.3718, Training RMSE: 0.5270\n",
      "Epoch [14/150], Validation MAE: 0.2749, Validation RMSE: 0.4299\n"
     ]
    },
    {
     "name": "stderr",
     "output_type": "stream",
     "text": [
      "Epoch 15/150: 100%|██████████| 212/212 [00:19<00:00, 10.62batch/s, mae_loss=0.0818]\n"
     ]
    },
    {
     "name": "stdout",
     "output_type": "stream",
     "text": [
      "Epoch [15/150], Training MAE: 0.3640, Training RMSE: 0.5176\n",
      "Epoch [15/150], Validation MAE: 0.2680, Validation RMSE: 0.4210\n"
     ]
    },
    {
     "name": "stderr",
     "output_type": "stream",
     "text": [
      "Epoch 16/150: 100%|██████████| 212/212 [00:20<00:00, 10.14batch/s, mae_loss=0.0802]\n"
     ]
    },
    {
     "name": "stdout",
     "output_type": "stream",
     "text": [
      "Epoch [16/150], Training MAE: 0.3575, Training RMSE: 0.5093\n",
      "Epoch [16/150], Validation MAE: 0.2615, Validation RMSE: 0.4124\n"
     ]
    },
    {
     "name": "stderr",
     "output_type": "stream",
     "text": [
      "Epoch 17/150: 100%|██████████| 212/212 [00:20<00:00, 10.34batch/s, mae_loss=0.0773]\n"
     ]
    },
    {
     "name": "stdout",
     "output_type": "stream",
     "text": [
      "Epoch [17/150], Training MAE: 0.3506, Training RMSE: 0.5004\n",
      "Epoch [17/150], Validation MAE: 0.2563, Validation RMSE: 0.4050\n"
     ]
    },
    {
     "name": "stderr",
     "output_type": "stream",
     "text": [
      "Epoch 18/150: 100%|██████████| 212/212 [00:20<00:00, 10.53batch/s, mae_loss=0.0778]\n"
     ]
    },
    {
     "name": "stdout",
     "output_type": "stream",
     "text": [
      "Epoch [18/150], Training MAE: 0.3438, Training RMSE: 0.4917\n",
      "Epoch [18/150], Validation MAE: 0.2513, Validation RMSE: 0.3977\n"
     ]
    },
    {
     "name": "stderr",
     "output_type": "stream",
     "text": [
      "Epoch 19/150: 100%|██████████| 212/212 [00:20<00:00, 10.30batch/s, mae_loss=0.0734]\n"
     ]
    },
    {
     "name": "stdout",
     "output_type": "stream",
     "text": [
      "Epoch [19/150], Training MAE: 0.3377, Training RMSE: 0.4847\n",
      "Epoch [19/150], Validation MAE: 0.2464, Validation RMSE: 0.3910\n"
     ]
    },
    {
     "name": "stderr",
     "output_type": "stream",
     "text": [
      "Epoch 20/150: 100%|██████████| 212/212 [00:20<00:00, 10.29batch/s, mae_loss=0.064] \n"
     ]
    },
    {
     "name": "stdout",
     "output_type": "stream",
     "text": [
      "Epoch [20/150], Training MAE: 0.3326, Training RMSE: 0.4780\n",
      "Epoch [20/150], Validation MAE: 0.2415, Validation RMSE: 0.3844\n"
     ]
    },
    {
     "name": "stderr",
     "output_type": "stream",
     "text": [
      "Epoch 21/150: 100%|██████████| 212/212 [00:20<00:00, 10.48batch/s, mae_loss=0.0805]\n"
     ]
    },
    {
     "name": "stdout",
     "output_type": "stream",
     "text": [
      "Epoch [21/150], Training MAE: 0.3276, Training RMSE: 0.4718\n",
      "Epoch [21/150], Validation MAE: 0.2379, Validation RMSE: 0.3791\n"
     ]
    },
    {
     "name": "stderr",
     "output_type": "stream",
     "text": [
      "Epoch 22/150: 100%|██████████| 212/212 [00:19<00:00, 10.62batch/s, mae_loss=0.0733]\n"
     ]
    },
    {
     "name": "stdout",
     "output_type": "stream",
     "text": [
      "Epoch [22/150], Training MAE: 0.3236, Training RMSE: 0.4660\n",
      "Epoch [22/150], Validation MAE: 0.2339, Validation RMSE: 0.3739\n"
     ]
    },
    {
     "name": "stderr",
     "output_type": "stream",
     "text": [
      "Epoch 23/150: 100%|██████████| 212/212 [00:20<00:00, 10.33batch/s, mae_loss=0.0798]\n"
     ]
    },
    {
     "name": "stdout",
     "output_type": "stream",
     "text": [
      "Epoch [23/150], Training MAE: 0.3194, Training RMSE: 0.4613\n",
      "Epoch [23/150], Validation MAE: 0.2302, Validation RMSE: 0.3689\n"
     ]
    },
    {
     "name": "stderr",
     "output_type": "stream",
     "text": [
      "Epoch 24/150: 100%|██████████| 212/212 [00:20<00:00, 10.17batch/s, mae_loss=0.0757]\n"
     ]
    },
    {
     "name": "stdout",
     "output_type": "stream",
     "text": [
      "Epoch [24/150], Training MAE: 0.3154, Training RMSE: 0.4564\n",
      "Epoch [24/150], Validation MAE: 0.2281, Validation RMSE: 0.3649\n"
     ]
    },
    {
     "name": "stderr",
     "output_type": "stream",
     "text": [
      "Epoch 25/150: 100%|██████████| 212/212 [00:19<00:00, 10.67batch/s, mae_loss=0.0716]\n"
     ]
    },
    {
     "name": "stdout",
     "output_type": "stream",
     "text": [
      "Epoch [25/150], Training MAE: 0.3119, Training RMSE: 0.4519\n",
      "Epoch [25/150], Validation MAE: 0.2252, Validation RMSE: 0.3618\n"
     ]
    },
    {
     "name": "stderr",
     "output_type": "stream",
     "text": [
      "Epoch 26/150: 100%|██████████| 212/212 [00:21<00:00,  9.74batch/s, mae_loss=0.0732]\n"
     ]
    },
    {
     "name": "stdout",
     "output_type": "stream",
     "text": [
      "Epoch [26/150], Training MAE: 0.3088, Training RMSE: 0.4483\n",
      "Epoch [26/150], Validation MAE: 0.2229, Validation RMSE: 0.3587\n"
     ]
    },
    {
     "name": "stderr",
     "output_type": "stream",
     "text": [
      "Epoch 27/150: 100%|██████████| 212/212 [00:20<00:00, 10.58batch/s, mae_loss=0.0685]\n"
     ]
    },
    {
     "name": "stdout",
     "output_type": "stream",
     "text": [
      "Epoch [27/150], Training MAE: 0.3062, Training RMSE: 0.4450\n",
      "Epoch [27/150], Validation MAE: 0.2208, Validation RMSE: 0.3560\n"
     ]
    },
    {
     "name": "stderr",
     "output_type": "stream",
     "text": [
      "Epoch 28/150: 100%|██████████| 212/212 [00:20<00:00, 10.39batch/s, mae_loss=0.0684]\n"
     ]
    },
    {
     "name": "stdout",
     "output_type": "stream",
     "text": [
      "Epoch [28/150], Training MAE: 0.3040, Training RMSE: 0.4432\n",
      "Epoch [28/150], Validation MAE: 0.2191, Validation RMSE: 0.3540\n"
     ]
    },
    {
     "name": "stderr",
     "output_type": "stream",
     "text": [
      "Epoch 29/150: 100%|██████████| 212/212 [00:20<00:00, 10.16batch/s, mae_loss=0.0678]\n"
     ]
    },
    {
     "name": "stdout",
     "output_type": "stream",
     "text": [
      "Epoch [29/150], Training MAE: 0.3024, Training RMSE: 0.4407\n",
      "Epoch [29/150], Validation MAE: 0.2175, Validation RMSE: 0.3513\n"
     ]
    },
    {
     "name": "stderr",
     "output_type": "stream",
     "text": [
      "Epoch 30/150: 100%|██████████| 212/212 [00:19<00:00, 10.64batch/s, mae_loss=0.0679]\n"
     ]
    },
    {
     "name": "stdout",
     "output_type": "stream",
     "text": [
      "Epoch [30/150], Training MAE: 0.3001, Training RMSE: 0.4382\n",
      "Epoch [30/150], Validation MAE: 0.2161, Validation RMSE: 0.3500\n"
     ]
    },
    {
     "name": "stderr",
     "output_type": "stream",
     "text": [
      "Epoch 31/150: 100%|██████████| 212/212 [00:20<00:00, 10.54batch/s, mae_loss=0.0779]\n"
     ]
    },
    {
     "name": "stdout",
     "output_type": "stream",
     "text": [
      "Epoch [31/150], Training MAE: 0.2980, Training RMSE: 0.4359\n",
      "Epoch [31/150], Validation MAE: 0.2150, Validation RMSE: 0.3482\n"
     ]
    },
    {
     "name": "stderr",
     "output_type": "stream",
     "text": [
      "Epoch 32/150: 100%|██████████| 212/212 [00:20<00:00, 10.27batch/s, mae_loss=0.0739]\n"
     ]
    },
    {
     "name": "stdout",
     "output_type": "stream",
     "text": [
      "Epoch [32/150], Training MAE: 0.2962, Training RMSE: 0.4338\n",
      "Epoch [32/150], Validation MAE: 0.2131, Validation RMSE: 0.3465\n"
     ]
    },
    {
     "name": "stderr",
     "output_type": "stream",
     "text": [
      "Epoch 33/150: 100%|██████████| 212/212 [00:20<00:00, 10.54batch/s, mae_loss=0.0656]\n"
     ]
    },
    {
     "name": "stdout",
     "output_type": "stream",
     "text": [
      "Epoch [33/150], Training MAE: 0.2944, Training RMSE: 0.4314\n",
      "Epoch [33/150], Validation MAE: 0.2124, Validation RMSE: 0.3452\n"
     ]
    },
    {
     "name": "stderr",
     "output_type": "stream",
     "text": [
      "Epoch 34/150: 100%|██████████| 212/212 [00:20<00:00, 10.20batch/s, mae_loss=0.0731]\n"
     ]
    },
    {
     "name": "stdout",
     "output_type": "stream",
     "text": [
      "Epoch [34/150], Training MAE: 0.2927, Training RMSE: 0.4296\n",
      "Epoch [34/150], Validation MAE: 0.2113, Validation RMSE: 0.3439\n"
     ]
    },
    {
     "name": "stderr",
     "output_type": "stream",
     "text": [
      "Epoch 35/150: 100%|██████████| 212/212 [00:20<00:00, 10.51batch/s, mae_loss=0.0589]\n"
     ]
    },
    {
     "name": "stdout",
     "output_type": "stream",
     "text": [
      "Epoch [35/150], Training MAE: 0.2913, Training RMSE: 0.4286\n",
      "Epoch [35/150], Validation MAE: 0.2110, Validation RMSE: 0.3430\n"
     ]
    },
    {
     "name": "stderr",
     "output_type": "stream",
     "text": [
      "Epoch 36/150: 100%|██████████| 212/212 [00:20<00:00, 10.47batch/s, mae_loss=0.064] \n"
     ]
    },
    {
     "name": "stdout",
     "output_type": "stream",
     "text": [
      "Epoch [36/150], Training MAE: 0.2904, Training RMSE: 0.4277\n",
      "Epoch [36/150], Validation MAE: 0.2101, Validation RMSE: 0.3421\n"
     ]
    },
    {
     "name": "stderr",
     "output_type": "stream",
     "text": [
      "Epoch 37/150: 100%|██████████| 212/212 [00:21<00:00,  9.93batch/s, mae_loss=0.069] \n"
     ]
    },
    {
     "name": "stdout",
     "output_type": "stream",
     "text": [
      "Epoch [37/150], Training MAE: 0.2885, Training RMSE: 0.4253\n",
      "Epoch [37/150], Validation MAE: 0.2095, Validation RMSE: 0.3410\n"
     ]
    },
    {
     "name": "stderr",
     "output_type": "stream",
     "text": [
      "Epoch 38/150: 100%|██████████| 212/212 [00:19<00:00, 10.65batch/s, mae_loss=0.0733]\n"
     ]
    },
    {
     "name": "stdout",
     "output_type": "stream",
     "text": [
      "Epoch [38/150], Training MAE: 0.2881, Training RMSE: 0.4246\n",
      "Epoch [38/150], Validation MAE: 0.2083, Validation RMSE: 0.3399\n"
     ]
    },
    {
     "name": "stderr",
     "output_type": "stream",
     "text": [
      "Epoch 39/150: 100%|██████████| 212/212 [00:19<00:00, 10.70batch/s, mae_loss=0.0651]\n"
     ]
    },
    {
     "name": "stdout",
     "output_type": "stream",
     "text": [
      "Epoch [39/150], Training MAE: 0.2869, Training RMSE: 0.4234\n",
      "Epoch [39/150], Validation MAE: 0.2076, Validation RMSE: 0.3392\n"
     ]
    },
    {
     "name": "stderr",
     "output_type": "stream",
     "text": [
      "Epoch 40/150: 100%|██████████| 212/212 [00:20<00:00, 10.17batch/s, mae_loss=0.0674]\n"
     ]
    },
    {
     "name": "stdout",
     "output_type": "stream",
     "text": [
      "Epoch [40/150], Training MAE: 0.2848, Training RMSE: 0.4207\n",
      "Epoch [40/150], Validation MAE: 0.2068, Validation RMSE: 0.3386\n"
     ]
    },
    {
     "name": "stderr",
     "output_type": "stream",
     "text": [
      "Epoch 41/150: 100%|██████████| 212/212 [00:20<00:00, 10.33batch/s, mae_loss=0.0585]\n"
     ]
    },
    {
     "name": "stdout",
     "output_type": "stream",
     "text": [
      "Epoch [41/150], Training MAE: 0.2847, Training RMSE: 0.4207\n",
      "Epoch [41/150], Validation MAE: 0.2065, Validation RMSE: 0.3379\n"
     ]
    },
    {
     "name": "stderr",
     "output_type": "stream",
     "text": [
      "Epoch 42/150: 100%|██████████| 212/212 [00:20<00:00, 10.30batch/s, mae_loss=0.0732]\n"
     ]
    },
    {
     "name": "stdout",
     "output_type": "stream",
     "text": [
      "Epoch [42/150], Training MAE: 0.2835, Training RMSE: 0.4195\n",
      "Epoch [42/150], Validation MAE: 0.2057, Validation RMSE: 0.3371\n"
     ]
    },
    {
     "name": "stderr",
     "output_type": "stream",
     "text": [
      "Epoch 43/150: 100%|██████████| 212/212 [00:20<00:00, 10.40batch/s, mae_loss=0.0645]\n"
     ]
    },
    {
     "name": "stdout",
     "output_type": "stream",
     "text": [
      "Epoch [43/150], Training MAE: 0.2825, Training RMSE: 0.4188\n",
      "Epoch [43/150], Validation MAE: 0.2050, Validation RMSE: 0.3364\n"
     ]
    },
    {
     "name": "stderr",
     "output_type": "stream",
     "text": [
      "Epoch 44/150: 100%|██████████| 212/212 [00:20<00:00, 10.47batch/s, mae_loss=0.0573]\n"
     ]
    },
    {
     "name": "stdout",
     "output_type": "stream",
     "text": [
      "Epoch [44/150], Training MAE: 0.2811, Training RMSE: 0.4172\n",
      "Epoch [44/150], Validation MAE: 0.2048, Validation RMSE: 0.3360\n"
     ]
    },
    {
     "name": "stderr",
     "output_type": "stream",
     "text": [
      "Epoch 45/150: 100%|██████████| 212/212 [00:20<00:00, 10.32batch/s, mae_loss=0.0658]\n"
     ]
    },
    {
     "name": "stdout",
     "output_type": "stream",
     "text": [
      "Epoch [45/150], Training MAE: 0.2801, Training RMSE: 0.4155\n",
      "Epoch [45/150], Validation MAE: 0.2042, Validation RMSE: 0.3357\n"
     ]
    },
    {
     "name": "stderr",
     "output_type": "stream",
     "text": [
      "Epoch 46/150: 100%|██████████| 212/212 [00:20<00:00, 10.36batch/s, mae_loss=0.0637]\n"
     ]
    },
    {
     "name": "stdout",
     "output_type": "stream",
     "text": [
      "Epoch [46/150], Training MAE: 0.2793, Training RMSE: 0.4157\n",
      "Epoch [46/150], Validation MAE: 0.2038, Validation RMSE: 0.3351\n"
     ]
    },
    {
     "name": "stderr",
     "output_type": "stream",
     "text": [
      "Epoch 47/150: 100%|██████████| 212/212 [00:20<00:00, 10.59batch/s, mae_loss=0.0656]\n"
     ]
    },
    {
     "name": "stdout",
     "output_type": "stream",
     "text": [
      "Epoch [47/150], Training MAE: 0.2782, Training RMSE: 0.4137\n",
      "Epoch [47/150], Validation MAE: 0.2034, Validation RMSE: 0.3345\n"
     ]
    },
    {
     "name": "stderr",
     "output_type": "stream",
     "text": [
      "Epoch 48/150: 100%|██████████| 212/212 [00:20<00:00, 10.21batch/s, mae_loss=0.0663]\n"
     ]
    },
    {
     "name": "stdout",
     "output_type": "stream",
     "text": [
      "Epoch [48/150], Training MAE: 0.2776, Training RMSE: 0.4132\n",
      "Epoch [48/150], Validation MAE: 0.2031, Validation RMSE: 0.3344\n"
     ]
    },
    {
     "name": "stderr",
     "output_type": "stream",
     "text": [
      "Epoch 49/150: 100%|██████████| 212/212 [00:20<00:00, 10.31batch/s, mae_loss=0.0552]\n"
     ]
    },
    {
     "name": "stdout",
     "output_type": "stream",
     "text": [
      "Epoch [49/150], Training MAE: 0.2769, Training RMSE: 0.4124\n",
      "Epoch [49/150], Validation MAE: 0.2027, Validation RMSE: 0.3337\n"
     ]
    },
    {
     "name": "stderr",
     "output_type": "stream",
     "text": [
      "Epoch 50/150: 100%|██████████| 212/212 [00:21<00:00,  9.85batch/s, mae_loss=0.0634]\n"
     ]
    },
    {
     "name": "stdout",
     "output_type": "stream",
     "text": [
      "Epoch [50/150], Training MAE: 0.2761, Training RMSE: 0.4116\n",
      "Epoch [50/150], Validation MAE: 0.2022, Validation RMSE: 0.3332\n"
     ]
    },
    {
     "name": "stderr",
     "output_type": "stream",
     "text": [
      "Epoch 51/150: 100%|██████████| 212/212 [00:20<00:00, 10.15batch/s, mae_loss=0.0611]\n"
     ]
    },
    {
     "name": "stdout",
     "output_type": "stream",
     "text": [
      "Epoch [51/150], Training MAE: 0.2752, Training RMSE: 0.4111\n",
      "Epoch [51/150], Validation MAE: 0.2018, Validation RMSE: 0.3330\n"
     ]
    },
    {
     "name": "stderr",
     "output_type": "stream",
     "text": [
      "Epoch 52/150: 100%|██████████| 212/212 [00:20<00:00, 10.22batch/s, mae_loss=0.0572]\n"
     ]
    },
    {
     "name": "stdout",
     "output_type": "stream",
     "text": [
      "Epoch [52/150], Training MAE: 0.2750, Training RMSE: 0.4108\n",
      "Epoch [52/150], Validation MAE: 0.2015, Validation RMSE: 0.3326\n"
     ]
    },
    {
     "name": "stderr",
     "output_type": "stream",
     "text": [
      "Epoch 53/150: 100%|██████████| 212/212 [00:20<00:00, 10.27batch/s, mae_loss=0.0648]\n"
     ]
    },
    {
     "name": "stdout",
     "output_type": "stream",
     "text": [
      "Epoch [53/150], Training MAE: 0.2743, Training RMSE: 0.4098\n",
      "Epoch [53/150], Validation MAE: 0.2015, Validation RMSE: 0.3325\n"
     ]
    },
    {
     "name": "stderr",
     "output_type": "stream",
     "text": [
      "Epoch 54/150: 100%|██████████| 212/212 [00:20<00:00, 10.36batch/s, mae_loss=0.0619]\n"
     ]
    },
    {
     "name": "stdout",
     "output_type": "stream",
     "text": [
      "Epoch [54/150], Training MAE: 0.2733, Training RMSE: 0.4089\n",
      "Epoch [54/150], Validation MAE: 0.2011, Validation RMSE: 0.3320\n"
     ]
    },
    {
     "name": "stderr",
     "output_type": "stream",
     "text": [
      "Epoch 55/150: 100%|██████████| 212/212 [00:20<00:00, 10.21batch/s, mae_loss=0.0575]\n"
     ]
    },
    {
     "name": "stdout",
     "output_type": "stream",
     "text": [
      "Epoch [55/150], Training MAE: 0.2725, Training RMSE: 0.4077\n",
      "Epoch [55/150], Validation MAE: 0.2007, Validation RMSE: 0.3317\n"
     ]
    },
    {
     "name": "stderr",
     "output_type": "stream",
     "text": [
      "Epoch 56/150: 100%|██████████| 212/212 [00:19<00:00, 10.65batch/s, mae_loss=0.0556]\n"
     ]
    },
    {
     "name": "stdout",
     "output_type": "stream",
     "text": [
      "Epoch [56/150], Training MAE: 0.2711, Training RMSE: 0.4063\n",
      "Epoch [56/150], Validation MAE: 0.2005, Validation RMSE: 0.3318\n"
     ]
    },
    {
     "name": "stderr",
     "output_type": "stream",
     "text": [
      "Epoch 57/150: 100%|██████████| 212/212 [00:20<00:00, 10.20batch/s, mae_loss=0.0608]\n"
     ]
    },
    {
     "name": "stdout",
     "output_type": "stream",
     "text": [
      "Epoch [57/150], Training MAE: 0.2716, Training RMSE: 0.4066\n",
      "Epoch [57/150], Validation MAE: 0.2000, Validation RMSE: 0.3310\n"
     ]
    },
    {
     "name": "stderr",
     "output_type": "stream",
     "text": [
      "Epoch 58/150: 100%|██████████| 212/212 [00:20<00:00, 10.36batch/s, mae_loss=0.0571]\n"
     ]
    },
    {
     "name": "stdout",
     "output_type": "stream",
     "text": [
      "Epoch [58/150], Training MAE: 0.2704, Training RMSE: 0.4057\n",
      "Epoch [58/150], Validation MAE: 0.1998, Validation RMSE: 0.3310\n"
     ]
    },
    {
     "name": "stderr",
     "output_type": "stream",
     "text": [
      "Epoch 59/150: 100%|██████████| 212/212 [00:19<00:00, 10.64batch/s, mae_loss=0.0623]\n"
     ]
    },
    {
     "name": "stdout",
     "output_type": "stream",
     "text": [
      "Epoch [59/150], Training MAE: 0.2699, Training RMSE: 0.4046\n",
      "Epoch [59/150], Validation MAE: 0.2004, Validation RMSE: 0.3311\n"
     ]
    },
    {
     "name": "stderr",
     "output_type": "stream",
     "text": [
      "Epoch 60/150: 100%|██████████| 212/212 [00:20<00:00, 10.28batch/s, mae_loss=0.0618]\n"
     ]
    },
    {
     "name": "stdout",
     "output_type": "stream",
     "text": [
      "Epoch [60/150], Training MAE: 0.2699, Training RMSE: 0.4055\n",
      "Epoch [60/150], Validation MAE: 0.1994, Validation RMSE: 0.3305\n"
     ]
    },
    {
     "name": "stderr",
     "output_type": "stream",
     "text": [
      "Epoch 61/150: 100%|██████████| 212/212 [00:20<00:00, 10.43batch/s, mae_loss=0.0564]\n"
     ]
    },
    {
     "name": "stdout",
     "output_type": "stream",
     "text": [
      "Epoch [61/150], Training MAE: 0.2689, Training RMSE: 0.4039\n",
      "Epoch [61/150], Validation MAE: 0.1995, Validation RMSE: 0.3303\n"
     ]
    },
    {
     "name": "stderr",
     "output_type": "stream",
     "text": [
      "Epoch 62/150: 100%|██████████| 212/212 [00:20<00:00, 10.55batch/s, mae_loss=0.0666]\n"
     ]
    },
    {
     "name": "stdout",
     "output_type": "stream",
     "text": [
      "Epoch [62/150], Training MAE: 0.2682, Training RMSE: 0.4029\n",
      "Epoch [62/150], Validation MAE: 0.1994, Validation RMSE: 0.3303\n"
     ]
    },
    {
     "name": "stderr",
     "output_type": "stream",
     "text": [
      "Epoch 63/150: 100%|██████████| 212/212 [00:20<00:00, 10.22batch/s, mae_loss=0.0584]\n"
     ]
    },
    {
     "name": "stdout",
     "output_type": "stream",
     "text": [
      "Epoch [63/150], Training MAE: 0.2681, Training RMSE: 0.4032\n",
      "Epoch [63/150], Validation MAE: 0.1988, Validation RMSE: 0.3300\n"
     ]
    },
    {
     "name": "stderr",
     "output_type": "stream",
     "text": [
      "Epoch 64/150: 100%|██████████| 212/212 [00:20<00:00, 10.34batch/s, mae_loss=0.0633]\n"
     ]
    },
    {
     "name": "stdout",
     "output_type": "stream",
     "text": [
      "Epoch [64/150], Training MAE: 0.2677, Training RMSE: 0.4028\n",
      "Epoch [64/150], Validation MAE: 0.1990, Validation RMSE: 0.3297\n"
     ]
    },
    {
     "name": "stderr",
     "output_type": "stream",
     "text": [
      "Epoch 65/150: 100%|██████████| 212/212 [00:20<00:00, 10.38batch/s, mae_loss=0.0545]\n"
     ]
    },
    {
     "name": "stdout",
     "output_type": "stream",
     "text": [
      "Epoch [65/150], Training MAE: 0.2662, Training RMSE: 0.4008\n",
      "Epoch [65/150], Validation MAE: 0.1980, Validation RMSE: 0.3293\n"
     ]
    },
    {
     "name": "stderr",
     "output_type": "stream",
     "text": [
      "Epoch 66/150: 100%|██████████| 212/212 [00:20<00:00, 10.15batch/s, mae_loss=0.0678]\n"
     ]
    },
    {
     "name": "stdout",
     "output_type": "stream",
     "text": [
      "Epoch [66/150], Training MAE: 0.2664, Training RMSE: 0.4011\n",
      "Epoch [66/150], Validation MAE: 0.1984, Validation RMSE: 0.3291\n"
     ]
    },
    {
     "name": "stderr",
     "output_type": "stream",
     "text": [
      "Epoch 67/150: 100%|██████████| 212/212 [00:20<00:00, 10.42batch/s, mae_loss=0.0576]\n"
     ]
    },
    {
     "name": "stdout",
     "output_type": "stream",
     "text": [
      "Epoch [67/150], Training MAE: 0.2654, Training RMSE: 0.3994\n",
      "Epoch [67/150], Validation MAE: 0.1983, Validation RMSE: 0.3288\n"
     ]
    },
    {
     "name": "stderr",
     "output_type": "stream",
     "text": [
      "Epoch 68/150: 100%|██████████| 212/212 [00:20<00:00, 10.18batch/s, mae_loss=0.064] \n"
     ]
    },
    {
     "name": "stdout",
     "output_type": "stream",
     "text": [
      "Epoch [68/150], Training MAE: 0.2654, Training RMSE: 0.4003\n",
      "Epoch [68/150], Validation MAE: 0.1980, Validation RMSE: 0.3287\n"
     ]
    },
    {
     "name": "stderr",
     "output_type": "stream",
     "text": [
      "Epoch 69/150: 100%|██████████| 212/212 [00:20<00:00, 10.34batch/s, mae_loss=0.0643]\n"
     ]
    },
    {
     "name": "stdout",
     "output_type": "stream",
     "text": [
      "Epoch [69/150], Training MAE: 0.2646, Training RMSE: 0.3987\n",
      "Epoch [69/150], Validation MAE: 0.1980, Validation RMSE: 0.3288\n"
     ]
    },
    {
     "name": "stderr",
     "output_type": "stream",
     "text": [
      "Epoch 70/150: 100%|██████████| 212/212 [00:19<00:00, 10.68batch/s, mae_loss=0.0639]\n"
     ]
    },
    {
     "name": "stdout",
     "output_type": "stream",
     "text": [
      "Epoch [70/150], Training MAE: 0.2649, Training RMSE: 0.3996\n",
      "Epoch [70/150], Validation MAE: 0.1980, Validation RMSE: 0.3284\n"
     ]
    },
    {
     "name": "stderr",
     "output_type": "stream",
     "text": [
      "Epoch 71/150: 100%|██████████| 212/212 [00:20<00:00, 10.20batch/s, mae_loss=0.0615]\n"
     ]
    },
    {
     "name": "stdout",
     "output_type": "stream",
     "text": [
      "Epoch [71/150], Training MAE: 0.2645, Training RMSE: 0.3992\n",
      "Epoch [71/150], Validation MAE: 0.1975, Validation RMSE: 0.3284\n"
     ]
    },
    {
     "name": "stderr",
     "output_type": "stream",
     "text": [
      "Epoch 72/150: 100%|██████████| 212/212 [00:20<00:00, 10.51batch/s, mae_loss=0.0616]\n"
     ]
    },
    {
     "name": "stdout",
     "output_type": "stream",
     "text": [
      "Epoch [72/150], Training MAE: 0.2637, Training RMSE: 0.3983\n",
      "Epoch [72/150], Validation MAE: 0.1979, Validation RMSE: 0.3281\n"
     ]
    },
    {
     "name": "stderr",
     "output_type": "stream",
     "text": [
      "Epoch 73/150: 100%|██████████| 212/212 [00:20<00:00, 10.46batch/s, mae_loss=0.0595]\n"
     ]
    },
    {
     "name": "stdout",
     "output_type": "stream",
     "text": [
      "Epoch [73/150], Training MAE: 0.2629, Training RMSE: 0.3977\n",
      "Epoch [73/150], Validation MAE: 0.1973, Validation RMSE: 0.3279\n"
     ]
    },
    {
     "name": "stderr",
     "output_type": "stream",
     "text": [
      "Epoch 74/150: 100%|██████████| 212/212 [00:20<00:00, 10.16batch/s, mae_loss=0.0542]\n"
     ]
    },
    {
     "name": "stdout",
     "output_type": "stream",
     "text": [
      "Epoch [74/150], Training MAE: 0.2630, Training RMSE: 0.3974\n",
      "Epoch [74/150], Validation MAE: 0.1970, Validation RMSE: 0.3277\n"
     ]
    },
    {
     "name": "stderr",
     "output_type": "stream",
     "text": [
      "Epoch 75/150: 100%|██████████| 212/212 [00:20<00:00, 10.51batch/s, mae_loss=0.0593]\n"
     ]
    },
    {
     "name": "stdout",
     "output_type": "stream",
     "text": [
      "Epoch [75/150], Training MAE: 0.2623, Training RMSE: 0.3968\n",
      "Epoch [75/150], Validation MAE: 0.1967, Validation RMSE: 0.3274\n"
     ]
    },
    {
     "name": "stderr",
     "output_type": "stream",
     "text": [
      "Epoch 76/150: 100%|██████████| 212/212 [00:20<00:00, 10.43batch/s, mae_loss=0.0536]\n"
     ]
    },
    {
     "name": "stdout",
     "output_type": "stream",
     "text": [
      "Epoch [76/150], Training MAE: 0.2623, Training RMSE: 0.3969\n",
      "Epoch [76/150], Validation MAE: 0.1970, Validation RMSE: 0.3276\n"
     ]
    },
    {
     "name": "stderr",
     "output_type": "stream",
     "text": [
      "Epoch 77/150: 100%|██████████| 212/212 [00:20<00:00, 10.32batch/s, mae_loss=0.0583]\n"
     ]
    },
    {
     "name": "stdout",
     "output_type": "stream",
     "text": [
      "Epoch [77/150], Training MAE: 0.2618, Training RMSE: 0.3961\n",
      "Epoch [77/150], Validation MAE: 0.1970, Validation RMSE: 0.3274\n"
     ]
    },
    {
     "name": "stderr",
     "output_type": "stream",
     "text": [
      "Epoch 78/150: 100%|██████████| 212/212 [00:20<00:00, 10.35batch/s, mae_loss=0.0619]\n"
     ]
    },
    {
     "name": "stdout",
     "output_type": "stream",
     "text": [
      "Epoch [78/150], Training MAE: 0.2609, Training RMSE: 0.3954\n",
      "Epoch [78/150], Validation MAE: 0.1966, Validation RMSE: 0.3272\n"
     ]
    },
    {
     "name": "stderr",
     "output_type": "stream",
     "text": [
      "Epoch 79/150: 100%|██████████| 212/212 [00:20<00:00, 10.43batch/s, mae_loss=0.0493]\n"
     ]
    },
    {
     "name": "stdout",
     "output_type": "stream",
     "text": [
      "Epoch [79/150], Training MAE: 0.2607, Training RMSE: 0.3953\n",
      "Epoch [79/150], Validation MAE: 0.1965, Validation RMSE: 0.3271\n"
     ]
    },
    {
     "name": "stderr",
     "output_type": "stream",
     "text": [
      "Epoch 80/150: 100%|██████████| 212/212 [00:21<00:00, 10.02batch/s, mae_loss=0.0589]\n"
     ]
    },
    {
     "name": "stdout",
     "output_type": "stream",
     "text": [
      "Epoch [80/150], Training MAE: 0.2605, Training RMSE: 0.3951\n",
      "Epoch [80/150], Validation MAE: 0.1958, Validation RMSE: 0.3268\n"
     ]
    },
    {
     "name": "stderr",
     "output_type": "stream",
     "text": [
      "Epoch 81/150: 100%|██████████| 212/212 [00:21<00:00,  9.81batch/s, mae_loss=0.0638]\n"
     ]
    },
    {
     "name": "stdout",
     "output_type": "stream",
     "text": [
      "Epoch [81/150], Training MAE: 0.2599, Training RMSE: 0.3944\n",
      "Epoch [81/150], Validation MAE: 0.1960, Validation RMSE: 0.3269\n"
     ]
    },
    {
     "name": "stderr",
     "output_type": "stream",
     "text": [
      "Epoch 82/150: 100%|██████████| 212/212 [00:20<00:00, 10.56batch/s, mae_loss=0.0545]\n"
     ]
    },
    {
     "name": "stdout",
     "output_type": "stream",
     "text": [
      "Epoch [82/150], Training MAE: 0.2598, Training RMSE: 0.3939\n",
      "Epoch [82/150], Validation MAE: 0.1961, Validation RMSE: 0.3270\n"
     ]
    },
    {
     "name": "stderr",
     "output_type": "stream",
     "text": [
      "Epoch 83/150: 100%|██████████| 212/212 [00:20<00:00, 10.36batch/s, mae_loss=0.0633]\n"
     ]
    },
    {
     "name": "stdout",
     "output_type": "stream",
     "text": [
      "Epoch [83/150], Training MAE: 0.2592, Training RMSE: 0.3940\n",
      "Epoch [83/150], Validation MAE: 0.1956, Validation RMSE: 0.3265\n"
     ]
    },
    {
     "name": "stderr",
     "output_type": "stream",
     "text": [
      "Epoch 84/150: 100%|██████████| 212/212 [00:20<00:00, 10.32batch/s, mae_loss=0.0614]\n"
     ]
    },
    {
     "name": "stdout",
     "output_type": "stream",
     "text": [
      "Epoch [84/150], Training MAE: 0.2590, Training RMSE: 0.3929\n",
      "Epoch [84/150], Validation MAE: 0.1953, Validation RMSE: 0.3264\n"
     ]
    },
    {
     "name": "stderr",
     "output_type": "stream",
     "text": [
      "Epoch 85/150: 100%|██████████| 212/212 [00:20<00:00, 10.57batch/s, mae_loss=0.063] \n"
     ]
    },
    {
     "name": "stdout",
     "output_type": "stream",
     "text": [
      "Epoch [85/150], Training MAE: 0.2588, Training RMSE: 0.3931\n",
      "Epoch [85/150], Validation MAE: 0.1954, Validation RMSE: 0.3265\n"
     ]
    },
    {
     "name": "stderr",
     "output_type": "stream",
     "text": [
      "Epoch 86/150: 100%|██████████| 212/212 [00:20<00:00, 10.43batch/s, mae_loss=0.0566]\n"
     ]
    },
    {
     "name": "stdout",
     "output_type": "stream",
     "text": [
      "Epoch [86/150], Training MAE: 0.2586, Training RMSE: 0.3926\n",
      "Epoch [86/150], Validation MAE: 0.1956, Validation RMSE: 0.3263\n"
     ]
    },
    {
     "name": "stderr",
     "output_type": "stream",
     "text": [
      "Epoch 87/150: 100%|██████████| 212/212 [00:20<00:00, 10.24batch/s, mae_loss=0.0554]\n"
     ]
    },
    {
     "name": "stdout",
     "output_type": "stream",
     "text": [
      "Epoch [87/150], Training MAE: 0.2580, Training RMSE: 0.3918\n",
      "Epoch [87/150], Validation MAE: 0.1958, Validation RMSE: 0.3262\n"
     ]
    },
    {
     "name": "stderr",
     "output_type": "stream",
     "text": [
      "Epoch 88/150: 100%|██████████| 212/212 [00:20<00:00, 10.52batch/s, mae_loss=0.0569]\n"
     ]
    },
    {
     "name": "stdout",
     "output_type": "stream",
     "text": [
      "Epoch [88/150], Training MAE: 0.2576, Training RMSE: 0.3912\n",
      "Epoch [88/150], Validation MAE: 0.1955, Validation RMSE: 0.3263\n"
     ]
    },
    {
     "name": "stderr",
     "output_type": "stream",
     "text": [
      "Epoch 89/150: 100%|██████████| 212/212 [00:20<00:00, 10.15batch/s, mae_loss=0.055] \n"
     ]
    },
    {
     "name": "stdout",
     "output_type": "stream",
     "text": [
      "Epoch [89/150], Training MAE: 0.2577, Training RMSE: 0.3919\n",
      "Epoch [89/150], Validation MAE: 0.1955, Validation RMSE: 0.3262\n"
     ]
    },
    {
     "name": "stderr",
     "output_type": "stream",
     "text": [
      "Epoch 90/150: 100%|██████████| 212/212 [00:20<00:00, 10.50batch/s, mae_loss=0.0578]\n"
     ]
    },
    {
     "name": "stdout",
     "output_type": "stream",
     "text": [
      "Epoch [90/150], Training MAE: 0.2575, Training RMSE: 0.3914\n",
      "Epoch [90/150], Validation MAE: 0.1953, Validation RMSE: 0.3262\n"
     ]
    },
    {
     "name": "stderr",
     "output_type": "stream",
     "text": [
      "Epoch 91/150: 100%|██████████| 212/212 [00:20<00:00, 10.39batch/s, mae_loss=0.0553]\n"
     ]
    },
    {
     "name": "stdout",
     "output_type": "stream",
     "text": [
      "Epoch [91/150], Training MAE: 0.2570, Training RMSE: 0.3909\n",
      "Epoch [91/150], Validation MAE: 0.1950, Validation RMSE: 0.3257\n"
     ]
    },
    {
     "name": "stderr",
     "output_type": "stream",
     "text": [
      "Epoch 92/150: 100%|██████████| 212/212 [00:20<00:00, 10.29batch/s, mae_loss=0.0525]\n"
     ]
    },
    {
     "name": "stdout",
     "output_type": "stream",
     "text": [
      "Epoch [92/150], Training MAE: 0.2567, Training RMSE: 0.3905\n",
      "Epoch [92/150], Validation MAE: 0.1949, Validation RMSE: 0.3257\n"
     ]
    },
    {
     "name": "stderr",
     "output_type": "stream",
     "text": [
      "Epoch 93/150: 100%|██████████| 212/212 [00:19<00:00, 10.63batch/s, mae_loss=0.054] \n"
     ]
    },
    {
     "name": "stdout",
     "output_type": "stream",
     "text": [
      "Epoch [93/150], Training MAE: 0.2568, Training RMSE: 0.3911\n",
      "Epoch [93/150], Validation MAE: 0.1951, Validation RMSE: 0.3260\n"
     ]
    },
    {
     "name": "stderr",
     "output_type": "stream",
     "text": [
      "Epoch 94/150: 100%|██████████| 212/212 [00:20<00:00, 10.38batch/s, mae_loss=0.0501]\n"
     ]
    },
    {
     "name": "stdout",
     "output_type": "stream",
     "text": [
      "Epoch [94/150], Training MAE: 0.2558, Training RMSE: 0.3896\n",
      "Epoch [94/150], Validation MAE: 0.1947, Validation RMSE: 0.3259\n"
     ]
    },
    {
     "name": "stderr",
     "output_type": "stream",
     "text": [
      "Epoch 95/150: 100%|██████████| 212/212 [00:20<00:00, 10.39batch/s, mae_loss=0.0618]\n"
     ]
    },
    {
     "name": "stdout",
     "output_type": "stream",
     "text": [
      "Epoch [95/150], Training MAE: 0.2559, Training RMSE: 0.3902\n",
      "Epoch [95/150], Validation MAE: 0.1944, Validation RMSE: 0.3255\n"
     ]
    },
    {
     "name": "stderr",
     "output_type": "stream",
     "text": [
      "Epoch 96/150: 100%|██████████| 212/212 [00:20<00:00, 10.46batch/s, mae_loss=0.0542]\n"
     ]
    },
    {
     "name": "stdout",
     "output_type": "stream",
     "text": [
      "Epoch [96/150], Training MAE: 0.2553, Training RMSE: 0.3893\n",
      "Epoch [96/150], Validation MAE: 0.1945, Validation RMSE: 0.3253\n"
     ]
    },
    {
     "name": "stderr",
     "output_type": "stream",
     "text": [
      "Epoch 97/150: 100%|██████████| 212/212 [00:21<00:00, 10.09batch/s, mae_loss=0.053] \n"
     ]
    },
    {
     "name": "stdout",
     "output_type": "stream",
     "text": [
      "Epoch [97/150], Training MAE: 0.2553, Training RMSE: 0.3897\n",
      "Epoch [97/150], Validation MAE: 0.1943, Validation RMSE: 0.3250\n"
     ]
    },
    {
     "name": "stderr",
     "output_type": "stream",
     "text": [
      "Epoch 98/150: 100%|██████████| 212/212 [00:19<00:00, 10.66batch/s, mae_loss=0.0514]\n"
     ]
    },
    {
     "name": "stdout",
     "output_type": "stream",
     "text": [
      "Epoch [98/150], Training MAE: 0.2551, Training RMSE: 0.3890\n",
      "Epoch [98/150], Validation MAE: 0.1938, Validation RMSE: 0.3249\n"
     ]
    },
    {
     "name": "stderr",
     "output_type": "stream",
     "text": [
      "Epoch 99/150: 100%|██████████| 212/212 [00:20<00:00, 10.45batch/s, mae_loss=0.0556]\n"
     ]
    },
    {
     "name": "stdout",
     "output_type": "stream",
     "text": [
      "Epoch [99/150], Training MAE: 0.2545, Training RMSE: 0.3885\n",
      "Epoch [99/150], Validation MAE: 0.1940, Validation RMSE: 0.3255\n"
     ]
    },
    {
     "name": "stderr",
     "output_type": "stream",
     "text": [
      "Epoch 100/150: 100%|██████████| 212/212 [00:20<00:00, 10.13batch/s, mae_loss=0.058] \n"
     ]
    },
    {
     "name": "stdout",
     "output_type": "stream",
     "text": [
      "Epoch [100/150], Training MAE: 0.2546, Training RMSE: 0.3884\n",
      "Epoch [100/150], Validation MAE: 0.1943, Validation RMSE: 0.3251\n"
     ]
    },
    {
     "name": "stderr",
     "output_type": "stream",
     "text": [
      "Epoch 101/150: 100%|██████████| 212/212 [00:19<00:00, 10.67batch/s, mae_loss=0.0594]\n"
     ]
    },
    {
     "name": "stdout",
     "output_type": "stream",
     "text": [
      "Epoch [101/150], Training MAE: 0.2543, Training RMSE: 0.3876\n",
      "Epoch [101/150], Validation MAE: 0.1943, Validation RMSE: 0.3250\n"
     ]
    },
    {
     "name": "stderr",
     "output_type": "stream",
     "text": [
      "Epoch 102/150: 100%|██████████| 212/212 [00:20<00:00, 10.25batch/s, mae_loss=0.0494]\n"
     ]
    },
    {
     "name": "stdout",
     "output_type": "stream",
     "text": [
      "Epoch [102/150], Training MAE: 0.2538, Training RMSE: 0.3874\n",
      "Epoch [102/150], Validation MAE: 0.1943, Validation RMSE: 0.3250\n"
     ]
    },
    {
     "name": "stderr",
     "output_type": "stream",
     "text": [
      "Epoch 103/150: 100%|██████████| 212/212 [00:20<00:00, 10.18batch/s, mae_loss=0.0521]\n"
     ]
    },
    {
     "name": "stdout",
     "output_type": "stream",
     "text": [
      "Epoch [103/150], Training MAE: 0.2539, Training RMSE: 0.3881\n",
      "Epoch [103/150], Validation MAE: 0.1940, Validation RMSE: 0.3248\n"
     ]
    },
    {
     "name": "stderr",
     "output_type": "stream",
     "text": [
      "Epoch 104/150: 100%|██████████| 212/212 [00:20<00:00, 10.31batch/s, mae_loss=0.0546]\n"
     ]
    },
    {
     "name": "stdout",
     "output_type": "stream",
     "text": [
      "Epoch [104/150], Training MAE: 0.2536, Training RMSE: 0.3873\n",
      "Epoch [104/150], Validation MAE: 0.1936, Validation RMSE: 0.3245\n"
     ]
    },
    {
     "name": "stderr",
     "output_type": "stream",
     "text": [
      "Epoch 105/150: 100%|██████████| 212/212 [00:20<00:00, 10.48batch/s, mae_loss=0.0517]\n"
     ]
    },
    {
     "name": "stdout",
     "output_type": "stream",
     "text": [
      "Epoch [105/150], Training MAE: 0.2532, Training RMSE: 0.3873\n",
      "Epoch [105/150], Validation MAE: 0.1936, Validation RMSE: 0.3247\n"
     ]
    },
    {
     "name": "stderr",
     "output_type": "stream",
     "text": [
      "Epoch 106/150: 100%|██████████| 212/212 [00:20<00:00, 10.43batch/s, mae_loss=0.0528]\n"
     ]
    },
    {
     "name": "stdout",
     "output_type": "stream",
     "text": [
      "Epoch [106/150], Training MAE: 0.2532, Training RMSE: 0.3870\n",
      "Epoch [106/150], Validation MAE: 0.1937, Validation RMSE: 0.3247\n"
     ]
    },
    {
     "name": "stderr",
     "output_type": "stream",
     "text": [
      "Epoch 107/150: 100%|██████████| 212/212 [00:19<00:00, 10.60batch/s, mae_loss=0.0557]\n"
     ]
    },
    {
     "name": "stdout",
     "output_type": "stream",
     "text": [
      "Epoch [107/150], Training MAE: 0.2529, Training RMSE: 0.3868\n",
      "Epoch [107/150], Validation MAE: 0.1932, Validation RMSE: 0.3245\n"
     ]
    },
    {
     "name": "stderr",
     "output_type": "stream",
     "text": [
      "Epoch 108/150: 100%|██████████| 212/212 [00:20<00:00, 10.32batch/s, mae_loss=0.0491]\n"
     ]
    },
    {
     "name": "stdout",
     "output_type": "stream",
     "text": [
      "Epoch [108/150], Training MAE: 0.2527, Training RMSE: 0.3867\n",
      "Epoch [108/150], Validation MAE: 0.1937, Validation RMSE: 0.3247\n"
     ]
    },
    {
     "name": "stderr",
     "output_type": "stream",
     "text": [
      "Epoch 109/150: 100%|██████████| 212/212 [00:20<00:00, 10.31batch/s, mae_loss=0.0496]\n"
     ]
    },
    {
     "name": "stdout",
     "output_type": "stream",
     "text": [
      "Epoch [109/150], Training MAE: 0.2526, Training RMSE: 0.3863\n",
      "Epoch [109/150], Validation MAE: 0.1932, Validation RMSE: 0.3241\n"
     ]
    },
    {
     "name": "stderr",
     "output_type": "stream",
     "text": [
      "Epoch 110/150: 100%|██████████| 212/212 [00:20<00:00, 10.22batch/s, mae_loss=0.052] \n"
     ]
    },
    {
     "name": "stdout",
     "output_type": "stream",
     "text": [
      "Epoch [110/150], Training MAE: 0.2526, Training RMSE: 0.3866\n",
      "Epoch [110/150], Validation MAE: 0.1937, Validation RMSE: 0.3242\n"
     ]
    },
    {
     "name": "stderr",
     "output_type": "stream",
     "text": [
      "Epoch 111/150: 100%|██████████| 212/212 [00:19<00:00, 10.75batch/s, mae_loss=0.055] \n"
     ]
    },
    {
     "name": "stdout",
     "output_type": "stream",
     "text": [
      "Epoch [111/150], Training MAE: 0.2523, Training RMSE: 0.3858\n",
      "Epoch [111/150], Validation MAE: 0.1932, Validation RMSE: 0.3242\n"
     ]
    },
    {
     "name": "stderr",
     "output_type": "stream",
     "text": [
      "Epoch 112/150: 100%|██████████| 212/212 [00:20<00:00, 10.34batch/s, mae_loss=0.0522]\n"
     ]
    },
    {
     "name": "stdout",
     "output_type": "stream",
     "text": [
      "Epoch [112/150], Training MAE: 0.2522, Training RMSE: 0.3859\n",
      "Epoch [112/150], Validation MAE: 0.1930, Validation RMSE: 0.3242\n"
     ]
    },
    {
     "name": "stderr",
     "output_type": "stream",
     "text": [
      "Epoch 113/150: 100%|██████████| 212/212 [00:20<00:00, 10.34batch/s, mae_loss=0.0478]\n"
     ]
    },
    {
     "name": "stdout",
     "output_type": "stream",
     "text": [
      "Epoch [113/150], Training MAE: 0.2516, Training RMSE: 0.3851\n",
      "Epoch [113/150], Validation MAE: 0.1933, Validation RMSE: 0.3241\n"
     ]
    },
    {
     "name": "stderr",
     "output_type": "stream",
     "text": [
      "Epoch 114/150: 100%|██████████| 212/212 [00:20<00:00, 10.56batch/s, mae_loss=0.0545]\n"
     ]
    },
    {
     "name": "stdout",
     "output_type": "stream",
     "text": [
      "Epoch [114/150], Training MAE: 0.2514, Training RMSE: 0.3850\n",
      "Epoch [114/150], Validation MAE: 0.1928, Validation RMSE: 0.3240\n"
     ]
    },
    {
     "name": "stderr",
     "output_type": "stream",
     "text": [
      "Epoch 115/150: 100%|██████████| 212/212 [00:20<00:00, 10.20batch/s, mae_loss=0.0522]\n"
     ]
    },
    {
     "name": "stdout",
     "output_type": "stream",
     "text": [
      "Epoch [115/150], Training MAE: 0.2512, Training RMSE: 0.3849\n",
      "Epoch [115/150], Validation MAE: 0.1928, Validation RMSE: 0.3237\n"
     ]
    },
    {
     "name": "stderr",
     "output_type": "stream",
     "text": [
      "Epoch 116/150: 100%|██████████| 212/212 [00:20<00:00, 10.38batch/s, mae_loss=0.0497]\n"
     ]
    },
    {
     "name": "stdout",
     "output_type": "stream",
     "text": [
      "Epoch [116/150], Training MAE: 0.2511, Training RMSE: 0.3851\n",
      "Epoch [116/150], Validation MAE: 0.1925, Validation RMSE: 0.3237\n"
     ]
    },
    {
     "name": "stderr",
     "output_type": "stream",
     "text": [
      "Epoch 117/150: 100%|██████████| 212/212 [00:20<00:00, 10.33batch/s, mae_loss=0.0545]\n"
     ]
    },
    {
     "name": "stdout",
     "output_type": "stream",
     "text": [
      "Epoch [117/150], Training MAE: 0.2512, Training RMSE: 0.3849\n",
      "Epoch [117/150], Validation MAE: 0.1929, Validation RMSE: 0.3241\n"
     ]
    },
    {
     "name": "stderr",
     "output_type": "stream",
     "text": [
      "Epoch 118/150: 100%|██████████| 212/212 [00:20<00:00, 10.57batch/s, mae_loss=0.0489]\n"
     ]
    },
    {
     "name": "stdout",
     "output_type": "stream",
     "text": [
      "Epoch [118/150], Training MAE: 0.2507, Training RMSE: 0.3843\n",
      "Epoch [118/150], Validation MAE: 0.1927, Validation RMSE: 0.3238\n"
     ]
    },
    {
     "name": "stderr",
     "output_type": "stream",
     "text": [
      "Epoch 119/150: 100%|██████████| 212/212 [00:19<00:00, 10.63batch/s, mae_loss=0.051] \n"
     ]
    },
    {
     "name": "stdout",
     "output_type": "stream",
     "text": [
      "Epoch [119/150], Training MAE: 0.2504, Training RMSE: 0.3843\n",
      "Epoch [119/150], Validation MAE: 0.1926, Validation RMSE: 0.3238\n"
     ]
    },
    {
     "name": "stderr",
     "output_type": "stream",
     "text": [
      "Epoch 120/150: 100%|██████████| 212/212 [00:20<00:00, 10.29batch/s, mae_loss=0.0454]\n"
     ]
    },
    {
     "name": "stdout",
     "output_type": "stream",
     "text": [
      "Epoch [120/150], Training MAE: 0.2500, Training RMSE: 0.3833\n",
      "Epoch [120/150], Validation MAE: 0.1928, Validation RMSE: 0.3240\n"
     ]
    },
    {
     "name": "stderr",
     "output_type": "stream",
     "text": [
      "Epoch 121/150: 100%|██████████| 212/212 [00:19<00:00, 10.61batch/s, mae_loss=0.0531]\n"
     ]
    },
    {
     "name": "stdout",
     "output_type": "stream",
     "text": [
      "Epoch [121/150], Training MAE: 0.2499, Training RMSE: 0.3833\n",
      "Epoch [121/150], Validation MAE: 0.1924, Validation RMSE: 0.3236\n"
     ]
    },
    {
     "name": "stderr",
     "output_type": "stream",
     "text": [
      "Epoch 122/150: 100%|██████████| 212/212 [00:20<00:00, 10.46batch/s, mae_loss=0.0481]\n"
     ]
    },
    {
     "name": "stdout",
     "output_type": "stream",
     "text": [
      "Epoch [122/150], Training MAE: 0.2500, Training RMSE: 0.3833\n",
      "Epoch [122/150], Validation MAE: 0.1923, Validation RMSE: 0.3233\n"
     ]
    },
    {
     "name": "stderr",
     "output_type": "stream",
     "text": [
      "Epoch 123/150: 100%|██████████| 212/212 [00:20<00:00, 10.17batch/s, mae_loss=0.0446]\n"
     ]
    },
    {
     "name": "stdout",
     "output_type": "stream",
     "text": [
      "Epoch [123/150], Training MAE: 0.2495, Training RMSE: 0.3828\n",
      "Epoch [123/150], Validation MAE: 0.1926, Validation RMSE: 0.3235\n"
     ]
    },
    {
     "name": "stderr",
     "output_type": "stream",
     "text": [
      "Epoch 124/150: 100%|██████████| 212/212 [00:20<00:00, 10.50batch/s, mae_loss=0.0497]\n"
     ]
    },
    {
     "name": "stdout",
     "output_type": "stream",
     "text": [
      "Epoch [124/150], Training MAE: 0.2494, Training RMSE: 0.3826\n",
      "Epoch [124/150], Validation MAE: 0.1919, Validation RMSE: 0.3230\n"
     ]
    },
    {
     "name": "stderr",
     "output_type": "stream",
     "text": [
      "Epoch 125/150: 100%|██████████| 212/212 [00:19<00:00, 10.63batch/s, mae_loss=0.0504]\n"
     ]
    },
    {
     "name": "stdout",
     "output_type": "stream",
     "text": [
      "Epoch [125/150], Training MAE: 0.2494, Training RMSE: 0.3827\n",
      "Epoch [125/150], Validation MAE: 0.1918, Validation RMSE: 0.3229\n"
     ]
    },
    {
     "name": "stderr",
     "output_type": "stream",
     "text": [
      "Epoch 126/150: 100%|██████████| 212/212 [00:21<00:00, 10.06batch/s, mae_loss=0.0522]\n"
     ]
    },
    {
     "name": "stdout",
     "output_type": "stream",
     "text": [
      "Epoch [126/150], Training MAE: 0.2492, Training RMSE: 0.3826\n",
      "Epoch [126/150], Validation MAE: 0.1925, Validation RMSE: 0.3234\n"
     ]
    },
    {
     "name": "stderr",
     "output_type": "stream",
     "text": [
      "Epoch 127/150: 100%|██████████| 212/212 [00:20<00:00, 10.56batch/s, mae_loss=0.0401]\n"
     ]
    },
    {
     "name": "stdout",
     "output_type": "stream",
     "text": [
      "Epoch [127/150], Training MAE: 0.2486, Training RMSE: 0.3819\n",
      "Epoch [127/150], Validation MAE: 0.1924, Validation RMSE: 0.3235\n"
     ]
    },
    {
     "name": "stderr",
     "output_type": "stream",
     "text": [
      "Epoch 128/150: 100%|██████████| 212/212 [00:20<00:00, 10.35batch/s, mae_loss=0.0507]\n"
     ]
    },
    {
     "name": "stdout",
     "output_type": "stream",
     "text": [
      "Epoch [128/150], Training MAE: 0.2490, Training RMSE: 0.3824\n",
      "Epoch [128/150], Validation MAE: 0.1924, Validation RMSE: 0.3233\n"
     ]
    },
    {
     "name": "stderr",
     "output_type": "stream",
     "text": [
      "Epoch 129/150: 100%|██████████| 212/212 [00:20<00:00, 10.30batch/s, mae_loss=0.0446]\n"
     ]
    },
    {
     "name": "stdout",
     "output_type": "stream",
     "text": [
      "Epoch [129/150], Training MAE: 0.2487, Training RMSE: 0.3822\n",
      "Epoch [129/150], Validation MAE: 0.1922, Validation RMSE: 0.3234\n"
     ]
    },
    {
     "name": "stderr",
     "output_type": "stream",
     "text": [
      "Epoch 130/150: 100%|██████████| 212/212 [00:20<00:00, 10.47batch/s, mae_loss=0.0518]\n"
     ]
    },
    {
     "name": "stdout",
     "output_type": "stream",
     "text": [
      "Epoch [130/150], Training MAE: 0.2485, Training RMSE: 0.3822\n",
      "Epoch [130/150], Validation MAE: 0.1925, Validation RMSE: 0.3235\n"
     ]
    },
    {
     "name": "stderr",
     "output_type": "stream",
     "text": [
      "Epoch 131/150: 100%|██████████| 212/212 [00:20<00:00, 10.38batch/s, mae_loss=0.0491]\n"
     ]
    },
    {
     "name": "stdout",
     "output_type": "stream",
     "text": [
      "Epoch [131/150], Training MAE: 0.2485, Training RMSE: 0.3820\n",
      "Epoch [131/150], Validation MAE: 0.1921, Validation RMSE: 0.3231\n"
     ]
    },
    {
     "name": "stderr",
     "output_type": "stream",
     "text": [
      "Epoch 132/150: 100%|██████████| 212/212 [00:20<00:00, 10.34batch/s, mae_loss=0.05]  \n"
     ]
    },
    {
     "name": "stdout",
     "output_type": "stream",
     "text": [
      "Epoch [132/150], Training MAE: 0.2482, Training RMSE: 0.3814\n",
      "Epoch [132/150], Validation MAE: 0.1921, Validation RMSE: 0.3230\n"
     ]
    },
    {
     "name": "stderr",
     "output_type": "stream",
     "text": [
      "Epoch 133/150: 100%|██████████| 212/212 [00:20<00:00, 10.46batch/s, mae_loss=0.0511]\n"
     ]
    },
    {
     "name": "stdout",
     "output_type": "stream",
     "text": [
      "Epoch [133/150], Training MAE: 0.2479, Training RMSE: 0.3810\n",
      "Epoch [133/150], Validation MAE: 0.1925, Validation RMSE: 0.3230\n"
     ]
    },
    {
     "name": "stderr",
     "output_type": "stream",
     "text": [
      "Epoch 134/150: 100%|██████████| 212/212 [00:20<00:00, 10.13batch/s, mae_loss=0.0491]\n"
     ]
    },
    {
     "name": "stdout",
     "output_type": "stream",
     "text": [
      "Epoch [134/150], Training MAE: 0.2476, Training RMSE: 0.3809\n",
      "Epoch [134/150], Validation MAE: 0.1919, Validation RMSE: 0.3230\n"
     ]
    },
    {
     "name": "stderr",
     "output_type": "stream",
     "text": [
      "Epoch 135/150: 100%|██████████| 212/212 [00:20<00:00, 10.40batch/s, mae_loss=0.0503]\n"
     ]
    },
    {
     "name": "stdout",
     "output_type": "stream",
     "text": [
      "Epoch [135/150], Training MAE: 0.2478, Training RMSE: 0.3814\n",
      "Epoch [135/150], Validation MAE: 0.1922, Validation RMSE: 0.3227\n"
     ]
    },
    {
     "name": "stderr",
     "output_type": "stream",
     "text": [
      "Epoch 136/150: 100%|██████████| 212/212 [00:20<00:00, 10.33batch/s, mae_loss=0.0476]\n"
     ]
    },
    {
     "name": "stdout",
     "output_type": "stream",
     "text": [
      "Epoch [136/150], Training MAE: 0.2475, Training RMSE: 0.3811\n",
      "Epoch [136/150], Validation MAE: 0.1920, Validation RMSE: 0.3229\n"
     ]
    },
    {
     "name": "stderr",
     "output_type": "stream",
     "text": [
      "Epoch 137/150: 100%|██████████| 212/212 [00:20<00:00, 10.53batch/s, mae_loss=0.0475]\n"
     ]
    },
    {
     "name": "stdout",
     "output_type": "stream",
     "text": [
      "Epoch [137/150], Training MAE: 0.2476, Training RMSE: 0.3812\n",
      "Epoch [137/150], Validation MAE: 0.1917, Validation RMSE: 0.3226\n"
     ]
    },
    {
     "name": "stderr",
     "output_type": "stream",
     "text": [
      "Epoch 138/150: 100%|██████████| 212/212 [00:20<00:00, 10.57batch/s, mae_loss=0.0472]\n"
     ]
    },
    {
     "name": "stdout",
     "output_type": "stream",
     "text": [
      "Epoch [138/150], Training MAE: 0.2472, Training RMSE: 0.3807\n",
      "Epoch [138/150], Validation MAE: 0.1915, Validation RMSE: 0.3225\n"
     ]
    },
    {
     "name": "stderr",
     "output_type": "stream",
     "text": [
      "Epoch 139/150: 100%|██████████| 212/212 [00:20<00:00, 10.16batch/s, mae_loss=0.05]  \n"
     ]
    },
    {
     "name": "stdout",
     "output_type": "stream",
     "text": [
      "Epoch [139/150], Training MAE: 0.2473, Training RMSE: 0.3804\n",
      "Epoch [139/150], Validation MAE: 0.1915, Validation RMSE: 0.3228\n"
     ]
    },
    {
     "name": "stderr",
     "output_type": "stream",
     "text": [
      "Epoch 140/150: 100%|██████████| 212/212 [00:20<00:00, 10.34batch/s, mae_loss=0.0487]\n"
     ]
    },
    {
     "name": "stdout",
     "output_type": "stream",
     "text": [
      "Epoch [140/150], Training MAE: 0.2473, Training RMSE: 0.3807\n",
      "Epoch [140/150], Validation MAE: 0.1917, Validation RMSE: 0.3227\n"
     ]
    },
    {
     "name": "stderr",
     "output_type": "stream",
     "text": [
      "Epoch 141/150: 100%|██████████| 212/212 [00:20<00:00, 10.47batch/s, mae_loss=0.0513]\n"
     ]
    },
    {
     "name": "stdout",
     "output_type": "stream",
     "text": [
      "Epoch [141/150], Training MAE: 0.2466, Training RMSE: 0.3801\n",
      "Epoch [141/150], Validation MAE: 0.1915, Validation RMSE: 0.3223\n"
     ]
    },
    {
     "name": "stderr",
     "output_type": "stream",
     "text": [
      "Epoch 142/150: 100%|██████████| 212/212 [00:20<00:00, 10.22batch/s, mae_loss=0.0491]\n"
     ]
    },
    {
     "name": "stdout",
     "output_type": "stream",
     "text": [
      "Epoch [142/150], Training MAE: 0.2465, Training RMSE: 0.3798\n",
      "Epoch [142/150], Validation MAE: 0.1916, Validation RMSE: 0.3228\n"
     ]
    },
    {
     "name": "stderr",
     "output_type": "stream",
     "text": [
      "Epoch 143/150: 100%|██████████| 212/212 [00:20<00:00, 10.26batch/s, mae_loss=0.0468]\n"
     ]
    },
    {
     "name": "stdout",
     "output_type": "stream",
     "text": [
      "Epoch [143/150], Training MAE: 0.2464, Training RMSE: 0.3795\n",
      "Epoch [143/150], Validation MAE: 0.1919, Validation RMSE: 0.3225\n"
     ]
    },
    {
     "name": "stderr",
     "output_type": "stream",
     "text": [
      "Epoch 144/150: 100%|██████████| 212/212 [00:19<00:00, 10.71batch/s, mae_loss=0.0497]\n"
     ]
    },
    {
     "name": "stdout",
     "output_type": "stream",
     "text": [
      "Epoch [144/150], Training MAE: 0.2464, Training RMSE: 0.3797\n",
      "Epoch [144/150], Validation MAE: 0.1916, Validation RMSE: 0.3227\n"
     ]
    },
    {
     "name": "stderr",
     "output_type": "stream",
     "text": [
      "Epoch 145/150: 100%|██████████| 212/212 [00:19<00:00, 10.63batch/s, mae_loss=0.052] \n"
     ]
    },
    {
     "name": "stdout",
     "output_type": "stream",
     "text": [
      "Epoch [145/150], Training MAE: 0.2460, Training RMSE: 0.3791\n",
      "Epoch [145/150], Validation MAE: 0.1915, Validation RMSE: 0.3225\n"
     ]
    },
    {
     "name": "stderr",
     "output_type": "stream",
     "text": [
      "Epoch 146/150: 100%|██████████| 212/212 [00:20<00:00, 10.16batch/s, mae_loss=0.0519]\n"
     ]
    },
    {
     "name": "stdout",
     "output_type": "stream",
     "text": [
      "Epoch [146/150], Training MAE: 0.2461, Training RMSE: 0.3797\n",
      "Epoch [146/150], Validation MAE: 0.1917, Validation RMSE: 0.3227\n"
     ]
    },
    {
     "name": "stderr",
     "output_type": "stream",
     "text": [
      "Epoch 147/150: 100%|██████████| 212/212 [00:20<00:00, 10.18batch/s, mae_loss=0.0465]\n"
     ]
    },
    {
     "name": "stdout",
     "output_type": "stream",
     "text": [
      "Epoch [147/150], Training MAE: 0.2459, Training RMSE: 0.3792\n",
      "Epoch [147/150], Validation MAE: 0.1916, Validation RMSE: 0.3230\n"
     ]
    },
    {
     "name": "stderr",
     "output_type": "stream",
     "text": [
      "Epoch 148/150: 100%|██████████| 212/212 [00:19<00:00, 10.62batch/s, mae_loss=0.0478]\n"
     ]
    },
    {
     "name": "stdout",
     "output_type": "stream",
     "text": [
      "Epoch [148/150], Training MAE: 0.2459, Training RMSE: 0.3794\n",
      "Epoch [148/150], Validation MAE: 0.1920, Validation RMSE: 0.3227\n"
     ]
    },
    {
     "name": "stderr",
     "output_type": "stream",
     "text": [
      "Epoch 149/150: 100%|██████████| 212/212 [00:20<00:00, 10.31batch/s, mae_loss=0.0541]\n"
     ]
    },
    {
     "name": "stdout",
     "output_type": "stream",
     "text": [
      "Epoch [149/150], Training MAE: 0.2455, Training RMSE: 0.3788\n",
      "Epoch [149/150], Validation MAE: 0.1915, Validation RMSE: 0.3222\n"
     ]
    },
    {
     "name": "stderr",
     "output_type": "stream",
     "text": [
      "Epoch 150/150: 100%|██████████| 212/212 [00:20<00:00, 10.54batch/s, mae_loss=0.0511]\n"
     ]
    },
    {
     "name": "stdout",
     "output_type": "stream",
     "text": [
      "Epoch [150/150], Training MAE: 0.2455, Training RMSE: 0.3787\n",
      "Epoch [150/150], Validation MAE: 0.1914, Validation RMSE: 0.3224\n",
      "End Prediction Horizon of 6 of shared-layer Model\n",
      "model_shared-layer_attention_6_9 saved\n",
      "Shape of X (features): (11, 13519, 12)\n",
      "Shape of y (targets): (11, 13519)\n",
      "Shape of X_test (features): (11, 3933, 12)\n",
      "Shape of y_test (targets): (11, 3933)\n"
     ]
    },
    {
     "name": "stderr",
     "output_type": "stream",
     "text": [
      "Epoch 1/150: 100%|██████████| 212/212 [00:21<00:00,  9.64batch/s, mae_loss=0.212] \n"
     ]
    },
    {
     "name": "stdout",
     "output_type": "stream",
     "text": [
      "Epoch [1/150], Training MAE: 0.6949, Training RMSE: 0.9171\n",
      "Epoch [1/150], Validation MAE: 0.5407, Validation RMSE: 0.7870\n"
     ]
    },
    {
     "name": "stderr",
     "output_type": "stream",
     "text": [
      "Epoch 2/150: 100%|██████████| 212/212 [00:23<00:00,  9.21batch/s, mae_loss=0.198] \n"
     ]
    },
    {
     "name": "stdout",
     "output_type": "stream",
     "text": [
      "Epoch [2/150], Training MAE: 0.6549, Training RMSE: 0.8682\n",
      "Epoch [2/150], Validation MAE: 0.5086, Validation RMSE: 0.7400\n"
     ]
    },
    {
     "name": "stderr",
     "output_type": "stream",
     "text": [
      "Epoch 3/150: 100%|██████████| 212/212 [00:22<00:00,  9.55batch/s, mae_loss=0.194] \n"
     ]
    },
    {
     "name": "stdout",
     "output_type": "stream",
     "text": [
      "Epoch [3/150], Training MAE: 0.6122, Training RMSE: 0.8151\n",
      "Epoch [3/150], Validation MAE: 0.4691, Validation RMSE: 0.6841\n"
     ]
    },
    {
     "name": "stderr",
     "output_type": "stream",
     "text": [
      "Epoch 4/150: 100%|██████████| 212/212 [00:23<00:00,  9.22batch/s, mae_loss=0.178] \n"
     ]
    },
    {
     "name": "stdout",
     "output_type": "stream",
     "text": [
      "Epoch [4/150], Training MAE: 0.5616, Training RMSE: 0.7538\n",
      "Epoch [4/150], Validation MAE: 0.4246, Validation RMSE: 0.6237\n"
     ]
    },
    {
     "name": "stderr",
     "output_type": "stream",
     "text": [
      "Epoch 5/150: 100%|██████████| 212/212 [00:22<00:00,  9.61batch/s, mae_loss=0.163] \n"
     ]
    },
    {
     "name": "stdout",
     "output_type": "stream",
     "text": [
      "Epoch [5/150], Training MAE: 0.5126, Training RMSE: 0.6934\n",
      "Epoch [5/150], Validation MAE: 0.3854, Validation RMSE: 0.5713\n"
     ]
    },
    {
     "name": "stderr",
     "output_type": "stream",
     "text": [
      "Epoch 6/150: 100%|██████████| 212/212 [00:22<00:00,  9.52batch/s, mae_loss=0.146] \n"
     ]
    },
    {
     "name": "stdout",
     "output_type": "stream",
     "text": [
      "Epoch [6/150], Training MAE: 0.4741, Training RMSE: 0.6470\n",
      "Epoch [6/150], Validation MAE: 0.3582, Validation RMSE: 0.5347\n"
     ]
    },
    {
     "name": "stderr",
     "output_type": "stream",
     "text": [
      "Epoch 7/150: 100%|██████████| 212/212 [00:22<00:00,  9.35batch/s, mae_loss=0.128] \n"
     ]
    },
    {
     "name": "stdout",
     "output_type": "stream",
     "text": [
      "Epoch [7/150], Training MAE: 0.4505, Training RMSE: 0.6193\n",
      "Epoch [7/150], Validation MAE: 0.3412, Validation RMSE: 0.5134\n"
     ]
    },
    {
     "name": "stderr",
     "output_type": "stream",
     "text": [
      "Epoch 8/150: 100%|██████████| 212/212 [00:21<00:00,  9.71batch/s, mae_loss=0.124] \n"
     ]
    },
    {
     "name": "stdout",
     "output_type": "stream",
     "text": [
      "Epoch [8/150], Training MAE: 0.4348, Training RMSE: 0.6020\n",
      "Epoch [8/150], Validation MAE: 0.3305, Validation RMSE: 0.4997\n"
     ]
    },
    {
     "name": "stderr",
     "output_type": "stream",
     "text": [
      "Epoch 9/150: 100%|██████████| 212/212 [00:22<00:00,  9.52batch/s, mae_loss=0.108] \n"
     ]
    },
    {
     "name": "stdout",
     "output_type": "stream",
     "text": [
      "Epoch [9/150], Training MAE: 0.4236, Training RMSE: 0.5904\n",
      "Epoch [9/150], Validation MAE: 0.3225, Validation RMSE: 0.4890\n"
     ]
    },
    {
     "name": "stderr",
     "output_type": "stream",
     "text": [
      "Epoch 10/150: 100%|██████████| 212/212 [00:22<00:00,  9.48batch/s, mae_loss=0.107] \n"
     ]
    },
    {
     "name": "stdout",
     "output_type": "stream",
     "text": [
      "Epoch [10/150], Training MAE: 0.4144, Training RMSE: 0.5801\n",
      "Epoch [10/150], Validation MAE: 0.3148, Validation RMSE: 0.4794\n"
     ]
    },
    {
     "name": "stderr",
     "output_type": "stream",
     "text": [
      "Epoch 11/150: 100%|██████████| 212/212 [00:21<00:00,  9.70batch/s, mae_loss=0.097] \n"
     ]
    },
    {
     "name": "stdout",
     "output_type": "stream",
     "text": [
      "Epoch [11/150], Training MAE: 0.4069, Training RMSE: 0.5710\n",
      "Epoch [11/150], Validation MAE: 0.3080, Validation RMSE: 0.4700\n"
     ]
    },
    {
     "name": "stderr",
     "output_type": "stream",
     "text": [
      "Epoch 12/150: 100%|██████████| 212/212 [00:22<00:00,  9.41batch/s, mae_loss=0.0974]\n"
     ]
    },
    {
     "name": "stdout",
     "output_type": "stream",
     "text": [
      "Epoch [12/150], Training MAE: 0.3985, Training RMSE: 0.5616\n",
      "Epoch [12/150], Validation MAE: 0.3009, Validation RMSE: 0.4607\n"
     ]
    },
    {
     "name": "stderr",
     "output_type": "stream",
     "text": [
      "Epoch 13/150: 100%|██████████| 212/212 [00:21<00:00,  9.70batch/s, mae_loss=0.102] \n"
     ]
    },
    {
     "name": "stdout",
     "output_type": "stream",
     "text": [
      "Epoch [13/150], Training MAE: 0.3903, Training RMSE: 0.5512\n",
      "Epoch [13/150], Validation MAE: 0.2941, Validation RMSE: 0.4515\n"
     ]
    },
    {
     "name": "stderr",
     "output_type": "stream",
     "text": [
      "Epoch 14/150: 100%|██████████| 212/212 [00:22<00:00,  9.32batch/s, mae_loss=0.0899]\n"
     ]
    },
    {
     "name": "stdout",
     "output_type": "stream",
     "text": [
      "Epoch [14/150], Training MAE: 0.3822, Training RMSE: 0.5412\n",
      "Epoch [14/150], Validation MAE: 0.2872, Validation RMSE: 0.4427\n"
     ]
    },
    {
     "name": "stderr",
     "output_type": "stream",
     "text": [
      "Epoch 15/150: 100%|██████████| 212/212 [00:22<00:00,  9.32batch/s, mae_loss=0.0922]\n"
     ]
    },
    {
     "name": "stdout",
     "output_type": "stream",
     "text": [
      "Epoch [15/150], Training MAE: 0.3748, Training RMSE: 0.5320\n",
      "Epoch [15/150], Validation MAE: 0.2803, Validation RMSE: 0.4334\n"
     ]
    },
    {
     "name": "stderr",
     "output_type": "stream",
     "text": [
      "Epoch 16/150: 100%|██████████| 212/212 [00:22<00:00,  9.45batch/s, mae_loss=0.0863]\n"
     ]
    },
    {
     "name": "stdout",
     "output_type": "stream",
     "text": [
      "Epoch [16/150], Training MAE: 0.3677, Training RMSE: 0.5241\n",
      "Epoch [16/150], Validation MAE: 0.2737, Validation RMSE: 0.4253\n"
     ]
    },
    {
     "name": "stderr",
     "output_type": "stream",
     "text": [
      "Epoch 17/150: 100%|██████████| 212/212 [00:22<00:00,  9.52batch/s, mae_loss=0.0883]\n"
     ]
    },
    {
     "name": "stdout",
     "output_type": "stream",
     "text": [
      "Epoch [17/150], Training MAE: 0.3613, Training RMSE: 0.5158\n",
      "Epoch [17/150], Validation MAE: 0.2681, Validation RMSE: 0.4176\n"
     ]
    },
    {
     "name": "stderr",
     "output_type": "stream",
     "text": [
      "Epoch 18/150: 100%|██████████| 212/212 [00:21<00:00,  9.84batch/s, mae_loss=0.0812]\n"
     ]
    },
    {
     "name": "stdout",
     "output_type": "stream",
     "text": [
      "Epoch [18/150], Training MAE: 0.3547, Training RMSE: 0.5073\n",
      "Epoch [18/150], Validation MAE: 0.2628, Validation RMSE: 0.4106\n"
     ]
    },
    {
     "name": "stderr",
     "output_type": "stream",
     "text": [
      "Epoch 19/150: 100%|██████████| 212/212 [00:22<00:00,  9.52batch/s, mae_loss=0.0732]\n"
     ]
    },
    {
     "name": "stdout",
     "output_type": "stream",
     "text": [
      "Epoch [19/150], Training MAE: 0.3501, Training RMSE: 0.5019\n",
      "Epoch [19/150], Validation MAE: 0.2575, Validation RMSE: 0.4040\n"
     ]
    },
    {
     "name": "stderr",
     "output_type": "stream",
     "text": [
      "Epoch 20/150: 100%|██████████| 212/212 [00:22<00:00,  9.45batch/s, mae_loss=0.0703]\n"
     ]
    },
    {
     "name": "stdout",
     "output_type": "stream",
     "text": [
      "Epoch [20/150], Training MAE: 0.3443, Training RMSE: 0.4941\n",
      "Epoch [20/150], Validation MAE: 0.2528, Validation RMSE: 0.3979\n"
     ]
    },
    {
     "name": "stderr",
     "output_type": "stream",
     "text": [
      "Epoch 21/150: 100%|██████████| 212/212 [00:22<00:00,  9.59batch/s, mae_loss=0.0776]\n"
     ]
    },
    {
     "name": "stdout",
     "output_type": "stream",
     "text": [
      "Epoch [21/150], Training MAE: 0.3391, Training RMSE: 0.4876\n",
      "Epoch [21/150], Validation MAE: 0.2481, Validation RMSE: 0.3920\n"
     ]
    },
    {
     "name": "stderr",
     "output_type": "stream",
     "text": [
      "Epoch 22/150: 100%|██████████| 212/212 [00:21<00:00,  9.79batch/s, mae_loss=0.0757]\n"
     ]
    },
    {
     "name": "stdout",
     "output_type": "stream",
     "text": [
      "Epoch [22/150], Training MAE: 0.3352, Training RMSE: 0.4830\n",
      "Epoch [22/150], Validation MAE: 0.2436, Validation RMSE: 0.3864\n"
     ]
    },
    {
     "name": "stderr",
     "output_type": "stream",
     "text": [
      "Epoch 23/150: 100%|██████████| 212/212 [00:22<00:00,  9.45batch/s, mae_loss=0.0716]\n"
     ]
    },
    {
     "name": "stdout",
     "output_type": "stream",
     "text": [
      "Epoch [23/150], Training MAE: 0.3304, Training RMSE: 0.4768\n",
      "Epoch [23/150], Validation MAE: 0.2405, Validation RMSE: 0.3820\n"
     ]
    },
    {
     "name": "stderr",
     "output_type": "stream",
     "text": [
      "Epoch 24/150: 100%|██████████| 212/212 [00:22<00:00,  9.57batch/s, mae_loss=0.0727]\n"
     ]
    },
    {
     "name": "stdout",
     "output_type": "stream",
     "text": [
      "Epoch [24/150], Training MAE: 0.3266, Training RMSE: 0.4718\n",
      "Epoch [24/150], Validation MAE: 0.2377, Validation RMSE: 0.3773\n"
     ]
    },
    {
     "name": "stderr",
     "output_type": "stream",
     "text": [
      "Epoch 25/150: 100%|██████████| 212/212 [00:22<00:00,  9.25batch/s, mae_loss=0.0706]\n"
     ]
    },
    {
     "name": "stdout",
     "output_type": "stream",
     "text": [
      "Epoch [25/150], Training MAE: 0.3229, Training RMSE: 0.4680\n",
      "Epoch [25/150], Validation MAE: 0.2343, Validation RMSE: 0.3732\n"
     ]
    },
    {
     "name": "stderr",
     "output_type": "stream",
     "text": [
      "Epoch 26/150: 100%|██████████| 212/212 [00:22<00:00,  9.24batch/s, mae_loss=0.0782]\n"
     ]
    },
    {
     "name": "stdout",
     "output_type": "stream",
     "text": [
      "Epoch [26/150], Training MAE: 0.3197, Training RMSE: 0.4632\n",
      "Epoch [26/150], Validation MAE: 0.2321, Validation RMSE: 0.3697\n"
     ]
    },
    {
     "name": "stderr",
     "output_type": "stream",
     "text": [
      "Epoch 27/150: 100%|██████████| 212/212 [00:21<00:00,  9.69batch/s, mae_loss=0.0698]\n"
     ]
    },
    {
     "name": "stdout",
     "output_type": "stream",
     "text": [
      "Epoch [27/150], Training MAE: 0.3169, Training RMSE: 0.4599\n",
      "Epoch [27/150], Validation MAE: 0.2291, Validation RMSE: 0.3662\n"
     ]
    },
    {
     "name": "stderr",
     "output_type": "stream",
     "text": [
      "Epoch 28/150: 100%|██████████| 212/212 [00:22<00:00,  9.23batch/s, mae_loss=0.071] \n"
     ]
    },
    {
     "name": "stdout",
     "output_type": "stream",
     "text": [
      "Epoch [28/150], Training MAE: 0.3138, Training RMSE: 0.4563\n",
      "Epoch [28/150], Validation MAE: 0.2267, Validation RMSE: 0.3634\n"
     ]
    },
    {
     "name": "stderr",
     "output_type": "stream",
     "text": [
      "Epoch 29/150: 100%|██████████| 212/212 [00:22<00:00,  9.60batch/s, mae_loss=0.0743]\n"
     ]
    },
    {
     "name": "stdout",
     "output_type": "stream",
     "text": [
      "Epoch [29/150], Training MAE: 0.3109, Training RMSE: 0.4530\n",
      "Epoch [29/150], Validation MAE: 0.2251, Validation RMSE: 0.3610\n"
     ]
    },
    {
     "name": "stderr",
     "output_type": "stream",
     "text": [
      "Epoch 30/150: 100%|██████████| 212/212 [00:22<00:00,  9.47batch/s, mae_loss=0.0723]\n"
     ]
    },
    {
     "name": "stdout",
     "output_type": "stream",
     "text": [
      "Epoch [30/150], Training MAE: 0.3095, Training RMSE: 0.4508\n",
      "Epoch [30/150], Validation MAE: 0.2236, Validation RMSE: 0.3594\n"
     ]
    },
    {
     "name": "stderr",
     "output_type": "stream",
     "text": [
      "Epoch 31/150: 100%|██████████| 212/212 [00:22<00:00,  9.41batch/s, mae_loss=0.0613]\n"
     ]
    },
    {
     "name": "stdout",
     "output_type": "stream",
     "text": [
      "Epoch [31/150], Training MAE: 0.3075, Training RMSE: 0.4486\n",
      "Epoch [31/150], Validation MAE: 0.2222, Validation RMSE: 0.3568\n"
     ]
    },
    {
     "name": "stderr",
     "output_type": "stream",
     "text": [
      "Epoch 32/150: 100%|██████████| 212/212 [00:21<00:00,  9.76batch/s, mae_loss=0.0662]\n"
     ]
    },
    {
     "name": "stdout",
     "output_type": "stream",
     "text": [
      "Epoch [32/150], Training MAE: 0.3052, Training RMSE: 0.4461\n",
      "Epoch [32/150], Validation MAE: 0.2201, Validation RMSE: 0.3554\n"
     ]
    },
    {
     "name": "stderr",
     "output_type": "stream",
     "text": [
      "Epoch 33/150: 100%|██████████| 212/212 [00:23<00:00,  9.14batch/s, mae_loss=0.073] \n"
     ]
    },
    {
     "name": "stdout",
     "output_type": "stream",
     "text": [
      "Epoch [33/150], Training MAE: 0.3032, Training RMSE: 0.4437\n",
      "Epoch [33/150], Validation MAE: 0.2193, Validation RMSE: 0.3536\n"
     ]
    },
    {
     "name": "stderr",
     "output_type": "stream",
     "text": [
      "Epoch 34/150: 100%|██████████| 212/212 [00:21<00:00,  9.69batch/s, mae_loss=0.0693]\n"
     ]
    },
    {
     "name": "stdout",
     "output_type": "stream",
     "text": [
      "Epoch [34/150], Training MAE: 0.3018, Training RMSE: 0.4422\n",
      "Epoch [34/150], Validation MAE: 0.2188, Validation RMSE: 0.3526\n"
     ]
    },
    {
     "name": "stderr",
     "output_type": "stream",
     "text": [
      "Epoch 35/150: 100%|██████████| 212/212 [00:22<00:00,  9.56batch/s, mae_loss=0.0634]\n"
     ]
    },
    {
     "name": "stdout",
     "output_type": "stream",
     "text": [
      "Epoch [35/150], Training MAE: 0.2993, Training RMSE: 0.4388\n",
      "Epoch [35/150], Validation MAE: 0.2176, Validation RMSE: 0.3513\n"
     ]
    },
    {
     "name": "stderr",
     "output_type": "stream",
     "text": [
      "Epoch 36/150: 100%|██████████| 212/212 [00:22<00:00,  9.31batch/s, mae_loss=0.0654]\n"
     ]
    },
    {
     "name": "stdout",
     "output_type": "stream",
     "text": [
      "Epoch [36/150], Training MAE: 0.2981, Training RMSE: 0.4376\n",
      "Epoch [36/150], Validation MAE: 0.2156, Validation RMSE: 0.3494\n"
     ]
    },
    {
     "name": "stderr",
     "output_type": "stream",
     "text": [
      "Epoch 37/150: 100%|██████████| 212/212 [00:21<00:00,  9.68batch/s, mae_loss=0.0678]\n"
     ]
    },
    {
     "name": "stdout",
     "output_type": "stream",
     "text": [
      "Epoch [37/150], Training MAE: 0.2962, Training RMSE: 0.4356\n",
      "Epoch [37/150], Validation MAE: 0.2154, Validation RMSE: 0.3484\n"
     ]
    },
    {
     "name": "stderr",
     "output_type": "stream",
     "text": [
      "Epoch 38/150: 100%|██████████| 212/212 [00:23<00:00,  9.18batch/s, mae_loss=0.0645]\n"
     ]
    },
    {
     "name": "stdout",
     "output_type": "stream",
     "text": [
      "Epoch [38/150], Training MAE: 0.2950, Training RMSE: 0.4342\n",
      "Epoch [38/150], Validation MAE: 0.2147, Validation RMSE: 0.3478\n"
     ]
    },
    {
     "name": "stderr",
     "output_type": "stream",
     "text": [
      "Epoch 39/150: 100%|██████████| 212/212 [00:21<00:00,  9.71batch/s, mae_loss=0.0638]\n"
     ]
    },
    {
     "name": "stdout",
     "output_type": "stream",
     "text": [
      "Epoch [39/150], Training MAE: 0.2939, Training RMSE: 0.4330\n",
      "Epoch [39/150], Validation MAE: 0.2137, Validation RMSE: 0.3467\n"
     ]
    },
    {
     "name": "stderr",
     "output_type": "stream",
     "text": [
      "Epoch 40/150: 100%|██████████| 212/212 [00:22<00:00,  9.38batch/s, mae_loss=0.0545]\n"
     ]
    },
    {
     "name": "stdout",
     "output_type": "stream",
     "text": [
      "Epoch [40/150], Training MAE: 0.2926, Training RMSE: 0.4313\n",
      "Epoch [40/150], Validation MAE: 0.2123, Validation RMSE: 0.3451\n"
     ]
    },
    {
     "name": "stderr",
     "output_type": "stream",
     "text": [
      "Epoch 41/150: 100%|██████████| 212/212 [00:22<00:00,  9.36batch/s, mae_loss=0.0668]\n"
     ]
    },
    {
     "name": "stdout",
     "output_type": "stream",
     "text": [
      "Epoch [41/150], Training MAE: 0.2920, Training RMSE: 0.4307\n",
      "Epoch [41/150], Validation MAE: 0.2121, Validation RMSE: 0.3447\n"
     ]
    },
    {
     "name": "stderr",
     "output_type": "stream",
     "text": [
      "Epoch 42/150: 100%|██████████| 212/212 [00:21<00:00,  9.79batch/s, mae_loss=0.0556]\n"
     ]
    },
    {
     "name": "stdout",
     "output_type": "stream",
     "text": [
      "Epoch [42/150], Training MAE: 0.2900, Training RMSE: 0.4281\n",
      "Epoch [42/150], Validation MAE: 0.2115, Validation RMSE: 0.3441\n"
     ]
    },
    {
     "name": "stderr",
     "output_type": "stream",
     "text": [
      "Epoch 43/150: 100%|██████████| 212/212 [00:22<00:00,  9.52batch/s, mae_loss=0.0618]\n"
     ]
    },
    {
     "name": "stdout",
     "output_type": "stream",
     "text": [
      "Epoch [43/150], Training MAE: 0.2889, Training RMSE: 0.4265\n",
      "Epoch [43/150], Validation MAE: 0.2110, Validation RMSE: 0.3433\n"
     ]
    },
    {
     "name": "stderr",
     "output_type": "stream",
     "text": [
      "Epoch 44/150: 100%|██████████| 212/212 [00:22<00:00,  9.37batch/s, mae_loss=0.0658]\n"
     ]
    },
    {
     "name": "stdout",
     "output_type": "stream",
     "text": [
      "Epoch [44/150], Training MAE: 0.2876, Training RMSE: 0.4250\n",
      "Epoch [44/150], Validation MAE: 0.2106, Validation RMSE: 0.3426\n"
     ]
    },
    {
     "name": "stderr",
     "output_type": "stream",
     "text": [
      "Epoch 45/150: 100%|██████████| 212/212 [00:22<00:00,  9.63batch/s, mae_loss=0.0619]\n"
     ]
    },
    {
     "name": "stdout",
     "output_type": "stream",
     "text": [
      "Epoch [45/150], Training MAE: 0.2870, Training RMSE: 0.4245\n",
      "Epoch [45/150], Validation MAE: 0.2099, Validation RMSE: 0.3417\n"
     ]
    },
    {
     "name": "stderr",
     "output_type": "stream",
     "text": [
      "Epoch 46/150: 100%|██████████| 212/212 [00:22<00:00,  9.50batch/s, mae_loss=0.0594]\n"
     ]
    },
    {
     "name": "stdout",
     "output_type": "stream",
     "text": [
      "Epoch [46/150], Training MAE: 0.2857, Training RMSE: 0.4232\n",
      "Epoch [46/150], Validation MAE: 0.2095, Validation RMSE: 0.3413\n"
     ]
    },
    {
     "name": "stderr",
     "output_type": "stream",
     "text": [
      "Epoch 47/150: 100%|██████████| 212/212 [00:22<00:00,  9.47batch/s, mae_loss=0.0623]\n"
     ]
    },
    {
     "name": "stdout",
     "output_type": "stream",
     "text": [
      "Epoch [47/150], Training MAE: 0.2847, Training RMSE: 0.4226\n",
      "Epoch [47/150], Validation MAE: 0.2089, Validation RMSE: 0.3409\n"
     ]
    },
    {
     "name": "stderr",
     "output_type": "stream",
     "text": [
      "Epoch 48/150: 100%|██████████| 212/212 [00:21<00:00,  9.67batch/s, mae_loss=0.0597]\n"
     ]
    },
    {
     "name": "stdout",
     "output_type": "stream",
     "text": [
      "Epoch [48/150], Training MAE: 0.2834, Training RMSE: 0.4207\n",
      "Epoch [48/150], Validation MAE: 0.2089, Validation RMSE: 0.3405\n"
     ]
    },
    {
     "name": "stderr",
     "output_type": "stream",
     "text": [
      "Epoch 49/150: 100%|██████████| 212/212 [00:22<00:00,  9.38batch/s, mae_loss=0.0654]\n"
     ]
    },
    {
     "name": "stdout",
     "output_type": "stream",
     "text": [
      "Epoch [49/150], Training MAE: 0.2832, Training RMSE: 0.4201\n",
      "Epoch [49/150], Validation MAE: 0.2080, Validation RMSE: 0.3398\n"
     ]
    },
    {
     "name": "stderr",
     "output_type": "stream",
     "text": [
      "Epoch 50/150: 100%|██████████| 212/212 [00:22<00:00,  9.40batch/s, mae_loss=0.0579]\n"
     ]
    },
    {
     "name": "stdout",
     "output_type": "stream",
     "text": [
      "Epoch [50/150], Training MAE: 0.2822, Training RMSE: 0.4196\n",
      "Epoch [50/150], Validation MAE: 0.2078, Validation RMSE: 0.3393\n"
     ]
    },
    {
     "name": "stderr",
     "output_type": "stream",
     "text": [
      "Epoch 51/150: 100%|██████████| 212/212 [00:21<00:00,  9.77batch/s, mae_loss=0.0587]\n"
     ]
    },
    {
     "name": "stdout",
     "output_type": "stream",
     "text": [
      "Epoch [51/150], Training MAE: 0.2811, Training RMSE: 0.4185\n",
      "Epoch [51/150], Validation MAE: 0.2070, Validation RMSE: 0.3387\n"
     ]
    },
    {
     "name": "stderr",
     "output_type": "stream",
     "text": [
      "Epoch 52/150: 100%|██████████| 212/212 [00:22<00:00,  9.29batch/s, mae_loss=0.0616]\n"
     ]
    },
    {
     "name": "stdout",
     "output_type": "stream",
     "text": [
      "Epoch [52/150], Training MAE: 0.2809, Training RMSE: 0.4183\n",
      "Epoch [52/150], Validation MAE: 0.2071, Validation RMSE: 0.3388\n"
     ]
    },
    {
     "name": "stderr",
     "output_type": "stream",
     "text": [
      "Epoch 53/150: 100%|██████████| 212/212 [00:21<00:00,  9.64batch/s, mae_loss=0.0627]\n"
     ]
    },
    {
     "name": "stdout",
     "output_type": "stream",
     "text": [
      "Epoch [53/150], Training MAE: 0.2798, Training RMSE: 0.4171\n",
      "Epoch [53/150], Validation MAE: 0.2064, Validation RMSE: 0.3379\n"
     ]
    },
    {
     "name": "stderr",
     "output_type": "stream",
     "text": [
      "Epoch 54/150: 100%|██████████| 212/212 [00:23<00:00,  9.21batch/s, mae_loss=0.0631]\n"
     ]
    },
    {
     "name": "stdout",
     "output_type": "stream",
     "text": [
      "Epoch [54/150], Training MAE: 0.2785, Training RMSE: 0.4150\n",
      "Epoch [54/150], Validation MAE: 0.2064, Validation RMSE: 0.3379\n"
     ]
    },
    {
     "name": "stderr",
     "output_type": "stream",
     "text": [
      "Epoch 55/150: 100%|██████████| 212/212 [00:23<00:00,  8.91batch/s, mae_loss=0.0631]\n"
     ]
    },
    {
     "name": "stdout",
     "output_type": "stream",
     "text": [
      "Epoch [55/150], Training MAE: 0.2777, Training RMSE: 0.4145\n",
      "Epoch [55/150], Validation MAE: 0.2056, Validation RMSE: 0.3373\n"
     ]
    },
    {
     "name": "stderr",
     "output_type": "stream",
     "text": [
      "Epoch 56/150: 100%|██████████| 212/212 [00:21<00:00,  9.75batch/s, mae_loss=0.0638]\n"
     ]
    },
    {
     "name": "stdout",
     "output_type": "stream",
     "text": [
      "Epoch [56/150], Training MAE: 0.2781, Training RMSE: 0.4151\n",
      "Epoch [56/150], Validation MAE: 0.2058, Validation RMSE: 0.3368\n"
     ]
    },
    {
     "name": "stderr",
     "output_type": "stream",
     "text": [
      "Epoch 57/150: 100%|██████████| 212/212 [00:23<00:00,  9.21batch/s, mae_loss=0.0585]\n"
     ]
    },
    {
     "name": "stdout",
     "output_type": "stream",
     "text": [
      "Epoch [57/150], Training MAE: 0.2764, Training RMSE: 0.4127\n",
      "Epoch [57/150], Validation MAE: 0.2047, Validation RMSE: 0.3361\n"
     ]
    },
    {
     "name": "stderr",
     "output_type": "stream",
     "text": [
      "Epoch 58/150: 100%|██████████| 212/212 [00:22<00:00,  9.63batch/s, mae_loss=0.0586]\n"
     ]
    },
    {
     "name": "stdout",
     "output_type": "stream",
     "text": [
      "Epoch [58/150], Training MAE: 0.2760, Training RMSE: 0.4127\n",
      "Epoch [58/150], Validation MAE: 0.2044, Validation RMSE: 0.3356\n"
     ]
    },
    {
     "name": "stderr",
     "output_type": "stream",
     "text": [
      "Epoch 59/150: 100%|██████████| 212/212 [00:22<00:00,  9.30batch/s, mae_loss=0.0657]\n"
     ]
    },
    {
     "name": "stdout",
     "output_type": "stream",
     "text": [
      "Epoch [59/150], Training MAE: 0.2755, Training RMSE: 0.4125\n",
      "Epoch [59/150], Validation MAE: 0.2048, Validation RMSE: 0.3356\n"
     ]
    },
    {
     "name": "stderr",
     "output_type": "stream",
     "text": [
      "Epoch 60/150: 100%|██████████| 212/212 [00:21<00:00,  9.64batch/s, mae_loss=0.0517]\n"
     ]
    },
    {
     "name": "stdout",
     "output_type": "stream",
     "text": [
      "Epoch [60/150], Training MAE: 0.2743, Training RMSE: 0.4105\n",
      "Epoch [60/150], Validation MAE: 0.2038, Validation RMSE: 0.3351\n"
     ]
    },
    {
     "name": "stderr",
     "output_type": "stream",
     "text": [
      "Epoch 61/150: 100%|██████████| 212/212 [00:22<00:00,  9.56batch/s, mae_loss=0.0568]\n"
     ]
    },
    {
     "name": "stdout",
     "output_type": "stream",
     "text": [
      "Epoch [61/150], Training MAE: 0.2740, Training RMSE: 0.4104\n",
      "Epoch [61/150], Validation MAE: 0.2038, Validation RMSE: 0.3347\n"
     ]
    },
    {
     "name": "stderr",
     "output_type": "stream",
     "text": [
      "Epoch 62/150: 100%|██████████| 212/212 [00:23<00:00,  9.21batch/s, mae_loss=0.0554]\n"
     ]
    },
    {
     "name": "stdout",
     "output_type": "stream",
     "text": [
      "Epoch [62/150], Training MAE: 0.2732, Training RMSE: 0.4098\n",
      "Epoch [62/150], Validation MAE: 0.2039, Validation RMSE: 0.3349\n"
     ]
    },
    {
     "name": "stderr",
     "output_type": "stream",
     "text": [
      "Epoch 63/150: 100%|██████████| 212/212 [00:21<00:00,  9.68batch/s, mae_loss=0.0593]\n"
     ]
    },
    {
     "name": "stdout",
     "output_type": "stream",
     "text": [
      "Epoch [63/150], Training MAE: 0.2732, Training RMSE: 0.4092\n",
      "Epoch [63/150], Validation MAE: 0.2034, Validation RMSE: 0.3342\n"
     ]
    },
    {
     "name": "stderr",
     "output_type": "stream",
     "text": [
      "Epoch 64/150: 100%|██████████| 212/212 [00:22<00:00,  9.43batch/s, mae_loss=0.0656]\n"
     ]
    },
    {
     "name": "stdout",
     "output_type": "stream",
     "text": [
      "Epoch [64/150], Training MAE: 0.2726, Training RMSE: 0.4088\n",
      "Epoch [64/150], Validation MAE: 0.2027, Validation RMSE: 0.3338\n"
     ]
    },
    {
     "name": "stderr",
     "output_type": "stream",
     "text": [
      "Epoch 65/150: 100%|██████████| 212/212 [00:23<00:00,  9.13batch/s, mae_loss=0.061] \n"
     ]
    },
    {
     "name": "stdout",
     "output_type": "stream",
     "text": [
      "Epoch [65/150], Training MAE: 0.2721, Training RMSE: 0.4080\n",
      "Epoch [65/150], Validation MAE: 0.2027, Validation RMSE: 0.3339\n"
     ]
    },
    {
     "name": "stderr",
     "output_type": "stream",
     "text": [
      "Epoch 66/150: 100%|██████████| 212/212 [00:22<00:00,  9.49batch/s, mae_loss=0.0593]\n"
     ]
    },
    {
     "name": "stdout",
     "output_type": "stream",
     "text": [
      "Epoch [66/150], Training MAE: 0.2711, Training RMSE: 0.4071\n",
      "Epoch [66/150], Validation MAE: 0.2032, Validation RMSE: 0.3338\n"
     ]
    },
    {
     "name": "stderr",
     "output_type": "stream",
     "text": [
      "Epoch 67/150: 100%|██████████| 212/212 [00:22<00:00,  9.51batch/s, mae_loss=0.0585]\n"
     ]
    },
    {
     "name": "stdout",
     "output_type": "stream",
     "text": [
      "Epoch [67/150], Training MAE: 0.2711, Training RMSE: 0.4070\n",
      "Epoch [67/150], Validation MAE: 0.2029, Validation RMSE: 0.3334\n"
     ]
    },
    {
     "name": "stderr",
     "output_type": "stream",
     "text": [
      "Epoch 68/150: 100%|██████████| 212/212 [00:21<00:00,  9.67batch/s, mae_loss=0.064] \n"
     ]
    },
    {
     "name": "stdout",
     "output_type": "stream",
     "text": [
      "Epoch [68/150], Training MAE: 0.2705, Training RMSE: 0.4066\n",
      "Epoch [68/150], Validation MAE: 0.2025, Validation RMSE: 0.3330\n"
     ]
    },
    {
     "name": "stderr",
     "output_type": "stream",
     "text": [
      "Epoch 69/150: 100%|██████████| 212/212 [00:22<00:00,  9.53batch/s, mae_loss=0.0598]\n"
     ]
    },
    {
     "name": "stdout",
     "output_type": "stream",
     "text": [
      "Epoch [69/150], Training MAE: 0.2703, Training RMSE: 0.4061\n",
      "Epoch [69/150], Validation MAE: 0.2020, Validation RMSE: 0.3328\n"
     ]
    },
    {
     "name": "stderr",
     "output_type": "stream",
     "text": [
      "Epoch 70/150: 100%|██████████| 212/212 [00:22<00:00,  9.42batch/s, mae_loss=0.0563]\n"
     ]
    },
    {
     "name": "stdout",
     "output_type": "stream",
     "text": [
      "Epoch [70/150], Training MAE: 0.2695, Training RMSE: 0.4056\n",
      "Epoch [70/150], Validation MAE: 0.2017, Validation RMSE: 0.3326\n"
     ]
    },
    {
     "name": "stderr",
     "output_type": "stream",
     "text": [
      "Epoch 71/150: 100%|██████████| 212/212 [00:23<00:00,  9.18batch/s, mae_loss=0.0593]\n"
     ]
    },
    {
     "name": "stdout",
     "output_type": "stream",
     "text": [
      "Epoch [71/150], Training MAE: 0.2689, Training RMSE: 0.4049\n",
      "Epoch [71/150], Validation MAE: 0.2017, Validation RMSE: 0.3322\n"
     ]
    },
    {
     "name": "stderr",
     "output_type": "stream",
     "text": [
      "Epoch 72/150: 100%|██████████| 212/212 [00:21<00:00,  9.66batch/s, mae_loss=0.0573]\n"
     ]
    },
    {
     "name": "stdout",
     "output_type": "stream",
     "text": [
      "Epoch [72/150], Training MAE: 0.2684, Training RMSE: 0.4039\n",
      "Epoch [72/150], Validation MAE: 0.2013, Validation RMSE: 0.3318\n"
     ]
    },
    {
     "name": "stderr",
     "output_type": "stream",
     "text": [
      "Epoch 73/150: 100%|██████████| 212/212 [00:22<00:00,  9.48batch/s, mae_loss=0.0523]\n"
     ]
    },
    {
     "name": "stdout",
     "output_type": "stream",
     "text": [
      "Epoch [73/150], Training MAE: 0.2684, Training RMSE: 0.4043\n",
      "Epoch [73/150], Validation MAE: 0.2017, Validation RMSE: 0.3324\n"
     ]
    },
    {
     "name": "stderr",
     "output_type": "stream",
     "text": [
      "Epoch 74/150: 100%|██████████| 212/212 [00:22<00:00,  9.27batch/s, mae_loss=0.0632]\n"
     ]
    },
    {
     "name": "stdout",
     "output_type": "stream",
     "text": [
      "Epoch [74/150], Training MAE: 0.2674, Training RMSE: 0.4028\n",
      "Epoch [74/150], Validation MAE: 0.2021, Validation RMSE: 0.3319\n"
     ]
    },
    {
     "name": "stderr",
     "output_type": "stream",
     "text": [
      "Epoch 75/150: 100%|██████████| 212/212 [00:22<00:00,  9.46batch/s, mae_loss=0.0543]\n"
     ]
    },
    {
     "name": "stdout",
     "output_type": "stream",
     "text": [
      "Epoch [75/150], Training MAE: 0.2673, Training RMSE: 0.4032\n",
      "Epoch [75/150], Validation MAE: 0.2015, Validation RMSE: 0.3319\n"
     ]
    },
    {
     "name": "stderr",
     "output_type": "stream",
     "text": [
      "Epoch 76/150: 100%|██████████| 212/212 [00:22<00:00,  9.33batch/s, mae_loss=0.0576]\n"
     ]
    },
    {
     "name": "stdout",
     "output_type": "stream",
     "text": [
      "Epoch [76/150], Training MAE: 0.2670, Training RMSE: 0.4028\n",
      "Epoch [76/150], Validation MAE: 0.2011, Validation RMSE: 0.3313\n"
     ]
    },
    {
     "name": "stderr",
     "output_type": "stream",
     "text": [
      "Epoch 77/150: 100%|██████████| 212/212 [00:21<00:00,  9.69batch/s, mae_loss=0.0569]\n"
     ]
    },
    {
     "name": "stdout",
     "output_type": "stream",
     "text": [
      "Epoch [77/150], Training MAE: 0.2664, Training RMSE: 0.4018\n",
      "Epoch [77/150], Validation MAE: 0.2008, Validation RMSE: 0.3314\n"
     ]
    },
    {
     "name": "stderr",
     "output_type": "stream",
     "text": [
      "Epoch 78/150: 100%|██████████| 212/212 [00:22<00:00,  9.43batch/s, mae_loss=0.0546]\n"
     ]
    },
    {
     "name": "stdout",
     "output_type": "stream",
     "text": [
      "Epoch [78/150], Training MAE: 0.2657, Training RMSE: 0.4013\n",
      "Epoch [78/150], Validation MAE: 0.2007, Validation RMSE: 0.3311\n"
     ]
    },
    {
     "name": "stderr",
     "output_type": "stream",
     "text": [
      "Epoch 79/150: 100%|██████████| 212/212 [00:21<00:00,  9.72batch/s, mae_loss=0.0519]\n"
     ]
    },
    {
     "name": "stdout",
     "output_type": "stream",
     "text": [
      "Epoch [79/150], Training MAE: 0.2657, Training RMSE: 0.4012\n",
      "Epoch [79/150], Validation MAE: 0.2003, Validation RMSE: 0.3306\n"
     ]
    },
    {
     "name": "stderr",
     "output_type": "stream",
     "text": [
      "Epoch 80/150: 100%|██████████| 212/212 [00:22<00:00,  9.52batch/s, mae_loss=0.0586]\n"
     ]
    },
    {
     "name": "stdout",
     "output_type": "stream",
     "text": [
      "Epoch [80/150], Training MAE: 0.2653, Training RMSE: 0.4011\n",
      "Epoch [80/150], Validation MAE: 0.2009, Validation RMSE: 0.3308\n"
     ]
    },
    {
     "name": "stderr",
     "output_type": "stream",
     "text": [
      "Epoch 81/150: 100%|██████████| 212/212 [00:22<00:00,  9.40batch/s, mae_loss=0.0553]\n"
     ]
    },
    {
     "name": "stdout",
     "output_type": "stream",
     "text": [
      "Epoch [81/150], Training MAE: 0.2648, Training RMSE: 0.4007\n",
      "Epoch [81/150], Validation MAE: 0.2001, Validation RMSE: 0.3305\n"
     ]
    },
    {
     "name": "stderr",
     "output_type": "stream",
     "text": [
      "Epoch 82/150: 100%|██████████| 212/212 [00:22<00:00,  9.63batch/s, mae_loss=0.0526]\n"
     ]
    },
    {
     "name": "stdout",
     "output_type": "stream",
     "text": [
      "Epoch [82/150], Training MAE: 0.2643, Training RMSE: 0.3992\n",
      "Epoch [82/150], Validation MAE: 0.2001, Validation RMSE: 0.3303\n"
     ]
    },
    {
     "name": "stderr",
     "output_type": "stream",
     "text": [
      "Epoch 83/150: 100%|██████████| 212/212 [00:23<00:00,  9.15batch/s, mae_loss=0.0592]\n"
     ]
    },
    {
     "name": "stdout",
     "output_type": "stream",
     "text": [
      "Epoch [83/150], Training MAE: 0.2637, Training RMSE: 0.3994\n",
      "Epoch [83/150], Validation MAE: 0.1998, Validation RMSE: 0.3301\n"
     ]
    },
    {
     "name": "stderr",
     "output_type": "stream",
     "text": [
      "Epoch 84/150: 100%|██████████| 212/212 [00:21<00:00,  9.73batch/s, mae_loss=0.0625]\n"
     ]
    },
    {
     "name": "stdout",
     "output_type": "stream",
     "text": [
      "Epoch [84/150], Training MAE: 0.2637, Training RMSE: 0.3989\n",
      "Epoch [84/150], Validation MAE: 0.2000, Validation RMSE: 0.3304\n"
     ]
    },
    {
     "name": "stderr",
     "output_type": "stream",
     "text": [
      "Epoch 85/150: 100%|██████████| 212/212 [00:22<00:00,  9.62batch/s, mae_loss=0.0534]\n"
     ]
    },
    {
     "name": "stdout",
     "output_type": "stream",
     "text": [
      "Epoch [85/150], Training MAE: 0.2633, Training RMSE: 0.3990\n",
      "Epoch [85/150], Validation MAE: 0.2001, Validation RMSE: 0.3302\n"
     ]
    },
    {
     "name": "stderr",
     "output_type": "stream",
     "text": [
      "Epoch 86/150: 100%|██████████| 212/212 [00:23<00:00,  9.20batch/s, mae_loss=0.0507]\n"
     ]
    },
    {
     "name": "stdout",
     "output_type": "stream",
     "text": [
      "Epoch [86/150], Training MAE: 0.2629, Training RMSE: 0.3980\n",
      "Epoch [86/150], Validation MAE: 0.1995, Validation RMSE: 0.3297\n"
     ]
    },
    {
     "name": "stderr",
     "output_type": "stream",
     "text": [
      "Epoch 87/150: 100%|██████████| 212/212 [00:22<00:00,  9.42batch/s, mae_loss=0.054] \n"
     ]
    },
    {
     "name": "stdout",
     "output_type": "stream",
     "text": [
      "Epoch [87/150], Training MAE: 0.2626, Training RMSE: 0.3984\n",
      "Epoch [87/150], Validation MAE: 0.1997, Validation RMSE: 0.3297\n"
     ]
    },
    {
     "name": "stderr",
     "output_type": "stream",
     "text": [
      "Epoch 88/150: 100%|██████████| 212/212 [00:22<00:00,  9.23batch/s, mae_loss=0.0567]\n"
     ]
    },
    {
     "name": "stdout",
     "output_type": "stream",
     "text": [
      "Epoch [88/150], Training MAE: 0.2626, Training RMSE: 0.3978\n",
      "Epoch [88/150], Validation MAE: 0.1993, Validation RMSE: 0.3296\n"
     ]
    },
    {
     "name": "stderr",
     "output_type": "stream",
     "text": [
      "Epoch 89/150: 100%|██████████| 212/212 [00:21<00:00,  9.75batch/s, mae_loss=0.0545]\n"
     ]
    },
    {
     "name": "stdout",
     "output_type": "stream",
     "text": [
      "Epoch [89/150], Training MAE: 0.2620, Training RMSE: 0.3969\n",
      "Epoch [89/150], Validation MAE: 0.1995, Validation RMSE: 0.3294\n"
     ]
    },
    {
     "name": "stderr",
     "output_type": "stream",
     "text": [
      "Epoch 90/150: 100%|██████████| 212/212 [00:21<00:00,  9.64batch/s, mae_loss=0.0478]\n"
     ]
    },
    {
     "name": "stdout",
     "output_type": "stream",
     "text": [
      "Epoch [90/150], Training MAE: 0.2622, Training RMSE: 0.3975\n",
      "Epoch [90/150], Validation MAE: 0.1996, Validation RMSE: 0.3293\n"
     ]
    },
    {
     "name": "stderr",
     "output_type": "stream",
     "text": [
      "Epoch 91/150: 100%|██████████| 212/212 [00:22<00:00,  9.53batch/s, mae_loss=0.0581]\n"
     ]
    },
    {
     "name": "stdout",
     "output_type": "stream",
     "text": [
      "Epoch [91/150], Training MAE: 0.2615, Training RMSE: 0.3965\n",
      "Epoch [91/150], Validation MAE: 0.1994, Validation RMSE: 0.3292\n"
     ]
    },
    {
     "name": "stderr",
     "output_type": "stream",
     "text": [
      "Epoch 92/150: 100%|██████████| 212/212 [00:22<00:00,  9.51batch/s, mae_loss=0.0576]\n"
     ]
    },
    {
     "name": "stdout",
     "output_type": "stream",
     "text": [
      "Epoch [92/150], Training MAE: 0.2615, Training RMSE: 0.3966\n",
      "Epoch [92/150], Validation MAE: 0.1993, Validation RMSE: 0.3288\n"
     ]
    },
    {
     "name": "stderr",
     "output_type": "stream",
     "text": [
      "Epoch 93/150: 100%|██████████| 212/212 [00:21<00:00,  9.64batch/s, mae_loss=0.0564]\n"
     ]
    },
    {
     "name": "stdout",
     "output_type": "stream",
     "text": [
      "Epoch [93/150], Training MAE: 0.2610, Training RMSE: 0.3962\n",
      "Epoch [93/150], Validation MAE: 0.1989, Validation RMSE: 0.3290\n"
     ]
    },
    {
     "name": "stderr",
     "output_type": "stream",
     "text": [
      "Epoch 94/150: 100%|██████████| 212/212 [00:22<00:00,  9.46batch/s, mae_loss=0.053] \n"
     ]
    },
    {
     "name": "stdout",
     "output_type": "stream",
     "text": [
      "Epoch [94/150], Training MAE: 0.2603, Training RMSE: 0.3954\n",
      "Epoch [94/150], Validation MAE: 0.1987, Validation RMSE: 0.3288\n"
     ]
    },
    {
     "name": "stderr",
     "output_type": "stream",
     "text": [
      "Epoch 95/150: 100%|██████████| 212/212 [00:22<00:00,  9.33batch/s, mae_loss=0.0544]\n"
     ]
    },
    {
     "name": "stdout",
     "output_type": "stream",
     "text": [
      "Epoch [95/150], Training MAE: 0.2600, Training RMSE: 0.3953\n",
      "Epoch [95/150], Validation MAE: 0.1984, Validation RMSE: 0.3287\n"
     ]
    },
    {
     "name": "stderr",
     "output_type": "stream",
     "text": [
      "Epoch 96/150: 100%|██████████| 212/212 [00:22<00:00,  9.50batch/s, mae_loss=0.0505]\n"
     ]
    },
    {
     "name": "stdout",
     "output_type": "stream",
     "text": [
      "Epoch [96/150], Training MAE: 0.2599, Training RMSE: 0.3942\n",
      "Epoch [96/150], Validation MAE: 0.1983, Validation RMSE: 0.3285\n"
     ]
    },
    {
     "name": "stderr",
     "output_type": "stream",
     "text": [
      "Epoch 97/150: 100%|██████████| 212/212 [00:21<00:00,  9.66batch/s, mae_loss=0.0602]\n"
     ]
    },
    {
     "name": "stdout",
     "output_type": "stream",
     "text": [
      "Epoch [97/150], Training MAE: 0.2599, Training RMSE: 0.3948\n",
      "Epoch [97/150], Validation MAE: 0.1982, Validation RMSE: 0.3282\n"
     ]
    },
    {
     "name": "stderr",
     "output_type": "stream",
     "text": [
      "Epoch 98/150: 100%|██████████| 212/212 [00:22<00:00,  9.44batch/s, mae_loss=0.049] \n"
     ]
    },
    {
     "name": "stdout",
     "output_type": "stream",
     "text": [
      "Epoch [98/150], Training MAE: 0.2592, Training RMSE: 0.3945\n",
      "Epoch [98/150], Validation MAE: 0.1982, Validation RMSE: 0.3280\n"
     ]
    },
    {
     "name": "stderr",
     "output_type": "stream",
     "text": [
      "Epoch 99/150: 100%|██████████| 212/212 [00:22<00:00,  9.30batch/s, mae_loss=0.048] \n"
     ]
    },
    {
     "name": "stdout",
     "output_type": "stream",
     "text": [
      "Epoch [99/150], Training MAE: 0.2589, Training RMSE: 0.3944\n",
      "Epoch [99/150], Validation MAE: 0.1983, Validation RMSE: 0.3283\n"
     ]
    },
    {
     "name": "stderr",
     "output_type": "stream",
     "text": [
      "Epoch 100/150: 100%|██████████| 212/212 [00:22<00:00,  9.45batch/s, mae_loss=0.0487]\n"
     ]
    },
    {
     "name": "stdout",
     "output_type": "stream",
     "text": [
      "Epoch [100/150], Training MAE: 0.2589, Training RMSE: 0.3939\n",
      "Epoch [100/150], Validation MAE: 0.1980, Validation RMSE: 0.3282\n"
     ]
    },
    {
     "name": "stderr",
     "output_type": "stream",
     "text": [
      "Epoch 101/150: 100%|██████████| 212/212 [00:21<00:00,  9.68batch/s, mae_loss=0.0531]\n"
     ]
    },
    {
     "name": "stdout",
     "output_type": "stream",
     "text": [
      "Epoch [101/150], Training MAE: 0.2583, Training RMSE: 0.3929\n",
      "Epoch [101/150], Validation MAE: 0.1982, Validation RMSE: 0.3282\n"
     ]
    },
    {
     "name": "stderr",
     "output_type": "stream",
     "text": [
      "Epoch 102/150: 100%|██████████| 212/212 [00:23<00:00,  9.21batch/s, mae_loss=0.0516]\n"
     ]
    },
    {
     "name": "stdout",
     "output_type": "stream",
     "text": [
      "Epoch [102/150], Training MAE: 0.2583, Training RMSE: 0.3938\n",
      "Epoch [102/150], Validation MAE: 0.1982, Validation RMSE: 0.3280\n"
     ]
    },
    {
     "name": "stderr",
     "output_type": "stream",
     "text": [
      "Epoch 103/150: 100%|██████████| 212/212 [00:21<00:00,  9.68batch/s, mae_loss=0.0522]\n"
     ]
    },
    {
     "name": "stdout",
     "output_type": "stream",
     "text": [
      "Epoch [103/150], Training MAE: 0.2581, Training RMSE: 0.3930\n",
      "Epoch [103/150], Validation MAE: 0.1981, Validation RMSE: 0.3284\n"
     ]
    },
    {
     "name": "stderr",
     "output_type": "stream",
     "text": [
      "Epoch 104/150: 100%|██████████| 212/212 [00:22<00:00,  9.39batch/s, mae_loss=0.0554]\n"
     ]
    },
    {
     "name": "stdout",
     "output_type": "stream",
     "text": [
      "Epoch [104/150], Training MAE: 0.2577, Training RMSE: 0.3927\n",
      "Epoch [104/150], Validation MAE: 0.1981, Validation RMSE: 0.3283\n"
     ]
    },
    {
     "name": "stderr",
     "output_type": "stream",
     "text": [
      "Epoch 105/150: 100%|██████████| 212/212 [00:22<00:00,  9.30batch/s, mae_loss=0.0505]\n"
     ]
    },
    {
     "name": "stdout",
     "output_type": "stream",
     "text": [
      "Epoch [105/150], Training MAE: 0.2579, Training RMSE: 0.3929\n",
      "Epoch [105/150], Validation MAE: 0.1980, Validation RMSE: 0.3281\n"
     ]
    },
    {
     "name": "stderr",
     "output_type": "stream",
     "text": [
      "Epoch 106/150: 100%|██████████| 212/212 [00:22<00:00,  9.52batch/s, mae_loss=0.0536]\n"
     ]
    },
    {
     "name": "stdout",
     "output_type": "stream",
     "text": [
      "Epoch [106/150], Training MAE: 0.2574, Training RMSE: 0.3924\n",
      "Epoch [106/150], Validation MAE: 0.1981, Validation RMSE: 0.3280\n"
     ]
    },
    {
     "name": "stderr",
     "output_type": "stream",
     "text": [
      "Epoch 107/150: 100%|██████████| 212/212 [00:22<00:00,  9.28batch/s, mae_loss=0.051] \n"
     ]
    },
    {
     "name": "stdout",
     "output_type": "stream",
     "text": [
      "Epoch [107/150], Training MAE: 0.2569, Training RMSE: 0.3918\n",
      "Epoch [107/150], Validation MAE: 0.1977, Validation RMSE: 0.3275\n"
     ]
    },
    {
     "name": "stderr",
     "output_type": "stream",
     "text": [
      "Epoch 108/150: 100%|██████████| 212/212 [00:21<00:00,  9.80batch/s, mae_loss=0.0509]\n"
     ]
    },
    {
     "name": "stdout",
     "output_type": "stream",
     "text": [
      "Epoch [108/150], Training MAE: 0.2570, Training RMSE: 0.3922\n",
      "Epoch [108/150], Validation MAE: 0.1976, Validation RMSE: 0.3275\n"
     ]
    },
    {
     "name": "stderr",
     "output_type": "stream",
     "text": [
      "Epoch 109/150: 100%|██████████| 212/212 [00:22<00:00,  9.36batch/s, mae_loss=0.0555]\n"
     ]
    },
    {
     "name": "stdout",
     "output_type": "stream",
     "text": [
      "Epoch [109/150], Training MAE: 0.2563, Training RMSE: 0.3914\n",
      "Epoch [109/150], Validation MAE: 0.1975, Validation RMSE: 0.3273\n"
     ]
    },
    {
     "name": "stderr",
     "output_type": "stream",
     "text": [
      "Epoch 110/150: 100%|██████████| 212/212 [00:22<00:00,  9.48batch/s, mae_loss=0.0503]\n"
     ]
    },
    {
     "name": "stdout",
     "output_type": "stream",
     "text": [
      "Epoch [110/150], Training MAE: 0.2568, Training RMSE: 0.3913\n",
      "Epoch [110/150], Validation MAE: 0.1975, Validation RMSE: 0.3274\n"
     ]
    },
    {
     "name": "stderr",
     "output_type": "stream",
     "text": [
      "Epoch 111/150: 100%|██████████| 212/212 [00:22<00:00,  9.58batch/s, mae_loss=0.0449]\n"
     ]
    },
    {
     "name": "stdout",
     "output_type": "stream",
     "text": [
      "Epoch [111/150], Training MAE: 0.2562, Training RMSE: 0.3909\n",
      "Epoch [111/150], Validation MAE: 0.1968, Validation RMSE: 0.3270\n"
     ]
    },
    {
     "name": "stderr",
     "output_type": "stream",
     "text": [
      "Epoch 112/150: 100%|██████████| 212/212 [00:22<00:00,  9.26batch/s, mae_loss=0.0503]\n"
     ]
    },
    {
     "name": "stdout",
     "output_type": "stream",
     "text": [
      "Epoch [112/150], Training MAE: 0.2558, Training RMSE: 0.3906\n",
      "Epoch [112/150], Validation MAE: 0.1969, Validation RMSE: 0.3269\n"
     ]
    },
    {
     "name": "stderr",
     "output_type": "stream",
     "text": [
      "Epoch 113/150: 100%|██████████| 212/212 [00:22<00:00,  9.63batch/s, mae_loss=0.0438]\n"
     ]
    },
    {
     "name": "stdout",
     "output_type": "stream",
     "text": [
      "Epoch [113/150], Training MAE: 0.2559, Training RMSE: 0.3908\n",
      "Epoch [113/150], Validation MAE: 0.1974, Validation RMSE: 0.3272\n"
     ]
    },
    {
     "name": "stderr",
     "output_type": "stream",
     "text": [
      "Epoch 114/150: 100%|██████████| 212/212 [00:22<00:00,  9.60batch/s, mae_loss=0.0522]\n"
     ]
    },
    {
     "name": "stdout",
     "output_type": "stream",
     "text": [
      "Epoch [114/150], Training MAE: 0.2554, Training RMSE: 0.3899\n",
      "Epoch [114/150], Validation MAE: 0.1975, Validation RMSE: 0.3270\n"
     ]
    },
    {
     "name": "stderr",
     "output_type": "stream",
     "text": [
      "Epoch 115/150: 100%|██████████| 212/212 [00:22<00:00,  9.58batch/s, mae_loss=0.0479]\n"
     ]
    },
    {
     "name": "stdout",
     "output_type": "stream",
     "text": [
      "Epoch [115/150], Training MAE: 0.2555, Training RMSE: 0.3900\n",
      "Epoch [115/150], Validation MAE: 0.1972, Validation RMSE: 0.3270\n"
     ]
    },
    {
     "name": "stderr",
     "output_type": "stream",
     "text": [
      "Epoch 116/150: 100%|██████████| 212/212 [00:22<00:00,  9.30batch/s, mae_loss=0.0474]\n"
     ]
    },
    {
     "name": "stdout",
     "output_type": "stream",
     "text": [
      "Epoch [116/150], Training MAE: 0.2550, Training RMSE: 0.3901\n",
      "Epoch [116/150], Validation MAE: 0.1966, Validation RMSE: 0.3266\n"
     ]
    },
    {
     "name": "stderr",
     "output_type": "stream",
     "text": [
      "Epoch 117/150: 100%|██████████| 212/212 [00:22<00:00,  9.46batch/s, mae_loss=0.0475]\n"
     ]
    },
    {
     "name": "stdout",
     "output_type": "stream",
     "text": [
      "Epoch [117/150], Training MAE: 0.2550, Training RMSE: 0.3897\n",
      "Epoch [117/150], Validation MAE: 0.1967, Validation RMSE: 0.3267\n"
     ]
    },
    {
     "name": "stderr",
     "output_type": "stream",
     "text": [
      "Epoch 118/150: 100%|██████████| 212/212 [00:22<00:00,  9.56batch/s, mae_loss=0.0559]\n"
     ]
    },
    {
     "name": "stdout",
     "output_type": "stream",
     "text": [
      "Epoch [118/150], Training MAE: 0.2546, Training RMSE: 0.3893\n",
      "Epoch [118/150], Validation MAE: 0.1970, Validation RMSE: 0.3268\n"
     ]
    },
    {
     "name": "stderr",
     "output_type": "stream",
     "text": [
      "Epoch 119/150: 100%|██████████| 212/212 [00:22<00:00,  9.49batch/s, mae_loss=0.0439]\n"
     ]
    },
    {
     "name": "stdout",
     "output_type": "stream",
     "text": [
      "Epoch [119/150], Training MAE: 0.2545, Training RMSE: 0.3889\n",
      "Epoch [119/150], Validation MAE: 0.1965, Validation RMSE: 0.3264\n"
     ]
    },
    {
     "name": "stderr",
     "output_type": "stream",
     "text": [
      "Epoch 120/150: 100%|██████████| 212/212 [00:22<00:00,  9.41batch/s, mae_loss=0.0499]\n"
     ]
    },
    {
     "name": "stdout",
     "output_type": "stream",
     "text": [
      "Epoch [120/150], Training MAE: 0.2548, Training RMSE: 0.3893\n",
      "Epoch [120/150], Validation MAE: 0.1966, Validation RMSE: 0.3266\n"
     ]
    },
    {
     "name": "stderr",
     "output_type": "stream",
     "text": [
      "Epoch 121/150: 100%|██████████| 212/212 [00:22<00:00,  9.60batch/s, mae_loss=0.0514]\n"
     ]
    },
    {
     "name": "stdout",
     "output_type": "stream",
     "text": [
      "Epoch [121/150], Training MAE: 0.2544, Training RMSE: 0.3891\n",
      "Epoch [121/150], Validation MAE: 0.1967, Validation RMSE: 0.3265\n"
     ]
    },
    {
     "name": "stderr",
     "output_type": "stream",
     "text": [
      "Epoch 122/150: 100%|██████████| 212/212 [00:22<00:00,  9.39batch/s, mae_loss=0.0485]\n"
     ]
    },
    {
     "name": "stdout",
     "output_type": "stream",
     "text": [
      "Epoch [122/150], Training MAE: 0.2540, Training RMSE: 0.3887\n",
      "Epoch [122/150], Validation MAE: 0.1963, Validation RMSE: 0.3265\n"
     ]
    },
    {
     "name": "stderr",
     "output_type": "stream",
     "text": [
      "Epoch 123/150: 100%|██████████| 212/212 [00:22<00:00,  9.61batch/s, mae_loss=0.0493]\n"
     ]
    },
    {
     "name": "stdout",
     "output_type": "stream",
     "text": [
      "Epoch [123/150], Training MAE: 0.2542, Training RMSE: 0.3890\n",
      "Epoch [123/150], Validation MAE: 0.1964, Validation RMSE: 0.3261\n"
     ]
    },
    {
     "name": "stderr",
     "output_type": "stream",
     "text": [
      "Epoch 124/150: 100%|██████████| 212/212 [00:22<00:00,  9.56batch/s, mae_loss=0.0494]\n"
     ]
    },
    {
     "name": "stdout",
     "output_type": "stream",
     "text": [
      "Epoch [124/150], Training MAE: 0.2536, Training RMSE: 0.3881\n",
      "Epoch [124/150], Validation MAE: 0.1962, Validation RMSE: 0.3262\n"
     ]
    },
    {
     "name": "stderr",
     "output_type": "stream",
     "text": [
      "Epoch 125/150: 100%|██████████| 212/212 [00:22<00:00,  9.46batch/s, mae_loss=0.0543]\n"
     ]
    },
    {
     "name": "stdout",
     "output_type": "stream",
     "text": [
      "Epoch [125/150], Training MAE: 0.2534, Training RMSE: 0.3884\n",
      "Epoch [125/150], Validation MAE: 0.1963, Validation RMSE: 0.3262\n"
     ]
    },
    {
     "name": "stderr",
     "output_type": "stream",
     "text": [
      "Epoch 126/150: 100%|██████████| 212/212 [00:22<00:00,  9.45batch/s, mae_loss=0.0476]\n"
     ]
    },
    {
     "name": "stdout",
     "output_type": "stream",
     "text": [
      "Epoch [126/150], Training MAE: 0.2529, Training RMSE: 0.3877\n",
      "Epoch [126/150], Validation MAE: 0.1962, Validation RMSE: 0.3261\n"
     ]
    },
    {
     "name": "stderr",
     "output_type": "stream",
     "text": [
      "Epoch 127/150: 100%|██████████| 212/212 [00:21<00:00,  9.69batch/s, mae_loss=0.0479]\n"
     ]
    },
    {
     "name": "stdout",
     "output_type": "stream",
     "text": [
      "Epoch [127/150], Training MAE: 0.2530, Training RMSE: 0.3877\n",
      "Epoch [127/150], Validation MAE: 0.1964, Validation RMSE: 0.3262\n"
     ]
    },
    {
     "name": "stderr",
     "output_type": "stream",
     "text": [
      "Epoch 128/150: 100%|██████████| 212/212 [00:22<00:00,  9.36batch/s, mae_loss=0.0478]\n"
     ]
    },
    {
     "name": "stdout",
     "output_type": "stream",
     "text": [
      "Epoch [128/150], Training MAE: 0.2529, Training RMSE: 0.3878\n",
      "Epoch [128/150], Validation MAE: 0.1959, Validation RMSE: 0.3262\n"
     ]
    },
    {
     "name": "stderr",
     "output_type": "stream",
     "text": [
      "Epoch 129/150: 100%|██████████| 212/212 [00:22<00:00,  9.41batch/s, mae_loss=0.0482]\n"
     ]
    },
    {
     "name": "stdout",
     "output_type": "stream",
     "text": [
      "Epoch [129/150], Training MAE: 0.2529, Training RMSE: 0.3875\n",
      "Epoch [129/150], Validation MAE: 0.1962, Validation RMSE: 0.3262\n"
     ]
    },
    {
     "name": "stderr",
     "output_type": "stream",
     "text": [
      "Epoch 130/150: 100%|██████████| 212/212 [00:22<00:00,  9.42batch/s, mae_loss=0.0475]\n"
     ]
    },
    {
     "name": "stdout",
     "output_type": "stream",
     "text": [
      "Epoch [130/150], Training MAE: 0.2526, Training RMSE: 0.3867\n",
      "Epoch [130/150], Validation MAE: 0.1962, Validation RMSE: 0.3259\n"
     ]
    },
    {
     "name": "stderr",
     "output_type": "stream",
     "text": [
      "Epoch 131/150: 100%|██████████| 212/212 [00:22<00:00,  9.51batch/s, mae_loss=0.0478]\n"
     ]
    },
    {
     "name": "stdout",
     "output_type": "stream",
     "text": [
      "Epoch [131/150], Training MAE: 0.2521, Training RMSE: 0.3864\n",
      "Epoch [131/150], Validation MAE: 0.1956, Validation RMSE: 0.3256\n"
     ]
    },
    {
     "name": "stderr",
     "output_type": "stream",
     "text": [
      "Epoch 132/150: 100%|██████████| 212/212 [00:22<00:00,  9.52batch/s, mae_loss=0.0474]\n"
     ]
    },
    {
     "name": "stdout",
     "output_type": "stream",
     "text": [
      "Epoch [132/150], Training MAE: 0.2524, Training RMSE: 0.3869\n",
      "Epoch [132/150], Validation MAE: 0.1960, Validation RMSE: 0.3256\n"
     ]
    },
    {
     "name": "stderr",
     "output_type": "stream",
     "text": [
      "Epoch 133/150: 100%|██████████| 212/212 [00:22<00:00,  9.43batch/s, mae_loss=0.0437]\n"
     ]
    },
    {
     "name": "stdout",
     "output_type": "stream",
     "text": [
      "Epoch [133/150], Training MAE: 0.2520, Training RMSE: 0.3863\n",
      "Epoch [133/150], Validation MAE: 0.1958, Validation RMSE: 0.3259\n"
     ]
    },
    {
     "name": "stderr",
     "output_type": "stream",
     "text": [
      "Epoch 134/150: 100%|██████████| 212/212 [00:21<00:00,  9.65batch/s, mae_loss=0.0424]\n"
     ]
    },
    {
     "name": "stdout",
     "output_type": "stream",
     "text": [
      "Epoch [134/150], Training MAE: 0.2521, Training RMSE: 0.3867\n",
      "Epoch [134/150], Validation MAE: 0.1956, Validation RMSE: 0.3258\n"
     ]
    },
    {
     "name": "stderr",
     "output_type": "stream",
     "text": [
      "Epoch 135/150: 100%|██████████| 212/212 [00:22<00:00,  9.52batch/s, mae_loss=0.05]  \n"
     ]
    },
    {
     "name": "stdout",
     "output_type": "stream",
     "text": [
      "Epoch [135/150], Training MAE: 0.2514, Training RMSE: 0.3859\n",
      "Epoch [135/150], Validation MAE: 0.1956, Validation RMSE: 0.3255\n"
     ]
    },
    {
     "name": "stderr",
     "output_type": "stream",
     "text": [
      "Epoch 136/150: 100%|██████████| 212/212 [00:22<00:00,  9.50batch/s, mae_loss=0.0462]\n"
     ]
    },
    {
     "name": "stdout",
     "output_type": "stream",
     "text": [
      "Epoch [136/150], Training MAE: 0.2519, Training RMSE: 0.3864\n",
      "Epoch [136/150], Validation MAE: 0.1958, Validation RMSE: 0.3256\n"
     ]
    },
    {
     "name": "stderr",
     "output_type": "stream",
     "text": [
      "Epoch 137/150: 100%|██████████| 212/212 [00:22<00:00,  9.61batch/s, mae_loss=0.0449]\n"
     ]
    },
    {
     "name": "stdout",
     "output_type": "stream",
     "text": [
      "Epoch [137/150], Training MAE: 0.2514, Training RMSE: 0.3862\n",
      "Epoch [137/150], Validation MAE: 0.1961, Validation RMSE: 0.3258\n"
     ]
    },
    {
     "name": "stderr",
     "output_type": "stream",
     "text": [
      "Epoch 138/150: 100%|██████████| 212/212 [00:22<00:00,  9.37batch/s, mae_loss=0.0526]\n"
     ]
    },
    {
     "name": "stdout",
     "output_type": "stream",
     "text": [
      "Epoch [138/150], Training MAE: 0.2510, Training RMSE: 0.3855\n",
      "Epoch [138/150], Validation MAE: 0.1956, Validation RMSE: 0.3260\n"
     ]
    },
    {
     "name": "stderr",
     "output_type": "stream",
     "text": [
      "Epoch 139/150: 100%|██████████| 212/212 [00:22<00:00,  9.61batch/s, mae_loss=0.0499]\n"
     ]
    },
    {
     "name": "stdout",
     "output_type": "stream",
     "text": [
      "Epoch [139/150], Training MAE: 0.2512, Training RMSE: 0.3858\n",
      "Epoch [139/150], Validation MAE: 0.1955, Validation RMSE: 0.3253\n"
     ]
    },
    {
     "name": "stderr",
     "output_type": "stream",
     "text": [
      "Epoch 140/150: 100%|██████████| 212/212 [00:22<00:00,  9.38batch/s, mae_loss=0.0479]\n"
     ]
    },
    {
     "name": "stdout",
     "output_type": "stream",
     "text": [
      "Epoch [140/150], Training MAE: 0.2510, Training RMSE: 0.3853\n",
      "Epoch [140/150], Validation MAE: 0.1953, Validation RMSE: 0.3252\n"
     ]
    },
    {
     "name": "stderr",
     "output_type": "stream",
     "text": [
      "Epoch 141/150: 100%|██████████| 212/212 [00:22<00:00,  9.42batch/s, mae_loss=0.0492]\n"
     ]
    },
    {
     "name": "stdout",
     "output_type": "stream",
     "text": [
      "Epoch [141/150], Training MAE: 0.2509, Training RMSE: 0.3857\n",
      "Epoch [141/150], Validation MAE: 0.1954, Validation RMSE: 0.3256\n"
     ]
    },
    {
     "name": "stderr",
     "output_type": "stream",
     "text": [
      "Epoch 142/150: 100%|██████████| 212/212 [00:22<00:00,  9.56batch/s, mae_loss=0.0502]\n"
     ]
    },
    {
     "name": "stdout",
     "output_type": "stream",
     "text": [
      "Epoch [142/150], Training MAE: 0.2505, Training RMSE: 0.3847\n",
      "Epoch [142/150], Validation MAE: 0.1953, Validation RMSE: 0.3254\n"
     ]
    },
    {
     "name": "stderr",
     "output_type": "stream",
     "text": [
      "Epoch 143/150: 100%|██████████| 212/212 [00:22<00:00,  9.23batch/s, mae_loss=0.0486]\n"
     ]
    },
    {
     "name": "stdout",
     "output_type": "stream",
     "text": [
      "Epoch [143/150], Training MAE: 0.2505, Training RMSE: 0.3850\n",
      "Epoch [143/150], Validation MAE: 0.1953, Validation RMSE: 0.3251\n"
     ]
    },
    {
     "name": "stderr",
     "output_type": "stream",
     "text": [
      "Epoch 144/150: 100%|██████████| 212/212 [00:22<00:00,  9.53batch/s, mae_loss=0.0483]\n"
     ]
    },
    {
     "name": "stdout",
     "output_type": "stream",
     "text": [
      "Epoch [144/150], Training MAE: 0.2502, Training RMSE: 0.3847\n",
      "Epoch [144/150], Validation MAE: 0.1957, Validation RMSE: 0.3255\n"
     ]
    },
    {
     "name": "stderr",
     "output_type": "stream",
     "text": [
      "Epoch 145/150: 100%|██████████| 212/212 [00:22<00:00,  9.58batch/s, mae_loss=0.0485]\n"
     ]
    },
    {
     "name": "stdout",
     "output_type": "stream",
     "text": [
      "Epoch [145/150], Training MAE: 0.2501, Training RMSE: 0.3848\n",
      "Epoch [145/150], Validation MAE: 0.1953, Validation RMSE: 0.3254\n"
     ]
    },
    {
     "name": "stderr",
     "output_type": "stream",
     "text": [
      "Epoch 146/150: 100%|██████████| 212/212 [00:22<00:00,  9.45batch/s, mae_loss=0.0471]\n"
     ]
    },
    {
     "name": "stdout",
     "output_type": "stream",
     "text": [
      "Epoch [146/150], Training MAE: 0.2501, Training RMSE: 0.3849\n",
      "Epoch [146/150], Validation MAE: 0.1954, Validation RMSE: 0.3254\n"
     ]
    },
    {
     "name": "stderr",
     "output_type": "stream",
     "text": [
      "Epoch 147/150: 100%|██████████| 212/212 [00:22<00:00,  9.63batch/s, mae_loss=0.0511]\n"
     ]
    },
    {
     "name": "stdout",
     "output_type": "stream",
     "text": [
      "Epoch [147/150], Training MAE: 0.2497, Training RMSE: 0.3844\n",
      "Epoch [147/150], Validation MAE: 0.1954, Validation RMSE: 0.3253\n"
     ]
    },
    {
     "name": "stderr",
     "output_type": "stream",
     "text": [
      "Epoch 148/150: 100%|██████████| 212/212 [00:22<00:00,  9.55batch/s, mae_loss=0.0468]\n"
     ]
    },
    {
     "name": "stdout",
     "output_type": "stream",
     "text": [
      "Epoch [148/150], Training MAE: 0.2500, Training RMSE: 0.3844\n",
      "Epoch [148/150], Validation MAE: 0.1949, Validation RMSE: 0.3251\n"
     ]
    },
    {
     "name": "stderr",
     "output_type": "stream",
     "text": [
      "Epoch 149/150: 100%|██████████| 212/212 [00:22<00:00,  9.37batch/s, mae_loss=0.0465]\n"
     ]
    },
    {
     "name": "stdout",
     "output_type": "stream",
     "text": [
      "Epoch [149/150], Training MAE: 0.2496, Training RMSE: 0.3840\n",
      "Epoch [149/150], Validation MAE: 0.1953, Validation RMSE: 0.3254\n"
     ]
    },
    {
     "name": "stderr",
     "output_type": "stream",
     "text": [
      "Epoch 150/150: 100%|██████████| 212/212 [00:22<00:00,  9.36batch/s, mae_loss=0.0474]\n"
     ]
    },
    {
     "name": "stdout",
     "output_type": "stream",
     "text": [
      "Epoch [150/150], Training MAE: 0.2496, Training RMSE: 0.3839\n",
      "Epoch [150/150], Validation MAE: 0.1954, Validation RMSE: 0.3254\n",
      "End Prediction Horizon of 6 of shared-layer Model\n",
      "model_shared-layer_attention_6_10 saved\n",
      "Shape of X (features): (12, 13612, 12)\n",
      "Shape of y (targets): (12, 13612)\n",
      "Shape of X_test (features): (12, 3933, 12)\n",
      "Shape of y_test (targets): (12, 3933)\n"
     ]
    },
    {
     "name": "stderr",
     "output_type": "stream",
     "text": [
      "Epoch 1/150: 100%|██████████| 213/213 [00:24<00:00,  8.61batch/s, mae_loss=0.0663]\n"
     ]
    },
    {
     "name": "stdout",
     "output_type": "stream",
     "text": [
      "Epoch [1/150], Training MAE: 0.7010, Training RMSE: 0.9215\n",
      "Epoch [1/150], Validation MAE: 0.5522, Validation RMSE: 0.8027\n"
     ]
    },
    {
     "name": "stderr",
     "output_type": "stream",
     "text": [
      "Epoch 2/150: 100%|██████████| 213/213 [00:24<00:00,  8.85batch/s, mae_loss=0.059] \n"
     ]
    },
    {
     "name": "stdout",
     "output_type": "stream",
     "text": [
      "Epoch [2/150], Training MAE: 0.6642, Training RMSE: 0.8785\n",
      "Epoch [2/150], Validation MAE: 0.5232, Validation RMSE: 0.7635\n"
     ]
    },
    {
     "name": "stderr",
     "output_type": "stream",
     "text": [
      "Epoch 3/150: 100%|██████████| 213/213 [00:23<00:00,  9.02batch/s, mae_loss=0.0609]\n"
     ]
    },
    {
     "name": "stdout",
     "output_type": "stream",
     "text": [
      "Epoch [3/150], Training MAE: 0.6269, Training RMSE: 0.8315\n",
      "Epoch [3/150], Validation MAE: 0.4899, Validation RMSE: 0.7161\n"
     ]
    },
    {
     "name": "stderr",
     "output_type": "stream",
     "text": [
      "Epoch 4/150: 100%|██████████| 213/213 [00:24<00:00,  8.74batch/s, mae_loss=0.0598]\n"
     ]
    },
    {
     "name": "stdout",
     "output_type": "stream",
     "text": [
      "Epoch [4/150], Training MAE: 0.5812, Training RMSE: 0.7743\n",
      "Epoch [4/150], Validation MAE: 0.4494, Validation RMSE: 0.6589\n"
     ]
    },
    {
     "name": "stderr",
     "output_type": "stream",
     "text": [
      "Epoch 5/150: 100%|██████████| 213/213 [00:24<00:00,  8.72batch/s, mae_loss=0.062] \n"
     ]
    },
    {
     "name": "stdout",
     "output_type": "stream",
     "text": [
      "Epoch [5/150], Training MAE: 0.5299, Training RMSE: 0.7118\n",
      "Epoch [5/150], Validation MAE: 0.4095, Validation RMSE: 0.6025\n"
     ]
    },
    {
     "name": "stderr",
     "output_type": "stream",
     "text": [
      "Epoch 6/150: 100%|██████████| 213/213 [00:24<00:00,  8.63batch/s, mae_loss=0.0605]\n"
     ]
    },
    {
     "name": "stdout",
     "output_type": "stream",
     "text": [
      "Epoch [6/150], Training MAE: 0.4864, Training RMSE: 0.6601\n",
      "Epoch [6/150], Validation MAE: 0.3799, Validation RMSE: 0.5610\n"
     ]
    },
    {
     "name": "stderr",
     "output_type": "stream",
     "text": [
      "Epoch 7/150: 100%|██████████| 213/213 [00:24<00:00,  8.81batch/s, mae_loss=0.0577]\n"
     ]
    },
    {
     "name": "stdout",
     "output_type": "stream",
     "text": [
      "Epoch [7/150], Training MAE: 0.4592, Training RMSE: 0.6289\n",
      "Epoch [7/150], Validation MAE: 0.3587, Validation RMSE: 0.5332\n"
     ]
    },
    {
     "name": "stderr",
     "output_type": "stream",
     "text": [
      "Epoch 8/150: 100%|██████████| 213/213 [00:24<00:00,  8.72batch/s, mae_loss=0.0556]\n"
     ]
    },
    {
     "name": "stdout",
     "output_type": "stream",
     "text": [
      "Epoch [8/150], Training MAE: 0.4404, Training RMSE: 0.6087\n",
      "Epoch [8/150], Validation MAE: 0.3429, Validation RMSE: 0.5130\n"
     ]
    },
    {
     "name": "stderr",
     "output_type": "stream",
     "text": [
      "Epoch 9/150: 100%|██████████| 213/213 [00:24<00:00,  8.65batch/s, mae_loss=0.0508]\n"
     ]
    },
    {
     "name": "stdout",
     "output_type": "stream",
     "text": [
      "Epoch [9/150], Training MAE: 0.4272, Training RMSE: 0.5940\n",
      "Epoch [9/150], Validation MAE: 0.3301, Validation RMSE: 0.4969\n"
     ]
    },
    {
     "name": "stderr",
     "output_type": "stream",
     "text": [
      "Epoch 10/150: 100%|██████████| 213/213 [00:23<00:00,  8.91batch/s, mae_loss=0.0477]\n"
     ]
    },
    {
     "name": "stdout",
     "output_type": "stream",
     "text": [
      "Epoch [10/150], Training MAE: 0.4161, Training RMSE: 0.5821\n",
      "Epoch [10/150], Validation MAE: 0.3197, Validation RMSE: 0.4834\n"
     ]
    },
    {
     "name": "stderr",
     "output_type": "stream",
     "text": [
      "Epoch 11/150: 100%|██████████| 213/213 [00:24<00:00,  8.62batch/s, mae_loss=0.0493]\n"
     ]
    },
    {
     "name": "stdout",
     "output_type": "stream",
     "text": [
      "Epoch [11/150], Training MAE: 0.4068, Training RMSE: 0.5715\n",
      "Epoch [11/150], Validation MAE: 0.3112, Validation RMSE: 0.4730\n"
     ]
    },
    {
     "name": "stderr",
     "output_type": "stream",
     "text": [
      "Epoch 12/150: 100%|██████████| 213/213 [00:23<00:00,  8.92batch/s, mae_loss=0.0485]\n"
     ]
    },
    {
     "name": "stdout",
     "output_type": "stream",
     "text": [
      "Epoch [12/150], Training MAE: 0.3985, Training RMSE: 0.5621\n",
      "Epoch [12/150], Validation MAE: 0.3037, Validation RMSE: 0.4639\n"
     ]
    },
    {
     "name": "stderr",
     "output_type": "stream",
     "text": [
      "Epoch 13/150: 100%|██████████| 213/213 [00:24<00:00,  8.52batch/s, mae_loss=0.0456]\n"
     ]
    },
    {
     "name": "stdout",
     "output_type": "stream",
     "text": [
      "Epoch [13/150], Training MAE: 0.3917, Training RMSE: 0.5540\n",
      "Epoch [13/150], Validation MAE: 0.2966, Validation RMSE: 0.4554\n"
     ]
    },
    {
     "name": "stderr",
     "output_type": "stream",
     "text": [
      "Epoch 14/150: 100%|██████████| 213/213 [00:23<00:00,  9.01batch/s, mae_loss=0.0441]\n"
     ]
    },
    {
     "name": "stdout",
     "output_type": "stream",
     "text": [
      "Epoch [14/150], Training MAE: 0.3851, Training RMSE: 0.5458\n",
      "Epoch [14/150], Validation MAE: 0.2903, Validation RMSE: 0.4471\n"
     ]
    },
    {
     "name": "stderr",
     "output_type": "stream",
     "text": [
      "Epoch 15/150: 100%|██████████| 213/213 [00:23<00:00,  8.96batch/s, mae_loss=0.0428]\n"
     ]
    },
    {
     "name": "stdout",
     "output_type": "stream",
     "text": [
      "Epoch [15/150], Training MAE: 0.3785, Training RMSE: 0.5375\n",
      "Epoch [15/150], Validation MAE: 0.2847, Validation RMSE: 0.4396\n"
     ]
    },
    {
     "name": "stderr",
     "output_type": "stream",
     "text": [
      "Epoch 16/150: 100%|██████████| 213/213 [00:25<00:00,  8.51batch/s, mae_loss=0.0426]\n"
     ]
    },
    {
     "name": "stdout",
     "output_type": "stream",
     "text": [
      "Epoch [16/150], Training MAE: 0.3718, Training RMSE: 0.5294\n",
      "Epoch [16/150], Validation MAE: 0.2792, Validation RMSE: 0.4320\n"
     ]
    },
    {
     "name": "stderr",
     "output_type": "stream",
     "text": [
      "Epoch 17/150: 100%|██████████| 213/213 [00:23<00:00,  9.00batch/s, mae_loss=0.0421]\n"
     ]
    },
    {
     "name": "stdout",
     "output_type": "stream",
     "text": [
      "Epoch [17/150], Training MAE: 0.3655, Training RMSE: 0.5213\n",
      "Epoch [17/150], Validation MAE: 0.2739, Validation RMSE: 0.4247\n"
     ]
    },
    {
     "name": "stderr",
     "output_type": "stream",
     "text": [
      "Epoch 18/150: 100%|██████████| 213/213 [00:24<00:00,  8.56batch/s, mae_loss=0.0425]\n"
     ]
    },
    {
     "name": "stdout",
     "output_type": "stream",
     "text": [
      "Epoch [18/150], Training MAE: 0.3599, Training RMSE: 0.5142\n",
      "Epoch [18/150], Validation MAE: 0.2689, Validation RMSE: 0.4174\n"
     ]
    },
    {
     "name": "stderr",
     "output_type": "stream",
     "text": [
      "Epoch 19/150: 100%|██████████| 213/213 [00:23<00:00,  9.02batch/s, mae_loss=0.0442]\n"
     ]
    },
    {
     "name": "stdout",
     "output_type": "stream",
     "text": [
      "Epoch [19/150], Training MAE: 0.3542, Training RMSE: 0.5071\n",
      "Epoch [19/150], Validation MAE: 0.2639, Validation RMSE: 0.4108\n"
     ]
    },
    {
     "name": "stderr",
     "output_type": "stream",
     "text": [
      "Epoch 20/150: 100%|██████████| 213/213 [00:24<00:00,  8.62batch/s, mae_loss=0.0428]\n"
     ]
    },
    {
     "name": "stdout",
     "output_type": "stream",
     "text": [
      "Epoch [20/150], Training MAE: 0.3484, Training RMSE: 0.4997\n",
      "Epoch [20/150], Validation MAE: 0.2595, Validation RMSE: 0.4043\n"
     ]
    },
    {
     "name": "stderr",
     "output_type": "stream",
     "text": [
      "Epoch 21/150: 100%|██████████| 213/213 [00:24<00:00,  8.86batch/s, mae_loss=0.044] \n"
     ]
    },
    {
     "name": "stdout",
     "output_type": "stream",
     "text": [
      "Epoch [21/150], Training MAE: 0.3442, Training RMSE: 0.4940\n",
      "Epoch [21/150], Validation MAE: 0.2552, Validation RMSE: 0.3985\n"
     ]
    },
    {
     "name": "stderr",
     "output_type": "stream",
     "text": [
      "Epoch 22/150: 100%|██████████| 213/213 [00:24<00:00,  8.76batch/s, mae_loss=0.0438]\n"
     ]
    },
    {
     "name": "stdout",
     "output_type": "stream",
     "text": [
      "Epoch [22/150], Training MAE: 0.3388, Training RMSE: 0.4875\n",
      "Epoch [22/150], Validation MAE: 0.2512, Validation RMSE: 0.3930\n"
     ]
    },
    {
     "name": "stderr",
     "output_type": "stream",
     "text": [
      "Epoch 23/150: 100%|██████████| 213/213 [00:24<00:00,  8.66batch/s, mae_loss=0.0438]\n"
     ]
    },
    {
     "name": "stdout",
     "output_type": "stream",
     "text": [
      "Epoch [23/150], Training MAE: 0.3336, Training RMSE: 0.4811\n",
      "Epoch [23/150], Validation MAE: 0.2472, Validation RMSE: 0.3877\n"
     ]
    },
    {
     "name": "stderr",
     "output_type": "stream",
     "text": [
      "Epoch 24/150: 100%|██████████| 213/213 [00:24<00:00,  8.85batch/s, mae_loss=0.0431]\n"
     ]
    },
    {
     "name": "stdout",
     "output_type": "stream",
     "text": [
      "Epoch [24/150], Training MAE: 0.3294, Training RMSE: 0.4754\n",
      "Epoch [24/150], Validation MAE: 0.2436, Validation RMSE: 0.3830\n"
     ]
    },
    {
     "name": "stderr",
     "output_type": "stream",
     "text": [
      "Epoch 25/150: 100%|██████████| 213/213 [00:24<00:00,  8.58batch/s, mae_loss=0.0451]\n"
     ]
    },
    {
     "name": "stdout",
     "output_type": "stream",
     "text": [
      "Epoch [25/150], Training MAE: 0.3258, Training RMSE: 0.4711\n",
      "Epoch [25/150], Validation MAE: 0.2396, Validation RMSE: 0.3783\n"
     ]
    },
    {
     "name": "stderr",
     "output_type": "stream",
     "text": [
      "Epoch 26/150: 100%|██████████| 213/213 [00:23<00:00,  8.97batch/s, mae_loss=0.0433]\n"
     ]
    },
    {
     "name": "stdout",
     "output_type": "stream",
     "text": [
      "Epoch [26/150], Training MAE: 0.3225, Training RMSE: 0.4668\n",
      "Epoch [26/150], Validation MAE: 0.2364, Validation RMSE: 0.3742\n"
     ]
    },
    {
     "name": "stderr",
     "output_type": "stream",
     "text": [
      "Epoch 27/150: 100%|██████████| 213/213 [00:24<00:00,  8.69batch/s, mae_loss=0.045] \n"
     ]
    },
    {
     "name": "stdout",
     "output_type": "stream",
     "text": [
      "Epoch [27/150], Training MAE: 0.3185, Training RMSE: 0.4620\n",
      "Epoch [27/150], Validation MAE: 0.2338, Validation RMSE: 0.3706\n"
     ]
    },
    {
     "name": "stderr",
     "output_type": "stream",
     "text": [
      "Epoch 28/150: 100%|██████████| 213/213 [00:24<00:00,  8.73batch/s, mae_loss=0.0452]\n"
     ]
    },
    {
     "name": "stdout",
     "output_type": "stream",
     "text": [
      "Epoch [28/150], Training MAE: 0.3152, Training RMSE: 0.4580\n",
      "Epoch [28/150], Validation MAE: 0.2312, Validation RMSE: 0.3675\n"
     ]
    },
    {
     "name": "stderr",
     "output_type": "stream",
     "text": [
      "Epoch 29/150: 100%|██████████| 213/213 [00:24<00:00,  8.82batch/s, mae_loss=0.0466]\n"
     ]
    },
    {
     "name": "stdout",
     "output_type": "stream",
     "text": [
      "Epoch [29/150], Training MAE: 0.3122, Training RMSE: 0.4546\n",
      "Epoch [29/150], Validation MAE: 0.2290, Validation RMSE: 0.3646\n"
     ]
    },
    {
     "name": "stderr",
     "output_type": "stream",
     "text": [
      "Epoch 30/150: 100%|██████████| 213/213 [00:26<00:00,  7.99batch/s, mae_loss=0.0439]\n"
     ]
    },
    {
     "name": "stdout",
     "output_type": "stream",
     "text": [
      "Epoch [30/150], Training MAE: 0.3098, Training RMSE: 0.4517\n",
      "Epoch [30/150], Validation MAE: 0.2262, Validation RMSE: 0.3615\n"
     ]
    },
    {
     "name": "stderr",
     "output_type": "stream",
     "text": [
      "Epoch 31/150: 100%|██████████| 213/213 [00:27<00:00,  7.86batch/s, mae_loss=0.0463]\n"
     ]
    },
    {
     "name": "stdout",
     "output_type": "stream",
     "text": [
      "Epoch [31/150], Training MAE: 0.3076, Training RMSE: 0.4486\n",
      "Epoch [31/150], Validation MAE: 0.2246, Validation RMSE: 0.3590\n"
     ]
    },
    {
     "name": "stderr",
     "output_type": "stream",
     "text": [
      "Epoch 32/150: 100%|██████████| 213/213 [00:26<00:00,  8.05batch/s, mae_loss=0.0477]\n"
     ]
    },
    {
     "name": "stdout",
     "output_type": "stream",
     "text": [
      "Epoch [32/150], Training MAE: 0.3053, Training RMSE: 0.4462\n",
      "Epoch [32/150], Validation MAE: 0.2224, Validation RMSE: 0.3568\n"
     ]
    },
    {
     "name": "stderr",
     "output_type": "stream",
     "text": [
      "Epoch 33/150: 100%|██████████| 213/213 [00:25<00:00,  8.32batch/s, mae_loss=0.0465]\n"
     ]
    },
    {
     "name": "stdout",
     "output_type": "stream",
     "text": [
      "Epoch [33/150], Training MAE: 0.3032, Training RMSE: 0.4435\n",
      "Epoch [33/150], Validation MAE: 0.2210, Validation RMSE: 0.3546\n"
     ]
    },
    {
     "name": "stderr",
     "output_type": "stream",
     "text": [
      "Epoch 34/150: 100%|██████████| 213/213 [00:25<00:00,  8.37batch/s, mae_loss=0.0489]\n"
     ]
    },
    {
     "name": "stdout",
     "output_type": "stream",
     "text": [
      "Epoch [34/150], Training MAE: 0.3008, Training RMSE: 0.4411\n",
      "Epoch [34/150], Validation MAE: 0.2195, Validation RMSE: 0.3530\n"
     ]
    },
    {
     "name": "stderr",
     "output_type": "stream",
     "text": [
      "Epoch 35/150: 100%|██████████| 213/213 [00:28<00:00,  7.50batch/s, mae_loss=0.0462]\n"
     ]
    },
    {
     "name": "stdout",
     "output_type": "stream",
     "text": [
      "Epoch [35/150], Training MAE: 0.2988, Training RMSE: 0.4383\n",
      "Epoch [35/150], Validation MAE: 0.2185, Validation RMSE: 0.3514\n"
     ]
    },
    {
     "name": "stderr",
     "output_type": "stream",
     "text": [
      "Epoch 36/150: 100%|██████████| 213/213 [00:35<00:00,  6.09batch/s, mae_loss=0.0461]\n"
     ]
    },
    {
     "name": "stdout",
     "output_type": "stream",
     "text": [
      "Epoch [36/150], Training MAE: 0.2973, Training RMSE: 0.4364\n",
      "Epoch [36/150], Validation MAE: 0.2171, Validation RMSE: 0.3499\n"
     ]
    },
    {
     "name": "stderr",
     "output_type": "stream",
     "text": [
      "Epoch 37/150: 100%|██████████| 213/213 [00:28<00:00,  7.44batch/s, mae_loss=0.048] \n"
     ]
    },
    {
     "name": "stdout",
     "output_type": "stream",
     "text": [
      "Epoch [37/150], Training MAE: 0.2953, Training RMSE: 0.4341\n",
      "Epoch [37/150], Validation MAE: 0.2164, Validation RMSE: 0.3484\n"
     ]
    },
    {
     "name": "stderr",
     "output_type": "stream",
     "text": [
      "Epoch 38/150: 100%|██████████| 213/213 [00:27<00:00,  7.68batch/s, mae_loss=0.0458]\n"
     ]
    },
    {
     "name": "stdout",
     "output_type": "stream",
     "text": [
      "Epoch [38/150], Training MAE: 0.2938, Training RMSE: 0.4322\n",
      "Epoch [38/150], Validation MAE: 0.2149, Validation RMSE: 0.3473\n"
     ]
    },
    {
     "name": "stderr",
     "output_type": "stream",
     "text": [
      "Epoch 39/150: 100%|██████████| 213/213 [00:28<00:00,  7.51batch/s, mae_loss=0.0476]\n"
     ]
    },
    {
     "name": "stdout",
     "output_type": "stream",
     "text": [
      "Epoch [39/150], Training MAE: 0.2925, Training RMSE: 0.4310\n",
      "Epoch [39/150], Validation MAE: 0.2143, Validation RMSE: 0.3460\n"
     ]
    },
    {
     "name": "stderr",
     "output_type": "stream",
     "text": [
      "Epoch 40/150: 100%|██████████| 213/213 [00:26<00:00,  8.16batch/s, mae_loss=0.0484]\n"
     ]
    },
    {
     "name": "stdout",
     "output_type": "stream",
     "text": [
      "Epoch [40/150], Training MAE: 0.2916, Training RMSE: 0.4303\n",
      "Epoch [40/150], Validation MAE: 0.2136, Validation RMSE: 0.3453\n"
     ]
    },
    {
     "name": "stderr",
     "output_type": "stream",
     "text": [
      "Epoch 41/150: 100%|██████████| 213/213 [00:36<00:00,  5.83batch/s, mae_loss=0.0462]\n"
     ]
    },
    {
     "name": "stdout",
     "output_type": "stream",
     "text": [
      "Epoch [41/150], Training MAE: 0.2902, Training RMSE: 0.4286\n",
      "Epoch [41/150], Validation MAE: 0.2128, Validation RMSE: 0.3442\n"
     ]
    },
    {
     "name": "stderr",
     "output_type": "stream",
     "text": [
      "Epoch 42/150: 100%|██████████| 213/213 [00:26<00:00,  8.03batch/s, mae_loss=0.0462]\n"
     ]
    },
    {
     "name": "stdout",
     "output_type": "stream",
     "text": [
      "Epoch [42/150], Training MAE: 0.2885, Training RMSE: 0.4263\n",
      "Epoch [42/150], Validation MAE: 0.2118, Validation RMSE: 0.3433\n"
     ]
    },
    {
     "name": "stderr",
     "output_type": "stream",
     "text": [
      "Epoch 43/150: 100%|██████████| 213/213 [00:23<00:00,  9.03batch/s, mae_loss=0.046] \n"
     ]
    },
    {
     "name": "stdout",
     "output_type": "stream",
     "text": [
      "Epoch [43/150], Training MAE: 0.2869, Training RMSE: 0.4249\n",
      "Epoch [43/150], Validation MAE: 0.2114, Validation RMSE: 0.3424\n"
     ]
    },
    {
     "name": "stderr",
     "output_type": "stream",
     "text": [
      "Epoch 44/150: 100%|██████████| 213/213 [00:24<00:00,  8.67batch/s, mae_loss=0.0478]\n"
     ]
    },
    {
     "name": "stdout",
     "output_type": "stream",
     "text": [
      "Epoch [44/150], Training MAE: 0.2865, Training RMSE: 0.4247\n",
      "Epoch [44/150], Validation MAE: 0.2105, Validation RMSE: 0.3417\n"
     ]
    },
    {
     "name": "stderr",
     "output_type": "stream",
     "text": [
      "Epoch 45/150: 100%|██████████| 213/213 [00:24<00:00,  8.71batch/s, mae_loss=0.0457]\n"
     ]
    },
    {
     "name": "stdout",
     "output_type": "stream",
     "text": [
      "Epoch [45/150], Training MAE: 0.2856, Training RMSE: 0.4233\n",
      "Epoch [45/150], Validation MAE: 0.2104, Validation RMSE: 0.3413\n"
     ]
    },
    {
     "name": "stderr",
     "output_type": "stream",
     "text": [
      "Epoch 46/150: 100%|██████████| 213/213 [00:23<00:00,  8.92batch/s, mae_loss=0.0482]\n"
     ]
    },
    {
     "name": "stdout",
     "output_type": "stream",
     "text": [
      "Epoch [46/150], Training MAE: 0.2844, Training RMSE: 0.4218\n",
      "Epoch [46/150], Validation MAE: 0.2094, Validation RMSE: 0.3404\n"
     ]
    },
    {
     "name": "stderr",
     "output_type": "stream",
     "text": [
      "Epoch 47/150: 100%|██████████| 213/213 [00:24<00:00,  8.77batch/s, mae_loss=0.0463]\n"
     ]
    },
    {
     "name": "stdout",
     "output_type": "stream",
     "text": [
      "Epoch [47/150], Training MAE: 0.2836, Training RMSE: 0.4210\n",
      "Epoch [47/150], Validation MAE: 0.2089, Validation RMSE: 0.3399\n"
     ]
    },
    {
     "name": "stderr",
     "output_type": "stream",
     "text": [
      "Epoch 48/150: 100%|██████████| 213/213 [00:24<00:00,  8.58batch/s, mae_loss=0.048] \n"
     ]
    },
    {
     "name": "stdout",
     "output_type": "stream",
     "text": [
      "Epoch [48/150], Training MAE: 0.2826, Training RMSE: 0.4198\n",
      "Epoch [48/150], Validation MAE: 0.2083, Validation RMSE: 0.3392\n"
     ]
    },
    {
     "name": "stderr",
     "output_type": "stream",
     "text": [
      "Epoch 49/150: 100%|██████████| 213/213 [00:25<00:00,  8.28batch/s, mae_loss=0.0493]\n"
     ]
    },
    {
     "name": "stdout",
     "output_type": "stream",
     "text": [
      "Epoch [49/150], Training MAE: 0.2814, Training RMSE: 0.4179\n",
      "Epoch [49/150], Validation MAE: 0.2080, Validation RMSE: 0.3388\n"
     ]
    },
    {
     "name": "stderr",
     "output_type": "stream",
     "text": [
      "Epoch 50/150: 100%|██████████| 213/213 [00:24<00:00,  8.69batch/s, mae_loss=0.0477]\n"
     ]
    },
    {
     "name": "stdout",
     "output_type": "stream",
     "text": [
      "Epoch [50/150], Training MAE: 0.2806, Training RMSE: 0.4175\n",
      "Epoch [50/150], Validation MAE: 0.2077, Validation RMSE: 0.3383\n"
     ]
    },
    {
     "name": "stderr",
     "output_type": "stream",
     "text": [
      "Epoch 51/150: 100%|██████████| 213/213 [00:24<00:00,  8.62batch/s, mae_loss=0.0465]\n"
     ]
    },
    {
     "name": "stdout",
     "output_type": "stream",
     "text": [
      "Epoch [51/150], Training MAE: 0.2798, Training RMSE: 0.4170\n",
      "Epoch [51/150], Validation MAE: 0.2070, Validation RMSE: 0.3375\n"
     ]
    },
    {
     "name": "stderr",
     "output_type": "stream",
     "text": [
      "Epoch 52/150: 100%|██████████| 213/213 [00:24<00:00,  8.58batch/s, mae_loss=0.0478]\n"
     ]
    },
    {
     "name": "stdout",
     "output_type": "stream",
     "text": [
      "Epoch [52/150], Training MAE: 0.2788, Training RMSE: 0.4157\n",
      "Epoch [52/150], Validation MAE: 0.2066, Validation RMSE: 0.3370\n"
     ]
    },
    {
     "name": "stderr",
     "output_type": "stream",
     "text": [
      "Epoch 53/150: 100%|██████████| 213/213 [00:24<00:00,  8.77batch/s, mae_loss=0.047] \n"
     ]
    },
    {
     "name": "stdout",
     "output_type": "stream",
     "text": [
      "Epoch [53/150], Training MAE: 0.2779, Training RMSE: 0.4147\n",
      "Epoch [53/150], Validation MAE: 0.2067, Validation RMSE: 0.3366\n"
     ]
    },
    {
     "name": "stderr",
     "output_type": "stream",
     "text": [
      "Epoch 54/150: 100%|██████████| 213/213 [00:23<00:00,  8.99batch/s, mae_loss=0.045] \n"
     ]
    },
    {
     "name": "stdout",
     "output_type": "stream",
     "text": [
      "Epoch [54/150], Training MAE: 0.2772, Training RMSE: 0.4139\n",
      "Epoch [54/150], Validation MAE: 0.2060, Validation RMSE: 0.3364\n"
     ]
    },
    {
     "name": "stderr",
     "output_type": "stream",
     "text": [
      "Epoch 55/150: 100%|██████████| 213/213 [00:24<00:00,  8.53batch/s, mae_loss=0.0462]\n"
     ]
    },
    {
     "name": "stdout",
     "output_type": "stream",
     "text": [
      "Epoch [55/150], Training MAE: 0.2762, Training RMSE: 0.4130\n",
      "Epoch [55/150], Validation MAE: 0.2060, Validation RMSE: 0.3359\n"
     ]
    },
    {
     "name": "stderr",
     "output_type": "stream",
     "text": [
      "Epoch 56/150: 100%|██████████| 213/213 [00:24<00:00,  8.81batch/s, mae_loss=0.0448]\n"
     ]
    },
    {
     "name": "stdout",
     "output_type": "stream",
     "text": [
      "Epoch [56/150], Training MAE: 0.2762, Training RMSE: 0.4132\n",
      "Epoch [56/150], Validation MAE: 0.2052, Validation RMSE: 0.3354\n"
     ]
    },
    {
     "name": "stderr",
     "output_type": "stream",
     "text": [
      "Epoch 57/150: 100%|██████████| 213/213 [00:24<00:00,  8.62batch/s, mae_loss=0.0473]\n"
     ]
    },
    {
     "name": "stdout",
     "output_type": "stream",
     "text": [
      "Epoch [57/150], Training MAE: 0.2754, Training RMSE: 0.4120\n",
      "Epoch [57/150], Validation MAE: 0.2049, Validation RMSE: 0.3351\n"
     ]
    },
    {
     "name": "stderr",
     "output_type": "stream",
     "text": [
      "Epoch 58/150: 100%|██████████| 213/213 [00:23<00:00,  8.94batch/s, mae_loss=0.047] \n"
     ]
    },
    {
     "name": "stdout",
     "output_type": "stream",
     "text": [
      "Epoch [58/150], Training MAE: 0.2746, Training RMSE: 0.4110\n",
      "Epoch [58/150], Validation MAE: 0.2044, Validation RMSE: 0.3349\n"
     ]
    },
    {
     "name": "stderr",
     "output_type": "stream",
     "text": [
      "Epoch 59/150: 100%|██████████| 213/213 [00:24<00:00,  8.85batch/s, mae_loss=0.0445]\n"
     ]
    },
    {
     "name": "stdout",
     "output_type": "stream",
     "text": [
      "Epoch [59/150], Training MAE: 0.2742, Training RMSE: 0.4104\n",
      "Epoch [59/150], Validation MAE: 0.2047, Validation RMSE: 0.3346\n"
     ]
    },
    {
     "name": "stderr",
     "output_type": "stream",
     "text": [
      "Epoch 60/150: 100%|██████████| 213/213 [00:24<00:00,  8.65batch/s, mae_loss=0.0431]\n"
     ]
    },
    {
     "name": "stdout",
     "output_type": "stream",
     "text": [
      "Epoch [60/150], Training MAE: 0.2731, Training RMSE: 0.4095\n",
      "Epoch [60/150], Validation MAE: 0.2038, Validation RMSE: 0.3340\n"
     ]
    },
    {
     "name": "stderr",
     "output_type": "stream",
     "text": [
      "Epoch 61/150: 100%|██████████| 213/213 [00:23<00:00,  8.94batch/s, mae_loss=0.046] \n"
     ]
    },
    {
     "name": "stdout",
     "output_type": "stream",
     "text": [
      "Epoch [61/150], Training MAE: 0.2723, Training RMSE: 0.4088\n",
      "Epoch [61/150], Validation MAE: 0.2040, Validation RMSE: 0.3340\n"
     ]
    },
    {
     "name": "stderr",
     "output_type": "stream",
     "text": [
      "Epoch 62/150: 100%|██████████| 213/213 [00:24<00:00,  8.70batch/s, mae_loss=0.0455]\n"
     ]
    },
    {
     "name": "stdout",
     "output_type": "stream",
     "text": [
      "Epoch [62/150], Training MAE: 0.2720, Training RMSE: 0.4090\n",
      "Epoch [62/150], Validation MAE: 0.2032, Validation RMSE: 0.3337\n"
     ]
    },
    {
     "name": "stderr",
     "output_type": "stream",
     "text": [
      "Epoch 63/150: 100%|██████████| 213/213 [00:23<00:00,  8.90batch/s, mae_loss=0.0448]\n"
     ]
    },
    {
     "name": "stdout",
     "output_type": "stream",
     "text": [
      "Epoch [63/150], Training MAE: 0.2713, Training RMSE: 0.4076\n",
      "Epoch [63/150], Validation MAE: 0.2034, Validation RMSE: 0.3335\n"
     ]
    },
    {
     "name": "stderr",
     "output_type": "stream",
     "text": [
      "Epoch 64/150: 100%|██████████| 213/213 [00:24<00:00,  8.67batch/s, mae_loss=0.0471]\n"
     ]
    },
    {
     "name": "stdout",
     "output_type": "stream",
     "text": [
      "Epoch [64/150], Training MAE: 0.2712, Training RMSE: 0.4070\n",
      "Epoch [64/150], Validation MAE: 0.2028, Validation RMSE: 0.3332\n"
     ]
    },
    {
     "name": "stderr",
     "output_type": "stream",
     "text": [
      "Epoch 65/150: 100%|██████████| 213/213 [00:24<00:00,  8.75batch/s, mae_loss=0.0458]\n"
     ]
    },
    {
     "name": "stdout",
     "output_type": "stream",
     "text": [
      "Epoch [65/150], Training MAE: 0.2704, Training RMSE: 0.4062\n",
      "Epoch [65/150], Validation MAE: 0.2031, Validation RMSE: 0.3331\n"
     ]
    },
    {
     "name": "stderr",
     "output_type": "stream",
     "text": [
      "Epoch 66/150: 100%|██████████| 213/213 [00:24<00:00,  8.74batch/s, mae_loss=0.0428]\n"
     ]
    },
    {
     "name": "stdout",
     "output_type": "stream",
     "text": [
      "Epoch [66/150], Training MAE: 0.2696, Training RMSE: 0.4059\n",
      "Epoch [66/150], Validation MAE: 0.2029, Validation RMSE: 0.3326\n"
     ]
    },
    {
     "name": "stderr",
     "output_type": "stream",
     "text": [
      "Epoch 67/150: 100%|██████████| 213/213 [00:24<00:00,  8.77batch/s, mae_loss=0.0465]\n"
     ]
    },
    {
     "name": "stdout",
     "output_type": "stream",
     "text": [
      "Epoch [67/150], Training MAE: 0.2694, Training RMSE: 0.4052\n",
      "Epoch [67/150], Validation MAE: 0.2021, Validation RMSE: 0.3321\n"
     ]
    },
    {
     "name": "stderr",
     "output_type": "stream",
     "text": [
      "Epoch 68/150: 100%|██████████| 213/213 [00:23<00:00,  9.04batch/s, mae_loss=0.044] \n"
     ]
    },
    {
     "name": "stdout",
     "output_type": "stream",
     "text": [
      "Epoch [68/150], Training MAE: 0.2694, Training RMSE: 0.4058\n",
      "Epoch [68/150], Validation MAE: 0.2021, Validation RMSE: 0.3322\n"
     ]
    },
    {
     "name": "stderr",
     "output_type": "stream",
     "text": [
      "Epoch 69/150: 100%|██████████| 213/213 [00:24<00:00,  8.77batch/s, mae_loss=0.047] \n"
     ]
    },
    {
     "name": "stdout",
     "output_type": "stream",
     "text": [
      "Epoch [69/150], Training MAE: 0.2687, Training RMSE: 0.4045\n",
      "Epoch [69/150], Validation MAE: 0.2017, Validation RMSE: 0.3318\n"
     ]
    },
    {
     "name": "stderr",
     "output_type": "stream",
     "text": [
      "Epoch 70/150: 100%|██████████| 213/213 [00:24<00:00,  8.86batch/s, mae_loss=0.0478]\n"
     ]
    },
    {
     "name": "stdout",
     "output_type": "stream",
     "text": [
      "Epoch [70/150], Training MAE: 0.2681, Training RMSE: 0.4039\n",
      "Epoch [70/150], Validation MAE: 0.2020, Validation RMSE: 0.3317\n"
     ]
    },
    {
     "name": "stderr",
     "output_type": "stream",
     "text": [
      "Epoch 71/150: 100%|██████████| 213/213 [00:24<00:00,  8.78batch/s, mae_loss=0.0468]\n"
     ]
    },
    {
     "name": "stdout",
     "output_type": "stream",
     "text": [
      "Epoch [71/150], Training MAE: 0.2680, Training RMSE: 0.4039\n",
      "Epoch [71/150], Validation MAE: 0.2017, Validation RMSE: 0.3313\n"
     ]
    },
    {
     "name": "stderr",
     "output_type": "stream",
     "text": [
      "Epoch 72/150: 100%|██████████| 213/213 [00:24<00:00,  8.77batch/s, mae_loss=0.0431]\n"
     ]
    },
    {
     "name": "stdout",
     "output_type": "stream",
     "text": [
      "Epoch [72/150], Training MAE: 0.2673, Training RMSE: 0.4030\n",
      "Epoch [72/150], Validation MAE: 0.2010, Validation RMSE: 0.3310\n"
     ]
    },
    {
     "name": "stderr",
     "output_type": "stream",
     "text": [
      "Epoch 73/150: 100%|██████████| 213/213 [00:24<00:00,  8.82batch/s, mae_loss=0.0442]\n"
     ]
    },
    {
     "name": "stdout",
     "output_type": "stream",
     "text": [
      "Epoch [73/150], Training MAE: 0.2665, Training RMSE: 0.4024\n",
      "Epoch [73/150], Validation MAE: 0.2007, Validation RMSE: 0.3308\n"
     ]
    },
    {
     "name": "stderr",
     "output_type": "stream",
     "text": [
      "Epoch 74/150: 100%|██████████| 213/213 [00:24<00:00,  8.81batch/s, mae_loss=0.046] \n"
     ]
    },
    {
     "name": "stdout",
     "output_type": "stream",
     "text": [
      "Epoch [74/150], Training MAE: 0.2663, Training RMSE: 0.4018\n",
      "Epoch [74/150], Validation MAE: 0.2006, Validation RMSE: 0.3308\n"
     ]
    },
    {
     "name": "stderr",
     "output_type": "stream",
     "text": [
      "Epoch 75/150: 100%|██████████| 213/213 [00:23<00:00,  8.95batch/s, mae_loss=0.0473]\n"
     ]
    },
    {
     "name": "stdout",
     "output_type": "stream",
     "text": [
      "Epoch [75/150], Training MAE: 0.2658, Training RMSE: 0.4013\n",
      "Epoch [75/150], Validation MAE: 0.2001, Validation RMSE: 0.3302\n"
     ]
    },
    {
     "name": "stderr",
     "output_type": "stream",
     "text": [
      "Epoch 76/150: 100%|██████████| 213/213 [00:24<00:00,  8.76batch/s, mae_loss=0.0434]\n"
     ]
    },
    {
     "name": "stdout",
     "output_type": "stream",
     "text": [
      "Epoch [76/150], Training MAE: 0.2654, Training RMSE: 0.4012\n",
      "Epoch [76/150], Validation MAE: 0.2004, Validation RMSE: 0.3305\n"
     ]
    },
    {
     "name": "stderr",
     "output_type": "stream",
     "text": [
      "Epoch 77/150: 100%|██████████| 213/213 [00:24<00:00,  8.71batch/s, mae_loss=0.0452]\n"
     ]
    },
    {
     "name": "stdout",
     "output_type": "stream",
     "text": [
      "Epoch [77/150], Training MAE: 0.2650, Training RMSE: 0.4010\n",
      "Epoch [77/150], Validation MAE: 0.2002, Validation RMSE: 0.3301\n"
     ]
    },
    {
     "name": "stderr",
     "output_type": "stream",
     "text": [
      "Epoch 78/150: 100%|██████████| 213/213 [00:23<00:00,  9.03batch/s, mae_loss=0.0467]\n"
     ]
    },
    {
     "name": "stdout",
     "output_type": "stream",
     "text": [
      "Epoch [78/150], Training MAE: 0.2649, Training RMSE: 0.4007\n",
      "Epoch [78/150], Validation MAE: 0.1995, Validation RMSE: 0.3297\n"
     ]
    },
    {
     "name": "stderr",
     "output_type": "stream",
     "text": [
      "Epoch 79/150: 100%|██████████| 213/213 [00:24<00:00,  8.69batch/s, mae_loss=0.0472]\n"
     ]
    },
    {
     "name": "stdout",
     "output_type": "stream",
     "text": [
      "Epoch [79/150], Training MAE: 0.2642, Training RMSE: 0.3999\n",
      "Epoch [79/150], Validation MAE: 0.1996, Validation RMSE: 0.3298\n"
     ]
    },
    {
     "name": "stderr",
     "output_type": "stream",
     "text": [
      "Epoch 80/150: 100%|██████████| 213/213 [00:24<00:00,  8.82batch/s, mae_loss=0.0422]\n"
     ]
    },
    {
     "name": "stdout",
     "output_type": "stream",
     "text": [
      "Epoch [80/150], Training MAE: 0.2640, Training RMSE: 0.3993\n",
      "Epoch [80/150], Validation MAE: 0.1997, Validation RMSE: 0.3299\n"
     ]
    },
    {
     "name": "stderr",
     "output_type": "stream",
     "text": [
      "Epoch 81/150: 100%|██████████| 213/213 [00:24<00:00,  8.68batch/s, mae_loss=0.0428]\n"
     ]
    },
    {
     "name": "stdout",
     "output_type": "stream",
     "text": [
      "Epoch [81/150], Training MAE: 0.2632, Training RMSE: 0.3988\n",
      "Epoch [81/150], Validation MAE: 0.1992, Validation RMSE: 0.3297\n"
     ]
    },
    {
     "name": "stderr",
     "output_type": "stream",
     "text": [
      "Epoch 82/150: 100%|██████████| 213/213 [00:24<00:00,  8.69batch/s, mae_loss=0.0442]\n"
     ]
    },
    {
     "name": "stdout",
     "output_type": "stream",
     "text": [
      "Epoch [82/150], Training MAE: 0.2632, Training RMSE: 0.3986\n",
      "Epoch [82/150], Validation MAE: 0.1991, Validation RMSE: 0.3293\n"
     ]
    },
    {
     "name": "stderr",
     "output_type": "stream",
     "text": [
      "Epoch 83/150: 100%|██████████| 213/213 [00:23<00:00,  8.93batch/s, mae_loss=0.0432]\n"
     ]
    },
    {
     "name": "stdout",
     "output_type": "stream",
     "text": [
      "Epoch [83/150], Training MAE: 0.2627, Training RMSE: 0.3980\n",
      "Epoch [83/150], Validation MAE: 0.1994, Validation RMSE: 0.3296\n"
     ]
    },
    {
     "name": "stderr",
     "output_type": "stream",
     "text": [
      "Epoch 84/150: 100%|██████████| 213/213 [00:24<00:00,  8.57batch/s, mae_loss=0.044] \n"
     ]
    },
    {
     "name": "stdout",
     "output_type": "stream",
     "text": [
      "Epoch [84/150], Training MAE: 0.2619, Training RMSE: 0.3973\n",
      "Epoch [84/150], Validation MAE: 0.1992, Validation RMSE: 0.3293\n"
     ]
    },
    {
     "name": "stderr",
     "output_type": "stream",
     "text": [
      "Epoch 85/150: 100%|██████████| 213/213 [00:23<00:00,  8.99batch/s, mae_loss=0.0445]\n"
     ]
    },
    {
     "name": "stdout",
     "output_type": "stream",
     "text": [
      "Epoch [85/150], Training MAE: 0.2621, Training RMSE: 0.3975\n",
      "Epoch [85/150], Validation MAE: 0.1992, Validation RMSE: 0.3292\n"
     ]
    },
    {
     "name": "stderr",
     "output_type": "stream",
     "text": [
      "Epoch 86/150: 100%|██████████| 213/213 [00:24<00:00,  8.53batch/s, mae_loss=0.0423]\n"
     ]
    },
    {
     "name": "stdout",
     "output_type": "stream",
     "text": [
      "Epoch [86/150], Training MAE: 0.2619, Training RMSE: 0.3972\n",
      "Epoch [86/150], Validation MAE: 0.1988, Validation RMSE: 0.3290\n"
     ]
    },
    {
     "name": "stderr",
     "output_type": "stream",
     "text": [
      "Epoch 87/150: 100%|██████████| 213/213 [00:23<00:00,  8.97batch/s, mae_loss=0.0436]\n"
     ]
    },
    {
     "name": "stdout",
     "output_type": "stream",
     "text": [
      "Epoch [87/150], Training MAE: 0.2616, Training RMSE: 0.3971\n",
      "Epoch [87/150], Validation MAE: 0.1986, Validation RMSE: 0.3290\n"
     ]
    },
    {
     "name": "stderr",
     "output_type": "stream",
     "text": [
      "Epoch 88/150: 100%|██████████| 213/213 [00:24<00:00,  8.73batch/s, mae_loss=0.0442]\n"
     ]
    },
    {
     "name": "stdout",
     "output_type": "stream",
     "text": [
      "Epoch [88/150], Training MAE: 0.2612, Training RMSE: 0.3965\n",
      "Epoch [88/150], Validation MAE: 0.1985, Validation RMSE: 0.3288\n"
     ]
    },
    {
     "name": "stderr",
     "output_type": "stream",
     "text": [
      "Epoch 89/150: 100%|██████████| 213/213 [00:24<00:00,  8.84batch/s, mae_loss=0.0447]\n"
     ]
    },
    {
     "name": "stdout",
     "output_type": "stream",
     "text": [
      "Epoch [89/150], Training MAE: 0.2606, Training RMSE: 0.3958\n",
      "Epoch [89/150], Validation MAE: 0.1988, Validation RMSE: 0.3287\n"
     ]
    },
    {
     "name": "stderr",
     "output_type": "stream",
     "text": [
      "Epoch 90/150: 100%|██████████| 213/213 [00:23<00:00,  9.02batch/s, mae_loss=0.0416]\n"
     ]
    },
    {
     "name": "stdout",
     "output_type": "stream",
     "text": [
      "Epoch [90/150], Training MAE: 0.2609, Training RMSE: 0.3963\n",
      "Epoch [90/150], Validation MAE: 0.1984, Validation RMSE: 0.3285\n"
     ]
    },
    {
     "name": "stderr",
     "output_type": "stream",
     "text": [
      "Epoch 91/150: 100%|██████████| 213/213 [00:26<00:00,  8.14batch/s, mae_loss=0.0418]\n"
     ]
    },
    {
     "name": "stdout",
     "output_type": "stream",
     "text": [
      "Epoch [91/150], Training MAE: 0.2604, Training RMSE: 0.3957\n",
      "Epoch [91/150], Validation MAE: 0.1982, Validation RMSE: 0.3285\n"
     ]
    },
    {
     "name": "stderr",
     "output_type": "stream",
     "text": [
      "Epoch 92/150: 100%|██████████| 213/213 [00:23<00:00,  8.92batch/s, mae_loss=0.0439]\n"
     ]
    },
    {
     "name": "stdout",
     "output_type": "stream",
     "text": [
      "Epoch [92/150], Training MAE: 0.2602, Training RMSE: 0.3953\n",
      "Epoch [92/150], Validation MAE: 0.1978, Validation RMSE: 0.3280\n"
     ]
    },
    {
     "name": "stderr",
     "output_type": "stream",
     "text": [
      "Epoch 93/150: 100%|██████████| 213/213 [00:25<00:00,  8.46batch/s, mae_loss=0.0417]\n"
     ]
    },
    {
     "name": "stdout",
     "output_type": "stream",
     "text": [
      "Epoch [93/150], Training MAE: 0.2596, Training RMSE: 0.3945\n",
      "Epoch [93/150], Validation MAE: 0.1980, Validation RMSE: 0.3282\n"
     ]
    },
    {
     "name": "stderr",
     "output_type": "stream",
     "text": [
      "Epoch 94/150: 100%|██████████| 213/213 [00:23<00:00,  9.05batch/s, mae_loss=0.0427]\n"
     ]
    },
    {
     "name": "stdout",
     "output_type": "stream",
     "text": [
      "Epoch [94/150], Training MAE: 0.2594, Training RMSE: 0.3950\n",
      "Epoch [94/150], Validation MAE: 0.1977, Validation RMSE: 0.3280\n"
     ]
    },
    {
     "name": "stderr",
     "output_type": "stream",
     "text": [
      "Epoch 95/150: 100%|██████████| 213/213 [00:24<00:00,  8.65batch/s, mae_loss=0.0433]\n"
     ]
    },
    {
     "name": "stdout",
     "output_type": "stream",
     "text": [
      "Epoch [95/150], Training MAE: 0.2591, Training RMSE: 0.3940\n",
      "Epoch [95/150], Validation MAE: 0.1980, Validation RMSE: 0.3282\n"
     ]
    },
    {
     "name": "stderr",
     "output_type": "stream",
     "text": [
      "Epoch 96/150: 100%|██████████| 213/213 [00:24<00:00,  8.78batch/s, mae_loss=0.0413]\n"
     ]
    },
    {
     "name": "stdout",
     "output_type": "stream",
     "text": [
      "Epoch [96/150], Training MAE: 0.2592, Training RMSE: 0.3945\n",
      "Epoch [96/150], Validation MAE: 0.1977, Validation RMSE: 0.3277\n"
     ]
    },
    {
     "name": "stderr",
     "output_type": "stream",
     "text": [
      "Epoch 97/150: 100%|██████████| 213/213 [00:23<00:00,  8.93batch/s, mae_loss=0.0401]\n"
     ]
    },
    {
     "name": "stdout",
     "output_type": "stream",
     "text": [
      "Epoch [97/150], Training MAE: 0.2585, Training RMSE: 0.3934\n",
      "Epoch [97/150], Validation MAE: 0.1976, Validation RMSE: 0.3277\n"
     ]
    },
    {
     "name": "stderr",
     "output_type": "stream",
     "text": [
      "Epoch 98/150: 100%|██████████| 213/213 [00:24<00:00,  8.67batch/s, mae_loss=0.0442]\n"
     ]
    },
    {
     "name": "stdout",
     "output_type": "stream",
     "text": [
      "Epoch [98/150], Training MAE: 0.2588, Training RMSE: 0.3940\n",
      "Epoch [98/150], Validation MAE: 0.1976, Validation RMSE: 0.3279\n"
     ]
    },
    {
     "name": "stderr",
     "output_type": "stream",
     "text": [
      "Epoch 99/150: 100%|██████████| 213/213 [00:24<00:00,  8.76batch/s, mae_loss=0.0415]\n"
     ]
    },
    {
     "name": "stdout",
     "output_type": "stream",
     "text": [
      "Epoch [99/150], Training MAE: 0.2583, Training RMSE: 0.3935\n",
      "Epoch [99/150], Validation MAE: 0.1973, Validation RMSE: 0.3274\n"
     ]
    },
    {
     "name": "stderr",
     "output_type": "stream",
     "text": [
      "Epoch 100/150: 100%|██████████| 213/213 [00:23<00:00,  8.95batch/s, mae_loss=0.0406]\n"
     ]
    },
    {
     "name": "stdout",
     "output_type": "stream",
     "text": [
      "Epoch [100/150], Training MAE: 0.2581, Training RMSE: 0.3933\n",
      "Epoch [100/150], Validation MAE: 0.1973, Validation RMSE: 0.3276\n"
     ]
    },
    {
     "name": "stderr",
     "output_type": "stream",
     "text": [
      "Epoch 101/150: 100%|██████████| 213/213 [00:24<00:00,  8.78batch/s, mae_loss=0.0416]\n"
     ]
    },
    {
     "name": "stdout",
     "output_type": "stream",
     "text": [
      "Epoch [101/150], Training MAE: 0.2579, Training RMSE: 0.3932\n",
      "Epoch [101/150], Validation MAE: 0.1974, Validation RMSE: 0.3276\n"
     ]
    },
    {
     "name": "stderr",
     "output_type": "stream",
     "text": [
      "Epoch 102/150: 100%|██████████| 213/213 [00:24<00:00,  8.65batch/s, mae_loss=0.0419]\n"
     ]
    },
    {
     "name": "stdout",
     "output_type": "stream",
     "text": [
      "Epoch [102/150], Training MAE: 0.2574, Training RMSE: 0.3923\n",
      "Epoch [102/150], Validation MAE: 0.1974, Validation RMSE: 0.3273\n"
     ]
    },
    {
     "name": "stderr",
     "output_type": "stream",
     "text": [
      "Epoch 103/150: 100%|██████████| 213/213 [00:24<00:00,  8.63batch/s, mae_loss=0.0391]\n"
     ]
    },
    {
     "name": "stdout",
     "output_type": "stream",
     "text": [
      "Epoch [103/150], Training MAE: 0.2570, Training RMSE: 0.3925\n",
      "Epoch [103/150], Validation MAE: 0.1969, Validation RMSE: 0.3272\n"
     ]
    },
    {
     "name": "stderr",
     "output_type": "stream",
     "text": [
      "Epoch 104/150: 100%|██████████| 213/213 [00:24<00:00,  8.78batch/s, mae_loss=0.0396]\n"
     ]
    },
    {
     "name": "stdout",
     "output_type": "stream",
     "text": [
      "Epoch [104/150], Training MAE: 0.2568, Training RMSE: 0.3915\n",
      "Epoch [104/150], Validation MAE: 0.1970, Validation RMSE: 0.3269\n"
     ]
    },
    {
     "name": "stderr",
     "output_type": "stream",
     "text": [
      "Epoch 105/150: 100%|██████████| 213/213 [00:24<00:00,  8.80batch/s, mae_loss=0.0409]\n"
     ]
    },
    {
     "name": "stdout",
     "output_type": "stream",
     "text": [
      "Epoch [105/150], Training MAE: 0.2567, Training RMSE: 0.3914\n",
      "Epoch [105/150], Validation MAE: 0.1968, Validation RMSE: 0.3267\n"
     ]
    },
    {
     "name": "stderr",
     "output_type": "stream",
     "text": [
      "Epoch 106/150: 100%|██████████| 213/213 [00:24<00:00,  8.71batch/s, mae_loss=0.0402]\n"
     ]
    },
    {
     "name": "stdout",
     "output_type": "stream",
     "text": [
      "Epoch [106/150], Training MAE: 0.2568, Training RMSE: 0.3920\n",
      "Epoch [106/150], Validation MAE: 0.1968, Validation RMSE: 0.3269\n"
     ]
    },
    {
     "name": "stderr",
     "output_type": "stream",
     "text": [
      "Epoch 107/150: 100%|██████████| 213/213 [00:24<00:00,  8.85batch/s, mae_loss=0.0417]\n"
     ]
    },
    {
     "name": "stdout",
     "output_type": "stream",
     "text": [
      "Epoch [107/150], Training MAE: 0.2562, Training RMSE: 0.3913\n",
      "Epoch [107/150], Validation MAE: 0.1968, Validation RMSE: 0.3269\n"
     ]
    },
    {
     "name": "stderr",
     "output_type": "stream",
     "text": [
      "Epoch 108/150: 100%|██████████| 213/213 [00:24<00:00,  8.59batch/s, mae_loss=0.0431]\n"
     ]
    },
    {
     "name": "stdout",
     "output_type": "stream",
     "text": [
      "Epoch [108/150], Training MAE: 0.2558, Training RMSE: 0.3907\n",
      "Epoch [108/150], Validation MAE: 0.1967, Validation RMSE: 0.3267\n"
     ]
    },
    {
     "name": "stderr",
     "output_type": "stream",
     "text": [
      "Epoch 109/150: 100%|██████████| 213/213 [00:23<00:00,  9.01batch/s, mae_loss=0.0411]\n"
     ]
    },
    {
     "name": "stdout",
     "output_type": "stream",
     "text": [
      "Epoch [109/150], Training MAE: 0.2558, Training RMSE: 0.3906\n",
      "Epoch [109/150], Validation MAE: 0.1966, Validation RMSE: 0.3265\n"
     ]
    },
    {
     "name": "stderr",
     "output_type": "stream",
     "text": [
      "Epoch 110/150: 100%|██████████| 213/213 [00:24<00:00,  8.69batch/s, mae_loss=0.0428]\n"
     ]
    },
    {
     "name": "stdout",
     "output_type": "stream",
     "text": [
      "Epoch [110/150], Training MAE: 0.2558, Training RMSE: 0.3908\n",
      "Epoch [110/150], Validation MAE: 0.1966, Validation RMSE: 0.3265\n"
     ]
    },
    {
     "name": "stderr",
     "output_type": "stream",
     "text": [
      "Epoch 111/150: 100%|██████████| 213/213 [00:23<00:00,  9.07batch/s, mae_loss=0.0389]\n"
     ]
    },
    {
     "name": "stdout",
     "output_type": "stream",
     "text": [
      "Epoch [111/150], Training MAE: 0.2554, Training RMSE: 0.3904\n",
      "Epoch [111/150], Validation MAE: 0.1969, Validation RMSE: 0.3267\n"
     ]
    },
    {
     "name": "stderr",
     "output_type": "stream",
     "text": [
      "Epoch 112/150: 100%|██████████| 213/213 [00:23<00:00,  8.92batch/s, mae_loss=0.0422]\n"
     ]
    },
    {
     "name": "stdout",
     "output_type": "stream",
     "text": [
      "Epoch [112/150], Training MAE: 0.2554, Training RMSE: 0.3902\n",
      "Epoch [112/150], Validation MAE: 0.1967, Validation RMSE: 0.3265\n"
     ]
    },
    {
     "name": "stderr",
     "output_type": "stream",
     "text": [
      "Epoch 113/150: 100%|██████████| 213/213 [00:24<00:00,  8.60batch/s, mae_loss=0.0411]\n"
     ]
    },
    {
     "name": "stdout",
     "output_type": "stream",
     "text": [
      "Epoch [113/150], Training MAE: 0.2551, Training RMSE: 0.3901\n",
      "Epoch [113/150], Validation MAE: 0.1968, Validation RMSE: 0.3266\n"
     ]
    },
    {
     "name": "stderr",
     "output_type": "stream",
     "text": [
      "Epoch 114/150: 100%|██████████| 213/213 [00:24<00:00,  8.83batch/s, mae_loss=0.041] \n"
     ]
    },
    {
     "name": "stdout",
     "output_type": "stream",
     "text": [
      "Epoch [114/150], Training MAE: 0.2547, Training RMSE: 0.3898\n",
      "Epoch [114/150], Validation MAE: 0.1962, Validation RMSE: 0.3264\n"
     ]
    },
    {
     "name": "stderr",
     "output_type": "stream",
     "text": [
      "Epoch 115/150: 100%|██████████| 213/213 [00:24<00:00,  8.64batch/s, mae_loss=0.0402]\n"
     ]
    },
    {
     "name": "stdout",
     "output_type": "stream",
     "text": [
      "Epoch [115/150], Training MAE: 0.2545, Training RMSE: 0.3895\n",
      "Epoch [115/150], Validation MAE: 0.1962, Validation RMSE: 0.3263\n"
     ]
    },
    {
     "name": "stderr",
     "output_type": "stream",
     "text": [
      "Epoch 116/150: 100%|██████████| 213/213 [00:23<00:00,  8.99batch/s, mae_loss=0.0417]\n"
     ]
    },
    {
     "name": "stdout",
     "output_type": "stream",
     "text": [
      "Epoch [116/150], Training MAE: 0.2543, Training RMSE: 0.3893\n",
      "Epoch [116/150], Validation MAE: 0.1957, Validation RMSE: 0.3260\n"
     ]
    },
    {
     "name": "stderr",
     "output_type": "stream",
     "text": [
      "Epoch 117/150: 100%|██████████| 213/213 [00:24<00:00,  8.68batch/s, mae_loss=0.0411]\n"
     ]
    },
    {
     "name": "stdout",
     "output_type": "stream",
     "text": [
      "Epoch [117/150], Training MAE: 0.2540, Training RMSE: 0.3889\n",
      "Epoch [117/150], Validation MAE: 0.1960, Validation RMSE: 0.3260\n"
     ]
    },
    {
     "name": "stderr",
     "output_type": "stream",
     "text": [
      "Epoch 118/150: 100%|██████████| 213/213 [00:23<00:00,  8.89batch/s, mae_loss=0.0387]\n"
     ]
    },
    {
     "name": "stdout",
     "output_type": "stream",
     "text": [
      "Epoch [118/150], Training MAE: 0.2541, Training RMSE: 0.3891\n",
      "Epoch [118/150], Validation MAE: 0.1958, Validation RMSE: 0.3258\n"
     ]
    },
    {
     "name": "stderr",
     "output_type": "stream",
     "text": [
      "Epoch 119/150: 100%|██████████| 213/213 [00:23<00:00,  8.91batch/s, mae_loss=0.0383]\n"
     ]
    },
    {
     "name": "stdout",
     "output_type": "stream",
     "text": [
      "Epoch [119/150], Training MAE: 0.2538, Training RMSE: 0.3886\n",
      "Epoch [119/150], Validation MAE: 0.1961, Validation RMSE: 0.3258\n"
     ]
    },
    {
     "name": "stderr",
     "output_type": "stream",
     "text": [
      "Epoch 120/150: 100%|██████████| 213/213 [00:23<00:00,  8.90batch/s, mae_loss=0.0393]\n"
     ]
    },
    {
     "name": "stdout",
     "output_type": "stream",
     "text": [
      "Epoch [120/150], Training MAE: 0.2536, Training RMSE: 0.3881\n",
      "Epoch [120/150], Validation MAE: 0.1959, Validation RMSE: 0.3259\n"
     ]
    },
    {
     "name": "stderr",
     "output_type": "stream",
     "text": [
      "Epoch 121/150: 100%|██████████| 213/213 [00:24<00:00,  8.64batch/s, mae_loss=0.0393]\n"
     ]
    },
    {
     "name": "stdout",
     "output_type": "stream",
     "text": [
      "Epoch [121/150], Training MAE: 0.2531, Training RMSE: 0.3880\n",
      "Epoch [121/150], Validation MAE: 0.1957, Validation RMSE: 0.3257\n"
     ]
    },
    {
     "name": "stderr",
     "output_type": "stream",
     "text": [
      "Epoch 122/150: 100%|██████████| 213/213 [00:24<00:00,  8.74batch/s, mae_loss=0.0383]\n"
     ]
    },
    {
     "name": "stdout",
     "output_type": "stream",
     "text": [
      "Epoch [122/150], Training MAE: 0.2528, Training RMSE: 0.3873\n",
      "Epoch [122/150], Validation MAE: 0.1958, Validation RMSE: 0.3257\n"
     ]
    },
    {
     "name": "stderr",
     "output_type": "stream",
     "text": [
      "Epoch 123/150: 100%|██████████| 213/213 [00:23<00:00,  8.93batch/s, mae_loss=0.0389]\n"
     ]
    },
    {
     "name": "stdout",
     "output_type": "stream",
     "text": [
      "Epoch [123/150], Training MAE: 0.2530, Training RMSE: 0.3879\n",
      "Epoch [123/150], Validation MAE: 0.1959, Validation RMSE: 0.3257\n"
     ]
    },
    {
     "name": "stderr",
     "output_type": "stream",
     "text": [
      "Epoch 124/150: 100%|██████████| 213/213 [00:24<00:00,  8.71batch/s, mae_loss=0.0384]\n"
     ]
    },
    {
     "name": "stdout",
     "output_type": "stream",
     "text": [
      "Epoch [124/150], Training MAE: 0.2525, Training RMSE: 0.3873\n",
      "Epoch [124/150], Validation MAE: 0.1956, Validation RMSE: 0.3255\n"
     ]
    },
    {
     "name": "stderr",
     "output_type": "stream",
     "text": [
      "Epoch 125/150: 100%|██████████| 213/213 [00:24<00:00,  8.86batch/s, mae_loss=0.0399]\n"
     ]
    },
    {
     "name": "stdout",
     "output_type": "stream",
     "text": [
      "Epoch [125/150], Training MAE: 0.2523, Training RMSE: 0.3867\n",
      "Epoch [125/150], Validation MAE: 0.1958, Validation RMSE: 0.3259\n"
     ]
    },
    {
     "name": "stderr",
     "output_type": "stream",
     "text": [
      "Epoch 126/150: 100%|██████████| 213/213 [00:24<00:00,  8.74batch/s, mae_loss=0.0388]\n"
     ]
    },
    {
     "name": "stdout",
     "output_type": "stream",
     "text": [
      "Epoch [126/150], Training MAE: 0.2519, Training RMSE: 0.3865\n",
      "Epoch [126/150], Validation MAE: 0.1956, Validation RMSE: 0.3255\n"
     ]
    },
    {
     "name": "stderr",
     "output_type": "stream",
     "text": [
      "Epoch 127/150: 100%|██████████| 213/213 [00:24<00:00,  8.82batch/s, mae_loss=0.0394]\n"
     ]
    },
    {
     "name": "stdout",
     "output_type": "stream",
     "text": [
      "Epoch [127/150], Training MAE: 0.2521, Training RMSE: 0.3869\n",
      "Epoch [127/150], Validation MAE: 0.1954, Validation RMSE: 0.3255\n"
     ]
    },
    {
     "name": "stderr",
     "output_type": "stream",
     "text": [
      "Epoch 128/150: 100%|██████████| 213/213 [00:24<00:00,  8.64batch/s, mae_loss=0.0393]\n"
     ]
    },
    {
     "name": "stdout",
     "output_type": "stream",
     "text": [
      "Epoch [128/150], Training MAE: 0.2517, Training RMSE: 0.3860\n",
      "Epoch [128/150], Validation MAE: 0.1956, Validation RMSE: 0.3256\n"
     ]
    },
    {
     "name": "stderr",
     "output_type": "stream",
     "text": [
      "Epoch 129/150: 100%|██████████| 213/213 [00:23<00:00,  9.01batch/s, mae_loss=0.0389]\n"
     ]
    },
    {
     "name": "stdout",
     "output_type": "stream",
     "text": [
      "Epoch [129/150], Training MAE: 0.2519, Training RMSE: 0.3867\n",
      "Epoch [129/150], Validation MAE: 0.1958, Validation RMSE: 0.3258\n"
     ]
    },
    {
     "name": "stderr",
     "output_type": "stream",
     "text": [
      "Epoch 130/150: 100%|██████████| 213/213 [00:24<00:00,  8.62batch/s, mae_loss=0.0397]\n"
     ]
    },
    {
     "name": "stdout",
     "output_type": "stream",
     "text": [
      "Epoch [130/150], Training MAE: 0.2514, Training RMSE: 0.3863\n",
      "Epoch [130/150], Validation MAE: 0.1956, Validation RMSE: 0.3255\n"
     ]
    },
    {
     "name": "stderr",
     "output_type": "stream",
     "text": [
      "Epoch 131/150: 100%|██████████| 213/213 [00:23<00:00,  8.94batch/s, mae_loss=0.0395]\n"
     ]
    },
    {
     "name": "stdout",
     "output_type": "stream",
     "text": [
      "Epoch [131/150], Training MAE: 0.2515, Training RMSE: 0.3864\n",
      "Epoch [131/150], Validation MAE: 0.1953, Validation RMSE: 0.3253\n"
     ]
    },
    {
     "name": "stderr",
     "output_type": "stream",
     "text": [
      "Epoch 132/150: 100%|██████████| 213/213 [00:24<00:00,  8.76batch/s, mae_loss=0.0394]\n"
     ]
    },
    {
     "name": "stdout",
     "output_type": "stream",
     "text": [
      "Epoch [132/150], Training MAE: 0.2512, Training RMSE: 0.3860\n",
      "Epoch [132/150], Validation MAE: 0.1955, Validation RMSE: 0.3254\n"
     ]
    },
    {
     "name": "stderr",
     "output_type": "stream",
     "text": [
      "Epoch 133/150: 100%|██████████| 213/213 [00:24<00:00,  8.76batch/s, mae_loss=0.0375]\n"
     ]
    },
    {
     "name": "stdout",
     "output_type": "stream",
     "text": [
      "Epoch [133/150], Training MAE: 0.2510, Training RMSE: 0.3857\n",
      "Epoch [133/150], Validation MAE: 0.1951, Validation RMSE: 0.3252\n"
     ]
    },
    {
     "name": "stderr",
     "output_type": "stream",
     "text": [
      "Epoch 134/150: 100%|██████████| 213/213 [00:23<00:00,  8.92batch/s, mae_loss=0.0402]\n"
     ]
    },
    {
     "name": "stdout",
     "output_type": "stream",
     "text": [
      "Epoch [134/150], Training MAE: 0.2509, Training RMSE: 0.3856\n",
      "Epoch [134/150], Validation MAE: 0.1953, Validation RMSE: 0.3250\n"
     ]
    },
    {
     "name": "stderr",
     "output_type": "stream",
     "text": [
      "Epoch 135/150: 100%|██████████| 213/213 [00:24<00:00,  8.69batch/s, mae_loss=0.0383]\n"
     ]
    },
    {
     "name": "stdout",
     "output_type": "stream",
     "text": [
      "Epoch [135/150], Training MAE: 0.2512, Training RMSE: 0.3862\n",
      "Epoch [135/150], Validation MAE: 0.1954, Validation RMSE: 0.3250\n"
     ]
    },
    {
     "name": "stderr",
     "output_type": "stream",
     "text": [
      "Epoch 136/150: 100%|██████████| 213/213 [00:23<00:00,  8.95batch/s, mae_loss=0.0375]\n"
     ]
    },
    {
     "name": "stdout",
     "output_type": "stream",
     "text": [
      "Epoch [136/150], Training MAE: 0.2511, Training RMSE: 0.3859\n",
      "Epoch [136/150], Validation MAE: 0.1951, Validation RMSE: 0.3251\n"
     ]
    },
    {
     "name": "stderr",
     "output_type": "stream",
     "text": [
      "Epoch 137/150: 100%|██████████| 213/213 [00:24<00:00,  8.61batch/s, mae_loss=0.039] \n"
     ]
    },
    {
     "name": "stdout",
     "output_type": "stream",
     "text": [
      "Epoch [137/150], Training MAE: 0.2506, Training RMSE: 0.3849\n",
      "Epoch [137/150], Validation MAE: 0.1952, Validation RMSE: 0.3250\n"
     ]
    },
    {
     "name": "stderr",
     "output_type": "stream",
     "text": [
      "Epoch 138/150: 100%|██████████| 213/213 [00:24<00:00,  8.84batch/s, mae_loss=0.0386]\n"
     ]
    },
    {
     "name": "stdout",
     "output_type": "stream",
     "text": [
      "Epoch [138/150], Training MAE: 0.2501, Training RMSE: 0.3842\n",
      "Epoch [138/150], Validation MAE: 0.1953, Validation RMSE: 0.3252\n"
     ]
    },
    {
     "name": "stderr",
     "output_type": "stream",
     "text": [
      "Epoch 139/150: 100%|██████████| 213/213 [00:24<00:00,  8.54batch/s, mae_loss=0.0376]\n"
     ]
    },
    {
     "name": "stdout",
     "output_type": "stream",
     "text": [
      "Epoch [139/150], Training MAE: 0.2501, Training RMSE: 0.3850\n",
      "Epoch [139/150], Validation MAE: 0.1953, Validation RMSE: 0.3250\n"
     ]
    },
    {
     "name": "stderr",
     "output_type": "stream",
     "text": [
      "Epoch 140/150: 100%|██████████| 213/213 [00:23<00:00,  8.91batch/s, mae_loss=0.0373]\n"
     ]
    },
    {
     "name": "stdout",
     "output_type": "stream",
     "text": [
      "Epoch [140/150], Training MAE: 0.2500, Training RMSE: 0.3843\n",
      "Epoch [140/150], Validation MAE: 0.1953, Validation RMSE: 0.3249\n"
     ]
    },
    {
     "name": "stderr",
     "output_type": "stream",
     "text": [
      "Epoch 141/150: 100%|██████████| 213/213 [00:23<00:00,  8.99batch/s, mae_loss=0.0387]\n"
     ]
    },
    {
     "name": "stdout",
     "output_type": "stream",
     "text": [
      "Epoch [141/150], Training MAE: 0.2500, Training RMSE: 0.3845\n",
      "Epoch [141/150], Validation MAE: 0.1953, Validation RMSE: 0.3249\n"
     ]
    },
    {
     "name": "stderr",
     "output_type": "stream",
     "text": [
      "Epoch 142/150: 100%|██████████| 213/213 [00:24<00:00,  8.81batch/s, mae_loss=0.0382]\n"
     ]
    },
    {
     "name": "stdout",
     "output_type": "stream",
     "text": [
      "Epoch [142/150], Training MAE: 0.2494, Training RMSE: 0.3838\n",
      "Epoch [142/150], Validation MAE: 0.1952, Validation RMSE: 0.3252\n"
     ]
    },
    {
     "name": "stderr",
     "output_type": "stream",
     "text": [
      "Epoch 143/150: 100%|██████████| 213/213 [00:23<00:00,  8.88batch/s, mae_loss=0.0407]\n"
     ]
    },
    {
     "name": "stdout",
     "output_type": "stream",
     "text": [
      "Epoch [143/150], Training MAE: 0.2494, Training RMSE: 0.3837\n",
      "Epoch [143/150], Validation MAE: 0.1950, Validation RMSE: 0.3247\n"
     ]
    },
    {
     "name": "stderr",
     "output_type": "stream",
     "text": [
      "Epoch 144/150: 100%|██████████| 213/213 [00:24<00:00,  8.74batch/s, mae_loss=0.0378]\n"
     ]
    },
    {
     "name": "stdout",
     "output_type": "stream",
     "text": [
      "Epoch [144/150], Training MAE: 0.2492, Training RMSE: 0.3837\n",
      "Epoch [144/150], Validation MAE: 0.1950, Validation RMSE: 0.3249\n"
     ]
    },
    {
     "name": "stderr",
     "output_type": "stream",
     "text": [
      "Epoch 145/150: 100%|██████████| 213/213 [00:23<00:00,  8.88batch/s, mae_loss=0.0379]\n"
     ]
    },
    {
     "name": "stdout",
     "output_type": "stream",
     "text": [
      "Epoch [145/150], Training MAE: 0.2491, Training RMSE: 0.3835\n",
      "Epoch [145/150], Validation MAE: 0.1949, Validation RMSE: 0.3245\n"
     ]
    },
    {
     "name": "stderr",
     "output_type": "stream",
     "text": [
      "Epoch 146/150: 100%|██████████| 213/213 [00:24<00:00,  8.81batch/s, mae_loss=0.0385]\n"
     ]
    },
    {
     "name": "stdout",
     "output_type": "stream",
     "text": [
      "Epoch [146/150], Training MAE: 0.2489, Training RMSE: 0.3840\n",
      "Epoch [146/150], Validation MAE: 0.1952, Validation RMSE: 0.3249\n"
     ]
    },
    {
     "name": "stderr",
     "output_type": "stream",
     "text": [
      "Epoch 147/150: 100%|██████████| 213/213 [00:24<00:00,  8.79batch/s, mae_loss=0.0389]\n"
     ]
    },
    {
     "name": "stdout",
     "output_type": "stream",
     "text": [
      "Epoch [147/150], Training MAE: 0.2491, Training RMSE: 0.3835\n",
      "Epoch [147/150], Validation MAE: 0.1948, Validation RMSE: 0.3242\n"
     ]
    },
    {
     "name": "stderr",
     "output_type": "stream",
     "text": [
      "Epoch 148/150: 100%|██████████| 213/213 [00:24<00:00,  8.78batch/s, mae_loss=0.0391]\n"
     ]
    },
    {
     "name": "stdout",
     "output_type": "stream",
     "text": [
      "Epoch [148/150], Training MAE: 0.2485, Training RMSE: 0.3826\n",
      "Epoch [148/150], Validation MAE: 0.1948, Validation RMSE: 0.3245\n"
     ]
    },
    {
     "name": "stderr",
     "output_type": "stream",
     "text": [
      "Epoch 149/150: 100%|██████████| 213/213 [00:24<00:00,  8.74batch/s, mae_loss=0.0379]\n"
     ]
    },
    {
     "name": "stdout",
     "output_type": "stream",
     "text": [
      "Epoch [149/150], Training MAE: 0.2487, Training RMSE: 0.3831\n",
      "Epoch [149/150], Validation MAE: 0.1946, Validation RMSE: 0.3245\n"
     ]
    },
    {
     "name": "stderr",
     "output_type": "stream",
     "text": [
      "Epoch 150/150: 100%|██████████| 213/213 [00:24<00:00,  8.68batch/s, mae_loss=0.0376]\n"
     ]
    },
    {
     "name": "stdout",
     "output_type": "stream",
     "text": [
      "Epoch [150/150], Training MAE: 0.2485, Training RMSE: 0.3832\n",
      "Epoch [150/150], Validation MAE: 0.1951, Validation RMSE: 0.3246\n",
      "End Prediction Horizon of 6 of shared-layer Model\n",
      "model_shared-layer_attention_6_11 saved\n"
     ]
    }
   ],
   "source": [
    "for i in range(1, len(patients_list)):\n",
    "    train_loader, validation_loader, all_train_loader, test_loader, input_shape, input_shape_test, output_shape, output_shape_test =  prepare_data_loader(\n",
    "                                                                                    window_size,BATCH_SIZE, prediction_horizon,\n",
    "                                                                                    model_type, split_ratio = 0.7, df = None, df_test = None, output_folder_train=output_folder_train, shuffle = False, patient_no = i+1)\n",
    "    model_all_train = SharedLayerModelWithAttention(input_shape=input_shape , output_shape=output_shape) \n",
    "    model_all_train = model_all_train.to(device)\n",
    "    model_all_train, history2 = train_model(model_all_train, all_train_loader, val_loader = test_loader, epochs=150, learning_rate=0.00001, model_type = model_type)\n",
    "\n",
    "    logger.info(f\"End Prediction Horizon of {prediction_horizon} of {model_type} Model\")\n",
    "    print(f\"End Prediction Horizon of {prediction_horizon} of {model_type} Model\")\n",
    "    torch.save(model_all_train.state_dict(), f'saved_models//model_{model_type}_attention_{str(prediction_horizon)}_only_{str(i+1)}_patients.pth')\n",
    "    print(f\"model_{model_type}_attention_{str(prediction_horizon)}_only_{str(i)}_patients. saved\")\n",
    "    logger.info(f\"model_{model_type}_attention_{str(prediction_horizon)}_only_{str(i)}_patients. saved\")"
   ]
  },
  {
   "cell_type": "code",
   "execution_count": null,
   "metadata": {},
   "outputs": [],
   "source": [
    "for i in range(1, len(patients_list)):\n",
    "    train_loader, validation_loader, all_train_loader, test_loader, input_shape, input_shape_test, output_shape, output_shape_test =  prepare_data_loader(\n",
    "                                                                                    window_size,BATCH_SIZE, prediction_horizon,\n",
    "                                                                                    model_type, split_ratio = 0.7, df = None, df_test = None, output_folder_train=output_folder_train, shuffle = False, patient_no = i+1)\n",
    "    model_all_train = SharedLayerModelWithAttention(input_shape=input_shape , output_shape=output_shape) \n",
    "    model_all_train = model_all_train.to(device)\n",
    "    model_all_train, history2 = train_model(model_all_train, all_train_loader, val_loader = test_loader, epochs=150, learning_rate=0.00001, model_type = model_type)\n",
    "\n",
    "    logger.info(f\"End Prediction Horizon of {prediction_horizon} of {model_type} Model\")\n",
    "    print(f\"End Prediction Horizon of {prediction_horizon} of {model_type} Model\")\n",
    "    torch.save(model_all_train.state_dict(), f'saved_models//model_{model_type}_attention_{str(prediction_horizon)}_only_{str(i+1)}_patients.pth')\n",
    "    print(f\"model_{model_type}_attention_{str(prediction_horizon)}_only_{str(i)}_patients. saved\")\n",
    "    logger.info(f\"model_{model_type}_attention_{str(prediction_horizon)}_only_{str(i)}_patients. saved\")"
   ]
  },
  {
   "cell_type": "code",
   "execution_count": 24,
   "metadata": {},
   "outputs": [
    {
     "name": "stdout",
     "output_type": "stream",
     "text": [
      "Shape of X (features): (2, 13081, 12)\n",
      "Shape of y (targets): (2, 13081)\n",
      "Shape of X_test (features): (2, 2859, 12)\n",
      "Shape of y_test (targets): (2, 2859)\n"
     ]
    },
    {
     "name": "stderr",
     "output_type": "stream",
     "text": [
      "d:\\NISC\\Glucose biomedical\\shared layer project\\biomedical-env\\Lib\\site-packages\\numpy\\core\\fromnumeric.py:3504: RuntimeWarning: Mean of empty slice.\n",
      "  return _methods._mean(a, axis=axis, dtype=dtype,\n",
      "d:\\NISC\\Glucose biomedical\\shared layer project\\biomedical-env\\Lib\\site-packages\\numpy\\core\\_methods.py:129: RuntimeWarning: invalid value encountered in scalar divide\n",
      "  ret = ret.dtype.type(ret / rcount)\n"
     ]
    },
    {
     "name": "stdout",
     "output_type": "stream",
     "text": [
      "Shape of X (features): (3, 13081, 12)\n",
      "Shape of y (targets): (3, 13081)\n",
      "Shape of X_test (features): (3, 2863, 12)\n",
      "Shape of y_test (targets): (3, 2863)\n"
     ]
    },
    {
     "name": "stderr",
     "output_type": "stream",
     "text": [
      "d:\\NISC\\Glucose biomedical\\shared layer project\\biomedical-env\\Lib\\site-packages\\numpy\\core\\fromnumeric.py:3504: RuntimeWarning: Mean of empty slice.\n",
      "  return _methods._mean(a, axis=axis, dtype=dtype,\n",
      "d:\\NISC\\Glucose biomedical\\shared layer project\\biomedical-env\\Lib\\site-packages\\numpy\\core\\_methods.py:129: RuntimeWarning: invalid value encountered in scalar divide\n",
      "  ret = ret.dtype.type(ret / rcount)\n"
     ]
    },
    {
     "name": "stdout",
     "output_type": "stream",
     "text": [
      "Shape of X (features): (4, 13087, 12)\n",
      "Shape of y (targets): (4, 13087)\n",
      "Shape of X_test (features): (4, 2863, 12)\n",
      "Shape of y_test (targets): (4, 2863)\n"
     ]
    },
    {
     "name": "stderr",
     "output_type": "stream",
     "text": [
      "d:\\NISC\\Glucose biomedical\\shared layer project\\biomedical-env\\Lib\\site-packages\\numpy\\core\\fromnumeric.py:3504: RuntimeWarning: Mean of empty slice.\n",
      "  return _methods._mean(a, axis=axis, dtype=dtype,\n",
      "d:\\NISC\\Glucose biomedical\\shared layer project\\biomedical-env\\Lib\\site-packages\\numpy\\core\\_methods.py:129: RuntimeWarning: invalid value encountered in scalar divide\n",
      "  ret = ret.dtype.type(ret / rcount)\n"
     ]
    },
    {
     "name": "stdout",
     "output_type": "stream",
     "text": [
      "Shape of X (features): (5, 13089, 12)\n",
      "Shape of y (targets): (5, 13089)\n",
      "Shape of X_test (features): (5, 2863, 12)\n",
      "Shape of y_test (targets): (5, 2863)\n"
     ]
    },
    {
     "name": "stderr",
     "output_type": "stream",
     "text": [
      "d:\\NISC\\Glucose biomedical\\shared layer project\\biomedical-env\\Lib\\site-packages\\numpy\\core\\fromnumeric.py:3504: RuntimeWarning: Mean of empty slice.\n",
      "  return _methods._mean(a, axis=axis, dtype=dtype,\n",
      "d:\\NISC\\Glucose biomedical\\shared layer project\\biomedical-env\\Lib\\site-packages\\numpy\\core\\_methods.py:129: RuntimeWarning: invalid value encountered in scalar divide\n",
      "  ret = ret.dtype.type(ret / rcount)\n"
     ]
    },
    {
     "name": "stdout",
     "output_type": "stream",
     "text": [
      "Shape of X (features): (6, 13089, 12)\n",
      "Shape of y (targets): (6, 13089)\n",
      "Shape of X_test (features): (6, 2863, 12)\n",
      "Shape of y_test (targets): (6, 2863)\n"
     ]
    },
    {
     "name": "stderr",
     "output_type": "stream",
     "text": [
      "d:\\NISC\\Glucose biomedical\\shared layer project\\biomedical-env\\Lib\\site-packages\\numpy\\core\\fromnumeric.py:3504: RuntimeWarning: Mean of empty slice.\n",
      "  return _methods._mean(a, axis=axis, dtype=dtype,\n",
      "d:\\NISC\\Glucose biomedical\\shared layer project\\biomedical-env\\Lib\\site-packages\\numpy\\core\\_methods.py:129: RuntimeWarning: invalid value encountered in scalar divide\n",
      "  ret = ret.dtype.type(ret / rcount)\n"
     ]
    },
    {
     "name": "stdout",
     "output_type": "stream",
     "text": [
      "Shape of X (features): (7, 13092, 12)\n",
      "Shape of y (targets): (7, 13092)\n",
      "Shape of X_test (features): (7, 3049, 12)\n",
      "Shape of y_test (targets): (7, 3049)\n"
     ]
    },
    {
     "name": "stderr",
     "output_type": "stream",
     "text": [
      "d:\\NISC\\Glucose biomedical\\shared layer project\\biomedical-env\\Lib\\site-packages\\numpy\\core\\fromnumeric.py:3504: RuntimeWarning: Mean of empty slice.\n",
      "  return _methods._mean(a, axis=axis, dtype=dtype,\n",
      "d:\\NISC\\Glucose biomedical\\shared layer project\\biomedical-env\\Lib\\site-packages\\numpy\\core\\_methods.py:129: RuntimeWarning: invalid value encountered in scalar divide\n",
      "  ret = ret.dtype.type(ret / rcount)\n"
     ]
    },
    {
     "name": "stdout",
     "output_type": "stream",
     "text": [
      "Shape of X (features): (8, 13092, 12)\n",
      "Shape of y (targets): (8, 13092)\n",
      "Shape of X_test (features): (8, 3119, 12)\n",
      "Shape of y_test (targets): (8, 3119)\n"
     ]
    },
    {
     "name": "stderr",
     "output_type": "stream",
     "text": [
      "d:\\NISC\\Glucose biomedical\\shared layer project\\biomedical-env\\Lib\\site-packages\\numpy\\core\\fromnumeric.py:3504: RuntimeWarning: Mean of empty slice.\n",
      "  return _methods._mean(a, axis=axis, dtype=dtype,\n",
      "d:\\NISC\\Glucose biomedical\\shared layer project\\biomedical-env\\Lib\\site-packages\\numpy\\core\\_methods.py:129: RuntimeWarning: invalid value encountered in scalar divide\n",
      "  ret = ret.dtype.type(ret / rcount)\n"
     ]
    },
    {
     "name": "stdout",
     "output_type": "stream",
     "text": [
      "Shape of X (features): (9, 13092, 12)\n",
      "Shape of y (targets): (9, 13092)\n",
      "Shape of X_test (features): (9, 3933, 12)\n",
      "Shape of y_test (targets): (9, 3933)\n"
     ]
    },
    {
     "name": "stderr",
     "output_type": "stream",
     "text": [
      "d:\\NISC\\Glucose biomedical\\shared layer project\\biomedical-env\\Lib\\site-packages\\numpy\\core\\fromnumeric.py:3504: RuntimeWarning: Mean of empty slice.\n",
      "  return _methods._mean(a, axis=axis, dtype=dtype,\n",
      "d:\\NISC\\Glucose biomedical\\shared layer project\\biomedical-env\\Lib\\site-packages\\numpy\\core\\_methods.py:129: RuntimeWarning: invalid value encountered in scalar divide\n",
      "  ret = ret.dtype.type(ret / rcount)\n"
     ]
    },
    {
     "name": "stdout",
     "output_type": "stream",
     "text": [
      "Shape of X (features): (10, 13519, 12)\n",
      "Shape of y (targets): (10, 13519)\n",
      "Shape of X_test (features): (10, 3933, 12)\n",
      "Shape of y_test (targets): (10, 3933)\n"
     ]
    },
    {
     "name": "stderr",
     "output_type": "stream",
     "text": [
      "d:\\NISC\\Glucose biomedical\\shared layer project\\biomedical-env\\Lib\\site-packages\\numpy\\core\\fromnumeric.py:3504: RuntimeWarning: Mean of empty slice.\n",
      "  return _methods._mean(a, axis=axis, dtype=dtype,\n",
      "d:\\NISC\\Glucose biomedical\\shared layer project\\biomedical-env\\Lib\\site-packages\\numpy\\core\\_methods.py:129: RuntimeWarning: invalid value encountered in scalar divide\n",
      "  ret = ret.dtype.type(ret / rcount)\n"
     ]
    },
    {
     "name": "stdout",
     "output_type": "stream",
     "text": [
      "Shape of X (features): (11, 13519, 12)\n",
      "Shape of y (targets): (11, 13519)\n",
      "Shape of X_test (features): (11, 3933, 12)\n",
      "Shape of y_test (targets): (11, 3933)\n"
     ]
    },
    {
     "name": "stderr",
     "output_type": "stream",
     "text": [
      "d:\\NISC\\Glucose biomedical\\shared layer project\\biomedical-env\\Lib\\site-packages\\numpy\\core\\fromnumeric.py:3504: RuntimeWarning: Mean of empty slice.\n",
      "  return _methods._mean(a, axis=axis, dtype=dtype,\n",
      "d:\\NISC\\Glucose biomedical\\shared layer project\\biomedical-env\\Lib\\site-packages\\numpy\\core\\_methods.py:129: RuntimeWarning: invalid value encountered in scalar divide\n",
      "  ret = ret.dtype.type(ret / rcount)\n"
     ]
    },
    {
     "name": "stdout",
     "output_type": "stream",
     "text": [
      "Shape of X (features): (12, 13612, 12)\n",
      "Shape of y (targets): (12, 13612)\n",
      "Shape of X_test (features): (12, 3933, 12)\n",
      "Shape of y_test (targets): (12, 3933)\n"
     ]
    }
   ],
   "source": [
    "mae_patients_errors_df = pd.DataFrame()\n",
    "rmse_patients_errors_df =  pd.DataFrame()\n",
    "for i in range(1, len(patients_list)):\n",
    "    train_loader, validation_loader, all_train_loader, test_loader, input_shape, input_shape_test, output_shape, output_shape_test =  prepare_data_loader(\n",
    "                                                                                                window_size,BATCH_SIZE, prediction_horizon,\n",
    "                                                                                                model_type, split_ratio = 0.7, df = None, df_test = None, output_folder_train=output_folder_train, shuffle = False, patient_no = i+1 )\n",
    "                \n",
    "    model_all_train_read =  SharedLayerModelWithAttention(input_shape =input_shape , output_shape=output_shape)\n",
    "    model_all_train_read.load_state_dict(torch.load(f'saved_models//model_{model_type}_attention_{str(prediction_horizon)}_only_{str(i)}_patients.pth',weights_only=False))\n",
    "    model_all_train_read.to(device)\n",
    "    model_all_train_read.eval()\n",
    "    each_patient_mae, each_patient_rmse= evaluate_test(model_all_train_read,test_loader, device ,scaler, mask_value, model_type = model_type)\n",
    "    \n",
    "    mae_patients_errors_df[i+1] = each_patient_mae\n",
    "    rmse_patients_errors_df[i+1] = each_patient_rmse\n",
    "mae_patients_errors_df.index = patients_list\n",
    "rmse_patients_errors_df.index = patients_list"
   ]
  },
  {
   "cell_type": "code",
   "execution_count": 26,
   "metadata": {},
   "outputs": [],
   "source": [
    "mae_patients_errors_df.index = patients_list\n",
    "rmse_patients_errors_df.index = patients_list"
   ]
  },
  {
   "cell_type": "code",
   "execution_count": 27,
   "metadata": {},
   "outputs": [
    {
     "data": {
      "text/html": [
       "<div>\n",
       "<style scoped>\n",
       "    .dataframe tbody tr th:only-of-type {\n",
       "        vertical-align: middle;\n",
       "    }\n",
       "\n",
       "    .dataframe tbody tr th {\n",
       "        vertical-align: top;\n",
       "    }\n",
       "\n",
       "    .dataframe thead th {\n",
       "        text-align: right;\n",
       "    }\n",
       "</style>\n",
       "<table border=\"1\" class=\"dataframe\">\n",
       "  <thead>\n",
       "    <tr style=\"text-align: right;\">\n",
       "      <th></th>\n",
       "      <th>2</th>\n",
       "      <th>3</th>\n",
       "      <th>4</th>\n",
       "      <th>5</th>\n",
       "      <th>6</th>\n",
       "      <th>7</th>\n",
       "      <th>8</th>\n",
       "      <th>9</th>\n",
       "      <th>10</th>\n",
       "      <th>11</th>\n",
       "      <th>12</th>\n",
       "    </tr>\n",
       "  </thead>\n",
       "  <tbody>\n",
       "    <tr>\n",
       "      <th>559</th>\n",
       "      <td>10.312974</td>\n",
       "      <td>10.037575</td>\n",
       "      <td>10.175367</td>\n",
       "      <td>10.560549</td>\n",
       "      <td>10.105829</td>\n",
       "      <td>10.256831</td>\n",
       "      <td>11.089236</td>\n",
       "      <td>10.490875</td>\n",
       "      <td>10.183727</td>\n",
       "      <td>10.106169</td>\n",
       "      <td>10.358531</td>\n",
       "    </tr>\n",
       "    <tr>\n",
       "      <th>563</th>\n",
       "      <td>13.701523</td>\n",
       "      <td>13.533319</td>\n",
       "      <td>13.413142</td>\n",
       "      <td>13.852032</td>\n",
       "      <td>13.715340</td>\n",
       "      <td>13.615075</td>\n",
       "      <td>13.895839</td>\n",
       "      <td>13.629820</td>\n",
       "      <td>14.074873</td>\n",
       "      <td>14.078239</td>\n",
       "      <td>13.416869</td>\n",
       "    </tr>\n",
       "    <tr>\n",
       "      <th>570</th>\n",
       "      <td>NaN</td>\n",
       "      <td>8.004842</td>\n",
       "      <td>7.843139</td>\n",
       "      <td>8.173417</td>\n",
       "      <td>8.003351</td>\n",
       "      <td>8.014133</td>\n",
       "      <td>8.576762</td>\n",
       "      <td>8.426886</td>\n",
       "      <td>8.120459</td>\n",
       "      <td>8.338619</td>\n",
       "      <td>8.544972</td>\n",
       "    </tr>\n",
       "    <tr>\n",
       "      <th>575</th>\n",
       "      <td>NaN</td>\n",
       "      <td>NaN</td>\n",
       "      <td>12.589369</td>\n",
       "      <td>12.685875</td>\n",
       "      <td>12.509594</td>\n",
       "      <td>12.736388</td>\n",
       "      <td>12.479122</td>\n",
       "      <td>12.486080</td>\n",
       "      <td>12.410229</td>\n",
       "      <td>12.596062</td>\n",
       "      <td>12.548993</td>\n",
       "    </tr>\n",
       "    <tr>\n",
       "      <th>588</th>\n",
       "      <td>NaN</td>\n",
       "      <td>NaN</td>\n",
       "      <td>NaN</td>\n",
       "      <td>14.115884</td>\n",
       "      <td>14.343252</td>\n",
       "      <td>14.417314</td>\n",
       "      <td>14.461699</td>\n",
       "      <td>14.459208</td>\n",
       "      <td>14.313979</td>\n",
       "      <td>14.595026</td>\n",
       "      <td>14.527474</td>\n",
       "    </tr>\n",
       "    <tr>\n",
       "      <th>591</th>\n",
       "      <td>NaN</td>\n",
       "      <td>NaN</td>\n",
       "      <td>NaN</td>\n",
       "      <td>NaN</td>\n",
       "      <td>14.746029</td>\n",
       "      <td>14.650691</td>\n",
       "      <td>14.792589</td>\n",
       "      <td>14.782609</td>\n",
       "      <td>14.728869</td>\n",
       "      <td>14.637409</td>\n",
       "      <td>14.604587</td>\n",
       "    </tr>\n",
       "    <tr>\n",
       "      <th>540</th>\n",
       "      <td>NaN</td>\n",
       "      <td>NaN</td>\n",
       "      <td>NaN</td>\n",
       "      <td>NaN</td>\n",
       "      <td>NaN</td>\n",
       "      <td>12.899820</td>\n",
       "      <td>13.213380</td>\n",
       "      <td>13.008965</td>\n",
       "      <td>13.295308</td>\n",
       "      <td>13.095757</td>\n",
       "      <td>13.366956</td>\n",
       "    </tr>\n",
       "    <tr>\n",
       "      <th>544</th>\n",
       "      <td>NaN</td>\n",
       "      <td>NaN</td>\n",
       "      <td>NaN</td>\n",
       "      <td>NaN</td>\n",
       "      <td>NaN</td>\n",
       "      <td>NaN</td>\n",
       "      <td>11.884882</td>\n",
       "      <td>12.150335</td>\n",
       "      <td>11.959412</td>\n",
       "      <td>11.919085</td>\n",
       "      <td>11.765638</td>\n",
       "    </tr>\n",
       "    <tr>\n",
       "      <th>552</th>\n",
       "      <td>NaN</td>\n",
       "      <td>NaN</td>\n",
       "      <td>NaN</td>\n",
       "      <td>NaN</td>\n",
       "      <td>NaN</td>\n",
       "      <td>NaN</td>\n",
       "      <td>NaN</td>\n",
       "      <td>12.840471</td>\n",
       "      <td>12.700984</td>\n",
       "      <td>12.821937</td>\n",
       "      <td>12.916209</td>\n",
       "    </tr>\n",
       "    <tr>\n",
       "      <th>567</th>\n",
       "      <td>NaN</td>\n",
       "      <td>NaN</td>\n",
       "      <td>NaN</td>\n",
       "      <td>NaN</td>\n",
       "      <td>NaN</td>\n",
       "      <td>NaN</td>\n",
       "      <td>NaN</td>\n",
       "      <td>NaN</td>\n",
       "      <td>13.948941</td>\n",
       "      <td>14.060986</td>\n",
       "      <td>13.978570</td>\n",
       "    </tr>\n",
       "    <tr>\n",
       "      <th>584</th>\n",
       "      <td>NaN</td>\n",
       "      <td>NaN</td>\n",
       "      <td>NaN</td>\n",
       "      <td>NaN</td>\n",
       "      <td>NaN</td>\n",
       "      <td>NaN</td>\n",
       "      <td>NaN</td>\n",
       "      <td>NaN</td>\n",
       "      <td>NaN</td>\n",
       "      <td>13.246113</td>\n",
       "      <td>13.251652</td>\n",
       "    </tr>\n",
       "    <tr>\n",
       "      <th>596</th>\n",
       "      <td>NaN</td>\n",
       "      <td>NaN</td>\n",
       "      <td>NaN</td>\n",
       "      <td>NaN</td>\n",
       "      <td>NaN</td>\n",
       "      <td>NaN</td>\n",
       "      <td>NaN</td>\n",
       "      <td>NaN</td>\n",
       "      <td>NaN</td>\n",
       "      <td>NaN</td>\n",
       "      <td>12.584804</td>\n",
       "    </tr>\n",
       "  </tbody>\n",
       "</table>\n",
       "</div>"
      ],
      "text/plain": [
       "            2          3          4          5          6          7   \\\n",
       "559  10.312974  10.037575  10.175367  10.560549  10.105829  10.256831   \n",
       "563  13.701523  13.533319  13.413142  13.852032  13.715340  13.615075   \n",
       "570        NaN   8.004842   7.843139   8.173417   8.003351   8.014133   \n",
       "575        NaN        NaN  12.589369  12.685875  12.509594  12.736388   \n",
       "588        NaN        NaN        NaN  14.115884  14.343252  14.417314   \n",
       "591        NaN        NaN        NaN        NaN  14.746029  14.650691   \n",
       "540        NaN        NaN        NaN        NaN        NaN  12.899820   \n",
       "544        NaN        NaN        NaN        NaN        NaN        NaN   \n",
       "552        NaN        NaN        NaN        NaN        NaN        NaN   \n",
       "567        NaN        NaN        NaN        NaN        NaN        NaN   \n",
       "584        NaN        NaN        NaN        NaN        NaN        NaN   \n",
       "596        NaN        NaN        NaN        NaN        NaN        NaN   \n",
       "\n",
       "            8          9          10         11         12  \n",
       "559  11.089236  10.490875  10.183727  10.106169  10.358531  \n",
       "563  13.895839  13.629820  14.074873  14.078239  13.416869  \n",
       "570   8.576762   8.426886   8.120459   8.338619   8.544972  \n",
       "575  12.479122  12.486080  12.410229  12.596062  12.548993  \n",
       "588  14.461699  14.459208  14.313979  14.595026  14.527474  \n",
       "591  14.792589  14.782609  14.728869  14.637409  14.604587  \n",
       "540  13.213380  13.008965  13.295308  13.095757  13.366956  \n",
       "544  11.884882  12.150335  11.959412  11.919085  11.765638  \n",
       "552        NaN  12.840471  12.700984  12.821937  12.916209  \n",
       "567        NaN        NaN  13.948941  14.060986  13.978570  \n",
       "584        NaN        NaN        NaN  13.246113  13.251652  \n",
       "596        NaN        NaN        NaN        NaN  12.584804  "
      ]
     },
     "execution_count": 27,
     "metadata": {},
     "output_type": "execute_result"
    }
   ],
   "source": [
    "mae_patients_errors_df"
   ]
  },
  {
   "cell_type": "code",
   "execution_count": null,
   "metadata": {},
   "outputs": [],
   "source": []
  }
 ],
 "metadata": {
  "kernelspec": {
   "display_name": "biomedical-env",
   "language": "python",
   "name": "python3"
  },
  "language_info": {
   "codemirror_mode": {
    "name": "ipython",
    "version": 3
   },
   "file_extension": ".py",
   "mimetype": "text/x-python",
   "name": "python",
   "nbconvert_exporter": "python",
   "pygments_lexer": "ipython3",
   "version": "3.11.7"
  }
 },
 "nbformat": 4,
 "nbformat_minor": 2
}
